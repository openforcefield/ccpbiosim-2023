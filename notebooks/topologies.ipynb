{
 "cells": [
  {
   "cell_type": "markdown",
   "id": "c37124c3-d250-4ce8-aead-187c9325cc71",
   "metadata": {},
   "source": [
    "# Working with topologies\n",
    "\n",
    "- Ground-up construction\n",
    "- OpenMM\n",
    "- Loading PDB files\n",
    "- custom substructure loading\n",
    "\n",
    "<div class=\"alert alert-info\" style=\"max-width: 700px; margin-left: auto; margin-right: auto;\">\n",
    "    ℹ️ OpenFF <code>Topology</code> objects are little more than collections (lists) of OpenFF <code>Molecule</code> objects!\n",
    "</div>\n",
    "\n",
    "For starters, let's look at the `Topology` docstring:"
   ]
  },
  {
   "cell_type": "code",
   "execution_count": null,
   "id": "a751674c-aa4a-45a3-8732-3fd5896a3e38",
   "metadata": {},
   "outputs": [],
   "source": [
    "from openff.toolkit import Topology\n",
    "\n",
    "?Topology"
   ]
  },
  {
   "cell_type": "markdown",
   "id": "4b098548-a828-4454-8f31-048eb3029007",
   "metadata": {},
   "source": [
    "## Ground-up construction\n",
    "\n",
    "\n",
    "Topologies can always be assembled by constructing individual molecules and adding them together; these methods are for making common operations easier.\n",
    "\n",
    "To convert a single `Molecule` to a `Topology`, you can use either `Molecule.to_topology()` or `Topology.from_molecules`"
   ]
  },
  {
   "cell_type": "code",
   "execution_count": null,
   "id": "3ffb01b8-9f0c-452c-8d90-09e9856cff17",
   "metadata": {},
   "outputs": [],
   "source": [
    "from openff.toolkit import Molecule\n",
    "\n",
    "ligand = Molecule.from_smiles(\"Fc1ccc(/C=C/c2cc(NCCCCN3CCOCC3)c3cc(Cl)ccc3n2)cn1\")\n",
    "ligand.generate_conformers(n_conformers=1)\n",
    "\n",
    "ligand"
   ]
  },
  {
   "cell_type": "code",
   "execution_count": null,
   "id": "1f1fdd27-bf7f-4195-b537-b173f8bdd79e",
   "metadata": {},
   "outputs": [],
   "source": [
    "from viz import visualize_topology\n",
    "\n",
    "topology = ligand.to_topology()\n",
    "\n",
    "# Equivalent\n",
    "topology = Topology.from_molecules(molecules=[ligand])\n",
    "\n",
    "visualize_topology(topology)"
   ]
  },
  {
   "cell_type": "markdown",
   "id": "d1b955ba-3011-4630-9b66-00536a9ba09c",
   "metadata": {},
   "source": [
    "From here we can add as many other molecules as we wish. For example, create a water molecule and it to this topology 100 times."
   ]
  },
  {
   "cell_type": "code",
   "execution_count": null,
   "id": "bb9e67db-f00b-4762-bd53-8b5e60531e8c",
   "metadata": {},
   "outputs": [],
   "source": [
    "water = Molecule.from_mapped_smiles(\"[H:2][O:1][H:3]\")\n",
    "\n",
    "for index in range(100):\n",
    "    topology.add_molecule(water)\n",
    "\n",
    "topology.n_molecules"
   ]
  },
  {
   "cell_type": "markdown",
   "id": "d54bfce1-3073-449b-ac20-5180dd221375",
   "metadata": {},
   "source": [
    "<div class=\"alert alert-info\" style=\"max-width: 500px; margin-left: auto; margin-right: auto;\">\n",
    "    ℹ️ Positions are <i>optional</i> in <code>Molecule</code> (any by extension <code>Topology</code>) objects, so visualizing this topology in 3D doesn't make sense. Using it in a simulation would requiring assigning positions using a tool like Packmol or PDBFixer.\n",
    "</div>"
   ]
  },
  {
   "cell_type": "markdown",
   "id": "76df4b30-b4ad-4e5f-a75b-ff7ed941d2ad",
   "metadata": {},
   "source": [
    "Keeping in mind that topologies are just collections of molecules, we can look up individual molecules by index in the `Topology.molecule()` function."
   ]
  },
  {
   "cell_type": "code",
   "execution_count": null,
   "id": "c096a9c2-d546-4cef-80b6-f64ef8590fbb",
   "metadata": {},
   "outputs": [],
   "source": [
    "topology.molecule(0), topology.molecule(1), topology.molecule(-1)"
   ]
  },
  {
   "cell_type": "code",
   "execution_count": null,
   "id": "0598a330-7328-46da-b7ba-e5822210d380",
   "metadata": {},
   "outputs": [],
   "source": [
    "topology.molecule(0)"
   ]
  },
  {
   "cell_type": "markdown",
   "id": "ec068eb0-3c2f-4aff-a4da-332bfbfbc140",
   "metadata": {},
   "source": [
    "## Serialization\n",
    "\n",
    "OpenFF topologies, like molecules, can be serialized using common dict-like serialization formats such as JSON, YAML, XML, etc. These files are somewhat human-readable and do not tend to be efficiently compressed on disk.\n",
    "\n",
    "<div class=\"alert alert-info\" style=\"max-width: 700px; margin-left: auto; margin-right: auto;\">\n",
    "    ℹ️ These files are best when written and read by the OpenFF Toolkit; other tools aren't likely to be able to parse these files. There is also a change, prior to a stable 1.0 version of the toolkit, that it may not read files written by a different version of the toolkit.\n",
    "</div>\n",
    "\n",
    "Let's write this topology out to a JSON file - then open it up in your favorite text editor, or explore it using IPython's fancy JSON explorer."
   ]
  },
  {
   "cell_type": "code",
   "execution_count": null,
   "id": "3a8810c0-3e27-47ea-89aa-a32bf2ca60c0",
   "metadata": {},
   "outputs": [],
   "source": [
    "with open(\"topology.json\", \"w\") as file:\n",
    "    file.write(topology.to_json())"
   ]
  },
  {
   "cell_type": "code",
   "execution_count": null,
   "id": "30ed4f81-0827-47a2-b046-d70d1f9c95df",
   "metadata": {},
   "outputs": [],
   "source": [
    "import json\n",
    "\n",
    "from IPython.display import JSON\n",
    "\n",
    "JSON(json.loads(topology.to_json()), expanded=False)"
   ]
  },
  {
   "cell_type": "markdown",
   "id": "70f63bb6-78af-4160-89fa-fee7abca3d09",
   "metadata": {},
   "source": [
    "They key value of serialization is the ability to dump something from memory onto disk and read it back in later. This might seem trivial for this topology, which we could easily generate, but maybe you're working with a more complex topology or you want to move files around HPC resources."
   ]
  },
  {
   "cell_type": "code",
   "execution_count": null,
   "id": "61978d3f-3138-4634-8563-339b09ae9dc4",
   "metadata": {},
   "outputs": [],
   "source": [
    "with open(\"topology.json\") as file:\n",
    "    loaded_topology = Topology.from_json(file.read())\n",
    "\n",
    "assert loaded_topology.n_molecules == 101\n",
    "\n",
    "loaded_topology.molecule(0)"
   ]
  },
  {
   "cell_type": "markdown",
   "id": "f6b5c315-e01a-4fec-a313-e43bac1a775a",
   "metadata": {},
   "source": [
    "# Loading PDB files\n",
    "\n",
    "_Author: Jeff Wagner_\n",
    "\n",
    "PDB files are a common way to represent biopolymer structures, but they don't contain all of the chemical information that we need to parameterize a molecule in OpenFF (they're missing bond orders and formal charges, so those must be determined by cross-referncing against the known chemistry of amino acids and other building blocks). PDB files are used widely in the molecular simulation community for legacy reasons, so OpenFF has implemented functionality to load them.\n",
    "\n",
    "The best way to load PDB files for use with OpenFF is using the [`Topology.from_pdb` method](https://docs.openforcefield.org/projects/toolkit/en/stable/api/generated/openff.toolkit.topology.Topology.html#openff.toolkit.topology.Topology.from_pdb). Lots of file names end in `.pdb` but not all of them are loadable by the OpenFF Toolkit. Specifically, we require the loaded PDBs to have a few things:\n",
    "\n",
    "For protein atoms:\n",
    "* Atom and residue names must be consistent with the [Chemical Components Dictonary](https://www.wwpdb.org/data/ccd)\n",
    "* Only the 20 canonical amino acids are supported by default (including protonated/deprotonated variants)\n",
    "* All hydrogens must be explicit\n",
    "\n",
    "For small molecules, waters, and ions:\n",
    "* The element of each atom must be identified in the final column of the file\n",
    "* Bonds must be identified in the CONECT records at the bottom of the file\n",
    "* All unique small molecules must be identified in the `unique_molecules` keyword argument\n",
    "\n",
    "<div class=\"alert alert-info\" style=\"max-width: 700px; margin-left: auto; margin-right: auto;\">\n",
    "    ℹ️ OpenFF <code>Topology</code> and <code>Molecule</code> objects store much more information than is in the PDB files they might be generated from. Don't be surprised if OpenFF takes a few more seconds to load a PDB file than other tools.\n",
    "</div>"
   ]
  },
  {
   "cell_type": "markdown",
   "id": "9a4a3702-0290-4e45-b004-7cbe7830e1c2",
   "metadata": {},
   "source": [
    "## Loading a PDB with just a protein\n",
    "\n",
    "`6hvi_prepared.pdb` is a prepared protein from the [Merck free energy perturbation study](https://github.com/MCompChem/fep-benchmark/blob/master/pfkfb3/6hvi_prepared.pdb). It was prepared using commercial tools by Schrodinger, and doesn't have any (solvent) waters, ions, or small molecules."
   ]
  },
  {
   "cell_type": "code",
   "execution_count": null,
   "id": "1463e729-3894-43b5-a35e-12e890c8da08",
   "metadata": {},
   "outputs": [],
   "source": [
    "_6hvi = Topology.from_pdb(\"../pdb/6hvi_prepared.pdb\")\n",
    "\n",
    "visualize_topology(_6hvi)"
   ]
  },
  {
   "cell_type": "markdown",
   "id": "db64e456-8832-4d77-b291-7ceea8e7d3bb",
   "metadata": {},
   "source": [
    "From here, you might use Packmol or PDBFixer to add water or other solvents without leaving Python (or there are tools available for water addition in AMBER, GROMACS, and many commercial packages). An example of using PDBFixer can be found in our [\"Toolkit Showcase\" example](https://docs.openforcefield.org/en/latest/examples/openforcefield/openff-toolkit/toolkit_showcase/toolkit_showcase.html)."
   ]
  },
  {
   "cell_type": "markdown",
   "id": "644f4321-1ab1-4a12-925d-f990bb86295a",
   "metadata": {},
   "source": [
    "## Loading a PDB with a protein, waters, and ions\n",
    "\n",
    "This PDB file comes from the [AMBER tutorial on making solvated simulations](https://ambermd.org/tutorials/basic/tutorial7/index.php). It is slightly modified to create an output suitable for loading into the OpenFF Toolkit (TIP3P water is used instead of OPC, a solvent box is used instead of an octohedron, and the N terminus of the protein is made neutral)."
   ]
  },
  {
   "cell_type": "code",
   "execution_count": null,
   "id": "218cf4a3",
   "metadata": {},
   "outputs": [],
   "source": [
    "RAMP1 = Topology.from_pdb(\"../pdb/RAMP1_solv_box_ions.pdb\")\n",
    "\n",
    "visualize_topology(RAMP1)"
   ]
  },
  {
   "cell_type": "code",
   "execution_count": null,
   "id": "459751ba",
   "metadata": {},
   "outputs": [],
   "source": [
    "from counts import count\n",
    "\n",
    "count(RAMP1)"
   ]
  },
  {
   "cell_type": "markdown",
   "id": "59515906-d0bd-4b38-97b8-a380628b76dc",
   "metadata": {},
   "source": [
    "# Loading a PDB with one or more small molecules/ligands\n",
    "\n",
    "The following PDB is taken from the [GROMACS protein-ligand tutorial](http://www.mdtutorials.com/gmx/complex/index.html) (with manually-added CONECT records) and contains a protein, water, and a small molecule ligand.\n",
    "\n",
    "While the chemistry of water, ions, and proteins can be deduced from known templates (this is what happened under the hood in the previous two examples), small molecules are trickier. The number of possible small molecule is tremendous, so storing them in a database is not feasible. And because PDB files lack some information the OpenFF needs (bond order, stereochemistry), we ask the user to fill in the dots. When one of these is included in a PDB, we require the user to provide an OpenFF Molecule with the correct chemistry, via the `unique_molecules` keyword argument. (This is just like what we did with `Topology.from_openmm` earlier.)\n",
    "\n",
    "If you try to load a PDB file containing a small molecule, without providing the chemistry of the small molecule, you'll get an error message identifying the atoms that couldn't be loaded:"
   ]
  },
  {
   "cell_type": "code",
   "execution_count": null,
   "id": "d39b1c95",
   "metadata": {},
   "outputs": [],
   "source": [
    "Topology.from_pdb(\"../pdb/gromacs_solv_complex.pdb\")"
   ]
  },
  {
   "cell_type": "markdown",
   "id": "c67c57fc-da8a-4e43-8959-8a08b43647a5",
   "metadata": {},
   "source": [
    "Any appropriate OpenFF Molecule object can be used to define the small molecule ligand when loading the PDB file. It's fine to just provide a SMILES string identifying the ligand chemistry, since the coordinates will come from the PDB file."
   ]
  },
  {
   "cell_type": "code",
   "execution_count": null,
   "id": "daf2b681",
   "metadata": {},
   "outputs": [],
   "source": [
    "jz4 = Molecule.from_smiles(\"CCCC1=CC=CC=C1O\")\n",
    "complex = Topology.from_pdb(\"../pdb/gromacs_solv_complex.pdb\", unique_molecules=[jz4])\n",
    "\n",
    "count(complex)"
   ]
  },
  {
   "cell_type": "code",
   "execution_count": null,
   "id": "784da7de-ee9f-48a3-b99f-db965fcbb357",
   "metadata": {},
   "outputs": [],
   "source": [
    "visualize_topology(complex)"
   ]
  }
 ],
 "metadata": {
  "kernelspec": {
   "display_name": "Python 3 (ipykernel)",
   "language": "python",
   "name": "python3"
  },
  "language_info": {
   "codemirror_mode": {
    "name": "ipython",
    "version": 3
   },
   "file_extension": ".py",
   "mimetype": "text/x-python",
   "name": "python",
   "nbconvert_exporter": "python",
   "pygments_lexer": "ipython3",
   "version": "3.11.5"
  }
 },
 "nbformat": 4,
 "nbformat_minor": 5
}
