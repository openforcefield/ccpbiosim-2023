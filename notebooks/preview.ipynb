{
 "cells": [
  {
   "cell_type": "code",
   "execution_count": null,
   "id": "f0dc762b-9f39-4f21-8170-36b449c4f860",
   "metadata": {},
   "outputs": [],
   "source": [
    "from openff.toolkit import ForceField, Molecule, Topology\n",
    "\n",
    "topology = Topology.from_pdb(\n",
    "    \"../pdb/complex-bespoke.pdb\",\n",
    "    unique_molecules=[Molecule.from_file(\"../sdf/lig_CAT-13a.sdf\")],\n",
    ")\n",
    "\n",
    "force_field = ForceField(\n",
    "    \"../offxml/openff-2.0.0_bespoke_cat13a.offxml\",\n",
    "    \"ff14sb_off_impropers_0.0.3.offxml\",\n",
    ")\n",
    "\n",
    "interchange = force_field.create_interchange(topology)"
   ]
  },
  {
   "cell_type": "code",
   "execution_count": null,
   "id": "dca35b27-8516-44de-928e-1363b8be8b4f",
   "metadata": {},
   "outputs": [],
   "source": [
    "from openmm_utils import run_openmm\n",
    "\n",
    "# This takes aobut a minute to run\n",
    "run_openmm(interchange, 200, \"preview.dcd\")"
   ]
  },
  {
   "cell_type": "code",
   "execution_count": null,
   "id": "f9cf6a4d-8144-4b3b-a8c6-eec6edb9e69f",
   "metadata": {},
   "outputs": [],
   "source": [
    "from viz import visualize_protein_ligand\n",
    "\n",
    "visualize_protein_ligand(\"preview.dcd\", topology)"
   ]
  },
  {
   "cell_type": "markdown",
   "id": "1ada0d22-17f8-4b0a-ac76-e82d631471d2",
   "metadata": {},
   "source": [
    "What happened here?\n",
    "\n",
    "A lot! But most of the heavy lifting is done under the hood by the OpenFF Toolkit. As a user, there are **three key steps** to remember:\n",
    "\n",
    "* We assembled a `Topology` that represents our chemical system\n",
    "* We loaded a `ForceField` that includes the force field (physics) we want to use\n",
    "* We \"combined\" everything together into an `Interchange` object and promptly exported it to a simulation engine"
   ]
  },
  {
   "cell_type": "code",
   "execution_count": null,
   "id": "92c030f0-457e-4749-b1bd-98421f67ccf8",
   "metadata": {},
   "outputs": [],
   "source": [
    "from IPython.display import Image\n",
    "\n",
    "Image(filename=\"../img/preview.png\")"
   ]
  }
 ],
 "metadata": {
  "kernelspec": {
   "display_name": "Python 3 (ipykernel)",
   "language": "python",
   "name": "python3"
  },
  "language_info": {
   "codemirror_mode": {
    "name": "ipython",
    "version": 3
   },
   "file_extension": ".py",
   "mimetype": "text/x-python",
   "name": "python",
   "nbconvert_exporter": "python",
   "pygments_lexer": "ipython3",
   "version": "3.11.5"
  }
 },
 "nbformat": 4,
 "nbformat_minor": 5
}
