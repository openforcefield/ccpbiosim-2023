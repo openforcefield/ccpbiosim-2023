{
 "cells": [
  {
   "cell_type": "markdown",
   "id": "56e5b3bf",
   "metadata": {},
   "source": [
    "OpenFF Interchange is a Python package developed by the Open Force Field Initiative for storing, manipulating, and converting molecular mechanics data. The package is oriented around the `Interchange` class, which stores a molecular mechanics system and provides methods to write the system out in numerous formats.\n",
    "\n",
    "They key objective of Interchange is to provide an intermediate inspectable state after typing (applying force fields to chemical topologies) and before conversion to engine-specific formats. The current focus is applying SMIRNOFF force fields to chemical topologies and exporting the result to engines preferred by our users. In order of stability, OpenMM, GROMACS, Amber,  and LAMMPS are supported. Future development may include support for CHARMM and other engines.\n",
    "\n",
    "An `Interchange` contains a **fully parameterized molecular system** with all the information needed to start a simulation. This includes the force field, box vectors, positions, velocities, and a topology containing individual molecules and their connectivity. For most users, `Interchange` forms the bridge between the OpenFF ecosystem and their simulation software of choice; users describe their system with the OpenFF Toolkit and then parameterize it with Interchange.\n",
    "\n",
    "Once the `Interchange` is created, it can be exported as simulation-ready input files to a number of molecular mechanics software packages, including Amber, OpenMM, GROMACS, and LAMMPS.\n",
    "\n",
    "Below is a summary of how data flows through a workflow utilizing OpenFF tools, including where Interchange sits in the flow."
   ]
  },
  {
   "cell_type": "markdown",
   "id": "ebeb8092",
   "metadata": {},
   "source": [
    "![text](img/flowchart.jpg)"
   ]
  },
  {
   "cell_type": "markdown",
   "id": "698dae93",
   "metadata": {},
   "source": [
    "An `Interchange` is most commonly constructed via the `Interchange.from_smirnoff()` class method. This method takes a SMIRNOFF force field and applies it to a molecular topology. The [OpenFF Toolkit](https://docs.openforcefield.org/projects/toolkit/en/stable/) provides these objects - [`ForceField`](https://docs.openforcefield.org/projects/toolkit/en/stable/api/generated/openff.toolkit.typing.engines.smirnoff.ForceField.html#openff.toolkit.typing.engines.smirnoff.ForceField) and [`Topology`](https://docs.openforcefield.org/projects/toolkit/en/stable/api/generated/openff.toolkit.topology.Topology.html#openff.toolkit.topology.Topology), respectively.\n",
    "\n",
    "<div class=\"alert alert-warning\" style=\"max-width: 700px; margin-left: auto; margin-right: auto;\">\n",
    "    ⚠️ <code>ForceField.create_interchange(topology)</code> and <code>Interchange.from_smirnoff(force_field, topology)</code> do the same thing - one just wraps the other. You can use whichever, and interpret them as substitutes of one another.\n",
    "</div>\n",
    "\n",
    "Other input pathways are in development and may be discussed later. But the key interoperability pathway depends on the prior preparation of these objects. Equivalently, force fields, molecules, and topologies that cannot be coerced into these formats are not supported by `Interchange.from_smirnoff()`."
   ]
  },
  {
   "cell_type": "code",
   "execution_count": 1,
   "id": "5d5faa4d",
   "metadata": {
    "execution": {
     "iopub.execute_input": "2023-09-27T13:36:54.976533Z",
     "iopub.status.busy": "2023-09-27T13:36:54.975985Z",
     "iopub.status.idle": "2023-09-27T13:36:57.835606Z",
     "shell.execute_reply": "2023-09-27T13:36:57.835077Z"
    }
   },
   "outputs": [
    {
     "data": {
      "application/vnd.jupyter.widget-view+json": {
       "model_id": "66f325a04cb44a4297eff4f65a036fc2",
       "version_major": 2,
       "version_minor": 0
      },
      "text/plain": []
     },
     "metadata": {},
     "output_type": "display_data"
    }
   ],
   "source": [
    "from openff.interchange import Interchange\n",
    "\n",
    "?Interchange.from_smirnoff"
   ]
  },
  {
   "cell_type": "markdown",
   "id": "16d56d8f",
   "metadata": {},
   "source": [
    "Internally, the toolkit's SMARTS-matching algorithms are used to assign parameters to the chemical topology. Recall that SMIRNOFF's use of [direct chemical perception](https://pubs.acs.org/doi/10.1021/acs.jctc.8b00640) bypasses the use of atom types, so atom types to not exist as first-class objects in `Interchange` objects.\n",
    "\n",
    "Preparing the force field and topology inputs is outside the scope of Interchange _per se_, but some time will be spent on system preparation."
   ]
  },
  {
   "cell_type": "markdown",
   "id": "8672a6b2",
   "metadata": {},
   "source": [
    "`Molecule` objects in the OpenFF Toolkit are rich descrptions of chemistry akin to cheminformatics representations  found in RDKit and OpenEye Toolkits. This is distinct from most molecule mechanics use cases in which coordinates, elements, and bonds are sufficient. The preferred starting point for small molecules is something like an SDF file or a SMILES pattern. (Later, we'll look at how the toolkit can load proteins from PDB files.) For starters, let's generate a molecule and corresponding topology."
   ]
  },
  {
   "cell_type": "code",
   "execution_count": 2,
   "id": "65c71506",
   "metadata": {
    "execution": {
     "iopub.execute_input": "2023-09-27T13:36:57.838312Z",
     "iopub.status.busy": "2023-09-27T13:36:57.838024Z",
     "iopub.status.idle": "2023-09-27T13:36:58.342833Z",
     "shell.execute_reply": "2023-09-27T13:36:58.342401Z"
    }
   },
   "outputs": [
    {
     "name": "stderr",
     "output_type": "stream",
     "text": [
      "Warning (not error because allow_undefined_stereo=True): RDMol has unspecified stereochemistry. Undefined chiral centers are:\n",
      " - Atom C (index 7)\n",
      "\n",
      "Warning (not error because allow_undefined_stereo=True): RDMol has unspecified stereochemistry. Undefined chiral centers are:\n",
      " - Atom C (index 7)\n",
      "\n"
     ]
    },
    {
     "data": {
      "application/vnd.jupyter.widget-view+json": {
       "model_id": "8e0644db8d974bb59c057be91c4d5ac5",
       "version_major": 2,
       "version_minor": 0
      },
      "text/plain": [
       "NGLWidget(max_frame=2)"
      ]
     },
     "metadata": {},
     "output_type": "display_data"
    }
   ],
   "source": [
    "from openff.toolkit import Molecule, Topology\n",
    "\n",
    "molecule = Molecule.from_smiles(\n",
    "    \"O=C1NC(=O)CCC1N3C(=O)c2cccc(c2C3)N\", allow_undefined_stereo=True\n",
    ")\n",
    "molecule.generate_conformers(n_conformers=20)\n",
    "molecule"
   ]
  },
  {
   "cell_type": "code",
   "execution_count": 3,
   "id": "0de524ce",
   "metadata": {
    "execution": {
     "iopub.execute_input": "2023-09-27T13:36:58.351984Z",
     "iopub.status.busy": "2023-09-27T13:36:58.351807Z",
     "iopub.status.idle": "2023-09-27T13:36:58.367516Z",
     "shell.execute_reply": "2023-09-27T13:36:58.367176Z"
    }
   },
   "outputs": [
    {
     "data": {
      "application/vnd.jupyter.widget-view+json": {
       "model_id": "1d901490161441b4a23a2690512a1bb2",
       "version_major": 2,
       "version_minor": 0
      },
      "text/plain": [
       "NGLWidget()"
      ]
     },
     "metadata": {},
     "output_type": "display_data"
    }
   ],
   "source": [
    "from viz import visualize_topology\n",
    "\n",
    "topology = Topology.from_molecules([molecule])\n",
    "\n",
    "visualize_topology(topology)"
   ]
  },
  {
   "cell_type": "markdown",
   "id": "ad244df9",
   "metadata": {},
   "source": [
    "Loading a force field is, by comparison, straightforward. Let's use OpenFF 2.1.0 (code name \"Sage\"), the latest offering from the Open Force Field Initiative."
   ]
  },
  {
   "cell_type": "code",
   "execution_count": 4,
   "id": "2b6acce2",
   "metadata": {
    "execution": {
     "iopub.execute_input": "2023-09-27T13:36:58.377963Z",
     "iopub.status.busy": "2023-09-27T13:36:58.377794Z",
     "iopub.status.idle": "2023-09-27T13:36:58.710126Z",
     "shell.execute_reply": "2023-09-27T13:36:58.709533Z"
    }
   },
   "outputs": [],
   "source": [
    "from openff.toolkit import ForceField\n",
    "\n",
    "sage = ForceField(\"openff-2.1.0.offxml\")"
   ]
  },
  {
   "cell_type": "markdown",
   "id": "dd7f8195",
   "metadata": {},
   "source": [
    "Interchange implements all of the current SMIRNOFF specification. This makes it plug-and-play for some features that are not yet in mainline OpenFF force fields - virtual sites, WBO-based parameter interpolation, GBSA implicit solvents. Interchange is already compatible with the contents of a SMIRNOFF force field for biomolecules, so once one is released in the form of Rosemary, it should be a drop-in replacement for Sage. If you re-fit torsions in a specific ligand and create a bespoke force field using BespokeFit, this can immediately be loaded it an used with Interchange."
   ]
  },
  {
   "cell_type": "markdown",
   "id": "61bd666c",
   "metadata": {},
   "source": [
    "Now we have the two required inputs for creating an `Interchange`, so let's make one."
   ]
  },
  {
   "cell_type": "code",
   "execution_count": 5,
   "id": "c2251086",
   "metadata": {
    "execution": {
     "iopub.execute_input": "2023-09-27T13:36:58.712745Z",
     "iopub.status.busy": "2023-09-27T13:36:58.712574Z",
     "iopub.status.idle": "2023-09-27T13:37:09.835033Z",
     "shell.execute_reply": "2023-09-27T13:37:09.834458Z"
    }
   },
   "outputs": [
    {
     "name": "stderr",
     "output_type": "stream",
     "text": [
      "Warning (not error because allow_undefined_stereo=True): RDMol has unspecified stereochemistry. Undefined chiral centers are:\n",
      " - Atom C (index 7)\n",
      "\n"
     ]
    },
    {
     "data": {
      "text/plain": [
       "Interchange with 7 collections, non-periodic topology with 32 atoms."
      ]
     },
     "execution_count": 5,
     "metadata": {},
     "output_type": "execute_result"
    }
   ],
   "source": [
    "interchange = Interchange.from_smirnoff(\n",
    "    force_field=sage,\n",
    "    topology=topology,\n",
    ")\n",
    "interchange"
   ]
  },
  {
   "cell_type": "markdown",
   "id": "08821377",
   "metadata": {},
   "source": [
    "Note that, for convience and familiarity compared to the existing `ForceField.create_openmm_system` method, the toolkit provides `ForceField.create_interchange`, which effectively wraps `Interchange.from_smirnoff` to the same effect."
   ]
  },
  {
   "cell_type": "code",
   "execution_count": 6,
   "id": "73817f5b",
   "metadata": {
    "execution": {
     "iopub.execute_input": "2023-09-27T13:37:09.837751Z",
     "iopub.status.busy": "2023-09-27T13:37:09.837535Z",
     "iopub.status.idle": "2023-09-27T13:37:10.484729Z",
     "shell.execute_reply": "2023-09-27T13:37:10.484281Z"
    }
   },
   "outputs": [
    {
     "data": {
      "text/plain": [
       "<openmm.openmm.System; proxy of <Swig Object of type 'OpenMM::System *' at 0x144408c60> >"
      ]
     },
     "execution_count": 6,
     "metadata": {},
     "output_type": "execute_result"
    }
   ],
   "source": [
    "interchange2 = sage.create_interchange(topology)\n",
    "interchange2.to_openmm(combine_nonbonded_forces=True)"
   ]
  },
  {
   "cell_type": "markdown",
   "id": "f475674b",
   "metadata": {},
   "source": [
    "This object stores all information known about a system; this includes its chemistry, how that chemistry is represented by a force field, and how the system is organized in 3D space. An Interchange object has five components:\n",
    "\n",
    "1. **Topology**: Stores chemical information, such as connectivity and formal charges, independently of force field\n",
    "1. **Collections**: Maps the chemical information to force field parameters. The force field itself is not directly stored\n",
    "1. **Positions** (optional): Cartesian co-ordinates of atoms\n",
    "1. **Box vectors** (optional): Periodicity information\n",
    "1. **Velocities** (optional): Cartesian velocities of atoms\n",
    "\n",
    "None are strictly required; an `Interchange` object can be constructed containing none of the above components, although this is not particularly useful:\n"
   ]
  },
  {
   "cell_type": "code",
   "execution_count": 7,
   "id": "cecb159e",
   "metadata": {
    "execution": {
     "iopub.execute_input": "2023-09-27T13:37:10.487171Z",
     "iopub.status.busy": "2023-09-27T13:37:10.486983Z",
     "iopub.status.idle": "2023-09-27T13:37:10.490320Z",
     "shell.execute_reply": "2023-09-27T13:37:10.489942Z"
    }
   },
   "outputs": [
    {
     "data": {
      "text/plain": [
       "(None, {}, None, None, None)"
      ]
     },
     "execution_count": 7,
     "metadata": {},
     "output_type": "execute_result"
    }
   ],
   "source": [
    "empty = Interchange()\n",
    "empty.topology, empty.collections, empty.positions, empty.box, empty.velocities"
   ]
  },
  {
   "cell_type": "markdown",
   "id": "de295c3f",
   "metadata": {},
   "source": [
    "The `Interchange.topology` attribute carries an object of the same type provided by the toolkit and therefore provides the same API. (In the future this may change)."
   ]
  },
  {
   "cell_type": "code",
   "execution_count": 8,
   "id": "7e37f511",
   "metadata": {
    "execution": {
     "iopub.execute_input": "2023-09-27T13:37:10.492477Z",
     "iopub.status.busy": "2023-09-27T13:37:10.492333Z",
     "iopub.status.idle": "2023-09-27T13:37:10.501273Z",
     "shell.execute_reply": "2023-09-27T13:37:10.500811Z"
    }
   },
   "outputs": [
    {
     "data": {
      "text/plain": [
       "(32,\n",
       " 34,\n",
       " '[H][c]1[c]([H])[c]2[c]([c]([N]([H])[H])[c]1[H])[C]([H])([H])[N]([C]1([H])[C](=[O])[N]([H])[C](=[O])[C]([H])([H])[C]1([H])[H])[C]2=[O]')"
      ]
     },
     "execution_count": 8,
     "metadata": {},
     "output_type": "execute_result"
    }
   ],
   "source": [
    "interchange.topology.n_atoms, interchange.topology.n_bonds, interchange.topology.molecule(\n",
    "    0\n",
    ").to_smiles()"
   ]
  },
  {
   "cell_type": "markdown",
   "id": "854b7f8d",
   "metadata": {},
   "source": [
    "The `Interchange.collections` attribute carries a dictionary mapping handler names to `SMIRNOFFCollection` objects. These carry the physical parameters derived from applying the force field to the topology. We will go into more detail about these objects later."
   ]
  },
  {
   "cell_type": "code",
   "execution_count": 9,
   "id": "a998e335",
   "metadata": {
    "execution": {
     "iopub.execute_input": "2023-09-27T13:37:10.503648Z",
     "iopub.status.busy": "2023-09-27T13:37:10.503471Z",
     "iopub.status.idle": "2023-09-27T13:37:10.507293Z",
     "shell.execute_reply": "2023-09-27T13:37:10.506775Z"
    }
   },
   "outputs": [
    {
     "data": {
      "text/plain": [
       "[('Bonds', openff.interchange.smirnoff._valence.SMIRNOFFBondCollection),\n",
       " ('Constraints',\n",
       "  openff.interchange.smirnoff._valence.SMIRNOFFConstraintCollection),\n",
       " ('Angles', openff.interchange.smirnoff._valence.SMIRNOFFAngleCollection),\n",
       " ('ProperTorsions',\n",
       "  openff.interchange.smirnoff._valence.SMIRNOFFProperTorsionCollection),\n",
       " ('ImproperTorsions',\n",
       "  openff.interchange.smirnoff._valence.SMIRNOFFImproperTorsionCollection),\n",
       " ('vdW', openff.interchange.smirnoff._nonbonded.SMIRNOFFvdWCollection),\n",
       " ('Electrostatics',\n",
       "  openff.interchange.smirnoff._nonbonded.SMIRNOFFElectrostaticsCollection)]"
      ]
     },
     "execution_count": 9,
     "metadata": {},
     "output_type": "execute_result"
    }
   ],
   "source": [
    "[(key, type(value)) for key, value in interchange.collections.items()]"
   ]
  },
  {
   "cell_type": "markdown",
   "id": "0e663c41",
   "metadata": {},
   "source": [
    "The `Interchange.positions` attribute carries the positions of all atoms if specified in the constructor or included on the provided topology. In our case, we passed a topology with a molecule that had a defined conformer, so `from_smirnoff` set atomic positions from this information."
   ]
  },
  {
   "cell_type": "code",
   "execution_count": 10,
   "id": "39f43503",
   "metadata": {
    "execution": {
     "iopub.execute_input": "2023-09-27T13:37:10.509593Z",
     "iopub.status.busy": "2023-09-27T13:37:10.509452Z",
     "iopub.status.idle": "2023-09-27T13:37:10.514752Z",
     "shell.execute_reply": "2023-09-27T13:37:10.514190Z"
    }
   },
   "outputs": [
    {
     "data": {
      "text/plain": [
       "(pint.util.Quantity,\n",
       " array([[-0.17146457,  0.24321106,  0.00843769],\n",
       "        [-0.22963088,  0.13260217,  0.01108904],\n",
       "        [-0.34209879,  0.11771949,  0.09624368],\n",
       "        [-0.41757699, -0.00566968,  0.09743874],\n",
       "        [-0.50510099, -0.0281254 ,  0.18420124],\n",
       "        [-0.38248827, -0.10074029, -0.0110064 ],\n",
       "        [-0.2359366 , -0.110677  , -0.03781474],\n",
       "        [-0.17799385,  0.02380429, -0.07451122],\n",
       "        [-0.03135726,  0.02009683, -0.0646038 ],\n",
       "        [ 0.06211504,  0.04079741, -0.16951329],\n",
       "        [ 0.03049655,  0.0658543 , -0.2886385 ],\n",
       "        [ 0.19934329,  0.02939215, -0.12196212],\n",
       "        [ 0.32416661,  0.04049981, -0.18230898],\n",
       "        [ 0.44075238,  0.0243232 , -0.11062197],\n",
       "        [ 0.42801345, -0.00341219,  0.02383148],\n",
       "        [ 0.30522724, -0.01474294,  0.0851436 ],\n",
       "        [ 0.18822959,  0.00161468,  0.01260651],\n",
       "        [ 0.04703731, -0.00544391,  0.05430734],\n",
       "        [ 0.29451354, -0.04378281,  0.22578382],\n",
       "        [-0.3720869 ,  0.19611845,  0.15958783],\n",
       "        [-0.41612353, -0.20198364,  0.02552278],\n",
       "        [-0.4409564 , -0.07228409, -0.10192496],\n",
       "        [-0.18697318, -0.15048572,  0.05260406],\n",
       "        [-0.22271224, -0.17629833, -0.12612139],\n",
       "        [-0.20937745,  0.04569708, -0.17838981],\n",
       "        [ 0.33008557,  0.06222352, -0.28740069],\n",
       "        [ 0.5401339 ,  0.0318462 , -0.15229684],\n",
       "        [ 0.51729472, -0.01740421,  0.08646511],\n",
       "        [ 0.02397088,  0.07023036,  0.13409422],\n",
       "        [ 0.022701  , -0.10434238,  0.10016491],\n",
       "        [ 0.21131661, -0.01929841,  0.28098161],\n",
       "        [ 0.37648021, -0.09133999,  0.26861105]]) <Unit('nanometer')>)"
      ]
     },
     "execution_count": 10,
     "metadata": {},
     "output_type": "execute_result"
    }
   ],
   "source": [
    "import numpy\n",
    "\n",
    "assert numpy.allclose(interchange.positions, molecule.conformers[0])\n",
    "\n",
    "type(interchange.positions), interchange.positions"
   ]
  },
  {
   "cell_type": "markdown",
   "id": "592984b9",
   "metadata": {},
   "source": [
    "`Interchange.positions` also has a setter that allows array-like objects of the shape `(N_atoms, 3)`. For example, we could switch this `interchange` to use the second of the two conformers we generated earlier:"
   ]
  },
  {
   "cell_type": "code",
   "execution_count": 11,
   "id": "2aa6c8da",
   "metadata": {
    "execution": {
     "iopub.execute_input": "2023-09-27T13:37:10.517157Z",
     "iopub.status.busy": "2023-09-27T13:37:10.516970Z",
     "iopub.status.idle": "2023-09-27T13:37:10.522107Z",
     "shell.execute_reply": "2023-09-27T13:37:10.521754Z"
    }
   },
   "outputs": [
    {
     "data": {
      "text/plain": [
       "(pint.util.Quantity,\n",
       " array([[ 0.14045551,  0.04894777,  0.22188181],\n",
       "        [ 0.22156935,  0.03994528,  0.12689088],\n",
       "        [ 0.36282685,  0.03511215,  0.14646385],\n",
       "        [ 0.43920867, -0.02632716,  0.04341223],\n",
       "        [ 0.56035447,  0.00604778,  0.03176382],\n",
       "        [ 0.37192539, -0.12509876, -0.0445696 ],\n",
       "        [ 0.23484085, -0.08649714, -0.08763624],\n",
       "        [ 0.17754311,  0.03337644, -0.0170336 ],\n",
       "        [ 0.03360323,  0.0372997 , -0.02273684],\n",
       "        [-0.03899999,  0.1446703 , -0.08120774],\n",
       "        [ 0.01021318,  0.2496458 , -0.13533312],\n",
       "        [-0.17991247,  0.11808518, -0.07075035],\n",
       "        [-0.28895094,  0.19206137, -0.11253224],\n",
       "        [-0.41577433,  0.1478143 , -0.09240552],\n",
       "        [-0.43389452,  0.02714988, -0.02921783],\n",
       "        [-0.3251852 , -0.04674406,  0.01251245],\n",
       "        [-0.19368154, -0.00340439, -0.00701694],\n",
       "        [-0.0617305 , -0.06066384,  0.02653234],\n",
       "        [-0.34298824, -0.17090892,  0.07755465],\n",
       "        [ 0.40370244,  0.07566313,  0.23323565],\n",
       "        [ 0.44225366, -0.14099942, -0.13136145],\n",
       "        [ 0.36381615, -0.22233353,  0.0119484 ],\n",
       "        [ 0.16585445, -0.17342524, -0.08423453],\n",
       "        [ 0.24023173, -0.05863142, -0.19694751],\n",
       "        [ 0.21870864,  0.12439228, -0.06400535],\n",
       "        [-0.27397397,  0.28804716, -0.16278223],\n",
       "        [-0.49817103,  0.20968458, -0.12712704],\n",
       "        [-0.53628823, -0.00830361, -0.01311097],\n",
       "        [-0.05211713, -0.06588053,  0.1365632 ],\n",
       "        [-0.04540767, -0.16083484, -0.01771521],\n",
       "        [-0.32962533, -0.26117486,  0.02703921],\n",
       "        [-0.37040658, -0.16671538,  0.17953186]]) <Unit('nanometer')>)"
      ]
     },
     "execution_count": 11,
     "metadata": {},
     "output_type": "execute_result"
    }
   ],
   "source": [
    "interchange.positions = molecule.conformers[1]\n",
    "\n",
    "assert not numpy.allclose(interchange.positions, molecule.conformers[0])\n",
    "assert numpy.allclose(interchange.positions, molecule.conformers[1])\n",
    "\n",
    "type(interchange.positions), interchange.positions"
   ]
  },
  {
   "cell_type": "markdown",
   "id": "24c90d9c",
   "metadata": {},
   "source": [
    "The `Interchange.box` attribute carries information about the periodicity of the system. It can be `None` or a `Quantity` object, with the `None` implying a lack of periodicity. If no `box` argument is passed to `Interchange.from_smirnoff`, it will set box vectors, if any, from the `topology` input. After construction, it can be set with the same process with which we modified the positions."
   ]
  },
  {
   "cell_type": "code",
   "execution_count": 12,
   "id": "3e229991",
   "metadata": {
    "execution": {
     "iopub.execute_input": "2023-09-27T13:37:10.524223Z",
     "iopub.status.busy": "2023-09-27T13:37:10.524056Z",
     "iopub.status.idle": "2023-09-27T13:37:10.530889Z",
     "shell.execute_reply": "2023-09-27T13:37:10.530470Z"
    }
   },
   "outputs": [
    {
     "data": {
      "text/html": [
       "<table><tbody><tr><th>Magnitude</th><td style='text-align:left;'><pre>[[4.0 0.0 0.0]<br> [0.0 4.0 0.0]<br> [0.0 0.0 4.0]]</pre></td></tr><tr><th>Units</th><td style='text-align:left;'>nanometer</td></tr></tbody></table>"
      ],
      "text/latex": [
       "$\\begin{pmatrix}4.0 & 0.0 & 0.0\\\\ \n",
       "0.0 & 4.0 & 0.0\\\\ \n",
       "0.0 & 0.0 & 4.0\\end{pmatrix}\\ \\mathrm{nanometer}$"
      ],
      "text/plain": [
       "array([[4., 0., 0.],\n",
       "       [0., 4., 0.],\n",
       "       [0., 0., 4.]]) <Unit('nanometer')>"
      ]
     },
     "execution_count": 12,
     "metadata": {},
     "output_type": "execute_result"
    }
   ],
   "source": [
    "assert topology.box_vectors == interchange.box == None\n",
    "from openff.units import unit\n",
    "\n",
    "interchange.box = unit.Quantity(4.0 * numpy.eye(3), unit.nanometer)\n",
    "interchange.box"
   ]
  },
  {
   "cell_type": "markdown",
   "id": "fa2c3542",
   "metadata": {},
   "source": [
    "The `Interchange.velocities` attribute carries atomic velocities, which can be set akin to setting other array attributes - by passing an `(N_atoms, 3)` array to the setter."
   ]
  },
  {
   "cell_type": "markdown",
   "id": "51953c65",
   "metadata": {},
   "source": [
    "Let's quickly visualize this molecule with atom indices. This will be useful if later on we want to look up particular parameters. Note that this indexes the atoms at 1 whereas OpenFF indexed at 0."
   ]
  },
  {
   "cell_type": "code",
   "execution_count": 13,
   "id": "87a41426",
   "metadata": {
    "execution": {
     "iopub.execute_input": "2023-09-27T13:37:10.533208Z",
     "iopub.status.busy": "2023-09-27T13:37:10.533029Z",
     "iopub.status.idle": "2023-09-27T13:37:10.550687Z",
     "shell.execute_reply": "2023-09-27T13:37:10.550295Z"
    }
   },
   "outputs": [
    {
     "data": {
      "image/png": "[encoded data removed]",
      "text/plain": [
       "<rdkit.Chem.rdchem.Mol at 0x1443c5ee0>"
      ]
     },
     "execution_count": 13,
     "metadata": {},
     "output_type": "execute_result"
    }
   ],
   "source": [
    "from rdkit.Chem import Mol as RDMol\n",
    "\n",
    "\n",
    "# Adapted from https://www.rdkit.org/docs/Cookbook.html#include-an-atom-index\n",
    "def mol_with_atom_index(molecule: Molecule):\n",
    "    molecule_copy = Molecule(molecule)\n",
    "    molecule_copy._conformers = None\n",
    "\n",
    "    rdmol: RDMol = molecule_copy.to_rdkit()\n",
    "    for atom in rdmol.GetAtoms():\n",
    "        atom.SetAtomMapNum(atom.GetIdx() + 1)\n",
    "\n",
    "    return rdmol\n",
    "\n",
    "\n",
    "mol_with_atom_index(molecule)"
   ]
  },
  {
   "cell_type": "markdown",
   "id": "8dccbded",
   "metadata": {},
   "source": [
    "Recall that SMIRNOFF groups force field parameters into groups roughly corresponding to terms in the potential energy function. The toolkit stores these in a force field with `ParameterHandler` objects, and the corresponding data is stored in Interchange as \"collections.\" Most, but not all, correspond 1:1 and share names."
   ]
  },
  {
   "cell_type": "code",
   "execution_count": 14,
   "id": "3bfcc9e0",
   "metadata": {
    "execution": {
     "iopub.execute_input": "2023-09-27T13:37:10.552882Z",
     "iopub.status.busy": "2023-09-27T13:37:10.552713Z",
     "iopub.status.idle": "2023-09-27T13:37:10.555307Z",
     "shell.execute_reply": "2023-09-27T13:37:10.554913Z"
    }
   },
   "outputs": [
    {
     "name": "stdout",
     "output_type": "stream",
     "text": [
      "Constraints <openff.toolkit.typing.engines.smirnoff.parameters.ConstraintHandler object at 0x14413f690>\n",
      "Bonds <openff.toolkit.typing.engines.smirnoff.parameters.BondHandler object at 0x1440e7850>\n",
      "Angles <openff.toolkit.typing.engines.smirnoff.parameters.AngleHandler object at 0x1440e7e50>\n",
      "ProperTorsions <openff.toolkit.typing.engines.smirnoff.parameters.ProperTorsionHandler object at 0x143daf210>\n",
      "ImproperTorsions <openff.toolkit.typing.engines.smirnoff.parameters.ImproperTorsionHandler object at 0x1440e7a90>\n",
      "vdW <openff.toolkit.typing.engines.smirnoff.parameters.vdWHandler object at 0x1440ec2d0>\n",
      "Electrostatics <openff.toolkit.typing.engines.smirnoff.parameters.ElectrostaticsHandler object at 0x1440e7550>\n",
      "LibraryCharges <openff.toolkit.typing.engines.smirnoff.parameters.LibraryChargeHandler object at 0x143d7e710>\n",
      "ToolkitAM1BCC <openff.toolkit.typing.engines.smirnoff.parameters.ToolkitAM1BCCHandler object at 0x143d5fe90>\n"
     ]
    }
   ],
   "source": [
    "for handler_name in sage.registered_parameter_handlers:\n",
    "    print(handler_name, sage[handler_name])"
   ]
  },
  {
   "cell_type": "markdown",
   "id": "f13f22e1",
   "metadata": {},
   "source": [
    "Each potential handler implements a few key methods as required by the base class. These are\n",
    "* `type`: A string identifying the type of stored potentials\n",
    "* `expression`: An algebraic expression (or otherwise information) used to compute the potential energy from this collection\n",
    "* `supported_paramters`: A sequence of strings identifying the parameters supported by this handler (i.e. `k`, `periodicity`, `phase`)\n",
    "* `slot_map`: A mapping between topological locations (\"slots\") and unique identifiers of applied parameters\n",
    "* `potentials`: A mapping between unique identifiers of applies parameters and the parameters themselves.\n",
    "\n",
    "Each handler may also introduce more fields and methods as needed."
   ]
  },
  {
   "cell_type": "code",
   "execution_count": 15,
   "id": "a044ac65",
   "metadata": {
    "execution": {
     "iopub.execute_input": "2023-09-27T13:37:10.557394Z",
     "iopub.status.busy": "2023-09-27T13:37:10.557231Z",
     "iopub.status.idle": "2023-09-27T13:37:10.562567Z",
     "shell.execute_reply": "2023-09-27T13:37:10.562184Z"
    }
   },
   "outputs": [],
   "source": [
    "from openff.interchange.smirnoff._base import SMIRNOFFCollection\n",
    "\n",
    "?SMIRNOFFCollection"
   ]
  },
  {
   "cell_type": "markdown",
   "id": "d0d0f3d6",
   "metadata": {},
   "source": [
    "As a simple case, let's look at the bond handler and its contents."
   ]
  },
  {
   "cell_type": "code",
   "execution_count": 16,
   "id": "d1f0558a",
   "metadata": {
    "execution": {
     "iopub.execute_input": "2023-09-27T13:37:10.564564Z",
     "iopub.status.busy": "2023-09-27T13:37:10.564408Z",
     "iopub.status.idle": "2023-09-27T13:37:10.567218Z",
     "shell.execute_reply": "2023-09-27T13:37:10.566879Z"
    }
   },
   "outputs": [
    {
     "data": {
      "text/plain": [
       "('Bonds', 'k/2*(r-length)**2')"
      ]
     },
     "execution_count": 16,
     "metadata": {},
     "output_type": "execute_result"
    }
   ],
   "source": [
    "bond_collection = interchange[\"Bonds\"]\n",
    "\n",
    "bond_collection.type, bond_collection.expression"
   ]
  },
  {
   "cell_type": "code",
   "execution_count": 17,
   "id": "f999b40d",
   "metadata": {
    "execution": {
     "iopub.execute_input": "2023-09-27T13:37:10.569092Z",
     "iopub.status.busy": "2023-09-27T13:37:10.568949Z",
     "iopub.status.idle": "2023-09-27T13:37:10.571674Z",
     "shell.execute_reply": "2023-09-27T13:37:10.571340Z"
    }
   },
   "outputs": [
    {
     "data": {
      "text/plain": [
       "('linear', 'AM1-Wiberg')"
      ]
     },
     "execution_count": 17,
     "metadata": {},
     "output_type": "execute_result"
    }
   ],
   "source": [
    "bond_collection.fractional_bond_order_interpolation, bond_collection.fractional_bond_order_method"
   ]
  },
  {
   "cell_type": "markdown",
   "id": "85d3802f",
   "metadata": {},
   "source": [
    "\n",
    "<div class=\"alert alert-warning\" style=\"max-width: 700px; margin-left: auto; margin-right: auto;\">\n",
    "    ❓ Can you find where in the <code>ForceField</code> object these value came from? Hint: you can look up a <code>ParameterHandler<code> from within a force field with square brackets, just like how you'd look up items from a dictionary in Python. (Some things might be spelled slightly differently between objects - sorry about that!)\n",
    "</div>\n"
   ]
  },
  {
   "cell_type": "code",
   "execution_count": 18,
   "id": "29eecdc8",
   "metadata": {
    "execution": {
     "iopub.execute_input": "2023-09-27T13:37:10.573670Z",
     "iopub.status.busy": "2023-09-27T13:37:10.573511Z",
     "iopub.status.idle": "2023-09-27T13:37:10.576860Z",
     "shell.execute_reply": "2023-09-27T13:37:10.576478Z"
    }
   },
   "outputs": [
    {
     "name": "stderr",
     "output_type": "stream",
     "text": [
      "/var/folders/p1/176rcfkn6zlbbjq4bdjmv2pr0000gn/T/ipykernel_32065/1360661991.py:1: InterchangeDeprecationWarning: The `slot_map` attribute is deprecated. Use `key_map` instead.\n",
      "  bond_collection.slot_map\n"
     ]
    },
    {
     "data": {
      "text/plain": [
       "{BondKey with atom indices (0, 1): PotentialKey associated with handler 'Bonds' with id '[#6:1]=[#8X1+0,#8X2+1:2]',\n",
       " BondKey with atom indices (1, 2): PotentialKey associated with handler 'Bonds' with id '[#6X3:1](=[#8X1+0])-[#7X3:2]',\n",
       " BondKey with atom indices (1, 7): PotentialKey associated with handler 'Bonds' with id '[#6X4:1]-[#6X3:2]=[#8X1+0]',\n",
       " BondKey with atom indices (2, 3): PotentialKey associated with handler 'Bonds' with id '[#6X3:1](=[#8X1+0])-[#7X3:2]',\n",
       " BondKey with atom indices (2, 19): PotentialKey associated with handler 'Bonds' with id '[#7:1]-[#1:2]',\n",
       " BondKey with atom indices (3, 4): PotentialKey associated with handler 'Bonds' with id '[#6:1]=[#8X1+0,#8X2+1:2]',\n",
       " BondKey with atom indices (3, 5): PotentialKey associated with handler 'Bonds' with id '[#6X4:1]-[#6X3:2]=[#8X1+0]',\n",
       " BondKey with atom indices (5, 6): PotentialKey associated with handler 'Bonds' with id '[#6X4:1]-[#6X4:2]',\n",
       " BondKey with atom indices (5, 20): PotentialKey associated with handler 'Bonds' with id '[#6X4:1]-[#1:2]',\n",
       " BondKey with atom indices (5, 21): PotentialKey associated with handler 'Bonds' with id '[#6X4:1]-[#1:2]',\n",
       " BondKey with atom indices (6, 7): PotentialKey associated with handler 'Bonds' with id '[#6X4:1]-[#6X4:2]',\n",
       " BondKey with atom indices (6, 22): PotentialKey associated with handler 'Bonds' with id '[#6X4:1]-[#1:2]',\n",
       " BondKey with atom indices (6, 23): PotentialKey associated with handler 'Bonds' with id '[#6X4:1]-[#1:2]',\n",
       " BondKey with atom indices (7, 8): PotentialKey associated with handler 'Bonds' with id '[#6X4:1]-[#7X3:2]-[#6X3]=[#8X1+0]',\n",
       " BondKey with atom indices (7, 24): PotentialKey associated with handler 'Bonds' with id '[#6X4:1]-[#1:2]',\n",
       " BondKey with atom indices (8, 9): PotentialKey associated with handler 'Bonds' with id '[#6X3:1](=[#8X1+0])-[#7X3:2]',\n",
       " BondKey with atom indices (8, 17): PotentialKey associated with handler 'Bonds' with id '[#6X4:1]-[#7X3:2]-[#6X3]=[#8X1+0]',\n",
       " BondKey with atom indices (9, 10): PotentialKey associated with handler 'Bonds' with id '[#6:1]=[#8X1+0,#8X2+1:2]',\n",
       " BondKey with atom indices (9, 11): PotentialKey associated with handler 'Bonds' with id '[#6X3:1]-[#6X3:2]',\n",
       " BondKey with atom indices (11, 12): PotentialKey associated with handler 'Bonds' with id '[#6X3:1]:[#6X3:2]',\n",
       " BondKey with atom indices (11, 16): PotentialKey associated with handler 'Bonds' with id '[#6X3:1]:[#6X3:2]',\n",
       " BondKey with atom indices (12, 13): PotentialKey associated with handler 'Bonds' with id '[#6X3:1]:[#6X3:2]',\n",
       " BondKey with atom indices (12, 25): PotentialKey associated with handler 'Bonds' with id '[#6X3:1]-[#1:2]',\n",
       " BondKey with atom indices (13, 14): PotentialKey associated with handler 'Bonds' with id '[#6X3:1]:[#6X3:2]',\n",
       " BondKey with atom indices (13, 26): PotentialKey associated with handler 'Bonds' with id '[#6X3:1]-[#1:2]',\n",
       " BondKey with atom indices (14, 15): PotentialKey associated with handler 'Bonds' with id '[#6X3:1]:[#6X3:2]',\n",
       " BondKey with atom indices (14, 27): PotentialKey associated with handler 'Bonds' with id '[#6X3:1]-[#1:2]',\n",
       " BondKey with atom indices (15, 16): PotentialKey associated with handler 'Bonds' with id '[#6X3:1]:[#6X3:2]',\n",
       " BondKey with atom indices (15, 18): PotentialKey associated with handler 'Bonds' with id '[#6X3:1]-[#7X3:2]',\n",
       " BondKey with atom indices (16, 17): PotentialKey associated with handler 'Bonds' with id '[#6X4:1]-[#6X3:2]',\n",
       " BondKey with atom indices (17, 28): PotentialKey associated with handler 'Bonds' with id '[#6X4:1]-[#1:2]',\n",
       " BondKey with atom indices (17, 29): PotentialKey associated with handler 'Bonds' with id '[#6X4:1]-[#1:2]',\n",
       " BondKey with atom indices (18, 30): PotentialKey associated with handler 'Bonds' with id '[#7:1]-[#1:2]',\n",
       " BondKey with atom indices (18, 31): PotentialKey associated with handler 'Bonds' with id '[#7:1]-[#1:2]'}"
      ]
     },
     "execution_count": 18,
     "metadata": {},
     "output_type": "execute_result"
    }
   ],
   "source": [
    "bond_collection.slot_map"
   ]
  },
  {
   "cell_type": "markdown",
   "id": "e9f29700",
   "metadata": {},
   "source": [
    "Let's inspect these objects one  by one, starting with the first topology key in the slot map."
   ]
  },
  {
   "cell_type": "code",
   "execution_count": 19,
   "id": "037cce01",
   "metadata": {
    "execution": {
     "iopub.execute_input": "2023-09-27T13:37:10.579238Z",
     "iopub.status.busy": "2023-09-27T13:37:10.579106Z",
     "iopub.status.idle": "2023-09-27T13:37:10.582355Z",
     "shell.execute_reply": "2023-09-27T13:37:10.582024Z"
    }
   },
   "outputs": [
    {
     "name": "stderr",
     "output_type": "stream",
     "text": [
      "/var/folders/p1/176rcfkn6zlbbjq4bdjmv2pr0000gn/T/ipykernel_32065/2753291394.py:1: InterchangeDeprecationWarning: The `slot_map` attribute is deprecated. Use `key_map` instead.\n",
      "  first_topology_key = [*bond_collection.slot_map.keys()][0]\n"
     ]
    },
    {
     "data": {
      "text/plain": [
       "(BondKey with atom indices (0, 1), openff.interchange.models.BondKey)"
      ]
     },
     "execution_count": 19,
     "metadata": {},
     "output_type": "execute_result"
    }
   ],
   "source": [
    "first_topology_key = [*bond_collection.slot_map.keys()][0]\n",
    "\n",
    "first_topology_key, type(first_topology_key)"
   ]
  },
  {
   "cell_type": "markdown",
   "id": "f610c62d",
   "metadata": {},
   "source": [
    "This object stores information about where in the topology some parameter is meant to be found. In this case, that is fully specified by the indices of the two atoms in the bonds."
   ]
  },
  {
   "cell_type": "code",
   "execution_count": 20,
   "id": "f1829803",
   "metadata": {
    "execution": {
     "iopub.execute_input": "2023-09-27T13:37:10.584436Z",
     "iopub.status.busy": "2023-09-27T13:37:10.584272Z",
     "iopub.status.idle": "2023-09-27T13:37:10.587025Z",
     "shell.execute_reply": "2023-09-27T13:37:10.586630Z"
    }
   },
   "outputs": [
    {
     "data": {
      "text/plain": [
       "(0, 1)"
      ]
     },
     "execution_count": 20,
     "metadata": {},
     "output_type": "execute_result"
    }
   ],
   "source": [
    "first_topology_key.atom_indices"
   ]
  },
  {
   "cell_type": "markdown",
   "id": "f28bbbd7",
   "metadata": {},
   "source": [
    "The `PotentialHandler.slot_map` maps from these keys to `PotentialKey` objects, which are unique identifiers of parameters."
   ]
  },
  {
   "cell_type": "code",
   "execution_count": 21,
   "id": "df8857aa",
   "metadata": {
    "execution": {
     "iopub.execute_input": "2023-09-27T13:37:10.589063Z",
     "iopub.status.busy": "2023-09-27T13:37:10.588907Z",
     "iopub.status.idle": "2023-09-27T13:37:10.591950Z",
     "shell.execute_reply": "2023-09-27T13:37:10.591632Z"
    }
   },
   "outputs": [
    {
     "name": "stderr",
     "output_type": "stream",
     "text": [
      "/var/folders/p1/176rcfkn6zlbbjq4bdjmv2pr0000gn/T/ipykernel_32065/719728304.py:1: InterchangeDeprecationWarning: The `slot_map` attribute is deprecated. Use `key_map` instead.\n",
      "  first_potential_key = bond_collection.slot_map[first_topology_key]\n"
     ]
    },
    {
     "data": {
      "text/plain": [
       "(PotentialKey associated with handler 'Bonds' with id '[#6:1]=[#8X1+0,#8X2+1:2]',\n",
       " openff.interchange.models.PotentialKey)"
      ]
     },
     "execution_count": 21,
     "metadata": {},
     "output_type": "execute_result"
    }
   ],
   "source": [
    "first_potential_key = bond_collection.slot_map[first_topology_key]\n",
    "\n",
    "first_potential_key, type(first_potential_key)"
   ]
  },
  {
   "cell_type": "markdown",
   "id": "a1c2b9b5",
   "metadata": {},
   "source": [
    "In the case of SMIRNOFF force fields, the SMIRKS pattern uniquely identifies the parameters in a particular handler. In other typing schemes this might be an atom type or a combination of atom types."
   ]
  },
  {
   "cell_type": "code",
   "execution_count": 22,
   "id": "752ae5b6",
   "metadata": {
    "execution": {
     "iopub.execute_input": "2023-09-27T13:37:10.594138Z",
     "iopub.status.busy": "2023-09-27T13:37:10.594003Z",
     "iopub.status.idle": "2023-09-27T13:37:10.597018Z",
     "shell.execute_reply": "2023-09-27T13:37:10.596604Z"
    }
   },
   "outputs": [
    {
     "data": {
      "text/plain": [
       "('[#6:1]=[#8X1+0,#8X2+1:2]', 'Bonds')"
      ]
     },
     "execution_count": 22,
     "metadata": {},
     "output_type": "execute_result"
    }
   ],
   "source": [
    "first_potential_key.id, first_potential_key.associated_handler"
   ]
  },
  {
   "cell_type": "markdown",
   "id": "a4e5e8b0",
   "metadata": {},
   "source": [
    "Finally, `PotentialHandler` maps from these potential keys to `potential` objects themselves, allowing for parameter de-duplication and quick lookup."
   ]
  },
  {
   "cell_type": "code",
   "execution_count": 23,
   "id": "2de13561",
   "metadata": {
    "execution": {
     "iopub.execute_input": "2023-09-27T13:37:10.599057Z",
     "iopub.status.busy": "2023-09-27T13:37:10.598898Z",
     "iopub.status.idle": "2023-09-27T13:37:10.601775Z",
     "shell.execute_reply": "2023-09-27T13:37:10.601444Z"
    }
   },
   "outputs": [
    {
     "data": {
      "text/plain": [
       "(Potential(parameters={'k': <Quantity(1527.01974, 'kilocalorie / angstrom ** 2 / mole')>, 'length': <Quantity(1.22166864, 'angstrom')>}, map_key=None),\n",
       " openff.interchange.components.potentials.Potential)"
      ]
     },
     "execution_count": 23,
     "metadata": {},
     "output_type": "execute_result"
    }
   ],
   "source": [
    "first_potential = bond_collection.potentials[first_potential_key]\n",
    "\n",
    "first_potential, type(first_potential)"
   ]
  },
  {
   "cell_type": "code",
   "execution_count": 24,
   "id": "884e8f9f",
   "metadata": {
    "execution": {
     "iopub.execute_input": "2023-09-27T13:37:10.603768Z",
     "iopub.status.busy": "2023-09-27T13:37:10.603589Z",
     "iopub.status.idle": "2023-09-27T13:37:10.606363Z",
     "shell.execute_reply": "2023-09-27T13:37:10.606024Z"
    }
   },
   "outputs": [
    {
     "data": {
      "text/plain": [
       "{'k': 1527.019744047 <Unit('kilocalorie / angstrom ** 2 / mole')>,\n",
       " 'length': 1.221668642702 <Unit('angstrom')>}"
      ]
     },
     "execution_count": 24,
     "metadata": {},
     "output_type": "execute_result"
    }
   ],
   "source": [
    "first_potential.parameters"
   ]
  },
  {
   "cell_type": "markdown",
   "id": "eacd908f",
   "metadata": {},
   "source": [
    "Putting this all together, one could write a function that takes in two atom indices and returns the equilibrium bond length and then use this function to compare the parameters applied to carbon-carbon bonds in each ring and between them."
   ]
  },
  {
   "cell_type": "code",
   "execution_count": 25,
   "id": "d041f242",
   "metadata": {
    "execution": {
     "iopub.execute_input": "2023-09-27T13:37:10.608321Z",
     "iopub.status.busy": "2023-09-27T13:37:10.608166Z",
     "iopub.status.idle": "2023-09-27T13:37:10.612790Z",
     "shell.execute_reply": "2023-09-27T13:37:10.612460Z"
    }
   },
   "outputs": [
    {
     "name": "stderr",
     "output_type": "stream",
     "text": [
      "/var/folders/p1/176rcfkn6zlbbjq4bdjmv2pr0000gn/T/ipykernel_32065/160123702.py:9: InterchangeDeprecationWarning: The `slot_map` attribute is deprecated. Use `key_map` instead.\n",
      "  potential_key: PotentialKey = bond_collection.slot_map[topology_key]\n"
     ]
    },
    {
     "data": {
      "text/plain": [
       "(('[#6:1]=[#8X1+0,#8X2+1:2]',\n",
       "  1527.019744047 <Unit('kilocalorie / angstrom ** 2 / mole')>),\n",
       " ('[#6X4:1]-[#6X4:2]',\n",
       "  419.9869268191 <Unit('kilocalorie / angstrom ** 2 / mole')>))"
      ]
     },
     "execution_count": 25,
     "metadata": {},
     "output_type": "execute_result"
    }
   ],
   "source": [
    "from openff.interchange.components.potentials import Potential\n",
    "from openff.interchange.models import BondKey, PotentialKey, ProperTorsionKey\n",
    "\n",
    "\n",
    "def get_k(interchange: Interchange, atom_indices: tuple[int]):\n",
    "    bond_collection = interchange[\"Bonds\"]\n",
    "\n",
    "    topology_key: BondKey = BondKey(atom_indices=atom_indices)\n",
    "    potential_key: PotentialKey = bond_collection.slot_map[topology_key]\n",
    "    potential: Potential = bond_collection.potentials[potential_key]\n",
    "\n",
    "    return potential_key.id, potential.parameters[\"k\"]\n",
    "\n",
    "\n",
    "get_k(interchange, (0, 1)), get_k(interchange, (5, 6))"
   ]
  },
  {
   "cell_type": "markdown",
   "id": "55c54bcb",
   "metadata": {},
   "source": [
    "More interestingly, we could modify this slightly to instead compare the force constant of in-ring and between-ring torsions. (This only reports the force constant of one phase, but these torsions each happen to be single-phase.)"
   ]
  },
  {
   "cell_type": "code",
   "execution_count": 26,
   "id": "e7b1159c",
   "metadata": {
    "execution": {
     "iopub.execute_input": "2023-09-27T13:37:10.615610Z",
     "iopub.status.busy": "2023-09-27T13:37:10.615455Z",
     "iopub.status.idle": "2023-09-27T13:37:10.619904Z",
     "shell.execute_reply": "2023-09-27T13:37:10.619557Z"
    }
   },
   "outputs": [
    {
     "name": "stderr",
     "output_type": "stream",
     "text": [
      "/var/folders/p1/176rcfkn6zlbbjq4bdjmv2pr0000gn/T/ipykernel_32065/691688009.py:5: InterchangeDeprecationWarning: The `slot_map` attribute is deprecated. Use `key_map` instead.\n",
      "  potential_key: PotentialKey = dihedral_handler.slot_map[topology_key]\n"
     ]
    },
    {
     "data": {
      "text/plain": [
       "(('[*:1]-[#7X3:2]-[#6X3$(*=[#8,#16,#7]):3]~[*:4]',\n",
       "  2.169667208431 <Unit('kilocalorie / mole')>),\n",
       " ('[*:1]-[#6X4:2]-[#7X3$(*~[#6X3,#6X2]):3]~[*:4]',\n",
       "  0.3211560582805 <Unit('kilocalorie / mole')>))"
      ]
     },
     "execution_count": 26,
     "metadata": {},
     "output_type": "execute_result"
    }
   ],
   "source": [
    "def get_k(interchange: Interchange, atom_indices: tuple[int]):\n",
    "    dihedral_handler = interchange[\"ProperTorsions\"]\n",
    "\n",
    "    topology_key: ProperTorsionKey = ProperTorsionKey(atom_indices=atom_indices, mult=0)\n",
    "    potential_key: PotentialKey = dihedral_handler.slot_map[topology_key]\n",
    "    potential: Potential = dihedral_handler.potentials[potential_key]\n",
    "\n",
    "    return potential_key.id, potential.parameters[\"k\"]\n",
    "\n",
    "\n",
    "get_k(interchange, (0, 1, 2, 3)), get_k(interchange, (1, 7, 8, 17))"
   ]
  }
 ],
 "metadata": {
  "kernelspec": {
   "display_name": "Python 3 (ipykernel)",
   "language": "python",
   "name": "python3"
  },
  "language_info": {
   "codemirror_mode": {
    "name": "ipython",
    "version": 3
   },
   "file_extension": ".py",
   "mimetype": "text/x-python",
   "name": "python",
   "nbconvert_exporter": "python",
   "pygments_lexer": "ipython3",
   "version": "3.11.5"
  },
  "widgets": {
   "application/vnd.jupyter.widget-state+json": {
    "state": {
     "00ef92c094bc4ca4b2f135b5d83cb202": {
      "model_module": "@jupyter-widgets/controls",
      "model_module_version": "2.0.0",
      "model_name": "ButtonModel",
      "state": {
       "_dom_classes": [],
       "_model_module": "@jupyter-widgets/controls",
       "_model_module_version": "2.0.0",
       "_model_name": "ButtonModel",
       "_view_count": null,
       "_view_module": "@jupyter-widgets/controls",
       "_view_module_version": "2.0.0",
       "_view_name": "ButtonView",
       "button_style": "",
       "description": "",
       "disabled": false,
       "icon": "compress",
       "layout": "IPY_MODEL_243e4d2513ac4ae492c6383a3df2d67e",
       "style": "IPY_MODEL_837774105f134d6e80f59c343f005b8d",
       "tabbable": null,
       "tooltip": null
      }
     },
     "07f8d50de9e348219663e87213eeccce": {
      "model_module": "@jupyter-widgets/base",
      "model_module_version": "2.0.0",
      "model_name": "LayoutModel",
      "state": {
       "_model_module": "@jupyter-widgets/base",
       "_model_module_version": "2.0.0",
       "_model_name": "LayoutModel",
       "_view_count": null,
       "_view_module": "@jupyter-widgets/base",
       "_view_module_version": "2.0.0",
       "_view_name": "LayoutView",
       "align_content": null,
       "align_items": null,
       "align_self": null,
       "border_bottom": null,
       "border_left": null,
       "border_right": null,
       "border_top": null,
       "bottom": null,
       "display": null,
       "flex": null,
       "flex_flow": null,
       "grid_area": null,
       "grid_auto_columns": null,
       "grid_auto_flow": null,
       "grid_auto_rows": null,
       "grid_column": null,
       "grid_gap": null,
       "grid_row": null,
       "grid_template_areas": null,
       "grid_template_columns": null,
       "grid_template_rows": null,
       "height": null,
       "justify_content": null,
       "justify_items": null,
       "left": null,
       "margin": null,
       "max_height": null,
       "max_width": null,
       "min_height": null,
       "min_width": null,
       "object_fit": null,
       "object_position": null,
       "order": null,
       "overflow": null,
       "padding": null,
       "right": null,
       "top": null,
       "visibility": null,
       "width": null
      }
     },
     "1521021d146c43eeb8f5159afa18aa72": {
      "model_module": "@jupyter-widgets/controls",
      "model_module_version": "2.0.0",
      "model_name": "LinkModel",
      "state": {
       "_model_module": "@jupyter-widgets/controls",
       "_model_module_version": "2.0.0",
       "_model_name": "LinkModel",
       "_view_count": null,
       "_view_module": "@jupyter-widgets/controls",
       "_view_module_version": "2.0.0",
       "_view_name": null,
       "source": [
        "IPY_MODEL_ffa0ad4b5ad24a8c8729dba0e8f7de9c",
        "max"
       ],
       "target": [
        "IPY_MODEL_1d901490161441b4a23a2690512a1bb2",
        "max_frame"
       ]
      }
     },
     "1976f2bfc0ec4b138d1eded9d7353be3": {
      "buffers": [
       {
        "data": "",
        "encoding": "base64",
        "path": [
         "value"
        ]
       }
      ],
      "model_module": "@jupyter-widgets/controls",
      "model_module_version": "2.0.0",
      "model_name": "ImageModel",
      "state": {
       "_dom_classes": [],
       "_model_module": "@jupyter-widgets/controls",
       "_model_module_version": "2.0.0",
       "_model_name": "ImageModel",
       "_view_count": null,
       "_view_module": "@jupyter-widgets/controls",
       "_view_module_version": "2.0.0",
       "_view_name": "ImageView",
       "format": "png",
       "height": "",
       "layout": "IPY_MODEL_2ac34b7ce69648679308379dbc4477e8",
       "tabbable": null,
       "tooltip": null,
       "width": "900.0"
      }
     },
     "1d901490161441b4a23a2690512a1bb2": {
      "model_module": "nglview-js-widgets",
      "model_module_version": "3.0.8",
      "model_name": "NGLModel",
      "state": {
       "_camera_orientation": [],
       "_camera_str": "orthographic",
       "_dom_classes": [],
       "_gui_theme": null,
       "_ibtn_fullscreen": "IPY_MODEL_ccdaa088174242e88a9f7c45ed020848",
       "_igui": null,
       "_iplayer": "IPY_MODEL_2a2cbc904dcb4d4c95d79e30820f825b",
       "_model_module": "nglview-js-widgets",
       "_model_module_version": "3.0.8",
       "_model_name": "NGLModel",
       "_ngl_color_dict": {},
       "_ngl_coordinate_resource": {},
       "_ngl_full_stage_parameters": {},
       "_ngl_msg_archive": [
        {
         "args": [
          {
           "binary": false,
           "data": "REMARK   1 CREATED WITH OPENMM 8.0, 2023-09-27\nHETATM    1  O1x UNK A   1      -1.715   2.432   0.084  1.00  0.00           O  \nHETATM    2  C1x UNK A   1      -2.296   1.326   0.111  1.00  0.00           C  \nHETATM    3  N1x UNK A   1      -3.421   1.177   0.962  1.00  0.00           N  \nHETATM    4  C2x UNK A   1      -4.176  -0.057   0.974  1.00  0.00           C  \nHETATM    5  O2x UNK A   1      -5.051  -0.281   1.842  1.00  0.00           O  \nHETATM    6  C3x UNK A   1      -3.825  -1.007  -0.110  1.00  0.00           C  \nHETATM    7  C4x UNK A   1      -2.359  -1.107  -0.378  1.00  0.00           C  \nHETATM    8  C5x UNK A   1      -1.780   0.238  -0.745  1.00  0.00           C  \nHETATM    9  N2x UNK A   1      -0.314   0.201  -0.646  1.00  0.00           N  \nHETATM   10  C6x UNK A   1       0.621   0.408  -1.695  1.00  0.00           C  \nHETATM   11  O3x UNK A   1       0.305   0.659  -2.886  1.00  0.00           O  \nHETATM   12  C7x UNK A   1       1.993   0.294  -1.220  1.00  0.00           C  \nHETATM   13  C8x UNK A   1       3.242   0.405  -1.823  1.00  0.00           C  \nHETATM   14  C9x UNK A   1       4.408   0.243  -1.106  1.00  0.00           C  \nHETATM   15 C10x UNK A   1       4.280  -0.034   0.238  1.00  0.00           C  \nHETATM   16 C11x UNK A   1       3.052  -0.147   0.851  1.00  0.00           C  \nHETATM   17 C12x UNK A   1       1.882   0.016   0.126  1.00  0.00           C  \nHETATM   18 C13x UNK A   1       0.470  -0.054   0.543  1.00  0.00           C  \nHETATM   19  N3x UNK A   1       2.945  -0.438   2.258  1.00  0.00           N  \nHETATM   20  H1x UNK A   1      -3.721   1.961   1.596  1.00  0.00           H  \nHETATM   21  H2x UNK A   1      -4.161  -2.020   0.255  1.00  0.00           H  \nHETATM   22  H3x UNK A   1      -4.410  -0.723  -1.019  1.00  0.00           H  \nHETATM   23  H4x UNK A   1      -1.870  -1.505   0.526  1.00  0.00           H  \nHETATM   24  H5x UNK A   1      -2.227  -1.763  -1.261  1.00  0.00           H  \nHETATM   25  H6x UNK A   1      -2.094   0.457  -1.784  1.00  0.00           H  \nHETATM   26  H7x UNK A   1       3.301   0.622  -2.874  1.00  0.00           H  \nHETATM   27  H8x UNK A   1       5.401   0.318  -1.523  1.00  0.00           H  \nHETATM   28  H9x UNK A   1       5.173  -0.174   0.865  1.00  0.00           H  \nHETATM   29 H10x UNK A   1       0.240   0.702   1.341  1.00  0.00           H  \nHETATM   30 H11x UNK A   1       0.227  -1.043   1.002  1.00  0.00           H  \nHETATM   31 H12x UNK A   1       2.113  -0.193   2.810  1.00  0.00           H  \nHETATM   32 H13x UNK A   1       3.765  -0.913   2.686  1.00  0.00           H  \nTER      33      UNK A   1\nCONECT    1    2\nCONECT    2    1    3    8\nCONECT    3    2    4   20\nCONECT    4    3    5    6\nCONECT    5    4\nCONECT    6    4    7   21   22\nCONECT    7    6    8   23   24\nCONECT    8    7    9    2   25\nCONECT    9    8   10   18\nCONECT   10    9   11   12\nCONECT   11   10\nCONECT   12   10   13   17\nCONECT   13   12   14   26\nCONECT   14   13   15   27\nCONECT   15   14   16   28\nCONECT   16   15   17   19\nCONECT   17   16   18   12\nCONECT   18   17    9   29   30\nCONECT   19   16   31   32\nCONECT   20    3\nCONECT   21    6\nCONECT   22    6\nCONECT   23    7\nCONECT   24    7\nCONECT   25    8\nCONECT   26   13\nCONECT   27   14\nCONECT   28   15\nCONECT   29   18\nCONECT   30   18\nCONECT   31   19\nCONECT   32   19\nEND\n",
           "type": "blob"
          }
         ],
         "kwargs": {
          "defaultRepresentation": false,
          "ext": "pdb"
         },
         "methodName": "loadFile",
         "reconstruc_color_scheme": false,
         "target": "Stage",
         "type": "call_method"
        },
        {
         "args": [],
         "component_index": 0,
         "kwargs": {},
         "methodName": "removeAllRepresentations",
         "reconstruc_color_scheme": false,
         "target": "compList",
         "type": "call_method"
        },
        {
         "args": [
          "unitcell"
         ],
         "component_index": 0,
         "kwargs": {},
         "methodName": "addRepresentation",
         "reconstruc_color_scheme": false,
         "target": "compList",
         "type": "call_method"
        },
        {
         "args": [
          "line"
         ],
         "component_index": 0,
         "kwargs": {
          "sele": "water"
         },
         "methodName": "addRepresentation",
         "reconstruc_color_scheme": false,
         "target": "compList",
         "type": "call_method"
        },
        {
         "args": [
          "spacefill"
         ],
         "component_index": 0,
         "kwargs": {
          "sele": "ion"
         },
         "methodName": "addRepresentation",
         "reconstruc_color_scheme": false,
         "target": "compList",
         "type": "call_method"
        },
        {
         "args": [
          "cartoon"
         ],
         "component_index": 0,
         "kwargs": {
          "sele": "protein"
         },
         "methodName": "addRepresentation",
         "reconstruc_color_scheme": false,
         "target": "compList",
         "type": "call_method"
        },
        {
         "args": [
          "licorice"
         ],
         "component_index": 0,
         "kwargs": {
          "multipleBond": false,
          "radius": 0.25,
          "sele": "not water and not ion and not protein"
         },
         "methodName": "addRepresentation",
         "reconstruc_color_scheme": false,
         "target": "compList",
         "type": "call_method"
        }
       ],
       "_ngl_original_stage_parameters": {},
       "_ngl_repr_dict": {},
       "_ngl_serialize": false,
       "_ngl_version": "",
       "_ngl_view_id": [],
       "_player_dict": {},
       "_scene_position": {},
       "_scene_rotation": {},
       "_synced_model_ids": [],
       "_synced_repr_model_ids": [],
       "_view_count": null,
       "_view_height": "",
       "_view_module": "nglview-js-widgets",
       "_view_module_version": "3.0.8",
       "_view_name": "NGLView",
       "_view_width": "",
       "background": "white",
       "frame": 0,
       "gui_style": null,
       "layout": "IPY_MODEL_5794d03ec575487e85a464d192ba9fd0",
       "max_frame": 0,
       "n_components": 0,
       "picked": {},
       "tabbable": null,
       "tooltip": null
      }
     },
     "22ed3244595c44598283c57a1524a275": {
      "model_module": "@jupyter-widgets/base",
      "model_module_version": "2.0.0",
      "model_name": "LayoutModel",
      "state": {
       "_model_module": "@jupyter-widgets/base",
       "_model_module_version": "2.0.0",
       "_model_name": "LayoutModel",
       "_view_count": null,
       "_view_module": "@jupyter-widgets/base",
       "_view_module_version": "2.0.0",
       "_view_name": "LayoutView",
       "align_content": null,
       "align_items": null,
       "align_self": null,
       "border_bottom": null,
       "border_left": null,
       "border_right": null,
       "border_top": null,
       "bottom": null,
       "display": null,
       "flex": null,
       "flex_flow": null,
       "grid_area": null,
       "grid_auto_columns": null,
       "grid_auto_flow": null,
       "grid_auto_rows": null,
       "grid_column": null,
       "grid_gap": null,
       "grid_row": null,
       "grid_template_areas": null,
       "grid_template_columns": null,
       "grid_template_rows": null,
       "height": null,
       "justify_content": null,
       "justify_items": null,
       "left": null,
       "margin": null,
       "max_height": null,
       "max_width": null,
       "min_height": null,
       "min_width": null,
       "object_fit": null,
       "object_position": null,
       "order": null,
       "overflow": null,
       "padding": null,
       "right": null,
       "top": null,
       "visibility": null,
       "width": null
      }
     },
     "243e4d2513ac4ae492c6383a3df2d67e": {
      "model_module": "@jupyter-widgets/base",
      "model_module_version": "2.0.0",
      "model_name": "LayoutModel",
      "state": {
       "_model_module": "@jupyter-widgets/base",
       "_model_module_version": "2.0.0",
       "_model_name": "LayoutModel",
       "_view_count": null,
       "_view_module": "@jupyter-widgets/base",
       "_view_module_version": "2.0.0",
       "_view_name": "LayoutView",
       "align_content": null,
       "align_items": null,
       "align_self": null,
       "border_bottom": null,
       "border_left": null,
       "border_right": null,
       "border_top": null,
       "bottom": null,
       "display": null,
       "flex": null,
       "flex_flow": null,
       "grid_area": null,
       "grid_auto_columns": null,
       "grid_auto_flow": null,
       "grid_auto_rows": null,
       "grid_column": null,
       "grid_gap": null,
       "grid_row": null,
       "grid_template_areas": null,
       "grid_template_columns": null,
       "grid_template_rows": null,
       "height": null,
       "justify_content": null,
       "justify_items": null,
       "left": null,
       "margin": null,
       "max_height": null,
       "max_width": null,
       "min_height": null,
       "min_width": null,
       "object_fit": null,
       "object_position": null,
       "order": null,
       "overflow": null,
       "padding": null,
       "right": null,
       "top": null,
       "visibility": null,
       "width": "34px"
      }
     },
     "2a2cbc904dcb4d4c95d79e30820f825b": {
      "model_module": "@jupyter-widgets/controls",
      "model_module_version": "2.0.0",
      "model_name": "HBoxModel",
      "state": {
       "_dom_classes": [],
       "_model_module": "@jupyter-widgets/controls",
       "_model_module_version": "2.0.0",
       "_model_name": "HBoxModel",
       "_view_count": null,
       "_view_module": "@jupyter-widgets/controls",
       "_view_module_version": "2.0.0",
       "_view_name": "HBoxView",
       "box_style": "",
       "children": [
        "IPY_MODEL_a7e907f5caec44b28b54902266c007bf",
        "IPY_MODEL_ffa0ad4b5ad24a8c8729dba0e8f7de9c"
       ],
       "layout": "IPY_MODEL_77fe7fa58ae64cf087bab65f16f25a2e",
       "tabbable": null,
       "tooltip": null
      }
     },
     "2ac34b7ce69648679308379dbc4477e8": {
      "model_module": "@jupyter-widgets/base",
      "model_module_version": "2.0.0",
      "model_name": "LayoutModel",
      "state": {
       "_model_module": "@jupyter-widgets/base",
       "_model_module_version": "2.0.0",
       "_model_name": "LayoutModel",
       "_view_count": null,
       "_view_module": "@jupyter-widgets/base",
       "_view_module_version": "2.0.0",
       "_view_name": "LayoutView",
       "align_content": null,
       "align_items": null,
       "align_self": null,
       "border_bottom": null,
       "border_left": null,
       "border_right": null,
       "border_top": null,
       "bottom": null,
       "display": null,
       "flex": null,
       "flex_flow": null,
       "grid_area": null,
       "grid_auto_columns": null,
       "grid_auto_flow": null,
       "grid_auto_rows": null,
       "grid_column": null,
       "grid_gap": null,
       "grid_row": null,
       "grid_template_areas": null,
       "grid_template_columns": null,
       "grid_template_rows": null,
       "height": null,
       "justify_content": null,
       "justify_items": null,
       "left": null,
       "margin": null,
       "max_height": null,
       "max_width": null,
       "min_height": null,
       "min_width": null,
       "object_fit": null,
       "object_position": null,
       "order": null,
       "overflow": null,
       "padding": null,
       "right": null,
       "top": null,
       "visibility": null,
       "width": null
      }
     },
     "41ce0659b05b47baa9b4ff94f9c0e438": {
      "model_module": "@jupyter-widgets/controls",
      "model_module_version": "2.0.0",
      "model_name": "LinkModel",
      "state": {
       "_model_module": "@jupyter-widgets/controls",
       "_model_module_version": "2.0.0",
       "_model_name": "LinkModel",
       "_view_count": null,
       "_view_module": "@jupyter-widgets/controls",
       "_view_module_version": "2.0.0",
       "_view_name": null,
       "source": [
        "IPY_MODEL_a7e907f5caec44b28b54902266c007bf",
        "value"
       ],
       "target": [
        "IPY_MODEL_ffa0ad4b5ad24a8c8729dba0e8f7de9c",
        "value"
       ]
      }
     },
     "49bbb638de954d40a85136af38c52f11": {
      "model_module": "@jupyter-widgets/controls",
      "model_module_version": "2.0.0",
      "model_name": "HBoxModel",
      "state": {
       "_dom_classes": [],
       "_model_module": "@jupyter-widgets/controls",
       "_model_module_version": "2.0.0",
       "_model_name": "HBoxModel",
       "_view_count": null,
       "_view_module": "@jupyter-widgets/controls",
       "_view_module_version": "2.0.0",
       "_view_name": "HBoxView",
       "box_style": "",
       "children": [
        "IPY_MODEL_57f419131c25471e9d76a12db975767c",
        "IPY_MODEL_6882e07abe8646e8890b87a61f51a48f"
       ],
       "layout": "IPY_MODEL_fb524685d819439ca3a7891b35b9285d",
       "tabbable": null,
       "tooltip": null
      }
     },
     "505f122e790a499c853b713dc1461cf4": {
      "model_module": "@jupyter-widgets/base",
      "model_module_version": "2.0.0",
      "model_name": "LayoutModel",
      "state": {
       "_model_module": "@jupyter-widgets/base",
       "_model_module_version": "2.0.0",
       "_model_name": "LayoutModel",
       "_view_count": null,
       "_view_module": "@jupyter-widgets/base",
       "_view_module_version": "2.0.0",
       "_view_name": "LayoutView",
       "align_content": null,
       "align_items": null,
       "align_self": null,
       "border_bottom": null,
       "border_left": null,
       "border_right": null,
       "border_top": null,
       "bottom": null,
       "display": null,
       "flex": null,
       "flex_flow": null,
       "grid_area": null,
       "grid_auto_columns": null,
       "grid_auto_flow": null,
       "grid_auto_rows": null,
       "grid_column": null,
       "grid_gap": null,
       "grid_row": null,
       "grid_template_areas": null,
       "grid_template_columns": null,
       "grid_template_rows": null,
       "height": null,
       "justify_content": null,
       "justify_items": null,
       "left": null,
       "margin": null,
       "max_height": null,
       "max_width": null,
       "min_height": null,
       "min_width": null,
       "object_fit": null,
       "object_position": null,
       "order": null,
       "overflow": null,
       "padding": null,
       "right": null,
       "top": null,
       "visibility": null,
       "width": null
      }
     },
     "5794d03ec575487e85a464d192ba9fd0": {
      "model_module": "@jupyter-widgets/base",
      "model_module_version": "2.0.0",
      "model_name": "LayoutModel",
      "state": {
       "_model_module": "@jupyter-widgets/base",
       "_model_module_version": "2.0.0",
       "_model_name": "LayoutModel",
       "_view_count": null,
       "_view_module": "@jupyter-widgets/base",
       "_view_module_version": "2.0.0",
       "_view_name": "LayoutView",
       "align_content": null,
       "align_items": null,
       "align_self": null,
       "border_bottom": null,
       "border_left": null,
       "border_right": null,
       "border_top": null,
       "bottom": null,
       "display": null,
       "flex": null,
       "flex_flow": null,
       "grid_area": null,
       "grid_auto_columns": null,
       "grid_auto_flow": null,
       "grid_auto_rows": null,
       "grid_column": null,
       "grid_gap": null,
       "grid_row": null,
       "grid_template_areas": null,
       "grid_template_columns": null,
       "grid_template_rows": null,
       "height": null,
       "justify_content": null,
       "justify_items": null,
       "left": null,
       "margin": null,
       "max_height": null,
       "max_width": null,
       "min_height": null,
       "min_width": null,
       "object_fit": null,
       "object_position": null,
       "order": null,
       "overflow": null,
       "padding": null,
       "right": null,
       "top": null,
       "visibility": null,
       "width": null
      }
     },
     "57f419131c25471e9d76a12db975767c": {
      "model_module": "@jupyter-widgets/controls",
      "model_module_version": "2.0.0",
      "model_name": "PlayModel",
      "state": {
       "_dom_classes": [],
       "_model_module": "@jupyter-widgets/controls",
       "_model_module_version": "2.0.0",
       "_model_name": "PlayModel",
       "_view_count": null,
       "_view_module": "@jupyter-widgets/controls",
       "_view_module_version": "2.0.0",
       "_view_name": "PlayView",
       "description": "",
       "description_allow_html": false,
       "disabled": false,
       "interval": 100,
       "layout": "IPY_MODEL_f8b0548f4cc547018d1408f68a5ebda9",
       "max": 2,
       "min": 0,
       "playing": false,
       "repeat": false,
       "show_repeat": true,
       "step": 1,
       "style": "IPY_MODEL_c0745626200e4bb0b2061d4efc49cba1",
       "tabbable": null,
       "tooltip": null,
       "value": 0
      }
     },
     "5a27d41280e04a65940ab81dbc612903": {
      "model_module": "@jupyter-widgets/controls",
      "model_module_version": "2.0.0",
      "model_name": "LinkModel",
      "state": {
       "_model_module": "@jupyter-widgets/controls",
       "_model_module_version": "2.0.0",
       "_model_name": "LinkModel",
       "_view_count": null,
       "_view_module": "@jupyter-widgets/controls",
       "_view_module_version": "2.0.0",
       "_view_name": null,
       "source": [
        "IPY_MODEL_a7e907f5caec44b28b54902266c007bf",
        "max"
       ],
       "target": [
        "IPY_MODEL_1d901490161441b4a23a2690512a1bb2",
        "max_frame"
       ]
      }
     },
     "5a4e506e58a84acc85d1d27af24dd4c5": {
      "model_module": "@jupyter-widgets/controls",
      "model_module_version": "2.0.0",
      "model_name": "DescriptionStyleModel",
      "state": {
       "_model_module": "@jupyter-widgets/controls",
       "_model_module_version": "2.0.0",
       "_model_name": "DescriptionStyleModel",
       "_view_count": null,
       "_view_module": "@jupyter-widgets/base",
       "_view_module_version": "2.0.0",
       "_view_name": "StyleView",
       "description_width": ""
      }
     },
     "5be100316e374a48b79a94ea246dde8c": {
      "model_module": "@jupyter-widgets/controls",
      "model_module_version": "2.0.0",
      "model_name": "SliderStyleModel",
      "state": {
       "_model_module": "@jupyter-widgets/controls",
       "_model_module_version": "2.0.0",
       "_model_name": "SliderStyleModel",
       "_view_count": null,
       "_view_module": "@jupyter-widgets/base",
       "_view_module_version": "2.0.0",
       "_view_name": "StyleView",
       "description_width": "",
       "handle_color": null
      }
     },
     "626f684cffb4455d9dd02c8affd47d78": {
      "buffers": [
       {
        "data": "",
        "encoding": "base64",
        "path": [
         "value"
        ]
       }
      ],
      "model_module": "@jupyter-widgets/controls",
      "model_module_version": "2.0.0",
      "model_name": "ImageModel",
      "state": {
       "_dom_classes": [],
       "_model_module": "@jupyter-widgets/controls",
       "_model_module_version": "2.0.0",
       "_model_name": "ImageModel",
       "_view_count": null,
       "_view_module": "@jupyter-widgets/controls",
       "_view_module_version": "2.0.0",
       "_view_name": "ImageView",
       "format": "png",
       "height": "",
       "layout": "IPY_MODEL_c26a8260de4342ac93c08ab0c6fcab6f",
       "tabbable": null,
       "tooltip": null,
       "width": "900.0"
      }
     },
     "66f325a04cb44a4297eff4f65a036fc2": {
      "model_module": "nglview-js-widgets",
      "model_module_version": "3.0.8",
      "model_name": "ColormakerRegistryModel",
      "state": {
       "_dom_classes": [],
       "_model_module": "nglview-js-widgets",
       "_model_module_version": "3.0.8",
       "_model_name": "ColormakerRegistryModel",
       "_msg_ar": [],
       "_msg_q": [],
       "_ready": false,
       "_view_count": null,
       "_view_module": "nglview-js-widgets",
       "_view_module_version": "3.0.8",
       "_view_name": "ColormakerRegistryView",
       "layout": "IPY_MODEL_b99bf04da58840bd97821ed2d013c570",
       "tabbable": null,
       "tooltip": null
      }
     },
     "67c3043ef6a44c6daf4eaed0f0f8b248": {
      "model_module": "@jupyter-widgets/controls",
      "model_module_version": "2.0.0",
      "model_name": "LinkModel",
      "state": {
       "_model_module": "@jupyter-widgets/controls",
       "_model_module_version": "2.0.0",
       "_model_name": "LinkModel",
       "_view_count": null,
       "_view_module": "@jupyter-widgets/controls",
       "_view_module_version": "2.0.0",
       "_view_name": null,
       "source": [
        "IPY_MODEL_57f419131c25471e9d76a12db975767c",
        "max"
       ],
       "target": [
        "IPY_MODEL_8e0644db8d974bb59c057be91c4d5ac5",
        "max_frame"
       ]
      }
     },
     "6882e07abe8646e8890b87a61f51a48f": {
      "model_module": "@jupyter-widgets/controls",
      "model_module_version": "2.0.0",
      "model_name": "IntSliderModel",
      "state": {
       "_dom_classes": [],
       "_model_module": "@jupyter-widgets/controls",
       "_model_module_version": "2.0.0",
       "_model_name": "IntSliderModel",
       "_view_count": null,
       "_view_module": "@jupyter-widgets/controls",
       "_view_module_version": "2.0.0",
       "_view_name": "IntSliderView",
       "behavior": "drag-tap",
       "continuous_update": true,
       "description": "",
       "description_allow_html": false,
       "disabled": false,
       "layout": "IPY_MODEL_22ed3244595c44598283c57a1524a275",
       "max": 2,
       "min": 0,
       "orientation": "horizontal",
       "readout": true,
       "readout_format": "d",
       "step": 1,
       "style": "IPY_MODEL_abcbc3344e774d63a7b54f942fc3c948",
       "tabbable": null,
       "tooltip": null,
       "value": 0
      }
     },
     "6e43a9a7a12c46aa8b982f113f7bff9d": {
      "model_module": "@jupyter-widgets/controls",
      "model_module_version": "2.0.0",
      "model_name": "LinkModel",
      "state": {
       "_model_module": "@jupyter-widgets/controls",
       "_model_module_version": "2.0.0",
       "_model_name": "LinkModel",
       "_view_count": null,
       "_view_module": "@jupyter-widgets/controls",
       "_view_module_version": "2.0.0",
       "_view_name": null,
       "source": [
        "IPY_MODEL_57f419131c25471e9d76a12db975767c",
        "value"
       ],
       "target": [
        "IPY_MODEL_6882e07abe8646e8890b87a61f51a48f",
        "value"
       ]
      }
     },
     "77fe7fa58ae64cf087bab65f16f25a2e": {
      "model_module": "@jupyter-widgets/base",
      "model_module_version": "2.0.0",
      "model_name": "LayoutModel",
      "state": {
       "_model_module": "@jupyter-widgets/base",
       "_model_module_version": "2.0.0",
       "_model_name": "LayoutModel",
       "_view_count": null,
       "_view_module": "@jupyter-widgets/base",
       "_view_module_version": "2.0.0",
       "_view_name": "LayoutView",
       "align_content": null,
       "align_items": null,
       "align_self": null,
       "border_bottom": null,
       "border_left": null,
       "border_right": null,
       "border_top": null,
       "bottom": null,
       "display": null,
       "flex": null,
       "flex_flow": null,
       "grid_area": null,
       "grid_auto_columns": null,
       "grid_auto_flow": null,
       "grid_auto_rows": null,
       "grid_column": null,
       "grid_gap": null,
       "grid_row": null,
       "grid_template_areas": null,
       "grid_template_columns": null,
       "grid_template_rows": null,
       "height": null,
       "justify_content": null,
       "justify_items": null,
       "left": null,
       "margin": null,
       "max_height": null,
       "max_width": null,
       "min_height": null,
       "min_width": null,
       "object_fit": null,
       "object_position": null,
       "order": null,
       "overflow": null,
       "padding": null,
       "right": null,
       "top": null,
       "visibility": null,
       "width": null
      }
     },
     "837774105f134d6e80f59c343f005b8d": {
      "model_module": "@jupyter-widgets/controls",
      "model_module_version": "2.0.0",
      "model_name": "ButtonStyleModel",
      "state": {
       "_model_module": "@jupyter-widgets/controls",
       "_model_module_version": "2.0.0",
       "_model_name": "ButtonStyleModel",
       "_view_count": null,
       "_view_module": "@jupyter-widgets/base",
       "_view_module_version": "2.0.0",
       "_view_name": "StyleView",
       "button_color": null,
       "font_family": null,
       "font_size": null,
       "font_style": null,
       "font_variant": null,
       "font_weight": null,
       "text_color": null,
       "text_decoration": null
      }
     },
     "862b4db0452248f2aec21acbc7712913": {
      "model_module": "@jupyter-widgets/controls",
      "model_module_version": "2.0.0",
      "model_name": "LinkModel",
      "state": {
       "_model_module": "@jupyter-widgets/controls",
       "_model_module_version": "2.0.0",
       "_model_name": "LinkModel",
       "_view_count": null,
       "_view_module": "@jupyter-widgets/controls",
       "_view_module_version": "2.0.0",
       "_view_name": null,
       "source": [
        "IPY_MODEL_a7e907f5caec44b28b54902266c007bf",
        "value"
       ],
       "target": [
        "IPY_MODEL_1d901490161441b4a23a2690512a1bb2",
        "frame"
       ]
      }
     },
     "8e0644db8d974bb59c057be91c4d5ac5": {
      "model_module": "nglview-js-widgets",
      "model_module_version": "3.0.8",
      "model_name": "NGLModel",
      "state": {
       "_camera_orientation": [],
       "_camera_str": "orthographic",
       "_dom_classes": [],
       "_gui_theme": null,
       "_ibtn_fullscreen": "IPY_MODEL_00ef92c094bc4ca4b2f135b5d83cb202",
       "_igui": null,
       "_iplayer": "IPY_MODEL_49bbb638de954d40a85136af38c52f11",
       "_model_module": "nglview-js-widgets",
       "_model_module_version": "3.0.8",
       "_model_name": "NGLModel",
       "_ngl_color_dict": {},
       "_ngl_coordinate_resource": {},
       "_ngl_full_stage_parameters": {},
       "_ngl_msg_archive": [
        {
         "args": [
          {
           "binary": false,
           "data": "MODEL        1\nHETATM    1  O1  UNL     1      -1.715   2.432   0.084  1.00  0.00           O  \nHETATM    2  C1  UNL     1      -2.296   1.326   0.111  1.00  0.00           C  \nHETATM    3  N1  UNL     1      -3.421   1.177   0.962  1.00  0.00           N  \nHETATM    4  C2  UNL     1      -4.176  -0.057   0.974  1.00  0.00           C  \nHETATM    5  O2  UNL     1      -5.051  -0.281   1.842  1.00  0.00           O  \nHETATM    6  C3  UNL     1      -3.825  -1.007  -0.110  1.00  0.00           C  \nHETATM    7  C4  UNL     1      -2.359  -1.107  -0.378  1.00  0.00           C  \nHETATM    8  C5  UNL     1      -1.780   0.238  -0.745  1.00  0.00           C  \nHETATM    9  N2  UNL     1      -0.314   0.201  -0.646  1.00  0.00           N  \nHETATM   10  C6  UNL     1       0.621   0.408  -1.695  1.00  0.00           C  \nHETATM   11  O3  UNL     1       0.305   0.659  -2.886  1.00  0.00           O  \nHETATM   12  C7  UNL     1       1.993   0.294  -1.220  1.00  0.00           C  \nHETATM   13  C8  UNL     1       3.242   0.405  -1.823  1.00  0.00           C  \nHETATM   14  C9  UNL     1       4.408   0.243  -1.106  1.00  0.00           C  \nHETATM   15  C10 UNL     1       4.280  -0.034   0.238  1.00  0.00           C  \nHETATM   16  C11 UNL     1       3.052  -0.147   0.851  1.00  0.00           C  \nHETATM   17  C12 UNL     1       1.882   0.016   0.126  1.00  0.00           C  \nHETATM   18  C13 UNL     1       0.470  -0.054   0.543  1.00  0.00           C  \nHETATM   19  N3  UNL     1       2.945  -0.438   2.258  1.00  0.00           N  \nHETATM   20  H1  UNL     1      -3.721   1.961   1.596  1.00  0.00           H  \nHETATM   21  H2  UNL     1      -4.161  -2.020   0.255  1.00  0.00           H  \nHETATM   22  H3  UNL     1      -4.410  -0.723  -1.019  1.00  0.00           H  \nHETATM   23  H4  UNL     1      -1.870  -1.505   0.526  1.00  0.00           H  \nHETATM   24  H5  UNL     1      -2.227  -1.763  -1.261  1.00  0.00           H  \nHETATM   25  H6  UNL     1      -2.094   0.457  -1.784  1.00  0.00           H  \nHETATM   26  H7  UNL     1       3.301   0.622  -2.874  1.00  0.00           H  \nHETATM   27  H8  UNL     1       5.401   0.318  -1.523  1.00  0.00           H  \nHETATM   28  H9  UNL     1       5.173  -0.174   0.865  1.00  0.00           H  \nHETATM   29  H10 UNL     1       0.240   0.702   1.341  1.00  0.00           H  \nHETATM   30  H11 UNL     1       0.227  -1.043   1.002  1.00  0.00           H  \nHETATM   31  H12 UNL     1       2.113  -0.193   2.810  1.00  0.00           H  \nHETATM   32  H13 UNL     1       3.765  -0.913   2.686  1.00  0.00           H  \nCONECT    1    2    2\nCONECT    2    3    8\nCONECT    3    4   20\nCONECT    4    5    5    6\nCONECT    6    7   21   22\nCONECT    7    8   23   24\nCONECT    8    9   25\nCONECT    9   10   18\nCONECT   10   11   11   12\nCONECT   12   13   13   17\nCONECT   13   14   26\nCONECT   14   15   15   27\nCONECT   15   16   28\nCONECT   16   17   17   19\nCONECT   17   18\nCONECT   18   29   30\nCONECT   19   31   32\nENDMDL\nMODEL        2\nHETATM    1  O1  UNL     1       1.405   0.489   2.219  1.00  0.00           O  \nHETATM    2  C1  UNL     1       2.216   0.399   1.269  1.00  0.00           C  \nHETATM    3  N1  UNL     1       3.628   0.351   1.465  1.00  0.00           N  \nHETATM    4  C2  UNL     1       4.392  -0.263   0.434  1.00  0.00           C  \nHETATM    5  O2  UNL     1       5.604   0.060   0.318  1.00  0.00           O  \nHETATM    6  C3  UNL     1       3.719  -1.251  -0.446  1.00  0.00           C  \nHETATM    7  C4  UNL     1       2.348  -0.865  -0.876  1.00  0.00           C  \nHETATM    8  C5  UNL     1       1.775   0.334  -0.170  1.00  0.00           C  \nHETATM    9  N2  UNL     1       0.336   0.373  -0.227  1.00  0.00           N  \nHETATM   10  C6  UNL     1      -0.390   1.447  -0.812  1.00  0.00           C  \nHETATM   11  O3  UNL     1       0.102   2.496  -1.353  1.00  0.00           O  \nHETATM   12  C7  UNL     1      -1.799   1.181  -0.708  1.00  0.00           C  \nHETATM   13  C8  UNL     1      -2.890   1.921  -1.125  1.00  0.00           C  \nHETATM   14  C9  UNL     1      -4.158   1.478  -0.924  1.00  0.00           C  \nHETATM   15  C10 UNL     1      -4.339   0.271  -0.292  1.00  0.00           C  \nHETATM   16  C11 UNL     1      -3.252  -0.467   0.125  1.00  0.00           C  \nHETATM   17  C12 UNL     1      -1.937  -0.034  -0.070  1.00  0.00           C  \nHETATM   18  C13 UNL     1      -0.617  -0.607   0.265  1.00  0.00           C  \nHETATM   19  N3  UNL     1      -3.430  -1.709   0.776  1.00  0.00           N  \nHETATM   20  H1  UNL     1       4.037   0.757   2.332  1.00  0.00           H  \nHETATM   21  H2  UNL     1       4.423  -1.410  -1.314  1.00  0.00           H  \nHETATM   22  H3  UNL     1       3.638  -2.223   0.119  1.00  0.00           H  \nHETATM   23  H4  UNL     1       1.659  -1.734  -0.842  1.00  0.00           H  \nHETATM   24  H5  UNL     1       2.402  -0.586  -1.969  1.00  0.00           H  \nHETATM   25  H6  UNL     1       2.187   1.244  -0.640  1.00  0.00           H  \nHETATM   26  H7  UNL     1      -2.740   2.880  -1.628  1.00  0.00           H  \nHETATM   27  H8  UNL     1      -4.982   2.097  -1.271  1.00  0.00           H  \nHETATM   28  H9  UNL     1      -5.363  -0.083  -0.131  1.00  0.00           H  \nHETATM   29  H10 UNL     1      -0.521  -0.659   1.366  1.00  0.00           H  \nHETATM   30  H11 UNL     1      -0.454  -1.608  -0.177  1.00  0.00           H  \nHETATM   31  H12 UNL     1      -3.296  -2.612   0.270  1.00  0.00           H  \nHETATM   32  H13 UNL     1      -3.704  -1.667   1.795  1.00  0.00           H  \nCONECT    1    2    2\nCONECT    2    3    8\nCONECT    3    4   20\nCONECT    4    5    5    6\nCONECT    6    7   21   22\nCONECT    7    8   23   24\nCONECT    8    9   25\nCONECT    9   10   18\nCONECT   10   11   11   12\nCONECT   12   13   13   17\nCONECT   13   14   26\nCONECT   14   15   15   27\nCONECT   15   16   28\nCONECT   16   17   17   19\nCONECT   17   18\nCONECT   18   29   30\nCONECT   19   31   32\nENDMDL\nMODEL        3\nHETATM    1  O1  UNL     1      -2.024  -0.722   2.810  1.00  0.00           O  \nHETATM    2  C1  UNL     1      -2.218  -0.170   1.693  1.00  0.00           C  \nHETATM    3  N1  UNL     1      -2.906   1.068   1.608  1.00  0.00           N  \nHETATM    4  C2  UNL     1      -3.745   1.282   0.483  1.00  0.00           C  \nHETATM    5  O2  UNL     1      -4.334   2.364   0.287  1.00  0.00           O  \nHETATM    6  C3  UNL     1      -3.906   0.163  -0.472  1.00  0.00           C  \nHETATM    7  C4  UNL     1      -2.625  -0.550  -0.753  1.00  0.00           C  \nHETATM    8  C5  UNL     1      -1.737  -0.783   0.418  1.00  0.00           C  \nHETATM    9  N2  UNL     1      -0.369  -0.362   0.164  1.00  0.00           N  \nHETATM   10  C6  UNL     1       0.044   0.980  -0.141  1.00  0.00           C  \nHETATM   11  O3  UNL     1      -0.666   2.012  -0.246  1.00  0.00           O  \nHETATM   12  C7  UNL     1       1.492   0.910  -0.313  1.00  0.00           C  \nHETATM   13  C8  UNL     1       2.451   1.879  -0.617  1.00  0.00           C  \nHETATM   14  C9  UNL     1       3.786   1.561  -0.727  1.00  0.00           C  \nHETATM   15  C10 UNL     1       4.203   0.261  -0.535  1.00  0.00           C  \nHETATM   16  C11 UNL     1       3.292  -0.729  -0.233  1.00  0.00           C  \nHETATM   17  C12 UNL     1       1.944  -0.373  -0.128  1.00  0.00           C  \nHETATM   18  C13 UNL     1       0.780  -1.232   0.182  1.00  0.00           C  \nHETATM   19  N3  UNL     1       3.728  -2.066  -0.036  1.00  0.00           N  \nHETATM   20  H1  UNL     1      -2.782   1.781   2.364  1.00  0.00           H  \nHETATM   21  H2  UNL     1      -4.384   0.480  -1.407  1.00  0.00           H  \nHETATM   22  H3  UNL     1      -4.618  -0.578  -0.006  1.00  0.00           H  \nHETATM   23  H4  UNL     1      -2.902  -1.533  -1.231  1.00  0.00           H  \nHETATM   24  H5  UNL     1      -2.055  -0.020  -1.573  1.00  0.00           H  \nHETATM   25  H6  UNL     1      -1.691  -1.895   0.621  1.00  0.00           H  \nHETATM   26  H7  UNL     1       2.081   2.883  -0.759  1.00  0.00           H  \nHETATM   27  H8  UNL     1       4.503   2.328  -0.963  1.00  0.00           H  \nHETATM   28  H9  UNL     1       5.252   0.004  -0.620  1.00  0.00           H  \nHETATM   29  H10 UNL     1       0.914  -1.752   1.151  1.00  0.00           H  \nHETATM   30  H11 UNL     1       0.697  -2.041  -0.594  1.00  0.00           H  \nHETATM   31  H12 UNL     1       3.113  -2.876  -0.250  1.00  0.00           H  \nHETATM   32  H13 UNL     1       4.683  -2.276   0.331  1.00  0.00           H  \nCONECT    1    2    2\nCONECT    2    3    8\nCONECT    3    4   20\nCONECT    4    5    5    6\nCONECT    6    7   21   22\nCONECT    7    8   23   24\nCONECT    8    9   25\nCONECT    9   10   18\nCONECT   10   11   11   12\nCONECT   12   13   13   17\nCONECT   13   14   26\nCONECT   14   15   15   27\nCONECT   15   16   28\nCONECT   16   17   17   19\nCONECT   17   18\nCONECT   18   29   30\nCONECT   19   31   32\nENDMDL\n",
           "type": "blob"
          }
         ],
         "kwargs": {
          "defaultRepresentation": true,
          "ext": "pdb",
          "name": "<openff.toolkit.utils.viz._OFFTrajectoryNGLView object at 0x143337250>"
         },
         "methodName": "loadFile",
         "reconstruc_color_scheme": false,
         "target": "Stage",
         "type": "call_method"
        }
       ],
       "_ngl_original_stage_parameters": {},
       "_ngl_repr_dict": {},
       "_ngl_serialize": false,
       "_ngl_version": "",
       "_ngl_view_id": [],
       "_player_dict": {},
       "_scene_position": {},
       "_scene_rotation": {},
       "_synced_model_ids": [],
       "_synced_repr_model_ids": [],
       "_view_count": null,
       "_view_height": "",
       "_view_module": "nglview-js-widgets",
       "_view_module_version": "3.0.8",
       "_view_name": "NGLView",
       "_view_width": "",
       "background": "white",
       "frame": 0,
       "gui_style": null,
       "layout": "IPY_MODEL_505f122e790a499c853b713dc1461cf4",
       "max_frame": 2,
       "n_components": 0,
       "picked": {},
       "tabbable": null,
       "tooltip": null
      }
     },
     "91328c02c6d44989b6f1398699e6e2c8": {
      "model_module": "@jupyter-widgets/base",
      "model_module_version": "2.0.0",
      "model_name": "LayoutModel",
      "state": {
       "_model_module": "@jupyter-widgets/base",
       "_model_module_version": "2.0.0",
       "_model_name": "LayoutModel",
       "_view_count": null,
       "_view_module": "@jupyter-widgets/base",
       "_view_module_version": "2.0.0",
       "_view_name": "LayoutView",
       "align_content": null,
       "align_items": null,
       "align_self": null,
       "border_bottom": null,
       "border_left": null,
       "border_right": null,
       "border_top": null,
       "bottom": null,
       "display": null,
       "flex": null,
       "flex_flow": null,
       "grid_area": null,
       "grid_auto_columns": null,
       "grid_auto_flow": null,
       "grid_auto_rows": null,
       "grid_column": null,
       "grid_gap": null,
       "grid_row": null,
       "grid_template_areas": null,
       "grid_template_columns": null,
       "grid_template_rows": null,
       "height": null,
       "justify_content": null,
       "justify_items": null,
       "left": null,
       "margin": null,
       "max_height": null,
       "max_width": null,
       "min_height": null,
       "min_width": null,
       "object_fit": null,
       "object_position": null,
       "order": null,
       "overflow": null,
       "padding": null,
       "right": null,
       "top": null,
       "visibility": null,
       "width": "34px"
      }
     },
     "9e9237034dc74f0e92e730c9785fef70": {
      "model_module": "@jupyter-widgets/controls",
      "model_module_version": "2.0.0",
      "model_name": "LinkModel",
      "state": {
       "_model_module": "@jupyter-widgets/controls",
       "_model_module_version": "2.0.0",
       "_model_name": "LinkModel",
       "_view_count": null,
       "_view_module": "@jupyter-widgets/controls",
       "_view_module_version": "2.0.0",
       "_view_name": null,
       "source": [
        "IPY_MODEL_6882e07abe8646e8890b87a61f51a48f",
        "max"
       ],
       "target": [
        "IPY_MODEL_8e0644db8d974bb59c057be91c4d5ac5",
        "max_frame"
       ]
      }
     },
     "a7e907f5caec44b28b54902266c007bf": {
      "model_module": "@jupyter-widgets/controls",
      "model_module_version": "2.0.0",
      "model_name": "PlayModel",
      "state": {
       "_dom_classes": [],
       "_model_module": "@jupyter-widgets/controls",
       "_model_module_version": "2.0.0",
       "_model_name": "PlayModel",
       "_view_count": null,
       "_view_module": "@jupyter-widgets/controls",
       "_view_module_version": "2.0.0",
       "_view_name": "PlayView",
       "description": "",
       "description_allow_html": false,
       "disabled": false,
       "interval": 100,
       "layout": "IPY_MODEL_07f8d50de9e348219663e87213eeccce",
       "max": 0,
       "min": 0,
       "playing": false,
       "repeat": false,
       "show_repeat": true,
       "step": 1,
       "style": "IPY_MODEL_5a4e506e58a84acc85d1d27af24dd4c5",
       "tabbable": null,
       "tooltip": null,
       "value": 0
      }
     },
     "abcbc3344e774d63a7b54f942fc3c948": {
      "model_module": "@jupyter-widgets/controls",
      "model_module_version": "2.0.0",
      "model_name": "SliderStyleModel",
      "state": {
       "_model_module": "@jupyter-widgets/controls",
       "_model_module_version": "2.0.0",
       "_model_name": "SliderStyleModel",
       "_view_count": null,
       "_view_module": "@jupyter-widgets/base",
       "_view_module_version": "2.0.0",
       "_view_name": "StyleView",
       "description_width": "",
       "handle_color": null
      }
     },
     "ae2af4e79ffe4ca8bba9220d31a0810b": {
      "model_module": "@jupyter-widgets/controls",
      "model_module_version": "2.0.0",
      "model_name": "ButtonStyleModel",
      "state": {
       "_model_module": "@jupyter-widgets/controls",
       "_model_module_version": "2.0.0",
       "_model_name": "ButtonStyleModel",
       "_view_count": null,
       "_view_module": "@jupyter-widgets/base",
       "_view_module_version": "2.0.0",
       "_view_name": "StyleView",
       "button_color": null,
       "font_family": null,
       "font_size": null,
       "font_style": null,
       "font_variant": null,
       "font_weight": null,
       "text_color": null,
       "text_decoration": null
      }
     },
     "b99bf04da58840bd97821ed2d013c570": {
      "model_module": "@jupyter-widgets/base",
      "model_module_version": "2.0.0",
      "model_name": "LayoutModel",
      "state": {
       "_model_module": "@jupyter-widgets/base",
       "_model_module_version": "2.0.0",
       "_model_name": "LayoutModel",
       "_view_count": null,
       "_view_module": "@jupyter-widgets/base",
       "_view_module_version": "2.0.0",
       "_view_name": "LayoutView",
       "align_content": null,
       "align_items": null,
       "align_self": null,
       "border_bottom": null,
       "border_left": null,
       "border_right": null,
       "border_top": null,
       "bottom": null,
       "display": null,
       "flex": null,
       "flex_flow": null,
       "grid_area": null,
       "grid_auto_columns": null,
       "grid_auto_flow": null,
       "grid_auto_rows": null,
       "grid_column": null,
       "grid_gap": null,
       "grid_row": null,
       "grid_template_areas": null,
       "grid_template_columns": null,
       "grid_template_rows": null,
       "height": null,
       "justify_content": null,
       "justify_items": null,
       "left": null,
       "margin": null,
       "max_height": null,
       "max_width": null,
       "min_height": null,
       "min_width": null,
       "object_fit": null,
       "object_position": null,
       "order": null,
       "overflow": null,
       "padding": null,
       "right": null,
       "top": null,
       "visibility": null,
       "width": null
      }
     },
     "c0745626200e4bb0b2061d4efc49cba1": {
      "model_module": "@jupyter-widgets/controls",
      "model_module_version": "2.0.0",
      "model_name": "DescriptionStyleModel",
      "state": {
       "_model_module": "@jupyter-widgets/controls",
       "_model_module_version": "2.0.0",
       "_model_name": "DescriptionStyleModel",
       "_view_count": null,
       "_view_module": "@jupyter-widgets/base",
       "_view_module_version": "2.0.0",
       "_view_name": "StyleView",
       "description_width": ""
      }
     },
     "c150692c08fc4bccb371659b0de9a8b6": {
      "model_module": "@jupyter-widgets/controls",
      "model_module_version": "2.0.0",
      "model_name": "LinkModel",
      "state": {
       "_model_module": "@jupyter-widgets/controls",
       "_model_module_version": "2.0.0",
       "_model_name": "LinkModel",
       "_view_count": null,
       "_view_module": "@jupyter-widgets/controls",
       "_view_module_version": "2.0.0",
       "_view_name": null,
       "source": [
        "IPY_MODEL_57f419131c25471e9d76a12db975767c",
        "value"
       ],
       "target": [
        "IPY_MODEL_8e0644db8d974bb59c057be91c4d5ac5",
        "frame"
       ]
      }
     },
     "c26a8260de4342ac93c08ab0c6fcab6f": {
      "model_module": "@jupyter-widgets/base",
      "model_module_version": "2.0.0",
      "model_name": "LayoutModel",
      "state": {
       "_model_module": "@jupyter-widgets/base",
       "_model_module_version": "2.0.0",
       "_model_name": "LayoutModel",
       "_view_count": null,
       "_view_module": "@jupyter-widgets/base",
       "_view_module_version": "2.0.0",
       "_view_name": "LayoutView",
       "align_content": null,
       "align_items": null,
       "align_self": null,
       "border_bottom": null,
       "border_left": null,
       "border_right": null,
       "border_top": null,
       "bottom": null,
       "display": null,
       "flex": null,
       "flex_flow": null,
       "grid_area": null,
       "grid_auto_columns": null,
       "grid_auto_flow": null,
       "grid_auto_rows": null,
       "grid_column": null,
       "grid_gap": null,
       "grid_row": null,
       "grid_template_areas": null,
       "grid_template_columns": null,
       "grid_template_rows": null,
       "height": null,
       "justify_content": null,
       "justify_items": null,
       "left": null,
       "margin": null,
       "max_height": null,
       "max_width": null,
       "min_height": null,
       "min_width": null,
       "object_fit": null,
       "object_position": null,
       "order": null,
       "overflow": null,
       "padding": null,
       "right": null,
       "top": null,
       "visibility": null,
       "width": null
      }
     },
     "ccdaa088174242e88a9f7c45ed020848": {
      "model_module": "@jupyter-widgets/controls",
      "model_module_version": "2.0.0",
      "model_name": "ButtonModel",
      "state": {
       "_dom_classes": [],
       "_model_module": "@jupyter-widgets/controls",
       "_model_module_version": "2.0.0",
       "_model_name": "ButtonModel",
       "_view_count": null,
       "_view_module": "@jupyter-widgets/controls",
       "_view_module_version": "2.0.0",
       "_view_name": "ButtonView",
       "button_style": "",
       "description": "",
       "disabled": false,
       "icon": "compress",
       "layout": "IPY_MODEL_91328c02c6d44989b6f1398699e6e2c8",
       "style": "IPY_MODEL_ae2af4e79ffe4ca8bba9220d31a0810b",
       "tabbable": null,
       "tooltip": null
      }
     },
     "de97b17279124401a353f4f090e3fb37": {
      "model_module": "@jupyter-widgets/base",
      "model_module_version": "2.0.0",
      "model_name": "LayoutModel",
      "state": {
       "_model_module": "@jupyter-widgets/base",
       "_model_module_version": "2.0.0",
       "_model_name": "LayoutModel",
       "_view_count": null,
       "_view_module": "@jupyter-widgets/base",
       "_view_module_version": "2.0.0",
       "_view_name": "LayoutView",
       "align_content": null,
       "align_items": null,
       "align_self": null,
       "border_bottom": null,
       "border_left": null,
       "border_right": null,
       "border_top": null,
       "bottom": null,
       "display": null,
       "flex": null,
       "flex_flow": null,
       "grid_area": null,
       "grid_auto_columns": null,
       "grid_auto_flow": null,
       "grid_auto_rows": null,
       "grid_column": null,
       "grid_gap": null,
       "grid_row": null,
       "grid_template_areas": null,
       "grid_template_columns": null,
       "grid_template_rows": null,
       "height": null,
       "justify_content": null,
       "justify_items": null,
       "left": null,
       "margin": null,
       "max_height": null,
       "max_width": null,
       "min_height": null,
       "min_width": null,
       "object_fit": null,
       "object_position": null,
       "order": null,
       "overflow": null,
       "padding": null,
       "right": null,
       "top": null,
       "visibility": null,
       "width": null
      }
     },
     "f8b0548f4cc547018d1408f68a5ebda9": {
      "model_module": "@jupyter-widgets/base",
      "model_module_version": "2.0.0",
      "model_name": "LayoutModel",
      "state": {
       "_model_module": "@jupyter-widgets/base",
       "_model_module_version": "2.0.0",
       "_model_name": "LayoutModel",
       "_view_count": null,
       "_view_module": "@jupyter-widgets/base",
       "_view_module_version": "2.0.0",
       "_view_name": "LayoutView",
       "align_content": null,
       "align_items": null,
       "align_self": null,
       "border_bottom": null,
       "border_left": null,
       "border_right": null,
       "border_top": null,
       "bottom": null,
       "display": null,
       "flex": null,
       "flex_flow": null,
       "grid_area": null,
       "grid_auto_columns": null,
       "grid_auto_flow": null,
       "grid_auto_rows": null,
       "grid_column": null,
       "grid_gap": null,
       "grid_row": null,
       "grid_template_areas": null,
       "grid_template_columns": null,
       "grid_template_rows": null,
       "height": null,
       "justify_content": null,
       "justify_items": null,
       "left": null,
       "margin": null,
       "max_height": null,
       "max_width": null,
       "min_height": null,
       "min_width": null,
       "object_fit": null,
       "object_position": null,
       "order": null,
       "overflow": null,
       "padding": null,
       "right": null,
       "top": null,
       "visibility": null,
       "width": null
      }
     },
     "fb524685d819439ca3a7891b35b9285d": {
      "model_module": "@jupyter-widgets/base",
      "model_module_version": "2.0.0",
      "model_name": "LayoutModel",
      "state": {
       "_model_module": "@jupyter-widgets/base",
       "_model_module_version": "2.0.0",
       "_model_name": "LayoutModel",
       "_view_count": null,
       "_view_module": "@jupyter-widgets/base",
       "_view_module_version": "2.0.0",
       "_view_name": "LayoutView",
       "align_content": null,
       "align_items": null,
       "align_self": null,
       "border_bottom": null,
       "border_left": null,
       "border_right": null,
       "border_top": null,
       "bottom": null,
       "display": null,
       "flex": null,
       "flex_flow": null,
       "grid_area": null,
       "grid_auto_columns": null,
       "grid_auto_flow": null,
       "grid_auto_rows": null,
       "grid_column": null,
       "grid_gap": null,
       "grid_row": null,
       "grid_template_areas": null,
       "grid_template_columns": null,
       "grid_template_rows": null,
       "height": null,
       "justify_content": null,
       "justify_items": null,
       "left": null,
       "margin": null,
       "max_height": null,
       "max_width": null,
       "min_height": null,
       "min_width": null,
       "object_fit": null,
       "object_position": null,
       "order": null,
       "overflow": null,
       "padding": null,
       "right": null,
       "top": null,
       "visibility": null,
       "width": null
      }
     },
     "ffa0ad4b5ad24a8c8729dba0e8f7de9c": {
      "model_module": "@jupyter-widgets/controls",
      "model_module_version": "2.0.0",
      "model_name": "IntSliderModel",
      "state": {
       "_dom_classes": [],
       "_model_module": "@jupyter-widgets/controls",
       "_model_module_version": "2.0.0",
       "_model_name": "IntSliderModel",
       "_view_count": null,
       "_view_module": "@jupyter-widgets/controls",
       "_view_module_version": "2.0.0",
       "_view_name": "IntSliderView",
       "behavior": "drag-tap",
       "continuous_update": true,
       "description": "",
       "description_allow_html": false,
       "disabled": false,
       "layout": "IPY_MODEL_de97b17279124401a353f4f090e3fb37",
       "max": 0,
       "min": 0,
       "orientation": "horizontal",
       "readout": true,
       "readout_format": "d",
       "step": 1,
       "style": "IPY_MODEL_5be100316e374a48b79a94ea246dde8c",
       "tabbable": null,
       "tooltip": null,
       "value": 0
      }
     }
    },
    "version_major": 2,
    "version_minor": 0
   }
  }
 },
 "nbformat": 4,
 "nbformat_minor": 5
}
