{
 "cells": [
  {
   "cell_type": "markdown",
   "id": "5b311c85",
   "metadata": {},
   "source": [
    "# Cookbook: Every way to make a `Molecule`\n",
    "\n",
    "_Author: Josh A. Mitchell"
   ]
  },
  {
   "cell_type": "markdown",
   "id": "05bf5732",
   "metadata": {},
   "source": [
    "Every pathway through the OpenFF Toolkit boils down to four steps:\n",
    "\n",
    "1. Using other tools, assemble a graph of a molecule, including all of its atoms, bonds, bond orders, formal charges, and stereochemistry[^rs]\n",
    "2. Use that information to construct a [`Molecule`](openff.toolkit.topology.Molecule)\n",
    "3. Combine a number of `Molecule` objects to construct a [`Topology`](openff.toolkit.topology.Topology)\n",
    "4. Call [`ForceField.create_openmm_system(topology)`](openff.toolkit.typing.engines.smirnoff.ForceField.create_openmm_system) to create an OpenMM [`System`](openmm.openmm.System) (or an [`Interchange`](https://github.com/openforcefield/openff-interchange) for painless conversion to other MD formats)\n",
    "\n",
    "So let's take a look at every way there is to construct a molecule! We'll use zwitterionic L-alanine as an example biomolecule with all the tricky bits - a stereocenter, non-zero formal charges, and bonds of different orders.\n",
    "\n",
    "[^rs]: Note that this stereochemistry must be defined on the *graph* of the molecule. It's not good enough to just co-ordinates with the correct stereochemistry. But if you have the co-ordinates, you can try getting the stereochemistry automatically with `rdkit` or `openeye` --- If you dare!"
   ]
  },
  {
   "cell_type": "code",
   "execution_count": 1,
   "id": "0a3d1e21",
   "metadata": {
    "execution": {
     "iopub.execute_input": "2023-09-27T14:43:59.696910Z",
     "iopub.status.busy": "2023-09-27T14:43:59.695710Z",
     "iopub.status.idle": "2023-09-27T14:44:01.726983Z",
     "shell.execute_reply": "2023-09-27T14:44:01.726286Z"
    },
    "tags": [
     "remove-stderr",
     "remove-input",
     "remove-stdout"
    ]
   },
   "outputs": [],
   "source": [
    "# Hide tracebacks for simpler errors\n",
    "import sys\n",
    "from collections import Counter\n",
    "\n",
    "from openff.toolkit import Molecule, Topology\n",
    "\n",
    "ipython = get_ipython()\n",
    "\n",
    "\n",
    "def hide_traceback(\n",
    "    exc_tuple=None,\n",
    "    filename=None,\n",
    "    tb_offset=None,\n",
    "    exception_only=False,\n",
    "    running_compiled_code=False,\n",
    "):\n",
    "    etype, value, tb = sys.exc_info()\n",
    "    value.__cause__ = None  # suppress chained exceptions\n",
    "    return ipython._showtraceback(\n",
    "        etype, value, ipython.InteractiveTB.get_exception_only(etype, value)\n",
    "    )\n",
    "\n",
    "\n",
    "ipython.showtraceback = hide_traceback\n",
    "\n",
    "# import warnings\n",
    "# warnings.filterwarnings('ignore', r'The value of the smallest subnormal for ')"
   ]
  },
  {
   "cell_type": "markdown",
   "id": "37d692a1",
   "metadata": {},
   "source": [
    "## From SMILES\n",
    "\n",
    "SMILES is the classic way to create a `Molecule`. SMILES is a widely-used compact textual representation of arbitrary molecules. This lets us specify an exact molecule, including stereochemistry and bond orders, very easily --- though they may not be the most human-readable format.\n",
    "\n",
    "The [`Molecule.from_smiles()`](openff.toolkit.topology.Molecule.from_smiles) method is used to create a `Molecule` from a SMILES code.\n",
    "\n",
    "### Implicit hydrogens SMILES"
   ]
  },
  {
   "cell_type": "code",
   "execution_count": 2,
   "id": "71199513",
   "metadata": {
    "execution": {
     "iopub.execute_input": "2023-09-27T14:44:01.730203Z",
     "iopub.status.busy": "2023-09-27T14:44:01.729718Z",
     "iopub.status.idle": "2023-09-27T14:44:01.774821Z",
     "shell.execute_reply": "2023-09-27T14:44:01.774435Z"
    }
   },
   "outputs": [
    {
     "data": {
      "image/svg+xml": [
       "<svg xmlns=\"http://www.w3.org/2000/svg\" xmlns:rdkit=\"http://www.rdkit.org/xml\" xmlns:xlink=\"http://www.w3.org/1999/xlink\" version=\"1.1\" baseProfile=\"full\" xml:space=\"preserve\" width=\"500px\" height=\"300px\" viewBox=\"0 0 500 300\">\n",
       "<!-- END OF HEADER -->\n",
       "<rect style=\"opacity:1.0;fill:#FFFFFF;stroke:none\" width=\"500.0\" height=\"300.0\" x=\"0.0\" y=\"0.0\"> </rect>\n",
       "<path class=\"bond-0 atom-0 atom-1\" d=\"M 269.1,206.9 L 249.2,142.8\" style=\"fill:none;fill-rule:evenodd;stroke:#000000;stroke-width:2.0px;stroke-linecap:butt;stroke-linejoin:miter;stroke-opacity:1\"/>\n",
       "<path class=\"bond-1 atom-1 atom-2\" d=\"M 249.2,142.8 L 227.0,123.8\" style=\"fill:none;fill-rule:evenodd;stroke:#000000;stroke-width:2.0px;stroke-linecap:butt;stroke-linejoin:miter;stroke-opacity:1\"/>\n",
       "<path class=\"bond-1 atom-1 atom-2\" d=\"M 227.0,123.8 L 204.7,104.8\" style=\"fill:none;fill-rule:evenodd;stroke:#0000FF;stroke-width:2.0px;stroke-linecap:butt;stroke-linejoin:miter;stroke-opacity:1\"/>\n",
       "<path class=\"bond-2 atom-1 atom-3\" d=\"M 249.2,142.8 L 292.6,93.2\" style=\"fill:none;fill-rule:evenodd;stroke:#000000;stroke-width:2.0px;stroke-linecap:butt;stroke-linejoin:miter;stroke-opacity:1\"/>\n",
       "<path class=\"bond-3 atom-3 atom-4\" d=\"M 298.4,94.3 L 289.8,69.8\" style=\"fill:none;fill-rule:evenodd;stroke:#000000;stroke-width:2.0px;stroke-linecap:butt;stroke-linejoin:miter;stroke-opacity:1\"/>\n",
       "<path class=\"bond-3 atom-3 atom-4\" d=\"M 289.8,69.8 L 281.2,45.2\" style=\"fill:none;fill-rule:evenodd;stroke:#FF0000;stroke-width:2.0px;stroke-linecap:butt;stroke-linejoin:miter;stroke-opacity:1\"/>\n",
       "<path class=\"bond-3 atom-3 atom-4\" d=\"M 288.8,97.6 L 280.3,73.0\" style=\"fill:none;fill-rule:evenodd;stroke:#000000;stroke-width:2.0px;stroke-linecap:butt;stroke-linejoin:miter;stroke-opacity:1\"/>\n",
       "<path class=\"bond-3 atom-3 atom-4\" d=\"M 280.3,73.0 L 271.7,48.5\" style=\"fill:none;fill-rule:evenodd;stroke:#FF0000;stroke-width:2.0px;stroke-linecap:butt;stroke-linejoin:miter;stroke-opacity:1\"/>\n",
       "<path class=\"bond-4 atom-3 atom-5\" d=\"M 292.6,93.2 L 317.8,98.2\" style=\"fill:none;fill-rule:evenodd;stroke:#000000;stroke-width:2.0px;stroke-linecap:butt;stroke-linejoin:miter;stroke-opacity:1\"/>\n",
       "<path class=\"bond-4 atom-3 atom-5\" d=\"M 317.8,98.2 L 343.0,103.2\" style=\"fill:none;fill-rule:evenodd;stroke:#FF0000;stroke-width:2.0px;stroke-linecap:butt;stroke-linejoin:miter;stroke-opacity:1\"/>\n",
       "<path class=\"bond-5 atom-0 atom-6\" d=\"M 269.1,206.9 L 216.9,221.3\" style=\"fill:none;fill-rule:evenodd;stroke:#000000;stroke-width:2.0px;stroke-linecap:butt;stroke-linejoin:miter;stroke-opacity:1\"/>\n",
       "<path class=\"bond-6 atom-0 atom-7\" d=\"M 269.1,206.9 L 255.6,255.7\" style=\"fill:none;fill-rule:evenodd;stroke:#000000;stroke-width:2.0px;stroke-linecap:butt;stroke-linejoin:miter;stroke-opacity:1\"/>\n",
       "<path class=\"bond-7 atom-0 atom-8\" d=\"M 269.1,206.9 L 320.3,220.4\" style=\"fill:none;fill-rule:evenodd;stroke:#000000;stroke-width:2.0px;stroke-linecap:butt;stroke-linejoin:miter;stroke-opacity:1\"/>\n",
       "<path class=\"bond-8 atom-1 atom-9\" d=\"M 249.2,142.8 L 212.8,164.7 L 208.7,155.5 Z\" style=\"fill:#000000;fill-rule:evenodd;fill-opacity:1;stroke:#000000;stroke-width:0.5px;stroke-linecap:butt;stroke-linejoin:miter;stroke-opacity:1;\"/>\n",
       "<path class=\"bond-9 atom-2 atom-10\" d=\"M 178.8,106.9 L 168.4,117.6\" style=\"fill:none;fill-rule:evenodd;stroke:#0000FF;stroke-width:2.0px;stroke-linecap:butt;stroke-linejoin:miter;stroke-opacity:1\"/>\n",
       "<path class=\"bond-9 atom-2 atom-10\" d=\"M 168.4,117.6 L 157.9,128.3\" style=\"fill:none;fill-rule:evenodd;stroke:#000000;stroke-width:2.0px;stroke-linecap:butt;stroke-linejoin:miter;stroke-opacity:1\"/>\n",
       "<path class=\"bond-10 atom-2 atom-11\" d=\"M 178.8,90.8 L 159.1,86.5\" style=\"fill:none;fill-rule:evenodd;stroke:#0000FF;stroke-width:2.0px;stroke-linecap:butt;stroke-linejoin:miter;stroke-opacity:1\"/>\n",
       "<path class=\"bond-10 atom-2 atom-11\" d=\"M 159.1,86.5 L 139.4,82.2\" style=\"fill:none;fill-rule:evenodd;stroke:#000000;stroke-width:2.0px;stroke-linecap:butt;stroke-linejoin:miter;stroke-opacity:1\"/>\n",
       "<path class=\"bond-11 atom-2 atom-12\" d=\"M 195.0,77.3 L 198.3,60.8\" style=\"fill:none;fill-rule:evenodd;stroke:#0000FF;stroke-width:2.0px;stroke-linecap:butt;stroke-linejoin:miter;stroke-opacity:1\"/>\n",
       "<path class=\"bond-11 atom-2 atom-12\" d=\"M 198.3,60.8 L 201.6,44.3\" style=\"fill:none;fill-rule:evenodd;stroke:#000000;stroke-width:2.0px;stroke-linecap:butt;stroke-linejoin:miter;stroke-opacity:1\"/>\n",
       "<path d=\"M 290.5,95.7 L 292.6,93.2 L 293.9,93.5\" style=\"fill:none;stroke:#000000;stroke-width:2.0px;stroke-linecap:butt;stroke-linejoin:miter;stroke-opacity:1;\"/>\n",
       "<path class=\"atom-2\" d=\"M 185.5 79.5 L 194.8 94.5 Q 195.7 96.0, 197.2 98.7 Q 198.7 101.4, 198.8 101.5 L 198.8 79.5 L 202.5 79.5 L 202.5 107.9 L 198.6 107.9 L 188.7 91.5 Q 187.5 89.5, 186.3 87.3 Q 185.1 85.1, 184.7 84.5 L 184.7 107.9 L 181.0 107.9 L 181.0 79.5 L 185.5 79.5 \" fill=\"#0000FF\"/>\n",
       "<path class=\"atom-2\" d=\"M 207.8 84.6 L 212.8 84.6 L 212.8 79.4 L 215.1 79.4 L 215.1 84.6 L 220.2 84.6 L 220.2 86.5 L 215.1 86.5 L 215.1 91.8 L 212.8 91.8 L 212.8 86.5 L 207.8 86.5 L 207.8 84.6 \" fill=\"#0000FF\"/>\n",
       "<path class=\"atom-4\" d=\"M 257.6 30.0 Q 257.6 23.2, 260.9 19.4 Q 264.3 15.6, 270.6 15.6 Q 276.8 15.6, 280.2 19.4 Q 283.6 23.2, 283.6 30.0 Q 283.6 36.8, 280.2 40.8 Q 276.8 44.6, 270.6 44.6 Q 264.3 44.6, 260.9 40.8 Q 257.6 36.9, 257.6 30.0 M 270.6 41.4 Q 274.9 41.4, 277.2 38.6 Q 279.6 35.6, 279.6 30.0 Q 279.6 24.4, 277.2 21.6 Q 274.9 18.8, 270.6 18.8 Q 266.2 18.8, 263.9 21.6 Q 261.6 24.4, 261.6 30.0 Q 261.6 35.7, 263.9 38.6 Q 266.2 41.4, 270.6 41.4 \" fill=\"#FF0000\"/>\n",
       "<path class=\"atom-5\" d=\"M 345.2 106.3 Q 345.2 99.5, 348.6 95.7 Q 351.9 91.9, 358.2 91.9 Q 364.5 91.9, 367.9 95.7 Q 371.2 99.5, 371.2 106.3 Q 371.2 113.2, 367.8 117.1 Q 364.4 121.0, 358.2 121.0 Q 352.0 121.0, 348.6 117.1 Q 345.2 113.2, 345.2 106.3 M 358.2 117.8 Q 362.5 117.8, 364.9 114.9 Q 367.2 112.0, 367.2 106.3 Q 367.2 100.7, 364.9 97.9 Q 362.5 95.1, 358.2 95.1 Q 353.9 95.1, 351.5 97.9 Q 349.2 100.7, 349.2 106.3 Q 349.2 112.0, 351.5 114.9 Q 353.9 117.8, 358.2 117.8 \" fill=\"#FF0000\"/>\n",
       "<path class=\"atom-5\" d=\"M 375.3 96.5 L 384.9 96.5 L 384.9 98.6 L 375.3 98.6 L 375.3 96.5 \" fill=\"#FF0000\"/>\n",
       "<path class=\"atom-6\" d=\"M 192.6 210.8 L 196.4 210.8 L 196.4 222.9 L 210.9 222.9 L 210.9 210.8 L 214.7 210.8 L 214.7 239.2 L 210.9 239.2 L 210.9 226.1 L 196.4 226.1 L 196.4 239.2 L 192.6 239.2 L 192.6 210.8 \" fill=\"#000000\"/>\n",
       "<path class=\"atom-7\" d=\"M 240.0 257.9 L 243.8 257.9 L 243.8 270.0 L 258.3 270.0 L 258.3 257.9 L 262.2 257.9 L 262.2 286.2 L 258.3 286.2 L 258.3 273.2 L 243.8 273.2 L 243.8 286.2 L 240.0 286.2 L 240.0 257.9 \" fill=\"#000000\"/>\n",
       "<path class=\"atom-8\" d=\"M 322.5 209.8 L 326.4 209.8 L 326.4 221.8 L 340.8 221.8 L 340.8 209.8 L 344.7 209.8 L 344.7 238.1 L 340.8 238.1 L 340.8 225.0 L 326.4 225.0 L 326.4 238.1 L 322.5 238.1 L 322.5 209.8 \" fill=\"#000000\"/>\n",
       "<path class=\"atom-9\" d=\"M 184.2 153.0 L 188.0 153.0 L 188.0 165.0 L 202.5 165.0 L 202.5 153.0 L 206.3 153.0 L 206.3 181.3 L 202.5 181.3 L 202.5 168.2 L 188.0 168.2 L 188.0 181.3 L 184.2 181.3 L 184.2 153.0 \" fill=\"#000000\"/>\n",
       "<path class=\"atom-10\" d=\"M 133.5 127.7 L 137.4 127.7 L 137.4 139.8 L 151.9 139.8 L 151.9 127.7 L 155.7 127.7 L 155.7 156.0 L 151.9 156.0 L 151.9 143.0 L 137.4 143.0 L 137.4 156.0 L 133.5 156.0 L 133.5 127.7 \" fill=\"#000000\"/>\n",
       "<path class=\"atom-11\" d=\"M 115.1 65.1 L 118.9 65.1 L 118.9 77.1 L 133.4 77.1 L 133.4 65.1 L 137.2 65.1 L 137.2 93.4 L 133.4 93.4 L 133.4 80.3 L 118.9 80.3 L 118.9 93.4 L 115.1 93.4 L 115.1 65.1 \" fill=\"#000000\"/>\n",
       "<path class=\"atom-12\" d=\"M 193.8 13.8 L 197.6 13.8 L 197.6 25.8 L 212.1 25.8 L 212.1 13.8 L 215.9 13.8 L 215.9 42.1 L 212.1 42.1 L 212.1 29.0 L 197.6 29.0 L 197.6 42.1 L 193.8 42.1 L 193.8 13.8 \" fill=\"#000000\"/>\n",
       "</svg>"
      ],
      "text/plain": [
       "<IPython.core.display.SVG object>"
      ]
     },
     "execution_count": 2,
     "metadata": {},
     "output_type": "execute_result"
    }
   ],
   "source": [
    "zw_l_alanine = Molecule.from_smiles(\"C[C@H]([NH3+])C(=O)[O-]\")\n",
    "\n",
    "zw_l_alanine.visualize()"
   ]
  },
  {
   "cell_type": "markdown",
   "id": "59fe1b58",
   "metadata": {},
   "source": [
    "### Explicit hydrogens SMILES"
   ]
  },
  {
   "cell_type": "code",
   "execution_count": 3,
   "id": "07e0584e",
   "metadata": {
    "execution": {
     "iopub.execute_input": "2023-09-27T14:44:01.777144Z",
     "iopub.status.busy": "2023-09-27T14:44:01.776870Z",
     "iopub.status.idle": "2023-09-27T14:44:01.816922Z",
     "shell.execute_reply": "2023-09-27T14:44:01.816550Z"
    }
   },
   "outputs": [
    {
     "data": {
      "image/svg+xml": [
       "<svg xmlns=\"http://www.w3.org/2000/svg\" xmlns:rdkit=\"http://www.rdkit.org/xml\" xmlns:xlink=\"http://www.w3.org/1999/xlink\" version=\"1.1\" baseProfile=\"full\" xml:space=\"preserve\" width=\"500px\" height=\"300px\" viewBox=\"0 0 500 300\">\n",
       "<!-- END OF HEADER -->\n",
       "<rect style=\"opacity:1.0;fill:#FFFFFF;stroke:none\" width=\"500.0\" height=\"300.0\" x=\"0.0\" y=\"0.0\"> </rect>\n",
       "<path class=\"bond-0 atom-0 atom-1\" d=\"M 216.9,221.3 L 269.1,206.9\" style=\"fill:none;fill-rule:evenodd;stroke:#000000;stroke-width:2.0px;stroke-linecap:butt;stroke-linejoin:miter;stroke-opacity:1\"/>\n",
       "<path class=\"bond-1 atom-1 atom-2\" d=\"M 269.1,206.9 L 255.6,255.7\" style=\"fill:none;fill-rule:evenodd;stroke:#000000;stroke-width:2.0px;stroke-linecap:butt;stroke-linejoin:miter;stroke-opacity:1\"/>\n",
       "<path class=\"bond-2 atom-1 atom-3\" d=\"M 269.1,206.9 L 320.3,220.4\" style=\"fill:none;fill-rule:evenodd;stroke:#000000;stroke-width:2.0px;stroke-linecap:butt;stroke-linejoin:miter;stroke-opacity:1\"/>\n",
       "<path class=\"bond-3 atom-1 atom-4\" d=\"M 269.1,206.9 L 249.2,142.8\" style=\"fill:none;fill-rule:evenodd;stroke:#000000;stroke-width:2.0px;stroke-linecap:butt;stroke-linejoin:miter;stroke-opacity:1\"/>\n",
       "<path class=\"bond-4 atom-4 atom-5\" d=\"M 249.2,142.8 L 212.8,164.7 L 208.7,155.5 Z\" style=\"fill:#000000;fill-rule:evenodd;fill-opacity:1;stroke:#000000;stroke-width:0.5px;stroke-linecap:butt;stroke-linejoin:miter;stroke-opacity:1;\"/>\n",
       "<path class=\"bond-5 atom-4 atom-6\" d=\"M 249.2,142.8 L 292.6,93.2\" style=\"fill:none;fill-rule:evenodd;stroke:#000000;stroke-width:2.0px;stroke-linecap:butt;stroke-linejoin:miter;stroke-opacity:1\"/>\n",
       "<path class=\"bond-6 atom-6 atom-7\" d=\"M 298.4,94.3 L 289.8,69.8\" style=\"fill:none;fill-rule:evenodd;stroke:#000000;stroke-width:2.0px;stroke-linecap:butt;stroke-linejoin:miter;stroke-opacity:1\"/>\n",
       "<path class=\"bond-6 atom-6 atom-7\" d=\"M 289.8,69.8 L 281.2,45.2\" style=\"fill:none;fill-rule:evenodd;stroke:#FF0000;stroke-width:2.0px;stroke-linecap:butt;stroke-linejoin:miter;stroke-opacity:1\"/>\n",
       "<path class=\"bond-6 atom-6 atom-7\" d=\"M 288.8,97.6 L 280.3,73.0\" style=\"fill:none;fill-rule:evenodd;stroke:#000000;stroke-width:2.0px;stroke-linecap:butt;stroke-linejoin:miter;stroke-opacity:1\"/>\n",
       "<path class=\"bond-6 atom-6 atom-7\" d=\"M 280.3,73.0 L 271.7,48.5\" style=\"fill:none;fill-rule:evenodd;stroke:#FF0000;stroke-width:2.0px;stroke-linecap:butt;stroke-linejoin:miter;stroke-opacity:1\"/>\n",
       "<path class=\"bond-7 atom-6 atom-8\" d=\"M 292.6,93.2 L 317.8,98.2\" style=\"fill:none;fill-rule:evenodd;stroke:#000000;stroke-width:2.0px;stroke-linecap:butt;stroke-linejoin:miter;stroke-opacity:1\"/>\n",
       "<path class=\"bond-7 atom-6 atom-8\" d=\"M 317.8,98.2 L 343.0,103.2\" style=\"fill:none;fill-rule:evenodd;stroke:#FF0000;stroke-width:2.0px;stroke-linecap:butt;stroke-linejoin:miter;stroke-opacity:1\"/>\n",
       "<path class=\"bond-8 atom-4 atom-9\" d=\"M 249.2,142.8 L 227.0,123.8\" style=\"fill:none;fill-rule:evenodd;stroke:#000000;stroke-width:2.0px;stroke-linecap:butt;stroke-linejoin:miter;stroke-opacity:1\"/>\n",
       "<path class=\"bond-8 atom-4 atom-9\" d=\"M 227.0,123.8 L 204.7,104.8\" style=\"fill:none;fill-rule:evenodd;stroke:#0000FF;stroke-width:2.0px;stroke-linecap:butt;stroke-linejoin:miter;stroke-opacity:1\"/>\n",
       "<path class=\"bond-9 atom-9 atom-10\" d=\"M 178.8,106.9 L 168.4,117.6\" style=\"fill:none;fill-rule:evenodd;stroke:#0000FF;stroke-width:2.0px;stroke-linecap:butt;stroke-linejoin:miter;stroke-opacity:1\"/>\n",
       "<path class=\"bond-9 atom-9 atom-10\" d=\"M 168.4,117.6 L 157.9,128.3\" style=\"fill:none;fill-rule:evenodd;stroke:#000000;stroke-width:2.0px;stroke-linecap:butt;stroke-linejoin:miter;stroke-opacity:1\"/>\n",
       "<path class=\"bond-10 atom-9 atom-11\" d=\"M 178.8,90.8 L 159.1,86.5\" style=\"fill:none;fill-rule:evenodd;stroke:#0000FF;stroke-width:2.0px;stroke-linecap:butt;stroke-linejoin:miter;stroke-opacity:1\"/>\n",
       "<path class=\"bond-10 atom-9 atom-11\" d=\"M 159.1,86.5 L 139.4,82.2\" style=\"fill:none;fill-rule:evenodd;stroke:#000000;stroke-width:2.0px;stroke-linecap:butt;stroke-linejoin:miter;stroke-opacity:1\"/>\n",
       "<path class=\"bond-11 atom-9 atom-12\" d=\"M 195.0,77.3 L 198.3,60.8\" style=\"fill:none;fill-rule:evenodd;stroke:#0000FF;stroke-width:2.0px;stroke-linecap:butt;stroke-linejoin:miter;stroke-opacity:1\"/>\n",
       "<path class=\"bond-11 atom-9 atom-12\" d=\"M 198.3,60.8 L 201.6,44.3\" style=\"fill:none;fill-rule:evenodd;stroke:#000000;stroke-width:2.0px;stroke-linecap:butt;stroke-linejoin:miter;stroke-opacity:1\"/>\n",
       "<path d=\"M 290.5,95.7 L 292.6,93.2 L 293.9,93.5\" style=\"fill:none;stroke:#000000;stroke-width:2.0px;stroke-linecap:butt;stroke-linejoin:miter;stroke-opacity:1;\"/>\n",
       "<path class=\"atom-0\" d=\"M 192.6 210.8 L 196.4 210.8 L 196.4 222.9 L 210.9 222.9 L 210.9 210.8 L 214.7 210.8 L 214.7 239.2 L 210.9 239.2 L 210.9 226.1 L 196.4 226.1 L 196.4 239.2 L 192.6 239.2 L 192.6 210.8 \" fill=\"#000000\"/>\n",
       "<path class=\"atom-2\" d=\"M 240.0 257.9 L 243.8 257.9 L 243.8 270.0 L 258.3 270.0 L 258.3 257.9 L 262.2 257.9 L 262.2 286.2 L 258.3 286.2 L 258.3 273.2 L 243.8 273.2 L 243.8 286.2 L 240.0 286.2 L 240.0 257.9 \" fill=\"#000000\"/>\n",
       "<path class=\"atom-3\" d=\"M 322.5 209.8 L 326.4 209.8 L 326.4 221.8 L 340.8 221.8 L 340.8 209.8 L 344.7 209.8 L 344.7 238.1 L 340.8 238.1 L 340.8 225.0 L 326.4 225.0 L 326.4 238.1 L 322.5 238.1 L 322.5 209.8 \" fill=\"#000000\"/>\n",
       "<path class=\"atom-5\" d=\"M 184.2 153.0 L 188.0 153.0 L 188.0 165.0 L 202.5 165.0 L 202.5 153.0 L 206.3 153.0 L 206.3 181.3 L 202.5 181.3 L 202.5 168.2 L 188.0 168.2 L 188.0 181.3 L 184.2 181.3 L 184.2 153.0 \" fill=\"#000000\"/>\n",
       "<path class=\"atom-7\" d=\"M 257.6 30.0 Q 257.6 23.2, 260.9 19.4 Q 264.3 15.6, 270.6 15.6 Q 276.8 15.6, 280.2 19.4 Q 283.6 23.2, 283.6 30.0 Q 283.6 36.8, 280.2 40.8 Q 276.8 44.6, 270.6 44.6 Q 264.3 44.6, 260.9 40.8 Q 257.6 36.9, 257.6 30.0 M 270.6 41.4 Q 274.9 41.4, 277.2 38.6 Q 279.6 35.6, 279.6 30.0 Q 279.6 24.4, 277.2 21.6 Q 274.9 18.8, 270.6 18.8 Q 266.2 18.8, 263.9 21.6 Q 261.6 24.4, 261.6 30.0 Q 261.6 35.7, 263.9 38.6 Q 266.2 41.4, 270.6 41.4 \" fill=\"#FF0000\"/>\n",
       "<path class=\"atom-8\" d=\"M 345.2 106.3 Q 345.2 99.5, 348.6 95.7 Q 351.9 91.9, 358.2 91.9 Q 364.5 91.9, 367.9 95.7 Q 371.2 99.5, 371.2 106.3 Q 371.2 113.2, 367.8 117.1 Q 364.4 121.0, 358.2 121.0 Q 352.0 121.0, 348.6 117.1 Q 345.2 113.2, 345.2 106.3 M 358.2 117.8 Q 362.5 117.8, 364.9 114.9 Q 367.2 112.0, 367.2 106.3 Q 367.2 100.7, 364.9 97.9 Q 362.5 95.1, 358.2 95.1 Q 353.9 95.1, 351.5 97.9 Q 349.2 100.7, 349.2 106.3 Q 349.2 112.0, 351.5 114.9 Q 353.9 117.8, 358.2 117.8 \" fill=\"#FF0000\"/>\n",
       "<path class=\"atom-8\" d=\"M 375.3 96.5 L 384.9 96.5 L 384.9 98.6 L 375.3 98.6 L 375.3 96.5 \" fill=\"#FF0000\"/>\n",
       "<path class=\"atom-9\" d=\"M 185.5 79.5 L 194.8 94.5 Q 195.7 96.0, 197.2 98.7 Q 198.7 101.4, 198.8 101.5 L 198.8 79.5 L 202.5 79.5 L 202.5 107.9 L 198.6 107.9 L 188.7 91.5 Q 187.5 89.5, 186.3 87.3 Q 185.1 85.1, 184.7 84.5 L 184.7 107.9 L 181.0 107.9 L 181.0 79.5 L 185.5 79.5 \" fill=\"#0000FF\"/>\n",
       "<path class=\"atom-9\" d=\"M 207.8 84.6 L 212.8 84.6 L 212.8 79.4 L 215.1 79.4 L 215.1 84.6 L 220.2 84.6 L 220.2 86.5 L 215.1 86.5 L 215.1 91.8 L 212.8 91.8 L 212.8 86.5 L 207.8 86.5 L 207.8 84.6 \" fill=\"#0000FF\"/>\n",
       "<path class=\"atom-10\" d=\"M 133.5 127.7 L 137.4 127.7 L 137.4 139.8 L 151.9 139.8 L 151.9 127.7 L 155.7 127.7 L 155.7 156.0 L 151.9 156.0 L 151.9 143.0 L 137.4 143.0 L 137.4 156.0 L 133.5 156.0 L 133.5 127.7 \" fill=\"#000000\"/>\n",
       "<path class=\"atom-11\" d=\"M 115.1 65.1 L 118.9 65.1 L 118.9 77.1 L 133.4 77.1 L 133.4 65.1 L 137.2 65.1 L 137.2 93.4 L 133.4 93.4 L 133.4 80.3 L 118.9 80.3 L 118.9 93.4 L 115.1 93.4 L 115.1 65.1 \" fill=\"#000000\"/>\n",
       "<path class=\"atom-12\" d=\"M 193.8 13.8 L 197.6 13.8 L 197.6 25.8 L 212.1 25.8 L 212.1 13.8 L 215.9 13.8 L 215.9 42.1 L 212.1 42.1 L 212.1 29.0 L 197.6 29.0 L 197.6 42.1 L 193.8 42.1 L 193.8 13.8 \" fill=\"#000000\"/>\n",
       "</svg>"
      ],
      "text/plain": [
       "<IPython.core.display.SVG object>"
      ]
     },
     "execution_count": 3,
     "metadata": {},
     "output_type": "execute_result"
    }
   ],
   "source": [
    "smiles_explicit_h = Molecule.from_smiles(\n",
    "    \"[H][C]([H])([H])[C@@]([H])([C](=[O])[O-])[N+]([H])([H])[H]\",\n",
    "    hydrogens_are_explicit=True,\n",
    ")\n",
    "\n",
    "assert zw_l_alanine.is_isomorphic_with(smiles_explicit_h)\n",
    "\n",
    "smiles_explicit_h.visualize()"
   ]
  },
  {
   "cell_type": "markdown",
   "id": "6e1adb21",
   "metadata": {},
   "source": [
    "### Mapped SMILES\n",
    "\n",
    "By default, no guarantees are made about the indexing of atoms from a SMILES string. If the indexing is important, a mapped SMILES string may be used. In this case, Hydrogens must be explicit. Note that though mapped SMILES strings must start at index 1, Python lists start at index 0."
   ]
  },
  {
   "cell_type": "code",
   "execution_count": 4,
   "id": "178de2c5",
   "metadata": {
    "execution": {
     "iopub.execute_input": "2023-09-27T14:44:01.819208Z",
     "iopub.status.busy": "2023-09-27T14:44:01.819032Z",
     "iopub.status.idle": "2023-09-27T14:44:01.844720Z",
     "shell.execute_reply": "2023-09-27T14:44:01.844357Z"
    }
   },
   "outputs": [
    {
     "data": {
      "image/svg+xml": [
       "<svg xmlns=\"http://www.w3.org/2000/svg\" xmlns:rdkit=\"http://www.rdkit.org/xml\" xmlns:xlink=\"http://www.w3.org/1999/xlink\" version=\"1.1\" baseProfile=\"full\" xml:space=\"preserve\" width=\"500px\" height=\"300px\" viewBox=\"0 0 500 300\">\n",
       "<!-- END OF HEADER -->\n",
       "<rect style=\"opacity:1.0;fill:#FFFFFF;stroke:none\" width=\"500.0\" height=\"300.0\" x=\"0.0\" y=\"0.0\"> </rect>\n",
       "<path class=\"bond-0 atom-0 atom-3\" d=\"M 204.7,104.8 L 227.0,123.8\" style=\"fill:none;fill-rule:evenodd;stroke:#0000FF;stroke-width:2.0px;stroke-linecap:butt;stroke-linejoin:miter;stroke-opacity:1\"/>\n",
       "<path class=\"bond-0 atom-0 atom-3\" d=\"M 227.0,123.8 L 249.2,142.8\" style=\"fill:none;fill-rule:evenodd;stroke:#000000;stroke-width:2.0px;stroke-linecap:butt;stroke-linejoin:miter;stroke-opacity:1\"/>\n",
       "<path class=\"bond-1 atom-0 atom-10\" d=\"M 178.8,106.9 L 168.4,117.6\" style=\"fill:none;fill-rule:evenodd;stroke:#0000FF;stroke-width:2.0px;stroke-linecap:butt;stroke-linejoin:miter;stroke-opacity:1\"/>\n",
       "<path class=\"bond-1 atom-0 atom-10\" d=\"M 168.4,117.6 L 157.9,128.3\" style=\"fill:none;fill-rule:evenodd;stroke:#000000;stroke-width:2.0px;stroke-linecap:butt;stroke-linejoin:miter;stroke-opacity:1\"/>\n",
       "<path class=\"bond-2 atom-0 atom-11\" d=\"M 178.8,90.8 L 159.1,86.5\" style=\"fill:none;fill-rule:evenodd;stroke:#0000FF;stroke-width:2.0px;stroke-linecap:butt;stroke-linejoin:miter;stroke-opacity:1\"/>\n",
       "<path class=\"bond-2 atom-0 atom-11\" d=\"M 159.1,86.5 L 139.4,82.2\" style=\"fill:none;fill-rule:evenodd;stroke:#000000;stroke-width:2.0px;stroke-linecap:butt;stroke-linejoin:miter;stroke-opacity:1\"/>\n",
       "<path class=\"bond-3 atom-0 atom-12\" d=\"M 195.0,77.3 L 198.3,60.8\" style=\"fill:none;fill-rule:evenodd;stroke:#0000FF;stroke-width:2.0px;stroke-linecap:butt;stroke-linejoin:miter;stroke-opacity:1\"/>\n",
       "<path class=\"bond-3 atom-0 atom-12\" d=\"M 198.3,60.8 L 201.6,44.3\" style=\"fill:none;fill-rule:evenodd;stroke:#000000;stroke-width:2.0px;stroke-linecap:butt;stroke-linejoin:miter;stroke-opacity:1\"/>\n",
       "<path class=\"bond-4 atom-1 atom-3\" d=\"M 269.1,206.9 L 249.2,142.8\" style=\"fill:none;fill-rule:evenodd;stroke:#000000;stroke-width:2.0px;stroke-linecap:butt;stroke-linejoin:miter;stroke-opacity:1\"/>\n",
       "<path class=\"bond-5 atom-1 atom-6\" d=\"M 269.1,206.9 L 216.9,221.3\" style=\"fill:none;fill-rule:evenodd;stroke:#000000;stroke-width:2.0px;stroke-linecap:butt;stroke-linejoin:miter;stroke-opacity:1\"/>\n",
       "<path class=\"bond-6 atom-1 atom-7\" d=\"M 269.1,206.9 L 255.6,255.7\" style=\"fill:none;fill-rule:evenodd;stroke:#000000;stroke-width:2.0px;stroke-linecap:butt;stroke-linejoin:miter;stroke-opacity:1\"/>\n",
       "<path class=\"bond-7 atom-1 atom-9\" d=\"M 269.1,206.9 L 320.3,220.4\" style=\"fill:none;fill-rule:evenodd;stroke:#000000;stroke-width:2.0px;stroke-linecap:butt;stroke-linejoin:miter;stroke-opacity:1\"/>\n",
       "<path class=\"bond-8 atom-2 atom-3\" d=\"M 292.6,93.2 L 249.2,142.8\" style=\"fill:none;fill-rule:evenodd;stroke:#000000;stroke-width:2.0px;stroke-linecap:butt;stroke-linejoin:miter;stroke-opacity:1\"/>\n",
       "<path class=\"bond-9 atom-2 atom-4\" d=\"M 298.4,94.3 L 289.8,69.8\" style=\"fill:none;fill-rule:evenodd;stroke:#000000;stroke-width:2.0px;stroke-linecap:butt;stroke-linejoin:miter;stroke-opacity:1\"/>\n",
       "<path class=\"bond-9 atom-2 atom-4\" d=\"M 289.8,69.8 L 281.2,45.2\" style=\"fill:none;fill-rule:evenodd;stroke:#FF0000;stroke-width:2.0px;stroke-linecap:butt;stroke-linejoin:miter;stroke-opacity:1\"/>\n",
       "<path class=\"bond-9 atom-2 atom-4\" d=\"M 288.8,97.6 L 280.3,73.0\" style=\"fill:none;fill-rule:evenodd;stroke:#000000;stroke-width:2.0px;stroke-linecap:butt;stroke-linejoin:miter;stroke-opacity:1\"/>\n",
       "<path class=\"bond-9 atom-2 atom-4\" d=\"M 280.3,73.0 L 271.7,48.5\" style=\"fill:none;fill-rule:evenodd;stroke:#FF0000;stroke-width:2.0px;stroke-linecap:butt;stroke-linejoin:miter;stroke-opacity:1\"/>\n",
       "<path class=\"bond-10 atom-2 atom-5\" d=\"M 292.6,93.2 L 317.8,98.2\" style=\"fill:none;fill-rule:evenodd;stroke:#000000;stroke-width:2.0px;stroke-linecap:butt;stroke-linejoin:miter;stroke-opacity:1\"/>\n",
       "<path class=\"bond-10 atom-2 atom-5\" d=\"M 317.8,98.2 L 343.0,103.2\" style=\"fill:none;fill-rule:evenodd;stroke:#FF0000;stroke-width:2.0px;stroke-linecap:butt;stroke-linejoin:miter;stroke-opacity:1\"/>\n",
       "<path class=\"bond-11 atom-3 atom-8\" d=\"M 249.2,142.8 L 212.8,164.7 L 208.7,155.5 Z\" style=\"fill:#000000;fill-rule:evenodd;fill-opacity:1;stroke:#000000;stroke-width:0.5px;stroke-linecap:butt;stroke-linejoin:miter;stroke-opacity:1;\"/>\n",
       "<path d=\"M 290.5,95.7 L 292.6,93.2 L 293.9,93.5\" style=\"fill:none;stroke:#000000;stroke-width:2.0px;stroke-linecap:butt;stroke-linejoin:miter;stroke-opacity:1;\"/>\n",
       "<path class=\"atom-0\" d=\"M 185.5 79.5 L 194.8 94.5 Q 195.7 96.0, 197.2 98.7 Q 198.7 101.4, 198.8 101.5 L 198.8 79.5 L 202.5 79.5 L 202.5 107.9 L 198.6 107.9 L 188.7 91.5 Q 187.5 89.5, 186.3 87.3 Q 185.1 85.1, 184.7 84.5 L 184.7 107.9 L 181.0 107.9 L 181.0 79.5 L 185.5 79.5 \" fill=\"#0000FF\"/>\n",
       "<path class=\"atom-0\" d=\"M 207.8 84.6 L 212.8 84.6 L 212.8 79.4 L 215.1 79.4 L 215.1 84.6 L 220.2 84.6 L 220.2 86.5 L 215.1 86.5 L 215.1 91.8 L 212.8 91.8 L 212.8 86.5 L 207.8 86.5 L 207.8 84.6 \" fill=\"#0000FF\"/>\n",
       "<path class=\"atom-4\" d=\"M 257.6 30.0 Q 257.6 23.2, 260.9 19.4 Q 264.3 15.6, 270.6 15.6 Q 276.8 15.6, 280.2 19.4 Q 283.6 23.2, 283.6 30.0 Q 283.6 36.8, 280.2 40.8 Q 276.8 44.6, 270.6 44.6 Q 264.3 44.6, 260.9 40.8 Q 257.6 36.9, 257.6 30.0 M 270.6 41.4 Q 274.9 41.4, 277.2 38.6 Q 279.6 35.6, 279.6 30.0 Q 279.6 24.4, 277.2 21.6 Q 274.9 18.8, 270.6 18.8 Q 266.2 18.8, 263.9 21.6 Q 261.6 24.4, 261.6 30.0 Q 261.6 35.7, 263.9 38.6 Q 266.2 41.4, 270.6 41.4 \" fill=\"#FF0000\"/>\n",
       "<path class=\"atom-5\" d=\"M 345.2 106.3 Q 345.2 99.5, 348.6 95.7 Q 351.9 91.9, 358.2 91.9 Q 364.5 91.9, 367.9 95.7 Q 371.2 99.5, 371.2 106.3 Q 371.2 113.2, 367.8 117.1 Q 364.4 121.0, 358.2 121.0 Q 352.0 121.0, 348.6 117.1 Q 345.2 113.2, 345.2 106.3 M 358.2 117.8 Q 362.5 117.8, 364.9 114.9 Q 367.2 112.0, 367.2 106.3 Q 367.2 100.7, 364.9 97.9 Q 362.5 95.1, 358.2 95.1 Q 353.9 95.1, 351.5 97.9 Q 349.2 100.7, 349.2 106.3 Q 349.2 112.0, 351.5 114.9 Q 353.9 117.8, 358.2 117.8 \" fill=\"#FF0000\"/>\n",
       "<path class=\"atom-5\" d=\"M 375.3 96.5 L 384.9 96.5 L 384.9 98.6 L 375.3 98.6 L 375.3 96.5 \" fill=\"#FF0000\"/>\n",
       "<path class=\"atom-6\" d=\"M 192.6 210.8 L 196.4 210.8 L 196.4 222.9 L 210.9 222.9 L 210.9 210.8 L 214.7 210.8 L 214.7 239.2 L 210.9 239.2 L 210.9 226.1 L 196.4 226.1 L 196.4 239.2 L 192.6 239.2 L 192.6 210.8 \" fill=\"#000000\"/>\n",
       "<path class=\"atom-7\" d=\"M 240.0 257.9 L 243.8 257.9 L 243.8 270.0 L 258.3 270.0 L 258.3 257.9 L 262.2 257.9 L 262.2 286.2 L 258.3 286.2 L 258.3 273.2 L 243.8 273.2 L 243.8 286.2 L 240.0 286.2 L 240.0 257.9 \" fill=\"#000000\"/>\n",
       "<path class=\"atom-8\" d=\"M 184.2 153.0 L 188.0 153.0 L 188.0 165.0 L 202.5 165.0 L 202.5 153.0 L 206.3 153.0 L 206.3 181.3 L 202.5 181.3 L 202.5 168.2 L 188.0 168.2 L 188.0 181.3 L 184.2 181.3 L 184.2 153.0 \" fill=\"#000000\"/>\n",
       "<path class=\"atom-9\" d=\"M 322.5 209.8 L 326.4 209.8 L 326.4 221.8 L 340.8 221.8 L 340.8 209.8 L 344.7 209.8 L 344.7 238.1 L 340.8 238.1 L 340.8 225.0 L 326.4 225.0 L 326.4 238.1 L 322.5 238.1 L 322.5 209.8 \" fill=\"#000000\"/>\n",
       "<path class=\"atom-10\" d=\"M 133.5 127.7 L 137.4 127.7 L 137.4 139.8 L 151.9 139.8 L 151.9 127.7 L 155.7 127.7 L 155.7 156.0 L 151.9 156.0 L 151.9 143.0 L 137.4 143.0 L 137.4 156.0 L 133.5 156.0 L 133.5 127.7 \" fill=\"#000000\"/>\n",
       "<path class=\"atom-11\" d=\"M 115.1 65.1 L 118.9 65.1 L 118.9 77.1 L 133.4 77.1 L 133.4 65.1 L 137.2 65.1 L 137.2 93.4 L 133.4 93.4 L 133.4 80.3 L 118.9 80.3 L 118.9 93.4 L 115.1 93.4 L 115.1 65.1 \" fill=\"#000000\"/>\n",
       "<path class=\"atom-12\" d=\"M 193.8 13.8 L 197.6 13.8 L 197.6 25.8 L 212.1 25.8 L 212.1 13.8 L 215.9 13.8 L 215.9 42.1 L 212.1 42.1 L 212.1 29.0 L 197.6 29.0 L 197.6 42.1 L 193.8 42.1 L 193.8 13.8 \" fill=\"#000000\"/>\n",
       "</svg>"
      ],
      "text/plain": [
       "<IPython.core.display.SVG object>"
      ]
     },
     "execution_count": 4,
     "metadata": {},
     "output_type": "execute_result"
    }
   ],
   "source": [
    "mapped_smiles = Molecule.from_mapped_smiles(\n",
    "    \"[H:10][C:2]([H:7])([H:8])[C@@:4]([H:9])([C:3](=[O:5])[O-:6])[N+:1]([H:11])([H:12])[H:13]\"\n",
    ")\n",
    "\n",
    "assert zw_l_alanine.is_isomorphic_with(mapped_smiles)\n",
    "\n",
    "assert mapped_smiles.atoms[0].atomic_number == 7  # First index is the Nitrogen\n",
    "assert all(\n",
    "    [a.atomic_number == 1 for a in mapped_smiles.atoms[6:]]\n",
    ")  # Final indices are all H\n",
    "\n",
    "mapped_smiles.visualize()"
   ]
  },
  {
   "cell_type": "markdown",
   "id": "6897144e",
   "metadata": {},
   "source": [
    "(smiles_no_stereochemistry)=\n",
    "### SMILES without stereochemistry\n",
    "\n",
    "The Toolkit won't accept an ambiguous SMILES. This SMILES could be L- or D- alanine; rather than guess, the Toolkit throws an error:"
   ]
  },
  {
   "cell_type": "code",
   "execution_count": 5,
   "id": "ec669ad6",
   "metadata": {
    "execution": {
     "iopub.execute_input": "2023-09-27T14:44:01.846857Z",
     "iopub.status.busy": "2023-09-27T14:44:01.846683Z",
     "iopub.status.idle": "2023-09-27T14:44:01.854665Z",
     "shell.execute_reply": "2023-09-27T14:44:01.854293Z"
    },
    "tags": [
     "raises-exception"
    ]
   },
   "outputs": [
    {
     "ename": "UndefinedStereochemistryError",
     "evalue": "Unable to make OFFMol from SMILES: RDMol has unspecified stereochemistry. Undefined chiral centers are:\n - Atom C (index 1)\n",
     "output_type": "error",
     "traceback": [
      "\u001b[0;31mUndefinedStereochemistryError\u001b[0m\u001b[0;31m:\u001b[0m Unable to make OFFMol from SMILES: RDMol has unspecified stereochemistry. Undefined chiral centers are:\n - Atom C (index 1)\n\n"
     ]
    }
   ],
   "source": [
    "smiles_non_isomeric = Molecule.from_smiles(\"CC([NH3+])C(=O)[O-]\")"
   ]
  },
  {
   "cell_type": "markdown",
   "id": "821c4687",
   "metadata": {},
   "source": [
    "We can downgrade this error to a warning with the `allow_undefined_stereo` argument. This will create a molecule with undefined stereochemistry, which might lead to incorrect parametrization or surprising conformer generation. See the [FAQ](../faq.md#im-getting-stereochemistry-errors-when-loading-a-molecule-from-a-smiles-string) for more details."
   ]
  },
  {
   "cell_type": "code",
   "execution_count": 6,
   "id": "278e3cb1",
   "metadata": {
    "execution": {
     "iopub.execute_input": "2023-09-27T14:44:01.856823Z",
     "iopub.status.busy": "2023-09-27T14:44:01.856659Z",
     "iopub.status.idle": "2023-09-27T14:44:01.892704Z",
     "shell.execute_reply": "2023-09-27T14:44:01.892322Z"
    }
   },
   "outputs": [
    {
     "name": "stderr",
     "output_type": "stream",
     "text": [
      "Warning (not error because allow_undefined_stereo=True): RDMol has unspecified stereochemistry. Undefined chiral centers are:\n",
      " - Atom C (index 1)\n",
      "\n"
     ]
    },
    {
     "data": {
      "image/svg+xml": [
       "<svg xmlns=\"http://www.w3.org/2000/svg\" xmlns:rdkit=\"http://www.rdkit.org/xml\" xmlns:xlink=\"http://www.w3.org/1999/xlink\" version=\"1.1\" baseProfile=\"full\" xml:space=\"preserve\" width=\"500px\" height=\"300px\" viewBox=\"0 0 500 300\">\n",
       "<!-- END OF HEADER -->\n",
       "<rect style=\"opacity:1.0;fill:#FFFFFF;stroke:none\" width=\"500.0\" height=\"300.0\" x=\"0.0\" y=\"0.0\"> </rect>\n",
       "<path class=\"bond-0 atom-0 atom-1\" d=\"M 269.1,206.9 L 249.2,142.8\" style=\"fill:none;fill-rule:evenodd;stroke:#000000;stroke-width:2.0px;stroke-linecap:butt;stroke-linejoin:miter;stroke-opacity:1\"/>\n",
       "<path class=\"bond-1 atom-1 atom-2\" d=\"M 249.2,142.8 L 227.0,123.8\" style=\"fill:none;fill-rule:evenodd;stroke:#000000;stroke-width:2.0px;stroke-linecap:butt;stroke-linejoin:miter;stroke-opacity:1\"/>\n",
       "<path class=\"bond-1 atom-1 atom-2\" d=\"M 227.0,123.8 L 204.7,104.8\" style=\"fill:none;fill-rule:evenodd;stroke:#0000FF;stroke-width:2.0px;stroke-linecap:butt;stroke-linejoin:miter;stroke-opacity:1\"/>\n",
       "<path class=\"bond-2 atom-1 atom-3\" d=\"M 249.2,142.8 L 292.6,93.2\" style=\"fill:none;fill-rule:evenodd;stroke:#000000;stroke-width:2.0px;stroke-linecap:butt;stroke-linejoin:miter;stroke-opacity:1\"/>\n",
       "<path class=\"bond-3 atom-3 atom-4\" d=\"M 298.4,94.3 L 289.8,69.8\" style=\"fill:none;fill-rule:evenodd;stroke:#000000;stroke-width:2.0px;stroke-linecap:butt;stroke-linejoin:miter;stroke-opacity:1\"/>\n",
       "<path class=\"bond-3 atom-3 atom-4\" d=\"M 289.8,69.8 L 281.2,45.2\" style=\"fill:none;fill-rule:evenodd;stroke:#FF0000;stroke-width:2.0px;stroke-linecap:butt;stroke-linejoin:miter;stroke-opacity:1\"/>\n",
       "<path class=\"bond-3 atom-3 atom-4\" d=\"M 288.8,97.6 L 280.3,73.0\" style=\"fill:none;fill-rule:evenodd;stroke:#000000;stroke-width:2.0px;stroke-linecap:butt;stroke-linejoin:miter;stroke-opacity:1\"/>\n",
       "<path class=\"bond-3 atom-3 atom-4\" d=\"M 280.3,73.0 L 271.7,48.5\" style=\"fill:none;fill-rule:evenodd;stroke:#FF0000;stroke-width:2.0px;stroke-linecap:butt;stroke-linejoin:miter;stroke-opacity:1\"/>\n",
       "<path class=\"bond-4 atom-3 atom-5\" d=\"M 292.6,93.2 L 317.8,98.2\" style=\"fill:none;fill-rule:evenodd;stroke:#000000;stroke-width:2.0px;stroke-linecap:butt;stroke-linejoin:miter;stroke-opacity:1\"/>\n",
       "<path class=\"bond-4 atom-3 atom-5\" d=\"M 317.8,98.2 L 343.0,103.2\" style=\"fill:none;fill-rule:evenodd;stroke:#FF0000;stroke-width:2.0px;stroke-linecap:butt;stroke-linejoin:miter;stroke-opacity:1\"/>\n",
       "<path class=\"bond-5 atom-0 atom-6\" d=\"M 269.1,206.9 L 216.9,221.3\" style=\"fill:none;fill-rule:evenodd;stroke:#000000;stroke-width:2.0px;stroke-linecap:butt;stroke-linejoin:miter;stroke-opacity:1\"/>\n",
       "<path class=\"bond-6 atom-0 atom-7\" d=\"M 269.1,206.9 L 255.6,255.7\" style=\"fill:none;fill-rule:evenodd;stroke:#000000;stroke-width:2.0px;stroke-linecap:butt;stroke-linejoin:miter;stroke-opacity:1\"/>\n",
       "<path class=\"bond-7 atom-0 atom-8\" d=\"M 269.1,206.9 L 320.3,220.4\" style=\"fill:none;fill-rule:evenodd;stroke:#000000;stroke-width:2.0px;stroke-linecap:butt;stroke-linejoin:miter;stroke-opacity:1\"/>\n",
       "<path class=\"bond-8 atom-1 atom-9\" d=\"M 249.2,142.8 L 208.6,161.1\" style=\"fill:none;fill-rule:evenodd;stroke:#000000;stroke-width:2.0px;stroke-linecap:butt;stroke-linejoin:miter;stroke-opacity:1\"/>\n",
       "<path class=\"bond-9 atom-2 atom-10\" d=\"M 178.8,106.9 L 168.4,117.6\" style=\"fill:none;fill-rule:evenodd;stroke:#0000FF;stroke-width:2.0px;stroke-linecap:butt;stroke-linejoin:miter;stroke-opacity:1\"/>\n",
       "<path class=\"bond-9 atom-2 atom-10\" d=\"M 168.4,117.6 L 157.9,128.3\" style=\"fill:none;fill-rule:evenodd;stroke:#000000;stroke-width:2.0px;stroke-linecap:butt;stroke-linejoin:miter;stroke-opacity:1\"/>\n",
       "<path class=\"bond-10 atom-2 atom-11\" d=\"M 178.8,90.8 L 159.1,86.5\" style=\"fill:none;fill-rule:evenodd;stroke:#0000FF;stroke-width:2.0px;stroke-linecap:butt;stroke-linejoin:miter;stroke-opacity:1\"/>\n",
       "<path class=\"bond-10 atom-2 atom-11\" d=\"M 159.1,86.5 L 139.4,82.2\" style=\"fill:none;fill-rule:evenodd;stroke:#000000;stroke-width:2.0px;stroke-linecap:butt;stroke-linejoin:miter;stroke-opacity:1\"/>\n",
       "<path class=\"bond-11 atom-2 atom-12\" d=\"M 195.0,77.3 L 198.3,60.8\" style=\"fill:none;fill-rule:evenodd;stroke:#0000FF;stroke-width:2.0px;stroke-linecap:butt;stroke-linejoin:miter;stroke-opacity:1\"/>\n",
       "<path class=\"bond-11 atom-2 atom-12\" d=\"M 198.3,60.8 L 201.6,44.3\" style=\"fill:none;fill-rule:evenodd;stroke:#000000;stroke-width:2.0px;stroke-linecap:butt;stroke-linejoin:miter;stroke-opacity:1\"/>\n",
       "<path d=\"M 290.5,95.7 L 292.6,93.2 L 293.9,93.5\" style=\"fill:none;stroke:#000000;stroke-width:2.0px;stroke-linecap:butt;stroke-linejoin:miter;stroke-opacity:1;\"/>\n",
       "<path class=\"atom-2\" d=\"M 185.5 79.5 L 194.8 94.5 Q 195.7 96.0, 197.2 98.7 Q 198.7 101.4, 198.8 101.5 L 198.8 79.5 L 202.5 79.5 L 202.5 107.9 L 198.6 107.9 L 188.7 91.5 Q 187.5 89.5, 186.3 87.3 Q 185.1 85.1, 184.7 84.5 L 184.7 107.9 L 181.0 107.9 L 181.0 79.5 L 185.5 79.5 \" fill=\"#0000FF\"/>\n",
       "<path class=\"atom-2\" d=\"M 207.8 84.6 L 212.8 84.6 L 212.8 79.4 L 215.1 79.4 L 215.1 84.6 L 220.2 84.6 L 220.2 86.5 L 215.1 86.5 L 215.1 91.8 L 212.8 91.8 L 212.8 86.5 L 207.8 86.5 L 207.8 84.6 \" fill=\"#0000FF\"/>\n",
       "<path class=\"atom-4\" d=\"M 257.6 30.0 Q 257.6 23.2, 260.9 19.4 Q 264.3 15.6, 270.6 15.6 Q 276.8 15.6, 280.2 19.4 Q 283.6 23.2, 283.6 30.0 Q 283.6 36.8, 280.2 40.8 Q 276.8 44.6, 270.6 44.6 Q 264.3 44.6, 260.9 40.8 Q 257.6 36.9, 257.6 30.0 M 270.6 41.4 Q 274.9 41.4, 277.2 38.6 Q 279.6 35.6, 279.6 30.0 Q 279.6 24.4, 277.2 21.6 Q 274.9 18.8, 270.6 18.8 Q 266.2 18.8, 263.9 21.6 Q 261.6 24.4, 261.6 30.0 Q 261.6 35.7, 263.9 38.6 Q 266.2 41.4, 270.6 41.4 \" fill=\"#FF0000\"/>\n",
       "<path class=\"atom-5\" d=\"M 345.2 106.3 Q 345.2 99.5, 348.6 95.7 Q 351.9 91.9, 358.2 91.9 Q 364.5 91.9, 367.9 95.7 Q 371.2 99.5, 371.2 106.3 Q 371.2 113.2, 367.8 117.1 Q 364.4 121.0, 358.2 121.0 Q 352.0 121.0, 348.6 117.1 Q 345.2 113.2, 345.2 106.3 M 358.2 117.8 Q 362.5 117.8, 364.9 114.9 Q 367.2 112.0, 367.2 106.3 Q 367.2 100.7, 364.9 97.9 Q 362.5 95.1, 358.2 95.1 Q 353.9 95.1, 351.5 97.9 Q 349.2 100.7, 349.2 106.3 Q 349.2 112.0, 351.5 114.9 Q 353.9 117.8, 358.2 117.8 \" fill=\"#FF0000\"/>\n",
       "<path class=\"atom-5\" d=\"M 375.3 96.5 L 384.9 96.5 L 384.9 98.6 L 375.3 98.6 L 375.3 96.5 \" fill=\"#FF0000\"/>\n",
       "<path class=\"atom-6\" d=\"M 192.6 210.8 L 196.4 210.8 L 196.4 222.9 L 210.9 222.9 L 210.9 210.8 L 214.7 210.8 L 214.7 239.2 L 210.9 239.2 L 210.9 226.1 L 196.4 226.1 L 196.4 239.2 L 192.6 239.2 L 192.6 210.8 \" fill=\"#000000\"/>\n",
       "<path class=\"atom-7\" d=\"M 240.0 257.9 L 243.8 257.9 L 243.8 270.0 L 258.3 270.0 L 258.3 257.9 L 262.2 257.9 L 262.2 286.2 L 258.3 286.2 L 258.3 273.2 L 243.8 273.2 L 243.8 286.2 L 240.0 286.2 L 240.0 257.9 \" fill=\"#000000\"/>\n",
       "<path class=\"atom-8\" d=\"M 322.5 209.8 L 326.4 209.8 L 326.4 221.8 L 340.8 221.8 L 340.8 209.8 L 344.7 209.8 L 344.7 238.1 L 340.8 238.1 L 340.8 225.0 L 326.4 225.0 L 326.4 238.1 L 322.5 238.1 L 322.5 209.8 \" fill=\"#000000\"/>\n",
       "<path class=\"atom-9\" d=\"M 184.2 153.0 L 188.0 153.0 L 188.0 165.0 L 202.5 165.0 L 202.5 153.0 L 206.3 153.0 L 206.3 181.3 L 202.5 181.3 L 202.5 168.2 L 188.0 168.2 L 188.0 181.3 L 184.2 181.3 L 184.2 153.0 \" fill=\"#000000\"/>\n",
       "<path class=\"atom-10\" d=\"M 133.5 127.7 L 137.4 127.7 L 137.4 139.8 L 151.9 139.8 L 151.9 127.7 L 155.7 127.7 L 155.7 156.0 L 151.9 156.0 L 151.9 143.0 L 137.4 143.0 L 137.4 156.0 L 133.5 156.0 L 133.5 127.7 \" fill=\"#000000\"/>\n",
       "<path class=\"atom-11\" d=\"M 115.1 65.1 L 118.9 65.1 L 118.9 77.1 L 133.4 77.1 L 133.4 65.1 L 137.2 65.1 L 137.2 93.4 L 133.4 93.4 L 133.4 80.3 L 118.9 80.3 L 118.9 93.4 L 115.1 93.4 L 115.1 65.1 \" fill=\"#000000\"/>\n",
       "<path class=\"atom-12\" d=\"M 193.8 13.8 L 197.6 13.8 L 197.6 25.8 L 212.1 25.8 L 212.1 13.8 L 215.9 13.8 L 215.9 42.1 L 212.1 42.1 L 212.1 29.0 L 197.6 29.0 L 197.6 42.1 L 193.8 42.1 L 193.8 13.8 \" fill=\"#000000\"/>\n",
       "</svg>"
      ],
      "text/plain": [
       "<IPython.core.display.SVG object>"
      ]
     },
     "execution_count": 6,
     "metadata": {},
     "output_type": "execute_result"
    }
   ],
   "source": [
    "smiles_non_isomeric = Molecule.from_smiles(\n",
    "    \"CC([NH3+])C(=O)[O-]\", allow_undefined_stereo=True\n",
    ")\n",
    "\n",
    "assert not zw_l_alanine.is_isomorphic_with(smiles_non_isomeric)\n",
    "\n",
    "smiles_non_isomeric.visualize()"
   ]
  },
  {
   "cell_type": "markdown",
   "id": "da716060",
   "metadata": {},
   "source": [
    "## By hand\n",
    "\n",
    "You can always construct a `Molecule` by building it up from individual atoms and bonds. Other methods are generally easier, but it's a useful fallback for when you need to write your own constructor for an unsupported source format.\n",
    "\n",
    "The [`Molecule()`](openff.toolkit.topology.Molecule.__init__) constructor and the [`add_atom()`](openff.toolkit.topology.Molecule.add_atom) and [`add_bond()`](openff.toolkit.topology.Molecule.add_bond) methods are used to construct a `Molecule` by hand."
   ]
  },
  {
   "cell_type": "code",
   "execution_count": 7,
   "id": "aa8746eb",
   "metadata": {
    "execution": {
     "iopub.execute_input": "2023-09-27T14:44:01.894861Z",
     "iopub.status.busy": "2023-09-27T14:44:01.894699Z",
     "iopub.status.idle": "2023-09-27T14:44:01.911082Z",
     "shell.execute_reply": "2023-09-27T14:44:01.910726Z"
    }
   },
   "outputs": [
    {
     "data": {
      "image/svg+xml": [
       "<svg xmlns=\"http://www.w3.org/2000/svg\" xmlns:rdkit=\"http://www.rdkit.org/xml\" xmlns:xlink=\"http://www.w3.org/1999/xlink\" version=\"1.1\" baseProfile=\"full\" xml:space=\"preserve\" width=\"500px\" height=\"300px\" viewBox=\"0 0 500 300\">\n",
       "<!-- END OF HEADER -->\n",
       "<rect style=\"opacity:1.0;fill:#FFFFFF;stroke:none\" width=\"500.0\" height=\"300.0\" x=\"0.0\" y=\"0.0\"> </rect>\n",
       "<path class=\"bond-0 atom-0 atom-1\" d=\"M 285.6,251.8 L 294.2,226.3\" style=\"fill:none;fill-rule:evenodd;stroke:#FF0000;stroke-width:2.0px;stroke-linecap:butt;stroke-linejoin:miter;stroke-opacity:1\"/>\n",
       "<path class=\"bond-0 atom-0 atom-1\" d=\"M 294.2,226.3 L 302.8,200.7\" style=\"fill:none;fill-rule:evenodd;stroke:#000000;stroke-width:2.0px;stroke-linecap:butt;stroke-linejoin:miter;stroke-opacity:1\"/>\n",
       "<path class=\"bond-1 atom-1 atom-2\" d=\"M 300.8,206.6 L 329.5,200.6\" style=\"fill:none;fill-rule:evenodd;stroke:#000000;stroke-width:2.0px;stroke-linecap:butt;stroke-linejoin:miter;stroke-opacity:1\"/>\n",
       "<path class=\"bond-1 atom-1 atom-2\" d=\"M 329.5,200.6 L 358.2,194.6\" style=\"fill:none;fill-rule:evenodd;stroke:#FF0000;stroke-width:2.0px;stroke-linecap:butt;stroke-linejoin:miter;stroke-opacity:1\"/>\n",
       "<path class=\"bond-1 atom-1 atom-2\" d=\"M 298.7,196.1 L 327.3,190.1\" style=\"fill:none;fill-rule:evenodd;stroke:#000000;stroke-width:2.0px;stroke-linecap:butt;stroke-linejoin:miter;stroke-opacity:1\"/>\n",
       "<path class=\"bond-1 atom-1 atom-2\" d=\"M 327.3,190.1 L 356.0,184.1\" style=\"fill:none;fill-rule:evenodd;stroke:#FF0000;stroke-width:2.0px;stroke-linecap:butt;stroke-linejoin:miter;stroke-opacity:1\"/>\n",
       "<path class=\"bond-2 atom-1 atom-3\" d=\"M 302.8,200.7 L 256.1,148.4\" style=\"fill:none;fill-rule:evenodd;stroke:#000000;stroke-width:2.0px;stroke-linecap:butt;stroke-linejoin:miter;stroke-opacity:1\"/>\n",
       "<path class=\"bond-3 atom-3 atom-4\" d=\"M 252.7,147.4 L 253.0,146.6\" style=\"fill:none;fill-rule:evenodd;stroke:#000000;stroke-width:1.0px;stroke-linecap:butt;stroke-linejoin:miter;stroke-opacity:1\"/>\n",
       "<path class=\"bond-3 atom-3 atom-4\" d=\"M 249.3,146.3 L 250.0,144.8\" style=\"fill:none;fill-rule:evenodd;stroke:#000000;stroke-width:1.0px;stroke-linecap:butt;stroke-linejoin:miter;stroke-opacity:1\"/>\n",
       "<path class=\"bond-3 atom-3 atom-4\" d=\"M 245.9,145.3 L 246.9,143.0\" style=\"fill:none;fill-rule:evenodd;stroke:#000000;stroke-width:1.0px;stroke-linecap:butt;stroke-linejoin:miter;stroke-opacity:1\"/>\n",
       "<path class=\"bond-3 atom-3 atom-4\" d=\"M 242.5,144.3 L 243.9,141.2\" style=\"fill:none;fill-rule:evenodd;stroke:#000000;stroke-width:1.0px;stroke-linecap:butt;stroke-linejoin:miter;stroke-opacity:1\"/>\n",
       "<path class=\"bond-3 atom-3 atom-4\" d=\"M 239.2,143.2 L 240.8,139.4\" style=\"fill:none;fill-rule:evenodd;stroke:#000000;stroke-width:1.0px;stroke-linecap:butt;stroke-linejoin:miter;stroke-opacity:1\"/>\n",
       "<path class=\"bond-3 atom-3 atom-4\" d=\"M 235.8,142.2 L 237.8,137.7\" style=\"fill:none;fill-rule:evenodd;stroke:#000000;stroke-width:1.0px;stroke-linecap:butt;stroke-linejoin:miter;stroke-opacity:1\"/>\n",
       "<path class=\"bond-3 atom-3 atom-4\" d=\"M 232.4,141.1 L 234.7,135.9\" style=\"fill:none;fill-rule:evenodd;stroke:#000000;stroke-width:1.0px;stroke-linecap:butt;stroke-linejoin:miter;stroke-opacity:1\"/>\n",
       "<path class=\"bond-3 atom-3 atom-4\" d=\"M 229.0,140.1 L 231.6,134.1\" style=\"fill:none;fill-rule:evenodd;stroke:#000000;stroke-width:1.0px;stroke-linecap:butt;stroke-linejoin:miter;stroke-opacity:1\"/>\n",
       "<path class=\"bond-3 atom-3 atom-4\" d=\"M 225.6,139.1 L 228.6,132.3\" style=\"fill:none;fill-rule:evenodd;stroke:#000000;stroke-width:1.0px;stroke-linecap:butt;stroke-linejoin:miter;stroke-opacity:1\"/>\n",
       "<path class=\"bond-3 atom-3 atom-4\" d=\"M 222.2,138.0 L 225.5,130.5\" style=\"fill:none;fill-rule:evenodd;stroke:#000000;stroke-width:1.0px;stroke-linecap:butt;stroke-linejoin:miter;stroke-opacity:1\"/>\n",
       "<path class=\"bond-3 atom-3 atom-4\" d=\"M 218.8,137.0 L 222.5,128.7\" style=\"fill:none;fill-rule:evenodd;stroke:#000000;stroke-width:1.0px;stroke-linecap:butt;stroke-linejoin:miter;stroke-opacity:1\"/>\n",
       "<path class=\"bond-3 atom-3 atom-4\" d=\"M 215.5,135.9 L 219.4,126.9\" style=\"fill:none;fill-rule:evenodd;stroke:#000000;stroke-width:1.0px;stroke-linecap:butt;stroke-linejoin:miter;stroke-opacity:1\"/>\n",
       "<path class=\"bond-3 atom-3 atom-4\" d=\"M 212.1,134.9 L 216.4,125.1\" style=\"fill:none;fill-rule:evenodd;stroke:#000000;stroke-width:1.0px;stroke-linecap:butt;stroke-linejoin:miter;stroke-opacity:1\"/>\n",
       "<path class=\"bond-4 atom-3 atom-5\" d=\"M 256.1,148.4 L 276.5,80.1\" style=\"fill:none;fill-rule:evenodd;stroke:#000000;stroke-width:2.0px;stroke-linecap:butt;stroke-linejoin:miter;stroke-opacity:1\"/>\n",
       "<path class=\"bond-5 atom-5 atom-6\" d=\"M 276.5,80.1 L 331.6,94.8\" style=\"fill:none;fill-rule:evenodd;stroke:#000000;stroke-width:2.0px;stroke-linecap:butt;stroke-linejoin:miter;stroke-opacity:1\"/>\n",
       "<path class=\"bond-6 atom-5 atom-7\" d=\"M 276.5,80.1 L 312.5,42.8\" style=\"fill:none;fill-rule:evenodd;stroke:#000000;stroke-width:2.0px;stroke-linecap:butt;stroke-linejoin:miter;stroke-opacity:1\"/>\n",
       "<path class=\"bond-7 atom-5 atom-8\" d=\"M 276.5,80.1 L 238.5,42.7\" style=\"fill:none;fill-rule:evenodd;stroke:#000000;stroke-width:2.0px;stroke-linecap:butt;stroke-linejoin:miter;stroke-opacity:1\"/>\n",
       "<path class=\"bond-8 atom-3 atom-9\" d=\"M 256.1,148.4 L 235.3,166.5\" style=\"fill:none;fill-rule:evenodd;stroke:#000000;stroke-width:2.0px;stroke-linecap:butt;stroke-linejoin:miter;stroke-opacity:1\"/>\n",
       "<path class=\"bond-8 atom-3 atom-9\" d=\"M 235.3,166.5 L 214.5,184.6\" style=\"fill:none;fill-rule:evenodd;stroke:#0000FF;stroke-width:2.0px;stroke-linecap:butt;stroke-linejoin:miter;stroke-opacity:1\"/>\n",
       "<path class=\"bond-9 atom-9 atom-10\" d=\"M 182.3,188.1 L 170.2,176.0\" style=\"fill:none;fill-rule:evenodd;stroke:#0000FF;stroke-width:2.0px;stroke-linecap:butt;stroke-linejoin:miter;stroke-opacity:1\"/>\n",
       "<path class=\"bond-9 atom-9 atom-10\" d=\"M 170.2,176.0 L 158.2,163.9\" style=\"fill:none;fill-rule:evenodd;stroke:#000000;stroke-width:2.0px;stroke-linecap:butt;stroke-linejoin:miter;stroke-opacity:1\"/>\n",
       "<path class=\"bond-10 atom-9 atom-11\" d=\"M 182.3,204.3 L 160.7,209.2\" style=\"fill:none;fill-rule:evenodd;stroke:#0000FF;stroke-width:2.0px;stroke-linecap:butt;stroke-linejoin:miter;stroke-opacity:1\"/>\n",
       "<path class=\"bond-10 atom-9 atom-11\" d=\"M 160.7,209.2 L 139.1,214.2\" style=\"fill:none;fill-rule:evenodd;stroke:#000000;stroke-width:2.0px;stroke-linecap:butt;stroke-linejoin:miter;stroke-opacity:1\"/>\n",
       "<path class=\"bond-11 atom-9 atom-12\" d=\"M 198.8,217.8 L 202.6,236.2\" style=\"fill:none;fill-rule:evenodd;stroke:#0000FF;stroke-width:2.0px;stroke-linecap:butt;stroke-linejoin:miter;stroke-opacity:1\"/>\n",
       "<path class=\"bond-11 atom-9 atom-12\" d=\"M 202.6,236.2 L 206.5,254.6\" style=\"fill:none;fill-rule:evenodd;stroke:#000000;stroke-width:2.0px;stroke-linecap:butt;stroke-linejoin:miter;stroke-opacity:1\"/>\n",
       "<path d=\"M 302.3,202.0 L 302.8,200.7 L 300.4,198.1\" style=\"fill:none;stroke:#000000;stroke-width:2.0px;stroke-linecap:butt;stroke-linejoin:miter;stroke-opacity:1;\"/>\n",
       "<path class=\"atom-0\" d=\"M 267.0 268.5 Q 267.0 261.7, 270.4 257.9 Q 273.7 254.1, 280.0 254.1 Q 286.3 254.1, 289.6 257.9 Q 293.0 261.7, 293.0 268.5 Q 293.0 275.4, 289.6 279.3 Q 286.2 283.2, 280.0 283.2 Q 273.8 283.2, 270.4 279.3 Q 267.0 275.4, 267.0 268.5 M 280.0 280.0 Q 284.3 280.0, 286.6 277.1 Q 289.0 274.2, 289.0 268.5 Q 289.0 263.0, 286.6 260.2 Q 284.3 257.3, 280.0 257.3 Q 275.7 257.3, 273.3 260.1 Q 271.0 262.9, 271.0 268.5 Q 271.0 274.2, 273.3 277.1 Q 275.7 280.0, 280.0 280.0 \" fill=\"#FF0000\"/>\n",
       "<path class=\"atom-0\" d=\"M 297.0 258.7 L 306.7 258.7 L 306.7 260.8 L 297.0 260.8 L 297.0 258.7 \" fill=\"#FF0000\"/>\n",
       "<path class=\"atom-2\" d=\"M 359.5 186.3 Q 359.5 179.5, 362.8 175.7 Q 366.2 171.9, 372.5 171.9 Q 378.7 171.9, 382.1 175.7 Q 385.5 179.5, 385.5 186.3 Q 385.5 193.1, 382.1 197.1 Q 378.7 200.9, 372.5 200.9 Q 366.2 200.9, 362.8 197.1 Q 359.5 193.2, 359.5 186.3 M 372.5 197.7 Q 376.8 197.7, 379.1 194.9 Q 381.5 191.9, 381.5 186.3 Q 381.5 180.7, 379.1 177.9 Q 376.8 175.1, 372.5 175.1 Q 368.1 175.1, 365.8 177.9 Q 363.5 180.7, 363.5 186.3 Q 363.5 192.0, 365.8 194.9 Q 368.1 197.7, 372.5 197.7 \" fill=\"#FF0000\"/>\n",
       "<path class=\"atom-4\" d=\"M 187.4 108.9 L 191.2 108.9 L 191.2 120.9 L 205.7 120.9 L 205.7 108.9 L 209.5 108.9 L 209.5 137.2 L 205.7 137.2 L 205.7 124.1 L 191.2 124.1 L 191.2 137.2 L 187.4 137.2 L 187.4 108.9 \" fill=\"#000000\"/>\n",
       "<path class=\"atom-6\" d=\"M 334.0 84.2 L 337.8 84.2 L 337.8 96.2 L 352.3 96.2 L 352.3 84.2 L 356.1 84.2 L 356.1 112.5 L 352.3 112.5 L 352.3 99.4 L 337.8 99.4 L 337.8 112.5 L 334.0 112.5 L 334.0 84.2 \" fill=\"#000000\"/>\n",
       "<path class=\"atom-7\" d=\"M 314.9 14.7 L 318.7 14.7 L 318.7 26.7 L 333.2 26.7 L 333.2 14.7 L 337.0 14.7 L 337.0 43.0 L 333.2 43.0 L 333.2 29.9 L 318.7 29.9 L 318.7 43.0 L 314.9 43.0 L 314.9 14.7 \" fill=\"#000000\"/>\n",
       "<path class=\"atom-8\" d=\"M 214.0 15.3 L 217.8 15.3 L 217.8 27.3 L 232.3 27.3 L 232.3 15.3 L 236.2 15.3 L 236.2 43.6 L 232.3 43.6 L 232.3 30.5 L 217.8 30.5 L 217.8 43.6 L 214.0 43.6 L 214.0 15.3 \" fill=\"#000000\"/>\n",
       "<path class=\"atom-9\" d=\"M 189.1 187.1 L 198.4 202.1 Q 199.3 203.6, 200.8 206.2 Q 202.3 208.9, 202.4 209.1 L 202.4 187.1 L 206.1 187.1 L 206.1 215.4 L 202.2 215.4 L 192.3 199.0 Q 191.1 197.1, 189.9 194.9 Q 188.7 192.7, 188.3 192.0 L 188.3 215.4 L 184.6 215.4 L 184.6 187.1 L 189.1 187.1 \" fill=\"#0000FF\"/>\n",
       "<path class=\"atom-9\" d=\"M 211.4 192.2 L 216.4 192.2 L 216.4 186.9 L 218.6 186.9 L 218.6 192.2 L 223.8 192.2 L 223.8 194.1 L 218.6 194.1 L 218.6 199.4 L 216.4 199.4 L 216.4 194.1 L 211.4 194.1 L 211.4 192.2 \" fill=\"#0000FF\"/>\n",
       "<path class=\"atom-10\" d=\"M 133.7 136.2 L 137.5 136.2 L 137.5 148.3 L 152.0 148.3 L 152.0 136.2 L 155.8 136.2 L 155.8 164.5 L 152.0 164.5 L 152.0 151.5 L 137.5 151.5 L 137.5 164.5 L 133.7 164.5 L 133.7 136.2 \" fill=\"#000000\"/>\n",
       "<path class=\"atom-11\" d=\"M 114.5 203.1 L 118.4 203.1 L 118.4 215.1 L 132.9 215.1 L 132.9 203.1 L 136.7 203.1 L 136.7 231.4 L 132.9 231.4 L 132.9 218.3 L 118.4 218.3 L 118.4 231.4 L 114.5 231.4 L 114.5 203.1 \" fill=\"#000000\"/>\n",
       "<path class=\"atom-12\" d=\"M 198.8 257.0 L 202.7 257.0 L 202.7 269.0 L 217.2 269.0 L 217.2 257.0 L 221.0 257.0 L 221.0 285.3 L 217.2 285.3 L 217.2 272.2 L 202.7 272.2 L 202.7 285.3 L 198.8 285.3 L 198.8 257.0 \" fill=\"#000000\"/>\n",
       "</svg>"
      ],
      "text/plain": [
       "<IPython.core.display.SVG object>"
      ]
     },
     "execution_count": 7,
     "metadata": {},
     "output_type": "execute_result"
    }
   ],
   "source": [
    "by_hand = Molecule()\n",
    "by_hand.name = \"Zwitterionic l-Alanine\"\n",
    "\n",
    "by_hand.add_atom(\n",
    "    atomic_number=8,  # Atomic number 8 is Oxygen\n",
    "    formal_charge=-1,  # Formal negative charge\n",
    "    is_aromatic=False,  # Atom is not part of an aromatic system\n",
    "    stereochemistry=None,  # Optional argument; \"R\" or \"S\" stereochemistry\n",
    "    name=\"O-\",  # Optional argument; descriptive name for the atom\n",
    ")\n",
    "by_hand.add_atom(6, 0, False, name=\"C\")\n",
    "by_hand.add_atom(8, 0, False, name=\"O\")\n",
    "by_hand.add_atom(6, 0, False, stereochemistry=\"S\", name=\"CA\")\n",
    "by_hand.add_atom(1, 0, False, name=\"CAH\")\n",
    "by_hand.add_atom(6, 0, False, name=\"CB\")\n",
    "by_hand.add_atom(1, 0, False, name=\"HB1\")\n",
    "by_hand.add_atom(1, 0, False, name=\"HB2\")\n",
    "by_hand.add_atom(1, 0, False, name=\"HB3\")\n",
    "by_hand.add_atom(7, +1, False, name=\"N+\")\n",
    "by_hand.add_atom(1, 0, False, name=\"HN1\")\n",
    "by_hand.add_atom(1, 0, False, name=\"HN2\")\n",
    "by_hand.add_atom(1, 0, False, name=\"HN3\")\n",
    "\n",
    "\n",
    "by_hand.add_bond(\n",
    "    atom1=0,  # First (zero-indexed) atom specified above (\"O-\")\n",
    "    atom2=1,  # Second atom specified above (\"C\")\n",
    "    bond_order=1,  # Single bond\n",
    "    is_aromatic=False,  # Bond is not aromatic\n",
    "    stereochemistry=None,  # Optional argument; \"E\" or \"Z\" stereochemistry\n",
    "    fractional_bond_order=None,  # Optional argument; Wiberg (or similar) bond order\n",
    ")\n",
    "by_hand.add_bond(1, 2, 2, False)  # C = O\n",
    "by_hand.add_bond(1, 3, 1, False)  # C - CA\n",
    "by_hand.add_bond(3, 4, 1, False)  # CA - CAH\n",
    "by_hand.add_bond(3, 5, 1, False)  # CA - CB\n",
    "by_hand.add_bond(5, 6, 1, False)  # CB - HB1\n",
    "by_hand.add_bond(5, 7, 1, False)  # CB - HB2\n",
    "by_hand.add_bond(5, 8, 1, False)  # CB - HB3\n",
    "by_hand.add_bond(3, 9, 1, False)  # CB - N+\n",
    "by_hand.add_bond(9, 10, 1, False)  # N+ - HN1\n",
    "by_hand.add_bond(9, 11, 1, False)  # N+ - HN2\n",
    "by_hand.add_bond(9, 12, 1, False)  # N+ - HN3\n",
    "\n",
    "assert zw_l_alanine.is_isomorphic_with(by_hand)\n",
    "\n",
    "by_hand.visualize()"
   ]
  },
  {
   "cell_type": "markdown",
   "id": "15931dd9",
   "metadata": {},
   "source": [
    "### From a dictionary\n",
    "\n",
    "Rather than build up the `Molecule` one method at a time, the [`Molecule.from_dict()`](openff.toolkit.topology.Molecule.from_dict) method can construct a `Molecule` in one shot from a Python `dict` that describes the molecule in question. This allows `Molecule` objects to be written to and read from disk in any format that can be interpreted as a `dict`; this mechanism underlies the [`from_bson()`](openff.toolkit.topology.Molecule.from_bson), [`from_json()`](openff.toolkit.topology.Molecule.from_json), [`from_messagepack()`](openff.toolkit.topology.Molecule.from_messagepack), [`from_pickle()`](openff.toolkit.topology.Molecule.from_pickle), [`from_toml()`](openff.toolkit.topology.Molecule.from_toml), [`from_xml()`](openff.toolkit.topology.Molecule.from_xml), and [`from_yaml()`](openff.toolkit.topology.Molecule.from_yaml) methods.\n",
    "\n",
    "This format can get very verbose, as it is intended for serialization, so this example uses hydrogen cyanide rather than alanine."
   ]
  },
  {
   "cell_type": "code",
   "execution_count": 8,
   "id": "dc756a7f",
   "metadata": {
    "execution": {
     "iopub.execute_input": "2023-09-27T14:44:01.913235Z",
     "iopub.status.busy": "2023-09-27T14:44:01.913057Z",
     "iopub.status.idle": "2023-09-27T14:44:01.919240Z",
     "shell.execute_reply": "2023-09-27T14:44:01.918879Z"
    }
   },
   "outputs": [
    {
     "data": {
      "image/svg+xml": [
       "<svg xmlns=\"http://www.w3.org/2000/svg\" xmlns:rdkit=\"http://www.rdkit.org/xml\" xmlns:xlink=\"http://www.w3.org/1999/xlink\" version=\"1.1\" baseProfile=\"full\" xml:space=\"preserve\" width=\"500px\" height=\"300px\" viewBox=\"0 0 500 300\">\n",
       "<!-- END OF HEADER -->\n",
       "<rect style=\"opacity:1.0;fill:#FFFFFF;stroke:none\" width=\"500.0\" height=\"300.0\" x=\"0.0\" y=\"0.0\"> </rect>\n",
       "<path class=\"bond-0 atom-0 atom-1\" d=\"M 100.7,236.1 L 250.2,150.5\" style=\"fill:none;fill-rule:evenodd;stroke:#000000;stroke-width:2.0px;stroke-linecap:butt;stroke-linejoin:miter;stroke-opacity:1\"/>\n",
       "<path class=\"bond-1 atom-1 atom-2\" d=\"M 250.2,150.5 L 325.1,107.7\" style=\"fill:none;fill-rule:evenodd;stroke:#000000;stroke-width:2.0px;stroke-linecap:butt;stroke-linejoin:miter;stroke-opacity:1\"/>\n",
       "<path class=\"bond-1 atom-1 atom-2\" d=\"M 325.1,107.7 L 399.9,64.8\" style=\"fill:none;fill-rule:evenodd;stroke:#0000FF;stroke-width:2.0px;stroke-linecap:butt;stroke-linejoin:miter;stroke-opacity:1\"/>\n",
       "<path class=\"bond-1 atom-1 atom-2\" d=\"M 235.8,125.5 L 310.7,82.6\" style=\"fill:none;fill-rule:evenodd;stroke:#000000;stroke-width:2.0px;stroke-linecap:butt;stroke-linejoin:miter;stroke-opacity:1\"/>\n",
       "<path class=\"bond-1 atom-1 atom-2\" d=\"M 310.7,82.6 L 385.6,39.8\" style=\"fill:none;fill-rule:evenodd;stroke:#0000FF;stroke-width:2.0px;stroke-linecap:butt;stroke-linejoin:miter;stroke-opacity:1\"/>\n",
       "<path class=\"bond-1 atom-1 atom-2\" d=\"M 264.5,175.6 L 339.4,132.7\" style=\"fill:none;fill-rule:evenodd;stroke:#000000;stroke-width:2.0px;stroke-linecap:butt;stroke-linejoin:miter;stroke-opacity:1\"/>\n",
       "<path class=\"bond-1 atom-1 atom-2\" d=\"M 339.4,132.7 L 414.3,89.8\" style=\"fill:none;fill-rule:evenodd;stroke:#0000FF;stroke-width:2.0px;stroke-linecap:butt;stroke-linejoin:miter;stroke-opacity:1\"/>\n",
       "<path d=\"M 242.7,154.8 L 250.2,150.5 L 253.9,148.4\" style=\"fill:none;stroke:#000000;stroke-width:2.0px;stroke-linecap:butt;stroke-linejoin:miter;stroke-opacity:1;\"/>\n",
       "<path class=\"atom-0\" d=\"M 72.2 231.9 L 76.1 231.9 L 76.1 243.9 L 90.6 243.9 L 90.6 231.9 L 94.4 231.9 L 94.4 260.2 L 90.6 260.2 L 90.6 247.1 L 76.1 247.1 L 76.1 260.2 L 72.2 260.2 L 72.2 231.9 \" fill=\"#000000\"/>\n",
       "<path class=\"atom-2\" d=\"M 410.8 40.9 L 420.0 55.9 Q 421.0 57.3, 422.4 60.0 Q 423.9 62.7, 424.0 62.9 L 424.0 40.9 L 427.8 40.9 L 427.8 69.2 L 423.9 69.2 L 413.9 52.8 Q 412.8 50.9, 411.5 48.7 Q 410.3 46.5, 410.0 45.8 L 410.0 69.2 L 406.3 69.2 L 406.3 40.9 L 410.8 40.9 \" fill=\"#0000FF\"/>\n",
       "</svg>"
      ],
      "text/plain": [
       "<IPython.core.display.SVG object>"
      ]
     },
     "execution_count": 8,
     "metadata": {},
     "output_type": "execute_result"
    }
   ],
   "source": [
    "molecule_dict = {\n",
    "    \"name\": \"\",\n",
    "    \"atoms\": [\n",
    "        {\n",
    "            \"atomic_number\": 1,\n",
    "            \"formal_charge\": 0,\n",
    "            \"is_aromatic\": False,\n",
    "            \"stereochemistry\": None,\n",
    "            \"name\": \"H\",\n",
    "        },\n",
    "        {\n",
    "            \"atomic_number\": 6,\n",
    "            \"formal_charge\": 0,\n",
    "            \"is_aromatic\": False,\n",
    "            \"stereochemistry\": None,\n",
    "            \"name\": \"C\",\n",
    "        },\n",
    "        {\n",
    "            \"atomic_number\": 7,\n",
    "            \"formal_charge\": 0,\n",
    "            \"is_aromatic\": False,\n",
    "            \"stereochemistry\": None,\n",
    "            \"name\": \"N\",\n",
    "        },\n",
    "    ],\n",
    "    \"virtual_sites\": [],\n",
    "    \"bonds\": [\n",
    "        {\n",
    "            \"atom1\": 0,\n",
    "            \"atom2\": 1,\n",
    "            \"bond_order\": 1,\n",
    "            \"is_aromatic\": False,\n",
    "            \"stereochemistry\": None,\n",
    "            \"fractional_bond_order\": None,\n",
    "        },\n",
    "        {\n",
    "            \"atom1\": 1,\n",
    "            \"atom2\": 2,\n",
    "            \"bond_order\": 3,\n",
    "            \"is_aromatic\": False,\n",
    "            \"stereochemistry\": None,\n",
    "            \"fractional_bond_order\": None,\n",
    "        },\n",
    "    ],\n",
    "    \"properties\": {},\n",
    "    \"conformers\": None,\n",
    "    \"partial_charges\": None,\n",
    "    \"partial_charges_unit\": None,\n",
    "    \"hierarchy_schemes\": {},\n",
    "}\n",
    "\n",
    "from_dictionary = Molecule.from_dict(molecule_dict)\n",
    "\n",
    "from_dictionary.visualize()"
   ]
  },
  {
   "cell_type": "markdown",
   "id": "1b50a800",
   "metadata": {},
   "source": [
    "## From a file\n",
    "\n",
    "We can construct a `Molecule` from a file or file-like object with the [`from_file()`](openff.toolkit.topology.Molecule.from_file) method. We're a bit constrained in what file formats we can accept, because they need to provide all the information needed to construct the molecular graph; not just coordinates, but also elements, formal charges, bond orders, and stereochemistry."
   ]
  },
  {
   "cell_type": "markdown",
   "id": "79aec960",
   "metadata": {},
   "source": [
    "### From SDF file\n",
    "\n",
    "We generally recommend the SDF format. The SDF file used here can be found [on GitHub](https://github.com/openforcefield/openff-toolkit/blob/main/docs/users/zw_l_alanine.sdf)"
   ]
  },
  {
   "cell_type": "code",
   "execution_count": 9,
   "id": "a78e4e0f",
   "metadata": {
    "execution": {
     "iopub.execute_input": "2023-09-27T14:44:01.921416Z",
     "iopub.status.busy": "2023-09-27T14:44:01.921240Z",
     "iopub.status.idle": "2023-09-27T14:44:01.960794Z",
     "shell.execute_reply": "2023-09-27T14:44:01.960397Z"
    }
   },
   "outputs": [
    {
     "data": {
      "image/svg+xml": [
       "<svg xmlns=\"http://www.w3.org/2000/svg\" xmlns:rdkit=\"http://www.rdkit.org/xml\" xmlns:xlink=\"http://www.w3.org/1999/xlink\" version=\"1.1\" baseProfile=\"full\" xml:space=\"preserve\" width=\"500px\" height=\"300px\" viewBox=\"0 0 500 300\">\n",
       "<!-- END OF HEADER -->\n",
       "<rect style=\"opacity:1.0;fill:#FFFFFF;stroke:none\" width=\"500.0\" height=\"300.0\" x=\"0.0\" y=\"0.0\"> </rect>\n",
       "<path class=\"bond-0 atom-0 atom-1\" d=\"M 276.5,80.1 L 256.1,148.4\" style=\"fill:none;fill-rule:evenodd;stroke:#000000;stroke-width:2.0px;stroke-linecap:butt;stroke-linejoin:miter;stroke-opacity:1\"/>\n",
       "<path class=\"bond-1 atom-1 atom-2\" d=\"M 256.1,148.4 L 235.3,166.5\" style=\"fill:none;fill-rule:evenodd;stroke:#000000;stroke-width:2.0px;stroke-linecap:butt;stroke-linejoin:miter;stroke-opacity:1\"/>\n",
       "<path class=\"bond-1 atom-1 atom-2\" d=\"M 235.3,166.5 L 214.5,184.6\" style=\"fill:none;fill-rule:evenodd;stroke:#0000FF;stroke-width:2.0px;stroke-linecap:butt;stroke-linejoin:miter;stroke-opacity:1\"/>\n",
       "<path class=\"bond-2 atom-1 atom-3\" d=\"M 256.1,148.4 L 302.8,200.7\" style=\"fill:none;fill-rule:evenodd;stroke:#000000;stroke-width:2.0px;stroke-linecap:butt;stroke-linejoin:miter;stroke-opacity:1\"/>\n",
       "<path class=\"bond-3 atom-3 atom-4\" d=\"M 302.8,200.7 L 294.2,226.3\" style=\"fill:none;fill-rule:evenodd;stroke:#000000;stroke-width:2.0px;stroke-linecap:butt;stroke-linejoin:miter;stroke-opacity:1\"/>\n",
       "<path class=\"bond-3 atom-3 atom-4\" d=\"M 294.2,226.3 L 285.6,251.8\" style=\"fill:none;fill-rule:evenodd;stroke:#FF0000;stroke-width:2.0px;stroke-linecap:butt;stroke-linejoin:miter;stroke-opacity:1\"/>\n",
       "<path class=\"bond-4 atom-3 atom-5\" d=\"M 300.8,206.6 L 329.5,200.6\" style=\"fill:none;fill-rule:evenodd;stroke:#000000;stroke-width:2.0px;stroke-linecap:butt;stroke-linejoin:miter;stroke-opacity:1\"/>\n",
       "<path class=\"bond-4 atom-3 atom-5\" d=\"M 329.5,200.6 L 358.2,194.6\" style=\"fill:none;fill-rule:evenodd;stroke:#FF0000;stroke-width:2.0px;stroke-linecap:butt;stroke-linejoin:miter;stroke-opacity:1\"/>\n",
       "<path class=\"bond-4 atom-3 atom-5\" d=\"M 298.7,196.1 L 327.3,190.1\" style=\"fill:none;fill-rule:evenodd;stroke:#000000;stroke-width:2.0px;stroke-linecap:butt;stroke-linejoin:miter;stroke-opacity:1\"/>\n",
       "<path class=\"bond-4 atom-3 atom-5\" d=\"M 327.3,190.1 L 356.0,184.1\" style=\"fill:none;fill-rule:evenodd;stroke:#FF0000;stroke-width:2.0px;stroke-linecap:butt;stroke-linejoin:miter;stroke-opacity:1\"/>\n",
       "<path class=\"bond-5 atom-0 atom-6\" d=\"M 276.5,80.1 L 331.6,94.8\" style=\"fill:none;fill-rule:evenodd;stroke:#000000;stroke-width:2.0px;stroke-linecap:butt;stroke-linejoin:miter;stroke-opacity:1\"/>\n",
       "<path class=\"bond-6 atom-0 atom-7\" d=\"M 276.5,80.1 L 312.5,42.8\" style=\"fill:none;fill-rule:evenodd;stroke:#000000;stroke-width:2.0px;stroke-linecap:butt;stroke-linejoin:miter;stroke-opacity:1\"/>\n",
       "<path class=\"bond-7 atom-0 atom-8\" d=\"M 276.5,80.1 L 238.5,42.7\" style=\"fill:none;fill-rule:evenodd;stroke:#000000;stroke-width:2.0px;stroke-linecap:butt;stroke-linejoin:miter;stroke-opacity:1\"/>\n",
       "<path class=\"bond-8 atom-1 atom-9\" d=\"M 252.7,147.4 L 253.0,146.6\" style=\"fill:none;fill-rule:evenodd;stroke:#000000;stroke-width:1.0px;stroke-linecap:butt;stroke-linejoin:miter;stroke-opacity:1\"/>\n",
       "<path class=\"bond-8 atom-1 atom-9\" d=\"M 249.3,146.3 L 250.0,144.8\" style=\"fill:none;fill-rule:evenodd;stroke:#000000;stroke-width:1.0px;stroke-linecap:butt;stroke-linejoin:miter;stroke-opacity:1\"/>\n",
       "<path class=\"bond-8 atom-1 atom-9\" d=\"M 245.9,145.3 L 246.9,143.0\" style=\"fill:none;fill-rule:evenodd;stroke:#000000;stroke-width:1.0px;stroke-linecap:butt;stroke-linejoin:miter;stroke-opacity:1\"/>\n",
       "<path class=\"bond-8 atom-1 atom-9\" d=\"M 242.5,144.3 L 243.9,141.2\" style=\"fill:none;fill-rule:evenodd;stroke:#000000;stroke-width:1.0px;stroke-linecap:butt;stroke-linejoin:miter;stroke-opacity:1\"/>\n",
       "<path class=\"bond-8 atom-1 atom-9\" d=\"M 239.2,143.2 L 240.8,139.4\" style=\"fill:none;fill-rule:evenodd;stroke:#000000;stroke-width:1.0px;stroke-linecap:butt;stroke-linejoin:miter;stroke-opacity:1\"/>\n",
       "<path class=\"bond-8 atom-1 atom-9\" d=\"M 235.8,142.2 L 237.8,137.7\" style=\"fill:none;fill-rule:evenodd;stroke:#000000;stroke-width:1.0px;stroke-linecap:butt;stroke-linejoin:miter;stroke-opacity:1\"/>\n",
       "<path class=\"bond-8 atom-1 atom-9\" d=\"M 232.4,141.1 L 234.7,135.9\" style=\"fill:none;fill-rule:evenodd;stroke:#000000;stroke-width:1.0px;stroke-linecap:butt;stroke-linejoin:miter;stroke-opacity:1\"/>\n",
       "<path class=\"bond-8 atom-1 atom-9\" d=\"M 229.0,140.1 L 231.6,134.1\" style=\"fill:none;fill-rule:evenodd;stroke:#000000;stroke-width:1.0px;stroke-linecap:butt;stroke-linejoin:miter;stroke-opacity:1\"/>\n",
       "<path class=\"bond-8 atom-1 atom-9\" d=\"M 225.6,139.1 L 228.6,132.3\" style=\"fill:none;fill-rule:evenodd;stroke:#000000;stroke-width:1.0px;stroke-linecap:butt;stroke-linejoin:miter;stroke-opacity:1\"/>\n",
       "<path class=\"bond-8 atom-1 atom-9\" d=\"M 222.2,138.0 L 225.5,130.5\" style=\"fill:none;fill-rule:evenodd;stroke:#000000;stroke-width:1.0px;stroke-linecap:butt;stroke-linejoin:miter;stroke-opacity:1\"/>\n",
       "<path class=\"bond-8 atom-1 atom-9\" d=\"M 218.8,137.0 L 222.5,128.7\" style=\"fill:none;fill-rule:evenodd;stroke:#000000;stroke-width:1.0px;stroke-linecap:butt;stroke-linejoin:miter;stroke-opacity:1\"/>\n",
       "<path class=\"bond-8 atom-1 atom-9\" d=\"M 215.5,135.9 L 219.4,126.9\" style=\"fill:none;fill-rule:evenodd;stroke:#000000;stroke-width:1.0px;stroke-linecap:butt;stroke-linejoin:miter;stroke-opacity:1\"/>\n",
       "<path class=\"bond-8 atom-1 atom-9\" d=\"M 212.1,134.9 L 216.4,125.1\" style=\"fill:none;fill-rule:evenodd;stroke:#000000;stroke-width:1.0px;stroke-linecap:butt;stroke-linejoin:miter;stroke-opacity:1\"/>\n",
       "<path class=\"bond-9 atom-2 atom-10\" d=\"M 182.3,188.1 L 170.2,176.0\" style=\"fill:none;fill-rule:evenodd;stroke:#0000FF;stroke-width:2.0px;stroke-linecap:butt;stroke-linejoin:miter;stroke-opacity:1\"/>\n",
       "<path class=\"bond-9 atom-2 atom-10\" d=\"M 170.2,176.0 L 158.2,163.9\" style=\"fill:none;fill-rule:evenodd;stroke:#000000;stroke-width:2.0px;stroke-linecap:butt;stroke-linejoin:miter;stroke-opacity:1\"/>\n",
       "<path class=\"bond-10 atom-2 atom-11\" d=\"M 182.3,204.3 L 160.7,209.2\" style=\"fill:none;fill-rule:evenodd;stroke:#0000FF;stroke-width:2.0px;stroke-linecap:butt;stroke-linejoin:miter;stroke-opacity:1\"/>\n",
       "<path class=\"bond-10 atom-2 atom-11\" d=\"M 160.7,209.2 L 139.1,214.2\" style=\"fill:none;fill-rule:evenodd;stroke:#000000;stroke-width:2.0px;stroke-linecap:butt;stroke-linejoin:miter;stroke-opacity:1\"/>\n",
       "<path class=\"bond-11 atom-2 atom-12\" d=\"M 198.8,217.8 L 202.6,236.2\" style=\"fill:none;fill-rule:evenodd;stroke:#0000FF;stroke-width:2.0px;stroke-linecap:butt;stroke-linejoin:miter;stroke-opacity:1\"/>\n",
       "<path class=\"bond-11 atom-2 atom-12\" d=\"M 202.6,236.2 L 206.5,254.6\" style=\"fill:none;fill-rule:evenodd;stroke:#000000;stroke-width:2.0px;stroke-linecap:butt;stroke-linejoin:miter;stroke-opacity:1\"/>\n",
       "<path d=\"M 300.4,198.1 L 302.8,200.7 L 302.3,202.0\" style=\"fill:none;stroke:#000000;stroke-width:2.0px;stroke-linecap:butt;stroke-linejoin:miter;stroke-opacity:1;\"/>\n",
       "<path class=\"atom-2\" d=\"M 189.1 187.1 L 198.4 202.1 Q 199.3 203.6, 200.8 206.2 Q 202.3 208.9, 202.4 209.1 L 202.4 187.1 L 206.1 187.1 L 206.1 215.4 L 202.2 215.4 L 192.3 199.0 Q 191.1 197.1, 189.9 194.9 Q 188.7 192.7, 188.3 192.0 L 188.3 215.4 L 184.6 215.4 L 184.6 187.1 L 189.1 187.1 \" fill=\"#0000FF\"/>\n",
       "<path class=\"atom-2\" d=\"M 211.4 192.2 L 216.4 192.2 L 216.4 186.9 L 218.6 186.9 L 218.6 192.2 L 223.8 192.2 L 223.8 194.1 L 218.6 194.1 L 218.6 199.4 L 216.4 199.4 L 216.4 194.1 L 211.4 194.1 L 211.4 192.2 \" fill=\"#0000FF\"/>\n",
       "<path class=\"atom-4\" d=\"M 267.0 268.5 Q 267.0 261.7, 270.4 257.9 Q 273.7 254.1, 280.0 254.1 Q 286.3 254.1, 289.6 257.9 Q 293.0 261.7, 293.0 268.5 Q 293.0 275.4, 289.6 279.3 Q 286.2 283.2, 280.0 283.2 Q 273.8 283.2, 270.4 279.3 Q 267.0 275.4, 267.0 268.5 M 280.0 280.0 Q 284.3 280.0, 286.6 277.1 Q 289.0 274.2, 289.0 268.5 Q 289.0 263.0, 286.6 260.2 Q 284.3 257.3, 280.0 257.3 Q 275.7 257.3, 273.3 260.1 Q 271.0 262.9, 271.0 268.5 Q 271.0 274.2, 273.3 277.1 Q 275.7 280.0, 280.0 280.0 \" fill=\"#FF0000\"/>\n",
       "<path class=\"atom-4\" d=\"M 297.0 258.7 L 306.7 258.7 L 306.7 260.8 L 297.0 260.8 L 297.0 258.7 \" fill=\"#FF0000\"/>\n",
       "<path class=\"atom-5\" d=\"M 359.5 186.3 Q 359.5 179.5, 362.8 175.7 Q 366.2 171.9, 372.5 171.9 Q 378.7 171.9, 382.1 175.7 Q 385.5 179.5, 385.5 186.3 Q 385.5 193.1, 382.1 197.1 Q 378.7 200.9, 372.5 200.9 Q 366.2 200.9, 362.8 197.1 Q 359.5 193.2, 359.5 186.3 M 372.5 197.7 Q 376.8 197.7, 379.1 194.9 Q 381.5 191.9, 381.5 186.3 Q 381.5 180.7, 379.1 177.9 Q 376.8 175.1, 372.5 175.1 Q 368.1 175.1, 365.8 177.9 Q 363.5 180.7, 363.5 186.3 Q 363.5 192.0, 365.8 194.9 Q 368.1 197.7, 372.5 197.7 \" fill=\"#FF0000\"/>\n",
       "<path class=\"atom-6\" d=\"M 334.0 84.2 L 337.8 84.2 L 337.8 96.2 L 352.3 96.2 L 352.3 84.2 L 356.1 84.2 L 356.1 112.5 L 352.3 112.5 L 352.3 99.4 L 337.8 99.4 L 337.8 112.5 L 334.0 112.5 L 334.0 84.2 \" fill=\"#000000\"/>\n",
       "<path class=\"atom-7\" d=\"M 314.9 14.7 L 318.7 14.7 L 318.7 26.7 L 333.2 26.7 L 333.2 14.7 L 337.0 14.7 L 337.0 43.0 L 333.2 43.0 L 333.2 29.9 L 318.7 29.9 L 318.7 43.0 L 314.9 43.0 L 314.9 14.7 \" fill=\"#000000\"/>\n",
       "<path class=\"atom-8\" d=\"M 214.0 15.3 L 217.8 15.3 L 217.8 27.3 L 232.3 27.3 L 232.3 15.3 L 236.2 15.3 L 236.2 43.6 L 232.3 43.6 L 232.3 30.5 L 217.8 30.5 L 217.8 43.6 L 214.0 43.6 L 214.0 15.3 \" fill=\"#000000\"/>\n",
       "<path class=\"atom-9\" d=\"M 187.4 108.9 L 191.2 108.9 L 191.2 120.9 L 205.7 120.9 L 205.7 108.9 L 209.5 108.9 L 209.5 137.2 L 205.7 137.2 L 205.7 124.1 L 191.2 124.1 L 191.2 137.2 L 187.4 137.2 L 187.4 108.9 \" fill=\"#000000\"/>\n",
       "<path class=\"atom-10\" d=\"M 133.7 136.2 L 137.5 136.2 L 137.5 148.3 L 152.0 148.3 L 152.0 136.2 L 155.8 136.2 L 155.8 164.5 L 152.0 164.5 L 152.0 151.5 L 137.5 151.5 L 137.5 164.5 L 133.7 164.5 L 133.7 136.2 \" fill=\"#000000\"/>\n",
       "<path class=\"atom-11\" d=\"M 114.5 203.1 L 118.4 203.1 L 118.4 215.1 L 132.9 215.1 L 132.9 203.1 L 136.7 203.1 L 136.7 231.4 L 132.9 231.4 L 132.9 218.3 L 118.4 218.3 L 118.4 231.4 L 114.5 231.4 L 114.5 203.1 \" fill=\"#000000\"/>\n",
       "<path class=\"atom-12\" d=\"M 198.8 257.0 L 202.7 257.0 L 202.7 269.0 L 217.2 269.0 L 217.2 257.0 L 221.0 257.0 L 221.0 285.3 L 217.2 285.3 L 217.2 272.2 L 202.7 272.2 L 202.7 285.3 L 198.8 285.3 L 198.8 257.0 \" fill=\"#000000\"/>\n",
       "</svg>"
      ],
      "text/plain": [
       "<IPython.core.display.SVG object>"
      ]
     },
     "execution_count": 9,
     "metadata": {},
     "output_type": "execute_result"
    }
   ],
   "source": [
    "sdf_path = Molecule.from_file(\"../sdf/zw_l_alanine.sdf\")\n",
    "assert zw_l_alanine.is_isomorphic_with(sdf_path)\n",
    "sdf_path.visualize()"
   ]
  },
  {
   "cell_type": "markdown",
   "id": "3508a6ed",
   "metadata": {},
   "source": [
    "### From SDF file object\n",
    "\n",
    "`from_file()` can also take a file object, rather than a path. Note that the object must be in binary mode!"
   ]
  },
  {
   "cell_type": "code",
   "execution_count": 10,
   "id": "1cecd71c",
   "metadata": {
    "execution": {
     "iopub.execute_input": "2023-09-27T14:44:01.962880Z",
     "iopub.status.busy": "2023-09-27T14:44:01.962713Z",
     "iopub.status.idle": "2023-09-27T14:44:02.000177Z",
     "shell.execute_reply": "2023-09-27T14:44:01.999788Z"
    }
   },
   "outputs": [
    {
     "data": {
      "image/svg+xml": [
       "<svg xmlns=\"http://www.w3.org/2000/svg\" xmlns:rdkit=\"http://www.rdkit.org/xml\" xmlns:xlink=\"http://www.w3.org/1999/xlink\" version=\"1.1\" baseProfile=\"full\" xml:space=\"preserve\" width=\"500px\" height=\"300px\" viewBox=\"0 0 500 300\">\n",
       "<!-- END OF HEADER -->\n",
       "<rect style=\"opacity:1.0;fill:#FFFFFF;stroke:none\" width=\"500.0\" height=\"300.0\" x=\"0.0\" y=\"0.0\"> </rect>\n",
       "<path class=\"bond-0 atom-0 atom-1\" d=\"M 276.5,80.1 L 256.1,148.4\" style=\"fill:none;fill-rule:evenodd;stroke:#000000;stroke-width:2.0px;stroke-linecap:butt;stroke-linejoin:miter;stroke-opacity:1\"/>\n",
       "<path class=\"bond-1 atom-1 atom-2\" d=\"M 256.1,148.4 L 235.3,166.5\" style=\"fill:none;fill-rule:evenodd;stroke:#000000;stroke-width:2.0px;stroke-linecap:butt;stroke-linejoin:miter;stroke-opacity:1\"/>\n",
       "<path class=\"bond-1 atom-1 atom-2\" d=\"M 235.3,166.5 L 214.5,184.6\" style=\"fill:none;fill-rule:evenodd;stroke:#0000FF;stroke-width:2.0px;stroke-linecap:butt;stroke-linejoin:miter;stroke-opacity:1\"/>\n",
       "<path class=\"bond-2 atom-1 atom-3\" d=\"M 256.1,148.4 L 302.8,200.7\" style=\"fill:none;fill-rule:evenodd;stroke:#000000;stroke-width:2.0px;stroke-linecap:butt;stroke-linejoin:miter;stroke-opacity:1\"/>\n",
       "<path class=\"bond-3 atom-3 atom-4\" d=\"M 302.8,200.7 L 294.2,226.3\" style=\"fill:none;fill-rule:evenodd;stroke:#000000;stroke-width:2.0px;stroke-linecap:butt;stroke-linejoin:miter;stroke-opacity:1\"/>\n",
       "<path class=\"bond-3 atom-3 atom-4\" d=\"M 294.2,226.3 L 285.6,251.8\" style=\"fill:none;fill-rule:evenodd;stroke:#FF0000;stroke-width:2.0px;stroke-linecap:butt;stroke-linejoin:miter;stroke-opacity:1\"/>\n",
       "<path class=\"bond-4 atom-3 atom-5\" d=\"M 300.8,206.6 L 329.5,200.6\" style=\"fill:none;fill-rule:evenodd;stroke:#000000;stroke-width:2.0px;stroke-linecap:butt;stroke-linejoin:miter;stroke-opacity:1\"/>\n",
       "<path class=\"bond-4 atom-3 atom-5\" d=\"M 329.5,200.6 L 358.2,194.6\" style=\"fill:none;fill-rule:evenodd;stroke:#FF0000;stroke-width:2.0px;stroke-linecap:butt;stroke-linejoin:miter;stroke-opacity:1\"/>\n",
       "<path class=\"bond-4 atom-3 atom-5\" d=\"M 298.7,196.1 L 327.3,190.1\" style=\"fill:none;fill-rule:evenodd;stroke:#000000;stroke-width:2.0px;stroke-linecap:butt;stroke-linejoin:miter;stroke-opacity:1\"/>\n",
       "<path class=\"bond-4 atom-3 atom-5\" d=\"M 327.3,190.1 L 356.0,184.1\" style=\"fill:none;fill-rule:evenodd;stroke:#FF0000;stroke-width:2.0px;stroke-linecap:butt;stroke-linejoin:miter;stroke-opacity:1\"/>\n",
       "<path class=\"bond-5 atom-0 atom-6\" d=\"M 276.5,80.1 L 331.6,94.8\" style=\"fill:none;fill-rule:evenodd;stroke:#000000;stroke-width:2.0px;stroke-linecap:butt;stroke-linejoin:miter;stroke-opacity:1\"/>\n",
       "<path class=\"bond-6 atom-0 atom-7\" d=\"M 276.5,80.1 L 312.5,42.8\" style=\"fill:none;fill-rule:evenodd;stroke:#000000;stroke-width:2.0px;stroke-linecap:butt;stroke-linejoin:miter;stroke-opacity:1\"/>\n",
       "<path class=\"bond-7 atom-0 atom-8\" d=\"M 276.5,80.1 L 238.5,42.7\" style=\"fill:none;fill-rule:evenodd;stroke:#000000;stroke-width:2.0px;stroke-linecap:butt;stroke-linejoin:miter;stroke-opacity:1\"/>\n",
       "<path class=\"bond-8 atom-1 atom-9\" d=\"M 252.7,147.4 L 253.0,146.6\" style=\"fill:none;fill-rule:evenodd;stroke:#000000;stroke-width:1.0px;stroke-linecap:butt;stroke-linejoin:miter;stroke-opacity:1\"/>\n",
       "<path class=\"bond-8 atom-1 atom-9\" d=\"M 249.3,146.3 L 250.0,144.8\" style=\"fill:none;fill-rule:evenodd;stroke:#000000;stroke-width:1.0px;stroke-linecap:butt;stroke-linejoin:miter;stroke-opacity:1\"/>\n",
       "<path class=\"bond-8 atom-1 atom-9\" d=\"M 245.9,145.3 L 246.9,143.0\" style=\"fill:none;fill-rule:evenodd;stroke:#000000;stroke-width:1.0px;stroke-linecap:butt;stroke-linejoin:miter;stroke-opacity:1\"/>\n",
       "<path class=\"bond-8 atom-1 atom-9\" d=\"M 242.5,144.3 L 243.9,141.2\" style=\"fill:none;fill-rule:evenodd;stroke:#000000;stroke-width:1.0px;stroke-linecap:butt;stroke-linejoin:miter;stroke-opacity:1\"/>\n",
       "<path class=\"bond-8 atom-1 atom-9\" d=\"M 239.2,143.2 L 240.8,139.4\" style=\"fill:none;fill-rule:evenodd;stroke:#000000;stroke-width:1.0px;stroke-linecap:butt;stroke-linejoin:miter;stroke-opacity:1\"/>\n",
       "<path class=\"bond-8 atom-1 atom-9\" d=\"M 235.8,142.2 L 237.8,137.7\" style=\"fill:none;fill-rule:evenodd;stroke:#000000;stroke-width:1.0px;stroke-linecap:butt;stroke-linejoin:miter;stroke-opacity:1\"/>\n",
       "<path class=\"bond-8 atom-1 atom-9\" d=\"M 232.4,141.1 L 234.7,135.9\" style=\"fill:none;fill-rule:evenodd;stroke:#000000;stroke-width:1.0px;stroke-linecap:butt;stroke-linejoin:miter;stroke-opacity:1\"/>\n",
       "<path class=\"bond-8 atom-1 atom-9\" d=\"M 229.0,140.1 L 231.6,134.1\" style=\"fill:none;fill-rule:evenodd;stroke:#000000;stroke-width:1.0px;stroke-linecap:butt;stroke-linejoin:miter;stroke-opacity:1\"/>\n",
       "<path class=\"bond-8 atom-1 atom-9\" d=\"M 225.6,139.1 L 228.6,132.3\" style=\"fill:none;fill-rule:evenodd;stroke:#000000;stroke-width:1.0px;stroke-linecap:butt;stroke-linejoin:miter;stroke-opacity:1\"/>\n",
       "<path class=\"bond-8 atom-1 atom-9\" d=\"M 222.2,138.0 L 225.5,130.5\" style=\"fill:none;fill-rule:evenodd;stroke:#000000;stroke-width:1.0px;stroke-linecap:butt;stroke-linejoin:miter;stroke-opacity:1\"/>\n",
       "<path class=\"bond-8 atom-1 atom-9\" d=\"M 218.8,137.0 L 222.5,128.7\" style=\"fill:none;fill-rule:evenodd;stroke:#000000;stroke-width:1.0px;stroke-linecap:butt;stroke-linejoin:miter;stroke-opacity:1\"/>\n",
       "<path class=\"bond-8 atom-1 atom-9\" d=\"M 215.5,135.9 L 219.4,126.9\" style=\"fill:none;fill-rule:evenodd;stroke:#000000;stroke-width:1.0px;stroke-linecap:butt;stroke-linejoin:miter;stroke-opacity:1\"/>\n",
       "<path class=\"bond-8 atom-1 atom-9\" d=\"M 212.1,134.9 L 216.4,125.1\" style=\"fill:none;fill-rule:evenodd;stroke:#000000;stroke-width:1.0px;stroke-linecap:butt;stroke-linejoin:miter;stroke-opacity:1\"/>\n",
       "<path class=\"bond-9 atom-2 atom-10\" d=\"M 182.3,188.1 L 170.2,176.0\" style=\"fill:none;fill-rule:evenodd;stroke:#0000FF;stroke-width:2.0px;stroke-linecap:butt;stroke-linejoin:miter;stroke-opacity:1\"/>\n",
       "<path class=\"bond-9 atom-2 atom-10\" d=\"M 170.2,176.0 L 158.2,163.9\" style=\"fill:none;fill-rule:evenodd;stroke:#000000;stroke-width:2.0px;stroke-linecap:butt;stroke-linejoin:miter;stroke-opacity:1\"/>\n",
       "<path class=\"bond-10 atom-2 atom-11\" d=\"M 182.3,204.3 L 160.7,209.2\" style=\"fill:none;fill-rule:evenodd;stroke:#0000FF;stroke-width:2.0px;stroke-linecap:butt;stroke-linejoin:miter;stroke-opacity:1\"/>\n",
       "<path class=\"bond-10 atom-2 atom-11\" d=\"M 160.7,209.2 L 139.1,214.2\" style=\"fill:none;fill-rule:evenodd;stroke:#000000;stroke-width:2.0px;stroke-linecap:butt;stroke-linejoin:miter;stroke-opacity:1\"/>\n",
       "<path class=\"bond-11 atom-2 atom-12\" d=\"M 198.8,217.8 L 202.6,236.2\" style=\"fill:none;fill-rule:evenodd;stroke:#0000FF;stroke-width:2.0px;stroke-linecap:butt;stroke-linejoin:miter;stroke-opacity:1\"/>\n",
       "<path class=\"bond-11 atom-2 atom-12\" d=\"M 202.6,236.2 L 206.5,254.6\" style=\"fill:none;fill-rule:evenodd;stroke:#000000;stroke-width:2.0px;stroke-linecap:butt;stroke-linejoin:miter;stroke-opacity:1\"/>\n",
       "<path d=\"M 300.4,198.1 L 302.8,200.7 L 302.3,202.0\" style=\"fill:none;stroke:#000000;stroke-width:2.0px;stroke-linecap:butt;stroke-linejoin:miter;stroke-opacity:1;\"/>\n",
       "<path class=\"atom-2\" d=\"M 189.1 187.1 L 198.4 202.1 Q 199.3 203.6, 200.8 206.2 Q 202.3 208.9, 202.4 209.1 L 202.4 187.1 L 206.1 187.1 L 206.1 215.4 L 202.2 215.4 L 192.3 199.0 Q 191.1 197.1, 189.9 194.9 Q 188.7 192.7, 188.3 192.0 L 188.3 215.4 L 184.6 215.4 L 184.6 187.1 L 189.1 187.1 \" fill=\"#0000FF\"/>\n",
       "<path class=\"atom-2\" d=\"M 211.4 192.2 L 216.4 192.2 L 216.4 186.9 L 218.6 186.9 L 218.6 192.2 L 223.8 192.2 L 223.8 194.1 L 218.6 194.1 L 218.6 199.4 L 216.4 199.4 L 216.4 194.1 L 211.4 194.1 L 211.4 192.2 \" fill=\"#0000FF\"/>\n",
       "<path class=\"atom-4\" d=\"M 267.0 268.5 Q 267.0 261.7, 270.4 257.9 Q 273.7 254.1, 280.0 254.1 Q 286.3 254.1, 289.6 257.9 Q 293.0 261.7, 293.0 268.5 Q 293.0 275.4, 289.6 279.3 Q 286.2 283.2, 280.0 283.2 Q 273.8 283.2, 270.4 279.3 Q 267.0 275.4, 267.0 268.5 M 280.0 280.0 Q 284.3 280.0, 286.6 277.1 Q 289.0 274.2, 289.0 268.5 Q 289.0 263.0, 286.6 260.2 Q 284.3 257.3, 280.0 257.3 Q 275.7 257.3, 273.3 260.1 Q 271.0 262.9, 271.0 268.5 Q 271.0 274.2, 273.3 277.1 Q 275.7 280.0, 280.0 280.0 \" fill=\"#FF0000\"/>\n",
       "<path class=\"atom-4\" d=\"M 297.0 258.7 L 306.7 258.7 L 306.7 260.8 L 297.0 260.8 L 297.0 258.7 \" fill=\"#FF0000\"/>\n",
       "<path class=\"atom-5\" d=\"M 359.5 186.3 Q 359.5 179.5, 362.8 175.7 Q 366.2 171.9, 372.5 171.9 Q 378.7 171.9, 382.1 175.7 Q 385.5 179.5, 385.5 186.3 Q 385.5 193.1, 382.1 197.1 Q 378.7 200.9, 372.5 200.9 Q 366.2 200.9, 362.8 197.1 Q 359.5 193.2, 359.5 186.3 M 372.5 197.7 Q 376.8 197.7, 379.1 194.9 Q 381.5 191.9, 381.5 186.3 Q 381.5 180.7, 379.1 177.9 Q 376.8 175.1, 372.5 175.1 Q 368.1 175.1, 365.8 177.9 Q 363.5 180.7, 363.5 186.3 Q 363.5 192.0, 365.8 194.9 Q 368.1 197.7, 372.5 197.7 \" fill=\"#FF0000\"/>\n",
       "<path class=\"atom-6\" d=\"M 334.0 84.2 L 337.8 84.2 L 337.8 96.2 L 352.3 96.2 L 352.3 84.2 L 356.1 84.2 L 356.1 112.5 L 352.3 112.5 L 352.3 99.4 L 337.8 99.4 L 337.8 112.5 L 334.0 112.5 L 334.0 84.2 \" fill=\"#000000\"/>\n",
       "<path class=\"atom-7\" d=\"M 314.9 14.7 L 318.7 14.7 L 318.7 26.7 L 333.2 26.7 L 333.2 14.7 L 337.0 14.7 L 337.0 43.0 L 333.2 43.0 L 333.2 29.9 L 318.7 29.9 L 318.7 43.0 L 314.9 43.0 L 314.9 14.7 \" fill=\"#000000\"/>\n",
       "<path class=\"atom-8\" d=\"M 214.0 15.3 L 217.8 15.3 L 217.8 27.3 L 232.3 27.3 L 232.3 15.3 L 236.2 15.3 L 236.2 43.6 L 232.3 43.6 L 232.3 30.5 L 217.8 30.5 L 217.8 43.6 L 214.0 43.6 L 214.0 15.3 \" fill=\"#000000\"/>\n",
       "<path class=\"atom-9\" d=\"M 187.4 108.9 L 191.2 108.9 L 191.2 120.9 L 205.7 120.9 L 205.7 108.9 L 209.5 108.9 L 209.5 137.2 L 205.7 137.2 L 205.7 124.1 L 191.2 124.1 L 191.2 137.2 L 187.4 137.2 L 187.4 108.9 \" fill=\"#000000\"/>\n",
       "<path class=\"atom-10\" d=\"M 133.7 136.2 L 137.5 136.2 L 137.5 148.3 L 152.0 148.3 L 152.0 136.2 L 155.8 136.2 L 155.8 164.5 L 152.0 164.5 L 152.0 151.5 L 137.5 151.5 L 137.5 164.5 L 133.7 164.5 L 133.7 136.2 \" fill=\"#000000\"/>\n",
       "<path class=\"atom-11\" d=\"M 114.5 203.1 L 118.4 203.1 L 118.4 215.1 L 132.9 215.1 L 132.9 203.1 L 136.7 203.1 L 136.7 231.4 L 132.9 231.4 L 132.9 218.3 L 118.4 218.3 L 118.4 231.4 L 114.5 231.4 L 114.5 203.1 \" fill=\"#000000\"/>\n",
       "<path class=\"atom-12\" d=\"M 198.8 257.0 L 202.7 257.0 L 202.7 269.0 L 217.2 269.0 L 217.2 257.0 L 221.0 257.0 L 221.0 285.3 L 217.2 285.3 L 217.2 272.2 L 202.7 272.2 L 202.7 285.3 L 198.8 285.3 L 198.8 257.0 \" fill=\"#000000\"/>\n",
       "</svg>"
      ],
      "text/plain": [
       "<IPython.core.display.SVG object>"
      ]
     },
     "execution_count": 10,
     "metadata": {},
     "output_type": "execute_result"
    }
   ],
   "source": [
    "with open(\"../sdf/zw_l_alanine.sdf\", mode=\"rb\") as file:\n",
    "    sdf_object = Molecule.from_file(file, file_format=\"SDF\")\n",
    "\n",
    "assert zw_l_alanine.is_isomorphic_with(sdf_object)\n",
    "sdf_object.visualize()"
   ]
  },
  {
   "cell_type": "markdown",
   "id": "2554b932",
   "metadata": {},
   "source": [
    "### From PDB file\n",
    "\n",
    "The [`Topology.from_pdb()`] method is now the recommended method for loading all PDB files. It can interpret proteins, waters, ions, and small molecules from a PDB file as a Topology. It can infer the full chemical graph of the canonical amino acids (26 including protonation states) in capped and uncapped forms. It does this according to the [RCSB chemical component dictionary] --- the information is not explicitly in the input PDB file. The following block loads a PDB file containing a single protein.\n",
    "\n",
    "[`Topology.from_pdb()`]: openff.toolkit.topology.Topology.from_pdb\n",
    "[RCSB chemical component dictionary]: https://www.wwpdb.org/data/ccd"
   ]
  },
  {
   "cell_type": "code",
   "execution_count": 11,
   "id": "4f9d71e7",
   "metadata": {
    "execution": {
     "iopub.execute_input": "2023-09-27T14:44:02.002373Z",
     "iopub.status.busy": "2023-09-27T14:44:02.002211Z",
     "iopub.status.idle": "2023-09-27T14:44:11.498593Z",
     "shell.execute_reply": "2023-09-27T14:44:11.498176Z"
    }
   },
   "outputs": [
    {
     "data": {
      "application/vnd.jupyter.widget-view+json": {
       "model_id": "d5cf0b9587ea4468989f044d3253ca75",
       "version_major": 2,
       "version_minor": 0
      },
      "text/plain": []
     },
     "metadata": {},
     "output_type": "display_data"
    },
    {
     "data": {
      "application/vnd.jupyter.widget-view+json": {
       "model_id": "e613a849aae942f6a3996b42cffdbf59",
       "version_major": 2,
       "version_minor": 0
      },
      "text/plain": [
       "NGLWidget()"
      ]
     },
     "metadata": {},
     "output_type": "display_data"
    }
   ],
   "source": [
    "from openff.toolkit.utils import get_data_file_path\n",
    "\n",
    "path = get_data_file_path(\"proteins/T4-protein.pdb\")\n",
    "topology = Topology.from_pdb(path)\n",
    "protein = topology.molecule(0)\n",
    "protein.visualize(\"nglview\")"
   ]
  },
  {
   "cell_type": "markdown",
   "id": "94d1e78f-8311-45b7-94c7-16242fa6865f",
   "metadata": {},
   "source": [
    "The following block loads a PDB containing two small molecules from PDB and SMILES."
   ]
  },
  {
   "cell_type": "code",
   "execution_count": 12,
   "id": "a6e68022-6568-4a7e-9d75-c14224079505",
   "metadata": {
    "execution": {
     "iopub.execute_input": "2023-09-27T14:44:11.509820Z",
     "iopub.status.busy": "2023-09-27T14:44:11.509607Z",
     "iopub.status.idle": "2023-09-27T14:44:14.087666Z",
     "shell.execute_reply": "2023-09-27T14:44:14.087295Z"
    },
    "tags": []
   },
   "outputs": [
    {
     "data": {
      "application/vnd.jupyter.widget-view+json": {
       "model_id": "77477c2fa71d40a490a8be73fab2d79b",
       "version_major": 2,
       "version_minor": 0
      },
      "text/plain": [
       "NGLWidget()"
      ]
     },
     "metadata": {},
     "output_type": "display_data"
    }
   ],
   "source": [
    "top_from_pdb_from_smiles = Topology.from_pdb(\n",
    "    get_data_file_path(\"molecules/po4_phenylphosphate.pdb\"),\n",
    "    unique_molecules=[\n",
    "        Molecule.from_smiles(\"P(=O)([O-])([O-])([O-])\"),\n",
    "        Molecule.from_smiles(\"C1=CC=CC=C1OP(=O)([O-1])([O-1])\"),\n",
    "    ],\n",
    ")\n",
    "\n",
    "top_from_pdb_from_smiles.molecule(0).visualize(\"nglview\")"
   ]
  },
  {
   "cell_type": "code",
   "execution_count": 13,
   "id": "21bba613-57bb-4ea0-bf87-a4cd6f5c63d5",
   "metadata": {
    "execution": {
     "iopub.execute_input": "2023-09-27T14:44:14.096583Z",
     "iopub.status.busy": "2023-09-27T14:44:14.096403Z",
     "iopub.status.idle": "2023-09-27T14:44:14.108617Z",
     "shell.execute_reply": "2023-09-27T14:44:14.108178Z"
    },
    "tags": []
   },
   "outputs": [
    {
     "data": {
      "application/vnd.jupyter.widget-view+json": {
       "model_id": "bd1e024a54da4f7aa7f683e376b5f807",
       "version_major": 2,
       "version_minor": 0
      },
      "text/plain": [
       "NGLWidget()"
      ]
     },
     "metadata": {},
     "output_type": "display_data"
    }
   ],
   "source": [
    "top_from_pdb_from_smiles.molecule(1).visualize(\"nglview\")"
   ]
  },
  {
   "cell_type": "markdown",
   "id": "5906e016-a198-40ac-b79c-df04097ba17e",
   "metadata": {},
   "source": [
    "And for a maximalist example, the following block loads a single PDB file containing a protein, waters, ions, and a small molecule (the chemical identity of any small molecules must be provided with the `unique_molecules` keyword argument, and any small molecules' connectivity must have corresponding CONECT records in the PDB file)."
   ]
  },
  {
   "cell_type": "code",
   "execution_count": 14,
   "id": "c007183b-9a71-42aa-8e05-9f18fa2ef531",
   "metadata": {
    "execution": {
     "iopub.execute_input": "2023-09-27T14:44:14.116721Z",
     "iopub.status.busy": "2023-09-27T14:44:14.116541Z",
     "iopub.status.idle": "2023-09-27T14:44:38.992162Z",
     "shell.execute_reply": "2023-09-27T14:44:38.991787Z"
    },
    "tags": []
   },
   "outputs": [
    {
     "name": "stdout",
     "output_type": "stream",
     "text": [
      "protein : 1 molecule(s)\n",
      "[H][O][H] : 4413 molecule(s)\n",
      "[Na+] : 17 molecule(s)\n",
      "[Cl-] : 12 molecule(s)\n",
      "ligand : 1 molecule(s)\n"
     ]
    },
    {
     "data": {
      "application/vnd.jupyter.widget-view+json": {
       "model_id": "df2078a900fd4bfeb8d72697fe398798",
       "version_major": 2,
       "version_minor": 0
      },
      "text/plain": [
       "NGLWidget()"
      ]
     },
     "metadata": {},
     "output_type": "display_data"
    }
   ],
   "source": [
    "from counts import count\n",
    "from openff.toolkit.utils import get_data_file_path\n",
    "\n",
    "topology = Topology.from_pdb(\n",
    "    \"../pdb/5tbm.pdb\",\n",
    "    unique_molecules=[Molecule.from_file(\"../sdf/PT2385.sdf\")],\n",
    ")\n",
    "\n",
    "count(topology)\n",
    "\n",
    "topology.molecule(0)"
   ]
  },
  {
   "cell_type": "markdown",
   "id": "cbdde2f3",
   "metadata": {},
   "source": [
    "## Other string identification formats\n",
    "\n",
    "The OpenFF Toolkit supports a few text based molecular identity formats other than SMILES ([see above](#from-smiles))"
   ]
  },
  {
   "cell_type": "markdown",
   "id": "bcd5fce1",
   "metadata": {},
   "source": [
    "### From InChI\n",
    "\n",
    "The [`Molecule.from_inchi()`](openff.toolkit.topology.Molecule.from_inchi) method constructs a `Molecule` from an IUPAC [InChI](https://iupac.org/who-we-are/divisions/division-details/inchi/) string. Note that InChI cannot distinguish the zwitterionic form of alanine from the neutral form (see section 13.2 of the [InChI Technical FAQ](https://www.inchi-trust.org/technical-faq-2/)), so the toolkit defaults to the neutral form.\n",
    "\n",
    ":::{warning}\n",
    "The OpenFF Toolkit makes no guarantees about the atomic ordering produced by the `from_inchi` method. InChI is not intended to be an interchange format.\n",
    ":::"
   ]
  },
  {
   "cell_type": "code",
   "execution_count": 15,
   "id": "1ea7bb81",
   "metadata": {
    "execution": {
     "iopub.execute_input": "2023-09-27T14:44:39.002965Z",
     "iopub.status.busy": "2023-09-27T14:44:39.002775Z",
     "iopub.status.idle": "2023-09-27T14:44:39.034472Z",
     "shell.execute_reply": "2023-09-27T14:44:39.034071Z"
    }
   },
   "outputs": [
    {
     "data": {
      "image/svg+xml": [
       "<svg xmlns=\"http://www.w3.org/2000/svg\" xmlns:rdkit=\"http://www.rdkit.org/xml\" xmlns:xlink=\"http://www.w3.org/1999/xlink\" version=\"1.1\" baseProfile=\"full\" xml:space=\"preserve\" width=\"500px\" height=\"300px\" viewBox=\"0 0 500 300\">\n",
       "<!-- END OF HEADER -->\n",
       "<rect style=\"opacity:1.0;fill:#FFFFFF;stroke:none\" width=\"500.0\" height=\"300.0\" x=\"0.0\" y=\"0.0\"> </rect>\n",
       "<path class=\"bond-0 atom-0 atom-1\" d=\"M 265.0,69.7 L 249.2,128.4\" style=\"fill:none;fill-rule:evenodd;stroke:#000000;stroke-width:2.0px;stroke-linecap:butt;stroke-linejoin:miter;stroke-opacity:1\"/>\n",
       "<path class=\"bond-1 atom-1 atom-6\" d=\"M 245.6,127.9 L 245.8,127.2\" style=\"fill:none;fill-rule:evenodd;stroke:#000000;stroke-width:1.0px;stroke-linecap:butt;stroke-linejoin:miter;stroke-opacity:1\"/>\n",
       "<path class=\"bond-1 atom-1 atom-6\" d=\"M 242.1,127.3 L 242.5,125.9\" style=\"fill:none;fill-rule:evenodd;stroke:#000000;stroke-width:1.0px;stroke-linecap:butt;stroke-linejoin:miter;stroke-opacity:1\"/>\n",
       "<path class=\"bond-1 atom-1 atom-6\" d=\"M 238.6,126.7 L 239.1,124.6\" style=\"fill:none;fill-rule:evenodd;stroke:#000000;stroke-width:1.0px;stroke-linecap:butt;stroke-linejoin:miter;stroke-opacity:1\"/>\n",
       "<path class=\"bond-1 atom-1 atom-6\" d=\"M 235.1,126.1 L 235.8,123.4\" style=\"fill:none;fill-rule:evenodd;stroke:#000000;stroke-width:1.0px;stroke-linecap:butt;stroke-linejoin:miter;stroke-opacity:1\"/>\n",
       "<path class=\"bond-1 atom-1 atom-6\" d=\"M 231.6,125.5 L 232.5,122.1\" style=\"fill:none;fill-rule:evenodd;stroke:#000000;stroke-width:1.0px;stroke-linecap:butt;stroke-linejoin:miter;stroke-opacity:1\"/>\n",
       "<path class=\"bond-1 atom-1 atom-6\" d=\"M 228.0,124.9 L 229.1,120.8\" style=\"fill:none;fill-rule:evenodd;stroke:#000000;stroke-width:1.0px;stroke-linecap:butt;stroke-linejoin:miter;stroke-opacity:1\"/>\n",
       "<path class=\"bond-1 atom-1 atom-6\" d=\"M 224.5,124.3 L 225.8,119.6\" style=\"fill:none;fill-rule:evenodd;stroke:#000000;stroke-width:1.0px;stroke-linecap:butt;stroke-linejoin:miter;stroke-opacity:1\"/>\n",
       "<path class=\"bond-1 atom-1 atom-6\" d=\"M 221.0,123.7 L 222.4,118.3\" style=\"fill:none;fill-rule:evenodd;stroke:#000000;stroke-width:1.0px;stroke-linecap:butt;stroke-linejoin:miter;stroke-opacity:1\"/>\n",
       "<path class=\"bond-1 atom-1 atom-6\" d=\"M 217.5,123.2 L 219.1,117.1\" style=\"fill:none;fill-rule:evenodd;stroke:#000000;stroke-width:1.0px;stroke-linecap:butt;stroke-linejoin:miter;stroke-opacity:1\"/>\n",
       "<path class=\"bond-1 atom-1 atom-6\" d=\"M 213.9,122.6 L 215.8,115.8\" style=\"fill:none;fill-rule:evenodd;stroke:#000000;stroke-width:1.0px;stroke-linecap:butt;stroke-linejoin:miter;stroke-opacity:1\"/>\n",
       "<path class=\"bond-1 atom-1 atom-6\" d=\"M 210.4,122.0 L 212.4,114.5\" style=\"fill:none;fill-rule:evenodd;stroke:#000000;stroke-width:1.0px;stroke-linecap:butt;stroke-linejoin:miter;stroke-opacity:1\"/>\n",
       "<path class=\"bond-1 atom-1 atom-6\" d=\"M 206.9,121.4 L 209.1,113.3\" style=\"fill:none;fill-rule:evenodd;stroke:#000000;stroke-width:1.0px;stroke-linecap:butt;stroke-linejoin:miter;stroke-opacity:1\"/>\n",
       "<path class=\"bond-1 atom-1 atom-6\" d=\"M 203.4,120.8 L 205.7,112.0\" style=\"fill:none;fill-rule:evenodd;stroke:#000000;stroke-width:1.0px;stroke-linecap:butt;stroke-linejoin:miter;stroke-opacity:1\"/>\n",
       "<path class=\"bond-2 atom-1 atom-2\" d=\"M 249.2,128.4 L 292.1,171.6\" style=\"fill:none;fill-rule:evenodd;stroke:#000000;stroke-width:2.0px;stroke-linecap:butt;stroke-linejoin:miter;stroke-opacity:1\"/>\n",
       "<path class=\"bond-3 atom-1 atom-3\" d=\"M 249.2,128.4 L 233.5,144.0\" style=\"fill:none;fill-rule:evenodd;stroke:#000000;stroke-width:2.0px;stroke-linecap:butt;stroke-linejoin:miter;stroke-opacity:1\"/>\n",
       "<path class=\"bond-3 atom-1 atom-3\" d=\"M 233.5,144.0 L 217.9,159.6\" style=\"fill:none;fill-rule:evenodd;stroke:#0000FF;stroke-width:2.0px;stroke-linecap:butt;stroke-linejoin:miter;stroke-opacity:1\"/>\n",
       "<path class=\"bond-4 atom-2 atom-4\" d=\"M 290.8,176.6 L 314.5,170.3\" style=\"fill:none;fill-rule:evenodd;stroke:#000000;stroke-width:2.0px;stroke-linecap:butt;stroke-linejoin:miter;stroke-opacity:1\"/>\n",
       "<path class=\"bond-4 atom-2 atom-4\" d=\"M 314.5,170.3 L 338.2,164.0\" style=\"fill:none;fill-rule:evenodd;stroke:#FF0000;stroke-width:2.0px;stroke-linecap:butt;stroke-linejoin:miter;stroke-opacity:1\"/>\n",
       "<path class=\"bond-4 atom-2 atom-4\" d=\"M 288.4,167.8 L 312.2,161.5\" style=\"fill:none;fill-rule:evenodd;stroke:#000000;stroke-width:2.0px;stroke-linecap:butt;stroke-linejoin:miter;stroke-opacity:1\"/>\n",
       "<path class=\"bond-4 atom-2 atom-4\" d=\"M 312.2,161.5 L 335.9,155.2\" style=\"fill:none;fill-rule:evenodd;stroke:#FF0000;stroke-width:2.0px;stroke-linecap:butt;stroke-linejoin:miter;stroke-opacity:1\"/>\n",
       "<path class=\"bond-5 atom-2 atom-5\" d=\"M 292.1,171.6 L 286.2,193.4\" style=\"fill:none;fill-rule:evenodd;stroke:#000000;stroke-width:2.0px;stroke-linecap:butt;stroke-linejoin:miter;stroke-opacity:1\"/>\n",
       "<path class=\"bond-5 atom-2 atom-5\" d=\"M 286.2,193.4 L 280.3,215.2\" style=\"fill:none;fill-rule:evenodd;stroke:#FF0000;stroke-width:2.0px;stroke-linecap:butt;stroke-linejoin:miter;stroke-opacity:1\"/>\n",
       "<path class=\"bond-6 atom-0 atom-7\" d=\"M 265.0,69.7 L 311.7,82.3\" style=\"fill:none;fill-rule:evenodd;stroke:#000000;stroke-width:2.0px;stroke-linecap:butt;stroke-linejoin:miter;stroke-opacity:1\"/>\n",
       "<path class=\"bond-7 atom-0 atom-8\" d=\"M 265.0,69.7 L 296.0,38.8\" style=\"fill:none;fill-rule:evenodd;stroke:#000000;stroke-width:2.0px;stroke-linecap:butt;stroke-linejoin:miter;stroke-opacity:1\"/>\n",
       "<path class=\"bond-8 atom-0 atom-9\" d=\"M 265.0,69.7 L 234.2,38.7\" style=\"fill:none;fill-rule:evenodd;stroke:#000000;stroke-width:2.0px;stroke-linecap:butt;stroke-linejoin:miter;stroke-opacity:1\"/>\n",
       "<path class=\"bond-9 atom-3 atom-10\" d=\"M 194.2,168.2 L 176.8,163.5\" style=\"fill:none;fill-rule:evenodd;stroke:#0000FF;stroke-width:2.0px;stroke-linecap:butt;stroke-linejoin:miter;stroke-opacity:1\"/>\n",
       "<path class=\"bond-9 atom-3 atom-10\" d=\"M 176.8,163.5 L 159.4,158.8\" style=\"fill:none;fill-rule:evenodd;stroke:#000000;stroke-width:2.0px;stroke-linecap:butt;stroke-linejoin:miter;stroke-opacity:1\"/>\n",
       "<path class=\"bond-10 atom-3 atom-11\" d=\"M 210.0,186.3 L 213.9,200.8\" style=\"fill:none;fill-rule:evenodd;stroke:#0000FF;stroke-width:2.0px;stroke-linecap:butt;stroke-linejoin:miter;stroke-opacity:1\"/>\n",
       "<path class=\"bond-10 atom-3 atom-11\" d=\"M 213.9,200.8 L 217.7,215.3\" style=\"fill:none;fill-rule:evenodd;stroke:#000000;stroke-width:2.0px;stroke-linecap:butt;stroke-linejoin:miter;stroke-opacity:1\"/>\n",
       "<path class=\"bond-11 atom-5 atom-12\" d=\"M 290.1,244.2 L 298.6,252.8\" style=\"fill:none;fill-rule:evenodd;stroke:#FF0000;stroke-width:2.0px;stroke-linecap:butt;stroke-linejoin:miter;stroke-opacity:1\"/>\n",
       "<path class=\"bond-11 atom-5 atom-12\" d=\"M 298.6,252.8 L 307.1,261.3\" style=\"fill:none;fill-rule:evenodd;stroke:#000000;stroke-width:2.0px;stroke-linecap:butt;stroke-linejoin:miter;stroke-opacity:1\"/>\n",
       "<path d=\"M 290.0,169.4 L 292.1,171.6 L 291.8,172.7\" style=\"fill:none;stroke:#000000;stroke-width:2.0px;stroke-linecap:butt;stroke-linejoin:miter;stroke-opacity:1;\"/>\n",
       "<path class=\"atom-3\" d=\"M 200.3 158.5 L 208.8 172.2 Q 209.7 173.5, 211.0 176.0 Q 212.4 178.4, 212.4 178.6 L 212.4 158.5 L 215.9 158.5 L 215.9 184.3 L 212.3 184.3 L 203.2 169.4 Q 202.2 167.6, 201.0 165.6 Q 199.9 163.6, 199.6 163.0 L 199.6 184.3 L 196.2 184.3 L 196.2 158.5 L 200.3 158.5 \" fill=\"#0000FF\"/>\n",
       "<path class=\"atom-4\" d=\"M 339.1 156.0 Q 339.1 149.8, 342.2 146.3 Q 345.2 142.8, 351.0 142.8 Q 356.7 142.8, 359.8 146.3 Q 362.8 149.8, 362.8 156.0 Q 362.8 162.3, 359.7 165.8 Q 356.6 169.4, 351.0 169.4 Q 345.3 169.4, 342.2 165.8 Q 339.1 162.3, 339.1 156.0 M 351.0 166.5 Q 354.9 166.5, 357.0 163.8 Q 359.2 161.2, 359.2 156.0 Q 359.2 150.9, 357.0 148.4 Q 354.9 145.8, 351.0 145.8 Q 347.0 145.8, 344.9 148.3 Q 342.7 150.9, 342.7 156.0 Q 342.7 161.2, 344.9 163.8 Q 347.0 166.5, 351.0 166.5 \" fill=\"#FF0000\"/>\n",
       "<path class=\"atom-5\" d=\"M 264.4 230.4 Q 264.4 224.2, 267.5 220.7 Q 270.5 217.2, 276.3 217.2 Q 282.0 217.2, 285.1 220.7 Q 288.1 224.2, 288.1 230.4 Q 288.1 236.7, 285.0 240.3 Q 281.9 243.8, 276.3 243.8 Q 270.6 243.8, 267.5 240.3 Q 264.4 236.7, 264.4 230.4 M 276.3 240.9 Q 280.2 240.9, 282.3 238.2 Q 284.5 235.6, 284.5 230.4 Q 284.5 225.3, 282.3 222.8 Q 280.2 220.2, 276.3 220.2 Q 272.3 220.2, 270.2 222.7 Q 268.1 225.3, 268.1 230.4 Q 268.1 235.6, 270.2 238.2 Q 272.3 240.9, 276.3 240.9 \" fill=\"#FF0000\"/>\n",
       "<path class=\"atom-6\" d=\"M 180.3 99.7 L 183.8 99.7 L 183.8 110.6 L 197.0 110.6 L 197.0 99.7 L 200.5 99.7 L 200.5 125.5 L 197.0 125.5 L 197.0 113.6 L 183.8 113.6 L 183.8 125.5 L 180.3 125.5 L 180.3 99.7 \" fill=\"#000000\"/>\n",
       "<path class=\"atom-7\" d=\"M 313.7 72.6 L 317.2 72.6 L 317.2 83.6 L 330.4 83.6 L 330.4 72.6 L 333.9 72.6 L 333.9 98.5 L 330.4 98.5 L 330.4 86.5 L 317.2 86.5 L 317.2 98.5 L 313.7 98.5 L 313.7 72.6 \" fill=\"#000000\"/>\n",
       "<path class=\"atom-8\" d=\"M 298.0 13.8 L 301.5 13.8 L 301.5 24.8 L 314.8 24.8 L 314.8 13.8 L 318.3 13.8 L 318.3 39.7 L 314.8 39.7 L 314.8 27.7 L 301.5 27.7 L 301.5 39.7 L 298.0 39.7 L 298.0 13.8 \" fill=\"#000000\"/>\n",
       "<path class=\"atom-9\" d=\"M 212.0 13.6 L 215.5 13.6 L 215.5 24.6 L 228.7 24.6 L 228.7 13.6 L 232.2 13.6 L 232.2 39.5 L 228.7 39.5 L 228.7 27.6 L 215.5 27.6 L 215.5 39.5 L 212.0 39.5 L 212.0 13.6 \" fill=\"#000000\"/>\n",
       "<path class=\"atom-10\" d=\"M 137.2 142.6 L 140.7 142.6 L 140.7 153.6 L 153.9 153.6 L 153.9 142.6 L 157.4 142.6 L 157.4 168.5 L 153.9 168.5 L 153.9 156.5 L 140.7 156.5 L 140.7 168.5 L 137.2 168.5 L 137.2 142.6 \" fill=\"#000000\"/>\n",
       "<path class=\"atom-11\" d=\"M 211.6 217.3 L 215.1 217.3 L 215.1 228.3 L 228.3 228.3 L 228.3 217.3 L 231.8 217.3 L 231.8 243.1 L 228.3 243.1 L 228.3 231.2 L 215.1 231.2 L 215.1 243.1 L 211.6 243.1 L 211.6 217.3 \" fill=\"#000000\"/>\n",
       "<path class=\"atom-12\" d=\"M 309.1 260.5 L 312.6 260.5 L 312.6 271.5 L 325.9 271.5 L 325.9 260.5 L 329.4 260.5 L 329.4 286.4 L 325.9 286.4 L 325.9 274.4 L 312.6 274.4 L 312.6 286.4 L 309.1 286.4 L 309.1 260.5 \" fill=\"#000000\"/>\n",
       "</svg>"
      ],
      "text/plain": [
       "<IPython.core.display.SVG object>"
      ]
     },
     "execution_count": 15,
     "metadata": {},
     "output_type": "execute_result"
    }
   ],
   "source": [
    "inchi = Molecule.from_inchi(\n",
    "    \"InChI=1S/C3H7NO2/c1-2(4)3(5)6/h2H,4H2,1H3,(H,5,6)/t2-/m0/s1\"\n",
    ")\n",
    "\n",
    "inchi.visualize()"
   ]
  },
  {
   "cell_type": "markdown",
   "id": "93592822",
   "metadata": {},
   "source": [
    "### From IUPAC name\n",
    "\n",
    "The [`Molecule.from_iupac()`](openff.toolkit.topology.Molecule.from_iupac) method constructs a `Molecule` from an IUPAC name.\n",
    "\n",
    ":::{important}\n",
    "This code requires the OpenEye toolkit - we'll skip it if it's not available.\n",
    ":::"
   ]
  },
  {
   "cell_type": "code",
   "execution_count": 16,
   "id": "839994a0",
   "metadata": {
    "execution": {
     "iopub.execute_input": "2023-09-27T14:44:39.036857Z",
     "iopub.status.busy": "2023-09-27T14:44:39.036672Z",
     "iopub.status.idle": "2023-09-27T14:44:39.039358Z",
     "shell.execute_reply": "2023-09-27T14:44:39.039004Z"
    }
   },
   "outputs": [],
   "source": [
    "from openff.toolkit.utils.toolkits import OPENEYE_AVAILABLE\n",
    "\n",
    "if OPENEYE_AVAILABLE:\n",
    "    iupac = Molecule.from_iupac(\"(2S)-2-azaniumylpropanoate\")\n",
    "\n",
    "    assert zw_l_alanine.is_isomorphic_with(iupac)\n",
    "\n",
    "    iupac.visualize()\n",
    "else:\n",
    "    pass"
   ]
  },
  {
   "cell_type": "markdown",
   "id": "14d8a068",
   "metadata": {},
   "source": [
    "## Re-ordering atoms in an existing `Molecule`\n",
    "\n",
    "Most `Molecule` creation methods don't specify the ordering of atoms in the new `Molecule`. The [`Molecule.remap()`](openff.toolkit.topology.Molecule.remap) method allows a new ordering to be applied to an existing `Molecule`.\n",
    "\n",
    "See also [](#mapped-smiles).\n",
    "\n",
    ":::{warning}\n",
    "The `Molecule.remap()` method is experimental and subject to change. \n",
    ":::"
   ]
  },
  {
   "cell_type": "code",
   "execution_count": 17,
   "id": "c9a343c2",
   "metadata": {
    "execution": {
     "iopub.execute_input": "2023-09-27T14:44:39.041417Z",
     "iopub.status.busy": "2023-09-27T14:44:39.041262Z",
     "iopub.status.idle": "2023-09-27T14:44:39.056240Z",
     "shell.execute_reply": "2023-09-27T14:44:39.055838Z"
    }
   },
   "outputs": [
    {
     "name": "stdout",
     "output_type": "stream",
     "text": [
      "Before remapping: [C:1]([C@:2]([N+:3]([H:11])([H:12])[H:13])([C:4](=[O:5])[O-:6])[H:10])([H:7])([H:8])[H:9]\n",
      "After remapping:  [C:1]([C@:2]([N+:3]([H:11])([H:12])[H:13])([C:5](=[O:4])[O-:6])[H:10])([H:7])([H:8])[H:9]\n"
     ]
    },
    {
     "data": {
      "image/svg+xml": [
       "<svg xmlns=\"http://www.w3.org/2000/svg\" xmlns:rdkit=\"http://www.rdkit.org/xml\" xmlns:xlink=\"http://www.w3.org/1999/xlink\" version=\"1.1\" baseProfile=\"full\" xml:space=\"preserve\" width=\"500px\" height=\"300px\" viewBox=\"0 0 500 300\">\n",
       "<!-- END OF HEADER -->\n",
       "<rect style=\"opacity:1.0;fill:#FFFFFF;stroke:none\" width=\"500.0\" height=\"300.0\" x=\"0.0\" y=\"0.0\"> </rect>\n",
       "<path class=\"bond-0 atom-0 atom-1\" d=\"M 269.1,206.9 L 249.2,142.8\" style=\"fill:none;fill-rule:evenodd;stroke:#000000;stroke-width:2.0px;stroke-linecap:butt;stroke-linejoin:miter;stroke-opacity:1\"/>\n",
       "<path class=\"bond-1 atom-0 atom-6\" d=\"M 269.1,206.9 L 216.9,221.3\" style=\"fill:none;fill-rule:evenodd;stroke:#000000;stroke-width:2.0px;stroke-linecap:butt;stroke-linejoin:miter;stroke-opacity:1\"/>\n",
       "<path class=\"bond-2 atom-0 atom-7\" d=\"M 269.1,206.9 L 255.6,255.7\" style=\"fill:none;fill-rule:evenodd;stroke:#000000;stroke-width:2.0px;stroke-linecap:butt;stroke-linejoin:miter;stroke-opacity:1\"/>\n",
       "<path class=\"bond-3 atom-0 atom-8\" d=\"M 269.1,206.9 L 320.3,220.4\" style=\"fill:none;fill-rule:evenodd;stroke:#000000;stroke-width:2.0px;stroke-linecap:butt;stroke-linejoin:miter;stroke-opacity:1\"/>\n",
       "<path class=\"bond-4 atom-1 atom-2\" d=\"M 249.2,142.8 L 227.0,123.8\" style=\"fill:none;fill-rule:evenodd;stroke:#000000;stroke-width:2.0px;stroke-linecap:butt;stroke-linejoin:miter;stroke-opacity:1\"/>\n",
       "<path class=\"bond-4 atom-1 atom-2\" d=\"M 227.0,123.8 L 204.7,104.8\" style=\"fill:none;fill-rule:evenodd;stroke:#0000FF;stroke-width:2.0px;stroke-linecap:butt;stroke-linejoin:miter;stroke-opacity:1\"/>\n",
       "<path class=\"bond-5 atom-1 atom-4\" d=\"M 249.2,142.8 L 292.6,93.2\" style=\"fill:none;fill-rule:evenodd;stroke:#000000;stroke-width:2.0px;stroke-linecap:butt;stroke-linejoin:miter;stroke-opacity:1\"/>\n",
       "<path class=\"bond-6 atom-1 atom-9\" d=\"M 249.2,142.8 L 212.8,164.7 L 208.7,155.5 Z\" style=\"fill:#000000;fill-rule:evenodd;fill-opacity:1;stroke:#000000;stroke-width:0.5px;stroke-linecap:butt;stroke-linejoin:miter;stroke-opacity:1;\"/>\n",
       "<path class=\"bond-7 atom-2 atom-10\" d=\"M 178.8,106.9 L 168.4,117.6\" style=\"fill:none;fill-rule:evenodd;stroke:#0000FF;stroke-width:2.0px;stroke-linecap:butt;stroke-linejoin:miter;stroke-opacity:1\"/>\n",
       "<path class=\"bond-7 atom-2 atom-10\" d=\"M 168.4,117.6 L 157.9,128.3\" style=\"fill:none;fill-rule:evenodd;stroke:#000000;stroke-width:2.0px;stroke-linecap:butt;stroke-linejoin:miter;stroke-opacity:1\"/>\n",
       "<path class=\"bond-8 atom-2 atom-11\" d=\"M 178.8,90.8 L 159.1,86.5\" style=\"fill:none;fill-rule:evenodd;stroke:#0000FF;stroke-width:2.0px;stroke-linecap:butt;stroke-linejoin:miter;stroke-opacity:1\"/>\n",
       "<path class=\"bond-8 atom-2 atom-11\" d=\"M 159.1,86.5 L 139.4,82.2\" style=\"fill:none;fill-rule:evenodd;stroke:#000000;stroke-width:2.0px;stroke-linecap:butt;stroke-linejoin:miter;stroke-opacity:1\"/>\n",
       "<path class=\"bond-9 atom-2 atom-12\" d=\"M 195.0,77.3 L 198.3,60.8\" style=\"fill:none;fill-rule:evenodd;stroke:#0000FF;stroke-width:2.0px;stroke-linecap:butt;stroke-linejoin:miter;stroke-opacity:1\"/>\n",
       "<path class=\"bond-9 atom-2 atom-12\" d=\"M 198.3,60.8 L 201.6,44.3\" style=\"fill:none;fill-rule:evenodd;stroke:#000000;stroke-width:2.0px;stroke-linecap:butt;stroke-linejoin:miter;stroke-opacity:1\"/>\n",
       "<path class=\"bond-10 atom-3 atom-4\" d=\"M 281.2,45.2 L 289.8,69.8\" style=\"fill:none;fill-rule:evenodd;stroke:#FF0000;stroke-width:2.0px;stroke-linecap:butt;stroke-linejoin:miter;stroke-opacity:1\"/>\n",
       "<path class=\"bond-10 atom-3 atom-4\" d=\"M 289.8,69.8 L 298.4,94.3\" style=\"fill:none;fill-rule:evenodd;stroke:#000000;stroke-width:2.0px;stroke-linecap:butt;stroke-linejoin:miter;stroke-opacity:1\"/>\n",
       "<path class=\"bond-10 atom-3 atom-4\" d=\"M 271.7,48.5 L 280.3,73.0\" style=\"fill:none;fill-rule:evenodd;stroke:#FF0000;stroke-width:2.0px;stroke-linecap:butt;stroke-linejoin:miter;stroke-opacity:1\"/>\n",
       "<path class=\"bond-10 atom-3 atom-4\" d=\"M 280.3,73.0 L 288.8,97.6\" style=\"fill:none;fill-rule:evenodd;stroke:#000000;stroke-width:2.0px;stroke-linecap:butt;stroke-linejoin:miter;stroke-opacity:1\"/>\n",
       "<path class=\"bond-11 atom-4 atom-5\" d=\"M 292.6,93.2 L 317.8,98.2\" style=\"fill:none;fill-rule:evenodd;stroke:#000000;stroke-width:2.0px;stroke-linecap:butt;stroke-linejoin:miter;stroke-opacity:1\"/>\n",
       "<path class=\"bond-11 atom-4 atom-5\" d=\"M 317.8,98.2 L 343.0,103.2\" style=\"fill:none;fill-rule:evenodd;stroke:#FF0000;stroke-width:2.0px;stroke-linecap:butt;stroke-linejoin:miter;stroke-opacity:1\"/>\n",
       "<path d=\"M 290.5,95.7 L 292.6,93.2 L 293.9,93.5\" style=\"fill:none;stroke:#000000;stroke-width:2.0px;stroke-linecap:butt;stroke-linejoin:miter;stroke-opacity:1;\"/>\n",
       "<path class=\"atom-2\" d=\"M 185.5 79.5 L 194.8 94.5 Q 195.7 96.0, 197.2 98.7 Q 198.7 101.4, 198.8 101.5 L 198.8 79.5 L 202.5 79.5 L 202.5 107.9 L 198.6 107.9 L 188.7 91.5 Q 187.5 89.5, 186.3 87.3 Q 185.1 85.1, 184.7 84.5 L 184.7 107.9 L 181.0 107.9 L 181.0 79.5 L 185.5 79.5 \" fill=\"#0000FF\"/>\n",
       "<path class=\"atom-2\" d=\"M 207.8 84.6 L 212.8 84.6 L 212.8 79.4 L 215.1 79.4 L 215.1 84.6 L 220.2 84.6 L 220.2 86.5 L 215.1 86.5 L 215.1 91.8 L 212.8 91.8 L 212.8 86.5 L 207.8 86.5 L 207.8 84.6 \" fill=\"#0000FF\"/>\n",
       "<path class=\"atom-3\" d=\"M 257.6 30.0 Q 257.6 23.2, 260.9 19.4 Q 264.3 15.6, 270.6 15.6 Q 276.8 15.6, 280.2 19.4 Q 283.6 23.2, 283.6 30.0 Q 283.6 36.8, 280.2 40.8 Q 276.8 44.6, 270.6 44.6 Q 264.3 44.6, 260.9 40.8 Q 257.6 36.9, 257.6 30.0 M 270.6 41.4 Q 274.9 41.4, 277.2 38.6 Q 279.6 35.6, 279.6 30.0 Q 279.6 24.4, 277.2 21.6 Q 274.9 18.8, 270.6 18.8 Q 266.2 18.8, 263.9 21.6 Q 261.6 24.4, 261.6 30.0 Q 261.6 35.7, 263.9 38.6 Q 266.2 41.4, 270.6 41.4 \" fill=\"#FF0000\"/>\n",
       "<path class=\"atom-5\" d=\"M 345.2 106.3 Q 345.2 99.5, 348.6 95.7 Q 351.9 91.9, 358.2 91.9 Q 364.5 91.9, 367.9 95.7 Q 371.2 99.5, 371.2 106.3 Q 371.2 113.2, 367.8 117.1 Q 364.4 121.0, 358.2 121.0 Q 352.0 121.0, 348.6 117.1 Q 345.2 113.2, 345.2 106.3 M 358.2 117.8 Q 362.5 117.8, 364.9 114.9 Q 367.2 112.0, 367.2 106.3 Q 367.2 100.7, 364.9 97.9 Q 362.5 95.1, 358.2 95.1 Q 353.9 95.1, 351.5 97.9 Q 349.2 100.7, 349.2 106.3 Q 349.2 112.0, 351.5 114.9 Q 353.9 117.8, 358.2 117.8 \" fill=\"#FF0000\"/>\n",
       "<path class=\"atom-5\" d=\"M 375.3 96.5 L 384.9 96.5 L 384.9 98.6 L 375.3 98.6 L 375.3 96.5 \" fill=\"#FF0000\"/>\n",
       "<path class=\"atom-6\" d=\"M 192.6 210.8 L 196.4 210.8 L 196.4 222.9 L 210.9 222.9 L 210.9 210.8 L 214.7 210.8 L 214.7 239.2 L 210.9 239.2 L 210.9 226.1 L 196.4 226.1 L 196.4 239.2 L 192.6 239.2 L 192.6 210.8 \" fill=\"#000000\"/>\n",
       "<path class=\"atom-7\" d=\"M 240.0 257.9 L 243.8 257.9 L 243.8 270.0 L 258.3 270.0 L 258.3 257.9 L 262.2 257.9 L 262.2 286.2 L 258.3 286.2 L 258.3 273.2 L 243.8 273.2 L 243.8 286.2 L 240.0 286.2 L 240.0 257.9 \" fill=\"#000000\"/>\n",
       "<path class=\"atom-8\" d=\"M 322.5 209.8 L 326.4 209.8 L 326.4 221.8 L 340.8 221.8 L 340.8 209.8 L 344.7 209.8 L 344.7 238.1 L 340.8 238.1 L 340.8 225.0 L 326.4 225.0 L 326.4 238.1 L 322.5 238.1 L 322.5 209.8 \" fill=\"#000000\"/>\n",
       "<path class=\"atom-9\" d=\"M 184.2 153.0 L 188.0 153.0 L 188.0 165.0 L 202.5 165.0 L 202.5 153.0 L 206.3 153.0 L 206.3 181.3 L 202.5 181.3 L 202.5 168.2 L 188.0 168.2 L 188.0 181.3 L 184.2 181.3 L 184.2 153.0 \" fill=\"#000000\"/>\n",
       "<path class=\"atom-10\" d=\"M 133.5 127.7 L 137.4 127.7 L 137.4 139.8 L 151.9 139.8 L 151.9 127.7 L 155.7 127.7 L 155.7 156.0 L 151.9 156.0 L 151.9 143.0 L 137.4 143.0 L 137.4 156.0 L 133.5 156.0 L 133.5 127.7 \" fill=\"#000000\"/>\n",
       "<path class=\"atom-11\" d=\"M 115.1 65.1 L 118.9 65.1 L 118.9 77.1 L 133.4 77.1 L 133.4 65.1 L 137.2 65.1 L 137.2 93.4 L 133.4 93.4 L 133.4 80.3 L 118.9 80.3 L 118.9 93.4 L 115.1 93.4 L 115.1 65.1 \" fill=\"#000000\"/>\n",
       "<path class=\"atom-12\" d=\"M 193.8 13.8 L 197.6 13.8 L 197.6 25.8 L 212.1 25.8 L 212.1 13.8 L 215.9 13.8 L 215.9 42.1 L 212.1 42.1 L 212.1 29.0 L 197.6 29.0 L 197.6 42.1 L 193.8 42.1 L 193.8 13.8 \" fill=\"#000000\"/>\n",
       "</svg>"
      ],
      "text/plain": [
       "<IPython.core.display.SVG object>"
      ]
     },
     "execution_count": 17,
     "metadata": {},
     "output_type": "execute_result"
    }
   ],
   "source": [
    "# Note that this mapping is off-by-one from the mapping taken\n",
    "# by the remap method, as Python indexing is 0-based but SMILES\n",
    "# is 1-based\n",
    "print(\"Before remapping:\", zw_l_alanine.to_smiles(mapped=True))\n",
    "\n",
    "# Flip the order of the carbonyl carbon and oxygen\n",
    "remapped = zw_l_alanine.remap(\n",
    "    {0: 0, 1: 1, 2: 2, 3: 4, 4: 3, 5: 5, 6: 6, 7: 7, 8: 8, 9: 9, 10: 10, 11: 11, 12: 12}\n",
    ")\n",
    "#                                               ^--------^\n",
    "\n",
    "print(\"After remapping: \", remapped.to_smiles(mapped=True))\n",
    "\n",
    "# Doesn't affect the identity of the molecule\n",
    "assert zw_l_alanine.is_isomorphic_with(remapped)\n",
    "remapped.visualize()"
   ]
  },
  {
   "cell_type": "markdown",
   "id": "d5e4330a",
   "metadata": {},
   "source": [
    "## Via `Topology` objects\n",
    "\n",
    "The [`Topology`](openff.toolkit.topology.Topology) class represents a biomolecular system; it is analogous to the similarly named objects in GROMACS, MDTraj or OpenMM. Notably, it does not include co-ordinates and may represent multiple copies of a particular molecular species or even more complex mixtures of molecules. `Topology` objects are usually built up one species at a time from `Molecule` objects.\n",
    "\n",
    "`Molecule` objects can be retrieved from a `Topology` via the [`Topology.molecule()`](openff.toolkit.topology.Topology.molecule) method by providing the index of the molecule within the topology. For a topology consisting of a single molecule, this is just `topology.molecule(0)`.\n",
    "\n",
    "Constructor methods that are available for `Topology` but not `Molecule` generally require a `Molecule` to be provided via the `unique_molecules` keyword argument. The provided `Molecule` is used to provide the identity of the molecule, including aromaticity, bond orders, formal charges, and so forth. These methods therefore don't provide a route to the graph of the molecule, but can be useful for reordering atoms to match another software package."
   ]
  },
  {
   "cell_type": "markdown",
   "id": "95eab062",
   "metadata": {},
   "source": [
    "### From an OpenMM `Topology`\n",
    "\n",
    "The [`Topology.from_openmm()`](openff.toolkit.topology.Topology.from_openmm) method constructs an OpenFF `Topology` from an OpenMM [`Topology`](openmm.app.topology.Topology). The method requires that all the unique molecules in the `Topology` are provided as OpenFF `Molecule` objects, as the structure of an OpenMM `Topology` doesn't include the concept of a molecule. When using this method to create a `Molecule`, this limitation means that the method really only offers a pathway to reorder the atoms of a `Molecule` to match that of the OpenMM `Topology`."
   ]
  },
  {
   "cell_type": "code",
   "execution_count": 18,
   "id": "40645664",
   "metadata": {
    "execution": {
     "iopub.execute_input": "2023-09-27T14:44:39.058393Z",
     "iopub.status.busy": "2023-09-27T14:44:39.058236Z",
     "iopub.status.idle": "2023-09-27T14:44:39.072599Z",
     "shell.execute_reply": "2023-09-27T14:44:39.072239Z"
    }
   },
   "outputs": [
    {
     "data": {
      "image/svg+xml": [
       "<svg xmlns=\"http://www.w3.org/2000/svg\" xmlns:rdkit=\"http://www.rdkit.org/xml\" xmlns:xlink=\"http://www.w3.org/1999/xlink\" version=\"1.1\" baseProfile=\"full\" xml:space=\"preserve\" width=\"500px\" height=\"300px\" viewBox=\"0 0 500 300\">\n",
       "<!-- END OF HEADER -->\n",
       "<rect style=\"opacity:1.0;fill:#FFFFFF;stroke:none\" width=\"500.0\" height=\"300.0\" x=\"0.0\" y=\"0.0\"> </rect>\n",
       "<path class=\"bond-0 atom-0 atom-2\" d=\"M 204.7,104.8 L 227.0,123.8\" style=\"fill:none;fill-rule:evenodd;stroke:#0000FF;stroke-width:2.0px;stroke-linecap:butt;stroke-linejoin:miter;stroke-opacity:1\"/>\n",
       "<path class=\"bond-0 atom-0 atom-2\" d=\"M 227.0,123.8 L 249.2,142.8\" style=\"fill:none;fill-rule:evenodd;stroke:#000000;stroke-width:2.0px;stroke-linecap:butt;stroke-linejoin:miter;stroke-opacity:1\"/>\n",
       "<path class=\"bond-1 atom-0 atom-10\" d=\"M 178.8,106.9 L 168.4,117.6\" style=\"fill:none;fill-rule:evenodd;stroke:#0000FF;stroke-width:2.0px;stroke-linecap:butt;stroke-linejoin:miter;stroke-opacity:1\"/>\n",
       "<path class=\"bond-1 atom-0 atom-10\" d=\"M 168.4,117.6 L 157.9,128.3\" style=\"fill:none;fill-rule:evenodd;stroke:#000000;stroke-width:2.0px;stroke-linecap:butt;stroke-linejoin:miter;stroke-opacity:1\"/>\n",
       "<path class=\"bond-2 atom-0 atom-11\" d=\"M 178.8,90.8 L 159.1,86.5\" style=\"fill:none;fill-rule:evenodd;stroke:#0000FF;stroke-width:2.0px;stroke-linecap:butt;stroke-linejoin:miter;stroke-opacity:1\"/>\n",
       "<path class=\"bond-2 atom-0 atom-11\" d=\"M 159.1,86.5 L 139.4,82.2\" style=\"fill:none;fill-rule:evenodd;stroke:#000000;stroke-width:2.0px;stroke-linecap:butt;stroke-linejoin:miter;stroke-opacity:1\"/>\n",
       "<path class=\"bond-3 atom-0 atom-12\" d=\"M 195.0,77.3 L 198.3,60.8\" style=\"fill:none;fill-rule:evenodd;stroke:#0000FF;stroke-width:2.0px;stroke-linecap:butt;stroke-linejoin:miter;stroke-opacity:1\"/>\n",
       "<path class=\"bond-3 atom-0 atom-12\" d=\"M 198.3,60.8 L 201.6,44.3\" style=\"fill:none;fill-rule:evenodd;stroke:#000000;stroke-width:2.0px;stroke-linecap:butt;stroke-linejoin:miter;stroke-opacity:1\"/>\n",
       "<path class=\"bond-4 atom-1 atom-2\" d=\"M 269.1,206.9 L 249.2,142.8\" style=\"fill:none;fill-rule:evenodd;stroke:#000000;stroke-width:2.0px;stroke-linecap:butt;stroke-linejoin:miter;stroke-opacity:1\"/>\n",
       "<path class=\"bond-5 atom-1 atom-6\" d=\"M 269.1,206.9 L 216.9,221.3\" style=\"fill:none;fill-rule:evenodd;stroke:#000000;stroke-width:2.0px;stroke-linecap:butt;stroke-linejoin:miter;stroke-opacity:1\"/>\n",
       "<path class=\"bond-6 atom-1 atom-7\" d=\"M 269.1,206.9 L 255.6,255.7\" style=\"fill:none;fill-rule:evenodd;stroke:#000000;stroke-width:2.0px;stroke-linecap:butt;stroke-linejoin:miter;stroke-opacity:1\"/>\n",
       "<path class=\"bond-7 atom-1 atom-8\" d=\"M 269.1,206.9 L 320.3,220.4\" style=\"fill:none;fill-rule:evenodd;stroke:#000000;stroke-width:2.0px;stroke-linecap:butt;stroke-linejoin:miter;stroke-opacity:1\"/>\n",
       "<path class=\"bond-8 atom-2 atom-3\" d=\"M 249.2,142.8 L 292.6,93.2\" style=\"fill:none;fill-rule:evenodd;stroke:#000000;stroke-width:2.0px;stroke-linecap:butt;stroke-linejoin:miter;stroke-opacity:1\"/>\n",
       "<path class=\"bond-9 atom-2 atom-9\" d=\"M 249.2,142.8 L 212.8,164.7 L 208.7,155.5 Z\" style=\"fill:#000000;fill-rule:evenodd;fill-opacity:1;stroke:#000000;stroke-width:0.5px;stroke-linecap:butt;stroke-linejoin:miter;stroke-opacity:1;\"/>\n",
       "<path class=\"bond-10 atom-3 atom-4\" d=\"M 298.4,94.3 L 289.8,69.8\" style=\"fill:none;fill-rule:evenodd;stroke:#000000;stroke-width:2.0px;stroke-linecap:butt;stroke-linejoin:miter;stroke-opacity:1\"/>\n",
       "<path class=\"bond-10 atom-3 atom-4\" d=\"M 289.8,69.8 L 281.2,45.2\" style=\"fill:none;fill-rule:evenodd;stroke:#FF0000;stroke-width:2.0px;stroke-linecap:butt;stroke-linejoin:miter;stroke-opacity:1\"/>\n",
       "<path class=\"bond-10 atom-3 atom-4\" d=\"M 288.8,97.6 L 280.3,73.0\" style=\"fill:none;fill-rule:evenodd;stroke:#000000;stroke-width:2.0px;stroke-linecap:butt;stroke-linejoin:miter;stroke-opacity:1\"/>\n",
       "<path class=\"bond-10 atom-3 atom-4\" d=\"M 280.3,73.0 L 271.7,48.5\" style=\"fill:none;fill-rule:evenodd;stroke:#FF0000;stroke-width:2.0px;stroke-linecap:butt;stroke-linejoin:miter;stroke-opacity:1\"/>\n",
       "<path class=\"bond-11 atom-3 atom-5\" d=\"M 292.6,93.2 L 317.8,98.2\" style=\"fill:none;fill-rule:evenodd;stroke:#000000;stroke-width:2.0px;stroke-linecap:butt;stroke-linejoin:miter;stroke-opacity:1\"/>\n",
       "<path class=\"bond-11 atom-3 atom-5\" d=\"M 317.8,98.2 L 343.0,103.2\" style=\"fill:none;fill-rule:evenodd;stroke:#FF0000;stroke-width:2.0px;stroke-linecap:butt;stroke-linejoin:miter;stroke-opacity:1\"/>\n",
       "<path d=\"M 290.5,95.7 L 292.6,93.2 L 293.9,93.5\" style=\"fill:none;stroke:#000000;stroke-width:2.0px;stroke-linecap:butt;stroke-linejoin:miter;stroke-opacity:1;\"/>\n",
       "<path class=\"atom-0\" d=\"M 185.5 79.5 L 194.8 94.5 Q 195.7 96.0, 197.2 98.7 Q 198.7 101.4, 198.8 101.5 L 198.8 79.5 L 202.5 79.5 L 202.5 107.9 L 198.6 107.9 L 188.7 91.5 Q 187.5 89.5, 186.3 87.3 Q 185.1 85.1, 184.7 84.5 L 184.7 107.9 L 181.0 107.9 L 181.0 79.5 L 185.5 79.5 \" fill=\"#0000FF\"/>\n",
       "<path class=\"atom-0\" d=\"M 207.8 84.6 L 212.8 84.6 L 212.8 79.4 L 215.1 79.4 L 215.1 84.6 L 220.2 84.6 L 220.2 86.5 L 215.1 86.5 L 215.1 91.8 L 212.8 91.8 L 212.8 86.5 L 207.8 86.5 L 207.8 84.6 \" fill=\"#0000FF\"/>\n",
       "<path class=\"atom-4\" d=\"M 257.6 30.0 Q 257.6 23.2, 260.9 19.4 Q 264.3 15.6, 270.6 15.6 Q 276.8 15.6, 280.2 19.4 Q 283.6 23.2, 283.6 30.0 Q 283.6 36.8, 280.2 40.8 Q 276.8 44.6, 270.6 44.6 Q 264.3 44.6, 260.9 40.8 Q 257.6 36.9, 257.6 30.0 M 270.6 41.4 Q 274.9 41.4, 277.2 38.6 Q 279.6 35.6, 279.6 30.0 Q 279.6 24.4, 277.2 21.6 Q 274.9 18.8, 270.6 18.8 Q 266.2 18.8, 263.9 21.6 Q 261.6 24.4, 261.6 30.0 Q 261.6 35.7, 263.9 38.6 Q 266.2 41.4, 270.6 41.4 \" fill=\"#FF0000\"/>\n",
       "<path class=\"atom-5\" d=\"M 345.2 106.3 Q 345.2 99.5, 348.6 95.7 Q 351.9 91.9, 358.2 91.9 Q 364.5 91.9, 367.9 95.7 Q 371.2 99.5, 371.2 106.3 Q 371.2 113.2, 367.8 117.1 Q 364.4 121.0, 358.2 121.0 Q 352.0 121.0, 348.6 117.1 Q 345.2 113.2, 345.2 106.3 M 358.2 117.8 Q 362.5 117.8, 364.9 114.9 Q 367.2 112.0, 367.2 106.3 Q 367.2 100.7, 364.9 97.9 Q 362.5 95.1, 358.2 95.1 Q 353.9 95.1, 351.5 97.9 Q 349.2 100.7, 349.2 106.3 Q 349.2 112.0, 351.5 114.9 Q 353.9 117.8, 358.2 117.8 \" fill=\"#FF0000\"/>\n",
       "<path class=\"atom-5\" d=\"M 375.3 96.5 L 384.9 96.5 L 384.9 98.6 L 375.3 98.6 L 375.3 96.5 \" fill=\"#FF0000\"/>\n",
       "<path class=\"atom-6\" d=\"M 192.6 210.8 L 196.4 210.8 L 196.4 222.9 L 210.9 222.9 L 210.9 210.8 L 214.7 210.8 L 214.7 239.2 L 210.9 239.2 L 210.9 226.1 L 196.4 226.1 L 196.4 239.2 L 192.6 239.2 L 192.6 210.8 \" fill=\"#000000\"/>\n",
       "<path class=\"atom-7\" d=\"M 240.0 257.9 L 243.8 257.9 L 243.8 270.0 L 258.3 270.0 L 258.3 257.9 L 262.2 257.9 L 262.2 286.2 L 258.3 286.2 L 258.3 273.2 L 243.8 273.2 L 243.8 286.2 L 240.0 286.2 L 240.0 257.9 \" fill=\"#000000\"/>\n",
       "<path class=\"atom-8\" d=\"M 322.5 209.8 L 326.4 209.8 L 326.4 221.8 L 340.8 221.8 L 340.8 209.8 L 344.7 209.8 L 344.7 238.1 L 340.8 238.1 L 340.8 225.0 L 326.4 225.0 L 326.4 238.1 L 322.5 238.1 L 322.5 209.8 \" fill=\"#000000\"/>\n",
       "<path class=\"atom-9\" d=\"M 184.2 153.0 L 188.0 153.0 L 188.0 165.0 L 202.5 165.0 L 202.5 153.0 L 206.3 153.0 L 206.3 181.3 L 202.5 181.3 L 202.5 168.2 L 188.0 168.2 L 188.0 181.3 L 184.2 181.3 L 184.2 153.0 \" fill=\"#000000\"/>\n",
       "<path class=\"atom-10\" d=\"M 133.5 127.7 L 137.4 127.7 L 137.4 139.8 L 151.9 139.8 L 151.9 127.7 L 155.7 127.7 L 155.7 156.0 L 151.9 156.0 L 151.9 143.0 L 137.4 143.0 L 137.4 156.0 L 133.5 156.0 L 133.5 127.7 \" fill=\"#000000\"/>\n",
       "<path class=\"atom-11\" d=\"M 115.1 65.1 L 118.9 65.1 L 118.9 77.1 L 133.4 77.1 L 133.4 65.1 L 137.2 65.1 L 137.2 93.4 L 133.4 93.4 L 133.4 80.3 L 118.9 80.3 L 118.9 93.4 L 115.1 93.4 L 115.1 65.1 \" fill=\"#000000\"/>\n",
       "<path class=\"atom-12\" d=\"M 193.8 13.8 L 197.6 13.8 L 197.6 25.8 L 212.1 25.8 L 212.1 13.8 L 215.9 13.8 L 215.9 42.1 L 212.1 42.1 L 212.1 29.0 L 197.6 29.0 L 197.6 42.1 L 193.8 42.1 L 193.8 13.8 \" fill=\"#000000\"/>\n",
       "</svg>"
      ],
      "text/plain": [
       "<IPython.core.display.SVG object>"
      ]
     },
     "execution_count": 18,
     "metadata": {},
     "output_type": "execute_result"
    }
   ],
   "source": [
    "from openmm.app.pdbfile import PDBFile\n",
    "\n",
    "openmm_topology = PDBFile(\"../pdb/zw_l_alanine.pdb\").getTopology()\n",
    "openff_topology = Topology.from_openmm(openmm_topology, unique_molecules=[zw_l_alanine])\n",
    "\n",
    "from_openmm_topology = openff_topology.molecule(0)\n",
    "\n",
    "assert zw_l_alanine.is_isomorphic_with(from_openmm_topology)\n",
    "\n",
    "from_openmm_topology.visualize()"
   ]
  },
  {
   "cell_type": "markdown",
   "id": "39e06787",
   "metadata": {},
   "source": [
    "### From an MDTraj `Topology`\n",
    "\n",
    "The [`Topology.from_mdtraj()`](openff.toolkit.topology.Topology.from_mdtraj) method constructs an OpenFF `Topology` from an MDTraj [`Topology`](mdtraj.Topology). The method requires that all the unique molecules in the `Topology` are provided as OpenFF `Molecule` objects to ensure that the graph of the molecule is correct. When using this method to create a `Molecule`, this limitation means that the method really only offers a pathway to reorder the atoms of a `Molecule` to match that of the MDTraj `Topology`."
   ]
  },
  {
   "cell_type": "code",
   "execution_count": 19,
   "id": "68ee9ed2",
   "metadata": {
    "execution": {
     "iopub.execute_input": "2023-09-27T14:44:39.074634Z",
     "iopub.status.busy": "2023-09-27T14:44:39.074474Z",
     "iopub.status.idle": "2023-09-27T14:44:39.277431Z",
     "shell.execute_reply": "2023-09-27T14:44:39.277059Z"
    }
   },
   "outputs": [
    {
     "data": {
      "image/svg+xml": [
       "<svg xmlns=\"http://www.w3.org/2000/svg\" xmlns:rdkit=\"http://www.rdkit.org/xml\" xmlns:xlink=\"http://www.w3.org/1999/xlink\" version=\"1.1\" baseProfile=\"full\" xml:space=\"preserve\" width=\"500px\" height=\"300px\" viewBox=\"0 0 500 300\">\n",
       "<!-- END OF HEADER -->\n",
       "<rect style=\"opacity:1.0;fill:#FFFFFF;stroke:none\" width=\"500.0\" height=\"300.0\" x=\"0.0\" y=\"0.0\"> </rect>\n",
       "<path class=\"bond-0 atom-0 atom-2\" d=\"M 204.7,104.8 L 227.0,123.8\" style=\"fill:none;fill-rule:evenodd;stroke:#0000FF;stroke-width:2.0px;stroke-linecap:butt;stroke-linejoin:miter;stroke-opacity:1\"/>\n",
       "<path class=\"bond-0 atom-0 atom-2\" d=\"M 227.0,123.8 L 249.2,142.8\" style=\"fill:none;fill-rule:evenodd;stroke:#000000;stroke-width:2.0px;stroke-linecap:butt;stroke-linejoin:miter;stroke-opacity:1\"/>\n",
       "<path class=\"bond-1 atom-0 atom-10\" d=\"M 178.8,106.9 L 168.4,117.6\" style=\"fill:none;fill-rule:evenodd;stroke:#0000FF;stroke-width:2.0px;stroke-linecap:butt;stroke-linejoin:miter;stroke-opacity:1\"/>\n",
       "<path class=\"bond-1 atom-0 atom-10\" d=\"M 168.4,117.6 L 157.9,128.3\" style=\"fill:none;fill-rule:evenodd;stroke:#000000;stroke-width:2.0px;stroke-linecap:butt;stroke-linejoin:miter;stroke-opacity:1\"/>\n",
       "<path class=\"bond-2 atom-0 atom-11\" d=\"M 178.8,90.8 L 159.1,86.5\" style=\"fill:none;fill-rule:evenodd;stroke:#0000FF;stroke-width:2.0px;stroke-linecap:butt;stroke-linejoin:miter;stroke-opacity:1\"/>\n",
       "<path class=\"bond-2 atom-0 atom-11\" d=\"M 159.1,86.5 L 139.4,82.2\" style=\"fill:none;fill-rule:evenodd;stroke:#000000;stroke-width:2.0px;stroke-linecap:butt;stroke-linejoin:miter;stroke-opacity:1\"/>\n",
       "<path class=\"bond-3 atom-0 atom-12\" d=\"M 195.0,77.3 L 198.3,60.8\" style=\"fill:none;fill-rule:evenodd;stroke:#0000FF;stroke-width:2.0px;stroke-linecap:butt;stroke-linejoin:miter;stroke-opacity:1\"/>\n",
       "<path class=\"bond-3 atom-0 atom-12\" d=\"M 198.3,60.8 L 201.6,44.3\" style=\"fill:none;fill-rule:evenodd;stroke:#000000;stroke-width:2.0px;stroke-linecap:butt;stroke-linejoin:miter;stroke-opacity:1\"/>\n",
       "<path class=\"bond-4 atom-1 atom-2\" d=\"M 269.1,206.9 L 249.2,142.8\" style=\"fill:none;fill-rule:evenodd;stroke:#000000;stroke-width:2.0px;stroke-linecap:butt;stroke-linejoin:miter;stroke-opacity:1\"/>\n",
       "<path class=\"bond-5 atom-1 atom-6\" d=\"M 269.1,206.9 L 216.9,221.3\" style=\"fill:none;fill-rule:evenodd;stroke:#000000;stroke-width:2.0px;stroke-linecap:butt;stroke-linejoin:miter;stroke-opacity:1\"/>\n",
       "<path class=\"bond-6 atom-1 atom-7\" d=\"M 269.1,206.9 L 255.6,255.7\" style=\"fill:none;fill-rule:evenodd;stroke:#000000;stroke-width:2.0px;stroke-linecap:butt;stroke-linejoin:miter;stroke-opacity:1\"/>\n",
       "<path class=\"bond-7 atom-1 atom-8\" d=\"M 269.1,206.9 L 320.3,220.4\" style=\"fill:none;fill-rule:evenodd;stroke:#000000;stroke-width:2.0px;stroke-linecap:butt;stroke-linejoin:miter;stroke-opacity:1\"/>\n",
       "<path class=\"bond-8 atom-2 atom-3\" d=\"M 249.2,142.8 L 292.6,93.2\" style=\"fill:none;fill-rule:evenodd;stroke:#000000;stroke-width:2.0px;stroke-linecap:butt;stroke-linejoin:miter;stroke-opacity:1\"/>\n",
       "<path class=\"bond-9 atom-2 atom-9\" d=\"M 249.2,142.8 L 212.8,164.7 L 208.7,155.5 Z\" style=\"fill:#000000;fill-rule:evenodd;fill-opacity:1;stroke:#000000;stroke-width:0.5px;stroke-linecap:butt;stroke-linejoin:miter;stroke-opacity:1;\"/>\n",
       "<path class=\"bond-10 atom-3 atom-4\" d=\"M 298.4,94.3 L 289.8,69.8\" style=\"fill:none;fill-rule:evenodd;stroke:#000000;stroke-width:2.0px;stroke-linecap:butt;stroke-linejoin:miter;stroke-opacity:1\"/>\n",
       "<path class=\"bond-10 atom-3 atom-4\" d=\"M 289.8,69.8 L 281.2,45.2\" style=\"fill:none;fill-rule:evenodd;stroke:#FF0000;stroke-width:2.0px;stroke-linecap:butt;stroke-linejoin:miter;stroke-opacity:1\"/>\n",
       "<path class=\"bond-10 atom-3 atom-4\" d=\"M 288.8,97.6 L 280.3,73.0\" style=\"fill:none;fill-rule:evenodd;stroke:#000000;stroke-width:2.0px;stroke-linecap:butt;stroke-linejoin:miter;stroke-opacity:1\"/>\n",
       "<path class=\"bond-10 atom-3 atom-4\" d=\"M 280.3,73.0 L 271.7,48.5\" style=\"fill:none;fill-rule:evenodd;stroke:#FF0000;stroke-width:2.0px;stroke-linecap:butt;stroke-linejoin:miter;stroke-opacity:1\"/>\n",
       "<path class=\"bond-11 atom-3 atom-5\" d=\"M 292.6,93.2 L 317.8,98.2\" style=\"fill:none;fill-rule:evenodd;stroke:#000000;stroke-width:2.0px;stroke-linecap:butt;stroke-linejoin:miter;stroke-opacity:1\"/>\n",
       "<path class=\"bond-11 atom-3 atom-5\" d=\"M 317.8,98.2 L 343.0,103.2\" style=\"fill:none;fill-rule:evenodd;stroke:#FF0000;stroke-width:2.0px;stroke-linecap:butt;stroke-linejoin:miter;stroke-opacity:1\"/>\n",
       "<path d=\"M 290.5,95.7 L 292.6,93.2 L 293.9,93.5\" style=\"fill:none;stroke:#000000;stroke-width:2.0px;stroke-linecap:butt;stroke-linejoin:miter;stroke-opacity:1;\"/>\n",
       "<path class=\"atom-0\" d=\"M 185.5 79.5 L 194.8 94.5 Q 195.7 96.0, 197.2 98.7 Q 198.7 101.4, 198.8 101.5 L 198.8 79.5 L 202.5 79.5 L 202.5 107.9 L 198.6 107.9 L 188.7 91.5 Q 187.5 89.5, 186.3 87.3 Q 185.1 85.1, 184.7 84.5 L 184.7 107.9 L 181.0 107.9 L 181.0 79.5 L 185.5 79.5 \" fill=\"#0000FF\"/>\n",
       "<path class=\"atom-0\" d=\"M 207.8 84.6 L 212.8 84.6 L 212.8 79.4 L 215.1 79.4 L 215.1 84.6 L 220.2 84.6 L 220.2 86.5 L 215.1 86.5 L 215.1 91.8 L 212.8 91.8 L 212.8 86.5 L 207.8 86.5 L 207.8 84.6 \" fill=\"#0000FF\"/>\n",
       "<path class=\"atom-4\" d=\"M 257.6 30.0 Q 257.6 23.2, 260.9 19.4 Q 264.3 15.6, 270.6 15.6 Q 276.8 15.6, 280.2 19.4 Q 283.6 23.2, 283.6 30.0 Q 283.6 36.8, 280.2 40.8 Q 276.8 44.6, 270.6 44.6 Q 264.3 44.6, 260.9 40.8 Q 257.6 36.9, 257.6 30.0 M 270.6 41.4 Q 274.9 41.4, 277.2 38.6 Q 279.6 35.6, 279.6 30.0 Q 279.6 24.4, 277.2 21.6 Q 274.9 18.8, 270.6 18.8 Q 266.2 18.8, 263.9 21.6 Q 261.6 24.4, 261.6 30.0 Q 261.6 35.7, 263.9 38.6 Q 266.2 41.4, 270.6 41.4 \" fill=\"#FF0000\"/>\n",
       "<path class=\"atom-5\" d=\"M 345.2 106.3 Q 345.2 99.5, 348.6 95.7 Q 351.9 91.9, 358.2 91.9 Q 364.5 91.9, 367.9 95.7 Q 371.2 99.5, 371.2 106.3 Q 371.2 113.2, 367.8 117.1 Q 364.4 121.0, 358.2 121.0 Q 352.0 121.0, 348.6 117.1 Q 345.2 113.2, 345.2 106.3 M 358.2 117.8 Q 362.5 117.8, 364.9 114.9 Q 367.2 112.0, 367.2 106.3 Q 367.2 100.7, 364.9 97.9 Q 362.5 95.1, 358.2 95.1 Q 353.9 95.1, 351.5 97.9 Q 349.2 100.7, 349.2 106.3 Q 349.2 112.0, 351.5 114.9 Q 353.9 117.8, 358.2 117.8 \" fill=\"#FF0000\"/>\n",
       "<path class=\"atom-5\" d=\"M 375.3 96.5 L 384.9 96.5 L 384.9 98.6 L 375.3 98.6 L 375.3 96.5 \" fill=\"#FF0000\"/>\n",
       "<path class=\"atom-6\" d=\"M 192.6 210.8 L 196.4 210.8 L 196.4 222.9 L 210.9 222.9 L 210.9 210.8 L 214.7 210.8 L 214.7 239.2 L 210.9 239.2 L 210.9 226.1 L 196.4 226.1 L 196.4 239.2 L 192.6 239.2 L 192.6 210.8 \" fill=\"#000000\"/>\n",
       "<path class=\"atom-7\" d=\"M 240.0 257.9 L 243.8 257.9 L 243.8 270.0 L 258.3 270.0 L 258.3 257.9 L 262.2 257.9 L 262.2 286.2 L 258.3 286.2 L 258.3 273.2 L 243.8 273.2 L 243.8 286.2 L 240.0 286.2 L 240.0 257.9 \" fill=\"#000000\"/>\n",
       "<path class=\"atom-8\" d=\"M 322.5 209.8 L 326.4 209.8 L 326.4 221.8 L 340.8 221.8 L 340.8 209.8 L 344.7 209.8 L 344.7 238.1 L 340.8 238.1 L 340.8 225.0 L 326.4 225.0 L 326.4 238.1 L 322.5 238.1 L 322.5 209.8 \" fill=\"#000000\"/>\n",
       "<path class=\"atom-9\" d=\"M 184.2 153.0 L 188.0 153.0 L 188.0 165.0 L 202.5 165.0 L 202.5 153.0 L 206.3 153.0 L 206.3 181.3 L 202.5 181.3 L 202.5 168.2 L 188.0 168.2 L 188.0 181.3 L 184.2 181.3 L 184.2 153.0 \" fill=\"#000000\"/>\n",
       "<path class=\"atom-10\" d=\"M 133.5 127.7 L 137.4 127.7 L 137.4 139.8 L 151.9 139.8 L 151.9 127.7 L 155.7 127.7 L 155.7 156.0 L 151.9 156.0 L 151.9 143.0 L 137.4 143.0 L 137.4 156.0 L 133.5 156.0 L 133.5 127.7 \" fill=\"#000000\"/>\n",
       "<path class=\"atom-11\" d=\"M 115.1 65.1 L 118.9 65.1 L 118.9 77.1 L 133.4 77.1 L 133.4 65.1 L 137.2 65.1 L 137.2 93.4 L 133.4 93.4 L 133.4 80.3 L 118.9 80.3 L 118.9 93.4 L 115.1 93.4 L 115.1 65.1 \" fill=\"#000000\"/>\n",
       "<path class=\"atom-12\" d=\"M 193.8 13.8 L 197.6 13.8 L 197.6 25.8 L 212.1 25.8 L 212.1 13.8 L 215.9 13.8 L 215.9 42.1 L 212.1 42.1 L 212.1 29.0 L 197.6 29.0 L 197.6 42.1 L 193.8 42.1 L 193.8 13.8 \" fill=\"#000000\"/>\n",
       "</svg>"
      ],
      "text/plain": [
       "<IPython.core.display.SVG object>"
      ]
     },
     "execution_count": 19,
     "metadata": {},
     "output_type": "execute_result"
    }
   ],
   "source": [
    "from mdtraj import load_pdb\n",
    "\n",
    "mdtraj_topology = load_pdb(\"../pdb/zw_l_alanine.pdb\").topology\n",
    "openff_topology = Topology.from_openmm(openmm_topology, unique_molecules=[zw_l_alanine])\n",
    "\n",
    "from_mdtraj_topology = openff_topology.molecule(0)\n",
    "\n",
    "assert zw_l_alanine.is_isomorphic_with(from_mdtraj_topology)\n",
    "\n",
    "from_mdtraj_topology.visualize()"
   ]
  },
  {
   "cell_type": "markdown",
   "id": "29c39bd1",
   "metadata": {},
   "source": [
    "## From Toolkit objects\n",
    "\n",
    "The OpenFF Toolkit calls out to other software to perform low-level tasks like reading SMILES or files. These external software packages are called toolkits, and presently include [RDKit](https://www.rdkit.org/) and the [OpenEye Toolkit](https://www.eyesopen.com/toolkit-development). OpenFF `Molecule` objects can be created from the equivalent objects in these toolkits."
   ]
  },
  {
   "cell_type": "markdown",
   "id": "c6f2af84",
   "metadata": {},
   "source": [
    "### From RDKit `Mol`\n",
    "\n",
    "The [`Molecule.from_rdkit()`](openff.toolkit.topology.Molecule.from_rdkit) method converts an [`rdkit.Chem.rdchem.Mol`](rdkit.Chem.rdchem.Mol) object to an OpenFF `Molecule`."
   ]
  },
  {
   "cell_type": "code",
   "execution_count": 20,
   "id": "fae232e6",
   "metadata": {
    "execution": {
     "iopub.execute_input": "2023-09-27T14:44:39.279705Z",
     "iopub.status.busy": "2023-09-27T14:44:39.279466Z",
     "iopub.status.idle": "2023-09-27T14:44:39.314109Z",
     "shell.execute_reply": "2023-09-27T14:44:39.313686Z"
    }
   },
   "outputs": [
    {
     "name": "stdout",
     "output_type": "stream",
     "text": [
      "rdmol is of type <class 'rdkit.Chem.rdchem.Mol'>\n"
     ]
    },
    {
     "data": {
      "image/svg+xml": [
       "<svg xmlns=\"http://www.w3.org/2000/svg\" xmlns:rdkit=\"http://www.rdkit.org/xml\" xmlns:xlink=\"http://www.w3.org/1999/xlink\" version=\"1.1\" baseProfile=\"full\" xml:space=\"preserve\" width=\"500px\" height=\"300px\" viewBox=\"0 0 500 300\">\n",
       "<!-- END OF HEADER -->\n",
       "<rect style=\"opacity:1.0;fill:#FFFFFF;stroke:none\" width=\"500.0\" height=\"300.0\" x=\"0.0\" y=\"0.0\"> </rect>\n",
       "<path class=\"bond-0 atom-0 atom-1\" d=\"M 276.5,80.1 L 256.1,148.4\" style=\"fill:none;fill-rule:evenodd;stroke:#000000;stroke-width:2.0px;stroke-linecap:butt;stroke-linejoin:miter;stroke-opacity:1\"/>\n",
       "<path class=\"bond-1 atom-1 atom-2\" d=\"M 256.1,148.4 L 235.3,166.5\" style=\"fill:none;fill-rule:evenodd;stroke:#000000;stroke-width:2.0px;stroke-linecap:butt;stroke-linejoin:miter;stroke-opacity:1\"/>\n",
       "<path class=\"bond-1 atom-1 atom-2\" d=\"M 235.3,166.5 L 214.5,184.6\" style=\"fill:none;fill-rule:evenodd;stroke:#0000FF;stroke-width:2.0px;stroke-linecap:butt;stroke-linejoin:miter;stroke-opacity:1\"/>\n",
       "<path class=\"bond-2 atom-1 atom-3\" d=\"M 256.1,148.4 L 302.8,200.7\" style=\"fill:none;fill-rule:evenodd;stroke:#000000;stroke-width:2.0px;stroke-linecap:butt;stroke-linejoin:miter;stroke-opacity:1\"/>\n",
       "<path class=\"bond-3 atom-3 atom-4\" d=\"M 302.8,200.7 L 294.2,226.3\" style=\"fill:none;fill-rule:evenodd;stroke:#000000;stroke-width:2.0px;stroke-linecap:butt;stroke-linejoin:miter;stroke-opacity:1\"/>\n",
       "<path class=\"bond-3 atom-3 atom-4\" d=\"M 294.2,226.3 L 285.6,251.8\" style=\"fill:none;fill-rule:evenodd;stroke:#FF0000;stroke-width:2.0px;stroke-linecap:butt;stroke-linejoin:miter;stroke-opacity:1\"/>\n",
       "<path class=\"bond-4 atom-3 atom-5\" d=\"M 300.8,206.6 L 329.5,200.6\" style=\"fill:none;fill-rule:evenodd;stroke:#000000;stroke-width:2.0px;stroke-linecap:butt;stroke-linejoin:miter;stroke-opacity:1\"/>\n",
       "<path class=\"bond-4 atom-3 atom-5\" d=\"M 329.5,200.6 L 358.2,194.6\" style=\"fill:none;fill-rule:evenodd;stroke:#FF0000;stroke-width:2.0px;stroke-linecap:butt;stroke-linejoin:miter;stroke-opacity:1\"/>\n",
       "<path class=\"bond-4 atom-3 atom-5\" d=\"M 298.7,196.1 L 327.3,190.1\" style=\"fill:none;fill-rule:evenodd;stroke:#000000;stroke-width:2.0px;stroke-linecap:butt;stroke-linejoin:miter;stroke-opacity:1\"/>\n",
       "<path class=\"bond-4 atom-3 atom-5\" d=\"M 327.3,190.1 L 356.0,184.1\" style=\"fill:none;fill-rule:evenodd;stroke:#FF0000;stroke-width:2.0px;stroke-linecap:butt;stroke-linejoin:miter;stroke-opacity:1\"/>\n",
       "<path class=\"bond-5 atom-0 atom-6\" d=\"M 276.5,80.1 L 331.6,94.8\" style=\"fill:none;fill-rule:evenodd;stroke:#000000;stroke-width:2.0px;stroke-linecap:butt;stroke-linejoin:miter;stroke-opacity:1\"/>\n",
       "<path class=\"bond-6 atom-0 atom-7\" d=\"M 276.5,80.1 L 312.5,42.8\" style=\"fill:none;fill-rule:evenodd;stroke:#000000;stroke-width:2.0px;stroke-linecap:butt;stroke-linejoin:miter;stroke-opacity:1\"/>\n",
       "<path class=\"bond-7 atom-0 atom-8\" d=\"M 276.5,80.1 L 238.5,42.7\" style=\"fill:none;fill-rule:evenodd;stroke:#000000;stroke-width:2.0px;stroke-linecap:butt;stroke-linejoin:miter;stroke-opacity:1\"/>\n",
       "<path class=\"bond-8 atom-1 atom-9\" d=\"M 252.7,147.4 L 253.0,146.6\" style=\"fill:none;fill-rule:evenodd;stroke:#000000;stroke-width:1.0px;stroke-linecap:butt;stroke-linejoin:miter;stroke-opacity:1\"/>\n",
       "<path class=\"bond-8 atom-1 atom-9\" d=\"M 249.3,146.3 L 250.0,144.8\" style=\"fill:none;fill-rule:evenodd;stroke:#000000;stroke-width:1.0px;stroke-linecap:butt;stroke-linejoin:miter;stroke-opacity:1\"/>\n",
       "<path class=\"bond-8 atom-1 atom-9\" d=\"M 245.9,145.3 L 246.9,143.0\" style=\"fill:none;fill-rule:evenodd;stroke:#000000;stroke-width:1.0px;stroke-linecap:butt;stroke-linejoin:miter;stroke-opacity:1\"/>\n",
       "<path class=\"bond-8 atom-1 atom-9\" d=\"M 242.5,144.3 L 243.9,141.2\" style=\"fill:none;fill-rule:evenodd;stroke:#000000;stroke-width:1.0px;stroke-linecap:butt;stroke-linejoin:miter;stroke-opacity:1\"/>\n",
       "<path class=\"bond-8 atom-1 atom-9\" d=\"M 239.2,143.2 L 240.8,139.4\" style=\"fill:none;fill-rule:evenodd;stroke:#000000;stroke-width:1.0px;stroke-linecap:butt;stroke-linejoin:miter;stroke-opacity:1\"/>\n",
       "<path class=\"bond-8 atom-1 atom-9\" d=\"M 235.8,142.2 L 237.8,137.7\" style=\"fill:none;fill-rule:evenodd;stroke:#000000;stroke-width:1.0px;stroke-linecap:butt;stroke-linejoin:miter;stroke-opacity:1\"/>\n",
       "<path class=\"bond-8 atom-1 atom-9\" d=\"M 232.4,141.1 L 234.7,135.9\" style=\"fill:none;fill-rule:evenodd;stroke:#000000;stroke-width:1.0px;stroke-linecap:butt;stroke-linejoin:miter;stroke-opacity:1\"/>\n",
       "<path class=\"bond-8 atom-1 atom-9\" d=\"M 229.0,140.1 L 231.6,134.1\" style=\"fill:none;fill-rule:evenodd;stroke:#000000;stroke-width:1.0px;stroke-linecap:butt;stroke-linejoin:miter;stroke-opacity:1\"/>\n",
       "<path class=\"bond-8 atom-1 atom-9\" d=\"M 225.6,139.1 L 228.6,132.3\" style=\"fill:none;fill-rule:evenodd;stroke:#000000;stroke-width:1.0px;stroke-linecap:butt;stroke-linejoin:miter;stroke-opacity:1\"/>\n",
       "<path class=\"bond-8 atom-1 atom-9\" d=\"M 222.2,138.0 L 225.5,130.5\" style=\"fill:none;fill-rule:evenodd;stroke:#000000;stroke-width:1.0px;stroke-linecap:butt;stroke-linejoin:miter;stroke-opacity:1\"/>\n",
       "<path class=\"bond-8 atom-1 atom-9\" d=\"M 218.8,137.0 L 222.5,128.7\" style=\"fill:none;fill-rule:evenodd;stroke:#000000;stroke-width:1.0px;stroke-linecap:butt;stroke-linejoin:miter;stroke-opacity:1\"/>\n",
       "<path class=\"bond-8 atom-1 atom-9\" d=\"M 215.5,135.9 L 219.4,126.9\" style=\"fill:none;fill-rule:evenodd;stroke:#000000;stroke-width:1.0px;stroke-linecap:butt;stroke-linejoin:miter;stroke-opacity:1\"/>\n",
       "<path class=\"bond-8 atom-1 atom-9\" d=\"M 212.1,134.9 L 216.4,125.1\" style=\"fill:none;fill-rule:evenodd;stroke:#000000;stroke-width:1.0px;stroke-linecap:butt;stroke-linejoin:miter;stroke-opacity:1\"/>\n",
       "<path class=\"bond-9 atom-2 atom-10\" d=\"M 182.3,188.1 L 170.2,176.0\" style=\"fill:none;fill-rule:evenodd;stroke:#0000FF;stroke-width:2.0px;stroke-linecap:butt;stroke-linejoin:miter;stroke-opacity:1\"/>\n",
       "<path class=\"bond-9 atom-2 atom-10\" d=\"M 170.2,176.0 L 158.2,163.9\" style=\"fill:none;fill-rule:evenodd;stroke:#000000;stroke-width:2.0px;stroke-linecap:butt;stroke-linejoin:miter;stroke-opacity:1\"/>\n",
       "<path class=\"bond-10 atom-2 atom-11\" d=\"M 182.3,204.3 L 160.7,209.2\" style=\"fill:none;fill-rule:evenodd;stroke:#0000FF;stroke-width:2.0px;stroke-linecap:butt;stroke-linejoin:miter;stroke-opacity:1\"/>\n",
       "<path class=\"bond-10 atom-2 atom-11\" d=\"M 160.7,209.2 L 139.1,214.2\" style=\"fill:none;fill-rule:evenodd;stroke:#000000;stroke-width:2.0px;stroke-linecap:butt;stroke-linejoin:miter;stroke-opacity:1\"/>\n",
       "<path class=\"bond-11 atom-2 atom-12\" d=\"M 198.8,217.8 L 202.6,236.2\" style=\"fill:none;fill-rule:evenodd;stroke:#0000FF;stroke-width:2.0px;stroke-linecap:butt;stroke-linejoin:miter;stroke-opacity:1\"/>\n",
       "<path class=\"bond-11 atom-2 atom-12\" d=\"M 202.6,236.2 L 206.5,254.6\" style=\"fill:none;fill-rule:evenodd;stroke:#000000;stroke-width:2.0px;stroke-linecap:butt;stroke-linejoin:miter;stroke-opacity:1\"/>\n",
       "<path d=\"M 300.4,198.1 L 302.8,200.7 L 302.3,202.0\" style=\"fill:none;stroke:#000000;stroke-width:2.0px;stroke-linecap:butt;stroke-linejoin:miter;stroke-opacity:1;\"/>\n",
       "<path class=\"atom-2\" d=\"M 189.1 187.1 L 198.4 202.1 Q 199.3 203.6, 200.8 206.2 Q 202.3 208.9, 202.4 209.1 L 202.4 187.1 L 206.1 187.1 L 206.1 215.4 L 202.2 215.4 L 192.3 199.0 Q 191.1 197.1, 189.9 194.9 Q 188.7 192.7, 188.3 192.0 L 188.3 215.4 L 184.6 215.4 L 184.6 187.1 L 189.1 187.1 \" fill=\"#0000FF\"/>\n",
       "<path class=\"atom-2\" d=\"M 211.4 192.2 L 216.4 192.2 L 216.4 186.9 L 218.6 186.9 L 218.6 192.2 L 223.8 192.2 L 223.8 194.1 L 218.6 194.1 L 218.6 199.4 L 216.4 199.4 L 216.4 194.1 L 211.4 194.1 L 211.4 192.2 \" fill=\"#0000FF\"/>\n",
       "<path class=\"atom-4\" d=\"M 267.0 268.5 Q 267.0 261.7, 270.4 257.9 Q 273.7 254.1, 280.0 254.1 Q 286.3 254.1, 289.6 257.9 Q 293.0 261.7, 293.0 268.5 Q 293.0 275.4, 289.6 279.3 Q 286.2 283.2, 280.0 283.2 Q 273.8 283.2, 270.4 279.3 Q 267.0 275.4, 267.0 268.5 M 280.0 280.0 Q 284.3 280.0, 286.6 277.1 Q 289.0 274.2, 289.0 268.5 Q 289.0 263.0, 286.6 260.2 Q 284.3 257.3, 280.0 257.3 Q 275.7 257.3, 273.3 260.1 Q 271.0 262.9, 271.0 268.5 Q 271.0 274.2, 273.3 277.1 Q 275.7 280.0, 280.0 280.0 \" fill=\"#FF0000\"/>\n",
       "<path class=\"atom-4\" d=\"M 297.0 258.7 L 306.7 258.7 L 306.7 260.8 L 297.0 260.8 L 297.0 258.7 \" fill=\"#FF0000\"/>\n",
       "<path class=\"atom-5\" d=\"M 359.5 186.3 Q 359.5 179.5, 362.8 175.7 Q 366.2 171.9, 372.5 171.9 Q 378.7 171.9, 382.1 175.7 Q 385.5 179.5, 385.5 186.3 Q 385.5 193.1, 382.1 197.1 Q 378.7 200.9, 372.5 200.9 Q 366.2 200.9, 362.8 197.1 Q 359.5 193.2, 359.5 186.3 M 372.5 197.7 Q 376.8 197.7, 379.1 194.9 Q 381.5 191.9, 381.5 186.3 Q 381.5 180.7, 379.1 177.9 Q 376.8 175.1, 372.5 175.1 Q 368.1 175.1, 365.8 177.9 Q 363.5 180.7, 363.5 186.3 Q 363.5 192.0, 365.8 194.9 Q 368.1 197.7, 372.5 197.7 \" fill=\"#FF0000\"/>\n",
       "<path class=\"atom-6\" d=\"M 334.0 84.2 L 337.8 84.2 L 337.8 96.2 L 352.3 96.2 L 352.3 84.2 L 356.1 84.2 L 356.1 112.5 L 352.3 112.5 L 352.3 99.4 L 337.8 99.4 L 337.8 112.5 L 334.0 112.5 L 334.0 84.2 \" fill=\"#000000\"/>\n",
       "<path class=\"atom-7\" d=\"M 314.9 14.7 L 318.7 14.7 L 318.7 26.7 L 333.2 26.7 L 333.2 14.7 L 337.0 14.7 L 337.0 43.0 L 333.2 43.0 L 333.2 29.9 L 318.7 29.9 L 318.7 43.0 L 314.9 43.0 L 314.9 14.7 \" fill=\"#000000\"/>\n",
       "<path class=\"atom-8\" d=\"M 214.0 15.3 L 217.8 15.3 L 217.8 27.3 L 232.3 27.3 L 232.3 15.3 L 236.2 15.3 L 236.2 43.6 L 232.3 43.6 L 232.3 30.5 L 217.8 30.5 L 217.8 43.6 L 214.0 43.6 L 214.0 15.3 \" fill=\"#000000\"/>\n",
       "<path class=\"atom-9\" d=\"M 187.4 108.9 L 191.2 108.9 L 191.2 120.9 L 205.7 120.9 L 205.7 108.9 L 209.5 108.9 L 209.5 137.2 L 205.7 137.2 L 205.7 124.1 L 191.2 124.1 L 191.2 137.2 L 187.4 137.2 L 187.4 108.9 \" fill=\"#000000\"/>\n",
       "<path class=\"atom-10\" d=\"M 133.7 136.2 L 137.5 136.2 L 137.5 148.3 L 152.0 148.3 L 152.0 136.2 L 155.8 136.2 L 155.8 164.5 L 152.0 164.5 L 152.0 151.5 L 137.5 151.5 L 137.5 164.5 L 133.7 164.5 L 133.7 136.2 \" fill=\"#000000\"/>\n",
       "<path class=\"atom-11\" d=\"M 114.5 203.1 L 118.4 203.1 L 118.4 215.1 L 132.9 215.1 L 132.9 203.1 L 136.7 203.1 L 136.7 231.4 L 132.9 231.4 L 132.9 218.3 L 118.4 218.3 L 118.4 231.4 L 114.5 231.4 L 114.5 203.1 \" fill=\"#000000\"/>\n",
       "<path class=\"atom-12\" d=\"M 198.8 257.0 L 202.7 257.0 L 202.7 269.0 L 217.2 269.0 L 217.2 257.0 L 221.0 257.0 L 221.0 285.3 L 217.2 285.3 L 217.2 272.2 L 202.7 272.2 L 202.7 285.3 L 198.8 285.3 L 198.8 257.0 \" fill=\"#000000\"/>\n",
       "</svg>"
      ],
      "text/plain": [
       "<IPython.core.display.SVG object>"
      ]
     },
     "execution_count": 20,
     "metadata": {},
     "output_type": "execute_result"
    }
   ],
   "source": [
    "from rdkit import Chem\n",
    "\n",
    "rdmol = Chem.MolFromSmiles(\"C[C@H]([NH3+])C([O-])=O\")\n",
    "\n",
    "print(\"rdmol is of type\", type(rdmol))\n",
    "\n",
    "from_rdmol = Molecule.from_rdkit(rdmol)\n",
    "\n",
    "assert zw_l_alanine.is_isomorphic_with(from_rdmol)\n",
    "from_rdmol.visualize()"
   ]
  },
  {
   "cell_type": "markdown",
   "id": "6fe44fac",
   "metadata": {},
   "source": [
    "### From OpenEye `OEMol`\n",
    "\n",
    "The [`Molecule.from_openeye()`](openff.toolkit.topology.Molecule.from_rdkit) method converts an object that inherits from [`openeye.oechem.OEMolBase`](https://docs.eyesopen.com/toolkits/python/oechemtk/OEChemClasses/OEMolBase.html) to an OpenFF `Molecule`."
   ]
  },
  {
   "cell_type": "code",
   "execution_count": 21,
   "id": "c186257f",
   "metadata": {
    "execution": {
     "iopub.execute_input": "2023-09-27T14:44:39.316284Z",
     "iopub.status.busy": "2023-09-27T14:44:39.316115Z",
     "iopub.status.idle": "2023-09-27T14:44:39.318686Z",
     "shell.execute_reply": "2023-09-27T14:44:39.318326Z"
    }
   },
   "outputs": [],
   "source": [
    "if OPENEYE_AVAILABLE:\n",
    "    from openeye import oechem\n",
    "\n",
    "    oemol = oechem.OEGraphMol()\n",
    "    oechem.OESmilesToMol(oemol, \"C[C@H]([NH3+])C([O-])=O\")\n",
    "\n",
    "    assert isinstance(oemol, oechem.OEMolBase)\n",
    "\n",
    "    from_oemol = Molecule.from_openeye(oemol)\n",
    "\n",
    "    assert zw_l_alanine.is_isomorphic_with(from_oemol)\n",
    "    from_oemol.visualize()"
   ]
  },
  {
   "cell_type": "markdown",
   "id": "15765778",
   "metadata": {},
   "source": [
    "## From QCArchive\n",
    "\n",
    "[QCArchive](https://qcarchive.molssi.org/) is a repository of quantum chemical calculations on small molecules. The [`Molecule.from_qcschema()`](openff.toolkit.topology.Molecule.from_qcschema) method creates a `Molecule` from a record from the archive. Because the identity of a molecule can change of the course of a QC calculation, the Toolkit accepts records only if they contain a hydrogen-mapped SMILES code.\n",
    "\n",
    ":::{note}\n",
    "These examples use molecules other than l-Alanine because of their availability in QCArchive\n",
    ":::"
   ]
  },
  {
   "cell_type": "markdown",
   "id": "0f143a62",
   "metadata": {},
   "source": [
    "### From a QCArchive molecule record\n",
    "\n",
    "The [`Molecule.from_qcschema()`](openff.toolkit.topology.Molecule.from_qcschema) method can take a molecule record queried from the QCArchive and create a `Molecule` from it."
   ]
  },
  {
   "cell_type": "code",
   "execution_count": 22,
   "id": "8e026b0f",
   "metadata": {
    "execution": {
     "iopub.execute_input": "2023-09-27T14:44:39.320741Z",
     "iopub.status.busy": "2023-09-27T14:44:39.320579Z",
     "iopub.status.idle": "2023-09-27T14:44:47.456445Z",
     "shell.execute_reply": "2023-09-27T14:44:47.455924Z"
    },
    "tags": []
   },
   "outputs": [
    {
     "data": {
      "image/svg+xml": [
       "<svg xmlns=\"http://www.w3.org/2000/svg\" xmlns:rdkit=\"http://www.rdkit.org/xml\" xmlns:xlink=\"http://www.w3.org/1999/xlink\" version=\"1.1\" baseProfile=\"full\" xml:space=\"preserve\" width=\"500px\" height=\"300px\" viewBox=\"0 0 500 300\">\n",
       "<!-- END OF HEADER -->\n",
       "<rect style=\"opacity:1.0;fill:#FFFFFF;stroke:none\" width=\"500.0\" height=\"300.0\" x=\"0.0\" y=\"0.0\"> </rect>\n",
       "<path class=\"bond-0 atom-0 atom-1\" d=\"M 128.8,42.8 L 110.6,73.0\" style=\"fill:none;fill-rule:evenodd;stroke:#000000;stroke-width:2.0px;stroke-linecap:butt;stroke-linejoin:miter;stroke-opacity:1\"/>\n",
       "<path class=\"bond-1 atom-1 atom-2\" d=\"M 110.6,73.0 L 93.2,41.5\" style=\"fill:none;fill-rule:evenodd;stroke:#000000;stroke-width:2.0px;stroke-linecap:butt;stroke-linejoin:miter;stroke-opacity:1\"/>\n",
       "<path class=\"bond-2 atom-1 atom-3\" d=\"M 110.6,73.0 L 76.4,91.5\" style=\"fill:none;fill-rule:evenodd;stroke:#000000;stroke-width:2.0px;stroke-linecap:butt;stroke-linejoin:miter;stroke-opacity:1\"/>\n",
       "<path class=\"bond-3 atom-1 atom-4\" d=\"M 110.6,73.0 L 154.1,99.2\" style=\"fill:none;fill-rule:evenodd;stroke:#000000;stroke-width:2.0px;stroke-linecap:butt;stroke-linejoin:miter;stroke-opacity:1\"/>\n",
       "<path class=\"bond-4 atom-4 atom-5\" d=\"M 150.4,97.0 L 149.7,116.9\" style=\"fill:none;fill-rule:evenodd;stroke:#000000;stroke-width:2.0px;stroke-linecap:butt;stroke-linejoin:miter;stroke-opacity:1\"/>\n",
       "<path class=\"bond-4 atom-4 atom-5\" d=\"M 149.7,116.9 L 149.0,136.8\" style=\"fill:none;fill-rule:evenodd;stroke:#FF0000;stroke-width:2.0px;stroke-linecap:butt;stroke-linejoin:miter;stroke-opacity:1\"/>\n",
       "<path class=\"bond-4 atom-4 atom-5\" d=\"M 158.0,97.1 L 157.3,117.1\" style=\"fill:none;fill-rule:evenodd;stroke:#000000;stroke-width:2.0px;stroke-linecap:butt;stroke-linejoin:miter;stroke-opacity:1\"/>\n",
       "<path class=\"bond-4 atom-4 atom-5\" d=\"M 157.3,117.1 L 156.6,137.0\" style=\"fill:none;fill-rule:evenodd;stroke:#FF0000;stroke-width:2.0px;stroke-linecap:butt;stroke-linejoin:miter;stroke-opacity:1\"/>\n",
       "<path class=\"bond-5 atom-4 atom-6\" d=\"M 154.1,99.2 L 172.2,89.5\" style=\"fill:none;fill-rule:evenodd;stroke:#000000;stroke-width:2.0px;stroke-linecap:butt;stroke-linejoin:miter;stroke-opacity:1\"/>\n",
       "<path class=\"bond-5 atom-4 atom-6\" d=\"M 172.2,89.5 L 190.3,79.7\" style=\"fill:none;fill-rule:evenodd;stroke:#0000FF;stroke-width:2.0px;stroke-linecap:butt;stroke-linejoin:miter;stroke-opacity:1\"/>\n",
       "<path class=\"bond-6 atom-6 atom-7\" d=\"M 200.1,62.2 L 200.3,49.6\" style=\"fill:none;fill-rule:evenodd;stroke:#0000FF;stroke-width:2.0px;stroke-linecap:butt;stroke-linejoin:miter;stroke-opacity:1\"/>\n",
       "<path class=\"bond-6 atom-6 atom-7\" d=\"M 200.3,49.6 L 200.5,37.0\" style=\"fill:none;fill-rule:evenodd;stroke:#000000;stroke-width:2.0px;stroke-linecap:butt;stroke-linejoin:miter;stroke-opacity:1\"/>\n",
       "<path class=\"bond-7 atom-6 atom-8\" d=\"M 209.7,80.3 L 227.2,90.9\" style=\"fill:none;fill-rule:evenodd;stroke:#0000FF;stroke-width:2.0px;stroke-linecap:butt;stroke-linejoin:miter;stroke-opacity:1\"/>\n",
       "<path class=\"bond-7 atom-6 atom-8\" d=\"M 227.2,90.9 L 244.7,101.5\" style=\"fill:none;fill-rule:evenodd;stroke:#000000;stroke-width:2.0px;stroke-linecap:butt;stroke-linejoin:miter;stroke-opacity:1\"/>\n",
       "<path class=\"bond-8 atom-8 atom-9\" d=\"M 244.7,101.5 L 229.3,131.0 L 222.9,126.8 Z\" style=\"fill:#000000;fill-rule:evenodd;fill-opacity:1;stroke:#000000;stroke-width:0.5px;stroke-linecap:butt;stroke-linejoin:miter;stroke-opacity:1;\"/>\n",
       "<path class=\"bond-9 atom-8 atom-10\" d=\"M 244.7,101.5 L 264.3,147.1\" style=\"fill:none;fill-rule:evenodd;stroke:#000000;stroke-width:2.0px;stroke-linecap:butt;stroke-linejoin:miter;stroke-opacity:1\"/>\n",
       "<path class=\"bond-10 atom-8 atom-17\" d=\"M 244.7,101.5 L 296.3,74.7\" style=\"fill:none;fill-rule:evenodd;stroke:#000000;stroke-width:2.0px;stroke-linecap:butt;stroke-linejoin:miter;stroke-opacity:1\"/>\n",
       "<path class=\"bond-11 atom-10 atom-11\" d=\"M 264.3,147.1 L 296.5,132.0\" style=\"fill:none;fill-rule:evenodd;stroke:#000000;stroke-width:2.0px;stroke-linecap:butt;stroke-linejoin:miter;stroke-opacity:1\"/>\n",
       "<path class=\"bond-12 atom-10 atom-12\" d=\"M 264.3,147.1 L 294.8,168.8\" style=\"fill:none;fill-rule:evenodd;stroke:#000000;stroke-width:2.0px;stroke-linecap:butt;stroke-linejoin:miter;stroke-opacity:1\"/>\n",
       "<path class=\"bond-13 atom-10 atom-13\" d=\"M 264.3,147.1 L 234.5,188.9\" style=\"fill:none;fill-rule:evenodd;stroke:#000000;stroke-width:2.0px;stroke-linecap:butt;stroke-linejoin:miter;stroke-opacity:1\"/>\n",
       "<path class=\"bond-14 atom-13 atom-14\" d=\"M 237.1,185.3 L 216.7,183.5\" style=\"fill:none;fill-rule:evenodd;stroke:#000000;stroke-width:2.0px;stroke-linecap:butt;stroke-linejoin:miter;stroke-opacity:1\"/>\n",
       "<path class=\"bond-14 atom-13 atom-14\" d=\"M 216.7,183.5 L 196.3,181.8\" style=\"fill:none;fill-rule:evenodd;stroke:#FF0000;stroke-width:2.0px;stroke-linecap:butt;stroke-linejoin:miter;stroke-opacity:1\"/>\n",
       "<path class=\"bond-14 atom-13 atom-14\" d=\"M 236.4,192.9 L 216.0,191.1\" style=\"fill:none;fill-rule:evenodd;stroke:#000000;stroke-width:2.0px;stroke-linecap:butt;stroke-linejoin:miter;stroke-opacity:1\"/>\n",
       "<path class=\"bond-14 atom-13 atom-14\" d=\"M 216.0,191.1 L 195.6,189.4\" style=\"fill:none;fill-rule:evenodd;stroke:#FF0000;stroke-width:2.0px;stroke-linecap:butt;stroke-linejoin:miter;stroke-opacity:1\"/>\n",
       "<path class=\"bond-15 atom-13 atom-15\" d=\"M 234.5,188.9 L 242.2,205.5\" style=\"fill:none;fill-rule:evenodd;stroke:#000000;stroke-width:2.0px;stroke-linecap:butt;stroke-linejoin:miter;stroke-opacity:1\"/>\n",
       "<path class=\"bond-15 atom-13 atom-15\" d=\"M 242.2,205.5 L 250.0,222.2\" style=\"fill:none;fill-rule:evenodd;stroke:#FF0000;stroke-width:2.0px;stroke-linecap:butt;stroke-linejoin:miter;stroke-opacity:1\"/>\n",
       "<path class=\"bond-16 atom-15 atom-16\" d=\"M 246.9,247.3 L 241.3,255.4\" style=\"fill:none;fill-rule:evenodd;stroke:#FF0000;stroke-width:2.0px;stroke-linecap:butt;stroke-linejoin:miter;stroke-opacity:1\"/>\n",
       "<path class=\"bond-16 atom-15 atom-16\" d=\"M 241.3,255.4 L 235.7,263.5\" style=\"fill:none;fill-rule:evenodd;stroke:#000000;stroke-width:2.0px;stroke-linecap:butt;stroke-linejoin:miter;stroke-opacity:1\"/>\n",
       "<path class=\"bond-17 atom-17 atom-18\" d=\"M 300.0,76.7 L 300.4,56.9\" style=\"fill:none;fill-rule:evenodd;stroke:#000000;stroke-width:2.0px;stroke-linecap:butt;stroke-linejoin:miter;stroke-opacity:1\"/>\n",
       "<path class=\"bond-17 atom-17 atom-18\" d=\"M 300.4,56.9 L 300.8,37.1\" style=\"fill:none;fill-rule:evenodd;stroke:#FF0000;stroke-width:2.0px;stroke-linecap:butt;stroke-linejoin:miter;stroke-opacity:1\"/>\n",
       "<path class=\"bond-17 atom-17 atom-18\" d=\"M 292.4,76.7 L 292.8,56.8\" style=\"fill:none;fill-rule:evenodd;stroke:#000000;stroke-width:2.0px;stroke-linecap:butt;stroke-linejoin:miter;stroke-opacity:1\"/>\n",
       "<path class=\"bond-17 atom-17 atom-18\" d=\"M 292.8,56.8 L 293.2,37.0\" style=\"fill:none;fill-rule:evenodd;stroke:#FF0000;stroke-width:2.0px;stroke-linecap:butt;stroke-linejoin:miter;stroke-opacity:1\"/>\n",
       "<path class=\"bond-18 atom-17 atom-19\" d=\"M 296.3,74.7 L 315.8,85.1\" style=\"fill:none;fill-rule:evenodd;stroke:#000000;stroke-width:2.0px;stroke-linecap:butt;stroke-linejoin:miter;stroke-opacity:1\"/>\n",
       "<path class=\"bond-18 atom-17 atom-19\" d=\"M 315.8,85.1 L 335.4,95.4\" style=\"fill:none;fill-rule:evenodd;stroke:#0000FF;stroke-width:2.0px;stroke-linecap:butt;stroke-linejoin:miter;stroke-opacity:1\"/>\n",
       "<path class=\"bond-19 atom-19 atom-20\" d=\"M 345.7,112.8 L 346.3,125.2\" style=\"fill:none;fill-rule:evenodd;stroke:#0000FF;stroke-width:2.0px;stroke-linecap:butt;stroke-linejoin:miter;stroke-opacity:1\"/>\n",
       "<path class=\"bond-19 atom-19 atom-20\" d=\"M 346.3,125.2 L 347.0,137.6\" style=\"fill:none;fill-rule:evenodd;stroke:#000000;stroke-width:2.0px;stroke-linecap:butt;stroke-linejoin:miter;stroke-opacity:1\"/>\n",
       "<path class=\"bond-20 atom-19 atom-21\" d=\"M 354.8,94.9 L 372.6,84.6\" style=\"fill:none;fill-rule:evenodd;stroke:#0000FF;stroke-width:2.0px;stroke-linecap:butt;stroke-linejoin:miter;stroke-opacity:1\"/>\n",
       "<path class=\"bond-20 atom-19 atom-21\" d=\"M 372.6,84.6 L 390.4,74.2\" style=\"fill:none;fill-rule:evenodd;stroke:#000000;stroke-width:2.0px;stroke-linecap:butt;stroke-linejoin:miter;stroke-opacity:1\"/>\n",
       "<path class=\"bond-21 atom-21 atom-22\" d=\"M 390.4,74.2 L 373.5,42.6\" style=\"fill:none;fill-rule:evenodd;stroke:#000000;stroke-width:2.0px;stroke-linecap:butt;stroke-linejoin:miter;stroke-opacity:1\"/>\n",
       "<path class=\"bond-22 atom-21 atom-23\" d=\"M 390.4,74.2 L 409.4,43.8\" style=\"fill:none;fill-rule:evenodd;stroke:#000000;stroke-width:2.0px;stroke-linecap:butt;stroke-linejoin:miter;stroke-opacity:1\"/>\n",
       "<path class=\"bond-23 atom-21 atom-24\" d=\"M 390.4,74.2 L 423.6,94.0\" style=\"fill:none;fill-rule:evenodd;stroke:#000000;stroke-width:2.0px;stroke-linecap:butt;stroke-linejoin:miter;stroke-opacity:1\"/>\n",
       "<path d=\"M 151.9,97.9 L 154.1,99.2 L 155.0,98.7\" style=\"fill:none;stroke:#000000;stroke-width:2.0px;stroke-linecap:butt;stroke-linejoin:miter;stroke-opacity:1;\"/>\n",
       "<path d=\"M 236.0,186.8 L 234.5,188.9 L 234.9,189.7\" style=\"fill:none;stroke:#000000;stroke-width:2.0px;stroke-linecap:butt;stroke-linejoin:miter;stroke-opacity:1;\"/>\n",
       "<path d=\"M 293.7,76.0 L 296.3,74.7 L 297.3,75.2\" style=\"fill:none;stroke:#000000;stroke-width:2.0px;stroke-linecap:butt;stroke-linejoin:miter;stroke-opacity:1;\"/>\n",
       "<path class=\"atom-0\" d=\"M 127.9 19.9 L 130.8 19.9 L 130.8 28.9 L 141.6 28.9 L 141.6 19.9 L 144.4 19.9 L 144.4 41.1 L 141.6 41.1 L 141.6 31.3 L 130.8 31.3 L 130.8 41.1 L 127.9 41.1 L 127.9 19.9 \" fill=\"#000000\"/>\n",
       "<path class=\"atom-2\" d=\"M 78.2 18.6 L 81.1 18.6 L 81.1 27.6 L 91.9 27.6 L 91.9 18.6 L 94.8 18.6 L 94.8 39.8 L 91.9 39.8 L 91.9 30.0 L 81.1 30.0 L 81.1 39.8 L 78.2 39.8 L 78.2 18.6 \" fill=\"#000000\"/>\n",
       "<path class=\"atom-3\" d=\"M 58.2 86.3 L 61.0 86.3 L 61.0 95.3 L 71.9 95.3 L 71.9 86.3 L 74.7 86.3 L 74.7 107.5 L 71.9 107.5 L 71.9 97.7 L 61.0 97.7 L 61.0 107.5 L 58.2 107.5 L 58.2 86.3 \" fill=\"#000000\"/>\n",
       "<path class=\"atom-5\" d=\"M 142.7 149.3 Q 142.7 144.2, 145.2 141.4 Q 147.7 138.6, 152.4 138.6 Q 157.1 138.6, 159.6 141.4 Q 162.1 144.2, 162.1 149.3 Q 162.1 154.5, 159.5 157.4 Q 157.0 160.3, 152.4 160.3 Q 147.7 160.3, 145.2 157.4 Q 142.7 154.5, 142.7 149.3 M 152.4 157.9 Q 155.6 157.9, 157.3 155.8 Q 159.1 153.6, 159.1 149.3 Q 159.1 145.2, 157.3 143.1 Q 155.6 141.0, 152.4 141.0 Q 149.1 141.0, 147.4 143.0 Q 145.6 145.1, 145.6 149.3 Q 145.6 153.6, 147.4 155.8 Q 149.1 157.9, 152.4 157.9 \" fill=\"#FF0000\"/>\n",
       "<path class=\"atom-6\" d=\"M 195.3 63.9 L 202.2 75.1 Q 202.9 76.2, 204.0 78.2 Q 205.1 80.2, 205.2 80.3 L 205.2 63.9 L 208.0 63.9 L 208.0 85.0 L 205.1 85.0 L 197.6 72.8 Q 196.8 71.3, 195.8 69.7 Q 194.9 68.0, 194.7 67.5 L 194.7 85.0 L 191.9 85.0 L 191.9 63.9 L 195.3 63.9 \" fill=\"#0000FF\"/>\n",
       "<path class=\"atom-7\" d=\"M 192.4 14.1 L 195.3 14.1 L 195.3 23.1 L 206.1 23.1 L 206.1 14.1 L 209.0 14.1 L 209.0 35.3 L 206.1 35.3 L 206.1 25.5 L 195.3 25.5 L 195.3 35.3 L 192.4 35.3 L 192.4 14.1 \" fill=\"#000000\"/>\n",
       "<path class=\"atom-9\" d=\"M 208.4 132.2 L 211.2 132.2 L 211.2 141.2 L 222.1 141.2 L 222.1 132.2 L 224.9 132.2 L 224.9 153.4 L 222.1 153.4 L 222.1 143.6 L 211.2 143.6 L 211.2 153.4 L 208.4 153.4 L 208.4 132.2 \" fill=\"#000000\"/>\n",
       "<path class=\"atom-11\" d=\"M 298.2 116.8 L 301.1 116.8 L 301.1 125.8 L 311.9 125.8 L 311.9 116.8 L 314.7 116.8 L 314.7 137.9 L 311.9 137.9 L 311.9 128.2 L 301.1 128.2 L 301.1 137.9 L 298.2 137.9 L 298.2 116.8 \" fill=\"#000000\"/>\n",
       "<path class=\"atom-12\" d=\"M 296.4 165.3 L 299.3 165.3 L 299.3 174.3 L 310.1 174.3 L 310.1 165.3 L 313.0 165.3 L 313.0 186.5 L 310.1 186.5 L 310.1 176.7 L 299.3 176.7 L 299.3 186.5 L 296.4 186.5 L 296.4 165.3 \" fill=\"#000000\"/>\n",
       "<path class=\"atom-14\" d=\"M 174.8 184.7 Q 174.8 179.6, 177.4 176.8 Q 179.9 173.9, 184.6 173.9 Q 189.3 173.9, 191.8 176.8 Q 194.3 179.6, 194.3 184.7 Q 194.3 189.8, 191.7 192.8 Q 189.2 195.7, 184.6 195.7 Q 179.9 195.7, 177.4 192.8 Q 174.8 189.9, 174.8 184.7 M 184.6 193.3 Q 187.8 193.3, 189.5 191.1 Q 191.3 188.9, 191.3 184.7 Q 191.3 180.5, 189.5 178.5 Q 187.8 176.3, 184.6 176.3 Q 181.3 176.3, 179.6 178.4 Q 177.8 180.5, 177.8 184.7 Q 177.8 189.0, 179.6 191.1 Q 181.3 193.3, 184.6 193.3 \" fill=\"#FF0000\"/>\n",
       "<path class=\"atom-15\" d=\"M 246.0 234.6 Q 246.0 229.5, 248.5 226.7 Q 251.0 223.9, 255.7 223.9 Q 260.4 223.9, 262.9 226.7 Q 265.4 229.5, 265.4 234.6 Q 265.4 239.8, 262.9 242.7 Q 260.3 245.6, 255.7 245.6 Q 251.0 245.6, 248.5 242.7 Q 246.0 239.8, 246.0 234.6 M 255.7 243.2 Q 258.9 243.2, 260.6 241.1 Q 262.4 238.9, 262.4 234.6 Q 262.4 230.5, 260.6 228.4 Q 258.9 226.3, 255.7 226.3 Q 252.5 226.3, 250.7 228.3 Q 249.0 230.4, 249.0 234.6 Q 249.0 238.9, 250.7 241.1 Q 252.5 243.2, 255.7 243.2 \" fill=\"#FF0000\"/>\n",
       "<path class=\"atom-16\" d=\"M 218.9 265.2 L 221.8 265.2 L 221.8 274.2 L 232.6 274.2 L 232.6 265.2 L 235.5 265.2 L 235.5 286.4 L 232.6 286.4 L 232.6 276.6 L 221.8 276.6 L 221.8 286.4 L 218.9 286.4 L 218.9 265.2 \" fill=\"#000000\"/>\n",
       "<path class=\"atom-18\" d=\"M 287.5 24.4 Q 287.5 19.3, 290.1 16.5 Q 292.6 13.6, 297.3 13.6 Q 302.0 13.6, 304.5 16.5 Q 307.0 19.3, 307.0 24.4 Q 307.0 29.5, 304.4 32.5 Q 301.9 35.4, 297.3 35.4 Q 292.6 35.4, 290.1 32.5 Q 287.5 29.6, 287.5 24.4 M 297.3 33.0 Q 300.5 33.0, 302.2 30.8 Q 304.0 28.6, 304.0 24.4 Q 304.0 20.2, 302.2 18.2 Q 300.5 16.0, 297.3 16.0 Q 294.0 16.0, 292.3 18.1 Q 290.5 20.2, 290.5 24.4 Q 290.5 28.7, 292.3 30.8 Q 294.0 33.0, 297.3 33.0 \" fill=\"#FF0000\"/>\n",
       "<path class=\"atom-19\" d=\"M 340.4 90.0 L 347.3 101.2 Q 348.0 102.3, 349.1 104.3 Q 350.2 106.3, 350.3 106.4 L 350.3 90.0 L 353.1 90.0 L 353.1 111.1 L 350.2 111.1 L 342.7 98.9 Q 341.9 97.4, 340.9 95.8 Q 340.0 94.1, 339.8 93.6 L 339.8 111.1 L 337.0 111.1 L 337.0 90.0 L 340.4 90.0 \" fill=\"#0000FF\"/>\n",
       "<path class=\"atom-20\" d=\"M 339.3 139.3 L 342.2 139.3 L 342.2 148.3 L 353.0 148.3 L 353.0 139.3 L 355.9 139.3 L 355.9 160.5 L 353.0 160.5 L 353.0 150.7 L 342.2 150.7 L 342.2 160.5 L 339.3 160.5 L 339.3 139.3 \" fill=\"#000000\"/>\n",
       "<path class=\"atom-22\" d=\"M 358.7 19.7 L 361.6 19.7 L 361.6 28.7 L 372.4 28.7 L 372.4 19.7 L 375.3 19.7 L 375.3 40.9 L 372.4 40.9 L 372.4 31.1 L 361.6 31.1 L 361.6 40.9 L 358.7 40.9 L 358.7 19.7 \" fill=\"#000000\"/>\n",
       "<path class=\"atom-23\" d=\"M 408.8 21.0 L 411.7 21.0 L 411.7 30.0 L 422.5 30.0 L 422.5 21.0 L 425.4 21.0 L 425.4 42.2 L 422.5 42.2 L 422.5 32.4 L 411.7 32.4 L 411.7 42.2 L 408.8 42.2 L 408.8 21.0 \" fill=\"#000000\"/>\n",
       "<path class=\"atom-24\" d=\"M 425.3 89.4 L 428.1 89.4 L 428.1 98.4 L 439.0 98.4 L 439.0 89.4 L 441.8 89.4 L 441.8 110.5 L 439.0 110.5 L 439.0 100.8 L 428.1 100.8 L 428.1 110.5 L 425.3 110.5 L 425.3 89.4 \" fill=\"#000000\"/>\n",
       "</svg>"
      ],
      "text/plain": [
       "<IPython.core.display.SVG object>"
      ]
     },
     "execution_count": 22,
     "metadata": {},
     "output_type": "execute_result"
    }
   ],
   "source": [
    "from qcportal import FractalClient\n",
    "\n",
    "client = FractalClient()\n",
    "query = client.query_molecules(\n",
    "    molecular_formula=\"C7H12N2O4\",\n",
    "    limit=1,\n",
    ")\n",
    "\n",
    "from_qcarchive = Molecule.from_qcschema(query[0])\n",
    "\n",
    "from_qcarchive.visualize()"
   ]
  },
  {
   "cell_type": "markdown",
   "id": "3f1991fb",
   "metadata": {},
   "source": [
    "### From a QCArchive optimisation record\n",
    "\n",
    "`Molecule.from_qcschema()` can also take an optimisation record and create the corresponding `Molecule`."
   ]
  },
  {
   "cell_type": "code",
   "execution_count": 23,
   "id": "edd1fa9e",
   "metadata": {
    "execution": {
     "iopub.execute_input": "2023-09-27T14:44:47.459039Z",
     "iopub.status.busy": "2023-09-27T14:44:47.458665Z",
     "iopub.status.idle": "2023-09-27T14:44:48.581101Z",
     "shell.execute_reply": "2023-09-27T14:44:48.580664Z"
    },
    "tags": []
   },
   "outputs": [
    {
     "data": {
      "image/svg+xml": [
       "<svg xmlns=\"http://www.w3.org/2000/svg\" xmlns:rdkit=\"http://www.rdkit.org/xml\" xmlns:xlink=\"http://www.w3.org/1999/xlink\" version=\"1.1\" baseProfile=\"full\" xml:space=\"preserve\" width=\"500px\" height=\"300px\" viewBox=\"0 0 500 300\">\n",
       "<!-- END OF HEADER -->\n",
       "<rect style=\"opacity:1.0;fill:#FFFFFF;stroke:none\" width=\"500.0\" height=\"300.0\" x=\"0.0\" y=\"0.0\"> </rect>\n",
       "<path class=\"bond-0 atom-0 atom-4\" d=\"M 332.3,221.4 L 332.3,198.9\" style=\"fill:none;fill-rule:evenodd;stroke:#000000;stroke-width:2.0px;stroke-linecap:butt;stroke-linejoin:miter;stroke-opacity:1\"/>\n",
       "<path class=\"bond-0 atom-0 atom-4\" d=\"M 332.3,198.9 L 332.4,176.5\" style=\"fill:none;fill-rule:evenodd;stroke:#FF0000;stroke-width:2.0px;stroke-linecap:butt;stroke-linejoin:miter;stroke-opacity:1\"/>\n",
       "<path class=\"bond-1 atom-0 atom-6\" d=\"M 332.3,221.4 L 284.0,221.3\" style=\"fill:none;fill-rule:evenodd;stroke:#000000;stroke-width:2.0px;stroke-linecap:butt;stroke-linejoin:miter;stroke-opacity:1\"/>\n",
       "<path class=\"bond-2 atom-0 atom-7\" d=\"M 332.3,221.4 L 310.6,258.8\" style=\"fill:none;fill-rule:evenodd;stroke:#000000;stroke-width:2.0px;stroke-linecap:butt;stroke-linejoin:miter;stroke-opacity:1\"/>\n",
       "<path class=\"bond-3 atom-0 atom-8\" d=\"M 332.3,221.4 L 372.4,244.7\" style=\"fill:none;fill-rule:evenodd;stroke:#000000;stroke-width:2.0px;stroke-linecap:butt;stroke-linejoin:miter;stroke-opacity:1\"/>\n",
       "<path class=\"bond-4 atom-1 atom-5\" d=\"M 175.8,130.7 L 195.0,141.8\" style=\"fill:none;fill-rule:evenodd;stroke:#000000;stroke-width:2.0px;stroke-linecap:butt;stroke-linejoin:miter;stroke-opacity:1\"/>\n",
       "<path class=\"bond-4 atom-1 atom-5\" d=\"M 195.0,141.8 L 214.2,152.9\" style=\"fill:none;fill-rule:evenodd;stroke:#FF0000;stroke-width:2.0px;stroke-linecap:butt;stroke-linejoin:miter;stroke-opacity:1\"/>\n",
       "<path class=\"bond-5 atom-1 atom-9\" d=\"M 175.8,130.7 L 154.2,168.0\" style=\"fill:none;fill-rule:evenodd;stroke:#000000;stroke-width:2.0px;stroke-linecap:butt;stroke-linejoin:miter;stroke-opacity:1\"/>\n",
       "<path class=\"bond-6 atom-1 atom-10\" d=\"M 175.8,130.7 L 127.6,130.6\" style=\"fill:none;fill-rule:evenodd;stroke:#000000;stroke-width:2.0px;stroke-linecap:butt;stroke-linejoin:miter;stroke-opacity:1\"/>\n",
       "<path class=\"bond-7 atom-1 atom-11\" d=\"M 175.8,130.7 L 175.9,85.2\" style=\"fill:none;fill-rule:evenodd;stroke:#000000;stroke-width:2.0px;stroke-linecap:butt;stroke-linejoin:miter;stroke-opacity:1\"/>\n",
       "<path class=\"bond-8 atom-2 atom-3\" d=\"M 280.3,130.9 L 269.6,112.4\" style=\"fill:none;fill-rule:evenodd;stroke:#000000;stroke-width:2.0px;stroke-linecap:butt;stroke-linejoin:miter;stroke-opacity:1\"/>\n",
       "<path class=\"bond-8 atom-2 atom-3\" d=\"M 269.6,112.4 L 259.0,93.9\" style=\"fill:none;fill-rule:evenodd;stroke:#FF0000;stroke-width:2.0px;stroke-linecap:butt;stroke-linejoin:miter;stroke-opacity:1\"/>\n",
       "<path class=\"bond-9 atom-2 atom-4\" d=\"M 280.3,130.9 L 299.5,142.0\" style=\"fill:none;fill-rule:evenodd;stroke:#000000;stroke-width:2.0px;stroke-linecap:butt;stroke-linejoin:miter;stroke-opacity:1\"/>\n",
       "<path class=\"bond-9 atom-2 atom-4\" d=\"M 299.5,142.0 L 318.7,153.1\" style=\"fill:none;fill-rule:evenodd;stroke:#FF0000;stroke-width:2.0px;stroke-linecap:butt;stroke-linejoin:miter;stroke-opacity:1\"/>\n",
       "<path class=\"bond-10 atom-2 atom-5\" d=\"M 280.3,130.9 L 261.0,141.9\" style=\"fill:none;fill-rule:evenodd;stroke:#000000;stroke-width:2.0px;stroke-linecap:butt;stroke-linejoin:miter;stroke-opacity:1\"/>\n",
       "<path class=\"bond-10 atom-2 atom-5\" d=\"M 261.0,141.9 L 241.7,153.0\" style=\"fill:none;fill-rule:evenodd;stroke:#FF0000;stroke-width:2.0px;stroke-linecap:butt;stroke-linejoin:miter;stroke-opacity:1\"/>\n",
       "<path class=\"bond-11 atom-2 atom-12\" d=\"M 280.3,130.9 L 301.9,93.5\" style=\"fill:none;fill-rule:evenodd;stroke:#000000;stroke-width:2.0px;stroke-linecap:butt;stroke-linejoin:miter;stroke-opacity:1\"/>\n",
       "<path class=\"bond-12 atom-3 atom-13\" d=\"M 258.9,63.7 L 265.4,52.4\" style=\"fill:none;fill-rule:evenodd;stroke:#FF0000;stroke-width:2.0px;stroke-linecap:butt;stroke-linejoin:miter;stroke-opacity:1\"/>\n",
       "<path class=\"bond-12 atom-3 atom-13\" d=\"M 265.4,52.4 L 271.9,41.2\" style=\"fill:none;fill-rule:evenodd;stroke:#000000;stroke-width:2.0px;stroke-linecap:butt;stroke-linejoin:miter;stroke-opacity:1\"/>\n",
       "<path class=\"atom-3\" d=\"M 238.5 78.7 Q 238.5 72.5, 241.5 69.1 Q 244.5 65.6, 250.2 65.6 Q 255.9 65.6, 258.9 69.1 Q 262.0 72.5, 262.0 78.7 Q 262.0 84.9, 258.9 88.4 Q 255.8 91.9, 250.2 91.9 Q 244.6 91.9, 241.5 88.4 Q 238.5 84.9, 238.5 78.7 M 250.2 89.0 Q 254.1 89.0, 256.2 86.4 Q 258.4 83.8, 258.4 78.7 Q 258.4 73.6, 256.2 71.1 Q 254.1 68.5, 250.2 68.5 Q 246.3 68.5, 244.2 71.1 Q 242.1 73.6, 242.1 78.7 Q 242.1 83.8, 244.2 86.4 Q 246.3 89.0, 250.2 89.0 \" fill=\"#FF0000\"/>\n",
       "<path class=\"atom-4\" d=\"M 320.7 161.2 Q 320.7 155.0, 323.7 151.6 Q 326.7 148.2, 332.4 148.2 Q 338.1 148.2, 341.1 151.6 Q 344.2 155.0, 344.2 161.2 Q 344.2 167.4, 341.1 171.0 Q 338.0 174.5, 332.4 174.5 Q 326.8 174.5, 323.7 171.0 Q 320.7 167.4, 320.7 161.2 M 332.4 171.6 Q 336.3 171.6, 338.4 169.0 Q 340.6 166.3, 340.6 161.2 Q 340.6 156.2, 338.4 153.6 Q 336.3 151.1, 332.4 151.1 Q 328.5 151.1, 326.4 153.6 Q 324.3 156.1, 324.3 161.2 Q 324.3 166.4, 326.4 169.0 Q 328.5 171.6, 332.4 171.6 \" fill=\"#FF0000\"/>\n",
       "<path class=\"atom-5\" d=\"M 216.2 161.0 Q 216.2 154.8, 219.3 151.4 Q 222.3 148.0, 228.0 148.0 Q 233.7 148.0, 236.7 151.4 Q 239.7 154.8, 239.7 161.0 Q 239.7 167.2, 236.7 170.8 Q 233.6 174.3, 228.0 174.3 Q 222.3 174.3, 219.3 170.8 Q 216.2 167.2, 216.2 161.0 M 228.0 171.4 Q 231.9 171.4, 234.0 168.8 Q 236.1 166.1, 236.1 161.0 Q 236.1 156.0, 234.0 153.4 Q 231.9 150.9, 228.0 150.9 Q 224.1 150.9, 221.9 153.4 Q 219.8 155.9, 219.8 161.0 Q 219.8 166.2, 221.9 168.8 Q 224.1 171.4, 228.0 171.4 \" fill=\"#FF0000\"/>\n",
       "<path class=\"atom-6\" d=\"M 262.0 208.5 L 265.5 208.5 L 265.5 219.4 L 278.6 219.4 L 278.6 208.5 L 282.0 208.5 L 282.0 234.1 L 278.6 234.1 L 278.6 222.3 L 265.5 222.3 L 265.5 234.1 L 262.0 234.1 L 262.0 208.5 \" fill=\"#000000\"/>\n",
       "<path class=\"atom-7\" d=\"M 292.0 260.8 L 295.5 260.8 L 295.5 271.6 L 308.6 271.6 L 308.6 260.8 L 312.1 260.8 L 312.1 286.4 L 308.6 286.4 L 308.6 274.5 L 295.5 274.5 L 295.5 286.4 L 292.0 286.4 L 292.0 260.8 \" fill=\"#000000\"/>\n",
       "<path class=\"atom-8\" d=\"M 374.4 238.8 L 377.9 238.8 L 377.9 249.7 L 391.0 249.7 L 391.0 238.8 L 394.5 238.8 L 394.5 264.5 L 391.0 264.5 L 391.0 252.6 L 377.9 252.6 L 377.9 264.5 L 374.4 264.5 L 374.4 238.8 \" fill=\"#000000\"/>\n",
       "<path class=\"atom-9\" d=\"M 135.6 170.0 L 139.0 170.0 L 139.0 180.9 L 152.1 180.9 L 152.1 170.0 L 155.6 170.0 L 155.6 195.6 L 152.1 195.6 L 152.1 183.8 L 139.0 183.8 L 139.0 195.6 L 135.6 195.6 L 135.6 170.0 \" fill=\"#000000\"/>\n",
       "<path class=\"atom-10\" d=\"M 105.5 117.7 L 109.0 117.7 L 109.0 128.6 L 122.1 128.6 L 122.1 117.7 L 125.6 117.7 L 125.6 143.3 L 122.1 143.3 L 122.1 131.5 L 109.0 131.5 L 109.0 143.3 L 105.5 143.3 L 105.5 117.7 \" fill=\"#000000\"/>\n",
       "<path class=\"atom-11\" d=\"M 165.9 57.6 L 169.4 57.6 L 169.4 68.5 L 182.5 68.5 L 182.5 57.6 L 186.0 57.6 L 186.0 83.2 L 182.5 83.2 L 182.5 71.3 L 169.4 71.3 L 169.4 83.2 L 165.9 83.2 L 165.9 57.6 \" fill=\"#000000\"/>\n",
       "<path class=\"atom-12\" d=\"M 300.5 65.9 L 304.0 65.9 L 304.0 76.8 L 317.1 76.8 L 317.1 65.9 L 320.5 65.9 L 320.5 91.5 L 317.1 91.5 L 317.1 79.7 L 304.0 79.7 L 304.0 91.5 L 300.5 91.5 L 300.5 65.9 \" fill=\"#000000\"/>\n",
       "<path class=\"atom-13\" d=\"M 270.5 13.6 L 273.9 13.6 L 273.9 24.5 L 287.0 24.5 L 287.0 13.6 L 290.5 13.6 L 290.5 39.2 L 287.0 39.2 L 287.0 27.4 L 273.9 27.4 L 273.9 39.2 L 270.5 39.2 L 270.5 13.6 \" fill=\"#000000\"/>\n",
       "</svg>"
      ],
      "text/plain": [
       "<IPython.core.display.SVG object>"
      ]
     },
     "execution_count": 23,
     "metadata": {},
     "output_type": "execute_result"
    }
   ],
   "source": [
    "optimization_dataset = client.get_collection(\n",
    "    \"OptimizationDataset\", \"SMIRNOFF Coverage Set 1\"\n",
    ")\n",
    "dimethoxymethanol_optimization = optimization_dataset.get_entry(\"coc(o)oc-0\")\n",
    "\n",
    "from_optimisation = Molecule.from_qcschema(dimethoxymethanol_optimization)\n",
    "\n",
    "from_optimisation.visualize()"
   ]
  },
  {
   "cell_type": "code",
   "execution_count": null,
   "id": "2a8f5a61-892b-43e1-898e-40deec4d39b9",
   "metadata": {},
   "outputs": [],
   "source": []
  }
 ],
 "metadata": {
  "celltoolbar": "Tags",
  "execution": {
   "timeout": 120
  },
  "kernelspec": {
   "display_name": "Python 3 (ipykernel)",
   "language": "python",
   "name": "python3"
  },
  "language_info": {
   "codemirror_mode": {
    "name": "ipython",
    "version": 3
   },
   "file_extension": ".py",
   "mimetype": "text/x-python",
   "name": "python",
   "nbconvert_exporter": "python",
   "pygments_lexer": "ipython3",
   "version": "3.11.5"
  },
  "widgets": {
   "application/vnd.jupyter.widget-state+json": {
    "state": {
     "02f6f7408cbb4d93aae927fc9369788c": {
      "model_module": "@jupyter-widgets/controls",
      "model_module_version": "2.0.0",
      "model_name": "IntSliderModel",
      "state": {
       "_dom_classes": [],
       "_model_module": "@jupyter-widgets/controls",
       "_model_module_version": "2.0.0",
       "_model_name": "IntSliderModel",
       "_view_count": null,
       "_view_module": "@jupyter-widgets/controls",
       "_view_module_version": "2.0.0",
       "_view_name": "IntSliderView",
       "behavior": "drag-tap",
       "continuous_update": true,
       "description": "",
       "description_allow_html": false,
       "disabled": false,
       "layout": "IPY_MODEL_8261dcd2cf5b4c4f8db6c57bcc4ce3c6",
       "max": 0,
       "min": 0,
       "orientation": "horizontal",
       "readout": true,
       "readout_format": "d",
       "step": 1,
       "style": "IPY_MODEL_50c4623b4bf44a2cb2b5be484de4cb29",
       "tabbable": null,
       "tooltip": null,
       "value": 0
      }
     },
     "031f775c22054ceb9904ae00f34448d2": {
      "model_module": "@jupyter-widgets/controls",
      "model_module_version": "2.0.0",
      "model_name": "ButtonStyleModel",
      "state": {
       "_model_module": "@jupyter-widgets/controls",
       "_model_module_version": "2.0.0",
       "_model_name": "ButtonStyleModel",
       "_view_count": null,
       "_view_module": "@jupyter-widgets/base",
       "_view_module_version": "2.0.0",
       "_view_name": "StyleView",
       "button_color": null,
       "font_family": null,
       "font_size": null,
       "font_style": null,
       "font_variant": null,
       "font_weight": null,
       "text_color": null,
       "text_decoration": null
      }
     },
     "09966ee450104b5e947fa82f775d367f": {
      "model_module": "@jupyter-widgets/base",
      "model_module_version": "2.0.0",
      "model_name": "LayoutModel",
      "state": {
       "_model_module": "@jupyter-widgets/base",
       "_model_module_version": "2.0.0",
       "_model_name": "LayoutModel",
       "_view_count": null,
       "_view_module": "@jupyter-widgets/base",
       "_view_module_version": "2.0.0",
       "_view_name": "LayoutView",
       "align_content": null,
       "align_items": null,
       "align_self": null,
       "border_bottom": null,
       "border_left": null,
       "border_right": null,
       "border_top": null,
       "bottom": null,
       "display": null,
       "flex": null,
       "flex_flow": null,
       "grid_area": null,
       "grid_auto_columns": null,
       "grid_auto_flow": null,
       "grid_auto_rows": null,
       "grid_column": null,
       "grid_gap": null,
       "grid_row": null,
       "grid_template_areas": null,
       "grid_template_columns": null,
       "grid_template_rows": null,
       "height": null,
       "justify_content": null,
       "justify_items": null,
       "left": null,
       "margin": null,
       "max_height": null,
       "max_width": null,
       "min_height": null,
       "min_width": null,
       "object_fit": null,
       "object_position": null,
       "order": null,
       "overflow": null,
       "padding": null,
       "right": null,
       "top": null,
       "visibility": null,
       "width": null
      }
     },
     "0cbf1777c6644cd6ae4992bf013a0c79": {
      "model_module": "@jupyter-widgets/controls",
      "model_module_version": "2.0.0",
      "model_name": "ButtonStyleModel",
      "state": {
       "_model_module": "@jupyter-widgets/controls",
       "_model_module_version": "2.0.0",
       "_model_name": "ButtonStyleModel",
       "_view_count": null,
       "_view_module": "@jupyter-widgets/base",
       "_view_module_version": "2.0.0",
       "_view_name": "StyleView",
       "button_color": null,
       "font_family": null,
       "font_size": null,
       "font_style": null,
       "font_variant": null,
       "font_weight": null,
       "text_color": null,
       "text_decoration": null
      }
     },
     "0de1f7785d50436ca3b0008f6925e249": {
      "model_module": "@jupyter-widgets/base",
      "model_module_version": "2.0.0",
      "model_name": "LayoutModel",
      "state": {
       "_model_module": "@jupyter-widgets/base",
       "_model_module_version": "2.0.0",
       "_model_name": "LayoutModel",
       "_view_count": null,
       "_view_module": "@jupyter-widgets/base",
       "_view_module_version": "2.0.0",
       "_view_name": "LayoutView",
       "align_content": null,
       "align_items": null,
       "align_self": null,
       "border_bottom": null,
       "border_left": null,
       "border_right": null,
       "border_top": null,
       "bottom": null,
       "display": null,
       "flex": null,
       "flex_flow": null,
       "grid_area": null,
       "grid_auto_columns": null,
       "grid_auto_flow": null,
       "grid_auto_rows": null,
       "grid_column": null,
       "grid_gap": null,
       "grid_row": null,
       "grid_template_areas": null,
       "grid_template_columns": null,
       "grid_template_rows": null,
       "height": null,
       "justify_content": null,
       "justify_items": null,
       "left": null,
       "margin": null,
       "max_height": null,
       "max_width": null,
       "min_height": null,
       "min_width": null,
       "object_fit": null,
       "object_position": null,
       "order": null,
       "overflow": null,
       "padding": null,
       "right": null,
       "top": null,
       "visibility": null,
       "width": null
      }
     },
     "0ff140dc5389460e89ab0c13ba4107f0": {
      "model_module": "@jupyter-widgets/controls",
      "model_module_version": "2.0.0",
      "model_name": "PlayModel",
      "state": {
       "_dom_classes": [],
       "_model_module": "@jupyter-widgets/controls",
       "_model_module_version": "2.0.0",
       "_model_name": "PlayModel",
       "_view_count": null,
       "_view_module": "@jupyter-widgets/controls",
       "_view_module_version": "2.0.0",
       "_view_name": "PlayView",
       "description": "",
       "description_allow_html": false,
       "disabled": false,
       "interval": 100,
       "layout": "IPY_MODEL_343def4bcaa94911a0eedf73d82f9b3e",
       "max": 0,
       "min": 0,
       "playing": false,
       "repeat": false,
       "show_repeat": true,
       "step": 1,
       "style": "IPY_MODEL_d75f42aee9ea4498a39e09681a32dd63",
       "tabbable": null,
       "tooltip": null,
       "value": 0
      }
     },
     "10bc6ca5ed1244b0b17d63845fb149ad": {
      "model_module": "@jupyter-widgets/controls",
      "model_module_version": "2.0.0",
      "model_name": "LinkModel",
      "state": {
       "_model_module": "@jupyter-widgets/controls",
       "_model_module_version": "2.0.0",
       "_model_name": "LinkModel",
       "_view_count": null,
       "_view_module": "@jupyter-widgets/controls",
       "_view_module_version": "2.0.0",
       "_view_name": null,
       "source": [
        "IPY_MODEL_bb69780f6c55405b9889a7863d074175",
        "value"
       ],
       "target": [
        "IPY_MODEL_e613a849aae942f6a3996b42cffdbf59",
        "frame"
       ]
      }
     },
     "12645ff219984879af5903ae07a5b6ea": {
      "model_module": "@jupyter-widgets/controls",
      "model_module_version": "2.0.0",
      "model_name": "LinkModel",
      "state": {
       "_model_module": "@jupyter-widgets/controls",
       "_model_module_version": "2.0.0",
       "_model_name": "LinkModel",
       "_view_count": null,
       "_view_module": "@jupyter-widgets/controls",
       "_view_module_version": "2.0.0",
       "_view_name": null,
       "source": [
        "IPY_MODEL_937cfc280caf459d919611ee6349350e",
        "max"
       ],
       "target": [
        "IPY_MODEL_bd1e024a54da4f7aa7f683e376b5f807",
        "max_frame"
       ]
      }
     },
     "15d137c4b07f47669387115e20cdbec0": {
      "model_module": "@jupyter-widgets/base",
      "model_module_version": "2.0.0",
      "model_name": "LayoutModel",
      "state": {
       "_model_module": "@jupyter-widgets/base",
       "_model_module_version": "2.0.0",
       "_model_name": "LayoutModel",
       "_view_count": null,
       "_view_module": "@jupyter-widgets/base",
       "_view_module_version": "2.0.0",
       "_view_name": "LayoutView",
       "align_content": null,
       "align_items": null,
       "align_self": null,
       "border_bottom": null,
       "border_left": null,
       "border_right": null,
       "border_top": null,
       "bottom": null,
       "display": null,
       "flex": null,
       "flex_flow": null,
       "grid_area": null,
       "grid_auto_columns": null,
       "grid_auto_flow": null,
       "grid_auto_rows": null,
       "grid_column": null,
       "grid_gap": null,
       "grid_row": null,
       "grid_template_areas": null,
       "grid_template_columns": null,
       "grid_template_rows": null,
       "height": null,
       "justify_content": null,
       "justify_items": null,
       "left": null,
       "margin": null,
       "max_height": null,
       "max_width": null,
       "min_height": null,
       "min_width": null,
       "object_fit": null,
       "object_position": null,
       "order": null,
       "overflow": null,
       "padding": null,
       "right": null,
       "top": null,
       "visibility": null,
       "width": null
      }
     },
     "19b607c897cd4bd49eabb9f38be60a20": {
      "model_module": "@jupyter-widgets/controls",
      "model_module_version": "2.0.0",
      "model_name": "ButtonModel",
      "state": {
       "_dom_classes": [],
       "_model_module": "@jupyter-widgets/controls",
       "_model_module_version": "2.0.0",
       "_model_name": "ButtonModel",
       "_view_count": null,
       "_view_module": "@jupyter-widgets/controls",
       "_view_module_version": "2.0.0",
       "_view_name": "ButtonView",
       "button_style": "",
       "description": "",
       "disabled": false,
       "icon": "compress",
       "layout": "IPY_MODEL_e701ad6b5deb4f9c97f16fc716af1b9a",
       "style": "IPY_MODEL_f1b9056f6bd041858dc42878873d3fe3",
       "tabbable": null,
       "tooltip": null
      }
     },
     "1b57f69b559c4e65b723670cdf07504d": {
      "model_module": "@jupyter-widgets/controls",
      "model_module_version": "2.0.0",
      "model_name": "HBoxModel",
      "state": {
       "_dom_classes": [],
       "_model_module": "@jupyter-widgets/controls",
       "_model_module_version": "2.0.0",
       "_model_name": "HBoxModel",
       "_view_count": null,
       "_view_module": "@jupyter-widgets/controls",
       "_view_module_version": "2.0.0",
       "_view_name": "HBoxView",
       "box_style": "",
       "children": [
        "IPY_MODEL_3f109dfa2e83436e8415e6edb6f84d68",
        "IPY_MODEL_a93e30d445114aefa3813d1f41180ca4"
       ],
       "layout": "IPY_MODEL_0de1f7785d50436ca3b0008f6925e249",
       "tabbable": null,
       "tooltip": null
      }
     },
     "1e2ee11cdf6748b9b80e371cd28664fd": {
      "model_module": "@jupyter-widgets/controls",
      "model_module_version": "2.0.0",
      "model_name": "ButtonModel",
      "state": {
       "_dom_classes": [],
       "_model_module": "@jupyter-widgets/controls",
       "_model_module_version": "2.0.0",
       "_model_name": "ButtonModel",
       "_view_count": null,
       "_view_module": "@jupyter-widgets/controls",
       "_view_module_version": "2.0.0",
       "_view_name": "ButtonView",
       "button_style": "",
       "description": "",
       "disabled": false,
       "icon": "compress",
       "layout": "IPY_MODEL_42ae9e6043b5441586705bc38e5f4c22",
       "style": "IPY_MODEL_4566f2a3924f4ad2bb96c6678eedd265",
       "tabbable": null,
       "tooltip": null
      }
     },
     "2829fcd002e5447fb977bdd5784b90d3": {
      "model_module": "@jupyter-widgets/controls",
      "model_module_version": "2.0.0",
      "model_name": "LinkModel",
      "state": {
       "_model_module": "@jupyter-widgets/controls",
       "_model_module_version": "2.0.0",
       "_model_name": "LinkModel",
       "_view_count": null,
       "_view_module": "@jupyter-widgets/controls",
       "_view_module_version": "2.0.0",
       "_view_name": null,
       "source": [
        "IPY_MODEL_0ff140dc5389460e89ab0c13ba4107f0",
        "max"
       ],
       "target": [
        "IPY_MODEL_77477c2fa71d40a490a8be73fab2d79b",
        "max_frame"
       ]
      }
     },
     "305e17b919314dd1be3304f69a4ef4d8": {
      "model_module": "@jupyter-widgets/controls",
      "model_module_version": "2.0.0",
      "model_name": "DescriptionStyleModel",
      "state": {
       "_model_module": "@jupyter-widgets/controls",
       "_model_module_version": "2.0.0",
       "_model_name": "DescriptionStyleModel",
       "_view_count": null,
       "_view_module": "@jupyter-widgets/base",
       "_view_module_version": "2.0.0",
       "_view_name": "StyleView",
       "description_width": ""
      }
     },
     "31f8e2ad7624494a9d5add46b7fc5256": {
      "model_module": "@jupyter-widgets/base",
      "model_module_version": "2.0.0",
      "model_name": "LayoutModel",
      "state": {
       "_model_module": "@jupyter-widgets/base",
       "_model_module_version": "2.0.0",
       "_model_name": "LayoutModel",
       "_view_count": null,
       "_view_module": "@jupyter-widgets/base",
       "_view_module_version": "2.0.0",
       "_view_name": "LayoutView",
       "align_content": null,
       "align_items": null,
       "align_self": null,
       "border_bottom": null,
       "border_left": null,
       "border_right": null,
       "border_top": null,
       "bottom": null,
       "display": null,
       "flex": null,
       "flex_flow": null,
       "grid_area": null,
       "grid_auto_columns": null,
       "grid_auto_flow": null,
       "grid_auto_rows": null,
       "grid_column": null,
       "grid_gap": null,
       "grid_row": null,
       "grid_template_areas": null,
       "grid_template_columns": null,
       "grid_template_rows": null,
       "height": null,
       "justify_content": null,
       "justify_items": null,
       "left": null,
       "margin": null,
       "max_height": null,
       "max_width": null,
       "min_height": null,
       "min_width": null,
       "object_fit": null,
       "object_position": null,
       "order": null,
       "overflow": null,
       "padding": null,
       "right": null,
       "top": null,
       "visibility": null,
       "width": null
      }
     },
     "343def4bcaa94911a0eedf73d82f9b3e": {
      "model_module": "@jupyter-widgets/base",
      "model_module_version": "2.0.0",
      "model_name": "LayoutModel",
      "state": {
       "_model_module": "@jupyter-widgets/base",
       "_model_module_version": "2.0.0",
       "_model_name": "LayoutModel",
       "_view_count": null,
       "_view_module": "@jupyter-widgets/base",
       "_view_module_version": "2.0.0",
       "_view_name": "LayoutView",
       "align_content": null,
       "align_items": null,
       "align_self": null,
       "border_bottom": null,
       "border_left": null,
       "border_right": null,
       "border_top": null,
       "bottom": null,
       "display": null,
       "flex": null,
       "flex_flow": null,
       "grid_area": null,
       "grid_auto_columns": null,
       "grid_auto_flow": null,
       "grid_auto_rows": null,
       "grid_column": null,
       "grid_gap": null,
       "grid_row": null,
       "grid_template_areas": null,
       "grid_template_columns": null,
       "grid_template_rows": null,
       "height": null,
       "justify_content": null,
       "justify_items": null,
       "left": null,
       "margin": null,
       "max_height": null,
       "max_width": null,
       "min_height": null,
       "min_width": null,
       "object_fit": null,
       "object_position": null,
       "order": null,
       "overflow": null,
       "padding": null,
       "right": null,
       "top": null,
       "visibility": null,
       "width": null
      }
     },
     "37841c8207cf486aa34163bdfa544939": {
      "model_module": "@jupyter-widgets/base",
      "model_module_version": "2.0.0",
      "model_name": "LayoutModel",
      "state": {
       "_model_module": "@jupyter-widgets/base",
       "_model_module_version": "2.0.0",
       "_model_name": "LayoutModel",
       "_view_count": null,
       "_view_module": "@jupyter-widgets/base",
       "_view_module_version": "2.0.0",
       "_view_name": "LayoutView",
       "align_content": null,
       "align_items": null,
       "align_self": null,
       "border_bottom": null,
       "border_left": null,
       "border_right": null,
       "border_top": null,
       "bottom": null,
       "display": null,
       "flex": null,
       "flex_flow": null,
       "grid_area": null,
       "grid_auto_columns": null,
       "grid_auto_flow": null,
       "grid_auto_rows": null,
       "grid_column": null,
       "grid_gap": null,
       "grid_row": null,
       "grid_template_areas": null,
       "grid_template_columns": null,
       "grid_template_rows": null,
       "height": null,
       "justify_content": null,
       "justify_items": null,
       "left": null,
       "margin": null,
       "max_height": null,
       "max_width": null,
       "min_height": null,
       "min_width": null,
       "object_fit": null,
       "object_position": null,
       "order": null,
       "overflow": null,
       "padding": null,
       "right": null,
       "top": null,
       "visibility": null,
       "width": "34px"
      }
     },
     "3ddcd0bfe25844cdadf6656f5ad7af62": {
      "model_module": "@jupyter-widgets/base",
      "model_module_version": "2.0.0",
      "model_name": "LayoutModel",
      "state": {
       "_model_module": "@jupyter-widgets/base",
       "_model_module_version": "2.0.0",
       "_model_name": "LayoutModel",
       "_view_count": null,
       "_view_module": "@jupyter-widgets/base",
       "_view_module_version": "2.0.0",
       "_view_name": "LayoutView",
       "align_content": null,
       "align_items": null,
       "align_self": null,
       "border_bottom": null,
       "border_left": null,
       "border_right": null,
       "border_top": null,
       "bottom": null,
       "display": null,
       "flex": null,
       "flex_flow": null,
       "grid_area": null,
       "grid_auto_columns": null,
       "grid_auto_flow": null,
       "grid_auto_rows": null,
       "grid_column": null,
       "grid_gap": null,
       "grid_row": null,
       "grid_template_areas": null,
       "grid_template_columns": null,
       "grid_template_rows": null,
       "height": null,
       "justify_content": null,
       "justify_items": null,
       "left": null,
       "margin": null,
       "max_height": null,
       "max_width": null,
       "min_height": null,
       "min_width": null,
       "object_fit": null,
       "object_position": null,
       "order": null,
       "overflow": null,
       "padding": null,
       "right": null,
       "top": null,
       "visibility": null,
       "width": null
      }
     },
     "3e40e15efc0f4d478ea3b42e49b74a00": {
      "buffers": [
       {
        "data": "",
        "encoding": "base64",
        "path": [
         "value"
        ]
       }
      ],
      "model_module": "@jupyter-widgets/controls",
      "model_module_version": "2.0.0",
      "model_name": "ImageModel",
      "state": {
       "_dom_classes": [],
       "_model_module": "@jupyter-widgets/controls",
       "_model_module_version": "2.0.0",
       "_model_name": "ImageModel",
       "_view_count": null,
       "_view_module": "@jupyter-widgets/controls",
       "_view_module_version": "2.0.0",
       "_view_name": "ImageView",
       "format": "png",
       "height": "",
       "layout": "IPY_MODEL_3ddcd0bfe25844cdadf6656f5ad7af62",
       "tabbable": null,
       "tooltip": null,
       "width": "900.0"
      }
     },
     "3ee0fbefdb7c4eea9796b3114f183ffd": {
      "buffers": [
       {
        "data": "",
        "encoding": "base64",
        "path": [
         "value"
        ]
       }
      ],
      "model_module": "@jupyter-widgets/controls",
      "model_module_version": "2.0.0",
      "model_name": "ImageModel",
      "state": {
       "_dom_classes": [],
       "_model_module": "@jupyter-widgets/controls",
       "_model_module_version": "2.0.0",
       "_model_name": "ImageModel",
       "_view_count": null,
       "_view_module": "@jupyter-widgets/controls",
       "_view_module_version": "2.0.0",
       "_view_name": "ImageView",
       "format": "png",
       "height": "",
       "layout": "IPY_MODEL_52a64e2de0864cb6bf6ebc6cd8c92b25",
       "tabbable": null,
       "tooltip": null,
       "width": "900.0"
      }
     },
     "3f109dfa2e83436e8415e6edb6f84d68": {
      "model_module": "@jupyter-widgets/controls",
      "model_module_version": "2.0.0",
      "model_name": "PlayModel",
      "state": {
       "_dom_classes": [],
       "_model_module": "@jupyter-widgets/controls",
       "_model_module_version": "2.0.0",
       "_model_name": "PlayModel",
       "_view_count": null,
       "_view_module": "@jupyter-widgets/controls",
       "_view_module_version": "2.0.0",
       "_view_name": "PlayView",
       "description": "",
       "description_allow_html": false,
       "disabled": false,
       "interval": 100,
       "layout": "IPY_MODEL_a87ba7c5903447a7be34e2cb15e7027f",
       "max": 0,
       "min": 0,
       "playing": false,
       "repeat": false,
       "show_repeat": true,
       "step": 1,
       "style": "IPY_MODEL_45a6d20f02724c4094dfce3d4db1265f",
       "tabbable": null,
       "tooltip": null,
       "value": 0
      }
     },
     "42ae9e6043b5441586705bc38e5f4c22": {
      "model_module": "@jupyter-widgets/base",
      "model_module_version": "2.0.0",
      "model_name": "LayoutModel",
      "state": {
       "_model_module": "@jupyter-widgets/base",
       "_model_module_version": "2.0.0",
       "_model_name": "LayoutModel",
       "_view_count": null,
       "_view_module": "@jupyter-widgets/base",
       "_view_module_version": "2.0.0",
       "_view_name": "LayoutView",
       "align_content": null,
       "align_items": null,
       "align_self": null,
       "border_bottom": null,
       "border_left": null,
       "border_right": null,
       "border_top": null,
       "bottom": null,
       "display": null,
       "flex": null,
       "flex_flow": null,
       "grid_area": null,
       "grid_auto_columns": null,
       "grid_auto_flow": null,
       "grid_auto_rows": null,
       "grid_column": null,
       "grid_gap": null,
       "grid_row": null,
       "grid_template_areas": null,
       "grid_template_columns": null,
       "grid_template_rows": null,
       "height": null,
       "justify_content": null,
       "justify_items": null,
       "left": null,
       "margin": null,
       "max_height": null,
       "max_width": null,
       "min_height": null,
       "min_width": null,
       "object_fit": null,
       "object_position": null,
       "order": null,
       "overflow": null,
       "padding": null,
       "right": null,
       "top": null,
       "visibility": null,
       "width": "34px"
      }
     },
     "4566f2a3924f4ad2bb96c6678eedd265": {
      "model_module": "@jupyter-widgets/controls",
      "model_module_version": "2.0.0",
      "model_name": "ButtonStyleModel",
      "state": {
       "_model_module": "@jupyter-widgets/controls",
       "_model_module_version": "2.0.0",
       "_model_name": "ButtonStyleModel",
       "_view_count": null,
       "_view_module": "@jupyter-widgets/base",
       "_view_module_version": "2.0.0",
       "_view_name": "StyleView",
       "button_color": null,
       "font_family": null,
       "font_size": null,
       "font_style": null,
       "font_variant": null,
       "font_weight": null,
       "text_color": null,
       "text_decoration": null
      }
     },
     "45a6d20f02724c4094dfce3d4db1265f": {
      "model_module": "@jupyter-widgets/controls",
      "model_module_version": "2.0.0",
      "model_name": "DescriptionStyleModel",
      "state": {
       "_model_module": "@jupyter-widgets/controls",
       "_model_module_version": "2.0.0",
       "_model_name": "DescriptionStyleModel",
       "_view_count": null,
       "_view_module": "@jupyter-widgets/base",
       "_view_module_version": "2.0.0",
       "_view_name": "StyleView",
       "description_width": ""
      }
     },
     "47ee3452d4dd4cec8c30c22c0b3e736c": {
      "model_module": "@jupyter-widgets/controls",
      "model_module_version": "2.0.0",
      "model_name": "DescriptionStyleModel",
      "state": {
       "_model_module": "@jupyter-widgets/controls",
       "_model_module_version": "2.0.0",
       "_model_name": "DescriptionStyleModel",
       "_view_count": null,
       "_view_module": "@jupyter-widgets/base",
       "_view_module_version": "2.0.0",
       "_view_name": "StyleView",
       "description_width": ""
      }
     },
     "49b5a0ac09e8410ba90e2a568e17ce39": {
      "model_module": "@jupyter-widgets/base",
      "model_module_version": "2.0.0",
      "model_name": "LayoutModel",
      "state": {
       "_model_module": "@jupyter-widgets/base",
       "_model_module_version": "2.0.0",
       "_model_name": "LayoutModel",
       "_view_count": null,
       "_view_module": "@jupyter-widgets/base",
       "_view_module_version": "2.0.0",
       "_view_name": "LayoutView",
       "align_content": null,
       "align_items": null,
       "align_self": null,
       "border_bottom": null,
       "border_left": null,
       "border_right": null,
       "border_top": null,
       "bottom": null,
       "display": null,
       "flex": null,
       "flex_flow": null,
       "grid_area": null,
       "grid_auto_columns": null,
       "grid_auto_flow": null,
       "grid_auto_rows": null,
       "grid_column": null,
       "grid_gap": null,
       "grid_row": null,
       "grid_template_areas": null,
       "grid_template_columns": null,
       "grid_template_rows": null,
       "height": null,
       "justify_content": null,
       "justify_items": null,
       "left": null,
       "margin": null,
       "max_height": null,
       "max_width": null,
       "min_height": null,
       "min_width": null,
       "object_fit": null,
       "object_position": null,
       "order": null,
       "overflow": null,
       "padding": null,
       "right": null,
       "top": null,
       "visibility": null,
       "width": null
      }
     },
     "4a53987e0e164292a033c2e2fafb65e7": {
      "model_module": "@jupyter-widgets/controls",
      "model_module_version": "2.0.0",
      "model_name": "SliderStyleModel",
      "state": {
       "_model_module": "@jupyter-widgets/controls",
       "_model_module_version": "2.0.0",
       "_model_name": "SliderStyleModel",
       "_view_count": null,
       "_view_module": "@jupyter-widgets/base",
       "_view_module_version": "2.0.0",
       "_view_name": "StyleView",
       "description_width": "",
       "handle_color": null
      }
     },
     "50c4623b4bf44a2cb2b5be484de4cb29": {
      "model_module": "@jupyter-widgets/controls",
      "model_module_version": "2.0.0",
      "model_name": "SliderStyleModel",
      "state": {
       "_model_module": "@jupyter-widgets/controls",
       "_model_module_version": "2.0.0",
       "_model_name": "SliderStyleModel",
       "_view_count": null,
       "_view_module": "@jupyter-widgets/base",
       "_view_module_version": "2.0.0",
       "_view_name": "StyleView",
       "description_width": "",
       "handle_color": null
      }
     },
     "5206848ab9e64e9daed6cf98a04baf9c": {
      "model_module": "@jupyter-widgets/controls",
      "model_module_version": "2.0.0",
      "model_name": "LinkModel",
      "state": {
       "_model_module": "@jupyter-widgets/controls",
       "_model_module_version": "2.0.0",
       "_model_name": "LinkModel",
       "_view_count": null,
       "_view_module": "@jupyter-widgets/controls",
       "_view_module_version": "2.0.0",
       "_view_name": null,
       "source": [
        "IPY_MODEL_937cfc280caf459d919611ee6349350e",
        "value"
       ],
       "target": [
        "IPY_MODEL_90bd1cbe0f164b1286a65cea63783858",
        "value"
       ]
      }
     },
     "52a64e2de0864cb6bf6ebc6cd8c92b25": {
      "model_module": "@jupyter-widgets/base",
      "model_module_version": "2.0.0",
      "model_name": "LayoutModel",
      "state": {
       "_model_module": "@jupyter-widgets/base",
       "_model_module_version": "2.0.0",
       "_model_name": "LayoutModel",
       "_view_count": null,
       "_view_module": "@jupyter-widgets/base",
       "_view_module_version": "2.0.0",
       "_view_name": "LayoutView",
       "align_content": null,
       "align_items": null,
       "align_self": null,
       "border_bottom": null,
       "border_left": null,
       "border_right": null,
       "border_top": null,
       "bottom": null,
       "display": null,
       "flex": null,
       "flex_flow": null,
       "grid_area": null,
       "grid_auto_columns": null,
       "grid_auto_flow": null,
       "grid_auto_rows": null,
       "grid_column": null,
       "grid_gap": null,
       "grid_row": null,
       "grid_template_areas": null,
       "grid_template_columns": null,
       "grid_template_rows": null,
       "height": null,
       "justify_content": null,
       "justify_items": null,
       "left": null,
       "margin": null,
       "max_height": null,
       "max_width": null,
       "min_height": null,
       "min_width": null,
       "object_fit": null,
       "object_position": null,
       "order": null,
       "overflow": null,
       "padding": null,
       "right": null,
       "top": null,
       "visibility": null,
       "width": null
      }
     },
     "53e2dcfb9f4a4cf4bc4d19eb82b47874": {
      "model_module": "@jupyter-widgets/controls",
      "model_module_version": "2.0.0",
      "model_name": "LinkModel",
      "state": {
       "_model_module": "@jupyter-widgets/controls",
       "_model_module_version": "2.0.0",
       "_model_name": "LinkModel",
       "_view_count": null,
       "_view_module": "@jupyter-widgets/controls",
       "_view_module_version": "2.0.0",
       "_view_name": null,
       "source": [
        "IPY_MODEL_3f109dfa2e83436e8415e6edb6f84d68",
        "value"
       ],
       "target": [
        "IPY_MODEL_df2078a900fd4bfeb8d72697fe398798",
        "frame"
       ]
      }
     },
     "57de21dadd3243bfb783567e6e964379": {
      "model_module": "@jupyter-widgets/controls",
      "model_module_version": "2.0.0",
      "model_name": "LinkModel",
      "state": {
       "_model_module": "@jupyter-widgets/controls",
       "_model_module_version": "2.0.0",
       "_model_name": "LinkModel",
       "_view_count": null,
       "_view_module": "@jupyter-widgets/controls",
       "_view_module_version": "2.0.0",
       "_view_name": null,
       "source": [
        "IPY_MODEL_90bd1cbe0f164b1286a65cea63783858",
        "max"
       ],
       "target": [
        "IPY_MODEL_bd1e024a54da4f7aa7f683e376b5f807",
        "max_frame"
       ]
      }
     },
     "57fb2a9fd5ce4a36b1a4e6934a12fa37": {
      "buffers": [
       {
        "data": "",
        "encoding": "base64",
        "path": [
         "value"
        ]
       }
      ],
      "model_module": "@jupyter-widgets/controls",
      "model_module_version": "2.0.0",
      "model_name": "ImageModel",
      "state": {
       "_dom_classes": [],
       "_model_module": "@jupyter-widgets/controls",
       "_model_module_version": "2.0.0",
       "_model_name": "ImageModel",
       "_view_count": null,
       "_view_module": "@jupyter-widgets/controls",
       "_view_module_version": "2.0.0",
       "_view_name": "ImageView",
       "format": "png",
       "height": "",
       "layout": "IPY_MODEL_5e97393a1a32479a908c85cf143d6546",
       "tabbable": null,
       "tooltip": null,
       "width": "900.0"
      }
     },
     "5c14decc11eb4ce8a4e4d1e79326d051": {
      "model_module": "@jupyter-widgets/base",
      "model_module_version": "2.0.0",
      "model_name": "LayoutModel",
      "state": {
       "_model_module": "@jupyter-widgets/base",
       "_model_module_version": "2.0.0",
       "_model_name": "LayoutModel",
       "_view_count": null,
       "_view_module": "@jupyter-widgets/base",
       "_view_module_version": "2.0.0",
       "_view_name": "LayoutView",
       "align_content": null,
       "align_items": null,
       "align_self": null,
       "border_bottom": null,
       "border_left": null,
       "border_right": null,
       "border_top": null,
       "bottom": null,
       "display": null,
       "flex": null,
       "flex_flow": null,
       "grid_area": null,
       "grid_auto_columns": null,
       "grid_auto_flow": null,
       "grid_auto_rows": null,
       "grid_column": null,
       "grid_gap": null,
       "grid_row": null,
       "grid_template_areas": null,
       "grid_template_columns": null,
       "grid_template_rows": null,
       "height": null,
       "justify_content": null,
       "justify_items": null,
       "left": null,
       "margin": null,
       "max_height": null,
       "max_width": null,
       "min_height": null,
       "min_width": null,
       "object_fit": null,
       "object_position": null,
       "order": null,
       "overflow": null,
       "padding": null,
       "right": null,
       "top": null,
       "visibility": null,
       "width": null
      }
     },
     "5e97393a1a32479a908c85cf143d6546": {
      "model_module": "@jupyter-widgets/base",
      "model_module_version": "2.0.0",
      "model_name": "LayoutModel",
      "state": {
       "_model_module": "@jupyter-widgets/base",
       "_model_module_version": "2.0.0",
       "_model_name": "LayoutModel",
       "_view_count": null,
       "_view_module": "@jupyter-widgets/base",
       "_view_module_version": "2.0.0",
       "_view_name": "LayoutView",
       "align_content": null,
       "align_items": null,
       "align_self": null,
       "border_bottom": null,
       "border_left": null,
       "border_right": null,
       "border_top": null,
       "bottom": null,
       "display": null,
       "flex": null,
       "flex_flow": null,
       "grid_area": null,
       "grid_auto_columns": null,
       "grid_auto_flow": null,
       "grid_auto_rows": null,
       "grid_column": null,
       "grid_gap": null,
       "grid_row": null,
       "grid_template_areas": null,
       "grid_template_columns": null,
       "grid_template_rows": null,
       "height": null,
       "justify_content": null,
       "justify_items": null,
       "left": null,
       "margin": null,
       "max_height": null,
       "max_width": null,
       "min_height": null,
       "min_width": null,
       "object_fit": null,
       "object_position": null,
       "order": null,
       "overflow": null,
       "padding": null,
       "right": null,
       "top": null,
       "visibility": null,
       "width": null
      }
     },
     "61ef9b9c25314a9c942a483de642978d": {
      "model_module": "@jupyter-widgets/controls",
      "model_module_version": "2.0.0",
      "model_name": "LinkModel",
      "state": {
       "_model_module": "@jupyter-widgets/controls",
       "_model_module_version": "2.0.0",
       "_model_name": "LinkModel",
       "_view_count": null,
       "_view_module": "@jupyter-widgets/controls",
       "_view_module_version": "2.0.0",
       "_view_name": null,
       "source": [
        "IPY_MODEL_66fe59ecd0a74a45a6053f3e44d7a24e",
        "max"
       ],
       "target": [
        "IPY_MODEL_e613a849aae942f6a3996b42cffdbf59",
        "max_frame"
       ]
      }
     },
     "65180bec6af44089b317c5ea0ed89d44": {
      "model_module": "@jupyter-widgets/base",
      "model_module_version": "2.0.0",
      "model_name": "LayoutModel",
      "state": {
       "_model_module": "@jupyter-widgets/base",
       "_model_module_version": "2.0.0",
       "_model_name": "LayoutModel",
       "_view_count": null,
       "_view_module": "@jupyter-widgets/base",
       "_view_module_version": "2.0.0",
       "_view_name": "LayoutView",
       "align_content": null,
       "align_items": null,
       "align_self": null,
       "border_bottom": null,
       "border_left": null,
       "border_right": null,
       "border_top": null,
       "bottom": null,
       "display": null,
       "flex": null,
       "flex_flow": null,
       "grid_area": null,
       "grid_auto_columns": null,
       "grid_auto_flow": null,
       "grid_auto_rows": null,
       "grid_column": null,
       "grid_gap": null,
       "grid_row": null,
       "grid_template_areas": null,
       "grid_template_columns": null,
       "grid_template_rows": null,
       "height": null,
       "justify_content": null,
       "justify_items": null,
       "left": null,
       "margin": null,
       "max_height": null,
       "max_width": null,
       "min_height": null,
       "min_width": null,
       "object_fit": null,
       "object_position": null,
       "order": null,
       "overflow": null,
       "padding": null,
       "right": null,
       "top": null,
       "visibility": null,
       "width": null
      }
     },
     "66fe59ecd0a74a45a6053f3e44d7a24e": {
      "model_module": "@jupyter-widgets/controls",
      "model_module_version": "2.0.0",
      "model_name": "IntSliderModel",
      "state": {
       "_dom_classes": [],
       "_model_module": "@jupyter-widgets/controls",
       "_model_module_version": "2.0.0",
       "_model_name": "IntSliderModel",
       "_view_count": null,
       "_view_module": "@jupyter-widgets/controls",
       "_view_module_version": "2.0.0",
       "_view_name": "IntSliderView",
       "behavior": "drag-tap",
       "continuous_update": true,
       "description": "",
       "description_allow_html": false,
       "disabled": false,
       "layout": "IPY_MODEL_f6ffc5ebca584ba2b30b0bbed323e7c2",
       "max": 0,
       "min": 0,
       "orientation": "horizontal",
       "readout": true,
       "readout_format": "d",
       "step": 1,
       "style": "IPY_MODEL_9ee65041238443eaa7d78da58171c60e",
       "tabbable": null,
       "tooltip": null,
       "value": 0
      }
     },
     "72b90986cdb84c95846a0c5a79d91250": {
      "model_module": "@jupyter-widgets/controls",
      "model_module_version": "2.0.0",
      "model_name": "LinkModel",
      "state": {
       "_model_module": "@jupyter-widgets/controls",
       "_model_module_version": "2.0.0",
       "_model_name": "LinkModel",
       "_view_count": null,
       "_view_module": "@jupyter-widgets/controls",
       "_view_module_version": "2.0.0",
       "_view_name": null,
       "source": [
        "IPY_MODEL_bb69780f6c55405b9889a7863d074175",
        "value"
       ],
       "target": [
        "IPY_MODEL_66fe59ecd0a74a45a6053f3e44d7a24e",
        "value"
       ]
      }
     },
     "743d3355bd174b85b7d9703f36872ded": {
      "model_module": "@jupyter-widgets/base",
      "model_module_version": "2.0.0",
      "model_name": "LayoutModel",
      "state": {
       "_model_module": "@jupyter-widgets/base",
       "_model_module_version": "2.0.0",
       "_model_name": "LayoutModel",
       "_view_count": null,
       "_view_module": "@jupyter-widgets/base",
       "_view_module_version": "2.0.0",
       "_view_name": "LayoutView",
       "align_content": null,
       "align_items": null,
       "align_self": null,
       "border_bottom": null,
       "border_left": null,
       "border_right": null,
       "border_top": null,
       "bottom": null,
       "display": null,
       "flex": null,
       "flex_flow": null,
       "grid_area": null,
       "grid_auto_columns": null,
       "grid_auto_flow": null,
       "grid_auto_rows": null,
       "grid_column": null,
       "grid_gap": null,
       "grid_row": null,
       "grid_template_areas": null,
       "grid_template_columns": null,
       "grid_template_rows": null,
       "height": null,
       "justify_content": null,
       "justify_items": null,
       "left": null,
       "margin": null,
       "max_height": null,
       "max_width": null,
       "min_height": null,
       "min_width": null,
       "object_fit": null,
       "object_position": null,
       "order": null,
       "overflow": null,
       "padding": null,
       "right": null,
       "top": null,
       "visibility": null,
       "width": null
      }
     },
     "77477c2fa71d40a490a8be73fab2d79b": {
      "model_module": "nglview-js-widgets",
      "model_module_version": "3.0.8",
      "model_name": "NGLModel",
      "state": {
       "_camera_orientation": [],
       "_camera_str": "orthographic",
       "_dom_classes": [],
       "_gui_theme": null,
       "_ibtn_fullscreen": "IPY_MODEL_19b607c897cd4bd49eabb9f38be60a20",
       "_igui": null,
       "_iplayer": "IPY_MODEL_bb70f58424fa47d4b74013e4f0893c02",
       "_model_module": "nglview-js-widgets",
       "_model_module_version": "3.0.8",
       "_model_name": "NGLModel",
       "_ngl_color_dict": {},
       "_ngl_coordinate_resource": {},
       "_ngl_full_stage_parameters": {},
       "_ngl_msg_archive": [
        {
         "args": [
          {
           "binary": false,
           "data": "ATOM      1 P1x  UNK A   1       6.011   5.992   6.027  1.00  0.00           P  \nATOM      2 O1x  UNK A   1       6.096   5.822   7.530  1.00  0.00           O  \nATOM      3 O2x  UNK A   1       7.546   5.769   5.370  1.00  0.00           O1-\nATOM      4 O3x  UNK A   1       4.909   4.877   5.408  1.00  0.00           O1-\nATOM      5 O4x  UNK A   1       5.438   7.540   5.664  1.00  0.00           O1-\nCONECT    1    2    2    3    4\nCONECT    1    5\n",
           "type": "blob"
          }
         ],
         "kwargs": {
          "defaultRepresentation": true,
          "ext": "pdb",
          "name": "<openff.toolkit.utils.viz._OFFTrajectoryNGLView object at 0x13ce22510>"
         },
         "methodName": "loadFile",
         "reconstruc_color_scheme": false,
         "target": "Stage",
         "type": "call_method"
        }
       ],
       "_ngl_original_stage_parameters": {},
       "_ngl_repr_dict": {},
       "_ngl_serialize": false,
       "_ngl_version": "",
       "_ngl_view_id": [],
       "_player_dict": {},
       "_scene_position": {},
       "_scene_rotation": {},
       "_synced_model_ids": [],
       "_synced_repr_model_ids": [],
       "_view_count": null,
       "_view_height": "",
       "_view_module": "nglview-js-widgets",
       "_view_module_version": "3.0.8",
       "_view_name": "NGLView",
       "_view_width": "",
       "background": "white",
       "frame": 0,
       "gui_style": null,
       "layout": "IPY_MODEL_49b5a0ac09e8410ba90e2a568e17ce39",
       "max_frame": 0,
       "n_components": 0,
       "picked": {},
       "tabbable": null,
       "tooltip": null
      }
     },
     "78271df468c74b54895c6d97b0e0bae8": {
      "model_module": "@jupyter-widgets/base",
      "model_module_version": "2.0.0",
      "model_name": "LayoutModel",
      "state": {
       "_model_module": "@jupyter-widgets/base",
       "_model_module_version": "2.0.0",
       "_model_name": "LayoutModel",
       "_view_count": null,
       "_view_module": "@jupyter-widgets/base",
       "_view_module_version": "2.0.0",
       "_view_name": "LayoutView",
       "align_content": null,
       "align_items": null,
       "align_self": null,
       "border_bottom": null,
       "border_left": null,
       "border_right": null,
       "border_top": null,
       "bottom": null,
       "display": null,
       "flex": null,
       "flex_flow": null,
       "grid_area": null,
       "grid_auto_columns": null,
       "grid_auto_flow": null,
       "grid_auto_rows": null,
       "grid_column": null,
       "grid_gap": null,
       "grid_row": null,
       "grid_template_areas": null,
       "grid_template_columns": null,
       "grid_template_rows": null,
       "height": null,
       "justify_content": null,
       "justify_items": null,
       "left": null,
       "margin": null,
       "max_height": null,
       "max_width": null,
       "min_height": null,
       "min_width": null,
       "object_fit": null,
       "object_position": null,
       "order": null,
       "overflow": null,
       "padding": null,
       "right": null,
       "top": null,
       "visibility": null,
       "width": null
      }
     },
     "7baeaed3908043f0b592afc98e7b6d8f": {
      "model_module": "@jupyter-widgets/controls",
      "model_module_version": "2.0.0",
      "model_name": "LinkModel",
      "state": {
       "_model_module": "@jupyter-widgets/controls",
       "_model_module_version": "2.0.0",
       "_model_name": "LinkModel",
       "_view_count": null,
       "_view_module": "@jupyter-widgets/controls",
       "_view_module_version": "2.0.0",
       "_view_name": null,
       "source": [
        "IPY_MODEL_3f109dfa2e83436e8415e6edb6f84d68",
        "max"
       ],
       "target": [
        "IPY_MODEL_df2078a900fd4bfeb8d72697fe398798",
        "max_frame"
       ]
      }
     },
     "7cbcee4a9e504ebc99824b8176e57de3": {
      "buffers": [
       {
        "data": "",
        "encoding": "base64",
        "path": [
         "value"
        ]
       }
      ],
      "model_module": "@jupyter-widgets/controls",
      "model_module_version": "2.0.0",
      "model_name": "ImageModel",
      "state": {
       "_dom_classes": [],
       "_model_module": "@jupyter-widgets/controls",
       "_model_module_version": "2.0.0",
       "_model_name": "ImageModel",
       "_view_count": null,
       "_view_module": "@jupyter-widgets/controls",
       "_view_module_version": "2.0.0",
       "_view_name": "ImageView",
       "format": "png",
       "height": "",
       "layout": "IPY_MODEL_df5f6051346b48f7b756e60ab9a57f54",
       "tabbable": null,
       "tooltip": null,
       "width": "900.0"
      }
     },
     "7cd7119652c349b78e2b7769112f4a91": {
      "model_module": "@jupyter-widgets/controls",
      "model_module_version": "2.0.0",
      "model_name": "LinkModel",
      "state": {
       "_model_module": "@jupyter-widgets/controls",
       "_model_module_version": "2.0.0",
       "_model_name": "LinkModel",
       "_view_count": null,
       "_view_module": "@jupyter-widgets/controls",
       "_view_module_version": "2.0.0",
       "_view_name": null,
       "source": [
        "IPY_MODEL_937cfc280caf459d919611ee6349350e",
        "value"
       ],
       "target": [
        "IPY_MODEL_bd1e024a54da4f7aa7f683e376b5f807",
        "frame"
       ]
      }
     },
     "80b17f6866134f21ad9025b2364ad23f": {
      "model_module": "@jupyter-widgets/controls",
      "model_module_version": "2.0.0",
      "model_name": "LinkModel",
      "state": {
       "_model_module": "@jupyter-widgets/controls",
       "_model_module_version": "2.0.0",
       "_model_name": "LinkModel",
       "_view_count": null,
       "_view_module": "@jupyter-widgets/controls",
       "_view_module_version": "2.0.0",
       "_view_name": null,
       "source": [
        "IPY_MODEL_0ff140dc5389460e89ab0c13ba4107f0",
        "value"
       ],
       "target": [
        "IPY_MODEL_77477c2fa71d40a490a8be73fab2d79b",
        "frame"
       ]
      }
     },
     "8261dcd2cf5b4c4f8db6c57bcc4ce3c6": {
      "model_module": "@jupyter-widgets/base",
      "model_module_version": "2.0.0",
      "model_name": "LayoutModel",
      "state": {
       "_model_module": "@jupyter-widgets/base",
       "_model_module_version": "2.0.0",
       "_model_name": "LayoutModel",
       "_view_count": null,
       "_view_module": "@jupyter-widgets/base",
       "_view_module_version": "2.0.0",
       "_view_name": "LayoutView",
       "align_content": null,
       "align_items": null,
       "align_self": null,
       "border_bottom": null,
       "border_left": null,
       "border_right": null,
       "border_top": null,
       "bottom": null,
       "display": null,
       "flex": null,
       "flex_flow": null,
       "grid_area": null,
       "grid_auto_columns": null,
       "grid_auto_flow": null,
       "grid_auto_rows": null,
       "grid_column": null,
       "grid_gap": null,
       "grid_row": null,
       "grid_template_areas": null,
       "grid_template_columns": null,
       "grid_template_rows": null,
       "height": null,
       "justify_content": null,
       "justify_items": null,
       "left": null,
       "margin": null,
       "max_height": null,
       "max_width": null,
       "min_height": null,
       "min_width": null,
       "object_fit": null,
       "object_position": null,
       "order": null,
       "overflow": null,
       "padding": null,
       "right": null,
       "top": null,
       "visibility": null,
       "width": null
      }
     },
     "88ffe0a2e2c04faeab87af5dc1004434": {
      "model_module": "@jupyter-widgets/controls",
      "model_module_version": "2.0.0",
      "model_name": "LinkModel",
      "state": {
       "_model_module": "@jupyter-widgets/controls",
       "_model_module_version": "2.0.0",
       "_model_name": "LinkModel",
       "_view_count": null,
       "_view_module": "@jupyter-widgets/controls",
       "_view_module_version": "2.0.0",
       "_view_name": null,
       "source": [
        "IPY_MODEL_3f109dfa2e83436e8415e6edb6f84d68",
        "value"
       ],
       "target": [
        "IPY_MODEL_a93e30d445114aefa3813d1f41180ca4",
        "value"
       ]
      }
     },
     "8bd05c5226b34791b1135b8536f14755": {
      "model_module": "@jupyter-widgets/base",
      "model_module_version": "2.0.0",
      "model_name": "LayoutModel",
      "state": {
       "_model_module": "@jupyter-widgets/base",
       "_model_module_version": "2.0.0",
       "_model_name": "LayoutModel",
       "_view_count": null,
       "_view_module": "@jupyter-widgets/base",
       "_view_module_version": "2.0.0",
       "_view_name": "LayoutView",
       "align_content": null,
       "align_items": null,
       "align_self": null,
       "border_bottom": null,
       "border_left": null,
       "border_right": null,
       "border_top": null,
       "bottom": null,
       "display": null,
       "flex": null,
       "flex_flow": null,
       "grid_area": null,
       "grid_auto_columns": null,
       "grid_auto_flow": null,
       "grid_auto_rows": null,
       "grid_column": null,
       "grid_gap": null,
       "grid_row": null,
       "grid_template_areas": null,
       "grid_template_columns": null,
       "grid_template_rows": null,
       "height": null,
       "justify_content": null,
       "justify_items": null,
       "left": null,
       "margin": null,
       "max_height": null,
       "max_width": null,
       "min_height": null,
       "min_width": null,
       "object_fit": null,
       "object_position": null,
       "order": null,
       "overflow": null,
       "padding": null,
       "right": null,
       "top": null,
       "visibility": null,
       "width": null
      }
     },
     "8de3c1ee86be42bc8b1cb9898ce3d021": {
      "model_module": "@jupyter-widgets/base",
      "model_module_version": "2.0.0",
      "model_name": "LayoutModel",
      "state": {
       "_model_module": "@jupyter-widgets/base",
       "_model_module_version": "2.0.0",
       "_model_name": "LayoutModel",
       "_view_count": null,
       "_view_module": "@jupyter-widgets/base",
       "_view_module_version": "2.0.0",
       "_view_name": "LayoutView",
       "align_content": null,
       "align_items": null,
       "align_self": null,
       "border_bottom": null,
       "border_left": null,
       "border_right": null,
       "border_top": null,
       "bottom": null,
       "display": null,
       "flex": null,
       "flex_flow": null,
       "grid_area": null,
       "grid_auto_columns": null,
       "grid_auto_flow": null,
       "grid_auto_rows": null,
       "grid_column": null,
       "grid_gap": null,
       "grid_row": null,
       "grid_template_areas": null,
       "grid_template_columns": null,
       "grid_template_rows": null,
       "height": null,
       "justify_content": null,
       "justify_items": null,
       "left": null,
       "margin": null,
       "max_height": null,
       "max_width": null,
       "min_height": null,
       "min_width": null,
       "object_fit": null,
       "object_position": null,
       "order": null,
       "overflow": null,
       "padding": null,
       "right": null,
       "top": null,
       "visibility": null,
       "width": null
      }
     },
     "90bd1cbe0f164b1286a65cea63783858": {
      "model_module": "@jupyter-widgets/controls",
      "model_module_version": "2.0.0",
      "model_name": "IntSliderModel",
      "state": {
       "_dom_classes": [],
       "_model_module": "@jupyter-widgets/controls",
       "_model_module_version": "2.0.0",
       "_model_name": "IntSliderModel",
       "_view_count": null,
       "_view_module": "@jupyter-widgets/controls",
       "_view_module_version": "2.0.0",
       "_view_name": "IntSliderView",
       "behavior": "drag-tap",
       "continuous_update": true,
       "description": "",
       "description_allow_html": false,
       "disabled": false,
       "layout": "IPY_MODEL_b0d24d57fe8d466bb815bf4830ed925a",
       "max": 0,
       "min": 0,
       "orientation": "horizontal",
       "readout": true,
       "readout_format": "d",
       "step": 1,
       "style": "IPY_MODEL_4a53987e0e164292a033c2e2fafb65e7",
       "tabbable": null,
       "tooltip": null,
       "value": 0
      }
     },
     "937cfc280caf459d919611ee6349350e": {
      "model_module": "@jupyter-widgets/controls",
      "model_module_version": "2.0.0",
      "model_name": "PlayModel",
      "state": {
       "_dom_classes": [],
       "_model_module": "@jupyter-widgets/controls",
       "_model_module_version": "2.0.0",
       "_model_name": "PlayModel",
       "_view_count": null,
       "_view_module": "@jupyter-widgets/controls",
       "_view_module_version": "2.0.0",
       "_view_name": "PlayView",
       "description": "",
       "description_allow_html": false,
       "disabled": false,
       "interval": 100,
       "layout": "IPY_MODEL_a6ceb6b8f4e74cfab2591bececdb66b4",
       "max": 0,
       "min": 0,
       "playing": false,
       "repeat": false,
       "show_repeat": true,
       "step": 1,
       "style": "IPY_MODEL_47ee3452d4dd4cec8c30c22c0b3e736c",
       "tabbable": null,
       "tooltip": null,
       "value": 0
      }
     },
     "9dd8f72425eb48e488b309562e51b433": {
      "model_module": "@jupyter-widgets/controls",
      "model_module_version": "2.0.0",
      "model_name": "ButtonModel",
      "state": {
       "_dom_classes": [],
       "_model_module": "@jupyter-widgets/controls",
       "_model_module_version": "2.0.0",
       "_model_name": "ButtonModel",
       "_view_count": null,
       "_view_module": "@jupyter-widgets/controls",
       "_view_module_version": "2.0.0",
       "_view_name": "ButtonView",
       "button_style": "",
       "description": "",
       "disabled": false,
       "icon": "compress",
       "layout": "IPY_MODEL_37841c8207cf486aa34163bdfa544939",
       "style": "IPY_MODEL_0cbf1777c6644cd6ae4992bf013a0c79",
       "tabbable": null,
       "tooltip": null
      }
     },
     "9ee65041238443eaa7d78da58171c60e": {
      "model_module": "@jupyter-widgets/controls",
      "model_module_version": "2.0.0",
      "model_name": "SliderStyleModel",
      "state": {
       "_model_module": "@jupyter-widgets/controls",
       "_model_module_version": "2.0.0",
       "_model_name": "SliderStyleModel",
       "_view_count": null,
       "_view_module": "@jupyter-widgets/base",
       "_view_module_version": "2.0.0",
       "_view_name": "StyleView",
       "description_width": "",
       "handle_color": null
      }
     },
     "a6ceb6b8f4e74cfab2591bececdb66b4": {
      "model_module": "@jupyter-widgets/base",
      "model_module_version": "2.0.0",
      "model_name": "LayoutModel",
      "state": {
       "_model_module": "@jupyter-widgets/base",
       "_model_module_version": "2.0.0",
       "_model_name": "LayoutModel",
       "_view_count": null,
       "_view_module": "@jupyter-widgets/base",
       "_view_module_version": "2.0.0",
       "_view_name": "LayoutView",
       "align_content": null,
       "align_items": null,
       "align_self": null,
       "border_bottom": null,
       "border_left": null,
       "border_right": null,
       "border_top": null,
       "bottom": null,
       "display": null,
       "flex": null,
       "flex_flow": null,
       "grid_area": null,
       "grid_auto_columns": null,
       "grid_auto_flow": null,
       "grid_auto_rows": null,
       "grid_column": null,
       "grid_gap": null,
       "grid_row": null,
       "grid_template_areas": null,
       "grid_template_columns": null,
       "grid_template_rows": null,
       "height": null,
       "justify_content": null,
       "justify_items": null,
       "left": null,
       "margin": null,
       "max_height": null,
       "max_width": null,
       "min_height": null,
       "min_width": null,
       "object_fit": null,
       "object_position": null,
       "order": null,
       "overflow": null,
       "padding": null,
       "right": null,
       "top": null,
       "visibility": null,
       "width": null
      }
     },
     "a87ba7c5903447a7be34e2cb15e7027f": {
      "model_module": "@jupyter-widgets/base",
      "model_module_version": "2.0.0",
      "model_name": "LayoutModel",
      "state": {
       "_model_module": "@jupyter-widgets/base",
       "_model_module_version": "2.0.0",
       "_model_name": "LayoutModel",
       "_view_count": null,
       "_view_module": "@jupyter-widgets/base",
       "_view_module_version": "2.0.0",
       "_view_name": "LayoutView",
       "align_content": null,
       "align_items": null,
       "align_self": null,
       "border_bottom": null,
       "border_left": null,
       "border_right": null,
       "border_top": null,
       "bottom": null,
       "display": null,
       "flex": null,
       "flex_flow": null,
       "grid_area": null,
       "grid_auto_columns": null,
       "grid_auto_flow": null,
       "grid_auto_rows": null,
       "grid_column": null,
       "grid_gap": null,
       "grid_row": null,
       "grid_template_areas": null,
       "grid_template_columns": null,
       "grid_template_rows": null,
       "height": null,
       "justify_content": null,
       "justify_items": null,
       "left": null,
       "margin": null,
       "max_height": null,
       "max_width": null,
       "min_height": null,
       "min_width": null,
       "object_fit": null,
       "object_position": null,
       "order": null,
       "overflow": null,
       "padding": null,
       "right": null,
       "top": null,
       "visibility": null,
       "width": null
      }
     },
     "a93e30d445114aefa3813d1f41180ca4": {
      "model_module": "@jupyter-widgets/controls",
      "model_module_version": "2.0.0",
      "model_name": "IntSliderModel",
      "state": {
       "_dom_classes": [],
       "_model_module": "@jupyter-widgets/controls",
       "_model_module_version": "2.0.0",
       "_model_name": "IntSliderModel",
       "_view_count": null,
       "_view_module": "@jupyter-widgets/controls",
       "_view_module_version": "2.0.0",
       "_view_name": "IntSliderView",
       "behavior": "drag-tap",
       "continuous_update": true,
       "description": "",
       "description_allow_html": false,
       "disabled": false,
       "layout": "IPY_MODEL_15d137c4b07f47669387115e20cdbec0",
       "max": 0,
       "min": 0,
       "orientation": "horizontal",
       "readout": true,
       "readout_format": "d",
       "step": 1,
       "style": "IPY_MODEL_e0606f3a1c624c20aeef480838f73a7e",
       "tabbable": null,
       "tooltip": null,
       "value": 0
      }
     },
     "b0ce6ee5cb704ff698da35e06f9aff1e": {
      "model_module": "@jupyter-widgets/controls",
      "model_module_version": "2.0.0",
      "model_name": "ButtonModel",
      "state": {
       "_dom_classes": [],
       "_model_module": "@jupyter-widgets/controls",
       "_model_module_version": "2.0.0",
       "_model_name": "ButtonModel",
       "_view_count": null,
       "_view_module": "@jupyter-widgets/controls",
       "_view_module_version": "2.0.0",
       "_view_name": "ButtonView",
       "button_style": "",
       "description": "",
       "disabled": false,
       "icon": "compress",
       "layout": "IPY_MODEL_e7ab1c1d763545b285abd848b6651f4b",
       "style": "IPY_MODEL_031f775c22054ceb9904ae00f34448d2",
       "tabbable": null,
       "tooltip": null
      }
     },
     "b0d24d57fe8d466bb815bf4830ed925a": {
      "model_module": "@jupyter-widgets/base",
      "model_module_version": "2.0.0",
      "model_name": "LayoutModel",
      "state": {
       "_model_module": "@jupyter-widgets/base",
       "_model_module_version": "2.0.0",
       "_model_name": "LayoutModel",
       "_view_count": null,
       "_view_module": "@jupyter-widgets/base",
       "_view_module_version": "2.0.0",
       "_view_name": "LayoutView",
       "align_content": null,
       "align_items": null,
       "align_self": null,
       "border_bottom": null,
       "border_left": null,
       "border_right": null,
       "border_top": null,
       "bottom": null,
       "display": null,
       "flex": null,
       "flex_flow": null,
       "grid_area": null,
       "grid_auto_columns": null,
       "grid_auto_flow": null,
       "grid_auto_rows": null,
       "grid_column": null,
       "grid_gap": null,
       "grid_row": null,
       "grid_template_areas": null,
       "grid_template_columns": null,
       "grid_template_rows": null,
       "height": null,
       "justify_content": null,
       "justify_items": null,
       "left": null,
       "margin": null,
       "max_height": null,
       "max_width": null,
       "min_height": null,
       "min_width": null,
       "object_fit": null,
       "object_position": null,
       "order": null,
       "overflow": null,
       "padding": null,
       "right": null,
       "top": null,
       "visibility": null,
       "width": null
      }
     },
     "bb69780f6c55405b9889a7863d074175": {
      "model_module": "@jupyter-widgets/controls",
      "model_module_version": "2.0.0",
      "model_name": "PlayModel",
      "state": {
       "_dom_classes": [],
       "_model_module": "@jupyter-widgets/controls",
       "_model_module_version": "2.0.0",
       "_model_name": "PlayModel",
       "_view_count": null,
       "_view_module": "@jupyter-widgets/controls",
       "_view_module_version": "2.0.0",
       "_view_name": "PlayView",
       "description": "",
       "description_allow_html": false,
       "disabled": false,
       "interval": 100,
       "layout": "IPY_MODEL_31f8e2ad7624494a9d5add46b7fc5256",
       "max": 0,
       "min": 0,
       "playing": false,
       "repeat": false,
       "show_repeat": true,
       "step": 1,
       "style": "IPY_MODEL_305e17b919314dd1be3304f69a4ef4d8",
       "tabbable": null,
       "tooltip": null,
       "value": 0
      }
     },
     "bb70f58424fa47d4b74013e4f0893c02": {
      "model_module": "@jupyter-widgets/controls",
      "model_module_version": "2.0.0",
      "model_name": "HBoxModel",
      "state": {
       "_dom_classes": [],
       "_model_module": "@jupyter-widgets/controls",
       "_model_module_version": "2.0.0",
       "_model_name": "HBoxModel",
       "_view_count": null,
       "_view_module": "@jupyter-widgets/controls",
       "_view_module_version": "2.0.0",
       "_view_name": "HBoxView",
       "box_style": "",
       "children": [
        "IPY_MODEL_0ff140dc5389460e89ab0c13ba4107f0",
        "IPY_MODEL_02f6f7408cbb4d93aae927fc9369788c"
       ],
       "layout": "IPY_MODEL_743d3355bd174b85b7d9703f36872ded",
       "tabbable": null,
       "tooltip": null
      }
     },
     "bd1e024a54da4f7aa7f683e376b5f807": {
      "model_module": "nglview-js-widgets",
      "model_module_version": "3.0.8",
      "model_name": "NGLModel",
      "state": {
       "_camera_orientation": [],
       "_camera_str": "orthographic",
       "_dom_classes": [],
       "_gui_theme": null,
       "_ibtn_fullscreen": "IPY_MODEL_b0ce6ee5cb704ff698da35e06f9aff1e",
       "_igui": null,
       "_iplayer": "IPY_MODEL_c568645b253f4c40b0f9a1858a9c5677",
       "_model_module": "nglview-js-widgets",
       "_model_module_version": "3.0.8",
       "_model_name": "NGLModel",
       "_ngl_color_dict": {},
       "_ngl_coordinate_resource": {},
       "_ngl_full_stage_parameters": {},
       "_ngl_msg_archive": [
        {
         "args": [
          {
           "binary": false,
           "data": "ATOM      1 C1x  UNK B   1      -0.703   1.213   0.810  1.00  0.00           C  \nATOM      2 C2x  UNK B   1      -2.043   1.044   0.525  1.00  0.00           C  \nATOM      3 C3x  UNK B   1      -2.444   0.005  -0.295  1.00  0.00           C  \nATOM      4 C4x  UNK B   1      -1.478  -0.831  -0.801  1.00  0.00           C  \nATOM      5 C5x  UNK B   1      -0.128  -0.648  -0.504  1.00  0.00           C  \nATOM      6 C6x  UNK B   1       0.286   0.388   0.316  1.00  0.00           C  \nATOM      7 O1x  UNK B   1       1.600   0.609   0.637  1.00  0.00           O  \nATOM      8 P1x  UNK B   1       2.896  -0.343   0.083  1.00  0.00           P  \nATOM      9 O2x  UNK B   1       4.225   0.308   0.330  1.00  0.00           O  \nATOM     10 O3x  UNK B   1       2.747  -0.643  -1.591  1.00  0.00           O1-\nATOM     11 O4x  UNK B   1       2.874  -1.821   0.925  1.00  0.00           O1-\nATOM     12 H1x  UNK B   1      -0.390   2.026   1.452  1.00  0.00           H  \nATOM     13 H2x  UNK B   1      -2.762   1.735   0.952  1.00  0.00           H  \nATOM     14 H3x  UNK B   1      -3.490  -0.088  -0.489  1.00  0.00           H  \nATOM     15 H4x  UNK B   1      -1.808  -1.637  -1.439  1.00  0.00           H  \nATOM     16 H5x  UNK B   1       0.616  -1.316  -0.911  1.00  0.00           H  \nCONECT    1    2    2    6   12\nCONECT    2    3   13\nCONECT    3    4    4   14\nCONECT    4    5   15\nCONECT    5    6    6   16\nCONECT    6    7\nCONECT    7    8\nCONECT    8    9    9   10   11\n",
           "type": "blob"
          }
         ],
         "kwargs": {
          "defaultRepresentation": true,
          "ext": "pdb",
          "name": "<openff.toolkit.utils.viz._OFFTrajectoryNGLView object at 0x13ce1d390>"
         },
         "methodName": "loadFile",
         "reconstruc_color_scheme": false,
         "target": "Stage",
         "type": "call_method"
        }
       ],
       "_ngl_original_stage_parameters": {},
       "_ngl_repr_dict": {},
       "_ngl_serialize": false,
       "_ngl_version": "",
       "_ngl_view_id": [],
       "_player_dict": {},
       "_scene_position": {},
       "_scene_rotation": {},
       "_synced_model_ids": [],
       "_synced_repr_model_ids": [],
       "_view_count": null,
       "_view_height": "",
       "_view_module": "nglview-js-widgets",
       "_view_module_version": "3.0.8",
       "_view_name": "NGLView",
       "_view_width": "",
       "background": "white",
       "frame": 0,
       "gui_style": null,
       "layout": "IPY_MODEL_5c14decc11eb4ce8a4e4d1e79326d051",
       "max_frame": 0,
       "n_components": 0,
       "picked": {},
       "tabbable": null,
       "tooltip": null
      }
     },
     "c568645b253f4c40b0f9a1858a9c5677": {
      "model_module": "@jupyter-widgets/controls",
      "model_module_version": "2.0.0",
      "model_name": "HBoxModel",
      "state": {
       "_dom_classes": [],
       "_model_module": "@jupyter-widgets/controls",
       "_model_module_version": "2.0.0",
       "_model_name": "HBoxModel",
       "_view_count": null,
       "_view_module": "@jupyter-widgets/controls",
       "_view_module_version": "2.0.0",
       "_view_name": "HBoxView",
       "box_style": "",
       "children": [
        "IPY_MODEL_937cfc280caf459d919611ee6349350e",
        "IPY_MODEL_90bd1cbe0f164b1286a65cea63783858"
       ],
       "layout": "IPY_MODEL_09966ee450104b5e947fa82f775d367f",
       "tabbable": null,
       "tooltip": null
      }
     },
     "c6f52288720d461d8ffd9b74ec8c8deb": {
      "model_module": "@jupyter-widgets/controls",
      "model_module_version": "2.0.0",
      "model_name": "HBoxModel",
      "state": {
       "_dom_classes": [],
       "_model_module": "@jupyter-widgets/controls",
       "_model_module_version": "2.0.0",
       "_model_name": "HBoxModel",
       "_view_count": null,
       "_view_module": "@jupyter-widgets/controls",
       "_view_module_version": "2.0.0",
       "_view_name": "HBoxView",
       "box_style": "",
       "children": [
        "IPY_MODEL_bb69780f6c55405b9889a7863d074175",
        "IPY_MODEL_66fe59ecd0a74a45a6053f3e44d7a24e"
       ],
       "layout": "IPY_MODEL_78271df468c74b54895c6d97b0e0bae8",
       "tabbable": null,
       "tooltip": null
      }
     },
     "d09248c0d6fc492d9e329368106b3d0f": {
      "model_module": "@jupyter-widgets/controls",
      "model_module_version": "2.0.0",
      "model_name": "LinkModel",
      "state": {
       "_model_module": "@jupyter-widgets/controls",
       "_model_module_version": "2.0.0",
       "_model_name": "LinkModel",
       "_view_count": null,
       "_view_module": "@jupyter-widgets/controls",
       "_view_module_version": "2.0.0",
       "_view_name": null,
       "source": [
        "IPY_MODEL_02f6f7408cbb4d93aae927fc9369788c",
        "max"
       ],
       "target": [
        "IPY_MODEL_77477c2fa71d40a490a8be73fab2d79b",
        "max_frame"
       ]
      }
     },
     "d5cf0b9587ea4468989f044d3253ca75": {
      "model_module": "nglview-js-widgets",
      "model_module_version": "3.0.8",
      "model_name": "ColormakerRegistryModel",
      "state": {
       "_dom_classes": [],
       "_model_module": "nglview-js-widgets",
       "_model_module_version": "3.0.8",
       "_model_name": "ColormakerRegistryModel",
       "_msg_ar": [],
       "_msg_q": [],
       "_ready": false,
       "_view_count": null,
       "_view_module": "nglview-js-widgets",
       "_view_module_version": "3.0.8",
       "_view_name": "ColormakerRegistryView",
       "layout": "IPY_MODEL_8bd05c5226b34791b1135b8536f14755",
       "tabbable": null,
       "tooltip": null
      }
     },
     "d75f42aee9ea4498a39e09681a32dd63": {
      "model_module": "@jupyter-widgets/controls",
      "model_module_version": "2.0.0",
      "model_name": "DescriptionStyleModel",
      "state": {
       "_model_module": "@jupyter-widgets/controls",
       "_model_module_version": "2.0.0",
       "_model_name": "DescriptionStyleModel",
       "_view_count": null,
       "_view_module": "@jupyter-widgets/base",
       "_view_module_version": "2.0.0",
       "_view_name": "StyleView",
       "description_width": ""
      }
     },
     "d9bd5b8b9b8f49c6b799fac0d4e9fd45": {
      "model_module": "@jupyter-widgets/controls",
      "model_module_version": "2.0.0",
      "model_name": "LinkModel",
      "state": {
       "_model_module": "@jupyter-widgets/controls",
       "_model_module_version": "2.0.0",
       "_model_name": "LinkModel",
       "_view_count": null,
       "_view_module": "@jupyter-widgets/controls",
       "_view_module_version": "2.0.0",
       "_view_name": null,
       "source": [
        "IPY_MODEL_bb69780f6c55405b9889a7863d074175",
        "max"
       ],
       "target": [
        "IPY_MODEL_e613a849aae942f6a3996b42cffdbf59",
        "max_frame"
       ]
      }
     },
     "dd764b520886470a88cd5cb2c2744458": {
      "model_module": "@jupyter-widgets/controls",
      "model_module_version": "2.0.0",
      "model_name": "LinkModel",
      "state": {
       "_model_module": "@jupyter-widgets/controls",
       "_model_module_version": "2.0.0",
       "_model_name": "LinkModel",
       "_view_count": null,
       "_view_module": "@jupyter-widgets/controls",
       "_view_module_version": "2.0.0",
       "_view_name": null,
       "source": [
        "IPY_MODEL_0ff140dc5389460e89ab0c13ba4107f0",
        "value"
       ],
       "target": [
        "IPY_MODEL_02f6f7408cbb4d93aae927fc9369788c",
        "value"
       ]
      }
     },
     "df2078a900fd4bfeb8d72697fe398798": {
      "model_module": "nglview-js-widgets",
      "model_module_version": "3.0.8",
      "model_name": "NGLModel",
      "state": {
       "_camera_orientation": [],
       "_camera_str": "orthographic",
       "_dom_classes": [],
       "_gui_theme": null,
       "_ibtn_fullscreen": "IPY_MODEL_1e2ee11cdf6748b9b80e371cd28664fd",
       "_igui": null,
       "_iplayer": "IPY_MODEL_1b57f69b559c4e65b723670cdf07504d",
       "_model_module": "nglview-js-widgets",
       "_model_module_version": "3.0.8",
       "_model_name": "NGLModel",
       "_ngl_color_dict": {},
       "_ngl_coordinate_resource": {},
       "_ngl_full_stage_parameters": {},
       "_ngl_msg_archive": [
        {
         "args": [
          {
           "binary": false,
           "data": "ATOM      1 CH3  ACE A   1      13.128 -15.542  -1.183  1.00  0.00           C  \nATOM      2  C   ACE A   1      14.349 -15.180  -2.017  1.00  0.00           C  \nATOM      3  O   ACE A   1      14.219 -14.390  -2.940  1.00  0.00           O  \nATOM      4  H1  ACE A   1      12.496 -14.669  -1.028  1.00  0.00           H  \nATOM      5  H2  ACE A   1      12.538 -16.302  -1.696  1.00  0.00           H  \nATOM      6  H3  ACE A   1      13.417 -15.930  -0.207  1.00  0.00           H  \nATOM      7  N   LEU A   2      15.519 -15.752  -1.688  1.00  0.00           N  \nATOM      8  CA  LEU A   2      16.837 -15.462  -2.273  1.00  0.00           C  \nATOM      9  C   LEU A   2      16.866 -15.391  -3.813  1.00  0.00           C  \nATOM     10  O   LEU A   2      17.076 -14.307  -4.355  1.00  0.00           O  \nATOM     11  CB  LEU A   2      17.868 -16.505  -1.775  1.00  0.00           C  \nATOM     12  CG  LEU A   2      18.126 -16.521  -0.253  1.00  0.00           C  \nATOM     13 CD1  LEU A   2      19.080 -17.676   0.116  1.00  0.00           C  \nATOM     14 CD2  LEU A   2      18.633 -15.163   0.275  1.00  0.00           C  \nATOM     15  H   LEU A   2      15.531 -16.406  -0.919  1.00  0.00           H  \nATOM     16  HA  LEU A   2      17.127 -14.476  -1.910  1.00  0.00           H  \nATOM     17 HB2  LEU A   2      18.821 -16.336  -2.280  1.00  0.00           H  \nATOM     18 HB3  LEU A   2      17.541 -17.500  -2.081  1.00  0.00           H  \nATOM     19  HG  LEU A   2      17.179 -16.731   0.245  1.00  0.00           H  \nATOM     20 HD11 LEU A   2      18.649 -18.298   0.901  1.00  0.00           H  \nATOM     21 HD12 LEU A   2      19.284 -18.330  -0.733  1.00  0.00           H  \nATOM     22 HD13 LEU A   2      20.047 -17.325   0.477  1.00  0.00           H  \nATOM     23 HD21 LEU A   2      19.430 -15.269   1.011  1.00  0.00           H  \nATOM     24 HD22 LEU A   2      19.023 -14.532  -0.525  1.00  0.00           H  \nATOM     25 HD23 LEU A   2      17.826 -14.612   0.760  1.00  0.00           H  \nATOM     26  N   ASP A   3      16.656 -16.542  -4.473  1.00  0.00           N  \nATOM     27  CA  ASP A   3      16.775 -16.719  -5.922  1.00  0.00           C  \nATOM     28  C   ASP A   3      15.682 -15.960  -6.704  1.00  0.00           C  \nATOM     29  O   ASP A   3      15.995 -15.348  -7.726  1.00  0.00           O  \nATOM     30  CB  ASP A   3      16.805 -18.224  -6.276  1.00  0.00           C  \nATOM     31  CG  ASP A   3      17.304 -18.535  -7.691  1.00  0.00           C  \nATOM     32 OD1  ASP A   3      16.523 -18.313  -8.643  1.00  0.00           O  \nATOM     33 OD2  ASP A   3      18.443 -19.040  -7.788  1.00  0.00           O1-\nATOM     34  H   ASP A   3      16.468 -17.381  -3.944  1.00  0.00           H  \nATOM     35  HA  ASP A   3      17.735 -16.289  -6.214  1.00  0.00           H  \nATOM     36 HB3  ASP A   3      15.826 -18.687  -6.147  1.00  0.00           H  \nATOM     37 HB2  ASP A   3      17.448 -18.755  -5.572  1.00  0.00           H  \nATOM     38  N   SER A   4      14.438 -15.976  -6.194  1.00  0.00           N  \nATOM     39  CA  SER A   4      13.295 -15.264  -6.775  1.00  0.00           C  \nATOM     40  C   SER A   4      13.344 -13.732  -6.591  1.00  0.00           C  \nATOM     41  O   SER A   4      12.637 -13.032  -7.313  1.00  0.00           O  \nATOM     42  CB  SER A   4      11.989 -15.889  -6.243  1.00  0.00           C  \nATOM     43  OG  SER A   4      11.766 -15.598  -4.876  1.00  0.00           O  \nATOM     44  H   SER A   4      14.255 -16.477  -5.336  1.00  0.00           H  \nATOM     45  HA  SER A   4      13.318 -15.448  -7.851  1.00  0.00           H  \nATOM     46 HB2  SER A   4      11.996 -16.970  -6.383  1.00  0.00           H  \nATOM     47 HB3  SER A   4      11.139 -15.509  -6.811  1.00  0.00           H  \nATOM     48  HG  SER A   4      11.535 -14.669  -4.795  1.00  0.00           H  \nATOM     49  N   LYS A   5      14.185 -13.245  -5.662  1.00  0.00           N  \nATOM     50  CA  LYS A   5      14.495 -11.830  -5.454  1.00  0.00           C  \nATOM     51  C   LYS A   5      15.789 -11.387  -6.158  1.00  0.00           C  \nATOM     52  O   LYS A   5      16.096 -10.196  -6.110  1.00  0.00           O  \nATOM     53  CB  LYS A   5      14.553 -11.527  -3.942  1.00  0.00           C  \nATOM     54  CG  LYS A   5      13.159 -11.482  -3.278  1.00  0.00           C  \nATOM     55  CD  LYS A   5      13.143 -10.849  -1.878  1.00  0.00           C  \nATOM     56  CE  LYS A   5      14.043 -11.530  -0.836  1.00  0.00           C  \nATOM     57  NZ  LYS A   5      14.093 -10.732   0.401  1.00  0.00           N1+\nATOM     58  H   LYS A   5      14.694 -13.892  -5.074  1.00  0.00           H  \nATOM     59  HA  LYS A   5      13.703 -11.223  -5.887  1.00  0.00           H  \nATOM     60 HB2  LYS A   5      15.028 -10.567  -3.778  1.00  0.00           H  \nATOM     61 HB3  LYS A   5      15.222 -12.224  -3.441  1.00  0.00           H  \nATOM     62 HG3  LYS A   5      12.714 -12.475  -3.241  1.00  0.00           H  \nATOM     63 HG2  LYS A   5      12.486 -10.898  -3.904  1.00  0.00           H  \nATOM     64 HD3  LYS A   5      12.116 -10.851  -1.512  1.00  0.00           H  \nATOM     65 HD2  LYS A   5      13.411  -9.797  -1.970  1.00  0.00           H  \nATOM     66 HE3  LYS A   5      15.063 -11.636  -1.203  1.00  0.00           H  \nATOM     67 HE2  LYS A   5      13.674 -12.530  -0.608  1.00  0.00           H  \nATOM     68 HZ1  LYS A   5      14.488  -9.825   0.193  1.00  0.00           H  \nATOM     69 HZ2  LYS A   5      13.158 -10.609   0.765  1.00  0.00           H  \nATOM     70 HZ3  LYS A   5      14.666 -11.198   1.089  1.00  0.00           H  \nATOM     71  N   THR A   6      16.514 -12.319  -6.800  1.00  0.00           N  \nATOM     72  CA  THR A   6      17.734 -12.023  -7.545  1.00  0.00           C  \nATOM     73  C   THR A   6      17.424 -11.934  -9.049  1.00  0.00           C  \nATOM     74  O   THR A   6      16.738 -12.804  -9.588  1.00  0.00           O  \nATOM     75 OG1  THR A   6      19.128 -13.151  -5.936  1.00  0.00           O  \nATOM     76  CB  THR A   6      18.834 -13.091  -7.317  1.00  0.00           C  \nATOM     77 CG2  THR A   6      20.165 -12.807  -8.040  1.00  0.00           C  \nATOM     78  H   THR A   6      16.193 -13.277  -6.831  1.00  0.00           H  \nATOM     79  HA  THR A   6      18.138 -11.074  -7.205  1.00  0.00           H  \nATOM     80  HB  THR A   6      18.467 -14.074  -7.616  1.00  0.00           H  \nATOM     81 HG21 THR A   6      20.926 -13.537  -7.760  1.00  0.00           H  \nATOM     82 HG22 THR A   6      20.061 -12.859  -9.124  1.00  0.00           H  \nATOM     83 HG23 THR A   6      20.550 -11.817  -7.789  1.00  0.00           H  \nATOM     84 HG1  THR A   6      18.346 -13.462  -5.467  1.00  0.00           H  \nATOM     85  N   PHE A   7      17.951 -10.879  -9.687  1.00  0.00           N  \nATOM     86  CA  PHE A   7      17.808 -10.607 -11.113  1.00  0.00           C  \nATOM     87  C   PHE A   7      19.101  -9.953 -11.618  1.00  0.00           C  \nATOM     88  O   PHE A   7      19.705  -9.145 -10.911  1.00  0.00           O  \nATOM     89 CE1  PHE A   7      16.377  -6.570  -9.235  1.00  0.00           C  \nATOM     90 CE2  PHE A   7      17.144  -5.973 -11.441  1.00  0.00           C  \nATOM     91  CZ  PHE A   7      16.798  -5.609 -10.146  1.00  0.00           C  \nATOM     92  CB  PHE A   7      16.544  -9.743 -11.350  1.00  0.00           C  \nATOM     93  CG  PHE A   7      16.586  -8.278 -10.942  1.00  0.00           C  \nATOM     94 CD1  PHE A   7      16.284  -7.902  -9.616  1.00  0.00           C  \nATOM     95 CD2  PHE A   7      17.053  -7.298 -11.844  1.00  0.00           C  \nATOM     96  H   PHE A   7      18.502 -10.205  -9.170  1.00  0.00           H  \nATOM     97  HA  PHE A   7      17.683 -11.556 -11.640  1.00  0.00           H  \nATOM     98 HB2  PHE A   7      15.693 -10.203 -10.847  1.00  0.00           H  \nATOM     99 HB3  PHE A   7      16.299  -9.769 -12.409  1.00  0.00           H  \nATOM    100 HD1  PHE A   7      15.973  -8.646  -8.896  1.00  0.00           H  \nATOM    101 HD2  PHE A   7      17.331  -7.572 -12.851  1.00  0.00           H  \nATOM    102 HE1  PHE A   7      16.134  -6.283  -8.223  1.00  0.00           H  \nATOM    103 HE2  PHE A   7      17.488  -5.224 -12.139  1.00  0.00           H  \nATOM    104  HZ  PHE A   7      16.872  -4.576  -9.839  1.00  0.00           H  \nATOM    105  N   LEU A   8      19.490 -10.302 -12.852  1.00  0.00           N  \nATOM    106  CA  LEU A   8      20.630  -9.711 -13.541  1.00  0.00           C  \nATOM    107  C   LEU A   8      20.200  -8.469 -14.328  1.00  0.00           C  \nATOM    108  O   LEU A   8      19.069  -8.391 -14.809  1.00  0.00           O  \nATOM    109  CB  LEU A   8      21.276 -10.728 -14.510  1.00  0.00           C  \nATOM    110  CG  LEU A   8      21.732 -12.058 -13.876  1.00  0.00           C  \nATOM    111 CD1  LEU A   8      22.360 -12.980 -14.942  1.00  0.00           C  \nATOM    112 CD2  LEU A   8      22.673 -11.848 -12.676  1.00  0.00           C  \nATOM    113  H   LEU A   8      18.948 -10.977 -13.383  1.00  0.00           H  \nATOM    114  HA  LEU A   8      21.373  -9.418 -12.801  1.00  0.00           H  \nATOM    115 HB2  LEU A   8      22.141 -10.258 -14.981  1.00  0.00           H  \nATOM    116 HB3  LEU A   8      20.584 -10.947 -15.323  1.00  0.00           H  \nATOM    117  HG  LEU A   8      20.843 -12.570 -13.506  1.00  0.00           H  \nATOM    118 HD11 LEU A   8      21.889 -13.963 -14.927  1.00  0.00           H  \nATOM    119 HD12 LEU A   8      22.237 -12.582 -15.950  1.00  0.00           H  \nATOM    120 HD13 LEU A   8      23.430 -13.128 -14.790  1.00  0.00           H  \nATOM    121 HD21 LEU A   8      23.411 -12.645 -12.595  1.00  0.00           H  \nATOM    122 HD22 LEU A   8      23.216 -10.905 -12.749  1.00  0.00           H  \nATOM    123 HD23 LEU A   8      22.112 -11.837 -11.741  1.00  0.00           H  \nATOM    124  N   SER A   9      21.162  -7.559 -14.500  1.00  0.00           N  \nATOM    125  CA  SER A   9      21.095  -6.453 -15.441  1.00  0.00           C  \nATOM    126  C   SER A   9      22.504  -6.164 -15.962  1.00  0.00           C  \nATOM    127  O   SER A   9      23.484  -6.359 -15.245  1.00  0.00           O  \nATOM    128  CB  SER A   9      20.373  -5.243 -14.809  1.00  0.00           C  \nATOM    129  OG  SER A   9      21.131  -4.609 -13.800  1.00  0.00           O  \nATOM    130  H   SER A   9      22.055  -7.684 -14.042  1.00  0.00           H  \nATOM    131  HA  SER A   9      20.520  -6.790 -16.301  1.00  0.00           H  \nATOM    132 HB2  SER A   9      19.411  -5.539 -14.391  1.00  0.00           H  \nATOM    133 HB3  SER A   9      20.161  -4.503 -15.580  1.00  0.00           H  \nATOM    134  HG  SER A   9      21.713  -3.960 -14.211  1.00  0.00           H  \nATOM    135  N   GLU A  10      22.566  -5.716 -17.218  1.00  0.00           N  \nATOM    136  CA  GLU A  10      23.789  -5.320 -17.899  1.00  0.00           C  \nATOM    137  C   GLU A  10      23.707  -3.812 -18.136  1.00  0.00           C  \nATOM    138  O   GLU A  10      22.621  -3.297 -18.416  1.00  0.00           O  \nATOM    139  CB  GLU A  10      23.858  -6.064 -19.238  1.00  0.00           C  \nATOM    140  CG  GLU A  10      25.208  -5.971 -19.968  1.00  0.00           C  \nATOM    141  CD  GLU A  10      25.105  -6.634 -21.339  1.00  0.00           C  \nATOM    142 OE1  GLU A  10      25.648  -7.750 -21.479  1.00  0.00           O  \nATOM    143 OE2  GLU A  10      24.453  -6.022 -22.214  1.00  0.00           O1-\nATOM    144  H   GLU A  10      21.708  -5.558 -17.732  1.00  0.00           H  \nATOM    145  HA  GLU A  10      24.667  -5.570 -17.304  1.00  0.00           H  \nATOM    146 HB3  GLU A  10      23.101  -5.632 -19.889  1.00  0.00           H  \nATOM    147 HB2  GLU A  10      23.593  -7.113 -19.098  1.00  0.00           H  \nATOM    148 HG3  GLU A  10      25.994  -6.448 -19.380  1.00  0.00           H  \nATOM    149 HG2  GLU A  10      25.512  -4.935 -20.110  1.00  0.00           H  \nATOM    150  N   HIS A  11      24.860  -3.143 -18.039  1.00  0.00           N  \nATOM    151  CA  HIS A  11      24.976  -1.710 -18.250  1.00  0.00           C  \nATOM    152  C   HIS A  11      26.213  -1.399 -19.082  1.00  0.00           C  \nATOM    153  O   HIS A  11      27.254  -2.012 -18.876  1.00  0.00           O  \nATOM    154  CB  HIS A  11      25.062  -0.973 -16.895  1.00  0.00           C  \nATOM    155  CG  HIS A  11      23.908  -1.220 -15.959  1.00  0.00           C  \nATOM    156 CD2  HIS A  11      23.642  -2.262 -15.099  1.00  0.00           C  \nATOM    157 ND1  HIS A  11      22.869  -0.323 -15.796  1.00  0.00           N  \nATOM    158 CE1  HIS A  11      22.045  -0.843 -14.885  1.00  0.00           C  \nATOM    159 NE2  HIS A  11      22.446  -2.021 -14.425  1.00  0.00           N  \nATOM    160  H   HIS A  11      25.710  -3.633 -17.790  1.00  0.00           H  \nATOM    161  HA  HIS A  11      24.105  -1.377 -18.805  1.00  0.00           H  \nATOM    162 HB2  HIS A  11      25.139   0.102 -17.064  1.00  0.00           H  \nATOM    163 HB3  HIS A  11      25.974  -1.259 -16.370  1.00  0.00           H  \nATOM    164 HD2  HIS A  11      24.213  -3.163 -14.924  1.00  0.00           H  \nATOM    165 HD1  HIS A  11      22.767   0.574 -16.253  1.00  0.00           H  \nATOM    166 HE1  HIS A  11      21.153  -0.343 -14.542  1.00  0.00           H  \nATOM    167  N   SER A  12      26.106  -0.376 -19.938  1.00  0.00           N  \nATOM    168  CA  SER A  12      27.254   0.337 -20.497  1.00  0.00           C  \nATOM    169  C   SER A  12      27.934   1.215 -19.422  1.00  0.00           C  \nATOM    170  O   SER A  12      27.368   1.425 -18.347  1.00  0.00           O  \nATOM    171  CB  SER A  12      26.788   1.100 -21.753  1.00  0.00           C  \nATOM    172  OG  SER A  12      25.669   1.923 -21.503  1.00  0.00           O  \nATOM    173  H   SER A  12      25.213   0.085 -20.053  1.00  0.00           H  \nATOM    174  HA  SER A  12      27.994  -0.399 -20.820  1.00  0.00           H  \nATOM    175 HB2  SER A  12      26.522   0.394 -22.539  1.00  0.00           H  \nATOM    176 HB3  SER A  12      27.595   1.715 -22.152  1.00  0.00           H  \nATOM    177  HG  SER A  12      25.958   2.761 -21.116  1.00  0.00           H  \nATOM    178  N   MET A  13      29.163   1.673 -19.710  1.00  0.00           N  \nATOM    179  CA  MET A  13      30.034   2.373 -18.753  1.00  0.00           C  \nATOM    180  C   MET A  13      29.517   3.733 -18.235  1.00  0.00           C  \nATOM    181  O   MET A  13      30.002   4.187 -17.198  1.00  0.00           O  \nATOM    182  CB  MET A  13      31.458   2.496 -19.338  1.00  0.00           C  \nATOM    183  CG  MET A  13      32.143   1.151 -19.656  1.00  0.00           C  \nATOM    184  SD  MET A  13      32.208  -0.067 -18.306  1.00  0.00           S  \nATOM    185  CE  MET A  13      33.025   0.893 -16.997  1.00  0.00           C  \nATOM    186  H   MET A  13      29.575   1.462 -20.607  1.00  0.00           H  \nATOM    187  HA  MET A  13      30.087   1.742 -17.864  1.00  0.00           H  \nATOM    188 HB3  MET A  13      32.095   3.057 -18.652  1.00  0.00           H  \nATOM    189 HB2  MET A  13      31.420   3.093 -20.250  1.00  0.00           H  \nATOM    190 HG2  MET A  13      33.164   1.342 -19.986  1.00  0.00           H  \nATOM    191 HG3  MET A  13      31.645   0.675 -20.500  1.00  0.00           H  \nATOM    192 HE1  MET A  13      33.272   0.240 -16.159  1.00  0.00           H  \nATOM    193 HE2  MET A  13      33.942   1.356 -17.359  1.00  0.00           H  \nATOM    194 HE3  MET A  13      32.365   1.679 -16.630  1.00  0.00           H  \nATOM    195  N   ASP A  14      28.521   4.325 -18.919  1.00  0.00           N  \nATOM    196  CA  ASP A  14      27.779   5.528 -18.509  1.00  0.00           C  \nATOM    197  C   ASP A  14      26.608   5.221 -17.536  1.00  0.00           C  \nATOM    198  O   ASP A  14      25.837   6.127 -17.221  1.00  0.00           O  \nATOM    199  CG  ASP A  14      26.451   5.590 -20.773  1.00  0.00           C  \nATOM    200 OD1  ASP A  14      26.119   4.411 -20.525  1.00  0.00           O  \nATOM    201 OD2  ASP A  14      26.131   6.221 -21.803  1.00  0.00           O1-\nATOM    202  CB  ASP A  14      27.280   6.354 -19.729  1.00  0.00           C  \nATOM    203  H   ASP A  14      28.162   3.872 -19.748  1.00  0.00           H  \nATOM    204  HA  ASP A  14      28.465   6.172 -17.955  1.00  0.00           H  \nATOM    205 HB2  ASP A  14      28.159   6.747 -20.239  1.00  0.00           H  \nATOM    206 HB3  ASP A  14      26.698   7.211 -19.389  1.00  0.00           H  \nATOM    207  N   MET A  15      26.492   3.959 -17.086  1.00  0.00           N  \nATOM    208  CA  MET A  15      25.469   3.396 -16.197  1.00  0.00           C  \nATOM    209  C   MET A  15      24.104   3.110 -16.851  1.00  0.00           C  \nATOM    210  O   MET A  15      23.206   2.668 -16.133  1.00  0.00           O  \nATOM    211  CB  MET A  15      25.267   4.201 -14.890  1.00  0.00           C  \nATOM    212  CG  MET A  15      26.523   4.675 -14.151  1.00  0.00           C  \nATOM    213  SD  MET A  15      26.110   5.207 -12.470  1.00  0.00           S  \nATOM    214  CE  MET A  15      27.452   6.373 -12.138  1.00  0.00           C  \nATOM    215  H   MET A  15      27.159   3.280 -17.428  1.00  0.00           H  \nATOM    216  HA  MET A  15      25.865   2.421 -15.914  1.00  0.00           H  \nATOM    217 HB2  MET A  15      24.691   3.589 -14.200  1.00  0.00           H  \nATOM    218 HB3  MET A  15      24.644   5.073 -15.089  1.00  0.00           H  \nATOM    219 HG3  MET A  15      26.986   5.507 -14.681  1.00  0.00           H  \nATOM    220 HG2  MET A  15      27.264   3.879 -14.093  1.00  0.00           H  \nATOM    221 HE1  MET A  15      27.429   6.687 -11.095  1.00  0.00           H  \nATOM    222 HE2  MET A  15      28.417   5.916 -12.344  1.00  0.00           H  \nATOM    223 HE3  MET A  15      27.349   7.256 -12.769  1.00  0.00           H  \nATOM    224  N   LYS A  16      23.940   3.338 -18.168  1.00  0.00           N  \nATOM    225  CA  LYS A  16      22.695   3.019 -18.877  1.00  0.00           C  \nATOM    226  C   LYS A  16      22.446   1.513 -18.940  1.00  0.00           C  \nATOM    227  O   LYS A  16      23.370   0.794 -19.303  1.00  0.00           O  \nATOM    228  CE  LYS A  16      22.495   7.052 -22.049  1.00  0.00           C  \nATOM    229  NZ  LYS A  16      22.397   7.401 -23.475  1.00  0.00           N1+\nATOM    230  CB  LYS A  16      22.706   3.577 -20.308  1.00  0.00           C  \nATOM    231  CG  LYS A  16      22.638   5.102 -20.405  1.00  0.00           C  \nATOM    232  CD  LYS A  16      22.665   5.542 -21.874  1.00  0.00           C  \nATOM    233  H   LYS A  16      24.705   3.692 -18.728  1.00  0.00           H  \nATOM    234  HA  LYS A  16      21.879   3.475 -18.337  1.00  0.00           H  \nATOM    235 HB3  LYS A  16      21.846   3.178 -20.849  1.00  0.00           H  \nATOM    236 HB2  LYS A  16      23.583   3.217 -20.840  1.00  0.00           H  \nATOM    237 HG3  LYS A  16      23.470   5.553 -19.865  1.00  0.00           H  \nATOM    238 HG2  LYS A  16      21.725   5.460 -19.928  1.00  0.00           H  \nATOM    239 HD3  LYS A  16      21.889   5.017 -22.430  1.00  0.00           H  \nATOM    240 HD2  LYS A  16      23.611   5.233 -22.320  1.00  0.00           H  \nATOM    241 HE3  LYS A  16      23.337   7.583 -21.603  1.00  0.00           H  \nATOM    242 HE2  LYS A  16      21.590   7.395 -21.545  1.00  0.00           H  \nATOM    243 HZ1  LYS A  16      21.598   6.935 -23.880  1.00  0.00           H  \nATOM    244 HZ2  LYS A  16      22.290   8.401 -23.571  1.00  0.00           H  \nATOM    245 HZ3  LYS A  16      23.240   7.105 -23.948  1.00  0.00           H  \nATOM    246  N   PHE A  17      21.201   1.082 -18.665  1.00  0.00           N  \nATOM    247  CA  PHE A  17      20.740  -0.286 -18.923  1.00  0.00           C  \nATOM    248  C   PHE A  17      20.878  -0.647 -20.414  1.00  0.00           C  \nATOM    249  O   PHE A  17      20.439   0.123 -21.268  1.00  0.00           O  \nATOM    250 CE2  PHE A  17      18.697  -1.809 -14.981  1.00  0.00           C  \nATOM    251  CZ  PHE A  17      18.393  -0.648 -14.281  1.00  0.00           C  \nATOM    252  CB  PHE A  17      19.264  -0.452 -18.504  1.00  0.00           C  \nATOM    253  CG  PHE A  17      18.947  -0.517 -17.019  1.00  0.00           C  \nATOM    254 CD1  PHE A  17      18.679   0.658 -16.285  1.00  0.00           C  \nATOM    255 CD2  PHE A  17      18.993  -1.753 -16.339  1.00  0.00           C  \nATOM    256 CE1  PHE A  17      18.394   0.581 -14.928  1.00  0.00           C  \nATOM    257  H   PHE A  17      20.494   1.746 -18.380  1.00  0.00           H  \nATOM    258  HA  PHE A  17      21.350  -0.970 -18.331  1.00  0.00           H  \nATOM    259 HB3  PHE A  17      18.851  -1.357 -18.954  1.00  0.00           H  \nATOM    260 HB2  PHE A  17      18.698   0.369 -18.934  1.00  0.00           H  \nATOM    261 HD1  PHE A  17      18.659   1.616 -16.778  1.00  0.00           H  \nATOM    262 HD2  PHE A  17      19.232  -2.659 -16.876  1.00  0.00           H  \nATOM    263 HE1  PHE A  17      18.166   1.480 -14.375  1.00  0.00           H  \nATOM    264 HE2  PHE A  17      18.708  -2.758 -14.466  1.00  0.00           H  \nATOM    265  HZ  PHE A  17      18.165  -0.700 -13.227  1.00  0.00           H  \nATOM    266  N   THR A  18      21.470  -1.815 -20.683  1.00  0.00           N  \nATOM    267  CA  THR A  18      21.582  -2.415 -22.016  1.00  0.00           C  \nATOM    268  C   THR A  18      20.928  -3.814 -22.046  1.00  0.00           C  \nATOM    269  O   THR A  18      20.660  -4.319 -23.136  1.00  0.00           O  \nATOM    270  CB  THR A  18      23.068  -2.526 -22.448  1.00  0.00           C  \nATOM    271 CG2  THR A  18      23.754  -1.159 -22.580  1.00  0.00           C  \nATOM    272 OG1  THR A  18      23.829  -3.312 -21.552  1.00  0.00           O  \nATOM    273  H   THR A  18      21.868  -2.356 -19.925  1.00  0.00           H  \nATOM    274  HA  THR A  18      21.051  -1.810 -22.753  1.00  0.00           H  \nATOM    275  HB  THR A  18      23.118  -3.018 -23.421  1.00  0.00           H  \nATOM    276 HG21 THR A  18      24.780  -1.271 -22.930  1.00  0.00           H  \nATOM    277 HG22 THR A  18      23.229  -0.524 -23.294  1.00  0.00           H  \nATOM    278 HG23 THR A  18      23.787  -0.629 -21.629  1.00  0.00           H  \nATOM    279 HG1  THR A  18      23.746  -4.243 -21.794  1.00  0.00           H  \nATOM    280  N   TYR A  19      20.610  -4.372 -20.866  1.00  0.00           N  \nATOM    281  CA  TYR A  19      19.803  -5.572 -20.666  1.00  0.00           C  \nATOM    282  C   TYR A  19      19.293  -5.593 -19.214  1.00  0.00           C  \nATOM    283  O   TYR A  19      19.930  -5.024 -18.327  1.00  0.00           O  \nATOM    284  CB  TYR A  19      20.590  -6.845 -21.087  1.00  0.00           C  \nATOM    285  CG  TYR A  19      20.035  -8.166 -20.586  1.00  0.00           C  \nATOM    286 CD1  TYR A  19      20.457  -8.689 -19.343  1.00  0.00           C  \nATOM    287 CD2  TYR A  19      19.053  -8.842 -21.336  1.00  0.00           C  \nATOM    288 CE1  TYR A  19      19.872  -9.866 -18.840  1.00  0.00           C  \nATOM    289 CE2  TYR A  19      18.482 -10.028 -20.841  1.00  0.00           C  \nATOM    290  CZ  TYR A  19      18.883 -10.534 -19.590  1.00  0.00           C  \nATOM    291  OH  TYR A  19      18.298 -11.666 -19.107  1.00  0.00           O  \nATOM    292  H   TYR A  19      20.870  -3.896 -20.013  1.00  0.00           H  \nATOM    293  HA  TYR A  19      18.931  -5.494 -21.314  1.00  0.00           H  \nATOM    294 HB3  TYR A  19      21.611  -6.798 -20.729  1.00  0.00           H  \nATOM    295 HB2  TYR A  19      20.675  -6.886 -22.174  1.00  0.00           H  \nATOM    296 HD1  TYR A  19      21.202  -8.172 -18.758  1.00  0.00           H  \nATOM    297 HD2  TYR A  19      18.721  -8.441 -22.283  1.00  0.00           H  \nATOM    298 HE1  TYR A  19      20.180 -10.249 -17.878  1.00  0.00           H  \nATOM    299 HE2  TYR A  19      17.720 -10.538 -21.412  1.00  0.00           H  \nATOM    300  HH  TYR A  19      18.439 -11.774 -18.155  1.00  0.00           H  \nATOM    301  N   CYS A  20      18.173  -6.299 -18.996  1.00  0.00           N  \nATOM    302  CA  CYS A  20      17.659  -6.643 -17.675  1.00  0.00           C  \nATOM    303  C   CYS A  20      16.803  -7.918 -17.787  1.00  0.00           C  \nATOM    304  O   CYS A  20      16.070  -8.060 -18.766  1.00  0.00           O  \nATOM    305  CB  CYS A  20      16.912  -5.455 -17.027  1.00  0.00           C  \nATOM    306  SG  CYS A  20      16.519  -5.781 -15.289  1.00  0.00           S  \nATOM    307  H   CYS A  20      17.692  -6.725 -19.777  1.00  0.00           H  \nATOM    308  HA  CYS A  20      18.508  -6.897 -17.045  1.00  0.00           H  \nATOM    309 HB3  CYS A  20      15.993  -5.226 -17.565  1.00  0.00           H  \nATOM    310 HB2  CYS A  20      17.525  -4.555 -17.057  1.00  0.00           H  \nATOM    311  HG  CYS A  20      15.621  -6.745 -15.524  1.00  0.00           H  \nATOM    312  N   ASP A  21      16.884  -8.808 -16.777  1.00  0.00           N  \nATOM    313  CA  ASP A  21      15.961  -9.941 -16.608  1.00  0.00           C  \nATOM    314  C   ASP A  21      14.514  -9.468 -16.418  1.00  0.00           C  \nATOM    315  O   ASP A  21      14.286  -8.471 -15.731  1.00  0.00           O  \nATOM    316  CG  ASP A  21      17.634 -11.567 -15.376  1.00  0.00           C  \nATOM    317 OD1  ASP A  21      18.337 -11.561 -16.407  1.00  0.00           O  \nATOM    318 OD2  ASP A  21      17.921 -12.161 -14.315  1.00  0.00           O1-\nATOM    319  CB  ASP A  21      16.276 -10.869 -15.405  1.00  0.00           C  \nATOM    320  H   ASP A  21      17.538  -8.652 -16.020  1.00  0.00           H  \nATOM    321  HA  ASP A  21      16.011 -10.535 -17.523  1.00  0.00           H  \nATOM    322 HB3  ASP A  21      15.519 -11.653 -15.344  1.00  0.00           H  \nATOM    323 HB2  ASP A  21      16.205 -10.269 -14.501  1.00  0.00           H  \nATOM    324  N   ASP A  22      13.570 -10.257 -16.956  1.00  0.00           N  \nATOM    325  CA  ASP A  22      12.122 -10.122 -16.746  1.00  0.00           C  \nATOM    326  C   ASP A  22      11.685 -10.268 -15.273  1.00  0.00           C  \nATOM    327  O   ASP A  22      10.598  -9.802 -14.936  1.00  0.00           O  \nATOM    328  CB  ASP A  22      11.292 -11.091 -17.626  1.00  0.00           C  \nATOM    329  CG  ASP A  22      11.640 -11.099 -19.119  1.00  0.00           C  \nATOM    330 OD1  ASP A  22      12.071 -10.042 -19.630  1.00  0.00           O  \nATOM    331 OD2  ASP A  22      11.377 -12.147 -19.748  1.00  0.00           O1-\nATOM    332  H   ASP A  22      13.852 -11.039 -17.529  1.00  0.00           H  \nATOM    333  HA  ASP A  22      11.854  -9.104 -17.035  1.00  0.00           H  \nATOM    334 HB3  ASP A  22      10.229 -10.860 -17.535  1.00  0.00           H  \nATOM    335 HB2  ASP A  22      11.437 -12.104 -17.247  1.00  0.00           H  \nATOM    336  N   ARG A  23      12.536 -10.871 -14.420  1.00  0.00           N  \nATOM    337  CA  ARG A  23      12.335 -11.026 -12.976  1.00  0.00           C  \nATOM    338  C   ARG A  23      12.170  -9.683 -12.222  1.00  0.00           C  \nATOM    339  O   ARG A  23      11.502  -9.667 -11.191  1.00  0.00           O  \nATOM    340  CB  ARG A  23      13.495 -11.870 -12.392  1.00  0.00           C  \nATOM    341  CG  ARG A  23      13.297 -12.299 -10.918  1.00  0.00           C  \nATOM    342  CD  ARG A  23      12.769 -13.727 -10.718  1.00  0.00           C  \nATOM    343  NE  ARG A  23      13.856 -14.717 -10.771  1.00  0.00           N  \nATOM    344  CZ  ARG A  23      13.715 -16.042 -10.941  1.00  0.00           C  \nATOM    345 NH1  ARG A  23      12.521 -16.588 -11.212  1.00  0.00           N  \nATOM    346 NH2  ARG A  23      14.790 -16.830 -10.816  1.00  0.00           N1+\nATOM    347  H   ARG A  23      13.411 -11.220 -14.781  1.00  0.00           H  \nATOM    348  HA  ARG A  23      11.407 -11.585 -12.840  1.00  0.00           H  \nATOM    349 HB3  ARG A  23      14.402 -11.271 -12.467  1.00  0.00           H  \nATOM    350 HB2  ARG A  23      13.686 -12.750 -13.008  1.00  0.00           H  \nATOM    351 HG2  ARG A  23      12.742 -11.591 -10.312  1.00  0.00           H  \nATOM    352 HG3  ARG A  23      14.297 -12.289 -10.487  1.00  0.00           H  \nATOM    353 HD2  ARG A  23      12.123 -13.956 -11.566  1.00  0.00           H  \nATOM    354 HD3  ARG A  23      12.153 -13.827  -9.825  1.00  0.00           H  \nATOM    355  HE  ARG A  23      14.773 -14.366 -10.529  1.00  0.00           H  \nATOM    356 HH11 ARG A  23      12.425 -17.586 -11.333  1.00  0.00           H  \nATOM    357 HH12 ARG A  23      11.704 -15.997 -11.286  1.00  0.00           H  \nATOM    358 HH21 ARG A  23      14.712 -17.833 -10.901  1.00  0.00           H  \nATOM    359 HH22 ARG A  23      15.682 -16.441 -10.542  1.00  0.00           H  \nATOM    360  N   ILE A  24      12.717  -8.568 -12.749  1.00  0.00           N  \nATOM    361  CA  ILE A  24      12.524  -7.229 -12.173  1.00  0.00           C  \nATOM    362  C   ILE A  24      11.045  -6.758 -12.187  1.00  0.00           C  \nATOM    363  O   ILE A  24      10.683  -5.927 -11.357  1.00  0.00           O  \nATOM    364  CB  ILE A  24      13.417  -6.155 -12.872  1.00  0.00           C  \nATOM    365 CG1  ILE A  24      13.570  -4.882 -12.000  1.00  0.00           C  \nATOM    366 CG2  ILE A  24      12.940  -5.777 -14.290  1.00  0.00           C  \nATOM    367 CD1  ILE A  24      14.584  -3.850 -12.511  1.00  0.00           C  \nATOM    368  H   ILE A  24      13.244  -8.621 -13.610  1.00  0.00           H  \nATOM    369  HA  ILE A  24      12.831  -7.293 -11.127  1.00  0.00           H  \nATOM    370  HB  ILE A  24      14.408  -6.599 -12.976  1.00  0.00           H  \nATOM    371 HG13 ILE A  24      13.846  -5.171 -10.985  1.00  0.00           H  \nATOM    372 HG12 ILE A  24      12.612  -4.373 -11.918  1.00  0.00           H  \nATOM    373 HG21 ILE A  24      13.708  -5.242 -14.845  1.00  0.00           H  \nATOM    374 HG22 ILE A  24      12.663  -6.653 -14.876  1.00  0.00           H  \nATOM    375 HG23 ILE A  24      12.078  -5.120 -14.245  1.00  0.00           H  \nATOM    376 HD11 ILE A  24      15.085  -3.351 -11.682  1.00  0.00           H  \nATOM    377 HD12 ILE A  24      15.354  -4.303 -13.131  1.00  0.00           H  \nATOM    378 HD13 ILE A  24      14.086  -3.081 -13.101  1.00  0.00           H  \nATOM    379  N   THR A  25      10.212  -7.311 -13.087  1.00  0.00           N  \nATOM    380  CA  THR A  25       8.794  -6.974 -13.215  1.00  0.00           C  \nATOM    381  C   THR A  25       7.931  -7.463 -12.033  1.00  0.00           C  \nATOM    382  O   THR A  25       7.090  -6.700 -11.561  1.00  0.00           O  \nATOM    383 OG1  THR A  25       9.016  -7.195 -15.623  1.00  0.00           O  \nATOM    384  CB  THR A  25       8.176  -7.515 -14.532  1.00  0.00           C  \nATOM    385 CG2  THR A  25       6.776  -6.959 -14.851  1.00  0.00           C  \nATOM    386  H   THR A  25      10.561  -7.997 -13.745  1.00  0.00           H  \nATOM    387  HA  THR A  25       8.719  -5.886 -13.231  1.00  0.00           H  \nATOM    388  HB  THR A  25       8.118  -8.604 -14.488  1.00  0.00           H  \nATOM    389 HG21 THR A  25       6.420  -7.331 -15.812  1.00  0.00           H  \nATOM    390 HG22 THR A  25       6.040  -7.253 -14.103  1.00  0.00           H  \nATOM    391 HG23 THR A  25       6.785  -5.869 -14.901  1.00  0.00           H  \nATOM    392 HG1  THR A  25       9.168  -6.244 -15.619  1.00  0.00           H  \nATOM    393  N   GLU A  26       8.175  -8.690 -11.537  1.00  0.00           N  \nATOM    394  CA  GLU A  26       7.460  -9.263 -10.386  1.00  0.00           C  \nATOM    395  C   GLU A  26       7.961  -8.715  -9.029  1.00  0.00           C  \nATOM    396  O   GLU A  26       7.327  -9.000  -8.014  1.00  0.00           O  \nATOM    397 OE2  GLU A  26       8.675 -13.272 -11.478  1.00  0.00           O1-\nATOM    398  CB  GLU A  26       7.516 -10.810 -10.484  1.00  0.00           C  \nATOM    399  CG  GLU A  26       8.792 -11.475  -9.914  1.00  0.00           C  \nATOM    400  CD  GLU A  26       8.972 -12.943 -10.309  1.00  0.00           C  \nATOM    401 OE1  GLU A  26       9.455 -13.709  -9.447  1.00  0.00           O  \nATOM    402  H   GLU A  26       8.901  -9.264 -11.944  1.00  0.00           H  \nATOM    403  HA  GLU A  26       6.410  -8.976 -10.476  1.00  0.00           H  \nATOM    404 HB2  GLU A  26       7.379 -11.093 -11.529  1.00  0.00           H  \nATOM    405 HB3  GLU A  26       6.650 -11.223  -9.965  1.00  0.00           H  \nATOM    406 HG3  GLU A  26       8.807 -11.400  -8.826  1.00  0.00           H  \nATOM    407 HG2  GLU A  26       9.669 -10.949 -10.270  1.00  0.00           H  \nATOM    408  N   LEU A  27       9.074  -7.958  -9.034  1.00  0.00           N  \nATOM    409  CA  LEU A  27       9.742  -7.441  -7.840  1.00  0.00           C  \nATOM    410  C   LEU A  27       9.573  -5.922  -7.675  1.00  0.00           C  \nATOM    411  O   LEU A  27       9.321  -5.477  -6.556  1.00  0.00           O  \nATOM    412  CB  LEU A  27      11.246  -7.790  -7.922  1.00  0.00           C  \nATOM    413  CG  LEU A  27      11.604  -9.284  -7.758  1.00  0.00           C  \nATOM    414 CD1  LEU A  27      13.060  -9.554  -8.176  1.00  0.00           C  \nATOM    415 CD2  LEU A  27      11.336  -9.801  -6.334  1.00  0.00           C  \nATOM    416  H   LEU A  27       9.536  -7.780  -9.914  1.00  0.00           H  \nATOM    417  HA  LEU A  27       9.311  -7.891  -6.947  1.00  0.00           H  \nATOM    418 HB3  LEU A  27      11.790  -7.228  -7.162  1.00  0.00           H  \nATOM    419 HB2  LEU A  27      11.630  -7.433  -8.880  1.00  0.00           H  \nATOM    420  HG  LEU A  27      10.971  -9.851  -8.439  1.00  0.00           H  \nATOM    421 HD11 LEU A  27      13.217 -10.611  -8.378  1.00  0.00           H  \nATOM    422 HD12 LEU A  27      13.335  -9.005  -9.077  1.00  0.00           H  \nATOM    423 HD13 LEU A  27      13.766  -9.275  -7.397  1.00  0.00           H  \nATOM    424 HD21 LEU A  27      11.272 -10.889  -6.322  1.00  0.00           H  \nATOM    425 HD22 LEU A  27      12.134  -9.498  -5.658  1.00  0.00           H  \nATOM    426 HD23 LEU A  27      10.405  -9.427  -5.912  1.00  0.00           H  \nATOM    427  N   ILE A  28       9.770  -5.156  -8.762  1.00  0.00           N  \nATOM    428  CA  ILE A  28       9.882  -3.691  -8.734  1.00  0.00           C  \nATOM    429  C   ILE A  28       8.902  -3.028  -9.736  1.00  0.00           C  \nATOM    430  O   ILE A  28       8.595  -1.845  -9.579  1.00  0.00           O  \nATOM    431 CG1  ILE A  28      12.374  -4.004  -8.145  1.00  0.00           C  \nATOM    432 CG2  ILE A  28      11.544  -1.708  -8.802  1.00  0.00           C  \nATOM    433 CD1  ILE A  28      13.846  -3.637  -8.371  1.00  0.00           C  \nATOM    434  CB  ILE A  28      11.351  -3.225  -9.016  1.00  0.00           C  \nATOM    435  H   ILE A  28       9.999  -5.595  -9.644  1.00  0.00           H  \nATOM    436  HA  ILE A  28       9.597  -3.315  -7.749  1.00  0.00           H  \nATOM    437  HB  ILE A  28      11.581  -3.441 -10.060  1.00  0.00           H  \nATOM    438 HG13 ILE A  28      12.290  -5.074  -8.325  1.00  0.00           H  \nATOM    439 HG12 ILE A  28      12.132  -3.855  -7.092  1.00  0.00           H  \nATOM    440 HG21 ILE A  28      12.571  -1.397  -8.977  1.00  0.00           H  \nATOM    441 HG22 ILE A  28      10.944  -1.114  -9.487  1.00  0.00           H  \nATOM    442 HG23 ILE A  28      11.285  -1.418  -7.784  1.00  0.00           H  \nATOM    443 HD11 ILE A  28      14.488  -4.499  -8.196  1.00  0.00           H  \nATOM    444 HD12 ILE A  28      14.024  -3.303  -9.392  1.00  0.00           H  \nATOM    445 HD13 ILE A  28      14.163  -2.846  -7.691  1.00  0.00           H  \nATOM    446  N   GLY A  29       8.363  -3.807 -10.692  1.00  0.00           N  \nATOM    447  CA  GLY A  29       7.242  -3.420 -11.552  1.00  0.00           C  \nATOM    448  C   GLY A  29       7.673  -3.003 -12.964  1.00  0.00           C  \nATOM    449  O   GLY A  29       6.819  -2.985 -13.851  1.00  0.00           O  \nATOM    450  H   GLY A  29       8.661  -4.769 -10.759  1.00  0.00           H  \nATOM    451 HA2  GLY A  29       6.655  -2.620 -11.104  1.00  0.00           H  \nATOM    452 HA3  GLY A  29       6.558  -4.262 -11.637  1.00  0.00           H  \nATOM    453  N   TYR A  30       8.958  -2.677 -13.196  1.00  0.00           N  \nATOM    454  CA  TYR A  30       9.467  -2.269 -14.510  1.00  0.00           C  \nATOM    455  C   TYR A  30       9.505  -3.436 -15.501  1.00  0.00           C  \nATOM    456  O   TYR A  30       9.877  -4.543 -15.123  1.00  0.00           O  \nATOM    457  CB  TYR A  30      10.884  -1.680 -14.374  1.00  0.00           C  \nATOM    458  CG  TYR A  30      10.943  -0.384 -13.595  1.00  0.00           C  \nATOM    459 CD1  TYR A  30      10.465   0.807 -14.177  1.00  0.00           C  \nATOM    460 CD2  TYR A  30      11.465  -0.366 -12.288  1.00  0.00           C  \nATOM    461 CE1  TYR A  30      10.489   2.010 -13.450  1.00  0.00           C  \nATOM    462 CE2  TYR A  30      11.494   0.838 -11.563  1.00  0.00           C  \nATOM    463  CZ  TYR A  30      11.003   2.027 -12.141  1.00  0.00           C  \nATOM    464  OH  TYR A  30      11.018   3.198 -11.444  1.00  0.00           O  \nATOM    465  H   TYR A  30       9.628  -2.715 -12.442  1.00  0.00           H  \nATOM    466  HA  TYR A  30       8.803  -1.495 -14.902  1.00  0.00           H  \nATOM    467 HB3  TYR A  30      11.294  -1.474 -15.365  1.00  0.00           H  \nATOM    468 HB2  TYR A  30      11.557  -2.410 -13.921  1.00  0.00           H  \nATOM    469 HD1  TYR A  30      10.068   0.798 -15.179  1.00  0.00           H  \nATOM    470 HD2  TYR A  30      11.838  -1.273 -11.835  1.00  0.00           H  \nATOM    471 HE1  TYR A  30      10.111   2.918 -13.898  1.00  0.00           H  \nATOM    472 HE2  TYR A  30      11.897   0.833 -10.563  1.00  0.00           H  \nATOM    473  HH  TYR A  30      11.366   3.092 -10.552  1.00  0.00           H  \nATOM    474  N   HIS A  31       9.189  -3.140 -16.765  1.00  0.00           N  \nATOM    475  CA  HIS A  31       9.452  -4.018 -17.899  1.00  0.00           C  \nATOM    476  C   HIS A  31      10.853  -3.679 -18.451  1.00  0.00           C  \nATOM    477  O   HIS A  31      11.111  -2.494 -18.659  1.00  0.00           O  \nATOM    478 CE1  HIS A  31       5.097  -4.880 -17.839  1.00  0.00           C  \nATOM    479 NE2  HIS A  31       5.536  -6.060 -18.279  1.00  0.00           N  \nATOM    480  CB  HIS A  31       8.352  -3.780 -18.944  1.00  0.00           C  \nATOM    481  CG  HIS A  31       7.081  -4.515 -18.608  1.00  0.00           C  \nATOM    482 CD2  HIS A  31       6.807  -5.856 -18.781  1.00  0.00           C  \nATOM    483 ND1  HIS A  31       5.977  -3.901 -18.005  1.00  0.00           N  \nATOM    484  H   HIS A  31       8.878  -2.202 -16.998  1.00  0.00           H  \nATOM    485  HA  HIS A  31       9.382  -5.056 -17.584  1.00  0.00           H  \nATOM    486 HB3  HIS A  31       8.675  -4.139 -19.917  1.00  0.00           H  \nATOM    487 HB2  HIS A  31       8.143  -2.716 -19.068  1.00  0.00           H  \nATOM    488 HD2  HIS A  31       7.402  -6.654 -19.200  1.00  0.00           H  \nATOM    489 HE1  HIS A  31       4.126  -4.735 -17.388  1.00  0.00           H  \nATOM    490 HE2  HIS A  31       5.033  -6.936 -18.251  1.00  0.00           H  \nATOM    491  N   PRO A  32      11.747  -4.682 -18.646  1.00  0.00           N  \nATOM    492  CA  PRO A  32      13.130  -4.465 -19.131  1.00  0.00           C  \nATOM    493  C   PRO A  32      13.340  -3.544 -20.343  1.00  0.00           C  \nATOM    494  O   PRO A  32      14.301  -2.780 -20.338  1.00  0.00           O  \nATOM    495  CB  PRO A  32      13.628  -5.877 -19.446  1.00  0.00           C  \nATOM    496  CG  PRO A  32      12.918  -6.737 -18.426  1.00  0.00           C  \nATOM    497  CD  PRO A  32      11.537  -6.101 -18.339  1.00  0.00           C  \nATOM    498  HA  PRO A  32      13.697  -4.065 -18.288  1.00  0.00           H  \nATOM    499 HB2  PRO A  32      14.712  -5.958 -19.388  1.00  0.00           H  \nATOM    500 HB3  PRO A  32      13.326  -6.186 -20.448  1.00  0.00           H  \nATOM    501 HG3  PRO A  32      13.423  -6.639 -17.465  1.00  0.00           H  \nATOM    502 HG2  PRO A  32      12.901  -7.792 -18.693  1.00  0.00           H  \nATOM    503 HD3  PRO A  32      10.863  -6.532 -19.081  1.00  0.00           H  \nATOM    504 HD2  PRO A  32      11.123  -6.272 -17.345  1.00  0.00           H  \nATOM    505  N   GLU A  33      12.431  -3.608 -21.331  1.00  0.00           N  \nATOM    506  CA  GLU A  33      12.409  -2.765 -22.526  1.00  0.00           C  \nATOM    507  C   GLU A  33      12.291  -1.255 -22.231  1.00  0.00           C  \nATOM    508  O   GLU A  33      12.907  -0.462 -22.943  1.00  0.00           O  \nATOM    509 OE2  GLU A  33       8.428  -5.268 -22.874  1.00  0.00           O1-\nATOM    510  CB  GLU A  33      11.312  -3.245 -23.508  1.00  0.00           C  \nATOM    511  CG  GLU A  33       9.867  -3.379 -22.959  1.00  0.00           C  \nATOM    512  CD  GLU A  33       9.503  -4.783 -22.458  1.00  0.00           C  \nATOM    513 OE1  GLU A  33      10.278  -5.343 -21.653  1.00  0.00           O  \nATOM    514  H   GLU A  33      11.677  -4.286 -21.271  1.00  0.00           H  \nATOM    515  HA  GLU A  33      13.369  -2.905 -23.025  1.00  0.00           H  \nATOM    516 HB2  GLU A  33      11.626  -4.196 -23.943  1.00  0.00           H  \nATOM    517 HB3  GLU A  33      11.285  -2.557 -24.355  1.00  0.00           H  \nATOM    518 HG3  GLU A  33       9.171  -3.124 -23.759  1.00  0.00           H  \nATOM    519 HG2  GLU A  33       9.676  -2.661 -22.162  1.00  0.00           H  \nATOM    520  N   GLU A  34      11.548  -0.895 -21.169  1.00  0.00           N  \nATOM    521  CA  GLU A  34      11.372   0.477 -20.690  1.00  0.00           C  \nATOM    522  C   GLU A  34      12.609   1.014 -19.941  1.00  0.00           C  \nATOM    523  O   GLU A  34      12.728   2.232 -19.815  1.00  0.00           O  \nATOM    524  CG  GLU A  34      10.188   0.666 -18.328  1.00  0.00           C  \nATOM    525  CD  GLU A  34       8.824   0.673 -17.653  1.00  0.00           C  \nATOM    526 OE1  GLU A  34       8.314   1.792 -17.433  1.00  0.00           O  \nATOM    527 OE2  GLU A  34       8.315  -0.427 -17.349  1.00  0.00           O1-\nATOM    528  CB  GLU A  34      10.057   0.555 -19.865  1.00  0.00           C  \nATOM    529  H   GLU A  34      11.103  -1.614 -20.614  1.00  0.00           H  \nATOM    530  HA  GLU A  34      11.238   1.106 -21.573  1.00  0.00           H  \nATOM    531 HB2  GLU A  34       9.427  -0.307 -20.096  1.00  0.00           H  \nATOM    532 HB3  GLU A  34       9.489   1.416 -20.221  1.00  0.00           H  \nATOM    533 HG3  GLU A  34      10.697   1.590 -18.049  1.00  0.00           H  \nATOM    534 HG2  GLU A  34      10.783  -0.145 -17.914  1.00  0.00           H  \nATOM    535  N   LEU A  35      13.487   0.120 -19.449  1.00  0.00           N  \nATOM    536  CA  LEU A  35      14.714   0.491 -18.743  1.00  0.00           C  \nATOM    537  C   LEU A  35      15.854   0.882 -19.695  1.00  0.00           C  \nATOM    538  O   LEU A  35      16.684   1.690 -19.285  1.00  0.00           O  \nATOM    539 CD1  LEU A  35      14.764  -2.250 -15.899  1.00  0.00           C  \nATOM    540 CD2  LEU A  35      14.038   0.189 -15.697  1.00  0.00           C  \nATOM    541  CB  LEU A  35      15.188  -0.659 -17.824  1.00  0.00           C  \nATOM    542  CG  LEU A  35      14.249  -1.005 -16.650  1.00  0.00           C  \nATOM    543  H   LEU A  35      13.325  -0.869 -19.584  1.00  0.00           H  \nATOM    544  HA  LEU A  35      14.507   1.365 -18.123  1.00  0.00           H  \nATOM    545 HB3  LEU A  35      16.159  -0.398 -17.401  1.00  0.00           H  \nATOM    546 HB2  LEU A  35      15.370  -1.550 -18.424  1.00  0.00           H  \nATOM    547  HG  LEU A  35      13.278  -1.272 -17.069  1.00  0.00           H  \nATOM    548 HD11 LEU A  35      15.197  -2.001 -14.931  1.00  0.00           H  \nATOM    549 HD12 LEU A  35      13.954  -2.960 -15.730  1.00  0.00           H  \nATOM    550 HD13 LEU A  35      15.538  -2.777 -16.458  1.00  0.00           H  \nATOM    551 HD21 LEU A  35      13.996  -0.115 -14.650  1.00  0.00           H  \nATOM    552 HD22 LEU A  35      14.839   0.923 -15.786  1.00  0.00           H  \nATOM    553 HD23 LEU A  35      13.099   0.697 -15.917  1.00  0.00           H  \nATOM    554  N   LEU A  36      15.910   0.302 -20.909  1.00  0.00           N  \nATOM    555  CA  LEU A  36      17.061   0.431 -21.812  1.00  0.00           C  \nATOM    556  C   LEU A  36      17.307   1.874 -22.286  1.00  0.00           C  \nATOM    557  O   LEU A  36      16.356   2.596 -22.584  1.00  0.00           O  \nATOM    558  CB  LEU A  36      16.935  -0.514 -23.028  1.00  0.00           C  \nATOM    559  CG  LEU A  36      16.638  -1.995 -22.708  1.00  0.00           C  \nATOM    560 CD1  LEU A  36      16.694  -2.858 -23.985  1.00  0.00           C  \nATOM    561 CD2  LEU A  36      17.521  -2.579 -21.590  1.00  0.00           C  \nATOM    562  H   LEU A  36      15.181  -0.337 -21.195  1.00  0.00           H  \nATOM    563  HA  LEU A  36      17.927   0.121 -21.232  1.00  0.00           H  \nATOM    564 HB2  LEU A  36      17.866  -0.462 -23.596  1.00  0.00           H  \nATOM    565 HB3  LEU A  36      16.156  -0.144 -23.696  1.00  0.00           H  \nATOM    566  HG  LEU A  36      15.607  -2.036 -22.362  1.00  0.00           H  \nATOM    567 HD11 LEU A  36      15.795  -3.469 -24.076  1.00  0.00           H  \nATOM    568 HD12 LEU A  36      16.762  -2.250 -24.888  1.00  0.00           H  \nATOM    569 HD13 LEU A  36      17.550  -3.534 -23.989  1.00  0.00           H  \nATOM    570 HD21 LEU A  36      17.659  -3.653 -21.708  1.00  0.00           H  \nATOM    571 HD22 LEU A  36      18.508  -2.120 -21.575  1.00  0.00           H  \nATOM    572 HD23 LEU A  36      17.068  -2.425 -20.611  1.00  0.00           H  \nATOM    573  N   GLY A  37      18.595   2.252 -22.338  1.00  0.00           N  \nATOM    574  CA  GLY A  37      19.060   3.580 -22.742  1.00  0.00           C  \nATOM    575  C   GLY A  37      18.942   4.630 -21.623  1.00  0.00           C  \nATOM    576  O   GLY A  37      19.366   5.766 -21.834  1.00  0.00           O  \nATOM    577  H   GLY A  37      19.308   1.587 -22.066  1.00  0.00           H  \nATOM    578 HA2  GLY A  37      18.510   3.923 -23.619  1.00  0.00           H  \nATOM    579 HA3  GLY A  37      20.106   3.496 -23.037  1.00  0.00           H  \nATOM    580  N   ARG A  38      18.389   4.270 -20.452  1.00  0.00           N  \nATOM    581  CA  ARG A  38      18.230   5.145 -19.293  1.00  0.00           C  \nATOM    582  C   ARG A  38      19.287   4.791 -18.254  1.00  0.00           C  \nATOM    583  O   ARG A  38      19.496   3.607 -17.989  1.00  0.00           O  \nATOM    584  CB  ARG A  38      16.840   4.938 -18.675  1.00  0.00           C  \nATOM    585  CG  ARG A  38      15.687   5.259 -19.637  1.00  0.00           C  \nATOM    586  CD  ARG A  38      14.326   4.899 -19.039  1.00  0.00           C  \nATOM    587  NE  ARG A  38      14.007   5.731 -17.876  1.00  0.00           N  \nATOM    588  CZ  ARG A  38      13.003   5.510 -17.015  1.00  0.00           C  \nATOM    589 NH1  ARG A  38      12.150   4.487 -17.181  1.00  0.00           N  \nATOM    590 NH2  ARG A  38      12.868   6.338 -15.973  1.00  0.00           N1+\nATOM    591  H   ARG A  38      18.058   3.323 -20.333  1.00  0.00           H  \nATOM    592  HA  ARG A  38      18.331   6.194 -19.577  1.00  0.00           H  \nATOM    593 HB2  ARG A  38      16.743   5.551 -17.780  1.00  0.00           H  \nATOM    594 HB3  ARG A  38      16.745   3.915 -18.318  1.00  0.00           H  \nATOM    595 HG3  ARG A  38      15.788   4.766 -20.604  1.00  0.00           H  \nATOM    596 HG2  ARG A  38      15.723   6.331 -19.835  1.00  0.00           H  \nATOM    597 HD2  ARG A  38      14.399   3.886 -18.645  1.00  0.00           H  \nATOM    598 HD3  ARG A  38      13.534   4.891 -19.788  1.00  0.00           H  \nATOM    599  HE  ARG A  38      14.620   6.522 -17.696  1.00  0.00           H  \nATOM    600 HH11 ARG A  38      11.393   4.333 -16.531  1.00  0.00           H  \nATOM    601 HH12 ARG A  38      12.256   3.867 -17.973  1.00  0.00           H  \nATOM    602 HH21 ARG A  38      12.132   6.213 -15.294  1.00  0.00           H  \nATOM    603 HH22 ARG A  38      13.540   7.088 -15.854  1.00  0.00           H  \nATOM    604  N   SER A  39      19.900   5.828 -17.663  1.00  0.00           N  \nATOM    605  CA  SER A  39      20.879   5.693 -16.590  1.00  0.00           C  \nATOM    606  C   SER A  39      20.241   5.071 -15.339  1.00  0.00           C  \nATOM    607  O   SER A  39      19.141   5.472 -14.957  1.00  0.00           O  \nATOM    608  CB  SER A  39      21.501   7.073 -16.299  1.00  0.00           C  \nATOM    609  OG  SER A  39      22.580   6.969 -15.392  1.00  0.00           O  \nATOM    610  H   SER A  39      19.624   6.770 -17.904  1.00  0.00           H  \nATOM    611  HA  SER A  39      21.682   5.046 -16.935  1.00  0.00           H  \nATOM    612 HB3  SER A  39      20.760   7.761 -15.891  1.00  0.00           H  \nATOM    613 HB2  SER A  39      21.878   7.519 -17.220  1.00  0.00           H  \nATOM    614  HG  SER A  39      23.364   6.697 -15.877  1.00  0.00           H  \nATOM    615  N   ALA A  40      20.987   4.160 -14.691  1.00  0.00           N  \nATOM    616  CA  ALA A  40      20.722   3.626 -13.350  1.00  0.00           C  \nATOM    617  C   ALA A  40      20.537   4.716 -12.275  1.00  0.00           C  \nATOM    618  O   ALA A  40      19.858   4.483 -11.274  1.00  0.00           O  \nATOM    619  CB  ALA A  40      21.911   2.734 -12.975  1.00  0.00           C  \nATOM    620  H   ALA A  40      21.863   3.868 -15.103  1.00  0.00           H  \nATOM    621  HA  ALA A  40      19.818   3.018 -13.388  1.00  0.00           H  \nATOM    622 HB1  ALA A  40      21.844   2.382 -11.952  1.00  0.00           H  \nATOM    623 HB2  ALA A  40      21.981   1.863 -13.626  1.00  0.00           H  \nATOM    624 HB3  ALA A  40      22.847   3.284 -13.045  1.00  0.00           H  \nATOM    625  N   TYR A  41      21.131   5.890 -12.540  1.00  0.00           N  \nATOM    626  CA  TYR A  41      21.101   7.090 -11.723  1.00  0.00           C  \nATOM    627  C   TYR A  41      19.732   7.789 -11.660  1.00  0.00           C  \nATOM    628  O   TYR A  41      19.459   8.433 -10.648  1.00  0.00           O  \nATOM    629  CB  TYR A  41      22.197   8.044 -12.228  1.00  0.00           C  \nATOM    630  CG  TYR A  41      22.973   8.657 -11.090  1.00  0.00           C  \nATOM    631 CD1  TYR A  41      22.442   9.746 -10.374  1.00  0.00           C  \nATOM    632 CD2  TYR A  41      24.202   8.087 -10.705  1.00  0.00           C  \nATOM    633 CE1  TYR A  41      23.145  10.270  -9.277  1.00  0.00           C  \nATOM    634 CE2  TYR A  41      24.908   8.611  -9.609  1.00  0.00           C  \nATOM    635  CZ  TYR A  41      24.382   9.712  -8.906  1.00  0.00           C  \nATOM    636  OH  TYR A  41      25.080  10.260  -7.874  1.00  0.00           O  \nATOM    637  H   TYR A  41      21.655   5.974 -13.401  1.00  0.00           H  \nATOM    638  HA  TYR A  41      21.338   6.778 -10.709  1.00  0.00           H  \nATOM    639 HB3  TYR A  41      21.798   8.819 -12.885  1.00  0.00           H  \nATOM    640 HB2  TYR A  41      22.925   7.501 -12.832  1.00  0.00           H  \nATOM    641 HD1  TYR A  41      21.495  10.179 -10.660  1.00  0.00           H  \nATOM    642 HD2  TYR A  41      24.601   7.239 -11.238  1.00  0.00           H  \nATOM    643 HE1  TYR A  41      22.737  11.109  -8.732  1.00  0.00           H  \nATOM    644 HE2  TYR A  41      25.850   8.170  -9.320  1.00  0.00           H  \nATOM    645  HH  TYR A  41      24.675  11.053  -7.516  1.00  0.00           H  \nATOM    646  N   GLU A  42      18.881   7.620 -12.692  1.00  0.00           N  \nATOM    647  CA  GLU A  42      17.487   8.093 -12.697  1.00  0.00           C  \nATOM    648  C   GLU A  42      16.625   7.459 -11.589  1.00  0.00           C  \nATOM    649  O   GLU A  42      15.619   8.050 -11.198  1.00  0.00           O  \nATOM    650  CG  GLU A  42      17.424   8.510 -15.270  1.00  0.00           C  \nATOM    651  CD  GLU A  42      16.705   8.175 -16.584  1.00  0.00           C  \nATOM    652 OE1  GLU A  42      17.404   8.172 -17.621  1.00  0.00           O  \nATOM    653 OE2  GLU A  42      15.479   7.922 -16.543  1.00  0.00           O1-\nATOM    654  CB  GLU A  42      16.815   7.787 -14.055  1.00  0.00           C  \nATOM    655  H   GLU A  42      19.162   7.063 -13.488  1.00  0.00           H  \nATOM    656  HA  GLU A  42      17.491   9.173 -12.540  1.00  0.00           H  \nATOM    657 HB3  GLU A  42      15.758   8.049 -13.988  1.00  0.00           H  \nATOM    658 HB2  GLU A  42      16.837   6.712 -14.236  1.00  0.00           H  \nATOM    659 HG3  GLU A  42      18.477   8.250 -15.371  1.00  0.00           H  \nATOM    660 HG2  GLU A  42      17.380   9.590 -15.123  1.00  0.00           H  \nATOM    661  N   PHE A  43      17.024   6.257 -11.144  1.00  0.00           N  \nATOM    662  CA  PHE A  43      16.238   5.387 -10.284  1.00  0.00           C  \nATOM    663  C   PHE A  43      16.699   5.398  -8.819  1.00  0.00           C  \nATOM    664  O   PHE A  43      15.899   5.003  -7.974  1.00  0.00           O  \nATOM    665 CE2  PHE A  43      16.185   3.825 -14.664  1.00  0.00           C  \nATOM    666  CZ  PHE A  43      14.825   3.674 -14.891  1.00  0.00           C  \nATOM    667  CB  PHE A  43      16.303   3.961 -10.855  1.00  0.00           C  \nATOM    668  CG  PHE A  43      15.784   3.800 -12.272  1.00  0.00           C  \nATOM    669 CD1  PHE A  43      14.399   3.695 -12.519  1.00  0.00           C  \nATOM    670 CD2  PHE A  43      16.669   3.902 -13.366  1.00  0.00           C  \nATOM    671 CE1  PHE A  43      13.935   3.617 -13.825  1.00  0.00           C  \nATOM    672  H   PHE A  43      17.876   5.858 -11.512  1.00  0.00           H  \nATOM    673  HA  PHE A  43      15.193   5.703 -10.294  1.00  0.00           H  \nATOM    674 HB2  PHE A  43      15.720   3.300 -10.220  1.00  0.00           H  \nATOM    675 HB3  PHE A  43      17.328   3.592 -10.827  1.00  0.00           H  \nATOM    676 HD1  PHE A  43      13.702   3.665 -11.694  1.00  0.00           H  \nATOM    677 HD2  PHE A  43      17.725   4.037 -13.195  1.00  0.00           H  \nATOM    678 HE1  PHE A  43      12.877   3.516 -14.014  1.00  0.00           H  \nATOM    679 HE2  PHE A  43      16.869   3.888 -15.499  1.00  0.00           H  \nATOM    680  HZ  PHE A  43      14.458   3.608 -15.904  1.00  0.00           H  \nATOM    681  N   TYR A  44      17.935   5.840  -8.512  1.00  0.00           N  \nATOM    682  CA  TYR A  44      18.414   5.940  -7.127  1.00  0.00           C  \nATOM    683  C   TYR A  44      17.650   7.008  -6.335  1.00  0.00           C  \nATOM    684  O   TYR A  44      17.388   8.089  -6.864  1.00  0.00           O  \nATOM    685  CB  TYR A  44      19.924   6.273  -7.072  1.00  0.00           C  \nATOM    686  CG  TYR A  44      20.877   5.258  -7.678  1.00  0.00           C  \nATOM    687 CD1  TYR A  44      20.664   3.873  -7.517  1.00  0.00           C  \nATOM    688 CD2  TYR A  44      22.003   5.708  -8.397  1.00  0.00           C  \nATOM    689 CE1  TYR A  44      21.536   2.951  -8.122  1.00  0.00           C  \nATOM    690 CE2  TYR A  44      22.870   4.785  -9.011  1.00  0.00           C  \nATOM    691  CZ  TYR A  44      22.628   3.404  -8.883  1.00  0.00           C  \nATOM    692  OH  TYR A  44      23.451   2.504  -9.492  1.00  0.00           O  \nATOM    693  H   TYR A  44      18.557   6.166  -9.238  1.00  0.00           H  \nATOM    694  HA  TYR A  44      18.241   4.978  -6.646  1.00  0.00           H  \nATOM    695 HB2  TYR A  44      20.231   6.400  -6.032  1.00  0.00           H  \nATOM    696 HB3  TYR A  44      20.095   7.239  -7.551  1.00  0.00           H  \nATOM    697 HD1  TYR A  44      19.828   3.502  -6.945  1.00  0.00           H  \nATOM    698 HD2  TYR A  44      22.195   6.766  -8.502  1.00  0.00           H  \nATOM    699 HE1  TYR A  44      21.357   1.893  -8.008  1.00  0.00           H  \nATOM    700 HE2  TYR A  44      23.716   5.140  -9.581  1.00  0.00           H  \nATOM    701  HH  TYR A  44      23.195   1.592  -9.336  1.00  0.00           H  \nATOM    702  N   HIS A  45      17.385   6.702  -5.055  1.00  0.00           N  \nATOM    703  CA  HIS A  45      16.987   7.685  -4.049  1.00  0.00           C  \nATOM    704  C   HIS A  45      18.111   8.720  -3.857  1.00  0.00           C  \nATOM    705  O   HIS A  45      19.288   8.353  -3.880  1.00  0.00           O  \nATOM    706  CG  HIS A  45      15.951   7.758  -1.684  1.00  0.00           C  \nATOM    707 CD2  HIS A  45      14.648   7.645  -1.245  1.00  0.00           C  \nATOM    708 ND1  HIS A  45      16.572   8.787  -0.967  1.00  0.00           N  \nATOM    709 CE1  HIS A  45      15.628   9.271  -0.172  1.00  0.00           C  \nATOM    710 NE2  HIS A  45      14.468   8.627  -0.290  1.00  0.00           N  \nATOM    711  CB  HIS A  45      16.662   6.944  -2.737  1.00  0.00           C  \nATOM    712  H   HIS A  45      17.619   5.782  -4.707  1.00  0.00           H  \nATOM    713  HA  HIS A  45      16.084   8.179  -4.412  1.00  0.00           H  \nATOM    714 HB3  HIS A  45      17.572   6.537  -2.298  1.00  0.00           H  \nATOM    715 HB2  HIS A  45      16.022   6.093  -2.965  1.00  0.00           H  \nATOM    716 HD2  HIS A  45      13.857   6.971  -1.534  1.00  0.00           H  \nATOM    717 HE1  HIS A  45      15.779  10.099   0.501  1.00  0.00           H  \nATOM    718 HE2  HIS A  45      13.617   8.825   0.218  1.00  0.00           H  \nATOM    719  N   ALA A  46      17.717   9.990  -3.677  1.00  0.00           N  \nATOM    720  CA  ALA A  46      18.604  11.146  -3.532  1.00  0.00           C  \nATOM    721  C   ALA A  46      19.665  11.023  -2.421  1.00  0.00           C  \nATOM    722  O   ALA A  46      20.778  11.508  -2.610  1.00  0.00           O  \nATOM    723  CB  ALA A  46      17.744  12.400  -3.317  1.00  0.00           C  \nATOM    724  H   ALA A  46      16.726  10.198  -3.682  1.00  0.00           H  \nATOM    725  HA  ALA A  46      19.136  11.261  -4.478  1.00  0.00           H  \nATOM    726 HB1  ALA A  46      18.363  13.293  -3.221  1.00  0.00           H  \nATOM    727 HB2  ALA A  46      17.069  12.560  -4.158  1.00  0.00           H  \nATOM    728 HB3  ALA A  46      17.136  12.317  -2.415  1.00  0.00           H  \nATOM    729  N   LEU A  47      19.318  10.354  -1.308  1.00  0.00           N  \nATOM    730  CA  LEU A  47      20.203  10.136  -0.160  1.00  0.00           C  \nATOM    731  C   LEU A  47      21.261   9.036  -0.380  1.00  0.00           C  \nATOM    732  O   LEU A  47      22.253   9.028   0.348  1.00  0.00           O  \nATOM    733  CB  LEU A  47      19.344   9.826   1.085  1.00  0.00           C  \nATOM    734  CG  LEU A  47      18.478  11.006   1.583  1.00  0.00           C  \nATOM    735 CD1  LEU A  47      17.537  10.557   2.720  1.00  0.00           C  \nATOM    736 CD2  LEU A  47      19.322  12.233   1.986  1.00  0.00           C  \nATOM    737  H   LEU A  47      18.388   9.961  -1.235  1.00  0.00           H  \nATOM    738  HA  LEU A  47      20.760  11.058   0.016  1.00  0.00           H  \nATOM    739 HB3  LEU A  47      19.985   9.500   1.907  1.00  0.00           H  \nATOM    740 HB2  LEU A  47      18.700   8.979   0.854  1.00  0.00           H  \nATOM    741  HG  LEU A  47      17.838  11.313   0.756  1.00  0.00           H  \nATOM    742 HD11 LEU A  47      16.532  10.952   2.572  1.00  0.00           H  \nATOM    743 HD12 LEU A  47      17.452   9.472   2.777  1.00  0.00           H  \nATOM    744 HD13 LEU A  47      17.877  10.899   3.698  1.00  0.00           H  \nATOM    745 HD21 LEU A  47      18.964  12.703   2.902  1.00  0.00           H  \nATOM    746 HD22 LEU A  47      20.369  11.975   2.147  1.00  0.00           H  \nATOM    747 HD23 LEU A  47      19.289  12.994   1.205  1.00  0.00           H  \nATOM    748  N   ASP A  48      21.052   8.149  -1.367  1.00  0.00           N  \nATOM    749  CA  ASP A  48      21.979   7.071  -1.737  1.00  0.00           C  \nATOM    750  C   ASP A  48      22.877   7.444  -2.925  1.00  0.00           C  \nATOM    751  O   ASP A  48      23.852   6.735  -3.162  1.00  0.00           O  \nATOM    752 OD1  ASP A  48      20.653   5.432   0.237  1.00  0.00           O  \nATOM    753 OD2  ASP A  48      19.215   4.770  -1.305  1.00  0.00           O1-\nATOM    754  CB  ASP A  48      21.246   5.747  -2.052  1.00  0.00           C  \nATOM    755  CG  ASP A  48      20.285   5.302  -0.951  1.00  0.00           C  \nATOM    756  H   ASP A  48      20.213   8.221  -1.927  1.00  0.00           H  \nATOM    757  HA  ASP A  48      22.654   6.874  -0.901  1.00  0.00           H  \nATOM    758 HB3  ASP A  48      21.956   4.939  -2.233  1.00  0.00           H  \nATOM    759 HB2  ASP A  48      20.670   5.876  -2.971  1.00  0.00           H  \nATOM    760  N   SER A  49      22.539   8.522  -3.650  1.00  0.00           N  \nATOM    761  CA  SER A  49      23.163   8.935  -4.908  1.00  0.00           C  \nATOM    762  C   SER A  49      24.693   9.111  -4.831  1.00  0.00           C  \nATOM    763  O   SER A  49      25.400   8.493  -5.627  1.00  0.00           O  \nATOM    764  CB  SER A  49      22.454  10.202  -5.419  1.00  0.00           C  \nATOM    765  OG  SER A  49      21.176   9.869  -5.926  1.00  0.00           O  \nATOM    766  H   SER A  49      21.735   9.062  -3.363  1.00  0.00           H  \nATOM    767  HA  SER A  49      22.988   8.134  -5.630  1.00  0.00           H  \nATOM    768 HB2  SER A  49      23.016  10.662  -6.231  1.00  0.00           H  \nATOM    769 HB3  SER A  49      22.366  10.956  -4.637  1.00  0.00           H  \nATOM    770  HG  SER A  49      20.633   9.530  -5.208  1.00  0.00           H  \nATOM    771  N   GLU A  50      25.179   9.887  -3.846  1.00  0.00           N  \nATOM    772  CA  GLU A  50      26.610  10.128  -3.617  1.00  0.00           C  \nATOM    773  C   GLU A  50      27.408   8.860  -3.245  1.00  0.00           C  \nATOM    774  O   GLU A  50      28.574   8.766  -3.629  1.00  0.00           O  \nATOM    775 OE1  GLU A  50      27.917  13.509  -4.166  1.00  0.00           O  \nATOM    776 OE2  GLU A  50      25.878  13.450  -5.056  1.00  0.00           O1-\nATOM    777  CB  GLU A  50      26.800  11.222  -2.540  1.00  0.00           C  \nATOM    778  CG  GLU A  50      26.155  12.589  -2.859  1.00  0.00           C  \nATOM    779  CD  GLU A  50      26.696  13.241  -4.134  1.00  0.00           C  \nATOM    780  H   GLU A  50      24.543  10.356  -3.218  1.00  0.00           H  \nATOM    781  HA  GLU A  50      27.029  10.492  -4.557  1.00  0.00           H  \nATOM    782 HB2  GLU A  50      27.866  11.372  -2.358  1.00  0.00           H  \nATOM    783 HB3  GLU A  50      26.392  10.865  -1.594  1.00  0.00           H  \nATOM    784 HG3  GLU A  50      26.334  13.276  -2.031  1.00  0.00           H  \nATOM    785 HG2  GLU A  50      25.072  12.488  -2.936  1.00  0.00           H  \nATOM    786  N   ASN A  51      26.772   7.900  -2.546  1.00  0.00           N  \nATOM    787  CA  ASN A  51      27.360   6.596  -2.207  1.00  0.00           C  \nATOM    788  C   ASN A  51      27.464   5.668  -3.426  1.00  0.00           C  \nATOM    789  O   ASN A  51      28.447   4.936  -3.520  1.00  0.00           O  \nATOM    790  CG  ASN A  51      26.613   6.600   0.273  1.00  0.00           C  \nATOM    791 ND2  ASN A  51      25.610   6.357   1.119  1.00  0.00           N  \nATOM    792 OD1  ASN A  51      27.560   7.324   0.574  1.00  0.00           O  \nATOM    793  CB  ASN A  51      26.547   5.903  -1.089  1.00  0.00           C  \nATOM    794  H   ASN A  51      25.806   8.037  -2.283  1.00  0.00           H  \nATOM    795  HA  ASN A  51      28.371   6.787  -1.841  1.00  0.00           H  \nATOM    796 HB3  ASN A  51      26.934   4.895  -0.932  1.00  0.00           H  \nATOM    797 HB2  ASN A  51      25.506   5.781  -1.390  1.00  0.00           H  \nATOM    798 HD21 ASN A  51      25.605   6.784   2.033  1.00  0.00           H  \nATOM    799 HD22 ASN A  51      24.846   5.752   0.851  1.00  0.00           H  \nATOM    800  N   MET A  52      26.481   5.723  -4.342  1.00  0.00           N  \nATOM    801  CA  MET A  52      26.500   4.966  -5.596  1.00  0.00           C  \nATOM    802  C   MET A  52      27.525   5.506  -6.608  1.00  0.00           C  \nATOM    803  O   MET A  52      28.103   4.700  -7.333  1.00  0.00           O  \nATOM    804  CB  MET A  52      25.083   4.862  -6.196  1.00  0.00           C  \nATOM    805  CG  MET A  52      24.087   4.066  -5.329  1.00  0.00           C  \nATOM    806  SD  MET A  52      24.612   2.400  -4.830  1.00  0.00           S  \nATOM    807  CE  MET A  52      24.459   1.519  -6.402  1.00  0.00           C  \nATOM    808  H   MET A  52      25.688   6.332  -4.193  1.00  0.00           H  \nATOM    809  HA  MET A  52      26.836   3.956  -5.362  1.00  0.00           H  \nATOM    810 HB3  MET A  52      25.136   4.394  -7.178  1.00  0.00           H  \nATOM    811 HB2  MET A  52      24.683   5.862  -6.370  1.00  0.00           H  \nATOM    812 HG2  MET A  52      23.132   3.984  -5.846  1.00  0.00           H  \nATOM    813 HG3  MET A  52      23.877   4.610  -4.412  1.00  0.00           H  \nATOM    814 HE1  MET A  52      24.810   0.494  -6.301  1.00  0.00           H  \nATOM    815 HE2  MET A  52      23.416   1.485  -6.712  1.00  0.00           H  \nATOM    816 HE3  MET A  52      25.046   2.005  -7.180  1.00  0.00           H  \nATOM    817  N   THR A  53      27.795   6.826  -6.590  1.00  0.00           N  \nATOM    818  CA  THR A  53      28.902   7.446  -7.327  1.00  0.00           C  \nATOM    819  C   THR A  53      30.273   6.965  -6.809  1.00  0.00           C  \nATOM    820  O   THR A  53      31.131   6.657  -7.635  1.00  0.00           O  \nATOM    821  CB  THR A  53      28.855   8.998  -7.250  1.00  0.00           C  \nATOM    822 CG2  THR A  53      30.124   9.765  -7.675  1.00  0.00           C  \nATOM    823 OG1  THR A  53      27.820   9.451  -8.092  1.00  0.00           O  \nATOM    824  H   THR A  53      27.263   7.432  -5.980  1.00  0.00           H  \nATOM    825  HA  THR A  53      28.817   7.143  -8.374  1.00  0.00           H  \nATOM    826  HB  THR A  53      28.595   9.305  -6.237  1.00  0.00           H  \nATOM    827 HG21 THR A  53      29.937  10.839  -7.707  1.00  0.00           H  \nATOM    828 HG22 THR A  53      30.947   9.613  -6.975  1.00  0.00           H  \nATOM    829 HG23 THR A  53      30.461   9.458  -8.666  1.00  0.00           H  \nATOM    830 HG1  THR A  53      26.969   9.238  -7.696  1.00  0.00           H  \nATOM    831  N   LYS A  54      30.443   6.862  -5.475  1.00  0.00           N  \nATOM    832  CA  LYS A  54      31.647   6.299  -4.853  1.00  0.00           C  \nATOM    833  C   LYS A  54      31.851   4.816  -5.190  1.00  0.00           C  \nATOM    834  O   LYS A  54      32.976   4.430  -5.494  1.00  0.00           O  \nATOM    835  NZ  LYS A  54      30.759  10.269  -1.187  1.00  0.00           N1+\nATOM    836  CB  LYS A  54      31.627   6.486  -3.324  1.00  0.00           C  \nATOM    837  CG  LYS A  54      31.871   7.930  -2.869  1.00  0.00           C  \nATOM    838  CD  LYS A  54      31.863   8.048  -1.336  1.00  0.00           C  \nATOM    839  CE  LYS A  54      31.962   9.494  -0.835  1.00  0.00           C  \nATOM    840  H   LYS A  54      29.696   7.134  -4.850  1.00  0.00           H  \nATOM    841  HA  LYS A  54      32.504   6.847  -5.250  1.00  0.00           H  \nATOM    842 HB3  LYS A  54      32.414   5.874  -2.879  1.00  0.00           H  \nATOM    843 HB2  LYS A  54      30.691   6.115  -2.908  1.00  0.00           H  \nATOM    844 HG3  LYS A  54      31.116   8.581  -3.307  1.00  0.00           H  \nATOM    845 HG2  LYS A  54      32.830   8.276  -3.255  1.00  0.00           H  \nATOM    846 HD3  LYS A  54      32.698   7.476  -0.929  1.00  0.00           H  \nATOM    847 HD2  LYS A  54      30.960   7.585  -0.935  1.00  0.00           H  \nATOM    848 HE2  LYS A  54      32.844   9.984  -1.249  1.00  0.00           H  \nATOM    849 HE3  LYS A  54      32.070   9.503   0.250  1.00  0.00           H  \nATOM    850 HZ1  LYS A  54      29.946   9.837  -0.771  1.00  0.00           H  \nATOM    851 HZ2  LYS A  54      30.849  11.214  -0.844  1.00  0.00           H  \nATOM    852 HZ3  LYS A  54      30.649  10.285  -2.192  1.00  0.00           H  \nATOM    853  N   SER A  55      30.767   4.024  -5.163  1.00  0.00           N  \nATOM    854  CA  SER A  55      30.791   2.606  -5.516  1.00  0.00           C  \nATOM    855  C   SER A  55      31.074   2.363  -7.012  1.00  0.00           C  \nATOM    856  O   SER A  55      31.734   1.374  -7.315  1.00  0.00           O  \nATOM    857  CB  SER A  55      29.496   1.918  -5.046  1.00  0.00           C  \nATOM    858  OG  SER A  55      29.480   1.804  -3.638  1.00  0.00           O  \nATOM    859  H   SER A  55      29.875   4.398  -4.865  1.00  0.00           H  \nATOM    860  HA  SER A  55      31.616   2.145  -4.970  1.00  0.00           H  \nATOM    861 HB3  SER A  55      29.447   0.898  -5.424  1.00  0.00           H  \nATOM    862 HB2  SER A  55      28.607   2.444  -5.394  1.00  0.00           H  \nATOM    863  HG  SER A  55      28.634   1.441  -3.359  1.00  0.00           H  \nATOM    864  N   HIS A  56      30.641   3.272  -7.910  1.00  0.00           N  \nATOM    865  CA  HIS A  56      31.004   3.243  -9.333  1.00  0.00           C  \nATOM    866  C   HIS A  56      32.479   3.613  -9.576  1.00  0.00           C  \nATOM    867  O   HIS A  56      33.093   3.024 -10.463  1.00  0.00           O  \nATOM    868  CB  HIS A  56      30.064   4.131 -10.172  1.00  0.00           C  \nATOM    869  CG  HIS A  56      30.264   3.992 -11.668  1.00  0.00           C  \nATOM    870 CD2  HIS A  56      30.999   4.787 -12.525  1.00  0.00           C  \nATOM    871 ND1  HIS A  56      29.692   2.956 -12.415  1.00  0.00           N  \nATOM    872 CE1  HIS A  56      30.074   3.168 -13.665  1.00  0.00           C  \nATOM    873 NE2  HIS A  56      30.851   4.243 -13.790  1.00  0.00           N  \nATOM    874  H   HIS A  56      30.074   4.052  -7.607  1.00  0.00           H  \nATOM    875  HA  HIS A  56      30.852   2.218  -9.675  1.00  0.00           H  \nATOM    876 HB3  HIS A  56      30.183   5.180  -9.896  1.00  0.00           H  \nATOM    877 HB2  HIS A  56      29.027   3.878  -9.952  1.00  0.00           H  \nATOM    878 HD2  HIS A  56      31.591   5.671 -12.341  1.00  0.00           H  \nATOM    879 HE1  HIS A  56      29.781   2.546 -14.497  1.00  0.00           H  \nATOM    880 HE2  HIS A  56      31.251   4.592 -14.650  1.00  0.00           H  \nATOM    881  N   GLN A  57      33.035   4.544  -8.779  1.00  0.00           N  \nATOM    882  CA  GLN A  57      34.465   4.870  -8.775  1.00  0.00           C  \nATOM    883  C   GLN A  57      35.332   3.688  -8.308  1.00  0.00           C  \nATOM    884  O   GLN A  57      36.336   3.398  -8.956  1.00  0.00           O  \nATOM    885  CD  GLN A  57      34.268   8.652  -7.691  1.00  0.00           C  \nATOM    886 NE2  GLN A  57      33.777   9.786  -8.194  1.00  0.00           N  \nATOM    887 OE1  GLN A  57      34.701   8.584  -6.542  1.00  0.00           O  \nATOM    888  CB  GLN A  57      34.731   6.135  -7.936  1.00  0.00           C  \nATOM    889  CG  GLN A  57      34.265   7.434  -8.622  1.00  0.00           C  \nATOM    890  H   GLN A  57      32.463   5.018  -8.092  1.00  0.00           H  \nATOM    891  HA  GLN A  57      34.754   5.087  -9.806  1.00  0.00           H  \nATOM    892 HB3  GLN A  57      35.798   6.222  -7.721  1.00  0.00           H  \nATOM    893 HB2  GLN A  57      34.242   6.033  -6.969  1.00  0.00           H  \nATOM    894 HG3  GLN A  57      33.253   7.310  -9.007  1.00  0.00           H  \nATOM    895 HG2  GLN A  57      34.897   7.644  -9.485  1.00  0.00           H  \nATOM    896 HE21 GLN A  57      33.758  10.621  -7.628  1.00  0.00           H  \nATOM    897 HE22 GLN A  57      33.423   9.817  -9.139  1.00  0.00           H  \nATOM    898  N   ASN A  58      34.895   2.988  -7.245  1.00  0.00           N  \nATOM    899  CA  ASN A  58      35.490   1.733  -6.772  1.00  0.00           C  \nATOM    900  C   ASN A  58      35.364   0.605  -7.808  1.00  0.00           C  \nATOM    901  O   ASN A  58      36.333  -0.123  -7.989  1.00  0.00           O  \nATOM    902  CB  ASN A  58      34.855   1.313  -5.427  1.00  0.00           C  \nATOM    903  CG  ASN A  58      35.337   2.140  -4.232  1.00  0.00           C  \nATOM    904 ND2  ASN A  58      34.414   2.761  -3.497  1.00  0.00           N  \nATOM    905 OD1  ASN A  58      36.531   2.190  -3.950  1.00  0.00           O  \nATOM    906  H   ASN A  58      34.070   3.307  -6.752  1.00  0.00           H  \nATOM    907  HA  ASN A  58      36.547   1.958  -6.612  1.00  0.00           H  \nATOM    908 HB3  ASN A  58      35.133   0.282  -5.200  1.00  0.00           H  \nATOM    909 HB2  ASN A  58      33.768   1.322  -5.495  1.00  0.00           H  \nATOM    910 HD21 ASN A  58      34.692   3.303  -2.692  1.00  0.00           H  \nATOM    911 HD22 ASN A  58      33.438   2.715  -3.750  1.00  0.00           H  \nATOM    912  N   LEU A  59      34.216   0.502  -8.500  1.00  0.00           N  \nATOM    913  CA  LEU A  59      33.981  -0.466  -9.574  1.00  0.00           C  \nATOM    914  C   LEU A  59      34.909  -0.260 -10.781  1.00  0.00           C  \nATOM    915  O   LEU A  59      35.385  -1.247 -11.330  1.00  0.00           O  \nATOM    916  CB  LEU A  59      32.498  -0.416 -10.003  1.00  0.00           C  \nATOM    917  CG  LEU A  59      32.107  -1.375 -11.147  1.00  0.00           C  \nATOM    918 CD1  LEU A  59      32.258  -2.849 -10.744  1.00  0.00           C  \nATOM    919 CD2  LEU A  59      30.707  -1.068 -11.686  1.00  0.00           C  \nATOM    920  H   LEU A  59      33.446   1.120  -8.282  1.00  0.00           H  \nATOM    921  HA  LEU A  59      34.186  -1.458  -9.164  1.00  0.00           H  \nATOM    922 HB3  LEU A  59      32.273   0.597 -10.326  1.00  0.00           H  \nATOM    923 HB2  LEU A  59      31.858  -0.605  -9.145  1.00  0.00           H  \nATOM    924  HG  LEU A  59      32.764  -1.194 -11.994  1.00  0.00           H  \nATOM    925 HD11 LEU A  59      31.728  -3.506 -11.432  1.00  0.00           H  \nATOM    926 HD12 LEU A  59      33.304  -3.147 -10.758  1.00  0.00           H  \nATOM    927 HD13 LEU A  59      31.881  -3.034  -9.740  1.00  0.00           H  \nATOM    928 HD21 LEU A  59      30.752  -0.838 -12.749  1.00  0.00           H  \nATOM    929 HD22 LEU A  59      30.034  -1.916 -11.563  1.00  0.00           H  \nATOM    930 HD23 LEU A  59      30.257  -0.207 -11.191  1.00  0.00           H  \nATOM    931  N   CYS A  60      35.137   0.999 -11.184  1.00  0.00           N  \nATOM    932  CA  CYS A  60      35.966   1.336 -12.342  1.00  0.00           C  \nATOM    933  C   CYS A  60      37.467   1.144 -12.062  1.00  0.00           C  \nATOM    934  O   CYS A  60      38.179   0.696 -12.961  1.00  0.00           O  \nATOM    935  CB  CYS A  60      35.688   2.760 -12.854  1.00  0.00           C  \nATOM    936  SG  CYS A  60      34.048   2.813 -13.629  1.00  0.00           S  \nATOM    937  H   CYS A  60      34.685   1.769 -10.709  1.00  0.00           H  \nATOM    938  HA  CYS A  60      35.713   0.643 -13.148  1.00  0.00           H  \nATOM    939 HB3  CYS A  60      36.423   3.059 -13.602  1.00  0.00           H  \nATOM    940 HB2  CYS A  60      35.733   3.488 -12.043  1.00  0.00           H  \nATOM    941  HG  CYS A  60      33.357   2.696 -12.489  1.00  0.00           H  \nATOM    942  N   THR A  61      37.915   1.462 -10.834  1.00  0.00           N  \nATOM    943  CA  THR A  61      39.320   1.355 -10.431  1.00  0.00           C  \nATOM    944  C   THR A  61      39.718  -0.061  -9.955  1.00  0.00           C  \nATOM    945  O   THR A  61      40.875  -0.424 -10.166  1.00  0.00           O  \nATOM    946  CB  THR A  61      39.685   2.376  -9.320  1.00  0.00           C  \nATOM    947 CG2  THR A  61      39.516   3.837  -9.770  1.00  0.00           C  \nATOM    948 OG1  THR A  61      38.946   2.168  -8.129  1.00  0.00           O  \nATOM    949  H   THR A  61      37.272   1.823 -10.142  1.00  0.00           H  \nATOM    950  HA  THR A  61      39.945   1.588 -11.296  1.00  0.00           H  \nATOM    951  HB  THR A  61      40.734   2.240  -9.053  1.00  0.00           H  \nATOM    952 HG21 THR A  61      39.752   4.528  -8.960  1.00  0.00           H  \nATOM    953 HG22 THR A  61      40.189   4.065 -10.597  1.00  0.00           H  \nATOM    954 HG23 THR A  61      38.505   4.055 -10.109  1.00  0.00           H  \nATOM    955 HG1  THR A  61      38.060   2.521  -8.258  1.00  0.00           H  \nATOM    956  N   LYS A  62      38.793  -0.842  -9.365  1.00  0.00           N  \nATOM    957  CA  LYS A  62      39.067  -2.204  -8.874  1.00  0.00           C  \nATOM    958  C   LYS A  62      38.571  -3.299  -9.834  1.00  0.00           C  \nATOM    959  O   LYS A  62      39.120  -4.400  -9.803  1.00  0.00           O  \nATOM    960  CE  LYS A  62      38.751  -0.593  -4.006  1.00  0.00           C  \nATOM    961  NZ  LYS A  62      40.193  -0.315  -3.895  1.00  0.00           N1+\nATOM    962  CB  LYS A  62      38.451  -2.416  -7.474  1.00  0.00           C  \nATOM    963  CG  LYS A  62      38.960  -1.412  -6.426  1.00  0.00           C  \nATOM    964  CD  LYS A  62      38.449  -1.717  -5.009  1.00  0.00           C  \nATOM    965  H   LYS A  62      37.863  -0.482  -9.192  1.00  0.00           H  \nATOM    966  HA  LYS A  62      40.144  -2.349  -8.770  1.00  0.00           H  \nATOM    967 HB2  LYS A  62      38.691  -3.424  -7.133  1.00  0.00           H  \nATOM    968 HB3  LYS A  62      37.362  -2.380  -7.527  1.00  0.00           H  \nATOM    969 HG3  LYS A  62      38.657  -0.403  -6.704  1.00  0.00           H  \nATOM    970 HG2  LYS A  62      40.050  -1.415  -6.432  1.00  0.00           H  \nATOM    971 HD3  LYS A  62      38.889  -2.650  -4.656  1.00  0.00           H  \nATOM    972 HD2  LYS A  62      37.371  -1.885  -5.040  1.00  0.00           H  \nATOM    973 HE2  LYS A  62      38.362  -0.854  -3.021  1.00  0.00           H  \nATOM    974 HE3  LYS A  62      38.249   0.321  -4.318  1.00  0.00           H  \nATOM    975 HZ1  LYS A  62      40.552  -0.045  -4.799  1.00  0.00           H  \nATOM    976 HZ2  LYS A  62      40.341   0.438  -3.237  1.00  0.00           H  \nATOM    977 HZ3  LYS A  62      40.676  -1.142  -3.574  1.00  0.00           H  \nATOM    978  N   GLY A  63      37.560  -2.995 -10.664  1.00  0.00           N  \nATOM    979  CA  GLY A  63      36.980  -3.910 -11.650  1.00  0.00           C  \nATOM    980  C   GLY A  63      35.807  -4.734 -11.094  1.00  0.00           C  \nATOM    981  O   GLY A  63      35.138  -5.409 -11.876  1.00  0.00           O  \nATOM    982  H   GLY A  63      37.158  -2.068 -10.633  1.00  0.00           H  \nATOM    983 HA2  GLY A  63      37.738  -4.584 -12.052  1.00  0.00           H  \nATOM    984 HA3  GLY A  63      36.615  -3.321 -12.491  1.00  0.00           H  \nATOM    985  N   GLN A  64      35.535  -4.683  -9.779  1.00  0.00           N  \nATOM    986  CA  GLN A  64      34.451  -5.412  -9.121  1.00  0.00           C  \nATOM    987  C   GLN A  64      34.152  -4.723  -7.780  1.00  0.00           C  \nATOM    988  O   GLN A  64      35.080  -4.255  -7.118  1.00  0.00           O  \nATOM    989  CG  GLN A  64      33.696  -7.840  -8.550  1.00  0.00           C  \nATOM    990  CD  GLN A  64      34.057  -9.322  -8.713  1.00  0.00           C  \nATOM    991 NE2  GLN A  64      33.078 -10.154  -9.068  1.00  0.00           N  \nATOM    992 OE1  GLN A  64      35.200  -9.721  -8.504  1.00  0.00           O  \nATOM    993  CB  GLN A  64      34.846  -6.903  -8.970  1.00  0.00           C  \nATOM    994  H   GLN A  64      36.106  -4.110  -9.174  1.00  0.00           H  \nATOM    995  HA  GLN A  64      33.565  -5.336  -9.750  1.00  0.00           H  \nATOM    996 HB3  GLN A  64      35.675  -6.995  -8.266  1.00  0.00           H  \nATOM    997 HB2  GLN A  64      35.232  -7.262  -9.925  1.00  0.00           H  \nATOM    998 HG3  GLN A  64      32.823  -7.633  -9.165  1.00  0.00           H  \nATOM    999 HG2  GLN A  64      33.405  -7.654  -7.516  1.00  0.00           H  \nATOM   1000 HE21 GLN A  64      33.264 -11.140  -9.177  1.00  0.00           H  \nATOM   1001 HE22 GLN A  64      32.157  -9.797  -9.285  1.00  0.00           H  \nATOM   1002  N   VAL A  65      32.863  -4.663  -7.407  1.00  0.00           N  \nATOM   1003  CA  VAL A  65      32.400  -4.005  -6.185  1.00  0.00           C  \nATOM   1004  C   VAL A  65      31.123  -4.688  -5.666  1.00  0.00           C  \nATOM   1005  O   VAL A  65      30.383  -5.281  -6.449  1.00  0.00           O  \nATOM   1006 CG1  VAL A  65      30.735  -2.142  -7.029  1.00  0.00           C  \nATOM   1007 CG2  VAL A  65      32.358  -1.632  -5.172  1.00  0.00           C  \nATOM   1008  CB  VAL A  65      32.120  -2.482  -6.432  1.00  0.00           C  \nATOM   1009  H   VAL A  65      32.145  -5.077  -7.990  1.00  0.00           H  \nATOM   1010  HA  VAL A  65      33.162  -4.120  -5.412  1.00  0.00           H  \nATOM   1011  HB  VAL A  65      32.852  -2.138  -7.164  1.00  0.00           H  \nATOM   1012 HG11 VAL A  65      30.674  -1.090  -7.297  1.00  0.00           H  \nATOM   1013 HG12 VAL A  65      30.529  -2.723  -7.928  1.00  0.00           H  \nATOM   1014 HG13 VAL A  65      29.922  -2.324  -6.325  1.00  0.00           H  \nATOM   1015 HG21 VAL A  65      32.215  -0.573  -5.383  1.00  0.00           H  \nATOM   1016 HG22 VAL A  65      31.677  -1.895  -4.365  1.00  0.00           H  \nATOM   1017 HG23 VAL A  65      33.377  -1.754  -4.804  1.00  0.00           H  \nATOM   1018  N   VAL A  66      30.861  -4.518  -4.363  1.00  0.00           N  \nATOM   1019  CA  VAL A  66      29.543  -4.702  -3.762  1.00  0.00           C  \nATOM   1020  C   VAL A  66      29.079  -3.302  -3.326  1.00  0.00           C  \nATOM   1021  O   VAL A  66      29.802  -2.630  -2.588  1.00  0.00           O  \nATOM   1022  CB  VAL A  66      29.580  -5.649  -2.530  1.00  0.00           C  \nATOM   1023 CG1  VAL A  66      28.223  -5.763  -1.800  1.00  0.00           C  \nATOM   1024 CG2  VAL A  66      30.065  -7.054  -2.930  1.00  0.00           C  \nATOM   1025  H   VAL A  66      31.531  -4.031  -3.785  1.00  0.00           H  \nATOM   1026  HA  VAL A  66      28.837  -5.104  -4.488  1.00  0.00           H  \nATOM   1027  HB  VAL A  66      30.301  -5.257  -1.811  1.00  0.00           H  \nATOM   1028 HG11 VAL A  66      28.265  -6.505  -1.002  1.00  0.00           H  \nATOM   1029 HG12 VAL A  66      27.923  -4.824  -1.335  1.00  0.00           H  \nATOM   1030 HG13 VAL A  66      27.428  -6.063  -2.484  1.00  0.00           H  \nATOM   1031 HG21 VAL A  66      30.084  -7.725  -2.071  1.00  0.00           H  \nATOM   1032 HG22 VAL A  66      29.412  -7.497  -3.683  1.00  0.00           H  \nATOM   1033 HG23 VAL A  66      31.075  -7.030  -3.341  1.00  0.00           H  \nATOM   1034  N   SER A  67      27.909  -2.878  -3.830  1.00  0.00           N  \nATOM   1035  CA  SER A  67      27.337  -1.539  -3.655  1.00  0.00           C  \nATOM   1036  C   SER A  67      27.125  -1.081  -2.204  1.00  0.00           C  \nATOM   1037  O   SER A  67      27.209   0.120  -1.945  1.00  0.00           O  \nATOM   1038  CB  SER A  67      26.001  -1.457  -4.424  1.00  0.00           C  \nATOM   1039  OG  SER A  67      25.028  -2.359  -3.937  1.00  0.00           O  \nATOM   1040  H   SER A  67      27.377  -3.499  -4.427  1.00  0.00           H  \nATOM   1041  HA  SER A  67      28.032  -0.837  -4.118  1.00  0.00           H  \nATOM   1042 HB2  SER A  67      26.135  -1.651  -5.480  1.00  0.00           H  \nATOM   1043 HB3  SER A  67      25.591  -0.451  -4.345  1.00  0.00           H  \nATOM   1044  HG  SER A  67      24.728  -2.050  -3.073  1.00  0.00           H  \nATOM   1045  N   GLY A  68      26.781  -2.029  -1.316  1.00  0.00           N  \nATOM   1046  CA  GLY A  68      26.114  -1.736  -0.052  1.00  0.00           C  \nATOM   1047  C   GLY A  68      24.625  -1.458  -0.325  1.00  0.00           C  \nATOM   1048  O   GLY A  68      24.139  -1.589  -1.450  1.00  0.00           O  \nATOM   1049  H   GLY A  68      26.767  -2.993  -1.617  1.00  0.00           H  \nATOM   1050 HA2  GLY A  68      26.575  -0.884   0.450  1.00  0.00           H  \nATOM   1051 HA3  GLY A  68      26.207  -2.598   0.608  1.00  0.00           H  \nATOM   1052  N   GLN A  69      23.881  -1.092   0.724  1.00  0.00           N  \nATOM   1053  CA  GLN A  69      22.435  -0.894   0.639  1.00  0.00           C  \nATOM   1054  C   GLN A  69      22.072   0.440  -0.033  1.00  0.00           C  \nATOM   1055  O   GLN A  69      22.618   1.480   0.335  1.00  0.00           O  \nATOM   1056  CB  GLN A  69      21.830  -1.007   2.046  1.00  0.00           C  \nATOM   1057  CG  GLN A  69      22.088  -2.386   2.682  1.00  0.00           C  \nATOM   1058  CD  GLN A  69      21.298  -2.607   3.971  1.00  0.00           C  \nATOM   1059 NE2  GLN A  69      21.009  -3.869   4.290  1.00  0.00           N  \nATOM   1060 OE1  GLN A  69      20.972  -1.661   4.685  1.00  0.00           O  \nATOM   1061  H   GLN A  69      24.302  -0.981   1.634  1.00  0.00           H  \nATOM   1062  HA  GLN A  69      22.015  -1.706   0.040  1.00  0.00           H  \nATOM   1063 HB3  GLN A  69      20.755  -0.837   1.981  1.00  0.00           H  \nATOM   1064 HB2  GLN A  69      22.228  -0.221   2.690  1.00  0.00           H  \nATOM   1065 HG3  GLN A  69      23.147  -2.512   2.908  1.00  0.00           H  \nATOM   1066 HG2  GLN A  69      21.832  -3.169   1.968  1.00  0.00           H  \nATOM   1067 HE21 GLN A  69      20.499  -4.071   5.137  1.00  0.00           H  \nATOM   1068 HE22 GLN A  69      21.305  -4.629   3.694  1.00  0.00           H  \nATOM   1069  N   TYR A  70      21.133   0.371  -0.987  1.00  0.00           N  \nATOM   1070  CA  TYR A  70      20.567   1.523  -1.683  1.00  0.00           C  \nATOM   1071  C   TYR A  70      19.107   1.226  -2.048  1.00  0.00           C  \nATOM   1072  O   TYR A  70      18.718   0.065  -2.142  1.00  0.00           O  \nATOM   1073  OH  TYR A  70      20.911  -1.720  -7.324  1.00  0.00           O  \nATOM   1074  CB  TYR A  70      21.425   1.876  -2.924  1.00  0.00           C  \nATOM   1075  CG  TYR A  70      21.309   0.927  -4.108  1.00  0.00           C  \nATOM   1076 CD1  TYR A  70      20.302   1.123  -5.074  1.00  0.00           C  \nATOM   1077 CD2  TYR A  70      22.193  -0.165  -4.236  1.00  0.00           C  \nATOM   1078 CE1  TYR A  70      20.164   0.221  -6.142  1.00  0.00           C  \nATOM   1079 CE2  TYR A  70      22.072  -1.051  -5.324  1.00  0.00           C  \nATOM   1080  CZ  TYR A  70      21.055  -0.857  -6.278  1.00  0.00           C  \nATOM   1081  H   TYR A  70      20.744  -0.527  -1.247  1.00  0.00           H  \nATOM   1082  HA  TYR A  70      20.563   2.374  -1.000  1.00  0.00           H  \nATOM   1083 HB2  TYR A  70      22.473   1.978  -2.639  1.00  0.00           H  \nATOM   1084 HB3  TYR A  70      21.129   2.864  -3.279  1.00  0.00           H  \nATOM   1085 HD1  TYR A  70      19.615   1.952  -4.987  1.00  0.00           H  \nATOM   1086 HD2  TYR A  70      22.965  -0.323  -3.498  1.00  0.00           H  \nATOM   1087 HE1  TYR A  70      19.364   0.358  -6.848  1.00  0.00           H  \nATOM   1088 HE2  TYR A  70      22.754  -1.884  -5.413  1.00  0.00           H  \nATOM   1089  HH  TYR A  70      21.516  -2.470  -7.279  1.00  0.00           H  \nATOM   1090  N   ARG A  71      18.340   2.295  -2.282  1.00  0.00           N  \nATOM   1091  CA  ARG A  71      16.938   2.261  -2.674  1.00  0.00           C  \nATOM   1092  C   ARG A  71      16.800   2.554  -4.172  1.00  0.00           C  \nATOM   1093  O   ARG A  71      17.358   3.541  -4.653  1.00  0.00           O  \nATOM   1094  NE  ARG A  71      16.996   4.906   0.700  1.00  0.00           N  \nATOM   1095  CZ  ARG A  71      17.197   5.935   1.535  1.00  0.00           C  \nATOM   1096 NH1  ARG A  71      16.194   6.451   2.258  1.00  0.00           N  \nATOM   1097 NH2  ARG A  71      18.427   6.447   1.652  1.00  0.00           N1+\nATOM   1098  CB  ARG A  71      16.207   3.345  -1.872  1.00  0.00           C  \nATOM   1099  CG  ARG A  71      15.944   2.967  -0.409  1.00  0.00           C  \nATOM   1100  CD  ARG A  71      15.728   4.192   0.486  1.00  0.00           C  \nATOM   1101  H   ARG A  71      18.734   3.222  -2.154  1.00  0.00           H  \nATOM   1102  HA  ARG A  71      16.499   1.291  -2.440  1.00  0.00           H  \nATOM   1103 HB3  ARG A  71      15.264   3.600  -2.342  1.00  0.00           H  \nATOM   1104 HB2  ARG A  71      16.796   4.258  -1.918  1.00  0.00           H  \nATOM   1105 HG3  ARG A  71      16.857   2.494  -0.050  1.00  0.00           H  \nATOM   1106 HG2  ARG A  71      15.164   2.213  -0.291  1.00  0.00           H  \nATOM   1107 HD3  ARG A  71      15.212   3.926   1.409  1.00  0.00           H  \nATOM   1108 HD2  ARG A  71      15.093   4.909  -0.035  1.00  0.00           H  \nATOM   1109  HE  ARG A  71      17.775   4.619   0.112  1.00  0.00           H  \nATOM   1110 HH11 ARG A  71      16.357   7.220   2.890  1.00  0.00           H  \nATOM   1111 HH12 ARG A  71      15.267   6.062   2.175  1.00  0.00           H  \nATOM   1112 HH21 ARG A  71      18.612   7.216   2.277  1.00  0.00           H  \nATOM   1113 HH22 ARG A  71      19.199   6.050   1.116  1.00  0.00           H  \nATOM   1114  N   MET A  72      15.988   1.727  -4.845  1.00  0.00           N  \nATOM   1115  CA  MET A  72      15.494   1.961  -6.196  1.00  0.00           C  \nATOM   1116  C   MET A  72      14.052   2.469  -6.106  1.00  0.00           C  \nATOM   1117  O   MET A  72      13.230   1.802  -5.481  1.00  0.00           O  \nATOM   1118  CB  MET A  72      15.559   0.649  -7.015  1.00  0.00           C  \nATOM   1119  CG  MET A  72      14.948   0.785  -8.425  1.00  0.00           C  \nATOM   1120  SD  MET A  72      15.252  -0.582  -9.568  1.00  0.00           S  \nATOM   1121  CE  MET A  72      15.233   0.296 -11.153  1.00  0.00           C  \nATOM   1122  H   MET A  72      15.581   0.934  -4.363  1.00  0.00           H  \nATOM   1123  HA  MET A  72      16.110   2.708  -6.698  1.00  0.00           H  \nATOM   1124 HB3  MET A  72      15.036  -0.147  -6.482  1.00  0.00           H  \nATOM   1125 HB2  MET A  72      16.594   0.317  -7.091  1.00  0.00           H  \nATOM   1126 HG3  MET A  72      15.318   1.697  -8.880  1.00  0.00           H  \nATOM   1127 HG2  MET A  72      13.866   0.892  -8.360  1.00  0.00           H  \nATOM   1128 HE1  MET A  72      15.284  -0.415 -11.979  1.00  0.00           H  \nATOM   1129 HE2  MET A  72      14.322   0.883 -11.257  1.00  0.00           H  \nATOM   1130 HE3  MET A  72      16.089   0.966 -11.225  1.00  0.00           H  \nATOM   1131  N   LEU A  73      13.764   3.586  -6.796  1.00  0.00           N  \nATOM   1132  CA  LEU A  73      12.421   4.090  -7.095  1.00  0.00           C  \nATOM   1133  C   LEU A  73      11.620   3.001  -7.816  1.00  0.00           C  \nATOM   1134  O   LEU A  73      11.995   2.642  -8.929  1.00  0.00           O  \nATOM   1135  CB  LEU A  73      12.561   5.362  -7.973  1.00  0.00           C  \nATOM   1136  CG  LEU A  73      11.250   5.974  -8.530  1.00  0.00           C  \nATOM   1137 CD1  LEU A  73      10.334   6.493  -7.410  1.00  0.00           C  \nATOM   1138 CD2  LEU A  73      11.546   7.070  -9.573  1.00  0.00           C  \nATOM   1139  H   LEU A  73      14.519   4.076  -7.261  1.00  0.00           H  \nATOM   1140  HA  LEU A  73      11.927   4.346  -6.157  1.00  0.00           H  \nATOM   1141 HB3  LEU A  73      13.201   5.116  -8.822  1.00  0.00           H  \nATOM   1142 HB2  LEU A  73      13.103   6.127  -7.416  1.00  0.00           H  \nATOM   1143  HG  LEU A  73      10.697   5.201  -9.064  1.00  0.00           H  \nATOM   1144 HD11 LEU A  73       9.466   7.011  -7.817  1.00  0.00           H  \nATOM   1145 HD12 LEU A  73       9.960   5.674  -6.795  1.00  0.00           H  \nATOM   1146 HD13 LEU A  73      10.862   7.187  -6.756  1.00  0.00           H  \nATOM   1147 HD21 LEU A  73      11.124   8.033  -9.285  1.00  0.00           H  \nATOM   1148 HD22 LEU A  73      12.616   7.222  -9.717  1.00  0.00           H  \nATOM   1149 HD23 LEU A  73      11.125   6.806 -10.545  1.00  0.00           H  \nATOM   1150  N   ALA A  74      10.563   2.490  -7.170  1.00  0.00           N  \nATOM   1151  CA  ALA A  74       9.666   1.502  -7.762  1.00  0.00           C  \nATOM   1152  C   ALA A  74       8.760   2.135  -8.828  1.00  0.00           C  \nATOM   1153  O   ALA A  74       8.497   3.338  -8.779  1.00  0.00           O  \nATOM   1154  CB  ALA A  74       8.859   0.825  -6.648  1.00  0.00           C  \nATOM   1155  H   ALA A  74      10.305   2.844  -6.257  1.00  0.00           H  \nATOM   1156  HA  ALA A  74      10.274   0.739  -8.248  1.00  0.00           H  \nATOM   1157 HB1  ALA A  74       8.135   0.114  -7.047  1.00  0.00           H  \nATOM   1158 HB2  ALA A  74       9.519   0.278  -5.977  1.00  0.00           H  \nATOM   1159 HB3  ALA A  74       8.321   1.556  -6.049  1.00  0.00           H  \nATOM   1160  N   LYS A  75       8.316   1.296  -9.775  1.00  0.00           N  \nATOM   1161  CA  LYS A  75       7.492   1.651 -10.935  1.00  0.00           C  \nATOM   1162  C   LYS A  75       6.201   2.419 -10.590  1.00  0.00           C  \nATOM   1163  O   LYS A  75       5.886   3.389 -11.278  1.00  0.00           O  \nATOM   1164  CB  LYS A  75       7.216   0.345 -11.712  1.00  0.00           C  \nATOM   1165  CG  LYS A  75       6.175   0.381 -12.845  1.00  0.00           C  \nATOM   1166  CD  LYS A  75       6.571   1.185 -14.087  1.00  0.00           C  \nATOM   1167  CE  LYS A  75       5.559   0.948 -15.218  1.00  0.00           C  \nATOM   1168  NZ  LYS A  75       5.787   1.843 -16.360  1.00  0.00           N1+\nATOM   1169  H   LYS A  75       8.582   0.321  -9.723  1.00  0.00           H  \nATOM   1170  HA  LYS A  75       8.098   2.301 -11.567  1.00  0.00           H  \nATOM   1171 HB3  LYS A  75       6.847  -0.384 -10.993  1.00  0.00           H  \nATOM   1172 HB2  LYS A  75       8.156  -0.058 -12.092  1.00  0.00           H  \nATOM   1173 HG2  LYS A  75       5.230   0.762 -12.469  1.00  0.00           H  \nATOM   1174 HG3  LYS A  75       5.957  -0.642 -13.142  1.00  0.00           H  \nATOM   1175 HD3  LYS A  75       7.569   0.893 -14.417  1.00  0.00           H  \nATOM   1176 HD2  LYS A  75       6.620   2.246 -13.840  1.00  0.00           H  \nATOM   1177 HE3  LYS A  75       4.544   1.115 -14.858  1.00  0.00           H  \nATOM   1178 HE2  LYS A  75       5.614  -0.086 -15.561  1.00  0.00           H  \nATOM   1179 HZ1  LYS A  75       6.729   1.704 -16.722  1.00  0.00           H  \nATOM   1180 HZ2  LYS A  75       5.122   1.638 -17.091  1.00  0.00           H  \nATOM   1181 HZ3  LYS A  75       5.688   2.803 -16.067  1.00  0.00           H  \nATOM   1182  N   HIS A  76       5.495   1.971  -9.538  1.00  0.00           N  \nATOM   1183  CA  HIS A  76       4.204   2.515  -9.108  1.00  0.00           C  \nATOM   1184  C   HIS A  76       4.294   3.163  -7.715  1.00  0.00           C  \nATOM   1185  O   HIS A  76       3.358   3.047  -6.922  1.00  0.00           O  \nATOM   1186  CG  HIS A  76       2.904   0.885 -10.609  1.00  0.00           C  \nATOM   1187 CD2  HIS A  76       2.995  -0.385 -11.138  1.00  0.00           C  \nATOM   1188 ND1  HIS A  76       2.550   1.702 -11.670  1.00  0.00           N  \nATOM   1189 CE1  HIS A  76       2.436   0.924 -12.749  1.00  0.00           C  \nATOM   1190 NE2  HIS A  76       2.696  -0.354 -12.502  1.00  0.00           N  \nATOM   1191  CB  HIS A  76       3.127   1.411  -9.210  1.00  0.00           C  \nATOM   1192  H   HIS A  76       5.840   1.181  -9.013  1.00  0.00           H  \nATOM   1193  HA  HIS A  76       3.898   3.326  -9.770  1.00  0.00           H  \nATOM   1194 HB3  HIS A  76       2.166   1.784  -8.854  1.00  0.00           H  \nATOM   1195 HB2  HIS A  76       3.389   0.573  -8.563  1.00  0.00           H  \nATOM   1196 HD2  HIS A  76       3.256  -1.312 -10.647  1.00  0.00           H  \nATOM   1197 HD1  HIS A  76       2.402   2.700 -11.635  1.00  0.00           H  \nATOM   1198 HE1  HIS A  76       2.165   1.297 -13.726  1.00  0.00           H  \nATOM   1199  N   GLY A  77       5.408   3.870  -7.459  1.00  0.00           N  \nATOM   1200  CA  GLY A  77       5.641   4.645  -6.242  1.00  0.00           C  \nATOM   1201  C   GLY A  77       6.280   3.786  -5.143  1.00  0.00           C  \nATOM   1202  O   GLY A  77       6.202   2.557  -5.157  1.00  0.00           O  \nATOM   1203  H   GLY A  77       6.138   3.898  -8.159  1.00  0.00           H  \nATOM   1204 HA2  GLY A  77       4.713   5.083  -5.871  1.00  0.00           H  \nATOM   1205 HA3  GLY A  77       6.309   5.472  -6.489  1.00  0.00           H  \nATOM   1206  N   GLY A  78       6.908   4.470  -4.174  1.00  0.00           N  \nATOM   1207  CA  GLY A  78       7.676   3.853  -3.096  1.00  0.00           C  \nATOM   1208  C   GLY A  78       9.102   3.533  -3.561  1.00  0.00           C  \nATOM   1209  O   GLY A  78       9.475   3.774  -4.711  1.00  0.00           O  \nATOM   1210  H   GLY A  78       6.925   5.479  -4.217  1.00  0.00           H  \nATOM   1211 HA2  GLY A  78       7.196   2.936  -2.757  1.00  0.00           H  \nATOM   1212 HA3  GLY A  78       7.712   4.537  -2.247  1.00  0.00           H  \nATOM   1213  N   TYR A  79       9.901   2.989  -2.632  1.00  0.00           N  \nATOM   1214  CA  TYR A  79      11.290   2.604  -2.855  1.00  0.00           C  \nATOM   1215  C   TYR A  79      11.527   1.185  -2.323  1.00  0.00           C  \nATOM   1216  O   TYR A  79      11.024   0.837  -1.256  1.00  0.00           O  \nATOM   1217  CB  TYR A  79      12.226   3.625  -2.178  1.00  0.00           C  \nATOM   1218  CG  TYR A  79      12.326   4.970  -2.884  1.00  0.00           C  \nATOM   1219 CD1  TYR A  79      13.345   5.208  -3.832  1.00  0.00           C  \nATOM   1220 CD2  TYR A  79      11.394   5.990  -2.601  1.00  0.00           C  \nATOM   1221 CE1  TYR A  79      13.420   6.445  -4.503  1.00  0.00           C  \nATOM   1222 CE2  TYR A  79      11.463   7.224  -3.276  1.00  0.00           C  \nATOM   1223  CZ  TYR A  79      12.475   7.452  -4.230  1.00  0.00           C  \nATOM   1224  OH  TYR A  79      12.536   8.644  -4.889  1.00  0.00           O  \nATOM   1225  H   TYR A  79       9.551   2.817  -1.699  1.00  0.00           H  \nATOM   1226  HA  TYR A  79      11.498   2.601  -3.924  1.00  0.00           H  \nATOM   1227 HB3  TYR A  79      13.221   3.194  -2.134  1.00  0.00           H  \nATOM   1228 HB2  TYR A  79      11.934   3.781  -1.139  1.00  0.00           H  \nATOM   1229 HD1  TYR A  79      14.069   4.442  -4.057  1.00  0.00           H  \nATOM   1230 HD2  TYR A  79      10.613   5.821  -1.874  1.00  0.00           H  \nATOM   1231 HE1  TYR A  79      14.201   6.613  -5.231  1.00  0.00           H  \nATOM   1232 HE2  TYR A  79      10.737   7.993  -3.058  1.00  0.00           H  \nATOM   1233  HH  TYR A  79      11.793   9.219  -4.688  1.00  0.00           H  \nATOM   1234  N   VAL A  80      12.305   0.406  -3.086  1.00  0.00           N  \nATOM   1235  CA  VAL A  80      12.687  -0.969  -2.773  1.00  0.00           C  \nATOM   1236  C   VAL A  80      14.203  -0.999  -2.520  1.00  0.00           C  \nATOM   1237  O   VAL A  80      14.965  -0.579  -3.392  1.00  0.00           O  \nATOM   1238  CB  VAL A  80      12.355  -1.914  -3.969  1.00  0.00           C  \nATOM   1239 CG1  VAL A  80      12.938  -3.334  -3.838  1.00  0.00           C  \nATOM   1240 CG2  VAL A  80      10.837  -2.023  -4.189  1.00  0.00           C  \nATOM   1241  H   VAL A  80      12.684   0.779  -3.948  1.00  0.00           H  \nATOM   1242  HA  VAL A  80      12.167  -1.329  -1.882  1.00  0.00           H  \nATOM   1243  HB  VAL A  80      12.774  -1.476  -4.877  1.00  0.00           H  \nATOM   1244 HG11 VAL A  80      12.592  -3.982  -4.644  1.00  0.00           H  \nATOM   1245 HG12 VAL A  80      14.024  -3.336  -3.876  1.00  0.00           H  \nATOM   1246 HG13 VAL A  80      12.635  -3.788  -2.895  1.00  0.00           H  \nATOM   1247 HG21 VAL A  80      10.608  -2.601  -5.086  1.00  0.00           H  \nATOM   1248 HG22 VAL A  80      10.354  -2.517  -3.347  1.00  0.00           H  \nATOM   1249 HG23 VAL A  80      10.374  -1.045  -4.306  1.00  0.00           H  \nATOM   1250  N   TRP A  81      14.612  -1.517  -1.349  1.00  0.00           N  \nATOM   1251  CA  TRP A  81      16.017  -1.730  -1.002  1.00  0.00           C  \nATOM   1252  C   TRP A  81      16.631  -2.874  -1.822  1.00  0.00           C  \nATOM   1253  O   TRP A  81      16.067  -3.967  -1.862  1.00  0.00           O  \nATOM   1254  CB  TRP A  81      16.184  -1.997   0.505  1.00  0.00           C  \nATOM   1255  CG  TRP A  81      15.928  -0.830   1.411  1.00  0.00           C  \nATOM   1256 CD1  TRP A  81      14.756  -0.511   2.007  1.00  0.00           C  \nATOM   1257 CD2  TRP A  81      16.862   0.227   1.786  1.00  0.00           C  \nATOM   1258 CE2  TRP A  81      16.191   1.140   2.655  1.00  0.00           C  \nATOM   1259 CE3  TRP A  81      18.214   0.509   1.478  1.00  0.00           C  \nATOM   1260 NE1  TRP A  81      14.908   0.641   2.748  1.00  0.00           N  \nATOM   1261 CZ2  TRP A  81      16.833   2.263   3.205  1.00  0.00           C  \nATOM   1262 CZ3  TRP A  81      18.865   1.640   2.011  1.00  0.00           C  \nATOM   1263 CH2  TRP A  81      18.179   2.513   2.877  1.00  0.00           C  \nATOM   1264  H   TRP A  81      13.933  -1.859  -0.680  1.00  0.00           H  \nATOM   1265  HA  TRP A  81      16.559  -0.812  -1.227  1.00  0.00           H  \nATOM   1266 HB3  TRP A  81      17.213  -2.304   0.699  1.00  0.00           H  \nATOM   1267 HB2  TRP A  81      15.571  -2.840   0.817  1.00  0.00           H  \nATOM   1268 HD1  TRP A  81      13.841  -1.075   1.921  1.00  0.00           H  \nATOM   1269 HE3  TRP A  81      18.753  -0.152   0.815  1.00  0.00           H  \nATOM   1270 HE1  TRP A  81      14.148   1.051   3.274  1.00  0.00           H  \nATOM   1271 HZ2  TRP A  81      16.297   2.936   3.858  1.00  0.00           H  \nATOM   1272 HZ3  TRP A  81      19.896   1.837   1.754  1.00  0.00           H  \nATOM   1273 HH2  TRP A  81      18.683   3.379   3.281  1.00  0.00           H  \nATOM   1274  N   LEU A  82      17.783  -2.582  -2.437  1.00  0.00           N  \nATOM   1275  CA  LEU A  82      18.607  -3.504  -3.208  1.00  0.00           C  \nATOM   1276  C   LEU A  82      20.032  -3.497  -2.643  1.00  0.00           C  \nATOM   1277  O   LEU A  82      20.476  -2.503  -2.065  1.00  0.00           O  \nATOM   1278  CB  LEU A  82      18.678  -3.042  -4.686  1.00  0.00           C  \nATOM   1279  CG  LEU A  82      17.346  -2.989  -5.460  1.00  0.00           C  \nATOM   1280 CD1  LEU A  82      17.577  -2.585  -6.925  1.00  0.00           C  \nATOM   1281 CD2  LEU A  82      16.581  -4.309  -5.416  1.00  0.00           C  \nATOM   1282  H   LEU A  82      18.167  -1.648  -2.337  1.00  0.00           H  \nATOM   1283  HA  LEU A  82      18.213  -4.520  -3.145  1.00  0.00           H  \nATOM   1284 HB3  LEU A  82      19.360  -3.699  -5.230  1.00  0.00           H  \nATOM   1285 HB2  LEU A  82      19.129  -2.051  -4.718  1.00  0.00           H  \nATOM   1286  HG  LEU A  82      16.721  -2.218  -5.007  1.00  0.00           H  \nATOM   1287 HD11 LEU A  82      16.640  -2.298  -7.401  1.00  0.00           H  \nATOM   1288 HD12 LEU A  82      18.245  -1.730  -7.003  1.00  0.00           H  \nATOM   1289 HD13 LEU A  82      18.010  -3.401  -7.505  1.00  0.00           H  \nATOM   1290 HD21 LEU A  82      15.998  -4.449  -6.324  1.00  0.00           H  \nATOM   1291 HD22 LEU A  82      17.255  -5.161  -5.327  1.00  0.00           H  \nATOM   1292 HD23 LEU A  82      15.892  -4.326  -4.575  1.00  0.00           H  \nATOM   1293  N   GLU A  83      20.741  -4.598  -2.907  1.00  0.00           N  \nATOM   1294  CA  GLU A  83      22.189  -4.687  -2.816  1.00  0.00           C  \nATOM   1295  C   GLU A  83      22.667  -5.423  -4.070  1.00  0.00           C  \nATOM   1296  O   GLU A  83      22.052  -6.413  -4.465  1.00  0.00           O  \nATOM   1297  CD  GLU A  83      24.452  -5.918   0.138  1.00  0.00           C  \nATOM   1298 OE1  GLU A  83      23.879  -6.932   0.593  1.00  0.00           O  \nATOM   1299 OE2  GLU A  83      25.271  -5.203   0.757  1.00  0.00           O1-\nATOM   1300  CB  GLU A  83      22.589  -5.359  -1.491  1.00  0.00           C  \nATOM   1301  CG  GLU A  83      24.110  -5.496  -1.290  1.00  0.00           C  \nATOM   1302  H   GLU A  83      20.291  -5.385  -3.357  1.00  0.00           H  \nATOM   1303  HA  GLU A  83      22.619  -3.683  -2.835  1.00  0.00           H  \nATOM   1304 HB3  GLU A  83      22.122  -6.343  -1.424  1.00  0.00           H  \nATOM   1305 HB2  GLU A  83      22.175  -4.774  -0.669  1.00  0.00           H  \nATOM   1306 HG3  GLU A  83      24.601  -4.546  -1.507  1.00  0.00           H  \nATOM   1307 HG2  GLU A  83      24.526  -6.232  -1.979  1.00  0.00           H  \nATOM   1308  N   THR A  84      23.719  -4.886  -4.701  1.00  0.00           N  \nATOM   1309  CA  THR A  84      24.189  -5.320  -6.009  1.00  0.00           C  \nATOM   1310  C   THR A  84      25.687  -5.625  -5.958  1.00  0.00           C  \nATOM   1311  O   THR A  84      26.453  -4.819  -5.434  1.00  0.00           O  \nATOM   1312  CB  THR A  84      23.979  -4.198  -7.060  1.00  0.00           C  \nATOM   1313 CG2  THR A  84      24.571  -4.472  -8.456  1.00  0.00           C  \nATOM   1314 OG1  THR A  84      22.595  -3.979  -7.224  1.00  0.00           O  \nATOM   1315  H   THR A  84      24.178  -4.067  -4.320  1.00  0.00           H  \nATOM   1316  HA  THR A  84      23.654  -6.211  -6.328  1.00  0.00           H  \nATOM   1317  HB  THR A  84      24.401  -3.270  -6.676  1.00  0.00           H  \nATOM   1318 HG21 THR A  84      24.190  -3.764  -9.190  1.00  0.00           H  \nATOM   1319 HG22 THR A  84      25.656  -4.373  -8.463  1.00  0.00           H  \nATOM   1320 HG23 THR A  84      24.317  -5.472  -8.807  1.00  0.00           H  \nATOM   1321 HG1  THR A  84      22.281  -4.544  -7.939  1.00  0.00           H  \nATOM   1322  N   GLN A  85      26.072  -6.746  -6.585  1.00  0.00           N  \nATOM   1323  CA  GLN A  85      27.452  -7.009  -6.973  1.00  0.00           C  \nATOM   1324  C   GLN A  85      27.616  -6.547  -8.427  1.00  0.00           C  \nATOM   1325  O   GLN A  85      27.010  -7.147  -9.313  1.00  0.00           O  \nATOM   1326  CB  GLN A  85      27.768  -8.509  -6.817  1.00  0.00           C  \nATOM   1327  CG  GLN A  85      29.250  -8.845  -7.090  1.00  0.00           C  \nATOM   1328  CD  GLN A  85      29.475 -10.349  -7.215  1.00  0.00           C  \nATOM   1329 NE2  GLN A  85      29.545 -11.049  -6.082  1.00  0.00           N  \nATOM   1330 OE1  GLN A  85      29.580 -10.872  -8.323  1.00  0.00           O  \nATOM   1331  H   GLN A  85      25.371  -7.356  -6.986  1.00  0.00           H  \nATOM   1332  HA  GLN A  85      28.135  -6.457  -6.328  1.00  0.00           H  \nATOM   1333 HB3  GLN A  85      27.128  -9.088  -7.483  1.00  0.00           H  \nATOM   1334 HB2  GLN A  85      27.510  -8.828  -5.806  1.00  0.00           H  \nATOM   1335 HG3  GLN A  85      29.883  -8.438  -6.300  1.00  0.00           H  \nATOM   1336 HG2  GLN A  85      29.595  -8.387  -8.017  1.00  0.00           H  \nATOM   1337 HE21 GLN A  85      29.692 -12.048  -6.114  1.00  0.00           H  \nATOM   1338 HE22 GLN A  85      29.458 -10.589  -5.188  1.00  0.00           H  \nATOM   1339  N   GLY A  86      28.436  -5.509  -8.640  1.00  0.00           N  \nATOM   1340  CA  GLY A  86      28.829  -5.041  -9.964  1.00  0.00           C  \nATOM   1341  C   GLY A  86      30.162  -5.703 -10.324  1.00  0.00           C  \nATOM   1342  O   GLY A  86      31.045  -5.807  -9.474  1.00  0.00           O  \nATOM   1343  H   GLY A  86      28.909  -5.086  -7.852  1.00  0.00           H  \nATOM   1344 HA3  GLY A  86      28.973  -3.963  -9.930  1.00  0.00           H  \nATOM   1345 HA2  GLY A  86      28.060  -5.237 -10.712  1.00  0.00           H  \nATOM   1346  N   THR A  87      30.318  -6.103 -11.594  1.00  0.00           N  \nATOM   1347  CA  THR A  87      31.550  -6.654 -12.157  1.00  0.00           C  \nATOM   1348  C   THR A  87      31.746  -6.070 -13.559  1.00  0.00           C  \nATOM   1349  O   THR A  87      30.887  -6.267 -14.419  1.00  0.00           O  \nATOM   1350  CB  THR A  87      31.505  -8.202 -12.296  1.00  0.00           C  \nATOM   1351 CG2  THR A  87      32.789  -8.832 -12.870  1.00  0.00           C  \nATOM   1352 OG1  THR A  87      31.278  -8.787 -11.034  1.00  0.00           O  \nATOM   1353  H   THR A  87      29.541  -6.023 -12.239  1.00  0.00           H  \nATOM   1354  HA  THR A  87      32.408  -6.378 -11.542  1.00  0.00           H  \nATOM   1355  HB  THR A  87      30.661  -8.491 -12.925  1.00  0.00           H  \nATOM   1356 HG21 THR A  87      32.734  -9.921 -12.850  1.00  0.00           H  \nATOM   1357 HG22 THR A  87      32.959  -8.541 -13.907  1.00  0.00           H  \nATOM   1358 HG23 THR A  87      33.665  -8.536 -12.292  1.00  0.00           H  \nATOM   1359 HG1  THR A  87      30.348  -8.662 -10.814  1.00  0.00           H  \nATOM   1360  N   VAL A  88      32.880  -5.385 -13.769  1.00  0.00           N  \nATOM   1361  CA  VAL A  88      33.262  -4.839 -15.067  1.00  0.00           C  \nATOM   1362  C   VAL A  88      33.814  -5.966 -15.960  1.00  0.00           C  \nATOM   1363  O   VAL A  88      34.736  -6.672 -15.547  1.00  0.00           O  \nATOM   1364  CB  VAL A  88      34.365  -3.752 -14.944  1.00  0.00           C  \nATOM   1365 CG1  VAL A  88      34.719  -3.120 -16.296  1.00  0.00           C  \nATOM   1366 CG2  VAL A  88      33.987  -2.633 -13.969  1.00  0.00           C  \nATOM   1367  H   VAL A  88      33.562  -5.291 -13.027  1.00  0.00           H  \nATOM   1368  HA  VAL A  88      32.386  -4.388 -15.538  1.00  0.00           H  \nATOM   1369  HB  VAL A  88      35.272  -4.211 -14.548  1.00  0.00           H  \nATOM   1370 HG11 VAL A  88      35.440  -2.313 -16.175  1.00  0.00           H  \nATOM   1371 HG12 VAL A  88      35.162  -3.847 -16.975  1.00  0.00           H  \nATOM   1372 HG13 VAL A  88      33.832  -2.703 -16.774  1.00  0.00           H  \nATOM   1373 HG21 VAL A  88      34.753  -1.858 -13.939  1.00  0.00           H  \nATOM   1374 HG22 VAL A  88      33.047  -2.159 -14.244  1.00  0.00           H  \nATOM   1375 HG23 VAL A  88      33.892  -3.023 -12.960  1.00  0.00           H  \nATOM   1376  N   ILE A  89      33.256  -6.083 -17.172  1.00  0.00           N  \nATOM   1377  CA  ILE A  89      33.738  -6.985 -18.210  1.00  0.00           C  \nATOM   1378  C   ILE A  89      34.570  -6.171 -19.208  1.00  0.00           C  \nATOM   1379  O   ILE A  89      34.023  -5.387 -19.984  1.00  0.00           O  \nATOM   1380  CB  ILE A  89      32.578  -7.729 -18.935  1.00  0.00           C  \nATOM   1381 CG1  ILE A  89      31.904  -8.700 -17.937  1.00  0.00           C  \nATOM   1382 CG2  ILE A  89      33.018  -8.486 -20.216  1.00  0.00           C  \nATOM   1383 CD1  ILE A  89      30.682  -9.441 -18.488  1.00  0.00           C  \nATOM   1384  H   ILE A  89      32.513  -5.452 -17.448  1.00  0.00           H  \nATOM   1385  HA  ILE A  89      34.381  -7.752 -17.771  1.00  0.00           H  \nATOM   1386  HB  ILE A  89      31.833  -6.989 -19.231  1.00  0.00           H  \nATOM   1387 HG13 ILE A  89      31.595  -8.160 -17.041  1.00  0.00           H  \nATOM   1388 HG12 ILE A  89      32.635  -9.436 -17.600  1.00  0.00           H  \nATOM   1389 HG21 ILE A  89      32.182  -8.999 -20.689  1.00  0.00           H  \nATOM   1390 HG22 ILE A  89      33.418  -7.821 -20.982  1.00  0.00           H  \nATOM   1391 HG23 ILE A  89      33.781  -9.231 -19.991  1.00  0.00           H  \nATOM   1392 HD11 ILE A  89      30.138  -9.924 -17.678  1.00  0.00           H  \nATOM   1393 HD12 ILE A  89      30.002  -8.765 -19.007  1.00  0.00           H  \nATOM   1394 HD13 ILE A  89      30.973 -10.229 -19.183  1.00  0.00           H  \nATOM   1395  N   TYR A  90      35.885  -6.409 -19.152  1.00  0.00           N  \nATOM   1396  CA  TYR A  90      36.868  -5.991 -20.145  1.00  0.00           C  \nATOM   1397  C   TYR A  90      37.026  -7.140 -21.158  1.00  0.00           C  \nATOM   1398  O   TYR A  90      36.788  -8.297 -20.809  1.00  0.00           O  \nATOM   1399 CD1  TYR A  90      37.870  -5.477 -16.942  1.00  0.00           C  \nATOM   1400 CD2  TYR A  90      38.489  -3.482 -18.196  1.00  0.00           C  \nATOM   1401 CE1  TYR A  90      37.840  -4.727 -15.752  1.00  0.00           C  \nATOM   1402 CE2  TYR A  90      38.455  -2.728 -17.004  1.00  0.00           C  \nATOM   1403  CZ  TYR A  90      38.127  -3.349 -15.781  1.00  0.00           C  \nATOM   1404  OH  TYR A  90      38.080  -2.623 -14.626  1.00  0.00           O  \nATOM   1405  CB  TYR A  90      38.224  -5.697 -19.449  1.00  0.00           C  \nATOM   1406  CG  TYR A  90      38.182  -4.860 -18.174  1.00  0.00           C  \nATOM   1407  H   TYR A  90      36.229  -7.057 -18.459  1.00  0.00           H  \nATOM   1408  HA  TYR A  90      36.524  -5.104 -20.671  1.00  0.00           H  \nATOM   1409 HB2  TYR A  90      38.906  -5.231 -20.161  1.00  0.00           H  \nATOM   1410 HB3  TYR A  90      38.698  -6.641 -19.175  1.00  0.00           H  \nATOM   1411 HD1  TYR A  90      37.647  -6.534 -16.904  1.00  0.00           H  \nATOM   1412 HD2  TYR A  90      38.739  -2.998 -19.129  1.00  0.00           H  \nATOM   1413 HE1  TYR A  90      37.589  -5.209 -14.818  1.00  0.00           H  \nATOM   1414 HE2  TYR A  90      38.678  -1.672 -17.033  1.00  0.00           H  \nATOM   1415  HH  TYR A  90      38.289  -1.693 -14.743  1.00  0.00           H  \nATOM   1416  N   ASN A  91      37.457  -6.813 -22.383  1.00  0.00           N  \nATOM   1417  CA  ASN A  91      37.811  -7.788 -23.427  1.00  0.00           C  \nATOM   1418  C   ASN A  91      39.358  -7.878 -23.514  1.00  0.00           C  \nATOM   1419  O   ASN A  91      39.994  -7.617 -22.490  1.00  0.00           O  \nATOM   1420 OD1  ASN A  91      35.853  -8.973 -26.119  1.00  0.00           O  \nATOM   1421  CB  ASN A  91      36.995  -7.408 -24.696  1.00  0.00           C  \nATOM   1422  CG  ASN A  91      35.897  -8.433 -25.016  1.00  0.00           C  \nATOM   1423 ND2  ASN A  91      35.014  -8.717 -24.055  1.00  0.00           N  \nATOM   1424  H   ASN A  91      37.652  -5.845 -22.599  1.00  0.00           H  \nATOM   1425  HA  ASN A  91      37.515  -8.786 -23.100  1.00  0.00           H  \nATOM   1426 HB3  ASN A  91      37.605  -7.212 -25.570  1.00  0.00           H  \nATOM   1427 HB2  ASN A  91      36.505  -6.448 -24.553  1.00  0.00           H  \nATOM   1428 HD21 ASN A  91      34.282  -9.392 -24.225  1.00  0.00           H  \nATOM   1429 HD22 ASN A  91      35.076  -8.270 -23.151  1.00  0.00           H  \nATOM   1430  N   PRO A  92      39.978  -8.296 -24.648  1.00  0.00           N  \nATOM   1431  CA  PRO A  92      41.456  -8.359 -24.761  1.00  0.00           C  \nATOM   1432  C   PRO A  92      42.309  -7.089 -24.530  1.00  0.00           C  \nATOM   1433  O   PRO A  92      43.532  -7.220 -24.569  1.00  0.00           O  \nATOM   1434  CB  PRO A  92      41.692  -8.959 -26.155  1.00  0.00           C  \nATOM   1435  CG  PRO A  92      40.505  -9.882 -26.345  1.00  0.00           C  \nATOM   1436  CD  PRO A  92      39.370  -9.073 -25.737  1.00  0.00           C  \nATOM   1437  HA  PRO A  92      41.785  -9.093 -24.021  1.00  0.00           H  \nATOM   1438 HB3  PRO A  92      42.641  -9.488 -26.233  1.00  0.00           H  \nATOM   1439 HB2  PRO A  92      41.679  -8.178 -26.917  1.00  0.00           H  \nATOM   1440 HG3  PRO A  92      40.655 -10.797 -25.771  1.00  0.00           H  \nATOM   1441 HG2  PRO A  92      40.331 -10.159 -27.384  1.00  0.00           H  \nATOM   1442 HD2  PRO A  92      39.007  -8.402 -26.514  1.00  0.00           H  \nATOM   1443 HD3  PRO A  92      38.555  -9.718 -25.409  1.00  0.00           H  \nATOM   1444  N   ARG A  93      41.702  -5.915 -24.268  1.00  0.00           N  \nATOM   1445  CA  ARG A  93      42.415  -4.682 -23.913  1.00  0.00           C  \nATOM   1446  C   ARG A  93      41.809  -4.046 -22.643  1.00  0.00           C  \nATOM   1447  O   ARG A  93      40.657  -4.314 -22.298  1.00  0.00           O  \nATOM   1448  CB  ARG A  93      42.412  -3.721 -25.130  1.00  0.00           C  \nATOM   1449  CG  ARG A  93      43.424  -2.560 -25.025  1.00  0.00           C  \nATOM   1450  CD  ARG A  93      43.389  -1.588 -26.210  1.00  0.00           C  \nATOM   1451  NE  ARG A  93      44.200  -0.393 -25.928  1.00  0.00           N  \nATOM   1452  CZ  ARG A  93      44.406   0.639 -26.763  1.00  0.00           C  \nATOM   1453 NH1  ARG A  93      43.854   0.666 -27.984  1.00  0.00           N  \nATOM   1454 NH2  ARG A  93      45.173   1.663 -26.366  1.00  0.00           N1+\nATOM   1455  H   ARG A  93      40.695  -5.872 -24.213  1.00  0.00           H  \nATOM   1456  HA  ARG A  93      43.452  -4.914 -23.666  1.00  0.00           H  \nATOM   1457 HB2  ARG A  93      42.639  -4.284 -26.036  1.00  0.00           H  \nATOM   1458 HB3  ARG A  93      41.406  -3.322 -25.268  1.00  0.00           H  \nATOM   1459 HG2  ARG A  93      43.331  -1.993 -24.105  1.00  0.00           H  \nATOM   1460 HG3  ARG A  93      44.412  -3.021 -24.994  1.00  0.00           H  \nATOM   1461 HD2  ARG A  93      43.880  -2.064 -27.060  1.00  0.00           H  \nATOM   1462 HD3  ARG A  93      42.370  -1.352 -26.519  1.00  0.00           H  \nATOM   1463  HE  ARG A  93      44.622  -0.359 -25.011  1.00  0.00           H  \nATOM   1464 HH11 ARG A  93      44.019   1.443 -28.609  1.00  0.00           H  \nATOM   1465 HH12 ARG A  93      43.276  -0.102 -28.291  1.00  0.00           H  \nATOM   1466 HH21 ARG A  93      45.341   2.446 -26.982  1.00  0.00           H  \nATOM   1467 HH22 ARG A  93      45.598   1.660 -25.450  1.00  0.00           H  \nATOM   1468  N   ASN A  94      42.622  -3.208 -21.980  1.00  0.00           N  \nATOM   1469  CA  ASN A  94      42.294  -2.425 -20.788  1.00  0.00           C  \nATOM   1470  C   ASN A  94      42.144  -0.929 -21.150  1.00  0.00           C  \nATOM   1471  O   ASN A  94      42.372  -0.540 -22.296  1.00  0.00           O  \nATOM   1472  CB  ASN A  94      43.425  -2.667 -19.755  1.00  0.00           C  \nATOM   1473  CG  ASN A  94      43.117  -2.165 -18.340  1.00  0.00           C  \nATOM   1474 OD1  ASN A  94      43.620  -1.121 -17.932  1.00  0.00           O  \nATOM   1475 ND2  ASN A  94      42.275  -2.888 -17.599  1.00  0.00           N  \nATOM   1476  H   ASN A  94      43.549  -3.050 -22.346  1.00  0.00           H  \nATOM   1477  HA  ASN A  94      41.337  -2.731 -20.360  1.00  0.00           H  \nATOM   1478 HB2  ASN A  94      43.617  -3.739 -19.674  1.00  0.00           H  \nATOM   1479 HB3  ASN A  94      44.361  -2.225 -20.101  1.00  0.00           H  \nATOM   1480 HD21 ASN A  94      42.043  -2.589 -16.662  1.00  0.00           H  \nATOM   1481 HD22 ASN A  94      41.877  -3.744 -17.957  1.00  0.00           H  \nATOM   1482  N   LEU A  95      41.727  -0.120 -20.158  1.00  0.00           N  \nATOM   1483  CA  LEU A  95      41.482   1.328 -20.229  1.00  0.00           C  \nATOM   1484  C   LEU A  95      40.233   1.682 -21.072  1.00  0.00           C  \nATOM   1485  O   LEU A  95      39.986   2.852 -21.358  1.00  0.00           O  \nATOM   1486  CB  LEU A  95      42.804   2.059 -20.604  1.00  0.00           C  \nATOM   1487  CG  LEU A  95      42.902   3.582 -20.355  1.00  0.00           C  \nATOM   1488 CD1  LEU A  95      42.362   4.028 -18.982  1.00  0.00           C  \nATOM   1489 CD2  LEU A  95      44.358   4.054 -20.559  1.00  0.00           C  \nATOM   1490  H   LEU A  95      41.586  -0.524 -19.242  1.00  0.00           H  \nATOM   1491  HA  LEU A  95      41.216   1.596 -19.207  1.00  0.00           H  \nATOM   1492 HB2  LEU A  95      43.601   1.593 -20.021  1.00  0.00           H  \nATOM   1493 HB3  LEU A  95      43.053   1.864 -21.648  1.00  0.00           H  \nATOM   1494  HG  LEU A  95      42.299   4.079 -21.116  1.00  0.00           H  \nATOM   1495 HD11 LEU A  95      42.912   4.880 -18.582  1.00  0.00           H  \nATOM   1496 HD12 LEU A  95      41.317   4.331 -19.057  1.00  0.00           H  \nATOM   1497 HD13 LEU A  95      42.426   3.234 -18.239  1.00  0.00           H  \nATOM   1498 HD21 LEU A  95      44.390   4.938 -21.196  1.00  0.00           H  \nATOM   1499 HD22 LEU A  95      44.847   4.310 -19.619  1.00  0.00           H  \nATOM   1500 HD23 LEU A  95      44.973   3.293 -21.040  1.00  0.00           H  \nATOM   1501  N   GLN A  96      39.451   0.641 -21.406  1.00  0.00           N  \nATOM   1502  CA  GLN A  96      38.197   0.651 -22.143  1.00  0.00           C  \nATOM   1503  C   GLN A  96      37.487  -0.708 -21.965  1.00  0.00           C  \nATOM   1504  O   GLN A  96      37.561  -1.552 -22.857  1.00  0.00           O  \nATOM   1505  CB  GLN A  96      38.388   1.065 -23.622  1.00  0.00           C  \nATOM   1506  CG  GLN A  96      39.488   0.314 -24.404  1.00  0.00           C  \nATOM   1507  CD  GLN A  96      39.428   0.648 -25.893  1.00  0.00           C  \nATOM   1508 OE1  GLN A  96      38.470   0.298 -26.579  1.00  0.00           O  \nATOM   1509 NE2  GLN A  96      40.459   1.325 -26.402  1.00  0.00           N  \nATOM   1510  H   GLN A  96      39.756  -0.278 -21.119  1.00  0.00           H  \nATOM   1511  HA  GLN A  96      37.555   1.418 -21.710  1.00  0.00           H  \nATOM   1512 HB2  GLN A  96      37.431   0.945 -24.133  1.00  0.00           H  \nATOM   1513 HB3  GLN A  96      38.599   2.134 -23.666  1.00  0.00           H  \nATOM   1514 HG2  GLN A  96      40.470   0.567 -24.003  1.00  0.00           H  \nATOM   1515 HG3  GLN A  96      39.393  -0.767 -24.309  1.00  0.00           H  \nATOM   1516 HE21 GLN A  96      40.460   1.576 -27.379  1.00  0.00           H  \nATOM   1517 HE22 GLN A  96      41.228   1.607 -25.812  1.00  0.00           H  \nATOM   1518  N   PRO A  97      36.800  -0.917 -20.821  1.00  0.00           N  \nATOM   1519  CA  PRO A  97      35.831  -2.023 -20.682  1.00  0.00           C  \nATOM   1520  C   PRO A  97      34.608  -1.941 -21.617  1.00  0.00           C  \nATOM   1521  O   PRO A  97      34.332  -0.888 -22.193  1.00  0.00           O  \nATOM   1522  CB  PRO A  97      35.428  -1.974 -19.207  1.00  0.00           C  \nATOM   1523  CG  PRO A  97      35.760  -0.568 -18.738  1.00  0.00           C  \nATOM   1524  CD  PRO A  97      36.969  -0.182 -19.567  1.00  0.00           C  \nATOM   1525  HA  PRO A  97      36.346  -2.959 -20.890  1.00  0.00           H  \nATOM   1526 HB3  PRO A  97      36.032  -2.697 -18.669  1.00  0.00           H  \nATOM   1527 HB2  PRO A  97      34.384  -2.234 -19.028  1.00  0.00           H  \nATOM   1528 HG3  PRO A  97      35.916  -0.482 -17.663  1.00  0.00           H  \nATOM   1529 HG2  PRO A  97      34.945   0.095 -19.019  1.00  0.00           H  \nATOM   1530 HD3  PRO A  97      37.889  -0.517 -19.088  1.00  0.00           H  \nATOM   1531 HD2  PRO A  97      37.019   0.901 -19.677  1.00  0.00           H  \nATOM   1532  N   GLN A  98      33.917  -3.083 -21.758  1.00  0.00           N  \nATOM   1533  CA  GLN A  98      32.808  -3.275 -22.696  1.00  0.00           C  \nATOM   1534  C   GLN A  98      31.439  -3.029 -22.051  1.00  0.00           C  \nATOM   1535  O   GLN A  98      30.568  -2.458 -22.706  1.00  0.00           O  \nATOM   1536  CB  GLN A  98      32.849  -4.715 -23.259  1.00  0.00           C  \nATOM   1537  CG  GLN A  98      34.179  -5.165 -23.897  1.00  0.00           C  \nATOM   1538  CD  GLN A  98      34.873  -4.109 -24.761  1.00  0.00           C  \nATOM   1539 NE2  GLN A  98      34.212  -3.655 -25.827  1.00  0.00           N  \nATOM   1540 OE1  GLN A  98      35.995  -3.707 -24.463  1.00  0.00           O  \nATOM   1541  H   GLN A  98      34.189  -3.901 -21.227  1.00  0.00           H  \nATOM   1542  HA  GLN A  98      32.902  -2.569 -23.523  1.00  0.00           H  \nATOM   1543 HB2  GLN A  98      32.061  -4.815 -24.007  1.00  0.00           H  \nATOM   1544 HB3  GLN A  98      32.594  -5.431 -22.475  1.00  0.00           H  \nATOM   1545 HG2  GLN A  98      34.015  -6.062 -24.493  1.00  0.00           H  \nATOM   1546 HG3  GLN A  98      34.867  -5.451 -23.100  1.00  0.00           H  \nATOM   1547 HE21 GLN A  98      34.631  -2.951 -26.417  1.00  0.00           H  \nATOM   1548 HE22 GLN A  98      33.291  -4.005 -26.048  1.00  0.00           H  \nATOM   1549  N   CYS A  99      31.268  -3.485 -20.802  1.00  0.00           N  \nATOM   1550  CA  CYS A  99      30.008  -3.446 -20.065  1.00  0.00           C  \nATOM   1551  C   CYS A  99      30.262  -3.802 -18.591  1.00  0.00           C  \nATOM   1552  O   CYS A  99      31.363  -4.209 -18.224  1.00  0.00           O  \nATOM   1553  CB  CYS A  99      28.902  -4.329 -20.713  1.00  0.00           C  \nATOM   1554  SG  CYS A  99      29.215  -6.114 -20.552  1.00  0.00           S  \nATOM   1555 HB2  CYS A  99      28.764  -4.092 -21.767  1.00  0.00           H  \nATOM   1556 HB3  CYS A  99      27.940  -4.132 -20.242  1.00  0.00           H  \nATOM   1557  HG  CYS A  99      28.989  -6.180 -19.237  1.00  0.00           H  \nATOM   1558  H   CYS A  99      32.036  -3.939 -20.325  1.00  0.00           H  \nATOM   1559  HA  CYS A  99      29.669  -2.408 -20.081  1.00  0.00           H  \nATOM   1560  N   ILE A 100      29.212  -3.634 -17.780  1.00  0.00           N  \nATOM   1561  CA  ILE A 100      29.166  -3.970 -16.366  1.00  0.00           C  \nATOM   1562  C   ILE A 100      27.967  -4.907 -16.163  1.00  0.00           C  \nATOM   1563  O   ILE A 100      26.837  -4.511 -16.445  1.00  0.00           O  \nATOM   1564  CB  ILE A 100      28.957  -2.707 -15.476  1.00  0.00           C  \nATOM   1565 CG1  ILE A 100      30.097  -1.678 -15.655  1.00  0.00           C  \nATOM   1566 CG2  ILE A 100      28.786  -3.050 -13.978  1.00  0.00           C  \nATOM   1567 CD1  ILE A 100      29.699  -0.233 -15.325  1.00  0.00           C  \nATOM   1568 HD12 ILE A 100      29.013   0.164 -16.075  1.00  0.00           H  \nATOM   1569 HD13 ILE A 100      29.211  -0.152 -14.355  1.00  0.00           H  \nATOM   1570  H   ILE A 100      28.356  -3.248 -18.161  1.00  0.00           H  \nATOM   1571  HA  ILE A 100      30.081  -4.476 -16.061  1.00  0.00           H  \nATOM   1572  HB  ILE A 100      28.038  -2.218 -15.803  1.00  0.00           H  \nATOM   1573 HG13 ILE A 100      30.447  -1.673 -16.684  1.00  0.00           H  \nATOM   1574 HG12 ILE A 100      30.959  -1.974 -15.061  1.00  0.00           H  \nATOM   1575 HG21 ILE A 100      28.668  -2.152 -13.377  1.00  0.00           H  \nATOM   1576 HG22 ILE A 100      27.905  -3.661 -13.784  1.00  0.00           H  \nATOM   1577 HG23 ILE A 100      29.653  -3.589 -13.595  1.00  0.00           H  \nATOM   1578 HD11 ILE A 100      30.577   0.410 -15.306  1.00  0.00           H  \nATOM   1579  N   MET A 101      28.235  -6.111 -15.641  1.00  0.00           N  \nATOM   1580  CA  MET A 101      27.210  -7.032 -15.160  1.00  0.00           C  \nATOM   1581  C   MET A 101      26.900  -6.725 -13.696  1.00  0.00           C  \nATOM   1582  O   MET A 101      27.820  -6.604 -12.890  1.00  0.00           O  \nATOM   1583  CB  MET A 101      27.692  -8.488 -15.307  1.00  0.00           C  \nATOM   1584  CG  MET A 101      27.626  -9.013 -16.747  1.00  0.00           C  \nATOM   1585  SD  MET A 101      25.998  -8.990 -17.557  1.00  0.00           S  \nATOM   1586  CE  MET A 101      25.001  -9.944 -16.382  1.00  0.00           C  \nATOM   1587  H   MET A 101      29.191  -6.352 -15.413  1.00  0.00           H  \nATOM   1588  HA  MET A 101      26.291  -6.899 -15.733  1.00  0.00           H  \nATOM   1589 HB3  MET A 101      27.103  -9.148 -14.669  1.00  0.00           H  \nATOM   1590 HB2  MET A 101      28.716  -8.575 -14.940  1.00  0.00           H  \nATOM   1591 HG2  MET A 101      27.992 -10.039 -16.773  1.00  0.00           H  \nATOM   1592 HG3  MET A 101      28.297  -8.424 -17.370  1.00  0.00           H  \nATOM   1593 HE1  MET A 101      24.008 -10.119 -16.796  1.00  0.00           H  \nATOM   1594 HE2  MET A 101      25.465 -10.908 -16.177  1.00  0.00           H  \nATOM   1595 HE3  MET A 101      24.883  -9.400 -15.444  1.00  0.00           H  \nATOM   1596  N   CYS A 102      25.604  -6.628 -13.391  1.00  0.00           N  \nATOM   1597  CA  CYS A 102      25.070  -6.354 -12.068  1.00  0.00           C  \nATOM   1598  C   CYS A 102      24.187  -7.538 -11.666  1.00  0.00           C  \nATOM   1599  O   CYS A 102      23.194  -7.801 -12.340  1.00  0.00           O  \nATOM   1600  CB  CYS A 102      24.257  -5.047 -12.059  1.00  0.00           C  \nATOM   1601  SG  CYS A 102      25.372  -3.620 -12.101  1.00  0.00           S  \nATOM   1602 HB3  CYS A 102      23.655  -4.972 -11.157  1.00  0.00           H  \nATOM   1603 HB2  CYS A 102      23.575  -4.995 -12.905  1.00  0.00           H  \nATOM   1604  HG  CYS A 102      24.409  -2.695 -12.158  1.00  0.00           H  \nATOM   1605  H   CYS A 102      24.911  -6.728 -14.123  1.00  0.00           H  \nATOM   1606  HA  CYS A 102      25.872  -6.254 -11.339  1.00  0.00           H  \nATOM   1607  N   VAL A 103      24.558  -8.207 -10.564  1.00  0.00           N  \nATOM   1608  CA  VAL A 103      23.743  -9.221  -9.898  1.00  0.00           C  \nATOM   1609  C   VAL A 103      23.022  -8.495  -8.752  1.00  0.00           C  \nATOM   1610  O   VAL A 103      23.648  -8.186  -7.740  1.00  0.00           O  \nATOM   1611  CB  VAL A 103      24.606 -10.372  -9.301  1.00  0.00           C  \nATOM   1612 CG1  VAL A 103      23.768 -11.424  -8.543  1.00  0.00           C  \nATOM   1613 CG2  VAL A 103      25.459 -11.076 -10.369  1.00  0.00           C  \nATOM   1614 HG11 VAL A 103      24.394 -12.249  -8.200  1.00  0.00           H  \nATOM   1615 HG12 VAL A 103      23.282 -11.012  -7.659  1.00  0.00           H  \nATOM   1616 HG13 VAL A 103      22.992 -11.845  -9.183  1.00  0.00           H  \nATOM   1617 HG21 VAL A 103      26.141 -11.793  -9.911  1.00  0.00           H  \nATOM   1618 HG22 VAL A 103      24.841 -11.622 -11.076  1.00  0.00           H  \nATOM   1619 HG23 VAL A 103      26.066 -10.373 -10.937  1.00  0.00           H  \nATOM   1620  H   VAL A 103      25.400  -7.928 -10.078  1.00  0.00           H  \nATOM   1621  HA  VAL A 103      23.007  -9.648 -10.582  1.00  0.00           H  \nATOM   1622  HB  VAL A 103      25.313  -9.943  -8.590  1.00  0.00           H  \nATOM   1623  N   ASN A 104      21.739  -8.183  -8.973  1.00  0.00           N  \nATOM   1624  CA  ASN A 104      20.924  -7.343  -8.096  1.00  0.00           C  \nATOM   1625  C   ASN A 104      20.021  -8.245  -7.253  1.00  0.00           C  \nATOM   1626  O   ASN A 104      19.283  -9.037  -7.834  1.00  0.00           O  \nATOM   1627 ND2  ASN A 104      20.567  -6.045 -11.286  1.00  0.00           N  \nATOM   1628 OD1  ASN A 104      21.531  -4.708  -9.760  1.00  0.00           O  \nATOM   1629  CB  ASN A 104      20.034  -6.390  -8.931  1.00  0.00           C  \nATOM   1630  CG  ASN A 104      20.781  -5.640 -10.034  1.00  0.00           C  \nATOM   1631  H   ASN A 104      21.288  -8.491  -9.825  1.00  0.00           H  \nATOM   1632  HA  ASN A 104      21.528  -6.747  -7.408  1.00  0.00           H  \nATOM   1633 HB2  ASN A 104      19.548  -5.664  -8.278  1.00  0.00           H  \nATOM   1634 HB3  ASN A 104      19.229  -6.951  -9.407  1.00  0.00           H  \nATOM   1635 HD21 ASN A 104      20.998  -5.564 -12.067  1.00  0.00           H  \nATOM   1636 HD22 ASN A 104      19.949  -6.823 -11.469  1.00  0.00           H  \nATOM   1637  N   TYR A 105      20.076  -8.103  -5.921  1.00  0.00           N  \nATOM   1638  CA  TYR A 105      19.277  -8.890  -4.984  1.00  0.00           C  \nATOM   1639  C   TYR A 105      18.475  -7.958  -4.072  1.00  0.00           C  \nATOM   1640  O   TYR A 105      19.048  -7.123  -3.372  1.00  0.00           O  \nATOM   1641  CB  TYR A 105      20.112  -9.970  -4.249  1.00  0.00           C  \nATOM   1642  CG  TYR A 105      21.547  -9.661  -3.839  1.00  0.00           C  \nATOM   1643 CD1  TYR A 105      22.559  -9.562  -4.819  1.00  0.00           C  \nATOM   1644 CD2  TYR A 105      21.894  -9.553  -2.476  1.00  0.00           C  \nATOM   1645 CE1  TYR A 105      23.897  -9.334  -4.448  1.00  0.00           C  \nATOM   1646 CE2  TYR A 105      23.238  -9.349  -2.101  1.00  0.00           C  \nATOM   1647  CZ  TYR A 105      24.240  -9.238  -3.086  1.00  0.00           C  \nATOM   1648  OH  TYR A 105      25.540  -9.044  -2.724  1.00  0.00           O  \nATOM   1649  H   TYR A 105      20.713  -7.435  -5.505  1.00  0.00           H  \nATOM   1650  HA  TYR A 105      18.538  -9.456  -5.551  1.00  0.00           H  \nATOM   1651 HB3  TYR A 105      20.196 -10.822  -4.925  1.00  0.00           H  \nATOM   1652 HB2  TYR A 105      19.555 -10.353  -3.393  1.00  0.00           H  \nATOM   1653 HD1  TYR A 105      22.313  -9.669  -5.864  1.00  0.00           H  \nATOM   1654 HD2  TYR A 105      21.134  -9.638  -1.713  1.00  0.00           H  \nATOM   1655 HE1  TYR A 105      24.657  -9.252  -5.212  1.00  0.00           H  \nATOM   1656 HE2  TYR A 105      23.497  -9.268  -1.056  1.00  0.00           H  \nATOM   1657  HH  TYR A 105      26.132  -8.960  -3.474  1.00  0.00           H  \nATOM   1658  N   VAL A 106      17.144  -8.121  -4.147  1.00  0.00           N  \nATOM   1659  CA  VAL A 106      16.138  -7.334  -3.445  1.00  0.00           C  \nATOM   1660  C   VAL A 106      16.103  -7.721  -1.954  1.00  0.00           C  \nATOM   1661  O   VAL A 106      15.832  -8.876  -1.623  1.00  0.00           O  \nATOM   1662 CG2  VAL A 106      14.656  -7.108  -5.558  1.00  0.00           C  \nATOM   1663  CB  VAL A 106      14.732  -7.545  -4.087  1.00  0.00           C  \nATOM   1664 CG1  VAL A 106      13.586  -6.890  -3.312  1.00  0.00           C  \nATOM   1665 HG11 VAL A 106      12.652  -6.916  -3.874  1.00  0.00           H  \nATOM   1666 HG12 VAL A 106      13.403  -7.410  -2.373  1.00  0.00           H  \nATOM   1667 HG13 VAL A 106      13.819  -5.851  -3.088  1.00  0.00           H  \nATOM   1668 HG21 VAL A 106      13.745  -7.490  -6.012  1.00  0.00           H  \nATOM   1669 HG22 VAL A 106      14.607  -6.028  -5.651  1.00  0.00           H  \nATOM   1670 HG23 VAL A 106      15.493  -7.476  -6.151  1.00  0.00           H  \nATOM   1671  H   VAL A 106      16.777  -8.834  -4.765  1.00  0.00           H  \nATOM   1672  HA  VAL A 106      16.406  -6.282  -3.518  1.00  0.00           H  \nATOM   1673  HB  VAL A 106      14.515  -8.605  -4.098  1.00  0.00           H  \nATOM   1674  N   LEU A 107      16.399  -6.739  -1.090  1.00  0.00           N  \nATOM   1675  CA  LEU A 107      16.451  -6.899   0.361  1.00  0.00           C  \nATOM   1676  C   LEU A 107      15.061  -6.778   1.006  1.00  0.00           C  \nATOM   1677  O   LEU A 107      14.759  -7.566   1.902  1.00  0.00           O  \nATOM   1678  CB  LEU A 107      17.414  -5.854   0.969  1.00  0.00           C  \nATOM   1679  CG  LEU A 107      18.878  -5.943   0.479  1.00  0.00           C  \nATOM   1680 CD1  LEU A 107      19.706  -4.771   1.043  1.00  0.00           C  \nATOM   1681 CD2  LEU A 107      19.521  -7.314   0.785  1.00  0.00           C  \nATOM   1682 HD22 LEU A 107      18.976  -7.861   1.554  1.00  0.00           H  \nATOM   1683 HD23 LEU A 107      19.534  -7.935  -0.112  1.00  0.00           H  \nATOM   1684  H   LEU A 107      16.589  -5.808  -1.441  1.00  0.00           H  \nATOM   1685  HA  LEU A 107      16.830  -7.897   0.590  1.00  0.00           H  \nATOM   1686 HB2  LEU A 107      17.404  -5.945   2.057  1.00  0.00           H  \nATOM   1687 HB3  LEU A 107      17.034  -4.856   0.751  1.00  0.00           H  \nATOM   1688  HG  LEU A 107      18.879  -5.824  -0.606  1.00  0.00           H  \nATOM   1689 HD11 LEU A 107      20.583  -5.106   1.595  1.00  0.00           H  \nATOM   1690 HD12 LEU A 107      20.058  -4.122   0.242  1.00  0.00           H  \nATOM   1691 HD13 LEU A 107      19.126  -4.145   1.722  1.00  0.00           H  \nATOM   1692 HD21 LEU A 107      20.555  -7.233   1.121  1.00  0.00           H  \nATOM   1693  N   SER A 108      14.256  -5.804   0.546  1.00  0.00           N  \nATOM   1694  CA  SER A 108      12.957  -5.448   1.122  1.00  0.00           C  \nATOM   1695  C   SER A 108      11.826  -5.562   0.093  1.00  0.00           C  \nATOM   1696  O   SER A 108      12.079  -5.686  -1.102  1.00  0.00           O  \nATOM   1697  CB  SER A 108      13.045  -4.006   1.672  1.00  0.00           C  \nATOM   1698  OG  SER A 108      12.942  -3.027   0.651  1.00  0.00           O  \nATOM   1699 HB2  SER A 108      13.968  -3.856   2.233  1.00  0.00           H  \nATOM   1700 HB3  SER A 108      12.232  -3.829   2.377  1.00  0.00           H  \nATOM   1701  HG  SER A 108      12.028  -2.998   0.345  1.00  0.00           H  \nATOM   1702  H   SER A 108      14.567  -5.222  -0.220  1.00  0.00           H  \nATOM   1703  HA  SER A 108      12.717  -6.119   1.950  1.00  0.00           H  \nATOM   1704  N   GLU A 109      10.589  -5.416   0.585  1.00  0.00           N  \nATOM   1705  CA  GLU A 109       9.394  -5.259  -0.243  1.00  0.00           C  \nATOM   1706  C   GLU A 109       9.181  -3.752  -0.556  1.00  0.00           C  \nATOM   1707  O   GLU A 109      10.104  -2.954  -0.370  1.00  0.00           O  \nATOM   1708  CB  GLU A 109       8.191  -5.966   0.439  1.00  0.00           C  \nATOM   1709  CG  GLU A 109       8.501  -7.250   1.263  1.00  0.00           C  \nATOM   1710  CD  GLU A 109       9.353  -8.319   0.559  1.00  0.00           C  \nATOM   1711 OE1  GLU A 109       8.900  -8.825  -0.489  1.00  0.00           O  \nATOM   1712 OE2  GLU A 109      10.449  -8.612   1.089  1.00  0.00           O1-\nATOM   1713 HG3  GLU A 109       9.000  -6.970   2.192  1.00  0.00           H  \nATOM   1714  H   GLU A 109      10.452  -5.324   1.580  1.00  0.00           H  \nATOM   1715  HA  GLU A 109       9.558  -5.763  -1.198  1.00  0.00           H  \nATOM   1716 HB2  GLU A 109       7.463  -6.225  -0.331  1.00  0.00           H  \nATOM   1717 HB3  GLU A 109       7.679  -5.261   1.094  1.00  0.00           H  \nATOM   1718 HG2  GLU A 109       7.563  -7.715   1.566  1.00  0.00           H  \nATOM   1719  N   ILE A 110       8.002  -3.381  -1.081  1.00  0.00           N  \nATOM   1720  CA  ILE A 110       7.719  -2.032  -1.605  1.00  0.00           C  \nATOM   1721  C   ILE A 110       7.144  -1.102  -0.502  1.00  0.00           C  \nATOM   1722  O   ILE A 110       6.744  -1.580   0.560  1.00  0.00           O  \nATOM   1723  CB  ILE A 110       6.707  -2.081  -2.805  1.00  0.00           C  \nATOM   1724 CG1  ILE A 110       6.874  -3.343  -3.694  1.00  0.00           C  \nATOM   1725 CG2  ILE A 110       6.833  -0.836  -3.718  1.00  0.00           C  \nATOM   1726 CD1  ILE A 110       6.042  -4.553  -3.235  1.00  0.00           C  \nATOM   1727 HD12 ILE A 110       5.859  -4.554  -2.161  1.00  0.00           H  \nATOM   1728 HD13 ILE A 110       5.070  -4.561  -3.728  1.00  0.00           H  \nATOM   1729  H   ILE A 110       7.276  -4.069  -1.212  1.00  0.00           H  \nATOM   1730  HA  ILE A 110       8.649  -1.583  -1.958  1.00  0.00           H  \nATOM   1731  HB  ILE A 110       5.687  -2.086  -2.416  1.00  0.00           H  \nATOM   1732 HG12 ILE A 110       7.928  -3.612  -3.789  1.00  0.00           H  \nATOM   1733 HG13 ILE A 110       6.553  -3.120  -4.712  1.00  0.00           H  \nATOM   1734 HG21 ILE A 110       6.142  -0.895  -4.559  1.00  0.00           H  \nATOM   1735 HG22 ILE A 110       6.600   0.101  -3.220  1.00  0.00           H  \nATOM   1736 HG23 ILE A 110       7.838  -0.748  -4.131  1.00  0.00           H  \nATOM   1737 HD11 ILE A 110       6.546  -5.486  -3.487  1.00  0.00           H  \nATOM   1738  N   GLU A 111       7.131   0.215  -0.776  1.00  0.00           N  \nATOM   1739  CA  GLU A 111       6.645   1.286   0.105  1.00  0.00           C  \nATOM   1740  C   GLU A 111       5.566   2.157  -0.583  1.00  0.00           C  \nATOM   1741  O   GLU A 111       5.422   3.329  -0.234  1.00  0.00           O  \nATOM   1742  CB  GLU A 111       7.852   2.135   0.566  1.00  0.00           C  \nATOM   1743  CG  GLU A 111       8.902   1.350   1.381  1.00  0.00           C  \nATOM   1744  CD  GLU A 111      10.129   2.183   1.764  1.00  0.00           C  \nATOM   1745 OE1  GLU A 111      10.384   3.206   1.089  1.00  0.00           O  \nATOM   1746 OE2  GLU A 111      10.812   1.765   2.725  1.00  0.00           O1-\nATOM   1747  HA  GLU A 111       6.168   0.860   0.989  1.00  0.00           H  \nATOM   1748 HB3  GLU A 111       7.509   2.972   1.177  1.00  0.00           H  \nATOM   1749 HB2  GLU A 111       8.323   2.578  -0.312  1.00  0.00           H  \nATOM   1750 HG3  GLU A 111       9.266   0.492   0.817  1.00  0.00           H  \nATOM   1751 HG2  GLU A 111       8.445   0.953   2.287  1.00  0.00           H  \nATOM   1752  H   GLU A 111       7.502   0.525  -1.662  1.00  0.00           H  \nATOM   1753  N   NME A 112       4.835   1.581  -1.553  1.00  0.00           N  \nATOM   1754  C   NME A 112       3.817   2.271  -2.337  1.00  0.00           C  \nATOM   1755  H   NME A 112       5.000   0.610  -1.773  1.00  0.00           H  \nATOM   1756  H1  NME A 112       3.827   3.353  -2.200  1.00  0.00           H  \nATOM   1757  H2  NME A 112       3.977   2.070  -3.397  1.00  0.00           H  \nATOM   1758  H3  NME A 112       2.827   1.901  -2.069  1.00  0.00           H  \nCONECT    1    2    4    5    6\nCONECT    2    3    3    7\nCONECT    7    8   15\nCONECT    8    9   11   16\nCONECT    9   10   10   26\nCONECT   11   12   17   18\nCONECT   12   13   14   19\nCONECT   13   20   21   22\nCONECT   14   23   24   25\nCONECT   26   27   34\nCONECT   27   28   30   35\nCONECT   28   29   29   38\nCONECT   30   31   36   37\nCONECT   31   32   32   33\nCONECT   38   39   44\nCONECT   39   40   42   45\nCONECT   40   41   41   49\nCONECT   42   43   46   47\nCONECT   43   48\nCONECT   49   50   58\nCONECT   50   51   53   59\nCONECT   51   52   52   71\nCONECT   53   54   60   61\nCONECT   54   55   62   63\nCONECT   55   56   64   65\nCONECT   56   57   66   67\nCONECT   57   68   69   70\nCONECT   71   72   78\nCONECT   72   73   76   79\nCONECT   73   74   74   85\nCONECT   75   76   84\nCONECT   76   77   80\nCONECT   77   81   82   83\nCONECT   85   86   96\nCONECT   86   87   92   97\nCONECT   87   88   88  105\nCONECT   89   91   94   94  102\nCONECT   90   91   91   95  103\nCONECT   91  104\nCONECT   92   93   98   99\nCONECT   93   94   95   95\nCONECT   94  100\nCONECT   95  101\nCONECT  105  106  113\nCONECT  106  107  109  114\nCONECT  107  108  108  124\nCONECT  109  110  115  116\nCONECT  110  111  112  117\nCONECT  111  118  119  120\nCONECT  112  121  122  123\nCONECT  124  125  130\nCONECT  125  126  128  131\nCONECT  126  127  127  135\nCONECT  128  129  132  133\nCONECT  129  134\nCONECT  135  136  144\nCONECT  136  137  139  145\nCONECT  137  138  138  150\nCONECT  139  140  146  147\nCONECT  140  141  148  149\nCONECT  141  142  142  143\nCONECT  150  151  160\nCONECT  151  152  154  161\nCONECT  152  153  153  167\nCONECT  154  155  162  163\nCONECT  155  156  156  157\nCONECT  156  159  164\nCONECT  157  158  165\nCONECT  158  159  159  166\nCONECT  167  168  173\nCONECT  168  169  171  174\nCONECT  169  170  170  178\nCONECT  171  172  175  176\nCONECT  172  177\nCONECT  178  179  186\nCONECT  179  180  182  187\nCONECT  180  181  181  195\nCONECT  182  183  188  189\nCONECT  183  184  190  191\nCONECT  184  185\nCONECT  185  192  193  194\nCONECT  195  196  203\nCONECT  196  197  202  204\nCONECT  197  198  198  207\nCONECT  199  200  200  201  202\nCONECT  202  205  206\nCONECT  207  208  215\nCONECT  208  209  211  216\nCONECT  209  210  210  224\nCONECT  211  212  217  218\nCONECT  212  213  219  220\nCONECT  213  214\nCONECT  214  221  222  223\nCONECT  224  225  233\nCONECT  225  226  230  234\nCONECT  226  227  227  246\nCONECT  228  229  232  241  242\nCONECT  229  243  244  245\nCONECT  230  231  235  236\nCONECT  231  232  237  238\nCONECT  232  239  240\nCONECT  246  247  257\nCONECT  247  248  252  258\nCONECT  248  249  249  266\nCONECT  250  251  255  255  264\nCONECT  251  256  256  265\nCONECT  252  253  259  260\nCONECT  253  254  254  255\nCONECT  254  256  261\nCONECT  255  262\nCONECT  256  263\nCONECT  266  267  273\nCONECT  267  268  270  274\nCONECT  268  269  269  280\nCONECT  270  271  272  275\nCONECT  271  276  277  278\nCONECT  272  279\nCONECT  280  281  292\nCONECT  281  282  284  293\nCONECT  282  283  283  301\nCONECT  284  285  294  295\nCONECT  285  286  287  287\nCONECT  286  288  288  296\nCONECT  287  289  297\nCONECT  288  290  298\nCONECT  289  290  290  299\nCONECT  290  291\nCONECT  291  300\nCONECT  301  302  307\nCONECT  302  303  305  308\nCONECT  303  304  304  312\nCONECT  305  306  309  310\nCONECT  306  311\nCONECT  312  313  320\nCONECT  313  314  319  321\nCONECT  314  315  315  324\nCONECT  316  317  317  318  319\nCONECT  319  322  323\nCONECT  324  325  332\nCONECT  325  326  328  333\nCONECT  326  327  327  336\nCONECT  328  329  334  335\nCONECT  329  330  330  331\nCONECT  336  337  347\nCONECT  337  338  340  348\nCONECT  338  339  339  360\nCONECT  340  341  349  350\nCONECT  341  342  351  352\nCONECT  342  343  353  354\nCONECT  343  344  355\nCONECT  344  345  346  346\nCONECT  345  356  357\nCONECT  346  358  359\nCONECT  360  361  368\nCONECT  361  362  364  369\nCONECT  362  363  363  379\nCONECT  364  365  366  370\nCONECT  365  367  371  372\nCONECT  366  373  374  375\nCONECT  367  376  377  378\nCONECT  379  380  386\nCONECT  380  381  384  387\nCONECT  381  382  382  393\nCONECT  383  384  392\nCONECT  384  385  388\nCONECT  385  389  390  391\nCONECT  393  394  402\nCONECT  394  395  398  403\nCONECT  395  396  396  408\nCONECT  397  400\nCONECT  398  399  404  405\nCONECT  399  400  406  407\nCONECT  400  401  401\nCONECT  408  409  416\nCONECT  409  410  412  417\nCONECT  410  411  411  427\nCONECT  412  413  418  419\nCONECT  413  414  415  420\nCONECT  414  421  422  423\nCONECT  415  424  425  426\nCONECT  427  428  435\nCONECT  428  429  434  436\nCONECT  429  430  430  446\nCONECT  431  433  434  438  439\nCONECT  432  434  440  441  442\nCONECT  433  443  444  445\nCONECT  434  437\nCONECT  446  447  450\nCONECT  447  448  451  452\nCONECT  448  449  449  453\nCONECT  453  454  465\nCONECT  454  455  457  466\nCONECT  455  456  456  474\nCONECT  457  458  467  468\nCONECT  458  459  460  460\nCONECT  459  461  461  469\nCONECT  460  462  470\nCONECT  461  463  471\nCONECT  462  463  463  472\nCONECT  463  464\nCONECT  464  473\nCONECT  474  475  484\nCONECT  475  476  480  485\nCONECT  476  477  477  491\nCONECT  478  479  483  483  489\nCONECT  479  482  490\nCONECT  480  481  486  487\nCONECT  481  482  482  483\nCONECT  482  488\nCONECT  491  492  497\nCONECT  492  493  495  498\nCONECT  493  494  494  505\nCONECT  495  496  499  500\nCONECT  496  497  501  502\nCONECT  497  503  504\nCONECT  505  506  514\nCONECT  506  507  510  515\nCONECT  507  508  508  520\nCONECT  509  512\nCONECT  510  511  516  517\nCONECT  511  512  518  519\nCONECT  512  513  513\nCONECT  520  521  529\nCONECT  521  522  528  530\nCONECT  522  523  523  535\nCONECT  524  525  528  533  534\nCONECT  525  526  526  527\nCONECT  528  531  532\nCONECT  535  536  543\nCONECT  536  537  541  544\nCONECT  537  538  538  554\nCONECT  539  542  548  549  550\nCONECT  540  542  551  552  553\nCONECT  541  542  545  546\nCONECT  542  547\nCONECT  554  555  562\nCONECT  555  556  558  563\nCONECT  556  557  557  573\nCONECT  558  559  564  565\nCONECT  559  560  561  566\nCONECT  560  567  568  569\nCONECT  561  570  571  572\nCONECT  573  574  577\nCONECT  574  575  578  579\nCONECT  575  576  576  580\nCONECT  580  581  591\nCONECT  581  582  584  592\nCONECT  582  583  583  604\nCONECT  584  585  593  594\nCONECT  585  586  595  596\nCONECT  586  587  597  598\nCONECT  587  588  599\nCONECT  588  589  590  590\nCONECT  589  600  601\nCONECT  590  602  603\nCONECT  604  605  610\nCONECT  605  606  608  611\nCONECT  606  607  607  615\nCONECT  608  609  612  613\nCONECT  609  614\nCONECT  615  616  620\nCONECT  616  617  619  621\nCONECT  617  618  618  625\nCONECT  619  622  623  624\nCONECT  625  626  637\nCONECT  626  627  629  638\nCONECT  627  628  628  646\nCONECT  629  630  639  640\nCONECT  630  631  632  632\nCONECT  631  633  633  641\nCONECT  632  634  642\nCONECT  633  635  643\nCONECT  634  635  635  644\nCONECT  635  636\nCONECT  636  645\nCONECT  646  647  655\nCONECT  647  648  654  656\nCONECT  648  649  649  661\nCONECT  650  651  654  659  660\nCONECT  651  652  652  653\nCONECT  654  657  658\nCONECT  661  662  672\nCONECT  662  663  667  673\nCONECT  663  664  664  681\nCONECT  665  666  670  670  679\nCONECT  666  671  671  680\nCONECT  667  668  674  675\nCONECT  668  669  669  670\nCONECT  669  671  676\nCONECT  670  677\nCONECT  671  678\nCONECT  681  682  693\nCONECT  682  683  685  694\nCONECT  683  684  684  702\nCONECT  685  686  695  696\nCONECT  686  687  688  688\nCONECT  687  689  689  697\nCONECT  688  690  698\nCONECT  689  691  699\nCONECT  690  691  691  700\nCONECT  691  692\nCONECT  692  701\nCONECT  702  703  712\nCONECT  703  704  711  713\nCONECT  704  705  705  719\nCONECT  706  707  707  708  711\nCONECT  707  710  716\nCONECT  708  709  709\nCONECT  709  710  717\nCONECT  710  718\nCONECT  711  714  715\nCONECT  719  720  724\nCONECT  720  721  723  725\nCONECT  721  722  722  729\nCONECT  723  726  727  728\nCONECT  729  730  737\nCONECT  730  731  733  738\nCONECT  731  732  732  748\nCONECT  733  734  739  740\nCONECT  734  735  736  741\nCONECT  735  742  743  744\nCONECT  736  745  746  747\nCONECT  748  749  756\nCONECT  749  750  754  757\nCONECT  750  751  751  760\nCONECT  752  755  755\nCONECT  753  755\nCONECT  754  755  758  759\nCONECT  760  761  766\nCONECT  761  762  764  767\nCONECT  762  763  763  771\nCONECT  764  765  768  769\nCONECT  765  770\nCONECT  771  772  780\nCONECT  772  773  777  781\nCONECT  773  774  774  786\nCONECT  775  779  779\nCONECT  776  779\nCONECT  777  778  782  783\nCONECT  778  779  784  785\nCONECT  786  787  794\nCONECT  787  788  793  795\nCONECT  788  789  789  800\nCONECT  790  791  792  792  793\nCONECT  791  798  799\nCONECT  793  796  797\nCONECT  800  801  808\nCONECT  801  802  804  809\nCONECT  802  803  803  817\nCONECT  804  805  810  811\nCONECT  805  806  812  813\nCONECT  806  807\nCONECT  807  814  815  816\nCONECT  817  818  824\nCONECT  818  819  821  825\nCONECT  819  820  820  831\nCONECT  821  822  823  826\nCONECT  822  827  828  829\nCONECT  823  830\nCONECT  831  832  840\nCONECT  832  833  836  841\nCONECT  833  834  834  853\nCONECT  835  839  850  851  852\nCONECT  836  837  842  843\nCONECT  837  838  844  845\nCONECT  838  839  846  847\nCONECT  839  848  849\nCONECT  853  854  859\nCONECT  854  855  857  860\nCONECT  855  856  856  864\nCONECT  857  858  861  862\nCONECT  858  863\nCONECT  864  865  874\nCONECT  865  866  868  875\nCONECT  866  867  867  881\nCONECT  868  869  876  877\nCONECT  869  870  870  871\nCONECT  870  873  878\nCONECT  871  872  872\nCONECT  872  873  879\nCONECT  873  880\nCONECT  881  882  890\nCONECT  882  883  888  891\nCONECT  883  884  884  898\nCONECT  885  886  887  887  889\nCONECT  886  896  897\nCONECT  888  889  892  893\nCONECT  889  894  895\nCONECT  898  899  906\nCONECT  899  900  902  907\nCONECT  900  901  901  912\nCONECT  902  903  908  909\nCONECT  903  904  905  905\nCONECT  904  910  911\nCONECT  912  913  920\nCONECT  913  914  916  921\nCONECT  914  915  915  931\nCONECT  916  917  922  923\nCONECT  917  918  919  924\nCONECT  918  925  926  927\nCONECT  919  928  929  930\nCONECT  931  932  937\nCONECT  932  933  935  938\nCONECT  933  934  934  942\nCONECT  935  936  939  940\nCONECT  936  941\nCONECT  942  943  949\nCONECT  943  944  946  950\nCONECT  944  945  945  956\nCONECT  946  947  948  951\nCONECT  947  952  953  954\nCONECT  948  955\nCONECT  956  957  965\nCONECT  957  958  962  966\nCONECT  958  959  959  978\nCONECT  960  961  964  973  974\nCONECT  961  975  976  977\nCONECT  962  963  967  968\nCONECT  963  964  969  970\nCONECT  964  971  972\nCONECT  978  979  982\nCONECT  979  980  983  984\nCONECT  980  981  981  985\nCONECT  985  986  994\nCONECT  986  987  993  995\nCONECT  987  988  988 1002\nCONECT  989  990  993  998  999\nCONECT  990  991  992  992\nCONECT  991 1000 1001\nCONECT  993  996  997\nCONECT 1002 1003 1009\nCONECT 1003 1004 1008 1010\nCONECT 1004 1005 1005 1018\nCONECT 1006 1008 1012 1013 1014\nCONECT 1007 1008 1015 1016 1017\nCONECT 1008 1011\nCONECT 1018 1019 1025\nCONECT 1019 1020 1022 1026\nCONECT 1020 1021 1021 1034\nCONECT 1022 1023 1024 1027\nCONECT 1023 1028 1029 1030\nCONECT 1024 1031 1032 1033\nCONECT 1034 1035 1040\nCONECT 1035 1036 1038 1041\nCONECT 1036 1037 1037 1045\nCONECT 1038 1039 1042 1043\nCONECT 1039 1044\nCONECT 1045 1046 1049\nCONECT 1046 1047 1050 1051\nCONECT 1047 1048 1048 1052\nCONECT 1052 1053 1061\nCONECT 1053 1054 1056 1062\nCONECT 1054 1055 1055 1069\nCONECT 1056 1057 1063 1064\nCONECT 1057 1058 1065 1066\nCONECT 1058 1059 1060 1060\nCONECT 1059 1067 1068\nCONECT 1069 1070 1081\nCONECT 1070 1071 1074 1082\nCONECT 1071 1072 1072 1090\nCONECT 1073 1080 1089\nCONECT 1074 1075 1083 1084\nCONECT 1075 1076 1077 1077\nCONECT 1076 1078 1078 1085\nCONECT 1077 1079 1086\nCONECT 1078 1080 1087\nCONECT 1079 1080 1080 1088\nCONECT 1090 1091 1101\nCONECT 1091 1092 1098 1102\nCONECT 1092 1093 1093 1114\nCONECT 1094 1095 1100 1109\nCONECT 1095 1096 1097 1097\nCONECT 1096 1110 1111\nCONECT 1097 1112 1113\nCONECT 1098 1099 1103 1104\nCONECT 1099 1100 1105 1106\nCONECT 1100 1107 1108\nCONECT 1114 1115 1122\nCONECT 1115 1116 1118 1123\nCONECT 1116 1117 1117 1131\nCONECT 1118 1119 1124 1125\nCONECT 1119 1120 1126 1127\nCONECT 1120 1121\nCONECT 1121 1128 1129 1130\nCONECT 1131 1132 1139\nCONECT 1132 1133 1135 1140\nCONECT 1133 1134 1134 1150\nCONECT 1135 1136 1141 1142\nCONECT 1136 1137 1138 1143\nCONECT 1137 1144 1145 1146\nCONECT 1138 1147 1148 1149\nCONECT 1150 1151 1155\nCONECT 1151 1152 1154 1156\nCONECT 1152 1153 1153 1160\nCONECT 1154 1157 1158 1159\nCONECT 1160 1161 1169\nCONECT 1161 1162 1164 1170\nCONECT 1162 1163 1163 1182\nCONECT 1164 1165 1171 1172\nCONECT 1165 1166 1173 1174\nCONECT 1166 1167 1175 1176\nCONECT 1167 1168 1177 1178\nCONECT 1168 1179 1180 1181\nCONECT 1182 1183 1192\nCONECT 1183 1184 1191 1193\nCONECT 1184 1185 1185 1199\nCONECT 1186 1187 1187 1188 1191\nCONECT 1187 1190 1196\nCONECT 1188 1189 1197\nCONECT 1189 1190 1190 1198\nCONECT 1191 1194 1195\nCONECT 1199 1200 1203\nCONECT 1200 1201 1204 1205\nCONECT 1201 1202 1202 1206\nCONECT 1206 1207 1210\nCONECT 1207 1208 1211 1212\nCONECT 1208 1209 1209 1213\nCONECT 1213 1214 1225\nCONECT 1214 1215 1217 1226\nCONECT 1215 1216 1216 1234\nCONECT 1217 1218 1227 1228\nCONECT 1218 1219 1220 1220\nCONECT 1219 1221 1221 1229\nCONECT 1220 1222 1230\nCONECT 1221 1223 1231\nCONECT 1222 1223 1223 1232\nCONECT 1223 1224\nCONECT 1224 1233\nCONECT 1234 1235 1241\nCONECT 1235 1236 1238 1242\nCONECT 1236 1237 1237 1250\nCONECT 1238 1239 1240 1243\nCONECT 1239 1244 1245 1246\nCONECT 1240 1247 1248 1249\nCONECT 1250 1251 1264\nCONECT 1251 1252 1254 1265\nCONECT 1252 1253 1253 1274\nCONECT 1254 1255 1266 1267\nCONECT 1255 1256 1256 1257\nCONECT 1256 1260 1268\nCONECT 1257 1258 1258 1259\nCONECT 1258 1260 1261\nCONECT 1259 1262 1262 1269\nCONECT 1260 1270\nCONECT 1261 1263 1263 1271\nCONECT 1262 1263 1272\nCONECT 1263 1273\nCONECT 1274 1275 1282\nCONECT 1275 1276 1278 1283\nCONECT 1276 1277 1277 1293\nCONECT 1278 1279 1284 1285\nCONECT 1279 1280 1281 1286\nCONECT 1280 1287 1288 1289\nCONECT 1281 1290 1291 1292\nCONECT 1293 1294 1302\nCONECT 1294 1295 1300 1303\nCONECT 1295 1296 1296 1308\nCONECT 1297 1298 1298 1299 1301\nCONECT 1300 1301 1304 1305\nCONECT 1301 1306 1307\nCONECT 1308 1309 1315\nCONECT 1309 1310 1312 1316\nCONECT 1310 1311 1311 1322\nCONECT 1312 1313 1314 1317\nCONECT 1313 1318 1319 1320\nCONECT 1314 1321\nCONECT 1322 1323 1331\nCONECT 1323 1324 1326 1332\nCONECT 1324 1325 1325 1339\nCONECT 1326 1327 1333 1334\nCONECT 1327 1328 1335 1336\nCONECT 1328 1329 1330 1330\nCONECT 1329 1337 1338\nCONECT 1339 1340 1343\nCONECT 1340 1341 1344 1345\nCONECT 1341 1342 1342 1346\nCONECT 1346 1347 1353\nCONECT 1347 1348 1350 1354\nCONECT 1348 1349 1349 1360\nCONECT 1350 1351 1352 1355\nCONECT 1351 1356 1357 1358\nCONECT 1352 1359\nCONECT 1360 1361 1367\nCONECT 1361 1362 1364 1368\nCONECT 1362 1363 1363 1376\nCONECT 1364 1365 1366 1369\nCONECT 1365 1370 1371 1372\nCONECT 1366 1373 1374 1375\nCONECT 1376 1377 1384\nCONECT 1377 1378 1380 1385\nCONECT 1378 1379 1379 1395\nCONECT 1380 1381 1382 1386\nCONECT 1381 1383 1387 1388\nCONECT 1382 1389 1390 1391\nCONECT 1383 1392 1393 1394\nCONECT 1395 1396 1407\nCONECT 1396 1397 1405 1408\nCONECT 1397 1398 1398 1416\nCONECT 1399 1401 1401 1406 1411\nCONECT 1400 1402 1406 1406 1412\nCONECT 1401 1403 1413\nCONECT 1402 1403 1403 1414\nCONECT 1403 1404\nCONECT 1404 1415\nCONECT 1405 1406 1409 1410\nCONECT 1416 1417 1424\nCONECT 1417 1418 1421 1425\nCONECT 1418 1419 1419 1430\nCONECT 1420 1422 1422\nCONECT 1421 1422 1426 1427\nCONECT 1422 1423\nCONECT 1423 1428 1429\nCONECT 1430 1431 1436\nCONECT 1431 1432 1434 1437\nCONECT 1432 1433 1433 1444\nCONECT 1434 1435 1438 1439\nCONECT 1435 1436 1440 1441\nCONECT 1436 1442 1443\nCONECT 1444 1445 1455\nCONECT 1445 1446 1448 1456\nCONECT 1446 1447 1447 1468\nCONECT 1448 1449 1457 1458\nCONECT 1449 1450 1459 1460\nCONECT 1450 1451 1461 1462\nCONECT 1451 1452 1463\nCONECT 1452 1453 1454 1454\nCONECT 1453 1464 1465\nCONECT 1454 1466 1467\nCONECT 1468 1469 1476\nCONECT 1469 1470 1472 1477\nCONECT 1470 1471 1471 1482\nCONECT 1472 1473 1478 1479\nCONECT 1473 1474 1474 1475\nCONECT 1475 1480 1481\nCONECT 1482 1483 1490\nCONECT 1483 1484 1486 1491\nCONECT 1484 1485 1485 1501\nCONECT 1486 1487 1492 1493\nCONECT 1487 1488 1489 1494\nCONECT 1488 1495 1496 1497\nCONECT 1489 1498 1499 1500\nCONECT 1501 1502 1510\nCONECT 1502 1503 1505 1511\nCONECT 1503 1504 1504 1518\nCONECT 1505 1506 1512 1513\nCONECT 1506 1507 1514 1515\nCONECT 1507 1508 1508 1509\nCONECT 1509 1516 1517\nCONECT 1518 1519 1524\nCONECT 1519 1520 1522 1525\nCONECT 1520 1521 1521 1532\nCONECT 1522 1523 1526 1527\nCONECT 1523 1524 1528 1529\nCONECT 1524 1530 1531\nCONECT 1532 1533 1541\nCONECT 1533 1534 1536 1542\nCONECT 1534 1535 1535 1549\nCONECT 1536 1537 1543 1544\nCONECT 1537 1538 1545 1546\nCONECT 1538 1539 1540 1540\nCONECT 1539 1547 1548\nCONECT 1549 1550 1558\nCONECT 1550 1551 1553 1559\nCONECT 1551 1552 1552 1560\nCONECT 1553 1554 1555 1556\nCONECT 1554 1557\nCONECT 1560 1561 1570\nCONECT 1561 1562 1564 1571\nCONECT 1562 1563 1563 1579\nCONECT 1564 1565 1566 1572\nCONECT 1565 1567 1573 1574\nCONECT 1566 1575 1576 1577\nCONECT 1567 1568 1569 1578\nCONECT 1579 1580 1587\nCONECT 1580 1581 1583 1588\nCONECT 1581 1582 1582 1596\nCONECT 1583 1584 1589 1590\nCONECT 1584 1585 1591 1592\nCONECT 1585 1586\nCONECT 1586 1593 1594 1595\nCONECT 1596 1597 1605\nCONECT 1597 1598 1600 1606\nCONECT 1598 1599 1599 1607\nCONECT 1600 1601 1602 1603\nCONECT 1601 1604\nCONECT 1607 1608 1620\nCONECT 1608 1609 1611 1621\nCONECT 1609 1610 1610 1623\nCONECT 1611 1612 1613 1622\nCONECT 1612 1614 1615 1616\nCONECT 1613 1617 1618 1619\nCONECT 1623 1624 1631\nCONECT 1624 1625 1629 1632\nCONECT 1625 1626 1626 1637\nCONECT 1627 1630 1635 1636\nCONECT 1628 1630 1630\nCONECT 1629 1630 1633 1634\nCONECT 1637 1638 1649\nCONECT 1638 1639 1641 1650\nCONECT 1639 1640 1640 1658\nCONECT 1641 1642 1651 1652\nCONECT 1642 1643 1644 1644\nCONECT 1643 1645 1645 1653\nCONECT 1644 1646 1654\nCONECT 1645 1647 1655\nCONECT 1646 1647 1647 1656\nCONECT 1647 1648\nCONECT 1648 1657\nCONECT 1658 1659 1671\nCONECT 1659 1660 1663 1672\nCONECT 1660 1661 1661 1674\nCONECT 1662 1663 1668 1669 1670\nCONECT 1663 1664 1673\nCONECT 1664 1665 1666 1667\nCONECT 1674 1675 1684\nCONECT 1675 1676 1678 1685\nCONECT 1676 1677 1677 1693\nCONECT 1678 1679 1686 1687\nCONECT 1679 1680 1681 1688\nCONECT 1680 1689 1690 1691\nCONECT 1681 1682 1683 1692\nCONECT 1693 1694 1702\nCONECT 1694 1695 1697 1703\nCONECT 1695 1696 1696 1704\nCONECT 1697 1698 1699 1700\nCONECT 1698 1701\nCONECT 1704 1705 1714\nCONECT 1705 1706 1708 1715\nCONECT 1706 1707 1707 1719\nCONECT 1708 1709 1716 1717\nCONECT 1709 1710 1713 1718\nCONECT 1710 1711 1711 1712\nCONECT 1719 1720 1729\nCONECT 1720 1721 1723 1730\nCONECT 1721 1722 1722 1738\nCONECT 1723 1724 1725 1731\nCONECT 1724 1726 1732 1733\nCONECT 1725 1734 1735 1736\nCONECT 1726 1727 1728 1737\nCONECT 1738 1739 1752\nCONECT 1739 1740 1742 1747\nCONECT 1740 1741 1741 1753\nCONECT 1742 1743 1748 1749\nCONECT 1743 1744 1750 1751\nCONECT 1744 1745 1745 1746\nCONECT 1753 1754 1755\nCONECT 1754 1756 1757 1758\n",
           "type": "blob"
          }
         ],
         "kwargs": {
          "defaultRepresentation": true,
          "ext": "pdb",
          "name": "<openff.toolkit.utils.viz._OFFTrajectoryNGLView object at 0x13cebea90>"
         },
         "methodName": "loadFile",
         "reconstruc_color_scheme": false,
         "target": "Stage",
         "type": "call_method"
        }
       ],
       "_ngl_original_stage_parameters": {},
       "_ngl_repr_dict": {},
       "_ngl_serialize": false,
       "_ngl_version": "",
       "_ngl_view_id": [],
       "_player_dict": {},
       "_scene_position": {},
       "_scene_rotation": {},
       "_synced_model_ids": [],
       "_synced_repr_model_ids": [],
       "_view_count": null,
       "_view_height": "",
       "_view_module": "nglview-js-widgets",
       "_view_module_version": "3.0.8",
       "_view_name": "NGLView",
       "_view_width": "",
       "background": "white",
       "frame": 0,
       "gui_style": null,
       "layout": "IPY_MODEL_65180bec6af44089b317c5ea0ed89d44",
       "max_frame": 0,
       "n_components": 0,
       "picked": {},
       "tabbable": null,
       "tooltip": null
      }
     },
     "df5f6051346b48f7b756e60ab9a57f54": {
      "model_module": "@jupyter-widgets/base",
      "model_module_version": "2.0.0",
      "model_name": "LayoutModel",
      "state": {
       "_model_module": "@jupyter-widgets/base",
       "_model_module_version": "2.0.0",
       "_model_name": "LayoutModel",
       "_view_count": null,
       "_view_module": "@jupyter-widgets/base",
       "_view_module_version": "2.0.0",
       "_view_name": "LayoutView",
       "align_content": null,
       "align_items": null,
       "align_self": null,
       "border_bottom": null,
       "border_left": null,
       "border_right": null,
       "border_top": null,
       "bottom": null,
       "display": null,
       "flex": null,
       "flex_flow": null,
       "grid_area": null,
       "grid_auto_columns": null,
       "grid_auto_flow": null,
       "grid_auto_rows": null,
       "grid_column": null,
       "grid_gap": null,
       "grid_row": null,
       "grid_template_areas": null,
       "grid_template_columns": null,
       "grid_template_rows": null,
       "height": null,
       "justify_content": null,
       "justify_items": null,
       "left": null,
       "margin": null,
       "max_height": null,
       "max_width": null,
       "min_height": null,
       "min_width": null,
       "object_fit": null,
       "object_position": null,
       "order": null,
       "overflow": null,
       "padding": null,
       "right": null,
       "top": null,
       "visibility": null,
       "width": null
      }
     },
     "e0606f3a1c624c20aeef480838f73a7e": {
      "model_module": "@jupyter-widgets/controls",
      "model_module_version": "2.0.0",
      "model_name": "SliderStyleModel",
      "state": {
       "_model_module": "@jupyter-widgets/controls",
       "_model_module_version": "2.0.0",
       "_model_name": "SliderStyleModel",
       "_view_count": null,
       "_view_module": "@jupyter-widgets/base",
       "_view_module_version": "2.0.0",
       "_view_name": "StyleView",
       "description_width": "",
       "handle_color": null
      }
     },
     "e613a849aae942f6a3996b42cffdbf59": {
      "model_module": "nglview-js-widgets",
      "model_module_version": "3.0.8",
      "model_name": "NGLModel",
      "state": {
       "_camera_orientation": [],
       "_camera_str": "orthographic",
       "_dom_classes": [],
       "_gui_theme": null,
       "_ibtn_fullscreen": "IPY_MODEL_9dd8f72425eb48e488b309562e51b433",
       "_igui": null,
       "_iplayer": "IPY_MODEL_c6f52288720d461d8ffd9b74ec8c8deb",
       "_model_module": "nglview-js-widgets",
       "_model_module_version": "3.0.8",
       "_model_name": "NGLModel",
       "_ngl_color_dict": {},
       "_ngl_coordinate_resource": {},
       "_ngl_full_stage_parameters": {},
       "_ngl_msg_archive": [
        {
         "args": [
          {
           "binary": false,
           "data": "ATOM      1  N   MET A   0      33.430  11.280  44.490  1.00  0.00           N1+\nATOM      2  H   MET A   0      32.860  11.870  45.090  1.00  0.00           H  \nATOM      3  H2  MET A   0      32.970  10.380  44.440  1.00  0.00           H  \nATOM      4  H3  MET A   0      34.270  11.280  45.050  1.00  0.00           H  \nATOM      5  CA  MET A   0      33.550  11.970  43.200  1.00  0.00           C  \nATOM      6  HA  MET A   0      34.090  12.890  43.410  1.00  0.00           H  \nATOM      7  CB  MET A   0      34.550  11.390  42.270  1.00  0.00           C  \nATOM      8 HB2  MET A   0      35.470  11.330  42.850  1.00  0.00           H  \nATOM      9 HB3  MET A   0      34.320  10.370  41.960  1.00  0.00           H  \nATOM     10  CG  MET A   0      34.730  12.320  41.020  1.00  0.00           C  \nATOM     11 HG2  MET A   0      35.430  11.840  40.340  1.00  0.00           H  \nATOM     12 HG3  MET A   0      33.720  12.350  40.620  1.00  0.00           H  \nATOM     13  SD  MET A   0      35.270  14.050  41.300  1.00  0.00           S  \nATOM     14  CE  MET A   0      37.050  13.800  41.760  1.00  0.00           C  \nATOM     15 HE1  MET A   0      37.170  13.650  42.830  1.00  0.00           H  \nATOM     16 HE2  MET A   0      37.500  12.990  41.190  1.00  0.00           H  \nATOM     17 HE3  MET A   0      37.570  14.740  41.600  1.00  0.00           H  \nATOM     18  C   MET A   0      32.100  12.250  42.660  1.00  0.00           C  \nATOM     19  O   MET A   0      31.370  11.320  42.330  1.00  0.00           O  \nATOM     20  N   ASN A   1      31.740  13.550  42.670  1.00  0.00           N  \nATOM     21  H   ASN A   1      32.490  14.160  42.970  1.00  0.00           H  \nATOM     22  CA  ASN A   1      30.410  14.180  42.580  1.00  0.00           C  \nATOM     23  HA  ASN A   1      29.790  13.840  41.750  1.00  0.00           H  \nATOM     24  CB  ASN A   1      29.680  13.970  43.910  1.00  0.00           C  \nATOM     25 HB2  ASN A   1      28.610  14.090  43.760  1.00  0.00           H  \nATOM     26 HB3  ASN A   1      29.880  13.020  44.410  1.00  0.00           H  \nATOM     27  CG  ASN A   1      29.930  15.080  44.920  1.00  0.00           C  \nATOM     28 OD1  ASN A   1      29.060  15.930  45.070  1.00  0.00           O  \nATOM     29 ND2  ASN A   1      31.150  15.160  45.390  1.00  0.00           N  \nATOM     30 HD21 ASN A   1      31.300  15.760  46.190  1.00  0.00           H  \nATOM     31 HD22 ASN A   1      31.650  14.290  45.430  1.00  0.00           H  \nATOM     32  C   ASN A   1      30.780  15.680  42.230  1.00  0.00           C  \nATOM     33  O   ASN A   1      31.920  16.150  42.060  1.00  0.00           O  \nATOM     34  N   ILE A   2      29.720  16.460  42.300  1.00  0.00           N  \nATOM     35  H   ILE A   2      28.800  16.060  42.360  1.00  0.00           H  \nATOM     36  CA  ILE A   2      29.730  17.900  41.850  1.00  0.00           C  \nATOM     37  HA  ILE A   2      30.200  17.910  40.870  1.00  0.00           H  \nATOM     38  CB  ILE A   2      28.260  18.480  41.650  1.00  0.00           C  \nATOM     39  HB  ILE A   2      27.860  17.810  40.890  1.00  0.00           H  \nATOM     40 CG2  ILE A   2      27.360  18.350  42.860  1.00  0.00           C  \nATOM     41 HG21 ILE A   2      27.350  17.300  43.160  1.00  0.00           H  \nATOM     42 HG22 ILE A   2      27.750  18.700  43.820  1.00  0.00           H  \nATOM     43 HG23 ILE A   2      26.300  18.550  42.690  1.00  0.00           H  \nATOM     44 CG1  ILE A   2      28.160  19.910  41.010  1.00  0.00           C  \nATOM     45 HG12 ILE A   2      27.090  20.130  40.980  1.00  0.00           H  \nATOM     46 HG13 ILE A   2      28.570  20.690  41.660  1.00  0.00           H  \nATOM     47 CD1  ILE A   2      28.700  20.080  39.610  1.00  0.00           C  \nATOM     48 HD11 ILE A   2      28.240  19.360  38.930  1.00  0.00           H  \nATOM     49 HD12 ILE A   2      28.450  21.060  39.190  1.00  0.00           H  \nATOM     50 HD13 ILE A   2      29.790  20.070  39.700  1.00  0.00           H  \nATOM     51  C   ILE A   2      30.590  18.740  42.830  1.00  0.00           C  \nATOM     52  O   ILE A   2      31.410  19.490  42.430  1.00  0.00           O  \nATOM     53  N   PHE A   3      30.450  18.570  44.170  1.00  0.00           N  \nATOM     54  H   PHE A   3      29.690  18.010  44.530  1.00  0.00           H  \nATOM     55  CA  PHE A   3      31.220  19.340  45.140  1.00  0.00           C  \nATOM     56  HA  PHE A   3      31.230  20.350  44.730  1.00  0.00           H  \nATOM     57  CB  PHE A   3      30.520  19.320  46.560  1.00  0.00           C  \nATOM     58 HB2  PHE A   3      30.590  18.330  47.000  1.00  0.00           H  \nATOM     59 HB3  PHE A   3      31.140  20.030  47.090  1.00  0.00           H  \nATOM     60  CG  PHE A   3      29.080  19.800  46.590  1.00  0.00           C  \nATOM     61 CD1  PHE A   3      28.040  18.900  46.670  1.00  0.00           C  \nATOM     62 HD1  PHE A   3      28.220  17.840  46.740  1.00  0.00           H  \nATOM     63 CE1  PHE A   3      26.740  19.350  46.530  1.00  0.00           C  \nATOM     64 HE1  PHE A   3      26.010  18.560  46.410  1.00  0.00           H  \nATOM     65  CZ  PHE A   3      26.380  20.660  46.390  1.00  0.00           C  \nATOM     66  HZ  PHE A   3      25.410  21.130  46.280  1.00  0.00           H  \nATOM     67 CE2  PHE A   3      27.430  21.680  46.360  1.00  0.00           C  \nATOM     68 HE2  PHE A   3      27.240  22.740  46.260  1.00  0.00           H  \nATOM     69 CD2  PHE A   3      28.750  21.160  46.580  1.00  0.00           C  \nATOM     70 HD2  PHE A   3      29.570  21.830  46.410  1.00  0.00           H  \nATOM     71  C   PHE A   3      32.670  18.990  45.190  1.00  0.00           C  \nATOM     72  O   PHE A   3      33.390  19.720  45.880  1.00  0.00           O  \nATOM     73  N   GLU A   4      33.110  17.900  44.440  1.00  0.00           N  \nATOM     74  H   GLU A   4      32.360  17.420  43.960  1.00  0.00           H  \nATOM     75  CA  GLU A   4      34.560  17.750  44.060  1.00  0.00           C  \nATOM     76  HA  GLU A   4      35.120  18.220  44.880  1.00  0.00           H  \nATOM     77  CB  GLU A   4      34.920  16.310  43.940  1.00  0.00           C  \nATOM     78 HB2  GLU A   4      34.170  15.810  43.330  1.00  0.00           H  \nATOM     79 HB3  GLU A   4      35.920  16.260  43.490  1.00  0.00           H  \nATOM     80  CG  GLU A   4      35.060  15.660  45.370  1.00  0.00           C  \nATOM     81 HG2  GLU A   4      36.090  15.700  45.740  1.00  0.00           H  \nATOM     82 HG3  GLU A   4      34.420  16.080  46.130  1.00  0.00           H  \nATOM     83  CD  GLU A   4      34.660  14.150  45.330  1.00  0.00           C  \nATOM     84 OE1  GLU A   4      33.470  13.710  45.590  1.00  0.00           O  \nATOM     85 OE2  GLU A   4      35.560  13.300  45.070  1.00  0.00           O1-\nATOM     86  C   GLU A   4      35.010  18.410  42.740  1.00  0.00           C  \nATOM     87  O   GLU A   4      35.990  19.120  42.700  1.00  0.00           O  \nATOM     88  N   MET A   5      34.190  18.210  41.700  1.00  0.00           N  \nATOM     89  H   MET A   5      33.400  17.600  41.830  1.00  0.00           H  \nATOM     90  CA  MET A   5      34.490  18.890  40.390  1.00  0.00           C  \nATOM     91  HA  MET A   5      35.410  18.450  40.000  1.00  0.00           H  \nATOM     92  CB  MET A   5      33.270  18.370  39.480  1.00  0.00           C  \nATOM     93 HB2  MET A   5      33.110  17.310  39.670  1.00  0.00           H  \nATOM     94 HB3  MET A   5      32.380  18.920  39.810  1.00  0.00           H  \nATOM     95  CG  MET A   5      33.440  18.630  37.990  1.00  0.00           C  \nATOM     96 HG2  MET A   5      34.030  19.530  37.850  1.00  0.00           H  \nATOM     97 HG3  MET A   5      34.150  17.920  37.580  1.00  0.00           H  \nATOM     98  SD  MET A   5      32.010  18.760  36.850  1.00  0.00           S  \nATOM     99  CE  MET A   5      32.810  18.210  35.270  1.00  0.00           C  \nATOM    100 HE1  MET A   5      33.440  17.360  35.550  1.00  0.00           H  \nATOM    101 HE2  MET A   5      31.990  17.850  34.650  1.00  0.00           H  \nATOM    102 HE3  MET A   5      33.350  19.010  34.750  1.00  0.00           H  \nATOM    103  C   MET A   5      34.730  20.400  40.380  1.00  0.00           C  \nATOM    104  O   MET A   5      35.730  20.780  39.860  1.00  0.00           O  \nATOM    105  N   LEU A   6      33.880  21.170  41.010  1.00  0.00           N  \nATOM    106  H   LEU A   6      33.010  20.770  41.340  1.00  0.00           H  \nATOM    107  CA  LEU A   6      33.980  22.640  41.170  1.00  0.00           C  \nATOM    108  HA  LEU A   6      34.200  23.060  40.190  1.00  0.00           H  \nATOM    109  CB  LEU A   6      32.730  23.190  41.680  1.00  0.00           C  \nATOM    110 HB2  LEU A   6      32.590  22.870  42.710  1.00  0.00           H  \nATOM    111 HB3  LEU A   6      32.810  24.270  41.630  1.00  0.00           H  \nATOM    112  CG  LEU A   6      31.450  22.810  40.830  1.00  0.00           C  \nATOM    113  HG  LEU A   6      31.390  21.740  40.650  1.00  0.00           H  \nATOM    114 CD1  LEU A   6      30.140  23.260  41.540  1.00  0.00           C  \nATOM    115 HD11 LEU A   6      30.070  24.350  41.510  1.00  0.00           H  \nATOM    116 HD12 LEU A   6      29.300  22.790  41.030  1.00  0.00           H  \nATOM    117 HD13 LEU A   6      30.240  22.890  42.560  1.00  0.00           H  \nATOM    118 CD2  LEU A   6      31.440  23.320  39.400  1.00  0.00           C  \nATOM    119 HD21 LEU A   6      32.410  23.110  38.930  1.00  0.00           H  \nATOM    120 HD22 LEU A   6      30.600  22.850  38.880  1.00  0.00           H  \nATOM    121 HD23 LEU A   6      31.190  24.380  39.340  1.00  0.00           H  \nATOM    122  C   LEU A   6      35.120  23.000  42.190  1.00  0.00           C  \nATOM    123  O   LEU A   6      35.920  23.900  41.960  1.00  0.00           O  \nATOM    124  N   ARG A   7      35.330  22.150  43.200  1.00  0.00           N  \nATOM    125  H   ARG A   7      34.760  21.320  43.310  1.00  0.00           H  \nATOM    126  CA  ARG A   7      36.360  22.420  44.180  1.00  0.00           C  \nATOM    127  HA  ARG A   7      36.400  23.490  44.370  1.00  0.00           H  \nATOM    128  CB  ARG A   7      35.920  21.650  45.480  1.00  0.00           C  \nATOM    129 HB2  ARG A   7      34.960  22.080  45.770  1.00  0.00           H  \nATOM    130 HB3  ARG A   7      35.860  20.580  45.290  1.00  0.00           H  \nATOM    131  CG  ARG A   7      36.910  21.860  46.640  1.00  0.00           C  \nATOM    132 HG2  ARG A   7      37.840  21.670  46.090  1.00  0.00           H  \nATOM    133 HG3  ARG A   7      37.030  22.900  46.970  1.00  0.00           H  \nATOM    134  CD  ARG A   7      36.740  20.780  47.800  1.00  0.00           C  \nATOM    135 HD2  ARG A   7      37.010  19.890  47.230  1.00  0.00           H  \nATOM    136 HD3  ARG A   7      37.500  20.820  48.580  1.00  0.00           H  \nATOM    137  NE  ARG A   7      35.420  20.500  48.330  1.00  0.00           N  \nATOM    138  HE  ARG A   7      34.770  20.050  47.710  1.00  0.00           H  \nATOM    139  CZ  ARG A   7      34.960  20.890  49.470  1.00  0.00           C  \nATOM    140 NH1  ARG A   7      35.590  21.650  50.290  1.00  0.00           N  \nATOM    141 HH11 ARG A   7      36.510  22.050  50.160  1.00  0.00           H  \nATOM    142 HH12 ARG A   7      35.040  21.850  51.110  1.00  0.00           H  \nATOM    143 NH2  ARG A   7      33.700  20.620  49.790  1.00  0.00           N1+\nATOM    144 HH21 ARG A   7      33.130  19.950  49.280  1.00  0.00           H  \nATOM    145 HH22 ARG A   7      33.350  20.910  50.690  1.00  0.00           H  \nATOM    146  C   ARG A   7      37.790  22.100  43.640  1.00  0.00           C  \nATOM    147  O   ARG A   7      38.740  22.830  44.010  1.00  0.00           O  \nATOM    148  N   ILE A   8      37.950  21.190  42.680  1.00  0.00           N  \nATOM    149  H   ILE A   8      37.210  20.530  42.520  1.00  0.00           H  \nATOM    150  CA  ILE A   8      39.140  21.080  41.830  1.00  0.00           C  \nATOM    151  HA  ILE A   8      40.050  21.160  42.430  1.00  0.00           H  \nATOM    152  CB  ILE A   8      39.160  19.680  41.200  1.00  0.00           C  \nATOM    153  HB  ILE A   8      38.240  19.320  40.740  1.00  0.00           H  \nATOM    154 CG2  ILE A   8      40.260  19.580  40.090  1.00  0.00           C  \nATOM    155 HG21 ILE A   8      41.180  19.890  40.590  1.00  0.00           H  \nATOM    156 HG22 ILE A   8      40.510  18.600  39.660  1.00  0.00           H  \nATOM    157 HG23 ILE A   8      40.150  20.330  39.310  1.00  0.00           H  \nATOM    158 CG1  ILE A   8      39.480  18.610  42.320  1.00  0.00           C  \nATOM    159 HG12 ILE A   8      40.530  18.700  42.610  1.00  0.00           H  \nATOM    160 HG13 ILE A   8      38.870  18.850  43.190  1.00  0.00           H  \nATOM    161 CD1  ILE A   8      39.300  17.130  42.020  1.00  0.00           C  \nATOM    162 HD11 ILE A   8      40.010  16.660  42.700  1.00  0.00           H  \nATOM    163 HD12 ILE A   8      38.250  16.900  42.160  1.00  0.00           H  \nATOM    164 HD13 ILE A   8      39.590  16.880  40.990  1.00  0.00           H  \nATOM    165  C   ILE A   8      39.220  22.270  40.820  1.00  0.00           C  \nATOM    166  O   ILE A   8      40.360  22.830  40.690  1.00  0.00           O  \nATOM    167  N   ASP A   9      38.160  22.740  40.210  1.00  0.00           N  \nATOM    168  H   ASP A   9      37.280  22.250  40.320  1.00  0.00           H  \nATOM    169  CA  ASP A   9      38.320  23.820  39.170  1.00  0.00           C  \nATOM    170  HA  ASP A   9      39.220  23.540  38.630  1.00  0.00           H  \nATOM    171  CB  ASP A   9      37.110  23.880  38.170  1.00  0.00           C  \nATOM    172 HB2  ASP A   9      36.270  24.010  38.850  1.00  0.00           H  \nATOM    173 HB3  ASP A   9      37.150  24.710  37.470  1.00  0.00           H  \nATOM    174  CG  ASP A   9      36.960  22.620  37.320  1.00  0.00           C  \nATOM    175 OD1  ASP A   9      37.950  22.130  36.800  1.00  0.00           O  \nATOM    176 OD2  ASP A   9      35.770  22.180  37.100  1.00  0.00           O1-\nATOM    177  C   ASP A   9      38.530  25.280  39.740  1.00  0.00           C  \nATOM    178  O   ASP A   9      39.020  26.220  39.030  1.00  0.00           O  \nATOM    179  N   GLU A  10      38.290  25.440  41.010  1.00  0.00           N  \nATOM    180  H   GLU A  10      37.790  24.660  41.410  1.00  0.00           H  \nATOM    181  CA  GLU A  10      38.370  26.740  41.750  1.00  0.00           C  \nATOM    182  HA  GLU A  10      38.810  27.480  41.070  1.00  0.00           H  \nATOM    183  CB  GLU A  10      36.950  27.110  42.190  1.00  0.00           C  \nATOM    184 HB2  GLU A  10      36.500  26.280  42.730  1.00  0.00           H  \nATOM    185 HB3  GLU A  10      37.020  28.010  42.810  1.00  0.00           H  \nATOM    186  CG  GLU A  10      35.950  27.390  41.010  1.00  0.00           C  \nATOM    187 HG2  GLU A  10      35.820  26.540  40.340  1.00  0.00           H  \nATOM    188 HG3  GLU A  10      34.960  27.500  41.450  1.00  0.00           H  \nATOM    189  CD  GLU A  10      36.370  28.620  40.170  1.00  0.00           C  \nATOM    190 OE1  GLU A  10      35.720  28.790  39.100  1.00  0.00           O  \nATOM    191 OE2  GLU A  10      37.380  29.280  40.460  1.00  0.00           O1-\nATOM    192  C   GLU A  10      39.290  26.720  42.960  1.00  0.00           C  \nATOM    193  O   GLU A  10      39.970  27.690  43.190  1.00  0.00           O  \nATOM    194  N   GLY A  11      39.320  25.600  43.660  1.00  0.00           N  \nATOM    195  H   GLY A  11      38.670  24.910  43.340  1.00  0.00           H  \nATOM    196  CA  GLY A  11      39.910  25.590  45.050  1.00  0.00           C  \nATOM    197 HA2  GLY A  11      39.970  24.560  45.380  1.00  0.00           H  \nATOM    198 HA3  GLY A  11      40.920  26.000  44.990  1.00  0.00           H  \nATOM    199  C   GLY A  11      39.190  26.460  46.050  1.00  0.00           C  \nATOM    200  O   GLY A  11      38.110  27.000  45.790  1.00  0.00           O  \nATOM    201  N   LEU A  12      39.810  26.640  47.230  1.00  0.00           N  \nATOM    202  H   LEU A  12      40.510  25.940  47.440  1.00  0.00           H  \nATOM    203  CA  LEU A  12      39.310  27.470  48.310  1.00  0.00           C  \nATOM    204  HA  LEU A  12      38.250  27.690  48.150  1.00  0.00           H  \nATOM    205  CB  LEU A  12      39.600  26.720  49.640  1.00  0.00           C  \nATOM    206 HB2  LEU A  12      39.280  25.680  49.570  1.00  0.00           H  \nATOM    207 HB3  LEU A  12      40.680  26.780  49.800  1.00  0.00           H  \nATOM    208  CG  LEU A  12      38.920  27.430  50.890  1.00  0.00           C  \nATOM    209  HG  LEU A  12      39.380  28.420  50.980  1.00  0.00           H  \nATOM    210 CD1  LEU A  12      37.480  27.620  50.840  1.00  0.00           C  \nATOM    211 HD11 LEU A  12      37.050  26.620  50.790  1.00  0.00           H  \nATOM    212 HD12 LEU A  12      37.140  28.010  51.800  1.00  0.00           H  \nATOM    213 HD13 LEU A  12      37.030  28.260  50.080  1.00  0.00           H  \nATOM    214 CD2  LEU A  12      39.150  26.480  52.070  1.00  0.00           C  \nATOM    215 HD21 LEU A  12      38.640  25.530  51.900  1.00  0.00           H  \nATOM    216 HD22 LEU A  12      40.220  26.320  52.210  1.00  0.00           H  \nATOM    217 HD23 LEU A  12      38.710  26.890  52.980  1.00  0.00           H  \nATOM    218  C   LEU A  12      40.170  28.800  48.370  1.00  0.00           C  \nATOM    219  O   LEU A  12      41.370  28.760  48.500  1.00  0.00           O  \nATOM    220  N   ARG A  13      39.470  29.960  48.290  1.00  0.00           N  \nATOM    221  H   ARG A  13      38.560  29.860  47.870  1.00  0.00           H  \nATOM    222  CA  ARG A  13      40.020  31.300  48.510  1.00  0.00           C  \nATOM    223  HA  ARG A  13      41.020  31.160  48.930  1.00  0.00           H  \nATOM    224  CB  ARG A  13      40.180  32.070  47.170  1.00  0.00           C  \nATOM    225 HB2  ARG A  13      39.240  31.960  46.630  1.00  0.00           H  \nATOM    226 HB3  ARG A  13      40.280  33.130  47.400  1.00  0.00           H  \nATOM    227  CG  ARG A  13      41.400  31.580  46.450  1.00  0.00           C  \nATOM    228 HG2  ARG A  13      42.310  31.670  47.050  1.00  0.00           H  \nATOM    229 HG3  ARG A  13      41.290  30.500  46.340  1.00  0.00           H  \nATOM    230  CD  ARG A  13      41.510  32.350  45.150  1.00  0.00           C  \nATOM    231 HD2  ARG A  13      41.060  33.330  45.290  1.00  0.00           H  \nATOM    232 HD3  ARG A  13      42.540  32.550  44.830  1.00  0.00           H  \nATOM    233  NE  ARG A  13      40.690  31.580  44.160  1.00  0.00           N  \nATOM    234  HE  ARG A  13      39.830  31.150  44.490  1.00  0.00           H  \nATOM    235  CZ  ARG A  13      40.990  31.210  42.930  1.00  0.00           C  \nATOM    236 NH1  ARG A  13      42.020  31.670  42.290  1.00  0.00           N  \nATOM    237 HH11 ARG A  13      42.590  32.380  42.740  1.00  0.00           H  \nATOM    238 HH12 ARG A  13      42.170  31.310  41.360  1.00  0.00           H  \nATOM    239 NH2  ARG A  13      40.120  30.340  42.340  1.00  0.00           N1+\nATOM    240 HH21 ARG A  13      39.380  29.840  42.810  1.00  0.00           H  \nATOM    241 HH22 ARG A  13      40.180  30.170  41.340  1.00  0.00           H  \nATOM    242  C   ARG A  13      39.190  32.130  49.530  1.00  0.00           C  \nATOM    243  O   ARG A  13      38.120  32.600  49.210  1.00  0.00           O  \nATOM    244  N   LEU A  14      39.720  32.240  50.780  1.00  0.00           N  \nATOM    245  H   LEU A  14      40.560  31.680  50.890  1.00  0.00           H  \nATOM    246  CA  LEU A  14      39.070  32.860  51.950  1.00  0.00           C  \nATOM    247  HA  LEU A  14      37.980  32.760  51.920  1.00  0.00           H  \nATOM    248  CB  LEU A  14      39.540  32.160  53.270  1.00  0.00           C  \nATOM    249 HB2  LEU A  14      40.630  32.200  53.290  1.00  0.00           H  \nATOM    250 HB3  LEU A  14      39.210  32.690  54.170  1.00  0.00           H  \nATOM    251  CG  LEU A  14      39.160  30.640  53.470  1.00  0.00           C  \nATOM    252  HG  LEU A  14      39.550  29.970  52.700  1.00  0.00           H  \nATOM    253 CD1  LEU A  14      39.750  30.250  54.790  1.00  0.00           C  \nATOM    254 HD11 LEU A  14      39.510  29.190  54.910  1.00  0.00           H  \nATOM    255 HD12 LEU A  14      40.830  30.330  54.710  1.00  0.00           H  \nATOM    256 HD13 LEU A  14      39.400  30.770  55.680  1.00  0.00           H  \nATOM    257 CD2  LEU A  14      37.650  30.510  53.540  1.00  0.00           C  \nATOM    258 HD21 LEU A  14      37.260  31.320  54.160  1.00  0.00           H  \nATOM    259 HD22 LEU A  14      37.240  30.370  52.540  1.00  0.00           H  \nATOM    260 HD23 LEU A  14      37.400  29.570  54.030  1.00  0.00           H  \nATOM    261  C   LEU A  14      39.180  34.370  52.050  1.00  0.00           C  \nATOM    262  O   LEU A  14      38.430  34.950  52.850  1.00  0.00           O  \nATOM    263  N   LYS A  15      40.000  35.030  51.140  1.00  0.00           N  \nATOM    264  H   LYS A  15      40.530  34.530  50.430  1.00  0.00           H  \nATOM    265  CA  LYS A  15      40.090  36.530  51.070  1.00  0.00           C  \nATOM    266  HA  LYS A  15      39.390  36.980  51.770  1.00  0.00           H  \nATOM    267  CB  LYS A  15      41.550  36.860  51.560  1.00  0.00           C  \nATOM    268 HB2  LYS A  15      41.670  36.400  52.550  1.00  0.00           H  \nATOM    269 HB3  LYS A  15      42.270  36.340  50.930  1.00  0.00           H  \nATOM    270  CG  LYS A  15      41.830  38.410  51.510  1.00  0.00           C  \nATOM    271 HG2  LYS A  15      41.930  38.630  50.440  1.00  0.00           H  \nATOM    272 HG3  LYS A  15      40.990  39.000  51.880  1.00  0.00           H  \nATOM    273  CD  LYS A  15      43.180  38.810  52.160  1.00  0.00           C  \nATOM    274 HD2  LYS A  15      43.270  38.300  53.120  1.00  0.00           H  \nATOM    275 HD3  LYS A  15      43.970  38.450  51.510  1.00  0.00           H  \nATOM    276  CE  LYS A  15      43.170  40.390  52.360  1.00  0.00           C  \nATOM    277 HE2  LYS A  15      42.930  40.830  51.390  1.00  0.00           H  \nATOM    278 HE3  LYS A  15      42.340  40.630  53.020  1.00  0.00           H  \nATOM    279  NZ  LYS A  15      44.520  40.790  52.840  1.00  0.00           N1+\nATOM    280 HZ1  LYS A  15      45.200  40.820  52.100  1.00  0.00           H  \nATOM    281 HZ2  LYS A  15      44.500  41.700  53.270  1.00  0.00           H  \nATOM    282 HZ3  LYS A  15      44.950  40.230  53.570  1.00  0.00           H  \nATOM    283  C   LYS A  15      39.730  36.970  49.660  1.00  0.00           C  \nATOM    284  O   LYS A  15      39.970  36.230  48.760  1.00  0.00           O  \nATOM    285  N   ILE A  16      39.160  38.220  49.460  1.00  0.00           N  \nATOM    286  H   ILE A  16      38.970  38.850  50.230  1.00  0.00           H  \nATOM    287  CA  ILE A  16      38.710  38.610  48.090  1.00  0.00           C  \nATOM    288  HA  ILE A  16      37.950  37.880  47.780  1.00  0.00           H  \nATOM    289  CB  ILE A  16      38.050  40.100  48.060  1.00  0.00           C  \nATOM    290  HB  ILE A  16      38.740  40.820  48.490  1.00  0.00           H  \nATOM    291 CG2  ILE A  16      37.770  40.510  46.620  1.00  0.00           C  \nATOM    292 HG21 ILE A  16      38.700  40.660  46.070  1.00  0.00           H  \nATOM    293 HG22 ILE A  16      37.360  39.710  46.010  1.00  0.00           H  \nATOM    294 HG23 ILE A  16      37.150  41.400  46.480  1.00  0.00           H  \nATOM    295 CG1  ILE A  16      36.830  40.050  48.970  1.00  0.00           C  \nATOM    296 HG12 ILE A  16      36.230  39.190  48.670  1.00  0.00           H  \nATOM    297 HG13 ILE A  16      37.220  39.940  49.980  1.00  0.00           H  \nATOM    298 CD1  ILE A  16      35.780  41.160  48.790  1.00  0.00           C  \nATOM    299 HD11 ILE A  16      36.280  42.110  48.980  1.00  0.00           H  \nATOM    300 HD12 ILE A  16      35.280  41.310  47.830  1.00  0.00           H  \nATOM    301 HD13 ILE A  16      35.020  41.060  49.580  1.00  0.00           H  \nATOM    302  C   ILE A  16      39.840  38.410  47.000  1.00  0.00           C  \nATOM    303  O   ILE A  16      41.030  38.780  47.140  1.00  0.00           O  \nATOM    304  N   TYR A  17      39.450  37.940  45.780  1.00  0.00           N  \nATOM    305  H   TYR A  17      38.440  37.860  45.690  1.00  0.00           H  \nATOM    306  CA  TYR A  17      40.180  37.870  44.550  1.00  0.00           C  \nATOM    307  HA  TYR A  17      41.060  38.500  44.590  1.00  0.00           H  \nATOM    308  CB  TYR A  17      40.600  36.430  44.350  1.00  0.00           C  \nATOM    309 HB2  TYR A  17      41.240  36.430  43.470  1.00  0.00           H  \nATOM    310 HB3  TYR A  17      41.210  36.070  45.180  1.00  0.00           H  \nATOM    311  CG  TYR A  17      39.570  35.370  44.110  1.00  0.00           C  \nATOM    312 CD1  TYR A  17      38.860  34.820  45.160  1.00  0.00           C  \nATOM    313 HD1  TYR A  17      38.970  35.110  46.190  1.00  0.00           H  \nATOM    314 CE1  TYR A  17      37.890  33.750  44.960  1.00  0.00           C  \nATOM    315 HE1  TYR A  17      37.290  33.410  45.800  1.00  0.00           H  \nATOM    316  CZ  TYR A  17      37.740  33.110  43.660  1.00  0.00           C  \nATOM    317  OH  TYR A  17      36.710  32.210  43.450  1.00  0.00           O  \nATOM    318  HH  TYR A  17      36.730  31.840  42.570  1.00  0.00           H  \nATOM    319 CE2  TYR A  17      38.630  33.570  42.670  1.00  0.00           C  \nATOM    320 HE2  TYR A  17      38.600  33.040  41.730  1.00  0.00           H  \nATOM    321 CD2  TYR A  17      39.470  34.670  42.890  1.00  0.00           C  \nATOM    322 HD2  TYR A  17      39.990  35.020  42.010  1.00  0.00           H  \nATOM    323  C   TYR A  17      39.270  38.330  43.410  1.00  0.00           C  \nATOM    324  O   TYR A  17      38.080  38.520  43.610  1.00  0.00           O  \nATOM    325  N   LYS A  18      39.860  38.570  42.240  1.00  0.00           N  \nATOM    326  H   LYS A  18      40.860  38.460  42.110  1.00  0.00           H  \nATOM    327  CA  LYS A  18      39.200  38.800  40.920  1.00  0.00           C  \nATOM    328  HA  LYS A  18      38.140  39.040  41.040  1.00  0.00           H  \nATOM    329  CB  LYS A  18      39.940  40.050  40.330  1.00  0.00           C  \nATOM    330 HB2  LYS A  18      40.960  39.730  40.130  1.00  0.00           H  \nATOM    331 HB3  LYS A  18      39.530  40.190  39.330  1.00  0.00           H  \nATOM    332  CG  LYS A  18      39.960  41.410  41.070  1.00  0.00           C  \nATOM    333 HG2  LYS A  18      38.970  41.870  41.070  1.00  0.00           H  \nATOM    334 HG3  LYS A  18      40.300  41.250  42.100  1.00  0.00           H  \nATOM    335  CD  LYS A  18      40.770  42.550  40.350  1.00  0.00           C  \nATOM    336 HD2  LYS A  18      41.730  42.250  39.930  1.00  0.00           H  \nATOM    337 HD3  LYS A  18      40.090  42.780  39.530  1.00  0.00           H  \nATOM    338  CE  LYS A  18      40.840  43.760  41.270  1.00  0.00           C  \nATOM    339 HE2  LYS A  18      39.870  44.240  41.380  1.00  0.00           H  \nATOM    340 HE3  LYS A  18      41.320  43.420  42.190  1.00  0.00           H  \nATOM    341  NZ  LYS A  18      41.700  44.660  40.480  1.00  0.00           N1+\nATOM    342 HZ1  LYS A  18      41.980  45.420  41.080  1.00  0.00           H  \nATOM    343 HZ2  LYS A  18      42.540  44.270  40.080  1.00  0.00           H  \nATOM    344 HZ3  LYS A  18      41.210  45.070  39.700  1.00  0.00           H  \nATOM    345  C   LYS A  18      39.320  37.510  40.060  1.00  0.00           C  \nATOM    346  O   LYS A  18      40.310  36.770  40.140  1.00  0.00           O  \nATOM    347  N   ASP A  19      38.270  37.330  39.250  1.00  0.00           N  \nATOM    348  H   ASP A  19      37.620  38.090  39.150  1.00  0.00           H  \nATOM    349  CA  ASP A  19      38.160  36.100  38.420  1.00  0.00           C  \nATOM    350  HA  ASP A  19      38.670  35.290  38.940  1.00  0.00           H  \nATOM    351  CB  ASP A  19      36.660  35.640  38.330  1.00  0.00           C  \nATOM    352 HB2  ASP A  19      36.600  34.730  37.730  1.00  0.00           H  \nATOM    353 HB3  ASP A  19      36.240  35.450  39.320  1.00  0.00           H  \nATOM    354  CG  ASP A  19      35.690  36.560  37.630  1.00  0.00           C  \nATOM    355 OD1  ASP A  19      36.110  37.370  36.740  1.00  0.00           O  \nATOM    356 OD2  ASP A  19      34.430  36.330  37.710  1.00  0.00           O1-\nATOM    357  C   ASP A  19      38.870  36.330  37.050  1.00  0.00           C  \nATOM    358  O   ASP A  19      39.630  37.330  36.780  1.00  0.00           O  \nATOM    359  N   THR A  20      38.620  35.390  36.080  1.00  0.00           N  \nATOM    360  H   THR A  20      38.300  34.510  36.440  1.00  0.00           H  \nATOM    361  CA  THR A  20      39.220  35.440  34.750  1.00  0.00           C  \nATOM    362  HA  THR A  20      40.310  35.530  34.780  1.00  0.00           H  \nATOM    363  CB  THR A  20      38.880  34.170  34.050  1.00  0.00           C  \nATOM    364  HB  THR A  20      37.900  34.300  33.590  1.00  0.00           H  \nATOM    365 CG2  THR A  20      39.890  33.700  33.050  1.00  0.00           C  \nATOM    366 HG21 THR A  20      39.480  32.830  32.540  1.00  0.00           H  \nATOM    367 HG22 THR A  20      40.030  34.510  32.330  1.00  0.00           H  \nATOM    368 HG23 THR A  20      40.820  33.520  33.580  1.00  0.00           H  \nATOM    369 OG1  THR A  20      38.780  33.060  34.920  1.00  0.00           O  \nATOM    370 HG1  THR A  20      39.570  32.990  35.460  1.00  0.00           H  \nATOM    371  C   THR A  20      38.770  36.670  33.880  1.00  0.00           C  \nATOM    372  O   THR A  20      39.520  37.070  32.990  1.00  0.00           O  \nATOM    373  N   GLU A  21      37.600  37.190  34.240  1.00  0.00           N  \nATOM    374  H   GLU A  21      37.060  36.760  34.970  1.00  0.00           H  \nATOM    375  CA  GLU A  21      37.040  38.450  33.690  1.00  0.00           C  \nATOM    376  HA  GLU A  21      37.590  38.740  32.790  1.00  0.00           H  \nATOM    377  CB  GLU A  21      35.550  38.270  33.190  1.00  0.00           C  \nATOM    378 HB2  GLU A  21      34.930  37.990  34.040  1.00  0.00           H  \nATOM    379 HB3  GLU A  21      35.180  39.170  32.720  1.00  0.00           H  \nATOM    380  CG  GLU A  21      35.260  37.100  32.130  1.00  0.00           C  \nATOM    381 HG2  GLU A  21      35.910  36.290  32.470  1.00  0.00           H  \nATOM    382 HG3  GLU A  21      34.200  36.850  32.250  1.00  0.00           H  \nATOM    383  CD  GLU A  21      35.460  37.680  30.740  1.00  0.00           C  \nATOM    384 OE1  GLU A  21      36.580  38.120  30.460  1.00  0.00           O  \nATOM    385 OE2  GLU A  21      34.540  37.780  29.910  1.00  0.00           O1-\nATOM    386  C   GLU A  21      37.230  39.580  34.690  1.00  0.00           C  \nATOM    387  O   GLU A  21      36.770  40.660  34.500  1.00  0.00           O  \nATOM    388  N   GLY A  22      38.020  39.470  35.780  1.00  0.00           N  \nATOM    389  H   GLY A  22      38.370  38.530  35.900  1.00  0.00           H  \nATOM    390  CA  GLY A  22      38.470  40.490  36.760  1.00  0.00           C  \nATOM    391 HA2  GLY A  22      39.320  40.000  37.240  1.00  0.00           H  \nATOM    392 HA3  GLY A  22      38.870  41.340  36.220  1.00  0.00           H  \nATOM    393  C   GLY A  22      37.410  40.910  37.790  1.00  0.00           C  \nATOM    394  O   GLY A  22      37.580  41.980  38.390  1.00  0.00           O  \nATOM    395  N   TYR A  23      36.320  40.160  37.980  1.00  0.00           N  \nATOM    396  H   TYR A  23      36.090  39.380  37.380  1.00  0.00           H  \nATOM    397  CA  TYR A  23      35.210  40.550  38.830  1.00  0.00           C  \nATOM    398  HA  TYR A  23      35.140  41.640  38.870  1.00  0.00           H  \nATOM    399  CB  TYR A  23      33.900  40.080  38.130  1.00  0.00           C  \nATOM    400 HB2  TYR A  23      33.930  39.000  37.960  1.00  0.00           H  \nATOM    401 HB3  TYR A  23      32.990  40.350  38.670  1.00  0.00           H  \nATOM    402  CG  TYR A  23      33.750  40.810  36.810  1.00  0.00           C  \nATOM    403 CD1  TYR A  23      33.840  42.210  36.730  1.00  0.00           C  \nATOM    404 HD1  TYR A  23      34.160  42.880  37.520  1.00  0.00           H  \nATOM    405 CE1  TYR A  23      33.440  42.910  35.610  1.00  0.00           C  \nATOM    406 HE1  TYR A  23      33.370  43.980  35.520  1.00  0.00           H  \nATOM    407  CZ  TYR A  23      33.100  42.170  34.470  1.00  0.00           C  \nATOM    408  OH  TYR A  23      32.880  42.840  33.290  1.00  0.00           O  \nATOM    409  HH  TYR A  23      32.810  42.260  32.530  1.00  0.00           H  \nATOM    410 CE2  TYR A  23      33.190  40.800  34.500  1.00  0.00           C  \nATOM    411 HE2  TYR A  23      33.080  40.250  33.570  1.00  0.00           H  \nATOM    412 CD2  TYR A  23      33.410  40.060  35.680  1.00  0.00           C  \nATOM    413 HD2  TYR A  23      33.460  38.980  35.670  1.00  0.00           H  \nATOM    414  C   TYR A  23      35.350  39.980  40.240  1.00  0.00           C  \nATOM    415  O   TYR A  23      35.820  38.850  40.500  1.00  0.00           O  \nATOM    416  N   TYR A  24      35.110  40.850  41.240  1.00  0.00           N  \nATOM    417  H   TYR A  24      34.610  41.680  40.960  1.00  0.00           H  \nATOM    418  CA  TYR A  24      35.480  40.600  42.650  1.00  0.00           C  \nATOM    419  HA  TYR A  24      36.490  40.190  42.650  1.00  0.00           H  \nATOM    420  CB  TYR A  24      35.420  41.950  43.360  1.00  0.00           C  \nATOM    421 HB2  TYR A  24      34.630  42.540  42.900  1.00  0.00           H  \nATOM    422 HB3  TYR A  24      35.070  41.790  44.380  1.00  0.00           H  \nATOM    423  CG  TYR A  24      36.740  42.740  43.500  1.00  0.00           C  \nATOM    424 CD1  TYR A  24      37.990  42.190  43.810  1.00  0.00           C  \nATOM    425 HD1  TYR A  24      38.070  41.140  44.040  1.00  0.00           H  \nATOM    426 CE1  TYR A  24      39.100  43.020  44.020  1.00  0.00           C  \nATOM    427 HE1  TYR A  24      40.050  42.650  44.370  1.00  0.00           H  \nATOM    428  CZ  TYR A  24      38.870  44.400  43.770  1.00  0.00           C  \nATOM    429  OH  TYR A  24      40.020  45.220  43.940  1.00  0.00           O  \nATOM    430  HH  TYR A  24      39.950  46.150  43.730  1.00  0.00           H  \nATOM    431 CE2  TYR A  24      37.670  44.950  43.370  1.00  0.00           C  \nATOM    432 HE2  TYR A  24      37.560  46.010  43.210  1.00  0.00           H  \nATOM    433 CD2  TYR A  24      36.560  44.130  43.250  1.00  0.00           C  \nATOM    434 HD2  TYR A  24      35.630  44.630  43.030  1.00  0.00           H  \nATOM    435  C   TYR A  24      34.610  39.510  43.320  1.00  0.00           C  \nATOM    436  O   TYR A  24      33.410  39.670  43.480  1.00  0.00           O  \nATOM    437  N   THR A  25      35.290  38.430  43.690  1.00  0.00           N  \nATOM    438  H   THR A  25      36.300  38.480  43.560  1.00  0.00           H  \nATOM    439  CA  THR A  25      34.710  37.190  44.130  1.00  0.00           C  \nATOM    440  HA  THR A  25      33.640  37.250  44.360  1.00  0.00           H  \nATOM    441  CB  THR A  25      34.950  36.160  43.000  1.00  0.00           C  \nATOM    442  HB  THR A  25      36.010  36.000  42.830  1.00  0.00           H  \nATOM    443 CG2  THR A  25      34.390  34.820  43.070  1.00  0.00           C  \nATOM    444 HG21 THR A  25      33.310  35.000  43.130  1.00  0.00           H  \nATOM    445 HG22 THR A  25      34.590  34.170  42.220  1.00  0.00           H  \nATOM    446 HG23 THR A  25      34.750  34.200  43.900  1.00  0.00           H  \nATOM    447 OG1  THR A  25      34.320  36.660  41.750  1.00  0.00           O  \nATOM    448 HG1  THR A  25      34.640  37.550  41.590  1.00  0.00           H  \nATOM    449  C   THR A  25      35.350  36.670  45.360  1.00  0.00           C  \nATOM    450  O   THR A  25      36.340  37.230  45.760  1.00  0.00           O  \nATOM    451  N   ILE A  26      34.720  35.680  45.960  1.00  0.00           N  \nATOM    452  H   ILE A  26      33.780  35.490  45.640  1.00  0.00           H  \nATOM    453  CA  ILE A  26      35.240  34.940  47.210  1.00  0.00           C  \nATOM    454  HA  ILE A  26      36.330  35.030  47.180  1.00  0.00           H  \nATOM    455  CB  ILE A  26      34.890  35.710  48.460  1.00  0.00           C  \nATOM    456  HB  ILE A  26      35.030  36.750  48.160  1.00  0.00           H  \nATOM    457 CG2  ILE A  26      33.460  35.510  48.810  1.00  0.00           C  \nATOM    458 HG21 ILE A  26      33.370  34.480  49.140  1.00  0.00           H  \nATOM    459 HG22 ILE A  26      33.280  36.270  49.570  1.00  0.00           H  \nATOM    460 HG23 ILE A  26      32.810  35.600  47.940  1.00  0.00           H  \nATOM    461 CG1  ILE A  26      35.820  35.460  49.730  1.00  0.00           C  \nATOM    462 HG12 ILE A  26      35.570  34.510  50.190  1.00  0.00           H  \nATOM    463 HG13 ILE A  26      36.850  35.460  49.380  1.00  0.00           H  \nATOM    464 CD1  ILE A  26      35.670  36.550  50.850  1.00  0.00           C  \nATOM    465 HD11 ILE A  26      35.750  37.560  50.440  1.00  0.00           H  \nATOM    466 HD12 ILE A  26      34.730  36.440  51.390  1.00  0.00           H  \nATOM    467 HD13 ILE A  26      36.400  36.320  51.620  1.00  0.00           H  \nATOM    468  C   ILE A  26      34.940  33.420  47.230  1.00  0.00           C  \nATOM    469  O   ILE A  26      34.090  32.930  46.420  1.00  0.00           O  \nATOM    470  N   GLY A  27      35.560  32.700  48.190  1.00  0.00           N  \nATOM    471  H   GLY A  27      36.040  33.250  48.890  1.00  0.00           H  \nATOM    472  CA  GLY A  27      35.340  31.250  48.420  1.00  0.00           C  \nATOM    473 HA2  GLY A  27      35.930  30.740  49.180  1.00  0.00           H  \nATOM    474 HA3  GLY A  27      34.270  31.230  48.640  1.00  0.00           H  \nATOM    475  C   GLY A  27      35.580  30.430  47.160  1.00  0.00           C  \nATOM    476  O   GLY A  27      36.670  30.490  46.550  1.00  0.00           O  \nATOM    477  N   ILE A  28      34.630  29.600  46.820  1.00  0.00           N  \nATOM    478  H   ILE A  28      33.770  29.710  47.330  1.00  0.00           H  \nATOM    479  CA  ILE A  28      34.760  28.560  45.770  1.00  0.00           C  \nATOM    480  HA  ILE A  28      35.800  28.420  45.490  1.00  0.00           H  \nATOM    481  CB  ILE A  28      34.410  27.210  46.380  1.00  0.00           C  \nATOM    482  HB  ILE A  28      33.350  27.240  46.600  1.00  0.00           H  \nATOM    483 CG2  ILE A  28      34.690  26.020  45.450  1.00  0.00           C  \nATOM    484 HG21 ILE A  28      33.940  25.250  45.650  1.00  0.00           H  \nATOM    485 HG22 ILE A  28      34.730  26.330  44.410  1.00  0.00           H  \nATOM    486 HG23 ILE A  28      35.710  25.690  45.670  1.00  0.00           H  \nATOM    487 CG1  ILE A  28      35.200  26.880  47.720  1.00  0.00           C  \nATOM    488 HG12 ILE A  28      36.280  26.910  47.580  1.00  0.00           H  \nATOM    489 HG13 ILE A  28      34.930  27.630  48.470  1.00  0.00           H  \nATOM    490 CD1  ILE A  28      34.870  25.580  48.460  1.00  0.00           C  \nATOM    491 HD11 ILE A  28      33.780  25.530  48.500  1.00  0.00           H  \nATOM    492 HD12 ILE A  28      35.300  24.770  47.880  1.00  0.00           H  \nATOM    493 HD13 ILE A  28      35.150  25.620  49.520  1.00  0.00           H  \nATOM    494  C   ILE A  28      33.830  29.030  44.580  1.00  0.00           C  \nATOM    495  O   ILE A  28      32.980  28.310  44.120  1.00  0.00           O  \nATOM    496  N   GLY A  29      34.070  30.310  44.120  1.00  0.00           N  \nATOM    497  H   GLY A  29      34.710  30.860  44.680  1.00  0.00           H  \nATOM    498  CA  GLY A  29      33.430  30.930  42.930  1.00  0.00           C  \nATOM    499 HA2  GLY A  29      34.230  31.420  42.370  1.00  0.00           H  \nATOM    500 HA3  GLY A  29      32.980  30.130  42.350  1.00  0.00           H  \nATOM    501  C   GLY A  29      32.200  31.890  43.220  1.00  0.00           C  \nATOM    502  O   GLY A  29      31.540  32.260  42.270  1.00  0.00           O  \nATOM    503  N   HIS A  30      31.910  32.170  44.470  1.00  0.00           N  \nATOM    504  H   HIS A  30      32.620  32.010  45.170  1.00  0.00           H  \nATOM    505  CA  HIS A  30      30.780  33.000  44.820  1.00  0.00           C  \nATOM    506  HA  HIS A  30      29.880  32.760  44.260  1.00  0.00           H  \nATOM    507  CB  HIS A  30      30.400  32.750  46.300  1.00  0.00           C  \nATOM    508 HB2  HIS A  30      29.930  31.790  46.490  1.00  0.00           H  \nATOM    509 HB3  HIS A  30      31.250  32.980  46.950  1.00  0.00           H  \nATOM    510  CG  HIS A  30      29.250  33.720  46.620  1.00  0.00           C  \nATOM    511 ND1  HIS A  30      27.950  33.350  46.290  1.00  0.00           N  \nATOM    512 CE1  HIS A  30      27.190  34.510  46.640  1.00  0.00           C  \nATOM    513 HE1  HIS A  30      26.120  34.640  46.590  1.00  0.00           H  \nATOM    514 NE2  HIS A  30      27.960  35.360  47.330  1.00  0.00           N  \nATOM    515 HE2  HIS A  30      27.680  36.290  47.610  1.00  0.00           H  \nATOM    516 CD2  HIS A  30      29.180  34.930  47.280  1.00  0.00           C  \nATOM    517 HD2  HIS A  30      30.050  35.420  47.700  1.00  0.00           H  \nATOM    518  C   HIS A  30      31.100  34.510  44.490  1.00  0.00           C  \nATOM    519  O   HIS A  30      32.020  35.060  45.140  1.00  0.00           O  \nATOM    520  N   LEU A  31      30.450  35.130  43.490  1.00  0.00           N  \nATOM    521  H   LEU A  31      29.760  34.530  43.040  1.00  0.00           H  \nATOM    522  CA  LEU A  31      30.670  36.510  43.050  1.00  0.00           C  \nATOM    523  HA  LEU A  31      31.730  36.730  43.110  1.00  0.00           H  \nATOM    524  CB  LEU A  31      30.240  36.560  41.610  1.00  0.00           C  \nATOM    525 HB2  LEU A  31      31.050  35.990  41.150  1.00  0.00           H  \nATOM    526 HB3  LEU A  31      29.290  36.020  41.550  1.00  0.00           H  \nATOM    527  CG  LEU A  31      30.220  37.810  40.780  1.00  0.00           C  \nATOM    528  HG  LEU A  31      29.610  38.530  41.330  1.00  0.00           H  \nATOM    529 CD1  LEU A  31      31.590  38.400  40.600  1.00  0.00           C  \nATOM    530 HD11 LEU A  31      32.110  38.560  41.550  1.00  0.00           H  \nATOM    531 HD12 LEU A  31      32.220  37.650  40.120  1.00  0.00           H  \nATOM    532 HD13 LEU A  31      31.650  39.340  40.050  1.00  0.00           H  \nATOM    533 CD2  LEU A  31      29.620  37.660  39.430  1.00  0.00           C  \nATOM    534 HD21 LEU A  31      30.190  36.910  38.870  1.00  0.00           H  \nATOM    535 HD22 LEU A  31      28.680  37.150  39.620  1.00  0.00           H  \nATOM    536 HD23 LEU A  31      29.520  38.660  39.010  1.00  0.00           H  \nATOM    537  C   LEU A  31      29.960  37.540  43.960  1.00  0.00           C  \nATOM    538  O   LEU A  31      28.760  37.300  44.260  1.00  0.00           O  \nATOM    539  N   LEU A  32      30.580  38.690  44.190  1.00  0.00           N  \nATOM    540  H   LEU A  32      31.510  38.860  43.850  1.00  0.00           H  \nATOM    541  CA  LEU A  32      30.030  39.780  44.900  1.00  0.00           C  \nATOM    542  HA  LEU A  32      29.200  39.530  45.560  1.00  0.00           H  \nATOM    543  CB  LEU A  32      31.030  40.180  46.020  1.00  0.00           C  \nATOM    544 HB2  LEU A  32      31.940  40.510  45.520  1.00  0.00           H  \nATOM    545 HB3  LEU A  32      30.630  41.000  46.610  1.00  0.00           H  \nATOM    546  CG  LEU A  32      31.400  39.020  47.050  1.00  0.00           C  \nATOM    547  HG  LEU A  32      31.680  38.110  46.520  1.00  0.00           H  \nATOM    548 CD1  LEU A  32      32.620  39.540  47.930  1.00  0.00           C  \nATOM    549 HD11 LEU A  32      32.340  40.460  48.430  1.00  0.00           H  \nATOM    550 HD12 LEU A  32      32.980  38.690  48.510  1.00  0.00           H  \nATOM    551 HD13 LEU A  32      33.450  39.780  47.260  1.00  0.00           H  \nATOM    552 CD2  LEU A  32      30.220  38.670  47.870  1.00  0.00           C  \nATOM    553 HD21 LEU A  32      29.750  39.530  48.350  1.00  0.00           H  \nATOM    554 HD22 LEU A  32      29.490  38.170  47.220  1.00  0.00           H  \nATOM    555 HD23 LEU A  32      30.500  38.010  48.690  1.00  0.00           H  \nATOM    556  C   LEU A  32      29.640  40.990  44.050  1.00  0.00           C  \nATOM    557  O   LEU A  32      28.500  41.450  44.230  1.00  0.00           O  \nATOM    558  N   THR A  33      30.520  41.480  43.120  1.00  0.00           N  \nATOM    559  H   THR A  33      31.490  41.250  42.990  1.00  0.00           H  \nATOM    560  CA  THR A  33      30.100  42.620  42.210  1.00  0.00           C  \nATOM    561  HA  THR A  33      29.070  42.430  41.890  1.00  0.00           H  \nATOM    562  CB  THR A  33      30.250  43.930  43.080  1.00  0.00           C  \nATOM    563  HB  THR A  33      29.550  43.820  43.910  1.00  0.00           H  \nATOM    564 CG2  THR A  33      31.650  44.270  43.510  1.00  0.00           C  \nATOM    565 HG21 THR A  33      31.670  45.250  43.990  1.00  0.00           H  \nATOM    566 HG22 THR A  33      32.010  43.530  44.210  1.00  0.00           H  \nATOM    567 HG23 THR A  33      32.320  44.290  42.640  1.00  0.00           H  \nATOM    568 OG1  THR A  33      29.780  45.100  42.380  1.00  0.00           O  \nATOM    569 HG1  THR A  33      28.830  45.240  42.370  1.00  0.00           H  \nATOM    570  C   THR A  33      30.930  42.650  40.950  1.00  0.00           C  \nATOM    571  O   THR A  33      32.130  42.290  41.080  1.00  0.00           O  \nATOM    572  N   LYS A  34      30.450  43.290  39.920  1.00  0.00           N  \nATOM    573  H   LYS A  34      29.490  43.600  39.900  1.00  0.00           H  \nATOM    574  CA  LYS A  34      31.280  43.840  38.830  1.00  0.00           C  \nATOM    575  HA  LYS A  34      32.220  43.290  38.800  1.00  0.00           H  \nATOM    576  CB  LYS A  34      30.510  43.730  37.530  1.00  0.00           C  \nATOM    577 HB2  LYS A  34      29.650  44.410  37.510  1.00  0.00           H  \nATOM    578 HB3  LYS A  34      31.320  44.020  36.860  1.00  0.00           H  \nATOM    579  CG  LYS A  34      30.110  42.290  37.130  1.00  0.00           C  \nATOM    580 HG2  LYS A  34      30.990  41.640  37.170  1.00  0.00           H  \nATOM    581 HG3  LYS A  34      29.280  41.930  37.740  1.00  0.00           H  \nATOM    582  CD  LYS A  34      29.650  42.300  35.690  1.00  0.00           C  \nATOM    583 HD2  LYS A  34      28.750  42.890  35.470  1.00  0.00           H  \nATOM    584 HD3  LYS A  34      30.330  42.890  35.080  1.00  0.00           H  \nATOM    585  CE  LYS A  34      29.530  40.930  35.150  1.00  0.00           C  \nATOM    586 HE2  LYS A  34      30.510  40.430  35.150  1.00  0.00           H  \nATOM    587 HE3  LYS A  34      28.860  40.340  35.780  1.00  0.00           H  \nATOM    588  NZ  LYS A  34      28.990  40.970  33.780  1.00  0.00           N1+\nATOM    589 HZ1  LYS A  34      28.040  41.300  33.770  1.00  0.00           H  \nATOM    590 HZ2  LYS A  34      29.480  41.530  33.100  1.00  0.00           H  \nATOM    591 HZ3  LYS A  34      28.890  40.050  33.370  1.00  0.00           H  \nATOM    592  C   LYS A  34      31.860  45.310  39.140  1.00  0.00           C  \nATOM    593  O   LYS A  34      32.650  45.750  38.250  1.00  0.00           O  \nATOM    594  N   SER A  35      31.420  46.030  40.200  1.00  0.00           N  \nATOM    595  H   SER A  35      30.750  45.620  40.830  1.00  0.00           H  \nATOM    596  CA  SER A  35      31.920  47.380  40.450  1.00  0.00           C  \nATOM    597  HA  SER A  35      31.690  48.050  39.620  1.00  0.00           H  \nATOM    598  CB  SER A  35      31.200  47.920  41.700  1.00  0.00           C  \nATOM    599 HB2  SER A  35      31.300  47.250  42.550  1.00  0.00           H  \nATOM    600 HB3  SER A  35      31.550  48.900  42.010  1.00  0.00           H  \nATOM    601  OG  SER A  35      29.860  48.150  41.260  1.00  0.00           O  \nATOM    602  HG  SER A  35      29.250  47.910  41.960  1.00  0.00           H  \nATOM    603  C   SER A  35      33.420  47.330  40.810  1.00  0.00           C  \nATOM    604  O   SER A  35      33.830  46.450  41.540  1.00  0.00           O  \nATOM    605  N   PRO A  36      34.270  48.280  40.290  1.00  0.00           N  \nATOM    606  CD  PRO A  36      33.890  49.380  39.350  1.00  0.00           C  \nATOM    607 HD2  PRO A  36      33.050  50.010  39.630  1.00  0.00           H  \nATOM    608 HD3  PRO A  36      33.720  48.950  38.360  1.00  0.00           H  \nATOM    609  CG  PRO A  36      35.080  50.300  39.210  1.00  0.00           C  \nATOM    610 HG2  PRO A  36      34.990  51.120  39.920  1.00  0.00           H  \nATOM    611 HG3  PRO A  36      35.190  50.490  38.140  1.00  0.00           H  \nATOM    612  CB  PRO A  36      36.240  49.430  39.680  1.00  0.00           C  \nATOM    613 HB2  PRO A  36      37.100  49.970  40.070  1.00  0.00           H  \nATOM    614 HB3  PRO A  36      36.510  48.850  38.800  1.00  0.00           H  \nATOM    615  CA  PRO A  36      35.770  48.340  40.620  1.00  0.00           C  \nATOM    616  HA  PRO A  36      36.220  47.380  40.370  1.00  0.00           H  \nATOM    617  C   PRO A  36      36.180  48.780  42.020  1.00  0.00           C  \nATOM    618  O   PRO A  36      37.340  48.690  42.400  1.00  0.00           O  \nATOM    619  N   SER A  37      35.220  49.110  42.860  1.00  0.00           N  \nATOM    620  H   SER A  37      34.260  49.030  42.540  1.00  0.00           H  \nATOM    621  CA  SER A  37      35.390  49.330  44.320  1.00  0.00           C  \nATOM    622  HA  SER A  37      36.300  49.920  44.370  1.00  0.00           H  \nATOM    623  CB  SER A  37      34.170  50.080  44.800  1.00  0.00           C  \nATOM    624 HB2  SER A  37      34.120  51.020  44.240  1.00  0.00           H  \nATOM    625 HB3  SER A  37      33.240  49.570  44.560  1.00  0.00           H  \nATOM    626  OG  SER A  37      34.330  50.320  46.110  1.00  0.00           O  \nATOM    627  HG  SER A  37      33.730  51.010  46.390  1.00  0.00           H  \nATOM    628  C   SER A  37      35.470  48.050  45.050  1.00  0.00           C  \nATOM    629  O   SER A  37      34.500  47.240  44.980  1.00  0.00           O  \nATOM    630  N   LEU A  38      36.480  47.970  45.880  1.00  0.00           N  \nATOM    631  H   LEU A  38      37.260  48.590  45.730  1.00  0.00           H  \nATOM    632  CA  LEU A  38      36.640  46.880  46.760  1.00  0.00           C  \nATOM    633  HA  LEU A  38      36.370  45.970  46.230  1.00  0.00           H  \nATOM    634  CB  LEU A  38      38.150  46.800  47.170  1.00  0.00           C  \nATOM    635 HB2  LEU A  38      38.750  46.870  46.260  1.00  0.00           H  \nATOM    636 HB3  LEU A  38      38.250  47.780  47.640  1.00  0.00           H  \nATOM    637  CG  LEU A  38      38.510  45.640  48.100  1.00  0.00           C  \nATOM    638  HG  LEU A  38      37.730  45.650  48.860  1.00  0.00           H  \nATOM    639 CD1  LEU A  38      38.340  44.220  47.420  1.00  0.00           C  \nATOM    640 HD11 LEU A  38      37.310  44.090  47.070  1.00  0.00           H  \nATOM    641 HD12 LEU A  38      39.070  44.100  46.620  1.00  0.00           H  \nATOM    642 HD13 LEU A  38      38.400  43.430  48.160  1.00  0.00           H  \nATOM    643 CD2  LEU A  38      39.830  45.730  48.810  1.00  0.00           C  \nATOM    644 HD21 LEU A  38      39.910  46.720  49.260  1.00  0.00           H  \nATOM    645 HD22 LEU A  38      39.860  45.010  49.630  1.00  0.00           H  \nATOM    646 HD23 LEU A  38      40.640  45.580  48.090  1.00  0.00           H  \nATOM    647  C   LEU A  38      35.690  47.040  47.920  1.00  0.00           C  \nATOM    648  O   LEU A  38      35.090  46.130  48.440  1.00  0.00           O  \nATOM    649  N   ASN A  39      35.410  48.300  48.360  1.00  0.00           N  \nATOM    650  H   ASN A  39      35.980  49.020  47.940  1.00  0.00           H  \nATOM    651  CA  ASN A  39      34.450  48.690  49.350  1.00  0.00           C  \nATOM    652  HA  ASN A  39      34.790  48.120  50.220  1.00  0.00           H  \nATOM    653  CB  ASN A  39      34.540  50.190  49.650  1.00  0.00           C  \nATOM    654 HB2  ASN A  39      34.340  50.810  48.770  1.00  0.00           H  \nATOM    655 HB3  ASN A  39      33.740  50.450  50.350  1.00  0.00           H  \nATOM    656  CG  ASN A  39      35.840  50.650  50.200  1.00  0.00           C  \nATOM    657 OD1  ASN A  39      36.830  50.230  49.670  1.00  0.00           O  \nATOM    658 ND2  ASN A  39      35.880  51.430  51.270  1.00  0.00           N  \nATOM    659 HD21 ASN A  39      36.760  51.820  51.590  1.00  0.00           H  \nATOM    660 HD22 ASN A  39      35.100  51.820  51.790  1.00  0.00           H  \nATOM    661  C   ASN A  39      33.070  48.210  49.070  1.00  0.00           C  \nATOM    662  O   ASN A  39      32.480  47.590  49.960  1.00  0.00           O  \nATOM    663  N   ALA A  40      32.640  48.320  47.790  1.00  0.00           N  \nATOM    664  H   ALA A  40      33.180  48.860  47.130  1.00  0.00           H  \nATOM    665  CA  ALA A  40      31.300  47.710  47.430  1.00  0.00           C  \nATOM    666  HA  ALA A  40      30.530  48.070  48.110  1.00  0.00           H  \nATOM    667  CB  ALA A  40      30.970  48.220  46.010  1.00  0.00           C  \nATOM    668 HB1  ALA A  40      31.000  49.300  45.860  1.00  0.00           H  \nATOM    669 HB2  ALA A  40      31.650  47.780  45.280  1.00  0.00           H  \nATOM    670 HB3  ALA A  40      29.960  47.930  45.700  1.00  0.00           H  \nATOM    671  C   ALA A  40      31.320  46.190  47.470  1.00  0.00           C  \nATOM    672  O   ALA A  40      30.320  45.600  47.940  1.00  0.00           O  \nATOM    673  N   ALA A  41      32.390  45.460  47.080  1.00  0.00           N  \nATOM    674  H   ALA A  41      33.180  46.010  46.780  1.00  0.00           H  \nATOM    675  CA  ALA A  41      32.390  43.980  47.090  1.00  0.00           C  \nATOM    676  HA  ALA A  41      31.440  43.670  46.650  1.00  0.00           H  \nATOM    677  CB  ALA A  41      33.660  43.520  46.350  1.00  0.00           C  \nATOM    678 HB1  ALA A  41      34.610  43.510  46.890  1.00  0.00           H  \nATOM    679 HB2  ALA A  41      33.550  42.470  46.060  1.00  0.00           H  \nATOM    680 HB3  ALA A  41      33.750  44.050  45.410  1.00  0.00           H  \nATOM    681  C   ALA A  41      32.330  43.530  48.550  1.00  0.00           C  \nATOM    682  O   ALA A  41      31.560  42.640  48.900  1.00  0.00           O  \nATOM    683  N   LYS A  42      33.110  44.130  49.410  1.00  0.00           N  \nATOM    684  H   LYS A  42      33.770  44.800  49.030  1.00  0.00           H  \nATOM    685  CA  LYS A  42      33.070  43.950  50.870  1.00  0.00           C  \nATOM    686  HA  LYS A  42      33.380  42.920  51.040  1.00  0.00           H  \nATOM    687  CB  LYS A  42      34.120  44.810  51.590  1.00  0.00           C  \nATOM    688 HB2  LYS A  42      34.090  45.830  51.230  1.00  0.00           H  \nATOM    689 HB3  LYS A  42      33.840  44.750  52.640  1.00  0.00           H  \nATOM    690  CG  LYS A  42      35.610  44.340  51.510  1.00  0.00           C  \nATOM    691 HG2  LYS A  42      35.800  43.580  52.260  1.00  0.00           H  \nATOM    692 HG3  LYS A  42      35.800  43.910  50.520  1.00  0.00           H  \nATOM    693  CD  LYS A  42      36.560  45.520  51.770  1.00  0.00           C  \nATOM    694 HD2  LYS A  42      37.570  45.210  51.520  1.00  0.00           H  \nATOM    695 HD3  LYS A  42      36.320  46.430  51.220  1.00  0.00           H  \nATOM    696  CE  LYS A  42      36.450  45.950  53.300  1.00  0.00           C  \nATOM    697 HE2  LYS A  42      35.580  46.580  53.460  1.00  0.00           H  \nATOM    698 HE3  LYS A  42      36.400  45.060  53.940  1.00  0.00           H  \nATOM    699  NZ  LYS A  42      37.670  46.670  53.670  1.00  0.00           N1+\nATOM    700 HZ1  LYS A  42      38.540  46.190  53.530  1.00  0.00           H  \nATOM    701 HZ2  LYS A  42      37.690  47.560  53.190  1.00  0.00           H  \nATOM    702 HZ3  LYS A  42      37.630  46.970  54.630  1.00  0.00           H  \nATOM    703  C   LYS A  42      31.700  44.180  51.460  1.00  0.00           C  \nATOM    704  O   LYS A  42      31.270  43.370  52.260  1.00  0.00           O  \nATOM    705  N   SER A  43      31.010  45.270  51.030  1.00  0.00           N  \nATOM    706  H   SER A  43      31.460  45.790  50.290  1.00  0.00           H  \nATOM    707  CA  SER A  43      29.680  45.610  51.580  1.00  0.00           C  \nATOM    708  HA  SER A  43      29.660  45.660  52.670  1.00  0.00           H  \nATOM    709  CB  SER A  43      29.290  46.940  50.970  1.00  0.00           C  \nATOM    710 HB2  SER A  43      29.160  46.860  49.890  1.00  0.00           H  \nATOM    711 HB3  SER A  43      28.260  47.190  51.250  1.00  0.00           H  \nATOM    712  OG  SER A  43      30.110  47.980  51.350  1.00  0.00           O  \nATOM    713  HG  SER A  43      31.000  47.810  51.020  1.00  0.00           H  \nATOM    714  C   SER A  43      28.540  44.670  51.090  1.00  0.00           C  \nATOM    715  O   SER A  43      27.600  44.480  51.860  1.00  0.00           O  \nATOM    716  N   GLU A  44      28.690  44.000  49.960  1.00  0.00           N  \nATOM    717  H   GLU A  44      29.370  44.390  49.320  1.00  0.00           H  \nATOM    718  CA  GLU A  44      27.780  42.950  49.480  1.00  0.00           C  \nATOM    719  HA  GLU A  44      26.720  43.130  49.670  1.00  0.00           H  \nATOM    720  CB  GLU A  44      27.950  42.920  47.930  1.00  0.00           C  \nATOM    721 HB2  GLU A  44      28.990  43.100  47.630  1.00  0.00           H  \nATOM    722 HB3  GLU A  44      27.520  41.970  47.600  1.00  0.00           H  \nATOM    723  CG  GLU A  44      27.330  44.050  47.180  1.00  0.00           C  \nATOM    724 HG2  GLU A  44      27.900  44.960  47.360  1.00  0.00           H  \nATOM    725 HG3  GLU A  44      27.500  43.800  46.130  1.00  0.00           H  \nATOM    726  CD  GLU A  44      25.820  44.230  47.450  1.00  0.00           C  \nATOM    727 OE1  GLU A  44      25.280  45.340  47.600  1.00  0.00           O  \nATOM    728 OE2  GLU A  44      25.160  43.190  47.510  1.00  0.00           O1-\nATOM    729  C   GLU A  44      28.090  41.610  50.110  1.00  0.00           C  \nATOM    730  O   GLU A  44      27.140  40.870  50.350  1.00  0.00           O  \nATOM    731  N   LEU A  45      29.340  41.310  50.360  1.00  0.00           N  \nATOM    732  H   LEU A  45      30.050  41.980  50.110  1.00  0.00           H  \nATOM    733  CA  LEU A  45      29.780  40.250  51.260  1.00  0.00           C  \nATOM    734  HA  LEU A  45      29.520  39.340  50.730  1.00  0.00           H  \nATOM    735  CB  LEU A  45      31.260  40.160  51.370  1.00  0.00           C  \nATOM    736 HB2  LEU A  45      31.650  39.870  50.390  1.00  0.00           H  \nATOM    737 HB3  LEU A  45      31.650  41.130  51.680  1.00  0.00           H  \nATOM    738  CG  LEU A  45      31.760  39.030  52.210  1.00  0.00           C  \nATOM    739  HG  LEU A  45      31.380  39.170  53.220  1.00  0.00           H  \nATOM    740 CD1  LEU A  45      31.440  37.620  51.700  1.00  0.00           C  \nATOM    741 HD11 LEU A  45      31.910  37.350  50.750  1.00  0.00           H  \nATOM    742 HD12 LEU A  45      31.690  37.000  52.560  1.00  0.00           H  \nATOM    743 HD13 LEU A  45      30.370  37.560  51.470  1.00  0.00           H  \nATOM    744 CD2  LEU A  45      33.270  39.170  52.170  1.00  0.00           C  \nATOM    745 HD21 LEU A  45      33.860  38.600  52.890  1.00  0.00           H  \nATOM    746 HD22 LEU A  45      33.800  39.080  51.220  1.00  0.00           H  \nATOM    747 HD23 LEU A  45      33.580  40.050  52.740  1.00  0.00           H  \nATOM    748  C   LEU A  45      28.970  40.240  52.590  1.00  0.00           C  \nATOM    749  O   LEU A  45      28.510  39.210  53.090  1.00  0.00           O  \nATOM    750  N   ASP A  46      28.870  41.350  53.230  1.00  0.00           N  \nATOM    751  H   ASP A  46      29.370  42.180  52.920  1.00  0.00           H  \nATOM    752  CA  ASP A  46      28.290  41.430  54.640  1.00  0.00           C  \nATOM    753  HA  ASP A  46      28.790  40.730  55.310  1.00  0.00           H  \nATOM    754  CB  ASP A  46      28.540  42.850  55.230  1.00  0.00           C  \nATOM    755 HB2  ASP A  46      28.190  43.640  54.580  1.00  0.00           H  \nATOM    756 HB3  ASP A  46      28.010  43.040  56.170  1.00  0.00           H  \nATOM    757  CG  ASP A  46      30.040  43.100  55.490  1.00  0.00           C  \nATOM    758 OD1  ASP A  46      30.870  42.120  55.450  1.00  0.00           O  \nATOM    759 OD2  ASP A  46      30.500  44.230  55.690  1.00  0.00           O1-\nATOM    760  C   ASP A  46      26.760  41.210  54.640  1.00  0.00           C  \nATOM    761  O   ASP A  46      26.220  40.740  55.630  1.00  0.00           O  \nATOM    762  N   LYS A  47      26.130  41.690  53.600  1.00  0.00           N  \nATOM    763  H   LYS A  47      26.580  42.230  52.880  1.00  0.00           H  \nATOM    764  CA  LYS A  47      24.710  41.460  53.350  1.00  0.00           C  \nATOM    765  HA  LYS A  47      24.170  41.560  54.290  1.00  0.00           H  \nATOM    766  CB  LYS A  47      24.230  42.510  52.350  1.00  0.00           C  \nATOM    767 HB2  LYS A  47      24.870  42.410  51.480  1.00  0.00           H  \nATOM    768 HB3  LYS A  47      23.240  42.200  52.000  1.00  0.00           H  \nATOM    769  CG  LYS A  47      24.080  43.900  53.030  1.00  0.00           C  \nATOM    770 HG2  LYS A  47      23.240  43.890  53.720  1.00  0.00           H  \nATOM    771 HG3  LYS A  47      25.050  44.180  53.450  1.00  0.00           H  \nATOM    772  CD  LYS A  47      23.730  44.910  51.910  1.00  0.00           C  \nATOM    773 HD2  LYS A  47      22.760  44.650  51.490  1.00  0.00           H  \nATOM    774 HD3  LYS A  47      23.540  45.880  52.360  1.00  0.00           H  \nATOM    775  CE  LYS A  47      24.650  44.990  50.700  1.00  0.00           C  \nATOM    776 HE2  LYS A  47      25.690  45.180  50.970  1.00  0.00           H  \nATOM    777 HE3  LYS A  47      24.520  44.110  50.070  1.00  0.00           H  \nATOM    778  NZ  LYS A  47      24.280  46.240  50.020  1.00  0.00           N1+\nATOM    779 HZ1  LYS A  47      24.660  47.090  50.410  1.00  0.00           H  \nATOM    780 HZ2  LYS A  47      24.490  46.110  49.040  1.00  0.00           H  \nATOM    781 HZ3  LYS A  47      23.280  46.340  50.100  1.00  0.00           H  \nATOM    782  C   LYS A  47      24.500  39.980  52.890  1.00  0.00           C  \nATOM    783  O   LYS A  47      23.330  39.550  52.960  1.00  0.00           O  \nATOM    784  N   ALA A  48      25.480  39.250  52.490  1.00  0.00           N  \nATOM    785  H   ALA A  48      26.400  39.660  52.620  1.00  0.00           H  \nATOM    786  CA  ALA A  48      25.320  37.750  52.260  1.00  0.00           C  \nATOM    787  HA  ALA A  48      24.320  37.480  51.940  1.00  0.00           H  \nATOM    788  CB  ALA A  48      26.290  37.310  51.160  1.00  0.00           C  \nATOM    789 HB1  ALA A  48      26.280  36.240  50.950  1.00  0.00           H  \nATOM    790 HB2  ALA A  48      26.010  37.780  50.220  1.00  0.00           H  \nATOM    791 HB3  ALA A  48      27.280  37.690  51.400  1.00  0.00           H  \nATOM    792  C   ALA A  48      25.580  36.950  53.480  1.00  0.00           C  \nATOM    793  O   ALA A  48      24.850  36.000  53.640  1.00  0.00           O  \nATOM    794  N   ILE A  49      26.450  37.340  54.420  1.00  0.00           N  \nATOM    795  H   ILE A  49      26.820  38.270  54.330  1.00  0.00           H  \nATOM    796  CA  ILE A  49      26.670  36.590  55.670  1.00  0.00           C  \nATOM    797  HA  ILE A  49      26.190  35.620  55.540  1.00  0.00           H  \nATOM    798  CB  ILE A  49      28.190  36.280  55.850  1.00  0.00           C  \nATOM    799  HB  ILE A  49      28.560  37.190  56.310  1.00  0.00           H  \nATOM    800 CG2  ILE A  49      28.450  35.050  56.840  1.00  0.00           C  \nATOM    801 HG21 ILE A  49      27.800  34.250  56.480  1.00  0.00           H  \nATOM    802 HG22 ILE A  49      29.480  34.730  56.730  1.00  0.00           H  \nATOM    803 HG23 ILE A  49      28.220  35.380  57.850  1.00  0.00           H  \nATOM    804 CG1  ILE A  49      29.020  36.020  54.630  1.00  0.00           C  \nATOM    805 HG12 ILE A  49      29.050  36.920  54.020  1.00  0.00           H  \nATOM    806 HG13 ILE A  49      30.010  35.990  55.080  1.00  0.00           H  \nATOM    807 CD1  ILE A  49      28.680  34.740  53.830  1.00  0.00           C  \nATOM    808 HD11 ILE A  49      29.540  34.340  53.290  1.00  0.00           H  \nATOM    809 HD12 ILE A  49      28.410  34.020  54.600  1.00  0.00           H  \nATOM    810 HD13 ILE A  49      27.860  34.920  53.130  1.00  0.00           H  \nATOM    811  C   ILE A  49      25.920  37.060  56.910  1.00  0.00           C  \nATOM    812  O   ILE A  49      25.660  36.260  57.780  1.00  0.00           O  \nATOM    813  N   GLY A  50      25.610  38.330  56.890  1.00  0.00           N  \nATOM    814  H   GLY A  50      25.780  38.860  56.040  1.00  0.00           H  \nATOM    815  CA  GLY A  50      24.800  38.930  57.950  1.00  0.00           C  \nATOM    816 HA2  GLY A  50      24.420  39.860  57.530  1.00  0.00           H  \nATOM    817 HA3  GLY A  50      24.020  38.240  58.270  1.00  0.00           H  \nATOM    818  C   GLY A  50      25.590  39.410  59.110  1.00  0.00           C  \nATOM    819  O   GLY A  50      25.010  39.540  60.150  1.00  0.00           O  \nATOM    820  N   ARG A  51      26.880  39.680  58.910  1.00  0.00           N  \nATOM    821  H   ARG A  51      27.160  39.620  57.940  1.00  0.00           H  \nATOM    822  CA  ARG A  51      27.880  40.240  59.810  1.00  0.00           C  \nATOM    823  HA  ARG A  51      27.460  40.970  60.500  1.00  0.00           H  \nATOM    824  CB  ARG A  51      28.530  39.140  60.710  1.00  0.00           C  \nATOM    825 HB2  ARG A  51      29.060  39.800  61.390  1.00  0.00           H  \nATOM    826 HB3  ARG A  51      27.850  38.520  61.290  1.00  0.00           H  \nATOM    827  CG  ARG A  51      29.430  38.180  59.910  1.00  0.00           C  \nATOM    828 HG2  ARG A  51      28.960  37.740  59.030  1.00  0.00           H  \nATOM    829 HG3  ARG A  51      30.300  38.710  59.510  1.00  0.00           H  \nATOM    830  CD  ARG A  51      29.910  36.950  60.730  1.00  0.00           C  \nATOM    831 HD2  ARG A  51      30.200  37.350  61.710  1.00  0.00           H  \nATOM    832 HD3  ARG A  51      29.010  36.340  60.840  1.00  0.00           H  \nATOM    833  NE  ARG A  51      30.980  36.140  60.060  1.00  0.00           N  \nATOM    834  HE  ARG A  51      30.720  35.230  59.710  1.00  0.00           H  \nATOM    835  CZ  ARG A  51      32.260  36.460  60.110  1.00  0.00           C  \nATOM    836 NH1  ARG A  51      32.610  37.610  60.570  1.00  0.00           N  \nATOM    837 HH11 ARG A  51      31.940  38.160  61.090  1.00  0.00           H  \nATOM    838 HH12 ARG A  51      33.560  37.950  60.570  1.00  0.00           H  \nATOM    839 NH2  ARG A  51      33.120  35.620  59.600  1.00  0.00           N1+\nATOM    840 HH21 ARG A  51      32.790  34.840  59.040  1.00  0.00           H  \nATOM    841 HH22 ARG A  51      34.070  35.950  59.480  1.00  0.00           H  \nATOM    842  C   ARG A  51      28.970  40.910  58.940  1.00  0.00           C  \nATOM    843  O   ARG A  51      29.090  40.650  57.750  1.00  0.00           O  \nATOM    844  N   ASN A  52      29.830  41.750  59.560  1.00  0.00           N  \nATOM    845  H   ASN A  52      29.710  41.870  60.560  1.00  0.00           H  \nATOM    846  CA  ASN A  52      30.870  42.520  58.940  1.00  0.00           C  \nATOM    847  HA  ASN A  52      30.570  42.730  57.910  1.00  0.00           H  \nATOM    848  CB  ASN A  52      31.020  43.840  59.640  1.00  0.00           C  \nATOM    849 HB2  ASN A  52      30.080  44.400  59.690  1.00  0.00           H  \nATOM    850 HB3  ASN A  52      31.260  43.730  60.700  1.00  0.00           H  \nATOM    851  CG  ASN A  52      32.060  44.730  59.070  1.00  0.00           C  \nATOM    852 OD1  ASN A  52      32.830  45.220  59.950  1.00  0.00           O  \nATOM    853 ND2  ASN A  52      32.190  44.930  57.770  1.00  0.00           N  \nATOM    854 HD21 ASN A  52      32.930  45.540  57.440  1.00  0.00           H  \nATOM    855 HD22 ASN A  52      31.450  44.580  57.190  1.00  0.00           H  \nATOM    856  C   ASN A  52      32.180  41.660  58.710  1.00  0.00           C  \nATOM    857  O   ASN A  52      33.000  41.590  59.560  1.00  0.00           O  \nATOM    858  N   CYS A  53      32.230  41.000  57.550  1.00  0.00           N  \nATOM    859  H   CYS A  53      31.560  41.130  56.810  1.00  0.00           H  \nATOM    860  CA  CYS A  53      33.350  40.120  57.180  1.00  0.00           C  \nATOM    861  HA  CYS A  53      33.590  39.520  58.060  1.00  0.00           H  \nATOM    862  CB  CYS A  53      32.700  39.170  56.160  1.00  0.00           C  \nATOM    863 HB2  CYS A  53      32.200  39.690  55.340  1.00  0.00           H  \nATOM    864 HB3  CYS A  53      33.470  38.530  55.730  1.00  0.00           H  \nATOM    865  SG  CYS A  53      31.390  38.090  56.850  1.00  0.00           S  \nATOM    866  HG  CYS A  53      30.610  39.000  57.450  1.00  0.00           H  \nATOM    867  C   CYS A  53      34.700  40.820  56.790  1.00  0.00           C  \nATOM    868  O   CYS A  53      35.720  40.170  56.740  1.00  0.00           O  \nATOM    869  N   ASN A  54      34.570  42.100  56.370  1.00  0.00           N  \nATOM    870  H   ASN A  54      33.700  42.600  56.300  1.00  0.00           H  \nATOM    871  CA  ASN A  54      35.730  42.920  55.950  1.00  0.00           C  \nATOM    872  HA  ASN A  54      35.360  43.880  55.590  1.00  0.00           H  \nATOM    873  CB  ASN A  54      36.660  43.200  57.200  1.00  0.00           C  \nATOM    874 HB2  ASN A  54      35.990  43.130  58.060  1.00  0.00           H  \nATOM    875 HB3  ASN A  54      37.500  42.510  57.310  1.00  0.00           H  \nATOM    876  CG  ASN A  54      37.240  44.600  57.280  1.00  0.00           C  \nATOM    877 OD1  ASN A  54      36.820  45.530  56.560  1.00  0.00           O  \nATOM    878 ND2  ASN A  54      38.130  44.910  58.150  1.00  0.00           N  \nATOM    879 HD21 ASN A  54      38.480  45.850  58.320  1.00  0.00           H  \nATOM    880 HD22 ASN A  54      38.460  44.100  58.650  1.00  0.00           H  \nATOM    881  C   ASN A  54      36.530  42.420  54.680  1.00  0.00           C  \nATOM    882  O   ASN A  54      37.520  43.060  54.350  1.00  0.00           O  \nATOM    883  N   GLY A  55      35.930  41.440  53.980  1.00  0.00           N  \nATOM    884  H   GLY A  55      34.980  41.210  54.220  1.00  0.00           H  \nATOM    885  CA  GLY A  55      36.550  40.870  52.790  1.00  0.00           C  \nATOM    886 HA2  GLY A  55      35.750  40.730  52.070  1.00  0.00           H  \nATOM    887 HA3  GLY A  55      37.180  41.650  52.370  1.00  0.00           H  \nATOM    888  C   GLY A  55      37.400  39.620  53.030  1.00  0.00           C  \nATOM    889  O   GLY A  55      38.300  39.310  52.240  1.00  0.00           O  \nATOM    890  N   VAL A  56      37.110  38.890  54.120  1.00  0.00           N  \nATOM    891  H   VAL A  56      36.260  39.150  54.600  1.00  0.00           H  \nATOM    892  CA  VAL A  56      37.660  37.580  54.460  1.00  0.00           C  \nATOM    893  HA  VAL A  56      37.780  37.020  53.530  1.00  0.00           H  \nATOM    894  CB  VAL A  56      38.940  37.690  55.280  1.00  0.00           C  \nATOM    895  HB  VAL A  56      39.710  38.190  54.690  1.00  0.00           H  \nATOM    896 CG1  VAL A  56      38.750  38.610  56.560  1.00  0.00           C  \nATOM    897 HG11 VAL A  56      38.050  38.220  57.300  1.00  0.00           H  \nATOM    898 HG12 VAL A  56      39.720  38.790  57.020  1.00  0.00           H  \nATOM    899 HG13 VAL A  56      38.500  39.660  56.420  1.00  0.00           H  \nATOM    900 CG2  VAL A  56      39.520  36.250  55.630  1.00  0.00           C  \nATOM    901 HG21 VAL A  56      39.540  35.670  54.700  1.00  0.00           H  \nATOM    902 HG22 VAL A  56      40.590  36.370  55.800  1.00  0.00           H  \nATOM    903 HG23 VAL A  56      38.890  35.710  56.330  1.00  0.00           H  \nATOM    904  C   VAL A  56      36.540  36.810  55.220  1.00  0.00           C  \nATOM    905  O   VAL A  56      35.680  37.350  55.910  1.00  0.00           O  \nATOM    906  N   ILE A  57      36.450  35.490  55.000  1.00  0.00           N  \nATOM    907  H   ILE A  57      37.070  35.050  54.340  1.00  0.00           H  \nATOM    908  CA  ILE A  57      35.540  34.600  55.770  1.00  0.00           C  \nATOM    909  HA  ILE A  57      35.080  35.130  56.600  1.00  0.00           H  \nATOM    910  CB  ILE A  57      34.350  34.190  54.730  1.00  0.00           C  \nATOM    911  HB  ILE A  57      33.650  33.520  55.220  1.00  0.00           H  \nATOM    912 CG2  ILE A  57      33.630  35.440  54.210  1.00  0.00           C  \nATOM    913 HG21 ILE A  57      34.200  36.040  53.490  1.00  0.00           H  \nATOM    914 HG22 ILE A  57      32.610  35.240  53.900  1.00  0.00           H  \nATOM    915 HG23 ILE A  57      33.450  36.120  55.040  1.00  0.00           H  \nATOM    916 CG1  ILE A  57      34.870  33.330  53.560  1.00  0.00           C  \nATOM    917 HG12 ILE A  57      35.790  33.790  53.200  1.00  0.00           H  \nATOM    918 HG13 ILE A  57      35.200  32.340  53.880  1.00  0.00           H  \nATOM    919 CD1  ILE A  57      33.960  33.130  52.420  1.00  0.00           C  \nATOM    920 HD11 ILE A  57      33.040  32.560  52.580  1.00  0.00           H  \nATOM    921 HD12 ILE A  57      33.700  34.050  51.890  1.00  0.00           H  \nATOM    922 HD13 ILE A  57      34.520  32.490  51.740  1.00  0.00           H  \nATOM    923  C   ILE A  57      36.190  33.390  56.380  1.00  0.00           C  \nATOM    924  O   ILE A  57      37.290  33.050  55.990  1.00  0.00           O  \nATOM    925  N   THR A  58      35.550  32.660  57.270  1.00  0.00           N  \nATOM    926  H   THR A  58      34.660  33.040  57.560  1.00  0.00           H  \nATOM    927  CA  THR A  58      35.980  31.330  57.790  1.00  0.00           C  \nATOM    928  HA  THR A  58      37.060  31.330  57.680  1.00  0.00           H  \nATOM    929  CB  THR A  58      35.490  31.140  59.280  1.00  0.00           C  \nATOM    930  HB  THR A  58      36.020  30.240  59.580  1.00  0.00           H  \nATOM    931 CG2  THR A  58      35.810  32.280  60.180  1.00  0.00           C  \nATOM    932 HG21 THR A  58      36.860  32.500  59.980  1.00  0.00           H  \nATOM    933 HG22 THR A  58      35.050  33.050  60.020  1.00  0.00           H  \nATOM    934 HG23 THR A  58      35.640  31.880  61.180  1.00  0.00           H  \nATOM    935 OG1  THR A  58      34.110  30.970  59.200  1.00  0.00           O  \nATOM    936 HG1  THR A  58      33.660  31.810  59.110  1.00  0.00           H  \nATOM    937  C   THR A  58      35.610  30.170  56.900  1.00  0.00           C  \nATOM    938  O   THR A  58      34.680  30.160  56.140  1.00  0.00           O  \nATOM    939  N   LYS A  59      36.340  29.050  57.000  1.00  0.00           N  \nATOM    940  H   LYS A  59      37.130  29.040  57.620  1.00  0.00           H  \nATOM    941  CA  LYS A  59      36.250  27.800  56.180  1.00  0.00           C  \nATOM    942  HA  LYS A  59      36.660  28.040  55.200  1.00  0.00           H  \nATOM    943  CB  LYS A  59      37.160  26.730  56.750  1.00  0.00           C  \nATOM    944 HB2  LYS A  59      36.980  26.530  57.810  1.00  0.00           H  \nATOM    945 HB3  LYS A  59      37.000  25.710  56.400  1.00  0.00           H  \nATOM    946  CG  LYS A  59      38.680  26.920  56.540  1.00  0.00           C  \nATOM    947 HG2  LYS A  59      38.860  27.040  55.470  1.00  0.00           H  \nATOM    948 HG3  LYS A  59      38.890  27.820  57.130  1.00  0.00           H  \nATOM    949  CD  LYS A  59      39.470  25.750  57.100  1.00  0.00           C  \nATOM    950 HD2  LYS A  59      40.470  26.190  57.110  1.00  0.00           H  \nATOM    951 HD3  LYS A  59      39.400  25.580  58.170  1.00  0.00           H  \nATOM    952  CE  LYS A  59      39.380  24.450  56.280  1.00  0.00           C  \nATOM    953 HE2  LYS A  59      38.440  23.990  56.600  1.00  0.00           H  \nATOM    954 HE3  LYS A  59      39.490  24.810  55.250  1.00  0.00           H  \nATOM    955  NZ  LYS A  59      40.450  23.530  56.580  1.00  0.00           N1+\nATOM    956 HZ1  LYS A  59      40.620  22.790  55.920  1.00  0.00           H  \nATOM    957 HZ2  LYS A  59      41.370  23.930  56.510  1.00  0.00           H  \nATOM    958 HZ3  LYS A  59      40.350  23.060  57.470  1.00  0.00           H  \nATOM    959  C   LYS A  59      34.850  27.280  56.020  1.00  0.00           C  \nATOM    960  O   LYS A  59      34.420  26.950  54.910  1.00  0.00           O  \nATOM    961  N   ASP A  60      34.110  27.280  57.100  1.00  0.00           N  \nATOM    962  H   ASP A  60      34.520  27.690  57.930  1.00  0.00           H  \nATOM    963  CA  ASP A  60      32.680  26.860  57.150  1.00  0.00           C  \nATOM    964  HA  ASP A  60      32.540  25.820  56.850  1.00  0.00           H  \nATOM    965  CB  ASP A  60      32.270  26.870  58.630  1.00  0.00           C  \nATOM    966 HB2  ASP A  60      32.940  26.170  59.130  1.00  0.00           H  \nATOM    967 HB3  ASP A  60      32.380  27.880  59.020  1.00  0.00           H  \nATOM    968  CG  ASP A  60      30.870  26.370  58.760  1.00  0.00           C  \nATOM    969 OD1  ASP A  60      30.620  25.150  58.460  1.00  0.00           O  \nATOM    970 OD2  ASP A  60      29.930  27.140  59.130  1.00  0.00           O1-\nATOM    971  C   ASP A  60      31.780  27.780  56.310  1.00  0.00           C  \nATOM    972  O   ASP A  60      30.740  27.320  55.780  1.00  0.00           O  \nATOM    973  N   GLU A  61      32.050  29.110  56.320  1.00  0.00           N  \nATOM    974  H   GLU A  61      32.840  29.380  56.890  1.00  0.00           H  \nATOM    975  CA  GLU A  61      31.170  30.140  55.760  1.00  0.00           C  \nATOM    976  HA  GLU A  61      30.110  29.890  55.890  1.00  0.00           H  \nATOM    977  CB  GLU A  61      31.400  31.470  56.470  1.00  0.00           C  \nATOM    978 HB2  GLU A  61      32.450  31.770  56.440  1.00  0.00           H  \nATOM    979 HB3  GLU A  61      30.860  32.240  55.930  1.00  0.00           H  \nATOM    980  CG  GLU A  61      30.970  31.560  57.970  1.00  0.00           C  \nATOM    981 HG2  GLU A  61      29.880  31.530  57.990  1.00  0.00           H  \nATOM    982 HG3  GLU A  61      31.400  30.770  58.590  1.00  0.00           H  \nATOM    983  CD  GLU A  61      31.440  32.820  58.590  1.00  0.00           C  \nATOM    984 OE1  GLU A  61      32.610  33.180  58.380  1.00  0.00           O  \nATOM    985 OE2  GLU A  61      30.760  33.520  59.380  1.00  0.00           O1-\nATOM    986  C   GLU A  61      31.420  30.190  54.200  1.00  0.00           C  \nATOM    987  O   GLU A  61      30.530  30.450  53.430  1.00  0.00           O  \nATOM    988  N   ALA A  62      32.660  29.750  53.810  1.00  0.00           N  \nATOM    989  H   ALA A  62      33.350  29.570  54.530  1.00  0.00           H  \nATOM    990  CA  ALA A  62      32.970  29.430  52.370  1.00  0.00           C  \nATOM    991  HA  ALA A  62      32.740  30.170  51.610  1.00  0.00           H  \nATOM    992  CB  ALA A  62      34.450  29.120  52.200  1.00  0.00           C  \nATOM    993 HB1  ALA A  62      35.080  29.940  52.520  1.00  0.00           H  \nATOM    994 HB2  ALA A  62      34.710  28.230  52.770  1.00  0.00           H  \nATOM    995 HB3  ALA A  62      34.600  28.810  51.170  1.00  0.00           H  \nATOM    996  C   ALA A  62      32.120  28.280  51.860  1.00  0.00           C  \nATOM    997  O   ALA A  62      31.550  28.390  50.750  1.00  0.00           O  \nATOM    998  N   GLU A  63      31.930  27.170  52.640  1.00  0.00           N  \nATOM    999  H   GLU A  63      32.430  27.210  53.520  1.00  0.00           H  \nATOM   1000  CA  GLU A  63      31.140  26.000  52.320  1.00  0.00           C  \nATOM   1001  HA  GLU A  63      31.310  25.830  51.250  1.00  0.00           H  \nATOM   1002  CB  GLU A  63      31.500  24.700  53.050  1.00  0.00           C  \nATOM   1003 HB2  GLU A  63      31.610  24.910  54.120  1.00  0.00           H  \nATOM   1004 HB3  GLU A  63      30.710  23.960  52.970  1.00  0.00           H  \nATOM   1005  CG  GLU A  63      32.760  24.020  52.380  1.00  0.00           C  \nATOM   1006 HG2  GLU A  63      32.550  23.840  51.330  1.00  0.00           H  \nATOM   1007 HG3  GLU A  63      33.550  24.760  52.440  1.00  0.00           H  \nATOM   1008  CD  GLU A  63      33.190  22.720  53.130  1.00  0.00           C  \nATOM   1009 OE1  GLU A  63      34.000  21.970  52.580  1.00  0.00           O  \nATOM   1010 OE2  GLU A  63      32.710  22.520  54.250  1.00  0.00           O1-\nATOM   1011  C   GLU A  63      29.650  26.370  52.380  1.00  0.00           C  \nATOM   1012  O   GLU A  63      29.010  25.800  51.500  1.00  0.00           O  \nATOM   1013  N   LYS A  64      29.200  27.100  53.430  1.00  0.00           N  \nATOM   1014  H   LYS A  64      29.850  27.390  54.150  1.00  0.00           H  \nATOM   1015  CA  LYS A  64      27.810  27.600  53.480  1.00  0.00           C  \nATOM   1016  HA  LYS A  64      27.080  26.790  53.400  1.00  0.00           H  \nATOM   1017  CB  LYS A  64      27.590  28.330  54.830  1.00  0.00           C  \nATOM   1018 HB2  LYS A  64      28.490  28.840  55.160  1.00  0.00           H  \nATOM   1019 HB3  LYS A  64      26.650  28.880  54.780  1.00  0.00           H  \nATOM   1020  CG  LYS A  64      27.260  27.380  55.980  1.00  0.00           C  \nATOM   1021 HG2  LYS A  64      26.340  26.830  55.790  1.00  0.00           H  \nATOM   1022 HG3  LYS A  64      28.080  26.670  55.960  1.00  0.00           H  \nATOM   1023  CD  LYS A  64      27.200  28.060  57.320  1.00  0.00           C  \nATOM   1024 HD2  LYS A  64      28.200  28.380  57.620  1.00  0.00           H  \nATOM   1025 HD3  LYS A  64      26.500  28.900  57.320  1.00  0.00           H  \nATOM   1026  CE  LYS A  64      26.680  27.060  58.340  1.00  0.00           C  \nATOM   1027 HE2  LYS A  64      26.530  27.600  59.280  1.00  0.00           H  \nATOM   1028 HE3  LYS A  64      25.710  26.680  58.020  1.00  0.00           H  \nATOM   1029  NZ  LYS A  64      27.620  25.860  58.570  1.00  0.00           N1+\nATOM   1030 HZ1  LYS A  64      27.380  25.320  59.390  1.00  0.00           H  \nATOM   1031 HZ2  LYS A  64      27.500  25.270  57.760  1.00  0.00           H  \nATOM   1032 HZ3  LYS A  64      28.550  26.240  58.700  1.00  0.00           H  \nATOM   1033  C   LYS A  64      27.510  28.490  52.240  1.00  0.00           C  \nATOM   1034  O   LYS A  64      26.500  28.220  51.590  1.00  0.00           O  \nATOM   1035  N   LEU A  65      28.410  29.260  51.740  1.00  0.00           N  \nATOM   1036  H   LEU A  65      29.230  29.350  52.330  1.00  0.00           H  \nATOM   1037  CA  LEU A  65      28.220  30.010  50.440  1.00  0.00           C  \nATOM   1038  HA  LEU A  65      27.270  30.540  50.540  1.00  0.00           H  \nATOM   1039  CB  LEU A  65      29.410  30.970  50.200  1.00  0.00           C  \nATOM   1040 HB2  LEU A  65      30.310  30.440  50.540  1.00  0.00           H  \nATOM   1041 HB3  LEU A  65      29.510  31.170  49.130  1.00  0.00           H  \nATOM   1042  CG  LEU A  65      29.440  32.360  51.010  1.00  0.00           C  \nATOM   1043  HG  LEU A  65      29.300  32.200  52.080  1.00  0.00           H  \nATOM   1044 CD1  LEU A  65      30.790  33.100  50.710  1.00  0.00           C  \nATOM   1045 HD11 LEU A  65      30.960  34.010  51.300  1.00  0.00           H  \nATOM   1046 HD12 LEU A  65      31.610  32.430  50.970  1.00  0.00           H  \nATOM   1047 HD13 LEU A  65      30.890  33.370  49.660  1.00  0.00           H  \nATOM   1048 CD2  LEU A  65      28.280  33.300  50.510  1.00  0.00           C  \nATOM   1049 HD21 LEU A  65      27.340  32.840  50.800  1.00  0.00           H  \nATOM   1050 HD22 LEU A  65      28.360  34.320  50.910  1.00  0.00           H  \nATOM   1051 HD23 LEU A  65      28.220  33.420  49.430  1.00  0.00           H  \nATOM   1052  C   LEU A  65      28.060  29.050  49.220  1.00  0.00           C  \nATOM   1053  O   LEU A  65      27.160  29.200  48.410  1.00  0.00           O  \nATOM   1054  N   PHE A  66      29.000  28.060  49.090  1.00  0.00           N  \nATOM   1055  H   PHE A  66      29.690  28.060  49.830  1.00  0.00           H  \nATOM   1056  CA  PHE A  66      29.110  27.080  47.930  1.00  0.00           C  \nATOM   1057  HA  PHE A  66      29.490  27.590  47.040  1.00  0.00           H  \nATOM   1058  CB  PHE A  66      30.230  26.190  48.320  1.00  0.00           C  \nATOM   1059 HB2  PHE A  66      30.980  26.880  48.700  1.00  0.00           H  \nATOM   1060 HB3  PHE A  66      29.920  25.600  49.180  1.00  0.00           H  \nATOM   1061  CG  PHE A  66      30.840  25.170  47.340  1.00  0.00           C  \nATOM   1062 CD1  PHE A  66      30.490  25.020  46.040  1.00  0.00           C  \nATOM   1063 HD1  PHE A  66      29.780  25.730  45.650  1.00  0.00           H  \nATOM   1064 CE1  PHE A  66      31.040  24.110  45.190  1.00  0.00           C  \nATOM   1065 HE1  PHE A  66      30.710  24.120  44.160  1.00  0.00           H  \nATOM   1066  CZ  PHE A  66      31.910  23.130  45.720  1.00  0.00           C  \nATOM   1067  HZ  PHE A  66      32.190  22.310  45.070  1.00  0.00           H  \nATOM   1068 CE2  PHE A  66      32.320  23.270  47.060  1.00  0.00           C  \nATOM   1069 HE2  PHE A  66      32.820  22.420  47.500  1.00  0.00           H  \nATOM   1070 CD2  PHE A  66      31.730  24.220  47.900  1.00  0.00           C  \nATOM   1071 HD2  PHE A  66      31.830  24.170  48.970  1.00  0.00           H  \nATOM   1072  C   PHE A  66      27.850  26.310  47.680  1.00  0.00           C  \nATOM   1073  O   PHE A  66      27.420  26.110  46.530  1.00  0.00           O  \nATOM   1074  N   ASN A  67      27.170  25.970  48.780  1.00  0.00           N  \nATOM   1075  H   ASN A  67      27.420  26.190  49.730  1.00  0.00           H  \nATOM   1076  CA  ASN A  67      25.910  25.210  48.660  1.00  0.00           C  \nATOM   1077  HA  ASN A  67      26.100  24.340  48.020  1.00  0.00           H  \nATOM   1078  CB  ASN A  67      25.370  24.720  50.070  1.00  0.00           C  \nATOM   1079 HB2  ASN A  67      25.940  23.840  50.360  1.00  0.00           H  \nATOM   1080 HB3  ASN A  67      25.570  25.460  50.850  1.00  0.00           H  \nATOM   1081  CG  ASN A  67      23.880  24.390  50.100  1.00  0.00           C  \nATOM   1082 OD1  ASN A  67      23.080  25.260  50.400  1.00  0.00           O  \nATOM   1083 ND2  ASN A  67      23.430  23.280  49.720  1.00  0.00           N  \nATOM   1084 HD21 ASN A  67      22.460  23.130  49.960  1.00  0.00           H  \nATOM   1085 HD22 ASN A  67      24.110  22.550  49.580  1.00  0.00           H  \nATOM   1086  C   ASN A  67      24.820  26.010  47.930  1.00  0.00           C  \nATOM   1087  O   ASN A  67      24.080  25.530  47.040  1.00  0.00           O  \nATOM   1088  N   GLN A  68      24.690  27.220  48.410  1.00  0.00           N  \nATOM   1089  H   GLN A  68      25.390  27.530  49.070  1.00  0.00           H  \nATOM   1090  CA  GLN A  68      23.680  28.140  47.960  1.00  0.00           C  \nATOM   1091  HA  GLN A  68      22.730  27.610  48.030  1.00  0.00           H  \nATOM   1092  CB  GLN A  68      23.710  29.310  48.990  1.00  0.00           C  \nATOM   1093 HB2  GLN A  68      24.700  29.770  49.040  1.00  0.00           H  \nATOM   1094 HB3  GLN A  68      23.060  30.160  48.780  1.00  0.00           H  \nATOM   1095  CG  GLN A  68      23.280  29.030  50.390  1.00  0.00           C  \nATOM   1096 HG2  GLN A  68      22.230  28.740  50.420  1.00  0.00           H  \nATOM   1097 HG3  GLN A  68      23.840  28.210  50.840  1.00  0.00           H  \nATOM   1098  CD  GLN A  68      23.370  30.250  51.290  1.00  0.00           C  \nATOM   1099 OE1  GLN A  68      22.420  30.950  51.540  1.00  0.00           O  \nATOM   1100 NE2  GLN A  68      24.570  30.480  51.830  1.00  0.00           N  \nATOM   1101 HE21 GLN A  68      25.370  29.870  51.760  1.00  0.00           H  \nATOM   1102 HE22 GLN A  68      24.580  31.180  52.560  1.00  0.00           H  \nATOM   1103  C   GLN A  68      23.960  28.690  46.550  1.00  0.00           C  \nATOM   1104  O   GLN A  68      23.050  28.870  45.710  1.00  0.00           O  \nATOM   1105  N   ASP A  69      25.230  28.770  46.140  1.00  0.00           N  \nATOM   1106  H   ASP A  69      26.000  28.820  46.790  1.00  0.00           H  \nATOM   1107  CA  ASP A  69      25.650  29.100  44.800  1.00  0.00           C  \nATOM   1108  HA  ASP A  69      25.020  29.870  44.350  1.00  0.00           H  \nATOM   1109  CB  ASP A  69      27.140  29.540  45.070  1.00  0.00           C  \nATOM   1110 HB2  ASP A  69      27.060  30.330  45.820  1.00  0.00           H  \nATOM   1111 HB3  ASP A  69      27.790  28.710  45.350  1.00  0.00           H  \nATOM   1112  CG  ASP A  69      27.830  30.130  43.840  1.00  0.00           C  \nATOM   1113 OD1  ASP A  69      27.130  30.840  43.060  1.00  0.00           O  \nATOM   1114 OD2  ASP A  69      29.080  30.090  43.750  1.00  0.00           O1-\nATOM   1115  C   ASP A  69      25.420  27.910  43.890  1.00  0.00           C  \nATOM   1116  O   ASP A  69      24.880  28.080  42.780  1.00  0.00           O  \nATOM   1117  N   VAL A  70      25.700  26.620  44.280  1.00  0.00           N  \nATOM   1118  H   VAL A  70      26.370  26.430  45.020  1.00  0.00           H  \nATOM   1119  CA  VAL A  70      25.300  25.450  43.400  1.00  0.00           C  \nATOM   1120  HA  VAL A  70      25.630  25.490  42.370  1.00  0.00           H  \nATOM   1121  CB  VAL A  70      25.880  24.130  43.940  1.00  0.00           C  \nATOM   1122  HB  VAL A  70      25.850  24.070  45.020  1.00  0.00           H  \nATOM   1123 CG1  VAL A  70      25.250  22.750  43.520  1.00  0.00           C  \nATOM   1124 HG11 VAL A  70      25.740  21.940  44.050  1.00  0.00           H  \nATOM   1125 HG12 VAL A  70      24.170  22.840  43.650  1.00  0.00           H  \nATOM   1126 HG13 VAL A  70      25.370  22.560  42.460  1.00  0.00           H  \nATOM   1127 CG2  VAL A  70      27.360  24.050  43.530  1.00  0.00           C  \nATOM   1128 HG21 VAL A  70      27.900  24.860  44.020  1.00  0.00           H  \nATOM   1129 HG22 VAL A  70      27.910  23.160  43.850  1.00  0.00           H  \nATOM   1130 HG23 VAL A  70      27.440  24.060  42.440  1.00  0.00           H  \nATOM   1131  C   VAL A  70      23.780  25.400  43.310  1.00  0.00           C  \nATOM   1132  O   VAL A  70      23.210  25.250  42.200  1.00  0.00           O  \nATOM   1133  N   ASP A  71      23.010  25.570  44.340  1.00  0.00           N  \nATOM   1134  H   ASP A  71      23.460  25.830  45.210  1.00  0.00           H  \nATOM   1135  CA  ASP A  71      21.560  25.570  44.330  1.00  0.00           C  \nATOM   1136  HA  ASP A  71      21.400  24.530  44.030  1.00  0.00           H  \nATOM   1137  CB  ASP A  71      21.040  25.770  45.750  1.00  0.00           C  \nATOM   1138 HB2  ASP A  71      21.440  25.070  46.490  1.00  0.00           H  \nATOM   1139 HB3  ASP A  71      21.440  26.750  46.020  1.00  0.00           H  \nATOM   1140  CG  ASP A  71      19.520  25.660  45.780  1.00  0.00           C  \nATOM   1141 OD1  ASP A  71      18.890  24.570  45.830  1.00  0.00           O  \nATOM   1142 OD2  ASP A  71      18.860  26.750  45.810  1.00  0.00           O1-\nATOM   1143  C   ASP A  71      20.900  26.510  43.240  1.00  0.00           C  \nATOM   1144  O   ASP A  71      19.960  26.170  42.570  1.00  0.00           O  \nATOM   1145  N   ALA A  72      21.570  27.660  43.050  1.00  0.00           N  \nATOM   1146  H   ALA A  72      22.460  27.880  43.470  1.00  0.00           H  \nATOM   1147  CA  ALA A  72      21.070  28.690  42.110  1.00  0.00           C  \nATOM   1148  HA  ALA A  72      19.990  28.790  42.180  1.00  0.00           H  \nATOM   1149  CB  ALA A  72      21.590  30.030  42.580  1.00  0.00           C  \nATOM   1150 HB1  ALA A  72      22.660  30.100  42.730  1.00  0.00           H  \nATOM   1151 HB2  ALA A  72      21.230  30.790  41.880  1.00  0.00           H  \nATOM   1152 HB3  ALA A  72      21.110  30.210  43.540  1.00  0.00           H  \nATOM   1153  C   ALA A  72      21.600  28.300  40.640  1.00  0.00           C  \nATOM   1154  O   ALA A  72      20.910  28.570  39.650  1.00  0.00           O  \nATOM   1155  N   ALA A  73      22.700  27.480  40.610  1.00  0.00           N  \nATOM   1156  H   ALA A  73      23.060  27.070  41.460  1.00  0.00           H  \nATOM   1157  CA  ALA A  73      23.160  26.840  39.290  1.00  0.00           C  \nATOM   1158  HA  ALA A  73      23.140  27.640  38.550  1.00  0.00           H  \nATOM   1159  CB  ALA A  73      24.540  26.260  39.440  1.00  0.00           C  \nATOM   1160 HB1  ALA A  73      24.430  25.210  39.710  1.00  0.00           H  \nATOM   1161 HB2  ALA A  73      25.030  26.210  38.470  1.00  0.00           H  \nATOM   1162 HB3  ALA A  73      25.160  26.770  40.180  1.00  0.00           H  \nATOM   1163  C   ALA A  73      22.100  25.790  38.900  1.00  0.00           C  \nATOM   1164  O   ALA A  73      21.590  25.800  37.740  1.00  0.00           O  \nATOM   1165  N   VAL A  74      21.640  25.000  39.860  1.00  0.00           N  \nATOM   1166  H   VAL A  74      22.170  25.040  40.720  1.00  0.00           H  \nATOM   1167  CA  VAL A  74      20.730  23.860  39.670  1.00  0.00           C  \nATOM   1168  HA  VAL A  74      21.070  23.300  38.800  1.00  0.00           H  \nATOM   1169  CB  VAL A  74      20.710  22.920  40.930  1.00  0.00           C  \nATOM   1170  HB  VAL A  74      20.460  23.610  41.740  1.00  0.00           H  \nATOM   1171 CG1  VAL A  74      19.640  21.770  40.760  1.00  0.00           C  \nATOM   1172 HG11 VAL A  74      19.870  20.980  41.480  1.00  0.00           H  \nATOM   1173 HG12 VAL A  74      18.640  22.190  40.910  1.00  0.00           H  \nATOM   1174 HG13 VAL A  74      19.710  21.480  39.710  1.00  0.00           H  \nATOM   1175 CG2  VAL A  74      22.040  22.240  41.080  1.00  0.00           C  \nATOM   1176 HG21 VAL A  74      21.990  21.680  42.020  1.00  0.00           H  \nATOM   1177 HG22 VAL A  74      22.100  21.570  40.220  1.00  0.00           H  \nATOM   1178 HG23 VAL A  74      22.820  22.980  40.920  1.00  0.00           H  \nATOM   1179  C   VAL A  74      19.310  24.370  39.300  1.00  0.00           C  \nATOM   1180  O   VAL A  74      18.800  23.980  38.270  1.00  0.00           O  \nATOM   1181  N   ARG A  75      18.690  25.220  40.140  1.00  0.00           N  \nATOM   1182  H   ARG A  75      19.150  25.380  41.020  1.00  0.00           H  \nATOM   1183  CA  ARG A  75      17.430  25.940  39.770  1.00  0.00           C  \nATOM   1184  HA  ARG A  75      16.650  25.200  39.600  1.00  0.00           H  \nATOM   1185  CB  ARG A  75      16.840  26.670  41.000  1.00  0.00           C  \nATOM   1186 HB2  ARG A  75      17.480  27.530  41.190  1.00  0.00           H  \nATOM   1187 HB3  ARG A  75      15.870  27.050  40.690  1.00  0.00           H  \nATOM   1188  CG  ARG A  75      16.670  25.790  42.250  1.00  0.00           C  \nATOM   1189 HG2  ARG A  75      16.060  24.940  41.930  1.00  0.00           H  \nATOM   1190 HG3  ARG A  75      17.700  25.560  42.530  1.00  0.00           H  \nATOM   1191  CD  ARG A  75      16.090  26.540  43.390  1.00  0.00           C  \nATOM   1192 HD2  ARG A  75      16.620  27.490  43.310  1.00  0.00           H  \nATOM   1193 HD3  ARG A  75      15.040  26.770  43.220  1.00  0.00           H  \nATOM   1194  NE  ARG A  75      16.380  25.770  44.660  1.00  0.00           N  \nATOM   1195  HE  ARG A  75      17.370  25.690  44.830  1.00  0.00           H  \nATOM   1196  CZ  ARG A  75      15.590  24.930  45.270  1.00  0.00           C  \nATOM   1197 NH1  ARG A  75      14.310  24.950  45.180  1.00  0.00           N  \nATOM   1198 HH11 ARG A  75      13.890  25.770  44.770  1.00  0.00           H  \nATOM   1199 HH12 ARG A  75      13.770  24.170  45.540  1.00  0.00           H  \nATOM   1200 NH2  ARG A  75      16.150  24.050  46.090  1.00  0.00           N1+\nATOM   1201 HH21 ARG A  75      17.130  24.100  46.330  1.00  0.00           H  \nATOM   1202 HH22 ARG A  75      15.500  23.620  46.720  1.00  0.00           H  \nATOM   1203  C   ARG A  75      17.570  26.730  38.470  1.00  0.00           C  \nATOM   1204  O   ARG A  75      16.720  26.620  37.630  1.00  0.00           O  \nATOM   1205  N   GLY A  76      18.660  27.480  38.220  1.00  0.00           N  \nATOM   1206  H   GLY A  76      19.170  27.830  39.020  1.00  0.00           H  \nATOM   1207  CA  GLY A  76      18.960  28.130  36.930  1.00  0.00           C  \nATOM   1208 HA2  GLY A  76      18.300  28.990  36.830  1.00  0.00           H  \nATOM   1209 HA3  GLY A  76      19.950  28.580  36.910  1.00  0.00           H  \nATOM   1210  C   GLY A  76      18.810  27.290  35.660  1.00  0.00           C  \nATOM   1211  O   GLY A  76      18.030  27.620  34.740  1.00  0.00           O  \nATOM   1212  N   ILE A  77      19.190  25.940  35.710  1.00  0.00           N  \nATOM   1213  H   ILE A  77      19.590  25.630  36.580  1.00  0.00           H  \nATOM   1214  CA  ILE A  77      18.910  25.000  34.570  1.00  0.00           C  \nATOM   1215  HA  ILE A  77      19.100  25.520  33.630  1.00  0.00           H  \nATOM   1216  CB  ILE A  77      19.870  23.830  34.580  1.00  0.00           C  \nATOM   1217  HB  ILE A  77      19.830  23.400  35.580  1.00  0.00           H  \nATOM   1218 CG2  ILE A  77      19.380  22.810  33.500  1.00  0.00           C  \nATOM   1219 HG21 ILE A  77      18.660  22.120  33.940  1.00  0.00           H  \nATOM   1220 HG22 ILE A  77      19.210  23.180  32.500  1.00  0.00           H  \nATOM   1221 HG23 ILE A  77      20.120  22.090  33.170  1.00  0.00           H  \nATOM   1222 CG1  ILE A  77      21.320  24.200  34.350  1.00  0.00           C  \nATOM   1223 HG12 ILE A  77      21.480  24.520  33.320  1.00  0.00           H  \nATOM   1224 HG13 ILE A  77      21.550  25.010  35.050  1.00  0.00           H  \nATOM   1225 CD1  ILE A  77      22.270  22.970  34.590  1.00  0.00           C  \nATOM   1226 HD11 ILE A  77      22.640  22.690  33.600  1.00  0.00           H  \nATOM   1227 HD12 ILE A  77      23.080  23.330  35.220  1.00  0.00           H  \nATOM   1228 HD13 ILE A  77      21.710  22.170  35.070  1.00  0.00           H  \nATOM   1229  C   ILE A  77      17.460  24.520  34.490  1.00  0.00           C  \nATOM   1230  O   ILE A  77      16.830  24.500  33.380  1.00  0.00           O  \nATOM   1231  N   LEU A  78      17.020  24.030  35.620  1.00  0.00           N  \nATOM   1232  H   LEU A  78      17.540  24.120  36.480  1.00  0.00           H  \nATOM   1233  CA  LEU A  78      15.700  23.380  35.710  1.00  0.00           C  \nATOM   1234  HA  LEU A  78      15.760  22.480  35.110  1.00  0.00           H  \nATOM   1235  CB  LEU A  78      15.630  22.770  37.160  1.00  0.00           C  \nATOM   1236 HB2  LEU A  78      15.670  23.570  37.890  1.00  0.00           H  \nATOM   1237 HB3  LEU A  78      14.650  22.340  37.370  1.00  0.00           H  \nATOM   1238  CG  LEU A  78      16.600  21.630  37.580  1.00  0.00           C  \nATOM   1239  HG  LEU A  78      17.580  21.920  37.200  1.00  0.00           H  \nATOM   1240 CD1  LEU A  78      16.580  21.150  39.020  1.00  0.00           C  \nATOM   1241 HD11 LEU A  78      16.940  22.000  39.600  1.00  0.00           H  \nATOM   1242 HD12 LEU A  78      15.540  20.980  39.330  1.00  0.00           H  \nATOM   1243 HD13 LEU A  78      17.170  20.250  39.180  1.00  0.00           H  \nATOM   1244 CD2  LEU A  78      16.020  20.410  36.810  1.00  0.00           C  \nATOM   1245 HD21 LEU A  78      15.960  20.600  35.730  1.00  0.00           H  \nATOM   1246 HD22 LEU A  78      16.790  19.640  36.810  1.00  0.00           H  \nATOM   1247 HD23 LEU A  78      15.120  19.980  37.240  1.00  0.00           H  \nATOM   1248  C   LEU A  78      14.510  24.270  35.380  1.00  0.00           C  \nATOM   1249  O   LEU A  78      13.380  23.770  35.300  1.00  0.00           O  \nATOM   1250  N   ARG A  79      14.760  25.580  35.240  1.00  0.00           N  \nATOM   1251  H   ARG A  79      15.700  25.800  35.550  1.00  0.00           H  \nATOM   1252  CA  ARG A  79      13.820  26.660  35.200  1.00  0.00           C  \nATOM   1253  HA  ARG A  79      12.790  26.330  35.150  1.00  0.00           H  \nATOM   1254  CB  ARG A  79      13.760  27.570  36.390  1.00  0.00           C  \nATOM   1255 HB2  ARG A  79      14.760  27.840  36.720  1.00  0.00           H  \nATOM   1256 HB3  ARG A  79      13.390  28.570  36.160  1.00  0.00           H  \nATOM   1257  CG  ARG A  79      13.120  27.060  37.700  1.00  0.00           C  \nATOM   1258 HG2  ARG A  79      12.040  26.940  37.600  1.00  0.00           H  \nATOM   1259 HG3  ARG A  79      13.530  26.060  37.900  1.00  0.00           H  \nATOM   1260  CD  ARG A  79      13.340  28.070  38.850  1.00  0.00           C  \nATOM   1261 HD2  ARG A  79      14.380  28.370  38.970  1.00  0.00           H  \nATOM   1262 HD3  ARG A  79      12.760  28.930  38.490  1.00  0.00           H  \nATOM   1263  NE  ARG A  79      12.870  27.470  40.110  1.00  0.00           N  \nATOM   1264  HE  ARG A  79      12.150  26.760  40.080  1.00  0.00           H  \nATOM   1265  CZ  ARG A  79      13.090  27.970  41.300  1.00  0.00           C  \nATOM   1266 NH1  ARG A  79      13.890  28.950  41.580  1.00  0.00           N  \nATOM   1267 HH11 ARG A  79      14.500  29.310  40.860  1.00  0.00           H  \nATOM   1268 HH12 ARG A  79      14.070  29.270  42.530  1.00  0.00           H  \nATOM   1269 NH2  ARG A  79      12.590  27.360  42.330  1.00  0.00           N1+\nATOM   1270 HH21 ARG A  79      11.970  26.560  42.240  1.00  0.00           H  \nATOM   1271 HH22 ARG A  79      12.800  27.660  43.270  1.00  0.00           H  \nATOM   1272  C   ARG A  79      13.940  27.530  33.900  1.00  0.00           C  \nATOM   1273  O   ARG A  79      13.230  28.480  33.730  1.00  0.00           O  \nATOM   1274  N   ASN A  80      14.780  27.080  32.960  1.00  0.00           N  \nATOM   1275  H   ASN A  80      15.330  26.260  33.160  1.00  0.00           H  \nATOM   1276  CA  ASN A  80      15.060  27.780  31.700  1.00  0.00           C  \nATOM   1277  HA  ASN A  80      14.360  28.620  31.640  1.00  0.00           H  \nATOM   1278  CB  ASN A  80      16.490  28.230  31.750  1.00  0.00           C  \nATOM   1279 HB2  ASN A  80      16.580  28.870  32.630  1.00  0.00           H  \nATOM   1280 HB3  ASN A  80      17.060  27.310  31.840  1.00  0.00           H  \nATOM   1281  CG  ASN A  80      16.990  29.040  30.580  1.00  0.00           C  \nATOM   1282 OD1  ASN A  80      16.890  28.540  29.480  1.00  0.00           O  \nATOM   1283 ND2  ASN A  80      17.510  30.200  30.850  1.00  0.00           N  \nATOM   1284 HD21 ASN A  80      17.980  30.750  30.150  1.00  0.00           H  \nATOM   1285 HD22 ASN A  80      17.540  30.450  31.830  1.00  0.00           H  \nATOM   1286  C   ASN A  80      14.720  26.860  30.520  1.00  0.00           C  \nATOM   1287  O   ASN A  80      15.320  25.810  30.400  1.00  0.00           O  \nATOM   1288  N   ALA A  81      13.770  27.300  29.720  1.00  0.00           N  \nATOM   1289  H   ALA A  81      13.350  28.180  29.970  1.00  0.00           H  \nATOM   1290  CA  ALA A  81      13.170  26.400  28.710  1.00  0.00           C  \nATOM   1291  HA  ALA A  81      12.790  25.490  29.150  1.00  0.00           H  \nATOM   1292  CB  ALA A  81      12.030  27.270  28.110  1.00  0.00           C  \nATOM   1293 HB1  ALA A  81      11.170  27.250  28.770  1.00  0.00           H  \nATOM   1294 HB2  ALA A  81      12.380  28.290  27.980  1.00  0.00           H  \nATOM   1295 HB3  ALA A  81      11.690  26.950  27.130  1.00  0.00           H  \nATOM   1296  C   ALA A  81      14.090  26.000  27.540  1.00  0.00           C  \nATOM   1297  O   ALA A  81      13.910  24.940  26.990  1.00  0.00           O  \nATOM   1298  N   LYS A  82      15.120  26.790  27.310  1.00  0.00           N  \nATOM   1299  H   LYS A  82      15.050  27.680  27.780  1.00  0.00           H  \nATOM   1300  CA  LYS A  82      16.350  26.460  26.480  1.00  0.00           C  \nATOM   1301  HA  LYS A  82      15.990  25.940  25.590  1.00  0.00           H  \nATOM   1302  CB  LYS A  82      17.080  27.670  26.090  1.00  0.00           C  \nATOM   1303 HB2  LYS A  82      17.360  28.270  26.960  1.00  0.00           H  \nATOM   1304 HB3  LYS A  82      18.000  27.420  25.570  1.00  0.00           H  \nATOM   1305  CG  LYS A  82      16.310  28.480  25.080  1.00  0.00           C  \nATOM   1306 HG2  LYS A  82      16.490  27.950  24.140  1.00  0.00           H  \nATOM   1307 HG3  LYS A  82      15.240  28.370  25.270  1.00  0.00           H  \nATOM   1308  CD  LYS A  82      16.610  29.950  24.880  1.00  0.00           C  \nATOM   1309 HD2  LYS A  82      16.210  30.560  25.690  1.00  0.00           H  \nATOM   1310 HD3  LYS A  82      17.680  30.100  24.760  1.00  0.00           H  \nATOM   1311  CE  LYS A  82      15.930  30.290  23.590  1.00  0.00           C  \nATOM   1312 HE2  LYS A  82      16.510  29.780  22.810  1.00  0.00           H  \nATOM   1313 HE3  LYS A  82      14.920  29.880  23.620  1.00  0.00           H  \nATOM   1314  NZ  LYS A  82      16.090  31.700  23.330  1.00  0.00           N1+\nATOM   1315 HZ1  LYS A  82      15.640  32.170  24.100  1.00  0.00           H  \nATOM   1316 HZ2  LYS A  82      17.040  32.020  23.220  1.00  0.00           H  \nATOM   1317 HZ3  LYS A  82      15.540  31.980  22.530  1.00  0.00           H  \nATOM   1318  C   LYS A  82      17.260  25.430  27.020  1.00  0.00           C  \nATOM   1319  O   LYS A  82      17.910  24.800  26.160  1.00  0.00           O  \nATOM   1320  N   LEU A  83      17.420  25.320  28.370  1.00  0.00           N  \nATOM   1321  H   LEU A  83      16.870  25.930  28.950  1.00  0.00           H  \nATOM   1322  CA  LEU A  83      18.410  24.430  29.030  1.00  0.00           C  \nATOM   1323  HA  LEU A  83      19.120  24.110  28.270  1.00  0.00           H  \nATOM   1324  CB  LEU A  83      19.170  25.220  30.090  1.00  0.00           C  \nATOM   1325 HB2  LEU A  83      18.490  25.310  30.930  1.00  0.00           H  \nATOM   1326 HB3  LEU A  83      19.930  24.500  30.410  1.00  0.00           H  \nATOM   1327  CG  LEU A  83      19.820  26.530  29.890  1.00  0.00           C  \nATOM   1328  HG  LEU A  83      19.130  27.220  29.390  1.00  0.00           H  \nATOM   1329 CD1  LEU A  83      20.410  27.080  31.250  1.00  0.00           C  \nATOM   1330 HD11 LEU A  83      21.160  26.450  31.730  1.00  0.00           H  \nATOM   1331 HD12 LEU A  83      20.710  28.120  31.230  1.00  0.00           H  \nATOM   1332 HD13 LEU A  83      19.650  26.870  32.010  1.00  0.00           H  \nATOM   1333 CD2  LEU A  83      20.980  26.410  28.870  1.00  0.00           C  \nATOM   1334 HD21 LEU A  83      20.640  25.790  28.040  1.00  0.00           H  \nATOM   1335 HD22 LEU A  83      21.390  27.360  28.550  1.00  0.00           H  \nATOM   1336 HD23 LEU A  83      21.740  25.720  29.240  1.00  0.00           H  \nATOM   1337  C   LEU A  83      17.810  23.130  29.590  1.00  0.00           C  \nATOM   1338  O   LEU A  83      18.410  22.070  29.420  1.00  0.00           O  \nATOM   1339  N   LYS A  84      16.620  23.210  30.180  1.00  0.00           N  \nATOM   1340  H   LYS A  84      16.300  24.150  30.340  1.00  0.00           H  \nATOM   1341  CA  LYS A  84      15.900  22.110  30.870  1.00  0.00           C  \nATOM   1342  HA  LYS A  84      16.530  21.710  31.670  1.00  0.00           H  \nATOM   1343  CB  LYS A  84      14.700  22.690  31.580  1.00  0.00           C  \nATOM   1344 HB2  LYS A  84      14.570  22.050  32.450  1.00  0.00           H  \nATOM   1345 HB3  LYS A  84      14.970  23.680  31.950  1.00  0.00           H  \nATOM   1346  CG  LYS A  84      13.320  22.760  30.950  1.00  0.00           C  \nATOM   1347 HG2  LYS A  84      13.320  23.240  29.970  1.00  0.00           H  \nATOM   1348 HG3  LYS A  84      12.960  21.740  30.840  1.00  0.00           H  \nATOM   1349  CD  LYS A  84      12.510  23.540  32.030  1.00  0.00           C  \nATOM   1350 HD2  LYS A  84      12.590  23.080  33.010  1.00  0.00           H  \nATOM   1351 HD3  LYS A  84      12.760  24.600  31.990  1.00  0.00           H  \nATOM   1352  CE  LYS A  84      10.990  23.440  31.620  1.00  0.00           C  \nATOM   1353 HE2  LYS A  84      10.540  24.420  31.780  1.00  0.00           H  \nATOM   1354 HE3  LYS A  84      10.960  23.370  30.530  1.00  0.00           H  \nATOM   1355  NZ  LYS A  84      10.290  22.290  32.230  1.00  0.00           N1+\nATOM   1356 HZ1  LYS A  84      10.440  22.190  33.230  1.00  0.00           H  \nATOM   1357 HZ2  LYS A  84       9.310  22.510  32.090  1.00  0.00           H  \nATOM   1358 HZ3  LYS A  84      10.380  21.380  31.810  1.00  0.00           H  \nATOM   1359  C   LYS A  84      15.540  20.870  30.030  1.00  0.00           C  \nATOM   1360  O   LYS A  84      15.680  19.730  30.540  1.00  0.00           O  \nATOM   1361  N   PRO A  85      15.140  20.930  28.720  1.00  0.00           N  \nATOM   1362  CD  PRO A  85      14.910  22.100  27.830  1.00  0.00           C  \nATOM   1363 HD2  PRO A  85      15.720  22.830  27.780  1.00  0.00           H  \nATOM   1364 HD3  PRO A  85      13.950  22.560  28.090  1.00  0.00           H  \nATOM   1365  CG  PRO A  85      14.730  21.510  26.450  1.00  0.00           C  \nATOM   1366 HG2  PRO A  85      15.590  21.530  25.780  1.00  0.00           H  \nATOM   1367 HG3  PRO A  85      13.930  22.050  25.940  1.00  0.00           H  \nATOM   1368  CB  PRO A  85      14.220  20.060  26.700  1.00  0.00           C  \nATOM   1369 HB2  PRO A  85      14.470  19.360  25.910  1.00  0.00           H  \nATOM   1370 HB3  PRO A  85      13.160  20.110  26.930  1.00  0.00           H  \nATOM   1371  CA  PRO A  85      14.990  19.610  27.930  1.00  0.00           C  \nATOM   1372  HA  PRO A  85      14.380  18.910  28.490  1.00  0.00           H  \nATOM   1373  C   PRO A  85      16.370  18.970  27.500  1.00  0.00           C  \nATOM   1374  O   PRO A  85      16.390  17.760  27.250  1.00  0.00           O  \nATOM   1375  N   VAL A  86      17.500  19.780  27.360  1.00  0.00           N  \nATOM   1376  H   VAL A  86      17.370  20.750  27.590  1.00  0.00           H  \nATOM   1377  CA  VAL A  86      18.870  19.290  27.030  1.00  0.00           C  \nATOM   1378  HA  VAL A  86      18.830  18.630  26.170  1.00  0.00           H  \nATOM   1379  CB  VAL A  86      19.830  20.450  26.780  1.00  0.00           C  \nATOM   1380  HB  VAL A  86      20.020  21.140  27.600  1.00  0.00           H  \nATOM   1381 CG1  VAL A  86      21.170  19.810  26.360  1.00  0.00           C  \nATOM   1382 HG11 VAL A  86      21.620  19.100  27.050  1.00  0.00           H  \nATOM   1383 HG12 VAL A  86      21.010  19.250  25.440  1.00  0.00           H  \nATOM   1384 HG13 VAL A  86      21.820  20.650  26.100  1.00  0.00           H  \nATOM   1385 CG2  VAL A  86      19.210  21.280  25.690  1.00  0.00           C  \nATOM   1386 HG21 VAL A  86      18.150  21.530  25.770  1.00  0.00           H  \nATOM   1387 HG22 VAL A  86      19.740  22.220  25.560  1.00  0.00           H  \nATOM   1388 HG23 VAL A  86      19.350  20.670  24.790  1.00  0.00           H  \nATOM   1389  C   VAL A  86      19.220  18.460  28.320  1.00  0.00           C  \nATOM   1390  O   VAL A  86      19.480  17.250  28.270  1.00  0.00           O  \nATOM   1391  N   TYR A  87      19.170  19.050  29.500  1.00  0.00           N  \nATOM   1392  H   TYR A  87      18.850  20.010  29.490  1.00  0.00           H  \nATOM   1393  CA  TYR A  87      19.470  18.440  30.800  1.00  0.00           C  \nATOM   1394  HA  TYR A  87      20.500  18.090  30.720  1.00  0.00           H  \nATOM   1395  CB  TYR A  87      19.330  19.540  31.860  1.00  0.00           C  \nATOM   1396 HB2  TYR A  87      19.930  20.390  31.520  1.00  0.00           H  \nATOM   1397 HB3  TYR A  87      18.320  19.930  31.810  1.00  0.00           H  \nATOM   1398  CG  TYR A  87      19.720  19.250  33.300  1.00  0.00           C  \nATOM   1399 CD1  TYR A  87      21.030  19.550  33.810  1.00  0.00           C  \nATOM   1400 HD1  TYR A  87      21.800  19.970  33.170  1.00  0.00           H  \nATOM   1401 CE1  TYR A  87      21.340  19.360  35.180  1.00  0.00           C  \nATOM   1402 HE1  TYR A  87      22.330  19.560  35.560  1.00  0.00           H  \nATOM   1403  CZ  TYR A  87      20.290  18.730  35.980  1.00  0.00           C  \nATOM   1404  OH  TYR A  87      20.560  18.430  37.250  1.00  0.00           O  \nATOM   1405  HH  TYR A  87      19.820  17.980  37.670  1.00  0.00           H  \nATOM   1406 CE2  TYR A  87      19.000  18.430  35.460  1.00  0.00           C  \nATOM   1407 HE2  TYR A  87      18.240  17.960  36.070  1.00  0.00           H  \nATOM   1408 CD2  TYR A  87      18.680  18.740  34.110  1.00  0.00           C  \nATOM   1409 HD2  TYR A  87      17.750  18.480  33.620  1.00  0.00           H  \nATOM   1410  C   TYR A  87      18.670  17.230  31.170  1.00  0.00           C  \nATOM   1411  O   TYR A  87      19.200  16.140  31.390  1.00  0.00           O  \nATOM   1412  N   ASP A  88      17.360  17.320  30.950  1.00  0.00           N  \nATOM   1413  H   ASP A  88      16.970  18.230  30.740  1.00  0.00           H  \nATOM   1414  CA  ASP A  88      16.400  16.200  30.930  1.00  0.00           C  \nATOM   1415  HA  ASP A  88      16.370  15.840  31.960  1.00  0.00           H  \nATOM   1416  CB  ASP A  88      15.050  16.650  30.450  1.00  0.00           C  \nATOM   1417 HB2  ASP A  88      14.620  17.370  31.150  1.00  0.00           H  \nATOM   1418 HB3  ASP A  88      15.110  17.110  29.460  1.00  0.00           H  \nATOM   1419  CG  ASP A  88      14.070  15.430  30.410  1.00  0.00           C  \nATOM   1420 OD1  ASP A  88      13.810  14.780  31.470  1.00  0.00           O  \nATOM   1421 OD2  ASP A  88      13.560  15.120  29.300  1.00  0.00           O1-\nATOM   1422  C   ASP A  88      16.900  14.930  30.040  1.00  0.00           C  \nATOM   1423  O   ASP A  88      16.680  13.800  30.510  1.00  0.00           O  \nATOM   1424  N   SER A  89      17.400  15.160  28.830  1.00  0.00           N  \nATOM   1425  H   SER A  89      17.400  16.100  28.440  1.00  0.00           H  \nATOM   1426  CA  SER A  89      17.930  14.140  27.960  1.00  0.00           C  \nATOM   1427  HA  SER A  89      17.280  13.270  28.080  1.00  0.00           H  \nATOM   1428  CB  SER A  89      17.900  14.570  26.490  1.00  0.00           C  \nATOM   1429 HB2  SER A  89      18.330  13.670  26.070  1.00  0.00           H  \nATOM   1430 HB3  SER A  89      16.890  14.830  26.160  1.00  0.00           H  \nATOM   1431  OG  SER A  89      18.830  15.620  26.270  1.00  0.00           O  \nATOM   1432  HG  SER A  89      18.730  16.230  27.000  1.00  0.00           H  \nATOM   1433  C   SER A  89      19.290  13.640  28.480  1.00  0.00           C  \nATOM   1434  O   SER A  89      19.600  12.460  28.230  1.00  0.00           O  \nATOM   1435  N   LEU A  90      20.090  14.540  29.110  1.00  0.00           N  \nATOM   1436  H   LEU A  90      19.830  15.510  29.170  1.00  0.00           H  \nATOM   1437  CA  LEU A  90      21.370  14.090  29.620  1.00  0.00           C  \nATOM   1438  HA  LEU A  90      21.870  13.480  28.870  1.00  0.00           H  \nATOM   1439  CB  LEU A  90      22.160  15.400  29.860  1.00  0.00           C  \nATOM   1440 HB2  LEU A  90      21.680  16.180  30.440  1.00  0.00           H  \nATOM   1441 HB3  LEU A  90      23.040  15.010  30.390  1.00  0.00           H  \nATOM   1442  CG  LEU A  90      22.720  16.090  28.570  1.00  0.00           C  \nATOM   1443  HG  LEU A  90      21.830  16.220  27.950  1.00  0.00           H  \nATOM   1444 CD1  LEU A  90      23.480  17.340  28.980  1.00  0.00           C  \nATOM   1445 HD11 LEU A  90      23.820  17.860  28.080  1.00  0.00           H  \nATOM   1446 HD12 LEU A  90      22.740  18.030  29.380  1.00  0.00           H  \nATOM   1447 HD13 LEU A  90      24.210  17.240  29.780  1.00  0.00           H  \nATOM   1448 CD2  LEU A  90      23.770  15.270  27.820  1.00  0.00           C  \nATOM   1449 HD21 LEU A  90      24.260  15.900  27.080  1.00  0.00           H  \nATOM   1450 HD22 LEU A  90      24.450  14.770  28.510  1.00  0.00           H  \nATOM   1451 HD23 LEU A  90      23.250  14.580  27.160  1.00  0.00           H  \nATOM   1452  C   LEU A  90      21.210  13.150  30.860  1.00  0.00           C  \nATOM   1453  O   LEU A  90      20.110  13.120  31.480  1.00  0.00           O  \nATOM   1454  N   ASP A  91      22.320  12.480  31.150  1.00  0.00           N  \nATOM   1455  H   ASP A  91      23.100  12.650  30.540  1.00  0.00           H  \nATOM   1456  CA  ASP A  91      22.540  11.580  32.260  1.00  0.00           C  \nATOM   1457  HA  ASP A  91      21.640  11.360  32.820  1.00  0.00           H  \nATOM   1458  CB  ASP A  91      23.290  10.340  31.850  1.00  0.00           C  \nATOM   1459 HB2  ASP A  91      23.600   9.680  32.660  1.00  0.00           H  \nATOM   1460 HB3  ASP A  91      22.650   9.660  31.280  1.00  0.00           H  \nATOM   1461  CG  ASP A  91      24.600  10.600  31.030  1.00  0.00           C  \nATOM   1462 OD1  ASP A  91      24.590  10.970  29.850  1.00  0.00           O  \nATOM   1463 OD2  ASP A  91      25.690  10.460  31.630  1.00  0.00           O1-\nATOM   1464  C   ASP A  91      23.360  12.240  33.420  1.00  0.00           C  \nATOM   1465  O   ASP A  91      24.050  13.190  33.160  1.00  0.00           O  \nATOM   1466  N   ALA A  92      23.260  11.850  34.670  1.00  0.00           N  \nATOM   1467  H   ALA A  92      22.550  11.150  34.870  1.00  0.00           H  \nATOM   1468  CA  ALA A  92      23.620  12.520  35.870  1.00  0.00           C  \nATOM   1469  HA  ALA A  92      22.910  13.320  36.080  1.00  0.00           H  \nATOM   1470  CB  ALA A  92      23.520  11.670  37.130  1.00  0.00           C  \nATOM   1471 HB1  ALA A  92      23.560  12.160  38.100  1.00  0.00           H  \nATOM   1472 HB2  ALA A  92      22.610  11.070  37.090  1.00  0.00           H  \nATOM   1473 HB3  ALA A  92      24.390  11.010  37.140  1.00  0.00           H  \nATOM   1474  C   ALA A  92      24.980  13.180  35.910  1.00  0.00           C  \nATOM   1475  O   ALA A  92      25.070  14.350  36.360  1.00  0.00           O  \nATOM   1476  N   VAL A  93      26.030  12.500  35.390  1.00  0.00           N  \nATOM   1477  H   VAL A  93      25.790  11.590  35.020  1.00  0.00           H  \nATOM   1478  CA  VAL A  93      27.360  13.020  35.230  1.00  0.00           C  \nATOM   1479  HA  VAL A  93      27.550  13.580  36.150  1.00  0.00           H  \nATOM   1480  CB  VAL A  93      28.520  11.920  35.150  1.00  0.00           C  \nATOM   1481  HB  VAL A  93      28.420  11.360  34.220  1.00  0.00           H  \nATOM   1482 CG1  VAL A  93      29.910  12.580  35.200  1.00  0.00           C  \nATOM   1483 HG11 VAL A  93      30.070  13.130  34.270  1.00  0.00           H  \nATOM   1484 HG12 VAL A  93      29.910  13.270  36.040  1.00  0.00           H  \nATOM   1485 HG13 VAL A  93      30.760  11.890  35.170  1.00  0.00           H  \nATOM   1486 CG2  VAL A  93      28.340  10.940  36.240  1.00  0.00           C  \nATOM   1487 HG21 VAL A  93      29.240  10.340  36.130  1.00  0.00           H  \nATOM   1488 HG22 VAL A  93      28.310  11.410  37.230  1.00  0.00           H  \nATOM   1489 HG23 VAL A  93      27.450  10.330  36.100  1.00  0.00           H  \nATOM   1490  C   VAL A  93      27.460  13.980  34.050  1.00  0.00           C  \nATOM   1491  O   VAL A  93      28.170  14.960  34.210  1.00  0.00           O  \nATOM   1492  N   ARG A  94      26.790  13.800  32.850  1.00  0.00           N  \nATOM   1493  H   ARG A  94      26.030  13.140  32.770  1.00  0.00           H  \nATOM   1494  CA  ARG A  94      26.720  14.870  31.900  1.00  0.00           C  \nATOM   1495  HA  ARG A  94      27.710  15.260  31.700  1.00  0.00           H  \nATOM   1496  CB  ARG A  94      26.310  14.360  30.550  1.00  0.00           C  \nATOM   1497 HB2  ARG A  94      25.360  13.850  30.740  1.00  0.00           H  \nATOM   1498 HB3  ARG A  94      26.100  15.190  29.870  1.00  0.00           H  \nATOM   1499  CG  ARG A  94      27.260  13.270  29.940  1.00  0.00           C  \nATOM   1500 HG2  ARG A  94      28.270  13.660  29.970  1.00  0.00           H  \nATOM   1501 HG3  ARG A  94      27.160  12.260  30.340  1.00  0.00           H  \nATOM   1502  CD  ARG A  94      26.830  13.120  28.470  1.00  0.00           C  \nATOM   1503 HD2  ARG A  94      25.780  12.840  28.380  1.00  0.00           H  \nATOM   1504 HD3  ARG A  94      26.960  14.090  27.990  1.00  0.00           H  \nATOM   1505  NE  ARG A  94      27.630  12.150  27.750  1.00  0.00           N  \nATOM   1506  HE  ARG A  94      28.430  12.530  27.260  1.00  0.00           H  \nATOM   1507  CZ  ARG A  94      27.570  10.790  27.780  1.00  0.00           C  \nATOM   1508 NH1  ARG A  94      26.840  10.210  28.710  1.00  0.00           N  \nATOM   1509 HH11 ARG A  94      26.210  10.820  29.200  1.00  0.00           H  \nATOM   1510 HH12 ARG A  94      26.880   9.210  28.870  1.00  0.00           H  \nATOM   1511 NH2  ARG A  94      28.310   9.970  27.070  1.00  0.00           N1+\nATOM   1512 HH21 ARG A  94      28.970  10.350  26.410  1.00  0.00           H  \nATOM   1513 HH22 ARG A  94      28.330   8.960  27.190  1.00  0.00           H  \nATOM   1514  C   ARG A  94      25.890  16.070  32.370  1.00  0.00           C  \nATOM   1515  O   ARG A  94      26.140  17.200  31.970  1.00  0.00           O  \nATOM   1516  N   ARG A  95      24.950  15.850  33.240  1.00  0.00           N  \nATOM   1517  H   ARG A  95      24.840  14.860  33.420  1.00  0.00           H  \nATOM   1518  CA  ARG A  95      24.230  16.940  33.900  1.00  0.00           C  \nATOM   1519  HA  ARG A  95      23.790  17.550  33.110  1.00  0.00           H  \nATOM   1520  CB  ARG A  95      23.030  16.270  34.730  1.00  0.00           C  \nATOM   1521 HB2  ARG A  95      23.420  15.450  35.320  1.00  0.00           H  \nATOM   1522 HB3  ARG A  95      22.660  16.940  35.500  1.00  0.00           H  \nATOM   1523  CG  ARG A  95      21.830  15.770  33.890  1.00  0.00           C  \nATOM   1524 HG2  ARG A  95      21.430  16.660  33.410  1.00  0.00           H  \nATOM   1525 HG3  ARG A  95      22.170  15.020  33.170  1.00  0.00           H  \nATOM   1526  CD  ARG A  95      20.600  15.220  34.630  1.00  0.00           C  \nATOM   1527 HD2  ARG A  95      20.960  14.520  35.380  1.00  0.00           H  \nATOM   1528 HD3  ARG A  95      20.180  16.010  35.250  1.00  0.00           H  \nATOM   1529  NE  ARG A  95      19.560  14.580  33.810  1.00  0.00           N  \nATOM   1530  HE  ARG A  95      19.600  14.540  32.800  1.00  0.00           H  \nATOM   1531  CZ  ARG A  95      18.370  14.060  34.310  1.00  0.00           C  \nATOM   1532 NH1  ARG A  95      17.970  14.290  35.510  1.00  0.00           N  \nATOM   1533 HH11 ARG A  95      18.570  14.710  36.210  1.00  0.00           H  \nATOM   1534 HH12 ARG A  95      17.070  13.970  35.840  1.00  0.00           H  \nATOM   1535 NH2  ARG A  95      17.430  13.500  33.520  1.00  0.00           N1+\nATOM   1536 HH21 ARG A  95      17.600  13.340  32.530  1.00  0.00           H  \nATOM   1537 HH22 ARG A  95      16.560  13.240  33.940  1.00  0.00           H  \nATOM   1538  C   ARG A  95      25.070  17.780  34.720  1.00  0.00           C  \nATOM   1539  O   ARG A  95      24.920  18.960  34.690  1.00  0.00           O  \nATOM   1540  N   CYS A  96      26.070  17.180  35.380  1.00  0.00           N  \nATOM   1541  H   CYS A  96      26.070  16.170  35.450  1.00  0.00           H  \nATOM   1542  CA  CYS A  96      27.000  17.840  36.220  1.00  0.00           C  \nATOM   1543  HA  CYS A  96      26.380  18.530  36.790  1.00  0.00           H  \nATOM   1544  CB  CYS A  96      27.700  16.840  37.170  1.00  0.00           C  \nATOM   1545 HB2  CYS A  96      28.280  16.020  36.750  1.00  0.00           H  \nATOM   1546 HB3  CYS A  96      28.540  17.350  37.660  1.00  0.00           H  \nATOM   1547  SG  CYS A  96      26.520  16.140  38.330  1.00  0.00           S  \nATOM   1548  HG  CYS A  96      25.870  15.340  37.470  1.00  0.00           H  \nATOM   1549  C   CYS A  96      28.110  18.640  35.520  1.00  0.00           C  \nATOM   1550  O   CYS A  96      28.410  19.740  35.900  1.00  0.00           O  \nATOM   1551  N   ALA A  97      28.580  18.150  34.380  1.00  0.00           N  \nATOM   1552  H   ALA A  97      28.360  17.250  33.980  1.00  0.00           H  \nATOM   1553  CA  ALA A  97      29.340  18.990  33.360  1.00  0.00           C  \nATOM   1554  HA  ALA A  97      30.320  19.330  33.700  1.00  0.00           H  \nATOM   1555  CB  ALA A  97      29.650  18.110  32.230  1.00  0.00           C  \nATOM   1556 HB1  ALA A  97      29.900  18.710  31.350  1.00  0.00           H  \nATOM   1557 HB2  ALA A  97      30.410  17.390  32.520  1.00  0.00           H  \nATOM   1558 HB3  ALA A  97      28.720  17.560  32.110  1.00  0.00           H  \nATOM   1559  C   ALA A  97      28.570  20.220  32.910  1.00  0.00           C  \nATOM   1560  O   ALA A  97      29.070  21.300  32.730  1.00  0.00           O  \nATOM   1561  N   ALA A  98      27.260  20.030  32.800  1.00  0.00           N  \nATOM   1562  H   ALA A  98      26.960  19.080  32.700  1.00  0.00           H  \nATOM   1563  CA  ALA A  98      26.370  21.130  32.450  1.00  0.00           C  \nATOM   1564  HA  ALA A  98      26.920  21.540  31.610  1.00  0.00           H  \nATOM   1565  CB  ALA A  98      25.060  20.620  32.090  1.00  0.00           C  \nATOM   1566 HB1  ALA A  98      24.450  21.400  31.620  1.00  0.00           H  \nATOM   1567 HB2  ALA A  98      25.020  20.060  31.160  1.00  0.00           H  \nATOM   1568 HB3  ALA A  98      24.490  20.040  32.820  1.00  0.00           H  \nATOM   1569  C   ALA A  98      26.230  22.150  33.620  1.00  0.00           C  \nATOM   1570  O   ALA A  98      26.210  23.370  33.350  1.00  0.00           O  \nATOM   1571  N   ILE A  99      26.130  21.640  34.900  1.00  0.00           N  \nATOM   1572  H   ILE A  99      26.130  20.630  34.970  1.00  0.00           H  \nATOM   1573  CA  ILE A  99      26.030  22.550  36.070  1.00  0.00           C  \nATOM   1574  HA  ILE A  99      25.230  23.280  35.950  1.00  0.00           H  \nATOM   1575  CB  ILE A  99      25.800  21.740  37.350  1.00  0.00           C  \nATOM   1576  HB  ILE A  99      26.470  20.880  37.340  1.00  0.00           H  \nATOM   1577 CG2  ILE A  99      26.060  22.560  38.580  1.00  0.00           C  \nATOM   1578 HG21 ILE A  99      26.160  21.960  39.480  1.00  0.00           H  \nATOM   1579 HG22 ILE A  99      27.000  23.110  38.480  1.00  0.00           H  \nATOM   1580 HG23 ILE A  99      25.400  23.420  38.720  1.00  0.00           H  \nATOM   1581 CG1  ILE A  99      24.290  21.280  37.400  1.00  0.00           C  \nATOM   1582 HG12 ILE A  99      23.730  22.160  37.680  1.00  0.00           H  \nATOM   1583 HG13 ILE A  99      24.020  20.800  36.450  1.00  0.00           H  \nATOM   1584 CD1  ILE A  99      24.130  20.200  38.460  1.00  0.00           C  \nATOM   1585 HD11 ILE A  99      23.250  19.560  38.380  1.00  0.00           H  \nATOM   1586 HD12 ILE A  99      24.990  19.540  38.520  1.00  0.00           H  \nATOM   1587 HD13 ILE A  99      24.090  20.620  39.470  1.00  0.00           H  \nATOM   1588  C   ILE A  99      27.340  23.420  36.080  1.00  0.00           C  \nATOM   1589  O   ILE A  99      27.250  24.650  36.380  1.00  0.00           O  \nATOM   1590  N   ASN A 100      28.490  22.840  35.710  1.00  0.00           N  \nATOM   1591  H   ASN A 100      28.420  21.830  35.660  1.00  0.00           H  \nATOM   1592  CA  ASN A 100      29.850  23.490  35.720  1.00  0.00           C  \nATOM   1593  HA  ASN A 100      30.080  23.840  36.730  1.00  0.00           H  \nATOM   1594  CB  ASN A 100      30.910  22.470  35.290  1.00  0.00           C  \nATOM   1595 HB2  ASN A 100      30.760  21.520  35.800  1.00  0.00           H  \nATOM   1596 HB3  ASN A 100      30.810  22.390  34.210  1.00  0.00           H  \nATOM   1597  CG  ASN A 100      32.330  22.890  35.680  1.00  0.00           C  \nATOM   1598 OD1  ASN A 100      32.680  24.030  35.550  1.00  0.00           O  \nATOM   1599 ND2  ASN A 100      33.180  22.010  36.250  1.00  0.00           N  \nATOM   1600 HD21 ASN A 100      34.170  22.160  36.330  1.00  0.00           H  \nATOM   1601 HD22 ASN A 100      32.860  21.080  36.500  1.00  0.00           H  \nATOM   1602  C   ASN A 100      29.860  24.740  34.880  1.00  0.00           C  \nATOM   1603  O   ASN A 100      30.130  25.810  35.450  1.00  0.00           O  \nATOM   1604  N   MET A 101      29.320  24.740  33.640  1.00  0.00           N  \nATOM   1605  H   MET A 101      28.910  23.870  33.310  1.00  0.00           H  \nATOM   1606  CA  MET A 101      29.270  25.940  32.780  1.00  0.00           C  \nATOM   1607  HA  MET A 101      30.270  26.350  32.720  1.00  0.00           H  \nATOM   1608  CB  MET A 101      28.880  25.410  31.450  1.00  0.00           C  \nATOM   1609 HB2  MET A 101      27.870  25.010  31.450  1.00  0.00           H  \nATOM   1610 HB3  MET A 101      28.840  26.240  30.760  1.00  0.00           H  \nATOM   1611  CG  MET A 101      29.800  24.370  30.870  1.00  0.00           C  \nATOM   1612 HG2  MET A 101      30.820  24.760  30.880  1.00  0.00           H  \nATOM   1613 HG3  MET A 101      29.860  23.440  31.450  1.00  0.00           H  \nATOM   1614  SD  MET A 101      29.480  23.850  29.200  1.00  0.00           S  \nATOM   1615  CE  MET A 101      29.790  25.380  28.260  1.00  0.00           C  \nATOM   1616 HE1  MET A 101      29.490  25.260  27.220  1.00  0.00           H  \nATOM   1617 HE2  MET A 101      29.180  26.180  28.690  1.00  0.00           H  \nATOM   1618 HE3  MET A 101      30.830  25.710  28.310  1.00  0.00           H  \nATOM   1619  C   MET A 101      28.200  27.010  33.230  1.00  0.00           C  \nATOM   1620  O   MET A 101      28.420  28.170  32.980  1.00  0.00           O  \nATOM   1621  N   VAL A 102      27.160  26.650  34.020  1.00  0.00           N  \nATOM   1622  H   VAL A 102      27.070  25.660  34.200  1.00  0.00           H  \nATOM   1623  CA  VAL A 102      26.130  27.560  34.610  1.00  0.00           C  \nATOM   1624  HA  VAL A 102      25.940  28.360  33.900  1.00  0.00           H  \nATOM   1625  CB  VAL A 102      24.770  26.750  34.650  1.00  0.00           C  \nATOM   1626  HB  VAL A 102      24.970  25.730  34.980  1.00  0.00           H  \nATOM   1627 CG1  VAL A 102      23.650  27.390  35.440  1.00  0.00           C  \nATOM   1628 HG11 VAL A 102      22.670  27.230  34.980  1.00  0.00           H  \nATOM   1629 HG12 VAL A 102      23.620  26.990  36.450  1.00  0.00           H  \nATOM   1630 HG13 VAL A 102      23.850  28.460  35.430  1.00  0.00           H  \nATOM   1631 CG2  VAL A 102      24.260  26.760  33.160  1.00  0.00           C  \nATOM   1632 HG21 VAL A 102      24.180  27.810  32.850  1.00  0.00           H  \nATOM   1633 HG22 VAL A 102      25.050  26.260  32.610  1.00  0.00           H  \nATOM   1634 HG23 VAL A 102      23.280  26.300  33.010  1.00  0.00           H  \nATOM   1635  C   VAL A 102      26.600  28.190  35.940  1.00  0.00           C  \nATOM   1636  O   VAL A 102      26.240  29.270  36.350  1.00  0.00           O  \nATOM   1637  N   PHE A 103      27.610  27.560  36.580  1.00  0.00           N  \nATOM   1638  H   PHE A 103      27.700  26.590  36.330  1.00  0.00           H  \nATOM   1639  CA  PHE A 103      28.320  27.990  37.740  1.00  0.00           C  \nATOM   1640  HA  PHE A 103      27.540  28.500  38.310  1.00  0.00           H  \nATOM   1641  CB  PHE A 103      28.680  26.740  38.580  1.00  0.00           C  \nATOM   1642 HB2  PHE A 103      27.790  26.110  38.650  1.00  0.00           H  \nATOM   1643 HB3  PHE A 103      29.440  26.120  38.110  1.00  0.00           H  \nATOM   1644  CG  PHE A 103      29.150  26.980  39.990  1.00  0.00           C  \nATOM   1645 CD1  PHE A 103      30.560  27.180  40.110  1.00  0.00           C  \nATOM   1646 HD1  PHE A 103      31.120  27.410  39.210  1.00  0.00           H  \nATOM   1647 CE1  PHE A 103      31.110  27.280  41.380  1.00  0.00           C  \nATOM   1648 HE1  PHE A 103      32.170  27.460  41.520  1.00  0.00           H  \nATOM   1649  CZ  PHE A 103      30.260  27.300  42.520  1.00  0.00           C  \nATOM   1650  HZ  PHE A 103      30.690  27.460  43.500  1.00  0.00           H  \nATOM   1651 CE2  PHE A 103      28.910  27.200  42.400  1.00  0.00           C  \nATOM   1652 HE2  PHE A 103      28.250  27.270  43.250  1.00  0.00           H  \nATOM   1653 CD2  PHE A 103      28.310  26.970  41.110  1.00  0.00           C  \nATOM   1654 HD2  PHE A 103      27.280  26.820  40.840  1.00  0.00           H  \nATOM   1655  C   PHE A 103      29.540  28.950  37.350  1.00  0.00           C  \nATOM   1656  O   PHE A 103      29.990  29.750  38.110  1.00  0.00           O  \nATOM   1657  N   GLN A 104      30.100  28.750  36.130  1.00  0.00           N  \nATOM   1658  H   GLN A 104      29.770  27.990  35.560  1.00  0.00           H  \nATOM   1659  CA  GLN A 104      31.180  29.600  35.510  1.00  0.00           C  \nATOM   1660  HA  GLN A 104      31.770  30.060  36.300  1.00  0.00           H  \nATOM   1661  CB  GLN A 104      32.190  28.780  34.680  1.00  0.00           C  \nATOM   1662 HB2  GLN A 104      32.450  27.960  35.350  1.00  0.00           H  \nATOM   1663 HB3  GLN A 104      31.680  28.350  33.820  1.00  0.00           H  \nATOM   1664  CG  GLN A 104      33.420  29.480  34.250  1.00  0.00           C  \nATOM   1665 HG2  GLN A 104      33.170  30.230  33.500  1.00  0.00           H  \nATOM   1666 HG3  GLN A 104      33.830  29.930  35.160  1.00  0.00           H  \nATOM   1667  CD  GLN A 104      34.560  28.670  33.570  1.00  0.00           C  \nATOM   1668 OE1  GLN A 104      34.360  27.510  33.240  1.00  0.00           O  \nATOM   1669 NE2  GLN A 104      35.670  29.220  33.280  1.00  0.00           N  \nATOM   1670 HE21 GLN A 104      35.900  30.150  33.620  1.00  0.00           H  \nATOM   1671 HE22 GLN A 104      36.400  28.620  32.930  1.00  0.00           H  \nATOM   1672  C   GLN A 104      30.630  30.840  34.790  1.00  0.00           C  \nATOM   1673  O   GLN A 104      31.210  31.930  34.920  1.00  0.00           O  \nATOM   1674  N   MET A 105      29.580  30.680  33.930  1.00  0.00           N  \nATOM   1675  H   MET A 105      29.150  29.760  33.920  1.00  0.00           H  \nATOM   1676  CA  MET A 105      29.080  31.730  33.030  1.00  0.00           C  \nATOM   1677  HA  MET A 105      29.670  32.640  33.120  1.00  0.00           H  \nATOM   1678  CB  MET A 105      29.360  31.190  31.520  1.00  0.00           C  \nATOM   1679 HB2  MET A 105      28.900  30.200  31.430  1.00  0.00           H  \nATOM   1680 HB3  MET A 105      28.960  31.780  30.690  1.00  0.00           H  \nATOM   1681  CG  MET A 105      30.820  30.970  31.290  1.00  0.00           C  \nATOM   1682 HG2  MET A 105      31.360  31.910  31.410  1.00  0.00           H  \nATOM   1683 HG3  MET A 105      31.160  30.170  31.950  1.00  0.00           H  \nATOM   1684  SD  MET A 105      31.240  30.410  29.580  1.00  0.00           S  \nATOM   1685  CE  MET A 105      31.010  28.660  29.660  1.00  0.00           C  \nATOM   1686 HE1  MET A 105      31.770  28.240  30.320  1.00  0.00           H  \nATOM   1687 HE2  MET A 105      30.050  28.500  30.150  1.00  0.00           H  \nATOM   1688 HE3  MET A 105      31.070  28.030  28.770  1.00  0.00           H  \nATOM   1689  C   MET A 105      27.600  32.130  33.280  1.00  0.00           C  \nATOM   1690  O   MET A 105      27.090  33.010  32.560  1.00  0.00           O  \nATOM   1691  N   GLY A 106      26.910  31.690  34.330  1.00  0.00           N  \nATOM   1692  H   GLY A 106      27.320  30.940  34.860  1.00  0.00           H  \nATOM   1693  CA  GLY A 106      25.460  31.860  34.570  1.00  0.00           C  \nATOM   1694 HA2  GLY A 106      25.180  31.630  35.600  1.00  0.00           H  \nATOM   1695 HA3  GLY A 106      25.010  32.850  34.470  1.00  0.00           H  \nATOM   1696  C   GLY A 106      24.610  30.910  33.700  1.00  0.00           C  \nATOM   1697  O   GLY A 106      25.130  30.280  32.760  1.00  0.00           O  \nATOM   1698  N   GLU A 107      23.380  30.880  33.980  1.00  0.00           N  \nATOM   1699  H   GLU A 107      23.070  31.320  34.840  1.00  0.00           H  \nATOM   1700  CA  GLU A 107      22.360  30.250  33.100  1.00  0.00           C  \nATOM   1701  HA  GLU A 107      22.780  29.300  32.800  1.00  0.00           H  \nATOM   1702  CB  GLU A 107      21.030  29.910  33.710  1.00  0.00           C  \nATOM   1703 HB2  GLU A 107      20.460  29.320  32.990  1.00  0.00           H  \nATOM   1704 HB3  GLU A 107      21.310  29.310  34.580  1.00  0.00           H  \nATOM   1705  CG  GLU A 107      20.220  31.140  34.260  1.00  0.00           C  \nATOM   1706 HG2  GLU A 107      20.200  31.870  33.450  1.00  0.00           H  \nATOM   1707 HG3  GLU A 107      19.180  30.840  34.380  1.00  0.00           H  \nATOM   1708  CD  GLU A 107      20.680  31.900  35.480  1.00  0.00           C  \nATOM   1709 OE1  GLU A 107      19.830  32.440  36.210  1.00  0.00           O  \nATOM   1710 OE2  GLU A 107      21.900  31.900  35.880  1.00  0.00           O1-\nATOM   1711  C   GLU A 107      22.160  31.000  31.820  1.00  0.00           C  \nATOM   1712  O   GLU A 107      21.830  30.390  30.830  1.00  0.00           O  \nATOM   1713  N   THR A 108      22.450  32.300  31.780  1.00  0.00           N  \nATOM   1714  H   THR A 108      22.810  32.780  32.590  1.00  0.00           H  \nATOM   1715  CA  THR A 108      22.400  33.060  30.510  1.00  0.00           C  \nATOM   1716  HA  THR A 108      21.660  32.600  29.850  1.00  0.00           H  \nATOM   1717  CB  THR A 108      22.060  34.480  30.840  1.00  0.00           C  \nATOM   1718  HB  THR A 108      22.810  34.900  31.520  1.00  0.00           H  \nATOM   1719 CG2  THR A 108      21.940  35.430  29.660  1.00  0.00           C  \nATOM   1720 HG21 THR A 108      21.310  36.270  29.940  1.00  0.00           H  \nATOM   1721 HG22 THR A 108      22.940  35.770  29.410  1.00  0.00           H  \nATOM   1722 HG23 THR A 108      21.500  34.900  28.810  1.00  0.00           H  \nATOM   1723 OG1  THR A 108      20.780  34.450  31.460  1.00  0.00           O  \nATOM   1724 HG1  THR A 108      20.920  34.360  32.400  1.00  0.00           H  \nATOM   1725  C   THR A 108      23.660  32.850  29.670  1.00  0.00           C  \nATOM   1726  O   THR A 108      23.510  32.600  28.490  1.00  0.00           O  \nATOM   1727  N   GLY A 109      24.860  32.850  30.240  1.00  0.00           N  \nATOM   1728  H   GLY A 109      24.880  33.060  31.230  1.00  0.00           H  \nATOM   1729  CA  GLY A 109      26.130  32.650  29.570  1.00  0.00           C  \nATOM   1730 HA2  GLY A 109      26.420  33.480  28.930  1.00  0.00           H  \nATOM   1731 HA3  GLY A 109      27.000  32.510  30.210  1.00  0.00           H  \nATOM   1732  C   GLY A 109      26.260  31.390  28.820  1.00  0.00           C  \nATOM   1733  O   GLY A 109      27.100  31.400  27.930  1.00  0.00           O  \nATOM   1734  N   VAL A 110      25.500  30.330  29.080  1.00  0.00           N  \nATOM   1735  H   VAL A 110      24.850  30.300  29.850  1.00  0.00           H  \nATOM   1736  CA  VAL A 110      25.440  29.160  28.160  1.00  0.00           C  \nATOM   1737  HA  VAL A 110      26.320  29.090  27.520  1.00  0.00           H  \nATOM   1738  CB  VAL A 110      25.340  27.820  28.940  1.00  0.00           C  \nATOM   1739  HB  VAL A 110      25.400  27.000  28.230  1.00  0.00           H  \nATOM   1740 CG1  VAL A 110      26.540  27.620  29.850  1.00  0.00           C  \nATOM   1741 HG11 VAL A 110      27.420  27.430  29.240  1.00  0.00           H  \nATOM   1742 HG12 VAL A 110      26.650  28.510  30.470  1.00  0.00           H  \nATOM   1743 HG13 VAL A 110      26.470  26.730  30.490  1.00  0.00           H  \nATOM   1744 CG2  VAL A 110      23.990  27.790  29.660  1.00  0.00           C  \nATOM   1745 HG21 VAL A 110      24.160  28.490  30.470  1.00  0.00           H  \nATOM   1746 HG22 VAL A 110      23.240  28.240  29.000  1.00  0.00           H  \nATOM   1747 HG23 VAL A 110      23.690  26.780  29.950  1.00  0.00           H  \nATOM   1748  C   VAL A 110      24.370  29.180  27.000  1.00  0.00           C  \nATOM   1749  O   VAL A 110      24.450  28.380  26.060  1.00  0.00           O  \nATOM   1750  N   ALA A 111      23.610  30.250  26.750  1.00  0.00           N  \nATOM   1751  H   ALA A 111      23.560  31.020  27.400  1.00  0.00           H  \nATOM   1752  CA  ALA A 111      22.610  30.210  25.580  1.00  0.00           C  \nATOM   1753  HA  ALA A 111      22.070  29.260  25.500  1.00  0.00           H  \nATOM   1754  CB  ALA A 111      21.600  31.370  25.810  1.00  0.00           C  \nATOM   1755 HB1  ALA A 111      22.220  32.270  25.840  1.00  0.00           H  \nATOM   1756 HB2  ALA A 111      20.770  31.450  25.110  1.00  0.00           H  \nATOM   1757 HB3  ALA A 111      21.130  31.280  26.790  1.00  0.00           H  \nATOM   1758  C   ALA A 111      23.270  30.390  24.150  1.00  0.00           C  \nATOM   1759  O   ALA A 111      22.720  29.870  23.130  1.00  0.00           O  \nATOM   1760  N   GLY A 112      24.430  31.050  24.060  1.00  0.00           N  \nATOM   1761  H   GLY A 112      24.680  31.580  24.880  1.00  0.00           H  \nATOM   1762  CA  GLY A 112      25.320  31.250  22.830  1.00  0.00           C  \nATOM   1763 HA2  GLY A 112      24.790  31.780  22.050  1.00  0.00           H  \nATOM   1764 HA3  GLY A 112      26.140  31.950  23.000  1.00  0.00           H  \nATOM   1765  C   GLY A 112      25.910  29.900  22.300  1.00  0.00           C  \nATOM   1766  O   GLY A 112      26.370  29.850  21.150  1.00  0.00           O  \nATOM   1767  N   PHE A 113      25.960  28.900  23.140  1.00  0.00           N  \nATOM   1768  H   PHE A 113      25.430  29.010  23.990  1.00  0.00           H  \nATOM   1769  CA  PHE A 113      26.330  27.500  22.740  1.00  0.00           C  \nATOM   1770  HA  PHE A 113      27.190  27.470  22.070  1.00  0.00           H  \nATOM   1771  CB  PHE A 113      26.670  26.750  24.070  1.00  0.00           C  \nATOM   1772 HB2  PHE A 113      25.920  26.970  24.820  1.00  0.00           H  \nATOM   1773 HB3  PHE A 113      26.750  25.690  23.830  1.00  0.00           H  \nATOM   1774  CG  PHE A 113      28.060  27.150  24.520  1.00  0.00           C  \nATOM   1775 CD1  PHE A 113      28.300  28.230  25.330  1.00  0.00           C  \nATOM   1776 HD1  PHE A 113      27.430  28.790  25.650  1.00  0.00           H  \nATOM   1777 CE1  PHE A 113      29.600  28.580  25.770  1.00  0.00           C  \nATOM   1778 HE1  PHE A 113      29.640  29.380  26.500  1.00  0.00           H  \nATOM   1779  CZ  PHE A 113      30.690  27.750  25.480  1.00  0.00           C  \nATOM   1780  HZ  PHE A 113      31.650  27.950  25.920  1.00  0.00           H  \nATOM   1781 CE2  PHE A 113      30.510  26.630  24.600  1.00  0.00           C  \nATOM   1782 HE2  PHE A 113      31.390  26.050  24.370  1.00  0.00           H  \nATOM   1783 CD2  PHE A 113      29.240  26.380  24.160  1.00  0.00           C  \nATOM   1784 HD2  PHE A 113      29.000  25.550  23.510  1.00  0.00           H  \nATOM   1785  C   PHE A 113      25.260  26.690  22.010  1.00  0.00           C  \nATOM   1786  O   PHE A 113      24.850  25.540  22.340  1.00  0.00           O  \nATOM   1787  N   THR A 114      24.590  27.270  21.020  1.00  0.00           N  \nATOM   1788  H   THR A 114      24.950  28.170  20.730  1.00  0.00           H  \nATOM   1789  CA  THR A 114      23.470  26.670  20.240  1.00  0.00           C  \nATOM   1790  HA  THR A 114      22.730  26.480  21.010  1.00  0.00           H  \nATOM   1791  CB  THR A 114      22.980  27.670  19.210  1.00  0.00           C  \nATOM   1792  HB  THR A 114      22.170  27.290  18.600  1.00  0.00           H  \nATOM   1793 CG2  THR A 114      22.490  29.030  19.790  1.00  0.00           C  \nATOM   1794 HG21 THR A 114      23.150  29.640  20.410  1.00  0.00           H  \nATOM   1795 HG22 THR A 114      22.050  29.680  19.040  1.00  0.00           H  \nATOM   1796 HG23 THR A 114      21.610  28.860  20.410  1.00  0.00           H  \nATOM   1797 OG1  THR A 114      24.040  28.150  18.360  1.00  0.00           O  \nATOM   1798 HG1  THR A 114      23.630  28.750  17.740  1.00  0.00           H  \nATOM   1799  C   THR A 114      23.820  25.250  19.620  1.00  0.00           C  \nATOM   1800  O   THR A 114      23.240  24.220  20.000  1.00  0.00           O  \nATOM   1801  N   ASN A 115      24.810  25.110  18.730  1.00  0.00           N  \nATOM   1802  H   ASN A 115      25.390  25.920  18.540  1.00  0.00           H  \nATOM   1803  CA  ASN A 115      25.280  23.820  18.200  1.00  0.00           C  \nATOM   1804  HA  ASN A 115      24.430  23.410  17.660  1.00  0.00           H  \nATOM   1805  CB  ASN A 115      26.460  23.840  17.160  1.00  0.00           C  \nATOM   1806 HB2  ASN A 115      27.330  24.170  17.720  1.00  0.00           H  \nATOM   1807 HB3  ASN A 115      26.620  22.860  16.710  1.00  0.00           H  \nATOM   1808  CG  ASN A 115      26.430  24.810  16.010  1.00  0.00           C  \nATOM   1809 OD1  ASN A 115      25.460  25.490  15.640  1.00  0.00           O  \nATOM   1810 ND2  ASN A 115      27.540  24.910  15.330  1.00  0.00           N  \nATOM   1811 HD21 ASN A 115      27.610  25.390  14.440  1.00  0.00           H  \nATOM   1812 HD22 ASN A 115      28.360  24.440  15.660  1.00  0.00           H  \nATOM   1813  C   ASN A 115      25.600  22.840  19.330  1.00  0.00           C  \nATOM   1814  O   ASN A 115      25.180  21.700  19.360  1.00  0.00           O  \nATOM   1815  N   SER A 116      26.360  23.250  20.360  1.00  0.00           N  \nATOM   1816  H   SER A 116      26.760  24.150  20.170  1.00  0.00           H  \nATOM   1817  CA  SER A 116      26.810  22.460  21.520  1.00  0.00           C  \nATOM   1818  HA  SER A 116      27.380  21.600  21.180  1.00  0.00           H  \nATOM   1819  CB  SER A 116      27.700  23.340  22.410  1.00  0.00           C  \nATOM   1820 HB2  SER A 116      27.110  24.230  22.640  1.00  0.00           H  \nATOM   1821 HB3  SER A 116      27.950  22.830  23.350  1.00  0.00           H  \nATOM   1822  OG  SER A 116      28.840  23.820  21.680  1.00  0.00           O  \nATOM   1823  HG  SER A 116      28.620  24.660  21.270  1.00  0.00           H  \nATOM   1824  C   SER A 116      25.520  21.910  22.170  1.00  0.00           C  \nATOM   1825  O   SER A 116      25.270  20.720  22.240  1.00  0.00           O  \nATOM   1826  N   LEU A 117      24.630  22.730  22.710  1.00  0.00           N  \nATOM   1827  H   LEU A 117      24.760  23.710  22.470  1.00  0.00           H  \nATOM   1828  CA  LEU A 117      23.350  22.360  23.300  1.00  0.00           C  \nATOM   1829  HA  LEU A 117      23.560  21.790  24.210  1.00  0.00           H  \nATOM   1830  CB  LEU A 117      22.500  23.580  23.660  1.00  0.00           C  \nATOM   1831 HB2  LEU A 117      22.450  24.240  22.800  1.00  0.00           H  \nATOM   1832 HB3  LEU A 117      21.450  23.390  23.840  1.00  0.00           H  \nATOM   1833  CG  LEU A 117      23.010  24.370  24.890  1.00  0.00           C  \nATOM   1834  HG  LEU A 117      24.080  24.520  24.700  1.00  0.00           H  \nATOM   1835 CD1  LEU A 117      22.210  25.610  24.990  1.00  0.00           C  \nATOM   1836 HD11 LEU A 117      21.150  25.410  25.160  1.00  0.00           H  \nATOM   1837 HD12 LEU A 117      22.560  26.260  25.800  1.00  0.00           H  \nATOM   1838 HD13 LEU A 117      22.340  26.200  24.080  1.00  0.00           H  \nATOM   1839 CD2  LEU A 117      22.870  23.600  26.200  1.00  0.00           C  \nATOM   1840 HD21 LEU A 117      23.580  22.770  26.240  1.00  0.00           H  \nATOM   1841 HD22 LEU A 117      23.080  24.320  26.980  1.00  0.00           H  \nATOM   1842 HD23 LEU A 117      21.830  23.380  26.430  1.00  0.00           H  \nATOM   1843  C   LEU A 117      22.520  21.420  22.410  1.00  0.00           C  \nATOM   1844  O   LEU A 117      22.000  20.410  22.880  1.00  0.00           O  \nATOM   1845  N   ARG A 118      22.520  21.620  21.120  1.00  0.00           N  \nATOM   1846  H   ARG A 118      23.090  22.370  20.760  1.00  0.00           H  \nATOM   1847  CA  ARG A 118      21.800  20.740  20.150  1.00  0.00           C  \nATOM   1848  HA  ARG A 118      20.820  20.520  20.580  1.00  0.00           H  \nATOM   1849  CB  ARG A 118      21.590  21.530  18.860  1.00  0.00           C  \nATOM   1850 HB2  ARG A 118      20.840  22.280  19.110  1.00  0.00           H  \nATOM   1851 HB3  ARG A 118      22.450  22.130  18.590  1.00  0.00           H  \nATOM   1852  CG  ARG A 118      21.020  20.700  17.680  1.00  0.00           C  \nATOM   1853 HG2  ARG A 118      21.700  19.890  17.440  1.00  0.00           H  \nATOM   1854 HG3  ARG A 118      20.030  20.300  17.890  1.00  0.00           H  \nATOM   1855  CD  ARG A 118      20.790  21.620  16.470  1.00  0.00           C  \nATOM   1856 HD2  ARG A 118      20.180  21.040  15.770  1.00  0.00           H  \nATOM   1857 HD3  ARG A 118      20.160  22.430  16.850  1.00  0.00           H  \nATOM   1858  NE  ARG A 118      22.010  22.120  15.910  1.00  0.00           N  \nATOM   1859  HE  ARG A 118      22.550  21.500  15.310  1.00  0.00           H  \nATOM   1860  CZ  ARG A 118      22.460  23.350  15.710  1.00  0.00           C  \nATOM   1861 NH1  ARG A 118      22.170  24.260  16.540  1.00  0.00           N  \nATOM   1862 HH11 ARG A 118      21.580  24.170  17.360  1.00  0.00           H  \nATOM   1863 HH12 ARG A 118      22.500  25.180  16.280  1.00  0.00           H  \nATOM   1864 NH2  ARG A 118      23.400  23.560  14.840  1.00  0.00           N1+\nATOM   1865 HH21 ARG A 118      23.850  22.810  14.340  1.00  0.00           H  \nATOM   1866 HH22 ARG A 118      23.830  24.470  14.710  1.00  0.00           H  \nATOM   1867  C   ARG A 118      22.510  19.400  20.010  1.00  0.00           C  \nATOM   1868  O   ARG A 118      21.890  18.350  20.000  1.00  0.00           O  \nATOM   1869  N   MET A 119      23.870  19.390  19.800  1.00  0.00           N  \nATOM   1870  H   MET A 119      24.410  20.250  19.760  1.00  0.00           H  \nATOM   1871  CA  MET A 119      24.570  18.060  19.640  1.00  0.00           C  \nATOM   1872  HA  MET A 119      24.040  17.410  18.940  1.00  0.00           H  \nATOM   1873  CB  MET A 119      25.980  18.430  19.250  1.00  0.00           C  \nATOM   1874 HB2  MET A 119      26.440  19.260  19.780  1.00  0.00           H  \nATOM   1875 HB3  MET A 119      26.570  17.520  19.380  1.00  0.00           H  \nATOM   1876  CG  MET A 119      25.970  18.840  17.700  1.00  0.00           C  \nATOM   1877 HG2  MET A 119      25.840  17.960  17.070  1.00  0.00           H  \nATOM   1878 HG3  MET A 119      25.130  19.510  17.540  1.00  0.00           H  \nATOM   1879  SD  MET A 119      27.520  19.710  17.340  1.00  0.00           S  \nATOM   1880  CE  MET A 119      27.140  20.180  15.610  1.00  0.00           C  \nATOM   1881 HE1  MET A 119      27.930  20.740  15.110  1.00  0.00           H  \nATOM   1882 HE2  MET A 119      26.970  19.220  15.120  1.00  0.00           H  \nATOM   1883 HE3  MET A 119      26.240  20.800  15.550  1.00  0.00           H  \nATOM   1884  C   MET A 119      24.570  17.230  21.000  1.00  0.00           C  \nATOM   1885  O   MET A 119      24.380  16.040  20.890  1.00  0.00           O  \nATOM   1886  N   LEU A 120      24.630  17.830  22.220  1.00  0.00           N  \nATOM   1887  H   LEU A 120      24.830  18.820  22.240  1.00  0.00           H  \nATOM   1888  CA  LEU A 120      24.440  17.130  23.480  1.00  0.00           C  \nATOM   1889  HA  LEU A 120      24.990  16.190  23.420  1.00  0.00           H  \nATOM   1890  CB  LEU A 120      24.760  18.040  24.690  1.00  0.00           C  \nATOM   1891 HB2  LEU A 120      24.100  18.910  24.610  1.00  0.00           H  \nATOM   1892 HB3  LEU A 120      24.560  17.520  25.630  1.00  0.00           H  \nATOM   1893  CG  LEU A 120      26.190  18.580  24.670  1.00  0.00           C  \nATOM   1894  HG  LEU A 120      26.460  18.820  23.640  1.00  0.00           H  \nATOM   1895 CD1  LEU A 120      26.470  19.800  25.560  1.00  0.00           C  \nATOM   1896 HD11 LEU A 120      26.340  19.620  26.620  1.00  0.00           H  \nATOM   1897 HD12 LEU A 120      27.510  20.000  25.300  1.00  0.00           H  \nATOM   1898 HD13 LEU A 120      25.790  20.590  25.220  1.00  0.00           H  \nATOM   1899 CD2  LEU A 120      27.070  17.380  25.030  1.00  0.00           C  \nATOM   1900 HD21 LEU A 120      26.900  16.520  24.390  1.00  0.00           H  \nATOM   1901 HD22 LEU A 120      28.100  17.700  24.890  1.00  0.00           H  \nATOM   1902 HD23 LEU A 120      26.910  17.140  26.080  1.00  0.00           H  \nATOM   1903  C   LEU A 120      22.990  16.630  23.600  1.00  0.00           C  \nATOM   1904  O   LEU A 120      22.820  15.500  24.050  1.00  0.00           O  \nATOM   1905  N   GLN A 121      21.930  17.400  23.190  1.00  0.00           N  \nATOM   1906  H   GLN A 121      22.030  18.390  22.980  1.00  0.00           H  \nATOM   1907  CA  GLN A 121      20.600  16.780  23.100  1.00  0.00           C  \nATOM   1908  HA  GLN A 121      20.330  16.360  24.080  1.00  0.00           H  \nATOM   1909  CB  GLN A 121      19.460  17.740  22.590  1.00  0.00           C  \nATOM   1910 HB2  GLN A 121      19.480  18.630  23.210  1.00  0.00           H  \nATOM   1911 HB3  GLN A 121      19.720  18.020  21.580  1.00  0.00           H  \nATOM   1912  CG  GLN A 121      18.080  17.140  22.590  1.00  0.00           C  \nATOM   1913 HG2  GLN A 121      17.990  16.200  22.040  1.00  0.00           H  \nATOM   1914 HG3  GLN A 121      17.680  16.980  23.590  1.00  0.00           H  \nATOM   1915  CD  GLN A 121      17.050  18.090  22.000  1.00  0.00           C  \nATOM   1916 OE1  GLN A 121      17.310  18.640  20.930  1.00  0.00           O  \nATOM   1917 NE2  GLN A 121      15.970  18.390  22.580  1.00  0.00           N  \nATOM   1918 HE21 GLN A 121      15.630  17.780  23.310  1.00  0.00           H  \nATOM   1919 HE22 GLN A 121      15.520  19.260  22.360  1.00  0.00           H  \nATOM   1920  C   GLN A 121      20.630  15.630  22.080  1.00  0.00           C  \nATOM   1921  O   GLN A 121      20.140  14.560  22.400  1.00  0.00           O  \nATOM   1922  N   GLN A 122      21.180  15.710  20.890  1.00  0.00           N  \nATOM   1923  H   GLN A 122      21.510  16.650  20.710  1.00  0.00           H  \nATOM   1924  CA  GLN A 122      21.190  14.630  19.830  1.00  0.00           C  \nATOM   1925  HA  GLN A 122      20.180  14.220  19.800  1.00  0.00           H  \nATOM   1926  CB  GLN A 122      21.680  15.230  18.520  1.00  0.00           C  \nATOM   1927 HB2  GLN A 122      22.690  15.630  18.590  1.00  0.00           H  \nATOM   1928 HB3  GLN A 122      21.740  14.450  17.760  1.00  0.00           H  \nATOM   1929  CG  GLN A 122      20.610  16.170  17.930  1.00  0.00           C  \nATOM   1930 HG2  GLN A 122      19.780  15.630  17.480  1.00  0.00           H  \nATOM   1931 HG3  GLN A 122      20.060  16.830  18.590  1.00  0.00           H  \nATOM   1932  CD  GLN A 122      21.240  17.090  16.820  1.00  0.00           C  \nATOM   1933 OE1  GLN A 122      22.460  17.090  16.540  1.00  0.00           O  \nATOM   1934 NE2  GLN A 122      20.470  17.850  16.070  1.00  0.00           N  \nATOM   1935 HE21 GLN A 122      19.490  17.670  16.200  1.00  0.00           H  \nATOM   1936 HE22 GLN A 122      20.930  18.340  15.310  1.00  0.00           H  \nATOM   1937  C   GLN A 122      22.000  13.380  20.210  1.00  0.00           C  \nATOM   1938  O   GLN A 122      22.120  12.410  19.500  1.00  0.00           O  \nATOM   1939  N   LYS A 123      22.660  13.380  21.380  1.00  0.00           N  \nATOM   1940  H   LYS A 123      22.460  14.230  21.900  1.00  0.00           H  \nATOM   1941  CA  LYS A 123      23.710  12.480  21.880  1.00  0.00           C  \nATOM   1942  HA  LYS A 123      24.060  12.960  22.800  1.00  0.00           H  \nATOM   1943  CB  LYS A 123      23.160  11.160  22.330  1.00  0.00           C  \nATOM   1944 HB2  LYS A 123      22.920  10.510  21.490  1.00  0.00           H  \nATOM   1945 HB3  LYS A 123      23.980  10.680  22.860  1.00  0.00           H  \nATOM   1946  CG  LYS A 123      21.840  11.180  23.160  1.00  0.00           C  \nATOM   1947 HG2  LYS A 123      21.990  11.950  23.920  1.00  0.00           H  \nATOM   1948 HG3  LYS A 123      20.940  11.500  22.650  1.00  0.00           H  \nATOM   1949  CD  LYS A 123      21.500   9.960  23.980  1.00  0.00           C  \nATOM   1950 HD2  LYS A 123      21.060   9.260  23.270  1.00  0.00           H  \nATOM   1951 HD3  LYS A 123      22.460   9.600  24.360  1.00  0.00           H  \nATOM   1952  CE  LYS A 123      20.500  10.140  25.120  1.00  0.00           C  \nATOM   1953 HE2  LYS A 123      19.670  10.650  24.640  1.00  0.00           H  \nATOM   1954 HE3  LYS A 123      20.180   9.160  25.480  1.00  0.00           H  \nATOM   1955  NZ  LYS A 123      20.910  10.960  26.240  1.00  0.00           N1+\nATOM   1956 HZ1  LYS A 123      20.170  11.020  26.930  1.00  0.00           H  \nATOM   1957 HZ2  LYS A 123      21.600  10.630  26.890  1.00  0.00           H  \nATOM   1958 HZ3  LYS A 123      21.110  11.880  25.900  1.00  0.00           H  \nATOM   1959  C   LYS A 123      25.020  12.430  21.080  1.00  0.00           C  \nATOM   1960  O   LYS A 123      25.810  11.500  21.170  1.00  0.00           O  \nATOM   1961  N   ARG A 124      25.190  13.410  20.210  1.00  0.00           N  \nATOM   1962  H   ARG A 124      24.670  14.280  20.230  1.00  0.00           H  \nATOM   1963  CA  ARG A 124      26.310  13.520  19.250  1.00  0.00           C  \nATOM   1964  HA  ARG A 124      26.660  12.560  18.860  1.00  0.00           H  \nATOM   1965  CB  ARG A 124      26.000  14.460  18.040  1.00  0.00           C  \nATOM   1966 HB2  ARG A 124      25.570  15.350  18.500  1.00  0.00           H  \nATOM   1967 HB3  ARG A 124      26.900  14.670  17.470  1.00  0.00           H  \nATOM   1968  CG  ARG A 124      25.000  13.810  17.050  1.00  0.00           C  \nATOM   1969 HG2  ARG A 124      25.240  12.770  16.860  1.00  0.00           H  \nATOM   1970 HG3  ARG A 124      23.980  13.760  17.440  1.00  0.00           H  \nATOM   1971  CD  ARG A 124      24.990  14.570  15.760  1.00  0.00           C  \nATOM   1972 HD2  ARG A 124      24.710  15.620  15.860  1.00  0.00           H  \nATOM   1973 HD3  ARG A 124      26.010  14.520  15.370  1.00  0.00           H  \nATOM   1974  NE  ARG A 124      24.080  13.860  14.770  1.00  0.00           N  \nATOM   1975  HE  ARG A 124      23.280  13.400  15.170  1.00  0.00           H  \nATOM   1976  CZ  ARG A 124      24.260  13.650  13.520  1.00  0.00           C  \nATOM   1977 NH1  ARG A 124      25.290  14.020  12.800  1.00  0.00           N  \nATOM   1978 HH11 ARG A 124      25.930  14.720  13.140  1.00  0.00           H  \nATOM   1979 HH12 ARG A 124      25.340  13.760  11.820  1.00  0.00           H  \nATOM   1980 NH2  ARG A 124      23.380  12.810  12.960  1.00  0.00           N1+\nATOM   1981 HH21 ARG A 124      22.810  12.290  13.620  1.00  0.00           H  \nATOM   1982 HH22 ARG A 124      23.430  12.520  12.000  1.00  0.00           H  \nATOM   1983  C   ARG A 124      27.570  13.980  20.080  1.00  0.00           C  \nATOM   1984  O   ARG A 124      27.910  15.170  19.980  1.00  0.00           O  \nATOM   1985  N   TRP A 125      28.230  13.060  20.770  1.00  0.00           N  \nATOM   1986  H   TRP A 125      27.850  12.130  20.700  1.00  0.00           H  \nATOM   1987  CA  TRP A 125      29.270  13.390  21.760  1.00  0.00           C  \nATOM   1988  HA  TRP A 125      28.840  14.100  22.470  1.00  0.00           H  \nATOM   1989  CB  TRP A 125      29.510  12.120  22.540  1.00  0.00           C  \nATOM   1990 HB2  TRP A 125      29.970  11.300  21.980  1.00  0.00           H  \nATOM   1991 HB3  TRP A 125      30.170  12.490  23.330  1.00  0.00           H  \nATOM   1992  CG  TRP A 125      28.400  11.460  23.340  1.00  0.00           C  \nATOM   1993 CD1  TRP A 125      28.360  10.140  23.560  1.00  0.00           C  \nATOM   1994 HD1  TRP A 125      28.980   9.350  23.150  1.00  0.00           H  \nATOM   1995 NE1  TRP A 125      27.220   9.850  24.280  1.00  0.00           N  \nATOM   1996 HE1  TRP A 125      26.920   8.890  24.320  1.00  0.00           H  \nATOM   1997 CE2  TRP A 125      26.440  10.990  24.570  1.00  0.00           C  \nATOM   1998 CZ2  TRP A 125      25.160  11.130  25.170  1.00  0.00           C  \nATOM   1999 HZ2  TRP A 125      24.510  10.300  25.400  1.00  0.00           H  \nATOM   2000 CH2  TRP A 125      24.840  12.480  25.490  1.00  0.00           C  \nATOM   2001 HH2  TRP A 125      23.970  12.750  26.070  1.00  0.00           H  \nATOM   2002 CZ3  TRP A 125      25.710  13.570  25.120  1.00  0.00           C  \nATOM   2003 HZ3  TRP A 125      25.470  14.590  25.370  1.00  0.00           H  \nATOM   2004 CE3  TRP A 125      26.830  13.310  24.270  1.00  0.00           C  \nATOM   2005 HE3  TRP A 125      27.540  14.100  24.060  1.00  0.00           H  \nATOM   2006 CD2  TRP A 125      27.290  12.010  24.090  1.00  0.00           C  \nATOM   2007  C   TRP A 125      30.590  13.900  21.080  1.00  0.00           C  \nATOM   2008  O   TRP A 125      31.030  15.050  21.440  1.00  0.00           O  \nATOM   2009  N   ASP A 126      31.050  13.270  20.010  1.00  0.00           N  \nATOM   2010  H   ASP A 126      30.580  12.460  19.640  1.00  0.00           H  \nATOM   2011  CA  ASP A 126      32.250  13.690  19.280  1.00  0.00           C  \nATOM   2012  HA  ASP A 126      33.090  13.910  19.930  1.00  0.00           H  \nATOM   2013  CB  ASP A 126      32.680  12.520  18.380  1.00  0.00           C  \nATOM   2014 HB2  ASP A 126      33.550  12.860  17.820  1.00  0.00           H  \nATOM   2015 HB3  ASP A 126      32.980  11.740  19.070  1.00  0.00           H  \nATOM   2016  CG  ASP A 126      31.580  11.890  17.500  1.00  0.00           C  \nATOM   2017 OD1  ASP A 126      31.920  11.240  16.510  1.00  0.00           O  \nATOM   2018 OD2  ASP A 126      30.400  12.320  17.600  1.00  0.00           O1-\nATOM   2019  C   ASP A 126      31.990  14.980  18.460  1.00  0.00           C  \nATOM   2020  O   ASP A 126      32.920  15.750  18.370  1.00  0.00           O  \nATOM   2021  N   GLU A 127      30.780  15.260  18.110  1.00  0.00           N  \nATOM   2022  H   GLU A 127      30.060  14.550  18.080  1.00  0.00           H  \nATOM   2023  CA  GLU A 127      30.460  16.580  17.470  1.00  0.00           C  \nATOM   2024  HA  GLU A 127      31.340  16.880  16.900  1.00  0.00           H  \nATOM   2025  CB  GLU A 127      29.340  16.480  16.530  1.00  0.00           C  \nATOM   2026 HB2  GLU A 127      28.490  16.080  17.090  1.00  0.00           H  \nATOM   2027 HB3  GLU A 127      29.080  17.500  16.240  1.00  0.00           H  \nATOM   2028  CG  GLU A 127      29.670  15.520  15.320  1.00  0.00           C  \nATOM   2029 HG2  GLU A 127      30.690  15.740  15.000  1.00  0.00           H  \nATOM   2030 HG3  GLU A 127      29.690  14.480  15.650  1.00  0.00           H  \nATOM   2031  CD  GLU A 127      28.730  15.780  14.150  1.00  0.00           C  \nATOM   2032 OE1  GLU A 127      27.650  15.180  13.950  1.00  0.00           O  \nATOM   2033 OE2  GLU A 127      29.060  16.670  13.340  1.00  0.00           O1-\nATOM   2034  C   GLU A 127      30.350  17.700  18.520  1.00  0.00           C  \nATOM   2035  O   GLU A 127      30.990  18.710  18.320  1.00  0.00           O  \nATOM   2036  N   ALA A 128      29.630  17.520  19.650  1.00  0.00           N  \nATOM   2037  H   ALA A 128      29.170  16.650  19.880  1.00  0.00           H  \nATOM   2038  CA  ALA A 128      29.610  18.430  20.820  1.00  0.00           C  \nATOM   2039  HA  ALA A 128      29.140  19.370  20.510  1.00  0.00           H  \nATOM   2040  CB  ALA A 128      28.750  17.790  21.950  1.00  0.00           C  \nATOM   2041 HB1  ALA A 128      28.850  18.400  22.850  1.00  0.00           H  \nATOM   2042 HB2  ALA A 128      27.710  18.020  21.690  1.00  0.00           H  \nATOM   2043 HB3  ALA A 128      28.930  16.740  22.160  1.00  0.00           H  \nATOM   2044  C   ALA A 128      31.050  18.860  21.320  1.00  0.00           C  \nATOM   2045  O   ALA A 128      31.270  19.990  21.730  1.00  0.00           O  \nATOM   2046  N   ALA A 129      31.960  17.930  21.330  1.00  0.00           N  \nATOM   2047  H   ALA A 129      31.640  16.990  21.160  1.00  0.00           H  \nATOM   2048  CA  ALA A 129      33.360  18.140  21.870  1.00  0.00           C  \nATOM   2049  HA  ALA A 129      33.230  18.720  22.790  1.00  0.00           H  \nATOM   2050  CB  ALA A 129      34.160  16.870  22.240  1.00  0.00           C  \nATOM   2051 HB1  ALA A 129      33.530  16.190  22.820  1.00  0.00           H  \nATOM   2052 HB2  ALA A 129      34.360  16.370  21.290  1.00  0.00           H  \nATOM   2053 HB3  ALA A 129      35.110  17.090  22.710  1.00  0.00           H  \nATOM   2054  C   ALA A 129      34.110  19.150  20.980  1.00  0.00           C  \nATOM   2055  O   ALA A 129      34.680  20.100  21.470  1.00  0.00           O  \nATOM   2056  N   VAL A 130      34.030  18.990  19.660  1.00  0.00           N  \nATOM   2057  H   VAL A 130      33.550  18.180  19.290  1.00  0.00           H  \nATOM   2058  CA  VAL A 130      34.480  20.090  18.730  1.00  0.00           C  \nATOM   2059  HA  VAL A 130      35.520  20.340  18.920  1.00  0.00           H  \nATOM   2060  CB  VAL A 130      34.360  19.780  17.210  1.00  0.00           C  \nATOM   2061  HB  VAL A 130      33.380  19.320  17.040  1.00  0.00           H  \nATOM   2062 CG1  VAL A 130      34.650  20.920  16.220  1.00  0.00           C  \nATOM   2063 HG11 VAL A 130      33.900  21.710  16.310  1.00  0.00           H  \nATOM   2064 HG12 VAL A 130      35.500  21.530  16.530  1.00  0.00           H  \nATOM   2065 HG13 VAL A 130      34.610  20.630  15.170  1.00  0.00           H  \nATOM   2066 CG2  VAL A 130      35.400  18.650  16.930  1.00  0.00           C  \nATOM   2067 HG21 VAL A 130      35.550  18.450  15.870  1.00  0.00           H  \nATOM   2068 HG22 VAL A 130      36.340  18.880  17.440  1.00  0.00           H  \nATOM   2069 HG23 VAL A 130      35.150  17.740  17.460  1.00  0.00           H  \nATOM   2070  C   VAL A 130      33.760  21.400  18.950  1.00  0.00           C  \nATOM   2071  O   VAL A 130      34.410  22.440  19.040  1.00  0.00           O  \nATOM   2072  N   ASN A 131      32.500  21.370  19.130  1.00  0.00           N  \nATOM   2073  H   ASN A 131      32.020  20.480  19.170  1.00  0.00           H  \nATOM   2074  CA  ASN A 131      31.660  22.580  19.200  1.00  0.00           C  \nATOM   2075  HA  ASN A 131      32.080  23.240  18.440  1.00  0.00           H  \nATOM   2076  CB  ASN A 131      30.290  22.120  18.680  1.00  0.00           C  \nATOM   2077 HB2  ASN A 131      30.020  21.160  19.130  1.00  0.00           H  \nATOM   2078 HB3  ASN A 131      29.530  22.810  19.040  1.00  0.00           H  \nATOM   2079  CG  ASN A 131      30.180  22.010  17.200  1.00  0.00           C  \nATOM   2080 OD1  ASN A 131      29.570  22.890  16.560  1.00  0.00           O  \nATOM   2081 ND2  ASN A 131      30.640  20.980  16.540  1.00  0.00           N  \nATOM   2082 HD21 ASN A 131      30.340  20.930  15.580  1.00  0.00           H  \nATOM   2083 HD22 ASN A 131      30.970  20.150  17.020  1.00  0.00           H  \nATOM   2084  C   ASN A 131      31.650  23.350  20.550  1.00  0.00           C  \nATOM   2085  O   ASN A 131      31.600  24.580  20.510  1.00  0.00           O  \nATOM   2086  N   LEU A 132      31.940  22.680  21.690  1.00  0.00           N  \nATOM   2087  H   LEU A 132      31.940  21.680  21.560  1.00  0.00           H  \nATOM   2088  CA  LEU A 132      32.250  23.260  23.000  1.00  0.00           C  \nATOM   2089  HA  LEU A 132      31.600  24.100  23.220  1.00  0.00           H  \nATOM   2090  CB  LEU A 132      32.160  22.200  24.100  1.00  0.00           C  \nATOM   2091 HB2  LEU A 132      32.770  21.370  23.770  1.00  0.00           H  \nATOM   2092 HB3  LEU A 132      32.590  22.640  25.000  1.00  0.00           H  \nATOM   2093  CG  LEU A 132      30.700  21.820  24.360  1.00  0.00           C  \nATOM   2094  HG  LEU A 132      30.170  21.730  23.410  1.00  0.00           H  \nATOM   2095 CD1  LEU A 132      30.590  20.490  25.050  1.00  0.00           C  \nATOM   2096 HD11 LEU A 132      31.160  19.800  24.420  1.00  0.00           H  \nATOM   2097 HD12 LEU A 132      30.930  20.600  26.080  1.00  0.00           H  \nATOM   2098 HD13 LEU A 132      29.530  20.220  25.100  1.00  0.00           H  \nATOM   2099 CD2  LEU A 132      29.880  22.870  25.140  1.00  0.00           C  \nATOM   2100 HD21 LEU A 132      28.880  22.530  25.410  1.00  0.00           H  \nATOM   2101 HD22 LEU A 132      30.500  23.130  26.000  1.00  0.00           H  \nATOM   2102 HD23 LEU A 132      29.770  23.760  24.530  1.00  0.00           H  \nATOM   2103  C   LEU A 132      33.730  23.770  22.930  1.00  0.00           C  \nATOM   2104  O   LEU A 132      34.050  24.700  23.650  1.00  0.00           O  \nATOM   2105  N   ALA A 133      34.670  23.240  22.060  1.00  0.00           N  \nATOM   2106  H   ALA A 133      34.400  22.360  21.630  1.00  0.00           H  \nATOM   2107  CA  ALA A 133      36.050  23.630  22.000  1.00  0.00           C  \nATOM   2108  HA  ALA A 133      36.360  23.860  23.020  1.00  0.00           H  \nATOM   2109  CB  ALA A 133      36.910  22.540  21.460  1.00  0.00           C  \nATOM   2110 HB1  ALA A 133      36.670  21.640  22.020  1.00  0.00           H  \nATOM   2111 HB2  ALA A 133      36.600  22.400  20.430  1.00  0.00           H  \nATOM   2112 HB3  ALA A 133      37.950  22.790  21.650  1.00  0.00           H  \nATOM   2113  C   ALA A 133      36.200  24.880  21.060  1.00  0.00           C  \nATOM   2114  O   ALA A 133      37.230  25.580  21.150  1.00  0.00           O  \nATOM   2115  N   LYS A 134      35.190  25.320  20.290  1.00  0.00           N  \nATOM   2116  H   LYS A 134      34.380  24.720  20.350  1.00  0.00           H  \nATOM   2117  CA  LYS A 134      35.060  26.450  19.430  1.00  0.00           C  \nATOM   2118  HA  LYS A 134      36.040  26.810  19.120  1.00  0.00           H  \nATOM   2119  CB  LYS A 134      34.340  26.090  18.140  1.00  0.00           C  \nATOM   2120 HB2  LYS A 134      33.460  25.540  18.460  1.00  0.00           H  \nATOM   2121 HB3  LYS A 134      34.060  27.070  17.730  1.00  0.00           H  \nATOM   2122  CG  LYS A 134      35.200  25.340  17.110  1.00  0.00           C  \nATOM   2123 HG2  LYS A 134      36.120  25.880  16.870  1.00  0.00           H  \nATOM   2124 HG3  LYS A 134      35.440  24.330  17.460  1.00  0.00           H  \nATOM   2125  CD  LYS A 134      34.440  25.160  15.770  1.00  0.00           C  \nATOM   2126 HD2  LYS A 134      33.470  24.700  15.930  1.00  0.00           H  \nATOM   2127 HD3  LYS A 134      34.300  26.160  15.360  1.00  0.00           H  \nATOM   2128  CE  LYS A 134      35.370  24.270  14.850  1.00  0.00           C  \nATOM   2129 HE2  LYS A 134      36.310  24.800  14.710  1.00  0.00           H  \nATOM   2130 HE3  LYS A 134      35.570  23.270  15.230  1.00  0.00           H  \nATOM   2131  NZ  LYS A 134      34.730  24.210  13.540  1.00  0.00           N1+\nATOM   2132 HZ1  LYS A 134      35.270  23.500  13.060  1.00  0.00           H  \nATOM   2133 HZ2  LYS A 134      33.760  23.950  13.680  1.00  0.00           H  \nATOM   2134 HZ3  LYS A 134      34.970  25.100  13.130  1.00  0.00           H  \nATOM   2135  C   LYS A 134      34.410  27.650  20.180  1.00  0.00           C  \nATOM   2136  O   LYS A 134      33.590  28.380  19.690  1.00  0.00           O  \nATOM   2137  N   SER A 135      34.760  27.880  21.440  1.00  0.00           N  \nATOM   2138  H   SER A 135      35.600  27.360  21.660  1.00  0.00           H  \nATOM   2139  CA  SER A 135      34.270  28.870  22.350  1.00  0.00           C  \nATOM   2140  HA  SER A 135      33.540  29.510  21.870  1.00  0.00           H  \nATOM   2141  CB  SER A 135      33.630  28.120  23.500  1.00  0.00           C  \nATOM   2142 HB2  SER A 135      33.180  28.920  24.090  1.00  0.00           H  \nATOM   2143 HB3  SER A 135      32.790  27.520  23.150  1.00  0.00           H  \nATOM   2144  OG  SER A 135      34.530  27.330  24.230  1.00  0.00           O  \nATOM   2145  HG  SER A 135      34.390  26.390  24.110  1.00  0.00           H  \nATOM   2146  C   SER A 135      35.480  29.750  22.790  1.00  0.00           C  \nATOM   2147  O   SER A 135      36.640  29.440  22.680  1.00  0.00           O  \nATOM   2148  N   ARG A 136      35.080  30.970  23.270  1.00  0.00           N  \nATOM   2149  H   ARG A 136      34.120  31.260  23.200  1.00  0.00           H  \nATOM   2150  CA  ARG A 136      36.050  31.770  24.070  1.00  0.00           C  \nATOM   2151  HA  ARG A 136      36.980  31.810  23.500  1.00  0.00           H  \nATOM   2152  CB  ARG A 136      35.580  33.300  24.150  1.00  0.00           C  \nATOM   2153 HB2  ARG A 136      35.620  33.620  23.110  1.00  0.00           H  \nATOM   2154 HB3  ARG A 136      34.520  33.280  24.430  1.00  0.00           H  \nATOM   2155  CG  ARG A 136      36.330  34.170  25.060  1.00  0.00           C  \nATOM   2156 HG2  ARG A 136      36.310  33.830  26.090  1.00  0.00           H  \nATOM   2157 HG3  ARG A 136      37.390  34.120  24.780  1.00  0.00           H  \nATOM   2158  CD  ARG A 136      35.880  35.640  24.880  1.00  0.00           C  \nATOM   2159 HD2  ARG A 136      36.190  35.850  23.860  1.00  0.00           H  \nATOM   2160 HD3  ARG A 136      34.800  35.820  24.940  1.00  0.00           H  \nATOM   2161  NE  ARG A 136      36.710  36.500  25.770  1.00  0.00           N  \nATOM   2162  HE  ARG A 136      37.710  36.550  25.670  1.00  0.00           H  \nATOM   2163  CZ  ARG A 136      36.320  37.060  26.920  1.00  0.00           C  \nATOM   2164 NH1  ARG A 136      35.110  36.930  27.360  1.00  0.00           N  \nATOM   2165 HH11 ARG A 136      34.400  36.790  26.650  1.00  0.00           H  \nATOM   2166 HH12 ARG A 136      34.940  37.340  28.270  1.00  0.00           H  \nATOM   2167 NH2  ARG A 136      37.210  37.600  27.650  1.00  0.00           N1+\nATOM   2168 HH21 ARG A 136      38.110  37.860  27.260  1.00  0.00           H  \nATOM   2169 HH22 ARG A 136      37.020  37.810  28.620  1.00  0.00           H  \nATOM   2170  C   ARG A 136      36.550  31.150  25.390  1.00  0.00           C  \nATOM   2171  O   ARG A 136      37.710  31.080  25.700  1.00  0.00           O  \nATOM   2172  N   TRP A 137      35.570  30.540  25.990  1.00  0.00           N  \nATOM   2173  H   TRP A 137      34.690  30.940  25.730  1.00  0.00           H  \nATOM   2174  CA  TRP A 137      35.630  29.680  27.150  1.00  0.00           C  \nATOM   2175  HA  TRP A 137      35.800  30.290  28.040  1.00  0.00           H  \nATOM   2176  CB  TRP A 137      34.260  29.010  27.250  1.00  0.00           C  \nATOM   2177 HB2  TRP A 137      33.490  29.730  27.500  1.00  0.00           H  \nATOM   2178 HB3  TRP A 137      34.070  28.470  26.320  1.00  0.00           H  \nATOM   2179  CG  TRP A 137      34.260  27.890  28.310  1.00  0.00           C  \nATOM   2180 CD1  TRP A 137      34.770  28.030  29.610  1.00  0.00           C  \nATOM   2181 HD1  TRP A 137      35.180  28.930  30.040  1.00  0.00           H  \nATOM   2182 NE1  TRP A 137      34.400  26.930  30.400  1.00  0.00           N  \nATOM   2183 HE1  TRP A 137      34.460  27.040  31.400  1.00  0.00           H  \nATOM   2184 CE2  TRP A 137      33.910  25.920  29.620  1.00  0.00           C  \nATOM   2185 CZ2  TRP A 137      33.520  24.620  29.940  1.00  0.00           C  \nATOM   2186 HZ2  TRP A 137      33.620  24.320  30.970  1.00  0.00           H  \nATOM   2187 CH2  TRP A 137      33.140  23.800  28.870  1.00  0.00           C  \nATOM   2188 HH2  TRP A 137      32.800  22.780  28.980  1.00  0.00           H  \nATOM   2189 CZ3  TRP A 137      33.110  24.320  27.540  1.00  0.00           C  \nATOM   2190 HZ3  TRP A 137      32.910  23.630  26.740  1.00  0.00           H  \nATOM   2191 CE3  TRP A 137      33.470  25.590  27.310  1.00  0.00           C  \nATOM   2192 HE3  TRP A 137      33.610  26.040  26.340  1.00  0.00           H  \nATOM   2193 CD2  TRP A 137      33.780  26.480  28.290  1.00  0.00           C  \nATOM   2194  C   TRP A 137      36.840  28.680  27.120  1.00  0.00           C  \nATOM   2195  O   TRP A 137      37.640  28.580  28.090  1.00  0.00           O  \nATOM   2196  N   TYR A 138      37.040  27.940  26.060  1.00  0.00           N  \nATOM   2197  H   TYR A 138      36.440  28.100  25.260  1.00  0.00           H  \nATOM   2198  CA  TYR A 138      38.090  26.970  25.830  1.00  0.00           C  \nATOM   2199  HA  TYR A 138      38.030  26.170  26.560  1.00  0.00           H  \nATOM   2200  CB  TYR A 138      37.840  26.330  24.430  1.00  0.00           C  \nATOM   2201 HB2  TYR A 138      36.800  26.020  24.410  1.00  0.00           H  \nATOM   2202 HB3  TYR A 138      38.130  27.020  23.640  1.00  0.00           H  \nATOM   2203  CG  TYR A 138      38.740  25.090  24.180  1.00  0.00           C  \nATOM   2204 CD1  TYR A 138      38.460  24.010  25.120  1.00  0.00           C  \nATOM   2205 HD1  TYR A 138      37.740  24.130  25.910  1.00  0.00           H  \nATOM   2206 CE1  TYR A 138      39.220  22.800  24.980  1.00  0.00           C  \nATOM   2207 HE1  TYR A 138      38.810  21.910  25.440  1.00  0.00           H  \nATOM   2208  CZ  TYR A 138      40.120  22.660  23.900  1.00  0.00           C  \nATOM   2209  OH  TYR A 138      40.540  21.470  23.470  1.00  0.00           O  \nATOM   2210  HH  TYR A 138      41.060  21.600  22.680  1.00  0.00           H  \nATOM   2211 CE2  TYR A 138      40.500  23.840  23.220  1.00  0.00           C  \nATOM   2212 HE2  TYR A 138      41.190  23.730  22.390  1.00  0.00           H  \nATOM   2213 CD2  TYR A 138      39.820  25.030  23.330  1.00  0.00           C  \nATOM   2214 HD2  TYR A 138      40.060  25.890  22.730  1.00  0.00           H  \nATOM   2215  C   TYR A 138      39.500  27.560  26.010  1.00  0.00           C  \nATOM   2216  O   TYR A 138      40.420  26.830  26.380  1.00  0.00           O  \nATOM   2217  N   ASN A 139      39.680  28.800  25.650  1.00  0.00           N  \nATOM   2218  H   ASN A 139      38.850  29.220  25.270  1.00  0.00           H  \nATOM   2219  CA  ASN A 139      41.000  29.520  25.670  1.00  0.00           C  \nATOM   2220  HA  ASN A 139      41.830  28.810  25.600  1.00  0.00           H  \nATOM   2221  CB  ASN A 139      41.060  30.540  24.510  1.00  0.00           C  \nATOM   2222 HB2  ASN A 139      40.240  31.250  24.610  1.00  0.00           H  \nATOM   2223 HB3  ASN A 139      42.030  31.030  24.500  1.00  0.00           H  \nATOM   2224  CG  ASN A 139      40.890  29.840  23.190  1.00  0.00           C  \nATOM   2225 OD1  ASN A 139      39.780  29.870  22.640  1.00  0.00           O  \nATOM   2226 ND2  ASN A 139      41.850  29.040  22.710  1.00  0.00           N  \nATOM   2227 HD21 ASN A 139      41.610  28.580  21.840  1.00  0.00           H  \nATOM   2228 HD22 ASN A 139      42.690  28.760  23.210  1.00  0.00           H  \nATOM   2229  C   ASN A 139      41.160  30.300  27.050  1.00  0.00           C  \nATOM   2230  O   ASN A 139      42.220  30.580  27.590  1.00  0.00           O  \nATOM   2231  N   GLN A 140      39.990  30.640  27.640  1.00  0.00           N  \nATOM   2232  H   GLN A 140      39.090  30.490  27.220  1.00  0.00           H  \nATOM   2233  CA  GLN A 140      39.940  31.370  28.890  1.00  0.00           C  \nATOM   2234  HA  GLN A 140      40.570  32.270  28.890  1.00  0.00           H  \nATOM   2235  CB  GLN A 140      38.520  31.880  29.120  1.00  0.00           C  \nATOM   2236 HB2  GLN A 140      37.820  31.090  28.850  1.00  0.00           H  \nATOM   2237 HB3  GLN A 140      38.410  32.070  30.190  1.00  0.00           H  \nATOM   2238  CG  GLN A 140      38.090  33.070  28.300  1.00  0.00           C  \nATOM   2239 HG2  GLN A 140      38.530  32.980  27.310  1.00  0.00           H  \nATOM   2240 HG3  GLN A 140      37.010  33.190  28.280  1.00  0.00           H  \nATOM   2241  CD  GLN A 140      38.730  34.350  28.860  1.00  0.00           C  \nATOM   2242 OE1  GLN A 140      39.870  34.760  28.580  1.00  0.00           O  \nATOM   2243 NE2  GLN A 140      37.950  35.060  29.700  1.00  0.00           N  \nATOM   2244 HE21 GLN A 140      37.140  34.660  30.170  1.00  0.00           H  \nATOM   2245 HE22 GLN A 140      38.520  35.700  30.220  1.00  0.00           H  \nATOM   2246  C   GLN A 140      40.270  30.540  30.140  1.00  0.00           C  \nATOM   2247  O   GLN A 140      40.970  31.050  31.010  1.00  0.00           O  \nATOM   2248  N   THR A 141      39.930  29.300  30.140  1.00  0.00           N  \nATOM   2249  H   THR A 141      39.310  28.970  29.420  1.00  0.00           H  \nATOM   2250  CA  THR A 141      40.230  28.290  31.180  1.00  0.00           C  \nATOM   2251  HA  THR A 141      41.130  28.660  31.680  1.00  0.00           H  \nATOM   2252  CB  THR A 141      39.160  28.280  32.260  1.00  0.00           C  \nATOM   2253  HB  THR A 141      39.480  27.410  32.850  1.00  0.00           H  \nATOM   2254 CG2  THR A 141      39.060  29.570  33.040  1.00  0.00           C  \nATOM   2255 HG21 THR A 141      38.580  30.320  32.410  1.00  0.00           H  \nATOM   2256 HG22 THR A 141      38.370  29.240  33.830  1.00  0.00           H  \nATOM   2257 HG23 THR A 141      40.020  29.950  33.400  1.00  0.00           H  \nATOM   2258 OG1  THR A 141      37.890  28.020  31.760  1.00  0.00           O  \nATOM   2259 HG1  THR A 141      38.090  27.760  30.860  1.00  0.00           H  \nATOM   2260  C   THR A 141      40.540  26.880  30.640  1.00  0.00           C  \nATOM   2261  O   THR A 141      39.710  25.980  30.690  1.00  0.00           O  \nATOM   2262  N   PRO A 142      41.700  26.720  29.980  1.00  0.00           N  \nATOM   2263  CD  PRO A 142      42.690  27.710  29.740  1.00  0.00           C  \nATOM   2264 HD2  PRO A 142      43.480  27.760  30.490  1.00  0.00           H  \nATOM   2265 HD3  PRO A 142      42.320  28.740  29.810  1.00  0.00           H  \nATOM   2266  CG  PRO A 142      43.250  27.400  28.350  1.00  0.00           C  \nATOM   2267 HG2  PRO A 142      44.280  27.740  28.240  1.00  0.00           H  \nATOM   2268 HG3  PRO A 142      42.700  27.880  27.540  1.00  0.00           H  \nATOM   2269  CB  PRO A 142      43.120  25.940  28.140  1.00  0.00           C  \nATOM   2270 HB2  PRO A 142      43.940  25.430  28.650  1.00  0.00           H  \nATOM   2271 HB3  PRO A 142      42.990  25.630  27.100  1.00  0.00           H  \nATOM   2272  CA  PRO A 142      41.850  25.690  28.960  1.00  0.00           C  \nATOM   2273  HA  PRO A 142      41.010  25.830  28.270  1.00  0.00           H  \nATOM   2274  C   PRO A 142      41.880  24.190  29.460  1.00  0.00           C  \nATOM   2275  O   PRO A 142      41.220  23.340  28.850  1.00  0.00           O  \nATOM   2276  N   ASN A 143      42.420  23.900  30.710  1.00  0.00           N  \nATOM   2277  H   ASN A 143      42.700  24.690  31.270  1.00  0.00           H  \nATOM   2278  CA  ASN A 143      42.290  22.590  31.410  1.00  0.00           C  \nATOM   2279  HA  ASN A 143      42.490  21.830  30.660  1.00  0.00           H  \nATOM   2280  CB  ASN A 143      43.310  22.450  32.500  1.00  0.00           C  \nATOM   2281 HB2  ASN A 143      43.090  23.200  33.260  1.00  0.00           H  \nATOM   2282 HB3  ASN A 143      43.130  21.450  32.920  1.00  0.00           H  \nATOM   2283  CG  ASN A 143      44.770  22.490  32.090  1.00  0.00           C  \nATOM   2284 OD1  ASN A 143      45.190  21.630  31.300  1.00  0.00           O  \nATOM   2285 ND2  ASN A 143      45.560  23.360  32.620  1.00  0.00           N  \nATOM   2286 HD21 ASN A 143      46.550  23.390  32.430  1.00  0.00           H  \nATOM   2287 HD22 ASN A 143      45.170  24.190  33.060  1.00  0.00           H  \nATOM   2288  C   ASN A 143      40.900  22.250  32.020  1.00  0.00           C  \nATOM   2289  O   ASN A 143      40.470  21.120  31.760  1.00  0.00           O  \nATOM   2290  N   ARG A 144      40.200  23.160  32.670  1.00  0.00           N  \nATOM   2291  H   ARG A 144      40.620  24.080  32.700  1.00  0.00           H  \nATOM   2292  CA  ARG A 144      38.780  23.060  32.980  1.00  0.00           C  \nATOM   2293  HA  ARG A 144      38.700  22.130  33.530  1.00  0.00           H  \nATOM   2294  CB  ARG A 144      38.300  24.290  33.770  1.00  0.00           C  \nATOM   2295 HB2  ARG A 144      38.850  24.440  34.700  1.00  0.00           H  \nATOM   2296 HB3  ARG A 144      38.340  25.210  33.200  1.00  0.00           H  \nATOM   2297  CG  ARG A 144      36.810  24.280  34.200  1.00  0.00           C  \nATOM   2298 HG2  ARG A 144      36.090  24.090  33.400  1.00  0.00           H  \nATOM   2299 HG3  ARG A 144      36.530  23.560  34.980  1.00  0.00           H  \nATOM   2300  CD  ARG A 144      36.510  25.650  34.760  1.00  0.00           C  \nATOM   2301 HD2  ARG A 144      37.240  26.050  35.470  1.00  0.00           H  \nATOM   2302 HD3  ARG A 144      36.490  26.350  33.920  1.00  0.00           H  \nATOM   2303  NE  ARG A 144      35.190  25.600  35.480  1.00  0.00           N  \nATOM   2304  HE  ARG A 144      34.440  25.030  35.110  1.00  0.00           H  \nATOM   2305  CZ  ARG A 144      34.810  26.350  36.400  1.00  0.00           C  \nATOM   2306 NH1  ARG A 144      35.560  27.410  36.720  1.00  0.00           N  \nATOM   2307 HH11 ARG A 144      36.480  27.480  36.310  1.00  0.00           H  \nATOM   2308 HH12 ARG A 144      35.260  27.950  37.510  1.00  0.00           H  \nATOM   2309 NH2  ARG A 144      33.730  26.070  37.060  1.00  0.00           N1+\nATOM   2310 HH21 ARG A 144      33.010  25.600  36.530  1.00  0.00           H  \nATOM   2311 HH22 ARG A 144      33.500  26.760  37.760  1.00  0.00           H  \nATOM   2312  C   ARG A 144      37.880  22.840  31.770  1.00  0.00           C  \nATOM   2313  O   ARG A 144      37.040  21.930  31.670  1.00  0.00           O  \nATOM   2314  N   ALA A 145      38.070  23.650  30.750  1.00  0.00           N  \nATOM   2315  H   ALA A 145      38.900  24.210  30.770  1.00  0.00           H  \nATOM   2316  CA  ALA A 145      37.190  23.550  29.550  1.00  0.00           C  \nATOM   2317  HA  ALA A 145      36.180  23.590  29.970  1.00  0.00           H  \nATOM   2318  CB  ALA A 145      37.490  24.630  28.580  1.00  0.00           C  \nATOM   2319 HB1  ALA A 145      36.800  24.530  27.750  1.00  0.00           H  \nATOM   2320 HB2  ALA A 145      37.320  25.640  28.950  1.00  0.00           H  \nATOM   2321 HB3  ALA A 145      38.540  24.600  28.320  1.00  0.00           H  \nATOM   2322  C   ALA A 145      37.330  22.080  28.930  1.00  0.00           C  \nATOM   2323  O   ALA A 145      36.360  21.500  28.510  1.00  0.00           O  \nATOM   2324  N   LYS A 146      38.570  21.540  28.880  1.00  0.00           N  \nATOM   2325  H   LYS A 146      39.350  22.150  29.060  1.00  0.00           H  \nATOM   2326  CA  LYS A 146      38.820  20.180  28.390  1.00  0.00           C  \nATOM   2327  HA  LYS A 146      38.430  19.930  27.400  1.00  0.00           H  \nATOM   2328  CB  LYS A 146      40.350  19.970  28.370  1.00  0.00           C  \nATOM   2329 HB2  LYS A 146      40.820  20.340  29.280  1.00  0.00           H  \nATOM   2330 HB3  LYS A 146      40.470  18.900  28.200  1.00  0.00           H  \nATOM   2331  CG  LYS A 146      40.870  20.750  27.220  1.00  0.00           C  \nATOM   2332 HG2  LYS A 146      40.470  20.230  26.340  1.00  0.00           H  \nATOM   2333 HG3  LYS A 146      40.430  21.740  27.240  1.00  0.00           H  \nATOM   2334  CD  LYS A 146      42.440  20.820  27.190  1.00  0.00           C  \nATOM   2335 HD2  LYS A 146      42.870  21.260  28.090  1.00  0.00           H  \nATOM   2336 HD3  LYS A 146      42.870  19.830  27.120  1.00  0.00           H  \nATOM   2337  CE  LYS A 146      42.840  21.500  25.970  1.00  0.00           C  \nATOM   2338 HE2  LYS A 146      42.600  20.850  25.130  1.00  0.00           H  \nATOM   2339 HE3  LYS A 146      42.230  22.400  25.850  1.00  0.00           H  \nATOM   2340  NZ  LYS A 146      44.280  21.800  25.990  1.00  0.00           N1+\nATOM   2341 HZ1  LYS A 146      44.840  21.000  25.740  1.00  0.00           H  \nATOM   2342 HZ2  LYS A 146      44.470  22.440  25.230  1.00  0.00           H  \nATOM   2343 HZ3  LYS A 146      44.580  22.080  26.910  1.00  0.00           H  \nATOM   2344  C   LYS A 146      38.180  19.130  29.280  1.00  0.00           C  \nATOM   2345  O   LYS A 146      37.470  18.280  28.790  1.00  0.00           O  \nATOM   2346  N   ARG A 147      38.460  19.110  30.590  1.00  0.00           N  \nATOM   2347  H   ARG A 147      39.140  19.810  30.860  1.00  0.00           H  \nATOM   2348  CA  ARG A 147      37.840  18.250  31.640  1.00  0.00           C  \nATOM   2349  HA  ARG A 147      38.110  17.210  31.420  1.00  0.00           H  \nATOM   2350  CB  ARG A 147      38.440  18.570  33.040  1.00  0.00           C  \nATOM   2351 HB2  ARG A 147      38.250  19.630  33.230  1.00  0.00           H  \nATOM   2352 HB3  ARG A 147      37.860  17.980  33.760  1.00  0.00           H  \nATOM   2353  CG  ARG A 147      39.950  18.240  33.290  1.00  0.00           C  \nATOM   2354 HG2  ARG A 147      40.040  17.170  33.090  1.00  0.00           H  \nATOM   2355 HG3  ARG A 147      40.630  18.930  32.790  1.00  0.00           H  \nATOM   2356  CD  ARG A 147      40.180  18.460  34.800  1.00  0.00           C  \nATOM   2357 HD2  ARG A 147      39.460  17.850  35.350  1.00  0.00           H  \nATOM   2358 HD3  ARG A 147      41.120  17.980  35.070  1.00  0.00           H  \nATOM   2359  NE  ARG A 147      40.030  19.870  35.300  1.00  0.00           N  \nATOM   2360  HE  ARG A 147      39.050  20.110  35.410  1.00  0.00           H  \nATOM   2361  CZ  ARG A 147      40.950  20.670  35.770  1.00  0.00           C  \nATOM   2362 NH1  ARG A 147      42.200  20.500  35.520  1.00  0.00           N  \nATOM   2363 HH11 ARG A 147      42.520  19.800  34.870  1.00  0.00           H  \nATOM   2364 HH12 ARG A 147      42.910  21.170  35.770  1.00  0.00           H  \nATOM   2365 NH2  ARG A 147      40.600  21.750  36.350  1.00  0.00           N1+\nATOM   2366 HH21 ARG A 147      39.650  21.810  36.680  1.00  0.00           H  \nATOM   2367 HH22 ARG A 147      41.360  22.390  36.520  1.00  0.00           H  \nATOM   2368  C   ARG A 147      36.300  18.280  31.750  1.00  0.00           C  \nATOM   2369  O   ARG A 147      35.680  17.170  31.670  1.00  0.00           O  \nATOM   2370  N   VAL A 148      35.660  19.470  31.660  1.00  0.00           N  \nATOM   2371  H   VAL A 148      36.190  20.330  31.670  1.00  0.00           H  \nATOM   2372  CA  VAL A 148      34.220  19.610  31.400  1.00  0.00           C  \nATOM   2373  HA  VAL A 148      33.620  19.190  32.220  1.00  0.00           H  \nATOM   2374  CB  VAL A 148      33.900  21.100  31.530  1.00  0.00           C  \nATOM   2375  HB  VAL A 148      34.440  21.770  30.850  1.00  0.00           H  \nATOM   2376 CG1  VAL A 148      32.360  21.330  31.380  1.00  0.00           C  \nATOM   2377 HG11 VAL A 148      32.060  22.350  31.620  1.00  0.00           H  \nATOM   2378 HG12 VAL A 148      32.000  21.050  30.390  1.00  0.00           H  \nATOM   2379 HG13 VAL A 148      31.930  20.710  32.160  1.00  0.00           H  \nATOM   2380 CG2  VAL A 148      34.190  21.550  32.950  1.00  0.00           C  \nATOM   2381 HG21 VAL A 148      33.680  20.830  33.580  1.00  0.00           H  \nATOM   2382 HG22 VAL A 148      35.250  21.410  33.180  1.00  0.00           H  \nATOM   2383 HG23 VAL A 148      33.780  22.550  33.110  1.00  0.00           H  \nATOM   2384  C   VAL A 148      33.740  18.980  30.090  1.00  0.00           C  \nATOM   2385  O   VAL A 148      32.880  18.160  30.140  1.00  0.00           O  \nATOM   2386  N   ILE A 149      34.310  19.300  28.880  1.00  0.00           N  \nATOM   2387  H   ILE A 149      35.160  19.840  28.950  1.00  0.00           H  \nATOM   2388  CA  ILE A 149      34.020  18.670  27.600  1.00  0.00           C  \nATOM   2389  HA  ILE A 149      33.000  18.810  27.240  1.00  0.00           H  \nATOM   2390  CB  ILE A 149      34.940  19.390  26.550  1.00  0.00           C  \nATOM   2391  HB  ILE A 149      35.980  19.380  26.870  1.00  0.00           H  \nATOM   2392 CG2  ILE A 149      34.950  18.580  25.200  1.00  0.00           C  \nATOM   2393 HG21 ILE A 149      35.320  17.560  25.320  1.00  0.00           H  \nATOM   2394 HG22 ILE A 149      33.930  18.520  24.810  1.00  0.00           H  \nATOM   2395 HG23 ILE A 149      35.630  19.130  24.560  1.00  0.00           H  \nATOM   2396 CG1  ILE A 149      34.480  20.870  26.320  1.00  0.00           C  \nATOM   2397 HG12 ILE A 149      33.450  20.860  25.980  1.00  0.00           H  \nATOM   2398 HG13 ILE A 149      34.470  21.350  27.290  1.00  0.00           H  \nATOM   2399 CD1  ILE A 149      35.360  21.790  25.480  1.00  0.00           C  \nATOM   2400 HD11 ILE A 149      36.390  21.490  25.680  1.00  0.00           H  \nATOM   2401 HD12 ILE A 149      35.260  21.660  24.400  1.00  0.00           H  \nATOM   2402 HD13 ILE A 149      35.170  22.850  25.630  1.00  0.00           H  \nATOM   2403  C   ILE A 149      34.320  17.190  27.630  1.00  0.00           C  \nATOM   2404  O   ILE A 149      33.570  16.350  27.080  1.00  0.00           O  \nATOM   2405  N   THR A 150      35.420  16.710  28.270  1.00  0.00           N  \nATOM   2406  H   THR A 150      36.060  17.370  28.690  1.00  0.00           H  \nATOM   2407  CA  THR A 150      35.710  15.290  28.360  1.00  0.00           C  \nATOM   2408  HA  THR A 150      35.670  14.710  27.450  1.00  0.00           H  \nATOM   2409  CB  THR A 150      37.090  15.150  29.050  1.00  0.00           C  \nATOM   2410  HB  THR A 150      37.020  15.700  29.990  1.00  0.00           H  \nATOM   2411 CG2  THR A 150      37.460  13.680  29.230  1.00  0.00           C  \nATOM   2412 HG21 THR A 150      37.520  13.210  28.240  1.00  0.00           H  \nATOM   2413 HG22 THR A 150      38.440  13.580  29.710  1.00  0.00           H  \nATOM   2414 HG23 THR A 150      36.820  13.180  29.940  1.00  0.00           H  \nATOM   2415 OG1  THR A 150      38.080  15.570  28.160  1.00  0.00           O  \nATOM   2416 HG1  THR A 150      37.950  16.520  28.090  1.00  0.00           H  \nATOM   2417  C   THR A 150      34.600  14.520  29.140  1.00  0.00           C  \nATOM   2418  O   THR A 150      34.260  13.390  28.800  1.00  0.00           O  \nATOM   2419  N   THR A 151      34.110  15.120  30.250  1.00  0.00           N  \nATOM   2420  H   THR A 151      34.480  16.030  30.490  1.00  0.00           H  \nATOM   2421  CA  THR A 151      32.960  14.570  30.970  1.00  0.00           C  \nATOM   2422  HA  THR A 151      33.140  13.590  31.420  1.00  0.00           H  \nATOM   2423  CB  THR A 151      32.670  15.520  32.110  1.00  0.00           C  \nATOM   2424  HB  THR A 151      32.240  16.430  31.690  1.00  0.00           H  \nATOM   2425 CG2  THR A 151      31.720  14.830  33.070  1.00  0.00           C  \nATOM   2426 HG21 THR A 151      31.470  15.520  33.870  1.00  0.00           H  \nATOM   2427 HG22 THR A 151      30.760  14.630  32.610  1.00  0.00           H  \nATOM   2428 HG23 THR A 151      32.140  13.870  33.370  1.00  0.00           H  \nATOM   2429 OG1  THR A 151      33.680  15.770  33.020  1.00  0.00           O  \nATOM   2430 HG1  THR A 151      34.370  16.130  32.470  1.00  0.00           H  \nATOM   2431  C   THR A 151      31.700  14.450  30.110  1.00  0.00           C  \nATOM   2432  O   THR A 151      31.010  13.460  30.230  1.00  0.00           O  \nATOM   2433  N   PHE A 152      31.400  15.340  29.120  1.00  0.00           N  \nATOM   2434  H   PHE A 152      32.130  16.010  28.950  1.00  0.00           H  \nATOM   2435  CA  PHE A 152      30.230  15.300  28.130  1.00  0.00           C  \nATOM   2436  HA  PHE A 152      29.260  15.090  28.580  1.00  0.00           H  \nATOM   2437  CB  PHE A 152      30.100  16.640  27.340  1.00  0.00           C  \nATOM   2438 HB2  PHE A 152      31.060  16.990  26.960  1.00  0.00           H  \nATOM   2439 HB3  PHE A 152      29.430  16.450  26.490  1.00  0.00           H  \nATOM   2440  CG  PHE A 152      29.450  17.760  28.160  1.00  0.00           C  \nATOM   2441 CD1  PHE A 152      28.120  17.590  28.520  1.00  0.00           C  \nATOM   2442 HD1  PHE A 152      27.620  16.640  28.420  1.00  0.00           H  \nATOM   2443 CE1  PHE A 152      27.430  18.600  29.190  1.00  0.00           C  \nATOM   2444 HE1  PHE A 152      26.440  18.450  29.610  1.00  0.00           H  \nATOM   2445  CZ  PHE A 152      28.080  19.840  29.430  1.00  0.00           C  \nATOM   2446  HZ  PHE A 152      27.430  20.630  29.790  1.00  0.00           H  \nATOM   2447 CE2  PHE A 152      29.420  20.040  29.070  1.00  0.00           C  \nATOM   2448 HE2  PHE A 152      29.950  20.970  29.220  1.00  0.00           H  \nATOM   2449 CD2  PHE A 152      30.130  18.930  28.550  1.00  0.00           C  \nATOM   2450 HD2  PHE A 152      31.210  18.980  28.450  1.00  0.00           H  \nATOM   2451  C   PHE A 152      30.640  14.280  27.060  1.00  0.00           C  \nATOM   2452  O   PHE A 152      29.780  13.660  26.400  1.00  0.00           O  \nATOM   2453  N   ARG A 153      31.960  14.030  26.770  1.00  0.00           N  \nATOM   2454  H   ARG A 153      32.640  14.610  27.250  1.00  0.00           H  \nATOM   2455  CA  ARG A 153      32.520  12.980  25.830  1.00  0.00           C  \nATOM   2456  HA  ARG A 153      31.870  12.980  24.950  1.00  0.00           H  \nATOM   2457  CB  ARG A 153      34.050  13.110  25.510  1.00  0.00           C  \nATOM   2458 HB2  ARG A 153      34.160  14.190  25.390  1.00  0.00           H  \nATOM   2459 HB3  ARG A 153      34.630  12.780  26.370  1.00  0.00           H  \nATOM   2460  CG  ARG A 153      34.460  12.390  24.230  1.00  0.00           C  \nATOM   2461 HG2  ARG A 153      35.530  12.430  24.000  1.00  0.00           H  \nATOM   2462 HG3  ARG A 153      34.310  11.330  24.400  1.00  0.00           H  \nATOM   2463  CD  ARG A 153      33.940  12.980  22.880  1.00  0.00           C  \nATOM   2464 HD2  ARG A 153      32.850  12.870  22.850  1.00  0.00           H  \nATOM   2465 HD3  ARG A 153      34.220  14.030  22.850  1.00  0.00           H  \nATOM   2466  NE  ARG A 153      34.430  12.210  21.710  1.00  0.00           N  \nATOM   2467  HE  ARG A 153      33.700  11.600  21.350  1.00  0.00           H  \nATOM   2468  CZ  ARG A 153      35.550  12.290  21.060  1.00  0.00           C  \nATOM   2469 NH1  ARG A 153      36.390  13.230  21.260  1.00  0.00           N  \nATOM   2470 HH11 ARG A 153      36.300  13.690  22.160  1.00  0.00           H  \nATOM   2471 HH12 ARG A 153      37.270  13.150  20.770  1.00  0.00           H  \nATOM   2472 NH2  ARG A 153      35.790  11.470  20.100  1.00  0.00           N1+\nATOM   2473 HH21 ARG A 153      35.310  10.590  20.030  1.00  0.00           H  \nATOM   2474 HH22 ARG A 153      36.610  11.610  19.540  1.00  0.00           H  \nATOM   2475  C   ARG A 153      32.180  11.580  26.380  1.00  0.00           C  \nATOM   2476  O   ARG A 153      31.680  10.730  25.650  1.00  0.00           O  \nATOM   2477  N   THR A 154      32.400  11.360  27.700  1.00  0.00           N  \nATOM   2478  H   THR A 154      32.900  12.090  28.190  1.00  0.00           H  \nATOM   2479  CA  THR A 154      32.420  10.020  28.300  1.00  0.00           C  \nATOM   2480  HA  THR A 154      32.280   9.290  27.510  1.00  0.00           H  \nATOM   2481  CB  THR A 154      33.740   9.560  28.930  1.00  0.00           C  \nATOM   2482  HB  THR A 154      33.480   8.590  29.340  1.00  0.00           H  \nATOM   2483 CG2  THR A 154      34.830   9.400  27.870  1.00  0.00           C  \nATOM   2484 HG21 THR A 154      35.650   8.810  28.270  1.00  0.00           H  \nATOM   2485 HG22 THR A 154      34.360   8.970  26.990  1.00  0.00           H  \nATOM   2486 HG23 THR A 154      35.230  10.400  27.710  1.00  0.00           H  \nATOM   2487 OG1  THR A 154      34.050  10.550  29.900  1.00  0.00           O  \nATOM   2488 HG1  THR A 154      34.480  10.030  30.580  1.00  0.00           H  \nATOM   2489  C   THR A 154      31.280   9.700  29.280  1.00  0.00           C  \nATOM   2490  O   THR A 154      30.830   8.530  29.400  1.00  0.00           O  \nATOM   2491  N   GLY A 155      30.790  10.750  29.940  1.00  0.00           N  \nATOM   2492  H   GLY A 155      31.140  11.680  29.780  1.00  0.00           H  \nATOM   2493  CA  GLY A 155      29.680  10.610  30.840  1.00  0.00           C  \nATOM   2494 HA2  GLY A 155      29.400  11.640  31.070  1.00  0.00           H  \nATOM   2495 HA3  GLY A 155      28.890  10.070  30.310  1.00  0.00           H  \nATOM   2496  C   GLY A 155      30.020   9.870  32.140  1.00  0.00           C  \nATOM   2497  O   GLY A 155      29.150   9.380  32.890  1.00  0.00           O  \nATOM   2498  N   THR A 156      31.330   9.820  32.420  1.00  0.00           N  \nATOM   2499  H   THR A 156      31.890  10.160  31.650  1.00  0.00           H  \nATOM   2500  CA  THR A 156      32.000   9.120  33.460  1.00  0.00           C  \nATOM   2501  HA  THR A 156      31.290   8.710  34.180  1.00  0.00           H  \nATOM   2502  CB  THR A 156      33.030   8.030  32.990  1.00  0.00           C  \nATOM   2503  HB  THR A 156      33.490   7.720  33.930  1.00  0.00           H  \nATOM   2504 CG2  THR A 156      32.400   6.890  32.200  1.00  0.00           C  \nATOM   2505 HG21 THR A 156      31.740   7.150  31.370  1.00  0.00           H  \nATOM   2506 HG22 THR A 156      33.230   6.260  31.850  1.00  0.00           H  \nATOM   2507 HG23 THR A 156      31.810   6.340  32.930  1.00  0.00           H  \nATOM   2508 OG1  THR A 156      34.010   8.490  32.070  1.00  0.00           O  \nATOM   2509 HG1  THR A 156      34.640   7.770  32.100  1.00  0.00           H  \nATOM   2510  C   THR A 156      32.760  10.200  34.260  1.00  0.00           C  \nATOM   2511  O   THR A 156      33.020  11.250  33.660  1.00  0.00           O  \nATOM   2512  N   TRP A 157      33.130   9.880  35.570  1.00  0.00           N  \nATOM   2513  H   TRP A 157      32.870   8.980  35.950  1.00  0.00           H  \nATOM   2514  CA  TRP A 157      33.850  10.810  36.480  1.00  0.00           C  \nATOM   2515  HA  TRP A 157      33.470  11.780  36.160  1.00  0.00           H  \nATOM   2516  CB  TRP A 157      33.490  10.660  37.950  1.00  0.00           C  \nATOM   2517 HB2  TRP A 157      33.580   9.620  38.260  1.00  0.00           H  \nATOM   2518 HB3  TRP A 157      34.210  11.290  38.460  1.00  0.00           H  \nATOM   2519  CG  TRP A 157      32.100  11.240  38.320  1.00  0.00           C  \nATOM   2520 CD1  TRP A 157      31.040  10.560  38.880  1.00  0.00           C  \nATOM   2521 HD1  TRP A 157      31.060   9.540  39.250  1.00  0.00           H  \nATOM   2522 NE1  TRP A 157      30.070  11.560  39.240  1.00  0.00           N  \nATOM   2523 HE1  TRP A 157      29.120  11.450  39.550  1.00  0.00           H  \nATOM   2524 CE2  TRP A 157      30.500  12.860  38.840  1.00  0.00           C  \nATOM   2525 CZ2  TRP A 157      29.940  14.140  38.920  1.00  0.00           C  \nATOM   2526 HZ2  TRP A 157      28.930  14.280  39.280  1.00  0.00           H  \nATOM   2527 CH2  TRP A 157      30.730  15.250  38.600  1.00  0.00           C  \nATOM   2528 HH2  TRP A 157      30.470  16.270  38.870  1.00  0.00           H  \nATOM   2529 CZ3  TRP A 157      32.030  15.070  38.180  1.00  0.00           C  \nATOM   2530 HZ3  TRP A 157      32.750  15.870  38.110  1.00  0.00           H  \nATOM   2531 CE3  TRP A 157      32.570  13.780  37.960  1.00  0.00           C  \nATOM   2532 HE3  TRP A 157      33.560  13.710  37.530  1.00  0.00           H  \nATOM   2533 CD2  TRP A 157      31.830  12.640  38.360  1.00  0.00           C  \nATOM   2534  C   TRP A 157      35.380  10.920  36.160  1.00  0.00           C  \nATOM   2535  O   TRP A 157      36.140  11.560  36.940  1.00  0.00           O  \nATOM   2536  N   ASP A 158      35.870  10.480  34.960  1.00  0.00           N  \nATOM   2537  H   ASP A 158      35.090  10.090  34.440  1.00  0.00           H  \nATOM   2538  CA  ASP A 158      37.290  10.190  34.640  1.00  0.00           C  \nATOM   2539  HA  ASP A 158      37.720   9.600  35.450  1.00  0.00           H  \nATOM   2540  CB  ASP A 158      37.320   9.240  33.480  1.00  0.00           C  \nATOM   2541 HB2  ASP A 158      36.930   9.670  32.560  1.00  0.00           H  \nATOM   2542 HB3  ASP A 158      38.370   9.010  33.320  1.00  0.00           H  \nATOM   2543  CG  ASP A 158      36.540   7.880  33.680  1.00  0.00           C  \nATOM   2544 OD1  ASP A 158      36.200   7.520  34.830  1.00  0.00           O  \nATOM   2545 OD2  ASP A 158      36.380   7.150  32.640  1.00  0.00           O1-\nATOM   2546  C   ASP A 158      38.130  11.460  34.470  1.00  0.00           C  \nATOM   2547  O   ASP A 158      39.250  11.580  35.010  1.00  0.00           O  \nATOM   2548  N   ALA A 159      37.480  12.510  33.950  1.00  0.00           N  \nATOM   2549  H   ALA A 159      36.570  12.410  33.520  1.00  0.00           H  \nATOM   2550  CA  ALA A 159      38.020  13.860  33.870  1.00  0.00           C  \nATOM   2551  HA  ALA A 159      38.860  13.900  33.170  1.00  0.00           H  \nATOM   2552  CB  ALA A 159      36.980  14.760  33.240  1.00  0.00           C  \nATOM   2553 HB1  ALA A 159      37.370  15.770  33.090  1.00  0.00           H  \nATOM   2554 HB2  ALA A 159      36.620  14.460  32.260  1.00  0.00           H  \nATOM   2555 HB3  ALA A 159      36.080  14.750  33.860  1.00  0.00           H  \nATOM   2556  C   ALA A 159      38.540  14.430  35.220  1.00  0.00           C  \nATOM   2557  O   ALA A 159      39.230  15.450  35.220  1.00  0.00           O  \nATOM   2558  N   TYR A 160      38.120  13.830  36.310  1.00  0.00           N  \nATOM   2559  H   TYR A 160      37.540  13.030  36.090  1.00  0.00           H  \nATOM   2560  CA  TYR A 160      38.180  14.410  37.700  1.00  0.00           C  \nATOM   2561  HA  TYR A 160      38.930  15.210  37.710  1.00  0.00           H  \nATOM   2562  CB  TYR A 160      36.830  15.040  38.020  1.00  0.00           C  \nATOM   2563 HB2  TYR A 160      36.050  14.360  37.700  1.00  0.00           H  \nATOM   2564 HB3  TYR A 160      36.760  15.180  39.100  1.00  0.00           H  \nATOM   2565  CG  TYR A 160      36.580  16.330  37.330  1.00  0.00           C  \nATOM   2566 CD1  TYR A 160      35.910  16.440  36.100  1.00  0.00           C  \nATOM   2567 HD1  TYR A 160      35.360  15.650  35.620  1.00  0.00           H  \nATOM   2568 CE1  TYR A 160      35.900  17.730  35.490  1.00  0.00           C  \nATOM   2569 HE1  TYR A 160      35.390  17.780  34.530  1.00  0.00           H  \nATOM   2570  CZ  TYR A 160      36.450  18.900  36.080  1.00  0.00           C  \nATOM   2571  OH  TYR A 160      36.210  20.130  35.550  1.00  0.00           O  \nATOM   2572  HH  TYR A 160      36.310  20.830  36.200  1.00  0.00           H  \nATOM   2573 CE2  TYR A 160      37.080  18.750  37.320  1.00  0.00           C  \nATOM   2574 HE2  TYR A 160      37.520  19.600  37.820  1.00  0.00           H  \nATOM   2575 CD2  TYR A 160      37.160  17.470  37.930  1.00  0.00           C  \nATOM   2576 HD2  TYR A 160      37.740  17.280  38.820  1.00  0.00           H  \nATOM   2577  C   TYR A 160      38.720  13.440  38.770  1.00  0.00           C  \nATOM   2578  O   TYR A 160      39.590  13.870  39.550  1.00  0.00           O  \nATOM   2579  N   LYS A 161      38.240  12.190  38.810  1.00  0.00           N  \nATOM   2580  H   LYS A 161      37.510  11.880  38.180  1.00  0.00           H  \nATOM   2581  CA  LYS A 161      38.960  11.110  39.610  1.00  0.00           C  \nATOM   2582  HA  LYS A 161      39.170  11.380  40.640  1.00  0.00           H  \nATOM   2583  CB  LYS A 161      38.010   9.960  39.650  1.00  0.00           C  \nATOM   2584 HB2  LYS A 161      36.990  10.150  39.300  1.00  0.00           H  \nATOM   2585 HB3  LYS A 161      38.370   9.410  38.780  1.00  0.00           H  \nATOM   2586  CG  LYS A 161      38.160   9.110  40.920  1.00  0.00           C  \nATOM   2587 HG2  LYS A 161      39.230   8.950  41.080  1.00  0.00           H  \nATOM   2588 HG3  LYS A 161      37.620   9.670  41.680  1.00  0.00           H  \nATOM   2589  CD  LYS A 161      37.430   7.750  40.870  1.00  0.00           C  \nATOM   2590 HD2  LYS A 161      37.260   7.420  41.890  1.00  0.00           H  \nATOM   2591 HD3  LYS A 161      36.500   7.880  40.320  1.00  0.00           H  \nATOM   2592  CE  LYS A 161      38.210   6.670  40.120  1.00  0.00           C  \nATOM   2593 HE2  LYS A 161      38.120   6.910  39.060  1.00  0.00           H  \nATOM   2594 HE3  LYS A 161      39.260   6.610  40.400  1.00  0.00           H  \nATOM   2595  NZ  LYS A 161      37.610   5.310  40.350  1.00  0.00           N1+\nATOM   2596 HZ1  LYS A 161      37.390   5.080  41.310  1.00  0.00           H  \nATOM   2597 HZ2  LYS A 161      36.780   5.240  39.780  1.00  0.00           H  \nATOM   2598 HZ3  LYS A 161      38.210   4.570  40.010  1.00  0.00           H  \nATOM   2599  C   LYS A 161      40.380  10.640  39.060  1.00  0.00           C  \nATOM   2600  O   LYS A 161      41.270  10.280  39.830  1.00  0.00           O  \nATOM   2601  N   ASN A 162      40.670  10.730  37.730  1.00  0.00           N  \nATOM   2602  H   ASN A 162      39.900  11.120  37.210  1.00  0.00           H  \nATOM   2603  CA  ASN A 162      41.770  10.100  37.120  1.00  0.00           C  \nATOM   2604  HA  ASN A 162      42.370   9.560  37.850  1.00  0.00           H  \nATOM   2605  CB  ASN A 162      41.320   9.150  36.020  1.00  0.00           C  \nATOM   2606 HB2  ASN A 162      40.530   9.640  35.460  1.00  0.00           H  \nATOM   2607 HB3  ASN A 162      42.210   8.900  35.450  1.00  0.00           H  \nATOM   2608  CG  ASN A 162      40.690   7.870  36.740  1.00  0.00           C  \nATOM   2609 OD1  ASN A 162      39.540   7.890  37.200  1.00  0.00           O  \nATOM   2610 ND2  ASN A 162      41.480   6.830  37.000  1.00  0.00           N  \nATOM   2611 HD21 ASN A 162      41.080   6.200  37.690  1.00  0.00           H  \nATOM   2612 HD22 ASN A 162      42.470   6.870  36.820  1.00  0.00           H  \nATOM   2613  C   ASN A 162      42.670  11.260  36.640  1.00  0.00           C  \nATOM   2614  O   ASN A 162      42.910  11.420  35.410  1.00  0.00           O  \nATOM   2615  N   LEU A 163      43.180  12.160  37.520  1.00  0.00           N  \nATOM   2616  H   LEU A 163      42.970  12.020  38.500  1.00  0.00           H  \nATOM   2617  CA  LEU A 163      44.140  13.330  37.210  1.00  0.00           C  \nATOM   2618  HA  LEU A 163      43.680  13.770  36.320  1.00  0.00           H  \nATOM   2619  CB  LEU A 163      43.960  14.390  38.330  1.00  0.00           C  \nATOM   2620 HB2  LEU A 163      44.310  14.050  39.300  1.00  0.00           H  \nATOM   2621 HB3  LEU A 163      44.620  15.220  38.070  1.00  0.00           H  \nATOM   2622  CG  LEU A 163      42.550  15.060  38.470  1.00  0.00           C  \nATOM   2623  HG  LEU A 163      41.900  14.240  38.780  1.00  0.00           H  \nATOM   2624 CD1  LEU A 163      42.560  16.170  39.480  1.00  0.00           C  \nATOM   2625 HD11 LEU A 163      43.190  15.790  40.280  1.00  0.00           H  \nATOM   2626 HD12 LEU A 163      43.000  17.070  39.050  1.00  0.00           H  \nATOM   2627 HD13 LEU A 163      41.540  16.320  39.850  1.00  0.00           H  \nATOM   2628 CD2  LEU A 163      42.020  15.470  37.090  1.00  0.00           C  \nATOM   2629 HD21 LEU A 163      41.780  14.570  36.520  1.00  0.00           H  \nATOM   2630 HD22 LEU A 163      41.130  16.070  37.270  1.00  0.00           H  \nATOM   2631 HD23 LEU A 163      42.850  15.980  36.600  1.00  0.00           H  \nATOM   2632  C   LEU A 163      45.610  12.910  36.910  1.00  0.00           C  \nATOM   2633  O   LEU A 163      46.230  12.110  37.680  1.00  0.00           O  \nATOM   2634 OXT  LEU A 163      46.200  13.290  35.840  1.00  0.00           O1-\nCONECT    1    2    3    4    5\nCONECT    5    6    7   18\nCONECT    7    8    9   10\nCONECT   10   11   12   13\nCONECT   13   14\nCONECT   14   15   16   17\nCONECT   18   19   19   20\nCONECT   20   21   22\nCONECT   22   23   24   32\nCONECT   24   25   26   27\nCONECT   27   28   28   29\nCONECT   29   30   31\nCONECT   32   33   33   34\nCONECT   34   35   36\nCONECT   36   37   38   51\nCONECT   38   39   40   44\nCONECT   40   41   42   43\nCONECT   44   45   46   47\nCONECT   47   48   49   50\nCONECT   51   52   52   53\nCONECT   53   54   55\nCONECT   55   56   57   71\nCONECT   57   58   59   60\nCONECT   60   61   69   69\nCONECT   61   62   63   63\nCONECT   63   64   65\nCONECT   65   66   67   67\nCONECT   67   68   69\nCONECT   69   70\nCONECT   71   72   72   73\nCONECT   73   74   75\nCONECT   75   76   77   86\nCONECT   77   78   79   80\nCONECT   80   81   82   83\nCONECT   83   84   84   85\nCONECT   86   87   87   88\nCONECT   88   89   90\nCONECT   90   91   92  103\nCONECT   92   93   94   95\nCONECT   95   96   97   98\nCONECT   98   99\nCONECT   99  100  101  102\nCONECT  103  104  104  105\nCONECT  105  106  107\nCONECT  107  108  109  122\nCONECT  109  110  111  112\nCONECT  112  113  114  118\nCONECT  114  115  116  117\nCONECT  118  119  120  121\nCONECT  122  123  123  124\nCONECT  124  125  126\nCONECT  126  127  128  146\nCONECT  128  129  130  131\nCONECT  131  132  133  134\nCONECT  134  135  136  137\nCONECT  137  138  139\nCONECT  139  140  143  143\nCONECT  140  141  142\nCONECT  143  144  145\nCONECT  146  147  147  148\nCONECT  148  149  150\nCONECT  150  151  152  165\nCONECT  152  153  154  158\nCONECT  154  155  156  157\nCONECT  158  159  160  161\nCONECT  161  162  163  164\nCONECT  165  166  166  167\nCONECT  167  168  169\nCONECT  169  170  171  177\nCONECT  171  172  173  174\nCONECT  174  175  175  176\nCONECT  177  178  178  179\nCONECT  179  180  181\nCONECT  181  182  183  192\nCONECT  183  184  185  186\nCONECT  186  187  188  189\nCONECT  189  190  190  191\nCONECT  192  193  193  194\nCONECT  194  195  196\nCONECT  196  197  198  199\nCONECT  199  200  200  201\nCONECT  201  202  203\nCONECT  203  204  205  218\nCONECT  205  206  207  208\nCONECT  208  209  210  214\nCONECT  210  211  212  213\nCONECT  214  215  216  217\nCONECT  218  219  219  220\nCONECT  220  221  222\nCONECT  222  223  224  242\nCONECT  224  225  226  227\nCONECT  227  228  229  230\nCONECT  230  231  232  233\nCONECT  233  234  235\nCONECT  235  236  239  239\nCONECT  236  237  238\nCONECT  239  240  241\nCONECT  242  243  243  244\nCONECT  244  245  246\nCONECT  246  247  248  261\nCONECT  248  249  250  251\nCONECT  251  252  253  257\nCONECT  253  254  255  256\nCONECT  257  258  259  260\nCONECT  261  262  262  263\nCONECT  263  264  265\nCONECT  265  266  267  283\nCONECT  267  268  269  270\nCONECT  270  271  272  273\nCONECT  273  274  275  276\nCONECT  276  277  278  279\nCONECT  279  280  281  282\nCONECT  283  284  284  285\nCONECT  285  286  287\nCONECT  287  288  289  302\nCONECT  289  290  291  295\nCONECT  291  292  293  294\nCONECT  295  296  297  298\nCONECT  298  299  300  301\nCONECT  302  303  303  304\nCONECT  304  305  306\nCONECT  306  307  308  323\nCONECT  308  309  310  311\nCONECT  311  312  321  321\nCONECT  312  313  314  314\nCONECT  314  315  316\nCONECT  316  317  319  319\nCONECT  317  318\nCONECT  319  320  321\nCONECT  321  322\nCONECT  323  324  324  325\nCONECT  325  326  327\nCONECT  327  328  329  345\nCONECT  329  330  331  332\nCONECT  332  333  334  335\nCONECT  335  336  337  338\nCONECT  338  339  340  341\nCONECT  341  342  343  344\nCONECT  345  346  346  347\nCONECT  347  348  349\nCONECT  349  350  351  357\nCONECT  351  352  353  354\nCONECT  354  355  355  356\nCONECT  357  358  358  359\nCONECT  359  360  361\nCONECT  361  362  363  371\nCONECT  363  364  365  369\nCONECT  365  366  367  368\nCONECT  369  370\nCONECT  371  372  372  373\nCONECT  373  374  375\nCONECT  375  376  377  386\nCONECT  377  378  379  380\nCONECT  380  381  382  383\nCONECT  383  384  384  385\nCONECT  386  387  387  388\nCONECT  388  389  390\nCONECT  390  391  392  393\nCONECT  393  394  394  395\nCONECT  395  396  397\nCONECT  397  398  399  414\nCONECT  399  400  401  402\nCONECT  402  403  412  412\nCONECT  403  404  405  405\nCONECT  405  406  407\nCONECT  407  408  410  410\nCONECT  408  409\nCONECT  410  411  412\nCONECT  412  413\nCONECT  414  415  415  416\nCONECT  416  417  418\nCONECT  418  419  420  435\nCONECT  420  421  422  423\nCONECT  423  424  433  433\nCONECT  424  425  426  426\nCONECT  426  427  428\nCONECT  428  429  431  431\nCONECT  429  430\nCONECT  431  432  433\nCONECT  433  434\nCONECT  435  436  436  437\nCONECT  437  438  439\nCONECT  439  440  441  449\nCONECT  441  442  443  447\nCONECT  443  444  445  446\nCONECT  447  448\nCONECT  449  450  450  451\nCONECT  451  452  453\nCONECT  453  454  455  468\nCONECT  455  456  457  461\nCONECT  457  458  459  460\nCONECT  461  462  463  464\nCONECT  464  465  466  467\nCONECT  468  469  469  470\nCONECT  470  471  472\nCONECT  472  473  474  475\nCONECT  475  476  476  477\nCONECT  477  478  479\nCONECT  479  480  481  494\nCONECT  481  482  483  487\nCONECT  483  484  485  486\nCONECT  487  488  489  490\nCONECT  490  491  492  493\nCONECT  494  495  495  496\nCONECT  496  497  498\nCONECT  498  499  500  501\nCONECT  501  502  502  503\nCONECT  503  504  505\nCONECT  505  506  507  518\nCONECT  507  508  509  510\nCONECT  510  511  516  516\nCONECT  511  512  512\nCONECT  512  513  514\nCONECT  514  515  516\nCONECT  516  517\nCONECT  518  519  519  520\nCONECT  520  521  522\nCONECT  522  523  524  537\nCONECT  524  525  526  527\nCONECT  527  528  529  533\nCONECT  529  530  531  532\nCONECT  533  534  535  536\nCONECT  537  538  538  539\nCONECT  539  540  541\nCONECT  541  542  543  556\nCONECT  543  544  545  546\nCONECT  546  547  548  552\nCONECT  548  549  550  551\nCONECT  552  553  554  555\nCONECT  556  557  557  558\nCONECT  558  559  560\nCONECT  560  561  562  570\nCONECT  562  563  564  568\nCONECT  564  565  566  567\nCONECT  568  569\nCONECT  570  571  571  572\nCONECT  572  573  574\nCONECT  574  575  576  592\nCONECT  576  577  578  579\nCONECT  579  580  581  582\nCONECT  582  583  584  585\nCONECT  585  586  587  588\nCONECT  588  589  590  591\nCONECT  592  593  593  594\nCONECT  594  595  596\nCONECT  596  597  598  603\nCONECT  598  599  600  601\nCONECT  601  602\nCONECT  603  604  604  605\nCONECT  605  606  615\nCONECT  606  607  608  609\nCONECT  609  610  611  612\nCONECT  612  613  614  615\nCONECT  615  616  617\nCONECT  617  618  618  619\nCONECT  619  620  621\nCONECT  621  622  623  628\nCONECT  623  624  625  626\nCONECT  626  627\nCONECT  628  629  629  630\nCONECT  630  631  632\nCONECT  632  633  634  647\nCONECT  634  635  636  637\nCONECT  637  638  639  643\nCONECT  639  640  641  642\nCONECT  643  644  645  646\nCONECT  647  648  648  649\nCONECT  649  650  651\nCONECT  651  652  653  661\nCONECT  653  654  655  656\nCONECT  656  657  657  658\nCONECT  658  659  660\nCONECT  661  662  662  663\nCONECT  663  664  665\nCONECT  665  666  667  671\nCONECT  667  668  669  670\nCONECT  671  672  672  673\nCONECT  673  674  675\nCONECT  675  676  677  681\nCONECT  677  678  679  680\nCONECT  681  682  682  683\nCONECT  683  684  685\nCONECT  685  686  687  703\nCONECT  687  688  689  690\nCONECT  690  691  692  693\nCONECT  693  694  695  696\nCONECT  696  697  698  699\nCONECT  699  700  701  702\nCONECT  703  704  704  705\nCONECT  705  706  707\nCONECT  707  708  709  714\nCONECT  709  710  711  712\nCONECT  712  713\nCONECT  714  715  715  716\nCONECT  716  717  718\nCONECT  718  719  720  729\nCONECT  720  721  722  723\nCONECT  723  724  725  726\nCONECT  726  727  727  728\nCONECT  729  730  730  731\nCONECT  731  732  733\nCONECT  733  734  735  748\nCONECT  735  736  737  738\nCONECT  738  739  740  744\nCONECT  740  741  742  743\nCONECT  744  745  746  747\nCONECT  748  749  749  750\nCONECT  750  751  752\nCONECT  752  753  754  760\nCONECT  754  755  756  757\nCONECT  757  758  758  759\nCONECT  760  761  761  762\nCONECT  762  763  764\nCONECT  764  765  766  782\nCONECT  766  767  768  769\nCONECT  769  770  771  772\nCONECT  772  773  774  775\nCONECT  775  776  777  778\nCONECT  778  779  780  781\nCONECT  782  783  783  784\nCONECT  784  785  786\nCONECT  786  787  788  792\nCONECT  788  789  790  791\nCONECT  792  793  793  794\nCONECT  794  795  796\nCONECT  796  797  798  811\nCONECT  798  799  800  804\nCONECT  800  801  802  803\nCONECT  804  805  806  807\nCONECT  807  808  809  810\nCONECT  811  812  812  813\nCONECT  813  814  815\nCONECT  815  816  817  818\nCONECT  818  819  819  820\nCONECT  820  821  822\nCONECT  822  823  824  842\nCONECT  824  825  826  827\nCONECT  827  828  829  830\nCONECT  830  831  832  833\nCONECT  833  834  835\nCONECT  835  836  839  839\nCONECT  836  837  838\nCONECT  839  840  841\nCONECT  842  843  843  844\nCONECT  844  845  846\nCONECT  846  847  848  856\nCONECT  848  849  850  851\nCONECT  851  852  852  853\nCONECT  853  854  855\nCONECT  856  857  857  858\nCONECT  858  859  860\nCONECT  860  861  862  867\nCONECT  862  863  864  865\nCONECT  865  866\nCONECT  867  868  868  869\nCONECT  869  870  871\nCONECT  871  872  873  881\nCONECT  873  874  875  876\nCONECT  876  877  877  878\nCONECT  878  879  880\nCONECT  881  882  882  883\nCONECT  883  884  885\nCONECT  885  886  887  888\nCONECT  888  889  889  890\nCONECT  890  891  892\nCONECT  892  893  894  904\nCONECT  894  895  896  900\nCONECT  896  897  898  899\nCONECT  900  901  902  903\nCONECT  904  905  905  906\nCONECT  906  907  908\nCONECT  908  909  910  923\nCONECT  910  911  912  916\nCONECT  912  913  914  915\nCONECT  916  917  918  919\nCONECT  919  920  921  922\nCONECT  923  924  924  925\nCONECT  925  926  927\nCONECT  927  928  929  937\nCONECT  929  930  931  935\nCONECT  931  932  933  934\nCONECT  935  936\nCONECT  937  938  938  939\nCONECT  939  940  941\nCONECT  941  942  943  959\nCONECT  943  944  945  946\nCONECT  946  947  948  949\nCONECT  949  950  951  952\nCONECT  952  953  954  955\nCONECT  955  956  957  958\nCONECT  959  960  960  961\nCONECT  961  962  963\nCONECT  963  964  965  971\nCONECT  965  966  967  968\nCONECT  968  969  969  970\nCONECT  971  972  972  973\nCONECT  973  974  975\nCONECT  975  976  977  986\nCONECT  977  978  979  980\nCONECT  980  981  982  983\nCONECT  983  984  984  985\nCONECT  986  987  987  988\nCONECT  988  989  990\nCONECT  990  991  992  996\nCONECT  992  993  994  995\nCONECT  996  997  997  998\nCONECT  998  999 1000\nCONECT 1000 1001 1002 1011\nCONECT 1002 1003 1004 1005\nCONECT 1005 1006 1007 1008\nCONECT 1008 1009 1009 1010\nCONECT 1011 1012 1012 1013\nCONECT 1013 1014 1015\nCONECT 1015 1016 1017 1033\nCONECT 1017 1018 1019 1020\nCONECT 1020 1021 1022 1023\nCONECT 1023 1024 1025 1026\nCONECT 1026 1027 1028 1029\nCONECT 1029 1030 1031 1032\nCONECT 1033 1034 1034 1035\nCONECT 1035 1036 1037\nCONECT 1037 1038 1039 1052\nCONECT 1039 1040 1041 1042\nCONECT 1042 1043 1044 1048\nCONECT 1044 1045 1046 1047\nCONECT 1048 1049 1050 1051\nCONECT 1052 1053 1053 1054\nCONECT 1054 1055 1056\nCONECT 1056 1057 1058 1072\nCONECT 1058 1059 1060 1061\nCONECT 1061 1062 1070 1070\nCONECT 1062 1063 1064 1064\nCONECT 1064 1065 1066\nCONECT 1066 1067 1068 1068\nCONECT 1068 1069 1070\nCONECT 1070 1071\nCONECT 1072 1073 1073 1074\nCONECT 1074 1075 1076\nCONECT 1076 1077 1078 1086\nCONECT 1078 1079 1080 1081\nCONECT 1081 1082 1082 1083\nCONECT 1083 1084 1085\nCONECT 1086 1087 1087 1088\nCONECT 1088 1089 1090\nCONECT 1090 1091 1092 1103\nCONECT 1092 1093 1094 1095\nCONECT 1095 1096 1097 1098\nCONECT 1098 1099 1099 1100\nCONECT 1100 1101 1102\nCONECT 1103 1104 1104 1105\nCONECT 1105 1106 1107\nCONECT 1107 1108 1109 1115\nCONECT 1109 1110 1111 1112\nCONECT 1112 1113 1113 1114\nCONECT 1115 1116 1116 1117\nCONECT 1117 1118 1119\nCONECT 1119 1120 1121 1131\nCONECT 1121 1122 1123 1127\nCONECT 1123 1124 1125 1126\nCONECT 1127 1128 1129 1130\nCONECT 1131 1132 1132 1133\nCONECT 1133 1134 1135\nCONECT 1135 1136 1137 1143\nCONECT 1137 1138 1139 1140\nCONECT 1140 1141 1141 1142\nCONECT 1143 1144 1144 1145\nCONECT 1145 1146 1147\nCONECT 1147 1148 1149 1153\nCONECT 1149 1150 1151 1152\nCONECT 1153 1154 1154 1155\nCONECT 1155 1156 1157\nCONECT 1157 1158 1159 1163\nCONECT 1159 1160 1161 1162\nCONECT 1163 1164 1164 1165\nCONECT 1165 1166 1167\nCONECT 1167 1168 1169 1179\nCONECT 1169 1170 1171 1175\nCONECT 1171 1172 1173 1174\nCONECT 1175 1176 1177 1178\nCONECT 1179 1180 1180 1181\nCONECT 1181 1182 1183\nCONECT 1183 1184 1185 1203\nCONECT 1185 1186 1187 1188\nCONECT 1188 1189 1190 1191\nCONECT 1191 1192 1193 1194\nCONECT 1194 1195 1196\nCONECT 1196 1197 1200 1200\nCONECT 1197 1198 1199\nCONECT 1200 1201 1202\nCONECT 1203 1204 1204 1205\nCONECT 1205 1206 1207\nCONECT 1207 1208 1209 1210\nCONECT 1210 1211 1211 1212\nCONECT 1212 1213 1214\nCONECT 1214 1215 1216 1229\nCONECT 1216 1217 1218 1222\nCONECT 1218 1219 1220 1221\nCONECT 1222 1223 1224 1225\nCONECT 1225 1226 1227 1228\nCONECT 1229 1230 1230 1231\nCONECT 1231 1232 1233\nCONECT 1233 1234 1235 1248\nCONECT 1235 1236 1237 1238\nCONECT 1238 1239 1240 1244\nCONECT 1240 1241 1242 1243\nCONECT 1244 1245 1246 1247\nCONECT 1248 1249 1249 1250\nCONECT 1250 1251 1252\nCONECT 1252 1253 1254 1272\nCONECT 1254 1255 1256 1257\nCONECT 1257 1258 1259 1260\nCONECT 1260 1261 1262 1263\nCONECT 1263 1264 1265\nCONECT 1265 1266 1269 1269\nCONECT 1266 1267 1268\nCONECT 1269 1270 1271\nCONECT 1272 1273 1273 1274\nCONECT 1274 1275 1276\nCONECT 1276 1277 1278 1286\nCONECT 1278 1279 1280 1281\nCONECT 1281 1282 1282 1283\nCONECT 1283 1284 1285\nCONECT 1286 1287 1287 1288\nCONECT 1288 1289 1290\nCONECT 1290 1291 1292 1296\nCONECT 1292 1293 1294 1295\nCONECT 1296 1297 1297 1298\nCONECT 1298 1299 1300\nCONECT 1300 1301 1302 1318\nCONECT 1302 1303 1304 1305\nCONECT 1305 1306 1307 1308\nCONECT 1308 1309 1310 1311\nCONECT 1311 1312 1313 1314\nCONECT 1314 1315 1316 1317\nCONECT 1318 1319 1319 1320\nCONECT 1320 1321 1322\nCONECT 1322 1323 1324 1337\nCONECT 1324 1325 1326 1327\nCONECT 1327 1328 1329 1333\nCONECT 1329 1330 1331 1332\nCONECT 1333 1334 1335 1336\nCONECT 1337 1338 1338 1339\nCONECT 1339 1340 1341\nCONECT 1341 1342 1343 1359\nCONECT 1343 1344 1345 1346\nCONECT 1346 1347 1348 1349\nCONECT 1349 1350 1351 1352\nCONECT 1352 1353 1354 1355\nCONECT 1355 1356 1357 1358\nCONECT 1359 1360 1360 1361\nCONECT 1361 1362 1371\nCONECT 1362 1363 1364 1365\nCONECT 1365 1366 1367 1368\nCONECT 1368 1369 1370 1371\nCONECT 1371 1372 1373\nCONECT 1373 1374 1374 1375\nCONECT 1375 1376 1377\nCONECT 1377 1378 1379 1389\nCONECT 1379 1380 1381 1385\nCONECT 1381 1382 1383 1384\nCONECT 1385 1386 1387 1388\nCONECT 1389 1390 1390 1391\nCONECT 1391 1392 1393\nCONECT 1393 1394 1395 1410\nCONECT 1395 1396 1397 1398\nCONECT 1398 1399 1408 1408\nCONECT 1399 1400 1401 1401\nCONECT 1401 1402 1403\nCONECT 1403 1404 1406 1406\nCONECT 1404 1405\nCONECT 1406 1407 1408\nCONECT 1408 1409\nCONECT 1410 1411 1411 1412\nCONECT 1412 1413 1414\nCONECT 1414 1415 1416 1422\nCONECT 1416 1417 1418 1419\nCONECT 1419 1420 1420 1421\nCONECT 1422 1423 1423 1424\nCONECT 1424 1425 1426\nCONECT 1426 1427 1428 1433\nCONECT 1428 1429 1430 1431\nCONECT 1431 1432\nCONECT 1433 1434 1434 1435\nCONECT 1435 1436 1437\nCONECT 1437 1438 1439 1452\nCONECT 1439 1440 1441 1442\nCONECT 1442 1443 1444 1448\nCONECT 1444 1445 1446 1447\nCONECT 1448 1449 1450 1451\nCONECT 1452 1453 1453 1454\nCONECT 1454 1455 1456\nCONECT 1456 1457 1458 1464\nCONECT 1458 1459 1460 1461\nCONECT 1461 1462 1462 1463\nCONECT 1464 1465 1465 1466\nCONECT 1466 1467 1468\nCONECT 1468 1469 1470 1474\nCONECT 1470 1471 1472 1473\nCONECT 1474 1475 1475 1476\nCONECT 1476 1477 1478\nCONECT 1478 1479 1480 1490\nCONECT 1480 1481 1482 1486\nCONECT 1482 1483 1484 1485\nCONECT 1486 1487 1488 1489\nCONECT 1490 1491 1491 1492\nCONECT 1492 1493 1494\nCONECT 1494 1495 1496 1514\nCONECT 1496 1497 1498 1499\nCONECT 1499 1500 1501 1502\nCONECT 1502 1503 1504 1505\nCONECT 1505 1506 1507\nCONECT 1507 1508 1511 1511\nCONECT 1508 1509 1510\nCONECT 1511 1512 1513\nCONECT 1514 1515 1515 1516\nCONECT 1516 1517 1518\nCONECT 1518 1519 1520 1538\nCONECT 1520 1521 1522 1523\nCONECT 1523 1524 1525 1526\nCONECT 1526 1527 1528 1529\nCONECT 1529 1530 1531\nCONECT 1531 1532 1535 1535\nCONECT 1532 1533 1534\nCONECT 1535 1536 1537\nCONECT 1538 1539 1539 1540\nCONECT 1540 1541 1542\nCONECT 1542 1543 1544 1549\nCONECT 1544 1545 1546 1547\nCONECT 1547 1548\nCONECT 1549 1550 1550 1551\nCONECT 1551 1552 1553\nCONECT 1553 1554 1555 1559\nCONECT 1555 1556 1557 1558\nCONECT 1559 1560 1560 1561\nCONECT 1561 1562 1563\nCONECT 1563 1564 1565 1569\nCONECT 1565 1566 1567 1568\nCONECT 1569 1570 1570 1571\nCONECT 1571 1572 1573\nCONECT 1573 1574 1575 1588\nCONECT 1575 1576 1577 1581\nCONECT 1577 1578 1579 1580\nCONECT 1581 1582 1583 1584\nCONECT 1584 1585 1586 1587\nCONECT 1588 1589 1589 1590\nCONECT 1590 1591 1592\nCONECT 1592 1593 1594 1602\nCONECT 1594 1595 1596 1597\nCONECT 1597 1598 1598 1599\nCONECT 1599 1600 1601\nCONECT 1602 1603 1603 1604\nCONECT 1604 1605 1606\nCONECT 1606 1607 1608 1619\nCONECT 1608 1609 1610 1611\nCONECT 1611 1612 1613 1614\nCONECT 1614 1615\nCONECT 1615 1616 1617 1618\nCONECT 1619 1620 1620 1621\nCONECT 1621 1622 1623\nCONECT 1623 1624 1625 1635\nCONECT 1625 1626 1627 1631\nCONECT 1627 1628 1629 1630\nCONECT 1631 1632 1633 1634\nCONECT 1635 1636 1636 1637\nCONECT 1637 1638 1639\nCONECT 1639 1640 1641 1655\nCONECT 1641 1642 1643 1644\nCONECT 1644 1645 1653 1653\nCONECT 1645 1646 1647 1647\nCONECT 1647 1648 1649\nCONECT 1649 1650 1651 1651\nCONECT 1651 1652 1653\nCONECT 1653 1654\nCONECT 1655 1656 1656 1657\nCONECT 1657 1658 1659\nCONECT 1659 1660 1661 1672\nCONECT 1661 1662 1663 1664\nCONECT 1664 1665 1666 1667\nCONECT 1667 1668 1668 1669\nCONECT 1669 1670 1671\nCONECT 1672 1673 1673 1674\nCONECT 1674 1675 1676\nCONECT 1676 1677 1678 1689\nCONECT 1678 1679 1680 1681\nCONECT 1681 1682 1683 1684\nCONECT 1684 1685\nCONECT 1685 1686 1687 1688\nCONECT 1689 1690 1690 1691\nCONECT 1691 1692 1693\nCONECT 1693 1694 1695 1696\nCONECT 1696 1697 1697 1698\nCONECT 1698 1699 1700\nCONECT 1700 1701 1702 1711\nCONECT 1702 1703 1704 1705\nCONECT 1705 1706 1707 1708\nCONECT 1708 1709 1709 1710\nCONECT 1711 1712 1712 1713\nCONECT 1713 1714 1715\nCONECT 1715 1716 1717 1725\nCONECT 1717 1718 1719 1723\nCONECT 1719 1720 1721 1722\nCONECT 1723 1724\nCONECT 1725 1726 1726 1727\nCONECT 1727 1728 1729\nCONECT 1729 1730 1731 1732\nCONECT 1732 1733 1733 1734\nCONECT 1734 1735 1736\nCONECT 1736 1737 1738 1748\nCONECT 1738 1739 1740 1744\nCONECT 1740 1741 1742 1743\nCONECT 1744 1745 1746 1747\nCONECT 1748 1749 1749 1750\nCONECT 1750 1751 1752\nCONECT 1752 1753 1754 1758\nCONECT 1754 1755 1756 1757\nCONECT 1758 1759 1759 1760\nCONECT 1760 1761 1762\nCONECT 1762 1763 1764 1765\nCONECT 1765 1766 1766 1767\nCONECT 1767 1768 1769\nCONECT 1769 1770 1771 1785\nCONECT 1771 1772 1773 1774\nCONECT 1774 1775 1783 1783\nCONECT 1775 1776 1777 1777\nCONECT 1777 1778 1779\nCONECT 1779 1780 1781 1781\nCONECT 1781 1782 1783\nCONECT 1783 1784\nCONECT 1785 1786 1786 1787\nCONECT 1787 1788 1789\nCONECT 1789 1790 1791 1799\nCONECT 1791 1792 1793 1797\nCONECT 1793 1794 1795 1796\nCONECT 1797 1798\nCONECT 1799 1800 1800 1801\nCONECT 1801 1802 1803\nCONECT 1803 1804 1805 1813\nCONECT 1805 1806 1807 1808\nCONECT 1808 1809 1809 1810\nCONECT 1810 1811 1812\nCONECT 1813 1814 1814 1815\nCONECT 1815 1816 1817\nCONECT 1817 1818 1819 1824\nCONECT 1819 1820 1821 1822\nCONECT 1822 1823\nCONECT 1824 1825 1825 1826\nCONECT 1826 1827 1828\nCONECT 1828 1829 1830 1843\nCONECT 1830 1831 1832 1833\nCONECT 1833 1834 1835 1839\nCONECT 1835 1836 1837 1838\nCONECT 1839 1840 1841 1842\nCONECT 1843 1844 1844 1845\nCONECT 1845 1846 1847\nCONECT 1847 1848 1849 1867\nCONECT 1849 1850 1851 1852\nCONECT 1852 1853 1854 1855\nCONECT 1855 1856 1857 1858\nCONECT 1858 1859 1860\nCONECT 1860 1861 1864 1864\nCONECT 1861 1862 1863\nCONECT 1864 1865 1866\nCONECT 1867 1868 1868 1869\nCONECT 1869 1870 1871\nCONECT 1871 1872 1873 1884\nCONECT 1873 1874 1875 1876\nCONECT 1876 1877 1878 1879\nCONECT 1879 1880\nCONECT 1880 1881 1882 1883\nCONECT 1884 1885 1885 1886\nCONECT 1886 1887 1888\nCONECT 1888 1889 1890 1903\nCONECT 1890 1891 1892 1893\nCONECT 1893 1894 1895 1899\nCONECT 1895 1896 1897 1898\nCONECT 1899 1900 1901 1902\nCONECT 1903 1904 1904 1905\nCONECT 1905 1906 1907\nCONECT 1907 1908 1909 1920\nCONECT 1909 1910 1911 1912\nCONECT 1912 1913 1914 1915\nCONECT 1915 1916 1916 1917\nCONECT 1917 1918 1919\nCONECT 1920 1921 1921 1922\nCONECT 1922 1923 1924\nCONECT 1924 1925 1926 1937\nCONECT 1926 1927 1928 1929\nCONECT 1929 1930 1931 1932\nCONECT 1932 1933 1933 1934\nCONECT 1934 1935 1936\nCONECT 1937 1938 1938 1939\nCONECT 1939 1940 1941\nCONECT 1941 1942 1943 1959\nCONECT 1943 1944 1945 1946\nCONECT 1946 1947 1948 1949\nCONECT 1949 1950 1951 1952\nCONECT 1952 1953 1954 1955\nCONECT 1955 1956 1957 1958\nCONECT 1959 1960 1960 1961\nCONECT 1961 1962 1963\nCONECT 1963 1964 1965 1983\nCONECT 1965 1966 1967 1968\nCONECT 1968 1969 1970 1971\nCONECT 1971 1972 1973 1974\nCONECT 1974 1975 1976\nCONECT 1976 1977 1980 1980\nCONECT 1977 1978 1979\nCONECT 1980 1981 1982\nCONECT 1983 1984 1984 1985\nCONECT 1985 1986 1987\nCONECT 1987 1988 1989 2007\nCONECT 1989 1990 1991 1992\nCONECT 1992 1993 1993 2006\nCONECT 1993 1994 1995\nCONECT 1995 1996 1997\nCONECT 1997 1998 2006 2006\nCONECT 1998 1999 2000 2000\nCONECT 2000 2001 2002\nCONECT 2002 2003 2004 2004\nCONECT 2004 2005 2006\nCONECT 2007 2008 2008 2009\nCONECT 2009 2010 2011\nCONECT 2011 2012 2013 2019\nCONECT 2013 2014 2015 2016\nCONECT 2016 2017 2017 2018\nCONECT 2019 2020 2020 2021\nCONECT 2021 2022 2023\nCONECT 2023 2024 2025 2034\nCONECT 2025 2026 2027 2028\nCONECT 2028 2029 2030 2031\nCONECT 2031 2032 2032 2033\nCONECT 2034 2035 2035 2036\nCONECT 2036 2037 2038\nCONECT 2038 2039 2040 2044\nCONECT 2040 2041 2042 2043\nCONECT 2044 2045 2045 2046\nCONECT 2046 2047 2048\nCONECT 2048 2049 2050 2054\nCONECT 2050 2051 2052 2053\nCONECT 2054 2055 2055 2056\nCONECT 2056 2057 2058\nCONECT 2058 2059 2060 2070\nCONECT 2060 2061 2062 2066\nCONECT 2062 2063 2064 2065\nCONECT 2066 2067 2068 2069\nCONECT 2070 2071 2071 2072\nCONECT 2072 2073 2074\nCONECT 2074 2075 2076 2084\nCONECT 2076 2077 2078 2079\nCONECT 2079 2080 2080 2081\nCONECT 2081 2082 2083\nCONECT 2084 2085 2085 2086\nCONECT 2086 2087 2088\nCONECT 2088 2089 2090 2103\nCONECT 2090 2091 2092 2093\nCONECT 2093 2094 2095 2099\nCONECT 2095 2096 2097 2098\nCONECT 2099 2100 2101 2102\nCONECT 2103 2104 2104 2105\nCONECT 2105 2106 2107\nCONECT 2107 2108 2109 2113\nCONECT 2109 2110 2111 2112\nCONECT 2113 2114 2114 2115\nCONECT 2115 2116 2117\nCONECT 2117 2118 2119 2135\nCONECT 2119 2120 2121 2122\nCONECT 2122 2123 2124 2125\nCONECT 2125 2126 2127 2128\nCONECT 2128 2129 2130 2131\nCONECT 2131 2132 2133 2134\nCONECT 2135 2136 2136 2137\nCONECT 2137 2138 2139\nCONECT 2139 2140 2141 2146\nCONECT 2141 2142 2143 2144\nCONECT 2144 2145\nCONECT 2146 2147 2147 2148\nCONECT 2148 2149 2150\nCONECT 2150 2151 2152 2170\nCONECT 2152 2153 2154 2155\nCONECT 2155 2156 2157 2158\nCONECT 2158 2159 2160 2161\nCONECT 2161 2162 2163\nCONECT 2163 2164 2167 2167\nCONECT 2164 2165 2166\nCONECT 2167 2168 2169\nCONECT 2170 2171 2171 2172\nCONECT 2172 2173 2174\nCONECT 2174 2175 2176 2194\nCONECT 2176 2177 2178 2179\nCONECT 2179 2180 2180 2193\nCONECT 2180 2181 2182\nCONECT 2182 2183 2184\nCONECT 2184 2185 2193 2193\nCONECT 2185 2186 2187 2187\nCONECT 2187 2188 2189\nCONECT 2189 2190 2191 2191\nCONECT 2191 2192 2193\nCONECT 2194 2195 2195 2196\nCONECT 2196 2197 2198\nCONECT 2198 2199 2200 2215\nCONECT 2200 2201 2202 2203\nCONECT 2203 2204 2213 2213\nCONECT 2204 2205 2206 2206\nCONECT 2206 2207 2208\nCONECT 2208 2209 2211 2211\nCONECT 2209 2210\nCONECT 2211 2212 2213\nCONECT 2213 2214\nCONECT 2215 2216 2216 2217\nCONECT 2217 2218 2219\nCONECT 2219 2220 2221 2229\nCONECT 2221 2222 2223 2224\nCONECT 2224 2225 2225 2226\nCONECT 2226 2227 2228\nCONECT 2229 2230 2230 2231\nCONECT 2231 2232 2233\nCONECT 2233 2234 2235 2246\nCONECT 2235 2236 2237 2238\nCONECT 2238 2239 2240 2241\nCONECT 2241 2242 2242 2243\nCONECT 2243 2244 2245\nCONECT 2246 2247 2247 2248\nCONECT 2248 2249 2250\nCONECT 2250 2251 2252 2260\nCONECT 2252 2253 2254 2258\nCONECT 2254 2255 2256 2257\nCONECT 2258 2259\nCONECT 2260 2261 2261 2262\nCONECT 2262 2263 2272\nCONECT 2263 2264 2265 2266\nCONECT 2266 2267 2268 2269\nCONECT 2269 2270 2271 2272\nCONECT 2272 2273 2274\nCONECT 2274 2275 2275 2276\nCONECT 2276 2277 2278\nCONECT 2278 2279 2280 2288\nCONECT 2280 2281 2282 2283\nCONECT 2283 2284 2284 2285\nCONECT 2285 2286 2287\nCONECT 2288 2289 2289 2290\nCONECT 2290 2291 2292\nCONECT 2292 2293 2294 2312\nCONECT 2294 2295 2296 2297\nCONECT 2297 2298 2299 2300\nCONECT 2300 2301 2302 2303\nCONECT 2303 2304 2305\nCONECT 2305 2306 2309 2309\nCONECT 2306 2307 2308\nCONECT 2309 2310 2311\nCONECT 2312 2313 2313 2314\nCONECT 2314 2315 2316\nCONECT 2316 2317 2318 2322\nCONECT 2318 2319 2320 2321\nCONECT 2322 2323 2323 2324\nCONECT 2324 2325 2326\nCONECT 2326 2327 2328 2344\nCONECT 2328 2329 2330 2331\nCONECT 2331 2332 2333 2334\nCONECT 2334 2335 2336 2337\nCONECT 2337 2338 2339 2340\nCONECT 2340 2341 2342 2343\nCONECT 2344 2345 2345 2346\nCONECT 2346 2347 2348\nCONECT 2348 2349 2350 2368\nCONECT 2350 2351 2352 2353\nCONECT 2353 2354 2355 2356\nCONECT 2356 2357 2358 2359\nCONECT 2359 2360 2361\nCONECT 2361 2362 2365 2365\nCONECT 2362 2363 2364\nCONECT 2365 2366 2367\nCONECT 2368 2369 2369 2370\nCONECT 2370 2371 2372\nCONECT 2372 2373 2374 2384\nCONECT 2374 2375 2376 2380\nCONECT 2376 2377 2378 2379\nCONECT 2380 2381 2382 2383\nCONECT 2384 2385 2385 2386\nCONECT 2386 2387 2388\nCONECT 2388 2389 2390 2403\nCONECT 2390 2391 2392 2396\nCONECT 2392 2393 2394 2395\nCONECT 2396 2397 2398 2399\nCONECT 2399 2400 2401 2402\nCONECT 2403 2404 2404 2405\nCONECT 2405 2406 2407\nCONECT 2407 2408 2409 2417\nCONECT 2409 2410 2411 2415\nCONECT 2411 2412 2413 2414\nCONECT 2415 2416\nCONECT 2417 2418 2418 2419\nCONECT 2419 2420 2421\nCONECT 2421 2422 2423 2431\nCONECT 2423 2424 2425 2429\nCONECT 2425 2426 2427 2428\nCONECT 2429 2430\nCONECT 2431 2432 2432 2433\nCONECT 2433 2434 2435\nCONECT 2435 2436 2437 2451\nCONECT 2437 2438 2439 2440\nCONECT 2440 2441 2449 2449\nCONECT 2441 2442 2443 2443\nCONECT 2443 2444 2445\nCONECT 2445 2446 2447 2447\nCONECT 2447 2448 2449\nCONECT 2449 2450\nCONECT 2451 2452 2452 2453\nCONECT 2453 2454 2455\nCONECT 2455 2456 2457 2475\nCONECT 2457 2458 2459 2460\nCONECT 2460 2461 2462 2463\nCONECT 2463 2464 2465 2466\nCONECT 2466 2467 2468\nCONECT 2468 2469 2472 2472\nCONECT 2469 2470 2471\nCONECT 2472 2473 2474\nCONECT 2475 2476 2476 2477\nCONECT 2477 2478 2479\nCONECT 2479 2480 2481 2489\nCONECT 2481 2482 2483 2487\nCONECT 2483 2484 2485 2486\nCONECT 2487 2488\nCONECT 2489 2490 2490 2491\nCONECT 2491 2492 2493\nCONECT 2493 2494 2495 2496\nCONECT 2496 2497 2497 2498\nCONECT 2498 2499 2500\nCONECT 2500 2501 2502 2510\nCONECT 2502 2503 2504 2508\nCONECT 2504 2505 2506 2507\nCONECT 2508 2509\nCONECT 2510 2511 2511 2512\nCONECT 2512 2513 2514\nCONECT 2514 2515 2516 2534\nCONECT 2516 2517 2518 2519\nCONECT 2519 2520 2520 2533\nCONECT 2520 2521 2522\nCONECT 2522 2523 2524\nCONECT 2524 2525 2533 2533\nCONECT 2525 2526 2527 2527\nCONECT 2527 2528 2529\nCONECT 2529 2530 2531 2531\nCONECT 2531 2532 2533\nCONECT 2534 2535 2535 2536\nCONECT 2536 2537 2538\nCONECT 2538 2539 2540 2546\nCONECT 2540 2541 2542 2543\nCONECT 2543 2544 2544 2545\nCONECT 2546 2547 2547 2548\nCONECT 2548 2549 2550\nCONECT 2550 2551 2552 2556\nCONECT 2552 2553 2554 2555\nCONECT 2556 2557 2557 2558\nCONECT 2558 2559 2560\nCONECT 2560 2561 2562 2577\nCONECT 2562 2563 2564 2565\nCONECT 2565 2566 2575 2575\nCONECT 2566 2567 2568 2568\nCONECT 2568 2569 2570\nCONECT 2570 2571 2573 2573\nCONECT 2571 2572\nCONECT 2573 2574 2575\nCONECT 2575 2576\nCONECT 2577 2578 2578 2579\nCONECT 2579 2580 2581\nCONECT 2581 2582 2583 2599\nCONECT 2583 2584 2585 2586\nCONECT 2586 2587 2588 2589\nCONECT 2589 2590 2591 2592\nCONECT 2592 2593 2594 2595\nCONECT 2595 2596 2597 2598\nCONECT 2599 2600 2600 2601\nCONECT 2601 2602 2603\nCONECT 2603 2604 2605 2613\nCONECT 2605 2606 2607 2608\nCONECT 2608 2609 2609 2610\nCONECT 2610 2611 2612\nCONECT 2613 2614 2614 2615\nCONECT 2615 2616 2617\nCONECT 2617 2618 2619 2632\nCONECT 2619 2620 2621 2622\nCONECT 2622 2623 2624 2628\nCONECT 2624 2625 2626 2627\nCONECT 2628 2629 2630 2631\nCONECT 2632 2633 2633 2634\n",
           "type": "blob"
          }
         ],
         "kwargs": {
          "defaultRepresentation": true,
          "ext": "pdb",
          "name": "<openff.toolkit.utils.viz._OFFTrajectoryNGLView object at 0x13c523710>"
         },
         "methodName": "loadFile",
         "reconstruc_color_scheme": false,
         "target": "Stage",
         "type": "call_method"
        }
       ],
       "_ngl_original_stage_parameters": {},
       "_ngl_repr_dict": {},
       "_ngl_serialize": false,
       "_ngl_version": "",
       "_ngl_view_id": [],
       "_player_dict": {},
       "_scene_position": {},
       "_scene_rotation": {},
       "_synced_model_ids": [],
       "_synced_repr_model_ids": [],
       "_view_count": null,
       "_view_height": "",
       "_view_module": "nglview-js-widgets",
       "_view_module_version": "3.0.8",
       "_view_name": "NGLView",
       "_view_width": "",
       "background": "white",
       "frame": 0,
       "gui_style": null,
       "layout": "IPY_MODEL_8de3c1ee86be42bc8b1cb9898ce3d021",
       "max_frame": 0,
       "n_components": 0,
       "picked": {},
       "tabbable": null,
       "tooltip": null
      }
     },
     "e701ad6b5deb4f9c97f16fc716af1b9a": {
      "model_module": "@jupyter-widgets/base",
      "model_module_version": "2.0.0",
      "model_name": "LayoutModel",
      "state": {
       "_model_module": "@jupyter-widgets/base",
       "_model_module_version": "2.0.0",
       "_model_name": "LayoutModel",
       "_view_count": null,
       "_view_module": "@jupyter-widgets/base",
       "_view_module_version": "2.0.0",
       "_view_name": "LayoutView",
       "align_content": null,
       "align_items": null,
       "align_self": null,
       "border_bottom": null,
       "border_left": null,
       "border_right": null,
       "border_top": null,
       "bottom": null,
       "display": null,
       "flex": null,
       "flex_flow": null,
       "grid_area": null,
       "grid_auto_columns": null,
       "grid_auto_flow": null,
       "grid_auto_rows": null,
       "grid_column": null,
       "grid_gap": null,
       "grid_row": null,
       "grid_template_areas": null,
       "grid_template_columns": null,
       "grid_template_rows": null,
       "height": null,
       "justify_content": null,
       "justify_items": null,
       "left": null,
       "margin": null,
       "max_height": null,
       "max_width": null,
       "min_height": null,
       "min_width": null,
       "object_fit": null,
       "object_position": null,
       "order": null,
       "overflow": null,
       "padding": null,
       "right": null,
       "top": null,
       "visibility": null,
       "width": "34px"
      }
     },
     "e7ab1c1d763545b285abd848b6651f4b": {
      "model_module": "@jupyter-widgets/base",
      "model_module_version": "2.0.0",
      "model_name": "LayoutModel",
      "state": {
       "_model_module": "@jupyter-widgets/base",
       "_model_module_version": "2.0.0",
       "_model_name": "LayoutModel",
       "_view_count": null,
       "_view_module": "@jupyter-widgets/base",
       "_view_module_version": "2.0.0",
       "_view_name": "LayoutView",
       "align_content": null,
       "align_items": null,
       "align_self": null,
       "border_bottom": null,
       "border_left": null,
       "border_right": null,
       "border_top": null,
       "bottom": null,
       "display": null,
       "flex": null,
       "flex_flow": null,
       "grid_area": null,
       "grid_auto_columns": null,
       "grid_auto_flow": null,
       "grid_auto_rows": null,
       "grid_column": null,
       "grid_gap": null,
       "grid_row": null,
       "grid_template_areas": null,
       "grid_template_columns": null,
       "grid_template_rows": null,
       "height": null,
       "justify_content": null,
       "justify_items": null,
       "left": null,
       "margin": null,
       "max_height": null,
       "max_width": null,
       "min_height": null,
       "min_width": null,
       "object_fit": null,
       "object_position": null,
       "order": null,
       "overflow": null,
       "padding": null,
       "right": null,
       "top": null,
       "visibility": null,
       "width": "34px"
      }
     },
     "ed2b32265d1f451ebc17dc9b6c78175e": {
      "model_module": "@jupyter-widgets/controls",
      "model_module_version": "2.0.0",
      "model_name": "LinkModel",
      "state": {
       "_model_module": "@jupyter-widgets/controls",
       "_model_module_version": "2.0.0",
       "_model_name": "LinkModel",
       "_view_count": null,
       "_view_module": "@jupyter-widgets/controls",
       "_view_module_version": "2.0.0",
       "_view_name": null,
       "source": [
        "IPY_MODEL_a93e30d445114aefa3813d1f41180ca4",
        "max"
       ],
       "target": [
        "IPY_MODEL_df2078a900fd4bfeb8d72697fe398798",
        "max_frame"
       ]
      }
     },
     "f1b9056f6bd041858dc42878873d3fe3": {
      "model_module": "@jupyter-widgets/controls",
      "model_module_version": "2.0.0",
      "model_name": "ButtonStyleModel",
      "state": {
       "_model_module": "@jupyter-widgets/controls",
       "_model_module_version": "2.0.0",
       "_model_name": "ButtonStyleModel",
       "_view_count": null,
       "_view_module": "@jupyter-widgets/base",
       "_view_module_version": "2.0.0",
       "_view_name": "StyleView",
       "button_color": null,
       "font_family": null,
       "font_size": null,
       "font_style": null,
       "font_variant": null,
       "font_weight": null,
       "text_color": null,
       "text_decoration": null
      }
     },
     "f6ffc5ebca584ba2b30b0bbed323e7c2": {
      "model_module": "@jupyter-widgets/base",
      "model_module_version": "2.0.0",
      "model_name": "LayoutModel",
      "state": {
       "_model_module": "@jupyter-widgets/base",
       "_model_module_version": "2.0.0",
       "_model_name": "LayoutModel",
       "_view_count": null,
       "_view_module": "@jupyter-widgets/base",
       "_view_module_version": "2.0.0",
       "_view_name": "LayoutView",
       "align_content": null,
       "align_items": null,
       "align_self": null,
       "border_bottom": null,
       "border_left": null,
       "border_right": null,
       "border_top": null,
       "bottom": null,
       "display": null,
       "flex": null,
       "flex_flow": null,
       "grid_area": null,
       "grid_auto_columns": null,
       "grid_auto_flow": null,
       "grid_auto_rows": null,
       "grid_column": null,
       "grid_gap": null,
       "grid_row": null,
       "grid_template_areas": null,
       "grid_template_columns": null,
       "grid_template_rows": null,
       "height": null,
       "justify_content": null,
       "justify_items": null,
       "left": null,
       "margin": null,
       "max_height": null,
       "max_width": null,
       "min_height": null,
       "min_width": null,
       "object_fit": null,
       "object_position": null,
       "order": null,
       "overflow": null,
       "padding": null,
       "right": null,
       "top": null,
       "visibility": null,
       "width": null
      }
     }
    },
    "version_major": 2,
    "version_minor": 0
   }
  }
 },
 "nbformat": 4,
 "nbformat_minor": 5
}
