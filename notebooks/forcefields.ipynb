{
 "cells": [
  {
   "cell_type": "markdown",
   "id": "5b311c85",
   "metadata": {},
   "source": [
    "# SMIRNOFF Force Fields\n",
    "\n",
    "OpenFF's force fields use the The SMIRks Native Open Force Field (SMIRNOFF) [specification](https://openforcefield.github.io/standards/standards/smirnoff/) and are conventionally encoded in `.offxml` files. The spec fully describes the contents of a SMIRNOFF force field, how parameters should be applied, and several other important usage details. You could implement a SMIRNOFF engine in your own code, but conveniently the OpenFF Toolkit already provides this and a handful of utilities. Let's load up OpenFF 2.1.0 (code name \"Sage\") and inspect its contents!"
   ]
  },
  {
   "cell_type": "code",
   "execution_count": 1,
   "id": "6cf275d5-5344-4ad7-9afa-9e481e8b5365",
   "metadata": {
    "execution": {
     "iopub.execute_input": "2023-09-27T09:47:46.126067Z",
     "iopub.status.busy": "2023-09-27T09:47:46.125205Z",
     "iopub.status.idle": "2023-09-27T09:47:48.392843Z",
     "shell.execute_reply": "2023-09-27T09:47:48.392311Z"
    }
   },
   "outputs": [
    {
     "data": {
      "text/plain": [
       "<openff.toolkit.typing.engines.smirnoff.forcefield.ForceField at 0x10d6e6a10>"
      ]
     },
     "execution_count": 1,
     "metadata": {},
     "output_type": "execute_result"
    }
   ],
   "source": [
    "from openff.toolkit import ForceField\n",
    "\n",
    "sage = ForceField(\"openff-2.1.0.offxml\")\n",
    "sage"
   ]
  },
  {
   "cell_type": "markdown",
   "id": "ea7d05ef-7e6e-4f9f-add6-899ed92d549d",
   "metadata": {},
   "source": [
    "If you'd like to see the raw file on disk that's being parsed, [here's the file on GitHub](https://github.com/openforcefield/openff-forcefields/blob/main/openforcefields/offxml/openff-2.1.0.offxml) (or a the path to it on the server):"
   ]
  },
  {
   "cell_type": "code",
   "execution_count": 2,
   "id": "a327b4e6-ee66-4223-9b81-9186d95d27f8",
   "metadata": {
    "execution": {
     "iopub.execute_input": "2023-09-27T09:47:48.395858Z",
     "iopub.status.busy": "2023-09-27T09:47:48.395417Z",
     "iopub.status.idle": "2023-09-27T09:47:48.412267Z",
     "shell.execute_reply": "2023-09-27T09:47:48.411901Z"
    }
   },
   "outputs": [
    {
     "name": "stdout",
     "output_type": "stream",
     "text": [
      "/Users/mattthompson/mambaforge/envs/openff-env/lib/python3.11/site-packages/openforcefields/offxml/openff-2.1.0.offxml\n"
     ]
    }
   ],
   "source": [
    "from force_field_utils import get_force_field_origin\n",
    "\n",
    "print(get_force_field_origin(\"openff-2.1.0.offxml\"))"
   ]
  },
  {
   "cell_type": "markdown",
   "id": "2025da95-d862-451e-93a9-68c1c818a17c",
   "metadata": {},
   "source": [
    "Each section of a force field is stored in memory within `ParameterHandler` objects, which can be looked up with brackets (just like looking up values in a dictionary):"
   ]
  },
  {
   "cell_type": "code",
   "execution_count": 3,
   "id": "028197c1-1291-4f0b-8eec-97b23f35768b",
   "metadata": {
    "execution": {
     "iopub.execute_input": "2023-09-27T09:47:48.414478Z",
     "iopub.status.busy": "2023-09-27T09:47:48.414308Z",
     "iopub.status.idle": "2023-09-27T09:47:48.417601Z",
     "shell.execute_reply": "2023-09-27T09:47:48.417201Z"
    }
   },
   "outputs": [
    {
     "name": "stdout",
     "output_type": "stream",
     "text": [
      "['Constraints', 'Bonds', 'Angles', 'ProperTorsions', 'ImproperTorsions', 'vdW', 'Electrostatics', 'LibraryCharges', 'ToolkitAM1BCC']\n"
     ]
    },
    {
     "data": {
      "text/plain": [
       "<openff.toolkit.typing.engines.smirnoff.parameters.vdWHandler at 0x13a3f9690>"
      ]
     },
     "execution_count": 3,
     "metadata": {},
     "output_type": "execute_result"
    }
   ],
   "source": [
    "print(sage.registered_parameter_handlers)\n",
    "\n",
    "vdw_handler = sage[\"vdW\"]\n",
    "vdw_handler"
   ]
  },
  {
   "cell_type": "markdown",
   "id": "28d1aab1-8dcc-4534-af11-c13194d2247e",
   "metadata": {},
   "source": [
    "Each `ParameterHandler` in turn stores a list of parameters in its `.parameters` attribute, in addition to some information specific to its portion of the potential energy function:"
   ]
  },
  {
   "cell_type": "code",
   "execution_count": 4,
   "id": "cec087b9-6009-454d-ba2d-68b14d6dc66e",
   "metadata": {
    "execution": {
     "iopub.execute_input": "2023-09-27T09:47:48.419945Z",
     "iopub.status.busy": "2023-09-27T09:47:48.419805Z",
     "iopub.status.idle": "2023-09-27T09:47:48.429262Z",
     "shell.execute_reply": "2023-09-27T09:47:48.428844Z"
    }
   },
   "outputs": [
    {
     "data": {
      "text/plain": [
       "[<vdWType with smirks: [#1:1]  epsilon: 0.0157 kilocalorie / mole  id: n1  rmin_half: 0.6 angstrom  >,\n",
       " <vdWType with smirks: [#1:1]-[#6X4]  epsilon: 0.01577948280971 kilocalorie / mole  id: n2  rmin_half: 1.48419980825 angstrom  >,\n",
       " <vdWType with smirks: [#1:1]-[#6X4]-[#7,#8,#9,#16,#17,#35]  epsilon: 0.01640924602775 kilocalorie / mole  id: n3  rmin_half: 1.449786411317 angstrom  >,\n",
       " <vdWType with smirks: [#1:1]-[#6X4](-[#7,#8,#9,#16,#17,#35])-[#7,#8,#9,#16,#17,#35]  epsilon: 0.0157 kilocalorie / mole  id: n4  rmin_half: 1.287 angstrom  >,\n",
       " <vdWType with smirks: [#1:1]-[#6X4](-[#7,#8,#9,#16,#17,#35])(-[#7,#8,#9,#16,#17,#35])-[#7,#8,#9,#16,#17,#35]  epsilon: 0.0157 kilocalorie / mole  id: n5  rmin_half: 1.187 angstrom  >,\n",
       " <vdWType with smirks: [#1:1]-[#6X4]~[*+1,*+2]  epsilon: 0.0157 kilocalorie / mole  id: n6  rmin_half: 1.1 angstrom  >,\n",
       " <vdWType with smirks: [#1:1]-[#6X3]  epsilon: 0.01561134320353 kilocalorie / mole  id: n7  rmin_half: 1.443812569645 angstrom  >,\n",
       " <vdWType with smirks: [#1:1]-[#6X3]~[#7,#8,#9,#16,#17,#35]  epsilon: 0.01310699839698 kilocalorie / mole  id: n8  rmin_half: 1.377051329051 angstrom  >,\n",
       " <vdWType with smirks: [#1:1]-[#6X3](~[#7,#8,#9,#16,#17,#35])~[#7,#8,#9,#16,#17,#35]  epsilon: 0.01479744504464 kilocalorie / mole  id: n9  rmin_half: 1.370482808197 angstrom  >,\n",
       " <vdWType with smirks: [#1:1]-[#6X2]  epsilon: 0.015 kilocalorie / mole  id: n10  rmin_half: 1.459 angstrom  >,\n",
       " <vdWType with smirks: [#1:1]-[#7]  epsilon: 0.01409081474669 kilocalorie / mole  id: n11  rmin_half: 0.6192778454102 angstrom  >,\n",
       " <vdWType with smirks: [#1:1]-[#8]  epsilon: 1.232599966667e-05 kilocalorie / mole  id: n12  rmin_half: 0.2999999999997 angstrom  >,\n",
       " <vdWType with smirks: [#1:1]-[#16]  epsilon: 0.0157 kilocalorie / mole  id: n13  rmin_half: 0.6 angstrom  >,\n",
       " <vdWType with smirks: [#6:1]  epsilon: 0.0868793154488 kilocalorie / mole  id: n14  rmin_half: 1.953447017081 angstrom  >,\n",
       " <vdWType with smirks: [#6X2:1]  epsilon: 0.21 kilocalorie / mole  id: n15  rmin_half: 1.908 angstrom  >,\n",
       " <vdWType with smirks: [#6X4:1]  epsilon: 0.1088406109251 kilocalorie / mole  id: n16  rmin_half: 1.896698071741 angstrom  >,\n",
       " <vdWType with smirks: [#8:1]  epsilon: 0.2102061007896 kilocalorie / mole  id: n17  rmin_half: 1.706036917087 angstrom  >,\n",
       " <vdWType with smirks: [#8X2H0+0:1]  epsilon: 0.1684651402602 kilocalorie / mole  id: n18  rmin_half: 1.697783613804 angstrom  >,\n",
       " <vdWType with smirks: [#8X2H1+0:1]  epsilon: 0.2094735324129 kilocalorie / mole  id: n19  rmin_half: 1.682099169199 angstrom  >,\n",
       " <vdWType with smirks: [#7:1]  epsilon: 0.1676915150424 kilocalorie / mole  id: n20  rmin_half: 1.799798315098 angstrom  >,\n",
       " <vdWType with smirks: [#16:1]  epsilon: 0.25 kilocalorie / mole  id: n21  rmin_half: 2.0 angstrom  >,\n",
       " <vdWType with smirks: [#15:1]  epsilon: 0.2 kilocalorie / mole  id: n22  rmin_half: 2.1 angstrom  >,\n",
       " <vdWType with smirks: [#9:1]  epsilon: 0.061 kilocalorie / mole  id: n23  rmin_half: 1.75 angstrom  >,\n",
       " <vdWType with smirks: [#17:1]  epsilon: 0.2656001046527 kilocalorie / mole  id: n24  rmin_half: 1.85628721824 angstrom  >,\n",
       " <vdWType with smirks: [#35:1]  epsilon: 0.3218986365974 kilocalorie / mole  id: n25  rmin_half: 1.969806594135 angstrom  >,\n",
       " <vdWType with smirks: [#53:1]  epsilon: 0.4 kilocalorie / mole  id: n26  rmin_half: 2.35 angstrom  >,\n",
       " <vdWType with smirks: [#3+1:1]  epsilon: 0.0279896 kilocalorie / mole  id: n27  rmin_half: 1.025 angstrom  >,\n",
       " <vdWType with smirks: [#11+1:1]  epsilon: 0.0874393 kilocalorie / mole  id: n28  rmin_half: 1.369 angstrom  >,\n",
       " <vdWType with smirks: [#19+1:1]  epsilon: 0.1936829 kilocalorie / mole  id: n29  rmin_half: 1.705 angstrom  >,\n",
       " <vdWType with smirks: [#37+1:1]  epsilon: 0.3278219 kilocalorie / mole  id: n30  rmin_half: 1.813 angstrom  >,\n",
       " <vdWType with smirks: [#55+1:1]  epsilon: 0.4065394 kilocalorie / mole  id: n31  rmin_half: 1.976 angstrom  >,\n",
       " <vdWType with smirks: [#9X0-1:1]  epsilon: 0.003364 kilocalorie / mole  id: n32  rmin_half: 2.303 angstrom  >,\n",
       " <vdWType with smirks: [#17X0-1:1]  epsilon: 0.035591 kilocalorie / mole  id: n33  rmin_half: 2.513 angstrom  >,\n",
       " <vdWType with smirks: [#35X0-1:1]  epsilon: 0.0586554 kilocalorie / mole  id: n34  rmin_half: 2.608 angstrom  >,\n",
       " <vdWType with smirks: [#53X0-1:1]  epsilon: 0.0536816 kilocalorie / mole  id: n35  rmin_half: 2.86 angstrom  >,\n",
       " <vdWType with smirks: [#1]-[#8X2H2+0:1]-[#1]  epsilon: 0.1521 kilocalorie / mole  id: n-tip3p-O  sigma: 3.1507 angstrom  >,\n",
       " <vdWType with smirks: [#1:1]-[#8X2H2+0]-[#1]  epsilon: 0.0 kilocalorie / mole  id: n-tip3p-H  sigma: 1 angstrom  >]"
      ]
     },
     "execution_count": 4,
     "metadata": {},
     "output_type": "execute_result"
    }
   ],
   "source": [
    "(vdw_handler.cutoff, vdw_handler.combining_rules, vdw_handler.scale14)\n",
    "\n",
    "vdw_handler.parameters"
   ]
  },
  {
   "cell_type": "markdown",
   "id": "ec71d795-fe55-4a8b-9c5a-e85223b56334",
   "metadata": {},
   "source": [
    "From here you can inspect all the way down to individual parameters, which are stored in custom objects (in this case, `vdWType`). Let's look at the type with id `n16`, which looks like a generic carbon with four bonded neighbors:"
   ]
  },
  {
   "cell_type": "code",
   "execution_count": 5,
   "id": "1f2f9a3f-8c4d-4488-a85c-056eb2ee3efd",
   "metadata": {
    "execution": {
     "iopub.execute_input": "2023-09-27T09:47:48.431517Z",
     "iopub.status.busy": "2023-09-27T09:47:48.431347Z",
     "iopub.status.idle": "2023-09-27T09:47:48.434736Z",
     "shell.execute_reply": "2023-09-27T09:47:48.434361Z"
    }
   },
   "outputs": [
    {
     "data": {
      "text/plain": [
       "<vdWType with smirks: [#6X4:1]  epsilon: 0.1088406109251 kilocalorie / mole  id: n16  rmin_half: 1.896698071741 angstrom  >"
      ]
     },
     "execution_count": 5,
     "metadata": {},
     "output_type": "execute_result"
    }
   ],
   "source": [
    "vdw_type = vdw_handler.parameters[15]\n",
    "vdw_type"
   ]
  },
  {
   "cell_type": "markdown",
   "id": "1af70233-9baf-4286-895f-89a5d12aabc0",
   "metadata": {},
   "source": [
    "Note that the type contins both the physical parameters (sigma and epsilon, for a conventional 12-6 Lennard-Jones potential), but also an associated SMIRKS pattern. (This particular SMIRKS pattern is fairly simple, but some can get much more complex, such as when fitting bespoke torsions to fairly specific chemistries - you'll see more of this tomorrow!)\n",
    "\n",
    "The toolkit uses these SMIRKS patterns and direct chemical perception to assign parameters to particular atoms (or bonds, angles, etc.)."
   ]
  },
  {
   "cell_type": "markdown",
   "id": "ead9ccf2-f4ed-409f-9317-8b9bf4fba137",
   "metadata": {},
   "source": [
    "For more programmatic access to parameters, check out the `ParameterHandler.get_parameters` method."
   ]
  },
  {
   "cell_type": "markdown",
   "id": "858d2f7a-f3cb-4ab2-bb07-b83cd493dd73",
   "metadata": {},
   "source": [
    "# Existing force fields\n",
    "\n",
    "## From OpenFF\n",
    "\n",
    "### smirnoff99Frosst\n",
    "\n",
    "This [force field](https://github.com/openforcefield/smirnoff99Frosst) is mostly a historical artifact today. It is the first SMIRNOFF force field, dating back to 2016. It is based on Merck-Frosst's [parm@frosst](http://www.ccl.net/cca/data/parm_at_Frosst/) and an old AMBER force field, parm99, which predates GAFF.\n",
    "\n",
    "It is not recommended for general use today, but you might see it in papers that compare the performance of different force fields.\n",
    "\n",
    "### Parsley\n",
    "\n",
    "The Parsley line of force fields (`openff-1.y.z.offxml`) was OpenFF's [first full force field release](https://openforcefield.org/community/news/general/introducing-openforcefield-1.0/). Based on `smirnoff99Frosst`, these force fields are primarily re-fits of valence parameters using a large number of QM structures pulled from QCArchive. The first version was 1.0.0 and subsequent re-fits produced versions 1.1.0, 1.2.0, and 1.3.0. More detail is provided in an [associated paper](https://pubs.acs.org/doi/10.1021/acs.jctc.1c00571).\n",
    "\n",
    "### Sage\n",
    "\n",
    "The Sage line of force fields (`openff-2.y.z.offxml`) continued the process of fitting to more (and more diverse) QM datasets, but also included a re-fit of the Lennard-Jones parameters. Small molecule geometries and energies [improved, in general,](https://openforcefield.org/community/news/general/sage2.0.0-release/) significantly over Parsley. These improvements notably transferred to protein-ligand binding free energies despite Sage not being specifically fit to them. For more, see the [associated paper](https://pubs.acs.org/doi/10.1021/acs.jctc.3c00039).\n",
    "\n",
    "A subsequent [2.1.0 release](https://openforcefield.org/community/news/general/sage2.1.0-release/) used different fitting procedures to further improve small molecule performance. Some issues with sulfonamides and a few other specific chemistries were also addressed. **Sage 2.1.0 (`openff-2.1.0.offxml`) is the recommended force field for small molecule studies.**\n",
    "\n",
    "## Ports\n",
    "\n",
    "### Water models\n",
    "\n",
    "OpenFF has ported [several existing water models](https://github.com/openforcefield/openff-forcefields/blob/main/docs/water-models.md) to SMIRNOFF format, including:\n",
    "\n",
    "- TIP3P\n",
    "- TIP3P-FB\n",
    "- TIP4P-FB\n",
    "- OPC\n",
    "- OPC3\n",
    "\n",
    "Existing main-line OpenFF force fields are fit against TIP3P water, so use of others is not (currently) recommended. This might change in the future, or OpenFF might even fit a new water model in a future release.\n",
    "\n",
    "## ff14SB\n",
    "\n",
    "OpenFF, in collaboration with Dave Cerutti of the Amber community, created a port of [ff14SB](https://pubs.acs.org/doi/10.1021/acs.jctc.5b00255), a popular Amber protein force field. There are some small numberical differences with how improper torsions are evaluated, but all other terms reproduce a canonical Amber source to high accuracy. **This is the only protein force field currently in SMIRONOFF (`.offxml`) format** and therefore the current recommendation for use with proteins. Primarily for technical reasons, porting other Amber force fields is not planned.\n",
    "\n",
    "## Non-main-line force fields\n",
    "\n",
    "### SMIRNOFF plugins\n",
    "\n",
    "https://github.com/openforcefield/smirnoff-plugins\n",
    "\n",
    "https://github.com/jthorton/de-forcefields\n",
    "\n",
    "# Future force fields\n",
    "\n",
    "## From OpenFF\n",
    "\n",
    "### Rosemary\n",
    "A future line of force fields from OpenFF (code name \"Rosemary\", starting with `openff-3.0.0.offxml`) is intended to handle small molecules and biopolymers in a _self-consistent_ manner. The first release is expected to handle proteins, but future versions (likely 2025 and beyond) may cover nucleic acids. The performance, depending on the metrics used, is hoped to be comparable with existing Amber-family protein force fields.\n",
    "\n",
    "There is no specific release date planned for Rosemary, but it may be available in late 2023 or early 2024. (A beta release candidate may also be publically available prior to the full release.)\n",
    "\n",
    "### Graph net charge assignment\n",
    "\n",
    "Another release, possibly in the Rosemary line, is intended to include graph-convolutional neutral network (GCNN)-based charge assignment using [NAGL](https://github.com/openforcefield/openff-nagl). Details are still being worked out, but it is expected to approximately reproduce AM1-BCC (or some variant) without the typical $O(N^3)$ scaling, making it suitable for large (>> 100 atoms) molecules).\n",
    "\n",
    "### Virtual sites\n",
    "\n",
    "Another release from OpenFF may include some virtual site parameters with off-center charges. No release date is planned, but the most of the supporting infrastructure is currently in place and some early studies have shown promise for better representing electrostatics of chemistries such as halogens and aromatic nitrogens.\n",
    "\n",
    "\n",
    "## From you!\n",
    "\n",
    "Anybody can write a SMIRNOFF force field! This workshop doesn't have time to cover force field _fitting_, but there are plenty of freely-available tools used today that can re-fit existing force fields or generate something new from the ground up. Once you've fit a new force field, a small Python package can distribute it in a way that the toolkit can [automatically load](https://docs.openforcefield.org/projects/toolkit/en/stable/faq.html#how-can-i-distribute-my-own-force-fields-in-smirnoff-format)!"
   ]
  }
 ],
 "metadata": {
  "celltoolbar": "Tags",
  "execution": {
   "timeout": 120
  },
  "kernelspec": {
   "display_name": "Python 3 (ipykernel)",
   "language": "python",
   "name": "python3"
  },
  "language_info": {
   "codemirror_mode": {
    "name": "ipython",
    "version": 3
   },
   "file_extension": ".py",
   "mimetype": "text/x-python",
   "name": "python",
   "nbconvert_exporter": "python",
   "pygments_lexer": "ipython3",
   "version": "3.11.5"
  }
 },
 "nbformat": 4,
 "nbformat_minor": 5
}
