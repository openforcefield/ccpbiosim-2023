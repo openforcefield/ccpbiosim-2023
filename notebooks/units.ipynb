{
 "cells": [
  {
   "cell_type": "markdown",
   "id": "e4556e2f",
   "metadata": {},
   "source": [
    "As a best practice, OpenFF software attempts to associate explicit units with numerical values. At times this seems overly cautious, but mistakes with units have caused crashes of everything from molecular simulations on silicon to [expensive rockets](https://en.wikipedia.org/wiki/Mars_Climate_Orbiter#Cause_of_failure) on Mars.\n",
    "\n",
    "Units are tagged using the [`openff-units`](https://github.com/openforcefield/openff-units#openff-units) package, which provides numerical types associated with commonly used units and methods for ergonomically and safely converting between units. It is based on [Pint](https://github.com/hgrecco/pint), which behaves similarly to OpenMM's unit package."
   ]
  },
  {
   "cell_type": "code",
   "execution_count": null,
   "id": "250d2df8",
   "metadata": {},
   "outputs": [],
   "source": [
    "from openff.units import Quantity, unit\n",
    "\n",
    "bond_length = Quantity(0.145, unit.nanometer)\n",
    "bond_length"
   ]
  },
  {
   "cell_type": "markdown",
   "id": "15b4a873",
   "metadata": {},
   "source": [
    "As a shorthand, you can create `Quantity` objects by multiplying numerical objects (int, float, `numpy.ndarray`, etc.) by a `unit.Unit` object, i.e.:"
   ]
  },
  {
   "cell_type": "code",
   "execution_count": null,
   "id": "5fd597e6",
   "metadata": {},
   "outputs": [],
   "source": [
    "value1 = Quantity(0.8, unit.kilocalorie_per_mole)\n",
    "value2 = 0.8 * unit.kilocalorie_per_mole\n",
    "\n",
    "assert value1 == value2\n",
    "\n",
    "value1, value2"
   ]
  },
  {
   "cell_type": "markdown",
   "id": "ff0a42e9-d7e4-413c-a9d2-d494fa15c457",
   "metadata": {},
   "source": [
    "The `Quantity` class is provided by this `unit` namespace (and re-exported at the top-level `openff.units` module) so you will sometimes see it written as `unit.Quantity`:"
   ]
  },
  {
   "cell_type": "code",
   "execution_count": null,
   "id": "8cf72b8c-f1ac-4c89-9bb9-d5c2149d00c9",
   "metadata": {},
   "outputs": [],
   "source": [
    "assert Quantity(0.5, unit.kilojoule_per_mole) == unit.Quantity(\n",
    "    0.5, unit.kilojoule_per_mole\n",
    ")\n",
    "assert Quantity is unit.Quantity"
   ]
  },
  {
   "cell_type": "markdown",
   "id": "fb2e89c6-22e9-42c3-b76d-36bed535caf9",
   "metadata": {},
   "source": [
    "These objects support conversion to other units via `Quantity.to()`, which takes another (compatible) unit as an argument:"
   ]
  },
  {
   "cell_type": "code",
   "execution_count": null,
   "id": "d0f404dc",
   "metadata": {},
   "outputs": [],
   "source": [
    "bond_length.to(unit.angstrom)"
   ]
  },
  {
   "cell_type": "markdown",
   "id": "36b8cfa2-2965-42ca-a8ee-000c6f6f397e",
   "metadata": {},
   "source": [
    "These objects can be converted to unitless representation as-is via `Quantity.magnitude` (or its alias `Quantity.m`) or with an added conversion via `Quantity.m_as`."
   ]
  },
  {
   "cell_type": "code",
   "execution_count": null,
   "id": "53262b72",
   "metadata": {},
   "outputs": [],
   "source": [
    "bond_length.magnitude, bond_length.m_as(unit.angstrom), bond_length.m_as(unit.nanometer)"
   ]
  },
  {
   "cell_type": "markdown",
   "id": "46999819",
   "metadata": {},
   "source": [
    "Scalar quantities can be serialized to strings using the built-in `str()` function and deserialized using the `Quantity` constructor. This is handy for reading and writing things like force fields - this is how OpenFF Toolkit interacts with SMIRNOFF (`.offxml`) force field files on disk."
   ]
  },
  {
   "cell_type": "code",
   "execution_count": null,
   "id": "9f753180",
   "metadata": {},
   "outputs": [],
   "source": [
    "k = 10 * unit.kilocalorie / unit.mol / unit.nanometer**2\n",
    "str(k)"
   ]
  },
  {
   "cell_type": "code",
   "execution_count": null,
   "id": "b555f0ee",
   "metadata": {},
   "outputs": [],
   "source": [
    "Quantity(str(k))"
   ]
  },
  {
   "cell_type": "markdown",
   "id": "210726c5",
   "metadata": {},
   "source": [
    "<div class=\"alert alert-warning\" style=\"max-width: 700px; margin-left: auto; margin-right: auto;\">\n",
    "    ⚠️ <b> OpenFF and OpenMM unit packages are not directly interoperable!</b><br />\n",
    "Passing <code>openff.units.Quantity</code> objects to the OpenMM API, or vice versa, may fail or silently produce surprising results such as stripping units without warning. Mixing objects from different unit packages (i.e. atomic positions represented by a combination of both objects) can also lead to confusing error messages.\n",
    "</div>\n",
    "\n",
    "For [compatibility with OpenMM units](https://github.com/openforcefield/openff-units#openmm-interoperability), a submodule (`openff.units.openmm`) with conversion functions (to_openmm, from_openmm) is also provided."
   ]
  },
  {
   "cell_type": "code",
   "execution_count": null,
   "id": "909e1926",
   "metadata": {},
   "outputs": [],
   "source": [
    "from openff.units.openmm import from_openmm, to_openmm\n",
    "\n",
    "distance = 4.0 * unit.femtosecond\n",
    "converted = to_openmm(distance)\n",
    "converted, type(converted)"
   ]
  },
  {
   "cell_type": "code",
   "execution_count": null,
   "id": "1d02843d",
   "metadata": {},
   "outputs": [],
   "source": [
    "roundtripped = from_openmm(converted)\n",
    "roundtripped, type(roundtripped)"
   ]
  },
  {
   "cell_type": "markdown",
   "id": "cdd5a41c",
   "metadata": {},
   "source": [
    "For cases in which a quantity might be _either_ an `openff.units.Quantity` or `openmm.unit.Quantity`, a helper function `ensure_quantity` is provided to safely converted either into a specified type. Physically equivalent values provided by either units package should be processed into the same results if provided. The variables `distance`, `converted`, and `roundtripped` that we just made can be coerced into equivalent objects if requested."
   ]
  },
  {
   "cell_type": "code",
   "execution_count": null,
   "id": "08e94ddd",
   "metadata": {},
   "outputs": [],
   "source": [
    "from openff.units.openmm import ensure_quantity\n",
    "\n",
    "?ensure_quantity"
   ]
  },
  {
   "cell_type": "code",
   "execution_count": null,
   "id": "0150988d",
   "metadata": {},
   "outputs": [],
   "source": [
    "type(ensure_quantity(distance, \"openff\")), type(ensure_quantity(distance, \"openmm\"))"
   ]
  },
  {
   "cell_type": "code",
   "execution_count": null,
   "id": "9b378088",
   "metadata": {},
   "outputs": [],
   "source": [
    "assert ensure_quantity(distance, \"openmm\") == ensure_quantity(converted, \"openmm\")\n",
    "assert ensure_quantity(distance, \"openff\") == ensure_quantity(converted, \"openff\")"
   ]
  },
  {
   "cell_type": "markdown",
   "id": "1232ac7e",
   "metadata": {},
   "source": [
    "An effort is made to convert from OpenMM constructs, such as converting `List[openmm.Vec3]` to wrapped NumPy arrays:"
   ]
  },
  {
   "cell_type": "code",
   "execution_count": null,
   "id": "b4470ac9",
   "metadata": {},
   "outputs": [],
   "source": [
    "import openmm.app\n",
    "\n",
    "positions = openmm.app.PDBFile(\"../pdb/MainChain_ALA.pdb\").getPositions()\n",
    "type(positions), positions"
   ]
  },
  {
   "cell_type": "code",
   "execution_count": null,
   "id": "d4b404e7",
   "metadata": {},
   "outputs": [],
   "source": [
    "converted = from_openmm(positions)\n",
    "type(converted), type(converted.m), converted"
   ]
  },
  {
   "cell_type": "markdown",
   "id": "aa0a7e29",
   "metadata": {},
   "source": [
    "The OpenFF Toolkit uses `openff.units` for handling unit-bearing quantities as of release 0.11.0 (August 2022)."
   ]
  },
  {
   "cell_type": "code",
   "execution_count": null,
   "id": "9a808f96",
   "metadata": {},
   "outputs": [],
   "source": [
    "from openff.toolkit import Molecule, __version__\n",
    "from packaging.version import Version\n",
    "\n",
    "assert Version(__version__) >= Version(\"0.11\")\n",
    "\n",
    "molecule = Molecule.from_smiles(\"c1ccc(Br)cc1Cl\")\n",
    "molecule"
   ]
  },
  {
   "cell_type": "code",
   "execution_count": null,
   "id": "e7d24e50",
   "metadata": {},
   "outputs": [],
   "source": [
    "molecule.generate_conformers(n_conformers=1)\n",
    "molecule.assign_partial_charges(partial_charge_method=\"am1bcc\")\n",
    "type(molecule.conformers[0]), type(molecule.partial_charges)"
   ]
  },
  {
   "cell_type": "code",
   "execution_count": null,
   "id": "7a46bc64",
   "metadata": {},
   "outputs": [],
   "source": [
    "molecule.conformers"
   ]
  },
  {
   "cell_type": "markdown",
   "id": "e7674d55-9a2e-4d34-ba78-9ab3e1f0cc7f",
   "metadata": {},
   "source": [
    "<div class=\"alert alert-info\" style=\"max-width: 700px; margin-left: auto; margin-right: auto;\">\n",
    "ℹ️ Tip: If using OpenFF tools alongside OpenMM, it is useful to import their different units solutions with different names. Avoid importing both as <code>unit</code> in order to keep them separate in your workspace.</div>"
   ]
  },
  {
   "cell_type": "code",
   "execution_count": null,
   "id": "574470f0",
   "metadata": {},
   "outputs": [],
   "source": [
    "import openmm.unit\n",
    "from openff.units import unit"
   ]
  },
  {
   "cell_type": "code",
   "execution_count": null,
   "id": "468ea55f",
   "metadata": {},
   "outputs": [],
   "source": [
    "type(unit.angstrom * 1.2), type(openmm.unit.angstrom * 1.2)"
   ]
  }
 ],
 "metadata": {
  "kernelspec": {
   "display_name": "Python 3 (ipykernel)",
   "language": "python",
   "name": "python3"
  },
  "language_info": {
   "codemirror_mode": {
    "name": "ipython",
    "version": 3
   },
   "file_extension": ".py",
   "mimetype": "text/x-python",
   "name": "python",
   "nbconvert_exporter": "python",
   "pygments_lexer": "ipython3",
   "version": "3.11.5"
  },
  "vscode": {
   "interpreter": {
    "hash": "ec854787c9f145fd63cdd57e780479696460a9ad39dc2aba16d4b713544fa933"
   }
  }
 },
 "nbformat": 4,
 "nbformat_minor": 5
}
