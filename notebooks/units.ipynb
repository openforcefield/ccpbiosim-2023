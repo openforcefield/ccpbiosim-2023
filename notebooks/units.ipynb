{
 "cells": [
  {
   "cell_type": "markdown",
   "id": "e4556e2f",
   "metadata": {},
   "source": [
    "As a best practice, OpenFF software attempts to associate explicit units with numerical values. At times this seems overly cautious, but mistakes with units have caused crashes of everything from molecular simulations on silicon to [expensive rockets](https://en.wikipedia.org/wiki/Mars_Climate_Orbiter#Cause_of_failure) on Mars.\n",
    "\n",
    "Units are tagged using the [`openff-units`](https://github.com/openforcefield/openff-units#openff-units) package, which provides numerical types associated with commonly used units and methods for ergonomically and safely converting between units. It is based on [Pint](https://github.com/hgrecco/pint), which behaves similarly to OpenMM's unit package."
   ]
  },
  {
   "cell_type": "code",
   "execution_count": 1,
   "id": "250d2df8",
   "metadata": {},
   "outputs": [
    {
     "data": {
      "text/html": [
       "0.145 nanometer"
      ],
      "text/latex": [
       "$0.145\\ \\mathrm{nanometer}$"
      ],
      "text/plain": [
       "0.145 <Unit('nanometer')>"
      ]
     },
     "execution_count": 1,
     "metadata": {},
     "output_type": "execute_result"
    }
   ],
   "source": [
    "from openff.units import unit, Quantity\n",
    "\n",
    "bond_length = Quantity(0.145, unit.nanometer)\n",
    "bond_length"
   ]
  },
  {
   "cell_type": "markdown",
   "id": "15b4a873",
   "metadata": {},
   "source": [
    "As a shorthand, you can create `Quantity` objects by multiplying numerical objects (int, float, `numpy.ndarray`, etc.) by a `unit.Unit` object, i.e.:"
   ]
  },
  {
   "cell_type": "code",
   "execution_count": 2,
   "id": "5fd597e6",
   "metadata": {},
   "outputs": [
    {
     "data": {
      "text/plain": [
       "(0.8 <Unit('kilocalorie_per_mole')>, 0.8 <Unit('kilocalorie_per_mole')>)"
      ]
     },
     "execution_count": 2,
     "metadata": {},
     "output_type": "execute_result"
    }
   ],
   "source": [
    "value1 = Quantity(0.8, unit.kilocalorie_per_mole)\n",
    "value2 = 0.8 * unit.kilocalorie_per_mole\n",
    "\n",
    "assert value1 == value2\n",
    "\n",
    "value1, value2"
   ]
  },
  {
   "cell_type": "markdown",
   "id": "ff0a42e9-d7e4-413c-a9d2-d494fa15c457",
   "metadata": {},
   "source": [
    "The `Quantity` class is provided by this `unit` namespace (and re-exported at the top-level `openff.units` module) so you will sometimes see it written as `unit.Quantity`:"
   ]
  },
  {
   "cell_type": "code",
   "execution_count": 3,
   "id": "8cf72b8c-f1ac-4c89-9bb9-d5c2149d00c9",
   "metadata": {},
   "outputs": [],
   "source": [
    "assert Quantity(0.5, unit.kilojoule_per_mole) == unit.Quantity(0.5, unit.kilojoule_per_mole)\n",
    "assert Quantity is unit.Quantity"
   ]
  },
  {
   "cell_type": "markdown",
   "id": "fb2e89c6-22e9-42c3-b76d-36bed535caf9",
   "metadata": {},
   "source": [
    "These objects support conversion to other units via `Quantity.to()`, which takes another (compatible) unit as an argument:"
   ]
  },
  {
   "cell_type": "code",
   "execution_count": 4,
   "id": "d0f404dc",
   "metadata": {
    "scrolled": true
   },
   "outputs": [
    {
     "data": {
      "text/html": [
       "1.45 angstrom"
      ],
      "text/latex": [
       "$1.45\\ \\mathrm{angstrom}$"
      ],
      "text/plain": [
       "1.45 <Unit('angstrom')>"
      ]
     },
     "execution_count": 4,
     "metadata": {},
     "output_type": "execute_result"
    }
   ],
   "source": [
    "bond_length.to(unit.angstrom)"
   ]
  },
  {
   "cell_type": "markdown",
   "id": "36b8cfa2-2965-42ca-a8ee-000c6f6f397e",
   "metadata": {},
   "source": [
    "These objects can be converted to unitless representation as-is via `Quantity.magnitude` (or its alias `Quantity.m`) or with an added conversion via `Quantity.m_as`."
   ]
  },
  {
   "cell_type": "code",
   "execution_count": 5,
   "id": "53262b72",
   "metadata": {},
   "outputs": [
    {
     "data": {
      "text/plain": [
       "(0.145, 1.45, 0.145)"
      ]
     },
     "execution_count": 5,
     "metadata": {},
     "output_type": "execute_result"
    }
   ],
   "source": [
    "bond_length.magnitude, bond_length.m_as(unit.angstrom), bond_length.m_as(unit.nanometer)"
   ]
  },
  {
   "cell_type": "markdown",
   "id": "46999819",
   "metadata": {},
   "source": [
    "Scalar quantities can be serialized to strings using the built-in `str()` function and deserialized using the `Quantity` constructor. This is handy for reading and writing things like force fields - this is how OpenFF Toolkit interacts with SMIRNOFF (`.offxml`) force field files on disk."
   ]
  },
  {
   "cell_type": "code",
   "execution_count": 6,
   "id": "9f753180",
   "metadata": {},
   "outputs": [
    {
     "data": {
      "text/plain": [
       "'10.0 kilocalorie / mole / nanometer ** 2'"
      ]
     },
     "execution_count": 6,
     "metadata": {},
     "output_type": "execute_result"
    }
   ],
   "source": [
    "k = 10 * unit.kilocalorie / unit.mol / unit.nanometer**2\n",
    "str(k)"
   ]
  },
  {
   "cell_type": "code",
   "execution_count": 7,
   "id": "b555f0ee",
   "metadata": {},
   "outputs": [
    {
     "data": {
      "text/html": [
       "10.0 kilocalorie/(mole nanometer<sup>2</sup>)"
      ],
      "text/latex": [
       "$10.0\\ \\frac{\\mathrm{kilocalorie}}{\\left(\\mathrm{mole} \\cdot \\mathrm{nanometer}^{2}\\right)}$"
      ],
      "text/plain": [
       "10.0 <Unit('kilocalorie / mole / nanometer ** 2')>"
      ]
     },
     "execution_count": 7,
     "metadata": {},
     "output_type": "execute_result"
    }
   ],
   "source": [
    "Quantity(str(k))"
   ]
  },
  {
   "cell_type": "markdown",
   "id": "210726c5",
   "metadata": {},
   "source": [
    "<div class=\"alert alert-warning\" style=\"max-width: 700px; margin-left: auto; margin-right: auto;\">\n",
    "    ⚠️ <b> OpenFF and OpenMM unit packages are not directly interoperable!</b><br />\n",
    "Passing <code>openff.units.Quantity</code> objects to the OpenMM API, or vice versa, may fail or silently produce surprising results such as stripping units without warning. Mixing objects from different unit packages (i.e. atomic positions represented by a combination of both objects) can also lead to confusing error messages.\n",
    "</div>\n",
    "\n",
    "For [compatibility with OpenMM units](https://github.com/openforcefield/openff-units#openmm-interoperability), a submodule (`openff.units.openmm`) with conversion functions (to_openmm, from_openmm) is also provided."
   ]
  },
  {
   "cell_type": "code",
   "execution_count": 8,
   "id": "909e1926",
   "metadata": {},
   "outputs": [
    {
     "data": {
      "text/plain": [
       "(Quantity(value=4.0, unit=femtosecond), openmm.unit.quantity.Quantity)"
      ]
     },
     "execution_count": 8,
     "metadata": {},
     "output_type": "execute_result"
    }
   ],
   "source": [
    "from openff.units.openmm import from_openmm, to_openmm\n",
    "\n",
    "distance = 4.0 * unit.femtosecond\n",
    "converted = to_openmm(distance)\n",
    "converted, type(converted)"
   ]
  },
  {
   "cell_type": "code",
   "execution_count": 9,
   "id": "1d02843d",
   "metadata": {},
   "outputs": [
    {
     "data": {
      "text/plain": [
       "(4.0 <Unit('femtosecond')>, pint.util.Quantity)"
      ]
     },
     "execution_count": 9,
     "metadata": {},
     "output_type": "execute_result"
    }
   ],
   "source": [
    "roundtripped = from_openmm(converted)\n",
    "roundtripped, type(roundtripped)"
   ]
  },
  {
   "cell_type": "markdown",
   "id": "cdd5a41c",
   "metadata": {},
   "source": [
    "For cases in which a quantity might be _either_ an `openff.units.Quantity` or `openmm.unit.Quantity`, a helper function `ensure_quantity` is provided to safely converted either into a specified type. Physically equivalent values provided by either units package should be processed into the same results if provided. The variables `distance`, `converted`, and `roundtripped` that we just made can be coerced into equivalent objects if requested."
   ]
  },
  {
   "cell_type": "code",
   "execution_count": 10,
   "id": "08e94ddd",
   "metadata": {
    "scrolled": true
   },
   "outputs": [
    {
     "data": {
      "text/plain": [
       "\u001b[0;31mSignature:\u001b[0m\n",
       "\u001b[0mensure_quantity\u001b[0m\u001b[0;34m(\u001b[0m\u001b[0;34m\u001b[0m\n",
       "\u001b[0;34m\u001b[0m    \u001b[0munknown_quantity\u001b[0m\u001b[0;34m:\u001b[0m \u001b[0mUnion\u001b[0m\u001b[0;34m[\u001b[0m\u001b[0mpint\u001b[0m\u001b[0;34m.\u001b[0m\u001b[0mutil\u001b[0m\u001b[0;34m.\u001b[0m\u001b[0mQuantity\u001b[0m\u001b[0;34m,\u001b[0m \u001b[0mForwardRef\u001b[0m\u001b[0;34m(\u001b[0m\u001b[0;34m'openmm_unit.Quantity'\u001b[0m\u001b[0;34m)\u001b[0m\u001b[0;34m]\u001b[0m\u001b[0;34m,\u001b[0m\u001b[0;34m\u001b[0m\n",
       "\u001b[0;34m\u001b[0m    \u001b[0mtype_to_ensure\u001b[0m\u001b[0;34m:\u001b[0m \u001b[0mLiteral\u001b[0m\u001b[0;34m[\u001b[0m\u001b[0;34m'openmm'\u001b[0m\u001b[0;34m,\u001b[0m \u001b[0;34m'openff'\u001b[0m\u001b[0;34m]\u001b[0m\u001b[0;34m,\u001b[0m\u001b[0;34m\u001b[0m\n",
       "\u001b[0;34m\u001b[0m\u001b[0;34m)\u001b[0m \u001b[0;34m->\u001b[0m \u001b[0mUnion\u001b[0m\u001b[0;34m[\u001b[0m\u001b[0mpint\u001b[0m\u001b[0;34m.\u001b[0m\u001b[0mutil\u001b[0m\u001b[0;34m.\u001b[0m\u001b[0mQuantity\u001b[0m\u001b[0;34m,\u001b[0m \u001b[0mForwardRef\u001b[0m\u001b[0;34m(\u001b[0m\u001b[0;34m'openmm_unit.Quantity'\u001b[0m\u001b[0;34m)\u001b[0m\u001b[0;34m]\u001b[0m\u001b[0;34m\u001b[0m\u001b[0;34m\u001b[0m\u001b[0m\n",
       "\u001b[0;31mDocstring:\u001b[0m\n",
       "Given a quantity that could be of a variety of types, attempt to coerce into a given type.\n",
       "\n",
       "Examples\n",
       "--------\n",
       "\n",
       ">>> import numpy\n",
       ">>> from openmm import unit as openmm_unit\n",
       ">>> from openff.units import unit\n",
       ">>> from openff.units.openmm import ensure_quantity\n",
       ">>> # Create a 9 Angstrom quantity with each registry\n",
       ">>> length1 = unit.Quantity(9.0, unit.angstrom)\n",
       ">>> length2 = openmm_unit.Quantity(9.0, openmm_unit.angstrom)\n",
       ">>> # Similar quantities are be coerced into requested type\n",
       ">>> assert type(ensure_quantity(length1, \"openmm\")) == openmm_unit.Quantity\n",
       ">>> assert type(ensure_quantity(length2, \"openff\")) == unit.Quantity\n",
       ">>> # Seemingly-redundant \"conversions\" short-circuit\n",
       ">>> assert ensure_quantity(length1, \"openff\") == ensure_quantity(length2, \"openff\")\n",
       ">>> assert ensure_quantity(length1, \"openmm\") == ensure_quantity(length2, \"openmm\")\n",
       ">>> # NumPy arrays and some primitives are automatically up-converted to `Quantity` objects\n",
       ">>> # Note that their units are set to \"dimensionless\"\n",
       ">>> ensure_quantity(numpy.array([1, 2]), \"openff\")\n",
       "<Quantity([1 2], 'dimensionless')>\n",
       ">>> ensure_quantity(4.0, \"openmm\")\n",
       "Quantity(value=4.0, unit=dimensionless)\n",
       "\u001b[0;31mFile:\u001b[0m      ~/mambaforge/envs/openff-interchange-env/lib/python3.11/site-packages/openff/units/openmm.py\n",
       "\u001b[0;31mType:\u001b[0m      function"
      ]
     },
     "metadata": {},
     "output_type": "display_data"
    }
   ],
   "source": [
    "from openff.units.openmm import ensure_quantity\n",
    "\n",
    "?ensure_quantity"
   ]
  },
  {
   "cell_type": "code",
   "execution_count": 11,
   "id": "0150988d",
   "metadata": {},
   "outputs": [
    {
     "data": {
      "text/plain": [
       "(pint.util.Quantity, openmm.unit.quantity.Quantity)"
      ]
     },
     "execution_count": 11,
     "metadata": {},
     "output_type": "execute_result"
    }
   ],
   "source": [
    "type(ensure_quantity(distance, \"openff\")), type(ensure_quantity(distance, \"openmm\"))"
   ]
  },
  {
   "cell_type": "code",
   "execution_count": 12,
   "id": "9b378088",
   "metadata": {},
   "outputs": [],
   "source": [
    "assert ensure_quantity(distance, \"openmm\") == ensure_quantity(converted, \"openmm\")\n",
    "assert ensure_quantity(distance, \"openff\") == ensure_quantity(converted, \"openff\")"
   ]
  },
  {
   "cell_type": "markdown",
   "id": "1232ac7e",
   "metadata": {},
   "source": [
    "An effort is made to convert from OpenMM constructs, such as converting `List[openmm.Vec3]` to wrapped NumPy arrays:"
   ]
  },
  {
   "cell_type": "code",
   "execution_count": 13,
   "id": "b4470ac9",
   "metadata": {},
   "outputs": [
    {
     "data": {
      "text/plain": [
       "(openmm.unit.quantity.Quantity,\n",
       " Quantity(value=[Vec3(x=2.595, y=2.5179, z=2.4582), Vec3(x=2.5986000000000002, y=2.6176, z=2.4145000000000003), Vec3(x=2.5332000000000003, y=2.6843000000000004, z=2.4703), Vec3(x=2.5673, y=2.6131, z=2.3104), Vec3(x=2.7405000000000004, y=2.6691000000000003, z=2.4218), Vec3(x=2.8285, y=2.5999, z=2.4713000000000003), Vec3(x=2.7621, y=2.7909, z=2.3728000000000002), Vec3(x=2.6838, y=2.8435, z=2.337), Vec3(x=2.8916000000000004, y=2.8589, z=2.373), Vec3(x=2.9471000000000003, y=2.8288, z=2.462), Vec3(x=2.971, y=2.8153, z=2.2489000000000003), Vec3(x=2.9172000000000002, y=2.8440000000000003, z=2.1584), Vec3(x=3.0691, y=2.8627000000000002, z=2.2488), Vec3(x=2.9844000000000004, y=2.7070000000000003, z=2.2499), Vec3(x=2.8737, y=3.0119000000000002, z=2.3778), Vec3(x=2.7675, y=3.0634, z=2.3428999999999998), Vec3(x=2.9784, y=3.0841000000000003, z=2.4197), Vec3(x=3.0622000000000003, y=3.0348, z=2.4461), Vec3(x=2.9784, y=3.23, z=2.4293), Vec3(x=2.8951000000000002, y=3.2628000000000004, z=2.4918), Vec3(x=3.072, y=3.2652, z=2.4729), Vec3(x=2.9663000000000004, y=3.2734000000000005, z=2.3299)], unit=nanometer))"
      ]
     },
     "execution_count": 13,
     "metadata": {},
     "output_type": "execute_result"
    }
   ],
   "source": [
    "import openmm.app\n",
    "\n",
    "positions = openmm.app.PDBFile(\"../pdb/MainChain_ALA.pdb\").getPositions()\n",
    "type(positions), positions"
   ]
  },
  {
   "cell_type": "code",
   "execution_count": 14,
   "id": "d4b404e7",
   "metadata": {},
   "outputs": [
    {
     "data": {
      "text/plain": [
       "(pint.util.Quantity,\n",
       " numpy.ndarray,\n",
       " array([[2.595 , 2.5179, 2.4582],\n",
       "        [2.5986, 2.6176, 2.4145],\n",
       "        [2.5332, 2.6843, 2.4703],\n",
       "        [2.5673, 2.6131, 2.3104],\n",
       "        [2.7405, 2.6691, 2.4218],\n",
       "        [2.8285, 2.5999, 2.4713],\n",
       "        [2.7621, 2.7909, 2.3728],\n",
       "        [2.6838, 2.8435, 2.337 ],\n",
       "        [2.8916, 2.8589, 2.373 ],\n",
       "        [2.9471, 2.8288, 2.462 ],\n",
       "        [2.971 , 2.8153, 2.2489],\n",
       "        [2.9172, 2.844 , 2.1584],\n",
       "        [3.0691, 2.8627, 2.2488],\n",
       "        [2.9844, 2.707 , 2.2499],\n",
       "        [2.8737, 3.0119, 2.3778],\n",
       "        [2.7675, 3.0634, 2.3429],\n",
       "        [2.9784, 3.0841, 2.4197],\n",
       "        [3.0622, 3.0348, 2.4461],\n",
       "        [2.9784, 3.23  , 2.4293],\n",
       "        [2.8951, 3.2628, 2.4918],\n",
       "        [3.072 , 3.2652, 2.4729],\n",
       "        [2.9663, 3.2734, 2.3299]]) <Unit('nanometer')>)"
      ]
     },
     "execution_count": 14,
     "metadata": {},
     "output_type": "execute_result"
    }
   ],
   "source": [
    "converted = from_openmm(positions)\n",
    "type(converted), type(converted.m), converted"
   ]
  },
  {
   "cell_type": "markdown",
   "id": "aa0a7e29",
   "metadata": {},
   "source": [
    "The OpenFF Toolkit uses `openff.units` for handling unit-bearing quantities as of release 0.11.0 (August 2022)."
   ]
  },
  {
   "cell_type": "code",
   "execution_count": 15,
   "id": "9a808f96",
   "metadata": {},
   "outputs": [
    {
     "data": {
      "application/vnd.jupyter.widget-view+json": {
       "model_id": "f6e8307d25a34e2896b90f7f79e33ca0",
       "version_major": 2,
       "version_minor": 0
      },
      "text/plain": []
     },
     "metadata": {},
     "output_type": "display_data"
    },
    {
     "data": {
      "image/svg+xml": [
       "<svg xmlns=\"http://www.w3.org/2000/svg\" xmlns:rdkit=\"http://www.rdkit.org/xml\" xmlns:xlink=\"http://www.w3.org/1999/xlink\" version=\"1.1\" baseProfile=\"full\" xml:space=\"preserve\" width=\"500px\" height=\"300px\" viewBox=\"0 0 500 300\">\n",
       "<!-- END OF HEADER -->\n",
       "<rect style=\"opacity:1.0;fill:#FFFFFF;stroke:none\" width=\"500.0\" height=\"300.0\" x=\"0.0\" y=\"0.0\"> </rect>\n",
       "<path class=\"bond-0 atom-0 atom-6\" d=\"M 197.4,180.8 L 197.4,119.1\" style=\"fill:none;fill-rule:evenodd;stroke:#000000;stroke-width:2.0px;stroke-linecap:butt;stroke-linejoin:miter;stroke-opacity:1\"/>\n",
       "<path class=\"bond-0 atom-0 atom-6\" d=\"M 206.6,175.5 L 206.6,124.5\" style=\"fill:none;fill-rule:evenodd;stroke:#000000;stroke-width:2.0px;stroke-linecap:butt;stroke-linejoin:miter;stroke-opacity:1\"/>\n",
       "<path class=\"bond-1 atom-0 atom-1\" d=\"M 197.4,180.8 L 250.7,211.6\" style=\"fill:none;fill-rule:evenodd;stroke:#000000;stroke-width:2.0px;stroke-linecap:butt;stroke-linejoin:miter;stroke-opacity:1\"/>\n",
       "<path class=\"bond-2 atom-1 atom-2\" d=\"M 250.7,211.6 L 304.1,180.9\" style=\"fill:none;fill-rule:evenodd;stroke:#000000;stroke-width:2.0px;stroke-linecap:butt;stroke-linejoin:miter;stroke-opacity:1\"/>\n",
       "<path class=\"bond-2 atom-1 atom-2\" d=\"M 250.7,201.0 L 294.9,175.5\" style=\"fill:none;fill-rule:evenodd;stroke:#000000;stroke-width:2.0px;stroke-linecap:butt;stroke-linejoin:miter;stroke-opacity:1\"/>\n",
       "<path class=\"bond-3 atom-2 atom-3\" d=\"M 304.1,180.9 L 304.2,119.2\" style=\"fill:none;fill-rule:evenodd;stroke:#000000;stroke-width:2.0px;stroke-linecap:butt;stroke-linejoin:miter;stroke-opacity:1\"/>\n",
       "<path class=\"bond-4 atom-3 atom-4\" d=\"M 304.2,119.2 L 325.4,107.0\" style=\"fill:none;fill-rule:evenodd;stroke:#000000;stroke-width:2.0px;stroke-linecap:butt;stroke-linejoin:miter;stroke-opacity:1\"/>\n",
       "<path class=\"bond-4 atom-3 atom-4\" d=\"M 325.4,107.0 L 346.6,94.7\" style=\"fill:none;fill-rule:evenodd;stroke:#7F4C19;stroke-width:2.0px;stroke-linecap:butt;stroke-linejoin:miter;stroke-opacity:1\"/>\n",
       "<path class=\"bond-5 atom-3 atom-5\" d=\"M 304.2,119.2 L 250.8,88.4\" style=\"fill:none;fill-rule:evenodd;stroke:#000000;stroke-width:2.0px;stroke-linecap:butt;stroke-linejoin:miter;stroke-opacity:1\"/>\n",
       "<path class=\"bond-5 atom-3 atom-5\" d=\"M 294.9,124.5 L 250.8,99.0\" style=\"fill:none;fill-rule:evenodd;stroke:#000000;stroke-width:2.0px;stroke-linecap:butt;stroke-linejoin:miter;stroke-opacity:1\"/>\n",
       "<path class=\"bond-6 atom-5 atom-6\" d=\"M 250.8,88.4 L 197.4,119.1\" style=\"fill:none;fill-rule:evenodd;stroke:#000000;stroke-width:2.0px;stroke-linecap:butt;stroke-linejoin:miter;stroke-opacity:1\"/>\n",
       "<path class=\"bond-7 atom-6 atom-7\" d=\"M 197.4,119.1 L 172.6,104.8\" style=\"fill:none;fill-rule:evenodd;stroke:#000000;stroke-width:2.0px;stroke-linecap:butt;stroke-linejoin:miter;stroke-opacity:1\"/>\n",
       "<path class=\"bond-7 atom-6 atom-7\" d=\"M 172.6,104.8 L 147.8,90.4\" style=\"fill:none;fill-rule:evenodd;stroke:#00CC00;stroke-width:2.0px;stroke-linecap:butt;stroke-linejoin:miter;stroke-opacity:1\"/>\n",
       "<path class=\"bond-8 atom-0 atom-8\" d=\"M 197.4,180.8 L 156.2,204.5\" style=\"fill:none;fill-rule:evenodd;stroke:#000000;stroke-width:2.0px;stroke-linecap:butt;stroke-linejoin:miter;stroke-opacity:1\"/>\n",
       "<path class=\"bond-9 atom-1 atom-9\" d=\"M 250.7,211.6 L 250.7,258.1\" style=\"fill:none;fill-rule:evenodd;stroke:#000000;stroke-width:2.0px;stroke-linecap:butt;stroke-linejoin:miter;stroke-opacity:1\"/>\n",
       "<path class=\"bond-10 atom-2 atom-10\" d=\"M 304.1,180.9 L 345.2,204.6\" style=\"fill:none;fill-rule:evenodd;stroke:#000000;stroke-width:2.0px;stroke-linecap:butt;stroke-linejoin:miter;stroke-opacity:1\"/>\n",
       "<path class=\"bond-11 atom-5 atom-11\" d=\"M 250.8,88.4 L 250.8,41.9\" style=\"fill:none;fill-rule:evenodd;stroke:#000000;stroke-width:2.0px;stroke-linecap:butt;stroke-linejoin:miter;stroke-opacity:1\"/>\n",
       "<path class=\"atom-4\" d=\"M 361.4 87.8 Q 363.9 88.5, 365.2 90.0 Q 366.5 91.6, 366.5 93.8 Q 366.5 97.4, 364.1 99.5 Q 361.8 101.5, 357.5 101.5 L 348.7 101.5 L 348.7 75.4 L 356.4 75.4 Q 360.9 75.4, 363.1 77.2 Q 365.4 79.0, 365.4 82.3 Q 365.4 86.3, 361.4 87.8 M 352.2 78.3 L 352.2 86.5 L 356.4 86.5 Q 359.0 86.5, 360.3 85.5 Q 361.7 84.4, 361.7 82.3 Q 361.7 78.3, 356.4 78.3 L 352.2 78.3 M 357.5 98.6 Q 360.0 98.6, 361.4 97.4 Q 362.8 96.1, 362.8 93.8 Q 362.8 91.7, 361.2 90.6 Q 359.8 89.5, 356.9 89.5 L 352.2 89.5 L 352.2 98.6 L 357.5 98.6 \" fill=\"#7F4C19\"/>\n",
       "<path class=\"atom-4\" d=\"M 372.4 82.5 L 372.8 85.2 Q 374.8 82.2, 378.1 82.2 Q 379.1 82.2, 380.5 82.6 L 379.9 85.7 Q 378.4 85.3, 377.5 85.3 Q 375.9 85.3, 374.9 85.9 Q 373.9 86.5, 373.1 88.0 L 373.1 101.5 L 369.6 101.5 L 369.6 82.5 L 372.4 82.5 \" fill=\"#7F4C19\"/>\n",
       "<path class=\"atom-7\" d=\"M 119.5 89.2 Q 119.5 82.7, 122.5 79.3 Q 125.6 75.8, 131.4 75.8 Q 136.8 75.8, 139.7 79.6 L 137.3 81.6 Q 135.1 78.9, 131.4 78.9 Q 127.5 78.9, 125.3 81.5 Q 123.3 84.2, 123.3 89.2 Q 123.3 94.4, 125.4 97.0 Q 127.6 99.7, 131.8 99.7 Q 134.7 99.7, 138.1 97.9 L 139.1 100.7 Q 137.7 101.6, 135.7 102.1 Q 133.6 102.6, 131.3 102.6 Q 125.6 102.6, 122.5 99.2 Q 119.5 95.7, 119.5 89.2 \" fill=\"#00CC00\"/>\n",
       "<path class=\"atom-7\" d=\"M 142.4 74.2 L 145.8 74.2 L 145.8 102.3 L 142.4 102.3 L 142.4 74.2 \" fill=\"#00CC00\"/>\n",
       "<path class=\"atom-8\" d=\"M 133.7 198.5 L 137.3 198.5 L 137.3 209.6 L 150.6 209.6 L 150.6 198.5 L 154.2 198.5 L 154.2 224.6 L 150.6 224.6 L 150.6 212.5 L 137.3 212.5 L 137.3 224.6 L 133.7 224.6 L 133.7 198.5 \" fill=\"#000000\"/>\n",
       "<path class=\"atom-9\" d=\"M 240.4 260.2 L 244.0 260.2 L 244.0 271.3 L 257.4 271.3 L 257.4 260.2 L 260.9 260.2 L 260.9 286.4 L 257.4 286.4 L 257.4 274.3 L 244.0 274.3 L 244.0 286.4 L 240.4 286.4 L 240.4 260.2 \" fill=\"#000000\"/>\n",
       "<path class=\"atom-10\" d=\"M 347.2 198.6 L 350.8 198.6 L 350.8 209.8 L 364.2 209.8 L 364.2 198.6 L 367.7 198.6 L 367.7 224.8 L 364.2 224.8 L 364.2 212.7 L 350.8 212.7 L 350.8 224.8 L 347.2 224.8 L 347.2 198.6 \" fill=\"#000000\"/>\n",
       "<path class=\"atom-11\" d=\"M 240.6 13.6 L 244.2 13.6 L 244.2 24.8 L 257.5 24.8 L 257.5 13.6 L 261.1 13.6 L 261.1 39.8 L 257.5 39.8 L 257.5 27.7 L 244.2 27.7 L 244.2 39.8 L 240.6 39.8 L 240.6 13.6 \" fill=\"#000000\"/>\n",
       "</svg>"
      ],
      "text/plain": [
       "<IPython.core.display.SVG object>"
      ]
     },
     "metadata": {},
     "output_type": "display_data"
    }
   ],
   "source": [
    "from openff.toolkit import Molecule, __version__\n",
    "from packaging.version import Version\n",
    "\n",
    "assert Version(__version__) >= Version(\"0.11\")\n",
    "\n",
    "molecule = Molecule.from_smiles(\"c1ccc(Br)cc1Cl\")\n",
    "molecule"
   ]
  },
  {
   "cell_type": "code",
   "execution_count": 16,
   "id": "e7d24e50",
   "metadata": {},
   "outputs": [
    {
     "data": {
      "text/plain": [
       "(pint.util.Quantity, pint.util.Quantity)"
      ]
     },
     "execution_count": 16,
     "metadata": {},
     "output_type": "execute_result"
    }
   ],
   "source": [
    "molecule.generate_conformers(n_conformers=1)\n",
    "molecule.assign_partial_charges(partial_charge_method=\"am1bcc\")\n",
    "type(molecule.conformers[0]), type(molecule.partial_charges)"
   ]
  },
  {
   "cell_type": "code",
   "execution_count": 17,
   "id": "7a46bc64",
   "metadata": {},
   "outputs": [
    {
     "data": {
      "text/plain": [
       "[array([[ 1.8851409 , -1.0363065 , -0.11244039],\n",
       "        [ 2.92100501, -1.63086545,  0.60814351],\n",
       "        [ 2.87828588, -1.65199244,  2.00218749],\n",
       "        [ 1.79970002, -1.07863986,  2.67567587],\n",
       "        [ 1.74158669, -1.10938549,  4.56459284],\n",
       "        [ 0.76382941, -0.48413831,  1.95505464],\n",
       "        [ 0.80655617, -0.46301064,  0.56100631],\n",
       "        [-0.47163486,  0.26944932, -0.32898274],\n",
       "        [ 1.93170583, -1.02738023, -1.19841552],\n",
       "        [ 3.76074195, -2.07713771,  0.08337314],\n",
       "        [ 3.69403815, -2.11841393,  2.54832172],\n",
       "        [-0.07850236, -0.0369442 ,  2.4785912 ]]) <Unit('angstrom')>]"
      ]
     },
     "execution_count": 17,
     "metadata": {},
     "output_type": "execute_result"
    }
   ],
   "source": [
    "molecule.conformers"
   ]
  },
  {
   "cell_type": "markdown",
   "id": "e7674d55-9a2e-4d34-ba78-9ab3e1f0cc7f",
   "metadata": {},
   "source": [
    "<div class=\"alert alert-info\" style=\"max-width: 700px; margin-left: auto; margin-right: auto;\">\n",
    "ℹ️ Tip: If using OpenFF tools alongside OpenMM, it is useful to import their different units solutions with different names. Avoid importing both as <code>unit</code> in order to keep them separate in your workspace.</div>"
   ]
  },
  {
   "cell_type": "code",
   "execution_count": 18,
   "id": "574470f0",
   "metadata": {},
   "outputs": [],
   "source": [
    "from openff.units import unit\n",
    "import openmm.unit"
   ]
  },
  {
   "cell_type": "code",
   "execution_count": 19,
   "id": "468ea55f",
   "metadata": {},
   "outputs": [
    {
     "data": {
      "text/plain": [
       "(pint.util.Quantity, openmm.unit.quantity.Quantity)"
      ]
     },
     "execution_count": 19,
     "metadata": {},
     "output_type": "execute_result"
    }
   ],
   "source": [
    "type(unit.angstrom * 1.2), type(openmm.unit.angstrom * 1.2)"
   ]
  }
 ],
 "metadata": {
  "kernelspec": {
   "display_name": "Python 3 (ipykernel)",
   "language": "python",
   "name": "python3"
  },
  "language_info": {
   "codemirror_mode": {
    "name": "ipython",
    "version": 3
   },
   "file_extension": ".py",
   "mimetype": "text/x-python",
   "name": "python",
   "nbconvert_exporter": "python",
   "pygments_lexer": "ipython3",
   "version": "3.11.5"
  },
  "vscode": {
   "interpreter": {
    "hash": "ec854787c9f145fd63cdd57e780479696460a9ad39dc2aba16d4b713544fa933"
   }
  }
 },
 "nbformat": 4,
 "nbformat_minor": 5
}
