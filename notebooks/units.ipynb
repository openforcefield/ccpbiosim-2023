{
 "cells": [
  {
   "cell_type": "markdown",
   "id": "e4556e2f",
   "metadata": {},
   "source": [
    "As a best practice, OpenFF software attempts to associate explicit units with numerical values. At times this seems overly cautious, but mistakes with units have caused crashes of everything from molecular simulations on silicon to [expensive rockets](https://en.wikipedia.org/wiki/Mars_Climate_Orbiter#Cause_of_failure) on Mars.\n",
    "\n",
    "Units are tagged using the [`openff-units`](https://github.com/openforcefield/openff-units#openff-units) package, which provides numerical types associated with commonly used units and methods for ergonomically and safely converting between units. It is based on [Pint](https://github.com/hgrecco/pint), which behaves similarly to OpenMM's unit package."
   ]
  },
  {
   "cell_type": "code",
   "execution_count": 1,
   "id": "250d2df8",
   "metadata": {
    "execution": {
     "iopub.execute_input": "2023-09-27T09:47:40.107434Z",
     "iopub.status.busy": "2023-09-27T09:47:40.106356Z",
     "iopub.status.idle": "2023-09-27T09:47:41.661625Z",
     "shell.execute_reply": "2023-09-27T09:47:41.661258Z"
    }
   },
   "outputs": [
    {
     "data": {
      "text/html": [
       "0.145 nanometer"
      ],
      "text/latex": [
       "$0.145\\ \\mathrm{nanometer}$"
      ],
      "text/plain": [
       "0.145 <Unit('nanometer')>"
      ]
     },
     "execution_count": 1,
     "metadata": {},
     "output_type": "execute_result"
    }
   ],
   "source": [
    "from openff.units import Quantity, unit\n",
    "\n",
    "bond_length = Quantity(0.145, unit.nanometer)\n",
    "bond_length"
   ]
  },
  {
   "cell_type": "markdown",
   "id": "15b4a873",
   "metadata": {},
   "source": [
    "As a shorthand, you can create `Quantity` objects by multiplying numerical objects (int, float, `numpy.ndarray`, etc.) by a `unit.Unit` object, i.e.:"
   ]
  },
  {
   "cell_type": "code",
   "execution_count": 2,
   "id": "5fd597e6",
   "metadata": {
    "execution": {
     "iopub.execute_input": "2023-09-27T09:47:41.664470Z",
     "iopub.status.busy": "2023-09-27T09:47:41.663981Z",
     "iopub.status.idle": "2023-09-27T09:47:41.667837Z",
     "shell.execute_reply": "2023-09-27T09:47:41.667469Z"
    }
   },
   "outputs": [
    {
     "data": {
      "text/plain": [
       "(0.8 <Unit('kilocalorie_per_mole')>, 0.8 <Unit('kilocalorie_per_mole')>)"
      ]
     },
     "execution_count": 2,
     "metadata": {},
     "output_type": "execute_result"
    }
   ],
   "source": [
    "value1 = Quantity(0.8, unit.kilocalorie_per_mole)\n",
    "value2 = 0.8 * unit.kilocalorie_per_mole\n",
    "\n",
    "assert value1 == value2\n",
    "\n",
    "value1, value2"
   ]
  },
  {
   "cell_type": "markdown",
   "id": "ff0a42e9-d7e4-413c-a9d2-d494fa15c457",
   "metadata": {},
   "source": [
    "The `Quantity` class is provided by this `unit` namespace (and re-exported at the top-level `openff.units` module) so you will sometimes see it written as `unit.Quantity`:"
   ]
  },
  {
   "cell_type": "code",
   "execution_count": 3,
   "id": "8cf72b8c-f1ac-4c89-9bb9-d5c2149d00c9",
   "metadata": {
    "execution": {
     "iopub.execute_input": "2023-09-27T09:47:41.669884Z",
     "iopub.status.busy": "2023-09-27T09:47:41.669748Z",
     "iopub.status.idle": "2023-09-27T09:47:41.672456Z",
     "shell.execute_reply": "2023-09-27T09:47:41.672088Z"
    }
   },
   "outputs": [],
   "source": [
    "assert Quantity(0.5, unit.kilojoule_per_mole) == unit.Quantity(\n",
    "    0.5, unit.kilojoule_per_mole\n",
    ")\n",
    "assert Quantity is unit.Quantity"
   ]
  },
  {
   "cell_type": "markdown",
   "id": "fb2e89c6-22e9-42c3-b76d-36bed535caf9",
   "metadata": {},
   "source": [
    "These objects support conversion to other units via `Quantity.to()`, which takes another (compatible) unit as an argument:"
   ]
  },
  {
   "cell_type": "code",
   "execution_count": 4,
   "id": "d0f404dc",
   "metadata": {
    "execution": {
     "iopub.execute_input": "2023-09-27T09:47:41.674568Z",
     "iopub.status.busy": "2023-09-27T09:47:41.674393Z",
     "iopub.status.idle": "2023-09-27T09:47:41.677888Z",
     "shell.execute_reply": "2023-09-27T09:47:41.677494Z"
    }
   },
   "outputs": [
    {
     "data": {
      "text/html": [
       "1.45 angstrom"
      ],
      "text/latex": [
       "$1.45\\ \\mathrm{angstrom}$"
      ],
      "text/plain": [
       "1.45 <Unit('angstrom')>"
      ]
     },
     "execution_count": 4,
     "metadata": {},
     "output_type": "execute_result"
    }
   ],
   "source": [
    "bond_length.to(unit.angstrom)"
   ]
  },
  {
   "cell_type": "markdown",
   "id": "36b8cfa2-2965-42ca-a8ee-000c6f6f397e",
   "metadata": {},
   "source": [
    "These objects can be converted to unitless representation as-is via `Quantity.magnitude` (or its alias `Quantity.m`) or with an added conversion via `Quantity.m_as`."
   ]
  },
  {
   "cell_type": "code",
   "execution_count": 5,
   "id": "53262b72",
   "metadata": {
    "execution": {
     "iopub.execute_input": "2023-09-27T09:47:41.679955Z",
     "iopub.status.busy": "2023-09-27T09:47:41.679823Z",
     "iopub.status.idle": "2023-09-27T09:47:41.683027Z",
     "shell.execute_reply": "2023-09-27T09:47:41.682654Z"
    }
   },
   "outputs": [
    {
     "data": {
      "text/plain": [
       "(0.145, 1.45, 0.145)"
      ]
     },
     "execution_count": 5,
     "metadata": {},
     "output_type": "execute_result"
    }
   ],
   "source": [
    "bond_length.magnitude, bond_length.m_as(unit.angstrom), bond_length.m_as(unit.nanometer)"
   ]
  },
  {
   "cell_type": "markdown",
   "id": "46999819",
   "metadata": {},
   "source": [
    "Scalar quantities can be serialized to strings using the built-in `str()` function and deserialized using the `Quantity` constructor. This is handy for reading and writing things like force fields - this is how OpenFF Toolkit interacts with SMIRNOFF (`.offxml`) force field files on disk."
   ]
  },
  {
   "cell_type": "code",
   "execution_count": 6,
   "id": "9f753180",
   "metadata": {
    "execution": {
     "iopub.execute_input": "2023-09-27T09:47:41.685181Z",
     "iopub.status.busy": "2023-09-27T09:47:41.685015Z",
     "iopub.status.idle": "2023-09-27T09:47:41.688705Z",
     "shell.execute_reply": "2023-09-27T09:47:41.688326Z"
    }
   },
   "outputs": [
    {
     "data": {
      "text/plain": [
       "'10.0 kilocalorie / mole / nanometer ** 2'"
      ]
     },
     "execution_count": 6,
     "metadata": {},
     "output_type": "execute_result"
    }
   ],
   "source": [
    "k = 10 * unit.kilocalorie / unit.mol / unit.nanometer**2\n",
    "str(k)"
   ]
  },
  {
   "cell_type": "code",
   "execution_count": 7,
   "id": "b555f0ee",
   "metadata": {
    "execution": {
     "iopub.execute_input": "2023-09-27T09:47:41.690709Z",
     "iopub.status.busy": "2023-09-27T09:47:41.690575Z",
     "iopub.status.idle": "2023-09-27T09:47:41.694030Z",
     "shell.execute_reply": "2023-09-27T09:47:41.693683Z"
    }
   },
   "outputs": [
    {
     "data": {
      "text/html": [
       "10.0 kilocalorie/(mole nanometer<sup>2</sup>)"
      ],
      "text/latex": [
       "$10.0\\ \\frac{\\mathrm{kilocalorie}}{\\left(\\mathrm{mole} \\cdot \\mathrm{nanometer}^{2}\\right)}$"
      ],
      "text/plain": [
       "10.0 <Unit('kilocalorie / mole / nanometer ** 2')>"
      ]
     },
     "execution_count": 7,
     "metadata": {},
     "output_type": "execute_result"
    }
   ],
   "source": [
    "Quantity(str(k))"
   ]
  },
  {
   "cell_type": "markdown",
   "id": "210726c5",
   "metadata": {},
   "source": [
    "<div class=\"alert alert-warning\" style=\"max-width: 700px; margin-left: auto; margin-right: auto;\">\n",
    "    ⚠️ <b> OpenFF and OpenMM unit packages are not directly interoperable!</b><br />\n",
    "Passing <code>openff.units.Quantity</code> objects to the OpenMM API, or vice versa, may fail or silently produce surprising results such as stripping units without warning. Mixing objects from different unit packages (i.e. atomic positions represented by a combination of both objects) can also lead to confusing error messages.\n",
    "</div>\n",
    "\n",
    "For [compatibility with OpenMM units](https://github.com/openforcefield/openff-units#openmm-interoperability), a submodule (`openff.units.openmm`) with conversion functions (to_openmm, from_openmm) is also provided."
   ]
  },
  {
   "cell_type": "code",
   "execution_count": 8,
   "id": "909e1926",
   "metadata": {
    "execution": {
     "iopub.execute_input": "2023-09-27T09:47:41.696211Z",
     "iopub.status.busy": "2023-09-27T09:47:41.696031Z",
     "iopub.status.idle": "2023-09-27T09:47:41.699500Z",
     "shell.execute_reply": "2023-09-27T09:47:41.699139Z"
    }
   },
   "outputs": [
    {
     "data": {
      "text/plain": [
       "(Quantity(value=4.0, unit=femtosecond), openmm.unit.quantity.Quantity)"
      ]
     },
     "execution_count": 8,
     "metadata": {},
     "output_type": "execute_result"
    }
   ],
   "source": [
    "from openff.units.openmm import from_openmm, to_openmm\n",
    "\n",
    "distance = 4.0 * unit.femtosecond\n",
    "converted = to_openmm(distance)\n",
    "converted, type(converted)"
   ]
  },
  {
   "cell_type": "code",
   "execution_count": 9,
   "id": "1d02843d",
   "metadata": {
    "execution": {
     "iopub.execute_input": "2023-09-27T09:47:41.701536Z",
     "iopub.status.busy": "2023-09-27T09:47:41.701408Z",
     "iopub.status.idle": "2023-09-27T09:47:41.704446Z",
     "shell.execute_reply": "2023-09-27T09:47:41.704115Z"
    }
   },
   "outputs": [
    {
     "data": {
      "text/plain": [
       "(4.0 <Unit('femtosecond')>, pint.util.Quantity)"
      ]
     },
     "execution_count": 9,
     "metadata": {},
     "output_type": "execute_result"
    }
   ],
   "source": [
    "roundtripped = from_openmm(converted)\n",
    "roundtripped, type(roundtripped)"
   ]
  },
  {
   "cell_type": "markdown",
   "id": "cdd5a41c",
   "metadata": {},
   "source": [
    "For cases in which a quantity might be _either_ an `openff.units.Quantity` or `openmm.unit.Quantity`, a helper function `ensure_quantity` is provided to safely converted either into a specified type. Physically equivalent values provided by either units package should be processed into the same results if provided. The variables `distance`, `converted`, and `roundtripped` that we just made can be coerced into equivalent objects if requested."
   ]
  },
  {
   "cell_type": "code",
   "execution_count": 10,
   "id": "08e94ddd",
   "metadata": {
    "execution": {
     "iopub.execute_input": "2023-09-27T09:47:41.706693Z",
     "iopub.status.busy": "2023-09-27T09:47:41.706538Z",
     "iopub.status.idle": "2023-09-27T09:47:41.742437Z",
     "shell.execute_reply": "2023-09-27T09:47:41.742040Z"
    }
   },
   "outputs": [],
   "source": [
    "from openff.units.openmm import ensure_quantity\n",
    "\n",
    "?ensure_quantity"
   ]
  },
  {
   "cell_type": "code",
   "execution_count": 11,
   "id": "0150988d",
   "metadata": {
    "execution": {
     "iopub.execute_input": "2023-09-27T09:47:41.744551Z",
     "iopub.status.busy": "2023-09-27T09:47:41.744392Z",
     "iopub.status.idle": "2023-09-27T09:47:41.747524Z",
     "shell.execute_reply": "2023-09-27T09:47:41.747180Z"
    }
   },
   "outputs": [
    {
     "data": {
      "text/plain": [
       "(pint.util.Quantity, openmm.unit.quantity.Quantity)"
      ]
     },
     "execution_count": 11,
     "metadata": {},
     "output_type": "execute_result"
    }
   ],
   "source": [
    "type(ensure_quantity(distance, \"openff\")), type(ensure_quantity(distance, \"openmm\"))"
   ]
  },
  {
   "cell_type": "code",
   "execution_count": 12,
   "id": "9b378088",
   "metadata": {
    "execution": {
     "iopub.execute_input": "2023-09-27T09:47:41.749638Z",
     "iopub.status.busy": "2023-09-27T09:47:41.749512Z",
     "iopub.status.idle": "2023-09-27T09:47:41.752060Z",
     "shell.execute_reply": "2023-09-27T09:47:41.751717Z"
    }
   },
   "outputs": [],
   "source": [
    "assert ensure_quantity(distance, \"openmm\") == ensure_quantity(converted, \"openmm\")\n",
    "assert ensure_quantity(distance, \"openff\") == ensure_quantity(converted, \"openff\")"
   ]
  },
  {
   "cell_type": "markdown",
   "id": "1232ac7e",
   "metadata": {},
   "source": [
    "An effort is made to convert from OpenMM constructs, such as converting `List[openmm.Vec3]` to wrapped NumPy arrays:"
   ]
  },
  {
   "cell_type": "code",
   "execution_count": 13,
   "id": "b4470ac9",
   "metadata": {
    "execution": {
     "iopub.execute_input": "2023-09-27T09:47:41.754102Z",
     "iopub.status.busy": "2023-09-27T09:47:41.753940Z",
     "iopub.status.idle": "2023-09-27T09:47:41.833682Z",
     "shell.execute_reply": "2023-09-27T09:47:41.833211Z"
    }
   },
   "outputs": [
    {
     "data": {
      "text/plain": [
       "(openmm.unit.quantity.Quantity,\n",
       " Quantity(value=[Vec3(x=2.595, y=2.5179, z=2.4582), Vec3(x=2.5986000000000002, y=2.6176, z=2.4145000000000003), Vec3(x=2.5332000000000003, y=2.6843000000000004, z=2.4703), Vec3(x=2.5673, y=2.6131, z=2.3104), Vec3(x=2.7405000000000004, y=2.6691000000000003, z=2.4218), Vec3(x=2.8285, y=2.5999, z=2.4713000000000003), Vec3(x=2.7621, y=2.7909, z=2.3728000000000002), Vec3(x=2.6838, y=2.8435, z=2.337), Vec3(x=2.8916000000000004, y=2.8589, z=2.373), Vec3(x=2.9471000000000003, y=2.8288, z=2.462), Vec3(x=2.971, y=2.8153, z=2.2489000000000003), Vec3(x=2.9172000000000002, y=2.8440000000000003, z=2.1584), Vec3(x=3.0691, y=2.8627000000000002, z=2.2488), Vec3(x=2.9844000000000004, y=2.7070000000000003, z=2.2499), Vec3(x=2.8737, y=3.0119000000000002, z=2.3778), Vec3(x=2.7675, y=3.0634, z=2.3428999999999998), Vec3(x=2.9784, y=3.0841000000000003, z=2.4197), Vec3(x=3.0622000000000003, y=3.0348, z=2.4461), Vec3(x=2.9784, y=3.23, z=2.4293), Vec3(x=2.8951000000000002, y=3.2628000000000004, z=2.4918), Vec3(x=3.072, y=3.2652, z=2.4729), Vec3(x=2.9663000000000004, y=3.2734000000000005, z=2.3299)], unit=nanometer))"
      ]
     },
     "execution_count": 13,
     "metadata": {},
     "output_type": "execute_result"
    }
   ],
   "source": [
    "import openmm.app\n",
    "\n",
    "positions = openmm.app.PDBFile(\"../pdb/MainChain_ALA.pdb\").getPositions()\n",
    "type(positions), positions"
   ]
  },
  {
   "cell_type": "code",
   "execution_count": 14,
   "id": "d4b404e7",
   "metadata": {
    "execution": {
     "iopub.execute_input": "2023-09-27T09:47:41.836248Z",
     "iopub.status.busy": "2023-09-27T09:47:41.836055Z",
     "iopub.status.idle": "2023-09-27T09:47:41.840589Z",
     "shell.execute_reply": "2023-09-27T09:47:41.840214Z"
    }
   },
   "outputs": [
    {
     "data": {
      "text/plain": [
       "(pint.util.Quantity,\n",
       " numpy.ndarray,\n",
       " array([[2.595 , 2.5179, 2.4582],\n",
       "        [2.5986, 2.6176, 2.4145],\n",
       "        [2.5332, 2.6843, 2.4703],\n",
       "        [2.5673, 2.6131, 2.3104],\n",
       "        [2.7405, 2.6691, 2.4218],\n",
       "        [2.8285, 2.5999, 2.4713],\n",
       "        [2.7621, 2.7909, 2.3728],\n",
       "        [2.6838, 2.8435, 2.337 ],\n",
       "        [2.8916, 2.8589, 2.373 ],\n",
       "        [2.9471, 2.8288, 2.462 ],\n",
       "        [2.971 , 2.8153, 2.2489],\n",
       "        [2.9172, 2.844 , 2.1584],\n",
       "        [3.0691, 2.8627, 2.2488],\n",
       "        [2.9844, 2.707 , 2.2499],\n",
       "        [2.8737, 3.0119, 2.3778],\n",
       "        [2.7675, 3.0634, 2.3429],\n",
       "        [2.9784, 3.0841, 2.4197],\n",
       "        [3.0622, 3.0348, 2.4461],\n",
       "        [2.9784, 3.23  , 2.4293],\n",
       "        [2.8951, 3.2628, 2.4918],\n",
       "        [3.072 , 3.2652, 2.4729],\n",
       "        [2.9663, 3.2734, 2.3299]]) <Unit('nanometer')>)"
      ]
     },
     "execution_count": 14,
     "metadata": {},
     "output_type": "execute_result"
    }
   ],
   "source": [
    "converted = from_openmm(positions)\n",
    "type(converted), type(converted.m), converted"
   ]
  },
  {
   "cell_type": "markdown",
   "id": "aa0a7e29",
   "metadata": {},
   "source": [
    "The OpenFF Toolkit uses `openff.units` for handling unit-bearing quantities as of release 0.11.0 (August 2022)."
   ]
  },
  {
   "cell_type": "code",
   "execution_count": 15,
   "id": "9a808f96",
   "metadata": {
    "execution": {
     "iopub.execute_input": "2023-09-27T09:47:41.842860Z",
     "iopub.status.busy": "2023-09-27T09:47:41.842610Z",
     "iopub.status.idle": "2023-09-27T09:47:42.441034Z",
     "shell.execute_reply": "2023-09-27T09:47:42.440587Z"
    }
   },
   "outputs": [
    {
     "data": {
      "application/vnd.jupyter.widget-view+json": {
       "model_id": "c576ddd9782540cb9a77c988d2c34a6e",
       "version_major": 2,
       "version_minor": 0
      },
      "text/plain": []
     },
     "metadata": {},
     "output_type": "display_data"
    },
    {
     "data": {
      "image/svg+xml": [
       "<svg xmlns=\"http://www.w3.org/2000/svg\" xmlns:rdkit=\"http://www.rdkit.org/xml\" xmlns:xlink=\"http://www.w3.org/1999/xlink\" version=\"1.1\" baseProfile=\"full\" xml:space=\"preserve\" width=\"500px\" height=\"300px\" viewBox=\"0 0 500 300\">\n",
       "<!-- END OF HEADER -->\n",
       "<rect style=\"opacity:1.0;fill:#FFFFFF;stroke:none\" width=\"500.0\" height=\"300.0\" x=\"0.0\" y=\"0.0\"> </rect>\n",
       "<path class=\"bond-0 atom-0 atom-1\" d=\"M 190.5,180.0 L 190.6,118.7\" style=\"fill:none;fill-rule:evenodd;stroke:#000000;stroke-width:2.0px;stroke-linecap:butt;stroke-linejoin:miter;stroke-opacity:1\"/>\n",
       "<path class=\"bond-0 atom-0 atom-1\" d=\"M 199.7,174.7 L 199.8,124.0\" style=\"fill:none;fill-rule:evenodd;stroke:#000000;stroke-width:2.0px;stroke-linecap:butt;stroke-linejoin:miter;stroke-opacity:1\"/>\n",
       "<path class=\"bond-1 atom-1 atom-2\" d=\"M 190.6,118.7 L 243.7,88.0\" style=\"fill:none;fill-rule:evenodd;stroke:#000000;stroke-width:2.0px;stroke-linecap:butt;stroke-linejoin:miter;stroke-opacity:1\"/>\n",
       "<path class=\"bond-2 atom-2 atom-3\" d=\"M 243.7,88.0 L 296.8,118.7\" style=\"fill:none;fill-rule:evenodd;stroke:#000000;stroke-width:2.0px;stroke-linecap:butt;stroke-linejoin:miter;stroke-opacity:1\"/>\n",
       "<path class=\"bond-2 atom-2 atom-3\" d=\"M 243.7,98.6 L 287.6,124.0\" style=\"fill:none;fill-rule:evenodd;stroke:#000000;stroke-width:2.0px;stroke-linecap:butt;stroke-linejoin:miter;stroke-opacity:1\"/>\n",
       "<path class=\"bond-3 atom-3 atom-4\" d=\"M 296.8,118.7 L 318.0,106.5\" style=\"fill:none;fill-rule:evenodd;stroke:#000000;stroke-width:2.0px;stroke-linecap:butt;stroke-linejoin:miter;stroke-opacity:1\"/>\n",
       "<path class=\"bond-3 atom-3 atom-4\" d=\"M 318.0,106.5 L 339.1,94.4\" style=\"fill:none;fill-rule:evenodd;stroke:#7F4C19;stroke-width:2.0px;stroke-linecap:butt;stroke-linejoin:miter;stroke-opacity:1\"/>\n",
       "<path class=\"bond-4 atom-3 atom-5\" d=\"M 296.8,118.7 L 296.8,180.1\" style=\"fill:none;fill-rule:evenodd;stroke:#000000;stroke-width:2.0px;stroke-linecap:butt;stroke-linejoin:miter;stroke-opacity:1\"/>\n",
       "<path class=\"bond-5 atom-5 atom-6\" d=\"M 296.8,180.1 L 243.6,210.7\" style=\"fill:none;fill-rule:evenodd;stroke:#000000;stroke-width:2.0px;stroke-linecap:butt;stroke-linejoin:miter;stroke-opacity:1\"/>\n",
       "<path class=\"bond-5 atom-5 atom-6\" d=\"M 287.6,174.8 L 243.6,200.1\" style=\"fill:none;fill-rule:evenodd;stroke:#000000;stroke-width:2.0px;stroke-linecap:butt;stroke-linejoin:miter;stroke-opacity:1\"/>\n",
       "<path class=\"bond-6 atom-6 atom-7\" d=\"M 243.6,210.7 L 243.6,234.2\" style=\"fill:none;fill-rule:evenodd;stroke:#000000;stroke-width:2.0px;stroke-linecap:butt;stroke-linejoin:miter;stroke-opacity:1\"/>\n",
       "<path class=\"bond-6 atom-6 atom-7\" d=\"M 243.6,234.2 L 243.6,257.7\" style=\"fill:none;fill-rule:evenodd;stroke:#00CC00;stroke-width:2.0px;stroke-linecap:butt;stroke-linejoin:miter;stroke-opacity:1\"/>\n",
       "<path class=\"bond-7 atom-6 atom-0\" d=\"M 243.6,210.7 L 190.5,180.0\" style=\"fill:none;fill-rule:evenodd;stroke:#000000;stroke-width:2.0px;stroke-linecap:butt;stroke-linejoin:miter;stroke-opacity:1\"/>\n",
       "<path class=\"bond-8 atom-0 atom-8\" d=\"M 190.5,180.0 L 149.6,203.6\" style=\"fill:none;fill-rule:evenodd;stroke:#000000;stroke-width:2.0px;stroke-linecap:butt;stroke-linejoin:miter;stroke-opacity:1\"/>\n",
       "<path class=\"bond-9 atom-1 atom-9\" d=\"M 190.6,118.7 L 149.7,95.0\" style=\"fill:none;fill-rule:evenodd;stroke:#000000;stroke-width:2.0px;stroke-linecap:butt;stroke-linejoin:miter;stroke-opacity:1\"/>\n",
       "<path class=\"bond-10 atom-2 atom-10\" d=\"M 243.7,88.0 L 243.8,41.7\" style=\"fill:none;fill-rule:evenodd;stroke:#000000;stroke-width:2.0px;stroke-linecap:butt;stroke-linejoin:miter;stroke-opacity:1\"/>\n",
       "<path class=\"bond-11 atom-5 atom-11\" d=\"M 296.8,180.1 L 337.7,203.7\" style=\"fill:none;fill-rule:evenodd;stroke:#000000;stroke-width:2.0px;stroke-linecap:butt;stroke-linejoin:miter;stroke-opacity:1\"/>\n",
       "<path class=\"atom-4\" d=\"M 353.8 87.4 Q 356.3 88.1, 357.6 89.7 Q 358.8 91.2, 358.8 93.4 Q 358.8 97.0, 356.5 99.1 Q 354.2 101.1, 349.9 101.1 L 341.1 101.1 L 341.1 75.1 L 348.8 75.1 Q 353.3 75.1, 355.5 76.9 Q 357.8 78.7, 357.8 82.0 Q 357.8 85.9, 353.8 87.4 M 344.6 78.0 L 344.6 86.2 L 348.8 86.2 Q 351.4 86.2, 352.7 85.2 Q 354.1 84.1, 354.1 82.0 Q 354.1 78.0, 348.8 78.0 L 344.6 78.0 M 349.9 98.2 Q 352.4 98.2, 353.8 97.0 Q 355.2 95.8, 355.2 93.4 Q 355.2 91.3, 353.6 90.2 Q 352.2 89.1, 349.3 89.1 L 344.6 89.1 L 344.6 98.2 L 349.9 98.2 \" fill=\"#7F4C19\"/>\n",
       "<path class=\"atom-4\" d=\"M 364.8 82.2 L 365.2 84.8 Q 367.2 81.9, 370.4 81.9 Q 371.4 81.9, 372.8 82.2 L 372.3 85.3 Q 370.7 85.0, 369.8 85.0 Q 368.3 85.0, 367.2 85.6 Q 366.2 86.2, 365.4 87.6 L 365.4 101.1 L 362.0 101.1 L 362.0 82.2 L 364.8 82.2 \" fill=\"#7F4C19\"/>\n",
       "<path class=\"atom-7\" d=\"M 233.5 273.0 Q 233.5 266.5, 236.6 263.1 Q 239.6 259.7, 245.4 259.7 Q 250.8 259.7, 253.6 263.5 L 251.2 265.5 Q 249.1 262.7, 245.4 262.7 Q 241.4 262.7, 239.4 265.3 Q 237.3 268.0, 237.3 273.0 Q 237.3 278.1, 239.4 280.8 Q 241.6 283.4, 245.8 283.4 Q 248.7 283.4, 252.0 281.7 L 253.0 284.4 Q 251.7 285.3, 249.6 285.8 Q 247.6 286.4, 245.3 286.4 Q 239.6 286.4, 236.6 282.9 Q 233.5 279.4, 233.5 273.0 \" fill=\"#00CC00\"/>\n",
       "<path class=\"atom-7\" d=\"M 256.3 258.1 L 259.7 258.1 L 259.7 286.0 L 256.3 286.0 L 256.3 258.1 \" fill=\"#00CC00\"/>\n",
       "<path class=\"atom-8\" d=\"M 127.2 197.6 L 130.7 197.6 L 130.7 208.7 L 144.0 208.7 L 144.0 197.6 L 147.6 197.6 L 147.6 223.7 L 144.0 223.7 L 144.0 211.6 L 130.7 211.6 L 130.7 223.7 L 127.2 223.7 L 127.2 197.6 \" fill=\"#000000\"/>\n",
       "<path class=\"atom-9\" d=\"M 127.3 74.9 L 130.8 74.9 L 130.8 86.0 L 144.1 86.0 L 144.1 74.9 L 147.7 74.9 L 147.7 101.0 L 144.1 101.0 L 144.1 88.9 L 130.8 88.9 L 130.8 101.0 L 127.3 101.0 L 127.3 74.9 \" fill=\"#000000\"/>\n",
       "<path class=\"atom-10\" d=\"M 233.6 13.6 L 237.1 13.6 L 237.1 24.7 L 250.4 24.7 L 250.4 13.6 L 254.0 13.6 L 254.0 39.7 L 250.4 39.7 L 250.4 27.7 L 237.1 27.7 L 237.1 39.7 L 233.6 39.7 L 233.6 13.6 \" fill=\"#000000\"/>\n",
       "<path class=\"atom-11\" d=\"M 339.7 197.8 L 343.2 197.8 L 343.2 208.8 L 356.6 208.8 L 356.6 197.8 L 360.1 197.8 L 360.1 223.8 L 356.6 223.8 L 356.6 211.8 L 343.2 211.8 L 343.2 223.8 L 339.7 223.8 L 339.7 197.8 \" fill=\"#000000\"/>\n",
       "</svg>"
      ],
      "text/plain": [
       "<IPython.core.display.SVG object>"
      ]
     },
     "metadata": {},
     "output_type": "display_data"
    }
   ],
   "source": [
    "from openff.toolkit import Molecule, __version__\n",
    "from packaging.version import Version\n",
    "\n",
    "assert Version(__version__) >= Version(\"0.11\")\n",
    "\n",
    "molecule = Molecule.from_smiles(\"c1ccc(Br)cc1Cl\")\n",
    "molecule"
   ]
  },
  {
   "cell_type": "code",
   "execution_count": 16,
   "id": "e7d24e50",
   "metadata": {
    "execution": {
     "iopub.execute_input": "2023-09-27T09:47:42.443251Z",
     "iopub.status.busy": "2023-09-27T09:47:42.443082Z",
     "iopub.status.idle": "2023-09-27T09:47:43.231135Z",
     "shell.execute_reply": "2023-09-27T09:47:43.230569Z"
    }
   },
   "outputs": [
    {
     "data": {
      "text/plain": [
       "(pint.util.Quantity, pint.util.Quantity)"
      ]
     },
     "execution_count": 16,
     "metadata": {},
     "output_type": "execute_result"
    }
   ],
   "source": [
    "molecule.generate_conformers(n_conformers=1)\n",
    "molecule.assign_partial_charges(partial_charge_method=\"am1bcc\")\n",
    "type(molecule.conformers[0]), type(molecule.partial_charges)"
   ]
  },
  {
   "cell_type": "code",
   "execution_count": 17,
   "id": "7a46bc64",
   "metadata": {
    "execution": {
     "iopub.execute_input": "2023-09-27T09:47:43.233561Z",
     "iopub.status.busy": "2023-09-27T09:47:43.233365Z",
     "iopub.status.idle": "2023-09-27T09:47:43.237265Z",
     "shell.execute_reply": "2023-09-27T09:47:43.236877Z"
    }
   },
   "outputs": [
    {
     "data": {
      "text/plain": [
       "[array([[ 1.06209405,  0.91407085, -0.33307713],\n",
       "        [-0.05551654,  1.40497914,  0.3051062 ],\n",
       "        [-1.1096591 ,  0.5509809 ,  0.64623569],\n",
       "        [-1.03993571, -0.79665119,  0.34560995],\n",
       "        [-2.4746814 , -1.96483947,  0.80875085],\n",
       "        [ 0.08646182, -1.26289705, -0.29194298],\n",
       "        [ 1.12427397, -0.41359019, -0.62609709],\n",
       "        [ 2.51549147, -1.06038081, -1.42762885],\n",
       "        [ 1.87619724,  1.57552443, -0.59614448],\n",
       "        [-0.12022901,  2.46050942,  0.54545336],\n",
       "        [-2.00032114,  0.92295219,  1.1510144 ],\n",
       "        [ 0.13582435, -2.3306582 , -0.52727992]]) <Unit('angstrom')>]"
      ]
     },
     "execution_count": 17,
     "metadata": {},
     "output_type": "execute_result"
    }
   ],
   "source": [
    "molecule.conformers"
   ]
  },
  {
   "cell_type": "markdown",
   "id": "e7674d55-9a2e-4d34-ba78-9ab3e1f0cc7f",
   "metadata": {},
   "source": [
    "<div class=\"alert alert-info\" style=\"max-width: 700px; margin-left: auto; margin-right: auto;\">\n",
    "ℹ️ Tip: If using OpenFF tools alongside OpenMM, it is useful to import their different units solutions with different names. Avoid importing both as <code>unit</code> in order to keep them separate in your workspace.</div>"
   ]
  },
  {
   "cell_type": "code",
   "execution_count": 18,
   "id": "574470f0",
   "metadata": {
    "execution": {
     "iopub.execute_input": "2023-09-27T09:47:43.239331Z",
     "iopub.status.busy": "2023-09-27T09:47:43.239186Z",
     "iopub.status.idle": "2023-09-27T09:47:43.241498Z",
     "shell.execute_reply": "2023-09-27T09:47:43.241129Z"
    }
   },
   "outputs": [],
   "source": [
    "import openmm.unit\n",
    "from openff.units import unit"
   ]
  },
  {
   "cell_type": "code",
   "execution_count": 19,
   "id": "468ea55f",
   "metadata": {
    "execution": {
     "iopub.execute_input": "2023-09-27T09:47:43.243521Z",
     "iopub.status.busy": "2023-09-27T09:47:43.243362Z",
     "iopub.status.idle": "2023-09-27T09:47:43.246339Z",
     "shell.execute_reply": "2023-09-27T09:47:43.245971Z"
    }
   },
   "outputs": [
    {
     "data": {
      "text/plain": [
       "(pint.util.Quantity, openmm.unit.quantity.Quantity)"
      ]
     },
     "execution_count": 19,
     "metadata": {},
     "output_type": "execute_result"
    }
   ],
   "source": [
    "type(unit.angstrom * 1.2), type(openmm.unit.angstrom * 1.2)"
   ]
  }
 ],
 "metadata": {
  "kernelspec": {
   "display_name": "Python 3 (ipykernel)",
   "language": "python",
   "name": "python3"
  },
  "language_info": {
   "codemirror_mode": {
    "name": "ipython",
    "version": 3
   },
   "file_extension": ".py",
   "mimetype": "text/x-python",
   "name": "python",
   "nbconvert_exporter": "python",
   "pygments_lexer": "ipython3",
   "version": "3.11.5"
  },
  "vscode": {
   "interpreter": {
    "hash": "ec854787c9f145fd63cdd57e780479696460a9ad39dc2aba16d4b713544fa933"
   }
  },
  "widgets": {
   "application/vnd.jupyter.widget-state+json": {
    "state": {
     "6e9951b36bfb434b878c292d6f09bdbb": {
      "model_module": "@jupyter-widgets/base",
      "model_module_version": "2.0.0",
      "model_name": "LayoutModel",
      "state": {
       "_model_module": "@jupyter-widgets/base",
       "_model_module_version": "2.0.0",
       "_model_name": "LayoutModel",
       "_view_count": null,
       "_view_module": "@jupyter-widgets/base",
       "_view_module_version": "2.0.0",
       "_view_name": "LayoutView",
       "align_content": null,
       "align_items": null,
       "align_self": null,
       "border_bottom": null,
       "border_left": null,
       "border_right": null,
       "border_top": null,
       "bottom": null,
       "display": null,
       "flex": null,
       "flex_flow": null,
       "grid_area": null,
       "grid_auto_columns": null,
       "grid_auto_flow": null,
       "grid_auto_rows": null,
       "grid_column": null,
       "grid_gap": null,
       "grid_row": null,
       "grid_template_areas": null,
       "grid_template_columns": null,
       "grid_template_rows": null,
       "height": null,
       "justify_content": null,
       "justify_items": null,
       "left": null,
       "margin": null,
       "max_height": null,
       "max_width": null,
       "min_height": null,
       "min_width": null,
       "object_fit": null,
       "object_position": null,
       "order": null,
       "overflow": null,
       "padding": null,
       "right": null,
       "top": null,
       "visibility": null,
       "width": null
      }
     },
     "c576ddd9782540cb9a77c988d2c34a6e": {
      "model_module": "nglview-js-widgets",
      "model_module_version": "3.0.8",
      "model_name": "ColormakerRegistryModel",
      "state": {
       "_dom_classes": [],
       "_model_module": "nglview-js-widgets",
       "_model_module_version": "3.0.8",
       "_model_name": "ColormakerRegistryModel",
       "_msg_ar": [],
       "_msg_q": [],
       "_ready": false,
       "_view_count": null,
       "_view_module": "nglview-js-widgets",
       "_view_module_version": "3.0.8",
       "_view_name": "ColormakerRegistryView",
       "layout": "IPY_MODEL_6e9951b36bfb434b878c292d6f09bdbb",
       "tabbable": null,
       "tooltip": null
      }
     }
    },
    "version_major": 2,
    "version_minor": 0
   }
  }
 },
 "nbformat": 4,
 "nbformat_minor": 5
}
