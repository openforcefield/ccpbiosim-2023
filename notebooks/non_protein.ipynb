{
 "cells": [
  {
   "cell_type": "markdown",
   "id": "e71b3ebb",
   "metadata": {},
   "source": [
    "# Simulating non-proteins and assigning charges to large molecules\n",
    "\n",
    "We don't want you to get the impression that OpenFF only handles protein-ligand simulations. In fact, our force fields are trained to small molecule physical properties - for example part of the training of Sage was making sure it could reproduce experimental densities of organic mixtures. To show the versatility of our force fields, the following example will simulate [a \"host-guest\" system from the SAMPL6 challenge](https://github.com/samplchallenges/SAMPL6/tree/master/host_guest). "
   ]
  },
  {
   "cell_type": "code",
   "execution_count": 1,
   "id": "df251b61",
   "metadata": {
    "execution": {
     "iopub.execute_input": "2023-09-27T11:32:55.742655Z",
     "iopub.status.busy": "2023-09-27T11:32:55.741517Z",
     "iopub.status.idle": "2023-09-27T11:32:58.126435Z",
     "shell.execute_reply": "2023-09-27T11:32:58.125891Z"
    },
    "scrolled": true
   },
   "outputs": [
    {
     "data": {
      "application/vnd.jupyter.widget-view+json": {
       "model_id": "5a1bf521374446459960dd06a4bb44ac",
       "version_major": 2,
       "version_minor": 0
      },
      "text/plain": []
     },
     "metadata": {},
     "output_type": "display_data"
    },
    {
     "data": {
      "application/vnd.jupyter.widget-view+json": {
       "model_id": "f45e9515990d4e388b4ddee05f86f096",
       "version_major": 2,
       "version_minor": 0
      },
      "text/plain": [
       "NGLWidget()"
      ]
     },
     "metadata": {},
     "output_type": "display_data"
    }
   ],
   "source": [
    "from openff.toolkit import Molecule, Topology\n",
    "from viz import visualize_topology\n",
    "\n",
    "host = Molecule.from_file(\"../sdf/CB8.sdf\")\n",
    "guest = Molecule.from_file(\"../sdf/CB8-G0.sdf\")\n",
    "top = Topology.from_molecules([host, guest])\n",
    "top.to_file(\"host-guest.pdb\")\n",
    "\n",
    "visualize_topology(top)"
   ]
  },
  {
   "cell_type": "markdown",
   "id": "be5d76dd",
   "metadata": {},
   "source": [
    "Here we'll use OpenMM's \"PDBFixer\" tool to add a box of water and ions. There are many other open source software tools for doing this, including AMBER's `tleap`, GROMACS' `gmx solvate`, and PackMol. We're just using PDBFixer here because it's convenient and we don't have to leave the notebook."
   ]
  },
  {
   "cell_type": "code",
   "execution_count": 2,
   "id": "105b88b0",
   "metadata": {
    "execution": {
     "iopub.execute_input": "2023-09-27T11:32:58.135857Z",
     "iopub.status.busy": "2023-09-27T11:32:58.135514Z",
     "iopub.status.idle": "2023-09-27T11:33:15.630231Z",
     "shell.execute_reply": "2023-09-27T11:33:15.629818Z"
    }
   },
   "outputs": [
    {
     "data": {
      "application/vnd.jupyter.widget-view+json": {
       "model_id": "f06f82af89e345618a7e6f43234af358",
       "version_major": 2,
       "version_minor": 0
      },
      "text/plain": [
       "NGLWidget()"
      ]
     },
     "metadata": {},
     "output_type": "display_data"
    }
   ],
   "source": [
    "import openmm.app\n",
    "import openmm.unit\n",
    "from pdbfixer import PDBFixer\n",
    "\n",
    "fixer = PDBFixer(\"host-guest.pdb\")\n",
    "fixer.addSolvent(\n",
    "    padding=1.0 * openmm.unit.nanometer,\n",
    "    ionicStrength=0.5 * openmm.unit.molar,\n",
    ")\n",
    "\n",
    "with open(\"host-guest_solvated.pdb\", \"w\") as f:\n",
    "    openmm.app.PDBFile.writeFile(fixer.topology, fixer.positions, f)\n",
    "\n",
    "top = Topology.from_pdb(\"host-guest_solvated.pdb\", unique_molecules=[host, guest])\n",
    "visualize_topology(top)"
   ]
  },
  {
   "cell_type": "markdown",
   "id": "90a2908e",
   "metadata": {},
   "source": [
    "OpenFF's mainline force fields currently use a semi-empirical (read: \"fast and dirty\") QM method to assign partial charges, called \"AM1BCC\". While this method gives surprisingly good accuracy for its computational cost, said cost scales worse than quadratically with molecule size. So AM1BCC will fail (or run for days) on the \"host\" in this complex, due to the large number of atoms.\n",
    "\n",
    "Thankfully, OpenFF is jumping on the ML bandwagon. We're very close to publishing a graph neural network called \"NAGL\", which we've trained to produce AM1BCC charges. NAGL is very fast, typically running in less than a second. \n",
    "\n",
    "Here, we'll use NAGL to assign partial charges to the host and guest molecules.\n",
    "\n",
    "**Note**: Due to some technical constraints, this example is using a slightly older version of this plugin which prints a bunch of annoying warnings. This will be fixed soon!"
   ]
  },
  {
   "cell_type": "code",
   "execution_count": 3,
   "id": "fb27ee9d",
   "metadata": {
    "execution": {
     "iopub.execute_input": "2023-09-27T11:33:15.640696Z",
     "iopub.status.busy": "2023-09-27T11:33:15.640500Z",
     "iopub.status.idle": "2023-09-27T11:33:19.280125Z",
     "shell.execute_reply": "2023-09-27T11:33:19.279617Z"
    }
   },
   "outputs": [
    {
     "name": "stderr",
     "output_type": "stream",
     "text": [
      "Warning (not error because allow_undefined_stereo=True): RDMol has unspecified stereochemistry. RDMol name: C8LUndefined chiral centers are:\n",
      " - Atom C (index 3)\n",
      " - Atom C (index 4)\n",
      " - Atom C (index 6)\n",
      " - Atom C (index 10)\n",
      " - Atom C (index 11)\n",
      " - Atom C (index 13)\n",
      " - Atom C (index 17)\n",
      " - Atom C (index 18)\n",
      " - Atom C (index 20)\n",
      " - Atom C (index 24)\n",
      " - Atom C (index 25)\n",
      " - Atom C (index 27)\n",
      " - Atom C (index 31)\n",
      " - Atom C (index 32)\n",
      " - Atom C (index 34)\n",
      " - Atom C (index 38)\n",
      " - Atom C (index 39)\n",
      " - Atom C (index 41)\n",
      " - Atom C (index 45)\n",
      " - Atom C (index 46)\n",
      " - Atom C (index 48)\n",
      " - Atom C (index 52)\n",
      " - Atom C (index 53)\n",
      " - Atom C (index 55)\n",
      " - Atom C (index 57)\n",
      " - Atom C (index 61)\n",
      " - Atom C (index 66)\n",
      " - Atom C (index 71)\n",
      " - Atom C (index 76)\n",
      " - Atom C (index 81)\n",
      " - Atom C (index 86)\n",
      " - Atom C (index 91)\n",
      "\n",
      "Warning (not error because allow_undefined_stereo=True): RDMol has unspecified stereochemistry. Undefined chiral centers are:\n",
      " - Atom C (index 13)\n",
      " - Atom C (index 15)\n",
      " - Atom C (index 16)\n",
      " - Atom C (index 17)\n",
      " - Atom C (index 18)\n",
      " - Atom C (index 19)\n",
      " - Atom N (index 21)\n",
      "\n"
     ]
    },
    {
     "name": "stdout",
     "output_type": "stream",
     "text": [
      "[-0.5945126274600625 0.7963424464687705 -0.46853987965732813 0.1959001561626792 0.27432878222316504 -0.4685399392619729 0.1959001263603568 0.7963424464687705 -0.5945126274600625 -0.4685399988666177 0.19590009655803442 0.27432878222316504 -0.4685399392619729 0.1959001561626792 0.7963424464687705 -0.5945126274600625 -0.46853987965732813 0.1959001561626792 0.27432878222316504 -0.4685399988666177 0.19590009655803442 0.7963424464687705 -0.5945126274600625 -0.4685399988666177 0.1959001263603568 0.27432878222316504 -0.4685399392619729 0.1959001561626792 0.7963424464687705 -0.5945126274600625 -0.4685399392619729 0.1959001561626792 0.27432878222316504 -0.4685399988666177 0.1959001263603568 0.7963424464687705 -0.5945126274600625 -0.4685399988666177 0.1959001263603568 0.27432878222316504 -0.46853987965732813 0.1959001561626792 0.7963424464687705 -0.5945126274600625 -0.4685399392619729 0.1959001561626792 0.27432878222316504 -0.4685399392619729 0.19590009655803442 0.7963424464687705 -0.5945126274600625 -0.4685399392619729 0.27432878222316504 0.1959001561626792 -0.46853987965732813 0.1959001561626792 -0.4685399392619729 0.27432878222316504 0.7963424464687705 -0.5945126274600625 -0.46853987965732813 0.27432878222316504 -0.46853987965732813 0.7963424464687705 -0.5945126274600625 -0.4685399988666177 0.27432878222316504 -0.4685399392619729 0.7963424464687705 -0.5945126274600625 -0.46853987965732813 0.27432878222316504 -0.4685399392619729 0.7963424464687705 -0.5945126274600625 -0.4685399988666177 0.27432878222316504 -0.4685399392619729 0.7963424464687705 -0.5945126274600625 -0.46853987965732813 0.27432878222316504 -0.46853987965732813 0.7963424464687705 -0.5945126274600625 -0.4685399988666177 0.27432878222316504 -0.4685399392619729 0.7963424464687705 -0.5945126274600625 -0.46853987965732813 0.27432878222316504 -0.46853987965732813 0.7963423868641257 -0.4685399392619729 -0.5945126274600625 0.0899404352530837 0.08754034247249365 0.08754034247249365 0.08994042780250311 0.0899404352530837 0.08754034247249365 0.08754034247249365 0.08994042780250311 0.0899404352530837 0.08754034247249365 0.08754034247249365 0.08994042780250311 0.0899404352530837 0.08754034247249365 0.08754034247249365 0.08994042780250311 0.0899404352530837 0.08754034247249365 0.08754034247249365 0.08994042780250311 0.0899404352530837 0.08754034247249365 0.08754034247249365 0.08994042780250311 0.0899404352530837 0.08754034247249365 0.08754034247249365 0.08994042780250311 0.08754034247249365 0.08754034247249365 0.0899404352530837 0.08994042780250311 0.08754034247249365 0.08754034247249365 0.08754034247249365 0.08754034247249365 0.08754034247249365 0.08754034247249365 0.08754034992307425 0.08754037972539663 0.08754035737365484 0.08754037972539663 0.08754035737365484 0.08754037972539663 0.08754035737365484 0.08754037972539663 0.08754035737365484 0.08754037972539663] elementary_charge\n"
     ]
    }
   ],
   "source": [
    "from openff.toolkit.utils._nagl_wrapper import _NAGLToolkitWrapper\n",
    "\n",
    "nagl_tkw = _NAGLToolkitWrapper()\n",
    "nagl_tkw.assign_partial_charges(host, \"_nagl_am1bccelf10\")\n",
    "nagl_tkw.assign_partial_charges(guest, \"_nagl_am1bccelf10\")\n",
    "print(host.partial_charges)"
   ]
  },
  {
   "cell_type": "markdown",
   "id": "a67bc9dc",
   "metadata": {},
   "source": [
    "Now we create the simulation system. This is the step where charges get assigned. To force the simulation to use the NAGL charges we just generated instead of recalculating everything with \"expensive\" AM1BCC, we use the `charge_from_molecules` keyword argument. "
   ]
  },
  {
   "cell_type": "code",
   "execution_count": 4,
   "id": "da92b4c6",
   "metadata": {
    "execution": {
     "iopub.execute_input": "2023-09-27T11:33:19.283140Z",
     "iopub.status.busy": "2023-09-27T11:33:19.282794Z",
     "iopub.status.idle": "2023-09-27T11:33:24.418568Z",
     "shell.execute_reply": "2023-09-27T11:33:24.418044Z"
    }
   },
   "outputs": [],
   "source": [
    "from openff.toolkit import ForceField\n",
    "\n",
    "sage = ForceField(\"openff-2.1.0.offxml\")\n",
    "interchange = sage.create_interchange(top, charge_from_molecules=[host, guest])\n",
    "sys = interchange.to_openmm()"
   ]
  },
  {
   "cell_type": "markdown",
   "id": "b2dde9f6",
   "metadata": {},
   "source": [
    "Finally, we run and visualize the simulation using some boilerplate code. This is the \"quick and dirty\" version of how to run a simulation. In a real workflow, you'd want to equilibrate the temperature and pressure to make sure things are at the right density and are stable. "
   ]
  },
  {
   "cell_type": "code",
   "execution_count": 5,
   "id": "2d9f27ed",
   "metadata": {
    "execution": {
     "iopub.execute_input": "2023-09-27T11:33:24.421305Z",
     "iopub.status.busy": "2023-09-27T11:33:24.420946Z",
     "iopub.status.idle": "2023-09-27T11:34:01.292804Z",
     "shell.execute_reply": "2023-09-27T11:34:01.292282Z"
    }
   },
   "outputs": [],
   "source": [
    "import openmm\n",
    "\n",
    "# Construct and configure a Langevin integrator at 300 K with an appropriate friction constant and time-step\n",
    "integrator = openmm.LangevinIntegrator(\n",
    "    300 * openmm.unit.kelvin,\n",
    "    1 / openmm.unit.picosecond,\n",
    "    0.002 * openmm.unit.picoseconds,\n",
    ")\n",
    "\n",
    "# Combine the topology, system, integrator and initial positions into a simulation\n",
    "simulation = openmm.app.Simulation(top.to_openmm(), sys, integrator)\n",
    "simulation.context.setPositions(top.get_positions().to_openmm())\n",
    "simulation.minimizeEnergy()\n",
    "\n",
    "# Add a reporter to record the structure every 250 steps\n",
    "dcd_reporter = openmm.app.DCDReporter(\"non_protein.dcd\", 250)\n",
    "simulation.reporters.append(dcd_reporter)\n",
    "simulation.context.setVelocitiesToTemperature(300 * openmm.unit.kelvin)\n",
    "simulation.runForClockTime(30 * openmm.unit.second)"
   ]
  },
  {
   "cell_type": "code",
   "execution_count": 6,
   "id": "e988e5f3-daf4-4763-a844-e188c934466c",
   "metadata": {
    "execution": {
     "iopub.execute_input": "2023-09-27T11:34:01.295483Z",
     "iopub.status.busy": "2023-09-27T11:34:01.295281Z",
     "iopub.status.idle": "2023-09-27T11:34:01.666811Z",
     "shell.execute_reply": "2023-09-27T11:34:01.666388Z"
    }
   },
   "outputs": [
    {
     "data": {
      "application/vnd.jupyter.widget-view+json": {
       "model_id": "ce33dc58b6ac4192bf8aeb7910ceb527",
       "version_major": 2,
       "version_minor": 0
      },
      "text/plain": [
       "NGLWidget(max_frame=99)"
      ]
     },
     "metadata": {},
     "output_type": "display_data"
    }
   ],
   "source": [
    "import mdtraj\n",
    "import nglview\n",
    "\n",
    "trajectory: mdtraj.Trajectory = mdtraj.load(\n",
    "    \"non_protein.dcd\", top=mdtraj.Topology.from_openmm(top.to_openmm())\n",
    ")\n",
    "\n",
    "view = nglview.show_mdtraj(\n",
    "    trajectory.image_molecules(\n",
    "        anchor_molecules=[\n",
    "            [\n",
    "                trajectory.topology.atom(index)\n",
    "                for index in range(top.molecule(0).n_atoms + top.molecule(1).n_atoms)\n",
    "            ]\n",
    "        ]\n",
    "    )\n",
    ")\n",
    "\n",
    "view.add_representation(\"line\", selection=\"water\")\n",
    "view"
   ]
  }
 ],
 "metadata": {
  "kernelspec": {
   "display_name": "Python 3 (ipykernel)",
   "language": "python",
   "name": "python3"
  },
  "language_info": {
   "codemirror_mode": {
    "name": "ipython",
    "version": 3
   },
   "file_extension": ".py",
   "mimetype": "text/x-python",
   "name": "python",
   "nbconvert_exporter": "python",
   "pygments_lexer": "ipython3",
   "version": "3.11.5"
  },
  "widgets": {
   "application/vnd.jupyter.widget-state+json": {
    "state": {
     "018927acbc504eac9694d65df78c369d": {
      "model_module": "@jupyter-widgets/controls",
      "model_module_version": "2.0.0",
      "model_name": "IntSliderModel",
      "state": {
       "_dom_classes": [],
       "_model_module": "@jupyter-widgets/controls",
       "_model_module_version": "2.0.0",
       "_model_name": "IntSliderModel",
       "_view_count": null,
       "_view_module": "@jupyter-widgets/controls",
       "_view_module_version": "2.0.0",
       "_view_name": "IntSliderView",
       "behavior": "drag-tap",
       "continuous_update": true,
       "description": "",
       "description_allow_html": false,
       "disabled": false,
       "layout": "IPY_MODEL_25811b40f06047e3a75b6bae83c350ec",
       "max": 0,
       "min": 0,
       "orientation": "horizontal",
       "readout": true,
       "readout_format": "d",
       "step": 1,
       "style": "IPY_MODEL_c498dd7cec2c445d9e97b4b91e0802f6",
       "tabbable": null,
       "tooltip": null,
       "value": 0
      }
     },
     "0e531bca11ab441bb3009e391bc6fe68": {
      "model_module": "@jupyter-widgets/controls",
      "model_module_version": "2.0.0",
      "model_name": "LinkModel",
      "state": {
       "_model_module": "@jupyter-widgets/controls",
       "_model_module_version": "2.0.0",
       "_model_name": "LinkModel",
       "_view_count": null,
       "_view_module": "@jupyter-widgets/controls",
       "_view_module_version": "2.0.0",
       "_view_name": null,
       "source": [
        "IPY_MODEL_e127b7040c3e4dad881330ada5771e46",
        "max"
       ],
       "target": [
        "IPY_MODEL_f06f82af89e345618a7e6f43234af358",
        "max_frame"
       ]
      }
     },
     "1048ac9c67b642da800aa7577f24e5f4": {
      "model_module": "@jupyter-widgets/base",
      "model_module_version": "2.0.0",
      "model_name": "LayoutModel",
      "state": {
       "_model_module": "@jupyter-widgets/base",
       "_model_module_version": "2.0.0",
       "_model_name": "LayoutModel",
       "_view_count": null,
       "_view_module": "@jupyter-widgets/base",
       "_view_module_version": "2.0.0",
       "_view_name": "LayoutView",
       "align_content": null,
       "align_items": null,
       "align_self": null,
       "border_bottom": null,
       "border_left": null,
       "border_right": null,
       "border_top": null,
       "bottom": null,
       "display": null,
       "flex": null,
       "flex_flow": null,
       "grid_area": null,
       "grid_auto_columns": null,
       "grid_auto_flow": null,
       "grid_auto_rows": null,
       "grid_column": null,
       "grid_gap": null,
       "grid_row": null,
       "grid_template_areas": null,
       "grid_template_columns": null,
       "grid_template_rows": null,
       "height": null,
       "justify_content": null,
       "justify_items": null,
       "left": null,
       "margin": null,
       "max_height": null,
       "max_width": null,
       "min_height": null,
       "min_width": null,
       "object_fit": null,
       "object_position": null,
       "order": null,
       "overflow": null,
       "padding": null,
       "right": null,
       "top": null,
       "visibility": null,
       "width": "34px"
      }
     },
     "1265d128203a4e1381abc1878c867c24": {
      "model_module": "@jupyter-widgets/controls",
      "model_module_version": "2.0.0",
      "model_name": "PlayModel",
      "state": {
       "_dom_classes": [],
       "_model_module": "@jupyter-widgets/controls",
       "_model_module_version": "2.0.0",
       "_model_name": "PlayModel",
       "_view_count": null,
       "_view_module": "@jupyter-widgets/controls",
       "_view_module_version": "2.0.0",
       "_view_name": "PlayView",
       "description": "",
       "description_allow_html": false,
       "disabled": false,
       "interval": 100,
       "layout": "IPY_MODEL_89e5a098805248b6b3593006976fac83",
       "max": 0,
       "min": 0,
       "playing": false,
       "repeat": false,
       "show_repeat": true,
       "step": 1,
       "style": "IPY_MODEL_435c04183c7a4fac8f3bfefc3d2f221d",
       "tabbable": null,
       "tooltip": null,
       "value": 0
      }
     },
     "1665ce38ed8f47dfb599a011ed83408b": {
      "model_module": "@jupyter-widgets/controls",
      "model_module_version": "2.0.0",
      "model_name": "SliderStyleModel",
      "state": {
       "_model_module": "@jupyter-widgets/controls",
       "_model_module_version": "2.0.0",
       "_model_name": "SliderStyleModel",
       "_view_count": null,
       "_view_module": "@jupyter-widgets/base",
       "_view_module_version": "2.0.0",
       "_view_name": "StyleView",
       "description_width": "",
       "handle_color": null
      }
     },
     "17c65e12d4064da9a4b45ba98ae49581": {
      "model_module": "@jupyter-widgets/controls",
      "model_module_version": "2.0.0",
      "model_name": "LinkModel",
      "state": {
       "_model_module": "@jupyter-widgets/controls",
       "_model_module_version": "2.0.0",
       "_model_name": "LinkModel",
       "_view_count": null,
       "_view_module": "@jupyter-widgets/controls",
       "_view_module_version": "2.0.0",
       "_view_name": null,
       "source": [
        "IPY_MODEL_2c2dbe1df11441c9903e96da69b1eeb8",
        "max"
       ],
       "target": [
        "IPY_MODEL_ce33dc58b6ac4192bf8aeb7910ceb527",
        "max_frame"
       ]
      }
     },
     "1bb429b9f9ea449888f951cb6ec9a7db": {
      "model_module": "@jupyter-widgets/controls",
      "model_module_version": "2.0.0",
      "model_name": "LinkModel",
      "state": {
       "_model_module": "@jupyter-widgets/controls",
       "_model_module_version": "2.0.0",
       "_model_name": "LinkModel",
       "_view_count": null,
       "_view_module": "@jupyter-widgets/controls",
       "_view_module_version": "2.0.0",
       "_view_name": null,
       "source": [
        "IPY_MODEL_36be047cb3b64489ace7289052b8f247",
        "value"
       ],
       "target": [
        "IPY_MODEL_018927acbc504eac9694d65df78c369d",
        "value"
       ]
      }
     },
     "20d532f7ec7e44d7800dcc5d6ba7959d": {
      "model_module": "@jupyter-widgets/controls",
      "model_module_version": "2.0.0",
      "model_name": "LinkModel",
      "state": {
       "_model_module": "@jupyter-widgets/controls",
       "_model_module_version": "2.0.0",
       "_model_name": "LinkModel",
       "_view_count": null,
       "_view_module": "@jupyter-widgets/controls",
       "_view_module_version": "2.0.0",
       "_view_name": null,
       "source": [
        "IPY_MODEL_36be047cb3b64489ace7289052b8f247",
        "max"
       ],
       "target": [
        "IPY_MODEL_f45e9515990d4e388b4ddee05f86f096",
        "max_frame"
       ]
      }
     },
     "25811b40f06047e3a75b6bae83c350ec": {
      "model_module": "@jupyter-widgets/base",
      "model_module_version": "2.0.0",
      "model_name": "LayoutModel",
      "state": {
       "_model_module": "@jupyter-widgets/base",
       "_model_module_version": "2.0.0",
       "_model_name": "LayoutModel",
       "_view_count": null,
       "_view_module": "@jupyter-widgets/base",
       "_view_module_version": "2.0.0",
       "_view_name": "LayoutView",
       "align_content": null,
       "align_items": null,
       "align_self": null,
       "border_bottom": null,
       "border_left": null,
       "border_right": null,
       "border_top": null,
       "bottom": null,
       "display": null,
       "flex": null,
       "flex_flow": null,
       "grid_area": null,
       "grid_auto_columns": null,
       "grid_auto_flow": null,
       "grid_auto_rows": null,
       "grid_column": null,
       "grid_gap": null,
       "grid_row": null,
       "grid_template_areas": null,
       "grid_template_columns": null,
       "grid_template_rows": null,
       "height": null,
       "justify_content": null,
       "justify_items": null,
       "left": null,
       "margin": null,
       "max_height": null,
       "max_width": null,
       "min_height": null,
       "min_width": null,
       "object_fit": null,
       "object_position": null,
       "order": null,
       "overflow": null,
       "padding": null,
       "right": null,
       "top": null,
       "visibility": null,
       "width": null
      }
     },
     "2bc670524ffd4e6d9d3bdd60dc7499da": {
      "model_module": "@jupyter-widgets/controls",
      "model_module_version": "2.0.0",
      "model_name": "DescriptionStyleModel",
      "state": {
       "_model_module": "@jupyter-widgets/controls",
       "_model_module_version": "2.0.0",
       "_model_name": "DescriptionStyleModel",
       "_view_count": null,
       "_view_module": "@jupyter-widgets/base",
       "_view_module_version": "2.0.0",
       "_view_name": "StyleView",
       "description_width": ""
      }
     },
     "2c2dbe1df11441c9903e96da69b1eeb8": {
      "model_module": "@jupyter-widgets/controls",
      "model_module_version": "2.0.0",
      "model_name": "IntSliderModel",
      "state": {
       "_dom_classes": [],
       "_model_module": "@jupyter-widgets/controls",
       "_model_module_version": "2.0.0",
       "_model_name": "IntSliderModel",
       "_view_count": null,
       "_view_module": "@jupyter-widgets/controls",
       "_view_module_version": "2.0.0",
       "_view_name": "IntSliderView",
       "behavior": "drag-tap",
       "continuous_update": true,
       "description": "",
       "description_allow_html": false,
       "disabled": false,
       "layout": "IPY_MODEL_7bac7de845b244d8a0b90d1b69b3e7dc",
       "max": 99,
       "min": 0,
       "orientation": "horizontal",
       "readout": true,
       "readout_format": "d",
       "step": 1,
       "style": "IPY_MODEL_1665ce38ed8f47dfb599a011ed83408b",
       "tabbable": null,
       "tooltip": null,
       "value": 0
      }
     },
     "36be047cb3b64489ace7289052b8f247": {
      "model_module": "@jupyter-widgets/controls",
      "model_module_version": "2.0.0",
      "model_name": "PlayModel",
      "state": {
       "_dom_classes": [],
       "_model_module": "@jupyter-widgets/controls",
       "_model_module_version": "2.0.0",
       "_model_name": "PlayModel",
       "_view_count": null,
       "_view_module": "@jupyter-widgets/controls",
       "_view_module_version": "2.0.0",
       "_view_name": "PlayView",
       "description": "",
       "description_allow_html": false,
       "disabled": false,
       "interval": 100,
       "layout": "IPY_MODEL_7e45342a8c5d4a4ebd8ca28efd2460ae",
       "max": 0,
       "min": 0,
       "playing": false,
       "repeat": false,
       "show_repeat": true,
       "step": 1,
       "style": "IPY_MODEL_af9cfc4a64044356abf5d8b38fb7b5e0",
       "tabbable": null,
       "tooltip": null,
       "value": 0
      }
     },
     "38a1e5931ce44d46b0108d8375e3c85f": {
      "model_module": "@jupyter-widgets/controls",
      "model_module_version": "2.0.0",
      "model_name": "LinkModel",
      "state": {
       "_model_module": "@jupyter-widgets/controls",
       "_model_module_version": "2.0.0",
       "_model_name": "LinkModel",
       "_view_count": null,
       "_view_module": "@jupyter-widgets/controls",
       "_view_module_version": "2.0.0",
       "_view_name": null,
       "source": [
        "IPY_MODEL_76c5e3aaa5b74867b84a6708b6ba3dd3",
        "value"
       ],
       "target": [
        "IPY_MODEL_ce33dc58b6ac4192bf8aeb7910ceb527",
        "frame"
       ]
      }
     },
     "3ad767b127ca447cb384a71dd3942cce": {
      "model_module": "@jupyter-widgets/controls",
      "model_module_version": "2.0.0",
      "model_name": "ButtonModel",
      "state": {
       "_dom_classes": [],
       "_model_module": "@jupyter-widgets/controls",
       "_model_module_version": "2.0.0",
       "_model_name": "ButtonModel",
       "_view_count": null,
       "_view_module": "@jupyter-widgets/controls",
       "_view_module_version": "2.0.0",
       "_view_name": "ButtonView",
       "button_style": "",
       "description": "",
       "disabled": false,
       "icon": "compress",
       "layout": "IPY_MODEL_b5e9be392a66479aa67e5bbff3a2086f",
       "style": "IPY_MODEL_4a7978655bd044309aab773034c841ed",
       "tabbable": null,
       "tooltip": null
      }
     },
     "3df5aad58b8c47f9a7813ac3c94d47a3": {
      "model_module": "@jupyter-widgets/controls",
      "model_module_version": "2.0.0",
      "model_name": "LinkModel",
      "state": {
       "_model_module": "@jupyter-widgets/controls",
       "_model_module_version": "2.0.0",
       "_model_name": "LinkModel",
       "_view_count": null,
       "_view_module": "@jupyter-widgets/controls",
       "_view_module_version": "2.0.0",
       "_view_name": null,
       "source": [
        "IPY_MODEL_1265d128203a4e1381abc1878c867c24",
        "max"
       ],
       "target": [
        "IPY_MODEL_f06f82af89e345618a7e6f43234af358",
        "max_frame"
       ]
      }
     },
     "3e1e1168e9dc4832bc06e3d237e68f3c": {
      "model_module": "@jupyter-widgets/controls",
      "model_module_version": "2.0.0",
      "model_name": "ButtonStyleModel",
      "state": {
       "_model_module": "@jupyter-widgets/controls",
       "_model_module_version": "2.0.0",
       "_model_name": "ButtonStyleModel",
       "_view_count": null,
       "_view_module": "@jupyter-widgets/base",
       "_view_module_version": "2.0.0",
       "_view_name": "StyleView",
       "button_color": null,
       "font_family": null,
       "font_size": null,
       "font_style": null,
       "font_variant": null,
       "font_weight": null,
       "text_color": null,
       "text_decoration": null
      }
     },
     "41a0f1f047b94c6fb29a01d6478d3d22": {
      "model_module": "@jupyter-widgets/base",
      "model_module_version": "2.0.0",
      "model_name": "LayoutModel",
      "state": {
       "_model_module": "@jupyter-widgets/base",
       "_model_module_version": "2.0.0",
       "_model_name": "LayoutModel",
       "_view_count": null,
       "_view_module": "@jupyter-widgets/base",
       "_view_module_version": "2.0.0",
       "_view_name": "LayoutView",
       "align_content": null,
       "align_items": null,
       "align_self": null,
       "border_bottom": null,
       "border_left": null,
       "border_right": null,
       "border_top": null,
       "bottom": null,
       "display": null,
       "flex": null,
       "flex_flow": null,
       "grid_area": null,
       "grid_auto_columns": null,
       "grid_auto_flow": null,
       "grid_auto_rows": null,
       "grid_column": null,
       "grid_gap": null,
       "grid_row": null,
       "grid_template_areas": null,
       "grid_template_columns": null,
       "grid_template_rows": null,
       "height": null,
       "justify_content": null,
       "justify_items": null,
       "left": null,
       "margin": null,
       "max_height": null,
       "max_width": null,
       "min_height": null,
       "min_width": null,
       "object_fit": null,
       "object_position": null,
       "order": null,
       "overflow": null,
       "padding": null,
       "right": null,
       "top": null,
       "visibility": null,
       "width": null
      }
     },
     "42113bffcede4174a9e8fd340638d1b7": {
      "model_module": "@jupyter-widgets/controls",
      "model_module_version": "2.0.0",
      "model_name": "LinkModel",
      "state": {
       "_model_module": "@jupyter-widgets/controls",
       "_model_module_version": "2.0.0",
       "_model_name": "LinkModel",
       "_view_count": null,
       "_view_module": "@jupyter-widgets/controls",
       "_view_module_version": "2.0.0",
       "_view_name": null,
       "source": [
        "IPY_MODEL_76c5e3aaa5b74867b84a6708b6ba3dd3",
        "value"
       ],
       "target": [
        "IPY_MODEL_2c2dbe1df11441c9903e96da69b1eeb8",
        "value"
       ]
      }
     },
     "425d5ef648bf43ea944513fbe3ca0bf7": {
      "model_module": "@jupyter-widgets/controls",
      "model_module_version": "2.0.0",
      "model_name": "LinkModel",
      "state": {
       "_model_module": "@jupyter-widgets/controls",
       "_model_module_version": "2.0.0",
       "_model_name": "LinkModel",
       "_view_count": null,
       "_view_module": "@jupyter-widgets/controls",
       "_view_module_version": "2.0.0",
       "_view_name": null,
       "source": [
        "IPY_MODEL_36be047cb3b64489ace7289052b8f247",
        "value"
       ],
       "target": [
        "IPY_MODEL_f45e9515990d4e388b4ddee05f86f096",
        "frame"
       ]
      }
     },
     "435c04183c7a4fac8f3bfefc3d2f221d": {
      "model_module": "@jupyter-widgets/controls",
      "model_module_version": "2.0.0",
      "model_name": "DescriptionStyleModel",
      "state": {
       "_model_module": "@jupyter-widgets/controls",
       "_model_module_version": "2.0.0",
       "_model_name": "DescriptionStyleModel",
       "_view_count": null,
       "_view_module": "@jupyter-widgets/base",
       "_view_module_version": "2.0.0",
       "_view_name": "StyleView",
       "description_width": ""
      }
     },
     "487bd48f4ec74921ab5d1ea0d223d515": {
      "model_module": "@jupyter-widgets/controls",
      "model_module_version": "2.0.0",
      "model_name": "LinkModel",
      "state": {
       "_model_module": "@jupyter-widgets/controls",
       "_model_module_version": "2.0.0",
       "_model_name": "LinkModel",
       "_view_count": null,
       "_view_module": "@jupyter-widgets/controls",
       "_view_module_version": "2.0.0",
       "_view_name": null,
       "source": [
        "IPY_MODEL_018927acbc504eac9694d65df78c369d",
        "max"
       ],
       "target": [
        "IPY_MODEL_f45e9515990d4e388b4ddee05f86f096",
        "max_frame"
       ]
      }
     },
     "4a7978655bd044309aab773034c841ed": {
      "model_module": "@jupyter-widgets/controls",
      "model_module_version": "2.0.0",
      "model_name": "ButtonStyleModel",
      "state": {
       "_model_module": "@jupyter-widgets/controls",
       "_model_module_version": "2.0.0",
       "_model_name": "ButtonStyleModel",
       "_view_count": null,
       "_view_module": "@jupyter-widgets/base",
       "_view_module_version": "2.0.0",
       "_view_name": "StyleView",
       "button_color": null,
       "font_family": null,
       "font_size": null,
       "font_style": null,
       "font_variant": null,
       "font_weight": null,
       "text_color": null,
       "text_decoration": null
      }
     },
     "4c86cfe44a5e4b4e9d2554af133ab0d9": {
      "model_module": "@jupyter-widgets/base",
      "model_module_version": "2.0.0",
      "model_name": "LayoutModel",
      "state": {
       "_model_module": "@jupyter-widgets/base",
       "_model_module_version": "2.0.0",
       "_model_name": "LayoutModel",
       "_view_count": null,
       "_view_module": "@jupyter-widgets/base",
       "_view_module_version": "2.0.0",
       "_view_name": "LayoutView",
       "align_content": null,
       "align_items": null,
       "align_self": null,
       "border_bottom": null,
       "border_left": null,
       "border_right": null,
       "border_top": null,
       "bottom": null,
       "display": null,
       "flex": null,
       "flex_flow": null,
       "grid_area": null,
       "grid_auto_columns": null,
       "grid_auto_flow": null,
       "grid_auto_rows": null,
       "grid_column": null,
       "grid_gap": null,
       "grid_row": null,
       "grid_template_areas": null,
       "grid_template_columns": null,
       "grid_template_rows": null,
       "height": null,
       "justify_content": null,
       "justify_items": null,
       "left": null,
       "margin": null,
       "max_height": null,
       "max_width": null,
       "min_height": null,
       "min_width": null,
       "object_fit": null,
       "object_position": null,
       "order": null,
       "overflow": null,
       "padding": null,
       "right": null,
       "top": null,
       "visibility": null,
       "width": null
      }
     },
     "4e4b03f7bf3c4b22863323f252a4da73": {
      "model_module": "@jupyter-widgets/base",
      "model_module_version": "2.0.0",
      "model_name": "LayoutModel",
      "state": {
       "_model_module": "@jupyter-widgets/base",
       "_model_module_version": "2.0.0",
       "_model_name": "LayoutModel",
       "_view_count": null,
       "_view_module": "@jupyter-widgets/base",
       "_view_module_version": "2.0.0",
       "_view_name": "LayoutView",
       "align_content": null,
       "align_items": null,
       "align_self": null,
       "border_bottom": null,
       "border_left": null,
       "border_right": null,
       "border_top": null,
       "bottom": null,
       "display": null,
       "flex": null,
       "flex_flow": null,
       "grid_area": null,
       "grid_auto_columns": null,
       "grid_auto_flow": null,
       "grid_auto_rows": null,
       "grid_column": null,
       "grid_gap": null,
       "grid_row": null,
       "grid_template_areas": null,
       "grid_template_columns": null,
       "grid_template_rows": null,
       "height": null,
       "justify_content": null,
       "justify_items": null,
       "left": null,
       "margin": null,
       "max_height": null,
       "max_width": null,
       "min_height": null,
       "min_width": null,
       "object_fit": null,
       "object_position": null,
       "order": null,
       "overflow": null,
       "padding": null,
       "right": null,
       "top": null,
       "visibility": null,
       "width": null
      }
     },
     "55e8cf4ff7324ad0ac2c0c9b95a384c2": {
      "model_module": "@jupyter-widgets/base",
      "model_module_version": "2.0.0",
      "model_name": "LayoutModel",
      "state": {
       "_model_module": "@jupyter-widgets/base",
       "_model_module_version": "2.0.0",
       "_model_name": "LayoutModel",
       "_view_count": null,
       "_view_module": "@jupyter-widgets/base",
       "_view_module_version": "2.0.0",
       "_view_name": "LayoutView",
       "align_content": null,
       "align_items": null,
       "align_self": null,
       "border_bottom": null,
       "border_left": null,
       "border_right": null,
       "border_top": null,
       "bottom": null,
       "display": null,
       "flex": null,
       "flex_flow": null,
       "grid_area": null,
       "grid_auto_columns": null,
       "grid_auto_flow": null,
       "grid_auto_rows": null,
       "grid_column": null,
       "grid_gap": null,
       "grid_row": null,
       "grid_template_areas": null,
       "grid_template_columns": null,
       "grid_template_rows": null,
       "height": null,
       "justify_content": null,
       "justify_items": null,
       "left": null,
       "margin": null,
       "max_height": null,
       "max_width": null,
       "min_height": null,
       "min_width": null,
       "object_fit": null,
       "object_position": null,
       "order": null,
       "overflow": null,
       "padding": null,
       "right": null,
       "top": null,
       "visibility": null,
       "width": null
      }
     },
     "5a1bf521374446459960dd06a4bb44ac": {
      "model_module": "nglview-js-widgets",
      "model_module_version": "3.0.8",
      "model_name": "ColormakerRegistryModel",
      "state": {
       "_dom_classes": [],
       "_model_module": "nglview-js-widgets",
       "_model_module_version": "3.0.8",
       "_model_name": "ColormakerRegistryModel",
       "_msg_ar": [],
       "_msg_q": [],
       "_ready": false,
       "_view_count": null,
       "_view_module": "nglview-js-widgets",
       "_view_module_version": "3.0.8",
       "_view_name": "ColormakerRegistryView",
       "layout": "IPY_MODEL_4c86cfe44a5e4b4e9d2554af133ab0d9",
       "tabbable": null,
       "tooltip": null
      }
     },
     "6b40fee428f541bfb7310d904677720a": {
      "model_module": "@jupyter-widgets/base",
      "model_module_version": "2.0.0",
      "model_name": "LayoutModel",
      "state": {
       "_model_module": "@jupyter-widgets/base",
       "_model_module_version": "2.0.0",
       "_model_name": "LayoutModel",
       "_view_count": null,
       "_view_module": "@jupyter-widgets/base",
       "_view_module_version": "2.0.0",
       "_view_name": "LayoutView",
       "align_content": null,
       "align_items": null,
       "align_self": null,
       "border_bottom": null,
       "border_left": null,
       "border_right": null,
       "border_top": null,
       "bottom": null,
       "display": null,
       "flex": null,
       "flex_flow": null,
       "grid_area": null,
       "grid_auto_columns": null,
       "grid_auto_flow": null,
       "grid_auto_rows": null,
       "grid_column": null,
       "grid_gap": null,
       "grid_row": null,
       "grid_template_areas": null,
       "grid_template_columns": null,
       "grid_template_rows": null,
       "height": null,
       "justify_content": null,
       "justify_items": null,
       "left": null,
       "margin": null,
       "max_height": null,
       "max_width": null,
       "min_height": null,
       "min_width": null,
       "object_fit": null,
       "object_position": null,
       "order": null,
       "overflow": null,
       "padding": null,
       "right": null,
       "top": null,
       "visibility": null,
       "width": null
      }
     },
     "76c5e3aaa5b74867b84a6708b6ba3dd3": {
      "model_module": "@jupyter-widgets/controls",
      "model_module_version": "2.0.0",
      "model_name": "PlayModel",
      "state": {
       "_dom_classes": [],
       "_model_module": "@jupyter-widgets/controls",
       "_model_module_version": "2.0.0",
       "_model_name": "PlayModel",
       "_view_count": null,
       "_view_module": "@jupyter-widgets/controls",
       "_view_module_version": "2.0.0",
       "_view_name": "PlayView",
       "description": "",
       "description_allow_html": false,
       "disabled": false,
       "interval": 100,
       "layout": "IPY_MODEL_55e8cf4ff7324ad0ac2c0c9b95a384c2",
       "max": 99,
       "min": 0,
       "playing": false,
       "repeat": false,
       "show_repeat": true,
       "step": 1,
       "style": "IPY_MODEL_2bc670524ffd4e6d9d3bdd60dc7499da",
       "tabbable": null,
       "tooltip": null,
       "value": 0
      }
     },
     "7bac7de845b244d8a0b90d1b69b3e7dc": {
      "model_module": "@jupyter-widgets/base",
      "model_module_version": "2.0.0",
      "model_name": "LayoutModel",
      "state": {
       "_model_module": "@jupyter-widgets/base",
       "_model_module_version": "2.0.0",
       "_model_name": "LayoutModel",
       "_view_count": null,
       "_view_module": "@jupyter-widgets/base",
       "_view_module_version": "2.0.0",
       "_view_name": "LayoutView",
       "align_content": null,
       "align_items": null,
       "align_self": null,
       "border_bottom": null,
       "border_left": null,
       "border_right": null,
       "border_top": null,
       "bottom": null,
       "display": null,
       "flex": null,
       "flex_flow": null,
       "grid_area": null,
       "grid_auto_columns": null,
       "grid_auto_flow": null,
       "grid_auto_rows": null,
       "grid_column": null,
       "grid_gap": null,
       "grid_row": null,
       "grid_template_areas": null,
       "grid_template_columns": null,
       "grid_template_rows": null,
       "height": null,
       "justify_content": null,
       "justify_items": null,
       "left": null,
       "margin": null,
       "max_height": null,
       "max_width": null,
       "min_height": null,
       "min_width": null,
       "object_fit": null,
       "object_position": null,
       "order": null,
       "overflow": null,
       "padding": null,
       "right": null,
       "top": null,
       "visibility": null,
       "width": null
      }
     },
     "7e45342a8c5d4a4ebd8ca28efd2460ae": {
      "model_module": "@jupyter-widgets/base",
      "model_module_version": "2.0.0",
      "model_name": "LayoutModel",
      "state": {
       "_model_module": "@jupyter-widgets/base",
       "_model_module_version": "2.0.0",
       "_model_name": "LayoutModel",
       "_view_count": null,
       "_view_module": "@jupyter-widgets/base",
       "_view_module_version": "2.0.0",
       "_view_name": "LayoutView",
       "align_content": null,
       "align_items": null,
       "align_self": null,
       "border_bottom": null,
       "border_left": null,
       "border_right": null,
       "border_top": null,
       "bottom": null,
       "display": null,
       "flex": null,
       "flex_flow": null,
       "grid_area": null,
       "grid_auto_columns": null,
       "grid_auto_flow": null,
       "grid_auto_rows": null,
       "grid_column": null,
       "grid_gap": null,
       "grid_row": null,
       "grid_template_areas": null,
       "grid_template_columns": null,
       "grid_template_rows": null,
       "height": null,
       "justify_content": null,
       "justify_items": null,
       "left": null,
       "margin": null,
       "max_height": null,
       "max_width": null,
       "min_height": null,
       "min_width": null,
       "object_fit": null,
       "object_position": null,
       "order": null,
       "overflow": null,
       "padding": null,
       "right": null,
       "top": null,
       "visibility": null,
       "width": null
      }
     },
     "819d7a02ae5e4a59b8915b56997f29b7": {
      "buffers": [
       {
        "data": "",
        "encoding": "base64",
        "path": [
         "value"
        ]
       }
      ],
      "model_module": "@jupyter-widgets/controls",
      "model_module_version": "2.0.0",
      "model_name": "ImageModel",
      "state": {
       "_dom_classes": [],
       "_model_module": "@jupyter-widgets/controls",
       "_model_module_version": "2.0.0",
       "_model_name": "ImageModel",
       "_view_count": null,
       "_view_module": "@jupyter-widgets/controls",
       "_view_module_version": "2.0.0",
       "_view_name": "ImageView",
       "format": "png",
       "height": "",
       "layout": "IPY_MODEL_b4445dd109f742c3832d57e453023be2",
       "tabbable": null,
       "tooltip": null,
       "width": "900.0"
      }
     },
     "89e5a098805248b6b3593006976fac83": {
      "model_module": "@jupyter-widgets/base",
      "model_module_version": "2.0.0",
      "model_name": "LayoutModel",
      "state": {
       "_model_module": "@jupyter-widgets/base",
       "_model_module_version": "2.0.0",
       "_model_name": "LayoutModel",
       "_view_count": null,
       "_view_module": "@jupyter-widgets/base",
       "_view_module_version": "2.0.0",
       "_view_name": "LayoutView",
       "align_content": null,
       "align_items": null,
       "align_self": null,
       "border_bottom": null,
       "border_left": null,
       "border_right": null,
       "border_top": null,
       "bottom": null,
       "display": null,
       "flex": null,
       "flex_flow": null,
       "grid_area": null,
       "grid_auto_columns": null,
       "grid_auto_flow": null,
       "grid_auto_rows": null,
       "grid_column": null,
       "grid_gap": null,
       "grid_row": null,
       "grid_template_areas": null,
       "grid_template_columns": null,
       "grid_template_rows": null,
       "height": null,
       "justify_content": null,
       "justify_items": null,
       "left": null,
       "margin": null,
       "max_height": null,
       "max_width": null,
       "min_height": null,
       "min_width": null,
       "object_fit": null,
       "object_position": null,
       "order": null,
       "overflow": null,
       "padding": null,
       "right": null,
       "top": null,
       "visibility": null,
       "width": null
      }
     },
     "95a7d65e6686450483b2350b65ae7124": {
      "model_module": "@jupyter-widgets/controls",
      "model_module_version": "2.0.0",
      "model_name": "ButtonModel",
      "state": {
       "_dom_classes": [],
       "_model_module": "@jupyter-widgets/controls",
       "_model_module_version": "2.0.0",
       "_model_name": "ButtonModel",
       "_view_count": null,
       "_view_module": "@jupyter-widgets/controls",
       "_view_module_version": "2.0.0",
       "_view_name": "ButtonView",
       "button_style": "",
       "description": "",
       "disabled": false,
       "icon": "compress",
       "layout": "IPY_MODEL_b6dbfbb1542549e0b27cd463e69fd5f4",
       "style": "IPY_MODEL_c44b4ff205cf45df89b5f49d8ed409a5",
       "tabbable": null,
       "tooltip": null
      }
     },
     "9d7fdca6360848f19c9fa070ca1dea26": {
      "model_module": "@jupyter-widgets/base",
      "model_module_version": "2.0.0",
      "model_name": "LayoutModel",
      "state": {
       "_model_module": "@jupyter-widgets/base",
       "_model_module_version": "2.0.0",
       "_model_name": "LayoutModel",
       "_view_count": null,
       "_view_module": "@jupyter-widgets/base",
       "_view_module_version": "2.0.0",
       "_view_name": "LayoutView",
       "align_content": null,
       "align_items": null,
       "align_self": null,
       "border_bottom": null,
       "border_left": null,
       "border_right": null,
       "border_top": null,
       "bottom": null,
       "display": null,
       "flex": null,
       "flex_flow": null,
       "grid_area": null,
       "grid_auto_columns": null,
       "grid_auto_flow": null,
       "grid_auto_rows": null,
       "grid_column": null,
       "grid_gap": null,
       "grid_row": null,
       "grid_template_areas": null,
       "grid_template_columns": null,
       "grid_template_rows": null,
       "height": null,
       "justify_content": null,
       "justify_items": null,
       "left": null,
       "margin": null,
       "max_height": null,
       "max_width": null,
       "min_height": null,
       "min_width": null,
       "object_fit": null,
       "object_position": null,
       "order": null,
       "overflow": null,
       "padding": null,
       "right": null,
       "top": null,
       "visibility": null,
       "width": null
      }
     },
     "a30b652311fa48fd97bcaa906ddd8ca1": {
      "model_module": "@jupyter-widgets/controls",
      "model_module_version": "2.0.0",
      "model_name": "LinkModel",
      "state": {
       "_model_module": "@jupyter-widgets/controls",
       "_model_module_version": "2.0.0",
       "_model_name": "LinkModel",
       "_view_count": null,
       "_view_module": "@jupyter-widgets/controls",
       "_view_module_version": "2.0.0",
       "_view_name": null,
       "source": [
        "IPY_MODEL_1265d128203a4e1381abc1878c867c24",
        "value"
       ],
       "target": [
        "IPY_MODEL_f06f82af89e345618a7e6f43234af358",
        "frame"
       ]
      }
     },
     "acaf53fb65ba4ddaad2406e0acc86766": {
      "model_module": "@jupyter-widgets/base",
      "model_module_version": "2.0.0",
      "model_name": "LayoutModel",
      "state": {
       "_model_module": "@jupyter-widgets/base",
       "_model_module_version": "2.0.0",
       "_model_name": "LayoutModel",
       "_view_count": null,
       "_view_module": "@jupyter-widgets/base",
       "_view_module_version": "2.0.0",
       "_view_name": "LayoutView",
       "align_content": null,
       "align_items": null,
       "align_self": null,
       "border_bottom": null,
       "border_left": null,
       "border_right": null,
       "border_top": null,
       "bottom": null,
       "display": null,
       "flex": null,
       "flex_flow": null,
       "grid_area": null,
       "grid_auto_columns": null,
       "grid_auto_flow": null,
       "grid_auto_rows": null,
       "grid_column": null,
       "grid_gap": null,
       "grid_row": null,
       "grid_template_areas": null,
       "grid_template_columns": null,
       "grid_template_rows": null,
       "height": null,
       "justify_content": null,
       "justify_items": null,
       "left": null,
       "margin": null,
       "max_height": null,
       "max_width": null,
       "min_height": null,
       "min_width": null,
       "object_fit": null,
       "object_position": null,
       "order": null,
       "overflow": null,
       "padding": null,
       "right": null,
       "top": null,
       "visibility": null,
       "width": null
      }
     },
     "af9cfc4a64044356abf5d8b38fb7b5e0": {
      "model_module": "@jupyter-widgets/controls",
      "model_module_version": "2.0.0",
      "model_name": "DescriptionStyleModel",
      "state": {
       "_model_module": "@jupyter-widgets/controls",
       "_model_module_version": "2.0.0",
       "_model_name": "DescriptionStyleModel",
       "_view_count": null,
       "_view_module": "@jupyter-widgets/base",
       "_view_module_version": "2.0.0",
       "_view_name": "StyleView",
       "description_width": ""
      }
     },
     "b14f67dee6ce48b388cdc97c89173b4e": {
      "model_module": "@jupyter-widgets/base",
      "model_module_version": "2.0.0",
      "model_name": "LayoutModel",
      "state": {
       "_model_module": "@jupyter-widgets/base",
       "_model_module_version": "2.0.0",
       "_model_name": "LayoutModel",
       "_view_count": null,
       "_view_module": "@jupyter-widgets/base",
       "_view_module_version": "2.0.0",
       "_view_name": "LayoutView",
       "align_content": null,
       "align_items": null,
       "align_self": null,
       "border_bottom": null,
       "border_left": null,
       "border_right": null,
       "border_top": null,
       "bottom": null,
       "display": null,
       "flex": null,
       "flex_flow": null,
       "grid_area": null,
       "grid_auto_columns": null,
       "grid_auto_flow": null,
       "grid_auto_rows": null,
       "grid_column": null,
       "grid_gap": null,
       "grid_row": null,
       "grid_template_areas": null,
       "grid_template_columns": null,
       "grid_template_rows": null,
       "height": null,
       "justify_content": null,
       "justify_items": null,
       "left": null,
       "margin": null,
       "max_height": null,
       "max_width": null,
       "min_height": null,
       "min_width": null,
       "object_fit": null,
       "object_position": null,
       "order": null,
       "overflow": null,
       "padding": null,
       "right": null,
       "top": null,
       "visibility": null,
       "width": null
      }
     },
     "b4445dd109f742c3832d57e453023be2": {
      "model_module": "@jupyter-widgets/base",
      "model_module_version": "2.0.0",
      "model_name": "LayoutModel",
      "state": {
       "_model_module": "@jupyter-widgets/base",
       "_model_module_version": "2.0.0",
       "_model_name": "LayoutModel",
       "_view_count": null,
       "_view_module": "@jupyter-widgets/base",
       "_view_module_version": "2.0.0",
       "_view_name": "LayoutView",
       "align_content": null,
       "align_items": null,
       "align_self": null,
       "border_bottom": null,
       "border_left": null,
       "border_right": null,
       "border_top": null,
       "bottom": null,
       "display": null,
       "flex": null,
       "flex_flow": null,
       "grid_area": null,
       "grid_auto_columns": null,
       "grid_auto_flow": null,
       "grid_auto_rows": null,
       "grid_column": null,
       "grid_gap": null,
       "grid_row": null,
       "grid_template_areas": null,
       "grid_template_columns": null,
       "grid_template_rows": null,
       "height": null,
       "justify_content": null,
       "justify_items": null,
       "left": null,
       "margin": null,
       "max_height": null,
       "max_width": null,
       "min_height": null,
       "min_width": null,
       "object_fit": null,
       "object_position": null,
       "order": null,
       "overflow": null,
       "padding": null,
       "right": null,
       "top": null,
       "visibility": null,
       "width": null
      }
     },
     "b5e9be392a66479aa67e5bbff3a2086f": {
      "model_module": "@jupyter-widgets/base",
      "model_module_version": "2.0.0",
      "model_name": "LayoutModel",
      "state": {
       "_model_module": "@jupyter-widgets/base",
       "_model_module_version": "2.0.0",
       "_model_name": "LayoutModel",
       "_view_count": null,
       "_view_module": "@jupyter-widgets/base",
       "_view_module_version": "2.0.0",
       "_view_name": "LayoutView",
       "align_content": null,
       "align_items": null,
       "align_self": null,
       "border_bottom": null,
       "border_left": null,
       "border_right": null,
       "border_top": null,
       "bottom": null,
       "display": null,
       "flex": null,
       "flex_flow": null,
       "grid_area": null,
       "grid_auto_columns": null,
       "grid_auto_flow": null,
       "grid_auto_rows": null,
       "grid_column": null,
       "grid_gap": null,
       "grid_row": null,
       "grid_template_areas": null,
       "grid_template_columns": null,
       "grid_template_rows": null,
       "height": null,
       "justify_content": null,
       "justify_items": null,
       "left": null,
       "margin": null,
       "max_height": null,
       "max_width": null,
       "min_height": null,
       "min_width": null,
       "object_fit": null,
       "object_position": null,
       "order": null,
       "overflow": null,
       "padding": null,
       "right": null,
       "top": null,
       "visibility": null,
       "width": "34px"
      }
     },
     "b6dbfbb1542549e0b27cd463e69fd5f4": {
      "model_module": "@jupyter-widgets/base",
      "model_module_version": "2.0.0",
      "model_name": "LayoutModel",
      "state": {
       "_model_module": "@jupyter-widgets/base",
       "_model_module_version": "2.0.0",
       "_model_name": "LayoutModel",
       "_view_count": null,
       "_view_module": "@jupyter-widgets/base",
       "_view_module_version": "2.0.0",
       "_view_name": "LayoutView",
       "align_content": null,
       "align_items": null,
       "align_self": null,
       "border_bottom": null,
       "border_left": null,
       "border_right": null,
       "border_top": null,
       "bottom": null,
       "display": null,
       "flex": null,
       "flex_flow": null,
       "grid_area": null,
       "grid_auto_columns": null,
       "grid_auto_flow": null,
       "grid_auto_rows": null,
       "grid_column": null,
       "grid_gap": null,
       "grid_row": null,
       "grid_template_areas": null,
       "grid_template_columns": null,
       "grid_template_rows": null,
       "height": null,
       "justify_content": null,
       "justify_items": null,
       "left": null,
       "margin": null,
       "max_height": null,
       "max_width": null,
       "min_height": null,
       "min_width": null,
       "object_fit": null,
       "object_position": null,
       "order": null,
       "overflow": null,
       "padding": null,
       "right": null,
       "top": null,
       "visibility": null,
       "width": "34px"
      }
     },
     "c1e23825a1034b689838c8381f596c84": {
      "model_module": "@jupyter-widgets/controls",
      "model_module_version": "2.0.0",
      "model_name": "HBoxModel",
      "state": {
       "_dom_classes": [],
       "_model_module": "@jupyter-widgets/controls",
       "_model_module_version": "2.0.0",
       "_model_name": "HBoxModel",
       "_view_count": null,
       "_view_module": "@jupyter-widgets/controls",
       "_view_module_version": "2.0.0",
       "_view_name": "HBoxView",
       "box_style": "",
       "children": [
        "IPY_MODEL_1265d128203a4e1381abc1878c867c24",
        "IPY_MODEL_e127b7040c3e4dad881330ada5771e46"
       ],
       "layout": "IPY_MODEL_acaf53fb65ba4ddaad2406e0acc86766",
       "tabbable": null,
       "tooltip": null
      }
     },
     "c44b4ff205cf45df89b5f49d8ed409a5": {
      "model_module": "@jupyter-widgets/controls",
      "model_module_version": "2.0.0",
      "model_name": "ButtonStyleModel",
      "state": {
       "_model_module": "@jupyter-widgets/controls",
       "_model_module_version": "2.0.0",
       "_model_name": "ButtonStyleModel",
       "_view_count": null,
       "_view_module": "@jupyter-widgets/base",
       "_view_module_version": "2.0.0",
       "_view_name": "StyleView",
       "button_color": null,
       "font_family": null,
       "font_size": null,
       "font_style": null,
       "font_variant": null,
       "font_weight": null,
       "text_color": null,
       "text_decoration": null
      }
     },
     "c498dd7cec2c445d9e97b4b91e0802f6": {
      "model_module": "@jupyter-widgets/controls",
      "model_module_version": "2.0.0",
      "model_name": "SliderStyleModel",
      "state": {
       "_model_module": "@jupyter-widgets/controls",
       "_model_module_version": "2.0.0",
       "_model_name": "SliderStyleModel",
       "_view_count": null,
       "_view_module": "@jupyter-widgets/base",
       "_view_module_version": "2.0.0",
       "_view_name": "StyleView",
       "description_width": "",
       "handle_color": null
      }
     },
     "c8e55482dac24991a3a2e23135d509e5": {
      "model_module": "@jupyter-widgets/controls",
      "model_module_version": "2.0.0",
      "model_name": "ButtonModel",
      "state": {
       "_dom_classes": [],
       "_model_module": "@jupyter-widgets/controls",
       "_model_module_version": "2.0.0",
       "_model_name": "ButtonModel",
       "_view_count": null,
       "_view_module": "@jupyter-widgets/controls",
       "_view_module_version": "2.0.0",
       "_view_name": "ButtonView",
       "button_style": "",
       "description": "",
       "disabled": false,
       "icon": "compress",
       "layout": "IPY_MODEL_1048ac9c67b642da800aa7577f24e5f4",
       "style": "IPY_MODEL_3e1e1168e9dc4832bc06e3d237e68f3c",
       "tabbable": null,
       "tooltip": null
      }
     },
     "c9644f02683748f3beef89780f5adf52": {
      "model_module": "@jupyter-widgets/base",
      "model_module_version": "2.0.0",
      "model_name": "LayoutModel",
      "state": {
       "_model_module": "@jupyter-widgets/base",
       "_model_module_version": "2.0.0",
       "_model_name": "LayoutModel",
       "_view_count": null,
       "_view_module": "@jupyter-widgets/base",
       "_view_module_version": "2.0.0",
       "_view_name": "LayoutView",
       "align_content": null,
       "align_items": null,
       "align_self": null,
       "border_bottom": null,
       "border_left": null,
       "border_right": null,
       "border_top": null,
       "bottom": null,
       "display": null,
       "flex": null,
       "flex_flow": null,
       "grid_area": null,
       "grid_auto_columns": null,
       "grid_auto_flow": null,
       "grid_auto_rows": null,
       "grid_column": null,
       "grid_gap": null,
       "grid_row": null,
       "grid_template_areas": null,
       "grid_template_columns": null,
       "grid_template_rows": null,
       "height": null,
       "justify_content": null,
       "justify_items": null,
       "left": null,
       "margin": null,
       "max_height": null,
       "max_width": null,
       "min_height": null,
       "min_width": null,
       "object_fit": null,
       "object_position": null,
       "order": null,
       "overflow": null,
       "padding": null,
       "right": null,
       "top": null,
       "visibility": null,
       "width": null
      }
     },
     "ce33dc58b6ac4192bf8aeb7910ceb527": {
      "model_module": "nglview-js-widgets",
      "model_module_version": "3.0.8",
      "model_name": "NGLModel",
      "state": {
       "_camera_orientation": [],
       "_camera_str": "orthographic",
       "_dom_classes": [],
       "_gui_theme": null,
       "_ibtn_fullscreen": "IPY_MODEL_c8e55482dac24991a3a2e23135d509e5",
       "_igui": null,
       "_iplayer": "IPY_MODEL_dcbd8d35925a470999eb9fc9c191e54a",
       "_model_module": "nglview-js-widgets",
       "_model_module_version": "3.0.8",
       "_model_name": "NGLModel",
       "_ngl_color_dict": {},
       "_ngl_coordinate_resource": {},
       "_ngl_full_stage_parameters": {},
       "_ngl_msg_archive": [
        {
         "args": [
          {
           "binary": false,
           "data": "REMARK   1 CREATED WITH MDTraj 1.9.9, 2023-09-27\nCRYST1   26.574   26.574   26.574  90.00  90.00  90.00 P 1           1 \nMODEL        0\nATOM      1  O1x UNK A   1      11.347  14.165  18.260  1.00  0.00           O  \nATOM      2  C1x UNK A   1      10.252  13.771  17.866  1.00  0.00           C  \nATOM      3  N1x UNK A   1       9.409  14.503  17.053  1.00  0.00           N  \nATOM      4  C2x UNK A   1       8.155  13.765  16.772  1.00  0.00           C  \nATOM      5  C3x UNK A   1       9.477  15.976  16.870  1.00  0.00           C  \nATOM      6  N2x UNK A   1       9.240  16.496  15.477  1.00  0.00           N  \nATOM      7  C4x UNK A   1       7.966  16.519  14.803  1.00  0.00           C  \nATOM      8  C5x UNK A   1      10.057  17.527  15.030  1.00  0.00           C  \nATOM      9  O2x UNK A   1      10.952  18.142  15.629  1.00  0.00           O  \nATOM     10  N3x UNK A   1       9.469  18.174  14.017  1.00  0.00           N  \nATOM     11  C6x UNK A   1       8.168  17.645  13.743  1.00  0.00           C  \nATOM     12  C7x UNK A   1      10.178  19.172  13.185  1.00  0.00           C  \nATOM     13  N4x UNK A   1      10.789  18.628  11.985  1.00  0.00           N  \nATOM     14  C8x UNK A   1      10.137  18.779  10.695  1.00  0.00           C  \nATOM     15  C9x UNK A   1      12.148  18.501  11.900  1.00  0.00           C  \nATOM     16  O3x UNK A   1      12.967  18.883  12.720  1.00  0.00           O  \nATOM     17  N5x UNK A   1      12.426  18.428  10.573  1.00  0.00           N  \nATOM     18 C10x UNK A   1      11.252  18.469   9.723  1.00  0.00           C  \nATOM     19 C11x UNK A   1      13.773  18.684  10.087  1.00  0.00           C  \nATOM     20  N6x UNK A   1      14.476  17.529   9.595  1.00  0.00           N  \nATOM     21 C12x UNK A   1      14.107  16.893   8.321  1.00  0.00           C  \nATOM     22 C13x UNK A   1      15.447  16.883  10.313  1.00  0.00           C  \nATOM     23  O4x UNK A   1      15.988  17.224  11.349  1.00  0.00           O  \nATOM     24  N7x UNK A   1      15.902  15.813   9.514  1.00  0.00           N  \nATOM     25 C14x UNK A   1      15.316  15.918   8.163  1.00  0.00           C  \nATOM     26 C15x UNK A   1      17.270  15.272   9.645  1.00  0.00           C  \nATOM     27  N8x UNK A   1      17.272  13.801   9.710  1.00  0.00           N  \nATOM     28 C16x UNK A   1      17.335  12.977   8.510  1.00  0.00           C  \nATOM     29 C17x UNK A   1      17.733  13.068  10.768  1.00  0.00           C  \nATOM     30  O5x UNK A   1      18.161  13.597  11.813  1.00  0.00           O  \nATOM     31  N9x UNK A   1      18.073  11.808  10.347  1.00  0.00           N  \nATOM     32 C18x UNK A   1      17.817  11.589   8.981  1.00  0.00           C  \nATOM     33 C19x UNK A   1      18.974  10.906  11.113  1.00  0.00           C  \nATOM     34 N10x UNK A   1      18.219   9.809  11.808  1.00  0.00           N  \nATOM     35 C20x UNK A   1      17.688   8.589  11.138  1.00  0.00           C  \nATOM     36 C21x UNK A   1      18.077   9.706  13.174  1.00  0.00           C  \nATOM     37  O6x UNK A   1      18.672  10.360  13.986  1.00  0.00           O  \nATOM     38 N11x UNK A   1      17.400   8.544  13.508  1.00  0.00           N  \nATOM     39 C22x UNK A   1      17.123   7.682  12.290  1.00  0.00           C  \nATOM     40 C23x UNK A   1      17.345   8.061  14.851  1.00  0.00           C  \nATOM     41 N12x UNK A   1      16.019   7.864  15.374  1.00  0.00           N  \nATOM     42 C24x UNK A   1      15.168   6.679  15.082  1.00  0.00           C  \nATOM     43 C25x UNK A   1      15.528   8.508  16.518  1.00  0.00           C  \nATOM     44  O7x UNK A   1      16.074   9.460  17.096  1.00  0.00           O  \nATOM     45 N13x UNK A   1      14.344   7.956  16.937  1.00  0.00           N  \nATOM     46 C26x UNK A   1      14.056   6.682  16.230  1.00  0.00           C  \nATOM     47 C27x UNK A   1      13.852   8.311  18.252  1.00  0.00           C  \nATOM     48 N14x UNK A   1      12.491   8.913  18.155  1.00  0.00           N  \nATOM     49 C28x UNK A   1      11.245   8.126  17.933  1.00  0.00           C  \nATOM     50 C29x UNK A   1      12.223  10.206  18.451  1.00  0.00           C  \nATOM     51  O8x UNK A   1      13.065  10.929  18.956  1.00  0.00           O  \nATOM     52 N15x UNK A   1      10.872  10.445  18.402  1.00  0.00           N  \nATOM     53 C30x UNK A   1      10.277  11.565  19.110  1.00  0.00           C  \nATOM     54 C31x UNK A   1      10.135   9.194  18.102  1.00  0.00           C  \nATOM     55 N16x UNK A   1       9.688  12.524  18.137  1.00  0.00           N  \nATOM     56 C32x UNK A   1       8.415  12.393  17.469  1.00  0.00           C  \nATOM     57 N17x UNK A   1       8.497  11.423  16.342  1.00  0.00           N  \nATOM     58 C33x UNK A   1       8.224   9.945  16.533  1.00  0.00           C  \nATOM     59 C34x UNK A   1       8.296  12.009  15.169  1.00  0.00           C  \nATOM     60  O9x UNK A   1       8.105  11.478  14.098  1.00  0.00           O  \nATOM     61 N18x UNK A   1       8.041  13.367  15.344  1.00  0.00           N  \nATOM     62 C35x UNK A   1       7.095  14.081  14.465  1.00  0.00           C  \nATOM     63 N19x UNK A   1       7.710  15.318  13.993  1.00  0.00           N  \nATOM     64 C36x UNK A   1       7.655  15.680  12.655  1.00  0.00           C  \nATOM     65 O10x UNK A   1       7.201  14.963  11.753  1.00  0.00           O  \nATOM     66 N20x UNK A   1       8.092  16.967  12.495  1.00  0.00           N  \nATOM     67 C37x UNK A   1       7.854  17.704  11.221  1.00  0.00           C  \nATOM     68 N21x UNK A   1       9.146  17.780  10.470  1.00  0.00           N  \nATOM     69 C38x UNK A   1       9.650  16.773   9.632  1.00  0.00           C  \nATOM     70 O11x UNK A   1       8.926  15.978   9.054  1.00  0.00           O  \nATOM     71 N22x UNK A   1      10.927  17.105   9.196  1.00  0.00           N  \nATOM     72 C39x UNK A   1      11.524  16.502   7.942  1.00  0.00           C  \nATOM     73 N23x UNK A   1      12.930  16.042   8.178  1.00  0.00           N  \nATOM     74 C40x UNK A   1      13.292  14.794   7.738  1.00  0.00           C  \nATOM     75 O12x UNK A   1      12.519  14.151   7.034  1.00  0.00           O  \nATOM     76 N24x UNK A   1      14.685  14.649   7.809  1.00  0.00           N  \nATOM     77 C41x UNK A   1      15.360  13.636   7.015  1.00  0.00           C  \nATOM     78 N25x UNK A   1      16.015  12.713   7.945  1.00  0.00           N  \nATOM     79 C42x UNK A   1      15.601  11.434   8.099  1.00  0.00           C  \nATOM     80 O13x UNK A   1      14.624  10.860   7.623  1.00  0.00           O  \nATOM     81 N26x UNK A   1      16.603  10.749   8.793  1.00  0.00           N  \nATOM     82 C43x UNK A   1      16.554   9.283   8.901  1.00  0.00           C  \nATOM     83 N27x UNK A   1      16.506   8.953  10.318  1.00  0.00           N  \nATOM     84 C44x UNK A   1      15.380   8.356  10.837  1.00  0.00           C  \nATOM     85 O14x UNK A   1      14.269   8.316  10.327  1.00  0.00           O  \nATOM     86 N28x UNK A   1      15.695   7.614  11.998  1.00  0.00           N  \nATOM     87 C45x UNK A   1      14.950   6.481  12.453  1.00  0.00           C  \nATOM     88 N29x UNK A   1      14.381   6.761  13.828  1.00  0.00           N  \nATOM     89 C46x UNK A   1      13.032   6.605  14.099  1.00  0.00           C  \nATOM     90 O15x UNK A   1      12.152   6.544  13.264  1.00  0.00           O  \nATOM     91 N30x UNK A   1      12.822   6.667  15.434  1.00  0.00           N  \nATOM     92 C47x UNK A   1      11.520   6.411  16.049  1.00  0.00           C  \nATOM     93 N31x UNK A   1      11.069   7.705  16.484  1.00  0.00           N  \nATOM     94 C48x UNK A   1      10.037   8.359  15.908  1.00  0.00           C  \nATOM     95 N32x UNK A   1       9.494   9.300  16.748  1.00  0.00           N  \nATOM     96 O16x UNK A   1       9.492   8.010  14.883  1.00  0.00           O  \nATOM     97  H1x UNK A   1       7.283  14.274  17.180  1.00  0.00           H  \nATOM     98  H2x UNK A   1      10.495  16.256  17.141  1.00  0.00           H  \nATOM     99  H3x UNK A   1       8.876  16.538  17.585  1.00  0.00           H  \nATOM    100  H4x UNK A   1       7.143  16.705  15.494  1.00  0.00           H  \nATOM    101  H5x UNK A   1       7.366  18.383  13.784  1.00  0.00           H  \nATOM    102  H6x UNK A   1      10.906  19.718  13.785  1.00  0.00           H  \nATOM    103  H7x UNK A   1       9.516  19.994  12.912  1.00  0.00           H  \nATOM    104  H8x UNK A   1       9.732  19.773  10.505  1.00  0.00           H  \nATOM    105  H9x UNK A   1      11.429  19.214   8.947  1.00  0.00           H  \nATOM    106 H10x UNK A   1      14.368  19.080  10.911  1.00  0.00           H  \nATOM    107 H11x UNK A   1      13.712  19.388   9.257  1.00  0.00           H  \nATOM    108 H12x UNK A   1      14.142  17.686   7.573  1.00  0.00           H  \nATOM    109 H13x UNK A   1      16.072  16.267   7.459  1.00  0.00           H  \nATOM    110 H14x UNK A   1      17.956  15.589   8.859  1.00  0.00           H  \nATOM    111 H15x UNK A   1      17.681  15.568  10.610  1.00  0.00           H  \nATOM    112 H16x UNK A   1      18.005  13.449   7.792  1.00  0.00           H  \nATOM    113 H17x UNK A   1      18.635  11.232   8.354  1.00  0.00           H  \nATOM    114 H18x UNK A   1      19.754  10.441  10.510  1.00  0.00           H  \nATOM    115 H19x UNK A   1      19.488  11.491  11.876  1.00  0.00           H  \nATOM    116 H20x UNK A   1      18.404   7.995  10.569  1.00  0.00           H  \nATOM    117 H21x UNK A   1      17.591   6.700  12.355  1.00  0.00           H  \nATOM    118 H22x UNK A   1      18.011   7.216  15.031  1.00  0.00           H  \nATOM    119 H23x UNK A   1      17.828   8.764  15.530  1.00  0.00           H  \nATOM    120 H24x UNK A   1      15.807   5.800  15.174  1.00  0.00           H  \nATOM    121 H25x UNK A   1      14.163   5.830  16.902  1.00  0.00           H  \nATOM    122 H26x UNK A   1      13.866   7.424  18.885  1.00  0.00           H  \nATOM    123 H27x UNK A   1      14.498   9.058  18.715  1.00  0.00           H  \nATOM    124 H28x UNK A   1      11.132   7.312  18.649  1.00  0.00           H  \nATOM    125 H29x UNK A   1      11.036  12.051  19.723  1.00  0.00           H  \nATOM    126 H30x UNK A   1       9.567  11.250  19.875  1.00  0.00           H  \nATOM    127 H31x UNK A   1       9.372   8.919  18.830  1.00  0.00           H  \nATOM    128 H32x UNK A   1       7.642  12.150  18.198  1.00  0.00           H  \nATOM    129 H33x UNK A   1       7.517   9.811  17.352  1.00  0.00           H  \nATOM    130 H34x UNK A   1       7.725   9.511  15.666  1.00  0.00           H  \nATOM    131 H35x UNK A   1       6.208  14.383  15.021  1.00  0.00           H  \nATOM    132 H36x UNK A   1       6.739  13.425  13.671  1.00  0.00           H  \nATOM    133 H37x UNK A   1       7.403  18.679  11.409  1.00  0.00           H  \nATOM    134 H38x UNK A   1       7.055  17.178  10.697  1.00  0.00           H  \nATOM    135 H39x UNK A   1      11.514  17.192   7.098  1.00  0.00           H  \nATOM    136 H40x UNK A   1      10.955  15.646   7.578  1.00  0.00           H  \nATOM    137 H41x UNK A   1      14.575  13.134   6.449  1.00  0.00           H  \nATOM    138 H42x UNK A   1      16.082  14.026   6.297  1.00  0.00           H  \nATOM    139 H43x UNK A   1      15.645   8.931   8.412  1.00  0.00           H  \nATOM    140 H44x UNK A   1      17.432   8.931   8.358  1.00  0.00           H  \nATOM    141 H45x UNK A   1      14.115   6.209  11.807  1.00  0.00           H  \nATOM    142 H46x UNK A   1      15.569   5.587  12.521  1.00  0.00           H  \nATOM    143 H47x UNK A   1      10.774   6.076  15.329  1.00  0.00           H  \nATOM    144 H48x UNK A   1      11.616   5.700  16.869  1.00  0.00           H  \nTER     145      UNK A   1\nATOM    146  C1x UNK B   1      12.375  11.388  10.289  1.00  0.00           C  \nATOM    147  C2x UNK B   1      14.111  12.990  11.144  1.00  0.00           C  \nATOM    148  C3x UNK B   1      14.543  13.952  12.061  1.00  0.00           C  \nATOM    149  C4x UNK B   1      16.065  13.669  14.924  1.00  0.00           C  \nATOM    150  C5x UNK B   1      14.659  14.199  16.793  1.00  0.00           C  \nATOM    151  C6x UNK B   1      16.998  13.119  15.836  1.00  0.00           C  \nATOM    152  C7x UNK B   1      15.468  13.444  17.639  1.00  0.00           C  \nATOM    153  C8x UNK B   1      12.146  12.460  12.486  1.00  0.00           C  \nATOM    154  C9x UNK B   1      12.934  12.228  11.324  1.00  0.00           C  \nATOM    155 C10x UNK B   1      14.885  14.186  15.406  1.00  0.00           C  \nATOM    156 C11x UNK B   1      13.710  14.105  13.187  1.00  0.00           C  \nATOM    157 C12x UNK B   1      12.547  13.411  13.370  1.00  0.00           C  \nATOM    158 C13x UNK B   1      16.614  12.863  17.154  1.00  0.00           C  \nATOM    159 C14x UNK B   1      11.910  13.818  14.712  1.00  0.00           C  \nATOM    160 C15x UNK B   1      13.929  14.920  14.441  1.00  0.00           C  \nATOM    161 C16x UNK B   1      16.506  19.827  13.088  1.00  0.00           C  \nATOM    162 C17x UNK B   1      17.714  17.964  14.324  1.00  0.00           C  \nATOM    163 C18x UNK B   1      14.550  16.306  14.177  1.00  0.00           C  \nATOM    164 C19x UNK B   1      14.825  17.237  15.366  1.00  0.00           C  \nATOM    165 C20x UNK B   1      15.270  18.590  14.839  1.00  0.00           C  \nATOM    166  N1x UNK B   1      11.874  10.706   9.517  1.00  0.00           N  \nATOM    167  N2x UNK B   1      16.381  18.516  13.789  1.00  0.00           N  \nATOM    168  O1x UNK B   1      12.594  15.026  15.056  1.00  0.00           O  \nATOM    169  F1x UNK B   1      17.498  12.122  17.944  1.00  0.00           F  \nATOM    170  H1x UNK B   1      14.717  12.751  10.280  1.00  0.00           H  \nATOM    171  H2x UNK B   1      15.455  14.530  12.005  1.00  0.00           H  \nATOM    172  H3x UNK B   1      16.341  13.796  13.886  1.00  0.00           H  \nATOM    173  H4x UNK B   1      13.861  14.733  17.292  1.00  0.00           H  \nATOM    174  H5x UNK B   1      17.864  12.670  15.368  1.00  0.00           H  \nATOM    175  H6x UNK B   1      15.183  13.252  18.665  1.00  0.00           H  \nATOM    176  H7x UNK B   1      11.280  11.837  12.669  1.00  0.00           H  \nATOM    177  H8x UNK B   1      10.848  14.016  14.566  1.00  0.00           H  \nATOM    178  H9x UNK B   1      11.989  13.109  15.537  1.00  0.00           H  \nATOM    179 H10x UNK B   1      16.704  20.582  13.850  1.00  0.00           H  \nATOM    180 H11x UNK B   1      17.300  19.735  12.348  1.00  0.00           H  \nATOM    181 H12x UNK B   1      15.623  20.143  12.532  1.00  0.00           H  \nATOM    182 H13x UNK B   1      17.864  18.333  15.339  1.00  0.00           H  \nATOM    183 H14x UNK B   1      17.604  16.881  14.382  1.00  0.00           H  \nATOM    184 H15x UNK B   1      18.528  18.208  13.641  1.00  0.00           H  \nATOM    185 H16x UNK B   1      15.462  16.206  13.589  1.00  0.00           H  \nATOM    186 H17x UNK B   1      13.816  16.802  13.543  1.00  0.00           H  \nATOM    187 H18x UNK B   1      13.929  17.336  15.979  1.00  0.00           H  \nATOM    188 H19x UNK B   1      15.546  16.799  16.055  1.00  0.00           H  \nATOM    189 H20x UNK B   1      14.426  19.145  14.430  1.00  0.00           H  \nATOM    190 H21x UNK B   1      15.662  19.278  15.588  1.00  0.00           H  \nATOM    191 H22x UNK B   1      16.092  17.930  13.003  1.00  0.00           H  \nTER     192      UNK B   1\nATOM    193  O   HOH C   1       4.057  13.235  14.317  1.00  0.00           O  \nATOM    194  H1  HOH C   1       3.480  13.915  14.666  1.00  0.00           H  \nATOM    195  H2  HOH C   1       4.106  12.581  15.014  1.00  0.00           H  \nTER     196      HOH C   1\nATOM    197  O   HOH D   2      18.663  16.974   3.119  1.00  0.00           O  \nATOM    198  H1  HOH D   2      18.822  17.720   3.697  1.00  0.00           H  \nATOM    199  H2  HOH D   2      18.239  16.323   3.677  1.00  0.00           H  \nTER     200      HOH D   2\nATOM    201  O   HOH E   3      20.021   2.653  22.324  1.00  0.00           O  \nATOM    202  H1  HOH E   3      20.311   1.880  21.839  1.00  0.00           H  \nATOM    203  H2  HOH E   3      20.496   3.380  21.922  1.00  0.00           H  \nTER     204      HOH E   3\nATOM    205  O   HOH F   4       5.888  18.202  20.647  1.00  0.00           O  \nATOM    206  H1  HOH F   4       5.271  18.613  21.252  1.00  0.00           H  \nATOM    207  H2  HOH F   4       6.606  18.832  20.572  1.00  0.00           H  \nTER     208      HOH F   4\nATOM    209  O   HOH G   5       6.107   6.696   9.462  1.00  0.00           O  \nATOM    210  H1  HOH G   5       6.304   5.762   9.527  1.00  0.00           H  \nATOM    211  H2  HOH G   5       5.201   6.729   9.153  1.00  0.00           H  \nTER     212      HOH G   5\nATOM    213  O   HOH H   6      25.480  13.421   7.603  1.00  0.00           O  \nATOM    214  H1  HOH H   6      25.043  14.068   7.049  1.00  0.00           H  \nATOM    215  H2  HOH H   6      25.386  12.596   7.127  1.00  0.00           H  \nTER     216      HOH H   6\nATOM    217  O   HOH I   7      17.557  18.612   8.637  1.00  0.00           O  \nATOM    218  H1  HOH I   7      17.605  19.422   9.145  1.00  0.00           H  \nATOM    219  H2  HOH I   7      16.936  18.806   7.935  1.00  0.00           H  \nTER     220      HOH I   7\nATOM    221  O   HOH J   8      10.235  11.341   6.266  1.00  0.00           O  \nATOM    222  H1  HOH J   8      10.387  11.782   7.102  1.00  0.00           H  \nATOM    223  H2  HOH J   8       9.803  10.520   6.503  1.00  0.00           H  \nTER     224      HOH J   8\nATOM    225  O   HOH K   9      18.613  15.482  18.533  1.00  0.00           O  \nATOM    226  H1  HOH K   9      17.800  15.579  19.028  1.00  0.00           H  \nATOM    227  H2  HOH K   9      18.577  14.591  18.185  1.00  0.00           H  \nTER     228      HOH K   9\nATOM    229  O   HOH L  10      20.526  10.386   5.950  1.00  0.00           O  \nATOM    230  H1  HOH L  10      20.870  10.213   5.074  1.00  0.00           H  \nATOM    231  H2  HOH L  10      21.271  10.741   6.435  1.00  0.00           H  \nTER     232      HOH L  10\nATOM    233  O   HOH M  11       6.512  14.826   8.862  1.00  0.00           O  \nATOM    234  H1  HOH M  11       7.400  15.147   9.018  1.00  0.00           H  \nATOM    235  H2  HOH M  11       6.075  14.908   9.710  1.00  0.00           H  \nTER     236      HOH M  11\nATOM    237  O   HOH N  12      11.904  -0.201  14.799  1.00  0.00           O  \nATOM    238  H1  HOH N  12      12.797   0.010  14.527  1.00  0.00           H  \nATOM    239  H2  HOH N  12      11.447   0.640  14.799  1.00  0.00           H  \nTER     240      HOH N  12\nATOM    241  O   HOH O  13      15.859  20.481   1.483  1.00  0.00           O  \nATOM    242  H1  HOH O  13      15.917  21.391   1.773  1.00  0.00           H  \nATOM    243  H2  HOH O  13      15.609  20.538   0.561  1.00  0.00           H  \nTER     244      HOH O  13\nATOM    245  O   HOH P  14      18.773   5.824  25.308  1.00  0.00           O  \nATOM    246  H1  HOH P  14      17.995   5.815  25.864  1.00  0.00           H  \nATOM    247  H2  HOH P  14      18.468   5.492  24.463  1.00  0.00           H  \nTER     248      HOH P  14\nATOM    249  O   HOH Q  15       1.509  21.003   4.167  1.00  0.00           O  \nATOM    250  H1  HOH Q  15       2.298  21.540   4.236  1.00  0.00           H  \nATOM    251  H2  HOH Q  15       1.765  20.153   4.525  1.00  0.00           H  \nTER     252      HOH Q  15\nATOM    253  O   HOH R  16      11.246  13.966  26.209  1.00  0.00           O  \nATOM    254  H1  HOH R  16      10.843  14.709  26.659  1.00  0.00           H  \nATOM    255  H2  HOH R  16      11.190  14.190  25.280  1.00  0.00           H  \nTER     256      HOH R  16\nATOM    257  O   HOH S  17      19.036  22.594  11.628  1.00  0.00           O  \nATOM    258  H1  HOH S  17      18.302  23.197  11.515  1.00  0.00           H  \nATOM    259  H2  HOH S  17      19.467  22.887  12.430  1.00  0.00           H  \nTER     260      HOH S  17\nATOM    261  O   HOH T  18      11.859  22.325   8.997  1.00  0.00           O  \nATOM    262  H1  HOH T  18      11.476  23.180   8.798  1.00  0.00           H  \nATOM    263  H2  HOH T  18      12.150  21.989   8.149  1.00  0.00           H  \nTER     264      HOH T  18\nATOM    265  O   HOH U  19       1.158   7.385   5.210  1.00  0.00           O  \nATOM    266  H1  HOH U  19       1.183   6.428   5.232  1.00  0.00           H  \nATOM    267  H2  HOH U  19       2.054   7.653   5.414  1.00  0.00           H  \nTER     268      HOH U  19\nATOM    269  O   HOH V  20       2.669   1.240  17.174  1.00  0.00           O  \nATOM    270  H1  HOH V  20       2.156   2.049  17.186  1.00  0.00           H  \nATOM    271  H2  HOH V  20       3.351   1.398  16.522  1.00  0.00           H  \nTER     272      HOH V  20\nATOM    273  O   HOH W  21       9.718   0.895  19.406  1.00  0.00           O  \nATOM    274  H1  HOH W  21      10.153   1.685  19.727  1.00  0.00           H  \nATOM    275  H2  HOH W  21      10.330   0.525  18.771  1.00  0.00           H  \nTER     276      HOH W  21\nATOM    277  O   HOH X  22      13.695   0.677   8.013  1.00  0.00           O  \nATOM    278  H1  HOH X  22      14.457   1.210   8.238  1.00  0.00           H  \nATOM    279  H2  HOH X  22      13.973  -0.223   8.181  1.00  0.00           H  \nTER     280      HOH X  22\nATOM    281  O   HOH Y  23       7.368   7.253   2.587  1.00  0.00           O  \nATOM    282  H1  HOH Y  23       8.269   7.575   2.572  1.00  0.00           H  \nATOM    283  H2  HOH Y  23       7.086   7.370   3.494  1.00  0.00           H  \nTER     284      HOH Y  23\nATOM    285  O   HOH Z  24      23.226   8.147  17.613  1.00  0.00           O  \nATOM    286  H1  HOH Z  24      22.560   7.544  17.280  1.00  0.00           H  \nATOM    287  H2  HOH Z  24      23.153   8.083  18.565  1.00  0.00           H  \nTER     288      HOH Z  24\nATOM    289  O   HOH A  25       7.681  13.131   6.844  1.00  0.00           O  \nATOM    290  H1  HOH A  25       7.205  13.655   7.488  1.00  0.00           H  \nATOM    291  H2  HOH A  25       7.961  12.353   7.326  1.00  0.00           H  \nTER     292      HOH A  25\nATOM    293  O   HOH B  26       8.968   2.466  12.628  1.00  0.00           O  \nATOM    294  H1  HOH B  26       9.166   3.388  12.792  1.00  0.00           H  \nATOM    295  H2  HOH B  26       9.493   1.990  13.271  1.00  0.00           H  \nTER     296      HOH B  26\nATOM    297  O   HOH C  27      22.805   3.310   2.640  1.00  0.00           O  \nATOM    298  H1  HOH C  27      21.850   3.356   2.675  1.00  0.00           H  \nATOM    299  H2  HOH C  27      22.995   2.915   1.790  1.00  0.00           H  \nTER     300      HOH C  27\nATOM    301  O   HOH D  28      21.657  21.034  15.313  1.00  0.00           O  \nATOM    302  H1  HOH D  28      21.702  21.944  15.606  1.00  0.00           H  \nATOM    303  H2  HOH D  28      21.968  21.058  14.408  1.00  0.00           H  \nTER     304      HOH D  28\nATOM    305  O   HOH E  29       9.017  25.111   3.092  1.00  0.00           O  \nATOM    306  H1  HOH E  29       9.426  25.973   3.016  1.00  0.00           H  \nATOM    307  H2  HOH E  29       8.471  25.173   3.876  1.00  0.00           H  \nTER     308      HOH E  29\nATOM    309  O   HOH F  30       4.375   3.791  13.098  1.00  0.00           O  \nATOM    310  H1  HOH F  30       3.536   4.085  12.743  1.00  0.00           H  \nATOM    311  H2  HOH F  30       4.997   4.471  12.841  1.00  0.00           H  \nTER     312      HOH F  30\nATOM    313  O   HOH G  31      14.134   4.706  21.794  1.00  0.00           O  \nATOM    314  H1  HOH G  31      14.926   5.237  21.707  1.00  0.00           H  \nATOM    315  H2  HOH G  31      14.389   3.841  21.472  1.00  0.00           H  \nTER     316      HOH G  31\nATOM    317  O   HOH H  32       4.098  13.571   5.947  1.00  0.00           O  \nATOM    318  H1  HOH H  32       4.502  13.177   6.720  1.00  0.00           H  \nATOM    319  H2  HOH H  32       3.209  13.791   6.227  1.00  0.00           H  \nTER     320      HOH H  32\nATOM    321  O   HOH I  33      11.653   3.317  19.376  1.00  0.00           O  \nATOM    322  H1  HOH I  33      12.245   2.756  19.877  1.00  0.00           H  \nATOM    323  H2  HOH I  33      11.563   4.108  19.909  1.00  0.00           H  \nTER     324      HOH I  33\nATOM    325  O   HOH J  34       3.053  24.053   6.099  1.00  0.00           O  \nATOM    326  H1  HOH J  34       2.940  23.897   7.036  1.00  0.00           H  \nATOM    327  H2  HOH J  34       3.374  23.219   5.754  1.00  0.00           H  \nTER     328      HOH J  34\nATOM    329  O   HOH K  35       7.654   5.650  14.835  1.00  0.00           O  \nATOM    330  H1  HOH K  35       8.276   6.375  14.899  1.00  0.00           H  \nATOM    331  H2  HOH K  35       7.438   5.600  13.904  1.00  0.00           H  \nTER     332      HOH K  35\nATOM    333  O   HOH L  36       5.541  19.766  14.304  1.00  0.00           O  \nATOM    334  H1  HOH L  36       4.980  19.871  15.072  1.00  0.00           H  \nATOM    335  H2  HOH L  36       6.149  20.503  14.348  1.00  0.00           H  \nTER     336      HOH L  36\nATOM    337  O   HOH M  37      11.408   2.406  14.363  1.00  0.00           O  \nATOM    338  H1  HOH M  37      11.985   2.797  13.706  1.00  0.00           H  \nATOM    339  H2  HOH M  37      11.072   3.151  14.861  1.00  0.00           H  \nTER     340      HOH M  37\nATOM    341  O   HOH N  38       8.175   8.012   8.345  1.00  0.00           O  \nATOM    342  H1  HOH N  38       7.412   7.543   8.683  1.00  0.00           H  \nATOM    343  H2  HOH N  38       8.597   8.376   9.124  1.00  0.00           H  \nTER     344      HOH N  38\nATOM    345  O   HOH O  39      15.380  16.424   5.020  1.00  0.00           O  \nATOM    346  H1  HOH O  39      15.689  15.661   4.532  1.00  0.00           H  \nATOM    347  H2  HOH O  39      14.430  16.413   4.907  1.00  0.00           H  \nTER     348      HOH O  39\nATOM    349  O   HOH P  40       5.670   1.191   5.334  1.00  0.00           O  \nATOM    350  H1  HOH P  40       6.331   1.535   5.935  1.00  0.00           H  \nATOM    351  H2  HOH P  40       5.545   1.890   4.691  1.00  0.00           H  \nTER     352      HOH P  40\nATOM    353  O   HOH Q  41       9.514   8.075   6.049  1.00  0.00           O  \nATOM    354  H1  HOH Q  41       9.024   8.146   6.868  1.00  0.00           H  \nATOM    355  H2  HOH Q  41      10.375   7.749   6.311  1.00  0.00           H  \nTER     356      HOH Q  41\nATOM    357  O   HOH R  42       8.823   9.481  10.863  1.00  0.00           O  \nATOM    358  H1  HOH R  42       9.698   9.330  11.219  1.00  0.00           H  \nATOM    359  H2  HOH R  42       8.457  10.175  11.412  1.00  0.00           H  \nTER     360      HOH R  42\nATOM    361  O   HOH S  43       8.594  22.236   5.729  1.00  0.00           O  \nATOM    362  H1  HOH S  43       8.548  21.616   6.456  1.00  0.00           H  \nATOM    363  H2  HOH S  43       9.485  22.147   5.392  1.00  0.00           H  \nTER     364      HOH S  43\nATOM    365  O   HOH T  44      11.851   0.672   5.875  1.00  0.00           O  \nATOM    366  H1  HOH T  44      12.526   0.618   6.551  1.00  0.00           H  \nATOM    367  H2  HOH T  44      11.691  -0.237   5.623  1.00  0.00           H  \nTER     368      HOH T  44\nATOM    369  O   HOH U  45       1.946  10.730  16.276  1.00  0.00           O  \nATOM    370  H1  HOH U  45       1.160  10.726  15.730  1.00  0.00           H  \nATOM    371  H2  HOH U  45       1.618  10.619  17.169  1.00  0.00           H  \nTER     372      HOH U  45\nATOM    373  O   HOH V  46       3.113   4.676  19.959  1.00  0.00           O  \nATOM    374  H1  HOH V  46       3.741   4.149  19.465  1.00  0.00           H  \nATOM    375  H2  HOH V  46       2.720   5.255  19.306  1.00  0.00           H  \nTER     376      HOH V  46\nATOM    377  O   HOH W  47       6.404   5.948  12.460  1.00  0.00           O  \nATOM    378  H1  HOH W  47       6.395   6.864  12.183  1.00  0.00           H  \nATOM    379  H2  HOH W  47       6.602   5.458  11.661  1.00  0.00           H  \nTER     380      HOH W  47\nATOM    381  O   HOH X  48       3.957   4.730   9.250  1.00  0.00           O  \nATOM    382  H1  HOH X  48       3.820   3.874   9.656  1.00  0.00           H  \nATOM    383  H2  HOH X  48       4.366   4.534   8.407  1.00  0.00           H  \nTER     384      HOH X  48\nATOM    385  O   HOH Y  49      11.810   2.368   1.266  1.00  0.00           O  \nATOM    386  H1  HOH Y  49      11.646   3.275   1.005  1.00  0.00           H  \nATOM    387  H2  HOH Y  49      12.257   2.438   2.110  1.00  0.00           H  \nTER     388      HOH Y  49\nATOM    389  O   HOH Z  50      22.503  18.333  24.899  1.00  0.00           O  \nATOM    390  H1  HOH Z  50      23.392  17.981  24.848  1.00  0.00           H  \nATOM    391  H2  HOH Z  50      22.272  18.267  25.825  1.00  0.00           H  \nTER     392      HOH Z  50\nATOM    393  O   HOH A  51       3.676  10.167  19.309  1.00  0.00           O  \nATOM    394  H1  HOH A  51       4.161   9.381  19.560  1.00  0.00           H  \nATOM    395  H2  HOH A  51       4.353  10.805  19.083  1.00  0.00           H  \nTER     396      HOH A  51\nATOM    397  O   HOH B  52      12.380   8.105   2.472  1.00  0.00           O  \nATOM    398  H1  HOH B  52      12.487   7.213   2.803  1.00  0.00           H  \nATOM    399  H2  HOH B  52      13.086   8.601   2.887  1.00  0.00           H  \nTER     400      HOH B  52\nATOM    401  O   HOH C  53      10.781  11.417   0.856  1.00  0.00           O  \nATOM    402  H1  HOH C  53      10.750  12.302   0.494  1.00  0.00           H  \nATOM    403  H2  HOH C  53      10.800  11.546   1.804  1.00  0.00           H  \nTER     404      HOH C  53\nATOM    405  O   HOH D  54      14.071   4.570   9.918  1.00  0.00           O  \nATOM    406  H1  HOH D  54      14.526   5.345   9.588  1.00  0.00           H  \nATOM    407  H2  HOH D  54      14.488   3.837   9.466  1.00  0.00           H  \nTER     408      HOH D  54\nATOM    409  O   HOH E  55      20.806  13.139   8.730  1.00  0.00           O  \nATOM    410  H1  HOH E  55      20.905  14.064   8.956  1.00  0.00           H  \nATOM    411  H2  HOH E  55      21.429  12.998   8.017  1.00  0.00           H  \nTER     412      HOH E  55\nATOM    413  O   HOH F  56       0.443   2.267  13.227  1.00  0.00           O  \nATOM    414  H1  HOH F  56       1.079   1.653  13.596  1.00  0.00           H  \nATOM    415  H2  HOH F  56       0.926   3.089  13.140  1.00  0.00           H  \nTER     416      HOH F  56\nATOM    417  O   HOH G  57       8.564  13.681  20.673  1.00  0.00           O  \nATOM    418  H1  HOH G  57       9.450  13.764  21.026  1.00  0.00           H  \nATOM    419  H2  HOH G  57       8.165  14.538  20.823  1.00  0.00           H  \nTER     420      HOH G  57\nATOM    421  O   HOH H  58       9.891   8.225   3.323  1.00  0.00           O  \nATOM    422  H1  HOH H  58      10.819   8.271   3.091  1.00  0.00           H  \nATOM    423  H2  HOH H  58       9.883   8.227   4.280  1.00  0.00           H  \nTER     424      HOH H  58\nATOM    425  O   HOH I  59       4.527  15.388  22.221  1.00  0.00           O  \nATOM    426  H1  HOH I  59       3.841  15.564  21.576  1.00  0.00           H  \nATOM    427  H2  HOH I  59       4.423  16.079  22.876  1.00  0.00           H  \nTER     428      HOH I  59\nATOM    429  O   HOH J  60       3.927  16.687  14.672  1.00  0.00           O  \nATOM    430  H1  HOH J  60       4.295  17.549  14.865  1.00  0.00           H  \nATOM    431  H2  HOH J  60       3.374  16.488  15.428  1.00  0.00           H  \nTER     432      HOH J  60\nATOM    433  O   HOH K  61       8.444   1.697  10.007  1.00  0.00           O  \nATOM    434  H1  HOH K  61       9.280   1.412   9.638  1.00  0.00           H  \nATOM    435  H2  HOH K  61       8.556   1.604  10.953  1.00  0.00           H  \nTER     436      HOH K  61\nATOM    437  O   HOH L  62      11.689   7.099   6.873  1.00  0.00           O  \nATOM    438  H1  HOH L  62      12.600   7.102   6.578  1.00  0.00           H  \nATOM    439  H2  HOH L  62      11.736   7.348   7.797  1.00  0.00           H  \nTER     440      HOH L  62\nATOM    441  O   HOH M  63      22.028  14.869  11.743  1.00  0.00           O  \nATOM    442  H1  HOH M  63      22.621  15.024  12.479  1.00  0.00           H  \nATOM    443  H2  HOH M  63      21.173  15.160  12.059  1.00  0.00           H  \nTER     444      HOH M  63\nATOM    445  O   HOH N  64       5.111  12.195  18.230  1.00  0.00           O  \nATOM    446  H1  HOH N  64       4.768  11.698  17.487  1.00  0.00           H  \nATOM    447  H2  HOH N  64       4.839  13.097  18.061  1.00  0.00           H  \nTER     448      HOH N  64\nATOM    449  O   HOH O  65       3.148   6.676  21.865  1.00  0.00           O  \nATOM    450  H1  HOH O  65       3.281   5.822  21.454  1.00  0.00           H  \nATOM    451  H2  HOH O  65       3.732   7.266  21.388  1.00  0.00           H  \nTER     452      HOH O  65\nATOM    453  O   HOH P  66      16.907  10.006  20.201  1.00  0.00           O  \nATOM    454  H1  HOH P  66      16.258   9.884  19.508  1.00  0.00           H  \nATOM    455  H2  HOH P  66      16.603   9.446  20.915  1.00  0.00           H  \nTER     456      HOH P  66\nATOM    457  O   HOH Q  67      16.405   0.233  17.763  1.00  0.00           O  \nATOM    458  H1  HOH Q  67      16.520   0.812  18.516  1.00  0.00           H  \nATOM    459  H2  HOH Q  67      15.461   0.075  17.723  1.00  0.00           H  \nTER     460      HOH Q  67\nATOM    461  O   HOH R  68       3.271  24.243  13.586  1.00  0.00           O  \nATOM    462  H1  HOH R  68       3.924  24.924  13.747  1.00  0.00           H  \nATOM    463  H2  HOH R  68       2.460  24.724  13.419  1.00  0.00           H  \nTER     464      HOH R  68\nATOM    465  O   HOH S  69       4.555  13.959  10.652  1.00  0.00           O  \nATOM    466  H1  HOH S  69       4.142  14.548  11.284  1.00  0.00           H  \nATOM    467  H2  HOH S  69       5.190  13.462  11.167  1.00  0.00           H  \nTER     468      HOH S  69\nATOM    469  O   HOH T  70       7.498   4.405  10.348  1.00  0.00           O  \nATOM    470  H1  HOH T  70       8.228   4.885   9.957  1.00  0.00           H  \nATOM    471  H2  HOH T  70       7.784   3.492  10.349  1.00  0.00           H  \nTER     472      HOH T  70\nATOM    473  O   HOH U  71       4.910  25.357  17.089  1.00  0.00           O  \nATOM    474  H1  HOH U  71       4.278  26.076  17.056  1.00  0.00           H  \nATOM    475  H2  HOH U  71       5.314  25.353  16.222  1.00  0.00           H  \nTER     476      HOH U  71\nATOM    477  O   HOH V  72       3.550   7.493   6.620  1.00  0.00           O  \nATOM    478  H1  HOH V  72       3.557   7.556   7.575  1.00  0.00           H  \nATOM    479  H2  HOH V  72       3.768   8.375   6.319  1.00  0.00           H  \nTER     480      HOH V  72\nATOM    481  O   HOH W  73      19.866   8.828  16.988  1.00  0.00           O  \nATOM    482  H1  HOH W  73      19.781   9.008  17.924  1.00  0.00           H  \nATOM    483  H2  HOH W  73      19.222   9.402  16.574  1.00  0.00           H  \nTER     484      HOH W  73\nATOM    485  O   HOH X  74       6.372  15.149   1.867  1.00  0.00           O  \nATOM    486  H1  HOH X  74       5.867  14.914   2.646  1.00  0.00           H  \nATOM    487  H2  HOH X  74       6.922  14.383   1.699  1.00  0.00           H  \nTER     488      HOH X  74\nATOM    489  O   HOH Y  75       9.262   1.884   5.501  1.00  0.00           O  \nATOM    490  H1  HOH Y  75      10.094   1.579   5.864  1.00  0.00           H  \nATOM    491  H2  HOH Y  75       9.319   1.683   4.567  1.00  0.00           H  \nTER     492      HOH Y  75\nATOM    493  O   HOH Z  76      23.501  10.584  22.348  1.00  0.00           O  \nATOM    494  H1  HOH Z  76      23.386  10.032  23.122  1.00  0.00           H  \nATOM    495  H2  HOH Z  76      22.622  10.910  22.153  1.00  0.00           H  \nTER     496      HOH Z  76\nATOM    497  O   HOH A  77      11.918   6.026  21.014  1.00  0.00           O  \nATOM    498  H1  HOH A  77      12.204   6.923  21.184  1.00  0.00           H  \nATOM    499  H2  HOH A  77      12.558   5.480  21.470  1.00  0.00           H  \nTER     500      HOH A  77\nATOM    501  O   HOH B  78      18.366  17.010   6.421  1.00  0.00           O  \nATOM    502  H1  HOH B  78      18.870  17.772   6.135  1.00  0.00           H  \nATOM    503  H2  HOH B  78      17.694  17.370   7.001  1.00  0.00           H  \nTER     504      HOH B  78\nATOM    505  O   HOH C  79      23.716  16.709   8.136  1.00  0.00           O  \nATOM    506  H1  HOH C  79      24.299  16.349   8.805  1.00  0.00           H  \nATOM    507  H2  HOH C  79      24.001  16.295   7.321  1.00  0.00           H  \nTER     508      HOH C  79\nATOM    509  O   HOH D  80       5.386  11.642  12.522  1.00  0.00           O  \nATOM    510  H1  HOH D  80       4.975  12.104  13.252  1.00  0.00           H  \nATOM    511  H2  HOH D  80       6.316  11.620  12.744  1.00  0.00           H  \nTER     512      HOH D  80\nATOM    513  O   HOH E  81       1.832  12.213  12.108  1.00  0.00           O  \nATOM    514  H1  HOH E  81       1.860  11.720  12.928  1.00  0.00           H  \nATOM    515  H2  HOH E  81       2.352  12.997  12.281  1.00  0.00           H  \nTER     516      HOH E  81\nATOM    517  O   HOH F  82       3.650  10.632  10.750  1.00  0.00           O  \nATOM    518  H1  HOH F  82       2.867  11.128  10.988  1.00  0.00           H  \nATOM    519  H2  HOH F  82       4.332  10.967  11.332  1.00  0.00           H  \nTER     520      HOH F  82\nATOM    521  O   HOH G  83       3.346   1.768   9.337  1.00  0.00           O  \nATOM    522  H1  HOH G  83       3.284   2.021   8.416  1.00  0.00           H  \nATOM    523  H2  HOH G  83       2.786   0.995   9.411  1.00  0.00           H  \nTER     524      HOH G  83\nATOM    525  O   HOH H  84       3.163  15.559  12.375  1.00  0.00           O  \nATOM    526  H1  HOH H  84       3.408  16.106  13.121  1.00  0.00           H  \nATOM    527  H2  HOH H  84       2.685  16.148  11.792  1.00  0.00           H  \nTER     528      HOH H  84\nATOM    529  O   HOH I  85       9.424  14.475   3.011  1.00  0.00           O  \nATOM    530  H1  HOH I  85      10.366  14.356   2.896  1.00  0.00           H  \nATOM    531  H2  HOH I  85       9.306  15.424   3.060  1.00  0.00           H  \nTER     532      HOH I  85\nATOM    533  O   HOH J  86       7.727  21.595  16.888  1.00  0.00           O  \nATOM    534  H1  HOH J  86       8.551  21.109  16.891  1.00  0.00           H  \nATOM    535  H2  HOH J  86       7.595  21.839  15.972  1.00  0.00           H  \nTER     536      HOH J  86\nATOM    537  O   HOH K  87       7.098   3.090  15.370  1.00  0.00           O  \nATOM    538  H1  HOH K  87       7.489   3.943  15.558  1.00  0.00           H  \nATOM    539  H2  HOH K  87       7.785   2.459  15.583  1.00  0.00           H  \nTER     540      HOH K  87\nATOM    541  O   HOH L  88      10.959  22.439   4.542  1.00  0.00           O  \nATOM    542  H1  HOH L  88      10.343  22.284   3.826  1.00  0.00           H  \nATOM    543  H2  HOH L  88      11.781  22.664   4.107  1.00  0.00           H  \nTER     544      HOH L  88\nATOM    545  O   HOH M  89       1.179  21.916  17.997  1.00  0.00           O  \nATOM    546  H1  HOH M  89       1.986  22.396  17.814  1.00  0.00           H  \nATOM    547  H2  HOH M  89       0.614  22.554  18.434  1.00  0.00           H  \nTER     548      HOH M  89\nATOM    549  O   HOH N  90      19.983   9.115   8.281  1.00  0.00           O  \nATOM    550  H1  HOH N  90      20.436   9.716   7.688  1.00  0.00           H  \nATOM    551  H2  HOH N  90      19.362   8.649   7.721  1.00  0.00           H  \nTER     552      HOH N  90\nATOM    553  O   HOH O  91       5.168  15.161   4.232  1.00  0.00           O  \nATOM    554  H1  HOH O  91       5.938  15.443   4.727  1.00  0.00           H  \nATOM    555  H2  HOH O  91       4.589  14.774   4.888  1.00  0.00           H  \nTER     556      HOH O  91\nATOM    557  O   HOH P  92      14.287   9.458   3.719  1.00  0.00           O  \nATOM    558  H1  HOH P  92      15.100   9.295   4.197  1.00  0.00           H  \nATOM    559  H2  HOH P  92      13.772  10.015   4.303  1.00  0.00           H  \nTER     560      HOH P  92\nATOM    561  O   HOH Q  93      10.794  15.312  12.028  1.00  0.00           O  \nATOM    562  H1  HOH Q  93      10.317  15.781  12.713  1.00  0.00           H  \nATOM    563  H2  HOH Q  93      11.615  15.050  12.444  1.00  0.00           H  \nTER     564      HOH Q  93\nATOM    565  O   HOH R  94       7.730  20.518  21.202  1.00  0.00           O  \nATOM    566  H1  HOH R  94       8.428  19.875  21.078  1.00  0.00           H  \nATOM    567  H2  HOH R  94       7.722  20.686  22.144  1.00  0.00           H  \nTER     568      HOH R  94\nATOM    569  O   HOH S  95       7.770  21.004   1.797  1.00  0.00           O  \nATOM    570  H1  HOH S  95       7.462  20.656   2.634  1.00  0.00           H  \nATOM    571  H2  HOH S  95       7.076  21.599   1.514  1.00  0.00           H  \nTER     572      HOH S  95\nATOM    573  O   HOH T  96      14.635   0.192   4.384  1.00  0.00           O  \nATOM    574  H1  HOH T  96      14.950   0.946   4.883  1.00  0.00           H  \nATOM    575  H2  HOH T  96      14.542   0.518   3.489  1.00  0.00           H  \nTER     576      HOH T  96\nATOM    577  O   HOH U  97      11.893   9.041  -0.195  1.00  0.00           O  \nATOM    578  H1  HOH U  97      11.419   9.861  -0.057  1.00  0.00           H  \nATOM    579  H2  HOH U  97      12.057   8.706   0.687  1.00  0.00           H  \nTER     580      HOH U  97\nATOM    581  O   HOH V  98      13.950  21.190  20.809  1.00  0.00           O  \nATOM    582  H1  HOH V  98      13.117  21.108  21.274  1.00  0.00           H  \nATOM    583  H2  HOH V  98      14.190  20.291  20.586  1.00  0.00           H  \nTER     584      HOH V  98\nATOM    585  O   HOH W  99      25.802  14.453  15.367  1.00  0.00           O  \nATOM    586  H1  HOH W  99      26.257  15.209  15.739  1.00  0.00           H  \nATOM    587  H2  HOH W  99      25.340  14.063  16.109  1.00  0.00           H  \nTER     588      HOH W  99\nATOM    589  O   HOH X 100      13.547   4.072   6.270  1.00  0.00           O  \nATOM    590  H1  HOH X 100      14.325   3.516   6.226  1.00  0.00           H  \nATOM    591  H2  HOH X 100      13.157   3.873   7.121  1.00  0.00           H  \nTER     592      HOH X 100\nATOM    593  O   HOH Y 101      13.196  11.295   5.303  1.00  0.00           O  \nATOM    594  H1  HOH Y 101      12.336  11.626   5.563  1.00  0.00           H  \nATOM    595  H2  HOH Y 101      13.584  10.969   6.115  1.00  0.00           H  \nTER     596      HOH Y 101\nATOM    597  O   HOH Z 102       5.558   0.221  10.802  1.00  0.00           O  \nATOM    598  H1  HOH Z 102       5.786   0.712  11.591  1.00  0.00           H  \nATOM    599  H2  HOH Z 102       5.074   0.845  10.262  1.00  0.00           H  \nTER     600      HOH Z 102\nATOM    601  O   HOH A 103       3.233  15.842   9.027  1.00  0.00           O  \nATOM    602  H1  HOH A 103       2.794  15.378   8.314  1.00  0.00           H  \nATOM    603  H2  HOH A 103       3.725  15.162   9.488  1.00  0.00           H  \nTER     604      HOH A 103\nATOM    605  O   HOH B 104      12.597   9.494  14.420  1.00  0.00           O  \nATOM    606  H1  HOH B 104      13.035  10.097  15.020  1.00  0.00           H  \nATOM    607  H2  HOH B 104      12.452   8.703  14.938  1.00  0.00           H  \nTER     608      HOH B 104\nATOM    609  O   HOH C 105       6.360  12.014  20.638  1.00  0.00           O  \nATOM    610  H1  HOH C 105       5.922  12.091  19.791  1.00  0.00           H  \nATOM    611  H2  HOH C 105       7.033  12.695  20.622  1.00  0.00           H  \nTER     612      HOH C 105\nATOM    613  O   HOH D 106       0.923   3.372  17.241  1.00  0.00           O  \nATOM    614  H1  HOH D 106       0.137   3.744  17.642  1.00  0.00           H  \nATOM    615  H2  HOH D 106       1.313   4.100  16.758  1.00  0.00           H  \nTER     616      HOH D 106\nATOM    617  O   HOH E 107      19.789   1.729  15.624  1.00  0.00           O  \nATOM    618  H1  HOH E 107      20.745   1.737  15.650  1.00  0.00           H  \nATOM    619  H2  HOH E 107      19.574   1.807  14.694  1.00  0.00           H  \nTER     620      HOH E 107\nATOM    621  O   HOH F 108      12.830  18.243   4.000  1.00  0.00           O  \nATOM    622  H1  HOH F 108      12.085  18.782   4.264  1.00  0.00           H  \nATOM    623  H2  HOH F 108      12.515  17.343   4.075  1.00  0.00           H  \nTER     624      HOH F 108\nATOM    625  O   HOH G 109       9.210  13.111  10.979  1.00  0.00           O  \nATOM    626  H1  HOH G 109       9.892  13.773  11.095  1.00  0.00           H  \nATOM    627  H2  HOH G 109       8.395  13.565  11.193  1.00  0.00           H  \nTER     628      HOH G 109\nATOM    629  O   HOH H 110       5.320  17.631   1.248  1.00  0.00           O  \nATOM    630  H1  HOH H 110       5.696  16.769   1.427  1.00  0.00           H  \nATOM    631  H2  HOH H 110       5.619  17.845   0.365  1.00  0.00           H  \nTER     632      HOH H 110\nATOM    633  O   HOH I 111       6.263   1.783  12.927  1.00  0.00           O  \nATOM    634  H1  HOH I 111       7.165   2.088  13.023  1.00  0.00           H  \nATOM    635  H2  HOH I 111       5.745   2.394  13.450  1.00  0.00           H  \nTER     636      HOH I 111\nATOM    637  O   HOH J 112      11.835   7.526   9.516  1.00  0.00           O  \nATOM    638  H1  HOH J 112      11.364   7.759  10.316  1.00  0.00           H  \nATOM    639  H2  HOH J 112      12.665   7.999   9.581  1.00  0.00           H  \nTER     640      HOH J 112\nATOM    641  O   HOH K 113      13.190  14.675  20.096  1.00  0.00           O  \nATOM    642  H1  HOH K 113      12.520  14.290  19.531  1.00  0.00           H  \nATOM    643  H2  HOH K 113      13.296  15.568  19.769  1.00  0.00           H  \nTER     644      HOH K 113\nATOM    645  O   HOH L 114      16.265   5.733  -0.034  1.00  0.00           O  \nATOM    646  H1  HOH L 114      15.801   6.381   0.497  1.00  0.00           H  \nATOM    647  H2  HOH L 114      16.038   4.892   0.362  1.00  0.00           H  \nTER     648      HOH L 114\nATOM    649  O   HOH M 115       5.208  12.141   3.758  1.00  0.00           O  \nATOM    650  H1  HOH M 115       5.048  12.773   4.459  1.00  0.00           H  \nATOM    651  H2  HOH M 115       6.155  12.166   3.624  1.00  0.00           H  \nTER     652      HOH M 115\nATOM    653  O   HOH N 116      21.750  13.091  18.836  1.00  0.00           O  \nATOM    654  H1  HOH N 116      21.920  12.224  18.466  1.00  0.00           H  \nATOM    655  H2  HOH N 116      21.860  13.692  18.099  1.00  0.00           H  \nTER     656      HOH N 116\nATOM    657  O   HOH O 117      10.910  11.048   3.492  1.00  0.00           O  \nATOM    658  H1  HOH O 117      10.283  11.300   4.169  1.00  0.00           H  \nATOM    659  H2  HOH O 117      11.475  10.402   3.915  1.00  0.00           H  \nTER     660      HOH O 117\nATOM    661  O   HOH P 118       5.425   3.996   7.098  1.00  0.00           O  \nATOM    662  H1  HOH P 118       5.927   3.205   7.295  1.00  0.00           H  \nATOM    663  H2  HOH P 118       6.038   4.559   6.626  1.00  0.00           H  \nTER     664      HOH P 118\nATOM    665  O   HOH Q 119      18.027  10.705  24.857  1.00  0.00           O  \nATOM    666  H1  HOH Q 119      17.353  10.184  25.294  1.00  0.00           H  \nATOM    667  H2  HOH Q 119      18.582  10.060  24.418  1.00  0.00           H  \nTER     668      HOH Q 119\nATOM    669  O   HOH R 120      20.612  15.475   2.146  1.00  0.00           O  \nATOM    670  H1  HOH R 120      21.187  16.233   2.036  1.00  0.00           H  \nATOM    671  H2  HOH R 120      19.832  15.826   2.576  1.00  0.00           H  \nTER     672      HOH R 120\nATOM    673  O   HOH S 121       5.473   8.393  11.541  1.00  0.00           O  \nATOM    674  H1  HOH S 121       4.602   8.773  11.426  1.00  0.00           H  \nATOM    675  H2  HOH S 121       5.722   8.095  10.666  1.00  0.00           H  \nTER     676      HOH S 121\nATOM    677  O   HOH T 122      16.632   9.724   5.176  1.00  0.00           O  \nATOM    678  H1  HOH T 122      17.108  10.545   5.306  1.00  0.00           H  \nATOM    679  H2  HOH T 122      17.132   9.076   5.673  1.00  0.00           H  \nTER     680      HOH T 122\nATOM    681  O   HOH U 123      15.271  10.975  13.156  1.00  0.00           O  \nATOM    682  H1  HOH U 123      14.394  11.211  12.854  1.00  0.00           H  \nATOM    683  H2  HOH U 123      15.255  10.020  13.216  1.00  0.00           H  \nTER     684      HOH U 123\nATOM    685  O   HOH V 124       5.504  20.016  10.238  1.00  0.00           O  \nATOM    686  H1  HOH V 124       4.955  20.361  10.943  1.00  0.00           H  \nATOM    687  H2  HOH V 124       4.892  19.567   9.655  1.00  0.00           H  \nTER     688      HOH V 124\nATOM    689  O   HOH W 125      10.175   5.254  12.042  1.00  0.00           O  \nATOM    690  H1  HOH W 125       9.869   5.774  11.298  1.00  0.00           H  \nATOM    691  H2  HOH W 125      10.918   5.747  12.390  1.00  0.00           H  \nTER     692      HOH W 125\nATOM    693  O   HOH X 126       7.143  24.572  12.750  1.00  0.00           O  \nATOM    694  H1  HOH X 126       8.076  24.649  12.950  1.00  0.00           H  \nATOM    695  H2  HOH X 126       7.096  24.635  11.796  1.00  0.00           H  \nTER     696      HOH X 126\nATOM    697  O   HOH Y 127       8.007  12.381   4.107  1.00  0.00           O  \nATOM    698  H1  HOH Y 127       8.373  13.229   3.855  1.00  0.00           H  \nATOM    699  H2  HOH Y 127       8.050  12.376   5.063  1.00  0.00           H  \nTER     700      HOH Y 127\nATOM    701  O   HOH Z 128      18.287   7.350   6.474  1.00  0.00           O  \nATOM    702  H1  HOH Z 128      19.069   6.800   6.527  1.00  0.00           H  \nATOM    703  H2  HOH Z 128      17.697   6.874   5.889  1.00  0.00           H  \nTER     704      HOH Z 128\nATOM    705  O   HOH A 129      25.753   9.674   7.850  1.00  0.00           O  \nATOM    706  H1  HOH A 129      26.310   8.897   7.895  1.00  0.00           H  \nATOM    707  H2  HOH A 129      25.758  10.025   8.740  1.00  0.00           H  \nTER     708      HOH A 129\nATOM    709  O   HOH B 130       8.726  11.511   8.815  1.00  0.00           O  \nATOM    710  H1  HOH B 130       8.999  12.182   9.441  1.00  0.00           H  \nATOM    711  H2  HOH B 130       9.013  10.686   9.207  1.00  0.00           H  \nTER     712      HOH B 130\nATOM    713  O   HOH C 131      17.395  12.602  20.470  1.00  0.00           O  \nATOM    714  H1  HOH C 131      17.208  11.664  20.449  1.00  0.00           H  \nATOM    715  H2  HOH C 131      18.105  12.720  19.840  1.00  0.00           H  \nTER     716      HOH C 131\nATOM    717  O   HOH D 132      16.544   2.190  19.531  1.00  0.00           O  \nATOM    718  H1  HOH D 132      16.279   3.054  19.215  1.00  0.00           H  \nATOM    719  H2  HOH D 132      16.889   2.351  20.410  1.00  0.00           H  \nTER     720      HOH D 132\nATOM    721  O   HOH E 133      12.155   8.618  22.118  1.00  0.00           O  \nATOM    722  H1  HOH E 133      12.180   8.139  22.947  1.00  0.00           H  \nATOM    723  H2  HOH E 133      11.981   9.525  22.371  1.00  0.00           H  \nTER     724      HOH E 133\nATOM    725  O   HOH F 134       7.918  10.448   2.353  1.00  0.00           O  \nATOM    726  H1  HOH F 134       8.532   9.723   2.471  1.00  0.00           H  \nATOM    727  H2  HOH F 134       8.217  11.118   2.968  1.00  0.00           H  \nTER     728      HOH F 134\nATOM    729  O   HOH G 135       6.668  12.363   0.846  1.00  0.00           O  \nATOM    730  H1  HOH G 135       7.257  11.712   1.227  1.00  0.00           H  \nATOM    731  H2  HOH G 135       6.929  12.413  -0.074  1.00  0.00           H  \nTER     732      HOH G 135\nATOM    733  O   HOH H 136       5.423   9.876  21.977  1.00  0.00           O  \nATOM    734  H1  HOH H 136       5.507   9.412  21.144  1.00  0.00           H  \nATOM    735  H2  HOH H 136       5.708  10.769  21.784  1.00  0.00           H  \nTER     736      HOH H 136\nATOM    737  O   HOH I 137       4.666   6.156   4.560  1.00  0.00           O  \nATOM    738  H1  HOH I 137       5.522   6.573   4.466  1.00  0.00           H  \nATOM    739  H2  HOH I 137       4.343   6.458   5.408  1.00  0.00           H  \nTER     740      HOH I 137\nATOM    741  O   HOH J 138      20.041  20.080  20.370  1.00  0.00           O  \nATOM    742  H1  HOH J 138      20.508  19.848  19.567  1.00  0.00           H  \nATOM    743  H2  HOH J 138      19.761  20.984  20.232  1.00  0.00           H  \nTER     744      HOH J 138\nATOM    745  O   HOH K 139      16.449  12.503  23.782  1.00  0.00           O  \nATOM    746  H1  HOH K 139      17.127  11.897  24.083  1.00  0.00           H  \nATOM    747  H2  HOH K 139      15.629  12.115  24.086  1.00  0.00           H  \nTER     748      HOH K 139\nATOM    749  O   HOH L 140      19.585  13.339  22.552  1.00  0.00           O  \nATOM    750  H1  HOH L 140      18.883  13.985  22.634  1.00  0.00           H  \nATOM    751  H2  HOH L 140      20.253  13.777  22.024  1.00  0.00           H  \nTER     752      HOH L 140\nATOM    753  O   HOH M 141      22.841  10.783   4.349  1.00  0.00           O  \nATOM    754  H1  HOH M 141      22.711  11.488   3.714  1.00  0.00           H  \nATOM    755  H2  HOH M 141      23.467  11.139   4.979  1.00  0.00           H  \nTER     756      HOH M 141\nATOM    757  O   HOH N 142       6.823  25.962  23.949  1.00  0.00           O  \nATOM    758  H1  HOH N 142       7.754  26.013  23.730  1.00  0.00           H  \nATOM    759  H2  HOH N 142       6.396  26.535  23.313  1.00  0.00           H  \nTER     760      HOH N 142\nATOM    761  O   HOH O 143      16.354  15.800  20.205  1.00  0.00           O  \nATOM    762  H1  HOH O 143      16.824  16.146  20.964  1.00  0.00           H  \nATOM    763  H2  HOH O 143      15.710  16.476  19.993  1.00  0.00           H  \nTER     764      HOH O 143\nATOM    765  O   HOH P 144      14.521  14.758  23.518  1.00  0.00           O  \nATOM    766  H1  HOH P 144      15.264  15.218  23.908  1.00  0.00           H  \nATOM    767  H2  HOH P 144      14.267  14.111  24.177  1.00  0.00           H  \nTER     768      HOH P 144\nATOM    769  O   HOH Q 145      19.776  17.799  16.932  1.00  0.00           O  \nATOM    770  H1  HOH Q 145      20.214  18.467  17.459  1.00  0.00           H  \nATOM    771  H2  HOH Q 145      19.206  17.341  17.550  1.00  0.00           H  \nTER     772      HOH Q 145\nATOM    773  O   HOH R 146      17.097   3.584   3.039  1.00  0.00           O  \nATOM    774  H1  HOH R 146      17.319   2.669   3.216  1.00  0.00           H  \nATOM    775  H2  HOH R 146      16.568   3.552   2.242  1.00  0.00           H  \nTER     776      HOH R 146\nATOM    777  O   HOH S 147      11.184  13.655  21.783  1.00  0.00           O  \nATOM    778  H1  HOH S 147      11.963  13.959  21.318  1.00  0.00           H  \nATOM    779  H2  HOH S 147      11.166  14.174  22.587  1.00  0.00           H  \nTER     780      HOH S 147\nATOM    781  O   HOH T 148       8.511   5.801  18.349  1.00  0.00           O  \nATOM    782  H1  HOH T 148       7.578   6.013  18.313  1.00  0.00           H  \nATOM    783  H2  HOH T 148       8.586   5.177  19.072  1.00  0.00           H  \nTER     784      HOH T 148\nATOM    785  O   HOH U 149      10.993   9.099  12.151  1.00  0.00           O  \nATOM    786  H1  HOH U 149      11.745   9.393  12.665  1.00  0.00           H  \nATOM    787  H2  HOH U 149      10.480   8.567  12.759  1.00  0.00           H  \nTER     788      HOH U 149\nATOM    789  O   HOH V 150      11.515  11.057  23.194  1.00  0.00           O  \nATOM    790  H1  HOH V 150      11.244  11.966  23.067  1.00  0.00           H  \nATOM    791  H2  HOH V 150      10.804  10.662  23.698  1.00  0.00           H  \nTER     792      HOH V 150\nATOM    793  O   HOH W 151      12.151   7.387  24.438  1.00  0.00           O  \nATOM    794  H1  HOH W 151      12.054   8.032  25.138  1.00  0.00           H  \nATOM    795  H2  HOH W 151      11.278   7.009  24.337  1.00  0.00           H  \nTER     796      HOH W 151\nATOM    797  O   HOH X 152      16.417   4.546  18.263  1.00  0.00           O  \nATOM    798  H1  HOH X 152      16.642   4.105  17.444  1.00  0.00           H  \nATOM    799  H2  HOH X 152      17.139   5.156  18.413  1.00  0.00           H  \nTER     800      HOH X 152\nATOM    801  O   HOH Y 153      14.718  18.541  25.061  1.00  0.00           O  \nATOM    802  H1  HOH Y 153      14.403  18.320  25.937  1.00  0.00           H  \nATOM    803  H2  HOH Y 153      15.031  19.443  25.139  1.00  0.00           H  \nTER     804      HOH Y 153\nATOM    805  O   HOH Z 154      11.460  18.100  18.568  1.00  0.00           O  \nATOM    806  H1  HOH Z 154      11.628  18.215  17.633  1.00  0.00           H  \nATOM    807  H2  HOH Z 154      12.328  18.100  18.970  1.00  0.00           H  \nTER     808      HOH Z 154\nATOM    809  O   HOH A 155      21.269  10.991  14.166  1.00  0.00           O  \nATOM    810  H1  HOH A 155      20.352  10.717  14.135  1.00  0.00           H  \nATOM    811  H2  HOH A 155      21.473  11.246  13.266  1.00  0.00           H  \nTER     812      HOH A 155\nATOM    813  O   HOH B 156       4.215  11.805  25.479  1.00  0.00           O  \nATOM    814  H1  HOH B 156       4.638  11.830  24.621  1.00  0.00           H  \nATOM    815  H2  HOH B 156       3.394  11.338  25.329  1.00  0.00           H  \nTER     816      HOH B 156\nATOM    817  O   HOH C 157       5.944  22.702   0.567  1.00  0.00           O  \nATOM    818  H1  HOH C 157       6.307  23.495   0.961  1.00  0.00           H  \nATOM    819  H2  HOH C 157       6.156  22.778  -0.363  1.00  0.00           H  \nTER     820      HOH C 157\nATOM    821  O   HOH D 158       2.436  18.243   1.651  1.00  0.00           O  \nATOM    822  H1  HOH D 158       2.205  19.134   1.389  1.00  0.00           H  \nATOM    823  H2  HOH D 158       3.388  18.205   1.560  1.00  0.00           H  \nTER     824      HOH D 158\nATOM    825  O   HOH E 159       5.560   8.138  20.102  1.00  0.00           O  \nATOM    826  H1  HOH E 159       6.076   7.630  20.728  1.00  0.00           H  \nATOM    827  H2  HOH E 159       5.668   7.675  19.271  1.00  0.00           H  \nTER     828      HOH E 159\nATOM    829  O   HOH F 160       3.345   6.183  24.634  1.00  0.00           O  \nATOM    830  H1  HOH F 160       3.419   5.232  24.707  1.00  0.00           H  \nATOM    831  H2  HOH F 160       3.422   6.359  23.696  1.00  0.00           H  \nTER     832      HOH F 160\nATOM    833  O   HOH G 161       2.537  12.596   1.925  1.00  0.00           O  \nATOM    834  H1  HOH G 161       1.771  12.314   2.425  1.00  0.00           H  \nATOM    835  H2  HOH G 161       2.671  13.507   2.184  1.00  0.00           H  \nTER     836      HOH G 161\nATOM    837  O   HOH H 162      12.935   1.379  25.760  1.00  0.00           O  \nATOM    838  H1  HOH H 162      12.487   0.539  25.661  1.00  0.00           H  \nATOM    839  H2  HOH H 162      12.572   1.751  26.564  1.00  0.00           H  \nTER     840      HOH H 162\nATOM    841  O   HOH I 163      18.940   5.289  13.725  1.00  0.00           O  \nATOM    842  H1  HOH I 163      19.884   5.373  13.588  1.00  0.00           H  \nATOM    843  H2  HOH I 163      18.634   4.773  12.979  1.00  0.00           H  \nTER     844      HOH I 163\nATOM    845  O   HOH J 164       9.170  10.098  24.382  1.00  0.00           O  \nATOM    846  H1  HOH J 164       9.364   9.965  25.310  1.00  0.00           H  \nATOM    847  H2  HOH J 164       8.489   9.456  24.185  1.00  0.00           H  \nTER     848      HOH J 164\nATOM    849  O   HOH K 165       2.194   8.428  13.445  1.00  0.00           O  \nATOM    850  H1  HOH K 165       1.736   9.250  13.619  1.00  0.00           H  \nATOM    851  H2  HOH K 165       1.678   7.765  13.903  1.00  0.00           H  \nTER     852      HOH K 165\nATOM    853  O   HOH L 166       9.574   1.346   2.733  1.00  0.00           O  \nATOM    854  H1  HOH L 166       8.793   1.443   2.187  1.00  0.00           H  \nATOM    855  H2  HOH L 166      10.305   1.485   2.131  1.00  0.00           H  \nTER     856      HOH L 166\nATOM    857  O   HOH M 167      14.692  25.391  26.101  1.00  0.00           O  \nATOM    858  H1  HOH M 167      13.806  25.302  25.751  1.00  0.00           H  \nATOM    859  H2  HOH M 167      15.262  25.288  25.340  1.00  0.00           H  \nTER     860      HOH M 167\nATOM    861  O   HOH N 168       5.508   7.352  25.889  1.00  0.00           O  \nATOM    862  H1  HOH N 168       4.698   6.987  25.533  1.00  0.00           H  \nATOM    863  H2  HOH N 168       5.863   7.886  25.178  1.00  0.00           H  \nTER     864      HOH N 168\nATOM    865  O   HOH O 169      14.275  10.935  24.451  1.00  0.00           O  \nATOM    866  H1  HOH O 169      13.333  10.908  24.616  1.00  0.00           H  \nATOM    867  H2  HOH O 169      14.555  10.021  24.508  1.00  0.00           H  \nTER     868      HOH O 169\nATOM    869  O   HOH P 170      22.596   4.682  17.551  1.00  0.00           O  \nATOM    870  H1  HOH P 170      21.785   5.137  17.327  1.00  0.00           H  \nATOM    871  H2  HOH P 170      23.239   5.016  16.926  1.00  0.00           H  \nTER     872      HOH P 170\nATOM    873  O   HOH Q 171       4.567  11.136  15.701  1.00  0.00           O  \nATOM    874  H1  HOH Q 171       3.643  10.963  15.881  1.00  0.00           H  \nATOM    875  H2  HOH Q 171       4.868  10.362  15.225  1.00  0.00           H  \nTER     876      HOH Q 171\nATOM    877  O   HOH R 172      11.680   2.345  23.446  1.00  0.00           O  \nATOM    878  H1  HOH R 172      12.069   2.217  24.312  1.00  0.00           H  \nATOM    879  H2  HOH R 172      12.430   2.452  22.860  1.00  0.00           H  \nTER     880      HOH R 172\nATOM    881  O   HOH S 173       2.704   1.543  22.984  1.00  0.00           O  \nATOM    882  H1  HOH S 173       3.302   2.184  23.367  1.00  0.00           H  \nATOM    883  H2  HOH S 173       1.921   2.048  22.763  1.00  0.00           H  \nTER     884      HOH S 173\nATOM    885  O   HOH T 174       7.246  15.670   5.836  1.00  0.00           O  \nATOM    886  H1  HOH T 174       7.682  14.822   5.748  1.00  0.00           H  \nATOM    887  H2  HOH T 174       6.983  15.710   6.755  1.00  0.00           H  \nTER     888      HOH T 174\nATOM    889  O   HOH U 175       9.814   5.977  24.796  1.00  0.00           O  \nATOM    890  H1  HOH U 175       9.021   5.812  25.306  1.00  0.00           H  \nATOM    891  H2  HOH U 175       9.658   5.536  23.961  1.00  0.00           H  \nTER     892      HOH U 175\nATOM    893  O   HOH V 176       7.140   8.421  23.749  1.00  0.00           O  \nATOM    894  H1  HOH V 176       7.407   7.637  23.270  1.00  0.00           H  \nATOM    895  H2  HOH V 176       6.656   8.941  23.107  1.00  0.00           H  \nTER     896      HOH V 176\nATOM    897  O   HOH W 177      18.696   5.029  22.785  1.00  0.00           O  \nATOM    898  H1  HOH W 177      19.008   4.171  23.071  1.00  0.00           H  \nATOM    899  H2  HOH W 177      19.212   5.224  22.002  1.00  0.00           H  \nTER     900      HOH W 177\nATOM    901  O   HOH X 178      12.326  13.528   2.978  1.00  0.00           O  \nATOM    902  H1  HOH X 178      12.956  13.181   2.346  1.00  0.00           H  \nATOM    903  H2  HOH X 178      11.844  12.759   3.284  1.00  0.00           H  \nTER     904      HOH X 178\nATOM    905  O   HOH Y 179      15.574   1.590  24.734  1.00  0.00           O  \nATOM    906  H1  HOH Y 179      16.169   1.566  25.483  1.00  0.00           H  \nATOM    907  H2  HOH Y 179      14.699   1.539  25.120  1.00  0.00           H  \nTER     908      HOH Y 179\nATOM    909  O   HOH Z 180       7.717  17.080  25.169  1.00  0.00           O  \nATOM    910  H1  HOH Z 180       8.287  16.654  25.810  1.00  0.00           H  \nATOM    911  H2  HOH Z 180       7.829  18.016  25.333  1.00  0.00           H  \nTER     912      HOH Z 180\nATOM    913  O   HOH A 181       6.589   7.871   5.106  1.00  0.00           O  \nATOM    914  H1  HOH A 181       5.801   8.383   5.291  1.00  0.00           H  \nATOM    915  H2  HOH A 181       7.273   8.285   5.633  1.00  0.00           H  \nTER     916      HOH A 181\nATOM    917  O   HOH B 182      20.012   9.364   1.664  1.00  0.00           O  \nATOM    918  H1  HOH B 182      20.851   9.026   1.977  1.00  0.00           H  \nATOM    919  H2  HOH B 182      20.227   9.825   0.852  1.00  0.00           H  \nTER     920      HOH B 182\nATOM    921  O   HOH C 183       4.528  18.771   6.065  1.00  0.00           O  \nATOM    922  H1  HOH C 183       4.587  19.608   6.525  1.00  0.00           H  \nATOM    923  H2  HOH C 183       5.011  18.909   5.250  1.00  0.00           H  \nTER     924      HOH C 183\nATOM    925  O   HOH D 184       5.786   6.199  18.160  1.00  0.00           O  \nATOM    926  H1  HOH D 184       5.197   6.447  17.447  1.00  0.00           H  \nATOM    927  H2  HOH D 184       5.570   5.284  18.342  1.00  0.00           H  \nTER     928      HOH D 184\nATOM    929  O   HOH E 185      14.922   8.375  24.806  1.00  0.00           O  \nATOM    930  H1  HOH E 185      14.182   7.803  24.603  1.00  0.00           H  \nATOM    931  H2  HOH E 185      15.016   8.318  25.757  1.00  0.00           H  \nTER     932      HOH E 185\nATOM    933  O   HOH F 186       2.183   9.932  25.281  1.00  0.00           O  \nATOM    934  H1  HOH F 186       2.207   9.001  25.506  1.00  0.00           H  \nATOM    935  H2  HOH F 186       2.256   9.950  24.327  1.00  0.00           H  \nTER     936      HOH F 186\nATOM    937  O   HOH G 187      14.453   0.187  14.034  1.00  0.00           O  \nATOM    938  H1  HOH G 187      14.814  -0.691  14.156  1.00  0.00           H  \nATOM    939  H2  HOH G 187      15.121   0.773  14.390  1.00  0.00           H  \nTER     940      HOH G 187\nATOM    941  O   HOH H 188       5.397  12.817  23.046  1.00  0.00           O  \nATOM    942  H1  HOH H 188       5.134  13.722  22.876  1.00  0.00           H  \nATOM    943  H2  HOH H 188       5.603  12.460  22.182  1.00  0.00           H  \nTER     944      HOH H 188\nATOM    945  O   HOH I 189      20.607   2.978  25.203  1.00  0.00           O  \nATOM    946  H1  HOH I 189      20.348   2.759  24.308  1.00  0.00           H  \nATOM    947  H2  HOH I 189      20.080   2.399  25.753  1.00  0.00           H  \nTER     948      HOH I 189\nATOM    949  O   HOH J 190      14.046  23.135  10.434  1.00  0.00           O  \nATOM    950  H1  HOH J 190      14.496  23.701   9.806  1.00  0.00           H  \nATOM    951  H2  HOH J 190      13.299  22.785   9.949  1.00  0.00           H  \nTER     952      HOH J 190\nATOM    953  O   HOH K 191      13.850  11.096  16.031  1.00  0.00           O  \nATOM    954  H1  HOH K 191      14.273  11.658  15.382  1.00  0.00           H  \nATOM    955  H2  HOH K 191      14.364  11.222  16.829  1.00  0.00           H  \nTER     956      HOH K 191\nATOM    957  O   HOH L 192      19.900  17.128  24.007  1.00  0.00           O  \nATOM    958  H1  HOH L 192      19.780  16.575  24.779  1.00  0.00           H  \nATOM    959  H2  HOH L 192      20.732  17.575  24.159  1.00  0.00           H  \nTER     960      HOH L 192\nATOM    961  O   HOH M 193       9.907  16.403   0.262  1.00  0.00           O  \nATOM    962  H1  HOH M 193      10.383  17.174  -0.046  1.00  0.00           H  \nATOM    963  H2  HOH M 193       9.816  16.537   1.205  1.00  0.00           H  \nTER     964      HOH M 193\nATOM    965  O   HOH N 194       7.351  12.279  24.838  1.00  0.00           O  \nATOM    966  H1  HOH N 194       6.612  12.416  24.246  1.00  0.00           H  \nATOM    967  H2  HOH N 194       7.948  11.713  24.348  1.00  0.00           H  \nTER     968      HOH N 194\nATOM    969  O   HOH O 195      25.941  10.351  21.067  1.00  0.00           O  \nATOM    970  H1  HOH O 195      26.202   9.558  21.536  1.00  0.00           H  \nATOM    971  H2  HOH O 195      25.025  10.483  21.310  1.00  0.00           H  \nTER     972      HOH O 195\nATOM    973  O   HOH P 196      12.097  21.045   1.474  1.00  0.00           O  \nATOM    974  H1  HOH P 196      11.273  21.490   1.672  1.00  0.00           H  \nATOM    975  H2  HOH P 196      12.710  21.370   2.134  1.00  0.00           H  \nTER     976      HOH P 196\nATOM    977  O   HOH Q 197      19.474  15.877  12.597  1.00  0.00           O  \nATOM    978  H1  HOH Q 197      19.578  15.646  13.520  1.00  0.00           H  \nATOM    979  H2  HOH Q 197      19.042  15.117  12.207  1.00  0.00           H  \nTER     980      HOH Q 197\nATOM    981  O   HOH R 198      16.402  16.556  24.728  1.00  0.00           O  \nATOM    982  H1  HOH R 198      15.673  17.175  24.690  1.00  0.00           H  \nATOM    983  H2  HOH R 198      16.969  16.897  25.420  1.00  0.00           H  \nTER     984      HOH R 198\nATOM    985  O   HOH S 199      15.407   3.384   0.829  1.00  0.00           O  \nATOM    986  H1  HOH S 199      15.076   2.513   1.048  1.00  0.00           H  \nATOM    987  H2  HOH S 199      14.898   3.649   0.062  1.00  0.00           H  \nTER     988      HOH S 199\nATOM    989  O   HOH T 200      -0.111   2.887  25.261  1.00  0.00           O  \nATOM    990  H1  HOH T 200       0.437   2.158  25.552  1.00  0.00           H  \nATOM    991  H2  HOH T 200       0.296   3.183  24.447  1.00  0.00           H  \nTER     992      HOH T 200\nATOM    993  O   HOH U 201      14.156   4.818  24.959  1.00  0.00           O  \nATOM    994  H1  HOH U 201      14.889   5.426  25.044  1.00  0.00           H  \nATOM    995  H2  HOH U 201      14.087   4.655  24.018  1.00  0.00           H  \nTER     996      HOH U 201\nATOM    997  O   HOH V 202       6.992   6.547  21.657  1.00  0.00           O  \nATOM    998  H1  HOH V 202       7.122   5.645  21.364  1.00  0.00           H  \nATOM    999  H2  HOH V 202       7.771   7.013  21.353  1.00  0.00           H  \nTER    1000      HOH V 202\nATOM   1001  O   HOH W 203       1.302   5.516  10.245  1.00  0.00           O  \nATOM   1002  H1  HOH W 203       0.833   5.958   9.538  1.00  0.00           H  \nATOM   1003  H2  HOH W 203       2.147   5.281   9.863  1.00  0.00           H  \nTER    1004      HOH W 203\nATOM   1005  O   HOH X 204      10.574  22.897  21.663  1.00  0.00           O  \nATOM   1006  H1  HOH X 204      10.974  22.029  21.606  1.00  0.00           H  \nATOM   1007  H2  HOH X 204       9.905  22.900  20.979  1.00  0.00           H  \nTER    1008      HOH X 204\nATOM   1009  O   HOH Y 205      10.426  24.463   8.681  1.00  0.00           O  \nATOM   1010  H1  HOH Y 205       9.623  24.580   8.175  1.00  0.00           H  \nATOM   1011  H2  HOH Y 205      10.586  25.318   9.080  1.00  0.00           H  \nTER    1012      HOH Y 205\nATOM   1013  O   HOH Z 206       1.798  18.214  11.553  1.00  0.00           O  \nATOM   1014  H1  HOH Z 206       2.210  18.988  11.936  1.00  0.00           H  \nATOM   1015  H2  HOH Z 206       2.256  18.085  10.722  1.00  0.00           H  \nTER    1016      HOH Z 206\nATOM   1017  O   HOH A 207      12.661  15.588   4.681  1.00  0.00           O  \nATOM   1018  H1  HOH A 207      12.347  15.089   5.435  1.00  0.00           H  \nATOM   1019  H2  HOH A 207      12.685  14.952   3.966  1.00  0.00           H  \nTER    1020      HOH A 207\nATOM   1021  O   HOH B 208       1.386   4.825  12.778  1.00  0.00           O  \nATOM   1022  H1  HOH B 208       1.250   4.922  11.835  1.00  0.00           H  \nATOM   1023  H2  HOH B 208       1.063   5.645  13.152  1.00  0.00           H  \nTER    1024      HOH B 208\nATOM   1025  O   HOH C 209      11.763  20.303  21.995  1.00  0.00           O  \nATOM   1026  H1  HOH C 209      11.178  19.817  21.413  1.00  0.00           H  \nATOM   1027  H2  HOH C 209      11.845  19.748  22.770  1.00  0.00           H  \nTER    1028      HOH C 209\nATOM   1029  O   HOH D 210      12.511   5.474   3.068  1.00  0.00           O  \nATOM   1030  H1  HOH D 210      12.539   5.366   2.118  1.00  0.00           H  \nATOM   1031  H2  HOH D 210      12.420   4.584   3.409  1.00  0.00           H  \nTER    1032      HOH D 210\nATOM   1033  O   HOH E 211      10.442  19.432   5.087  1.00  0.00           O  \nATOM   1034  H1  HOH E 211       9.565  19.049   5.067  1.00  0.00           H  \nATOM   1035  H2  HOH E 211      10.502  19.851   5.945  1.00  0.00           H  \nTER    1036      HOH E 211\nATOM   1037  O   HOH F 212      12.901   2.609   3.768  1.00  0.00           O  \nATOM   1038  H1  HOH F 212      13.063   3.234   4.475  1.00  0.00           H  \nATOM   1039  H2  HOH F 212      12.694   1.789   4.216  1.00  0.00           H  \nTER    1040      HOH F 212\nATOM   1041  O   HOH G 213       2.143  25.613  18.672  1.00  0.00           O  \nATOM   1042  H1  HOH G 213       2.962  25.524  19.160  1.00  0.00           H  \nATOM   1043  H2  HOH G 213       2.283  26.372  18.105  1.00  0.00           H  \nTER    1044      HOH G 213\nATOM   1045  O   HOH H 214      26.111  21.518   6.432  1.00  0.00           O  \nATOM   1046  H1  HOH H 214      26.606  21.449   5.616  1.00  0.00           H  \nATOM   1047  H2  HOH H 214      26.655  21.073   7.081  1.00  0.00           H  \nTER    1048      HOH H 214\nATOM   1049  O   HOH I 215      14.657  24.445   5.663  1.00  0.00           O  \nATOM   1050  H1  HOH I 215      14.124  24.139   4.929  1.00  0.00           H  \nATOM   1051  H2  HOH I 215      14.789  25.377   5.491  1.00  0.00           H  \nTER    1052      HOH I 215\nATOM   1053  O   HOH J 216      16.346  21.597  22.009  1.00  0.00           O  \nATOM   1054  H1  HOH J 216      16.183  21.462  22.943  1.00  0.00           H  \nATOM   1055  H2  HOH J 216      15.475  21.595  21.611  1.00  0.00           H  \nTER    1056      HOH J 216\nATOM   1057  O   HOH K 217      11.699  25.264  22.413  1.00  0.00           O  \nATOM   1058  H1  HOH K 217      11.310  24.425  22.165  1.00  0.00           H  \nATOM   1059  H2  HOH K 217      12.089  25.595  21.604  1.00  0.00           H  \nTER    1060      HOH K 217\nATOM   1061  O   HOH L 218       3.562  22.912  17.358  1.00  0.00           O  \nATOM   1062  H1  HOH L 218       3.535  23.867  17.418  1.00  0.00           H  \nATOM   1063  H2  HOH L 218       4.400  22.671  17.752  1.00  0.00           H  \nTER    1064      HOH L 218\nATOM   1065  O   HOH M 219       5.415  21.152   7.123  1.00  0.00           O  \nATOM   1066  H1  HOH M 219       6.131  21.008   7.743  1.00  0.00           H  \nATOM   1067  H2  HOH M 219       4.868  21.818   7.539  1.00  0.00           H  \nTER    1068      HOH M 219\nATOM   1069  O   HOH N 220       1.991  18.536   5.768  1.00  0.00           O  \nATOM   1070  H1  HOH N 220       1.631  18.853   6.597  1.00  0.00           H  \nATOM   1071  H2  HOH N 220       2.939  18.591   5.882  1.00  0.00           H  \nTER    1072      HOH N 220\nATOM   1073  O   HOH O 221      25.590  25.191  15.126  1.00  0.00           O  \nATOM   1074  H1  HOH O 221      25.928  24.347  14.826  1.00  0.00           H  \nATOM   1075  H2  HOH O 221      24.945  25.440  14.463  1.00  0.00           H  \nTER    1076      HOH O 221\nATOM   1077  O   HOH P 222       5.632  19.008   3.544  1.00  0.00           O  \nATOM   1078  H1  HOH P 222       5.229  19.730   3.062  1.00  0.00           H  \nATOM   1079  H2  HOH P 222       5.669  18.289   2.913  1.00  0.00           H  \nTER    1080      HOH P 222\nATOM   1081  O   HOH Q 223      14.497  20.360  17.616  1.00  0.00           O  \nATOM   1082  H1  HOH Q 223      14.761  19.669  18.223  1.00  0.00           H  \nATOM   1083  H2  HOH Q 223      13.578  20.526  17.827  1.00  0.00           H  \nTER    1084      HOH Q 223\nATOM   1085  O   HOH R 224       6.738  22.859   3.955  1.00  0.00           O  \nATOM   1086  H1  HOH R 224       6.188  23.550   4.325  1.00  0.00           H  \nATOM   1087  H2  HOH R 224       7.413  22.709   4.616  1.00  0.00           H  \nTER    1088      HOH R 224\nATOM   1089  O   HOH S 225       9.959  23.659  17.445  1.00  0.00           O  \nATOM   1090  H1  HOH S 225       9.696  23.376  18.321  1.00  0.00           H  \nATOM   1091  H2  HOH S 225      10.569  22.984  17.148  1.00  0.00           H  \nTER    1092      HOH S 225\nATOM   1093  O   HOH T 226      15.405  23.966  13.741  1.00  0.00           O  \nATOM   1094  H1  HOH T 226      15.904  24.121  12.939  1.00  0.00           H  \nATOM   1095  H2  HOH T 226      14.770  23.291  13.502  1.00  0.00           H  \nTER    1096      HOH T 226\nATOM   1097  O   HOH U 227       7.815   5.078   6.090  1.00  0.00           O  \nATOM   1098  H1  HOH U 227       8.376   5.781   5.763  1.00  0.00           H  \nATOM   1099  H2  HOH U 227       8.331   4.282   5.968  1.00  0.00           H  \nTER    1100      HOH U 227\nATOM   1101  O   HOH V 228       3.588  20.212  12.358  1.00  0.00           O  \nATOM   1102  H1  HOH V 228       3.172  20.918  12.853  1.00  0.00           H  \nATOM   1103  H2  HOH V 228       4.377  20.001  12.857  1.00  0.00           H  \nTER    1104      HOH V 228\nATOM   1105  O   HOH W 229       2.949  15.175   2.630  1.00  0.00           O  \nATOM   1106  H1  HOH W 229       2.867  15.666   1.813  1.00  0.00           H  \nATOM   1107  H2  HOH W 229       3.670  15.600   3.094  1.00  0.00           H  \nTER    1108      HOH W 229\nATOM   1109  O   HOH X 230       3.609  18.478   8.680  1.00  0.00           O  \nATOM   1110  H1  HOH X 230       3.959  18.587   7.796  1.00  0.00           H  \nATOM   1111  H2  HOH X 230       3.547  17.530   8.799  1.00  0.00           H  \nTER    1112      HOH X 230\nATOM   1113  O   HOH Y 231       8.003  24.369   7.363  1.00  0.00           O  \nATOM   1114  H1  HOH Y 231       8.551  23.819   6.803  1.00  0.00           H  \nATOM   1115  H2  HOH Y 231       7.288  24.653   6.794  1.00  0.00           H  \nTER    1116      HOH Y 231\nATOM   1117  O   HOH Z 232       0.577  17.244   3.635  1.00  0.00           O  \nATOM   1118  H1  HOH Z 232       0.951  17.599   4.442  1.00  0.00           H  \nATOM   1119  H2  HOH Z 232       1.211  17.474   2.956  1.00  0.00           H  \nTER    1120      HOH Z 232\nATOM   1121  O   HOH A 233       5.455  25.912  14.246  1.00  0.00           O  \nATOM   1122  H1  HOH A 233       5.424  26.738  13.764  1.00  0.00           H  \nATOM   1123  H2  HOH A 233       6.205  25.447  13.877  1.00  0.00           H  \nTER    1124      HOH A 233\nATOM   1125  O   HOH B 234       9.962  24.638  12.692  1.00  0.00           O  \nATOM   1126  H1  HOH B 234       9.740  24.873  13.593  1.00  0.00           H  \nATOM   1127  H2  HOH B 234      10.640  25.265  12.441  1.00  0.00           H  \nTER    1128      HOH B 234\nATOM   1129  O   HOH C 235      11.267   0.373   9.498  1.00  0.00           O  \nATOM   1130  H1  HOH C 235      11.977   0.480   8.866  1.00  0.00           H  \nATOM   1131  H2  HOH C 235      11.677   0.533  10.349  1.00  0.00           H  \nTER    1132      HOH C 235\nATOM   1133  O   HOH D 236       9.975  22.627   2.035  1.00  0.00           O  \nATOM   1134  H1  HOH D 236       9.180  22.129   1.845  1.00  0.00           H  \nATOM   1135  H2  HOH D 236       9.659  23.483   2.325  1.00  0.00           H  \nTER    1136      HOH D 236\nATOM   1137  O   HOH E 237       0.738  14.661   4.727  1.00  0.00           O  \nATOM   1138  H1  HOH E 237       0.189  15.439   4.623  1.00  0.00           H  \nATOM   1139  H2  HOH E 237       1.521  14.849   4.210  1.00  0.00           H  \nTER    1140      HOH E 237\nATOM   1141  O   HOH F 238      15.053  24.536   8.329  1.00  0.00           O  \nATOM   1142  H1  HOH F 238      14.954  24.351   7.395  1.00  0.00           H  \nATOM   1143  H2  HOH F 238      15.980  24.753   8.433  1.00  0.00           H  \nTER    1144      HOH F 238\nATOM   1145  O   HOH G 239       4.053  23.817  10.883  1.00  0.00           O  \nATOM   1146  H1  HOH G 239       3.908  24.049  11.800  1.00  0.00           H  \nATOM   1147  H2  HOH G 239       4.969  24.046  10.720  1.00  0.00           H  \nTER    1148      HOH G 239\nATOM   1149  O   HOH H 240      10.578  21.883  11.546  1.00  0.00           O  \nATOM   1150  H1  HOH H 240      11.072  22.108  10.758  1.00  0.00           H  \nATOM   1151  H2  HOH H 240      10.235  22.719  11.861  1.00  0.00           H  \nTER    1152      HOH H 240\nATOM   1153  O   HOH I 241       2.980  21.872  14.759  1.00  0.00           O  \nATOM   1154  H1  HOH I 241       3.309  22.639  14.291  1.00  0.00           H  \nATOM   1155  H2  HOH I 241       3.186  22.045  15.678  1.00  0.00           H  \nTER    1156      HOH I 241\nATOM   1157  O   HOH J 242      19.974   2.892   2.775  1.00  0.00           O  \nATOM   1158  H1  HOH J 242      19.946   2.318   2.009  1.00  0.00           H  \nATOM   1159  H2  HOH J 242      19.104   3.289   2.809  1.00  0.00           H  \nTER    1160      HOH J 242\nATOM   1161  O   HOH K 243       0.783   0.432   0.237  1.00  0.00           O  \nATOM   1162  H1  HOH K 243       0.268  -0.219  -0.239  1.00  0.00           H  \nATOM   1163  H2  HOH K 243       0.264   0.625   1.017  1.00  0.00           H  \nTER    1164      HOH K 243\nATOM   1165  O   HOH L 244       0.362  17.044  15.945  1.00  0.00           O  \nATOM   1166  H1  HOH L 244      -0.298  17.475  16.487  1.00  0.00           H  \nATOM   1167  H2  HOH L 244       0.102  17.243  15.046  1.00  0.00           H  \nTER    1168      HOH L 244\nATOM   1169  O   HOH M 245       6.577  24.463   9.827  1.00  0.00           O  \nATOM   1170  H1  HOH M 245       6.174  25.325   9.932  1.00  0.00           H  \nATOM   1171  H2  HOH M 245       7.034  24.512   8.988  1.00  0.00           H  \nTER    1172      HOH M 245\nATOM   1173  O   HOH N 246       8.747   1.299  16.623  1.00  0.00           O  \nATOM   1174  H1  HOH N 246       8.442   1.043  17.493  1.00  0.00           H  \nATOM   1175  H2  HOH N 246       9.324   2.046  16.781  1.00  0.00           H  \nTER    1176      HOH N 246\nATOM   1177  O   HOH O 247      10.754  18.923  26.598  1.00  0.00           O  \nATOM   1178  H1  HOH O 247      11.111  19.057  25.720  1.00  0.00           H  \nATOM   1179  H2  HOH O 247      11.225  19.550  27.146  1.00  0.00           H  \nTER    1180      HOH O 247\nATOM   1181  O   HOH P 248       2.681  18.811  19.220  1.00  0.00           O  \nATOM   1182  H1  HOH P 248       1.806  19.031  19.540  1.00  0.00           H  \nATOM   1183  H2  HOH P 248       3.222  19.561  19.467  1.00  0.00           H  \nTER    1184      HOH P 248\nATOM   1185  O   HOH Q 249       3.357  22.423   8.492  1.00  0.00           O  \nATOM   1186  H1  HOH Q 249       3.578  22.569   9.412  1.00  0.00           H  \nATOM   1187  H2  HOH Q 249       2.436  22.672   8.425  1.00  0.00           H  \nTER    1188      HOH Q 249\nATOM   1189  O   HOH R 250      14.504  23.713  19.640  1.00  0.00           O  \nATOM   1190  H1  HOH R 250      15.244  23.547  19.056  1.00  0.00           H  \nATOM   1191  H2  HOH R 250      14.309  22.860  20.028  1.00  0.00           H  \nTER    1192      HOH R 250\nATOM   1193  O   HOH S 251       7.583  21.389   8.914  1.00  0.00           O  \nATOM   1194  H1  HOH S 251       7.566  22.230   9.371  1.00  0.00           H  \nATOM   1195  H2  HOH S 251       7.094  20.796   9.484  1.00  0.00           H  \nTER    1196      HOH S 251\nATOM   1197  O   HOH T 252      11.557  26.029  17.518  1.00  0.00           O  \nATOM   1198  H1  HOH T 252      11.946  26.140  16.650  1.00  0.00           H  \nATOM   1199  H2  HOH T 252      10.996  25.258  17.433  1.00  0.00           H  \nTER    1200      HOH T 252\nATOM   1201  O   HOH U 253       9.716  17.300   2.740  1.00  0.00           O  \nATOM   1202  H1  HOH U 253       9.120  17.754   3.335  1.00  0.00           H  \nATOM   1203  H2  HOH U 253      10.403  17.940   2.553  1.00  0.00           H  \nTER    1204      HOH U 253\nATOM   1205  O   HOH V 254      14.616   0.865   1.593  1.00  0.00           O  \nATOM   1206  H1  HOH V 254      15.008   0.247   0.976  1.00  0.00           H  \nATOM   1207  H2  HOH V 254      13.674   0.703   1.529  1.00  0.00           H  \nTER    1208      HOH V 254\nATOM   1209  O   HOH W 255       2.641   1.521   4.418  1.00  0.00           O  \nATOM   1210  H1  HOH W 255       3.496   1.099   4.333  1.00  0.00           H  \nATOM   1211  H2  HOH W 255       2.570   1.736   5.348  1.00  0.00           H  \nTER    1212      HOH W 255\nATOM   1213  O   HOH X 256       9.813  20.722   7.804  1.00  0.00           O  \nATOM   1214  H1  HOH X 256       9.010  20.974   8.260  1.00  0.00           H  \nATOM   1215  H2  HOH X 256      10.518  21.078   8.344  1.00  0.00           H  \nTER    1216      HOH X 256\nATOM   1217  O   HOH Y 257       8.888  16.771  22.740  1.00  0.00           O  \nATOM   1218  H1  HOH Y 257       8.476  16.985  23.578  1.00  0.00           H  \nATOM   1219  H2  HOH Y 257       8.202  16.327  22.242  1.00  0.00           H  \nTER    1220      HOH Y 257\nATOM   1221  O   HOH Z 258       7.046  22.190  14.290  1.00  0.00           O  \nATOM   1222  H1  HOH Z 258       7.909  22.131  13.879  1.00  0.00           H  \nATOM   1223  H2  HOH Z 258       6.665  22.992  13.932  1.00  0.00           H  \nTER    1224      HOH Z 258\nATOM   1225  O   HOH A 259      24.245  26.335   8.550  1.00  0.00           O  \nATOM   1226  H1  HOH A 259      23.514  25.787   8.265  1.00  0.00           H  \nATOM   1227  H2  HOH A 259      24.763  26.475   7.757  1.00  0.00           H  \nTER    1228      HOH A 259\nATOM   1229  O   HOH B 260      23.195  21.168  19.666  1.00  0.00           O  \nATOM   1230  H1  HOH B 260      23.968  20.884  19.178  1.00  0.00           H  \nATOM   1231  H2  HOH B 260      23.414  20.997  20.583  1.00  0.00           H  \nTER    1232      HOH B 260\nATOM   1233  O   HOH C 261       8.149  19.603  26.145  1.00  0.00           O  \nATOM   1234  H1  HOH C 261       8.027  20.145  26.925  1.00  0.00           H  \nATOM   1235  H2  HOH C 261       9.040  19.264  26.225  1.00  0.00           H  \nTER    1236      HOH C 261\nATOM   1237  O   HOH D 262      12.803   0.695  11.854  1.00  0.00           O  \nATOM   1238  H1  HOH D 262      13.288   0.392  12.621  1.00  0.00           H  \nATOM   1239  H2  HOH D 262      12.952   1.640  11.833  1.00  0.00           H  \nTER    1240      HOH D 262\nATOM   1241  O   HOH E 263      13.235  22.305  12.853  1.00  0.00           O  \nATOM   1242  H1  HOH E 263      12.461  21.796  12.611  1.00  0.00           H  \nATOM   1243  H2  HOH E 263      13.576  22.633  12.021  1.00  0.00           H  \nTER    1244      HOH E 263\nATOM   1245  O   HOH F 264       7.289  23.471  25.057  1.00  0.00           O  \nATOM   1246  H1  HOH F 264       8.237  23.365  24.975  1.00  0.00           H  \nATOM   1247  H2  HOH F 264       7.123  24.370  24.772  1.00  0.00           H  \nTER    1248      HOH F 264\nATOM   1249  O   HOH G 265       7.045   2.039  19.941  1.00  0.00           O  \nATOM   1250  H1  HOH G 265       7.746   1.418  19.746  1.00  0.00           H  \nATOM   1251  H2  HOH G 265       6.447   1.556  20.512  1.00  0.00           H  \nTER    1252      HOH G 265\nATOM   1253  O   HOH H 266      15.923  11.339   2.327  1.00  0.00           O  \nATOM   1254  H1  HOH H 266      15.358  11.892   1.787  1.00  0.00           H  \nATOM   1255  H2  HOH H 266      15.324  10.907   2.937  1.00  0.00           H  \nTER    1256      HOH H 266\nATOM   1257  O   HOH I 267      11.199  15.415  23.876  1.00  0.00           O  \nATOM   1258  H1  HOH I 267      11.788  16.020  23.425  1.00  0.00           H  \nATOM   1259  H2  HOH I 267      10.325  15.777  23.730  1.00  0.00           H  \nTER    1260      HOH I 267\nATOM   1261  O   HOH J 268      19.223  14.515   6.162  1.00  0.00           O  \nATOM   1262  H1  HOH J 268      18.883  15.409   6.208  1.00  0.00           H  \nATOM   1263  H2  HOH J 268      18.547  14.026   5.694  1.00  0.00           H  \nTER    1264      HOH J 268\nATOM   1265  O   HOH K 269      23.646  17.941  12.780  1.00  0.00           O  \nATOM   1266  H1  HOH K 269      22.820  17.812  13.246  1.00  0.00           H  \nATOM   1267  H2  HOH K 269      23.412  17.882  11.854  1.00  0.00           H  \nTER    1268      HOH K 269\nATOM   1269  O   HOH L 270       5.647  22.414  19.077  1.00  0.00           O  \nATOM   1270  H1  HOH L 270       6.306  21.864  18.653  1.00  0.00           H  \nATOM   1271  H2  HOH L 270       5.125  21.804  19.598  1.00  0.00           H  \nTER    1272      HOH L 270\nATOM   1273  O   HOH M 271      25.040  12.923   1.032  1.00  0.00           O  \nATOM   1274  H1  HOH M 271      25.361  13.643   0.488  1.00  0.00           H  \nATOM   1275  H2  HOH M 271      24.623  12.323   0.414  1.00  0.00           H  \nTER    1276      HOH M 271\nATOM   1277  O   HOH N 272       6.629   4.556   2.083  1.00  0.00           O  \nATOM   1278  H1  HOH N 272       6.724   5.476   2.327  1.00  0.00           H  \nATOM   1279  H2  HOH N 272       6.179   4.156   2.827  1.00  0.00           H  \nTER    1280      HOH N 272\nATOM   1281  O   HOH O 273       5.062  24.893  20.315  1.00  0.00           O  \nATOM   1282  H1  HOH O 273       5.229  24.192  19.685  1.00  0.00           H  \nATOM   1283  H2  HOH O 273       5.922  25.092  20.686  1.00  0.00           H  \nTER    1284      HOH O 273\nATOM   1285  O   HOH P 274       2.333  25.651   9.687  1.00  0.00           O  \nATOM   1286  H1  HOH P 274       3.051  25.102  10.000  1.00  0.00           H  \nATOM   1287  H2  HOH P 274       1.842  25.088   9.089  1.00  0.00           H  \nTER    1288      HOH P 274\nATOM   1289  O   HOH Q 275      21.438  15.622   9.334  1.00  0.00           O  \nATOM   1290  H1  HOH Q 275      21.807  15.368  10.180  1.00  0.00           H  \nATOM   1291  H2  HOH Q 275      22.197  15.697   8.754  1.00  0.00           H  \nTER    1292      HOH Q 275\nATOM   1293  O   HOH R 276      26.403  17.638  13.428  1.00  0.00           O  \nATOM   1294  H1  HOH R 276      25.585  17.898  13.003  1.00  0.00           H  \nATOM   1295  H2  HOH R 276      27.083  17.849  12.788  1.00  0.00           H  \nTER    1296      HOH R 276\nATOM   1297  O   HOH S 277      12.060  23.415  15.245  1.00  0.00           O  \nATOM   1298  H1  HOH S 277      11.743  24.247  14.894  1.00  0.00           H  \nATOM   1299  H2  HOH S 277      12.759  23.152  14.646  1.00  0.00           H  \nTER    1300      HOH S 277\nATOM   1301  O   HOH T 278      12.573  21.468   6.605  1.00  0.00           O  \nATOM   1302  H1  HOH T 278      12.095  21.933   5.918  1.00  0.00           H  \nATOM   1303  H2  HOH T 278      13.320  21.076   6.153  1.00  0.00           H  \nTER    1304      HOH T 278\nATOM   1305  O   HOH U 279       3.633   6.927   2.003  1.00  0.00           O  \nATOM   1306  H1  HOH U 279       4.360   7.549   1.979  1.00  0.00           H  \nATOM   1307  H2  HOH U 279       3.880   6.297   2.680  1.00  0.00           H  \nTER    1308      HOH U 279\nATOM   1309  O   HOH V 280      15.159  23.530   1.253  1.00  0.00           O  \nATOM   1310  H1  HOH V 280      15.171  24.431   0.930  1.00  0.00           H  \nATOM   1311  H2  HOH V 280      15.247  22.992   0.466  1.00  0.00           H  \nTER    1312      HOH V 280\nATOM   1313  O   HOH W 281      25.603   4.589   7.707  1.00  0.00           O  \nATOM   1314  H1  HOH W 281      25.258   3.738   7.436  1.00  0.00           H  \nATOM   1315  H2  HOH W 281      25.188   4.759   8.552  1.00  0.00           H  \nTER    1316      HOH W 281\nATOM   1317  O   HOH X 282      19.660   1.036   0.421  1.00  0.00           O  \nATOM   1318  H1  HOH X 282      19.192   0.523  -0.237  1.00  0.00           H  \nATOM   1319  H2  HOH X 282      20.345   0.449   0.740  1.00  0.00           H  \nTER    1320      HOH X 282\nATOM   1321  O   HOH Y 283      25.973  23.785  22.222  1.00  0.00           O  \nATOM   1322  H1  HOH Y 283      25.963  24.339  21.441  1.00  0.00           H  \nATOM   1323  H2  HOH Y 283      26.489  23.020  21.967  1.00  0.00           H  \nTER    1324      HOH Y 283\nATOM   1325  O   HOH Z 284       7.488   5.336  26.119  1.00  0.00           O  \nATOM   1326  H1  HOH Z 284       7.401   5.000  27.011  1.00  0.00           H  \nATOM   1327  H2  HOH Z 284       6.783   5.978  26.035  1.00  0.00           H  \nTER    1328      HOH Z 284\nATOM   1329  O   HOH A 285      12.347  22.268  25.558  1.00  0.00           O  \nATOM   1330  H1  HOH A 285      12.283  21.942  26.456  1.00  0.00           H  \nATOM   1331  H2  HOH A 285      13.259  22.113  25.311  1.00  0.00           H  \nTER    1332      HOH A 285\nATOM   1333  O   HOH B 286       3.691  24.318   1.844  1.00  0.00           O  \nATOM   1334  H1  HOH B 286       3.758  23.371   1.718  1.00  0.00           H  \nATOM   1335  H2  HOH B 286       4.574  24.591   2.092  1.00  0.00           H  \nTER    1336      HOH B 286\nATOM   1337  O   HOH C 287       8.828  25.509  15.274  1.00  0.00           O  \nATOM   1338  H1  HOH C 287       8.937  25.019  16.089  1.00  0.00           H  \nATOM   1339  H2  HOH C 287       8.908  26.427  15.533  1.00  0.00           H  \nTER    1340      HOH C 287\nATOM   1341  O   HOH D 288       6.950  15.789  20.960  1.00  0.00           O  \nATOM   1342  H1  HOH D 288       6.105  15.504  21.308  1.00  0.00           H  \nATOM   1343  H2  HOH D 288       6.851  16.733  20.834  1.00  0.00           H  \nTER    1344      HOH D 288\nATOM   1345  O   HOH E 289      12.136  25.011  25.235  1.00  0.00           O  \nATOM   1346  H1  HOH E 289      11.819  24.146  25.495  1.00  0.00           H  \nATOM   1347  H2  HOH E 289      11.920  25.076  24.305  1.00  0.00           H  \nTER    1348      HOH E 289\nATOM   1349  O   HOH F 290      12.988  16.933  22.561  1.00  0.00           O  \nATOM   1350  H1  HOH F 290      13.689  16.306  22.740  1.00  0.00           H  \nATOM   1351  H2  HOH F 290      13.259  17.371  21.753  1.00  0.00           H  \nTER    1352      HOH F 290\nATOM   1353  O   HOH G 291      11.956  18.838  24.278  1.00  0.00           O  \nATOM   1354  H1  HOH G 291      12.128  18.070  23.733  1.00  0.00           H  \nATOM   1355  H2  HOH G 291      12.821  19.124  24.571  1.00  0.00           H  \nTER    1356      HOH G 291\nATOM   1357  O   HOH H 292       4.455  20.809   2.048  1.00  0.00           O  \nATOM   1358  H1  HOH H 292       3.651  20.721   1.536  1.00  0.00           H  \nATOM   1359  H2  HOH H 292       4.951  21.495   1.600  1.00  0.00           H  \nTER    1360      HOH H 292\nATOM   1361  O   HOH I 293      13.008  25.894  19.928  1.00  0.00           O  \nATOM   1362  H1  HOH I 293      12.601  25.882  19.062  1.00  0.00           H  \nATOM   1363  H2  HOH I 293      13.555  25.108  19.947  1.00  0.00           H  \nTER    1364      HOH I 293\nATOM   1365  O   HOH J 294       7.163   3.366  24.431  1.00  0.00           O  \nATOM   1366  H1  HOH J 294       6.881   2.718  25.077  1.00  0.00           H  \nATOM   1367  H2  HOH J 294       7.243   4.181  24.928  1.00  0.00           H  \nTER    1368      HOH J 294\nATOM   1369  O   HOH K 295      22.746  18.669  22.330  1.00  0.00           O  \nATOM   1370  H1  HOH K 295      23.232  19.485  22.215  1.00  0.00           H  \nATOM   1371  H2  HOH K 295      22.660  18.571  23.279  1.00  0.00           H  \nTER    1372      HOH K 295\nATOM   1373  O   HOH L 296      10.436  20.963  15.871  1.00  0.00           O  \nATOM   1374  H1  HOH L 296      10.964  20.166  15.912  1.00  0.00           H  \nATOM   1375  H2  HOH L 296      11.074  21.668  15.757  1.00  0.00           H  \nTER    1376      HOH L 296\nATOM   1377  O   HOH M 297      16.225  24.227  24.086  1.00  0.00           O  \nATOM   1378  H1  HOH M 297      16.496  23.889  23.232  1.00  0.00           H  \nATOM   1379  H2  HOH M 297      15.918  23.456  24.563  1.00  0.00           H  \nTER    1380      HOH M 297\nATOM   1381  O   HOH N 298      17.216  23.178  15.671  1.00  0.00           O  \nATOM   1382  H1  HOH N 298      16.630  23.544  15.008  1.00  0.00           H  \nATOM   1383  H2  HOH N 298      18.077  23.533  15.451  1.00  0.00           H  \nTER    1384      HOH N 298\nATOM   1385  O   HOH O 299      -0.134  25.360  24.720  1.00  0.00           O  \nATOM   1386  H1  HOH O 299      -0.344  24.915  23.898  1.00  0.00           H  \nATOM   1387  H2  HOH O 299       0.822  25.395  24.737  1.00  0.00           H  \nTER    1388      HOH O 299\nATOM   1389  O   HOH P 300       6.522  25.143   1.792  1.00  0.00           O  \nATOM   1390  H1  HOH P 300       7.427  24.951   2.036  1.00  0.00           H  \nATOM   1391  H2  HOH P 300       6.469  26.098   1.799  1.00  0.00           H  \nTER    1392      HOH P 300\nATOM   1393  O   HOH Q 301       4.951  16.927  24.699  1.00  0.00           O  \nATOM   1394  H1  HOH Q 301       4.802  16.022  24.972  1.00  0.00           H  \nATOM   1395  H2  HOH Q 301       5.882  17.077  24.864  1.00  0.00           H  \nTER    1396      HOH Q 301\nATOM   1397  O   HOH R 302       9.409   3.886  22.768  1.00  0.00           O  \nATOM   1398  H1  HOH R 302       8.709   3.749  23.406  1.00  0.00           H  \nATOM   1399  H2  HOH R 302      10.158   3.412  23.128  1.00  0.00           H  \nTER    1400      HOH R 302\nATOM   1401  O   HOH S 303       4.017  21.867   4.846  1.00  0.00           O  \nATOM   1402  H1  HOH S 303       4.473  21.811   4.006  1.00  0.00           H  \nATOM   1403  H2  HOH S 303       4.679  21.631   5.495  1.00  0.00           H  \nTER    1404      HOH S 303\nATOM   1405  O   HOH T 304       1.452  24.675   3.735  1.00  0.00           O  \nATOM   1406  H1  HOH T 304       2.150  24.685   3.079  1.00  0.00           H  \nATOM   1407  H2  HOH T 304       1.909  24.574   4.570  1.00  0.00           H  \nTER    1408      HOH T 304\nATOM   1409  O   HOH U 305       0.741  21.724  21.417  1.00  0.00           O  \nATOM   1410  H1  HOH U 305       0.796  20.943  20.866  1.00  0.00           H  \nATOM   1411  H2  HOH U 305       1.632  22.074  21.425  1.00  0.00           H  \nTER    1412      HOH U 305\nATOM   1413  O   HOH V 306       7.698  25.600  20.827  1.00  0.00           O  \nATOM   1414  H1  HOH V 306       7.968  25.653  19.910  1.00  0.00           H  \nATOM   1415  H2  HOH V 306       8.413  26.012  21.312  1.00  0.00           H  \nTER    1416      HOH V 306\nATOM   1417  O   HOH W 307      25.687  23.382   3.706  1.00  0.00           O  \nATOM   1418  H1  HOH W 307      26.522  23.825   3.552  1.00  0.00           H  \nATOM   1419  H2  HOH W 307      25.414  23.682   4.573  1.00  0.00           H  \nTER    1420      HOH W 307\nATOM   1421  O   HOH X 308      16.808   2.352  22.407  1.00  0.00           O  \nATOM   1422  H1  HOH X 308      16.321   2.262  23.226  1.00  0.00           H  \nATOM   1423  H2  HOH X 308      17.594   1.821  22.535  1.00  0.00           H  \nTER    1424      HOH X 308\nATOM   1425  O   HOH Y 309       8.744  22.863  19.849  1.00  0.00           O  \nATOM   1426  H1  HOH Y 309       8.155  23.614  19.769  1.00  0.00           H  \nATOM   1427  H2  HOH Y 309       8.162  22.104  19.881  1.00  0.00           H  \nTER    1428      HOH Y 309\nATOM   1429  O   HOH Z 310      17.194  18.857  21.417  1.00  0.00           O  \nATOM   1430  H1  HOH Z 310      16.517  18.611  20.787  1.00  0.00           H  \nATOM   1431  H2  HOH Z 310      16.866  19.661  21.820  1.00  0.00           H  \nTER    1432      HOH Z 310\nATOM   1433  O   HOH A 311      15.561  15.843   1.216  1.00  0.00           O  \nATOM   1434  H1  HOH A 311      16.407  16.105   0.853  1.00  0.00           H  \nATOM   1435  H2  HOH A 311      15.094  16.667   1.354  1.00  0.00           H  \nTER    1436      HOH A 311\nATOM   1437  O   HOH B 312      13.481   1.812  20.989  1.00  0.00           O  \nATOM   1438  H1  HOH B 312      14.416   1.792  21.193  1.00  0.00           H  \nATOM   1439  H2  HOH B 312      13.270   0.911  20.743  1.00  0.00           H  \nTER    1440      HOH B 312\nATOM   1441  O   HOH C 313       9.936  23.248  24.434  1.00  0.00           O  \nATOM   1442  H1  HOH C 313      10.018  23.158  23.485  1.00  0.00           H  \nATOM   1443  H2  HOH C 313      10.637  22.701  24.789  1.00  0.00           H  \nTER    1444      HOH C 313\nATOM   1445  O   HOH D 314      17.682   8.176   2.594  1.00  0.00           O  \nATOM   1446  H1  HOH D 314      18.443   8.424   2.069  1.00  0.00           H  \nATOM   1447  H2  HOH D 314      17.281   9.008   2.843  1.00  0.00           H  \nTER    1448      HOH D 314\nATOM   1449  O   HOH E 315      14.405  18.332   1.515  1.00  0.00           O  \nATOM   1450  H1  HOH E 315      14.990  19.073   1.675  1.00  0.00           H  \nATOM   1451  H2  HOH E 315      13.788  18.351   2.246  1.00  0.00           H  \nTER    1452      HOH E 315\nATOM   1453  O   HOH F 316       5.748   1.156  25.716  1.00  0.00           O  \nATOM   1454  H1  HOH F 316       4.898   0.872  26.053  1.00  0.00           H  \nATOM   1455  H2  HOH F 316       6.059   0.417  25.194  1.00  0.00           H  \nTER    1456      HOH F 316\nATOM   1457  O   HOH G 317      14.066  20.619   4.414  1.00  0.00           O  \nATOM   1458  H1  HOH G 317      13.698  19.740   4.326  1.00  0.00           H  \nATOM   1459  H2  HOH G 317      15.013  20.480   4.449  1.00  0.00           H  \nTER    1460      HOH G 317\nATOM   1461  O   HOH H 318      23.786   2.015   0.401  1.00  0.00           O  \nATOM   1462  H1  HOH H 318      24.508   2.286  -0.165  1.00  0.00           H  \nATOM   1463  H2  HOH H 318      23.753   1.063   0.310  1.00  0.00           H  \nTER    1464      HOH H 318\nATOM   1465  O   HOH I 319       7.342   1.876   1.463  1.00  0.00           O  \nATOM   1466  H1  HOH I 319       6.692   1.610   0.813  1.00  0.00           H  \nATOM   1467  H2  HOH I 319       7.122   2.786   1.664  1.00  0.00           H  \nTER    1468      HOH I 319\nATOM   1469  O   HOH J 320       5.295   0.519  21.900  1.00  0.00           O  \nATOM   1470  H1  HOH J 320       4.419   0.795  22.170  1.00  0.00           H  \nATOM   1471  H2  HOH J 320       5.153  -0.299  21.423  1.00  0.00           H  \nTER    1472      HOH J 320\nATOM   1473  O   HOH K 321      14.396   6.768   6.064  1.00  0.00           O  \nATOM   1474  H1  HOH K 321      15.120   6.937   5.460  1.00  0.00           H  \nATOM   1475  H2  HOH K 321      14.031   5.932   5.773  1.00  0.00           H  \nTER    1476      HOH K 321\nATOM   1477  O   HOH L 322       9.659   5.737   9.380  1.00  0.00           O  \nATOM   1478  H1  HOH L 322      10.597   5.817   9.204  1.00  0.00           H  \nATOM   1479  H2  HOH L 322       9.238   6.192   8.650  1.00  0.00           H  \nTER    1480      HOH L 322\nATOM   1481  O   HOH M 323      24.027  15.083   5.924  1.00  0.00           O  \nATOM   1482  H1  HOH M 323      23.190  14.618   5.938  1.00  0.00           H  \nATOM   1483  H2  HOH M 323      24.203  15.234   4.995  1.00  0.00           H  \nTER    1484      HOH M 323\nATOM   1485  O   HOH N 324      23.032   8.729  14.353  1.00  0.00           O  \nATOM   1486  H1  HOH N 324      22.442   9.468  14.502  1.00  0.00           H  \nATOM   1487  H2  HOH N 324      23.115   8.311  15.210  1.00  0.00           H  \nTER    1488      HOH N 324\nATOM   1489  O   HOH O 325      24.155   6.867  10.576  1.00  0.00           O  \nATOM   1490  H1  HOH O 325      23.960   7.480   9.867  1.00  0.00           H  \nATOM   1491  H2  HOH O 325      24.093   6.003  10.169  1.00  0.00           H  \nTER    1492      HOH O 325\nATOM   1493  O   HOH P 326      23.173   0.919  10.967  1.00  0.00           O  \nATOM   1494  H1  HOH P 326      22.539   1.364  10.405  1.00  0.00           H  \nATOM   1495  H2  HOH P 326      23.669   0.358  10.370  1.00  0.00           H  \nTER    1496      HOH P 326\nATOM   1497  O   HOH Q 327      25.917   7.431  18.156  1.00  0.00           O  \nATOM   1498  H1  HOH Q 327      26.426   8.226  18.310  1.00  0.00           H  \nATOM   1499  H2  HOH Q 327      25.095   7.742  17.777  1.00  0.00           H  \nTER    1500      HOH Q 327\nATOM   1501  O   HOH R 328      18.762  11.544   2.725  1.00  0.00           O  \nATOM   1502  H1  HOH R 328      17.851  11.485   2.439  1.00  0.00           H  \nATOM   1503  H2  HOH R 328      19.187  10.782   2.330  1.00  0.00           H  \nTER    1504      HOH R 328\nATOM   1505  O   HOH S 329      17.420   4.236  11.622  1.00  0.00           O  \nATOM   1506  H1  HOH S 329      16.687   3.623  11.687  1.00  0.00           H  \nATOM   1507  H2  HOH S 329      17.745   4.128  10.728  1.00  0.00           H  \nTER    1508      HOH S 329\nATOM   1509  O   HOH T 330      15.216   8.112   1.019  1.00  0.00           O  \nATOM   1510  H1  HOH T 330      14.653   8.398   1.739  1.00  0.00           H  \nATOM   1511  H2  HOH T 330      16.106   8.253   1.341  1.00  0.00           H  \nTER    1512      HOH T 330\nATOM   1513  O   HOH U 331      24.769   5.105  15.686  1.00  0.00           O  \nATOM   1514  H1  HOH U 331      24.555   5.264  14.767  1.00  0.00           H  \nATOM   1515  H2  HOH U 331      24.765   4.151  15.772  1.00  0.00           H  \nTER    1516      HOH U 331\nATOM   1517  O   HOH V 332      23.900   6.718   4.107  1.00  0.00           O  \nATOM   1518  H1  HOH V 332      23.433   6.102   4.672  1.00  0.00           H  \nATOM   1519  H2  HOH V 332      24.794   6.727   4.450  1.00  0.00           H  \nTER    1520      HOH V 332\nATOM   1521  O   HOH W 333       0.229  22.785  14.700  1.00  0.00           O  \nATOM   1522  H1  HOH W 333      -0.276  21.981  14.577  1.00  0.00           H  \nATOM   1523  H2  HOH W 333       1.133  22.488  14.801  1.00  0.00           H  \nTER    1524      HOH W 333\nATOM   1525  O   HOH X 334      13.921  12.205  21.500  1.00  0.00           O  \nATOM   1526  H1  HOH X 334      13.466  12.157  20.660  1.00  0.00           H  \nATOM   1527  H2  HOH X 334      13.306  11.826  22.128  1.00  0.00           H  \nTER    1528      HOH X 334\nATOM   1529  O   HOH Y 335      17.780  24.578   8.568  1.00  0.00           O  \nATOM   1530  H1  HOH Y 335      18.533  25.164   8.488  1.00  0.00           H  \nATOM   1531  H2  HOH Y 335      18.049  23.778   8.117  1.00  0.00           H  \nTER    1532      HOH Y 335\nATOM   1533  O   HOH Z 336      16.948   6.131   4.278  1.00  0.00           O  \nATOM   1534  H1  HOH Z 336      17.222   6.736   3.589  1.00  0.00           H  \nATOM   1535  H2  HOH Z 336      16.939   5.273   3.855  1.00  0.00           H  \nTER    1536      HOH Z 336\nATOM   1537  O   HOH A 337       4.789   3.597  18.278  1.00  0.00           O  \nATOM   1538  H1  HOH A 337       5.344   2.867  18.553  1.00  0.00           H  \nATOM   1539  H2  HOH A 337       4.553   3.391  17.373  1.00  0.00           H  \nTER    1540      HOH A 337\nATOM   1541  O   HOH B 338      25.570   4.913  19.069  1.00  0.00           O  \nATOM   1542  H1  HOH B 338      26.395   4.861  19.551  1.00  0.00           H  \nATOM   1543  H2  HOH B 338      25.578   5.783  18.671  1.00  0.00           H  \nTER    1544      HOH B 338\nATOM   1545  O   HOH C 339       9.489   7.531  21.356  1.00  0.00           O  \nATOM   1546  H1  HOH C 339      10.012   6.772  21.101  1.00  0.00           H  \nATOM   1547  H2  HOH C 339      10.114   8.126  21.770  1.00  0.00           H  \nTER    1548      HOH C 339\nATOM   1549  O   HOH D 340       5.039   8.909  14.280  1.00  0.00           O  \nATOM   1550  H1  HOH D 340       4.134   8.657  14.099  1.00  0.00           H  \nATOM   1551  H2  HOH D 340       5.461   8.920  13.421  1.00  0.00           H  \nTER    1552      HOH D 340\nATOM   1553  O   HOH E 341      22.536  17.239  18.290  1.00  0.00           O  \nATOM   1554  H1  HOH E 341      21.906  17.959  18.266  1.00  0.00           H  \nATOM   1555  H2  HOH E 341      22.253  16.649  17.591  1.00  0.00           H  \nTER    1556      HOH E 341\nATOM   1557  O   HOH F 342       0.904  25.270  11.887  1.00  0.00           O  \nATOM   1558  H1  HOH F 342       1.350  25.567  11.093  1.00  0.00           H  \nATOM   1559  H2  HOH F 342       0.061  24.939  11.578  1.00  0.00           H  \nTER    1560      HOH F 342\nATOM   1561  O   HOH G 343       0.564   4.388   1.846  1.00  0.00           O  \nATOM   1562  H1  HOH G 343       0.022   4.379   1.056  1.00  0.00           H  \nATOM   1563  H2  HOH G 343       0.030   3.948   2.508  1.00  0.00           H  \nTER    1564      HOH G 343\nATOM   1565  O   HOH H 344      24.424  23.649   6.069  1.00  0.00           O  \nATOM   1566  H1  HOH H 344      24.866  22.872   6.412  1.00  0.00           H  \nATOM   1567  H2  HOH H 344      23.535  23.353   5.874  1.00  0.00           H  \nTER    1568      HOH H 344\nATOM   1569  O   HOH I 345      18.197  12.051   5.310  1.00  0.00           O  \nATOM   1570  H1  HOH I 345      18.931  11.634   5.763  1.00  0.00           H  \nATOM   1571  H2  HOH I 345      18.469  12.086   4.393  1.00  0.00           H  \nTER    1572      HOH I 345\nATOM   1573  O   HOH J 346      24.764  10.621  16.059  1.00  0.00           O  \nATOM   1574  H1  HOH J 346      24.367  10.281  16.861  1.00  0.00           H  \nATOM   1575  H2  HOH J 346      24.197  11.346  15.798  1.00  0.00           H  \nTER    1576      HOH J 346\nATOM   1577  O   HOH K 347       1.684  14.302   7.338  1.00  0.00           O  \nATOM   1578  H1  HOH K 347       1.206  14.456   6.523  1.00  0.00           H  \nATOM   1579  H2  HOH K 347       1.032  13.929   7.931  1.00  0.00           H  \nTER    1580      HOH K 347\nATOM   1581  O   HOH L 348      22.272  17.921   1.769  1.00  0.00           O  \nATOM   1582  H1  HOH L 348      23.215  18.006   1.906  1.00  0.00           H  \nATOM   1583  H2  HOH L 348      21.911  18.761   2.052  1.00  0.00           H  \nTER    1584      HOH L 348\nATOM   1585  O   HOH M 349      19.860  -0.163   7.871  1.00  0.00           O  \nATOM   1586  H1  HOH M 349      20.331   0.403   8.482  1.00  0.00           H  \nATOM   1587  H2  HOH M 349      19.825   0.340   7.057  1.00  0.00           H  \nTER    1588      HOH M 349\nATOM   1589  O   HOH N 350      24.573   5.185  12.975  1.00  0.00           O  \nATOM   1590  H1  HOH N 350      24.719   5.683  12.171  1.00  0.00           H  \nATOM   1591  H2  HOH N 350      24.583   4.269  12.696  1.00  0.00           H  \nTER    1592      HOH N 350\nATOM   1593  O   HOH O 351      25.036   0.539  20.934  1.00  0.00           O  \nATOM   1594  H1  HOH O 351      24.525   0.975  20.252  1.00  0.00           H  \nATOM   1595  H2  HOH O 351      25.693   1.186  21.191  1.00  0.00           H  \nTER    1596      HOH O 351\nATOM   1597  O   HOH P 352      23.479  25.614  16.967  1.00  0.00           O  \nATOM   1598  H1  HOH P 352      23.640  24.959  17.646  1.00  0.00           H  \nATOM   1599  H2  HOH P 352      24.302  25.661  16.480  1.00  0.00           H  \nTER    1600      HOH P 352\nATOM   1601  O   HOH Q 353      25.867  12.413  11.335  1.00  0.00           O  \nATOM   1602  H1  HOH Q 353      25.656  12.375  12.268  1.00  0.00           H  \nATOM   1603  H2  HOH Q 353      26.823  12.371  11.304  1.00  0.00           H  \nTER    1604      HOH Q 353\nATOM   1605  O   HOH R 354      24.767  20.414   9.126  1.00  0.00           O  \nATOM   1606  H1  HOH R 354      24.241  19.666   9.409  1.00  0.00           H  \nATOM   1607  H2  HOH R 354      24.199  21.172   9.263  1.00  0.00           H  \nTER    1608      HOH R 354\nATOM   1609  O   HOH S 355      16.386   6.125   8.069  1.00  0.00           O  \nATOM   1610  H1  HOH S 355      15.685   6.256   7.431  1.00  0.00           H  \nATOM   1611  H2  HOH S 355      17.157   6.524   7.665  1.00  0.00           H  \nTER    1612      HOH S 355\nATOM   1613  O   HOH T 356      17.587  24.966   4.377  1.00  0.00           O  \nATOM   1614  H1  HOH T 356      18.127  24.197   4.560  1.00  0.00           H  \nATOM   1615  H2  HOH T 356      16.777  24.812   4.863  1.00  0.00           H  \nTER    1616      HOH T 356\nATOM   1617  O   HOH U 357       5.528  24.866   5.634  1.00  0.00           O  \nATOM   1618  H1  HOH U 357       5.644  25.811   5.536  1.00  0.00           H  \nATOM   1619  H2  HOH U 357       4.603  24.759   5.854  1.00  0.00           H  \nTER    1620      HOH U 357\nATOM   1621  O   HOH V 358      23.325  22.763   9.521  1.00  0.00           O  \nATOM   1622  H1  HOH V 358      22.979  23.508   9.028  1.00  0.00           H  \nATOM   1623  H2  HOH V 358      22.554  22.364   9.924  1.00  0.00           H  \nTER    1624      HOH V 358\nATOM   1625  O   HOH W 359      26.193   0.857  17.104  1.00  0.00           O  \nATOM   1626  H1  HOH W 359      26.497  -0.044  16.995  1.00  0.00           H  \nATOM   1627  H2  HOH W 359      26.993   1.369  17.215  1.00  0.00           H  \nTER    1628      HOH W 359\nATOM   1629  O   HOH X 360       0.340   7.030   8.013  1.00  0.00           O  \nATOM   1630  H1  HOH X 360      -0.318   6.352   7.857  1.00  0.00           H  \nATOM   1631  H2  HOH X 360       0.627   7.292   7.138  1.00  0.00           H  \nTER    1632      HOH X 360\nATOM   1633  O   HOH Y 361       4.440   2.641  15.671  1.00  0.00           O  \nATOM   1634  H1  HOH Y 361       5.385   2.794  15.666  1.00  0.00           H  \nATOM   1635  H2  HOH Y 361       4.145   2.935  14.809  1.00  0.00           H  \nTER    1636      HOH Y 361\nATOM   1637  O   HOH Z 362      11.758   4.921  26.651  1.00  0.00           O  \nATOM   1638  H1  HOH Z 362      11.070   5.365  26.156  1.00  0.00           H  \nATOM   1639  H2  HOH Z 362      12.503   4.886  26.051  1.00  0.00           H  \nTER    1640      HOH Z 362\nATOM   1641  O   HOH A 363      23.565   1.886  18.982  1.00  0.00           O  \nATOM   1642  H1  HOH A 363      23.977   1.993  18.124  1.00  0.00           H  \nATOM   1643  H2  HOH A 363      22.739   1.440  18.797  1.00  0.00           H  \nTER    1644      HOH A 363\nATOM   1645  O   HOH B 364       8.061   4.294  20.529  1.00  0.00           O  \nATOM   1646  H1  HOH B 364       8.559   4.024  21.301  1.00  0.00           H  \nATOM   1647  H2  HOH B 364       7.675   3.483  20.197  1.00  0.00           H  \nTER    1648      HOH B 364\nATOM   1649  O   HOH C 365      20.105   2.075  12.827  1.00  0.00           O  \nATOM   1650  H1  HOH C 365      20.934   1.975  13.295  1.00  0.00           H  \nATOM   1651  H2  HOH C 365      20.130   2.968  12.482  1.00  0.00           H  \nTER    1652      HOH C 365\nATOM   1653  O   HOH D 366      21.294   6.833  16.094  1.00  0.00           O  \nATOM   1654  H1  HOH D 366      20.488   7.349  16.080  1.00  0.00           H  \nATOM   1655  H2  HOH D 366      21.276   6.337  15.276  1.00  0.00           H  \nTER    1656      HOH D 366\nATOM   1657  O   HOH E 367       3.416  19.442  16.106  1.00  0.00           O  \nATOM   1658  H1  HOH E 367       2.798  19.945  15.575  1.00  0.00           H  \nATOM   1659  H2  HOH E 367       3.144  19.605  17.009  1.00  0.00           H  \nTER    1660      HOH E 367\nATOM   1661  O   HOH F 368      19.991  16.889  20.682  1.00  0.00           O  \nATOM   1662  H1  HOH F 368      19.491  16.535  19.946  1.00  0.00           H  \nATOM   1663  H2  HOH F 368      20.713  16.271  20.801  1.00  0.00           H  \nTER    1664      HOH F 368\nATOM   1665  O   HOH G 369      24.950  14.818  18.109  1.00  0.00           O  \nATOM   1666  H1  HOH G 369      25.749  14.337  18.323  1.00  0.00           H  \nATOM   1667  H2  HOH G 369      24.716  15.269  18.920  1.00  0.00           H  \nTER    1668      HOH G 369\nATOM   1669  O   HOH H 370       1.055   3.993  22.842  1.00  0.00           O  \nATOM   1670  H1  HOH H 370       1.008   3.520  22.011  1.00  0.00           H  \nATOM   1671  H2  HOH H 370       1.548   4.788  22.638  1.00  0.00           H  \nTER    1672      HOH H 370\nATOM   1673  O   HOH I 371      21.865  12.167  11.579  1.00  0.00           O  \nATOM   1674  H1  HOH I 371      21.897  13.120  11.656  1.00  0.00           H  \nATOM   1675  H2  HOH I 371      22.348  11.974  10.775  1.00  0.00           H  \nTER    1676      HOH I 371\nATOM   1677  O   HOH J 372       3.292   8.275   9.365  1.00  0.00           O  \nATOM   1678  H1  HOH J 372       3.468   9.123   9.773  1.00  0.00           H  \nATOM   1679  H2  HOH J 372       2.422   8.032   9.683  1.00  0.00           H  \nTER    1680      HOH J 372\nATOM   1681  O   HOH K 373       1.026  10.180  18.822  1.00  0.00           O  \nATOM   1682  H1  HOH K 373       1.917  10.085  19.158  1.00  0.00           H  \nATOM   1683  H2  HOH K 373       0.469  10.122  19.599  1.00  0.00           H  \nTER    1684      HOH K 373\nATOM   1685  O   HOH L 374       4.859   3.543   3.861  1.00  0.00           O  \nATOM   1686  H1  HOH L 374       4.844   4.391   4.304  1.00  0.00           H  \nATOM   1687  H2  HOH L 374       4.071   3.542   3.319  1.00  0.00           H  \nTER    1688      HOH L 374\nATOM   1689  O   HOH M 375       4.619   9.862   5.855  1.00  0.00           O  \nATOM   1690  H1  HOH M 375       4.832  10.583   6.448  1.00  0.00           H  \nATOM   1691  H2  HOH M 375       4.434  10.286   5.017  1.00  0.00           H  \nTER    1692      HOH M 375\nATOM   1693  O   HOH N 376      14.097  13.237   1.084  1.00  0.00           O  \nATOM   1694  H1  HOH N 376      13.293  13.459   0.615  1.00  0.00           H  \nATOM   1695  H2  HOH N 376      14.604  14.050   1.090  1.00  0.00           H  \nTER    1696      HOH N 376\nATOM   1697  O   HOH O 377      22.989   8.062   8.308  1.00  0.00           O  \nATOM   1698  H1  HOH O 377      23.370   8.698   7.703  1.00  0.00           H  \nATOM   1699  H2  HOH O 377      22.044   8.194   8.231  1.00  0.00           H  \nTER    1700      HOH O 377\nATOM   1701  O   HOH P 378      22.600  10.855   7.667  1.00  0.00           O  \nATOM   1702  H1  HOH P 378      22.695  11.199   8.555  1.00  0.00           H  \nATOM   1703  H2  HOH P 378      23.278  11.304   7.162  1.00  0.00           H  \nTER    1704      HOH P 378\nATOM   1705  O   HOH Q 379      17.076  24.552  11.522  1.00  0.00           O  \nATOM   1706  H1  HOH Q 379      16.967  24.677  10.579  1.00  0.00           H  \nATOM   1707  H2  HOH Q 379      17.525  25.344  11.819  1.00  0.00           H  \nTER    1708      HOH Q 379\nATOM   1709  O   HOH R 380      20.193   5.266   6.624  1.00  0.00           O  \nATOM   1710  H1  HOH R 380      20.497   4.819   7.414  1.00  0.00           H  \nATOM   1711  H2  HOH R 380      20.944   5.241   6.030  1.00  0.00           H  \nTER    1712      HOH R 380\nATOM   1713  O   HOH S 381       2.545  16.361  20.658  1.00  0.00           O  \nATOM   1714  H1  HOH S 381       1.681  16.505  21.046  1.00  0.00           H  \nATOM   1715  H2  HOH S 381       2.700  17.140  20.124  1.00  0.00           H  \nTER    1716      HOH S 381\nATOM   1717  O   HOH T 382      22.158  24.748   7.899  1.00  0.00           O  \nATOM   1718  H1  HOH T 382      21.432  25.289   7.589  1.00  0.00           H  \nATOM   1719  H2  HOH T 382      22.159  23.990   7.315  1.00  0.00           H  \nTER    1720      HOH T 382\nATOM   1721  O   HOH U 383      12.490   3.523  12.049  1.00  0.00           O  \nATOM   1722  H1  HOH U 383      11.579   3.645  11.783  1.00  0.00           H  \nATOM   1723  H2  HOH U 383      13.001   3.922  11.345  1.00  0.00           H  \nTER    1724      HOH U 383\nATOM   1725  O   HOH V 384      26.687   6.945  14.285  1.00  0.00           O  \nATOM   1726  H1  HOH V 384      26.191   6.816  15.094  1.00  0.00           H  \nATOM   1727  H2  HOH V 384      26.061   7.342  13.680  1.00  0.00           H  \nTER    1728      HOH V 384\nATOM   1729  O   HOH W 385       0.758  19.856   8.178  1.00  0.00           O  \nATOM   1730  H1  HOH W 385       1.275  19.367   8.818  1.00  0.00           H  \nATOM   1731  H2  HOH W 385      -0.140  19.802   8.503  1.00  0.00           H  \nTER    1732      HOH W 385\nATOM   1733  O   HOH X 386       9.546  18.575  20.775  1.00  0.00           O  \nATOM   1734  H1  HOH X 386       9.957  18.375  19.934  1.00  0.00           H  \nATOM   1735  H2  HOH X 386       9.666  17.781  21.296  1.00  0.00           H  \nTER    1736      HOH X 386\nATOM   1737  O   HOH Y 387      24.919  15.256  10.038  1.00  0.00           O  \nATOM   1738  H1  HOH Y 387      24.903  14.995  10.959  1.00  0.00           H  \nATOM   1739  H2  HOH Y 387      25.214  14.474   9.572  1.00  0.00           H  \nTER    1740      HOH Y 387\nATOM   1741  O   HOH Z 388      24.061   2.409   6.957  1.00  0.00           O  \nATOM   1742  H1  HOH Z 388      23.493   2.191   7.696  1.00  0.00           H  \nATOM   1743  H2  HOH Z 388      24.168   1.584   6.484  1.00  0.00           H  \nTER    1744      HOH Z 388\nATOM   1745  O   HOH A 389      20.196  15.496  15.143  1.00  0.00           O  \nATOM   1746  H1  HOH A 389      20.766  14.805  15.481  1.00  0.00           H  \nATOM   1747  H2  HOH A 389      20.079  16.093  15.883  1.00  0.00           H  \nTER    1748      HOH A 389\nATOM   1749  O   HOH B 390       4.616  14.953  18.241  1.00  0.00           O  \nATOM   1750  H1  HOH B 390       4.937  15.421  19.012  1.00  0.00           H  \nATOM   1751  H2  HOH B 390       4.166  15.622  17.724  1.00  0.00           H  \nTER    1752      HOH B 390\nATOM   1753  O   HOH C 391      23.745   4.252   9.667  1.00  0.00           O  \nATOM   1754  H1  HOH C 391      22.937   3.821   9.388  1.00  0.00           H  \nATOM   1755  H2  HOH C 391      24.111   3.670  10.333  1.00  0.00           H  \nTER    1756      HOH C 391\nATOM   1757  O   HOH D 392      21.841   5.297  13.518  1.00  0.00           O  \nATOM   1758  H1  HOH D 392      21.467   5.127  12.654  1.00  0.00           H  \nATOM   1759  H2  HOH D 392      22.777   5.413  13.356  1.00  0.00           H  \nTER    1760      HOH D 392\nATOM   1761  O   HOH E 393      23.776  12.372   9.553  1.00  0.00           O  \nATOM   1762  H1  HOH E 393      24.378  12.689   8.881  1.00  0.00           H  \nATOM   1763  H2  HOH E 393      24.261  12.466  10.373  1.00  0.00           H  \nTER    1764      HOH E 393\nATOM   1765  O   HOH F 394      23.033   8.876  24.543  1.00  0.00           O  \nATOM   1766  H1  HOH F 394      22.704   8.085  24.116  1.00  0.00           H  \nATOM   1767  H2  HOH F 394      23.356   8.573  25.392  1.00  0.00           H  \nTER    1768      HOH F 394\nATOM   1769  O   HOH G 395      16.650  14.389   3.541  1.00  0.00           O  \nATOM   1770  H1  HOH G 395      16.879  13.488   3.312  1.00  0.00           H  \nATOM   1771  H2  HOH G 395      16.448  14.805   2.703  1.00  0.00           H  \nTER    1772      HOH G 395\nATOM   1773  O   HOH H 396      21.453  14.710  21.018  1.00  0.00           O  \nATOM   1774  H1  HOH H 396      22.376  14.929  21.144  1.00  0.00           H  \nATOM   1775  H2  HOH H 396      21.450  14.101  20.279  1.00  0.00           H  \nTER    1776      HOH H 396\nATOM   1777  O   HOH I 397      22.453   1.336  14.538  1.00  0.00           O  \nATOM   1778  H1  HOH I 397      22.739   0.613  13.979  1.00  0.00           H  \nATOM   1779  H2  HOH I 397      23.246   1.609  15.000  1.00  0.00           H  \nTER    1780      HOH I 397\nATOM   1781  O   HOH J 398       7.986  18.120   4.780  1.00  0.00           O  \nATOM   1782  H1  HOH J 398       7.722  17.293   5.182  1.00  0.00           H  \nATOM   1783  H2  HOH J 398       7.164  18.524   4.500  1.00  0.00           H  \nTER    1784      HOH J 398\nATOM   1785  O   HOH K 399      26.271  12.234   3.646  1.00  0.00           O  \nATOM   1786  H1  HOH K 399      26.491  13.113   3.955  1.00  0.00           H  \nATOM   1787  H2  HOH K 399      25.851  12.376   2.798  1.00  0.00           H  \nTER    1788      HOH K 399\nATOM   1789  O   HOH L 400      24.877   2.378  15.499  1.00  0.00           O  \nATOM   1790  H1  HOH L 400      25.309   1.754  16.082  1.00  0.00           H  \nATOM   1791  H2  HOH L 400      25.330   2.279  14.662  1.00  0.00           H  \nTER    1792      HOH L 400\nATOM   1793  O   HOH M 401      25.098   8.652  12.648  1.00  0.00           O  \nATOM   1794  H1  HOH M 401      24.265   8.713  13.114  1.00  0.00           H  \nATOM   1795  H2  HOH M 401      24.878   8.232  11.816  1.00  0.00           H  \nTER    1796      HOH M 401\nATOM   1797  O   HOH N 402      22.567   8.620   2.741  1.00  0.00           O  \nATOM   1798  H1  HOH N 402      22.622   9.355   3.353  1.00  0.00           H  \nATOM   1799  H2  HOH N 402      23.029   7.907   3.181  1.00  0.00           H  \nTER    1800      HOH N 402\nATOM   1801  O   HOH O 403      17.821   1.232   4.117  1.00  0.00           O  \nATOM   1802  H1  HOH O 403      17.801   0.283   4.240  1.00  0.00           H  \nATOM   1803  H2  HOH O 403      18.607   1.518   4.583  1.00  0.00           H  \nTER    1804      HOH O 403\nATOM   1805  O   HOH P 404      20.868   6.929  10.082  1.00  0.00           O  \nATOM   1806  H1  HOH P 404      20.358   7.497   9.505  1.00  0.00           H  \nATOM   1807  H2  HOH P 404      21.754   7.292  10.055  1.00  0.00           H  \nTER    1808      HOH P 404\nATOM   1809  O   HOH Q 405      21.000  10.574  26.236  1.00  0.00           O  \nATOM   1810  H1  HOH Q 405      21.530  10.097  25.598  1.00  0.00           H  \nATOM   1811  H2  HOH Q 405      20.969  11.470  25.901  1.00  0.00           H  \nTER    1812      HOH Q 405\nATOM   1813  O   HOH R 406      21.456  18.206  14.439  1.00  0.00           O  \nATOM   1814  H1  HOH R 406      21.072  19.031  14.734  1.00  0.00           H  \nATOM   1815  H2  HOH R 406      20.935  17.530  14.874  1.00  0.00           H  \nTER    1816      HOH R 406\nATOM   1817  O   HOH S 407      17.916  16.970   0.383  1.00  0.00           O  \nATOM   1818  H1  HOH S 407      18.673  16.461   0.093  1.00  0.00           H  \nATOM   1819  H2  HOH S 407      18.163  17.298   1.247  1.00  0.00           H  \nTER    1820      HOH S 407\nATOM   1821  O   HOH T 408      25.024  11.389   5.962  1.00  0.00           O  \nATOM   1822  H1  HOH T 408      25.709  11.411   5.294  1.00  0.00           H  \nATOM   1823  H2  HOH T 408      25.285  10.681   6.551  1.00  0.00           H  \nTER    1824      HOH T 408\nATOM   1825  O   HOH U 409      18.063   3.589   9.088  1.00  0.00           O  \nATOM   1826  H1  HOH U 409      17.943   4.309   8.469  1.00  0.00           H  \nATOM   1827  H2  HOH U 409      18.962   3.295   8.942  1.00  0.00           H  \nTER    1828      HOH U 409\nATOM   1829  O   HOH V 410      16.358   1.517  11.414  1.00  0.00           O  \nATOM   1830  H1  HOH V 410      15.875   1.097  12.126  1.00  0.00           H  \nATOM   1831  H2  HOH V 410      17.251   1.182  11.500  1.00  0.00           H  \nTER    1832      HOH V 410\nATOM   1833  O   HOH W 411      23.221   7.558   0.305  1.00  0.00           O  \nATOM   1834  H1  HOH W 411      22.869   8.019   1.066  1.00  0.00           H  \nATOM   1835  H2  HOH W 411      22.512   6.979   0.026  1.00  0.00           H  \nTER    1836      HOH W 411\nATOM   1837  O   HOH X 412       7.269   2.086   7.412  1.00  0.00           O  \nATOM   1838  H1  HOH X 412       7.524   1.932   8.321  1.00  0.00           H  \nATOM   1839  H2  HOH X 412       8.097   2.121   6.933  1.00  0.00           H  \nTER    1840      HOH X 412\nATOM   1841  O   HOH Y 413      -0.072   7.140   2.769  1.00  0.00           O  \nATOM   1842  H1  HOH Y 413       0.332   7.446   3.581  1.00  0.00           H  \nATOM   1843  H2  HOH Y 413       0.443   6.374   2.519  1.00  0.00           H  \nTER    1844      HOH Y 413\nATOM   1845  O   HOH Z 414      26.145  20.506   2.174  1.00  0.00           O  \nATOM   1846  H1  HOH Z 414      26.097  21.073   1.403  1.00  0.00           H  \nATOM   1847  H2  HOH Z 414      26.935  20.791   2.633  1.00  0.00           H  \nTER    1848      HOH Z 414\nATOM   1849  O   HOH A 415      17.674   3.723  15.980  1.00  0.00           O  \nATOM   1850  H1  HOH A 415      17.651   4.223  15.164  1.00  0.00           H  \nATOM   1851  H2  HOH A 415      18.585   3.442  16.064  1.00  0.00           H  \nTER    1852      HOH A 415\nATOM   1853  O   HOH B 416      20.121  12.783  25.273  1.00  0.00           O  \nATOM   1854  H1  HOH B 416      19.509  12.065  25.434  1.00  0.00           H  \nATOM   1855  H2  HOH B 416      19.956  13.040  24.366  1.00  0.00           H  \nTER    1856      HOH B 416\nATOM   1857  O   HOH C 417      24.936  17.940  25.489  1.00  0.00           O  \nATOM   1858  H1  HOH C 417      25.794  18.324  25.306  1.00  0.00           H  \nATOM   1859  H2  HOH C 417      24.828  18.032  26.435  1.00  0.00           H  \nTER    1860      HOH C 417\nATOM   1861  O   HOH D 418      21.138  13.189   3.378  1.00  0.00           O  \nATOM   1862  H1  HOH D 418      21.067  14.057   2.982  1.00  0.00           H  \nATOM   1863  H2  HOH D 418      20.320  12.750   3.144  1.00  0.00           H  \nTER    1864      HOH D 418\nATOM   1865  O   HOH E 419       2.746  10.434  22.669  1.00  0.00           O  \nATOM   1866  H1  HOH E 419       2.481  11.027  21.966  1.00  0.00           H  \nATOM   1867  H2  HOH E 419       3.694  10.348  22.566  1.00  0.00           H  \nTER    1868      HOH E 419\nATOM   1869  O   HOH F 420      21.484   5.636  25.905  1.00  0.00           O  \nATOM   1870  H1  HOH F 420      20.528   5.661  25.952  1.00  0.00           H  \nATOM   1871  H2  HOH F 420      21.683   4.776  25.535  1.00  0.00           H  \nTER    1872      HOH F 420\nATOM   1873  O   HOH G 421      24.902   4.843  26.509  1.00  0.00           O  \nATOM   1874  H1  HOH G 421      23.948   4.758  26.514  1.00  0.00           H  \nATOM   1875  H2  HOH G 421      25.207   4.096  25.994  1.00  0.00           H  \nTER    1876      HOH G 421\nATOM   1877  O   HOH H 422       0.934   8.379  22.181  1.00  0.00           O  \nATOM   1878  H1  HOH H 422       1.458   9.161  22.355  1.00  0.00           H  \nATOM   1879  H2  HOH H 422       1.571   7.717  21.912  1.00  0.00           H  \nTER    1880      HOH H 422\nATOM   1881  O   HOH I 423      21.433  22.977   0.724  1.00  0.00           O  \nATOM   1882  H1  HOH I 423      20.495  22.846   0.858  1.00  0.00           H  \nATOM   1883  H2  HOH I 423      21.609  22.590  -0.134  1.00  0.00           H  \nTER    1884      HOH I 423\nATOM   1885  O   HOH J 424       2.800  18.608  24.890  1.00  0.00           O  \nATOM   1886  H1  HOH J 424       2.157  17.996  25.248  1.00  0.00           H  \nATOM   1887  H2  HOH J 424       3.571  18.069  24.713  1.00  0.00           H  \nTER    1888      HOH J 424\nATOM   1889  O   HOH K 425      19.943  19.009   5.055  1.00  0.00           O  \nATOM   1890  H1  HOH K 425      20.677  19.011   4.441  1.00  0.00           H  \nATOM   1891  H2  HOH K 425      19.942  19.889   5.432  1.00  0.00           H  \nTER    1892      HOH K 425\nATOM   1893  O   HOH L 426      21.500   6.940  23.413  1.00  0.00           O  \nATOM   1894  H1  HOH L 426      21.461   6.349  22.661  1.00  0.00           H  \nATOM   1895  H2  HOH L 426      21.278   6.389  24.164  1.00  0.00           H  \nTER    1896      HOH L 426\nATOM   1897  O   HOH M 427       0.819   4.506   5.519  1.00  0.00           O  \nATOM   1898  H1  HOH M 427       0.339   3.998   4.866  1.00  0.00           H  \nATOM   1899  H2  HOH M 427       0.181   4.665   6.215  1.00  0.00           H  \nTER    1900      HOH M 427\nATOM   1901  O   HOH N 428      23.914  23.730  18.694  1.00  0.00           O  \nATOM   1902  H1  HOH N 428      23.369  23.060  19.107  1.00  0.00           H  \nATOM   1903  H2  HOH N 428      24.629  23.873  19.313  1.00  0.00           H  \nTER    1904      HOH N 428\nATOM   1905  O   HOH O 429       7.090  20.804  23.980  1.00  0.00           O  \nATOM   1906  H1  HOH O 429       7.201  21.754  23.995  1.00  0.00           H  \nATOM   1907  H2  HOH O 429       7.337  20.519  24.860  1.00  0.00           H  \nTER    1908      HOH O 429\nATOM   1909  O   HOH P 430      25.187  18.130   1.769  1.00  0.00           O  \nATOM   1910  H1  HOH P 430      25.496  19.035   1.793  1.00  0.00           H  \nATOM   1911  H2  HOH P 430      25.760  17.664   2.378  1.00  0.00           H  \nTER    1912      HOH P 430\nATOM   1913  O   HOH Q 431      23.737  16.729  20.829  1.00  0.00           O  \nATOM   1914  H1  HOH Q 431      23.385  17.462  21.333  1.00  0.00           H  \nATOM   1915  H2  HOH Q 431      23.417  16.875  19.938  1.00  0.00           H  \nTER    1916      HOH Q 431\nATOM   1917  O   HOH R 432      16.518   5.875  21.416  1.00  0.00           O  \nATOM   1918  H1  HOH R 432      17.161   5.335  21.874  1.00  0.00           H  \nATOM   1919  H2  HOH R 432      16.813   5.878  20.505  1.00  0.00           H  \nTER    1920      HOH R 432\nATOM   1921  O   HOH S 433      18.399   6.267  19.015  1.00  0.00           O  \nATOM   1922  H1  HOH S 433      19.075   5.709  19.400  1.00  0.00           H  \nATOM   1923  H2  HOH S 433      18.757   7.152  19.073  1.00  0.00           H  \nTER    1924      HOH S 433\nATOM   1925  O   HOH T 434      16.054   8.542  22.117  1.00  0.00           O  \nATOM   1926  H1  HOH T 434      16.218   7.609  21.983  1.00  0.00           H  \nATOM   1927  H2  HOH T 434      15.763   8.607  23.026  1.00  0.00           H  \nTER    1928      HOH T 434\nATOM   1929  O   HOH U 435      19.841  15.212  26.191  1.00  0.00           O  \nATOM   1930  H1  HOH U 435      20.245  15.080  27.049  1.00  0.00           H  \nATOM   1931  H2  HOH U 435      20.066  14.424  25.696  1.00  0.00           H  \nTER    1932      HOH U 435\nATOM   1933  O   HOH V 436      22.739   4.272   5.595  1.00  0.00           O  \nATOM   1934  H1  HOH V 436      22.706   3.867   4.728  1.00  0.00           H  \nATOM   1935  H2  HOH V 436      23.328   3.710   6.100  1.00  0.00           H  \nTER    1936      HOH V 436\nATOM   1937  O   HOH W 437       1.908  15.744  25.264  1.00  0.00           O  \nATOM   1938  H1  HOH W 437       1.540  15.207  24.562  1.00  0.00           H  \nATOM   1939  H2  HOH W 437       2.781  15.381  25.412  1.00  0.00           H  \nTER    1940      HOH W 437\nATOM   1941  O   HOH X 438      19.350   8.649  23.950  1.00  0.00           O  \nATOM   1942  H1  HOH X 438      20.109   8.136  23.672  1.00  0.00           H  \nATOM   1943  H2  HOH X 438      18.716   7.996  24.246  1.00  0.00           H  \nTER    1944      HOH X 438\nATOM   1945  O   HOH Y 439      23.361  12.629  14.851  1.00  0.00           O  \nATOM   1946  H1  HOH Y 439      22.642  12.212  14.375  1.00  0.00           H  \nATOM   1947  H2  HOH Y 439      23.894  13.038  14.169  1.00  0.00           H  \nTER    1948      HOH Y 439\nATOM   1949  O   HOH Z 440      26.105   8.015  24.805  1.00  0.00           O  \nATOM   1950  H1  HOH Z 440      26.182   7.803  23.875  1.00  0.00           H  \nATOM   1951  H2  HOH Z 440      26.787   8.669  24.959  1.00  0.00           H  \nTER    1952      HOH Z 440\nATOM   1953  O   HOH A 441      20.618   4.421  11.279  1.00  0.00           O  \nATOM   1954  H1  HOH A 441      20.746   5.277  10.872  1.00  0.00           H  \nATOM   1955  H2  HOH A 441      20.883   3.793  10.607  1.00  0.00           H  \nTER    1956      HOH A 441\nATOM   1957  O   HOH B 442       4.528  12.207   8.242  1.00  0.00           O  \nATOM   1958  H1  HOH B 442       4.442  11.374   8.706  1.00  0.00           H  \nATOM   1959  H2  HOH B 442       4.473  12.871   8.930  1.00  0.00           H  \nTER    1960      HOH B 442\nATOM   1961  O   HOH C 443       5.027   6.364  15.422  1.00  0.00           O  \nATOM   1962  H1  HOH C 443       5.840   5.951  15.129  1.00  0.00           H  \nATOM   1963  H2  HOH C 443       5.051   7.241  15.038  1.00  0.00           H  \nTER    1964      HOH C 443\nATOM   1965  O   HOH D 444      25.660  15.264  25.588  1.00  0.00           O  \nATOM   1966  H1  HOH D 444      26.567  15.568  25.611  1.00  0.00           H  \nATOM   1967  H2  HOH D 444      25.137  16.064  25.643  1.00  0.00           H  \nTER    1968      HOH D 444\nATOM   1969  O   HOH E 445      26.654  10.378  13.891  1.00  0.00           O  \nATOM   1970  H1  HOH E 445      26.200  10.515  14.722  1.00  0.00           H  \nATOM   1971  H2  HOH E 445      26.052   9.845  13.373  1.00  0.00           H  \nTER    1972      HOH E 445\nATOM   1973  O   HOH F 446      22.519  14.789  16.723  1.00  0.00           O  \nATOM   1974  H1  HOH F 446      22.754  14.127  16.073  1.00  0.00           H  \nATOM   1975  H2  HOH F 446      23.329  14.948  17.208  1.00  0.00           H  \nTER    1976      HOH F 446\nATOM   1977  O   HOH G 447       2.670  16.480  17.139  1.00  0.00           O  \nATOM   1978  H1  HOH G 447       2.991  17.262  17.588  1.00  0.00           H  \nATOM   1979  H2  HOH G 447       1.821  16.739  16.782  1.00  0.00           H  \nTER    1980      HOH G 447\nATOM   1981  O   HOH H 448      24.516   3.314  21.712  1.00  0.00           O  \nATOM   1982  H1  HOH H 448      25.338   3.595  22.113  1.00  0.00           H  \nATOM   1983  H2  HOH H 448      23.959   3.072  22.451  1.00  0.00           H  \nTER    1984      HOH H 448\nATOM   1985  O   HOH I 449       1.205  14.150  19.438  1.00  0.00           O  \nATOM   1986  H1  HOH I 449       1.660  14.619  20.138  1.00  0.00           H  \nATOM   1987  H2  HOH I 449       1.580  14.500  18.631  1.00  0.00           H  \nTER    1988      HOH I 449\nATOM   1989  O   HOH J 450      19.437   8.967  19.745  1.00  0.00           O  \nATOM   1990  H1  HOH J 450      20.035   9.435  20.327  1.00  0.00           H  \nATOM   1991  H2  HOH J 450      18.579   9.354  19.921  1.00  0.00           H  \nTER    1992      HOH J 450\nATOM   1993  O   HOH K 451      16.706   0.982  15.270  1.00  0.00           O  \nATOM   1994  H1  HOH K 451      16.509   0.613  16.131  1.00  0.00           H  \nATOM   1995  H2  HOH K 451      17.103   1.832  15.459  1.00  0.00           H  \nTER    1996      HOH K 451\nATOM   1997  O   HOH L 452       4.332  14.560  25.687  1.00  0.00           O  \nATOM   1998  H1  HOH L 452       4.231  13.613  25.595  1.00  0.00           H  \nATOM   1999  H2  HOH L 452       4.832  14.672  26.495  1.00  0.00           H  \nTER    2000      HOH L 452\nATOM   2001  O   HOH M 453       4.220   3.342  24.313  1.00  0.00           O  \nATOM   2002  H1  HOH M 453       5.040   3.364  23.820  1.00  0.00           H  \nATOM   2003  H2  HOH M 453       4.459   2.964  25.159  1.00  0.00           H  \nTER    2004      HOH M 453\nATOM   2005  O   HOH N 454       0.381  14.367  23.054  1.00  0.00           O  \nATOM   2006  H1  HOH N 454      -0.365  14.230  23.638  1.00  0.00           H  \nATOM   2007  H2  HOH N 454       0.591  13.494  22.724  1.00  0.00           H  \nTER    2008      HOH N 454\nATOM   2009  O   HOH O 455       1.362  12.204  21.276  1.00  0.00           O  \nATOM   2010  H1  HOH O 455       1.348  12.771  20.505  1.00  0.00           H  \nATOM   2011  H2  HOH O 455       0.693  11.543  21.099  1.00  0.00           H  \nTER    2012      HOH O 455\nATOM   2013  O   HOH P 456       5.449   9.171   1.509  1.00  0.00           O  \nATOM   2014  H1  HOH P 456       6.284   8.969   1.932  1.00  0.00           H  \nATOM   2015  H2  HOH P 456       5.409   8.576   0.760  1.00  0.00           H  \nTER    2016      HOH P 456\nATOM   2017  O   HOH Q 457       2.405   5.135  15.720  1.00  0.00           O  \nATOM   2018  H1  HOH Q 457       3.323   5.354  15.562  1.00  0.00           H  \nATOM   2019  H2  HOH Q 457       1.992   5.194  14.859  1.00  0.00           H  \nTER    2020      HOH Q 457\nATOM   2021  O   HOH R 458      17.846  15.632  22.641  1.00  0.00           O  \nATOM   2022  H1  HOH R 458      18.670  15.881  23.058  1.00  0.00           H  \nATOM   2023  H2  HOH R 458      17.169  16.014  23.200  1.00  0.00           H  \nTER    2024      HOH R 458\nATOM   2025  O   HOH S 459       1.960   6.204  18.123  1.00  0.00           O  \nATOM   2026  H1  HOH S 459       2.277   5.935  17.261  1.00  0.00           H  \nATOM   2027  H2  HOH S 459       1.103   6.595  17.953  1.00  0.00           H  \nTER    2028      HOH S 459\nATOM   2029  O   HOH T 460       2.728   2.912   6.743  1.00  0.00           O  \nATOM   2030  H1  HOH T 460       3.579   3.349   6.785  1.00  0.00           H  \nATOM   2031  H2  HOH T 460       2.145   3.560   6.348  1.00  0.00           H  \nTER    2032      HOH T 460\nATOM   2033  O   HOH U 461      20.377  10.567  22.000  1.00  0.00           O  \nATOM   2034  H1  HOH U 461      19.986  11.435  22.093  1.00  0.00           H  \nATOM   2035  H2  HOH U 461      19.978  10.048  22.699  1.00  0.00           H  \nTER    2036      HOH U 461\nATOM   2037  O   HOH V 462      18.036  25.627  25.665  1.00  0.00           O  \nATOM   2038  H1  HOH V 462      17.518  25.649  26.470  1.00  0.00           H  \nATOM   2039  H2  HOH V 462      17.465  25.205  25.024  1.00  0.00           H  \nTER    2040      HOH V 462\nATOM   2041  O   HOH W 463      24.253  15.330  13.239  1.00  0.00           O  \nATOM   2042  H1  HOH W 463      24.273  16.253  12.986  1.00  0.00           H  \nATOM   2043  H2  HOH W 463      24.988  15.231  13.844  1.00  0.00           H  \nTER    2044      HOH W 463\nATOM   2045  O   HOH X 464      21.773  13.301   6.173  1.00  0.00           O  \nATOM   2046  H1  HOH X 464      20.898  13.686   6.221  1.00  0.00           H  \nATOM   2047  H2  HOH X 464      21.839  12.965   5.279  1.00  0.00           H  \nTER    2048      HOH X 464\nATOM   2049  O   HOH Y 465      18.733  25.691  16.446  1.00  0.00           O  \nATOM   2050  H1  HOH Y 465      19.078  26.563  16.251  1.00  0.00           H  \nATOM   2051  H2  HOH Y 465      17.930  25.855  16.939  1.00  0.00           H  \nTER    2052      HOH Y 465\nATOM   2053  O   HOH Z 466      19.437  24.019  14.161  1.00  0.00           O  \nATOM   2054  H1  HOH Z 466      19.182  24.775  14.689  1.00  0.00           H  \nATOM   2055  H2  HOH Z 466      20.276  23.741  14.530  1.00  0.00           H  \nTER    2056      HOH Z 466\nATOM   2057  O   HOH A 467      15.689   2.278   5.960  1.00  0.00           O  \nATOM   2058  H1  HOH A 467      16.507   2.074   5.508  1.00  0.00           H  \nATOM   2059  H2  HOH A 467      15.850   2.033   6.871  1.00  0.00           H  \nTER    2060      HOH A 467\nATOM   2061  O   HOH B 468      15.695   2.178   8.845  1.00  0.00           O  \nATOM   2062  H1  HOH B 468      16.513   2.667   8.757  1.00  0.00           H  \nATOM   2063  H2  HOH B 468      15.696   1.868   9.751  1.00  0.00           H  \nTER    2064      HOH B 468\nATOM   2065  O   HOH C 469      18.792  22.998   1.418  1.00  0.00           O  \nATOM   2066  H1  HOH C 469      18.472  23.879   1.613  1.00  0.00           H  \nATOM   2067  H2  HOH C 469      19.008  22.627   2.273  1.00  0.00           H  \nTER    2068      HOH C 469\nATOM   2069  O   HOH D 470      21.409   0.730  18.013  1.00  0.00           O  \nATOM   2070  H1  HOH D 470      21.914   0.194  17.402  1.00  0.00           H  \nATOM   2071  H2  HOH D 470      20.567   0.862  17.578  1.00  0.00           H  \nTER    2072      HOH D 470\nATOM   2073  O   HOH E 471      20.196   2.021   5.619  1.00  0.00           O  \nATOM   2074  H1  HOH E 471      20.730   2.276   6.371  1.00  0.00           H  \nATOM   2075  H2  HOH E 471      20.568   2.510   4.885  1.00  0.00           H  \nTER    2076      HOH E 471\nATOM   2077  O   HOH F 472      21.749  10.817  17.207  1.00  0.00           O  \nATOM   2078  H1  HOH F 472      21.197  10.947  16.436  1.00  0.00           H  \nATOM   2079  H2  HOH F 472      21.623   9.897  17.439  1.00  0.00           H  \nTER    2080      HOH F 472\nATOM   2081  O   HOH G 473       1.315  26.423  14.246  1.00  0.00           O  \nATOM   2082  H1  HOH G 473       0.714  25.894  14.771  1.00  0.00           H  \nATOM   2083  H2  HOH G 473       1.196  26.104  13.351  1.00  0.00           H  \nTER    2084      HOH G 473\nATOM   2085  O   HOH H 474      26.875  19.095  20.482  1.00  0.00           O  \nATOM   2086  H1  HOH H 474      26.108  19.119  19.910  1.00  0.00           H  \nATOM   2087  H2  HOH H 474      26.714  18.355  21.068  1.00  0.00           H  \nTER    2088      HOH H 474\nATOM   2089  O   HOH I 475      16.156  18.630   6.327  1.00  0.00           O  \nATOM   2090  H1  HOH I 475      15.767  17.847   5.936  1.00  0.00           H  \nATOM   2091  H2  HOH I 475      16.464  19.143   5.580  1.00  0.00           H  \nTER    2092      HOH I 475\nATOM   2093  O   HOH J 476      22.742  20.841  12.895  1.00  0.00           O  \nATOM   2094  H1  HOH J 476      22.208  21.046  12.127  1.00  0.00           H  \nATOM   2095  H2  HOH J 476      23.136  19.993  12.694  1.00  0.00           H  \nTER    2096      HOH J 476\nATOM   2097  O   HOH K 477      21.706  22.979   5.998  1.00  0.00           O  \nATOM   2098  H1  HOH K 477      20.915  23.027   5.461  1.00  0.00           H  \nATOM   2099  H2  HOH K 477      21.776  22.056   6.241  1.00  0.00           H  \nTER    2100      HOH K 477\nATOM   2101  O   HOH L 478       3.416  23.304  22.174  1.00  0.00           O  \nATOM   2102  H1  HOH L 478       4.082  23.859  21.769  1.00  0.00           H  \nATOM   2103  H2  HOH L 478       3.174  23.766  22.977  1.00  0.00           H  \nTER    2104      HOH L 478\nATOM   2105  O   HOH M 479      24.798   2.876  11.695  1.00  0.00           O  \nATOM   2106  H1  HOH M 479      24.245   2.128  11.472  1.00  0.00           H  \nATOM   2107  H2  HOH M 479      25.640   2.489  11.934  1.00  0.00           H  \nTER    2108      HOH M 479\nATOM   2109  O   HOH N 480      24.139  21.089   4.046  1.00  0.00           O  \nATOM   2110  H1  HOH N 480      24.609  21.917   3.947  1.00  0.00           H  \nATOM   2111  H2  HOH N 480      24.725  20.434   3.667  1.00  0.00           H  \nTER    2112      HOH N 480\nATOM   2113  O   HOH O 481      23.974  14.559   3.159  1.00  0.00           O  \nATOM   2114  H1  HOH O 481      24.391  14.142   2.405  1.00  0.00           H  \nATOM   2115  H2  HOH O 481      23.042  14.368   3.054  1.00  0.00           H  \nTER    2116      HOH O 481\nATOM   2117  O   HOH P 482      24.691  22.595  24.316  1.00  0.00           O  \nATOM   2118  H1  HOH P 482      25.250  23.097  23.723  1.00  0.00           H  \nATOM   2119  H2  HOH P 482      24.084  23.241  24.678  1.00  0.00           H  \nTER    2120      HOH P 482\nATOM   2121  O   HOH Q 483      20.059  17.970   9.595  1.00  0.00           O  \nATOM   2122  H1  HOH Q 483      19.156  17.911   9.283  1.00  0.00           H  \nATOM   2123  H2  HOH Q 483      20.388  17.072   9.550  1.00  0.00           H  \nTER    2124      HOH Q 483\nATOM   2125  O   HOH R 484      21.213  21.319  10.508  1.00  0.00           O  \nATOM   2126  H1  HOH R 484      20.492  21.858  10.835  1.00  0.00           H  \nATOM   2127  H2  HOH R 484      20.824  20.795   9.808  1.00  0.00           H  \nTER    2128      HOH R 484\nATOM   2129  O   HOH S 485      21.610  19.744  17.945  1.00  0.00           O  \nATOM   2130  H1  HOH S 485      21.483  20.289  17.169  1.00  0.00           H  \nATOM   2131  H2  HOH S 485      22.183  20.262  18.511  1.00  0.00           H  \nTER    2132      HOH S 485\nATOM   2133  O   HOH T 486      18.477  22.234   7.445  1.00  0.00           O  \nATOM   2134  H1  HOH T 486      18.588  22.399   6.509  1.00  0.00           H  \nATOM   2135  H2  HOH T 486      18.965  21.426   7.606  1.00  0.00           H  \nTER    2136      HOH T 486\nATOM   2137  O   HOH U 487      22.894  18.438  10.044  1.00  0.00           O  \nATOM   2138  H1  HOH U 487      23.072  17.803   9.351  1.00  0.00           H  \nATOM   2139  H2  HOH U 487      21.948  18.575  10.006  1.00  0.00           H  \nTER    2140      HOH U 487\nATOM   2141  O   HOH V 488      16.678  22.214  18.168  1.00  0.00           O  \nATOM   2142  H1  HOH V 488      15.854  21.822  17.878  1.00  0.00           H  \nATOM   2143  H2  HOH V 488      17.129  22.451  17.358  1.00  0.00           H  \nTER    2144      HOH V 488\nATOM   2145  O   HOH W 489      25.362   3.111   3.501  1.00  0.00           O  \nATOM   2146  H1  HOH W 489      24.448   3.382   3.415  1.00  0.00           H  \nATOM   2147  H2  HOH W 489      25.339   2.158   3.414  1.00  0.00           H  \nTER    2148      HOH W 489\nATOM   2149  O   HOH X 490      10.128   3.728  16.911  1.00  0.00           O  \nATOM   2150  H1  HOH X 490       9.568   4.420  17.263  1.00  0.00           H  \nATOM   2151  H2  HOH X 490      10.667   3.455  17.653  1.00  0.00           H  \nTER    2152      HOH X 490\nATOM   2153  O   HOH Y 491      26.435  16.685  21.686  1.00  0.00           O  \nATOM   2154  H1  HOH Y 491      26.590  15.817  22.059  1.00  0.00           H  \nATOM   2155  H2  HOH Y 491      25.499  16.697  21.487  1.00  0.00           H  \nTER    2156      HOH Y 491\nATOM   2157  O   HOH Z 492       7.500  25.190  18.053  1.00  0.00           O  \nATOM   2158  H1  HOH Z 492       6.568  25.072  17.870  1.00  0.00           H  \nATOM   2159  H2  HOH Z 492       7.944  24.643  17.405  1.00  0.00           H  \nTER    2160      HOH Z 492\nATOM   2161  O   HOH A 493       3.855  21.033  20.668  1.00  0.00           O  \nATOM   2162  H1  HOH A 493       3.673  21.844  21.144  1.00  0.00           H  \nATOM   2163  H2  HOH A 493       4.287  20.470  21.310  1.00  0.00           H  \nTER    2164      HOH A 493\nATOM   2165  O   HOH B 494      23.887  25.826  13.106  1.00  0.00           O  \nATOM   2166  H1  HOH B 494      23.957  25.057  12.542  1.00  0.00           H  \nATOM   2167  H2  HOH B 494      23.680  26.545  12.509  1.00  0.00           H  \nTER    2168      HOH B 494\nATOM   2169  O   HOH C 495      13.503  23.066   3.333  1.00  0.00           O  \nATOM   2170  H1  HOH C 495      14.105  23.209   2.603  1.00  0.00           H  \nATOM   2171  H2  HOH C 495      13.900  22.354   3.835  1.00  0.00           H  \nTER    2172      HOH C 495\nATOM   2173  O   HOH D 496      24.155  23.677   1.325  1.00  0.00           O  \nATOM   2174  H1  HOH D 496      23.299  23.263   1.433  1.00  0.00           H  \nATOM   2175  H2  HOH D 496      24.627  23.467   2.131  1.00  0.00           H  \nTER    2176      HOH D 496\nATOM   2177  O   HOH E 497      -0.069   0.263   3.777  1.00  0.00           O  \nATOM   2178  H1  HOH E 497       0.397  -0.565   3.660  1.00  0.00           H  \nATOM   2179  H2  HOH E 497       0.623   0.917   3.878  1.00  0.00           H  \nTER    2180      HOH E 497\nATOM   2181  O   HOH F 498      20.601  20.314   7.586  1.00  0.00           O  \nATOM   2182  H1  HOH F 498      20.413  19.383   7.704  1.00  0.00           H  \nATOM   2183  H2  HOH F 498      21.477  20.335   7.200  1.00  0.00           H  \nTER    2184      HOH F 498\nATOM   2185  O   HOH G 499      18.703   0.117  11.547  1.00  0.00           O  \nATOM   2186  H1  HOH G 499      19.344  -0.268  10.950  1.00  0.00           H  \nATOM   2187  H2  HOH G 499      19.149   0.878  11.919  1.00  0.00           H  \nTER    2188      HOH G 499\nATOM   2189  O   HOH H 500      17.833  20.932   9.986  1.00  0.00           O  \nATOM   2190  H1  HOH H 500      17.797  21.439   9.175  1.00  0.00           H  \nATOM   2191  H2  HOH H 500      18.308  21.492  10.600  1.00  0.00           H  \nTER    2192      HOH H 500\nATOM   2193  O   HOH I 501      26.305  25.012  19.923  1.00  0.00           O  \nATOM   2194  H1  HOH I 501      27.093  25.328  19.480  1.00  0.00           H  \nATOM   2195  H2  HOH I 501      25.756  25.790  20.019  1.00  0.00           H  \nTER    2196      HOH I 501\nATOM   2197  O   HOH J 502      25.463  20.289  18.393  1.00  0.00           O  \nATOM   2198  H1  HOH J 502      25.307  19.624  17.722  1.00  0.00           H  \nATOM   2199  H2  HOH J 502      26.255  20.741  18.104  1.00  0.00           H  \nTER    2200      HOH J 502\nATOM   2201  O   HOH K 503      24.632  26.466   5.811  1.00  0.00           O  \nATOM   2202  H1  HOH K 503      25.071  26.575   4.967  1.00  0.00           H  \nATOM   2203  H2  HOH K 503      24.353  25.550   5.819  1.00  0.00           H  \nTER    2204      HOH K 503\nATOM   2205  O   HOH L 504      17.234  25.769   1.743  1.00  0.00           O  \nATOM   2206  H1  HOH L 504      17.163  25.433   2.636  1.00  0.00           H  \nATOM   2207  H2  HOH L 504      17.734  26.580   1.830  1.00  0.00           H  \nTER    2208      HOH L 504\nATOM   2209  O   HOH M 505      21.616  20.225   3.200  1.00  0.00           O  \nATOM   2210  H1  HOH M 505      22.456  20.659   3.352  1.00  0.00           H  \nATOM   2211  H2  HOH M 505      20.972  20.932   3.229  1.00  0.00           H  \nTER    2212      HOH M 505\nATOM   2213  O   HOH N 506      24.515  18.105  16.649  1.00  0.00           O  \nATOM   2214  H1  HOH N 506      23.750  17.897  17.185  1.00  0.00           H  \nATOM   2215  H2  HOH N 506      24.251  17.881  15.757  1.00  0.00           H  \nTER    2216      HOH N 506\nATOM   2217  O   HOH O 507      25.101  24.699  10.547  1.00  0.00           O  \nATOM   2218  H1  HOH O 507      24.672  23.880  10.299  1.00  0.00           H  \nATOM   2219  H2  HOH O 507      24.919  25.296   9.822  1.00  0.00           H  \nTER    2220      HOH O 507\nATOM   2221  O   HOH P 508       0.816  23.600   8.499  1.00  0.00           O  \nATOM   2222  H1  HOH P 508       0.447  23.180   7.722  1.00  0.00           H  \nATOM   2223  H2  HOH P 508       0.217  23.363   9.207  1.00  0.00           H  \nTER    2224      HOH P 508\nATOM   2225  O   HOH Q 509      22.912  26.402  22.492  1.00  0.00           O  \nATOM   2226  H1  HOH Q 509      23.653  26.481  21.891  1.00  0.00           H  \nATOM   2227  H2  HOH Q 509      22.163  26.732  21.995  1.00  0.00           H  \nTER    2228      HOH Q 509\nATOM   2229  O   HOH R 510      16.993  20.161   4.284  1.00  0.00           O  \nATOM   2230  H1  HOH R 510      16.953  20.018   3.338  1.00  0.00           H  \nATOM   2231  H2  HOH R 510      17.741  20.745   4.407  1.00  0.00           H  \nTER    2232      HOH R 510\nATOM   2233  O   HOH S 511      18.354  22.569  20.423  1.00  0.00           O  \nATOM   2234  H1  HOH S 511      17.744  22.128  21.013  1.00  0.00           H  \nATOM   2235  H2  HOH S 511      17.921  22.545  19.569  1.00  0.00           H  \nTER    2236      HOH S 511\nATOM   2237  O   HOH T 512      22.523  24.326  24.397  1.00  0.00           O  \nATOM   2238  H1  HOH T 512      22.839  24.915  23.712  1.00  0.00           H  \nATOM   2239  H2  HOH T 512      21.610  24.154  24.164  1.00  0.00           H  \nTER    2240      HOH T 512\nATOM   2241  O   HOH U 513      24.318  20.867  22.236  1.00  0.00           O  \nATOM   2242  H1  HOH U 513      25.181  21.096  21.893  1.00  0.00           H  \nATOM   2243  H2  HOH U 513      24.234  21.383  23.038  1.00  0.00           H  \nTER    2244      HOH U 513\nATOM   2245  O   HOH V 514       2.687  25.509  23.923  1.00  0.00           O  \nATOM   2246  H1  HOH V 514       3.251  25.651  24.683  1.00  0.00           H  \nATOM   2247  H2  HOH V 514       2.554  26.382  23.555  1.00  0.00           H  \nTER    2248      HOH V 514\nATOM   2249  O   HOH W 515      19.726  20.553  23.414  1.00  0.00           O  \nATOM   2250  H1  HOH W 515      19.156  21.095  23.960  1.00  0.00           H  \nATOM   2251  H2  HOH W 515      20.525  21.071  23.314  1.00  0.00           H  \nTER    2252      HOH W 515\nATOM   2253  O   HOH X 516      24.377  25.945  26.451  1.00  0.00           O  \nATOM   2254  H1  HOH X 516      24.871  25.690  25.671  1.00  0.00           H  \nATOM   2255  H2  HOH X 516      24.413  25.177  27.020  1.00  0.00           H  \nTER    2256      HOH X 516\nATOM   2257  O   HOH Y 517       2.944   3.007   1.910  1.00  0.00           O  \nATOM   2258  H1  HOH Y 517       2.212   3.543   1.606  1.00  0.00           H  \nATOM   2259  H2  HOH Y 517       2.633   2.619   2.728  1.00  0.00           H  \nTER    2260      HOH Y 517\nATOM   2261  O   HOH Z 518      26.194  22.178  26.591  1.00  0.00           O  \nATOM   2262  H1  HOH Z 518      25.754  22.981  26.868  1.00  0.00           H  \nATOM   2263  H2  HOH Z 518      25.719  21.902  25.807  1.00  0.00           H  \nTER    2264      HOH Z 518\nATOM   2265  O   HOH A 519      18.369  21.909  25.417  1.00  0.00           O  \nATOM   2266  H1  HOH A 519      17.449  21.752  25.207  1.00  0.00           H  \nATOM   2267  H2  HOH A 519      18.370  22.125  26.349  1.00  0.00           H  \nTER    2268      HOH A 519\nATOM   2269  O   HOH B 520      20.766   0.469  20.797  1.00  0.00           O  \nATOM   2270  H1  HOH B 520      20.427  -0.374  21.098  1.00  0.00           H  \nATOM   2271  H2  HOH B 520      20.973   0.327  19.873  1.00  0.00           H  \nTER    2272      HOH B 520\nATOM   2273  O   HOH C 521      19.634  24.630  21.601  1.00  0.00           O  \nATOM   2274  H1  HOH C 521      19.202  23.866  21.220  1.00  0.00           H  \nATOM   2275  H2  HOH C 521      19.631  24.463  22.544  1.00  0.00           H  \nTER    2276      HOH C 521\nATOM   2277  O   HOH D 522      22.908   7.665  20.194  1.00  0.00           O  \nATOM   2278  H1  HOH D 522      23.183   8.041  21.030  1.00  0.00           H  \nATOM   2279  H2  HOH D 522      22.150   7.122  20.413  1.00  0.00           H  \nTER    2280      HOH D 522\nATOM   2281  O   HOH E 523       2.168  20.810  26.929  1.00  0.00           O  \nATOM   2282  H1  HOH E 523       1.531  21.476  26.668  1.00  0.00           H  \nATOM   2283  H2  HOH E 523       2.392  20.360  26.114  1.00  0.00           H  \nTER    2284      HOH E 523\nATOM   2285  O   HOH F 524      23.270   2.438  23.872  1.00  0.00           O  \nATOM   2286  H1  HOH F 524      22.562   2.490  24.515  1.00  0.00           H  \nATOM   2287  H2  HOH F 524      23.332   1.507  23.659  1.00  0.00           H  \nTER    2288      HOH F 524\nATOM   2289  O   HOH G 525      23.233  20.289   6.497  1.00  0.00           O  \nATOM   2290  H1  HOH G 525      24.036  20.351   7.014  1.00  0.00           H  \nATOM   2291  H2  HOH G 525      23.523  20.391   5.591  1.00  0.00           H  \nTER    2292      HOH G 525\nATOM   2293  O   HOH H 526      21.356  23.631  16.202  1.00  0.00           O  \nATOM   2294  H1  HOH H 526      20.733  23.906  16.875  1.00  0.00           H  \nATOM   2295  H2  HOH H 526      22.133  24.165  16.362  1.00  0.00           H  \nTER    2296      HOH H 526\nATOM   2297  O   HOH I 527       4.753  19.538  22.685  1.00  0.00           O  \nATOM   2298  H1  HOH I 527       5.528  19.886  23.124  1.00  0.00           H  \nATOM   2299  H2  HOH I 527       4.181  19.252  23.398  1.00  0.00           H  \nTER    2300      HOH I 527\nATOM   2301  O   HOH J 528      21.769  25.876   0.943  1.00  0.00           O  \nATOM   2302  H1  HOH J 528      21.772  24.919   0.972  1.00  0.00           H  \nATOM   2303  H2  HOH J 528      22.412  26.098   0.270  1.00  0.00           H  \nTER    2304      HOH J 528\nATOM   2305  O   HOH K 529       1.165   2.983  20.270  1.00  0.00           O  \nATOM   2306  H1  HOH K 529       1.957   3.485  20.080  1.00  0.00           H  \nATOM   2307  H2  HOH K 529       1.080   2.380  19.532  1.00  0.00           H  \nTER    2308      HOH K 529\nATOM   2309  O   HOH L 530      19.820  23.904  24.445  1.00  0.00           O  \nATOM   2310  H1  HOH L 530      19.481  24.714  24.828  1.00  0.00           H  \nATOM   2311  H2  HOH L 530      19.295  23.211  24.846  1.00  0.00           H  \nTER    2312      HOH L 530\nATOM   2313  O   HOH M 531       1.545   7.250   0.094  1.00  0.00           O  \nATOM   2314  H1  HOH M 531       1.919   6.732  -0.620  1.00  0.00           H  \nATOM   2315  H2  HOH M 531       2.090   7.042   0.852  1.00  0.00           H  \nTER    2316      HOH M 531\nATOM   2317  O   HOH N 532       3.403  26.275  -0.053  1.00  0.00           O  \nATOM   2318  H1  HOH N 532       2.449  26.358  -0.054  1.00  0.00           H  \nATOM   2319  H2  HOH N 532       3.573  25.475   0.445  1.00  0.00           H  \nTER    2320      HOH N 532\nATOM   2321  O   HOH O 533       9.335   0.163  23.002  1.00  0.00           O  \nATOM   2322  H1  HOH O 533      10.012  -0.513  22.966  1.00  0.00           H  \nATOM   2323  H2  HOH O 533       9.820   0.986  23.053  1.00  0.00           H  \nTER    2324      HOH O 533\nATOM   2325 Na    NA P   1      23.410   4.252  19.719  1.00  0.00          Na  \nTER    2326       NA P   1\nATOM   2327 Na    NA Q   2      15.710  13.766  21.770  1.00  0.00          Na  \nTER    2328       NA Q   2\nATOM   2329 Na    NA R   3      19.400  18.619  22.059  1.00  0.00          Na  \nTER    2330       NA R   3\nATOM   2331 Na    NA S   4       4.628  11.395   1.578  1.00  0.00          Na  \nTER    2332       NA S   4\nATOM   2333 Na    NA T   5      25.680   7.125   0.434  1.00  0.00          Na  \nTER    2334       NA T   5\nATOM   2335 Cl    CL U   6      21.289   2.639   8.709  1.00  0.00          Cl  \nTER    2336       CL U   6\nATOM   2337 Cl    CL V   7      14.333  18.159  20.015  1.00  0.00          Cl  \nTER    2338       CL V   7\nATOM   2339 Cl    CL W   8      15.316  21.637  25.181  1.00  0.00          Cl  \nTER    2340       CL W   8\nATOM   2341 Cl    CL X   9      19.310  22.187   4.357  1.00  0.00          Cl  \nTER    2342       CL X   9\nATOM   2343 Cl    CL Y  10      21.197   5.180  20.961  1.00  0.00          Cl  \nTER    2344       CL Y  10\nENDMDL\nCONECT    1    2\nCONECT    2    1   55    3\nCONECT    3    2    4    5\nCONECT    4    3   56   97   61\nCONECT    5    3   98   99    6\nCONECT    6    5    7    8\nCONECT    7    6  100   11   63\nCONECT    8    6    9   10\nCONECT    9    8\nCONECT   10    8   11   12\nCONECT   11    7   10  101   66\nCONECT   12   10  102  103   13\nCONECT   13   12   15   14\nCONECT   14   13  104   18   68\nCONECT   15   13   16   17\nCONECT   16   15\nCONECT   17   15   18   19\nCONECT   18   14   17  105   71\nCONECT   19   17  106  107   20\nCONECT   20   19   22   21\nCONECT   21   20  108   25   73\nCONECT   22   20   23   24\nCONECT   23   22\nCONECT   24   22   26   25\nCONECT   25   21   24  109   76\nCONECT   26   24   27  110  111\nCONECT   27   26   29   28\nCONECT   28   27   32  112   78\nCONECT   29   27   30   31\nCONECT   30   29\nCONECT   31   29   33   32\nCONECT   32   28   31  113   81\nCONECT   33   31   34  114  115\nCONECT   34   33   36   35\nCONECT   35   34   39  116   83\nCONECT   36   34   38   37\nCONECT   37   36\nCONECT   38   36   40   39\nCONECT   39   35   38  117   86\nCONECT   40   38   41  118  119\nCONECT   41   40   43   42\nCONECT   42   41   46  120   88\nCONECT   43   41   45   44\nCONECT   44   43\nCONECT   45   43   47   46\nCONECT   46   42   45  121   91\nCONECT   47   45  122  123   48\nCONECT   48   47   50   49\nCONECT   49   48   54  124   93\nCONECT   50   48   51   52\nCONECT   51   50\nCONECT   52   50   53   54\nCONECT   53   52  125  126   55\nCONECT   54   49   52  127   95\nCONECT   55    2   53   56\nCONECT   56    4   55  128   57\nCONECT   57   56   58   59\nCONECT   58   57   95  129  130\nCONECT   59   57   61   60\nCONECT   60   59\nCONECT   61    4   59   62\nCONECT   62   61  131  132   63\nCONECT   63    7   62   64\nCONECT   64   63   65   66\nCONECT   65   64\nCONECT   66   11   64   67\nCONECT   67   66  133  134   68\nCONECT   68   14   67   69\nCONECT   69   68   70   71\nCONECT   70   69\nCONECT   71   18   69   72\nCONECT   72   71   73  135  136\nCONECT   73   21   72   74\nCONECT   74   73   76   75\nCONECT   75   74\nCONECT   76   25   74   77\nCONECT   77   76   78  137  138\nCONECT   78   28   77   79\nCONECT   79   78   81   80\nCONECT   80   79\nCONECT   81   32   79   82\nCONECT   82   81   83  139  140\nCONECT   83   35   82   84\nCONECT   84   83   86   85\nCONECT   85   84\nCONECT   86   39   84   87\nCONECT   87   86   88  141  142\nCONECT   88   42   87   89\nCONECT   89   88   91   90\nCONECT   90   89\nCONECT   91   46   89   92\nCONECT   92   91   93  143  144\nCONECT   93   49   92   94\nCONECT   94   93   95   96\nCONECT   95   54   58   94\nCONECT   96   94\nCONECT   97    4\nCONECT   98    5\nCONECT   99    5\nCONECT  100    7\nCONECT  101   11\nCONECT  102   12\nCONECT  103   12\nCONECT  104   14\nCONECT  105   18\nCONECT  106   19\nCONECT  107   19\nCONECT  108   21\nCONECT  109   25\nCONECT  110   26\nCONECT  111   26\nCONECT  112   28\nCONECT  113   32\nCONECT  114   33\nCONECT  115   33\nCONECT  116   35\nCONECT  117   39\nCONECT  118   40\nCONECT  119   40\nCONECT  120   42\nCONECT  121   46\nCONECT  122   47\nCONECT  123   47\nCONECT  124   49\nCONECT  125   53\nCONECT  126   53\nCONECT  127   54\nCONECT  128   56\nCONECT  129   58\nCONECT  130   58\nCONECT  131   62\nCONECT  132   62\nCONECT  133   67\nCONECT  134   67\nCONECT  135   72\nCONECT  136   72\nCONECT  137   77\nCONECT  138   77\nCONECT  139   82\nCONECT  140   82\nCONECT  141   87\nCONECT  142   87\nCONECT  143   92\nCONECT  144   92\nCONECT  146  154  166\nCONECT  147  148  154  170\nCONECT  148  147  156  171\nCONECT  149  151  155  172\nCONECT  150  152  155  173\nCONECT  151  149  158  174\nCONECT  152  150  158  175\nCONECT  153  154  157  176\nCONECT  154  146  147  153\nCONECT  155  149  150  160\nCONECT  156  148  157  160\nCONECT  157  153  156  159\nCONECT  158  151  152  169\nCONECT  159  157  168  177  178\nCONECT  160  155  156  163  168\nCONECT  161  167  179  180  181\nCONECT  162  167  182  183  184\nCONECT  163  160  164  185  186\nCONECT  164  163  165  187  188\nCONECT  165  164  167  189  190\nCONECT  166  146\nCONECT  167  161  162  165  191\nCONECT  168  159  160\nCONECT  169  158\nCONECT  170  147\nCONECT  171  148\nCONECT  172  149\nCONECT  173  150\nCONECT  174  151\nCONECT  175  152\nCONECT  176  153\nCONECT  177  159\nCONECT  178  159\nCONECT  179  161\nCONECT  180  161\nCONECT  181  161\nCONECT  182  162\nCONECT  183  162\nCONECT  184  162\nCONECT  185  163\nCONECT  186  163\nCONECT  187  164\nCONECT  188  164\nCONECT  189  165\nCONECT  190  165\nCONECT  191  167\nEND\n",
           "type": "blob"
          }
         ],
         "kwargs": {
          "defaultRepresentation": true,
          "ext": "pdb",
          "name": "nglview.adaptor.MDTrajTrajectory"
         },
         "methodName": "loadFile",
         "reconstruc_color_scheme": false,
         "target": "Stage",
         "type": "call_method"
        },
        {
         "args": [
          "line"
         ],
         "component_index": 0,
         "kwargs": {
          "sele": "water"
         },
         "methodName": "addRepresentation",
         "reconstruc_color_scheme": false,
         "target": "compList",
         "type": "call_method"
        }
       ],
       "_ngl_original_stage_parameters": {},
       "_ngl_repr_dict": {},
       "_ngl_serialize": false,
       "_ngl_version": "",
       "_ngl_view_id": [],
       "_player_dict": {},
       "_scene_position": {},
       "_scene_rotation": {},
       "_synced_model_ids": [],
       "_synced_repr_model_ids": [],
       "_view_count": null,
       "_view_height": "",
       "_view_module": "nglview-js-widgets",
       "_view_module_version": "3.0.8",
       "_view_name": "NGLView",
       "_view_width": "",
       "background": "white",
       "frame": 0,
       "gui_style": null,
       "layout": "IPY_MODEL_d82556cdbd4f413da82cc6887da8c6cc",
       "max_frame": 99,
       "n_components": 0,
       "picked": {},
       "tabbable": null,
       "tooltip": null
      }
     },
     "d5a9e7a67f174ddc96cc243992d48bab": {
      "model_module": "@jupyter-widgets/controls",
      "model_module_version": "2.0.0",
      "model_name": "LinkModel",
      "state": {
       "_model_module": "@jupyter-widgets/controls",
       "_model_module_version": "2.0.0",
       "_model_name": "LinkModel",
       "_view_count": null,
       "_view_module": "@jupyter-widgets/controls",
       "_view_module_version": "2.0.0",
       "_view_name": null,
       "source": [
        "IPY_MODEL_1265d128203a4e1381abc1878c867c24",
        "value"
       ],
       "target": [
        "IPY_MODEL_e127b7040c3e4dad881330ada5771e46",
        "value"
       ]
      }
     },
     "d82556cdbd4f413da82cc6887da8c6cc": {
      "model_module": "@jupyter-widgets/base",
      "model_module_version": "2.0.0",
      "model_name": "LayoutModel",
      "state": {
       "_model_module": "@jupyter-widgets/base",
       "_model_module_version": "2.0.0",
       "_model_name": "LayoutModel",
       "_view_count": null,
       "_view_module": "@jupyter-widgets/base",
       "_view_module_version": "2.0.0",
       "_view_name": "LayoutView",
       "align_content": null,
       "align_items": null,
       "align_self": null,
       "border_bottom": null,
       "border_left": null,
       "border_right": null,
       "border_top": null,
       "bottom": null,
       "display": null,
       "flex": null,
       "flex_flow": null,
       "grid_area": null,
       "grid_auto_columns": null,
       "grid_auto_flow": null,
       "grid_auto_rows": null,
       "grid_column": null,
       "grid_gap": null,
       "grid_row": null,
       "grid_template_areas": null,
       "grid_template_columns": null,
       "grid_template_rows": null,
       "height": null,
       "justify_content": null,
       "justify_items": null,
       "left": null,
       "margin": null,
       "max_height": null,
       "max_width": null,
       "min_height": null,
       "min_width": null,
       "object_fit": null,
       "object_position": null,
       "order": null,
       "overflow": null,
       "padding": null,
       "right": null,
       "top": null,
       "visibility": null,
       "width": null
      }
     },
     "dc3c0a05e8a6416ea8216ddcfeb5c80b": {
      "model_module": "@jupyter-widgets/controls",
      "model_module_version": "2.0.0",
      "model_name": "LinkModel",
      "state": {
       "_model_module": "@jupyter-widgets/controls",
       "_model_module_version": "2.0.0",
       "_model_name": "LinkModel",
       "_view_count": null,
       "_view_module": "@jupyter-widgets/controls",
       "_view_module_version": "2.0.0",
       "_view_name": null,
       "source": [
        "IPY_MODEL_76c5e3aaa5b74867b84a6708b6ba3dd3",
        "max"
       ],
       "target": [
        "IPY_MODEL_ce33dc58b6ac4192bf8aeb7910ceb527",
        "max_frame"
       ]
      }
     },
     "dcbd8d35925a470999eb9fc9c191e54a": {
      "model_module": "@jupyter-widgets/controls",
      "model_module_version": "2.0.0",
      "model_name": "HBoxModel",
      "state": {
       "_dom_classes": [],
       "_model_module": "@jupyter-widgets/controls",
       "_model_module_version": "2.0.0",
       "_model_name": "HBoxModel",
       "_view_count": null,
       "_view_module": "@jupyter-widgets/controls",
       "_view_module_version": "2.0.0",
       "_view_name": "HBoxView",
       "box_style": "",
       "children": [
        "IPY_MODEL_76c5e3aaa5b74867b84a6708b6ba3dd3",
        "IPY_MODEL_2c2dbe1df11441c9903e96da69b1eeb8"
       ],
       "layout": "IPY_MODEL_9d7fdca6360848f19c9fa070ca1dea26",
       "tabbable": null,
       "tooltip": null
      }
     },
     "e127b7040c3e4dad881330ada5771e46": {
      "model_module": "@jupyter-widgets/controls",
      "model_module_version": "2.0.0",
      "model_name": "IntSliderModel",
      "state": {
       "_dom_classes": [],
       "_model_module": "@jupyter-widgets/controls",
       "_model_module_version": "2.0.0",
       "_model_name": "IntSliderModel",
       "_view_count": null,
       "_view_module": "@jupyter-widgets/controls",
       "_view_module_version": "2.0.0",
       "_view_name": "IntSliderView",
       "behavior": "drag-tap",
       "continuous_update": true,
       "description": "",
       "description_allow_html": false,
       "disabled": false,
       "layout": "IPY_MODEL_41a0f1f047b94c6fb29a01d6478d3d22",
       "max": 0,
       "min": 0,
       "orientation": "horizontal",
       "readout": true,
       "readout_format": "d",
       "step": 1,
       "style": "IPY_MODEL_f27933fe556a4ca5896cd3976f9833bf",
       "tabbable": null,
       "tooltip": null,
       "value": 0
      }
     },
     "e4f55cce1a594c0d8e58000ba5fce156": {
      "buffers": [
       {
        "data": "",
        "encoding": "base64",
        "path": [
         "value"
        ]
       }
      ],
      "model_module": "@jupyter-widgets/controls",
      "model_module_version": "2.0.0",
      "model_name": "ImageModel",
      "state": {
       "_dom_classes": [],
       "_model_module": "@jupyter-widgets/controls",
       "_model_module_version": "2.0.0",
       "_model_name": "ImageModel",
       "_view_count": null,
       "_view_module": "@jupyter-widgets/controls",
       "_view_module_version": "2.0.0",
       "_view_name": "ImageView",
       "format": "png",
       "height": "",
       "layout": "IPY_MODEL_c9644f02683748f3beef89780f5adf52",
       "tabbable": null,
       "tooltip": null,
       "width": "900.0"
      }
     },
     "e744ef2de4de4e6b8257d3a082f63105": {
      "model_module": "@jupyter-widgets/base",
      "model_module_version": "2.0.0",
      "model_name": "LayoutModel",
      "state": {
       "_model_module": "@jupyter-widgets/base",
       "_model_module_version": "2.0.0",
       "_model_name": "LayoutModel",
       "_view_count": null,
       "_view_module": "@jupyter-widgets/base",
       "_view_module_version": "2.0.0",
       "_view_name": "LayoutView",
       "align_content": null,
       "align_items": null,
       "align_self": null,
       "border_bottom": null,
       "border_left": null,
       "border_right": null,
       "border_top": null,
       "bottom": null,
       "display": null,
       "flex": null,
       "flex_flow": null,
       "grid_area": null,
       "grid_auto_columns": null,
       "grid_auto_flow": null,
       "grid_auto_rows": null,
       "grid_column": null,
       "grid_gap": null,
       "grid_row": null,
       "grid_template_areas": null,
       "grid_template_columns": null,
       "grid_template_rows": null,
       "height": null,
       "justify_content": null,
       "justify_items": null,
       "left": null,
       "margin": null,
       "max_height": null,
       "max_width": null,
       "min_height": null,
       "min_width": null,
       "object_fit": null,
       "object_position": null,
       "order": null,
       "overflow": null,
       "padding": null,
       "right": null,
       "top": null,
       "visibility": null,
       "width": null
      }
     },
     "f06f82af89e345618a7e6f43234af358": {
      "model_module": "nglview-js-widgets",
      "model_module_version": "3.0.8",
      "model_name": "NGLModel",
      "state": {
       "_camera_orientation": [],
       "_camera_str": "orthographic",
       "_dom_classes": [],
       "_gui_theme": null,
       "_ibtn_fullscreen": "IPY_MODEL_3ad767b127ca447cb384a71dd3942cce",
       "_igui": null,
       "_iplayer": "IPY_MODEL_c1e23825a1034b689838c8381f596c84",
       "_model_module": "nglview-js-widgets",
       "_model_module_version": "3.0.8",
       "_model_name": "NGLModel",
       "_ngl_color_dict": {},
       "_ngl_coordinate_resource": {},
       "_ngl_full_stage_parameters": {},
       "_ngl_msg_archive": [
        {
         "args": [
          {
           "binary": false,
           "data": "REMARK   1 CREATED WITH OPENMM 8.0, 2023-09-27\nCRYST1   26.574   26.574   26.574  90.00  90.00  90.00 P 1           1 \nHETATM    1  O1x UNK A   1       7.236  39.911  33.856  1.00  0.00           O  \nHETATM    2  C1x UNK A   1       6.228  39.378  33.420  1.00  0.00           C  \nHETATM    3  N1x UNK A   1       5.262  39.998  32.674  1.00  0.00           N  \nHETATM    4  C2x UNK A   1       4.123  39.142  32.421  1.00  0.00           C  \nHETATM    5  C3x UNK A   1       5.216  41.435  32.541  1.00  0.00           C  \nHETATM    6  N2x UNK A   1       5.274  41.958  31.195  1.00  0.00           N  \nHETATM    7  C4x UNK A   1       4.217  41.856  30.202  1.00  0.00           C  \nHETATM    8  C5x UNK A   1       6.253  42.836  30.812  1.00  0.00           C  \nHETATM    9  O2x UNK A   1       7.238  43.134  31.466  1.00  0.00           O  \nHETATM   10  N3x UNK A   1       5.927  43.350  29.594  1.00  0.00           N  \nHETATM   11  C6x UNK A   1       4.674  42.837  29.090  1.00  0.00           C  \nHETATM   12  C7x UNK A   1       6.618  44.483  29.028  1.00  0.00           C  \nHETATM   13  N4x UNK A   1       7.438  44.166  27.887  1.00  0.00           N  \nHETATM   14  C8x UNK A   1       6.945  44.089  26.533  1.00  0.00           C  \nHETATM   15  C9x UNK A   1       8.803  44.116  27.954  1.00  0.00           C  \nHETATM   16  O3x UNK A   1       9.469  44.261  28.970  1.00  0.00           O  \nHETATM   17  N5x UNK A   1       9.290  44.060  26.682  1.00  0.00           N  \nHETATM   18 C10x UNK A   1       8.239  44.073  25.685  1.00  0.00           C  \nHETATM   19 C11x UNK A   1      10.680  44.319  26.381  1.00  0.00           C  \nHETATM   20  N6x UNK A   1      11.408  43.189  25.863  1.00  0.00           N  \nHETATM   21 C12x UNK A   1      11.384  42.773  24.478  1.00  0.00           C  \nHETATM   22 C13x UNK A   1      12.390  42.563  26.582  1.00  0.00           C  \nHETATM   23  O4x UNK A   1      12.669  42.789  27.751  1.00  0.00           O  \nHETATM   24  N7x UNK A   1      13.080  41.739  25.741  1.00  0.00           N  \nHETATM   25 C14x UNK A   1      12.550  41.758  24.391  1.00  0.00           C  \nHETATM   26 C15x UNK A   1      14.379  41.210  26.090  1.00  0.00           C  \nHETATM   27  N8x UNK A   1      14.458  39.772  26.234  1.00  0.00           N  \nHETATM   28 C16x UNK A   1      14.483  38.831  25.134  1.00  0.00           C  \nHETATM   29 C17x UNK A   1      14.707  39.174  27.439  1.00  0.00           C  \nHETATM   30  O5x UNK A   1      14.789  39.745  28.514  1.00  0.00           O  \nHETATM   31  N9x UNK A   1      14.927  37.839  27.225  1.00  0.00           N  \nHETATM   32 C18x UNK A   1      14.833  37.486  25.823  1.00  0.00           C  \nHETATM   33 C19x UNK A   1      15.586  37.010  28.210  1.00  0.00           C  \nHETATM   34 N10x UNK A   1      14.804  35.896  28.705  1.00  0.00           N  \nHETATM   35 C20x UNK A   1      14.590  34.664  27.967  1.00  0.00           C  \nHETATM   36 C21x UNK A   1      14.450  35.787  30.019  1.00  0.00           C  \nHETATM   37  O6x UNK A   1      14.605  36.644  30.874  1.00  0.00           O  \nHETATM   38 N11x UNK A   1      13.998  34.512  30.239  1.00  0.00           N  \nHETATM   39 C22x UNK A   1      14.004  33.710  29.038  1.00  0.00           C  \nHETATM   40 C23x UNK A   1      13.843  33.965  31.568  1.00  0.00           C  \nHETATM   41 N12x UNK A   1      12.480  33.678  31.958  1.00  0.00           N  \nHETATM   42 C24x UNK A   1      11.754  32.495  31.540  1.00  0.00           C  \nHETATM   43 C25x UNK A   1      11.850  34.350  32.964  1.00  0.00           C  \nHETATM   44  O7x UNK A   1      12.289  35.325  33.551  1.00  0.00           O  \nHETATM   45 N13x UNK A   1      10.703  33.668  33.289  1.00  0.00           N  \nHETATM   46 C26x UNK A   1      10.523  32.482  32.477  1.00  0.00           C  \nHETATM   47 C27x UNK A   1       9.935  33.956  34.476  1.00  0.00           C  \nHETATM   48 N14x UNK A   1       8.633  34.552  34.249  1.00  0.00           N  \nHETATM   49 C28x UNK A   1       7.436  33.812  33.888  1.00  0.00           C  \nHETATM   50 C29x UNK A   1       8.382  35.873  34.478  1.00  0.00           C  \nHETATM   51  O8x UNK A   1       9.208  36.711  34.817  1.00  0.00           O  \nHETATM   52 N15x UNK A   1       7.034  36.092  34.317  1.00  0.00           N  \nHETATM   53 C30x UNK A   1       6.406  37.314  34.769  1.00  0.00           C  \nHETATM   54 C31x UNK A   1       6.313  34.869  34.018  1.00  0.00           C  \nHETATM   55 N16x UNK A   1       5.786  38.117  33.735  1.00  0.00           N  \nHETATM   56 C32x UNK A   1       4.473  37.842  33.191  1.00  0.00           C  \nHETATM   57 N17x UNK A   1       4.433  36.826  32.162  1.00  0.00           N  \nHETATM   58 C33x UNK A   1       4.382  35.409  32.436  1.00  0.00           C  \nHETATM   59 C34x UNK A   1       4.155  37.341  30.927  1.00  0.00           C  \nHETATM   60  O9x UNK A   1       3.906  36.689  29.934  1.00  0.00           O  \nHETATM   61 N18x UNK A   1       3.974  38.693  31.054  1.00  0.00           N  \nHETATM   62 C35x UNK A   1       3.341  39.471  30.011  1.00  0.00           C  \nHETATM   63 N19x UNK A   1       4.111  40.587  29.506  1.00  0.00           N  \nHETATM   64 C36x UNK A   1       4.454  40.691  28.181  1.00  0.00           C  \nHETATM   65 O10x UNK A   1       4.288  39.821  27.335  1.00  0.00           O  \nHETATM   66 N20x UNK A   1       4.788  41.994  27.918  1.00  0.00           N  \nHETATM   67 C37x UNK A   1       4.939  42.499  26.564  1.00  0.00           C  \nHETATM   68 N21x UNK A   1       6.290  42.843  26.175  1.00  0.00           N  \nHETATM   69 C38x UNK A   1       6.984  42.153  25.212  1.00  0.00           C  \nHETATM   70 O11x UNK A   1       6.597  41.142  24.637  1.00  0.00           O  \nHETATM   71 N22x UNK A   1       8.109  42.866  24.899  1.00  0.00           N  \nHETATM   72 C39x UNK A   1       8.936  42.556  23.754  1.00  0.00           C  \nHETATM   73 N23x UNK A   1      10.227  41.993  24.078  1.00  0.00           N  \nHETATM   74 C40x UNK A   1      10.549  40.695  23.790  1.00  0.00           C  \nHETATM   75 O12x UNK A   1       9.782  39.858  23.342  1.00  0.00           O  \nHETATM   76 N24x UNK A   1      11.899  40.538  23.957  1.00  0.00           N  \nHETATM   77 C41x UNK A   1      12.617  39.384  23.466  1.00  0.00           C  \nHETATM   78 N25x UNK A   1      13.208  38.556  24.493  1.00  0.00           N  \nHETATM   79 C42x UNK A   1      12.786  37.268  24.702  1.00  0.00           C  \nHETATM   80 O13x UNK A   1      11.833  36.739  24.154  1.00  0.00           O  \nHETATM   81 N26x UNK A   1      13.723  36.627  25.467  1.00  0.00           N  \nHETATM   82 C43x UNK A   1      13.754  35.187  25.606  1.00  0.00           C  \nHETATM   83 N27x UNK A   1      13.558  34.703  26.951  1.00  0.00           N  \nHETATM   84 C44x UNK A   1      12.454  33.965  27.300  1.00  0.00           C  \nHETATM   85 O14x UNK A   1      11.480  33.766  26.591  1.00  0.00           O  \nHETATM   86 N28x UNK A   1      12.697  33.373  28.505  1.00  0.00           N  \nHETATM   87 C45x UNK A   1      11.897  32.275  29.000  1.00  0.00           C  \nHETATM   88 N29x UNK A   1      11.168  32.552  30.214  1.00  0.00           N  \nHETATM   89 C46x UNK A   1       9.798  32.585  30.253  1.00  0.00           C  \nHETATM   90 O15x UNK A   1       9.053  32.593  29.280  1.00  0.00           O  \nHETATM   91 N30x UNK A   1       9.403  32.523  31.558  1.00  0.00           N  \nHETATM   92 C47x UNK A   1       8.038  32.263  31.944  1.00  0.00           C  \nHETATM   93 N31x UNK A   1       7.347  33.401  32.500  1.00  0.00           N  \nHETATM   94 C48x UNK A   1       6.309  34.007  31.844  1.00  0.00           C  \nHETATM   95 N32x UNK A   1       5.669  34.826  32.719  1.00  0.00           N  \nHETATM   96 O16x UNK A   1       5.965  33.780  30.691  1.00  0.00           O  \nHETATM   97  H1x UNK A   1       3.191  39.577  32.812  1.00  0.00           H  \nHETATM   98  H2x UNK A   1       6.069  41.850  33.098  1.00  0.00           H  \nHETATM   99  H3x UNK A   1       4.277  41.783  32.995  1.00  0.00           H  \nHETATM  100  H4x UNK A   1       3.247  42.174  30.611  1.00  0.00           H  \nHETATM  101  H5x UNK A   1       3.928  43.634  28.952  1.00  0.00           H  \nHETATM  102  H6x UNK A   1       7.263  44.917  29.806  1.00  0.00           H  \nHETATM  103  H7x UNK A   1       5.867  45.225  28.718  1.00  0.00           H  \nHETATM  104  H8x UNK A   1       6.328  44.962  26.272  1.00  0.00           H  \nHETATM  105  H9x UNK A   1       8.290  44.970  25.050  1.00  0.00           H  \nHETATM  106 H10x UNK A   1      11.175  44.649  27.306  1.00  0.00           H  \nHETATM  107 H11x UNK A   1      10.724  45.125  25.634  1.00  0.00           H  \nHETATM  108 H12x UNK A   1      11.561  43.617  23.795  1.00  0.00           H  \nHETATM  109 H13x UNK A   1      13.301  42.100  23.663  1.00  0.00           H  \nHETATM  110 H14x UNK A   1      15.087  41.509  25.303  1.00  0.00           H  \nHETATM  111 H15x UNK A   1      14.681  41.662  27.046  1.00  0.00           H  \nHETATM  112 H16x UNK A   1      15.257  39.090  24.397  1.00  0.00           H  \nHETATM  113 H17x UNK A   1      15.787  37.099  25.437  1.00  0.00           H  \nHETATM  114 H18x UNK A   1      16.503  36.606  27.756  1.00  0.00           H  \nHETATM  115 H19x UNK A   1      15.851  37.646  29.067  1.00  0.00           H  \nHETATM  116 H20x UNK A   1      15.533  34.259  27.573  1.00  0.00           H  \nHETATM  117 H21x UNK A   1      14.641  32.820  29.145  1.00  0.00           H  \nHETATM  118 H22x UNK A   1      14.417  33.028  31.620  1.00  0.00           H  \nHETATM  119 H23x UNK A   1      14.257  34.689  32.285  1.00  0.00           H  \nHETATM  120 H24x UNK A   1      12.350  31.581  31.682  1.00  0.00           H  \nHETATM  121 H25x UNK A   1      10.517  31.567  33.087  1.00  0.00           H  \nHETATM  122 H26x UNK A   1       9.785  33.012  35.020  1.00  0.00           H  \nHETATM  123 H27x UNK A   1      10.521  34.648  35.098  1.00  0.00           H  \nHETATM  124 H28x UNK A   1       7.253  32.973  34.575  1.00  0.00           H  \nHETATM  125 H29x UNK A   1       7.175  37.929  35.260  1.00  0.00           H  \nHETATM  126 H30x UNK A   1       5.630  37.045  35.500  1.00  0.00           H  \nHETATM  127 H31x UNK A   1       5.620  34.595  34.827  1.00  0.00           H  \nHETATM  128 H32x UNK A   1       3.732  37.654  33.982  1.00  0.00           H  \nHETATM  129 H33x UNK A   1       3.729  35.247  33.306  1.00  0.00           H  \nHETATM  130 H34x UNK A   1       3.956  34.901  31.558  1.00  0.00           H  \nHETATM  131 H35x UNK A   1       2.395  39.866  30.411  1.00  0.00           H  \nHETATM  132 H36x UNK A   1       3.130  38.797  29.168  1.00  0.00           H  \nHETATM  133 H37x UNK A   1       4.318  43.402  26.468  1.00  0.00           H  \nHETATM  134 H38x UNK A   1       4.573  41.727  25.871  1.00  0.00           H  \nHETATM  135 H39x UNK A   1       9.099  43.485  23.187  1.00  0.00           H  \nHETATM  136 H40x UNK A   1       8.395  41.833  23.126  1.00  0.00           H  \nHETATM  137 H41x UNK A   1      11.915  38.764  22.889  1.00  0.00           H  \nHETATM  138 H42x UNK A   1      13.423  39.738  22.806  1.00  0.00           H  \nHETATM  139 H43x UNK A   1      12.960  34.765  24.972  1.00  0.00           H  \nHETATM  140 H44x UNK A   1      14.733  34.831  25.254  1.00  0.00           H  \nHETATM  141 H45x UNK A   1      11.171  32.003  28.220  1.00  0.00           H  \nHETATM  142 H46x UNK A   1      12.567  31.423  29.191  1.00  0.00           H  \nHETATM  143 H47x UNK A   1       7.487  31.928  31.053  1.00  0.00           H  \nHETATM  144 H48x UNK A   1       8.040  31.461  32.697  1.00  0.00           H  \nTER     145      UNK A   1\nHETATM  146  C1x UNK B   1       8.748  37.036  25.821  1.00  0.00           C  \nHETATM  147  C2x UNK B   1      10.453  38.242  27.099  1.00  0.00           C  \nHETATM  148  C3x UNK B   1      10.825  39.073  28.158  1.00  0.00           C  \nHETATM  149  C4x UNK B   1      12.172  39.572  31.007  1.00  0.00           C  \nHETATM  150  C5x UNK B   1      10.317  39.605  32.555  1.00  0.00           C  \nHETATM  151  C6x UNK B   1      12.993  39.041  32.001  1.00  0.00           C  \nHETATM  152  C7x UNK B   1      11.138  39.073  33.549  1.00  0.00           C  \nHETATM  153  C8x UNK B   1       8.124  38.354  27.782  1.00  0.00           C  \nHETATM  154  C9x UNK B   1       9.110  37.885  26.912  1.00  0.00           C  \nHETATM  155 C10x UNK B   1      10.834  39.854  31.283  1.00  0.00           C  \nHETATM  156 C11x UNK B   1       9.837  39.528  29.019  1.00  0.00           C  \nHETATM  157 C12x UNK B   1       8.509  39.173  28.829  1.00  0.00           C  \nHETATM  158 C13x UNK B   1      12.476  38.792  33.273  1.00  0.00           C  \nHETATM  159 C14x UNK B   1       7.666  39.810  29.867  1.00  0.00           C  \nHETATM  160 C15x UNK B   1       9.955  40.422  30.219  1.00  0.00           C  \nHETATM  161 C16x UNK B   1      12.627  45.488  29.798  1.00  0.00           C  \nHETATM  162 C17x UNK B   1      13.042  43.484  31.217  1.00  0.00           C  \nHETATM  163 C18x UNK B   1      10.373  41.843  29.862  1.00  0.00           C  \nHETATM  164 C19x UNK B   1      10.255  42.777  31.064  1.00  0.00           C  \nHETATM  165 C20x UNK B   1      10.708  44.184  30.704  1.00  0.00           C  \nHETATM  166  N1x UNK B   1       8.454  36.346  24.935  1.00  0.00           N  \nHETATM  167  N2x UNK B   1      12.110  44.135  30.224  1.00  0.00           N  \nHETATM  168  O1x UNK B   1       8.597  40.461  30.762  1.00  0.00           O  \nHETATM  169  F1x UNK B   1      13.264  38.279  34.227  1.00  0.00           F  \nHETATM  170  H1x UNK B   1      11.221  37.879  26.420  1.00  0.00           H  \nHETATM  171  H2x UNK B   1      11.865  39.350  28.299  1.00  0.00           H  \nHETATM  172  H3x UNK B   1      12.584  39.764  30.019  1.00  0.00           H  \nHETATM  173  H4x UNK B   1       9.276  39.821  32.779  1.00  0.00           H  \nHETATM  174  H5x UNK B   1      14.034  38.821  31.786  1.00  0.00           H  \nHETATM  175  H6x UNK B   1      10.736  38.879  34.539  1.00  0.00           H  \nHETATM  176  H7x UNK B   1       7.079  38.090  27.648  1.00  0.00           H  \nHETATM  177  H8x UNK B   1       7.004  40.570  29.442  1.00  0.00           H  \nHETATM  178  H9x UNK B   1       7.090  39.078  30.440  1.00  0.00           H  \nHETATM  179 H10x UNK B   1      12.613  46.141  30.672  1.00  0.00           H  \nHETATM  180 H11x UNK B   1      13.643  45.354  29.423  1.00  0.00           H  \nHETATM  181 H12x UNK B   1      11.966  45.866  29.015  1.00  0.00           H  \nHETATM  182 H13x UNK B   1      13.039  44.090  32.125  1.00  0.00           H  \nHETATM  183 H14x UNK B   1      12.670  42.478  31.415  1.00  0.00           H  \nHETATM  184 H15x UNK B   1      14.038  43.453  30.769  1.00  0.00           H  \nHETATM  185 H16x UNK B   1      11.406  41.829  29.499  1.00  0.00           H  \nHETATM  186 H17x UNK B   1       9.743  42.204  29.042  1.00  0.00           H  \nHETATM  187 H18x UNK B   1       9.214  42.799  31.412  1.00  0.00           H  \nHETATM  188 H19x UNK B   1      10.862  42.391  31.892  1.00  0.00           H  \nHETATM  189 H20x UNK B   1      10.110  44.614  29.895  1.00  0.00           H  \nHETATM  190 H21x UNK B   1      10.693  44.854  31.570  1.00  0.00           H  \nHETATM  191 H22x UNK B   1      12.134  43.541  29.377  1.00  0.00           H  \nTER     192      UNK B   1\nHETATM  193  O   HOH C   1       0.287  39.174  29.627  1.00  0.00           O  \nHETATM  194  H1  HOH C   1       0.187  39.923  30.214  1.00  0.00           H  \nHETATM  195  H2  HOH C   1       0.832  38.557  30.115  1.00  0.00           H  \nTER     196      HOH C   1\nHETATM  197  O   HOH D   1      15.568  42.503  19.328  1.00  0.00           O  \nHETATM  198  H1  HOH D   1      15.473  41.625  19.698  1.00  0.00           H  \nHETATM  199  H2  HOH D   1      14.803  42.608  18.763  1.00  0.00           H  \nTER     200      HOH D   1\nHETATM  201  O   HOH E   1      17.291  26.648  37.601  1.00  0.00           O  \nHETATM  202  H1  HOH E   1      17.131  25.799  37.189  1.00  0.00           H  \nHETATM  203  H2  HOH E   1      17.801  27.137  36.955  1.00  0.00           H  \nTER     204      HOH E   1\nHETATM  205  O   HOH F   1       2.877  44.209  37.336  1.00  0.00           O  \nHETATM  206  H1  HOH F   1       2.550  44.864  37.954  1.00  0.00           H  \nHETATM  207  H2  HOH F   1       3.819  44.372  37.291  1.00  0.00           H  \nTER     208      HOH F   1\nHETATM  209  O   HOH G   1       2.045  32.468  24.567  1.00  0.00           O  \nHETATM  210  H1  HOH G   1       1.580  31.671  24.314  1.00  0.00           H  \nHETATM  211  H2  HOH G   1       2.069  32.995  23.768  1.00  0.00           H  \nTER     212      HOH G   1\nHETATM  213  O   HOH H   1      -3.198  39.572  24.402  1.00  0.00           O  \nHETATM  214  H1  HOH H   1      -4.021  39.892  24.030  1.00  0.00           H  \nHETATM  215  H2  HOH H   1      -2.925  38.871  23.811  1.00  0.00           H  \nTER     216      HOH H   1\nHETATM  217  O   HOH I   1      15.022  44.112  25.150  1.00  0.00           O  \nHETATM  218  H1  HOH I   1      14.635  43.671  25.907  1.00  0.00           H  \nHETATM  219  H2  HOH I   1      14.315  44.655  24.802  1.00  0.00           H  \nTER     220      HOH I   1\nHETATM  221  O   HOH J   1       7.392  36.847  21.570  1.00  0.00           O  \nHETATM  222  H1  HOH J   1       6.808  37.297  22.180  1.00  0.00           H  \nHETATM  223  H2  HOH J   1       7.845  36.196  22.106  1.00  0.00           H  \nTER     224      HOH J   1\nHETATM  225  O   HOH K   1      13.633  40.726  33.774  1.00  0.00           O  \nHETATM  226  H1  HOH K   1      14.114  40.643  34.598  1.00  0.00           H  \nHETATM  227  H2  HOH K   1      14.298  40.607  33.096  1.00  0.00           H  \nTER     228      HOH K   1\nHETATM  229  O   HOH L   1      18.246  35.003  22.202  1.00  0.00           O  \nHETATM  230  H1  HOH L   1      18.157  35.237  21.278  1.00  0.00           H  \nHETATM  231  H2  HOH L   1      18.905  35.610  22.540  1.00  0.00           H  \nTER     232      HOH L   1\nHETATM  233  O   HOH M   1       1.781  39.185  24.816  1.00  0.00           O  \nHETATM  234  H1  HOH M   1       1.931  39.216  25.761  1.00  0.00           H  \nHETATM  235  H2  HOH M   1       0.920  39.585  24.696  1.00  0.00           H  \nTER     236      HOH M   1\nHETATM  237  O   HOH N   1       9.097  51.051  30.064  1.00  0.00           O  \nHETATM  238  H1  HOH N   1      10.030  50.859  29.975  1.00  0.00           H  \nHETATM  239  H2  HOH N   1       8.690  50.620  29.313  1.00  0.00           H  \nTER     240      HOH N   1\nHETATM  241  O   HOH O   1      14.529  46.858  16.547  1.00  0.00           O  \nHETATM  242  H1  HOH O   1      13.875  47.548  16.433  1.00  0.00           H  \nHETATM  243  H2  HOH O   1      14.445  46.316  15.763  1.00  0.00           H  \nTER     244      HOH O   1\nHETATM  245  O   HOH P   1      14.598  30.356  40.912  1.00  0.00           O  \nHETATM  246  H1  HOH P   1      14.281  30.013  41.747  1.00  0.00           H  \nHETATM  247  H2  HOH P   1      14.538  29.615  40.309  1.00  0.00           H  \nTER     248      HOH P   1\nHETATM  249  O   HOH Q   1      -1.445  46.269  19.712  1.00  0.00           O  \nHETATM  250  H1  HOH Q   1      -0.652  46.805  19.713  1.00  0.00           H  \nHETATM  251  H2  HOH Q   1      -1.161  45.419  20.048  1.00  0.00           H  \nTER     252      HOH Q   1\nHETATM  253  O   HOH R   1       9.696  40.177  16.401  1.00  0.00           O  \nHETATM  254  H1  HOH R   1       9.067  39.476  16.572  1.00  0.00           H  \nHETATM  255  H2  HOH R   1       9.244  40.762  15.793  1.00  0.00           H  \nTER     256      HOH R   1\nHETATM  257  O   HOH S   1      13.099  47.527  29.233  1.00  0.00           O  \nHETATM  258  H1  HOH S   1      13.444  48.403  29.064  1.00  0.00           H  \nHETATM  259  H2  HOH S   1      13.829  46.939  29.039  1.00  0.00           H  \nTER     260      HOH S   1\nHETATM  261  O   HOH T   1       7.926  48.617  24.409  1.00  0.00           O  \nHETATM  262  H1  HOH T   1       7.856  49.381  23.838  1.00  0.00           H  \nHETATM  263  H2  HOH T   1       8.242  47.917  23.837  1.00  0.00           H  \nTER     264      HOH T   1\nHETATM  265  O   HOH U   1      -2.245  33.367  21.004  1.00  0.00           O  \nHETATM  266  H1  HOH U   1      -1.921  32.579  20.569  1.00  0.00           H  \nHETATM  267  H2  HOH U   1      -1.459  33.793  21.347  1.00  0.00           H  \nTER     268      HOH U   1\nHETATM  269  O   HOH V   1       0.544  27.194  32.504  1.00  0.00           O  \nHETATM  270  H1  HOH V   1      -0.387  27.331  32.330  1.00  0.00           H  \nHETATM  271  H2  HOH V   1       0.934  27.070  31.639  1.00  0.00           H  \nTER     272      HOH V   1\nHETATM  273  O   HOH W   1       7.185  27.680  34.012  1.00  0.00           O  \nHETATM  274  H1  HOH W   1       6.923  28.601  34.005  1.00  0.00           H  \nHETATM  275  H2  HOH W   1       7.858  27.627  34.690  1.00  0.00           H  \nTER     276      HOH W   1\nHETATM  277  O   HOH X   1      11.321  26.179  24.738  1.00  0.00           O  \nHETATM  278  H1  HOH X   1      10.931  26.927  24.286  1.00  0.00           H  \nHETATM  279  H2  HOH X   1      11.256  25.459  24.111  1.00  0.00           H  \nTER     280      HOH X   1\nHETATM  281  O   HOH Y   1       4.520  31.883  19.368  1.00  0.00           O  \nHETATM  282  H1  HOH Y   1       5.184  32.405  18.918  1.00  0.00           H  \nHETATM  283  H2  HOH Y   1       4.154  32.476  20.025  1.00  0.00           H  \nTER     284      HOH Y   1\nHETATM  285  O   HOH Z   1      20.551  34.910  33.231  1.00  0.00           O  \nHETATM  286  H1  HOH Z   1      20.887  34.017  33.161  1.00  0.00           H  \nHETATM  287  H2  HOH Z   1      20.457  35.058  34.172  1.00  0.00           H  \nTER     288      HOH Z   1\nHETATM  289  O   HOH A   1       3.960  39.269  22.958  1.00  0.00           O  \nHETATM  290  H1  HOH A   1       3.325  39.008  23.625  1.00  0.00           H  \nHETATM  291  H2  HOH A   1       4.531  38.507  22.859  1.00  0.00           H  \nTER     292      HOH A   1\nHETATM  293  O   HOH B   1       5.252  28.306  28.167  1.00  0.00           O  \nHETATM  294  H1  HOH B   1       5.432  28.762  27.345  1.00  0.00           H  \nHETATM  295  H2  HOH B   1       5.939  28.605  28.764  1.00  0.00           H  \nTER     296      HOH B   1\nHETATM  297  O   HOH C   1      18.621  29.104  18.530  1.00  0.00           O  \nHETATM  298  H1  HOH C   1      17.848  29.074  17.966  1.00  0.00           H  \nHETATM  299  H2  HOH C   1      18.964  29.991  18.419  1.00  0.00           H  \nTER     300      HOH C   1\nHETATM  301  O   HOH D   1      17.395  46.000  30.813  1.00  0.00           O  \nHETATM  302  H1  HOH D   1      17.042  46.537  31.523  1.00  0.00           H  \nHETATM  303  H2  HOH D   1      18.114  46.520  30.453  1.00  0.00           H  \nTER     304      HOH D   1\nHETATM  305  O   HOH E   1       7.358  51.796  17.424  1.00  0.00           O  \nHETATM  306  H1  HOH E   1       7.417  52.746  17.526  1.00  0.00           H  \nHETATM  307  H2  HOH E   1       7.805  51.444  18.193  1.00  0.00           H  \nTER     308      HOH E   1\nHETATM  309  O   HOH F   1       0.853  29.110  28.213  1.00  0.00           O  \nHETATM  310  H1  HOH F   1       0.000  29.449  27.939  1.00  0.00           H  \nHETATM  311  H2  HOH F   1       1.397  29.890  28.320  1.00  0.00           H  \nTER     312      HOH F   1\nHETATM  313  O   HOH G   1      11.737  30.001  39.074  1.00  0.00           O  \nHETATM  314  H1  HOH G   1      12.289  30.642  38.626  1.00  0.00           H  \nHETATM  315  H2  HOH G   1      11.433  29.418  38.379  1.00  0.00           H  \nTER     316      HOH G   1\nHETATM  317  O   HOH H   1       1.083  39.579  21.920  1.00  0.00           O  \nHETATM  318  H1  HOH H   1       1.409  38.780  22.335  1.00  0.00           H  \nHETATM  319  H2  HOH H   1       0.562  40.007  22.599  1.00  0.00           H  \nTER     320      HOH H   1\nHETATM  321  O   HOH I   1       8.108  30.430  34.297  1.00  0.00           O  \nHETATM  322  H1  HOH I   1       8.977  30.816  34.190  1.00  0.00           H  \nHETATM  323  H2  HOH I   1       7.932  30.491  35.236  1.00  0.00           H  \nTER     324      HOH I   1\nHETATM  325  O   HOH J   1      -0.834  49.220  20.859  1.00  0.00           O  \nHETATM  326  H1  HOH J   1      -1.274  48.630  21.471  1.00  0.00           H  \nHETATM  327  H2  HOH J   1      -0.043  48.749  20.597  1.00  0.00           H  \nTER     328      HOH J   1\nHETATM  329  O   HOH K   1       5.557  31.497  29.426  1.00  0.00           O  \nHETATM  330  H1  HOH K   1       4.634  31.320  29.607  1.00  0.00           H  \nHETATM  331  H2  HOH K   1       5.711  31.109  28.565  1.00  0.00           H  \nTER     332      HOH K   1\nHETATM  333  O   HOH L   1       2.625  44.546  30.077  1.00  0.00           O  \nHETATM  334  H1  HOH L   1       1.963  44.455  30.762  1.00  0.00           H  \nHETATM  335  H2  HOH L   1       3.256  45.170  30.435  1.00  0.00           H  \nTER     336      HOH L   1\nHETATM  337  O   HOH M   1       8.893  30.241  28.901  1.00  0.00           O  \nHETATM  338  H1  HOH M   1       9.722  29.775  28.789  1.00  0.00           H  \nHETATM  339  H2  HOH M   1       8.536  29.900  29.722  1.00  0.00           H  \nTER     340      HOH M   1\nHETATM  341  O   HOH N   1       7.444  34.151  25.216  1.00  0.00           O  \nHETATM  342  H1  HOH N   1       7.507  33.442  25.857  1.00  0.00           H  \nHETATM  343  H2  HOH N   1       6.839  34.778  25.610  1.00  0.00           H  \nTER     344      HOH N   1\nHETATM  345  O   HOH O   1      11.856  44.106  20.415  1.00  0.00           O  \nHETATM  346  H1  HOH O   1      12.033  44.102  19.475  1.00  0.00           H  \nHETATM  347  H2  HOH O   1      12.414  43.412  20.767  1.00  0.00           H  \nTER     348      HOH O   1\nHETATM  349  O   HOH P   1       2.173  26.379  20.329  1.00  0.00           O  \nHETATM  350  H1  HOH P   1       3.022  25.970  20.160  1.00  0.00           H  \nHETATM  351  H2  HOH P   1       2.327  27.314  20.197  1.00  0.00           H  \nTER     352      HOH P   1\nHETATM  353  O   HOH Q   1       5.578  34.220  22.430  1.00  0.00           O  \nHETATM  354  H1  HOH Q   1       6.067  33.954  23.209  1.00  0.00           H  \nHETATM  355  H2  HOH Q   1       6.185  34.781  21.947  1.00  0.00           H  \nTER     356      HOH Q   1\nHETATM  357  O   HOH R   1       5.239  35.580  25.845  1.00  0.00           O  \nHETATM  358  H1  HOH R   1       5.475  35.820  26.741  1.00  0.00           H  \nHETATM  359  H2  HOH R   1       4.306  35.369  25.891  1.00  0.00           H  \nTER     360      HOH R   1\nHETATM  361  O   HOH S   1       4.829  48.584  21.593  1.00  0.00           O  \nHETATM  362  H1  HOH S   1       5.330  48.202  22.314  1.00  0.00           H  \nHETATM  363  H2  HOH S   1       5.471  48.709  20.894  1.00  0.00           H  \nTER     364      HOH S   1\nHETATM  365  O   HOH T   1       8.357  28.526  22.515  1.00  0.00           O  \nHETATM  366  H1  HOH T   1       8.749  29.006  23.245  1.00  0.00           H  \nHETATM  367  H2  HOH T   1       8.992  27.839  22.310  1.00  0.00           H  \nTER     368      HOH T   1\nHETATM  369  O   HOH U   1      -1.070  35.820  31.805  1.00  0.00           O  \nHETATM  370  H1  HOH U   1      -1.636  36.292  31.194  1.00  0.00           H  \nHETATM  371  H2  HOH U   1      -1.676  35.367  32.392  1.00  0.00           H  \nTER     372      HOH U   1\nHETATM  373  O   HOH V   1      -0.041  31.428  34.412  1.00  0.00           O  \nHETATM  374  H1  HOH V   1       0.702  30.893  34.134  1.00  0.00           H  \nHETATM  375  H2  HOH V   1      -0.792  31.053  33.951  1.00  0.00           H  \nTER     376      HOH V   1\nHETATM  377  O   HOH W   1       3.431  30.986  26.636  1.00  0.00           O  \nHETATM  378  H1  HOH W   1       2.816  31.564  26.184  1.00  0.00           H  \nHETATM  379  H2  HOH W   1       3.807  30.445  25.942  1.00  0.00           H  \nTER     380      HOH W   1\nHETATM  381  O   HOH X   1       0.656  29.814  24.477  1.00  0.00           O  \nHETATM  382  H1  HOH X   1      -0.015  29.176  24.717  1.00  0.00           H  \nHETATM  383  H2  HOH X   1       0.918  29.566  23.591  1.00  0.00           H  \nTER     384      HOH X   1\nHETATM  385  O   HOH Y   1       8.782  28.241  18.512  1.00  0.00           O  \nHETATM  386  H1  HOH Y   1       8.414  28.611  17.710  1.00  0.00           H  \nHETATM  387  H2  HOH Y   1       9.441  28.878  18.790  1.00  0.00           H  \nTER     388      HOH Y   1\nHETATM  389  O   HOH Z   1      19.845  44.750  41.489  1.00  0.00           O  \nHETATM  390  H1  HOH Z   1      19.111  44.445  42.021  1.00  0.00           H  \nHETATM  391  H2  HOH Z   1      20.241  45.452  42.006  1.00  0.00           H  \nTER     392      HOH Z   1\nHETATM  393  O   HOH A   1       0.162  35.531  35.102  1.00  0.00           O  \nHETATM  394  H1  HOH A   1       0.872  34.988  34.758  1.00  0.00           H  \nHETATM  395  H2  HOH A   1       0.302  36.390  34.703  1.00  0.00           H  \nTER     396      HOH A   1\nHETATM  397  O   HOH B   1       9.771  35.192  19.034  1.00  0.00           O  \nHETATM  398  H1  HOH B   1      10.248  34.445  19.394  1.00  0.00           H  \nHETATM  399  H2  HOH B   1      10.387  35.923  19.097  1.00  0.00           H  \nTER     400      HOH B   1\nHETATM  401  O   HOH C   1       6.847  36.784  16.341  1.00  0.00           O  \nHETATM  402  H1  HOH C   1       7.129  37.464  15.729  1.00  0.00           H  \nHETATM  403  H2  HOH C   1       6.760  37.238  17.180  1.00  0.00           H  \nTER     404      HOH C   1\nHETATM  405  O   HOH D   1      11.805  32.111  24.853  1.00  0.00           O  \nHETATM  406  H1  HOH D   1      11.786  32.111  25.810  1.00  0.00           H  \nHETATM  407  H2  HOH D   1      12.707  32.345  24.632  1.00  0.00           H  \nTER     408      HOH D   1\nHETATM  409  O   HOH E   1      18.325  37.480  24.560  1.00  0.00           O  \nHETATM  410  H1  HOH E   1      18.369  38.431  24.468  1.00  0.00           H  \nHETATM  411  H2  HOH E   1      18.984  37.148  23.950  1.00  0.00           H  \nTER     412      HOH E   1\nHETATM  413  O   HOH F   1      -2.258  27.336  28.245  1.00  0.00           O  \nHETATM  414  H1  HOH F   1      -2.164  26.897  27.400  1.00  0.00           H  \nHETATM  415  H2  HOH F   1      -2.053  28.253  28.064  1.00  0.00           H  \nTER     416      HOH F   1\nHETATM  417  O   HOH G   1       5.964  39.062  36.568  1.00  0.00           O  \nHETATM  418  H1  HOH G   1       6.078  38.112  36.556  1.00  0.00           H  \nHETATM  419  H2  HOH G   1       6.391  39.365  35.766  1.00  0.00           H  \nTER     420      HOH G   1\nHETATM  421  O   HOH H   1       6.309  34.043  18.812  1.00  0.00           O  \nHETATM  422  H1  HOH H   1       6.966  34.104  18.119  1.00  0.00           H  \nHETATM  423  H2  HOH H   1       6.760  34.352  19.598  1.00  0.00           H  \nTER     424      HOH H   1\nHETATM  425  O   HOH I   1       0.873  40.919  38.994  1.00  0.00           O  \nHETATM  426  H1  HOH I   1       0.730  41.399  38.178  1.00  0.00           H  \nHETATM  427  H2  HOH I   1       1.137  41.590  39.623  1.00  0.00           H  \nTER     428      HOH I   1\nHETATM  429  O   HOH J   1      -0.919  41.954  30.229  1.00  0.00           O  \nHETATM  430  H1  HOH J   1      -0.306  42.604  30.571  1.00  0.00           H  \nHETATM  431  H2  HOH J   1      -1.589  41.874  30.908  1.00  0.00           H  \nTER     432      HOH J   1\nHETATM  433  O   HOH K   1       6.139  27.120  25.032  1.00  0.00           O  \nHETATM  434  H1  HOH K   1       7.052  27.283  24.795  1.00  0.00           H  \nHETATM  435  H2  HOH K   1       6.182  26.754  25.915  1.00  0.00           H  \nTER     436      HOH K   1\nHETATM  437  O   HOH L   1       8.682  34.891  22.910  1.00  0.00           O  \nHETATM  438  H1  HOH L   1       9.090  34.455  22.161  1.00  0.00           H  \nHETATM  439  H2  HOH L   1       8.784  34.272  23.633  1.00  0.00           H  \nTER     440      HOH L   1\nHETATM  441  O   HOH M   1      16.848  40.054  26.724  1.00  0.00           O  \nHETATM  442  H1  HOH M   1      16.636  40.471  27.559  1.00  0.00           H  \nHETATM  443  H2  HOH M   1      15.997  39.855  26.333  1.00  0.00           H  \nTER     444      HOH M   1\nHETATM  445  O   HOH N   1       1.232  37.697  34.011  1.00  0.00           O  \nHETATM  446  H1  HOH N   1       1.998  37.215  33.699  1.00  0.00           H  \nHETATM  447  H2  HOH N   1       0.855  38.085  33.221  1.00  0.00           H  \nTER     448      HOH N   1\nHETATM  449  O   HOH O   1       0.636  32.490  36.961  1.00  0.00           O  \nHETATM  450  H1  HOH O   1       0.542  32.216  36.048  1.00  0.00           H  \nHETATM  451  H2  HOH O   1       0.626  33.446  36.927  1.00  0.00           H  \nTER     452      HOH O   1\nHETATM  453  O   HOH P   1      12.965  34.336  37.779  1.00  0.00           O  \nHETATM  454  H1  HOH P   1      12.292  33.762  37.413  1.00  0.00           H  \nHETATM  455  H2  HOH P   1      13.550  33.747  38.255  1.00  0.00           H  \nTER     456      HOH P   1\nHETATM  457  O   HOH Q   1      13.500  26.814  33.238  1.00  0.00           O  \nHETATM  458  H1  HOH Q   1      13.312  27.664  33.636  1.00  0.00           H  \nHETATM  459  H2  HOH Q   1      12.758  26.263  33.486  1.00  0.00           H  \nTER     460      HOH Q   1\nHETATM  461  O   HOH R   1       0.523  50.148  28.999  1.00  0.00           O  \nHETATM  462  H1  HOH R   1       1.348  50.580  28.776  1.00  0.00           H  \nHETATM  463  H2  HOH R   1       0.040  50.799  29.507  1.00  0.00           H  \nTER     464      HOH R   1\nHETATM  465  O   HOH S   1       2.252  40.357  27.309  1.00  0.00           O  \nHETATM  466  H1  HOH S   1       1.633  40.876  26.796  1.00  0.00           H  \nHETATM  467  H2  HOH S   1       2.162  40.691  28.202  1.00  0.00           H  \nTER     468      HOH S   1\nHETATM  469  O   HOH T   1       4.668  29.637  24.478  1.00  0.00           O  \nHETATM  470  H1  HOH T   1       5.029  29.953  23.650  1.00  0.00           H  \nHETATM  471  H2  HOH T   1       5.147  28.827  24.655  1.00  0.00           H  \nTER     472      HOH T   1\nHETATM  473  O   HOH U   1       2.064  51.672  31.650  1.00  0.00           O  \nHETATM  474  H1  HOH U   1       1.143  51.900  31.525  1.00  0.00           H  \nHETATM  475  H2  HOH U   1       2.422  51.626  30.764  1.00  0.00           H  \nTER     476      HOH U   1\nHETATM  477  O   HOH V   1       0.338  33.539  22.424  1.00  0.00           O  \nHETATM  478  H1  HOH V   1      -0.234  33.830  23.134  1.00  0.00           H  \nHETATM  479  H2  HOH V   1       0.489  34.325  21.899  1.00  0.00           H  \nTER     480      HOH V   1\nHETATM  481  O   HOH W   1      17.097  33.621  33.719  1.00  0.00           O  \nHETATM  482  H1  HOH W   1      16.656  33.939  34.507  1.00  0.00           H  \nHETATM  483  H2  HOH W   1      17.462  34.408  33.314  1.00  0.00           H  \nTER     484      HOH W   1\nHETATM  485  O   HOH X   1       3.812  41.088  16.427  1.00  0.00           O  \nHETATM  486  H1  HOH X   1       4.304  40.405  16.882  1.00  0.00           H  \nHETATM  487  H2  HOH X   1       4.316  41.888  16.577  1.00  0.00           H  \nTER     488      HOH X   1\nHETATM  489  O   HOH Y   1       5.938  28.383  21.507  1.00  0.00           O  \nHETATM  490  H1  HOH Y   1       6.787  28.234  21.925  1.00  0.00           H  \nHETATM  491  H2  HOH Y   1       5.966  27.854  20.710  1.00  0.00           H  \nTER     492      HOH Y   1\nHETATM  493  O   HOH Z   1      21.111  36.208  38.300  1.00  0.00           O  \nHETATM  494  H1  HOH Z   1      20.572  35.639  38.849  1.00  0.00           H  \nHETATM  495  H2  HOH Z   1      20.514  36.898  38.009  1.00  0.00           H  \nTER     496      HOH Z   1\nHETATM  497  O   HOH A   1       9.158  31.578  36.771  1.00  0.00           O  \nHETATM  498  H1  HOH A   1       9.433  32.492  36.700  1.00  0.00           H  \nHETATM  499  H2  HOH A   1       9.621  31.248  37.541  1.00  0.00           H  \nTER     500      HOH A   1\nHETATM  501  O   HOH B   1      15.942  42.520  22.659  1.00  0.00           O  \nHETATM  502  H1  HOH B   1      15.792  43.295  22.119  1.00  0.00           H  \nHETATM  503  H2  HOH B   1      15.296  42.588  23.362  1.00  0.00           H  \nTER     504      HOH B   1\nHETATM  505  O   HOH C   1      21.093  40.819  25.453  1.00  0.00           O  \nHETATM  506  H1  HOH C   1      21.482  40.086  25.931  1.00  0.00           H  \nHETATM  507  H2  HOH C   1      21.494  40.780  24.585  1.00  0.00           H  \nTER     508      HOH C   1\nHETATM  509  O   HOH D   1       1.908  37.049  28.152  1.00  0.00           O  \nHETATM  510  H1  HOH D   1       1.676  37.268  29.055  1.00  0.00           H  \nHETATM  511  H2  HOH D   1       2.751  37.479  28.011  1.00  0.00           H  \nTER     512      HOH D   1\nHETATM  513  O   HOH E   1      -1.358  38.932  27.383  1.00  0.00           O  \nHETATM  514  H1  HOH E   1      -0.867  38.817  28.197  1.00  0.00           H  \nHETATM  515  H2  HOH E   1      -1.441  39.881  27.286  1.00  0.00           H  \nTER     516      HOH E   1\nHETATM  517  O   HOH F   1       0.247  36.471  26.057  1.00  0.00           O  \nHETATM  518  H1  HOH F   1      -0.476  37.082  26.194  1.00  0.00           H  \nHETATM  519  H2  HOH F   1       0.853  36.651  26.777  1.00  0.00           H  \nTER     520      HOH F   1\nHETATM  521  O   HOH G   1      -1.364  27.768  25.352  1.00  0.00           O  \nHETATM  522  H1  HOH G   1      -1.913  28.506  25.085  1.00  0.00           H  \nHETATM  523  H2  HOH G   1      -1.952  27.013  25.333  1.00  0.00           H  \nTER     524      HOH G   1\nHETATM  525  O   HOH H   1      -0.814  41.589  27.462  1.00  0.00           O  \nHETATM  526  H1  HOH H   1      -0.859  41.659  28.416  1.00  0.00           H  \nHETATM  527  H2  HOH H   1      -0.725  42.493  27.159  1.00  0.00           H  \nTER     528      HOH H   1\nHETATM  529  O   HOH I   1       5.661  41.430  19.740  1.00  0.00           O  \nHETATM  530  H1  HOH I   1       5.932  41.298  20.649  1.00  0.00           H  \nHETATM  531  H2  HOH I   1       6.072  42.256  19.485  1.00  0.00           H  \nTER     532      HOH I   1\nHETATM  533  O   HOH J   1       4.211  43.783  33.136  1.00  0.00           O  \nHETATM  534  H1  HOH J   1       3.979  43.076  33.738  1.00  0.00           H  \nHETATM  535  H2  HOH J   1       4.408  43.340  32.311  1.00  0.00           H  \nTER     536      HOH J   1\nHETATM  537  O   HOH K   1       4.186  26.550  29.929  1.00  0.00           O  \nHETATM  538  H1  HOH K   1       4.353  27.303  29.362  1.00  0.00           H  \nHETATM  539  H2  HOH K   1       4.751  26.693  30.690  1.00  0.00           H  \nTER     540      HOH K   1\nHETATM  541  O   HOH L   1       8.496  48.938  19.898  1.00  0.00           O  \nHETATM  542  H1  HOH L   1       7.737  48.422  19.627  1.00  0.00           H  \nHETATM  543  H2  HOH L   1       9.241  48.505  19.482  1.00  0.00           H  \nTER     544      HOH L   1\nHETATM  545  O   HOH M   1      -1.711  47.630  33.726  1.00  0.00           O  \nHETATM  546  H1  HOH M   1      -0.992  47.308  33.184  1.00  0.00           H  \nHETATM  547  H2  HOH M   1      -1.527  48.562  33.841  1.00  0.00           H  \nTER     548      HOH M   1\nHETATM  549  O   HOH N   1      15.157  33.846  21.835  1.00  0.00           O  \nHETATM  550  H1  HOH N   1      16.075  33.877  22.106  1.00  0.00           H  \nHETATM  551  H2  HOH N   1      15.011  32.934  21.586  1.00  0.00           H  \nTER     552      HOH N   1\nHETATM  553  O   HOH O   1       1.969  41.577  20.178  1.00  0.00           O  \nHETATM  554  H1  HOH O   1       2.761  41.141  19.864  1.00  0.00           H  \nHETATM  555  H2  HOH O   1       1.784  41.160  21.020  1.00  0.00           H  \nTER     556      HOH O   1\nHETATM  557  O   HOH P   1      11.801  37.150  19.589  1.00  0.00           O  \nHETATM  558  H1  HOH P   1      12.621  36.673  19.712  1.00  0.00           H  \nHETATM  559  H2  HOH P   1      11.630  37.558  20.439  1.00  0.00           H  \nTER     560      HOH P   1\nHETATM  561  O   HOH Q   1       9.787  40.557  27.122  1.00  0.00           O  \nHETATM  562  H1  HOH Q   1       9.002  40.869  27.572  1.00  0.00           H  \nHETATM  563  H2  HOH Q   1       9.667  40.830  26.213  1.00  0.00           H  \nTER     564      HOH Q   1\nHETATM  565  O   HOH R   1       5.268  45.229  37.966  1.00  0.00           O  \nHETATM  566  H1  HOH R   1       6.033  44.895  37.496  1.00  0.00           H  \nHETATM  567  H2  HOH R   1       5.513  46.119  38.221  1.00  0.00           H  \nTER     568      HOH R   1\nHETATM  569  O   HOH S   1       5.054  45.915  17.465  1.00  0.00           O  \nHETATM  570  H1  HOH S   1       4.449  45.277  17.843  1.00  0.00           H  \nHETATM  571  H2  HOH S   1       4.938  46.701  17.999  1.00  0.00           H  \nTER     572      HOH S   1\nHETATM  573  O   HOH T   1       9.610  26.063  20.991  1.00  0.00           O  \nHETATM  574  H1  HOH T   1      10.427  26.042  21.488  1.00  0.00           H  \nHETATM  575  H2  HOH T   1       9.884  26.009  20.075  1.00  0.00           H  \nTER     576      HOH T   1\nHETATM  577  O   HOH U   1       8.027  34.370  16.684  1.00  0.00           O  \nHETATM  578  H1  HOH U   1       7.639  35.201  16.412  1.00  0.00           H  \nHETATM  579  H2  HOH U   1       8.971  34.525  16.658  1.00  0.00           H  \nTER     580      HOH U   1\nHETATM  581  O   HOH V   1      10.221  46.205  35.731  1.00  0.00           O  \nHETATM  582  H1  HOH V   1       9.348  46.019  36.075  1.00  0.00           H  \nHETATM  583  H2  HOH V   1      10.280  45.680  34.932  1.00  0.00           H  \nTER     584      HOH V   1\nHETATM  585  O   HOH W   1      21.942  41.076  31.461  1.00  0.00           O  \nHETATM  586  H1  HOH W   1      22.761  40.951  30.982  1.00  0.00           H  \nHETATM  587  H2  HOH W   1      21.997  40.463  32.194  1.00  0.00           H  \nTER     588      HOH W   1\nHETATM  589  O   HOH X   1      10.898  30.529  22.602  1.00  0.00           O  \nHETATM  590  H1  HOH X   1      11.454  29.753  22.533  1.00  0.00           H  \nHETATM  591  H2  HOH X   1      11.434  31.168  23.072  1.00  0.00           H  \nTER     592      HOH X   1\nHETATM  593  O   HOH Y   1       9.842  37.539  24.177  1.00  0.00           O  \nHETATM  594  H1  HOH Y   1       9.124  37.946  24.663  1.00  0.00           H  \nHETATM  595  H2  HOH Y   1       9.557  36.636  24.040  1.00  0.00           H  \nTER     596      HOH Y   1\nHETATM  597  O   HOH Z   1       0.598  25.469  25.018  1.00  0.00           O  \nHETATM  598  H1  HOH Z   1       1.120  25.828  25.735  1.00  0.00           H  \nHETATM  599  H2  HOH Z   1      -0.126  26.087  24.915  1.00  0.00           H  \nTER     600      HOH Z   1\nHETATM  601  O   HOH A   1      -0.636  40.786  23.861  1.00  0.00           O  \nHETATM  602  H1  HOH A   1      -1.234  40.913  23.125  1.00  0.00           H  \nHETATM  603  H2  HOH A   1      -1.108  40.206  24.457  1.00  0.00           H  \nTER     604      HOH A   1\nHETATM  605  O   HOH B   1       9.658  35.747  31.287  1.00  0.00           O  \nHETATM  606  H1  HOH B   1      10.284  36.461  31.407  1.00  0.00           H  \nHETATM  607  H2  HOH B   1      10.177  35.034  30.912  1.00  0.00           H  \nTER     608      HOH B   1\nHETATM  609  O   HOH C   1       2.517  38.029  36.668  1.00  0.00           O  \nHETATM  610  H1  HOH C   1       1.930  38.135  35.919  1.00  0.00           H  \nHETATM  611  H2  HOH C   1       2.974  38.867  36.735  1.00  0.00           H  \nTER     612      HOH C   1\nHETATM  613  O   HOH D   1      -1.640  27.932  30.886  1.00  0.00           O  \nHETATM  614  H1  HOH D   1      -1.848  27.514  30.050  1.00  0.00           H  \nHETATM  615  H2  HOH D   1      -1.075  28.669  30.651  1.00  0.00           H  \nTER     616      HOH D   1\nHETATM  617  O   HOH E   1      16.520  26.691  30.260  1.00  0.00           O  \nHETATM  618  H1  HOH E   1      17.411  26.564  29.934  1.00  0.00           H  \nHETATM  619  H2  HOH E   1      16.494  27.608  30.535  1.00  0.00           H  \nTER     620      HOH E   1\nHETATM  621  O   HOH F   1       9.119  43.690  20.577  1.00  0.00           O  \nHETATM  622  H1  HOH F   1       8.992  43.977  21.481  1.00  0.00           H  \nHETATM  623  H2  HOH F   1      10.052  43.826  20.411  1.00  0.00           H  \nTER     624      HOH F   1\nHETATM  625  O   HOH G   1       7.374  38.730  25.497  1.00  0.00           O  \nHETATM  626  H1  HOH G   1       7.659  38.685  26.409  1.00  0.00           H  \nHETATM  627  H2  HOH G   1       6.635  39.338  25.506  1.00  0.00           H  \nTER     628      HOH G   1\nHETATM  629  O   HOH H   1       1.455  42.096  17.110  1.00  0.00           O  \nHETATM  630  H1  HOH H   1       2.364  41.900  17.339  1.00  0.00           H  \nHETATM  631  H2  HOH H   1       1.261  41.510  16.379  1.00  0.00           H  \nTER     632      HOH H   1\nHETATM  633  O   HOH I   1       2.127  26.795  26.705  1.00  0.00           O  \nHETATM  634  H1  HOH I   1       2.875  27.390  26.749  1.00  0.00           H  \nHETATM  635  H2  HOH I   1       1.368  27.349  26.889  1.00  0.00           H  \nTER     636      HOH I   1\nHETATM  637  O   HOH J   1      10.203  34.801  25.898  1.00  0.00           O  \nHETATM  638  H1  HOH J   1       9.252  34.727  25.816  1.00  0.00           H  \nHETATM  639  H2  HOH J   1      10.543  34.018  25.464  1.00  0.00           H  \nTER     640      HOH J   1\nHETATM  641  O   HOH K   1      10.007  41.492  35.781  1.00  0.00           O  \nHETATM  642  H1  HOH K   1       9.549  41.105  35.035  1.00  0.00           H  \nHETATM  643  H2  HOH K   1      10.319  42.338  35.457  1.00  0.00           H  \nTER     644      HOH K   1\nHETATM  645  O   HOH L   1      14.130  30.277  16.200  1.00  0.00           O  \nHETATM  646  H1  HOH L   1      13.218  30.545  16.316  1.00  0.00           H  \nHETATM  647  H2  HOH L   1      14.364  29.858  17.029  1.00  0.00           H  \nTER     648      HOH L   1\nHETATM  649  O   HOH M   1       2.248  37.255  18.992  1.00  0.00           O  \nHETATM  650  H1  HOH M   1       1.428  37.748  18.955  1.00  0.00           H  \nHETATM  651  H2  HOH M   1       2.886  37.877  19.341  1.00  0.00           H  \nTER     652      HOH M   1\nHETATM  653  O   HOH N   1      16.951  37.459  33.467  1.00  0.00           O  \nHETATM  654  H1  HOH N   1      17.497  36.746  33.136  1.00  0.00           H  \nHETATM  655  H2  HOH N   1      17.077  38.170  32.838  1.00  0.00           H  \nTER     656      HOH N   1\nHETATM  657  O   HOH O   1       8.046  37.440  19.006  1.00  0.00           O  \nHETATM  658  H1  HOH O   1       7.762  37.462  19.919  1.00  0.00           H  \nHETATM  659  H2  HOH O   1       8.450  36.579  18.900  1.00  0.00           H  \nTER     660      HOH O   1\nHETATM  661  O   HOH P   1       2.548  29.377  22.144  1.00  0.00           O  \nHETATM  662  H1  HOH P   1       2.990  29.660  22.944  1.00  0.00           H  \nHETATM  663  H2  HOH P   1       2.943  29.907  21.451  1.00  0.00           H  \nTER     664      HOH P   1\nHETATM  665  O   HOH Q   1      13.988  36.170  40.580  1.00  0.00           O  \nHETATM  666  H1  HOH Q   1      13.217  35.707  40.252  1.00  0.00           H  \nHETATM  667  H2  HOH Q   1      14.725  35.754  40.134  1.00  0.00           H  \nTER     668      HOH Q   1\nHETATM  669  O   HOH R   1      17.159  42.316  17.352  1.00  0.00           O  \nHETATM  670  H1  HOH R   1      17.516  43.190  17.193  1.00  0.00           H  \nHETATM  671  H2  HOH R   1      16.571  42.429  18.098  1.00  0.00           H  \nTER     672      HOH R   1\nHETATM  673  O   HOH S   1       2.598  34.740  25.534  1.00  0.00           O  \nHETATM  674  H1  HOH S   1       1.820  35.295  25.477  1.00  0.00           H  \nHETATM  675  H2  HOH S   1       2.359  33.942  25.062  1.00  0.00           H  \nTER     676      HOH S   1\nHETATM  677  O   HOH T   1      14.140  35.695  20.206  1.00  0.00           O  \nHETATM  678  H1  HOH T   1      14.730  36.439  20.331  1.00  0.00           H  \nHETATM  679  H2  HOH T   1      14.392  35.072  20.887  1.00  0.00           H  \nTER     680      HOH T   1\nHETATM  681  O   HOH U   1      10.730  36.831  28.371  1.00  0.00           O  \nHETATM  682  H1  HOH U   1      11.479  37.421  28.282  1.00  0.00           H  \nHETATM  683  H2  HOH U   1      11.008  36.024  27.937  1.00  0.00           H  \nTER     684      HOH U   1\nHETATM  685  O   HOH V   1       2.061  44.848  26.363  1.00  0.00           O  \nHETATM  686  H1  HOH V   1       1.398  45.093  27.008  1.00  0.00           H  \nHETATM  687  H2  HOH V   1       1.589  44.312  25.726  1.00  0.00           H  \nTER     688      HOH V   1\nHETATM  689  O   HOH W   1       6.699  30.336  26.951  1.00  0.00           O  \nHETATM  690  H1  HOH W   1       6.613  31.007  26.273  1.00  0.00           H  \nHETATM  691  H2  HOH W   1       7.546  30.514  27.359  1.00  0.00           H  \nTER     692      HOH W   1\nHETATM  693  O   HOH X   1       4.539  48.963  29.052  1.00  0.00           O  \nHETATM  694  H1  HOH X   1       5.330  49.433  28.788  1.00  0.00           H  \nHETATM  695  H2  HOH X   1       3.820  49.497  28.715  1.00  0.00           H  \nTER     696      HOH X   1\nHETATM  697  O   HOH Y   1       4.168  39.300  20.153  1.00  0.00           O  \nHETATM  698  H1  HOH Y   1       4.850  39.914  19.882  1.00  0.00           H  \nHETATM  699  H2  HOH Y   1       4.092  39.427  21.099  1.00  0.00           H  \nTER     700      HOH Y   1\nHETATM  701  O   HOH Z   1      14.023  31.296  22.186  1.00  0.00           O  \nHETATM  702  H1  HOH Z   1      14.940  31.111  21.984  1.00  0.00           H  \nHETATM  703  H2  HOH Z   1      13.534  30.906  21.462  1.00  0.00           H  \nTER     704      HOH Z   1\nHETATM  705  O   HOH A   1      20.987  32.929  24.476  1.00  0.00           O  \nHETATM  706  H1  HOH A   1      21.097  32.230  23.831  1.00  0.00           H  \nHETATM  707  H2  HOH A   1      21.665  33.567  24.256  1.00  0.00           H  \nTER     708      HOH A   1\nHETATM  709  O   HOH B   1       5.816  37.341  23.742  1.00  0.00           O  \nHETATM  710  H1  HOH B   1       6.570  37.777  24.139  1.00  0.00           H  \nHETATM  711  H2  HOH B   1       5.444  36.813  24.448  1.00  0.00           H  \nTER     712      HOH B   1\nHETATM  713  O   HOH C   1      14.007  36.832  36.939  1.00  0.00           O  \nHETATM  714  H1  HOH C   1      13.744  35.996  37.323  1.00  0.00           H  \nHETATM  715  H2  HOH C   1      13.190  37.322  36.846  1.00  0.00           H  \nTER     716      HOH C   1\nHETATM  717  O   HOH D   1      12.573  29.128  34.914  1.00  0.00           O  \nHETATM  718  H1  HOH D   1      13.276  29.778  34.911  1.00  0.00           H  \nHETATM  719  H2  HOH D   1      12.363  29.006  35.840  1.00  0.00           H  \nTER     720      HOH D   1\nHETATM  721  O   HOH E   1       7.811  33.626  39.473  1.00  0.00           O  \nHETATM  722  H1  HOH E   1       8.086  32.993  40.137  1.00  0.00           H  \nHETATM  723  H2  HOH E   1       8.097  34.472  39.817  1.00  0.00           H  \nTER     724      HOH E   1\nHETATM  725  O   HOH F   1       3.990  35.204  17.768  1.00  0.00           O  \nHETATM  726  H1  HOH F   1       4.865  34.894  18.000  1.00  0.00           H  \nHETATM  727  H2  HOH F   1       3.536  35.293  18.606  1.00  0.00           H  \nTER     728      HOH F   1\nHETATM  729  O   HOH G   1       3.633  35.053  42.355  1.00  0.00           O  \nHETATM  730  H1  HOH G   1       3.245  35.650  42.995  1.00  0.00           H  \nHETATM  731  H2  HOH G   1       4.035  35.627  41.704  1.00  0.00           H  \nTER     732      HOH G   1\nHETATM  733  O   HOH H   1       1.558  35.336  37.410  1.00  0.00           O  \nHETATM  734  H1  HOH H   1       0.654  35.583  37.604  1.00  0.00           H  \nHETATM  735  H2  HOH H   1       2.048  36.156  37.465  1.00  0.00           H  \nTER     736      HOH H   1\nHETATM  737  O   HOH I   1       1.542  31.350  20.406  1.00  0.00           O  \nHETATM  738  H1  HOH I   1       2.104  32.092  20.183  1.00  0.00           H  \nHETATM  739  H2  HOH I   1       1.293  31.503  21.318  1.00  0.00           H  \nTER     740      HOH I   1\nHETATM  741  O   HOH J   1      17.666  46.390  37.529  1.00  0.00           O  \nHETATM  742  H1  HOH J   1      17.696  47.344  37.455  1.00  0.00           H  \nHETATM  743  H2  HOH J   1      17.383  46.092  36.665  1.00  0.00           H  \nTER     744      HOH J   1\nHETATM  745  O   HOH K   1      12.365  38.283  40.193  1.00  0.00           O  \nHETATM  746  H1  HOH K   1      13.118  37.880  40.625  1.00  0.00           H  \nHETATM  747  H2  HOH K   1      11.674  37.622  40.249  1.00  0.00           H  \nTER     748      HOH K   1\nHETATM  749  O   HOH L   1      16.474  38.181  37.386  1.00  0.00           O  \nHETATM  750  H1  HOH L   1      15.732  38.206  37.989  1.00  0.00           H  \nHETATM  751  H2  HOH L   1      16.200  38.722  36.645  1.00  0.00           H  \nTER     752      HOH L   1\nHETATM  753  O   HOH M   1      19.753  36.775  19.207  1.00  0.00           O  \nHETATM  754  H1  HOH M   1      18.861  37.121  19.189  1.00  0.00           H  \nHETATM  755  H2  HOH M   1      20.278  37.443  18.766  1.00  0.00           H  \nTER     756      HOH M   1\nHETATM  757  O   HOH N   1       4.046  51.527  39.577  1.00  0.00           O  \nHETATM  758  H1  HOH N   1       4.695  51.729  38.903  1.00  0.00           H  \nHETATM  759  H2  HOH N   1       3.239  51.360  39.090  1.00  0.00           H  \nTER     760      HOH N   1\nHETATM  761  O   HOH O   1      14.583  40.270  36.592  1.00  0.00           O  \nHETATM  762  H1  HOH O   1      15.006  40.691  37.341  1.00  0.00           H  \nHETATM  763  H2  HOH O   1      13.691  40.091  36.890  1.00  0.00           H  \nTER     764      HOH O   1\nHETATM  765  O   HOH P   1      11.142  40.664  39.821  1.00  0.00           O  \nHETATM  766  H1  HOH P   1      11.797  41.218  39.396  1.00  0.00           H  \nHETATM  767  H2  HOH P   1      11.653  39.997  40.279  1.00  0.00           H  \nTER     768      HOH P   1\nHETATM  769  O   HOH Q   1      16.293  42.913  33.123  1.00  0.00           O  \nHETATM  770  H1  HOH Q   1      17.023  43.516  32.984  1.00  0.00           H  \nHETATM  771  H2  HOH Q   1      16.431  42.568  34.005  1.00  0.00           H  \nTER     772      HOH Q   1\nHETATM  773  O   HOH R   1      13.225  29.790  19.560  1.00  0.00           O  \nHETATM  774  H1  HOH R   1      13.489  28.927  19.879  1.00  0.00           H  \nHETATM  775  H2  HOH R   1      12.499  29.612  18.961  1.00  0.00           H  \nTER     776      HOH R   1\nHETATM  777  O   HOH S   1       8.309  38.549  39.347  1.00  0.00           O  \nHETATM  778  H1  HOH S   1       8.962  38.656  38.655  1.00  0.00           H  \nHETATM  779  H2  HOH S   1       7.994  39.436  39.519  1.00  0.00           H  \nTER     780      HOH S   1\nHETATM  781  O   HOH T   1       5.466  30.248  32.545  1.00  0.00           O  \nHETATM  782  H1  HOH T   1       4.644  30.265  32.055  1.00  0.00           H  \nHETATM  783  H2  HOH T   1       5.197  30.209  33.463  1.00  0.00           H  \nTER     784      HOH T   1\nHETATM  785  O   HOH U   1       6.451  35.386  28.464  1.00  0.00           O  \nHETATM  786  H1  HOH U   1       7.007  34.614  28.356  1.00  0.00           H  \nHETATM  787  H2  HOH U   1       6.349  35.477  29.412  1.00  0.00           H  \nTER     788      HOH U   1\nHETATM  789  O   HOH V   1       7.686  36.154  40.499  1.00  0.00           O  \nHETATM  790  H1  HOH V   1       7.941  36.987  40.101  1.00  0.00           H  \nHETATM  791  H2  HOH V   1       6.920  35.874  39.998  1.00  0.00           H  \nTER     792      HOH V   1\nHETATM  793  O   HOH W   1       8.998  31.595  41.722  1.00  0.00           O  \nHETATM  794  H1  HOH W   1       8.388  32.299  41.940  1.00  0.00           H  \nHETATM  795  H2  HOH W   1       8.456  30.931  41.296  1.00  0.00           H  \nTER     796      HOH W   1\nHETATM  797  O   HOH X   1      14.003  31.300  34.218  1.00  0.00           O  \nHETATM  798  H1  HOH X   1      14.906  31.119  33.955  1.00  0.00           H  \nHETATM  799  H2  HOH X   1      13.952  32.255  34.261  1.00  0.00           H  \nTER     800      HOH X   1\nHETATM  801  O   HOH Y   1      12.062  44.906  40.732  1.00  0.00           O  \nHETATM  802  H1  HOH Y   1      11.754  44.337  41.437  1.00  0.00           H  \nHETATM  803  H2  HOH Y   1      13.016  44.889  40.809  1.00  0.00           H  \nTER     804      HOH Y   1\nHETATM  805  O   HOH Z   1       8.476  43.337  34.341  1.00  0.00           O  \nHETATM  806  H1  HOH Z   1       7.766  43.286  33.701  1.00  0.00           H  \nHETATM  807  H2  HOH Z   1       9.126  43.909  33.933  1.00  0.00           H  \nTER     808      HOH Z   1\nHETATM  809  O   HOH A   1      17.743  35.592  29.424  1.00  0.00           O  \nHETATM  810  H1  HOH A   1      16.968  36.014  29.795  1.00  0.00           H  \nHETATM  811  H2  HOH A   1      17.866  36.018  28.576  1.00  0.00           H  \nTER     812      HOH A   1\nHETATM  813  O   HOH B   1      -0.791  38.372  41.475  1.00  0.00           O  \nHETATM  814  H1  HOH B   1      -0.299  38.224  40.668  1.00  0.00           H  \nHETATM  815  H2  HOH B   1      -1.102  37.503  41.730  1.00  0.00           H  \nTER     816      HOH B   1\nHETATM  817  O   HOH C   1       1.840  49.119  15.948  1.00  0.00           O  \nHETATM  818  H1  HOH C   1       2.261  49.368  16.771  1.00  0.00           H  \nHETATM  819  H2  HOH C   1       2.550  48.764  15.414  1.00  0.00           H  \nTER     820      HOH C   1\nHETATM  821  O   HOH D   1      -0.806  43.767  17.299  1.00  0.00           O  \nHETATM  822  H1  HOH D   1      -0.677  44.715  17.328  1.00  0.00           H  \nHETATM  823  H2  HOH D   1       0.039  43.418  17.018  1.00  0.00           H  \nTER     824      HOH D   1\nHETATM  825  O   HOH E   1       1.830  33.674  34.118  1.00  0.00           O  \nHETATM  826  H1  HOH E   1       2.429  33.378  34.804  1.00  0.00           H  \nHETATM  827  H2  HOH E   1       1.355  32.885  33.858  1.00  0.00           H  \nTER     828      HOH E   1\nHETATM  829  O   HOH F   1       2.077  31.763  39.042  1.00  0.00           O  \nHETATM  830  H1  HOH F   1       2.030  30.807  39.027  1.00  0.00           H  \nHETATM  831  H2  HOH F   1       1.424  32.046  38.403  1.00  0.00           H  \nTER     832      HOH F   1\nHETATM  833  O   HOH G   1      -0.279  38.281  19.141  1.00  0.00           O  \nHETATM  834  H1  HOH G   1      -1.112  37.913  19.438  1.00  0.00           H  \nHETATM  835  H2  HOH G   1      -0.372  39.224  19.277  1.00  0.00           H  \nTER     836      HOH G   1\nHETATM  837  O   HOH H   1       8.246  27.787  41.521  1.00  0.00           O  \nHETATM  838  H1  HOH H   1       8.061  27.841  42.458  1.00  0.00           H  \nHETATM  839  H2  HOH H   1       7.841  28.571  41.150  1.00  0.00           H  \nTER     840      HOH H   1\nHETATM  841  O   HOH I   1      16.282  29.336  30.893  1.00  0.00           O  \nHETATM  842  H1  HOH I   1      16.774  30.000  30.410  1.00  0.00           H  \nHETATM  843  H2  HOH I   1      15.430  29.305  30.458  1.00  0.00           H  \nTER     844      HOH I   1\nHETATM  845  O   HOH J   1       5.189  35.599  39.269  1.00  0.00           O  \nHETATM  846  H1  HOH J   1       4.531  36.192  39.632  1.00  0.00           H  \nHETATM  847  H2  HOH J   1       4.703  34.803  39.053  1.00  0.00           H  \nTER     848      HOH J   1\nHETATM  849  O   HOH K   1      -1.198  34.687  28.521  1.00  0.00           O  \nHETATM  850  H1  HOH K   1      -1.709  35.308  29.039  1.00  0.00           H  \nHETATM  851  H2  HOH K   1      -1.850  34.106  28.131  1.00  0.00           H  \nTER     852      HOH K   1\nHETATM  853  O   HOH L   1       6.286  27.262  19.278  1.00  0.00           O  \nHETATM  854  H1  HOH L   1       5.736  27.333  18.497  1.00  0.00           H  \nHETATM  855  H2  HOH L   1       7.140  27.593  19.000  1.00  0.00           H  \nTER     856      HOH L   1\nHETATM  857  O   HOH M   1      11.723  51.049  42.152  1.00  0.00           O  \nHETATM  858  H1  HOH M   1      10.988  50.496  41.888  1.00  0.00           H  \nHETATM  859  H2  HOH M   1      12.256  51.133  41.361  1.00  0.00           H  \nTER     860      HOH M   1\nHETATM  861  O   HOH N   1       3.321  32.639  41.407  1.00  0.00           O  \nHETATM  862  H1  HOH N   1       2.840  32.525  40.588  1.00  0.00           H  \nHETATM  863  H2  HOH N   1       3.440  33.585  41.486  1.00  0.00           H  \nTER     864      HOH N   1\nHETATM  865  O   HOH O   1      10.477  36.319  40.866  1.00  0.00           O  \nHETATM  866  H1  HOH O   1       9.639  36.185  40.424  1.00  0.00           H  \nHETATM  867  H2  HOH O   1      10.776  35.437  41.086  1.00  0.00           H  \nTER     868      HOH O   1\nHETATM  869  O   HOH P   1      20.934  31.569  33.012  1.00  0.00           O  \nHETATM  870  H1  HOH P   1      19.995  31.529  32.830  1.00  0.00           H  \nHETATM  871  H2  HOH P   1      21.348  31.240  32.214  1.00  0.00           H  \nTER     872      HOH P   1\nHETATM  873  O   HOH Q   1       1.323  36.968  30.984  1.00  0.00           O  \nHETATM  874  H1  HOH Q   1       0.559  36.548  31.378  1.00  0.00           H  \nHETATM  875  H2  HOH Q   1       2.073  36.522  31.379  1.00  0.00           H  \nTER     876      HOH Q   1\nHETATM  877  O   HOH R   1       7.589  26.913  38.230  1.00  0.00           O  \nHETATM  878  H1  HOH R   1       7.964  26.794  39.103  1.00  0.00           H  \nHETATM  879  H2  HOH R   1       8.339  27.119  37.672  1.00  0.00           H  \nTER     880      HOH R   1\nHETATM  881  O   HOH S   1       0.540  27.534  38.458  1.00  0.00           O  \nHETATM  882  H1  HOH S   1       1.211  28.086  38.861  1.00  0.00           H  \nHETATM  883  H2  HOH S   1      -0.080  28.153  38.074  1.00  0.00           H  \nTER     884      HOH S   1\nHETATM  885  O   HOH T   1       3.968  42.043  22.930  1.00  0.00           O  \nHETATM  886  H1  HOH T   1       3.781  41.113  23.055  1.00  0.00           H  \nHETATM  887  H2  HOH T   1       3.999  42.404  23.816  1.00  0.00           H  \nTER     888      HOH T   1\nHETATM  889  O   HOH U   1       6.978  30.009  40.572  1.00  0.00           O  \nHETATM  890  H1  HOH U   1       6.079  30.072  40.895  1.00  0.00           H  \nHETATM  891  H2  HOH U   1       6.888  29.963  39.620  1.00  0.00           H  \nTER     892      HOH U   1\nHETATM  893  O   HOH V   1       3.577  33.746  38.405  1.00  0.00           O  \nHETATM  894  H1  HOH V   1       3.170  32.888  38.523  1.00  0.00           H  \nHETATM  895  H2  HOH V   1       3.064  34.162  37.712  1.00  0.00           H  \nTER     896      HOH V   1\nHETATM  897  O   HOH W   1      14.993  29.030  38.216  1.00  0.00           O  \nHETATM  898  H1  HOH W   1      15.025  28.116  38.500  1.00  0.00           H  \nHETATM  899  H2  HOH W   1      15.503  29.047  37.406  1.00  0.00           H  \nTER     900      HOH W   1\nHETATM  901  O   HOH X   1       9.200  39.901  19.107  1.00  0.00           O  \nHETATM  902  H1  HOH X   1       9.596  40.176  18.281  1.00  0.00           H  \nHETATM  903  H2  HOH X   1       8.768  39.072  18.902  1.00  0.00           H  \nTER     904      HOH X   1\nHETATM  905  O   HOH Y   1      10.824  27.143  40.194  1.00  0.00           O  \nHETATM  906  H1  HOH Y   1      11.465  27.050  40.899  1.00  0.00           H  \nHETATM  907  H2  HOH Y   1      10.057  27.529  40.617  1.00  0.00           H  \nTER     908      HOH Y   1\nHETATM  909  O   HOH Z   1       4.355  42.652  39.456  1.00  0.00           O  \nHETATM  910  H1  HOH Z   1       5.235  42.567  39.822  1.00  0.00           H  \nHETATM  911  H2  HOH Z   1       4.141  43.580  39.557  1.00  0.00           H  \nTER     912      HOH Z   1\nHETATM  913  O   HOH A   1       3.377  33.505  21.252  1.00  0.00           O  \nHETATM  914  H1  HOH A   1       2.808  34.257  21.417  1.00  0.00           H  \nHETATM  915  H2  HOH A   1       4.135  33.648  21.818  1.00  0.00           H  \nTER     916      HOH A   1\nHETATM  917  O   HOH B   1      17.231  35.139  17.880  1.00  0.00           O  \nHETATM  918  H1  HOH B   1      17.699  34.516  18.435  1.00  0.00           H  \nHETATM  919  H2  HOH B   1      17.711  35.130  17.051  1.00  0.00           H  \nTER     920      HOH B   1\nHETATM  921  O   HOH C   1       1.061  44.352  22.357  1.00  0.00           O  \nHETATM  922  H1  HOH C   1       1.458  45.197  22.570  1.00  0.00           H  \nHETATM  923  H2  HOH C   1       1.575  44.025  21.619  1.00  0.00           H  \nTER     924      HOH C   1\nHETATM  925  O   HOH D   1       3.075  30.069  31.337  1.00  0.00           O  \nHETATM  926  H1  HOH D   1       2.593  30.621  30.722  1.00  0.00           H  \nHETATM  927  H2  HOH D   1       2.448  29.884  32.036  1.00  0.00           H  \nTER     928      HOH D   1\nHETATM  929  O   HOH E   1      11.417  33.778  41.199  1.00  0.00           O  \nHETATM  930  H1  HOH E   1      10.703  33.145  41.270  1.00  0.00           H  \nHETATM  931  H2  HOH E   1      11.888  33.703  42.029  1.00  0.00           H  \nTER     932      HOH E   1\nHETATM  933  O   HOH F   1      -2.217  35.160  41.072  1.00  0.00           O  \nHETATM  934  H1  HOH F   1      -1.508  35.036  41.703  1.00  0.00           H  \nHETATM  935  H2  HOH F   1      -1.781  35.467  40.278  1.00  0.00           H  \nTER     936      HOH F   1\nHETATM  937  O   HOH G   1      11.609  25.660  29.095  1.00  0.00           O  \nHETATM  938  H1  HOH G   1      12.274  25.010  29.324  1.00  0.00           H  \nHETATM  939  H2  HOH G   1      11.754  26.379  29.709  1.00  0.00           H  \nTER     940      HOH G   1\nHETATM  941  O   HOH H   1       0.734  38.260  39.211  1.00  0.00           O  \nHETATM  942  H1  HOH H   1       0.693  39.206  39.353  1.00  0.00           H  \nHETATM  943  H2  HOH H   1       1.050  38.167  38.312  1.00  0.00           H  \nTER     944      HOH H   1\nHETATM  945  O   HOH I   1      17.708  27.778  40.172  1.00  0.00           O  \nHETATM  946  H1  HOH I   1      17.361  27.615  39.295  1.00  0.00           H  \nHETATM  947  H2  HOH I   1      17.609  26.943  40.629  1.00  0.00           H  \nTER     948      HOH I   1\nHETATM  949  O   HOH J   1      10.799  48.642  26.032  1.00  0.00           O  \nHETATM  950  H1  HOH J   1      10.987  49.107  25.216  1.00  0.00           H  \nHETATM  951  H2  HOH J   1      10.922  47.718  25.815  1.00  0.00           H  \nTER     952      HOH J   1\nHETATM  953  O   HOH K   1      11.482  37.554  32.200  1.00  0.00           O  \nHETATM  954  H1  HOH K   1      11.101  38.312  32.644  1.00  0.00           H  \nHETATM  955  H2  HOH K   1      12.339  37.441  32.611  1.00  0.00           H  \nTER     956      HOH K   1\nHETATM  957  O   HOH L   1      18.459  43.310  39.674  1.00  0.00           O  \nHETATM  958  H1  HOH L   1      18.349  42.525  40.211  1.00  0.00           H  \nHETATM  959  H2  HOH L   1      18.882  43.941  40.255  1.00  0.00           H  \nTER     960      HOH L   1\nHETATM  961  O   HOH M   1       5.882  42.763  16.510  1.00  0.00           O  \nHETATM  962  H1  HOH M   1       6.647  42.388  16.074  1.00  0.00           H  \nHETATM  963  H2  HOH M   1       6.244  43.260  17.244  1.00  0.00           H  \nTER     964      HOH M   1\nHETATM  965  O   HOH N   1       3.377  37.314  40.260  1.00  0.00           O  \nHETATM  966  H1  HOH N   1       2.536  37.635  39.932  1.00  0.00           H  \nHETATM  967  H2  HOH N   1       3.726  38.040  40.776  1.00  0.00           H  \nTER     968      HOH N   1\nHETATM  969  O   HOH O   1      -3.667  34.307  36.237  1.00  0.00           O  \nHETATM  970  H1  HOH O   1      -3.951  33.504  36.673  1.00  0.00           H  \nHETATM  971  H2  HOH O   1      -3.853  35.002  36.868  1.00  0.00           H  \nTER     972      HOH O   1\nHETATM  973  O   HOH P   1      10.553  46.434  16.917  1.00  0.00           O  \nHETATM  974  H1  HOH P   1       9.683  46.719  16.638  1.00  0.00           H  \nHETATM  975  H2  HOH P   1      11.015  46.240  16.102  1.00  0.00           H  \nTER     976      HOH P   1\nHETATM  977  O   HOH Q   1      15.994  41.248  28.953  1.00  0.00           O  \nHETATM  978  H1  HOH Q   1      16.753  41.200  29.534  1.00  0.00           H  \nHETATM  979  H2  HOH Q   1      15.460  40.490  29.192  1.00  0.00           H  \nTER     980      HOH Q   1\nHETATM  981  O   HOH R   1      13.129  42.113  38.496  1.00  0.00           O  \nHETATM  982  H1  HOH R   1      12.973  43.036  38.697  1.00  0.00           H  \nHETATM  983  H2  HOH R   1      14.029  42.087  38.172  1.00  0.00           H  \nTER     984      HOH R   1\nHETATM  985  O   HOH S   1      12.000  28.810  17.359  1.00  0.00           O  \nHETATM  986  H1  HOH S   1      12.559  28.034  17.321  1.00  0.00           H  \nHETATM  987  H2  HOH S   1      11.655  28.901  16.471  1.00  0.00           H  \nTER     988      HOH S   1\nHETATM  989  O   HOH T   1      -2.959  28.917  39.826  1.00  0.00           O  \nHETATM  990  H1  HOH T   1      -3.278  28.040  39.615  1.00  0.00           H  \nHETATM  991  H2  HOH T   1      -2.196  29.038  39.260  1.00  0.00           H  \nTER     992      HOH T   1\nHETATM  993  O   HOH U   1      11.724  29.688  41.981  1.00  0.00           O  \nHETATM  994  H1  HOH U   1      11.029  30.346  41.992  1.00  0.00           H  \nHETATM  995  H2  HOH U   1      11.957  29.600  41.057  1.00  0.00           H  \nTER     996      HOH U   1\nHETATM  997  O   HOH V   1       4.113  32.596  35.602  1.00  0.00           O  \nHETATM  998  H1  HOH V   1       4.090  31.640  35.575  1.00  0.00           H  \nHETATM  999  H2  HOH V   1       4.953  32.805  36.012  1.00  0.00           H  \nTER    1000      HOH V   1\nHETATM 1001  O   HOH W   1      -2.712  31.553  25.507  1.00  0.00           O  \nHETATM 1002  H1  HOH W   1      -3.185  31.820  24.719  1.00  0.00           H  \nHETATM 1003  H2  HOH W   1      -1.913  32.080  25.498  1.00  0.00           H  \nTER    1004      HOH W   1\nHETATM 1005  O   HOH X   1       7.318  48.406  36.649  1.00  0.00           O  \nHETATM 1006  H1  HOH X   1       7.351  47.458  36.772  1.00  0.00           H  \nHETATM 1007  H2  HOH X   1       6.687  48.534  35.940  1.00  0.00           H  \nTER    1008      HOH X   1\nHETATM 1009  O   HOH Y   1       7.253  51.206  23.191  1.00  0.00           O  \nHETATM 1010  H1  HOH Y   1       7.060  51.688  23.994  1.00  0.00           H  \nHETATM 1011  H2  HOH Y   1       6.926  51.769  22.489  1.00  0.00           H  \nTER    1012      HOH Y   1\nHETATM 1013  O   HOH Z   1      -1.159  44.282  26.842  1.00  0.00           O  \nHETATM 1014  H1  HOH Z   1      -0.650  44.829  27.440  1.00  0.00           H  \nHETATM 1015  H2  HOH Z   1      -0.779  44.452  25.980  1.00  0.00           H  \nTER    1016      HOH Z   1\nHETATM 1017  O   HOH A   1      10.133  41.031  21.657  1.00  0.00           O  \nHETATM 1018  H1  HOH A   1      10.284  40.093  21.543  1.00  0.00           H  \nHETATM 1019  H2  HOH A   1       9.549  41.269  20.937  1.00  0.00           H  \nTER    1020      HOH A   1\nHETATM 1021  O   HOH B   1      -1.666  30.176  27.956  1.00  0.00           O  \nHETATM 1022  H1  HOH B   1      -2.142  30.517  27.199  1.00  0.00           H  \nHETATM 1023  H2  HOH B   1      -1.990  30.690  28.695  1.00  0.00           H  \nTER    1024      HOH B   1\nHETATM 1025  O   HOH C   1       7.894  45.887  37.137  1.00  0.00           O  \nHETATM 1026  H1  HOH C   1       7.787  45.014  36.760  1.00  0.00           H  \nHETATM 1027  H2  HOH C   1       8.508  45.762  37.862  1.00  0.00           H  \nTER    1028      HOH C   1\nHETATM 1029  O   HOH D   1      10.026  32.238  18.336  1.00  0.00           O  \nHETATM 1030  H1  HOH D   1       9.234  32.701  18.060  1.00  0.00           H  \nHETATM 1031  H2  HOH D   1       9.717  31.593  18.972  1.00  0.00           H  \nTER    1032      HOH D   1\nHETATM 1033  O   HOH E   1       6.672  45.366  21.976  1.00  0.00           O  \nHETATM 1034  H1  HOH E   1       6.022  45.013  21.369  1.00  0.00           H  \nHETATM 1035  H2  HOH E   1       6.161  45.877  22.604  1.00  0.00           H  \nTER    1036      HOH E   1\nHETATM 1037  O   HOH F   1       9.257  30.625  20.530  1.00  0.00           O  \nHETATM 1038  H1  HOH F   1       9.849  30.616  21.282  1.00  0.00           H  \nHETATM 1039  H2  HOH F   1       8.564  30.007  20.763  1.00  0.00           H  \nTER    1040      HOH F   1\nHETATM 1041  O   HOH G   1      -0.507  50.104  35.234  1.00  0.00           O  \nHETATM 1042  H1  HOH G   1       0.372  49.728  35.189  1.00  0.00           H  \nHETATM 1043  H2  HOH G   1      -0.417  50.972  34.841  1.00  0.00           H  \nTER    1044      HOH G   1\nHETATM 1045  O   HOH H   1      -3.796  46.977  20.565  1.00  0.00           O  \nHETATM 1046  H1  HOH H   1      -2.903  46.654  20.449  1.00  0.00           H  \nHETATM 1047  H2  HOH H   1      -4.344  46.336  20.111  1.00  0.00           H  \nTER    1048      HOH H   1\nHETATM 1049  O   HOH I   1      11.927  51.381  20.612  1.00  0.00           O  \nHETATM 1050  H1  HOH I   1      11.807  50.599  20.072  1.00  0.00           H  \nHETATM 1051  H2  HOH I   1      11.086  51.498  21.055  1.00  0.00           H  \nTER    1052      HOH I   1\nHETATM 1053  O   HOH J   1      13.774  46.971  37.316  1.00  0.00           O  \nHETATM 1054  H1  HOH J   1      13.279  47.698  37.694  1.00  0.00           H  \nHETATM 1055  H2  HOH J   1      13.371  46.187  37.689  1.00  0.00           H  \nTER    1056      HOH J   1\nHETATM 1057  O   HOH K   1       9.009  50.472  37.769  1.00  0.00           O  \nHETATM 1058  H1  HOH K   1       8.654  49.753  37.246  1.00  0.00           H  \nHETATM 1059  H2  HOH K   1       9.493  51.008  37.141  1.00  0.00           H  \nTER    1060      HOH K   1\nHETATM 1061  O   HOH L   1       0.844  47.989  32.451  1.00  0.00           O  \nHETATM 1062  H1  HOH L   1       1.443  48.735  32.482  1.00  0.00           H  \nHETATM 1063  H2  HOH L   1       1.377  47.243  32.727  1.00  0.00           H  \nTER    1064      HOH L   1\nHETATM 1065  O   HOH M   1       1.964  46.896  22.631  1.00  0.00           O  \nHETATM 1066  H1  HOH M   1       2.620  47.279  23.213  1.00  0.00           H  \nHETATM 1067  H2  HOH M   1       1.148  46.934  23.130  1.00  0.00           H  \nTER    1068      HOH M   1\nHETATM 1069  O   HOH N   1      -1.524  44.286  21.390  1.00  0.00           O  \nHETATM 1070  H1  HOH N   1      -2.171  44.125  22.078  1.00  0.00           H  \nHETATM 1071  H2  HOH N   1      -0.679  44.151  21.819  1.00  0.00           H  \nTER    1072      HOH N   1\nHETATM 1073  O   HOH O   1      20.485  50.215  29.972  1.00  0.00           O  \nHETATM 1074  H1  HOH O   1      21.063  49.482  29.764  1.00  0.00           H  \nHETATM 1075  H2  HOH O   1      20.715  50.891  29.334  1.00  0.00           H  \nTER    1076      HOH O   1\nHETATM 1077  O   HOH P   1       2.662  44.403  18.246  1.00  0.00           O  \nHETATM 1078  H1  HOH P   1       2.070  45.018  17.813  1.00  0.00           H  \nHETATM 1079  H2  HOH P   1       2.163  43.588  18.301  1.00  0.00           H  \nTER    1080      HOH P   1\nHETATM 1081  O   HOH Q   1      12.603  44.566  37.109  1.00  0.00           O  \nHETATM 1082  H1  HOH Q   1      12.670  43.855  36.472  1.00  0.00           H  \nHETATM 1083  H2  HOH Q   1      11.860  45.089  36.808  1.00  0.00           H  \nTER    1084      HOH Q   1\nHETATM 1085  O   HOH R   1       3.431  48.588  19.258  1.00  0.00           O  \nHETATM 1086  H1  HOH R   1       3.739  49.351  18.770  1.00  0.00           H  \nHETATM 1087  H2  HOH R   1       3.812  48.691  20.130  1.00  0.00           H  \nTER    1088      HOH R   1\nHETATM 1089  O   HOH S   1       6.542  48.977  32.984  1.00  0.00           O  \nHETATM 1090  H1  HOH S   1       5.794  48.706  33.516  1.00  0.00           H  \nHETATM 1091  H2  HOH S   1       6.680  48.250  32.376  1.00  0.00           H  \nTER    1092      HOH S   1\nHETATM 1093  O   HOH T   1      11.611  50.600  29.880  1.00  0.00           O  \nHETATM 1094  H1  HOH T   1      12.412  50.710  29.368  1.00  0.00           H  \nHETATM 1095  H2  HOH T   1      11.247  49.767  29.580  1.00  0.00           H  \nTER    1096      HOH T   1\nHETATM 1097  O   HOH U   1       5.333  30.937  21.614  1.00  0.00           O  \nHETATM 1098  H1  HOH U   1       5.017  31.170  20.741  1.00  0.00           H  \nHETATM 1099  H2  HOH U   1       5.585  30.017  21.541  1.00  0.00           H  \nTER    1100      HOH U   1\nHETATM 1101  O   HOH V   1       0.439  45.646  28.435  1.00  0.00           O  \nHETATM 1102  H1  HOH V   1       0.010  46.455  28.712  1.00  0.00           H  \nHETATM 1103  H2  HOH V   1       1.200  45.569  29.011  1.00  0.00           H  \nTER    1104      HOH V   1\nHETATM 1105  O   HOH W   1      -0.587  40.983  19.076  1.00  0.00           O  \nHETATM 1106  H1  HOH W   1      -0.198  41.641  18.500  1.00  0.00           H  \nHETATM 1107  H2  HOH W   1      -0.034  40.991  19.857  1.00  0.00           H  \nTER    1108      HOH W   1\nHETATM 1109  O   HOH X   1       0.345  43.280  24.795  1.00  0.00           O  \nHETATM 1110  H1  HOH X   1       0.397  43.661  23.919  1.00  0.00           H  \nHETATM 1111  H2  HOH X   1      -0.242  42.531  24.697  1.00  0.00           H  \nTER    1112      HOH X   1\nHETATM 1113  O   HOH Y   1       2.871  50.366  22.890  1.00  0.00           O  \nHETATM 1114  H1  HOH Y   1       3.480  49.883  22.332  1.00  0.00           H  \nHETATM 1115  H2  HOH Y   1       2.218  50.718  22.285  1.00  0.00           H  \nTER    1116      HOH Y   1\nHETATM 1117  O   HOH Z   1      -3.053  43.277  18.936  1.00  0.00           O  \nHETATM 1118  H1  HOH Z   1      -2.459  43.332  19.685  1.00  0.00           H  \nHETATM 1119  H2  HOH Z   1      -2.528  43.568  18.191  1.00  0.00           H  \nTER    1120      HOH Z   1\nHETATM 1121  O   HOH A   1       3.079  51.555  28.883  1.00  0.00           O  \nHETATM 1122  H1  HOH A   1       2.927  52.491  29.011  1.00  0.00           H  \nHETATM 1123  H2  HOH A   1       4.027  51.453  28.967  1.00  0.00           H  \nTER    1124      HOH A   1\nHETATM 1125  O   HOH B   1       6.135  51.004  27.381  1.00  0.00           O  \nHETATM 1126  H1  HOH B   1       6.227  51.703  28.029  1.00  0.00           H  \nHETATM 1127  H2  HOH B   1       5.697  51.422  26.639  1.00  0.00           H  \nTER    1128      HOH B   1\nHETATM 1129  O   HOH C   1       9.022  27.551  25.474  1.00  0.00           O  \nHETATM 1130  H1  HOH C   1       9.800  27.055  25.730  1.00  0.00           H  \nHETATM 1131  H2  HOH C   1       8.805  28.073  26.246  1.00  0.00           H  \nTER    1132      HOH C   1\nHETATM 1133  O   HOH D   1       7.072  47.771  17.811  1.00  0.00           O  \nHETATM 1134  H1  HOH D   1       7.037  46.887  17.445  1.00  0.00           H  \nHETATM 1135  H2  HOH D   1       6.600  48.312  17.178  1.00  0.00           H  \nTER    1136      HOH D   1\nHETATM 1137  O   HOH E   1      -3.219  40.242  18.299  1.00  0.00           O  \nHETATM 1138  H1  HOH E   1      -3.848  40.953  18.418  1.00  0.00           H  \nHETATM 1139  H2  HOH E   1      -2.368  40.642  18.476  1.00  0.00           H  \nTER    1140      HOH E   1\nHETATM 1141  O   HOH F   1      12.019  49.382  23.805  1.00  0.00           O  \nHETATM 1142  H1  HOH F   1      12.080  49.272  22.856  1.00  0.00           H  \nHETATM 1143  H2  HOH F   1      12.923  49.509  24.091  1.00  0.00           H  \nTER    1144      HOH F   1\nHETATM 1145  O   HOH G   1       0.531  48.061  26.771  1.00  0.00           O  \nHETATM 1146  H1  HOH G   1      -0.008  48.511  27.422  1.00  0.00           H  \nHETATM 1147  H2  HOH G   1       1.222  48.688  26.557  1.00  0.00           H  \nTER    1148      HOH G   1\nHETATM 1149  O   HOH H   1       7.796  48.758  27.091  1.00  0.00           O  \nHETATM 1150  H1  HOH H   1       8.080  48.752  26.177  1.00  0.00           H  \nHETATM 1151  H2  HOH H   1       7.116  49.431  27.127  1.00  0.00           H  \nTER    1152      HOH H   1\nHETATM 1153  O   HOH I   1      -0.526  47.848  30.040  1.00  0.00           O  \nHETATM 1154  H1  HOH I   1      -0.189  48.604  29.559  1.00  0.00           H  \nHETATM 1155  H2  HOH I   1      -0.016  47.831  30.850  1.00  0.00           H  \nTER    1156      HOH I   1\nHETATM 1157  O   HOH J   1      16.252  28.531  17.284  1.00  0.00           O  \nHETATM 1158  H1  HOH J   1      16.599  27.847  16.711  1.00  0.00           H  \nHETATM 1159  H2  HOH J   1      15.391  28.207  17.549  1.00  0.00           H  \nTER    1160      HOH J   1\nHETATM 1161  O   HOH K   1      -2.842  25.494  41.603  1.00  0.00           O  \nHETATM 1162  H1  HOH K   1      -2.057  25.565  41.060  1.00  0.00           H  \nHETATM 1163  H2  HOH K   1      -2.592  25.888  42.439  1.00  0.00           H  \nTER    1164      HOH K   1\nHETATM 1165  O   HOH L   1      -3.052  42.186  31.783  1.00  0.00           O  \nHETATM 1166  H1  HOH L   1      -3.656  41.752  32.386  1.00  0.00           H  \nHETATM 1167  H2  HOH L   1      -3.527  42.961  31.484  1.00  0.00           H  \nTER    1168      HOH L   1\nHETATM 1169  O   HOH M   1       2.905  49.677  25.851  1.00  0.00           O  \nHETATM 1170  H1  HOH M   1       3.005  50.585  26.136  1.00  0.00           H  \nHETATM 1171  H2  HOH M   1       3.035  49.707  24.903  1.00  0.00           H  \nTER    1172      HOH M   1\nHETATM 1173  O   HOH N   1       6.599  26.943  31.588  1.00  0.00           O  \nHETATM 1174  H1  HOH N   1       6.765  26.971  32.531  1.00  0.00           H  \nHETATM 1175  H2  HOH N   1       6.874  27.803  31.271  1.00  0.00           H  \nTER    1176      HOH N   1\nHETATM 1177  O   HOH O   1       7.475  44.719  41.206  1.00  0.00           O  \nHETATM 1178  H1  HOH O   1       8.206  44.830  40.598  1.00  0.00           H  \nHETATM 1179  H2  HOH O   1       7.646  45.351  41.904  1.00  0.00           H  \nTER    1180      HOH O   1\nHETATM 1181  O   HOH P   1      -0.503  44.872  34.067  1.00  0.00           O  \nHETATM 1182  H1  HOH P   1      -1.392  45.065  34.366  1.00  0.00           H  \nHETATM 1183  H2  HOH P   1       0.061  45.176  34.777  1.00  0.00           H  \nTER    1184      HOH P   1\nHETATM 1185  O   HOH Q   1      -0.728  47.445  24.046  1.00  0.00           O  \nHETATM 1186  H1  HOH Q   1      -0.415  48.202  24.542  1.00  0.00           H  \nHETATM 1187  H2  HOH Q   1      -1.682  47.522  24.067  1.00  0.00           H  \nTER    1188      HOH Q   1\nHETATM 1189  O   HOH R   1      11.603  48.753  35.875  1.00  0.00           O  \nHETATM 1190  H1  HOH R   1      12.172  48.611  35.119  1.00  0.00           H  \nHETATM 1191  H2  HOH R   1      11.167  47.912  36.009  1.00  0.00           H  \nTER    1192      HOH R   1\nHETATM 1193  O   HOH S   1       3.228  46.949  25.143  1.00  0.00           O  \nHETATM 1194  H1  HOH S   1       3.429  47.711  25.687  1.00  0.00           H  \nHETATM 1195  H2  HOH S   1       2.715  46.376  25.713  1.00  0.00           H  \nTER    1196      HOH S   1\nHETATM 1197  O   HOH T   1       7.436  51.594  32.392  1.00  0.00           O  \nHETATM 1198  H1  HOH T   1       8.060  51.524  31.670  1.00  0.00           H  \nHETATM 1199  H2  HOH T   1       7.436  50.725  32.795  1.00  0.00           H  \nTER    1200      HOH T   1\nHETATM 1201  O   HOH U   1       7.032  43.971  18.630  1.00  0.00           O  \nHETATM 1202  H1  HOH U   1       6.838  44.903  18.735  1.00  0.00           H  \nHETATM 1203  H2  HOH U   1       7.728  43.798  19.265  1.00  0.00           H  \nTER    1204      HOH U   1\nHETATM 1205  O   HOH V   1       9.810  25.942  17.713  1.00  0.00           O  \nHETATM 1206  H1  HOH V   1       9.029  25.719  17.207  1.00  0.00           H  \nHETATM 1207  H2  HOH V   1       9.815  26.899  17.739  1.00  0.00           H  \nTER    1208      HOH V   1\nHETATM 1209  O   HOH W   1      -0.660  26.082  20.440  1.00  0.00           O  \nHETATM 1210  H1  HOH W   1       0.295  26.149  20.434  1.00  0.00           H  \nHETATM 1211  H2  HOH W   1      -0.956  26.907  20.824  1.00  0.00           H  \nTER    1212      HOH W   1\nHETATM 1213  O   HOH X   1       5.587  46.954  23.840  1.00  0.00           O  \nHETATM 1214  H1  HOH X   1       4.983  46.981  24.582  1.00  0.00           H  \nHETATM 1215  H2  HOH X   1       6.377  47.392  24.158  1.00  0.00           H  \nTER    1216      HOH X   1\nHETATM 1217  O   HOH Y   1       5.972  41.375  37.660  1.00  0.00           O  \nHETATM 1218  H1  HOH Y   1       5.062  41.650  37.768  1.00  0.00           H  \nHETATM 1219  H2  HOH Y   1       5.915  40.466  37.366  1.00  0.00           H  \nTER    1220      HOH Y   1\nHETATM 1221  O   HOH Z   1       4.160  46.821  30.526  1.00  0.00           O  \nHETATM 1222  H1  HOH Z   1       5.058  46.831  30.857  1.00  0.00           H  \nHETATM 1223  H2  HOH Z   1       4.144  47.501  29.853  1.00  0.00           H  \nTER    1224      HOH Z   1\nHETATM 1225  O   HOH A   1      21.630  50.670  24.449  1.00  0.00           O  \nHETATM 1226  H1  HOH A   1      20.743  50.918  24.190  1.00  0.00           H  \nHETATM 1227  H2  HOH A   1      22.067  50.449  23.626  1.00  0.00           H  \nTER    1228      HOH A   1\nHETATM 1229  O   HOH B   1      20.642  46.327  34.890  1.00  0.00           O  \nHETATM 1230  H1  HOH B   1      21.486  46.591  34.523  1.00  0.00           H  \nHETATM 1231  H2  HOH B   1      20.868  45.735  35.608  1.00  0.00           H  \nTER    1232      HOH B   1\nHETATM 1233  O   HOH C   1       4.407  45.224  41.129  1.00  0.00           O  \nHETATM 1234  H1  HOH C   1       4.214  44.684  41.896  1.00  0.00           H  \nHETATM 1235  H2  HOH C   1       5.362  45.223  41.069  1.00  0.00           H  \nTER    1236      HOH C   1\nHETATM 1237  O   HOH D   1       9.117  26.804  28.401  1.00  0.00           O  \nHETATM 1238  H1  HOH D   1       9.740  26.104  28.598  1.00  0.00           H  \nHETATM 1239  H2  HOH D   1       8.273  26.463  28.696  1.00  0.00           H  \nTER    1240      HOH D   1\nHETATM 1241  O   HOH E   1      10.134  48.695  28.617  1.00  0.00           O  \nHETATM 1242  H1  HOH E   1       9.227  48.617  28.319  1.00  0.00           H  \nHETATM 1243  H2  HOH E   1      10.641  48.811  27.814  1.00  0.00           H  \nTER    1244      HOH E   1\nHETATM 1245  O   HOH F   1       4.132  48.700  40.466  1.00  0.00           O  \nHETATM 1246  H1  HOH F   1       4.797  48.200  39.993  1.00  0.00           H  \nHETATM 1247  H2  HOH F   1       4.121  49.554  40.032  1.00  0.00           H  \nTER    1248      HOH F   1\nHETATM 1249  O   HOH G   1       3.366  27.684  35.663  1.00  0.00           O  \nHETATM 1250  H1  HOH G   1       3.918  26.918  35.506  1.00  0.00           H  \nHETATM 1251  H2  HOH G   1       2.615  27.343  36.150  1.00  0.00           H  \nTER    1252      HOH G   1\nHETATM 1253  O   HOH H   1      12.832  37.782  17.063  1.00  0.00           O  \nHETATM 1254  H1  HOH H   1      12.310  38.537  16.790  1.00  0.00           H  \nHETATM 1255  H2  HOH H   1      12.398  37.464  17.855  1.00  0.00           H  \nTER    1256      HOH H   1\nHETATM 1257  O   HOH I   1       7.610  41.363  39.810  1.00  0.00           O  \nHETATM 1258  H1  HOH I   1       8.254  41.888  39.334  1.00  0.00           H  \nHETATM 1259  H2  HOH I   1       6.952  41.137  39.153  1.00  0.00           H  \nTER    1260      HOH I   1\nHETATM 1261  O   HOH J   1      15.192  40.197  21.472  1.00  0.00           O  \nHETATM 1262  H1  HOH J   1      15.345  41.040  21.898  1.00  0.00           H  \nHETATM 1263  H2  HOH J   1      14.988  39.599  22.191  1.00  0.00           H  \nTER    1264      HOH J   1\nHETATM 1265  O   HOH K   1      20.829  45.074  28.351  1.00  0.00           O  \nHETATM 1266  H1  HOH K   1      21.071  44.365  28.946  1.00  0.00           H  \nHETATM 1267  H2  HOH K   1      20.357  44.640  27.640  1.00  0.00           H  \nTER    1268      HOH K   1\nHETATM 1269  O   HOH L   1       2.999  46.041  33.756  1.00  0.00           O  \nHETATM 1270  H1  HOH L   1       3.617  45.344  33.537  1.00  0.00           H  \nHETATM 1271  H2  HOH L   1       2.441  45.663  34.436  1.00  0.00           H  \nTER    1272      HOH L   1\nHETATM 1273  O   HOH M   1      21.386  40.365  17.219  1.00  0.00           O  \nHETATM 1274  H1  HOH M   1      21.484  39.585  16.672  1.00  0.00           H  \nHETATM 1275  H2  HOH M   1      20.603  40.800  16.878  1.00  0.00           H  \nTER    1276      HOH M   1\nHETATM 1277  O   HOH N   1       4.524  29.677  17.726  1.00  0.00           O  \nHETATM 1278  H1  HOH N   1       4.615  30.320  18.429  1.00  0.00           H  \nHETATM 1279  H2  HOH N   1       3.703  29.223  17.920  1.00  0.00           H  \nTER    1280      HOH N   1\nHETATM 1281  O   HOH O   1       2.299  49.005  35.966  1.00  0.00           O  \nHETATM 1282  H1  HOH O   1       2.493  48.788  35.054  1.00  0.00           H  \nHETATM 1283  H2  HOH O   1       3.126  49.341  36.314  1.00  0.00           H  \nTER    1284      HOH O   1\nHETATM 1285  O   HOH P   1      -0.480  50.208  24.932  1.00  0.00           O  \nHETATM 1286  H1  HOH P   1      -0.078  51.044  25.167  1.00  0.00           H  \nHETATM 1287  H2  HOH P   1      -1.316  50.448  24.531  1.00  0.00           H  \nTER    1288      HOH P   1\nHETATM 1289  O   HOH Q   1      18.532  40.129  24.554  1.00  0.00           O  \nHETATM 1290  H1  HOH Q   1      17.906  40.165  25.277  1.00  0.00           H  \nHETATM 1291  H2  HOH Q   1      19.304  40.591  24.882  1.00  0.00           H  \nTER    1292      HOH Q   1\nHETATM 1293  O   HOH R   1      -2.322  44.559  29.472  1.00  0.00           O  \nHETATM 1294  H1  HOH R   1      -3.012  44.944  28.932  1.00  0.00           H  \nHETATM 1295  H2  HOH R   1      -1.829  44.002  28.869  1.00  0.00           H  \nTER    1296      HOH R   1\nHETATM 1297  O   HOH S   1       9.446  47.551  31.478  1.00  0.00           O  \nHETATM 1298  H1  HOH S   1       8.494  47.458  31.503  1.00  0.00           H  \nHETATM 1299  H2  HOH S   1       9.686  47.325  30.580  1.00  0.00           H  \nTER    1300      HOH S   1\nHETATM 1301  O   HOH T   1       9.122  46.865  22.230  1.00  0.00           O  \nHETATM 1302  H1  HOH T   1       9.652  47.305  21.565  1.00  0.00           H  \nHETATM 1303  H2  HOH T   1       8.569  46.260  21.735  1.00  0.00           H  \nTER    1304      HOH T   1\nHETATM 1305  O   HOH U   1      -0.393  31.680  17.771  1.00  0.00           O  \nHETATM 1306  H1  HOH U   1       0.169  32.347  17.376  1.00  0.00           H  \nHETATM 1307  H2  HOH U   1       0.142  31.298  18.467  1.00  0.00           H  \nTER    1308      HOH U   1\nHETATM 1309  O   HOH V   1      13.178  49.097  15.965  1.00  0.00           O  \nHETATM 1310  H1  HOH V   1      13.633  49.867  16.306  1.00  0.00           H  \nHETATM 1311  H2  HOH V   1      12.307  49.417  15.729  1.00  0.00           H  \nTER    1312      HOH V   1\nHETATM 1313  O   HOH W   1      -3.697  29.058  21.703  1.00  0.00           O  \nHETATM 1314  H1  HOH W   1      -3.842  28.144  21.461  1.00  0.00           H  \nHETATM 1315  H2  HOH W   1      -3.761  29.066  22.658  1.00  0.00           H  \nTER    1316      HOH W   1\nHETATM 1317  O   HOH X   1      16.070  25.790  42.181  1.00  0.00           O  \nHETATM 1318  H1  HOH X   1      15.473  25.552  42.890  1.00  0.00           H  \nHETATM 1319  H2  HOH X   1      16.462  26.616  42.464  1.00  0.00           H  \nTER    1320      HOH X   1\nHETATM 1321  O   HOH Y   1      22.542  48.647  38.013  1.00  0.00           O  \nHETATM 1322  H1  HOH Y   1      22.073  49.340  37.549  1.00  0.00           H  \nHETATM 1323  H2  HOH Y   1      23.408  48.629  37.606  1.00  0.00           H  \nTER    1324      HOH Y   1\nHETATM 1325  O   HOH Z   1       4.862  30.435  42.085  1.00  0.00           O  \nHETATM 1326  H1  HOH Z   1       4.732  30.334  43.028  1.00  0.00           H  \nHETATM 1327  H2  HOH Z   1       4.133  30.986  41.799  1.00  0.00           H  \nTER    1328      HOH Z   1\nHETATM 1329  O   HOH A   1       8.782  47.548  40.393  1.00  0.00           O  \nHETATM 1330  H1  HOH A   1       8.879  47.269  41.304  1.00  0.00           H  \nHETATM 1331  H2  HOH A   1       9.306  46.922  39.893  1.00  0.00           H  \nTER    1332      HOH A   1\nHETATM 1333  O   HOH B   1       0.914  51.929  17.947  1.00  0.00           O  \nHETATM 1334  H1  HOH B   1       0.997  51.208  18.571  1.00  0.00           H  \nHETATM 1335  H2  HOH B   1       0.094  52.360  18.185  1.00  0.00           H  \nTER    1336      HOH B   1\nHETATM 1337  O   HOH C   1       5.442  51.962  30.569  1.00  0.00           O  \nHETATM 1338  H1  HOH C   1       5.897  51.756  31.385  1.00  0.00           H  \nHETATM 1339  H2  HOH C   1       5.275  52.904  30.618  1.00  0.00           H  \nTER    1340      HOH C   1\nHETATM 1341  O   HOH D   1       3.161  41.494  36.600  1.00  0.00           O  \nHETATM 1342  H1  HOH D   1       2.587  41.236  37.322  1.00  0.00           H  \nHETATM 1343  H2  HOH D   1       3.160  42.451  36.624  1.00  0.00           H  \nTER    1344      HOH D   1\nHETATM 1345  O   HOH E   1      10.308  49.658  39.950  1.00  0.00           O  \nHETATM 1346  H1  HOH E   1       9.797  48.877  40.160  1.00  0.00           H  \nHETATM 1347  H2  HOH E   1       9.748  50.159  39.357  1.00  0.00           H  \nTER    1348      HOH E   1\nHETATM 1349  O   HOH F   1       9.704  42.496  38.212  1.00  0.00           O  \nHETATM 1350  H1  HOH F   1      10.267  41.886  38.689  1.00  0.00           H  \nHETATM 1351  H2  HOH F   1       9.595  42.097  37.349  1.00  0.00           H  \nTER    1352      HOH F   1\nHETATM 1353  O   HOH G   1       9.649  44.979  39.390  1.00  0.00           O  \nHETATM 1354  H1  HOH G   1       9.768  44.170  38.892  1.00  0.00           H  \nHETATM 1355  H2  HOH G   1      10.362  44.976  40.028  1.00  0.00           H  \nTER    1356      HOH G   1\nHETATM 1357  O   HOH H   1       1.684  46.363  16.500  1.00  0.00           O  \nHETATM 1358  H1  HOH H   1       0.779  46.402  16.190  1.00  0.00           H  \nHETATM 1359  H2  HOH H   1       2.035  47.236  16.326  1.00  0.00           H  \nTER    1360      HOH H   1\nHETATM 1361  O   HOH I   1      10.864  51.283  35.509  1.00  0.00           O  \nHETATM 1362  H1  HOH I   1      10.994  51.293  34.560  1.00  0.00           H  \nHETATM 1363  H2  HOH I   1      10.803  50.355  35.733  1.00  0.00           H  \nTER    1364      HOH I   1\nHETATM 1365  O   HOH J   1       4.626  28.053  40.795  1.00  0.00           O  \nHETATM 1366  H1  HOH J   1       4.258  27.311  41.274  1.00  0.00           H  \nHETATM 1367  H2  HOH J   1       4.635  28.768  41.431  1.00  0.00           H  \nTER    1368      HOH J   1\nHETATM 1369  O   HOH K   1      20.687  42.500  38.255  1.00  0.00           O  \nHETATM 1370  H1  HOH K   1      21.287  41.806  38.528  1.00  0.00           H  \nHETATM 1371  H2  HOH K   1      19.859  42.286  38.684  1.00  0.00           H  \nTER    1372      HOH K   1\nHETATM 1373  O   HOH L   1       6.803  46.574  31.614  1.00  0.00           O  \nHETATM 1374  H1  HOH L   1       7.217  45.825  32.042  1.00  0.00           H  \nHETATM 1375  H2  HOH L   1       7.055  46.495  30.694  1.00  0.00           H  \nTER    1376      HOH L   1\nHETATM 1377  O   HOH M   1      13.402  51.339  40.096  1.00  0.00           O  \nHETATM 1378  H1  HOH M   1      14.158  51.256  39.515  1.00  0.00           H  \nHETATM 1379  H2  HOH M   1      12.810  50.639  39.821  1.00  0.00           H  \nTER    1380      HOH M   1\nHETATM 1381  O   HOH N   1      12.549  50.527  32.389  1.00  0.00           O  \nHETATM 1382  H1  HOH N   1      12.147  50.478  31.522  1.00  0.00           H  \nHETATM 1383  H2  HOH N   1      12.860  51.429  32.459  1.00  0.00           H  \nTER    1384      HOH N   1\nHETATM 1385  O   HOH O   1      -3.936  51.191  38.821  1.00  0.00           O  \nHETATM 1386  H1  HOH O   1      -4.049  50.395  39.340  1.00  0.00           H  \nHETATM 1387  H2  HOH O   1      -2.996  51.231  38.644  1.00  0.00           H  \nTER    1388      HOH O   1\nHETATM 1389  O   HOH P   1       4.899  50.785  18.650  1.00  0.00           O  \nHETATM 1390  H1  HOH P   1       5.619  50.855  18.024  1.00  0.00           H  \nHETATM 1391  H2  HOH P   1       4.459  51.634  18.605  1.00  0.00           H  \nTER    1392      HOH P   1\nHETATM 1393  O   HOH Q   1       1.652  42.527  41.325  1.00  0.00           O  \nHETATM 1394  H1  HOH Q   1       1.543  41.620  41.613  1.00  0.00           H  \nHETATM 1395  H2  HOH Q   1       2.510  42.784  41.663  1.00  0.00           H  \nTER    1396      HOH Q   1\nHETATM 1397  O   HOH R   1       6.085  29.053  37.690  1.00  0.00           O  \nHETATM 1398  H1  HOH R   1       5.281  28.960  38.201  1.00  0.00           H  \nHETATM 1399  H2  HOH R   1       6.675  28.389  38.046  1.00  0.00           H  \nTER    1400      HOH R   1\nHETATM 1401  O   HOH S   1       1.035  47.505  20.359  1.00  0.00           O  \nHETATM 1402  H1  HOH S   1       1.650  47.836  19.704  1.00  0.00           H  \nHETATM 1403  H2  HOH S   1       1.554  47.434  21.161  1.00  0.00           H  \nTER    1404      HOH S   1\nHETATM 1405  O   HOH T   1      -2.650  49.367  18.148  1.00  0.00           O  \nHETATM 1406  H1  HOH T   1      -2.130  48.871  17.516  1.00  0.00           H  \nHETATM 1407  H2  HOH T   1      -2.212  49.221  18.986  1.00  0.00           H  \nTER    1408      HOH T   1\nHETATM 1409  O   HOH U   1      -2.558  46.420  38.192  1.00  0.00           O  \nHETATM 1410  H1  HOH U   1      -2.308  45.752  37.554  1.00  0.00           H  \nHETATM 1411  H2  HOH U   1      -1.872  47.084  38.126  1.00  0.00           H  \nTER    1412      HOH U   1\nHETATM 1413  O   HOH V   1       3.579  51.701  35.923  1.00  0.00           O  \nHETATM 1414  H1  HOH V   1       3.591  52.148  35.077  1.00  0.00           H  \nHETATM 1415  H2  HOH V   1       4.408  51.946  36.335  1.00  0.00           H  \nTER    1416      HOH V   1\nHETATM 1417  O   HOH W   1      22.667  48.909  19.756  1.00  0.00           O  \nHETATM 1418  H1  HOH W   1      23.434  48.795  19.195  1.00  0.00           H  \nHETATM 1419  H2  HOH W   1      22.319  49.767  19.515  1.00  0.00           H  \nTER    1420      HOH W   1\nHETATM 1421  O   HOH X   1      12.045  27.603  37.565  1.00  0.00           O  \nHETATM 1422  H1  HOH X   1      11.681  27.455  38.438  1.00  0.00           H  \nHETATM 1423  H2  HOH X   1      12.949  27.295  37.627  1.00  0.00           H  \nTER    1424      HOH X   1\nHETATM 1425  O   HOH Y   1       5.061  47.170  35.723  1.00  0.00           O  \nHETATM 1426  H1  HOH Y   1       4.397  47.090  35.038  1.00  0.00           H  \nHETATM 1427  H2  HOH Y   1       5.152  46.284  36.074  1.00  0.00           H  \nTER    1428      HOH Y   1\nHETATM 1429  O   HOH Z   1      15.507  44.898  36.203  1.00  0.00           O  \nHETATM 1430  H1  HOH Z   1      15.195  44.611  35.345  1.00  0.00           H  \nHETATM 1431  H2  HOH Z   1      14.710  45.087  36.698  1.00  0.00           H  \nTER    1432      HOH Z   1\nHETATM 1433  O   HOH A   1      13.268  41.224  41.773  1.00  0.00           O  \nHETATM 1434  H1  HOH A   1      13.941  41.904  41.731  1.00  0.00           H  \nHETATM 1435  H2  HOH A   1      12.460  41.698  41.968  1.00  0.00           H  \nTER    1436      HOH A   1\nHETATM 1437  O   HOH B   1       9.231  27.053  35.866  1.00  0.00           O  \nHETATM 1438  H1  HOH B   1      10.131  27.103  36.189  1.00  0.00           H  \nHETATM 1439  H2  HOH B   1       9.106  26.130  35.646  1.00  0.00           H  \nTER    1440      HOH B   1\nHETATM 1441  O   HOH C   1       6.302  47.513  39.032  1.00  0.00           O  \nHETATM 1442  H1  HOH C   1       6.462  47.998  38.222  1.00  0.00           H  \nHETATM 1443  H2  HOH C   1       7.162  47.448  39.447  1.00  0.00           H  \nTER    1444      HOH C   1\nHETATM 1445  O   HOH D   1      14.653  33.527  17.473  1.00  0.00           O  \nHETATM 1446  H1  HOH D   1      15.366  33.881  18.004  1.00  0.00           H  \nHETATM 1447  H2  HOH D   1      14.217  34.299  17.111  1.00  0.00           H  \nTER    1448      HOH D   1\nHETATM 1449  O   HOH E   1      11.298  42.760  42.262  1.00  0.00           O  \nHETATM 1450  H1  HOH E   1      11.407  43.191  43.110  1.00  0.00           H  \nHETATM 1451  H2  HOH E   1      10.711  42.026  42.440  1.00  0.00           H  \nTER    1452      HOH E   1\nHETATM 1453  O   HOH F   1       3.445  51.910  42.161  1.00  0.00           O  \nHETATM 1454  H1  HOH F   1       2.520  51.784  41.948  1.00  0.00           H  \nHETATM 1455  H2  HOH F   1       3.886  51.925  41.312  1.00  0.00           H  \nTER    1456      HOH F   1\nHETATM 1457  O   HOH G   1      10.619  46.409  19.644  1.00  0.00           O  \nHETATM 1458  H1  HOH G   1      10.534  46.266  18.701  1.00  0.00           H  \nHETATM 1459  H2  HOH G   1      11.189  45.701  19.943  1.00  0.00           H  \nTER    1460      HOH G   1\nHETATM 1461  O   HOH H   1      21.260  28.512  41.270  1.00  0.00           O  \nHETATM 1462  H1  HOH H   1      20.926  28.193  40.432  1.00  0.00           H  \nHETATM 1463  H2  HOH H   1      21.803  27.796  41.600  1.00  0.00           H  \nTER    1464      HOH H   1\nHETATM 1465  O   HOH I   1       5.252  26.675  17.041  1.00  0.00           O  \nHETATM 1466  H1  HOH I   1       4.568  26.005  17.017  1.00  0.00           H  \nHETATM 1467  H2  HOH I   1       4.839  27.453  16.668  1.00  0.00           H  \nTER    1468      HOH I   1\nHETATM 1469  O   HOH J   1       1.668  25.675  36.763  1.00  0.00           O  \nHETATM 1470  H1  HOH J   1       1.318  26.302  37.396  1.00  0.00           H  \nHETATM 1471  H2  HOH J   1       1.530  24.820  37.172  1.00  0.00           H  \nTER    1472      HOH J   1\nHETATM 1473  O   HOH K   1      10.837  33.295  21.221  1.00  0.00           O  \nHETATM 1474  H1  HOH K   1      11.529  33.174  20.571  1.00  0.00           H  \nHETATM 1475  H2  HOH K   1      10.566  32.406  21.450  1.00  0.00           H  \nTER    1476      HOH K   1\nHETATM 1477  O   HOH L   1       8.409  31.845  23.743  1.00  0.00           O  \nHETATM 1478  H1  HOH L   1       9.230  31.418  23.500  1.00  0.00           H  \nHETATM 1479  H2  HOH L   1       7.743  31.401  23.218  1.00  0.00           H  \nTER    1480      HOH L   1\nHETATM 1481  O   HOH M   1      21.127  40.616  22.281  1.00  0.00           O  \nHETATM 1482  H1  HOH M   1      20.238  40.843  22.007  1.00  0.00           H  \nHETATM 1483  H2  HOH M   1      21.658  41.369  22.023  1.00  0.00           H  \nTER    1484      HOH M   1\nHETATM 1485  O   HOH N   1      19.603  33.599  30.466  1.00  0.00           O  \nHETATM 1486  H1  HOH N   1      19.229  33.967  29.665  1.00  0.00           H  \nHETATM 1487  H2  HOH N   1      19.237  32.716  30.518  1.00  0.00           H  \nTER    1488      HOH N   1\nHETATM 1489  O   HOH O   1      20.008  33.410  26.999  1.00  0.00           O  \nHETATM 1490  H1  HOH O   1      19.431  33.984  26.496  1.00  0.00           H  \nHETATM 1491  H2  HOH O   1      20.669  33.123  26.369  1.00  0.00           H  \nTER    1492      HOH O   1\nHETATM 1493  O   HOH P   1      20.306  26.849  26.808  1.00  0.00           O  \nHETATM 1494  H1  HOH P   1      19.390  26.968  27.058  1.00  0.00           H  \nHETATM 1495  H2  HOH P   1      20.276  26.241  26.070  1.00  0.00           H  \nTER    1496      HOH P   1\nHETATM 1497  O   HOH Q   1      -3.773  32.227  33.449  1.00  0.00           O  \nHETATM 1498  H1  HOH Q   1      -3.055  32.831  33.638  1.00  0.00           H  \nHETATM 1499  H2  HOH Q   1      -4.116  32.520  32.605  1.00  0.00           H  \nTER    1500      HOH Q   1\nHETATM 1501  O   HOH R   1      15.554  37.523  17.574  1.00  0.00           O  \nHETATM 1502  H1  HOH R   1      14.611  37.618  17.439  1.00  0.00           H  \nHETATM 1503  H2  HOH R   1      15.727  36.596  17.407  1.00  0.00           H  \nTER    1504      HOH R   1\nHETATM 1505  O   HOH S   1      14.789  30.389  28.374  1.00  0.00           O  \nHETATM 1506  H1  HOH S   1      15.359  29.982  27.721  1.00  0.00           H  \nHETATM 1507  H2  HOH S   1      15.163  31.260  28.510  1.00  0.00           H  \nTER    1508      HOH S   1\nHETATM 1509  O   HOH T   1      12.036  32.516  16.526  1.00  0.00           O  \nHETATM 1510  H1  HOH T   1      11.369  32.351  17.193  1.00  0.00           H  \nHETATM 1511  H2  HOH T   1      12.623  33.156  16.927  1.00  0.00           H  \nTER    1512      HOH T   1\nHETATM 1513  O   HOH U   1      22.106  30.935  30.634  1.00  0.00           O  \nHETATM 1514  H1  HOH U   1      22.325  31.338  29.794  1.00  0.00           H  \nHETATM 1515  H2  HOH U   1      21.929  30.019  30.422  1.00  0.00           H  \nTER    1516      HOH U   1\nHETATM 1517  O   HOH V   1      21.617  32.469  21.365  1.00  0.00           O  \nHETATM 1518  H1  HOH V   1      21.052  31.706  21.244  1.00  0.00           H  \nHETATM 1519  H2  HOH V   1      21.930  32.678  20.484  1.00  0.00           H  \nTER    1520      HOH V   1\nHETATM 1521  O   HOH W   1      -3.371  48.390  29.124  1.00  0.00           O  \nHETATM 1522  H1  HOH W   1      -3.621  47.482  28.954  1.00  0.00           H  \nHETATM 1523  H2  HOH W   1      -2.474  48.335  29.453  1.00  0.00           H  \nTER    1524      HOH W   1\nHETATM 1525  O   HOH X   1      10.964  36.758  36.361  1.00  0.00           O  \nHETATM 1526  H1  HOH X   1      10.287  37.231  35.877  1.00  0.00           H  \nHETATM 1527  H2  HOH X   1      11.544  37.444  36.694  1.00  0.00           H  \nTER    1528      HOH X   1\nHETATM 1529  O   HOH Y   1      14.632  49.303  25.054  1.00  0.00           O  \nHETATM 1530  H1  HOH Y   1      15.004  50.115  24.712  1.00  0.00           H  \nHETATM 1531  H2  HOH Y   1      15.081  48.610  24.570  1.00  0.00           H  \nTER    1532      HOH Y   1\nHETATM 1533  O   HOH Z   1      12.874  32.505  19.752  1.00  0.00           O  \nHETATM 1534  H1  HOH Z   1      13.363  33.014  19.105  1.00  0.00           H  \nHETATM 1535  H2  HOH Z   1      12.951  31.599  19.452  1.00  0.00           H  \nTER    1536      HOH Z   1\nHETATM 1537  O   HOH A   1       1.782  29.415  33.828  1.00  0.00           O  \nHETATM 1538  H1  HOH A   1       2.296  28.914  34.460  1.00  0.00           H  \nHETATM 1539  H2  HOH A   1       1.276  28.755  33.353  1.00  0.00           H  \nTER    1540      HOH A   1\nHETATM 1541  O   HOH B   1      21.463  31.116  35.605  1.00  0.00           O  \nHETATM 1542  H1  HOH B   1      22.338  30.781  35.409  1.00  0.00           H  \nHETATM 1543  H2  HOH B   1      21.088  31.323  34.749  1.00  0.00           H  \nTER    1544      HOH B   1\nHETATM 1545  O   HOH C   1       6.674  32.634  36.780  1.00  0.00           O  \nHETATM 1546  H1  HOH C   1       7.514  32.292  36.472  1.00  0.00           H  \nHETATM 1547  H2  HOH C   1       6.795  32.754  37.722  1.00  0.00           H  \nTER    1548      HOH C   1\nHETATM 1549  O   HOH D   1       1.597  34.424  29.212  1.00  0.00           O  \nHETATM 1550  H1  HOH D   1       0.711  34.343  29.564  1.00  0.00           H  \nHETATM 1551  H2  HOH D   1       1.573  35.222  28.683  1.00  0.00           H  \nTER    1552      HOH D   1\nHETATM 1553  O   HOH E   1      19.617  42.113  33.786  1.00  0.00           O  \nHETATM 1554  H1  HOH E   1      19.176  42.745  33.218  1.00  0.00           H  \nHETATM 1555  H2  HOH E   1      19.009  41.979  34.513  1.00  0.00           H  \nTER    1556      HOH E   1\nHETATM 1557  O   HOH F   1      -2.591  50.881  26.955  1.00  0.00           O  \nHETATM 1558  H1  HOH F   1      -1.950  50.298  26.548  1.00  0.00           H  \nHETATM 1559  H2  HOH F   1      -3.393  50.361  27.003  1.00  0.00           H  \nTER    1560      HOH F   1\nHETATM 1561  O   HOH G   1      -3.275  28.936  17.972  1.00  0.00           O  \nHETATM 1562  H1  HOH G   1      -2.930  29.441  17.236  1.00  0.00           H  \nHETATM 1563  H2  HOH G   1      -4.214  28.869  17.798  1.00  0.00           H  \nTER    1564      HOH G   1\nHETATM 1565  O   HOH H   1      21.619  48.500  22.213  1.00  0.00           O  \nHETATM 1566  H1  HOH H   1      22.330  48.091  22.707  1.00  0.00           H  \nHETATM 1567  H2  HOH H   1      21.992  48.664  21.347  1.00  0.00           H  \nTER    1568      HOH H   1\nHETATM 1569  O   HOH I   1      15.995  37.661  20.706  1.00  0.00           O  \nHETATM 1570  H1  HOH I   1      16.454  37.821  21.530  1.00  0.00           H  \nHETATM 1571  H2  HOH I   1      15.721  38.529  20.411  1.00  0.00           H  \nTER    1572      HOH I   1\nHETATM 1573  O   HOH J   1      21.727  36.631  31.341  1.00  0.00           O  \nHETATM 1574  H1  HOH J   1      21.285  36.096  32.000  1.00  0.00           H  \nHETATM 1575  H2  HOH J   1      21.025  37.141  30.936  1.00  0.00           H  \nTER    1576      HOH J   1\nHETATM 1577  O   HOH K   1      -2.138  40.062  21.520  1.00  0.00           O  \nHETATM 1578  H1  HOH K   1      -2.760  40.012  20.793  1.00  0.00           H  \nHETATM 1579  H2  HOH K   1      -2.072  39.163  21.841  1.00  0.00           H  \nTER    1580      HOH K   1\nHETATM 1581  O   HOH L   1      17.792  44.986  17.069  1.00  0.00           O  \nHETATM 1582  H1  HOH L   1      18.570  44.582  17.452  1.00  0.00           H  \nHETATM 1583  H2  HOH L   1      17.552  45.678  17.685  1.00  0.00           H  \nTER    1584      HOH L   1\nHETATM 1585  O   HOH M   1      17.433  26.255  24.449  1.00  0.00           O  \nHETATM 1586  H1  HOH M   1      17.566  26.599  25.332  1.00  0.00           H  \nHETATM 1587  H2  HOH M   1      16.758  25.584  24.553  1.00  0.00           H  \nTER    1588      HOH M   1\nHETATM 1589  O   HOH N   1      19.529  30.544  27.681  1.00  0.00           O  \nHETATM 1590  H1  HOH N   1      19.931  31.380  27.443  1.00  0.00           H  \nHETATM 1591  H2  HOH N   1      20.270  29.964  27.859  1.00  0.00           H  \nTER    1592      HOH N   1\nHETATM 1593  O   HOH O   1      21.142  26.528  35.979  1.00  0.00           O  \nHETATM 1594  H1  HOH O   1      20.839  26.896  35.149  1.00  0.00           H  \nHETATM 1595  H2  HOH O   1      20.642  26.997  36.647  1.00  0.00           H  \nTER    1596      HOH O   1\nHETATM 1597  O   HOH P   1      18.698  49.412  32.135  1.00  0.00           O  \nHETATM 1598  H1  HOH P   1      19.486  49.325  32.671  1.00  0.00           H  \nHETATM 1599  H2  HOH P   1      19.025  49.566  31.249  1.00  0.00           H  \nTER    1600      HOH P   1\nHETATM 1601  O   HOH Q   1      -3.660  37.332  27.472  1.00  0.00           O  \nHETATM 1602  H1  HOH Q   1      -3.393  37.104  28.362  1.00  0.00           H  \nHETATM 1603  H2  HOH Q   1      -2.934  37.852  27.129  1.00  0.00           H  \nTER    1604      HOH Q   1\nHETATM 1605  O   HOH R   1      21.903  44.645  24.046  1.00  0.00           O  \nHETATM 1606  H1  HOH R   1      21.016  44.627  24.405  1.00  0.00           H  \nHETATM 1607  H2  HOH R   1      22.353  43.923  24.483  1.00  0.00           H  \nTER    1608      HOH R   1\nHETATM 1609  O   HOH S   1      12.820  35.068  22.966  1.00  0.00           O  \nHETATM 1610  H1  HOH S   1      12.452  34.601  22.215  1.00  0.00           H  \nHETATM 1611  H2  HOH S   1      13.724  34.760  23.021  1.00  0.00           H  \nTER    1612      HOH S   1\nHETATM 1613  O   HOH T   1      14.509  51.246  21.909  1.00  0.00           O  \nHETATM 1614  H1  HOH T   1      15.032  50.499  21.617  1.00  0.00           H  \nHETATM 1615  H2  HOH T   1      13.763  51.265  21.310  1.00  0.00           H  \nTER    1616      HOH T   1\nHETATM 1617  O   HOH U   1       0.959  51.312  21.114  1.00  0.00           O  \nHETATM 1618  H1  HOH U   1       0.519  52.136  21.326  1.00  0.00           H  \nHETATM 1619  H2  HOH U   1       0.246  50.694  20.954  1.00  0.00           H  \nTER    1620      HOH U   1\nHETATM 1621  O   HOH V   1      19.408  48.665  26.358  1.00  0.00           O  \nHETATM 1622  H1  HOH V   1      19.137  49.224  25.629  1.00  0.00           H  \nHETATM 1623  H2  HOH V   1      18.717  48.006  26.423  1.00  0.00           H  \nTER    1624      HOH V   1\nHETATM 1625  O   HOH W   1      21.904  52.013  31.866  1.00  0.00           O  \nHETATM 1626  H1  HOH W   1      21.706  51.118  31.592  1.00  0.00           H  \nHETATM 1627  H2  HOH W   1      21.052  52.392  32.082  1.00  0.00           H  \nTER    1628      HOH W   1\nHETATM 1629  O   HOH X   1      -3.803  31.834  23.155  1.00  0.00           O  \nHETATM 1630  H1  HOH X   1      -4.381  31.393  22.531  1.00  0.00           H  \nHETATM 1631  H2  HOH X   1      -3.125  32.236  22.611  1.00  0.00           H  \nTER    1632      HOH X   1\nHETATM 1633  O   HOH Y   1       1.577  27.138  29.967  1.00  0.00           O  \nHETATM 1634  H1  HOH Y   1       2.519  27.045  29.820  1.00  0.00           H  \nHETATM 1635  H2  HOH Y   1       1.286  27.744  29.286  1.00  0.00           H  \nTER    1636      HOH Y   1\nHETATM 1637  O   HOH Z   1       8.207  29.288  16.175  1.00  0.00           O  \nHETATM 1638  H1  HOH Z   1       7.615  30.011  15.968  1.00  0.00           H  \nHETATM 1639  H2  HOH Z   1       8.882  29.329  15.497  1.00  0.00           H  \nTER    1640      HOH Z   1\nHETATM 1641  O   HOH A   1      20.626  27.586  33.432  1.00  0.00           O  \nHETATM 1642  H1  HOH A   1      20.864  27.683  32.510  1.00  0.00           H  \nHETATM 1643  H2  HOH A   1      20.086  26.796  33.459  1.00  0.00           H  \nTER    1644      HOH A   1\nHETATM 1645  O   HOH B   1       4.716  29.898  35.294  1.00  0.00           O  \nHETATM 1646  H1  HOH B   1       5.323  29.595  35.970  1.00  0.00           H  \nHETATM 1647  H2  HOH B   1       3.981  29.286  35.341  1.00  0.00           H  \nTER    1648      HOH B   1\nHETATM 1649  O   HOH C   1      17.400  27.229  26.916  1.00  0.00           O  \nHETATM 1650  H1  HOH C   1      17.223  27.247  27.856  1.00  0.00           H  \nHETATM 1651  H2  HOH C   1      17.264  28.132  26.629  1.00  0.00           H  \nTER    1652      HOH C   1\nHETATM 1653  O   HOH D   1      18.283  31.723  32.327  1.00  0.00           O  \nHETATM 1654  H1  HOH D   1      17.742  32.317  32.847  1.00  0.00           H  \nHETATM 1655  H2  HOH D   1      17.847  31.683  31.476  1.00  0.00           H  \nTER    1656      HOH D   1\nHETATM 1657  O   HOH E   1       0.351  44.760  31.428  1.00  0.00           O  \nHETATM 1658  H1  HOH E   1      -0.559  44.958  31.207  1.00  0.00           H  \nHETATM 1659  H2  HOH E   1       0.403  44.892  32.374  1.00  0.00           H  \nTER    1660      HOH E   1\nHETATM 1661  O   HOH F   1      17.738  41.587  35.327  1.00  0.00           O  \nHETATM 1662  H1  HOH F   1      17.425  42.054  36.101  1.00  0.00           H  \nHETATM 1663  H2  HOH F   1      18.194  40.821  35.676  1.00  0.00           H  \nTER    1664      HOH F   1\nHETATM 1665  O   HOH G   1      20.755  38.303  33.925  1.00  0.00           O  \nHETATM 1666  H1  HOH G   1      21.497  37.791  33.602  1.00  0.00           H  \nHETATM 1667  H2  HOH G   1      21.155  39.018  34.421  1.00  0.00           H  \nTER    1668      HOH G   1\nHETATM 1669  O   HOH H   1      -1.138  29.589  37.737  1.00  0.00           O  \nHETATM 1670  H1  HOH H   1      -1.528  29.086  37.022  1.00  0.00           H  \nHETATM 1671  H2  HOH H   1      -0.834  30.397  37.322  1.00  0.00           H  \nTER    1672      HOH H   1\nHETATM 1673  O   HOH I   1      18.423  37.861  27.349  1.00  0.00           O  \nHETATM 1674  H1  HOH I   1      17.918  38.653  27.165  1.00  0.00           H  \nHETATM 1675  H2  HOH I   1      18.374  37.352  26.540  1.00  0.00           H  \nTER    1676      HOH I   1\nHETATM 1677  O   HOH J   1      -1.197  34.426  24.500  1.00  0.00           O  \nHETATM 1678  H1  HOH J   1      -0.774  34.628  25.335  1.00  0.00           H  \nHETATM 1679  H2  HOH J   1      -2.063  34.827  24.567  1.00  0.00           H  \nTER    1680      HOH J   1\nHETATM 1681  O   HOH K   1      -1.867  33.751  34.293  1.00  0.00           O  \nHETATM 1682  H1  HOH K   1      -1.016  34.155  34.461  1.00  0.00           H  \nHETATM 1683  H2  HOH K   1      -2.425  34.061  35.006  1.00  0.00           H  \nTER    1684      HOH K   1\nHETATM 1685  O   HOH L   1       2.232  29.004  19.201  1.00  0.00           O  \nHETATM 1686  H1  HOH L   1       1.879  29.868  19.415  1.00  0.00           H  \nHETATM 1687  H2  HOH L   1       1.542  28.585  18.686  1.00  0.00           H  \nTER    1688      HOH L   1\nHETATM 1689  O   HOH M   1       2.053  35.780  21.230  1.00  0.00           O  \nHETATM 1690  H1  HOH M   1       1.802  36.336  21.968  1.00  0.00           H  \nHETATM 1691  H2  HOH M   1       2.039  36.365  20.473  1.00  0.00           H  \nTER    1692      HOH M   1\nHETATM 1693  O   HOH N   1      12.118  41.444  16.541  1.00  0.00           O  \nHETATM 1694  H1  HOH N   1      11.236  41.106  16.694  1.00  0.00           H  \nHETATM 1695  H2  HOH N   1      12.557  40.752  16.046  1.00  0.00           H  \nTER    1696      HOH N   1\nHETATM 1697  O   HOH O   1      18.331  33.267  24.501  1.00  0.00           O  \nHETATM 1698  H1  HOH O   1      19.245  32.983  24.469  1.00  0.00           H  \nHETATM 1699  H2  HOH O   1      18.294  34.023  23.915  1.00  0.00           H  \nTER    1700      HOH O   1\nHETATM 1701  O   HOH P   1      20.553  36.397  23.104  1.00  0.00           O  \nHETATM 1702  H1  HOH P   1      20.861  36.844  23.892  1.00  0.00           H  \nHETATM 1703  H2  HOH P   1      21.265  36.505  22.473  1.00  0.00           H  \nTER    1704      HOH P   1\nHETATM 1705  O   HOH Q   1      13.346  49.985  27.460  1.00  0.00           O  \nHETATM 1706  H1  HOH Q   1      13.300  49.591  26.589  1.00  0.00           H  \nHETATM 1707  H2  HOH Q   1      14.043  50.638  27.392  1.00  0.00           H  \nTER    1708      HOH Q   1\nHETATM 1709  O   HOH R   1      16.612  31.224  21.817  1.00  0.00           O  \nHETATM 1710  H1  HOH R   1      16.856  30.438  22.305  1.00  0.00           H  \nHETATM 1711  H2  HOH R   1      17.447  31.599  21.534  1.00  0.00           H  \nTER    1712      HOH R   1\nHETATM 1713  O   HOH S   1       0.265  42.733  36.770  1.00  0.00           O  \nHETATM 1714  H1  HOH S   1      -0.276  43.129  36.087  1.00  0.00           H  \nHETATM 1715  H2  HOH S   1       0.951  43.380  36.938  1.00  0.00           H  \nTER    1716      HOH S   1\nHETATM 1717  O   HOH T   1      19.207  51.198  23.614  1.00  0.00           O  \nHETATM 1718  H1  HOH T   1      18.383  51.614  23.361  1.00  0.00           H  \nHETATM 1719  H2  HOH T   1      19.225  50.379  23.119  1.00  0.00           H  \nTER    1720      HOH T   1\nHETATM 1721  O   HOH U   1      11.237  28.609  27.839  1.00  0.00           O  \nHETATM 1722  H1  HOH U   1      12.097  28.201  27.736  1.00  0.00           H  \nHETATM 1723  H2  HOH U   1      10.743  27.995  28.383  1.00  0.00           H  \nTER    1724      HOH U   1\nHETATM 1725  O   HOH V   1      -2.579  32.310  30.029  1.00  0.00           O  \nHETATM 1726  H1  HOH V   1      -3.467  32.237  30.376  1.00  0.00           H  \nHETATM 1727  H2  HOH V   1      -2.286  33.180  30.299  1.00  0.00           H  \nTER    1728      HOH V   1\nHETATM 1729  O   HOH W   1      -2.630  43.831  24.025  1.00  0.00           O  \nHETATM 1730  H1  HOH W   1      -2.047  43.959  24.774  1.00  0.00           H  \nHETATM 1731  H2  HOH W   1      -3.420  43.441  24.399  1.00  0.00           H  \nTER    1732      HOH W   1\nHETATM 1733  O   HOH X   1       7.017  43.542  36.430  1.00  0.00           O  \nHETATM 1734  H1  HOH X   1       7.683  43.376  35.763  1.00  0.00           H  \nHETATM 1735  H2  HOH X   1       6.859  42.687  36.830  1.00  0.00           H  \nTER    1736      HOH X   1\nHETATM 1737  O   HOH Y   1      21.495  39.002  27.447  1.00  0.00           O  \nHETATM 1738  H1  HOH Y   1      21.199  39.730  27.993  1.00  0.00           H  \nHETATM 1739  H2  HOH Y   1      22.285  38.682  27.883  1.00  0.00           H  \nTER    1740      HOH Y   1\nHETATM 1741  O   HOH Z   1      20.954  27.614  21.765  1.00  0.00           O  \nHETATM 1742  H1  HOH Z   1      20.350  26.871  21.778  1.00  0.00           H  \nHETATM 1743  H2  HOH Z   1      21.824  27.215  21.770  1.00  0.00           H  \nTER    1744      HOH Z   1\nHETATM 1745  O   HOH A   1      15.584  40.667  31.959  1.00  0.00           O  \nHETATM 1746  H1  HOH A   1      16.399  40.172  31.872  1.00  0.00           H  \nHETATM 1747  H2  HOH A   1      15.866  41.553  32.187  1.00  0.00           H  \nTER    1748      HOH A   1\nHETATM 1749  O   HOH B   1       1.335  40.018  32.244  1.00  0.00           O  \nHETATM 1750  H1  HOH B   1       2.007  39.936  32.920  1.00  0.00           H  \nHETATM 1751  H2  HOH B   1       0.586  40.407  32.695  1.00  0.00           H  \nTER    1752      HOH B   1\nHETATM 1753  O   HOH C   1      20.671  29.285  24.203  1.00  0.00           O  \nHETATM 1754  H1  HOH C   1      20.832  28.625  23.529  1.00  0.00           H  \nHETATM 1755  H2  HOH C   1      21.535  29.462  24.577  1.00  0.00           H  \nTER    1756      HOH C   1\nHETATM 1757  O   HOH D   1      17.587  31.458  29.592  1.00  0.00           O  \nHETATM 1758  H1  HOH D   1      16.911  31.953  29.129  1.00  0.00           H  \nHETATM 1759  H2  HOH D   1      18.205  31.199  28.908  1.00  0.00           H  \nTER    1760      HOH D   1\nHETATM 1761  O   HOH E   1      21.647  37.463  25.272  1.00  0.00           O  \nHETATM 1762  H1  HOH E   1      21.286  38.011  25.969  1.00  0.00           H  \nHETATM 1763  H2  HOH E   1      22.446  37.093  25.647  1.00  0.00           H  \nTER    1764      HOH E   1\nHETATM 1765  O   HOH F   1      20.305  34.470  40.242  1.00  0.00           O  \nHETATM 1766  H1  HOH F   1      19.629  33.929  39.835  1.00  0.00           H  \nHETATM 1767  H2  HOH F   1      21.087  33.918  40.242  1.00  0.00           H  \nTER    1768      HOH F   1\nHETATM 1769  O   HOH G   1      12.952  43.920  17.547  1.00  0.00           O  \nHETATM 1770  H1  HOH G   1      12.888  43.029  17.203  1.00  0.00           H  \nHETATM 1771  H2  HOH G   1      13.579  44.355  16.970  1.00  0.00           H  \nTER    1772      HOH G   1\nHETATM 1773  O   HOH H   1      19.015  39.071  35.826  1.00  0.00           O  \nHETATM 1774  H1  HOH H   1      19.727  38.770  35.261  1.00  0.00           H  \nHETATM 1775  H2  HOH H   1      18.273  38.512  35.595  1.00  0.00           H  \nTER    1776      HOH H   1\nHETATM 1777  O   HOH I   1      19.425  25.968  30.091  1.00  0.00           O  \nHETATM 1778  H1  HOH I   1      19.870  25.261  29.624  1.00  0.00           H  \nHETATM 1779  H2  HOH I   1      20.115  26.604  30.278  1.00  0.00           H  \nTER    1780      HOH I   1\nHETATM 1781  O   HOH J   1       4.680  44.424  20.560  1.00  0.00           O  \nHETATM 1782  H1  HOH J   1       4.611  43.494  20.776  1.00  0.00           H  \nHETATM 1783  H2  HOH J   1       4.040  44.556  19.861  1.00  0.00           H  \nTER    1784      HOH J   1\nHETATM 1785  O   HOH K   1      -2.919  37.697  19.379  1.00  0.00           O  \nHETATM 1786  H1  HOH K   1      -3.067  38.359  18.704  1.00  0.00           H  \nHETATM 1787  H2  HOH K   1      -3.589  37.033  19.215  1.00  0.00           H  \nTER    1788      HOH K   1\nHETATM 1789  O   HOH L   1      21.427  28.021  31.016  1.00  0.00           O  \nHETATM 1790  H1  HOH L   1      22.326  27.697  31.080  1.00  0.00           H  \nHETATM 1791  H2  HOH L   1      21.279  28.134  30.077  1.00  0.00           H  \nTER    1792      HOH L   1\nHETATM 1793  O   HOH M   1      22.203  35.269  28.287  1.00  0.00           O  \nHETATM 1794  H1  HOH M   1      22.519  34.601  28.896  1.00  0.00           H  \nHETATM 1795  H2  HOH M   1      21.266  35.337  28.471  1.00  0.00           H  \nTER    1796      HOH M   1\nHETATM 1797  O   HOH N   1      19.187  33.933  19.371  1.00  0.00           O  \nHETATM 1798  H1  HOH N   1      19.381  34.869  19.316  1.00  0.00           H  \nHETATM 1799  H2  HOH N   1      19.604  33.649  20.185  1.00  0.00           H  \nTER    1800      HOH N   1\nHETATM 1801  O   HOH O   1      14.563  27.266  20.373  1.00  0.00           O  \nHETATM 1802  H1  HOH O   1      14.338  26.531  20.943  1.00  0.00           H  \nHETATM 1803  H2  HOH O   1      15.519  27.306  20.400  1.00  0.00           H  \nTER    1804      HOH O   1\nHETATM 1805  O   HOH P   1      16.076  33.866  25.932  1.00  0.00           O  \nHETATM 1806  H1  HOH P   1      16.076  34.750  25.565  1.00  0.00           H  \nHETATM 1807  H2  HOH P   1      16.780  33.414  25.469  1.00  0.00           H  \nTER    1808      HOH P   1\nHETATM 1809  O   HOH Q   1      18.858  36.869  42.018  1.00  0.00           O  \nHETATM 1810  H1  HOH Q   1      18.930  36.055  41.519  1.00  0.00           H  \nHETATM 1811  H2  HOH Q   1      19.750  37.047  42.317  1.00  0.00           H  \nTER    1812      HOH Q   1\nHETATM 1813  O   HOH R   1      18.509  43.322  29.594  1.00  0.00           O  \nHETATM 1814  H1  HOH R   1      18.645  44.056  30.192  1.00  0.00           H  \nHETATM 1815  H2  HOH R   1      17.662  43.499  29.184  1.00  0.00           H  \nTER    1816      HOH R   1\nHETATM 1817  O   HOH S   1      14.720  44.425  40.548  1.00  0.00           O  \nHETATM 1818  H1  HOH S   1      14.960  43.799  41.232  1.00  0.00           H  \nHETATM 1819  H2  HOH S   1      15.519  44.927  40.391  1.00  0.00           H  \nTER    1820      HOH S   1\nHETATM 1821  O   HOH T   1      -2.855  37.283  22.332  1.00  0.00           O  \nHETATM 1822  H1  HOH T   1      -3.028  37.068  21.415  1.00  0.00           H  \nHETATM 1823  H2  HOH T   1      -2.996  36.461  22.802  1.00  0.00           H  \nTER    1824      HOH T   1\nHETATM 1825  O   HOH U   1      14.711  31.734  24.812  1.00  0.00           O  \nHETATM 1826  H1  HOH U   1      14.853  31.804  23.868  1.00  0.00           H  \nHETATM 1827  H2  HOH U   1      15.025  32.566  25.165  1.00  0.00           H  \nTER    1828      HOH U   1\nHETATM 1829  O   HOH V   1      13.749  27.616  27.565  1.00  0.00           O  \nHETATM 1830  H1  HOH V   1      13.702  27.424  28.502  1.00  0.00           H  \nHETATM 1831  H2  HOH V   1      13.608  26.771  27.140  1.00  0.00           H  \nTER    1832      HOH V   1\nHETATM 1833  O   HOH W   1      19.254  31.544  18.152  1.00  0.00           O  \nHETATM 1834  H1  HOH W   1      19.284  32.462  18.421  1.00  0.00           H  \nHETATM 1835  H2  HOH W   1      18.743  31.547  17.343  1.00  0.00           H  \nTER    1836      HOH W   1\nHETATM 1837  O   HOH X   1       4.089  26.428  22.927  1.00  0.00           O  \nHETATM 1838  H1  HOH X   1       4.552  26.903  23.617  1.00  0.00           H  \nHETATM 1839  H2  HOH X   1       3.778  27.111  22.333  1.00  0.00           H  \nTER    1840      HOH X   1\nHETATM 1841  O   HOH Y   1      22.229  31.701  18.739  1.00  0.00           O  \nHETATM 1842  H1  HOH Y   1      22.942  31.975  18.162  1.00  0.00           H  \nHETATM 1843  H2  HOH Y   1      21.642  31.200  18.173  1.00  0.00           H  \nTER    1844      HOH Y   1\nHETATM 1845  O   HOH Z   1      21.578  46.314  17.398  1.00  0.00           O  \nHETATM 1846  H1  HOH Z   1      21.666  46.499  16.463  1.00  0.00           H  \nHETATM 1847  H2  HOH Z   1      22.390  45.864  17.631  1.00  0.00           H  \nTER    1848      HOH Z   1\nHETATM 1849  O   HOH A   1      17.108  29.883  33.621  1.00  0.00           O  \nHETATM 1850  H1  HOH A   1      16.748  29.405  32.874  1.00  0.00           H  \nHETATM 1851  H2  HOH A   1      17.690  30.535  33.230  1.00  0.00           H  \nTER    1852      HOH A   1\nHETATM 1853  O   HOH B   1      17.586  38.706  40.120  1.00  0.00           O  \nHETATM 1854  H1  HOH B   1      17.787  37.840  40.476  1.00  0.00           H  \nHETATM 1855  H2  HOH B   1      17.445  38.555  39.186  1.00  0.00           H  \nTER    1856      HOH B   1\nHETATM 1857  O   HOH C   1      20.550  41.950  42.386  1.00  0.00           O  \nHETATM 1858  H1  HOH C   1      20.665  42.836  42.044  1.00  0.00           H  \nHETATM 1859  H2  HOH C   1      20.204  42.077  43.270  1.00  0.00           H  \nTER    1860      HOH C   1\nHETATM 1861  O   HOH D   1      17.930  38.860  18.250  1.00  0.00           O  \nHETATM 1862  H1  HOH D   1      17.940  39.206  17.358  1.00  0.00           H  \nHETATM 1863  H2  HOH D   1      17.122  38.349  18.300  1.00  0.00           H  \nTER    1864      HOH D   1\nHETATM 1865  O   HOH E   1      -0.917  35.755  38.786  1.00  0.00           O  \nHETATM 1866  H1  HOH E   1      -1.508  36.323  38.291  1.00  0.00           H  \nHETATM 1867  H2  HOH E   1      -0.334  36.359  39.246  1.00  0.00           H  \nTER    1868      HOH E   1\nHETATM 1869  O   HOH F   1      17.360  30.499  40.274  1.00  0.00           O  \nHETATM 1870  H1  HOH F   1      16.516  30.763  40.639  1.00  0.00           H  \nHETATM 1871  H2  HOH F   1      17.422  29.563  40.464  1.00  0.00           H  \nTER    1872      HOH F   1\nHETATM 1873  O   HOH G   1      22.710  31.078  41.805  1.00  0.00           O  \nHETATM 1874  H1  HOH G   1      21.987  30.465  41.672  1.00  0.00           H  \nHETATM 1875  H2  HOH G   1      23.489  30.593  41.532  1.00  0.00           H  \nTER    1876      HOH G   1\nHETATM 1877  O   HOH H   1      -1.185  32.571  39.196  1.00  0.00           O  \nHETATM 1878  H1  HOH H   1      -0.918  33.383  38.764  1.00  0.00           H  \nHETATM 1879  H2  HOH H   1      -1.730  32.123  38.548  1.00  0.00           H  \nTER    1880      HOH H   1\nHETATM 1881  O   HOH I   1      18.599  49.970  16.685  1.00  0.00           O  \nHETATM 1882  H1  HOH I   1      17.823  49.898  17.241  1.00  0.00           H  \nHETATM 1883  H2  HOH I   1      18.672  49.114  16.263  1.00  0.00           H  \nTER    1884      HOH I   1\nHETATM 1885  O   HOH J   1      -0.599  44.197  40.657  1.00  0.00           O  \nHETATM 1886  H1  HOH J   1      -1.224  43.473  40.681  1.00  0.00           H  \nHETATM 1887  H2  HOH J   1       0.249  43.790  40.834  1.00  0.00           H  \nTER    1888      HOH J   1\nHETATM 1889  O   HOH K   1      15.723  44.758  20.658  1.00  0.00           O  \nHETATM 1890  H1  HOH K   1      15.994  44.000  20.141  1.00  0.00           H  \nHETATM 1891  H2  HOH K   1      15.738  45.488  20.039  1.00  0.00           H  \nTER    1892      HOH K   1\nHETATM 1893  O   HOH L   1      18.353  32.848  39.100  1.00  0.00           O  \nHETATM 1894  H1  HOH L   1      18.799  32.729  38.262  1.00  0.00           H  \nHETATM 1895  H2  HOH L   1      18.151  31.959  39.393  1.00  0.00           H  \nTER    1896      HOH L   1\nHETATM 1897  O   HOH M   1      -2.120  30.247  20.093  1.00  0.00           O  \nHETATM 1898  H1  HOH M   1      -2.441  29.830  19.293  1.00  0.00           H  \nHETATM 1899  H2  HOH M   1      -2.748  29.988  20.767  1.00  0.00           H  \nTER    1900      HOH M   1\nHETATM 1901  O   HOH N   1      20.422  49.042  34.234  1.00  0.00           O  \nHETATM 1902  H1  HOH N   1      20.442  48.256  34.781  1.00  0.00           H  \nHETATM 1903  H2  HOH N   1      21.315  49.123  33.898  1.00  0.00           H  \nTER    1904      HOH N   1\nHETATM 1905  O   HOH O   1       2.328  47.030  41.245  1.00  0.00           O  \nHETATM 1906  H1  HOH O   1       2.789  47.808  40.932  1.00  0.00           H  \nHETATM 1907  H2  HOH O   1       2.967  46.322  41.159  1.00  0.00           H  \nTER    1908      HOH O   1\nHETATM 1909  O   HOH P   1      20.342  44.008  17.632  1.00  0.00           O  \nHETATM 1910  H1  HOH P   1      20.700  44.873  17.431  1.00  0.00           H  \nHETATM 1911  H2  HOH P   1      20.994  43.606  18.207  1.00  0.00           H  \nTER    1912      HOH P   1\nHETATM 1913  O   HOH Q   1      21.411  40.635  35.105  1.00  0.00           O  \nHETATM 1914  H1  HOH Q   1      20.847  40.839  35.852  1.00  0.00           H  \nHETATM 1915  H2  HOH Q   1      21.194  41.300  34.452  1.00  0.00           H  \nTER    1916      HOH Q   1\nHETATM 1917  O   HOH R   1      13.755  31.444  37.731  1.00  0.00           O  \nHETATM 1918  H1  HOH R   1      14.093  30.550  37.781  1.00  0.00           H  \nHETATM 1919  H2  HOH R   1      14.406  31.919  37.214  1.00  0.00           H  \nTER    1920      HOH R   1\nHETATM 1921  O   HOH S   1      16.234  32.101  36.543  1.00  0.00           O  \nHETATM 1922  H1  HOH S   1      16.577  31.239  36.308  1.00  0.00           H  \nHETATM 1923  H2  HOH S   1      17.013  32.636  36.695  1.00  0.00           H  \nTER    1924      HOH S   1\nHETATM 1925  O   HOH T   1      14.046  33.124  39.988  1.00  0.00           O  \nHETATM 1926  H1  HOH T   1      13.924  32.175  39.958  1.00  0.00           H  \nHETATM 1927  H2  HOH T   1      13.182  33.470  40.214  1.00  0.00           H  \nTER    1928      HOH T   1\nHETATM 1929  O   HOH U   1      17.730  41.182  41.286  1.00  0.00           O  \nHETATM 1930  H1  HOH U   1      18.408  41.002  41.937  1.00  0.00           H  \nHETATM 1931  H2  HOH U   1      17.553  40.332  40.882  1.00  0.00           H  \nTER    1932      HOH U   1\nHETATM 1933  O   HOH V   1      20.167  30.206  20.937  1.00  0.00           O  \nHETATM 1934  H1  HOH V   1      20.051  30.022  20.005  1.00  0.00           H  \nHETATM 1935  H2  HOH V   1      20.414  29.364  21.319  1.00  0.00           H  \nTER    1936      HOH V   1\nHETATM 1937  O   HOH W   1      -1.580  41.461  40.578  1.00  0.00           O  \nHETATM 1938  H1  HOH W   1      -2.341  40.968  40.273  1.00  0.00           H  \nHETATM 1939  H2  HOH W   1      -0.827  40.951  40.279  1.00  0.00           H  \nTER    1940      HOH W   1\nHETATM 1941  O   HOH X   1      16.169  34.703  39.275  1.00  0.00           O  \nHETATM 1942  H1  HOH X   1      16.967  34.175  39.322  1.00  0.00           H  \nHETATM 1943  H2  HOH X   1      15.470  34.104  39.539  1.00  0.00           H  \nTER    1944      HOH X   1\nHETATM 1945  O   HOH Y   1      19.772  38.220  30.059  1.00  0.00           O  \nHETATM 1946  H1  HOH Y   1      19.473  38.127  29.155  1.00  0.00           H  \nHETATM 1947  H2  HOH Y   1      20.032  39.138  30.133  1.00  0.00           H  \nTER    1948      HOH Y   1\nHETATM 1949  O   HOH Z   1      -3.713  32.673  40.902  1.00  0.00           O  \nHETATM 1950  H1  HOH Z   1      -2.833  32.807  40.548  1.00  0.00           H  \nHETATM 1951  H2  HOH Z   1      -4.156  33.511  40.767  1.00  0.00           H  \nTER    1952      HOH Z   1\nHETATM 1953  O   HOH A   1      17.449  29.712  26.103  1.00  0.00           O  \nHETATM 1954  H1  HOH A   1      18.337  29.930  26.386  1.00  0.00           H  \nHETATM 1955  H2  HOH A   1      17.123  30.516  25.697  1.00  0.00           H  \nTER    1956      HOH A   1\nHETATM 1957  O   HOH B   1       1.444  37.055  23.414  1.00  0.00           O  \nHETATM 1958  H1  HOH B   1       1.011  36.422  23.988  1.00  0.00           H  \nHETATM 1959  H2  HOH B   1       1.741  37.748  24.003  1.00  0.00           H  \nTER    1960      HOH B   1\nHETATM 1961  O   HOH C   1       2.218  31.538  28.856  1.00  0.00           O  \nHETATM 1962  H1  HOH C   1       2.928  31.425  28.224  1.00  0.00           H  \nHETATM 1963  H2  HOH C   1       2.146  32.485  28.970  1.00  0.00           H  \nTER    1964      HOH C   1\nHETATM 1965  O   HOH D   1      22.044  39.718  41.248  1.00  0.00           O  \nHETATM 1966  H1  HOH D   1      22.086  39.096  41.975  1.00  0.00           H  \nHETATM 1967  H2  HOH D   1      21.520  40.444  41.585  1.00  0.00           H  \nTER    1968      HOH D   1\nHETATM 1969  O   HOH E   1      -3.325  35.265  29.764  1.00  0.00           O  \nHETATM 1970  H1  HOH E   1      -4.007  35.280  30.436  1.00  0.00           H  \nHETATM 1971  H2  HOH E   1      -3.609  34.588  29.149  1.00  0.00           H  \nTER    1972      HOH E   1\nHETATM 1973  O   HOH F   1      18.173  39.446  31.984  1.00  0.00           O  \nHETATM 1974  H1  HOH F   1      18.814  38.878  31.556  1.00  0.00           H  \nHETATM 1975  H2  HOH F   1      18.656  39.850  32.705  1.00  0.00           H  \nTER    1976      HOH F   1\nHETATM 1977  O   HOH G   1      -0.697  41.408  33.308  1.00  0.00           O  \nHETATM 1978  H1  HOH G   1      -0.546  42.235  33.765  1.00  0.00           H  \nHETATM 1979  H2  HOH G   1      -1.510  41.547  32.822  1.00  0.00           H  \nTER    1980      HOH G   1\nHETATM 1981  O   HOH H   1      20.280  29.215  36.989  1.00  0.00           O  \nHETATM 1982  H1  HOH H   1      20.754  29.975  36.650  1.00  0.00           H  \nHETATM 1983  H2  HOH H   1      20.708  29.018  37.822  1.00  0.00           H  \nTER    1984      HOH H   1\nHETATM 1985  O   HOH I   1       0.080  39.815  35.962  1.00  0.00           O  \nHETATM 1986  H1  HOH I   1      -0.510  40.545  36.147  1.00  0.00           H  \nHETATM 1987  H2  HOH I   1       0.036  39.706  35.012  1.00  0.00           H  \nTER    1988      HOH I   1\nHETATM 1989  O   HOH J   1      15.519  34.594  35.831  1.00  0.00           O  \nHETATM 1990  H1  HOH J   1      15.136  35.397  36.184  1.00  0.00           H  \nHETATM 1991  H2  HOH J   1      15.278  33.915  36.462  1.00  0.00           H  \nTER    1992      HOH J   1\nHETATM 1993  O   HOH K   1      13.382  27.741  30.129  1.00  0.00           O  \nHETATM 1994  H1  HOH K   1      13.623  27.183  30.869  1.00  0.00           H  \nHETATM 1995  H2  HOH K   1      13.162  28.584  30.526  1.00  0.00           H  \nTER    1996      HOH K   1\nHETATM 1997  O   HOH L   1       1.627  39.816  42.003  1.00  0.00           O  \nHETATM 1998  H1  HOH L   1       1.017  39.181  41.626  1.00  0.00           H  \nHETATM 1999  H2  HOH L   1       2.434  39.321  42.140  1.00  0.00           H  \nTER    2000      HOH L   1\nHETATM 2001  O   HOH M   1       2.342  29.145  39.727  1.00  0.00           O  \nHETATM 2002  H1  HOH M   1       3.198  28.933  40.100  1.00  0.00           H  \nHETATM 2003  H2  HOH M   1       1.793  29.344  40.485  1.00  0.00           H  \nTER    2004      HOH M   1\nHETATM 2005  O   HOH N   1      -3.183  39.623  39.391  1.00  0.00           O  \nHETATM 2006  H1  HOH N   1      -4.122  39.447  39.447  1.00  0.00           H  \nHETATM 2007  H2  HOH N   1      -2.853  38.970  38.774  1.00  0.00           H  \nTER    2008      HOH N   1\nHETATM 2009  O   HOH O   1      -1.780  38.004  37.538  1.00  0.00           O  \nHETATM 2010  H1  HOH O   1      -1.056  38.548  37.229  1.00  0.00           H  \nHETATM 2011  H2  HOH O   1      -2.515  38.238  36.972  1.00  0.00           H  \nTER    2012      HOH O   1\nHETATM 2013  O   HOH P   1       0.805  33.705  16.227  1.00  0.00           O  \nHETATM 2014  H1  HOH P   1       0.716  34.641  16.406  1.00  0.00           H  \nHETATM 2015  H2  HOH P   1       1.746  33.539  16.282  1.00  0.00           H  \nTER    2016      HOH P   1\nHETATM 2017  O   HOH Q   1      -0.255  30.793  30.589  1.00  0.00           O  \nHETATM 2018  H1  HOH Q   1       0.453  31.246  30.130  1.00  0.00           H  \nHETATM 2019  H2  HOH Q   1      -0.987  31.410  30.570  1.00  0.00           H  \nTER    2020      HOH Q   1\nHETATM 2021  O   HOH R   1      15.806  42.562  37.532  1.00  0.00           O  \nHETATM 2022  H1  HOH R   1      16.441  42.757  38.221  1.00  0.00           H  \nHETATM 2023  H2  HOH R   1      15.573  43.417  37.170  1.00  0.00           H  \nTER    2024      HOH R   1\nHETATM 2025  O   HOH S   1      -2.124  30.058  33.228  1.00  0.00           O  \nHETATM 2026  H1  HOH S   1      -2.566  29.612  32.505  1.00  0.00           H  \nHETATM 2027  H2  HOH S   1      -2.753  30.716  33.524  1.00  0.00           H  \nTER    2028      HOH S   1\nHETATM 2029  O   HOH T   1      -0.048  28.638  21.407  1.00  0.00           O  \nHETATM 2030  H1  HOH T   1       0.906  28.715  21.440  1.00  0.00           H  \nHETATM 2031  H2  HOH T   1      -0.331  29.383  20.877  1.00  0.00           H  \nTER    2032      HOH T   1\nHETATM 2033  O   HOH U   1      18.476  35.855  37.630  1.00  0.00           O  \nHETATM 2034  H1  HOH U   1      17.887  36.605  37.540  1.00  0.00           H  \nHETATM 2035  H2  HOH U   1      17.929  35.165  38.007  1.00  0.00           H  \nTER    2036      HOH U   1\nHETATM 2037  O   HOH V   1      14.682  51.200  16.583  1.00  0.00           O  \nHETATM 2038  H1  HOH V   1      14.779  52.102  16.889  1.00  0.00           H  \nHETATM 2039  H2  HOH V   1      15.363  51.099  15.917  1.00  0.00           H  \nTER    2040      HOH V   1\nHETATM 2041  O   HOH W   1      20.486  40.817  29.299  1.00  0.00           O  \nHETATM 2042  H1  HOH W   1      19.904  41.546  29.086  1.00  0.00           H  \nHETATM 2043  H2  HOH W   1      21.048  41.155  29.997  1.00  0.00           H  \nTER    2044      HOH W   1\nHETATM 2045  O   HOH X   1      18.713  41.076  20.154  1.00  0.00           O  \nHETATM 2046  H1  HOH X   1      18.055  41.587  19.682  1.00  0.00           H  \nHETATM 2047  H2  HOH X   1      18.656  40.200  19.773  1.00  0.00           H  \nTER    2048      HOH X   1\nHETATM 2049  O   HOH Y   1      15.720  25.558  33.103  1.00  0.00           O  \nHETATM 2050  H1  HOH Y   1      16.018  25.848  32.241  1.00  0.00           H  \nHETATM 2051  H2  HOH Y   1      14.846  25.936  33.195  1.00  0.00           H  \nTER    2052      HOH Y   1\nHETATM 2053  O   HOH Z   1      15.944  49.497  29.426  1.00  0.00           O  \nHETATM 2054  H1  HOH Z   1      16.444  49.640  28.622  1.00  0.00           H  \nHETATM 2055  H2  HOH Z   1      16.546  49.026  30.002  1.00  0.00           H  \nTER    2056      HOH Z   1\nHETATM 2057  O   HOH A   1      12.403  28.092  22.902  1.00  0.00           O  \nHETATM 2058  H1  HOH A   1      12.664  27.216  22.619  1.00  0.00           H  \nHETATM 2059  H2  HOH A   1      13.223  28.519  23.148  1.00  0.00           H  \nTER    2060      HOH A   1\nHETATM 2061  O   HOH B   1      14.021  29.148  24.689  1.00  0.00           O  \nHETATM 2062  H1  HOH B   1      14.188  30.078  24.845  1.00  0.00           H  \nHETATM 2063  H2  HOH B   1      13.861  28.783  25.559  1.00  0.00           H  \nTER    2064      HOH B   1\nHETATM 2065  O   HOH C   1      16.495  49.607  18.690  1.00  0.00           O  \nHETATM 2066  H1  HOH C   1      15.771  50.096  18.301  1.00  0.00           H  \nHETATM 2067  H2  HOH C   1      16.416  49.769  19.630  1.00  0.00           H  \nTER    2068      HOH C   1\nHETATM 2069  O   HOH D   1      17.865  25.511  35.272  1.00  0.00           O  \nHETATM 2070  H1  HOH D   1      18.477  25.297  34.567  1.00  0.00           H  \nHETATM 2071  H2  HOH D   1      17.122  25.920  34.828  1.00  0.00           H  \nTER    2072      HOH D   1\nHETATM 2073  O   HOH E   1      17.280  27.610  20.605  1.00  0.00           O  \nHETATM 2074  H1  HOH E   1      17.277  28.159  21.390  1.00  0.00           H  \nHETATM 2075  H2  HOH E   1      17.727  28.139  19.944  1.00  0.00           H  \nTER    2076      HOH E   1\nHETATM 2077  O   HOH F   1      18.174  35.639  32.086  1.00  0.00           O  \nHETATM 2078  H1  HOH F   1      18.149  35.818  31.145  1.00  0.00           H  \nHETATM 2079  H2  HOH F   1      19.054  35.294  32.241  1.00  0.00           H  \nTER    2080      HOH F   1\nHETATM 2081  O   HOH G   1      -2.801  51.103  29.837  1.00  0.00           O  \nHETATM 2082  H1  HOH G   1      -3.625  50.739  30.159  1.00  0.00           H  \nHETATM 2083  H2  HOH G   1      -2.603  50.591  29.053  1.00  0.00           H  \nTER    2084      HOH G   1\nHETATM 2085  O   HOH H   1      -2.678  43.960  35.906  1.00  0.00           O  \nHETATM 2086  H1  HOH H   1      -3.563  44.280  35.732  1.00  0.00           H  \nHETATM 2087  H2  HOH H   1      -2.799  43.045  36.161  1.00  0.00           H  \nTER    2088      HOH H   1\nHETATM 2089  O   HOH I   1      13.625  45.114  22.799  1.00  0.00           O  \nHETATM 2090  H1  HOH I   1      12.737  44.769  22.893  1.00  0.00           H  \nHETATM 2091  H2  HOH I   1      13.887  44.863  21.913  1.00  0.00           H  \nTER    2092      HOH I   1\nHETATM 2093  O   HOH J   1      19.210  47.125  29.357  1.00  0.00           O  \nHETATM 2094  H1  HOH J   1      18.735  47.109  28.526  1.00  0.00           H  \nHETATM 2095  H2  HOH J   1      20.118  46.939  29.118  1.00  0.00           H  \nTER    2096      HOH J   1\nHETATM 2097  O   HOH K   1      18.732  48.682  22.115  1.00  0.00           O  \nHETATM 2098  H1  HOH K   1      18.680  47.898  22.662  1.00  0.00           H  \nHETATM 2099  H2  HOH K   1      19.650  48.729  21.848  1.00  0.00           H  \nTER    2100      HOH K   1\nHETATM 2101  O   HOH L   1      -1.098  48.741  37.570  1.00  0.00           O  \nHETATM 2102  H1  HOH L   1      -0.945  49.110  36.701  1.00  0.00           H  \nHETATM 2103  H2  HOH L   1      -1.287  49.499  38.123  1.00  0.00           H  \nTER    2104      HOH L   1\nHETATM 2105  O   HOH M   1      21.395  28.746  28.276  1.00  0.00           O  \nHETATM 2106  H1  HOH M   1      21.022  28.139  27.637  1.00  0.00           H  \nHETATM 2107  H2  HOH M   1      22.251  28.978  27.916  1.00  0.00           H  \nTER    2108      HOH M   1\nHETATM 2109  O   HOH N   1      20.278  47.325  19.601  1.00  0.00           O  \nHETATM 2110  H1  HOH N   1      20.923  47.948  19.935  1.00  0.00           H  \nHETATM 2111  H2  HOH N   1      20.603  47.084  18.734  1.00  0.00           H  \nTER    2112      HOH N   1\nHETATM 2113  O   HOH O   1      21.489  42.019  19.596  1.00  0.00           O  \nHETATM 2114  H1  HOH O   1      21.596  41.363  18.907  1.00  0.00           H  \nHETATM 2115  H2  HOH O   1      20.655  41.797  20.011  1.00  0.00           H  \nTER    2116      HOH O   1\nHETATM 2117  O   HOH P   1      21.839  46.389  39.116  1.00  0.00           O  \nHETATM 2118  H1  HOH P   1      22.104  47.192  38.668  1.00  0.00           H  \nHETATM 2119  H2  HOH P   1      21.194  45.990  38.533  1.00  0.00           H  \nTER    2120      HOH P   1\nHETATM 2121  O   HOH Q   1      17.663  43.176  24.857  1.00  0.00           O  \nHETATM 2122  H1  HOH Q   1      16.853  43.464  25.278  1.00  0.00           H  \nHETATM 2123  H2  HOH Q   1      17.373  42.669  24.099  1.00  0.00           H  \nTER    2124      HOH Q   1\nHETATM 2125  O   HOH R   1      17.475  46.797  26.773  1.00  0.00           O  \nHETATM 2126  H1  HOH R   1      16.538  46.880  26.950  1.00  0.00           H  \nHETATM 2127  H2  HOH R   1      17.522  46.421  25.894  1.00  0.00           H  \nTER    2128      HOH R   1\nHETATM 2129  O   HOH S   1      18.934  44.811  33.245  1.00  0.00           O  \nHETATM 2130  H1  HOH S   1      18.467  45.562  32.877  1.00  0.00           H  \nHETATM 2131  H2  HOH S   1      19.592  45.198  33.823  1.00  0.00           H  \nTER    2132      HOH S   1\nHETATM 2133  O   HOH T   1      15.879  47.039  23.457  1.00  0.00           O  \nHETATM 2134  H1  HOH T   1      15.284  46.371  23.116  1.00  0.00           H  \nHETATM 2135  H2  HOH T   1      16.677  46.559  23.676  1.00  0.00           H  \nTER    2136      HOH T   1\nHETATM 2137  O   HOH U   1      19.870  43.247  26.379  1.00  0.00           O  \nHETATM 2138  H1  HOH U   1      20.319  42.433  26.152  1.00  0.00           H  \nHETATM 2139  H2  HOH U   1      19.119  43.279  25.786  1.00  0.00           H  \nTER    2140      HOH U   1\nHETATM 2141  O   HOH V   1      13.191  48.209  33.535  1.00  0.00           O  \nHETATM 2142  H1  HOH V   1      13.047  47.514  32.892  1.00  0.00           H  \nHETATM 2143  H2  HOH V   1      12.942  49.013  33.080  1.00  0.00           H  \nTER    2144      HOH V   1\nHETATM 2145  O   HOH W   1      21.682  27.640  18.140  1.00  0.00           O  \nHETATM 2146  H1  HOH W   1      20.863  28.133  18.095  1.00  0.00           H  \nHETATM 2147  H2  HOH W   1      21.445  26.818  18.569  1.00  0.00           H  \nTER    2148      HOH W   1\nHETATM 2149  O   HOH X   1       7.961  29.680  31.332  1.00  0.00           O  \nHETATM 2150  H1  HOH X   1       7.224  29.886  31.908  1.00  0.00           H  \nHETATM 2151  H2  HOH X   1       8.663  30.261  31.624  1.00  0.00           H  \nTER    2152      HOH X   1\nHETATM 2153  O   HOH Y   1      -2.951  41.392  36.862  1.00  0.00           O  \nHETATM 2154  H1  HOH Y   1      -2.814  41.146  37.777  1.00  0.00           H  \nHETATM 2155  H2  HOH Y   1      -3.791  40.995  36.630  1.00  0.00           H  \nTER    2156      HOH Y   1\nHETATM 2157  O   HOH Z   1       3.300  49.129  33.383  1.00  0.00           O  \nHETATM 2158  H1  HOH Z   1       3.126  49.941  32.909  1.00  0.00           H  \nHETATM 2159  H2  HOH Z   1       3.649  48.533  32.720  1.00  0.00           H  \nTER    2160      HOH Z   1\nHETATM 2161  O   HOH A   1       0.979  46.104  36.200  1.00  0.00           O  \nHETATM 2162  H1  HOH A   1       1.065  47.032  36.418  1.00  0.00           H  \nHETATM 2163  H2  HOH A   1       1.053  45.652  37.040  1.00  0.00           H  \nTER    2164      HOH A   1\nHETATM 2165  O   HOH B   1      21.469  51.509  27.639  1.00  0.00           O  \nHETATM 2166  H1  HOH B   1      21.218  51.096  26.813  1.00  0.00           H  \nHETATM 2167  H2  HOH B   1      20.843  52.225  27.749  1.00  0.00           H  \nTER    2168      HOH B   1\nHETATM 2169  O   HOH C   1      11.627  48.961  18.902  1.00  0.00           O  \nHETATM 2170  H1  HOH C   1      12.110  48.779  18.096  1.00  0.00           H  \nHETATM 2171  H2  HOH C   1      11.532  48.106  19.322  1.00  0.00           H  \nTER    2172      HOH C   1\nHETATM 2173  O   HOH D   1      21.333  50.658  17.677  1.00  0.00           O  \nHETATM 2174  H1  HOH D   1      20.422  50.367  17.693  1.00  0.00           H  \nHETATM 2175  H2  HOH D   1      21.554  50.704  16.747  1.00  0.00           H  \nTER    2176      HOH D   1\nHETATM 2177  O   HOH E   1      -3.663  51.371  19.508  1.00  0.00           O  \nHETATM 2178  H1  HOH E   1      -3.231  50.829  18.847  1.00  0.00           H  \nHETATM 2179  H2  HOH E   1      -2.990  51.992  19.786  1.00  0.00           H  \nTER    2180      HOH E   1\nHETATM 2181  O   HOH F   1      18.073  45.764  24.152  1.00  0.00           O  \nHETATM 2182  H1  HOH F   1      17.958  44.820  24.255  1.00  0.00           H  \nHETATM 2183  H2  HOH F   1      18.578  45.858  23.345  1.00  0.00           H  \nTER    2184      HOH F   1\nHETATM 2185  O   HOH G   1      16.987  51.281  27.412  1.00  0.00           O  \nHETATM 2186  H1  HOH G   1      16.770  51.444  26.494  1.00  0.00           H  \nHETATM 2187  H2  HOH G   1      16.962  52.145  27.822  1.00  0.00           H  \nTER    2188      HOH G   1\nHETATM 2189  O   HOH H   1      14.659  46.392  27.206  1.00  0.00           O  \nHETATM 2190  H1  HOH H   1      14.456  45.762  26.515  1.00  0.00           H  \nHETATM 2191  H2  HOH H   1      14.037  47.106  27.071  1.00  0.00           H  \nTER    2192      HOH H   1\nHETATM 2193  O   HOH I   1      -3.211  50.584  35.692  1.00  0.00           O  \nHETATM 2194  H1  HOH I   1      -2.283  50.367  35.779  1.00  0.00           H  \nHETATM 2195  H2  HOH I   1      -3.243  51.215  34.974  1.00  0.00           H  \nTER    2196      HOH I   1\nHETATM 2197  O   HOH J   1      22.427  46.075  32.399  1.00  0.00           O  \nHETATM 2198  H1  HOH J   1      22.126  45.235  32.053  1.00  0.00           H  \nHETATM 2199  H2  HOH J   1      23.318  45.903  32.704  1.00  0.00           H  \nTER    2200      HOH J   1\nHETATM 2201  O   HOH K   1      -3.705  25.778  22.010  1.00  0.00           O  \nHETATM 2202  H1  HOH K   1      -3.700  25.706  21.055  1.00  0.00           H  \nHETATM 2203  H2  HOH K   1      -3.160  25.050  22.308  1.00  0.00           H  \nTER    2204      HOH K   1\nHETATM 2205  O   HOH L   1      13.969  26.997  17.881  1.00  0.00           O  \nHETATM 2206  H1  HOH L   1      13.984  26.807  18.819  1.00  0.00           H  \nHETATM 2207  H2  HOH L   1      14.162  26.157  17.463  1.00  0.00           H  \nTER    2208      HOH L   1\nHETATM 2209  O   HOH M   1      17.451  46.940  19.069  1.00  0.00           O  \nHETATM 2210  H1  HOH M   1      18.357  47.101  19.332  1.00  0.00           H  \nHETATM 2211  H2  HOH M   1      17.095  47.810  18.892  1.00  0.00           H  \nTER    2212      HOH M   1\nHETATM 2213  O   HOH N   1      21.000  43.634  31.396  1.00  0.00           O  \nHETATM 2214  H1  HOH N   1      21.284  42.774  31.704  1.00  0.00           H  \nHETATM 2215  H2  HOH N   1      20.429  43.961  32.091  1.00  0.00           H  \nTER    2216      HOH N   1\nHETATM 2217  O   HOH O   1      22.106  48.576  26.040  1.00  0.00           O  \nHETATM 2218  H1  HOH O   1      21.207  48.398  26.315  1.00  0.00           H  \nHETATM 2219  H2  HOH O   1      22.044  49.378  25.521  1.00  0.00           H  \nTER    2220      HOH O   1\nHETATM 2221  O   HOH P   1      -3.283  48.532  24.252  1.00  0.00           O  \nHETATM 2222  H1  HOH P   1      -3.648  48.937  23.466  1.00  0.00           H  \nHETATM 2223  H2  HOH P   1      -3.977  48.610  24.907  1.00  0.00           H  \nTER    2224      HOH P   1\nHETATM 2225  O   HOH Q   1      20.855  51.995  39.855  1.00  0.00           O  \nHETATM 2226  H1  HOH Q   1      21.627  51.907  39.296  1.00  0.00           H  \nHETATM 2227  H2  HOH Q   1      20.187  51.457  39.429  1.00  0.00           H  \nTER    2228      HOH Q   1\nHETATM 2229  O   HOH R   1      13.779  46.244  19.090  1.00  0.00           O  \nHETATM 2230  H1  HOH R   1      13.581  45.393  18.698  1.00  0.00           H  \nHETATM 2231  H2  HOH R   1      13.939  46.820  18.343  1.00  0.00           H  \nTER    2232      HOH R   1\nHETATM 2233  O   HOH S   1      15.350  47.891  35.239  1.00  0.00           O  \nHETATM 2234  H1  HOH S   1      15.042  47.551  36.079  1.00  0.00           H  \nHETATM 2235  H2  HOH S   1      14.562  47.946  34.699  1.00  0.00           H  \nTER    2236      HOH S   1\nHETATM 2237  O   HOH T   1      18.619  48.331  40.253  1.00  0.00           O  \nHETATM 2238  H1  HOH T   1      19.456  48.796  40.273  1.00  0.00           H  \nHETATM 2239  H2  HOH T   1      18.087  48.821  39.626  1.00  0.00           H  \nTER    2240      HOH T   1\nHETATM 2241  O   HOH U   1      22.618  43.742  39.846  1.00  0.00           O  \nHETATM 2242  H1  HOH U   1      22.764  44.573  39.395  1.00  0.00           H  \nHETATM 2243  H2  HOH U   1      21.683  43.568  39.735  1.00  0.00           H  \nTER    2244      HOH U   1\nHETATM 2245  O   HOH V   1      -0.991  51.211  39.015  1.00  0.00           O  \nHETATM 2246  H1  HOH V   1      -0.065  50.996  38.900  1.00  0.00           H  \nHETATM 2247  H2  HOH V   1      -0.986  52.067  39.444  1.00  0.00           H  \nTER    2248      HOH V   1\nHETATM 2249  O   HOH W   1      16.989  45.938  40.412  1.00  0.00           O  \nHETATM 2250  H1  HOH W   1      17.608  46.665  40.477  1.00  0.00           H  \nHETATM 2251  H2  HOH W   1      16.976  45.717  39.480  1.00  0.00           H  \nTER    2252      HOH W   1\nHETATM 2253  O   HOH X   1      22.283  26.176  42.405  1.00  0.00           O  \nHETATM 2254  H1  HOH X   1      22.053  25.587  41.687  1.00  0.00           H  \nHETATM 2255  H2  HOH X   1      23.076  25.796  42.783  1.00  0.00           H  \nTER    2256      HOH X   1\nHETATM 2257  O   HOH Y   1      -0.038  28.139  17.402  1.00  0.00           O  \nHETATM 2258  H1  HOH Y   1      -0.675  28.597  16.853  1.00  0.00           H  \nHETATM 2259  H2  HOH Y   1      -0.565  27.553  17.944  1.00  0.00           H  \nTER    2260      HOH Y   1\nHETATM 2261  O   HOH Z   1      22.624  47.602  41.691  1.00  0.00           O  \nHETATM 2262  H1  HOH Z   1      23.466  47.185  41.874  1.00  0.00           H  \nHETATM 2263  H2  HOH Z   1      22.302  47.157  40.906  1.00  0.00           H  \nTER    2264      HOH Z   1\nHETATM 2265  O   HOH A   1      15.563  48.327  41.104  1.00  0.00           O  \nHETATM 2266  H1  HOH A   1      15.674  47.605  40.485  1.00  0.00           H  \nHETATM 2267  H2  HOH A   1      16.278  48.219  41.730  1.00  0.00           H  \nTER    2268      HOH A   1\nHETATM 2269  O   HOH B   1      19.786  50.452  37.942  1.00  0.00           O  \nHETATM 2270  H1  HOH B   1      19.018  50.098  37.493  1.00  0.00           H  \nHETATM 2271  H2  HOH B   1      20.316  50.837  37.244  1.00  0.00           H  \nTER    2272      HOH B   1\nHETATM 2273  O   HOH C   1      17.419  49.016  36.654  1.00  0.00           O  \nHETATM 2274  H1  HOH C   1      16.684  48.581  36.223  1.00  0.00           H  \nHETATM 2275  H2  HOH C   1      17.022  49.492  37.383  1.00  0.00           H  \nTER    2276      HOH C   1\nHETATM 2277  O   HOH D   1      20.588  34.915  35.982  1.00  0.00           O  \nHETATM 2278  H1  HOH D   1      21.419  35.130  36.406  1.00  0.00           H  \nHETATM 2279  H2  HOH D   1      19.920  35.256  36.577  1.00  0.00           H  \nTER    2280      HOH D   1\nHETATM 2281  O   HOH E   1      -1.130  46.660  16.401  1.00  0.00           O  \nHETATM 2282  H1  HOH E   1      -1.971  47.118  16.410  1.00  0.00           H  \nHETATM 2283  H2  HOH E   1      -0.944  46.520  15.472  1.00  0.00           H  \nTER    2284      HOH E   1\nHETATM 2285  O   HOH F   1      20.124  27.166  39.228  1.00  0.00           O  \nHETATM 2286  H1  HOH F   1      19.250  27.445  39.503  1.00  0.00           H  \nHETATM 2287  H2  HOH F   1      20.167  26.240  39.467  1.00  0.00           H  \nTER    2288      HOH F   1\nHETATM 2289  O   HOH G   1      19.759  45.945  21.969  1.00  0.00           O  \nHETATM 2290  H1  HOH G   1      20.621  45.546  22.088  1.00  0.00           H  \nHETATM 2291  H2  HOH G   1      19.790  46.329  21.093  1.00  0.00           H  \nTER    2292      HOH G   1\nHETATM 2293  O   HOH H   1      17.185  47.455  33.212  1.00  0.00           O  \nHETATM 2294  H1  HOH H   1      16.807  47.560  34.086  1.00  0.00           H  \nHETATM 2295  H2  HOH H   1      17.623  48.288  33.038  1.00  0.00           H  \nTER    2296      HOH H   1\nHETATM 2297  O   HOH I   1       1.205  45.759  39.184  1.00  0.00           O  \nHETATM 2298  H1  HOH I   1       1.599  46.305  39.864  1.00  0.00           H  \nHETATM 2299  H2  HOH I   1       0.399  45.427  39.580  1.00  0.00           H  \nTER    2300      HOH I   1\nHETATM 2301  O   HOH J   1      18.482  26.102  15.886  1.00  0.00           O  \nHETATM 2302  H1  HOH J   1      19.015  25.825  16.631  1.00  0.00           H  \nHETATM 2303  H2  HOH J   1      19.118  26.316  15.203  1.00  0.00           H  \nTER    2304      HOH J   1\nHETATM 2305  O   HOH K   1      -1.770  27.941  35.506  1.00  0.00           O  \nHETATM 2306  H1  HOH K   1      -1.798  28.600  34.812  1.00  0.00           H  \nHETATM 2307  H2  HOH K   1      -2.442  27.305  35.261  1.00  0.00           H  \nTER    2308      HOH K   1\nHETATM 2309  O   HOH L   1      16.552  49.707  39.070  1.00  0.00           O  \nHETATM 2310  H1  HOH L   1      16.249  50.606  39.196  1.00  0.00           H  \nHETATM 2311  H2  HOH L   1      16.005  49.185  39.657  1.00  0.00           H  \nTER    2312      HOH L   1\nHETATM 2313  O   HOH M   1      -2.965  31.716  16.771  1.00  0.00           O  \nHETATM 2314  H1  HOH M   1      -2.636  32.170  15.995  1.00  0.00           H  \nHETATM 2315  H2  HOH M   1      -2.221  31.697  17.372  1.00  0.00           H  \nTER    2316      HOH M   1\nHETATM 2317  O   HOH N   1       0.729  51.361  41.840  1.00  0.00           O  \nHETATM 2318  H1  HOH N   1      -0.206  51.527  41.957  1.00  0.00           H  \nHETATM 2319  H2  HOH N   1       0.867  50.490  42.214  1.00  0.00           H  \nTER    2320      HOH N   1\nHETATM 2321  O   HOH O   1       6.167  51.732  37.835  1.00  0.00           O  \nHETATM 2322  H1  HOH O   1       6.994  51.261  37.940  1.00  0.00           H  \nHETATM 2323  H2  HOH O   1       6.427  52.644  37.699  1.00  0.00           H  \nTER    2324      HOH O   1\nHETATM 2325 Na    NA P   1      19.263  32.593  36.598  1.00  0.00          Na  \nTER    2326       NA P   1\nHETATM 2327 Na    NA Q   1      11.865  39.145  37.375  1.00  0.00          Na  \nTER    2328       NA Q   1\nHETATM 2329 Na    NA R   1      20.193  44.879  37.276  1.00  0.00          Na  \nTER    2330       NA R   1\nHETATM 2331 Na    NA S   1       0.572  36.369  16.914  1.00  0.00          Na  \nTER    2332       NA S   1\nHETATM 2333 Na    NA T   1      20.597  33.732  16.032  1.00  0.00          Na  \nTER    2334       NA T   1\nHETATM 2335 Cl    CL U   1      16.329  28.748  23.040  1.00  0.00          Cl  \nTER    2336       CL U   1\nHETATM 2337 Cl    CL V   1      12.471  43.345  34.516  1.00  0.00          Cl  \nTER    2338       CL V   1\nHETATM 2339 Cl    CL W   1      12.422  48.948  38.324  1.00  0.00          Cl  \nTER    2340       CL W   1\nHETATM 2341 Cl    CL X   1      16.098  49.046  21.318  1.00  0.00          Cl  \nTER    2342       CL X   1\nHETATM 2343 Cl    CL Y   1      16.904  29.401  36.113  1.00  0.00          Cl  \nTER    2344       CL Y   1\nCONECT    1    2\nCONECT    2    1   55    3\nCONECT    3    2    4    5\nCONECT    4    3   56   97   61\nCONECT    5    3   98   99    6\nCONECT    6    5    7    8\nCONECT    7    6  100   11   63\nCONECT    8    6    9   10\nCONECT    9    8\nCONECT   10    8   11   12\nCONECT   11    7   10  101   66\nCONECT   12   10  102  103   13\nCONECT   13   12   15   14\nCONECT   14   13  104   18   68\nCONECT   15   13   16   17\nCONECT   16   15\nCONECT   17   15   18   19\nCONECT   18   14   17  105   71\nCONECT   19   17  106  107   20\nCONECT   20   19   22   21\nCONECT   21   20  108   25   73\nCONECT   22   20   23   24\nCONECT   23   22\nCONECT   24   22   26   25\nCONECT   25   21   24  109   76\nCONECT   26   24   27  110  111\nCONECT   27   26   29   28\nCONECT   28   27   32  112   78\nCONECT   29   27   30   31\nCONECT   30   29\nCONECT   31   29   33   32\nCONECT   32   28   31  113   81\nCONECT   33   31   34  114  115\nCONECT   34   33   36   35\nCONECT   35   34   39  116   83\nCONECT   36   34   38   37\nCONECT   37   36\nCONECT   38   36   40   39\nCONECT   39   35   38  117   86\nCONECT   40   38   41  118  119\nCONECT   41   40   43   42\nCONECT   42   41   46  120   88\nCONECT   43   41   45   44\nCONECT   44   43\nCONECT   45   43   47   46\nCONECT   46   42   45  121   91\nCONECT   47   45  122  123   48\nCONECT   48   47   50   49\nCONECT   49   48   54  124   93\nCONECT   50   48   51   52\nCONECT   51   50\nCONECT   52   50   53   54\nCONECT   53   52  125  126   55\nCONECT   54   49   52  127   95\nCONECT   55    2   53   56\nCONECT   56    4   55  128   57\nCONECT   57   56   58   59\nCONECT   58   57   95  129  130\nCONECT   59   57   61   60\nCONECT   60   59\nCONECT   61    4   59   62\nCONECT   62   61  131  132   63\nCONECT   63    7   62   64\nCONECT   64   63   65   66\nCONECT   65   64\nCONECT   66   11   64   67\nCONECT   67   66  133  134   68\nCONECT   68   14   67   69\nCONECT   69   68   70   71\nCONECT   70   69\nCONECT   71   18   69   72\nCONECT   72   71   73  135  136\nCONECT   73   21   72   74\nCONECT   74   73   76   75\nCONECT   75   74\nCONECT   76   25   74   77\nCONECT   77   76   78  137  138\nCONECT   78   28   77   79\nCONECT   79   78   81   80\nCONECT   80   79\nCONECT   81   32   79   82\nCONECT   82   81   83  139  140\nCONECT   83   35   82   84\nCONECT   84   83   86   85\nCONECT   85   84\nCONECT   86   39   84   87\nCONECT   87   86   88  141  142\nCONECT   88   42   87   89\nCONECT   89   88   91   90\nCONECT   90   89\nCONECT   91   46   89   92\nCONECT   92   91   93  143  144\nCONECT   93   49   92   94\nCONECT   94   93   95   96\nCONECT   95   54   58   94\nCONECT   96   94\nCONECT   97    4\nCONECT   98    5\nCONECT   99    5\nCONECT  100    7\nCONECT  101   11\nCONECT  102   12\nCONECT  103   12\nCONECT  104   14\nCONECT  105   18\nCONECT  106   19\nCONECT  107   19\nCONECT  108   21\nCONECT  109   25\nCONECT  110   26\nCONECT  111   26\nCONECT  112   28\nCONECT  113   32\nCONECT  114   33\nCONECT  115   33\nCONECT  116   35\nCONECT  117   39\nCONECT  118   40\nCONECT  119   40\nCONECT  120   42\nCONECT  121   46\nCONECT  122   47\nCONECT  123   47\nCONECT  124   49\nCONECT  125   53\nCONECT  126   53\nCONECT  127   54\nCONECT  128   56\nCONECT  129   58\nCONECT  130   58\nCONECT  131   62\nCONECT  132   62\nCONECT  133   67\nCONECT  134   67\nCONECT  135   72\nCONECT  136   72\nCONECT  137   77\nCONECT  138   77\nCONECT  139   82\nCONECT  140   82\nCONECT  141   87\nCONECT  142   87\nCONECT  143   92\nCONECT  144   92\nCONECT  146  154  166\nCONECT  147  148  154  170\nCONECT  148  147  156  171\nCONECT  149  151  155  172\nCONECT  150  152  155  173\nCONECT  151  149  158  174\nCONECT  152  150  158  175\nCONECT  153  154  157  176\nCONECT  154  146  147  153\nCONECT  155  149  150  160\nCONECT  156  148  157  160\nCONECT  157  153  156  159\nCONECT  158  151  152  169\nCONECT  159  157  168  177  178\nCONECT  160  155  156  163  168\nCONECT  161  167  179  180  181\nCONECT  162  167  182  183  184\nCONECT  163  160  164  185  186\nCONECT  164  163  165  187  188\nCONECT  165  164  167  189  190\nCONECT  166  146\nCONECT  167  161  162  165  191\nCONECT  168  159  160\nCONECT  169  158\nCONECT  170  147\nCONECT  171  148\nCONECT  172  149\nCONECT  173  150\nCONECT  174  151\nCONECT  175  152\nCONECT  176  153\nCONECT  177  159\nCONECT  178  159\nCONECT  179  161\nCONECT  180  161\nCONECT  181  161\nCONECT  182  162\nCONECT  183  162\nCONECT  184  162\nCONECT  185  163\nCONECT  186  163\nCONECT  187  164\nCONECT  188  164\nCONECT  189  165\nCONECT  190  165\nCONECT  191  167\nEND\n",
           "type": "blob"
          }
         ],
         "kwargs": {
          "defaultRepresentation": false,
          "ext": "pdb"
         },
         "methodName": "loadFile",
         "reconstruc_color_scheme": false,
         "target": "Stage",
         "type": "call_method"
        },
        {
         "args": [],
         "component_index": 0,
         "kwargs": {},
         "methodName": "removeAllRepresentations",
         "reconstruc_color_scheme": false,
         "target": "compList",
         "type": "call_method"
        },
        {
         "args": [
          "unitcell"
         ],
         "component_index": 0,
         "kwargs": {},
         "methodName": "addRepresentation",
         "reconstruc_color_scheme": false,
         "target": "compList",
         "type": "call_method"
        },
        {
         "args": [
          "line"
         ],
         "component_index": 0,
         "kwargs": {
          "sele": "water"
         },
         "methodName": "addRepresentation",
         "reconstruc_color_scheme": false,
         "target": "compList",
         "type": "call_method"
        },
        {
         "args": [
          "spacefill"
         ],
         "component_index": 0,
         "kwargs": {
          "sele": "ion"
         },
         "methodName": "addRepresentation",
         "reconstruc_color_scheme": false,
         "target": "compList",
         "type": "call_method"
        },
        {
         "args": [
          "cartoon"
         ],
         "component_index": 0,
         "kwargs": {
          "sele": "protein"
         },
         "methodName": "addRepresentation",
         "reconstruc_color_scheme": false,
         "target": "compList",
         "type": "call_method"
        },
        {
         "args": [
          "licorice"
         ],
         "component_index": 0,
         "kwargs": {
          "multipleBond": false,
          "radius": 0.25,
          "sele": "not water and not ion and not protein"
         },
         "methodName": "addRepresentation",
         "reconstruc_color_scheme": false,
         "target": "compList",
         "type": "call_method"
        }
       ],
       "_ngl_original_stage_parameters": {},
       "_ngl_repr_dict": {},
       "_ngl_serialize": false,
       "_ngl_version": "",
       "_ngl_view_id": [],
       "_player_dict": {},
       "_scene_position": {},
       "_scene_rotation": {},
       "_synced_model_ids": [],
       "_synced_repr_model_ids": [],
       "_view_count": null,
       "_view_height": "",
       "_view_module": "nglview-js-widgets",
       "_view_module_version": "3.0.8",
       "_view_name": "NGLView",
       "_view_width": "",
       "background": "white",
       "frame": 0,
       "gui_style": null,
       "layout": "IPY_MODEL_6b40fee428f541bfb7310d904677720a",
       "max_frame": 0,
       "n_components": 0,
       "picked": {},
       "tabbable": null,
       "tooltip": null
      }
     },
     "f27933fe556a4ca5896cd3976f9833bf": {
      "model_module": "@jupyter-widgets/controls",
      "model_module_version": "2.0.0",
      "model_name": "SliderStyleModel",
      "state": {
       "_model_module": "@jupyter-widgets/controls",
       "_model_module_version": "2.0.0",
       "_model_name": "SliderStyleModel",
       "_view_count": null,
       "_view_module": "@jupyter-widgets/base",
       "_view_module_version": "2.0.0",
       "_view_name": "StyleView",
       "description_width": "",
       "handle_color": null
      }
     },
     "f3e3ad2e358d42dca124bfb5aa1f115d": {
      "model_module": "@jupyter-widgets/controls",
      "model_module_version": "2.0.0",
      "model_name": "HBoxModel",
      "state": {
       "_dom_classes": [],
       "_model_module": "@jupyter-widgets/controls",
       "_model_module_version": "2.0.0",
       "_model_name": "HBoxModel",
       "_view_count": null,
       "_view_module": "@jupyter-widgets/controls",
       "_view_module_version": "2.0.0",
       "_view_name": "HBoxView",
       "box_style": "",
       "children": [
        "IPY_MODEL_36be047cb3b64489ace7289052b8f247",
        "IPY_MODEL_018927acbc504eac9694d65df78c369d"
       ],
       "layout": "IPY_MODEL_e744ef2de4de4e6b8257d3a082f63105",
       "tabbable": null,
       "tooltip": null
      }
     },
     "f45e9515990d4e388b4ddee05f86f096": {
      "model_module": "nglview-js-widgets",
      "model_module_version": "3.0.8",
      "model_name": "NGLModel",
      "state": {
       "_camera_orientation": [],
       "_camera_str": "orthographic",
       "_dom_classes": [],
       "_gui_theme": null,
       "_ibtn_fullscreen": "IPY_MODEL_95a7d65e6686450483b2350b65ae7124",
       "_igui": null,
       "_iplayer": "IPY_MODEL_f3e3ad2e358d42dca124bfb5aa1f115d",
       "_model_module": "nglview-js-widgets",
       "_model_module_version": "3.0.8",
       "_model_name": "NGLModel",
       "_ngl_color_dict": {},
       "_ngl_coordinate_resource": {},
       "_ngl_full_stage_parameters": {},
       "_ngl_msg_archive": [
        {
         "args": [
          {
           "binary": false,
           "data": "REMARK   1 CREATED WITH OPENMM 8.0, 2023-09-27\nHETATM    1  O1x UNK A   1       7.236  39.911  33.856  1.00  0.00           O  \nHETATM    2  C1x UNK A   1       6.228  39.378  33.420  1.00  0.00           C  \nHETATM    3  N1x UNK A   1       5.262  39.998  32.674  1.00  0.00           N  \nHETATM    4  C2x UNK A   1       4.123  39.142  32.421  1.00  0.00           C  \nHETATM    5  C3x UNK A   1       5.216  41.435  32.541  1.00  0.00           C  \nHETATM    6  N2x UNK A   1       5.274  41.958  31.195  1.00  0.00           N  \nHETATM    7  C4x UNK A   1       4.217  41.856  30.202  1.00  0.00           C  \nHETATM    8  C5x UNK A   1       6.253  42.836  30.812  1.00  0.00           C  \nHETATM    9  O2x UNK A   1       7.238  43.134  31.466  1.00  0.00           O  \nHETATM   10  N3x UNK A   1       5.927  43.350  29.594  1.00  0.00           N  \nHETATM   11  C6x UNK A   1       4.674  42.837  29.090  1.00  0.00           C  \nHETATM   12  C7x UNK A   1       6.618  44.483  29.028  1.00  0.00           C  \nHETATM   13  N4x UNK A   1       7.438  44.166  27.887  1.00  0.00           N  \nHETATM   14  C8x UNK A   1       6.945  44.089  26.533  1.00  0.00           C  \nHETATM   15  C9x UNK A   1       8.803  44.116  27.954  1.00  0.00           C  \nHETATM   16  O3x UNK A   1       9.469  44.261  28.970  1.00  0.00           O  \nHETATM   17  N5x UNK A   1       9.290  44.060  26.682  1.00  0.00           N  \nHETATM   18 C10x UNK A   1       8.239  44.073  25.685  1.00  0.00           C  \nHETATM   19 C11x UNK A   1      10.680  44.319  26.381  1.00  0.00           C  \nHETATM   20  N6x UNK A   1      11.408  43.189  25.863  1.00  0.00           N  \nHETATM   21 C12x UNK A   1      11.384  42.773  24.478  1.00  0.00           C  \nHETATM   22 C13x UNK A   1      12.390  42.563  26.582  1.00  0.00           C  \nHETATM   23  O4x UNK A   1      12.669  42.789  27.751  1.00  0.00           O  \nHETATM   24  N7x UNK A   1      13.080  41.739  25.741  1.00  0.00           N  \nHETATM   25 C14x UNK A   1      12.550  41.758  24.391  1.00  0.00           C  \nHETATM   26 C15x UNK A   1      14.379  41.210  26.090  1.00  0.00           C  \nHETATM   27  N8x UNK A   1      14.458  39.772  26.234  1.00  0.00           N  \nHETATM   28 C16x UNK A   1      14.483  38.831  25.134  1.00  0.00           C  \nHETATM   29 C17x UNK A   1      14.707  39.174  27.439  1.00  0.00           C  \nHETATM   30  O5x UNK A   1      14.789  39.745  28.514  1.00  0.00           O  \nHETATM   31  N9x UNK A   1      14.927  37.839  27.225  1.00  0.00           N  \nHETATM   32 C18x UNK A   1      14.833  37.486  25.823  1.00  0.00           C  \nHETATM   33 C19x UNK A   1      15.586  37.010  28.210  1.00  0.00           C  \nHETATM   34 N10x UNK A   1      14.804  35.896  28.705  1.00  0.00           N  \nHETATM   35 C20x UNK A   1      14.590  34.664  27.967  1.00  0.00           C  \nHETATM   36 C21x UNK A   1      14.450  35.787  30.019  1.00  0.00           C  \nHETATM   37  O6x UNK A   1      14.605  36.644  30.874  1.00  0.00           O  \nHETATM   38 N11x UNK A   1      13.998  34.512  30.239  1.00  0.00           N  \nHETATM   39 C22x UNK A   1      14.004  33.710  29.038  1.00  0.00           C  \nHETATM   40 C23x UNK A   1      13.843  33.965  31.568  1.00  0.00           C  \nHETATM   41 N12x UNK A   1      12.480  33.678  31.958  1.00  0.00           N  \nHETATM   42 C24x UNK A   1      11.754  32.495  31.540  1.00  0.00           C  \nHETATM   43 C25x UNK A   1      11.850  34.350  32.964  1.00  0.00           C  \nHETATM   44  O7x UNK A   1      12.289  35.325  33.551  1.00  0.00           O  \nHETATM   45 N13x UNK A   1      10.703  33.668  33.289  1.00  0.00           N  \nHETATM   46 C26x UNK A   1      10.523  32.482  32.477  1.00  0.00           C  \nHETATM   47 C27x UNK A   1       9.935  33.956  34.476  1.00  0.00           C  \nHETATM   48 N14x UNK A   1       8.633  34.552  34.249  1.00  0.00           N  \nHETATM   49 C28x UNK A   1       7.436  33.812  33.888  1.00  0.00           C  \nHETATM   50 C29x UNK A   1       8.382  35.873  34.478  1.00  0.00           C  \nHETATM   51  O8x UNK A   1       9.208  36.711  34.817  1.00  0.00           O  \nHETATM   52 N15x UNK A   1       7.034  36.092  34.317  1.00  0.00           N  \nHETATM   53 C30x UNK A   1       6.406  37.314  34.769  1.00  0.00           C  \nHETATM   54 C31x UNK A   1       6.313  34.869  34.018  1.00  0.00           C  \nHETATM   55 N16x UNK A   1       5.786  38.117  33.735  1.00  0.00           N  \nHETATM   56 C32x UNK A   1       4.473  37.842  33.191  1.00  0.00           C  \nHETATM   57 N17x UNK A   1       4.433  36.826  32.162  1.00  0.00           N  \nHETATM   58 C33x UNK A   1       4.382  35.409  32.436  1.00  0.00           C  \nHETATM   59 C34x UNK A   1       4.155  37.341  30.927  1.00  0.00           C  \nHETATM   60  O9x UNK A   1       3.906  36.689  29.934  1.00  0.00           O  \nHETATM   61 N18x UNK A   1       3.974  38.693  31.054  1.00  0.00           N  \nHETATM   62 C35x UNK A   1       3.341  39.471  30.011  1.00  0.00           C  \nHETATM   63 N19x UNK A   1       4.111  40.587  29.506  1.00  0.00           N  \nHETATM   64 C36x UNK A   1       4.454  40.691  28.181  1.00  0.00           C  \nHETATM   65 O10x UNK A   1       4.288  39.821  27.335  1.00  0.00           O  \nHETATM   66 N20x UNK A   1       4.788  41.994  27.918  1.00  0.00           N  \nHETATM   67 C37x UNK A   1       4.939  42.499  26.564  1.00  0.00           C  \nHETATM   68 N21x UNK A   1       6.290  42.843  26.175  1.00  0.00           N  \nHETATM   69 C38x UNK A   1       6.984  42.153  25.212  1.00  0.00           C  \nHETATM   70 O11x UNK A   1       6.597  41.142  24.637  1.00  0.00           O  \nHETATM   71 N22x UNK A   1       8.109  42.866  24.899  1.00  0.00           N  \nHETATM   72 C39x UNK A   1       8.936  42.556  23.754  1.00  0.00           C  \nHETATM   73 N23x UNK A   1      10.227  41.993  24.078  1.00  0.00           N  \nHETATM   74 C40x UNK A   1      10.549  40.695  23.790  1.00  0.00           C  \nHETATM   75 O12x UNK A   1       9.782  39.858  23.342  1.00  0.00           O  \nHETATM   76 N24x UNK A   1      11.899  40.538  23.957  1.00  0.00           N  \nHETATM   77 C41x UNK A   1      12.617  39.384  23.466  1.00  0.00           C  \nHETATM   78 N25x UNK A   1      13.208  38.556  24.493  1.00  0.00           N  \nHETATM   79 C42x UNK A   1      12.786  37.268  24.702  1.00  0.00           C  \nHETATM   80 O13x UNK A   1      11.833  36.739  24.154  1.00  0.00           O  \nHETATM   81 N26x UNK A   1      13.723  36.627  25.467  1.00  0.00           N  \nHETATM   82 C43x UNK A   1      13.754  35.187  25.606  1.00  0.00           C  \nHETATM   83 N27x UNK A   1      13.558  34.703  26.951  1.00  0.00           N  \nHETATM   84 C44x UNK A   1      12.454  33.965  27.300  1.00  0.00           C  \nHETATM   85 O14x UNK A   1      11.480  33.766  26.591  1.00  0.00           O  \nHETATM   86 N28x UNK A   1      12.697  33.373  28.505  1.00  0.00           N  \nHETATM   87 C45x UNK A   1      11.897  32.275  29.000  1.00  0.00           C  \nHETATM   88 N29x UNK A   1      11.168  32.552  30.214  1.00  0.00           N  \nHETATM   89 C46x UNK A   1       9.798  32.585  30.253  1.00  0.00           C  \nHETATM   90 O15x UNK A   1       9.053  32.593  29.280  1.00  0.00           O  \nHETATM   91 N30x UNK A   1       9.403  32.523  31.558  1.00  0.00           N  \nHETATM   92 C47x UNK A   1       8.038  32.263  31.944  1.00  0.00           C  \nHETATM   93 N31x UNK A   1       7.347  33.401  32.500  1.00  0.00           N  \nHETATM   94 C48x UNK A   1       6.309  34.007  31.844  1.00  0.00           C  \nHETATM   95 N32x UNK A   1       5.669  34.826  32.719  1.00  0.00           N  \nHETATM   96 O16x UNK A   1       5.965  33.780  30.691  1.00  0.00           O  \nHETATM   97  H1x UNK A   1       3.191  39.577  32.812  1.00  0.00           H  \nHETATM   98  H2x UNK A   1       6.069  41.850  33.098  1.00  0.00           H  \nHETATM   99  H3x UNK A   1       4.277  41.783  32.995  1.00  0.00           H  \nHETATM  100  H4x UNK A   1       3.247  42.174  30.611  1.00  0.00           H  \nHETATM  101  H5x UNK A   1       3.928  43.634  28.952  1.00  0.00           H  \nHETATM  102  H6x UNK A   1       7.263  44.917  29.806  1.00  0.00           H  \nHETATM  103  H7x UNK A   1       5.867  45.225  28.718  1.00  0.00           H  \nHETATM  104  H8x UNK A   1       6.328  44.962  26.272  1.00  0.00           H  \nHETATM  105  H9x UNK A   1       8.290  44.970  25.050  1.00  0.00           H  \nHETATM  106 H10x UNK A   1      11.175  44.649  27.306  1.00  0.00           H  \nHETATM  107 H11x UNK A   1      10.724  45.125  25.634  1.00  0.00           H  \nHETATM  108 H12x UNK A   1      11.561  43.617  23.795  1.00  0.00           H  \nHETATM  109 H13x UNK A   1      13.301  42.100  23.663  1.00  0.00           H  \nHETATM  110 H14x UNK A   1      15.087  41.509  25.303  1.00  0.00           H  \nHETATM  111 H15x UNK A   1      14.681  41.662  27.046  1.00  0.00           H  \nHETATM  112 H16x UNK A   1      15.257  39.090  24.397  1.00  0.00           H  \nHETATM  113 H17x UNK A   1      15.787  37.099  25.437  1.00  0.00           H  \nHETATM  114 H18x UNK A   1      16.503  36.606  27.756  1.00  0.00           H  \nHETATM  115 H19x UNK A   1      15.851  37.646  29.067  1.00  0.00           H  \nHETATM  116 H20x UNK A   1      15.533  34.259  27.573  1.00  0.00           H  \nHETATM  117 H21x UNK A   1      14.641  32.820  29.145  1.00  0.00           H  \nHETATM  118 H22x UNK A   1      14.417  33.028  31.620  1.00  0.00           H  \nHETATM  119 H23x UNK A   1      14.257  34.689  32.285  1.00  0.00           H  \nHETATM  120 H24x UNK A   1      12.350  31.581  31.682  1.00  0.00           H  \nHETATM  121 H25x UNK A   1      10.517  31.567  33.087  1.00  0.00           H  \nHETATM  122 H26x UNK A   1       9.785  33.012  35.020  1.00  0.00           H  \nHETATM  123 H27x UNK A   1      10.521  34.648  35.098  1.00  0.00           H  \nHETATM  124 H28x UNK A   1       7.253  32.973  34.575  1.00  0.00           H  \nHETATM  125 H29x UNK A   1       7.175  37.929  35.260  1.00  0.00           H  \nHETATM  126 H30x UNK A   1       5.630  37.045  35.500  1.00  0.00           H  \nHETATM  127 H31x UNK A   1       5.620  34.595  34.827  1.00  0.00           H  \nHETATM  128 H32x UNK A   1       3.732  37.654  33.982  1.00  0.00           H  \nHETATM  129 H33x UNK A   1       3.729  35.247  33.306  1.00  0.00           H  \nHETATM  130 H34x UNK A   1       3.956  34.901  31.558  1.00  0.00           H  \nHETATM  131 H35x UNK A   1       2.395  39.866  30.411  1.00  0.00           H  \nHETATM  132 H36x UNK A   1       3.130  38.797  29.168  1.00  0.00           H  \nHETATM  133 H37x UNK A   1       4.318  43.402  26.468  1.00  0.00           H  \nHETATM  134 H38x UNK A   1       4.573  41.727  25.871  1.00  0.00           H  \nHETATM  135 H39x UNK A   1       9.099  43.485  23.187  1.00  0.00           H  \nHETATM  136 H40x UNK A   1       8.395  41.833  23.126  1.00  0.00           H  \nHETATM  137 H41x UNK A   1      11.915  38.764  22.889  1.00  0.00           H  \nHETATM  138 H42x UNK A   1      13.423  39.738  22.806  1.00  0.00           H  \nHETATM  139 H43x UNK A   1      12.960  34.765  24.972  1.00  0.00           H  \nHETATM  140 H44x UNK A   1      14.733  34.831  25.254  1.00  0.00           H  \nHETATM  141 H45x UNK A   1      11.171  32.003  28.220  1.00  0.00           H  \nHETATM  142 H46x UNK A   1      12.567  31.423  29.191  1.00  0.00           H  \nHETATM  143 H47x UNK A   1       7.487  31.928  31.053  1.00  0.00           H  \nHETATM  144 H48x UNK A   1       8.040  31.461  32.697  1.00  0.00           H  \nTER     145      UNK A   1\nHETATM  146  C1x UNK B   1       8.748  37.036  25.821  1.00  0.00           C  \nHETATM  147  C2x UNK B   1      10.453  38.242  27.099  1.00  0.00           C  \nHETATM  148  C3x UNK B   1      10.825  39.073  28.158  1.00  0.00           C  \nHETATM  149  C4x UNK B   1      12.172  39.572  31.007  1.00  0.00           C  \nHETATM  150  C5x UNK B   1      10.317  39.605  32.555  1.00  0.00           C  \nHETATM  151  C6x UNK B   1      12.993  39.041  32.001  1.00  0.00           C  \nHETATM  152  C7x UNK B   1      11.138  39.073  33.549  1.00  0.00           C  \nHETATM  153  C8x UNK B   1       8.124  38.354  27.782  1.00  0.00           C  \nHETATM  154  C9x UNK B   1       9.110  37.885  26.912  1.00  0.00           C  \nHETATM  155 C10x UNK B   1      10.834  39.854  31.283  1.00  0.00           C  \nHETATM  156 C11x UNK B   1       9.837  39.528  29.019  1.00  0.00           C  \nHETATM  157 C12x UNK B   1       8.509  39.173  28.829  1.00  0.00           C  \nHETATM  158 C13x UNK B   1      12.476  38.792  33.273  1.00  0.00           C  \nHETATM  159 C14x UNK B   1       7.666  39.810  29.867  1.00  0.00           C  \nHETATM  160 C15x UNK B   1       9.955  40.422  30.219  1.00  0.00           C  \nHETATM  161 C16x UNK B   1      12.627  45.488  29.798  1.00  0.00           C  \nHETATM  162 C17x UNK B   1      13.042  43.484  31.217  1.00  0.00           C  \nHETATM  163 C18x UNK B   1      10.373  41.843  29.862  1.00  0.00           C  \nHETATM  164 C19x UNK B   1      10.255  42.777  31.064  1.00  0.00           C  \nHETATM  165 C20x UNK B   1      10.708  44.184  30.704  1.00  0.00           C  \nHETATM  166  N1x UNK B   1       8.454  36.346  24.935  1.00  0.00           N  \nHETATM  167  N2x UNK B   1      12.110  44.135  30.224  1.00  0.00           N  \nHETATM  168  O1x UNK B   1       8.597  40.461  30.762  1.00  0.00           O  \nHETATM  169  F1x UNK B   1      13.264  38.279  34.227  1.00  0.00           F  \nHETATM  170  H1x UNK B   1      11.221  37.879  26.420  1.00  0.00           H  \nHETATM  171  H2x UNK B   1      11.865  39.350  28.299  1.00  0.00           H  \nHETATM  172  H3x UNK B   1      12.584  39.764  30.019  1.00  0.00           H  \nHETATM  173  H4x UNK B   1       9.276  39.821  32.779  1.00  0.00           H  \nHETATM  174  H5x UNK B   1      14.034  38.821  31.786  1.00  0.00           H  \nHETATM  175  H6x UNK B   1      10.736  38.879  34.539  1.00  0.00           H  \nHETATM  176  H7x UNK B   1       7.079  38.090  27.648  1.00  0.00           H  \nHETATM  177  H8x UNK B   1       7.004  40.570  29.442  1.00  0.00           H  \nHETATM  178  H9x UNK B   1       7.090  39.078  30.440  1.00  0.00           H  \nHETATM  179 H10x UNK B   1      12.613  46.141  30.672  1.00  0.00           H  \nHETATM  180 H11x UNK B   1      13.643  45.354  29.423  1.00  0.00           H  \nHETATM  181 H12x UNK B   1      11.966  45.866  29.015  1.00  0.00           H  \nHETATM  182 H13x UNK B   1      13.039  44.090  32.125  1.00  0.00           H  \nHETATM  183 H14x UNK B   1      12.670  42.478  31.415  1.00  0.00           H  \nHETATM  184 H15x UNK B   1      14.038  43.453  30.769  1.00  0.00           H  \nHETATM  185 H16x UNK B   1      11.406  41.829  29.499  1.00  0.00           H  \nHETATM  186 H17x UNK B   1       9.743  42.204  29.042  1.00  0.00           H  \nHETATM  187 H18x UNK B   1       9.214  42.799  31.412  1.00  0.00           H  \nHETATM  188 H19x UNK B   1      10.862  42.391  31.892  1.00  0.00           H  \nHETATM  189 H20x UNK B   1      10.110  44.614  29.895  1.00  0.00           H  \nHETATM  190 H21x UNK B   1      10.693  44.854  31.570  1.00  0.00           H  \nHETATM  191 H22x UNK B   1      12.134  43.541  29.377  1.00  0.00           H  \nTER     192      UNK B   1\nCONECT    1    2\nCONECT    2   55    1    3\nCONECT    3    2    4    5\nCONECT    4    3   56   97   61\nCONECT    5    3   98   99    6\nCONECT    6    5    7    8\nCONECT    7    6  100   11   63\nCONECT    8    6    9   10\nCONECT    9    8\nCONECT   10    8   11   12\nCONECT   11   10    7  101   66\nCONECT   12   10  102  103   13\nCONECT   13   15   12   14\nCONECT   14   13  104   18   68\nCONECT   15   13   16   17\nCONECT   16   15\nCONECT   17   15   18   19\nCONECT   18   14   17  105   71\nCONECT   19   17  106  107   20\nCONECT   20   19   22   21\nCONECT   21   20  108   25   73\nCONECT   22   20   23   24\nCONECT   23   22\nCONECT   24   26   22   25\nCONECT   25   21   24  109   76\nCONECT   26   24   27  110  111\nCONECT   27   26   29   28\nCONECT   28   32   27  112   78\nCONECT   29   27   30   31\nCONECT   30   29\nCONECT   31   29   33   32\nCONECT   32   28   31  113   81\nCONECT   33   31   34  114  115\nCONECT   34   33   36   35\nCONECT   35   34   39  116   83\nCONECT   36   34   38   37\nCONECT   37   36\nCONECT   38   36   40   39\nCONECT   39   35   38  117   86\nCONECT   40   38   41  118  119\nCONECT   41   40   43   42\nCONECT   42   41   46  120   88\nCONECT   43   41   45   44\nCONECT   44   43\nCONECT   45   43   47   46\nCONECT   46   42   45  121   91\nCONECT   47   45  122  123   48\nCONECT   48   47   50   49\nCONECT   49   54   48  124   93\nCONECT   50   48   51   52\nCONECT   51   50\nCONECT   52   50   53   54\nCONECT   53   52  125  126   55\nCONECT   54   49   52  127   95\nCONECT   55    2   53   56\nCONECT   56    4   55  128   57\nCONECT   57   58   56   59\nCONECT   58   57   95  129  130\nCONECT   59   61   57   60\nCONECT   60   59\nCONECT   61   59    4   62\nCONECT   62   61  131  132   63\nCONECT   63   62    7   64\nCONECT   64   63   65   66\nCONECT   65   64\nCONECT   66   64   11   67\nCONECT   67   66  133  134   68\nCONECT   68   14   67   69\nCONECT   69   68   70   71\nCONECT   70   69\nCONECT   71   69   18   72\nCONECT   72   73   71  135  136\nCONECT   73   72   21   74\nCONECT   74   76   73   75\nCONECT   75   74\nCONECT   76   74   25   77\nCONECT   77   76   78  137  138\nCONECT   78   77   79   28\nCONECT   79   78   81   80\nCONECT   80   79\nCONECT   81   79   82   32\nCONECT   82   81   83  139  140\nCONECT   83   82   84   35\nCONECT   84   83   86   85\nCONECT   85   84\nCONECT   86   84   87   39\nCONECT   87   86   88  141  142\nCONECT   88   87   89   42\nCONECT   89   88   91   90\nCONECT   90   89\nCONECT   91   89   92   46\nCONECT   92   91   93  143  144\nCONECT   93   92   49   94\nCONECT   94   93   95   96\nCONECT   95   58   94   54\nCONECT   96   94\nCONECT   97    4\nCONECT   98    5\nCONECT   99    5\nCONECT  100    7\nCONECT  101   11\nCONECT  102   12\nCONECT  103   12\nCONECT  104   14\nCONECT  105   18\nCONECT  106   19\nCONECT  107   19\nCONECT  108   21\nCONECT  109   25\nCONECT  110   26\nCONECT  111   26\nCONECT  112   28\nCONECT  113   32\nCONECT  114   33\nCONECT  115   33\nCONECT  116   35\nCONECT  117   39\nCONECT  118   40\nCONECT  119   40\nCONECT  120   42\nCONECT  121   46\nCONECT  122   47\nCONECT  123   47\nCONECT  124   49\nCONECT  125   53\nCONECT  126   53\nCONECT  127   54\nCONECT  128   56\nCONECT  129   58\nCONECT  130   58\nCONECT  131   62\nCONECT  132   62\nCONECT  133   67\nCONECT  134   67\nCONECT  135   72\nCONECT  136   72\nCONECT  137   77\nCONECT  138   77\nCONECT  139   82\nCONECT  140   82\nCONECT  141   87\nCONECT  142   87\nCONECT  143   92\nCONECT  144   92\nCONECT  146  154  166\nCONECT  147  148  154  170\nCONECT  148  147  156  171\nCONECT  149  151  155  172\nCONECT  150  152  155  173\nCONECT  151  149  158  174\nCONECT  152  150  158  175\nCONECT  153  154  157  176\nCONECT  154  146  147  153\nCONECT  155  149  150  160\nCONECT  156  148  157  160\nCONECT  157  153  156  159\nCONECT  158  151  152  169\nCONECT  159  157  168  177  178\nCONECT  160  155  156  163  168\nCONECT  161  167  179  180  181\nCONECT  162  167  182  183  184\nCONECT  163  160  164  185  186\nCONECT  164  163  165  187  188\nCONECT  165  164  167  189  190\nCONECT  166  146\nCONECT  167  161  162  165  191\nCONECT  168  159  160\nCONECT  169  158\nCONECT  170  147\nCONECT  171  148\nCONECT  172  149\nCONECT  173  150\nCONECT  174  151\nCONECT  175  152\nCONECT  176  153\nCONECT  177  159\nCONECT  178  159\nCONECT  179  161\nCONECT  180  161\nCONECT  181  161\nCONECT  182  162\nCONECT  183  162\nCONECT  184  162\nCONECT  185  163\nCONECT  186  163\nCONECT  187  164\nCONECT  188  164\nCONECT  189  165\nCONECT  190  165\nCONECT  191  167\nEND\n",
           "type": "blob"
          }
         ],
         "kwargs": {
          "defaultRepresentation": false,
          "ext": "pdb"
         },
         "methodName": "loadFile",
         "reconstruc_color_scheme": false,
         "target": "Stage",
         "type": "call_method"
        },
        {
         "args": [],
         "component_index": 0,
         "kwargs": {},
         "methodName": "removeAllRepresentations",
         "reconstruc_color_scheme": false,
         "target": "compList",
         "type": "call_method"
        },
        {
         "args": [
          "unitcell"
         ],
         "component_index": 0,
         "kwargs": {},
         "methodName": "addRepresentation",
         "reconstruc_color_scheme": false,
         "target": "compList",
         "type": "call_method"
        },
        {
         "args": [
          "line"
         ],
         "component_index": 0,
         "kwargs": {
          "sele": "water"
         },
         "methodName": "addRepresentation",
         "reconstruc_color_scheme": false,
         "target": "compList",
         "type": "call_method"
        },
        {
         "args": [
          "spacefill"
         ],
         "component_index": 0,
         "kwargs": {
          "sele": "ion"
         },
         "methodName": "addRepresentation",
         "reconstruc_color_scheme": false,
         "target": "compList",
         "type": "call_method"
        },
        {
         "args": [
          "cartoon"
         ],
         "component_index": 0,
         "kwargs": {
          "sele": "protein"
         },
         "methodName": "addRepresentation",
         "reconstruc_color_scheme": false,
         "target": "compList",
         "type": "call_method"
        },
        {
         "args": [
          "licorice"
         ],
         "component_index": 0,
         "kwargs": {
          "multipleBond": false,
          "radius": 0.25,
          "sele": "not water and not ion and not protein"
         },
         "methodName": "addRepresentation",
         "reconstruc_color_scheme": false,
         "target": "compList",
         "type": "call_method"
        }
       ],
       "_ngl_original_stage_parameters": {},
       "_ngl_repr_dict": {},
       "_ngl_serialize": false,
       "_ngl_version": "",
       "_ngl_view_id": [],
       "_player_dict": {},
       "_scene_position": {},
       "_scene_rotation": {},
       "_synced_model_ids": [],
       "_synced_repr_model_ids": [],
       "_view_count": null,
       "_view_height": "",
       "_view_module": "nglview-js-widgets",
       "_view_module_version": "3.0.8",
       "_view_name": "NGLView",
       "_view_width": "",
       "background": "white",
       "frame": 0,
       "gui_style": null,
       "layout": "IPY_MODEL_4e4b03f7bf3c4b22863323f252a4da73",
       "max_frame": 0,
       "n_components": 0,
       "picked": {},
       "tabbable": null,
       "tooltip": null
      }
     },
     "f9c640f4ac8d4f4e914ac21c91d16d43": {
      "buffers": [
       {
        "data": "",
        "encoding": "base64",
        "path": [
         "value"
        ]
       }
      ],
      "model_module": "@jupyter-widgets/controls",
      "model_module_version": "2.0.0",
      "model_name": "ImageModel",
      "state": {
       "_dom_classes": [],
       "_model_module": "@jupyter-widgets/controls",
       "_model_module_version": "2.0.0",
       "_model_name": "ImageModel",
       "_view_count": null,
       "_view_module": "@jupyter-widgets/controls",
       "_view_module_version": "2.0.0",
       "_view_name": "ImageView",
       "format": "png",
       "height": "",
       "layout": "IPY_MODEL_b14f67dee6ce48b388cdc97c89173b4e",
       "tabbable": null,
       "tooltip": null,
       "width": "900.0"
      }
     }
    },
    "version_major": 2,
    "version_minor": 0
   }
  }
 },
 "nbformat": 4,
 "nbformat_minor": 5
}
