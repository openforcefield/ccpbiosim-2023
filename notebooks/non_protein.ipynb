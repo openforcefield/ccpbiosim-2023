{
 "cells": [
  {
   "cell_type": "markdown",
   "id": "e71b3ebb",
   "metadata": {},
   "source": [
    "# Simulating non-proteins and assigning charges to large molecules\n",
    "\n",
    "We don't want you to get the impression that OpenFF only handles protein-ligand simulations. In fact, our force fields are trained to small molecule physical properties - for example part of the training of Sage was making sure it could reproduce experimental densities of organic mixtures. To show the versatility of our force fields, the following example will simulate [a \"host-guest\" system from the SAMPL6 challenge](https://github.com/samplchallenges/SAMPL6/tree/master/host_guest). "
   ]
  },
  {
   "cell_type": "code",
   "execution_count": null,
   "id": "df251b61",
   "metadata": {},
   "outputs": [],
   "source": [
    "import nglview\n",
    "import openmm\n",
    "import openmm.unit as openmm_unit\n",
    "from openff.interchange.components._packmol import pack_box\n",
    "from openff.toolkit import ForceField, Molecule, Topology\n",
    "from openff.toolkit.utils._nagl_wrapper import _NAGLToolkitWrapper\n",
    "from pdbfixer import PDBFixer\n",
    "from viz import visualize_topology\n",
    "\n",
    "host = Molecule.from_file(\"../sdf/CB8.sdf\")\n",
    "guest = Molecule.from_file(\"../sdf/CB8-G0.sdf\")\n",
    "top = Topology.from_molecules([host, guest])\n",
    "top.to_file(\"complex.pdb\")\n",
    "nglview.show_file(\"complex.pdb\")"
   ]
  },
  {
   "cell_type": "code",
   "execution_count": null,
   "id": "09e7f58c",
   "metadata": {},
   "outputs": [],
   "source": [
    "host.visualize(backend=\"rdkit\")"
   ]
  },
  {
   "cell_type": "markdown",
   "id": "be5d76dd",
   "metadata": {},
   "source": [
    "Here we'll use OpenMM's \"PDBFixer\" tool to add a box of water and ions. There are many other open source software tools for doing this, including AMBER's `tleap`, GROMACS' `gmx solvate`, and PackMol. We're just using PDBFixer here because it's convenient and we don't have to leave the notebook."
   ]
  },
  {
   "cell_type": "code",
   "execution_count": null,
   "id": "105b88b0",
   "metadata": {},
   "outputs": [],
   "source": [
    "fixer = PDBFixer(\"complex.pdb\")\n",
    "fixer.addSolvent(\n",
    "    padding=1.0 * openmm_unit.nanometer, ionicStrength=0.5 * openmm_unit.molar\n",
    ")\n",
    "\n",
    "with open(\"complex_solvated.pdb\", \"w\") as f:\n",
    "    openmm.app.PDBFile.writeFile(fixer.topology, fixer.positions, f)\n",
    "\n",
    "top = Topology.from_pdb(\"complex_solvated.pdb\", unique_molecules=[host, guest])\n",
    "visualize_topology(top)"
   ]
  },
  {
   "cell_type": "markdown",
   "id": "90a2908e",
   "metadata": {},
   "source": [
    "OpenFF's mainline force fields currently use a semi-empirical (read: \"fast and dirty\") QM method to assign partial charges, called \"AM1BCC\". While this method gives surprisingly good accuracy for its computational cost, said cost scales worse than quadratically with molecule size. So AM1BCC will fail (or run for days) on the \"host\" in this complex, due to the large number of atoms.\n",
    "\n",
    "Thankfully, OpenFF is jumping on the ML bandwagon. We're very close to publishing a graph neural network called \"NAGL\", which we've trained to produce AM1BCC charges. NAGL is very fast, typically running in less than a second. \n",
    "\n",
    "Here, we'll use NAGL to assign partial charges to the host and guest molecules.\n",
    "\n",
    "**Note**: Due to some technical constraints, this example is using a slightly older version of this plugin which prints a bunch of annoying warnings. This will be fixed soon!"
   ]
  },
  {
   "cell_type": "code",
   "execution_count": null,
   "id": "fb27ee9d",
   "metadata": {},
   "outputs": [],
   "source": [
    "nagl_tkw = _NAGLToolkitWrapper()\n",
    "nagl_tkw.assign_partial_charges(host, \"_nagl_am1bccelf10\")\n",
    "nagl_tkw.assign_partial_charges(guest, \"_nagl_am1bccelf10\")\n",
    "print(host.partial_charges)"
   ]
  },
  {
   "cell_type": "markdown",
   "id": "a67bc9dc",
   "metadata": {},
   "source": [
    "Now we create the simulation system. This is the step where charges get assigned. To force the simulation to use the NAGL charges we just generated instead of recalculating everything with \"expensive\" AM1BCC, we use the `charge_from_molecules` keyword argument. "
   ]
  },
  {
   "cell_type": "code",
   "execution_count": null,
   "id": "da92b4c6",
   "metadata": {},
   "outputs": [],
   "source": [
    "ff = ForceField(\"openff-2.1.0.offxml\")\n",
    "interchange = ff.create_interchange(top, charge_from_molecules=[host, guest])\n",
    "sys = interchange.to_openmm()"
   ]
  },
  {
   "cell_type": "markdown",
   "id": "b2dde9f6",
   "metadata": {},
   "source": [
    "Finally, we run and visualize the simulation using some boilerplate code. This is the \"quick and dirty\" version of how to run a simulation. In a real workflow, you'd want to equilibrate the temperature and pressure to make sure things are at the right density and are stable. "
   ]
  },
  {
   "cell_type": "code",
   "execution_count": null,
   "id": "2d9f27ed",
   "metadata": {},
   "outputs": [],
   "source": [
    "import openmm\n",
    "from openff.units import Quantity, unit\n",
    "from openmm import unit as openmm_unit\n",
    "\n",
    "# Construct and configure a Langevin integrator at 300 K with an appropriate friction constant and time-step\n",
    "integrator = openmm.LangevinIntegrator(\n",
    "    300 * openmm_unit.kelvin,\n",
    "    1 / openmm_unit.picosecond,\n",
    "    0.002 * openmm_unit.picoseconds,\n",
    ")\n",
    "\n",
    "# Combine the topology, system, integrator and initial positions into a simulation\n",
    "simulation = openmm.app.Simulation(top.to_openmm(), sys, integrator)\n",
    "simulation.context.setPositions(top.get_positions().to_openmm())\n",
    "simulation.minimizeEnergy()\n",
    "\n",
    "# Add a reporter to record the structure every 10 steps\n",
    "dcd_reporter = openmm.app.DCDReporter(\"trajectory.dcd\", 250)\n",
    "simulation.reporters.append(dcd_reporter)\n",
    "simulation.context.setVelocitiesToTemperature(300 * openmm_unit.kelvin)\n",
    "simulation.runForClockTime(30 * openmm_unit.second)"
   ]
  },
  {
   "cell_type": "code",
   "execution_count": null,
   "id": "a21e71a0",
   "metadata": {},
   "outputs": [],
   "source": [
    "import mdtraj\n",
    "import nglview\n",
    "\n",
    "trajectory: mdtraj.Trajectory = mdtraj.load(\n",
    "    \"trajectory.dcd\", top=mdtraj.Topology.from_openmm(top.to_openmm())\n",
    ")\n",
    "\n",
    "view = nglview.show_mdtraj(trajectory.image_molecules())\n",
    "view.add_representation(\"line\", selection=\"water\")\n",
    "# view.add_representation(\n",
    "#    \"hyperball\", radiusSize=1, radiusScale=0.5, selection=\"not protein and not water\"\n",
    "# )\n",
    "view"
   ]
  },
  {
   "cell_type": "code",
   "execution_count": null,
   "id": "251d630f-2a81-4401-b11b-30d413e22cf2",
   "metadata": {},
   "outputs": [],
   "source": []
  }
 ],
 "metadata": {
  "kernelspec": {
   "display_name": "Python 3 (ipykernel)",
   "language": "python",
   "name": "python3"
  },
  "language_info": {
   "codemirror_mode": {
    "name": "ipython",
    "version": 3
   },
   "file_extension": ".py",
   "mimetype": "text/x-python",
   "name": "python",
   "nbconvert_exporter": "python",
   "pygments_lexer": "ipython3",
   "version": "3.11.5"
  }
 },
 "nbformat": 4,
 "nbformat_minor": 5
}
