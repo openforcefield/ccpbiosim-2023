{
 "cells": [
  {
   "cell_type": "markdown",
   "id": "e71b3ebb",
   "metadata": {},
   "source": [
    "# Simulating non-proteins and assigning charges to large molecules\n",
    "\n",
    "We don't want you to get the impression that OpenFF only handles protein-ligand simulations. In fact, our force fields are trained to small molecule physical properties - for example part of the training of Sage was making sure it could reproduce experimental densities of organic mixtures. To show the versatility of our force fields, the following example will simulate [a \"host-guest\" system from the SAMPL6 challenge](https://github.com/samplchallenges/SAMPL6/tree/master/host_guest). "
   ]
  },
  {
   "cell_type": "code",
   "execution_count": 1,
   "id": "df251b61",
   "metadata": {
    "execution": {
     "iopub.execute_input": "2023-09-27T14:38:20.499412Z",
     "iopub.status.busy": "2023-09-27T14:38:20.498916Z",
     "iopub.status.idle": "2023-09-27T14:38:22.863187Z",
     "shell.execute_reply": "2023-09-27T14:38:22.862672Z"
    },
    "scrolled": true
   },
   "outputs": [
    {
     "data": {
      "application/vnd.jupyter.widget-view+json": {
       "model_id": "3eaf5afce7164bb0b5f9ca2f34f972b2",
       "version_major": 2,
       "version_minor": 0
      },
      "text/plain": []
     },
     "metadata": {},
     "output_type": "display_data"
    },
    {
     "data": {
      "application/vnd.jupyter.widget-view+json": {
       "model_id": "8dad4b83a6de4869b7f33e16aa634fdd",
       "version_major": 2,
       "version_minor": 0
      },
      "text/plain": [
       "NGLWidget()"
      ]
     },
     "metadata": {},
     "output_type": "display_data"
    }
   ],
   "source": [
    "from openff.toolkit import Molecule, Topology\n",
    "from viz import visualize_topology\n",
    "\n",
    "host = Molecule.from_file(\"../sdf/CB8.sdf\")\n",
    "guest = Molecule.from_file(\"../sdf/CB8-G0.sdf\")\n",
    "top = Topology.from_molecules([host, guest])\n",
    "top.to_file(\"host-guest.pdb\")\n",
    "\n",
    "visualize_topology(top)"
   ]
  },
  {
   "cell_type": "markdown",
   "id": "be5d76dd",
   "metadata": {},
   "source": [
    "Here we'll use OpenMM's \"PDBFixer\" tool to add a box of water and ions. There are many other open source software tools for doing this, including AMBER's `tleap`, GROMACS' `gmx solvate`, and PackMol. We're just using PDBFixer here because it's convenient and we don't have to leave the notebook."
   ]
  },
  {
   "cell_type": "code",
   "execution_count": 2,
   "id": "105b88b0",
   "metadata": {
    "execution": {
     "iopub.execute_input": "2023-09-27T14:38:22.873742Z",
     "iopub.status.busy": "2023-09-27T14:38:22.873152Z",
     "iopub.status.idle": "2023-09-27T14:38:39.873266Z",
     "shell.execute_reply": "2023-09-27T14:38:39.872861Z"
    }
   },
   "outputs": [
    {
     "data": {
      "application/vnd.jupyter.widget-view+json": {
       "model_id": "2e9dbdeb24134981b285771ec0a3b31e",
       "version_major": 2,
       "version_minor": 0
      },
      "text/plain": [
       "NGLWidget()"
      ]
     },
     "metadata": {},
     "output_type": "display_data"
    }
   ],
   "source": [
    "import openmm.app\n",
    "import openmm.unit\n",
    "from pdbfixer import PDBFixer\n",
    "\n",
    "fixer = PDBFixer(\"host-guest.pdb\")\n",
    "fixer.addSolvent(\n",
    "    padding=1.0 * openmm.unit.nanometer,\n",
    "    ionicStrength=0.5 * openmm.unit.molar,\n",
    ")\n",
    "\n",
    "with open(\"host-guest_solvated.pdb\", \"w\") as f:\n",
    "    openmm.app.PDBFile.writeFile(fixer.topology, fixer.positions, f)\n",
    "\n",
    "top = Topology.from_pdb(\"host-guest_solvated.pdb\", unique_molecules=[host, guest])\n",
    "visualize_topology(top)"
   ]
  },
  {
   "cell_type": "markdown",
   "id": "90a2908e",
   "metadata": {},
   "source": [
    "OpenFF's mainline force fields currently use a semi-empirical (read: \"fast and dirty\") QM method to assign partial charges, called \"AM1BCC\". While this method gives surprisingly good accuracy for its computational cost, said cost scales worse than quadratically with molecule size. So AM1BCC will fail (or run for days) on the \"host\" in this complex, due to the large number of atoms.\n",
    "\n",
    "Thankfully, OpenFF is jumping on the ML bandwagon. We're very close to publishing a graph neural network called \"NAGL\", which we've trained to produce AM1BCC charges. NAGL is very fast, typically running in less than a second. \n",
    "\n",
    "Here, we'll use NAGL to assign partial charges to the host and guest molecules.\n",
    "\n",
    "**Note**: Due to some technical constraints, this example is using a slightly older version of this plugin which prints a bunch of annoying warnings. This will be fixed soon!"
   ]
  },
  {
   "cell_type": "code",
   "execution_count": 3,
   "id": "fb27ee9d",
   "metadata": {
    "execution": {
     "iopub.execute_input": "2023-09-27T14:38:39.883740Z",
     "iopub.status.busy": "2023-09-27T14:38:39.883548Z",
     "iopub.status.idle": "2023-09-27T14:38:44.633246Z",
     "shell.execute_reply": "2023-09-27T14:38:44.632726Z"
    }
   },
   "outputs": [
    {
     "name": "stderr",
     "output_type": "stream",
     "text": [
      "Warning (not error because allow_undefined_stereo=True): RDMol has unspecified stereochemistry. RDMol name: C8LUndefined chiral centers are:\n",
      " - Atom C (index 3)\n",
      " - Atom C (index 4)\n",
      " - Atom C (index 6)\n",
      " - Atom C (index 10)\n",
      " - Atom C (index 11)\n",
      " - Atom C (index 13)\n",
      " - Atom C (index 17)\n",
      " - Atom C (index 18)\n",
      " - Atom C (index 20)\n",
      " - Atom C (index 24)\n",
      " - Atom C (index 25)\n",
      " - Atom C (index 27)\n",
      " - Atom C (index 31)\n",
      " - Atom C (index 32)\n",
      " - Atom C (index 34)\n",
      " - Atom C (index 38)\n",
      " - Atom C (index 39)\n",
      " - Atom C (index 41)\n",
      " - Atom C (index 45)\n",
      " - Atom C (index 46)\n",
      " - Atom C (index 48)\n",
      " - Atom C (index 52)\n",
      " - Atom C (index 53)\n",
      " - Atom C (index 55)\n",
      " - Atom C (index 57)\n",
      " - Atom C (index 61)\n",
      " - Atom C (index 66)\n",
      " - Atom C (index 71)\n",
      " - Atom C (index 76)\n",
      " - Atom C (index 81)\n",
      " - Atom C (index 86)\n",
      " - Atom C (index 91)\n",
      "\n",
      "Warning (not error because allow_undefined_stereo=True): RDMol has unspecified stereochemistry. Undefined chiral centers are:\n",
      " - Atom C (index 13)\n",
      " - Atom C (index 15)\n",
      " - Atom C (index 16)\n",
      " - Atom C (index 17)\n",
      " - Atom C (index 18)\n",
      " - Atom C (index 19)\n",
      " - Atom N (index 21)\n",
      "\n"
     ]
    },
    {
     "name": "stdout",
     "output_type": "stream",
     "text": [
      "[-0.5945126274600625 0.7963424464687705 -0.46853987965732813 0.1959001561626792 0.27432878222316504 -0.4685399392619729 0.1959001263603568 0.7963424464687705 -0.5945126274600625 -0.4685399988666177 0.19590009655803442 0.27432878222316504 -0.4685399392619729 0.1959001561626792 0.7963424464687705 -0.5945126274600625 -0.46853987965732813 0.1959001561626792 0.27432878222316504 -0.4685399988666177 0.19590009655803442 0.7963424464687705 -0.5945126274600625 -0.4685399988666177 0.1959001263603568 0.27432878222316504 -0.4685399392619729 0.1959001561626792 0.7963424464687705 -0.5945126274600625 -0.4685399392619729 0.1959001561626792 0.27432878222316504 -0.4685399988666177 0.1959001263603568 0.7963424464687705 -0.5945126274600625 -0.4685399988666177 0.1959001263603568 0.27432878222316504 -0.46853987965732813 0.1959001561626792 0.7963424464687705 -0.5945126274600625 -0.4685399392619729 0.1959001561626792 0.27432878222316504 -0.4685399392619729 0.19590009655803442 0.7963424464687705 -0.5945126274600625 -0.4685399392619729 0.27432878222316504 0.1959001561626792 -0.46853987965732813 0.1959001561626792 -0.4685399392619729 0.27432878222316504 0.7963424464687705 -0.5945126274600625 -0.46853987965732813 0.27432878222316504 -0.46853987965732813 0.7963424464687705 -0.5945126274600625 -0.4685399988666177 0.27432878222316504 -0.4685399392619729 0.7963424464687705 -0.5945126274600625 -0.46853987965732813 0.27432878222316504 -0.4685399392619729 0.7963424464687705 -0.5945126274600625 -0.4685399988666177 0.27432878222316504 -0.4685399392619729 0.7963424464687705 -0.5945126274600625 -0.46853987965732813 0.27432878222316504 -0.46853987965732813 0.7963424464687705 -0.5945126274600625 -0.4685399988666177 0.27432878222316504 -0.4685399392619729 0.7963424464687705 -0.5945126274600625 -0.46853987965732813 0.27432878222316504 -0.46853987965732813 0.7963423868641257 -0.4685399392619729 -0.5945126274600625 0.0899404352530837 0.08754034247249365 0.08754034247249365 0.08994042780250311 0.0899404352530837 0.08754034247249365 0.08754034247249365 0.08994042780250311 0.0899404352530837 0.08754034247249365 0.08754034247249365 0.08994042780250311 0.0899404352530837 0.08754034247249365 0.08754034247249365 0.08994042780250311 0.0899404352530837 0.08754034247249365 0.08754034247249365 0.08994042780250311 0.0899404352530837 0.08754034247249365 0.08754034247249365 0.08994042780250311 0.0899404352530837 0.08754034247249365 0.08754034247249365 0.08994042780250311 0.08754034247249365 0.08754034247249365 0.0899404352530837 0.08994042780250311 0.08754034247249365 0.08754034247249365 0.08754034247249365 0.08754034247249365 0.08754034247249365 0.08754034247249365 0.08754034992307425 0.08754037972539663 0.08754035737365484 0.08754037972539663 0.08754035737365484 0.08754037972539663 0.08754035737365484 0.08754037972539663 0.08754035737365484 0.08754037972539663] elementary_charge\n"
     ]
    }
   ],
   "source": [
    "from openff.toolkit.utils._nagl_wrapper import _NAGLToolkitWrapper\n",
    "\n",
    "nagl_tkw = _NAGLToolkitWrapper()\n",
    "nagl_tkw.assign_partial_charges(host, \"_nagl_am1bccelf10\")\n",
    "nagl_tkw.assign_partial_charges(guest, \"_nagl_am1bccelf10\")\n",
    "print(host.partial_charges)"
   ]
  },
  {
   "cell_type": "markdown",
   "id": "a67bc9dc",
   "metadata": {},
   "source": [
    "Now we create the simulation system. This is the step where charges get assigned. To force the simulation to use the NAGL charges we just generated instead of recalculating everything with \"expensive\" AM1BCC, we use the `charge_from_molecules` keyword argument. "
   ]
  },
  {
   "cell_type": "code",
   "execution_count": 4,
   "id": "da92b4c6",
   "metadata": {
    "execution": {
     "iopub.execute_input": "2023-09-27T14:38:44.636534Z",
     "iopub.status.busy": "2023-09-27T14:38:44.635811Z",
     "iopub.status.idle": "2023-09-27T14:38:49.709117Z",
     "shell.execute_reply": "2023-09-27T14:38:49.708489Z"
    }
   },
   "outputs": [],
   "source": [
    "from openff.toolkit import ForceField\n",
    "\n",
    "sage = ForceField(\"openff-2.1.0.offxml\")\n",
    "interchange = sage.create_interchange(top, charge_from_molecules=[host, guest])\n",
    "sys = interchange.to_openmm()"
   ]
  },
  {
   "cell_type": "markdown",
   "id": "b2dde9f6",
   "metadata": {},
   "source": [
    "Finally, we run and visualize the simulation using some boilerplate code. This is the \"quick and dirty\" version of how to run a simulation. In a real workflow, you'd want to equilibrate the temperature and pressure to make sure things are at the right density and are stable. "
   ]
  },
  {
   "cell_type": "code",
   "execution_count": 5,
   "id": "2d9f27ed",
   "metadata": {
    "execution": {
     "iopub.execute_input": "2023-09-27T14:38:49.711759Z",
     "iopub.status.busy": "2023-09-27T14:38:49.711431Z",
     "iopub.status.idle": "2023-09-27T14:39:27.749058Z",
     "shell.execute_reply": "2023-09-27T14:39:27.748555Z"
    }
   },
   "outputs": [],
   "source": [
    "import openmm\n",
    "\n",
    "# Construct and configure a Langevin integrator at 300 K with an appropriate friction constant and time-step\n",
    "integrator = openmm.LangevinIntegrator(\n",
    "    300 * openmm.unit.kelvin,\n",
    "    1 / openmm.unit.picosecond,\n",
    "    0.002 * openmm.unit.picoseconds,\n",
    ")\n",
    "\n",
    "# Combine the topology, system, integrator and initial positions into a simulation\n",
    "simulation = openmm.app.Simulation(top.to_openmm(), sys, integrator)\n",
    "simulation.context.setPositions(top.get_positions().to_openmm())\n",
    "simulation.minimizeEnergy()\n",
    "\n",
    "# Add a reporter to record the structure every 250 steps\n",
    "dcd_reporter = openmm.app.DCDReporter(\"non_protein.dcd\", 250)\n",
    "simulation.reporters.append(dcd_reporter)\n",
    "simulation.context.setVelocitiesToTemperature(300 * openmm.unit.kelvin)\n",
    "simulation.runForClockTime(30 * openmm.unit.second)"
   ]
  },
  {
   "cell_type": "code",
   "execution_count": 6,
   "id": "e988e5f3-daf4-4763-a844-e188c934466c",
   "metadata": {
    "execution": {
     "iopub.execute_input": "2023-09-27T14:39:27.751875Z",
     "iopub.status.busy": "2023-09-27T14:39:27.751691Z",
     "iopub.status.idle": "2023-09-27T14:39:28.150249Z",
     "shell.execute_reply": "2023-09-27T14:39:28.149835Z"
    }
   },
   "outputs": [
    {
     "data": {
      "application/vnd.jupyter.widget-view+json": {
       "model_id": "2552a6f0c64c4057bb1c2b2f83a2f9c7",
       "version_major": 2,
       "version_minor": 0
      },
      "text/plain": [
       "NGLWidget(max_frame=101)"
      ]
     },
     "metadata": {},
     "output_type": "display_data"
    }
   ],
   "source": [
    "import mdtraj\n",
    "import nglview\n",
    "\n",
    "trajectory: mdtraj.Trajectory = mdtraj.load(\n",
    "    \"non_protein.dcd\", top=mdtraj.Topology.from_openmm(top.to_openmm())\n",
    ")\n",
    "\n",
    "view = nglview.show_mdtraj(\n",
    "    trajectory.image_molecules(\n",
    "        anchor_molecules=[\n",
    "            [\n",
    "                trajectory.topology.atom(index)\n",
    "                for index in range(top.molecule(0).n_atoms + top.molecule(1).n_atoms)\n",
    "            ]\n",
    "        ]\n",
    "    )\n",
    ")\n",
    "\n",
    "view.add_representation(\"line\", selection=\"water\")\n",
    "view"
   ]
  }
 ],
 "metadata": {
  "kernelspec": {
   "display_name": "Python 3 (ipykernel)",
   "language": "python",
   "name": "python3"
  },
  "language_info": {
   "codemirror_mode": {
    "name": "ipython",
    "version": 3
   },
   "file_extension": ".py",
   "mimetype": "text/x-python",
   "name": "python",
   "nbconvert_exporter": "python",
   "pygments_lexer": "ipython3",
   "version": "3.11.5"
  },
  "widgets": {
   "application/vnd.jupyter.widget-state+json": {
    "state": {
     "048c38cea92b469da147877d0da45b93": {
      "model_module": "@jupyter-widgets/controls",
      "model_module_version": "2.0.0",
      "model_name": "LinkModel",
      "state": {
       "_model_module": "@jupyter-widgets/controls",
       "_model_module_version": "2.0.0",
       "_model_name": "LinkModel",
       "_view_count": null,
       "_view_module": "@jupyter-widgets/controls",
       "_view_module_version": "2.0.0",
       "_view_name": null,
       "source": [
        "IPY_MODEL_261f3df80a1a4826b3aad46b43a120a0",
        "max"
       ],
       "target": [
        "IPY_MODEL_2552a6f0c64c4057bb1c2b2f83a2f9c7",
        "max_frame"
       ]
      }
     },
     "06610b650f6b4056b5d7a819ea2117c8": {
      "model_module": "@jupyter-widgets/controls",
      "model_module_version": "2.0.0",
      "model_name": "LinkModel",
      "state": {
       "_model_module": "@jupyter-widgets/controls",
       "_model_module_version": "2.0.0",
       "_model_name": "LinkModel",
       "_view_count": null,
       "_view_module": "@jupyter-widgets/controls",
       "_view_module_version": "2.0.0",
       "_view_name": null,
       "source": [
        "IPY_MODEL_b635b17ea1c8446ab2beb3a7507b8a6d",
        "value"
       ],
       "target": [
        "IPY_MODEL_63104181bd464c53a386b01fd484f5e1",
        "value"
       ]
      }
     },
     "08b4be31bba54b4e8193a3ae6256628d": {
      "model_module": "@jupyter-widgets/controls",
      "model_module_version": "2.0.0",
      "model_name": "ButtonStyleModel",
      "state": {
       "_model_module": "@jupyter-widgets/controls",
       "_model_module_version": "2.0.0",
       "_model_name": "ButtonStyleModel",
       "_view_count": null,
       "_view_module": "@jupyter-widgets/base",
       "_view_module_version": "2.0.0",
       "_view_name": "StyleView",
       "button_color": null,
       "font_family": null,
       "font_size": null,
       "font_style": null,
       "font_variant": null,
       "font_weight": null,
       "text_color": null,
       "text_decoration": null
      }
     },
     "0d95fa09d1574e8b989601e243b05a1e": {
      "model_module": "@jupyter-widgets/base",
      "model_module_version": "2.0.0",
      "model_name": "LayoutModel",
      "state": {
       "_model_module": "@jupyter-widgets/base",
       "_model_module_version": "2.0.0",
       "_model_name": "LayoutModel",
       "_view_count": null,
       "_view_module": "@jupyter-widgets/base",
       "_view_module_version": "2.0.0",
       "_view_name": "LayoutView",
       "align_content": null,
       "align_items": null,
       "align_self": null,
       "border_bottom": null,
       "border_left": null,
       "border_right": null,
       "border_top": null,
       "bottom": null,
       "display": null,
       "flex": null,
       "flex_flow": null,
       "grid_area": null,
       "grid_auto_columns": null,
       "grid_auto_flow": null,
       "grid_auto_rows": null,
       "grid_column": null,
       "grid_gap": null,
       "grid_row": null,
       "grid_template_areas": null,
       "grid_template_columns": null,
       "grid_template_rows": null,
       "height": null,
       "justify_content": null,
       "justify_items": null,
       "left": null,
       "margin": null,
       "max_height": null,
       "max_width": null,
       "min_height": null,
       "min_width": null,
       "object_fit": null,
       "object_position": null,
       "order": null,
       "overflow": null,
       "padding": null,
       "right": null,
       "top": null,
       "visibility": null,
       "width": null
      }
     },
     "144955e7e2a24430ba24063c8dd034db": {
      "model_module": "@jupyter-widgets/base",
      "model_module_version": "2.0.0",
      "model_name": "LayoutModel",
      "state": {
       "_model_module": "@jupyter-widgets/base",
       "_model_module_version": "2.0.0",
       "_model_name": "LayoutModel",
       "_view_count": null,
       "_view_module": "@jupyter-widgets/base",
       "_view_module_version": "2.0.0",
       "_view_name": "LayoutView",
       "align_content": null,
       "align_items": null,
       "align_self": null,
       "border_bottom": null,
       "border_left": null,
       "border_right": null,
       "border_top": null,
       "bottom": null,
       "display": null,
       "flex": null,
       "flex_flow": null,
       "grid_area": null,
       "grid_auto_columns": null,
       "grid_auto_flow": null,
       "grid_auto_rows": null,
       "grid_column": null,
       "grid_gap": null,
       "grid_row": null,
       "grid_template_areas": null,
       "grid_template_columns": null,
       "grid_template_rows": null,
       "height": null,
       "justify_content": null,
       "justify_items": null,
       "left": null,
       "margin": null,
       "max_height": null,
       "max_width": null,
       "min_height": null,
       "min_width": null,
       "object_fit": null,
       "object_position": null,
       "order": null,
       "overflow": null,
       "padding": null,
       "right": null,
       "top": null,
       "visibility": null,
       "width": null
      }
     },
     "201c7a3fe0aa4bb6a95ee41532911705": {
      "model_module": "@jupyter-widgets/base",
      "model_module_version": "2.0.0",
      "model_name": "LayoutModel",
      "state": {
       "_model_module": "@jupyter-widgets/base",
       "_model_module_version": "2.0.0",
       "_model_name": "LayoutModel",
       "_view_count": null,
       "_view_module": "@jupyter-widgets/base",
       "_view_module_version": "2.0.0",
       "_view_name": "LayoutView",
       "align_content": null,
       "align_items": null,
       "align_self": null,
       "border_bottom": null,
       "border_left": null,
       "border_right": null,
       "border_top": null,
       "bottom": null,
       "display": null,
       "flex": null,
       "flex_flow": null,
       "grid_area": null,
       "grid_auto_columns": null,
       "grid_auto_flow": null,
       "grid_auto_rows": null,
       "grid_column": null,
       "grid_gap": null,
       "grid_row": null,
       "grid_template_areas": null,
       "grid_template_columns": null,
       "grid_template_rows": null,
       "height": null,
       "justify_content": null,
       "justify_items": null,
       "left": null,
       "margin": null,
       "max_height": null,
       "max_width": null,
       "min_height": null,
       "min_width": null,
       "object_fit": null,
       "object_position": null,
       "order": null,
       "overflow": null,
       "padding": null,
       "right": null,
       "top": null,
       "visibility": null,
       "width": null
      }
     },
     "22edaa02b15346018721a3f80e28ec68": {
      "model_module": "@jupyter-widgets/base",
      "model_module_version": "2.0.0",
      "model_name": "LayoutModel",
      "state": {
       "_model_module": "@jupyter-widgets/base",
       "_model_module_version": "2.0.0",
       "_model_name": "LayoutModel",
       "_view_count": null,
       "_view_module": "@jupyter-widgets/base",
       "_view_module_version": "2.0.0",
       "_view_name": "LayoutView",
       "align_content": null,
       "align_items": null,
       "align_self": null,
       "border_bottom": null,
       "border_left": null,
       "border_right": null,
       "border_top": null,
       "bottom": null,
       "display": null,
       "flex": null,
       "flex_flow": null,
       "grid_area": null,
       "grid_auto_columns": null,
       "grid_auto_flow": null,
       "grid_auto_rows": null,
       "grid_column": null,
       "grid_gap": null,
       "grid_row": null,
       "grid_template_areas": null,
       "grid_template_columns": null,
       "grid_template_rows": null,
       "height": null,
       "justify_content": null,
       "justify_items": null,
       "left": null,
       "margin": null,
       "max_height": null,
       "max_width": null,
       "min_height": null,
       "min_width": null,
       "object_fit": null,
       "object_position": null,
       "order": null,
       "overflow": null,
       "padding": null,
       "right": null,
       "top": null,
       "visibility": null,
       "width": "34px"
      }
     },
     "2552a6f0c64c4057bb1c2b2f83a2f9c7": {
      "model_module": "nglview-js-widgets",
      "model_module_version": "3.0.8",
      "model_name": "NGLModel",
      "state": {
       "_camera_orientation": [],
       "_camera_str": "orthographic",
       "_dom_classes": [],
       "_gui_theme": null,
       "_ibtn_fullscreen": "IPY_MODEL_a5a775ae0d5a4fdf9b11f086350637ee",
       "_igui": null,
       "_iplayer": "IPY_MODEL_ad73ddf3ffb542dcb260e6b94fc9a780",
       "_model_module": "nglview-js-widgets",
       "_model_module_version": "3.0.8",
       "_model_name": "NGLModel",
       "_ngl_color_dict": {},
       "_ngl_coordinate_resource": {},
       "_ngl_full_stage_parameters": {},
       "_ngl_msg_archive": [
        {
         "args": [
          {
           "binary": false,
           "data": "REMARK   1 CREATED WITH MDTraj 1.9.9, 2023-09-27\nCRYST1   26.574   26.574   26.574  90.00  90.00  90.00 P 1           1 \nMODEL        0\nATOM      1  O1x UNK A   1      10.903  14.115  18.494  1.00  0.00           O  \nATOM      2  C1x UNK A   1       9.970  13.701  17.893  1.00  0.00           C  \nATOM      3  N1x UNK A   1       9.184  14.367  16.959  1.00  0.00           N  \nATOM      4  C2x UNK A   1       8.025  13.603  16.518  1.00  0.00           C  \nATOM      5  C3x UNK A   1       9.167  15.868  17.001  1.00  0.00           C  \nATOM      6  N2x UNK A   1       9.059  16.491  15.661  1.00  0.00           N  \nATOM      7  C4x UNK A   1       8.087  16.211  14.549  1.00  0.00           C  \nATOM      8  C5x UNK A   1       9.902  17.503  15.274  1.00  0.00           C  \nATOM      9  O2x UNK A   1      10.643  18.073  16.067  1.00  0.00           O  \nATOM     10  N3x UNK A   1       9.617  18.007  14.028  1.00  0.00           N  \nATOM     11  C6x UNK A   1       8.340  17.368  13.514  1.00  0.00           C  \nATOM     12  C7x UNK A   1      10.295  19.288  13.519  1.00  0.00           C  \nATOM     13  N4x UNK A   1      10.970  18.983  12.269  1.00  0.00           N  \nATOM     14  C8x UNK A   1      10.320  18.983  10.938  1.00  0.00           C  \nATOM     15  C9x UNK A   1      12.335  19.145  12.151  1.00  0.00           C  \nATOM     16  O3x UNK A   1      13.078  19.577  13.016  1.00  0.00           O  \nATOM     17  N5x UNK A   1      12.644  18.982  10.832  1.00  0.00           N  \nATOM     18 C10x UNK A   1      11.509  19.126   9.961  1.00  0.00           C  \nATOM     19 C11x UNK A   1      14.094  19.069  10.361  1.00  0.00           C  \nATOM     20  N6x UNK A   1      14.701  17.783   9.923  1.00  0.00           N  \nATOM     21 C12x UNK A   1      14.554  17.282   8.550  1.00  0.00           C  \nATOM     22 C13x UNK A   1      15.339  16.967  10.747  1.00  0.00           C  \nATOM     23  O4x UNK A   1      15.819  17.316  11.815  1.00  0.00           O  \nATOM     24  N7x UNK A   1      15.741  15.883  10.021  1.00  0.00           N  \nATOM     25 C14x UNK A   1      15.269  15.957   8.622  1.00  0.00           C  \nATOM     26 C15x UNK A   1      16.990  15.273  10.348  1.00  0.00           C  \nATOM     27  N8x UNK A   1      16.839  13.777  10.207  1.00  0.00           N  \nATOM     28 C16x UNK A   1      16.763  13.126   8.905  1.00  0.00           C  \nATOM     29 C17x UNK A   1      17.507  12.931  11.087  1.00  0.00           C  \nATOM     30  O5x UNK A   1      18.050  13.316  12.096  1.00  0.00           O  \nATOM     31  N9x UNK A   1      17.841  11.755  10.465  1.00  0.00           N  \nATOM     32 C18x UNK A   1      17.470  11.830   9.090  1.00  0.00           C  \nATOM     33 C19x UNK A   1      18.884  10.837  10.971  1.00  0.00           C  \nATOM     34 N10x UNK A   1      18.338   9.625  11.494  1.00  0.00           N  \nATOM     35 C20x UNK A   1      17.911   8.516  10.723  1.00  0.00           C  \nATOM     36 C21x UNK A   1      18.173   9.496  12.866  1.00  0.00           C  \nATOM     37  O6x UNK A   1      18.561  10.284  13.730  1.00  0.00           O  \nATOM     38 N11x UNK A   1      17.719   8.220  13.090  1.00  0.00           N  \nATOM     39 C22x UNK A   1      17.515   7.508  11.839  1.00  0.00           C  \nATOM     40 C23x UNK A   1      17.491   7.622  14.405  1.00  0.00           C  \nATOM     41 N12x UNK A   1      16.115   7.578  14.860  1.00  0.00           N  \nATOM     42 C24x UNK A   1      15.222   6.474  14.650  1.00  0.00           C  \nATOM     43 C25x UNK A   1      15.571   8.541  15.679  1.00  0.00           C  \nATOM     44  O7x UNK A   1      16.187   9.491  16.115  1.00  0.00           O  \nATOM     45 N13x UNK A   1      14.401   8.031  16.233  1.00  0.00           N  \nATOM     46 C26x UNK A   1      14.007   6.740  15.628  1.00  0.00           C  \nATOM     47 C27x UNK A   1      13.765   8.520  17.505  1.00  0.00           C  \nATOM     48 N14x UNK A   1      12.365   9.033  17.325  1.00  0.00           N  \nATOM     49 C28x UNK A   1      11.246   8.125  17.297  1.00  0.00           C  \nATOM     50 C29x UNK A   1      12.051  10.276  17.802  1.00  0.00           C  \nATOM     51  O8x UNK A   1      12.742  11.149  18.280  1.00  0.00           O  \nATOM     52 N15x UNK A   1      10.681  10.273  18.146  1.00  0.00           N  \nATOM     53 C30x UNK A   1      10.044  11.364  18.908  1.00  0.00           C  \nATOM     54 C31x UNK A   1      10.073   8.963  17.810  1.00  0.00           C  \nATOM     55 N16x UNK A   1       9.474  12.399  18.034  1.00  0.00           N  \nATOM     56 C32x UNK A   1       8.171  12.274  17.343  1.00  0.00           C  \nATOM     57 N17x UNK A   1       8.233  11.220  16.295  1.00  0.00           N  \nATOM     58 C33x UNK A   1       7.941   9.857  16.690  1.00  0.00           C  \nATOM     59 C34x UNK A   1       8.248  11.730  15.031  1.00  0.00           C  \nATOM     60  O9x UNK A   1       8.096  11.116  13.984  1.00  0.00           O  \nATOM     61 N18x UNK A   1       8.231  13.110  15.071  1.00  0.00           N  \nATOM     62 C35x UNK A   1       7.585  13.780  13.985  1.00  0.00           C  \nATOM     63 N19x UNK A   1       8.330  15.031  13.743  1.00  0.00           N  \nATOM     64 C36x UNK A   1       8.687  15.289  12.445  1.00  0.00           C  \nATOM     65 O10x UNK A   1       9.066  14.471  11.583  1.00  0.00           O  \nATOM     66 N20x UNK A   1       8.608  16.636  12.255  1.00  0.00           N  \nATOM     67 C37x UNK A   1       8.520  17.248  10.935  1.00  0.00           C  \nATOM     68 N21x UNK A   1       9.719  17.719  10.543  1.00  0.00           N  \nATOM     69 C38x UNK A   1      10.168  17.361   9.274  1.00  0.00           C  \nATOM     70 O11x UNK A   1       9.558  16.827   8.392  1.00  0.00           O  \nATOM     71 N22x UNK A   1      11.262  18.091   9.051  1.00  0.00           N  \nATOM     72 C39x UNK A   1      12.082  17.863   7.856  1.00  0.00           C  \nATOM     73 N23x UNK A   1      13.168  16.938   8.123  1.00  0.00           N  \nATOM     74 C40x UNK A   1      13.045  15.565   8.037  1.00  0.00           C  \nATOM     75 O12x UNK A   1      12.097  15.077   7.409  1.00  0.00           O  \nATOM     76 N24x UNK A   1      14.288  14.966   8.321  1.00  0.00           N  \nATOM     77 C41x UNK A   1      14.598  13.703   7.669  1.00  0.00           C  \nATOM     78 N25x UNK A   1      15.376  12.796   8.519  1.00  0.00           N  \nATOM     79 C42x UNK A   1      15.264  11.486   8.373  1.00  0.00           C  \nATOM     80 O13x UNK A   1      14.248  10.892   8.002  1.00  0.00           O  \nATOM     81 N26x UNK A   1      16.428  10.884   8.830  1.00  0.00           N  \nATOM     82 C43x UNK A   1      16.656   9.472   8.719  1.00  0.00           C  \nATOM     83 N27x UNK A   1      16.667   8.780  10.008  1.00  0.00           N  \nATOM     84 C44x UNK A   1      15.606   8.128  10.546  1.00  0.00           C  \nATOM     85 O14x UNK A   1      14.486   8.047  10.070  1.00  0.00           O  \nATOM     86 N28x UNK A   1      16.107   7.286  11.572  1.00  0.00           N  \nATOM     87 C45x UNK A   1      15.392   6.106  12.105  1.00  0.00           C  \nATOM     88 N29x UNK A   1      14.653   6.495  13.330  1.00  0.00           N  \nATOM     89 C46x UNK A   1      13.260   6.562  13.421  1.00  0.00           C  \nATOM     90 O15x UNK A   1      12.480   6.314  12.493  1.00  0.00           O  \nATOM     91 N30x UNK A   1      12.877   6.868  14.746  1.00  0.00           N  \nATOM     92 C47x UNK A   1      11.477   6.619  15.195  1.00  0.00           C  \nATOM     93 N31x UNK A   1      10.907   7.774  15.948  1.00  0.00           N  \nATOM     94 C48x UNK A   1       9.622   8.282  15.670  1.00  0.00           C  \nATOM     95 N32x UNK A   1       9.197   9.031  16.669  1.00  0.00           N  \nATOM     96 O16x UNK A   1       8.956   8.054  14.689  1.00  0.00           O  \nATOM     97  H1x UNK A   1       7.064  14.070  16.736  1.00  0.00           H  \nATOM     98  H2x UNK A   1      10.071  16.173  17.528  1.00  0.00           H  \nATOM     99  H3x UNK A   1       8.329  16.167  17.631  1.00  0.00           H  \nATOM    100  H4x UNK A   1       7.038  16.327  14.820  1.00  0.00           H  \nATOM    101  H5x UNK A   1       7.509  18.073  13.478  1.00  0.00           H  \nATOM    102  H6x UNK A   1      11.052  19.638  14.221  1.00  0.00           H  \nATOM    103  H7x UNK A   1       9.555  20.071  13.352  1.00  0.00           H  \nATOM    104  H8x UNK A   1       9.650  19.832  10.803  1.00  0.00           H  \nATOM    105  H9x UNK A   1      11.367  20.100   9.493  1.00  0.00           H  \nATOM    106 H10x UNK A   1      14.641  19.612  11.132  1.00  0.00           H  \nATOM    107 H11x UNK A   1      14.087  19.784   9.538  1.00  0.00           H  \nATOM    108 H12x UNK A   1      14.974  17.836   7.711  1.00  0.00           H  \nATOM    109 H13x UNK A   1      16.041  15.973   7.852  1.00  0.00           H  \nATOM    110 H14x UNK A   1      17.802  15.556   9.678  1.00  0.00           H  \nATOM    111 H15x UNK A   1      17.244  15.440  11.395  1.00  0.00           H  \nATOM    112 H16x UNK A   1      17.276  13.697   8.131  1.00  0.00           H  \nATOM    113 H17x UNK A   1      18.269  11.728   8.356  1.00  0.00           H  \nATOM    114 H18x UNK A   1      19.568  10.657  10.142  1.00  0.00           H  \nATOM    115 H19x UNK A   1      19.495  11.315  11.737  1.00  0.00           H  \nATOM    116 H20x UNK A   1      18.722   8.025  10.185  1.00  0.00           H  \nATOM    117 H21x UNK A   1      18.094   6.593  11.710  1.00  0.00           H  \nATOM    118 H22x UNK A   1      17.946   6.634  14.487  1.00  0.00           H  \nATOM    119 H23x UNK A   1      18.034   8.187  15.163  1.00  0.00           H  \nATOM    120 H24x UNK A   1      15.713   5.518  14.833  1.00  0.00           H  \nATOM    121 H25x UNK A   1      13.861   5.943  16.358  1.00  0.00           H  \nATOM    122 H26x UNK A   1      13.833   7.763  18.286  1.00  0.00           H  \nATOM    123 H27x UNK A   1      14.365   9.388  17.778  1.00  0.00           H  \nATOM    124 H28x UNK A   1      11.407   7.308  18.000  1.00  0.00           H  \nATOM    125 H29x UNK A   1      10.764  11.857  19.560  1.00  0.00           H  \nATOM    126 H30x UNK A   1       9.240  10.964  19.527  1.00  0.00           H  \nATOM    127 H31x UNK A   1       9.616   8.495  18.682  1.00  0.00           H  \nATOM    128 H32x UNK A   1       7.349  12.138  18.046  1.00  0.00           H  \nATOM    129 H33x UNK A   1       7.602   9.884  17.725  1.00  0.00           H  \nATOM    130 H34x UNK A   1       7.115   9.409  16.138  1.00  0.00           H  \nATOM    131 H35x UNK A   1       6.530  13.995  14.155  1.00  0.00           H  \nATOM    132 H36x UNK A   1       7.604  13.207  13.058  1.00  0.00           H  \nATOM    133 H37x UNK A   1       7.759  18.029  10.944  1.00  0.00           H  \nATOM    134 H38x UNK A   1       8.132  16.521  10.221  1.00  0.00           H  \nATOM    135 H39x UNK A   1      12.555  18.776   7.493  1.00  0.00           H  \nATOM    136 H40x UNK A   1      11.480  17.493   7.026  1.00  0.00           H  \nATOM    137 H41x UNK A   1      13.663  13.230   7.369  1.00  0.00           H  \nATOM    138 H42x UNK A   1      15.163  13.832   6.746  1.00  0.00           H  \nATOM    139 H43x UNK A   1      16.017   9.013   7.965  1.00  0.00           H  \nATOM    140 H44x UNK A   1      17.649   9.344   8.287  1.00  0.00           H  \nATOM    141 H45x UNK A   1      14.729   5.739  11.320  1.00  0.00           H  \nATOM    142 H46x UNK A   1      16.119   5.368  12.446  1.00  0.00           H  \nATOM    143 H47x UNK A   1      10.895   6.450  14.288  1.00  0.00           H  \nATOM    144 H48x UNK A   1      11.436   5.673  15.734  1.00  0.00           H  \nTER     145      UNK A   1\nATOM    146  C1x UNK B   1      12.149  11.326  10.633  1.00  0.00           C  \nATOM    147  C2x UNK B   1      13.949  12.707  11.596  1.00  0.00           C  \nATOM    148  C3x UNK B   1      14.440  13.663  12.526  1.00  0.00           C  \nATOM    149  C4x UNK B   1      16.188  13.867  15.247  1.00  0.00           C  \nATOM    150  C5x UNK B   1      14.517  13.734  17.067  1.00  0.00           C  \nATOM    151  C6x UNK B   1      17.012  13.059  15.994  1.00  0.00           C  \nATOM    152  C7x UNK B   1      15.423  12.928  17.796  1.00  0.00           C  \nATOM    153  C8x UNK B   1      11.752  12.654  12.633  1.00  0.00           C  \nATOM    154  C9x UNK B   1      12.635  12.297  11.608  1.00  0.00           C  \nATOM    155 C10x UNK B   1      14.885  14.123  15.728  1.00  0.00           C  \nATOM    156 C11x UNK B   1      13.573  14.017  13.583  1.00  0.00           C  \nATOM    157 C12x UNK B   1      12.290  13.573  13.610  1.00  0.00           C  \nATOM    158 C13x UNK B   1      16.651  12.580  17.296  1.00  0.00           C  \nATOM    159 C14x UNK B   1      11.590  14.124  14.797  1.00  0.00           C  \nATOM    160 C15x UNK B   1      13.860  14.854  14.834  1.00  0.00           C  \nATOM    161 C16x UNK B   1      16.489  19.879  13.797  1.00  0.00           C  \nATOM    162 C17x UNK B   1      17.570  17.845  14.734  1.00  0.00           C  \nATOM    163 C18x UNK B   1      14.375  16.268  14.510  1.00  0.00           C  \nATOM    164 C19x UNK B   1      14.915  17.000  15.783  1.00  0.00           C  \nATOM    165 C20x UNK B   1      15.239  18.441  15.378  1.00  0.00           C  \nATOM    166  N1x UNK B   1      11.708  10.514   9.919  1.00  0.00           N  \nATOM    167  N2x UNK B   1      16.308  18.528  14.330  1.00  0.00           N  \nATOM    168  O1x UNK B   1      12.517  15.037  15.445  1.00  0.00           O  \nATOM    169  F1x UNK B   1      17.482  11.824  18.097  1.00  0.00           F  \nATOM    170  H1x UNK B   1      14.648  12.307  10.873  1.00  0.00           H  \nATOM    171  H2x UNK B   1      15.448  14.056  12.526  1.00  0.00           H  \nATOM    172  H3x UNK B   1      16.521  14.265  14.298  1.00  0.00           H  \nATOM    173  H4x UNK B   1      13.503  13.875  17.415  1.00  0.00           H  \nATOM    174  H5x UNK B   1      17.997  12.763  15.658  1.00  0.00           H  \nATOM    175  H6x UNK B   1      15.202  12.648  18.818  1.00  0.00           H  \nATOM    176  H7x UNK B   1      10.725  12.318  12.675  1.00  0.00           H  \nATOM    177  H8x UNK B   1      10.731  14.701  14.454  1.00  0.00           H  \nATOM    178  H9x UNK B   1      11.259  13.282  15.406  1.00  0.00           H  \nATOM    179 H10x UNK B   1      16.831  20.538  14.595  1.00  0.00           H  \nATOM    180 H11x UNK B   1      17.284  19.920  13.053  1.00  0.00           H  \nATOM    181 H12x UNK B   1      15.519  20.175  13.399  1.00  0.00           H  \nATOM    182 H13x UNK B   1      17.888  18.255  15.693  1.00  0.00           H  \nATOM    183 H14x UNK B   1      17.349  16.778  14.774  1.00  0.00           H  \nATOM    184 H15x UNK B   1      18.340  18.063  13.994  1.00  0.00           H  \nATOM    185 H16x UNK B   1      15.175  16.119  13.784  1.00  0.00           H  \nATOM    186 H17x UNK B   1      13.556  16.813  14.040  1.00  0.00           H  \nATOM    187 H18x UNK B   1      14.075  17.024  16.477  1.00  0.00           H  \nATOM    188 H19x UNK B   1      15.755  16.526  16.292  1.00  0.00           H  \nATOM    189 H20x UNK B   1      14.313  18.952  15.116  1.00  0.00           H  \nATOM    190 H21x UNK B   1      15.613  18.955  16.263  1.00  0.00           H  \nATOM    191 H22x UNK B   1      15.935  18.051  13.506  1.00  0.00           H  \nTER     192      UNK B   1\nATOM    193  O   HOH C   1       2.582  12.427  14.039  1.00  0.00           O  \nATOM    194  H1  HOH C   1       2.779  13.086  14.705  1.00  0.00           H  \nATOM    195  H2  HOH C   1       3.027  11.637  14.344  1.00  0.00           H  \nTER     196      HOH C   1\nATOM    197  O   HOH D   2      18.178  16.825   2.539  1.00  0.00           O  \nATOM    198  H1  HOH D   2      17.674  16.277   3.141  1.00  0.00           H  \nATOM    199  H2  HOH D   2      17.521  17.216   1.964  1.00  0.00           H  \nTER     200      HOH D   2\nATOM    201  O   HOH E   3      19.352   0.648  21.813  1.00  0.00           O  \nATOM    202  H1  HOH E   3      19.283  -0.030  22.485  1.00  0.00           H  \nATOM    203  H2  HOH E   3      19.885   0.251  21.125  1.00  0.00           H  \nTER     204      HOH E   3\nATOM    205  O   HOH F   4       5.247  18.644  20.909  1.00  0.00           O  \nATOM    206  H1  HOH F   4       4.558  19.206  21.262  1.00  0.00           H  \nATOM    207  H2  HOH F   4       6.062  19.086  21.146  1.00  0.00           H  \nTER     208      HOH F   4\nATOM    209  O   HOH G   5       6.190   6.181   9.035  1.00  0.00           O  \nATOM    210  H1  HOH G   5       5.452   6.547   8.548  1.00  0.00           H  \nATOM    211  H2  HOH G   5       6.878   6.843   8.963  1.00  0.00           H  \nTER     212      HOH G   5\nATOM    213  O   HOH H   6      26.185  12.703   6.966  1.00  0.00           O  \nATOM    214  H1  HOH H   6      25.491  13.239   6.581  1.00  0.00           H  \nATOM    215  H2  HOH H   6      26.202  11.911   6.430  1.00  0.00           H  \nTER     216      HOH H   6\nATOM    217  O   HOH I   7      17.499  18.384   8.165  1.00  0.00           O  \nATOM    218  H1  HOH I   7      17.295  18.914   8.936  1.00  0.00           H  \nATOM    219  H2  HOH I   7      17.663  19.023   7.471  1.00  0.00           H  \nTER     220      HOH I   7\nATOM    221  O   HOH J   8      11.335  11.439   5.701  1.00  0.00           O  \nATOM    222  H1  HOH J   8      10.909  11.584   6.546  1.00  0.00           H  \nATOM    223  H2  HOH J   8      11.304  12.291   5.267  1.00  0.00           H  \nTER     224      HOH J   8\nATOM    225  O   HOH K   9      17.732  15.933  18.320  1.00  0.00           O  \nATOM    226  H1  HOH K   9      17.764  15.225  18.963  1.00  0.00           H  \nATOM    227  H2  HOH K   9      18.289  15.632  17.603  1.00  0.00           H  \nTER     228      HOH K   9\nATOM    229  O   HOH L  10      21.798   9.588   5.508  1.00  0.00           O  \nATOM    230  H1  HOH L  10      22.334   9.665   4.719  1.00  0.00           H  \nATOM    231  H2  HOH L  10      22.076  10.320   6.060  1.00  0.00           H  \nTER     232      HOH L  10\nATOM    233  O   HOH M  11       6.559  13.692   8.959  1.00  0.00           O  \nATOM    234  H1  HOH M  11       6.949  13.760   9.830  1.00  0.00           H  \nATOM    235  H2  HOH M  11       5.636  13.907   9.092  1.00  0.00           H  \nTER     236      HOH M  11\nATOM    237  O   HOH N  12      12.877  23.507  14.474  1.00  0.00           O  \nATOM    238  H1  HOH N  12      13.353  24.295  14.212  1.00  0.00           H  \nATOM    239  H2  HOH N  12      12.445  23.209  13.673  1.00  0.00           H  \nTER     240      HOH N  12\nATOM    241  O   HOH O  13      18.319  21.405   1.692  1.00  0.00           O  \nATOM    242  H1  HOH O  13      17.898  22.157   1.277  1.00  0.00           H  \nATOM    243  H2  HOH O  13      17.978  20.647   1.218  1.00  0.00           H  \nTER     244      HOH O  13\nATOM    245  O   HOH P  14      18.196   6.377  23.545  1.00  0.00           O  \nATOM    246  H1  HOH P  14      18.104   5.972  24.408  1.00  0.00           H  \nATOM    247  H2  HOH P  14      18.007   5.670  22.927  1.00  0.00           H  \nTER     248      HOH P  14\nATOM    249  O   HOH Q  15       1.751  20.050   4.115  1.00  0.00           O  \nATOM    250  H1  HOH Q  15       2.577  19.973   3.636  1.00  0.00           H  \nATOM    251  H2  HOH Q  15       1.690  19.239   4.620  1.00  0.00           H  \nTER     252      HOH Q  15\nATOM    253  O   HOH R  16      12.549  13.072  25.896  1.00  0.00           O  \nATOM    254  H1  HOH R  16      12.398  13.839  26.449  1.00  0.00           H  \nATOM    255  H2  HOH R  16      11.755  12.998  25.367  1.00  0.00           H  \nTER     256      HOH R  16\nATOM    257  O   HOH S  17      18.258  22.638  11.458  1.00  0.00           O  \nATOM    258  H1  HOH S  17      17.965  23.341  10.878  1.00  0.00           H  \nATOM    259  H2  HOH S  17      18.813  23.076  12.103  1.00  0.00           H  \nTER     260      HOH S  17\nATOM    261  O   HOH T  18      12.629  22.067   8.826  1.00  0.00           O  \nATOM    262  H1  HOH T  18      11.939  22.730   8.786  1.00  0.00           H  \nATOM    263  H2  HOH T  18      12.683  21.723   7.934  1.00  0.00           H  \nTER     264      HOH T  18\nATOM    265  O   HOH U  19       1.470   7.206   4.124  1.00  0.00           O  \nATOM    266  H1  HOH U  19       1.698   6.325   3.828  1.00  0.00           H  \nATOM    267  H2  HOH U  19       2.282   7.553   4.494  1.00  0.00           H  \nTER     268      HOH U  19\nATOM    269  O   HOH V  20       2.907   0.928  16.169  1.00  0.00           O  \nATOM    270  H1  HOH V  20       2.125   1.347  15.811  1.00  0.00           H  \nATOM    271  H2  HOH V  20       3.615   1.206  15.588  1.00  0.00           H  \nTER     272      HOH V  20\nATOM    273  O   HOH W  21      10.785   2.590  17.710  1.00  0.00           O  \nATOM    274  H1  HOH W  21      10.736   3.345  18.296  1.00  0.00           H  \nATOM    275  H2  HOH W  21      11.634   2.191  17.904  1.00  0.00           H  \nTER     276      HOH W  21\nATOM    277  O   HOH X  22      15.479   0.611   7.791  1.00  0.00           O  \nATOM    278  H1  HOH X  22      15.493   0.777   6.848  1.00  0.00           H  \nATOM    279  H2  HOH X  22      15.663  -0.324   7.873  1.00  0.00           H  \nTER     280      HOH X  22\nATOM    281  O   HOH Y  23       8.548   5.126   4.138  1.00  0.00           O  \nATOM    282  H1  HOH Y  23       8.820   5.927   3.691  1.00  0.00           H  \nATOM    283  H2  HOH Y  23       7.977   5.426   4.845  1.00  0.00           H  \nTER     284      HOH Y  23\nATOM    285  O   HOH Z  24      23.872   8.109  17.625  1.00  0.00           O  \nATOM    286  H1  HOH Z  24      23.873   7.218  17.275  1.00  0.00           H  \nATOM    287  H2  HOH Z  24      23.401   8.040  18.455  1.00  0.00           H  \nTER     288      HOH Z  24\nATOM    289  O   HOH A  25       8.173  13.194   6.775  1.00  0.00           O  \nATOM    290  H1  HOH A  25       7.857  13.502   7.624  1.00  0.00           H  \nATOM    291  H2  HOH A  25       8.745  12.456   6.985  1.00  0.00           H  \nTER     292      HOH A  25\nATOM    293  O   HOH B  26       7.991   2.859  11.992  1.00  0.00           O  \nATOM    294  H1  HOH B  26       8.413   2.428  11.249  1.00  0.00           H  \nATOM    295  H2  HOH B  26       8.446   3.697  12.075  1.00  0.00           H  \nTER     296      HOH B  26\nATOM    297  O   HOH C  27      22.384   4.023   1.775  1.00  0.00           O  \nATOM    298  H1  HOH C  27      21.621   3.920   1.207  1.00  0.00           H  \nATOM    299  H2  HOH C  27      22.466   4.969   1.896  1.00  0.00           H  \nTER     300      HOH C  27\nATOM    301  O   HOH D  28      21.076  20.121  14.946  1.00  0.00           O  \nATOM    302  H1  HOH D  28      20.489  20.730  15.393  1.00  0.00           H  \nATOM    303  H2  HOH D  28      21.314  20.569  14.134  1.00  0.00           H  \nTER     304      HOH D  28\nATOM    305  O   HOH E  29       9.449  25.190   1.213  1.00  0.00           O  \nATOM    306  H1  HOH E  29       9.564  26.060   0.829  1.00  0.00           H  \nATOM    307  H2  HOH E  29      10.119  25.139   1.895  1.00  0.00           H  \nTER     308      HOH E  29\nATOM    309  O   HOH F  30       4.257   2.898  12.223  1.00  0.00           O  \nATOM    310  H1  HOH F  30       3.430   3.344  12.040  1.00  0.00           H  \nATOM    311  H2  HOH F  30       4.928   3.560  12.055  1.00  0.00           H  \nTER     312      HOH F  30\nATOM    313  O   HOH G  31      14.703   4.524  21.965  1.00  0.00           O  \nATOM    314  H1  HOH G  31      15.636   4.681  21.817  1.00  0.00           H  \nATOM    315  H2  HOH G  31      14.505   3.748  21.440  1.00  0.00           H  \nTER     316      HOH G  31\nATOM    317  O   HOH H  32       4.694  12.678   5.671  1.00  0.00           O  \nATOM    318  H1  HOH H  32       5.062  12.337   6.486  1.00  0.00           H  \nATOM    319  H2  HOH H  32       3.798  12.928   5.900  1.00  0.00           H  \nTER     320      HOH H  32\nATOM    321  O   HOH I  33      10.776   4.470  19.677  1.00  0.00           O  \nATOM    322  H1  HOH I  33      11.618   4.906  19.548  1.00  0.00           H  \nATOM    323  H2  HOH I  33      10.198   5.158  20.006  1.00  0.00           H  \nTER     324      HOH I  33\nATOM    325  O   HOH J  34       2.880  23.037   4.726  1.00  0.00           O  \nATOM    326  H1  HOH J  34       2.694  22.672   5.591  1.00  0.00           H  \nATOM    327  H2  HOH J  34       3.277  22.313   4.240  1.00  0.00           H  \nTER     328      HOH J  34\nATOM    329  O   HOH K  35       8.536   5.496  12.253  1.00  0.00           O  \nATOM    330  H1  HOH K  35       8.574   5.965  13.087  1.00  0.00           H  \nATOM    331  H2  HOH K  35       9.196   5.922  11.707  1.00  0.00           H  \nTER     332      HOH K  35\nATOM    333  O   HOH L  36       5.897  18.391  15.488  1.00  0.00           O  \nATOM    334  H1  HOH L  36       5.028  18.699  15.746  1.00  0.00           H  \nATOM    335  H2  HOH L  36       6.347  19.175  15.175  1.00  0.00           H  \nTER     336      HOH L  36\nATOM    337  O   HOH M  37      11.792   3.511  12.447  1.00  0.00           O  \nATOM    338  H1  HOH M  37      12.002   4.424  12.641  1.00  0.00           H  \nATOM    339  H2  HOH M  37      11.353   3.193  13.237  1.00  0.00           H  \nTER     340      HOH M  37\nATOM    341  O   HOH N  38      10.264   7.241  10.371  1.00  0.00           O  \nATOM    342  H1  HOH N  38      10.297   8.080  10.829  1.00  0.00           H  \nATOM    343  H2  HOH N  38       9.750   7.418   9.583  1.00  0.00           H  \nTER     344      HOH N  38\nATOM    345  O   HOH O  39      15.346  18.588   4.537  1.00  0.00           O  \nATOM    346  H1  HOH O  39      15.475  18.330   3.624  1.00  0.00           H  \nATOM    347  H2  HOH O  39      14.727  17.945   4.883  1.00  0.00           H  \nTER     348      HOH O  39\nATOM    349  O   HOH P  40       6.895   1.100   3.112  1.00  0.00           O  \nATOM    350  H1  HOH P  40       7.230   0.966   3.998  1.00  0.00           H  \nATOM    351  H2  HOH P  40       7.207   1.971   2.866  1.00  0.00           H  \nTER     352      HOH P  40\nATOM    353  O   HOH Q  41       8.894   7.906   7.558  1.00  0.00           O  \nATOM    354  H1  HOH Q  41       8.448   8.540   8.121  1.00  0.00           H  \nATOM    355  H2  HOH Q  41       9.534   8.426   7.073  1.00  0.00           H  \nTER     356      HOH Q  41\nATOM    357  O   HOH R  42       7.997   9.286   9.681  1.00  0.00           O  \nATOM    358  H1  HOH R  42       8.499   9.520  10.461  1.00  0.00           H  \nATOM    359  H2  HOH R  42       7.082   9.367   9.950  1.00  0.00           H  \nTER     360      HOH R  42\nATOM    361  O   HOH S  43       8.931  22.670   4.402  1.00  0.00           O  \nATOM    362  H1  HOH S  43       9.007  22.243   5.255  1.00  0.00           H  \nATOM    363  H2  HOH S  43       9.835  22.802   4.118  1.00  0.00           H  \nTER     364      HOH S  43\nATOM    365  O   HOH T  44      11.895  25.834   6.975  1.00  0.00           O  \nATOM    366  H1  HOH T  44      12.400  26.185   7.709  1.00  0.00           H  \nATOM    367  H2  HOH T  44      12.521  25.792   6.252  1.00  0.00           H  \nTER     368      HOH T  44\nATOM    369  O   HOH U  45       1.455   8.488  15.145  1.00  0.00           O  \nATOM    370  H1  HOH U  45       0.841   9.133  14.795  1.00  0.00           H  \nATOM    371  H2  HOH U  45       1.144   8.319  16.034  1.00  0.00           H  \nTER     372      HOH U  45\nATOM    373  O   HOH V  46       3.234   4.260  18.380  1.00  0.00           O  \nATOM    374  H1  HOH V  46       4.002   4.007  17.868  1.00  0.00           H  \nATOM    375  H2  HOH V  46       2.489   3.963  17.857  1.00  0.00           H  \nTER     376      HOH V  46\nATOM    377  O   HOH W  47       5.884   4.969  11.508  1.00  0.00           O  \nATOM    378  H1  HOH W  47       5.914   5.445  10.678  1.00  0.00           H  \nATOM    379  H2  HOH W  47       6.800   4.902  11.780  1.00  0.00           H  \nTER     380      HOH W  47\nATOM    381  O   HOH X  48       2.336   3.676   6.940  1.00  0.00           O  \nATOM    382  H1  HOH X  48       1.954   2.807   7.061  1.00  0.00           H  \nATOM    383  H2  HOH X  48       3.025   3.547   6.288  1.00  0.00           H  \nTER     384      HOH X  48\nATOM    385  O   HOH Y  49      12.899   2.595   1.654  1.00  0.00           O  \nATOM    386  H1  HOH Y  49      12.673   3.022   0.828  1.00  0.00           H  \nATOM    387  H2  HOH Y  49      12.957   3.311   2.287  1.00  0.00           H  \nTER     388      HOH Y  49\nATOM    389  O   HOH Z  50      21.695  18.306  25.424  1.00  0.00           O  \nATOM    390  H1  HOH Z  50      22.402  17.721  25.695  1.00  0.00           H  \nATOM    391  H2  HOH Z  50      21.984  19.176  25.700  1.00  0.00           H  \nTER     392      HOH Z  50\nATOM    393  O   HOH A  51       3.415   9.836  18.358  1.00  0.00           O  \nATOM    394  H1  HOH A  51       4.130   9.204  18.435  1.00  0.00           H  \nATOM    395  H2  HOH A  51       3.814  10.600  17.941  1.00  0.00           H  \nTER     396      HOH A  51\nATOM    397  O   HOH B  52      13.194   9.380   3.034  1.00  0.00           O  \nATOM    398  H1  HOH B  52      14.084   9.027   3.035  1.00  0.00           H  \nATOM    399  H2  HOH B  52      13.312  10.330   3.052  1.00  0.00           H  \nTER     400      HOH B  52\nATOM    401  O   HOH C  53       9.942   9.707  26.113  1.00  0.00           O  \nATOM    402  H1  HOH C  53       9.637  10.076  25.284  1.00  0.00           H  \nATOM    403  H2  HOH C  53       9.276   9.964  26.750  1.00  0.00           H  \nTER     404      HOH C  53\nATOM    405  O   HOH D  54      14.315   5.725   8.368  1.00  0.00           O  \nATOM    406  H1  HOH D  54      14.596   4.811   8.390  1.00  0.00           H  \nATOM    407  H2  HOH D  54      15.066   6.198   8.008  1.00  0.00           H  \nTER     408      HOH D  54\nATOM    409  O   HOH E  55      20.761  12.359   8.581  1.00  0.00           O  \nATOM    410  H1  HOH E  55      20.741  13.316   8.602  1.00  0.00           H  \nATOM    411  H2  HOH E  55      21.468  12.147   7.972  1.00  0.00           H  \nTER     412      HOH E  55\nATOM    413  O   HOH F  56       1.344   1.761  10.618  1.00  0.00           O  \nATOM    414  H1  HOH F  56       1.559   1.263  11.406  1.00  0.00           H  \nATOM    415  H2  HOH F  56       1.862   2.563  10.692  1.00  0.00           H  \nTER     416      HOH F  56\nATOM    417  O   HOH G  57       7.603  13.523  20.454  1.00  0.00           O  \nATOM    418  H1  HOH G  57       8.480  13.511  20.838  1.00  0.00           H  \nATOM    419  H2  HOH G  57       7.240  14.370  20.712  1.00  0.00           H  \nTER     420      HOH G  57\nATOM    421  O   HOH H  58       9.015   7.919   2.832  1.00  0.00           O  \nATOM    422  H1  HOH H  58       9.757   7.824   2.234  1.00  0.00           H  \nATOM    423  H2  HOH H  58       9.410   8.171   3.667  1.00  0.00           H  \nTER     424      HOH H  58\nATOM    425  O   HOH I  59       3.984  15.021  22.423  1.00  0.00           O  \nATOM    426  H1  HOH I  59       3.469  15.690  21.972  1.00  0.00           H  \nATOM    427  H2  HOH I  59       4.031  15.324  23.330  1.00  0.00           H  \nTER     428      HOH I  59\nATOM    429  O   HOH J  60       2.770  16.320  14.860  1.00  0.00           O  \nATOM    430  H1  HOH J  60       3.424  16.993  15.052  1.00  0.00           H  \nATOM    431  H2  HOH J  60       1.969  16.637  15.278  1.00  0.00           H  \nTER     432      HOH J  60\nATOM    433  O   HOH K  61       9.820  25.889   9.859  1.00  0.00           O  \nATOM    434  H1  HOH K  61      10.701  26.251   9.763  1.00  0.00           H  \nATOM    435  H2  HOH K  61       9.237  26.611   9.620  1.00  0.00           H  \nTER     436      HOH K  61\nATOM    437  O   HOH L  62      12.700   8.690   7.673  1.00  0.00           O  \nATOM    438  H1  HOH L  62      13.450   9.281   7.735  1.00  0.00           H  \nATOM    439  H2  HOH L  62      12.041   9.187   7.189  1.00  0.00           H  \nTER     440      HOH L  62\nATOM    441  O   HOH M  63      21.301  14.583  12.057  1.00  0.00           O  \nATOM    442  H1  HOH M  63      22.115  14.603  12.560  1.00  0.00           H  \nATOM    443  H2  HOH M  63      20.657  15.003  12.627  1.00  0.00           H  \nTER     444      HOH M  63\nATOM    445  O   HOH N  64       4.965  11.848  17.075  1.00  0.00           O  \nATOM    446  H1  HOH N  64       4.727  11.303  16.325  1.00  0.00           H  \nATOM    447  H2  HOH N  64       4.772  12.742  16.793  1.00  0.00           H  \nTER     448      HOH N  64\nATOM    449  O   HOH O  65       3.202   6.675  19.833  1.00  0.00           O  \nATOM    450  H1  HOH O  65       2.915   5.938  19.295  1.00  0.00           H  \nATOM    451  H2  HOH O  65       3.881   7.103  19.311  1.00  0.00           H  \nTER     452      HOH O  65\nATOM    453  O   HOH P  66      17.312   9.428  20.315  1.00  0.00           O  \nATOM    454  H1  HOH P  66      16.515   9.840  19.980  1.00  0.00           H  \nATOM    455  H2  HOH P  66      17.007   8.845  21.010  1.00  0.00           H  \nTER     456      HOH P  66\nATOM    457  O   HOH Q  67      15.239   2.305  17.158  1.00  0.00           O  \nATOM    458  H1  HOH Q  67      15.300   3.229  17.400  1.00  0.00           H  \nATOM    459  H2  HOH Q  67      14.326   2.072  17.327  1.00  0.00           H  \nTER     460      HOH Q  67\nATOM    461  O   HOH R  68       5.014  24.887  11.878  1.00  0.00           O  \nATOM    462  H1  HOH R  68       5.069  25.095  12.811  1.00  0.00           H  \nATOM    463  H2  HOH R  68       5.239  25.705  11.436  1.00  0.00           H  \nTER     464      HOH R  68\nATOM    465  O   HOH S  69       5.696  14.534  11.811  1.00  0.00           O  \nATOM    466  H1  HOH S  69       4.754  14.671  11.707  1.00  0.00           H  \nATOM    467  H2  HOH S  69       5.784  13.597  11.988  1.00  0.00           H  \nTER     468      HOH S  69\nATOM    469  O   HOH T  70       8.403   1.639   9.116  1.00  0.00           O  \nATOM    470  H1  HOH T  70       9.164   2.174   9.340  1.00  0.00           H  \nATOM    471  H2  HOH T  70       7.752   2.267   8.803  1.00  0.00           H  \nTER     472      HOH T  70\nATOM    473  O   HOH U  71       5.211  25.556  16.834  1.00  0.00           O  \nATOM    474  H1  HOH U  71       4.530  26.207  17.000  1.00  0.00           H  \nATOM    475  H2  HOH U  71       5.386  25.626  15.896  1.00  0.00           H  \nTER     476      HOH U  71\nATOM    477  O   HOH V  72       3.594   7.876   5.586  1.00  0.00           O  \nATOM    478  H1  HOH V  72       3.612   7.599   6.502  1.00  0.00           H  \nATOM    479  H2  HOH V  72       4.342   8.467   5.500  1.00  0.00           H  \nTER     480      HOH V  72\nATOM    481  O   HOH W  73      19.340   6.981  17.619  1.00  0.00           O  \nATOM    482  H1  HOH W  73      19.423   6.622  18.503  1.00  0.00           H  \nATOM    483  H2  HOH W  73      19.526   7.915  17.721  1.00  0.00           H  \nTER     484      HOH W  73\nATOM    485  O   HOH X  74       7.110  15.559   1.812  1.00  0.00           O  \nATOM    486  H1  HOH X  74       7.329  15.081   2.611  1.00  0.00           H  \nATOM    487  H2  HOH X  74       7.952  15.707   1.381  1.00  0.00           H  \nTER     488      HOH X  74\nATOM    489  O   HOH Y  75      10.159   0.953   5.496  1.00  0.00           O  \nATOM    490  H1  HOH Y  75      10.649   0.469   6.161  1.00  0.00           H  \nATOM    491  H2  HOH Y  75      10.539   0.670   4.664  1.00  0.00           H  \nTER     492      HOH Y  75\nATOM    493  O   HOH Z  76      25.303  10.265  21.879  1.00  0.00           O  \nATOM    494  H1  HOH Z  76      25.286   9.875  22.753  1.00  0.00           H  \nATOM    495  H2  HOH Z  76      24.394  10.515  21.711  1.00  0.00           H  \nTER     496      HOH Z  76\nATOM    497  O   HOH A  77      13.093   5.995  19.967  1.00  0.00           O  \nATOM    498  H1  HOH A  77      12.811   6.829  20.342  1.00  0.00           H  \nATOM    499  H2  HOH A  77      13.533   5.545  20.688  1.00  0.00           H  \nTER     500      HOH A  77\nATOM    501  O   HOH B  78      17.938  16.494   6.226  1.00  0.00           O  \nATOM    502  H1  HOH B  78      18.662  17.056   5.949  1.00  0.00           H  \nATOM    503  H2  HOH B  78      17.513  16.980   6.933  1.00  0.00           H  \nTER     504      HOH B  78\nATOM    505  O   HOH C  79      23.908  15.265   9.102  1.00  0.00           O  \nATOM    506  H1  HOH C  79      24.454  14.872   9.784  1.00  0.00           H  \nATOM    507  H2  HOH C  79      24.334  15.017   8.282  1.00  0.00           H  \nTER     508      HOH C  79\nATOM    509  O   HOH D  80       6.011  11.862  12.194  1.00  0.00           O  \nATOM    510  H1  HOH D  80       6.759  11.495  12.666  1.00  0.00           H  \nATOM    511  H2  HOH D  80       5.815  11.216  11.516  1.00  0.00           H  \nTER     512      HOH D  80\nATOM    513  O   HOH E  81       2.751  13.118  10.987  1.00  0.00           O  \nATOM    514  H1  HOH E  81       3.029  12.555  11.710  1.00  0.00           H  \nATOM    515  H2  HOH E  81       2.336  13.868  11.413  1.00  0.00           H  \nTER     516      HOH E  81\nATOM    517  O   HOH F  82       1.906  10.404   9.999  1.00  0.00           O  \nATOM    518  H1  HOH F  82       2.013  11.301  10.315  1.00  0.00           H  \nATOM    519  H2  HOH F  82       2.793  10.123   9.772  1.00  0.00           H  \nTER     520      HOH F  82\nATOM    521  O   HOH G  83       1.453   1.068   7.581  1.00  0.00           O  \nATOM    522  H1  HOH G  83       1.202   1.123   8.503  1.00  0.00           H  \nATOM    523  H2  HOH G  83       2.227   0.505   7.577  1.00  0.00           H  \nTER     524      HOH G  83\nATOM    525  O   HOH H  84       2.793  15.727  12.014  1.00  0.00           O  \nATOM    526  H1  HOH H  84       2.705  15.868  12.957  1.00  0.00           H  \nATOM    527  H2  HOH H  84       2.350  16.477  11.618  1.00  0.00           H  \nTER     528      HOH H  84\nATOM    529  O   HOH I  85      10.271  15.353   3.487  1.00  0.00           O  \nATOM    530  H1  HOH I  85      10.722  15.528   2.661  1.00  0.00           H  \nATOM    531  H2  HOH I  85       9.862  16.187   3.719  1.00  0.00           H  \nTER     532      HOH I  85\nATOM    533  O   HOH J  86       6.441  18.993  18.045  1.00  0.00           O  \nATOM    534  H1  HOH J  86       5.817  18.512  18.589  1.00  0.00           H  \nATOM    535  H2  HOH J  86       6.226  18.737  17.148  1.00  0.00           H  \nTER     536      HOH J  86\nATOM    537  O   HOH K  87       7.781   1.257  14.034  1.00  0.00           O  \nATOM    538  H1  HOH K  87       7.854   1.909  13.337  1.00  0.00           H  \nATOM    539  H2  HOH K  87       8.587   1.356  14.540  1.00  0.00           H  \nTER     540      HOH K  87\nATOM    541  O   HOH L  88      11.240  23.067   3.204  1.00  0.00           O  \nATOM    542  H1  HOH L  88      10.940  22.685   2.379  1.00  0.00           H  \nATOM    543  H2  HOH L  88      12.191  23.116   3.113  1.00  0.00           H  \nTER     544      HOH L  88\nATOM    545  O   HOH M  89       0.175  22.174  16.398  1.00  0.00           O  \nATOM    546  H1  HOH M  89       0.118  21.708  15.564  1.00  0.00           H  \nATOM    547  H2  HOH M  89       1.111  22.334  16.521  1.00  0.00           H  \nTER     548      HOH M  89\nATOM    549  O   HOH N  90      19.272   8.367   5.914  1.00  0.00           O  \nATOM    550  H1  HOH N  90      19.994   8.979   5.779  1.00  0.00           H  \nATOM    551  H2  HOH N  90      19.539   7.574   5.449  1.00  0.00           H  \nTER     552      HOH N  90\nATOM    553  O   HOH O  91       5.621  15.068   5.203  1.00  0.00           O  \nATOM    554  H1  HOH O  91       6.425  15.284   5.675  1.00  0.00           H  \nATOM    555  H2  HOH O  91       5.315  14.257   5.609  1.00  0.00           H  \nTER     556      HOH O  91\nATOM    557  O   HOH P  92      14.062  12.319   3.375  1.00  0.00           O  \nATOM    558  H1  HOH P  92      14.786  12.092   3.958  1.00  0.00           H  \nATOM    559  H2  HOH P  92      13.463  12.826   3.922  1.00  0.00           H  \nTER     560      HOH P  92\nATOM    561  O   HOH Q  93      12.074  15.376  11.007  1.00  0.00           O  \nATOM    562  H1  HOH Q  93      12.306  14.789  11.727  1.00  0.00           H  \nATOM    563  H2  HOH Q  93      11.225  15.740  11.259  1.00  0.00           H  \nTER     564      HOH Q  93\nATOM    565  O   HOH R  94       7.947  19.581  21.822  1.00  0.00           O  \nATOM    566  H1  HOH R  94       8.800  19.162  21.714  1.00  0.00           H  \nATOM    567  H2  HOH R  94       7.969  19.948  22.706  1.00  0.00           H  \nTER     568      HOH R  94\nATOM    569  O   HOH S  95       7.790  20.862   0.646  1.00  0.00           O  \nATOM    570  H1  HOH S  95       7.515  19.965   0.835  1.00  0.00           H  \nATOM    571  H2  HOH S  95       7.440  21.378   1.373  1.00  0.00           H  \nTER     572      HOH S  95\nATOM    573  O   HOH T  96      12.968  -0.006   4.404  1.00  0.00           O  \nATOM    574  H1  HOH T  96      13.690   0.616   4.315  1.00  0.00           H  \nATOM    575  H2  HOH T  96      12.346   0.248   3.722  1.00  0.00           H  \nTER     576      HOH T  96\nATOM    577  O   HOH U  97      11.329   8.283   1.417  1.00  0.00           O  \nATOM    578  H1  HOH U  97      10.908   8.859   0.779  1.00  0.00           H  \nATOM    579  H2  HOH U  97      11.907   8.860   1.916  1.00  0.00           H  \nTER     580      HOH U  97\nATOM    581  O   HOH V  98      14.578  20.610  17.813  1.00  0.00           O  \nATOM    582  H1  HOH V  98      14.261  19.849  18.299  1.00  0.00           H  \nATOM    583  H2  HOH V  98      13.828  20.889  17.289  1.00  0.00           H  \nTER     584      HOH V  98\nATOM    585  O   HOH W  99      24.694  14.927  15.082  1.00  0.00           O  \nATOM    586  H1  HOH W  99      25.364  15.584  15.267  1.00  0.00           H  \nATOM    587  H2  HOH W  99      24.382  14.652  15.944  1.00  0.00           H  \nTER     588      HOH W  99\nATOM    589  O   HOH X 100      14.743   5.714   5.169  1.00  0.00           O  \nATOM    590  H1  HOH X 100      15.216   4.884   5.226  1.00  0.00           H  \nATOM    591  H2  HOH X 100      15.037   6.210   5.934  1.00  0.00           H  \nTER     592      HOH X 100\nATOM    593  O   HOH Y 101      12.106  14.014   4.760  1.00  0.00           O  \nATOM    594  H1  HOH Y 101      11.420  14.442   4.247  1.00  0.00           H  \nATOM    595  H2  HOH Y 101      12.008  14.376   5.640  1.00  0.00           H  \nTER     596      HOH Y 101\nATOM    597  O   HOH Z 102       6.495  26.093   9.012  1.00  0.00           O  \nATOM    598  H1  HOH Z 102       6.291  26.592   9.803  1.00  0.00           H  \nATOM    599  H2  HOH Z 102       7.062  26.673   8.502  1.00  0.00           H  \nTER     600      HOH Z 102\nATOM    601  O   HOH A 103       3.832  14.012   8.696  1.00  0.00           O  \nATOM    602  H1  HOH A 103       3.210  14.117   7.976  1.00  0.00           H  \nATOM    603  H2  HOH A 103       3.356  13.501   9.351  1.00  0.00           H  \nTER     604      HOH A 103\nATOM    605  O   HOH B 104      12.131   9.562  13.271  1.00  0.00           O  \nATOM    606  H1  HOH B 104      12.870  10.054  12.912  1.00  0.00           H  \nATOM    607  H2  HOH B 104      12.325   9.486  14.205  1.00  0.00           H  \nTER     608      HOH B 104\nATOM    609  O   HOH C 105       5.526  11.910  19.785  1.00  0.00           O  \nATOM    610  H1  HOH C 105       5.446  11.934  18.832  1.00  0.00           H  \nATOM    611  H2  HOH C 105       6.276  12.472  19.978  1.00  0.00           H  \nTER     612      HOH C 105\nATOM    613  O   HOH D 106       1.213   1.670  13.922  1.00  0.00           O  \nATOM    614  H1  HOH D 106       1.677   0.913  13.565  1.00  0.00           H  \nATOM    615  H2  HOH D 106       1.840   2.390  13.853  1.00  0.00           H  \nTER     616      HOH D 106\nATOM    617  O   HOH E 107      21.378   1.271  12.465  1.00  0.00           O  \nATOM    618  H1  HOH E 107      22.064   1.075  13.103  1.00  0.00           H  \nATOM    619  H2  HOH E 107      21.015   2.109  12.753  1.00  0.00           H  \nTER     620      HOH E 107\nATOM    621  O   HOH F 108      11.948  18.886   3.532  1.00  0.00           O  \nATOM    622  H1  HOH F 108      11.352  19.030   4.267  1.00  0.00           H  \nATOM    623  H2  HOH F 108      12.412  18.079   3.754  1.00  0.00           H  \nTER     624      HOH F 108\nATOM    625  O   HOH G 109      10.035  13.542   9.276  1.00  0.00           O  \nATOM    626  H1  HOH G 109       9.706  13.928  10.087  1.00  0.00           H  \nATOM    627  H2  HOH G 109      10.758  14.112   9.014  1.00  0.00           H  \nTER     628      HOH G 109\nATOM    629  O   HOH H 110       4.486  16.402   1.145  1.00  0.00           O  \nATOM    630  H1  HOH H 110       5.326  16.011   1.385  1.00  0.00           H  \nATOM    631  H2  HOH H 110       4.581  16.624   0.219  1.00  0.00           H  \nTER     632      HOH H 110\nATOM    633  O   HOH I 111       6.040   1.226  10.997  1.00  0.00           O  \nATOM    634  H1  HOH I 111       6.782   1.644  11.433  1.00  0.00           H  \nATOM    635  H2  HOH I 111       5.302   1.812  11.167  1.00  0.00           H  \nTER     636      HOH I 111\nATOM    637  O   HOH J 112      13.741  16.286  19.134  1.00  0.00           O  \nATOM    638  H1  HOH J 112      14.018  15.479  18.699  1.00  0.00           H  \nATOM    639  H2  HOH J 112      14.556  16.691  19.431  1.00  0.00           H  \nTER     640      HOH J 112\nATOM    641  O   HOH K 113      17.565   5.338  26.005  1.00  0.00           O  \nATOM    642  H1  HOH K 113      16.906   5.971  26.291  1.00  0.00           H  \nATOM    643  H2  HOH K 113      17.070   4.537  25.833  1.00  0.00           H  \nTER     644      HOH K 113\nATOM    645  O   HOH L 114       6.130  11.617   3.562  1.00  0.00           O  \nATOM    646  H1  HOH L 114       5.516  11.897   4.241  1.00  0.00           H  \nATOM    647  H2  HOH L 114       6.905  12.162   3.700  1.00  0.00           H  \nTER     648      HOH L 114\nATOM    649  O   HOH M 115      20.278  11.706  17.757  1.00  0.00           O  \nATOM    650  H1  HOH M 115      20.684  11.163  17.081  1.00  0.00           H  \nATOM    651  H2  HOH M 115      19.339  11.546  17.661  1.00  0.00           H  \nTER     652      HOH M 115\nATOM    653  O   HOH N 116      10.851   8.649   5.076  1.00  0.00           O  \nATOM    654  H1  HOH N 116      10.975   9.591   5.195  1.00  0.00           H  \nATOM    655  H2  HOH N 116      11.701   8.332   4.772  1.00  0.00           H  \nTER     656      HOH N 116\nATOM    657  O   HOH O 117       5.811   4.743   6.501  1.00  0.00           O  \nATOM    658  H1  HOH O 117       5.636   4.830   7.438  1.00  0.00           H  \nATOM    659  H2  HOH O 117       6.460   5.421   6.314  1.00  0.00           H  \nTER     660      HOH O 117\nATOM    661  O   HOH P 118      18.332  10.116  23.354  1.00  0.00           O  \nATOM    662  H1  HOH P 118      17.644   9.547  23.009  1.00  0.00           H  \nATOM    663  H2  HOH P 118      19.147   9.649  23.166  1.00  0.00           H  \nTER     664      HOH P 118\nATOM    665  O   HOH Q 119      20.541  16.501   1.319  1.00  0.00           O  \nATOM    666  H1  HOH Q 119      21.081  17.266   1.520  1.00  0.00           H  \nATOM    667  H2  HOH Q 119      19.719  16.658   1.783  1.00  0.00           H  \nTER     668      HOH Q 119\nATOM    669  O   HOH R 120      16.216  12.127   5.209  1.00  0.00           O  \nATOM    670  H1  HOH R 120      17.059  12.345   4.811  1.00  0.00           H  \nATOM    671  H2  HOH R 120      16.329  11.235   5.539  1.00  0.00           H  \nTER     672      HOH R 120\nATOM    673  O   HOH S 121      15.085  10.142  12.665  1.00  0.00           O  \nATOM    674  H1  HOH S 121      15.628   9.373  12.841  1.00  0.00           H  \nATOM    675  H2  HOH S 121      14.740  10.393  13.522  1.00  0.00           H  \nTER     676      HOH S 121\nATOM    677  O   HOH T 122       5.686  19.072  10.105  1.00  0.00           O  \nATOM    678  H1  HOH T 122       4.994  19.492  10.616  1.00  0.00           H  \nATOM    679  H2  HOH T 122       5.258  18.320   9.694  1.00  0.00           H  \nTER     680      HOH T 122\nATOM    681  O   HOH U 123      10.331   3.593  10.143  1.00  0.00           O  \nATOM    682  H1  HOH U 123      10.588   4.358   9.629  1.00  0.00           H  \nATOM    683  H2  HOH U 123      10.949   3.577  10.874  1.00  0.00           H  \nTER     684      HOH U 123\nATOM    685  O   HOH V 124       7.932  21.783  12.663  1.00  0.00           O  \nATOM    686  H1  HOH V 124       8.452  22.514  12.329  1.00  0.00           H  \nATOM    687  H2  HOH V 124       7.286  21.615  11.977  1.00  0.00           H  \nTER     688      HOH V 124\nATOM    689  O   HOH W 125       8.283  13.239   4.046  1.00  0.00           O  \nATOM    690  H1  HOH W 125       9.134  13.633   3.854  1.00  0.00           H  \nATOM    691  H2  HOH W 125       8.237  13.221   5.001  1.00  0.00           H  \nTER     692      HOH W 125\nATOM    693  O   HOH X 126      16.698   3.782   5.523  1.00  0.00           O  \nATOM    694  H1  HOH X 126      17.305   3.472   6.195  1.00  0.00           H  \nATOM    695  H2  HOH X 126      17.231   4.340   4.957  1.00  0.00           H  \nTER     696      HOH X 126\nATOM    697  O   HOH Y 127      24.742   8.213   8.035  1.00  0.00           O  \nATOM    698  H1  HOH Y 127      25.474   7.998   7.456  1.00  0.00           H  \nATOM    699  H2  HOH Y 127      25.067   8.934   8.574  1.00  0.00           H  \nTER     700      HOH Y 127\nATOM    701  O   HOH Z 128       9.601  11.191   7.955  1.00  0.00           O  \nATOM    702  H1  HOH Z 128       9.769  11.921   8.552  1.00  0.00           H  \nATOM    703  H2  HOH Z 128       9.402  10.452   8.530  1.00  0.00           H  \nTER     704      HOH Z 128\nATOM    705  O   HOH A 129      18.934  11.984  20.556  1.00  0.00           O  \nATOM    706  H1  HOH A 129      18.319  11.254  20.481  1.00  0.00           H  \nATOM    707  H2  HOH A 129      18.389  12.767  20.480  1.00  0.00           H  \nTER     708      HOH A 129\nATOM    709  O   HOH B 130      15.051   4.687  18.417  1.00  0.00           O  \nATOM    710  H1  HOH B 130      15.913   5.077  18.277  1.00  0.00           H  \nATOM    711  H2  HOH B 130      14.597   5.306  18.988  1.00  0.00           H  \nTER     712      HOH B 130\nATOM    713  O   HOH C 131      11.815   8.168  21.789  1.00  0.00           O  \nATOM    714  H1  HOH C 131      11.964   7.977  22.715  1.00  0.00           H  \nATOM    715  H2  HOH C 131      11.654   9.112  21.762  1.00  0.00           H  \nTER     716      HOH C 131\nATOM    717  O   HOH D 132       7.550   9.781   1.252  1.00  0.00           O  \nATOM    718  H1  HOH D 132       7.825   9.016   1.757  1.00  0.00           H  \nATOM    719  H2  HOH D 132       6.970  10.262   1.842  1.00  0.00           H  \nTER     720      HOH D 132\nATOM    721  O   HOH E 133       5.960   8.900  25.850  1.00  0.00           O  \nATOM    722  H1  HOH E 133       6.579   9.251  26.490  1.00  0.00           H  \nATOM    723  H2  HOH E 133       5.717   9.654  25.313  1.00  0.00           H  \nTER     724      HOH E 133\nATOM    725  O   HOH F 134       5.898   9.482  21.266  1.00  0.00           O  \nATOM    726  H1  HOH F 134       4.956   9.347  21.363  1.00  0.00           H  \nATOM    727  H2  HOH F 134       5.980  10.382  20.950  1.00  0.00           H  \nTER     728      HOH F 134\nATOM    729  O   HOH G 135      15.493  14.002  22.265  1.00  0.00           O  \nATOM    730  H1  HOH G 135      15.720  14.697  22.883  1.00  0.00           H  \nATOM    731  H2  HOH G 135      15.725  13.192  22.719  1.00  0.00           H  \nTER     732      HOH G 135\nATOM    733  O   HOH H 136       4.868   6.125   3.597  1.00  0.00           O  \nATOM    734  H1  HOH H 136       5.772   6.261   3.883  1.00  0.00           H  \nATOM    735  H2  HOH H 136       4.339   6.587   4.247  1.00  0.00           H  \nTER     736      HOH H 136\nATOM    737  O   HOH I 137      20.268  19.808  21.941  1.00  0.00           O  \nATOM    738  H1  HOH I 137      20.267  20.729  21.682  1.00  0.00           H  \nATOM    739  H2  HOH I 137      19.504  19.434  21.501  1.00  0.00           H  \nTER     740      HOH I 137\nATOM    741  O   HOH J 138      16.306  11.807  23.490  1.00  0.00           O  \nATOM    742  H1  HOH J 138      17.110  11.288  23.473  1.00  0.00           H  \nATOM    743  H2  HOH J 138      15.609  11.175  23.317  1.00  0.00           H  \nTER     744      HOH J 138\nATOM    745  O   HOH K 139      21.048  12.888  21.770  1.00  0.00           O  \nATOM    746  H1  HOH K 139      20.216  12.526  21.465  1.00  0.00           H  \nATOM    747  H2  HOH K 139      21.428  13.301  20.995  1.00  0.00           H  \nTER     748      HOH K 139\nATOM    749  O   HOH L 140      23.127  11.578   1.323  1.00  0.00           O  \nATOM    750  H1  HOH L 140      22.181  11.641   1.191  1.00  0.00           H  \nATOM    751  H2  HOH L 140      23.405  12.476   1.500  1.00  0.00           H  \nTER     752      HOH L 140\nATOM    753  O   HOH M 141       6.398  25.017  23.495  1.00  0.00           O  \nATOM    754  H1  HOH M 141       6.591  24.781  22.587  1.00  0.00           H  \nATOM    755  H2  HOH M 141       5.447  25.120  23.520  1.00  0.00           H  \nTER     756      HOH M 141\nATOM    757  O   HOH N 142      17.425  14.203  20.409  1.00  0.00           O  \nATOM    758  H1  HOH N 142      17.860  14.958  20.806  1.00  0.00           H  \nATOM    759  H2  HOH N 142      16.617  14.100  20.911  1.00  0.00           H  \nTER     760      HOH N 142\nATOM    761  O   HOH O 143      14.503  15.071  24.726  1.00  0.00           O  \nATOM    762  H1  HOH O 143      14.771  15.129  25.643  1.00  0.00           H  \nATOM    763  H2  HOH O 143      14.137  14.191  24.638  1.00  0.00           H  \nTER     764      HOH O 143\nATOM    765  O   HOH P 144      20.232  17.597  16.664  1.00  0.00           O  \nATOM    766  H1  HOH P 144      20.459  18.502  16.453  1.00  0.00           H  \nATOM    767  H2  HOH P 144      20.480  17.495  17.583  1.00  0.00           H  \nTER     768      HOH P 144\nATOM    769  O   HOH Q 145      16.434   3.631   2.161  1.00  0.00           O  \nATOM    770  H1  HOH Q 145      16.899   2.810   2.324  1.00  0.00           H  \nATOM    771  H2  HOH Q 145      15.939   3.470   1.357  1.00  0.00           H  \nTER     772      HOH Q 145\nATOM    773  O   HOH R 146      10.170  13.347  21.363  1.00  0.00           O  \nATOM    774  H1  HOH R 146      10.587  13.812  20.638  1.00  0.00           H  \nATOM    775  H2  HOH R 146      10.509  13.774  22.149  1.00  0.00           H  \nTER     776      HOH R 146\nATOM    777  O   HOH S 147       8.668   4.762  16.219  1.00  0.00           O  \nATOM    778  H1  HOH S 147       7.819   5.195  16.127  1.00  0.00           H  \nATOM    779  H2  HOH S 147       8.645   4.371  17.092  1.00  0.00           H  \nTER     780      HOH S 147\nATOM    781  O   HOH T 148       9.471   9.360  12.049  1.00  0.00           O  \nATOM    782  H1  HOH T 148      10.395   9.422  12.291  1.00  0.00           H  \nATOM    783  H2  HOH T 148       9.011   9.262  12.883  1.00  0.00           H  \nTER     784      HOH T 148\nATOM    785  O   HOH U 149      10.942  10.831  22.307  1.00  0.00           O  \nATOM    786  H1  HOH U 149      10.770  11.730  22.029  1.00  0.00           H  \nATOM    787  H2  HOH U 149      10.294  10.662  22.990  1.00  0.00           H  \nTER     788      HOH U 149\nATOM    789  O   HOH V 150      11.814   7.473  24.485  1.00  0.00           O  \nATOM    790  H1  HOH V 150      11.276   7.916  25.141  1.00  0.00           H  \nATOM    791  H2  HOH V 150      11.275   6.741  24.187  1.00  0.00           H  \nTER     792      HOH V 150\nATOM    793  O   HOH W 151      17.310   5.030  16.799  1.00  0.00           O  \nATOM    794  H1  HOH W 151      17.960   4.328  16.767  1.00  0.00           H  \nATOM    795  H2  HOH W 151      17.783   5.780  17.160  1.00  0.00           H  \nTER     796      HOH W 151\nATOM    797  O   HOH X 152      14.918  19.237  24.617  1.00  0.00           O  \nATOM    798  H1  HOH X 152      14.488  19.960  25.073  1.00  0.00           H  \nATOM    799  H2  HOH X 152      15.809  19.228  24.969  1.00  0.00           H  \nTER     800      HOH X 152\nATOM    801  O   HOH Y 153      11.547  17.629  18.970  1.00  0.00           O  \nATOM    802  H1  HOH Y 153      11.424  17.637  18.021  1.00  0.00           H  \nATOM    803  H2  HOH Y 153      12.319  17.079  19.107  1.00  0.00           H  \nTER     804      HOH Y 153\nATOM    805  O   HOH Z 154      21.227  10.704  13.520  1.00  0.00           O  \nATOM    806  H1  HOH Z 154      20.291  10.796  13.695  1.00  0.00           H  \nATOM    807  H2  HOH Z 154      21.567  11.598  13.555  1.00  0.00           H  \nTER     808      HOH Z 154\nATOM    809  O   HOH A 155       2.136  13.019  24.326  1.00  0.00           O  \nATOM    810  H1  HOH A 155       2.640  12.898  23.521  1.00  0.00           H  \nATOM    811  H2  HOH A 155       1.742  12.163  24.494  1.00  0.00           H  \nTER     812      HOH A 155\nATOM    813  O   HOH B 156       4.842  24.226  -0.014  1.00  0.00           O  \nATOM    814  H1  HOH B 156       5.446  24.600   0.627  1.00  0.00           H  \nATOM    815  H2  HOH B 156       5.388  23.655  -0.555  1.00  0.00           H  \nTER     816      HOH B 156\nATOM    817  O   HOH C 157       1.950  17.481   1.869  1.00  0.00           O  \nATOM    818  H1  HOH C 157       1.691  18.251   1.363  1.00  0.00           H  \nATOM    819  H2  HOH C 157       2.896  17.415   1.739  1.00  0.00           H  \nTER     820      HOH C 157\nATOM    821  O   HOH D 158       5.243   7.948  18.037  1.00  0.00           O  \nATOM    822  H1  HOH D 158       6.085   7.753  18.448  1.00  0.00           H  \nATOM    823  H2  HOH D 158       5.234   7.414  17.242  1.00  0.00           H  \nTER     824      HOH D 158\nATOM    825  O   HOH E 159       3.690   6.033  22.510  1.00  0.00           O  \nATOM    826  H1  HOH E 159       4.083   5.238  22.871  1.00  0.00           H  \nATOM    827  H2  HOH E 159       3.863   5.981  21.570  1.00  0.00           H  \nTER     828      HOH E 159\nATOM    829  O   HOH F 160       2.550  12.220   3.263  1.00  0.00           O  \nATOM    830  H1  HOH F 160       1.722  12.696   3.194  1.00  0.00           H  \nATOM    831  H2  HOH F 160       3.142  12.831   3.701  1.00  0.00           H  \nTER     832      HOH F 160\nATOM    833  O   HOH G 161      11.431   2.892  23.501  1.00  0.00           O  \nATOM    834  H1  HOH G 161      11.500   2.994  24.450  1.00  0.00           H  \nATOM    835  H2  HOH G 161      11.145   3.750  23.188  1.00  0.00           H  \nTER     836      HOH G 161\nATOM    837  O   HOH H 162      20.305   3.686  13.185  1.00  0.00           O  \nATOM    838  H1  HOH H 162      20.773   4.519  13.237  1.00  0.00           H  \nATOM    839  H2  HOH H 162      19.625   3.833  12.528  1.00  0.00           H  \nTER     840      HOH H 162\nATOM    841  O   HOH I 163       8.647  10.427  23.887  1.00  0.00           O  \nATOM    842  H1  HOH I 163       7.790  10.842  23.979  1.00  0.00           H  \nATOM    843  H2  HOH I 163       8.460   9.573  23.497  1.00  0.00           H  \nTER     844      HOH I 163\nATOM    845  O   HOH J 164       0.943   7.923  10.764  1.00  0.00           O  \nATOM    846  H1  HOH J 164       1.132   8.752  10.324  1.00  0.00           H  \nATOM    847  H2  HOH J 164       0.780   7.305  10.051  1.00  0.00           H  \nTER     848      HOH J 164\nATOM    849  O   HOH K 165      11.166   0.767   2.533  1.00  0.00           O  \nATOM    850  H1  HOH K 165      10.324   0.971   2.126  1.00  0.00           H  \nATOM    851  H2  HOH K 165      11.714   1.528   2.345  1.00  0.00           H  \nTER     852      HOH K 165\nATOM    853  O   HOH L 166      13.774  25.561  24.781  1.00  0.00           O  \nATOM    854  H1  HOH L 166      13.212  25.063  24.188  1.00  0.00           H  \nATOM    855  H2  HOH L 166      14.637  25.541  24.367  1.00  0.00           H  \nTER     856      HOH L 166\nATOM    857  O   HOH M 167       5.980   6.380  24.906  1.00  0.00           O  \nATOM    858  H1  HOH M 167       5.157   6.252  24.435  1.00  0.00           H  \nATOM    859  H2  HOH M 167       5.946   7.288  25.207  1.00  0.00           H  \nTER     860      HOH M 167\nATOM    861  O   HOH N 168      14.320  10.118  22.703  1.00  0.00           O  \nATOM    862  H1  HOH N 168      13.412  10.345  22.903  1.00  0.00           H  \nATOM    863  H2  HOH N 168      14.503   9.355  23.251  1.00  0.00           H  \nTER     864      HOH N 168\nATOM    865  O   HOH O 169      23.704   5.713  16.300  1.00  0.00           O  \nATOM    866  H1  HOH O 169      22.785   5.483  16.159  1.00  0.00           H  \nATOM    867  H2  HOH O 169      24.123   5.556  15.453  1.00  0.00           H  \nTER     868      HOH O 169\nATOM    869  O   HOH P 170       3.939  10.214  15.149  1.00  0.00           O  \nATOM    870  H1  HOH P 170       3.291   9.784  15.708  1.00  0.00           H  \nATOM    871  H2  HOH P 170       3.964   9.679  14.356  1.00  0.00           H  \nTER     872      HOH P 170\nATOM    873  O   HOH Q 171      16.052  17.715  19.504  1.00  0.00           O  \nATOM    874  H1  HOH Q 171      16.625  18.463  19.670  1.00  0.00           H  \nATOM    875  H2  HOH Q 171      16.552  17.156  18.910  1.00  0.00           H  \nTER     876      HOH Q 171\nATOM    877  O   HOH R 172      10.329   1.474  21.078  1.00  0.00           O  \nATOM    878  H1  HOH R 172      10.655   1.954  21.840  1.00  0.00           H  \nATOM    879  H2  HOH R 172      10.926   1.713  20.370  1.00  0.00           H  \nTER     880      HOH R 172\nATOM    881  O   HOH S 173       3.423   1.602  22.442  1.00  0.00           O  \nATOM    882  H1  HOH S 173       3.901   2.332  22.836  1.00  0.00           H  \nATOM    883  H2  HOH S 173       2.922   2.000  21.729  1.00  0.00           H  \nTER     884      HOH S 173\nATOM    885  O   HOH T 174       7.902  15.862   6.429  1.00  0.00           O  \nATOM    886  H1  HOH T 174       8.172  14.954   6.570  1.00  0.00           H  \nATOM    887  H2  HOH T 174       8.371  16.358   7.099  1.00  0.00           H  \nTER     888      HOH T 174\nATOM    889  O   HOH U 175      10.214   5.266  23.428  1.00  0.00           O  \nATOM    890  H1  HOH U 175       9.866   4.898  24.240  1.00  0.00           H  \nATOM    891  H2  HOH U 175       9.569   5.029  22.761  1.00  0.00           H  \nTER     892      HOH U 175\nATOM    893  O   HOH V 176       7.732   8.091  22.444  1.00  0.00           O  \nATOM    894  H1  HOH V 176       7.314   7.688  23.205  1.00  0.00           H  \nATOM    895  H2  HOH V 176       7.061   8.667  22.079  1.00  0.00           H  \nTER     896      HOH V 176\nATOM    897  O   HOH W 177      17.782   2.547  20.348  1.00  0.00           O  \nATOM    898  H1  HOH W 177      18.346   1.973  20.866  1.00  0.00           H  \nATOM    899  H2  HOH W 177      18.265   2.687  19.534  1.00  0.00           H  \nTER     900      HOH W 177\nATOM    901  O   HOH X 178      13.917   1.525  23.610  1.00  0.00           O  \nATOM    902  H1  HOH X 178      13.562   0.686  23.903  1.00  0.00           H  \nATOM    903  H2  HOH X 178      13.147   2.050  23.393  1.00  0.00           H  \nTER     904      HOH X 178\nATOM    905  O   HOH Y 179       7.608  16.828  24.918  1.00  0.00           O  \nATOM    906  H1  HOH Y 179       8.311  16.630  25.537  1.00  0.00           H  \nATOM    907  H2  HOH Y 179       7.595  17.784  24.867  1.00  0.00           H  \nTER     908      HOH Y 179\nATOM    909  O   HOH Z 180       7.103   6.967   5.864  1.00  0.00           O  \nATOM    910  H1  HOH Z 180       6.790   7.847   5.653  1.00  0.00           H  \nATOM    911  H2  HOH Z 180       7.815   7.110   6.489  1.00  0.00           H  \nTER     912      HOH Z 180\nATOM    913  O   HOH A 181      18.790   9.623  26.260  1.00  0.00           O  \nATOM    914  H1  HOH A 181      19.745   9.597  26.202  1.00  0.00           H  \nATOM    915  H2  HOH A 181      18.493   9.597  25.351  1.00  0.00           H  \nTER     916      HOH A 181\nATOM    917  O   HOH B 182       4.339  17.548   6.359  1.00  0.00           O  \nATOM    918  H1  HOH B 182       4.603  18.427   6.086  1.00  0.00           H  \nATOM    919  H2  HOH B 182       4.795  16.962   5.755  1.00  0.00           H  \nTER     920      HOH B 182\nATOM    921  O   HOH C 183       5.941   5.934  15.994  1.00  0.00           O  \nATOM    922  H1  HOH C 183       5.433   6.051  15.191  1.00  0.00           H  \nATOM    923  H2  HOH C 183       5.761   5.034  16.263  1.00  0.00           H  \nTER     924      HOH C 183\nATOM    925  O   HOH D 184      14.469   7.956  24.706  1.00  0.00           O  \nATOM    926  H1  HOH D 184      13.527   7.821  24.802  1.00  0.00           H  \nATOM    927  H2  HOH D 184      14.833   7.730  25.562  1.00  0.00           H  \nTER     928      HOH D 184\nATOM    929  O   HOH E 185       2.155  10.082  24.643  1.00  0.00           O  \nATOM    930  H1  HOH E 185       2.499   9.747  25.471  1.00  0.00           H  \nATOM    931  H2  HOH E 185       1.459   9.469  24.407  1.00  0.00           H  \nTER     932      HOH E 185\nATOM    933  O   HOH F 186      15.977   1.429  12.794  1.00  0.00           O  \nATOM    934  H1  HOH F 186      16.111   0.519  12.528  1.00  0.00           H  \nATOM    935  H2  HOH F 186      16.309   1.468  13.692  1.00  0.00           H  \nTER     936      HOH F 186\nATOM    937  O   HOH G 187      22.918  19.151  22.136  1.00  0.00           O  \nATOM    938  H1  HOH G 187      23.058  18.231  22.360  1.00  0.00           H  \nATOM    939  H2  HOH G 187      21.969  19.232  22.038  1.00  0.00           H  \nTER     940      HOH G 187\nATOM    941  O   HOH H 188       4.389  12.301  22.220  1.00  0.00           O  \nATOM    942  H1  HOH H 188       4.353  13.242  22.048  1.00  0.00           H  \nATOM    943  H2  HOH H 188       4.662  11.915  21.387  1.00  0.00           H  \nTER     944      HOH H 188\nATOM    945  O   HOH I 189      19.617   2.738  23.605  1.00  0.00           O  \nATOM    946  H1  HOH I 189      19.349   2.100  22.944  1.00  0.00           H  \nATOM    947  H2  HOH I 189      19.288   2.381  24.430  1.00  0.00           H  \nTER     948      HOH I 189\nATOM    949  O   HOH J 190      15.278  22.143   9.469  1.00  0.00           O  \nATOM    950  H1  HOH J 190      15.765  22.613   8.792  1.00  0.00           H  \nATOM    951  H2  HOH J 190      14.377  22.124   9.147  1.00  0.00           H  \nTER     952      HOH J 190\nATOM    953  O   HOH K 191      14.026  11.145  14.927  1.00  0.00           O  \nATOM    954  H1  HOH K 191      13.640  11.869  14.432  1.00  0.00           H  \nATOM    955  H2  HOH K 191      14.435  11.564  15.684  1.00  0.00           H  \nTER     956      HOH K 191\nATOM    957  O   HOH L 192      20.290  16.901  23.438  1.00  0.00           O  \nATOM    958  H1  HOH L 192      20.015  16.353  24.172  1.00  0.00           H  \nATOM    959  H2  HOH L 192      20.935  17.500  23.813  1.00  0.00           H  \nTER     960      HOH L 192\nATOM    961  O   HOH M 193       9.331  16.651   0.562  1.00  0.00           O  \nATOM    962  H1  HOH M 193      10.121  16.135   0.722  1.00  0.00           H  \nATOM    963  H2  HOH M 193       9.538  17.520   0.906  1.00  0.00           H  \nTER     964      HOH M 193\nATOM    965  O   HOH N 194       6.080  11.409  24.519  1.00  0.00           O  \nATOM    966  H1  HOH N 194       5.660  11.834  23.771  1.00  0.00           H  \nATOM    967  H2  HOH N 194       5.837  11.950  25.270  1.00  0.00           H  \nTER     968      HOH N 194\nATOM    969  O   HOH O 195      26.602   8.530  20.382  1.00  0.00           O  \nATOM    970  H1  HOH O 195      25.871   7.914  20.401  1.00  0.00           H  \nATOM    971  H2  HOH O 195      26.299   9.279  20.895  1.00  0.00           H  \nTER     972      HOH O 195\nATOM    973  O   HOH P 196      13.720  21.374  25.958  1.00  0.00           O  \nATOM    974  H1  HOH P 196      13.100  21.202  26.667  1.00  0.00           H  \nATOM    975  H2  HOH P 196      14.184  22.165  26.232  1.00  0.00           H  \nTER     976      HOH P 196\nATOM    977  O   HOH Q 197      19.248  15.078  13.684  1.00  0.00           O  \nATOM    978  H1  HOH Q 197      19.050  14.755  14.563  1.00  0.00           H  \nATOM    979  H2  HOH Q 197      18.830  14.447  13.097  1.00  0.00           H  \nTER     980      HOH Q 197\nATOM    981  O   HOH R 198      16.626  16.570  23.288  1.00  0.00           O  \nATOM    982  H1  HOH R 198      17.217  16.531  24.040  1.00  0.00           H  \nATOM    983  H2  HOH R 198      17.206  16.602  22.527  1.00  0.00           H  \nTER     984      HOH R 198\nATOM    985  O   HOH S 199      15.674   3.308  26.042  1.00  0.00           O  \nATOM    986  H1  HOH S 199      15.413   2.387  26.051  1.00  0.00           H  \nATOM    987  H2  HOH S 199      14.939   3.762  25.631  1.00  0.00           H  \nTER     988      HOH S 199\nATOM    989  O   HOH T 200       0.363   1.975  22.952  1.00  0.00           O  \nATOM    990  H1  HOH T 200      -0.375   2.580  23.020  1.00  0.00           H  \nATOM    991  H2  HOH T 200       0.815   2.237  22.150  1.00  0.00           H  \nTER     992      HOH T 200\nATOM    993  O   HOH U 201      14.148   4.954  24.454  1.00  0.00           O  \nATOM    994  H1  HOH U 201      14.147   5.905  24.346  1.00  0.00           H  \nATOM    995  H2  HOH U 201      14.084   4.612  23.562  1.00  0.00           H  \nTER     996      HOH U 201\nATOM    997  O   HOH V 202       7.695   6.980  18.777  1.00  0.00           O  \nATOM    998  H1  HOH V 202       7.469   6.049  18.771  1.00  0.00           H  \nATOM    999  H2  HOH V 202       8.538   7.019  19.229  1.00  0.00           H  \nTER    1000      HOH V 202\nATOM   1001  O   HOH W 203       1.446   5.767   8.849  1.00  0.00           O  \nATOM   1002  H1  HOH W 203       0.832   6.250   8.295  1.00  0.00           H  \nATOM   1003  H2  HOH W 203       1.852   5.131   8.260  1.00  0.00           H  \nTER    1004      HOH W 203\nATOM   1005  O   HOH X 204      10.689  21.873  20.255  1.00  0.00           O  \nATOM   1006  H1  HOH X 204      11.195  21.113  20.543  1.00  0.00           H  \nATOM   1007  H2  HOH X 204       9.953  21.501  19.770  1.00  0.00           H  \nTER    1008      HOH X 204\nATOM   1009  O   HOH Y 205      10.482  23.898   8.219  1.00  0.00           O  \nATOM   1010  H1  HOH Y 205       9.971  24.462   8.799  1.00  0.00           H  \nATOM   1011  H2  HOH Y 205      11.048  24.500   7.736  1.00  0.00           H  \nTER    1012      HOH Y 205\nATOM   1013  O   HOH Z 206       2.341  18.269  10.560  1.00  0.00           O  \nATOM   1014  H1  HOH Z 206       2.725  19.116  10.787  1.00  0.00           H  \nATOM   1015  H2  HOH Z 206       3.024  17.823  10.059  1.00  0.00           H  \nTER    1016      HOH Z 206\nATOM   1017  O   HOH A 207      13.244  16.653   3.844  1.00  0.00           O  \nATOM   1018  H1  HOH A 207      13.398  15.748   4.116  1.00  0.00           H  \nATOM   1019  H2  HOH A 207      12.886  16.580   2.959  1.00  0.00           H  \nTER    1020      HOH A 207\nATOM   1021  O   HOH B 208       1.994   4.308  11.291  1.00  0.00           O  \nATOM   1022  H1  HOH B 208       1.734   4.713  10.464  1.00  0.00           H  \nATOM   1023  H2  HOH B 208       1.456   4.745  11.952  1.00  0.00           H  \nTER    1024      HOH B 208\nATOM   1025  O   HOH C 209      12.321  20.257  21.655  1.00  0.00           O  \nATOM   1026  H1  HOH C 209      11.716  19.515  21.628  1.00  0.00           H  \nATOM   1027  H2  HOH C 209      12.035  20.772  22.409  1.00  0.00           H  \nTER    1028      HOH C 209\nATOM   1029  O   HOH D 210      12.871   5.980   1.268  1.00  0.00           O  \nATOM   1030  H1  HOH D 210      12.300   6.747   1.319  1.00  0.00           H  \nATOM   1031  H2  HOH D 210      12.726   5.518   2.094  1.00  0.00           H  \nTER    1032      HOH D 210\nATOM   1033  O   HOH E 211      10.505  19.602   5.706  1.00  0.00           O  \nATOM   1034  H1  HOH E 211       9.803  18.962   5.587  1.00  0.00           H  \nATOM   1035  H2  HOH E 211      10.081  20.345   6.136  1.00  0.00           H  \nTER    1036      HOH E 211\nATOM   1037  O   HOH F 212      12.529   4.861   3.826  1.00  0.00           O  \nATOM   1038  H1  HOH F 212      13.358   4.958   4.293  1.00  0.00           H  \nATOM   1039  H2  HOH F 212      11.884   4.696   4.514  1.00  0.00           H  \nTER    1040      HOH F 212\nATOM   1041  O   HOH G 213       1.571  25.131  16.762  1.00  0.00           O  \nATOM   1042  H1  HOH G 213       1.940  24.483  16.161  1.00  0.00           H  \nATOM   1043  H2  HOH G 213       1.930  25.967  16.464  1.00  0.00           H  \nTER    1044      HOH G 213\nATOM   1045  O   HOH H 214      -0.002  21.513   6.070  1.00  0.00           O  \nATOM   1046  H1  HOH H 214       0.665  21.104   5.519  1.00  0.00           H  \nATOM   1047  H2  HOH H 214      -0.514  20.780   6.411  1.00  0.00           H  \nTER    1048      HOH H 214\nATOM   1049  O   HOH I 215      14.982  24.419   4.701  1.00  0.00           O  \nATOM   1050  H1  HOH I 215      14.738  23.858   3.964  1.00  0.00           H  \nATOM   1051  H2  HOH I 215      14.318  25.108   4.708  1.00  0.00           H  \nTER    1052      HOH I 215\nATOM   1053  O   HOH J 216      16.535  20.852  22.424  1.00  0.00           O  \nATOM   1054  H1  HOH J 216      16.158  21.666  22.092  1.00  0.00           H  \nATOM   1055  H2  HOH J 216      15.790  20.372  22.786  1.00  0.00           H  \nTER    1056      HOH J 216\nATOM   1057  O   HOH K 217      11.738  24.387  20.197  1.00  0.00           O  \nATOM   1058  H1  HOH K 217      11.453  23.475  20.137  1.00  0.00           H  \nATOM   1059  H2  HOH K 217      12.397  24.478  19.508  1.00  0.00           H  \nTER    1060      HOH K 217\nATOM   1061  O   HOH L 218       2.933  22.783  16.145  1.00  0.00           O  \nATOM   1062  H1  HOH L 218       2.821  22.436  15.260  1.00  0.00           H  \nATOM   1063  H2  HOH L 218       3.773  22.429  16.437  1.00  0.00           H  \nTER    1064      HOH L 218\nATOM   1065  O   HOH M 219       5.319  20.175   6.327  1.00  0.00           O  \nATOM   1066  H1  HOH M 219       6.117  20.262   6.847  1.00  0.00           H  \nATOM   1067  H2  HOH M 219       4.670  20.702   6.793  1.00  0.00           H  \nTER    1068      HOH M 219\nATOM   1069  O   HOH N 220       1.665  17.974   5.961  1.00  0.00           O  \nATOM   1070  H1  HOH N 220       1.322  18.246   6.813  1.00  0.00           H  \nATOM   1071  H2  HOH N 220       2.521  17.593   6.157  1.00  0.00           H  \nTER    1072      HOH N 220\nATOM   1073  O   HOH O 221      24.899  24.836  13.383  1.00  0.00           O  \nATOM   1074  H1  HOH O 221      25.745  24.567  13.741  1.00  0.00           H  \nATOM   1075  H2  HOH O 221      25.042  24.881  12.437  1.00  0.00           H  \nTER    1076      HOH O 221\nATOM   1077  O   HOH P 222       6.731  18.260   2.401  1.00  0.00           O  \nATOM   1078  H1  HOH P 222       5.920  18.583   2.010  1.00  0.00           H  \nATOM   1079  H2  HOH P 222       6.836  17.378   2.043  1.00  0.00           H  \nTER    1080      HOH P 222\nATOM   1081  O   HOH Q 223      14.628  18.563  21.632  1.00  0.00           O  \nATOM   1082  H1  HOH Q 223      14.964  18.388  20.753  1.00  0.00           H  \nATOM   1083  H2  HOH Q 223      13.942  19.218  21.501  1.00  0.00           H  \nTER    1084      HOH Q 223\nATOM   1085  O   HOH R 224       6.694  22.416   2.786  1.00  0.00           O  \nATOM   1086  H1  HOH R 224       6.773  23.329   2.508  1.00  0.00           H  \nATOM   1087  H2  HOH R 224       7.390  22.301   3.433  1.00  0.00           H  \nTER    1088      HOH R 224\nATOM   1089  O   HOH S 225       9.351  23.429  16.773  1.00  0.00           O  \nATOM   1090  H1  HOH S 225       8.524  23.498  17.251  1.00  0.00           H  \nATOM   1091  H2  HOH S 225       9.581  22.502  16.826  1.00  0.00           H  \nTER    1092      HOH S 225\nATOM   1093  O   HOH T 226      16.089  25.387  12.212  1.00  0.00           O  \nATOM   1094  H1  HOH T 226      16.844  25.398  11.624  1.00  0.00           H  \nATOM   1095  H2  HOH T 226      15.766  24.486  12.170  1.00  0.00           H  \nTER    1096      HOH T 226\nATOM   1097  O   HOH U 227      10.653   3.875   5.754  1.00  0.00           O  \nATOM   1098  H1  HOH U 227       9.826   3.936   5.276  1.00  0.00           H  \nATOM   1099  H2  HOH U 227      10.888   2.948   5.710  1.00  0.00           H  \nTER    1100      HOH U 227\nATOM   1101  O   HOH V 228       3.444  20.616  11.172  1.00  0.00           O  \nATOM   1102  H1  HOH V 228       3.722  21.508  10.965  1.00  0.00           H  \nATOM   1103  H2  HOH V 228       2.956  20.700  11.991  1.00  0.00           H  \nTER    1104      HOH V 228\nATOM   1105  O   HOH W 229       3.660  14.815   3.295  1.00  0.00           O  \nATOM   1106  H1  HOH W 229       3.747  15.514   2.646  1.00  0.00           H  \nATOM   1107  H2  HOH W 229       4.404  14.941   3.884  1.00  0.00           H  \nTER    1108      HOH W 229\nATOM   1109  O   HOH X 230       4.466  16.868   9.082  1.00  0.00           O  \nATOM   1110  H1  HOH X 230       4.383  17.047   8.145  1.00  0.00           H  \nATOM   1111  H2  HOH X 230       4.448  15.913   9.146  1.00  0.00           H  \nTER    1112      HOH X 230\nATOM   1113  O   HOH Y 231       7.565  24.669   5.835  1.00  0.00           O  \nATOM   1114  H1  HOH Y 231       8.073  24.037   5.327  1.00  0.00           H  \nATOM   1115  H2  HOH Y 231       6.655  24.493   5.595  1.00  0.00           H  \nTER    1116      HOH Y 231\nATOM   1117  O   HOH Z 232      -0.114  17.587   3.489  1.00  0.00           O  \nATOM   1118  H1  HOH Z 232       0.119  17.680   4.413  1.00  0.00           H  \nATOM   1119  H2  HOH Z 232       0.726  17.500   3.038  1.00  0.00           H  \nTER    1120      HOH Z 232\nATOM   1121  O   HOH A 233       6.310  25.373  14.469  1.00  0.00           O  \nATOM   1122  H1  HOH A 233       6.851  26.160  14.412  1.00  0.00           H  \nATOM   1123  H2  HOH A 233       6.912  24.653  14.282  1.00  0.00           H  \nTER    1124      HOH A 233\nATOM   1125  O   HOH B 234       9.555  23.991  11.563  1.00  0.00           O  \nATOM   1126  H1  HOH B 234       9.383  24.385  12.418  1.00  0.00           H  \nATOM   1127  H2  HOH B 234       9.469  24.715  10.944  1.00  0.00           H  \nTER    1128      HOH B 234\nATOM   1129  O   HOH C 235      12.955   0.476   9.179  1.00  0.00           O  \nATOM   1130  H1  HOH C 235      13.790   0.561   8.718  1.00  0.00           H  \nATOM   1131  H2  HOH C 235      12.967   1.178   9.829  1.00  0.00           H  \nTER    1132      HOH C 235\nATOM   1133  O   HOH D 236      10.024  22.327   0.891  1.00  0.00           O  \nATOM   1134  H1  HOH D 236       9.219  21.906   0.590  1.00  0.00           H  \nATOM   1135  H2  HOH D 236       9.954  23.229   0.580  1.00  0.00           H  \nTER    1136      HOH D 236\nATOM   1137  O   HOH E 237       1.037  14.969   4.131  1.00  0.00           O  \nATOM   1138  H1  HOH E 237       0.579  15.675   3.675  1.00  0.00           H  \nATOM   1139  H2  HOH E 237       1.878  14.898   3.680  1.00  0.00           H  \nTER    1140      HOH E 237\nATOM   1141  O   HOH F 238      15.774  24.407   7.239  1.00  0.00           O  \nATOM   1142  H1  HOH F 238      15.508  24.351   6.321  1.00  0.00           H  \nATOM   1143  H2  HOH F 238      16.729  24.342   7.217  1.00  0.00           H  \nTER    1144      HOH F 238\nATOM   1145  O   HOH G 239       4.617  22.887  10.098  1.00  0.00           O  \nATOM   1146  H1  HOH G 239       4.643  23.415  10.896  1.00  0.00           H  \nATOM   1147  H2  HOH G 239       5.318  23.242   9.552  1.00  0.00           H  \nTER    1148      HOH G 239\nATOM   1149  O   HOH H 240      11.959  22.839  11.618  1.00  0.00           O  \nATOM   1150  H1  HOH H 240      12.225  22.984  10.711  1.00  0.00           H  \nATOM   1151  H2  HOH H 240      11.121  23.294  11.699  1.00  0.00           H  \nTER    1152      HOH H 240\nATOM   1153  O   HOH I 241      20.029   4.142   0.341  1.00  0.00           O  \nATOM   1154  H1  HOH I 241      19.924   3.202   0.491  1.00  0.00           H  \nATOM   1155  H2  HOH I 241      19.191   4.421  -0.028  1.00  0.00           H  \nTER    1156      HOH I 241\nATOM   1157  O   HOH J 242       0.173   0.301  25.483  1.00  0.00           O  \nATOM   1158  H1  HOH J 242       1.029  -0.127  25.524  1.00  0.00           H  \nATOM   1159  H2  HOH J 242       0.364   1.189  25.178  1.00  0.00           H  \nTER    1160      HOH J 242\nATOM   1161  O   HOH K 243      26.318  17.175  15.329  1.00  0.00           O  \nATOM   1162  H1  HOH K 243      25.590  17.755  15.552  1.00  0.00           H  \nATOM   1163  H2  HOH K 243      26.681  17.545  14.524  1.00  0.00           H  \nTER    1164      HOH K 243\nATOM   1165  O   HOH L 244       6.637  23.635   8.430  1.00  0.00           O  \nATOM   1166  H1  HOH L 244       6.475  24.509   8.787  1.00  0.00           H  \nATOM   1167  H2  HOH L 244       6.975  23.796   7.548  1.00  0.00           H  \nTER    1168      HOH L 244\nATOM   1169  O   HOH M 245       9.984   0.467  15.808  1.00  0.00           O  \nATOM   1170  H1  HOH M 245      10.579  -0.190  16.168  1.00  0.00           H  \nATOM   1171  H2  HOH M 245       9.977   1.168  16.460  1.00  0.00           H  \nTER    1172      HOH M 245\nATOM   1173  O   HOH N 246      10.422  19.187  25.235  1.00  0.00           O  \nATOM   1174  H1  HOH N 246      10.880  18.409  24.916  1.00  0.00           H  \nATOM   1175  H2  HOH N 246      10.343  19.050  26.179  1.00  0.00           H  \nTER    1176      HOH N 246\nATOM   1177  O   HOH O 247       1.831  19.310  18.133  1.00  0.00           O  \nATOM   1178  H1  HOH O 247       0.929  19.616  18.039  1.00  0.00           H  \nATOM   1179  H2  HOH O 247       2.248  19.960  18.699  1.00  0.00           H  \nTER    1180      HOH O 247\nATOM   1181  O   HOH P 248       3.247  22.114   7.768  1.00  0.00           O  \nATOM   1182  H1  HOH P 248       3.781  22.330   8.532  1.00  0.00           H  \nATOM   1183  H2  HOH P 248       2.366  22.408   7.999  1.00  0.00           H  \nTER    1184      HOH P 248\nATOM   1185  O   HOH Q 249      15.940  23.083  18.986  1.00  0.00           O  \nATOM   1186  H1  HOH Q 249      15.953  23.692  18.248  1.00  0.00           H  \nATOM   1187  H2  HOH Q 249      15.553  22.283  18.630  1.00  0.00           H  \nTER    1188      HOH Q 249\nATOM   1189  O   HOH R 250       7.150  20.665   8.362  1.00  0.00           O  \nATOM   1190  H1  HOH R 250       6.778  21.537   8.495  1.00  0.00           H  \nATOM   1191  H2  HOH R 250       6.680  20.108   8.982  1.00  0.00           H  \nTER    1192      HOH R 250\nATOM   1193  O   HOH S 251      11.583  24.979  16.444  1.00  0.00           O  \nATOM   1194  H1  HOH S 251      12.015  24.459  15.767  1.00  0.00           H  \nATOM   1195  H2  HOH S 251      10.846  24.438  16.729  1.00  0.00           H  \nTER    1196      HOH S 251\nATOM   1197  O   HOH T 252      10.273  19.118   1.321  1.00  0.00           O  \nATOM   1198  H1  HOH T 252      10.009  20.027   1.469  1.00  0.00           H  \nATOM   1199  H2  HOH T 252      10.961  18.960   1.967  1.00  0.00           H  \nTER    1200      HOH T 252\nATOM   1201  O   HOH U 253      14.628   0.207   0.515  1.00  0.00           O  \nATOM   1202  H1  HOH U 253      13.951  -0.239   0.006  1.00  0.00           H  \nATOM   1203  H2  HOH U 253      14.167   0.923   0.952  1.00  0.00           H  \nTER    1204      HOH U 253\nATOM   1205  O   HOH V 254       4.200   0.877   3.837  1.00  0.00           O  \nATOM   1206  H1  HOH V 254       5.120   0.977   3.593  1.00  0.00           H  \nATOM   1207  H2  HOH V 254       3.944   1.738   4.169  1.00  0.00           H  \nTER    1208      HOH V 254\nATOM   1209  O   HOH W 255       9.223  21.814   6.914  1.00  0.00           O  \nATOM   1210  H1  HOH W 255       8.868  21.143   7.496  1.00  0.00           H  \nATOM   1211  H2  HOH W 255       9.615  22.460   7.502  1.00  0.00           H  \nTER    1212      HOH W 255\nATOM   1213  O   HOH X 256       8.661  16.481  22.354  1.00  0.00           O  \nATOM   1214  H1  HOH X 256       8.332  16.591  23.246  1.00  0.00           H  \nATOM   1215  H2  HOH X 256       7.923  16.110  21.870  1.00  0.00           H  \nTER    1216      HOH X 256\nATOM   1217  O   HOH Y 257       7.645  20.503  14.939  1.00  0.00           O  \nATOM   1218  H1  HOH Y 257       8.260  20.868  15.576  1.00  0.00           H  \nATOM   1219  H2  HOH Y 257       7.832  20.976  14.128  1.00  0.00           H  \nTER    1220      HOH Y 257\nATOM   1221  O   HOH Z 258      24.182  26.451   6.395  1.00  0.00           O  \nATOM   1222  H1  HOH Z 258      23.541  26.367   5.689  1.00  0.00           H  \nATOM   1223  H2  HOH Z 258      25.030  26.456   5.951  1.00  0.00           H  \nTER    1224      HOH Z 258\nATOM   1225  O   HOH A 259      25.307  20.529  20.611  1.00  0.00           O  \nATOM   1226  H1  HOH A 259      25.700  19.809  20.116  1.00  0.00           H  \nATOM   1227  H2  HOH A 259      24.468  20.181  20.914  1.00  0.00           H  \nTER    1228      HOH A 259\nATOM   1229  O   HOH B 260       7.775  19.493  24.882  1.00  0.00           O  \nATOM   1230  H1  HOH B 260       7.522  20.202  25.474  1.00  0.00           H  \nATOM   1231  H2  HOH B 260       8.728  19.559  24.822  1.00  0.00           H  \nTER    1232      HOH B 260\nATOM   1233  O   HOH C 261      13.608   2.260  10.939  1.00  0.00           O  \nATOM   1234  H1  HOH C 261      14.342   2.216  11.551  1.00  0.00           H  \nATOM   1235  H2  HOH C 261      12.908   2.688  11.433  1.00  0.00           H  \nTER    1236      HOH C 261\nATOM   1237  O   HOH D 262      14.952  22.651  12.254  1.00  0.00           O  \nATOM   1238  H1  HOH D 262      14.002  22.557  12.316  1.00  0.00           H  \nATOM   1239  H2  HOH D 262      15.161  22.399  11.355  1.00  0.00           H  \nTER    1240      HOH D 262\nATOM   1241  O   HOH E 263       6.593  22.726  24.730  1.00  0.00           O  \nATOM   1242  H1  HOH E 263       7.481  22.512  24.443  1.00  0.00           H  \nATOM   1243  H2  HOH E 263       6.426  23.595  24.366  1.00  0.00           H  \nTER    1244      HOH E 263\nATOM   1245  O   HOH F 264       6.317   1.677  18.744  1.00  0.00           O  \nATOM   1246  H1  HOH F 264       6.982   0.989  18.738  1.00  0.00           H  \nATOM   1247  H2  HOH F 264       5.521   1.238  19.045  1.00  0.00           H  \nTER    1248      HOH F 264\nATOM   1249  O   HOH G 265      14.977  12.343   0.750  1.00  0.00           O  \nATOM   1250  H1  HOH G 265      14.171  12.488   0.254  1.00  0.00           H  \nATOM   1251  H2  HOH G 265      14.694  12.311   1.664  1.00  0.00           H  \nTER    1252      HOH G 265\nATOM   1253  O   HOH H 266      11.009  15.324  23.085  1.00  0.00           O  \nATOM   1254  H1  HOH H 266      11.819  15.459  22.592  1.00  0.00           H  \nATOM   1255  H2  HOH H 266      10.345  15.804  22.590  1.00  0.00           H  \nTER    1256      HOH H 266\nATOM   1257  O   HOH I 267      16.561  15.478   4.146  1.00  0.00           O  \nATOM   1258  H1  HOH I 267      17.038  15.761   4.926  1.00  0.00           H  \nATOM   1259  H2  HOH I 267      16.618  14.523   4.163  1.00  0.00           H  \nTER    1260      HOH I 267\nATOM   1261  O   HOH J 268      23.282  19.733  11.722  1.00  0.00           O  \nATOM   1262  H1  HOH J 268      23.866  19.190  12.252  1.00  0.00           H  \nATOM   1263  H2  HOH J 268      23.404  19.415  10.828  1.00  0.00           H  \nTER    1264      HOH J 268\nATOM   1265  O   HOH K 269       5.298  21.707  17.282  1.00  0.00           O  \nATOM   1266  H1  HOH K 269       5.647  20.816  17.253  1.00  0.00           H  \nATOM   1267  H2  HOH K 269       4.490  21.632  17.790  1.00  0.00           H  \nTER    1268      HOH K 269\nATOM   1269  O   HOH L 270      24.269  14.468   1.237  1.00  0.00           O  \nATOM   1270  H1  HOH L 270      25.162  14.681   0.967  1.00  0.00           H  \nATOM   1271  H2  HOH L 270      23.714  14.857   0.561  1.00  0.00           H  \nTER    1272      HOH L 270\nATOM   1273  O   HOH M 271       8.193   4.013   1.630  1.00  0.00           O  \nATOM   1274  H1  HOH M 271       8.506   4.362   2.465  1.00  0.00           H  \nATOM   1275  H2  HOH M 271       7.239   4.070   1.688  1.00  0.00           H  \nTER    1276      HOH M 271\nATOM   1277  O   HOH N 272       3.237  24.090  19.163  1.00  0.00           O  \nATOM   1278  H1  HOH N 272       2.843  24.266  18.309  1.00  0.00           H  \nATOM   1279  H2  HOH N 272       3.825  24.830  19.314  1.00  0.00           H  \nTER    1280      HOH N 272\nATOM   1281  O   HOH O 273       3.995  26.148   7.601  1.00  0.00           O  \nATOM   1282  H1  HOH O 273       4.827  26.413   7.993  1.00  0.00           H  \nATOM   1283  H2  HOH O 273       4.226  25.868   6.715  1.00  0.00           H  \nTER    1284      HOH O 273\nATOM   1285  O   HOH P 274      20.960  14.901   9.465  1.00  0.00           O  \nATOM   1286  H1  HOH P 274      20.989  14.827  10.419  1.00  0.00           H  \nATOM   1287  H2  HOH P 274      21.873  15.018   9.205  1.00  0.00           H  \nTER    1288      HOH P 274\nATOM   1289  O   HOH Q 275       0.931  18.233  13.164  1.00  0.00           O  \nATOM   1290  H1  HOH Q 275       1.436  18.959  13.530  1.00  0.00           H  \nATOM   1291  H2  HOH Q 275       1.032  18.323  12.217  1.00  0.00           H  \nTER    1292      HOH Q 275\nATOM   1293  O   HOH R 276      12.842  20.979  15.368  1.00  0.00           O  \nATOM   1294  H1  HOH R 276      13.060  21.897  15.210  1.00  0.00           H  \nATOM   1295  H2  HOH R 276      12.898  20.567  14.506  1.00  0.00           H  \nTER    1296      HOH R 276\nATOM   1297  O   HOH S 277      12.718  21.362   6.084  1.00  0.00           O  \nATOM   1298  H1  HOH S 277      12.733  21.904   5.294  1.00  0.00           H  \nATOM   1299  H2  HOH S 277      12.398  20.511   5.785  1.00  0.00           H  \nTER    1300      HOH S 277\nATOM   1301  O   HOH T 278       3.240   6.297   1.051  1.00  0.00           O  \nATOM   1302  H1  HOH T 278       3.263   7.225   0.819  1.00  0.00           H  \nATOM   1303  H2  HOH T 278       3.547   6.267   1.957  1.00  0.00           H  \nTER    1304      HOH T 278\nATOM   1305  O   HOH U 279      14.935  23.603   0.432  1.00  0.00           O  \nATOM   1306  H1  HOH U 279      15.867  23.526   0.225  1.00  0.00           H  \nATOM   1307  H2  HOH U 279      14.627  24.325  -0.116  1.00  0.00           H  \nTER    1308      HOH U 279\nATOM   1309  O   HOH V 280      26.083   3.690   4.549  1.00  0.00           O  \nATOM   1310  H1  HOH V 280      26.246   2.795   4.846  1.00  0.00           H  \nATOM   1311  H2  HOH V 280      25.764   4.147   5.327  1.00  0.00           H  \nTER    1312      HOH V 280\nATOM   1313  O   HOH W 281      19.025   1.563  26.243  1.00  0.00           O  \nATOM   1314  H1  HOH W 281      18.428   0.884  26.558  1.00  0.00           H  \nATOM   1315  H2  HOH W 281      19.899   1.197  26.379  1.00  0.00           H  \nTER    1316      HOH W 281\nATOM   1317  O   HOH X 282       0.191  22.699  22.775  1.00  0.00           O  \nATOM   1318  H1  HOH X 282      -0.688  22.963  22.505  1.00  0.00           H  \nATOM   1319  H2  HOH X 282       0.769  23.355  22.384  1.00  0.00           H  \nTER    1320      HOH X 282\nATOM   1321  O   HOH Y 283       8.381   4.680  25.572  1.00  0.00           O  \nATOM   1322  H1  HOH Y 283       8.555   4.688  26.513  1.00  0.00           H  \nATOM   1323  H2  HOH Y 283       7.593   5.213  25.469  1.00  0.00           H  \nTER    1324      HOH Y 283\nATOM   1325  O   HOH Z 284      11.651  21.607  24.001  1.00  0.00           O  \nATOM   1326  H1  HOH Z 284      11.133  20.986  24.513  1.00  0.00           H  \nATOM   1327  H2  HOH Z 284      12.443  21.745  24.520  1.00  0.00           H  \nTER    1328      HOH Z 284\nATOM   1329  O   HOH A 285       5.081   1.209  -0.068  1.00  0.00           O  \nATOM   1330  H1  HOH A 285       4.937   1.306   0.873  1.00  0.00           H  \nATOM   1331  H2  HOH A 285       5.011   2.099  -0.415  1.00  0.00           H  \nTER    1332      HOH A 285\nATOM   1333  O   HOH B 286       9.110  24.857  14.071  1.00  0.00           O  \nATOM   1334  H1  HOH B 286       9.077  24.310  14.855  1.00  0.00           H  \nATOM   1335  H2  HOH B 286       9.309  25.734  14.398  1.00  0.00           H  \nTER    1336      HOH B 286\nATOM   1337  O   HOH C 287      15.573  23.427  21.646  1.00  0.00           O  \nATOM   1338  H1  HOH C 287      15.772  23.530  20.716  1.00  0.00           H  \nATOM   1339  H2  HOH C 287      14.630  23.584  21.708  1.00  0.00           H  \nTER    1340      HOH C 287\nATOM   1341  O   HOH D 288       6.380  15.858  21.186  1.00  0.00           O  \nATOM   1342  H1  HOH D 288       5.582  15.552  21.617  1.00  0.00           H  \nATOM   1343  H2  HOH D 288       6.236  16.795  21.052  1.00  0.00           H  \nTER    1344      HOH D 288\nATOM   1345  O   HOH E 289      12.500  24.203  22.913  1.00  0.00           O  \nATOM   1346  H1  HOH E 289      12.095  23.346  23.050  1.00  0.00           H  \nATOM   1347  H2  HOH E 289      12.065  24.553  22.136  1.00  0.00           H  \nTER    1348      HOH E 289\nATOM   1349  O   HOH F 290      13.305  15.499  21.755  1.00  0.00           O  \nATOM   1350  H1  HOH F 290      14.081  14.939  21.783  1.00  0.00           H  \nATOM   1351  H2  HOH F 290      13.276  15.823  20.855  1.00  0.00           H  \nTER    1352      HOH F 290\nATOM   1353  O   HOH G 291       4.980  19.502   0.652  1.00  0.00           O  \nATOM   1354  H1  HOH G 291       4.718  20.144   1.312  1.00  0.00           H  \nATOM   1355  H2  HOH G 291       4.211  19.407   0.091  1.00  0.00           H  \nTER    1356      HOH G 291\nATOM   1357  O   HOH H 292      13.507  25.474  18.451  1.00  0.00           O  \nATOM   1358  H1  HOH H 292      12.866  25.327  17.755  1.00  0.00           H  \nATOM   1359  H2  HOH H 292      14.353  25.466  18.003  1.00  0.00           H  \nTER    1360      HOH H 292\nATOM   1361  O   HOH I 293       7.668   2.817  23.955  1.00  0.00           O  \nATOM   1362  H1  HOH I 293       7.778   1.993  24.430  1.00  0.00           H  \nATOM   1363  H2  HOH I 293       7.907   3.493  24.589  1.00  0.00           H  \nTER    1364      HOH I 293\nATOM   1365  O   HOH J 294      23.495  16.400  22.608  1.00  0.00           O  \nATOM   1366  H1  HOH J 294      23.877  16.656  23.447  1.00  0.00           H  \nATOM   1367  H2  HOH J 294      22.963  15.630  22.811  1.00  0.00           H  \nTER    1368      HOH J 294\nATOM   1369  O   HOH K 295      10.398  20.909  16.426  1.00  0.00           O  \nATOM   1370  H1  HOH K 295      10.204  20.001  16.660  1.00  0.00           H  \nATOM   1371  H2  HOH K 295      11.354  20.948  16.387  1.00  0.00           H  \nTER    1372      HOH K 295\nATOM   1373  O   HOH L 296      16.395  25.394  23.306  1.00  0.00           O  \nATOM   1374  H1  HOH L 296      17.288  25.194  23.584  1.00  0.00           H  \nATOM   1375  H2  HOH L 296      16.163  24.680  22.712  1.00  0.00           H  \nTER    1376      HOH L 296\nATOM   1377  O   HOH M 297      14.375  25.869  14.281  1.00  0.00           O  \nATOM   1378  H1  HOH M 297      14.799  25.714  13.436  1.00  0.00           H  \nATOM   1379  H2  HOH M 297      14.439  26.815  14.411  1.00  0.00           H  \nTER    1380      HOH M 297\nATOM   1381  O   HOH N 298      -0.311  26.094  21.676  1.00  0.00           O  \nATOM   1382  H1  HOH N 298       0.457  25.522  21.704  1.00  0.00           H  \nATOM   1383  H2  HOH N 298      -0.052  26.868  22.177  1.00  0.00           H  \nTER    1384      HOH N 298\nATOM   1385  O   HOH O 299       6.881  25.098   1.673  1.00  0.00           O  \nATOM   1386  H1  HOH O 299       7.820  25.107   1.487  1.00  0.00           H  \nATOM   1387  H2  HOH O 299       6.702  25.962   2.047  1.00  0.00           H  \nTER    1388      HOH O 299\nATOM   1389  O   HOH P 300       4.860  15.778  24.907  1.00  0.00           O  \nATOM   1390  H1  HOH P 300       4.843  14.994  25.457  1.00  0.00           H  \nATOM   1391  H2  HOH P 300       5.791  15.960  24.778  1.00  0.00           H  \nTER    1392      HOH P 300\nATOM   1393  O   HOH Q 301       8.603   3.659  21.539  1.00  0.00           O  \nATOM   1394  H1  HOH Q 301       8.172   3.359  22.339  1.00  0.00           H  \nATOM   1395  H2  HOH Q 301       9.245   2.977  21.343  1.00  0.00           H  \nTER    1396      HOH Q 301\nATOM   1397  O   HOH R 302       4.465  20.935   3.777  1.00  0.00           O  \nATOM   1398  H1  HOH R 302       5.336  21.180   3.462  1.00  0.00           H  \nATOM   1399  H2  HOH R 302       4.629  20.475   4.600  1.00  0.00           H  \nTER    1400      HOH R 302\nATOM   1401  O   HOH S 303       1.651  24.339   2.587  1.00  0.00           O  \nATOM   1402  H1  HOH S 303       1.843  23.752   1.856  1.00  0.00           H  \nATOM   1403  H2  HOH S 303       2.050  23.915   3.347  1.00  0.00           H  \nTER    1404      HOH S 303\nATOM   1405  O   HOH T 304       0.485  19.931  22.721  1.00  0.00           O  \nATOM   1406  H1  HOH T 304       0.165  19.780  21.831  1.00  0.00           H  \nATOM   1407  H2  HOH T 304       0.452  20.882  22.829  1.00  0.00           H  \nTER    1408      HOH T 304\nATOM   1409  O   HOH U 305       6.665  24.659  20.655  1.00  0.00           O  \nATOM   1410  H1  HOH U 305       6.689  24.091  19.884  1.00  0.00           H  \nATOM   1411  H2  HOH U 305       7.575  24.927  20.783  1.00  0.00           H  \nTER    1412      HOH U 305\nATOM   1413  O   HOH V 306      25.587  24.985   3.422  1.00  0.00           O  \nATOM   1414  H1  HOH V 306      26.498  24.782   3.209  1.00  0.00           H  \nATOM   1415  H2  HOH V 306      25.259  25.450   2.653  1.00  0.00           H  \nTER    1416      HOH V 306\nATOM   1417  O   HOH W 307      14.923   2.159  20.910  1.00  0.00           O  \nATOM   1418  H1  HOH W 307      14.705   1.721  21.732  1.00  0.00           H  \nATOM   1419  H2  HOH W 307      15.867   2.035  20.815  1.00  0.00           H  \nTER    1420      HOH W 307\nATOM   1421  O   HOH X 308       8.564  20.447  19.207  1.00  0.00           O  \nATOM   1422  H1  HOH X 308       7.934  20.050  18.606  1.00  0.00           H  \nATOM   1423  H2  HOH X 308       8.256  20.195  20.078  1.00  0.00           H  \nTER    1424      HOH X 308\nATOM   1425  O   HOH Y 309      18.065  19.396  20.345  1.00  0.00           O  \nATOM   1426  H1  HOH Y 309      18.286  20.106  19.743  1.00  0.00           H  \nATOM   1427  H2  HOH Y 309      17.694  19.837  21.110  1.00  0.00           H  \nTER    1428      HOH Y 309\nATOM   1429  O   HOH Z 310      17.362  16.636  26.136  1.00  0.00           O  \nATOM   1430  H1  HOH Z 310      18.089  16.017  26.202  1.00  0.00           H  \nATOM   1431  H2  HOH Z 310      16.596  16.136  26.419  1.00  0.00           H  \nTER    1432      HOH Z 310\nATOM   1433  O   HOH A 311      12.904   1.415  19.030  1.00  0.00           O  \nATOM   1434  H1  HOH A 311      13.516   1.701  19.708  1.00  0.00           H  \nATOM   1435  H2  HOH A 311      13.081   0.480  18.926  1.00  0.00           H  \nTER    1436      HOH A 311\nATOM   1437  O   HOH B 312       8.910  21.851  23.257  1.00  0.00           O  \nATOM   1438  H1  HOH B 312       8.926  22.170  22.355  1.00  0.00           H  \nATOM   1439  H2  HOH B 312       9.825  21.873  23.537  1.00  0.00           H  \nTER    1440      HOH B 312\nATOM   1441  O   HOH C 313      18.468   7.322   1.497  1.00  0.00           O  \nATOM   1442  H1  HOH C 313      18.426   8.188   1.090  1.00  0.00           H  \nATOM   1443  H2  HOH C 313      18.270   6.713   0.785  1.00  0.00           H  \nTER    1444      HOH C 313\nATOM   1445  O   HOH D 314      12.161  17.083  24.780  1.00  0.00           O  \nATOM   1446  H1  HOH D 314      12.341  16.823  25.683  1.00  0.00           H  \nATOM   1447  H2  HOH D 314      11.459  16.497  24.497  1.00  0.00           H  \nTER    1448      HOH D 314\nATOM   1449  O   HOH E 315       7.520   0.292  25.252  1.00  0.00           O  \nATOM   1450  H1  HOH E 315       6.669   0.452  25.660  1.00  0.00           H  \nATOM   1451  H2  HOH E 315       7.376  -0.466  24.686  1.00  0.00           H  \nTER    1452      HOH E 315\nATOM   1453  O   HOH F 316      13.740  20.125   2.048  1.00  0.00           O  \nATOM   1454  H1  HOH F 316      14.345  19.418   1.821  1.00  0.00           H  \nATOM   1455  H2  HOH F 316      13.058  19.699   2.566  1.00  0.00           H  \nTER    1456      HOH F 316\nATOM   1457  O   HOH G 317      24.508   3.570  24.240  1.00  0.00           O  \nATOM   1458  H1  HOH G 317      23.744   3.441  23.678  1.00  0.00           H  \nATOM   1459  H2  HOH G 317      24.368   2.976  24.977  1.00  0.00           H  \nTER    1460      HOH G 317\nATOM   1461  O   HOH H 318       9.093   1.569   0.706  1.00  0.00           O  \nATOM   1462  H1  HOH H 318       8.488   1.285   0.021  1.00  0.00           H  \nATOM   1463  H2  HOH H 318       8.838   2.473   0.892  1.00  0.00           H  \nTER    1464      HOH H 318\nATOM   1465  O   HOH I 319       4.617  26.383  20.236  1.00  0.00           O  \nATOM   1466  H1  HOH I 319       4.494  26.840  21.068  1.00  0.00           H  \nATOM   1467  H2  HOH I 319       5.398  25.847  20.371  1.00  0.00           H  \nTER    1468      HOH I 319\nATOM   1469  O   HOH J 320      15.621   7.640   3.484  1.00  0.00           O  \nATOM   1470  H1  HOH J 320      16.390   7.097   3.313  1.00  0.00           H  \nATOM   1471  H2  HOH J 320      14.989   7.042   3.882  1.00  0.00           H  \nTER    1472      HOH J 320\nATOM   1473  O   HOH K 321      11.549   5.238   7.917  1.00  0.00           O  \nATOM   1474  H1  HOH K 321      12.477   5.195   7.684  1.00  0.00           H  \nATOM   1475  H2  HOH K 321      11.091   4.924   7.138  1.00  0.00           H  \nTER    1476      HOH K 321\nATOM   1477  O   HOH L 322      24.006  14.198   6.441  1.00  0.00           O  \nATOM   1478  H1  HOH L 322      23.609  13.350   6.246  1.00  0.00           H  \nATOM   1479  H2  HOH L 322      23.799  14.741   5.681  1.00  0.00           H  \nTER    1480      HOH L 322\nATOM   1481  O   HOH M 323      22.101   8.736  11.955  1.00  0.00           O  \nATOM   1482  H1  HOH M 323      21.704   9.351  12.572  1.00  0.00           H  \nATOM   1483  H2  HOH M 323      23.043   8.866  12.060  1.00  0.00           H  \nTER    1484      HOH M 323\nATOM   1485  O   HOH N 324      22.683   7.253   9.718  1.00  0.00           O  \nATOM   1486  H1  HOH N 324      22.257   7.829  10.352  1.00  0.00           H  \nATOM   1487  H2  HOH N 324      23.249   7.833   9.208  1.00  0.00           H  \nTER    1488      HOH N 324\nATOM   1489  O   HOH O 325      24.112   2.353   7.871  1.00  0.00           O  \nATOM   1490  H1  HOH O 325      23.459   2.050   8.502  1.00  0.00           H  \nATOM   1491  H2  HOH O 325      24.265   1.597   7.303  1.00  0.00           H  \nTER    1492      HOH O 325\nATOM   1493  O   HOH P 326      26.502   5.996  16.945  1.00  0.00           O  \nATOM   1494  H1  HOH P 326      26.762   6.827  17.342  1.00  0.00           H  \nATOM   1495  H2  HOH P 326      25.600   6.139  16.657  1.00  0.00           H  \nTER    1496      HOH P 326\nATOM   1497  O   HOH Q 327      17.507  11.636   1.312  1.00  0.00           O  \nATOM   1498  H1  HOH Q 327      16.602  11.881   1.115  1.00  0.00           H  \nATOM   1499  H2  HOH Q 327      17.669  10.864   0.770  1.00  0.00           H  \nTER    1500      HOH Q 327\nATOM   1501  O   HOH R 328      18.605   4.108  11.009  1.00  0.00           O  \nATOM   1502  H1  HOH R 328      18.174   3.349  10.616  1.00  0.00           H  \nATOM   1503  H2  HOH R 328      19.156   4.460  10.310  1.00  0.00           H  \nTER    1504      HOH R 328\nATOM   1505  O   HOH S 329      15.518   6.755   0.493  1.00  0.00           O  \nATOM   1506  H1  HOH S 329      14.713   6.254   0.626  1.00  0.00           H  \nATOM   1507  H2  HOH S 329      15.866   6.890   1.375  1.00  0.00           H  \nTER    1508      HOH S 329\nATOM   1509  O   HOH T 330      25.024   5.429  14.049  1.00  0.00           O  \nATOM   1510  H1  HOH T 330      25.843   5.792  13.713  1.00  0.00           H  \nATOM   1511  H2  HOH T 330      25.045   4.508  13.790  1.00  0.00           H  \nTER    1512      HOH T 330\nATOM   1513  O   HOH U 331      25.692   8.124   3.121  1.00  0.00           O  \nATOM   1514  H1  HOH U 331      26.093   8.327   2.276  1.00  0.00           H  \nATOM   1515  H2  HOH U 331      26.359   7.620   3.588  1.00  0.00           H  \nTER    1516      HOH U 331\nATOM   1517  O   HOH V 332       0.891  23.751  13.183  1.00  0.00           O  \nATOM   1518  H1  HOH V 332       0.414  23.512  12.388  1.00  0.00           H  \nATOM   1519  H2  HOH V 332       1.345  22.949  13.440  1.00  0.00           H  \nTER    1520      HOH V 332\nATOM   1521  O   HOH W 333      14.687  10.267  20.009  1.00  0.00           O  \nATOM   1522  H1  HOH W 333      14.031  10.754  19.511  1.00  0.00           H  \nATOM   1523  H2  HOH W 333      14.470  10.440  20.925  1.00  0.00           H  \nTER    1524      HOH W 333\nATOM   1525  O   HOH X 334      18.498  24.295   7.497  1.00  0.00           O  \nATOM   1526  H1  HOH X 334      19.075  24.816   6.938  1.00  0.00           H  \nATOM   1527  H2  HOH X 334      18.817  23.398   7.402  1.00  0.00           H  \nTER    1528      HOH X 334\nATOM   1529  O   HOH Y 335      17.761   5.582   3.433  1.00  0.00           O  \nATOM   1530  H1  HOH Y 335      18.310   6.097   2.842  1.00  0.00           H  \nATOM   1531  H2  HOH Y 335      17.311   4.960   2.861  1.00  0.00           H  \nTER    1532      HOH Y 335\nATOM   1533  O   HOH Z 336       5.256   3.423  16.835  1.00  0.00           O  \nATOM   1534  H1  HOH Z 336       5.623   2.850  17.509  1.00  0.00           H  \nATOM   1535  H2  HOH Z 336       5.452   2.978  16.010  1.00  0.00           H  \nTER    1536      HOH Z 336\nATOM   1537  O   HOH A 337      24.298   4.277  18.927  1.00  0.00           O  \nATOM   1538  H1  HOH A 337      24.994   3.622  18.986  1.00  0.00           H  \nATOM   1539  H2  HOH A 337      24.261   4.506  17.999  1.00  0.00           H  \nTER    1540      HOH A 337\nATOM   1541  O   HOH B 338       9.726   6.806  20.782  1.00  0.00           O  \nATOM   1542  H1  HOH B 338      10.443   7.320  21.154  1.00  0.00           H  \nATOM   1543  H2  HOH B 338       8.965   7.033  21.317  1.00  0.00           H  \nTER    1544      HOH B 338\nATOM   1545  O   HOH C 339       4.119   8.476  13.074  1.00  0.00           O  \nATOM   1546  H1  HOH C 339       3.185   8.454  12.864  1.00  0.00           H  \nATOM   1547  H2  HOH C 339       4.539   8.782  12.270  1.00  0.00           H  \nTER    1548      HOH C 339\nATOM   1549  O   HOH D 340      23.019  18.500  18.417  1.00  0.00           O  \nATOM   1550  H1  HOH D 340      22.759  19.390  18.654  1.00  0.00           H  \nATOM   1551  H2  HOH D 340      22.458  17.936  18.951  1.00  0.00           H  \nTER    1552      HOH D 340\nATOM   1553  O   HOH E 341       2.174  25.269   9.638  1.00  0.00           O  \nATOM   1554  H1  HOH E 341       2.888  25.481   9.037  1.00  0.00           H  \nATOM   1555  H2  HOH E 341       1.633  24.643   9.156  1.00  0.00           H  \nTER    1556      HOH E 341\nATOM   1557  O   HOH F 342       1.678   3.592   0.513  1.00  0.00           O  \nATOM   1558  H1  HOH F 342       1.251   4.358   0.131  1.00  0.00           H  \nATOM   1559  H2  HOH F 342       0.979   3.137   0.983  1.00  0.00           H  \nTER    1560      HOH F 342\nATOM   1561  O   HOH G 343      24.553  23.166   5.085  1.00  0.00           O  \nATOM   1562  H1  HOH G 343      25.251  22.586   5.388  1.00  0.00           H  \nATOM   1563  H2  HOH G 343      24.997  23.805   4.527  1.00  0.00           H  \nTER    1564      HOH G 343\nATOM   1565  O   HOH H 344      18.384  13.113   3.513  1.00  0.00           O  \nATOM   1566  H1  HOH H 344      19.128  13.697   3.368  1.00  0.00           H  \nATOM   1567  H2  HOH H 344      18.265  12.664   2.676  1.00  0.00           H  \nTER    1568      HOH H 344\nATOM   1569  O   HOH I 345      24.197  10.298  16.192  1.00  0.00           O  \nATOM   1570  H1  HOH I 345      24.219   9.548  16.786  1.00  0.00           H  \nATOM   1571  H2  HOH I 345      23.596  10.916  16.608  1.00  0.00           H  \nTER    1572      HOH I 345\nATOM   1573  O   HOH J 346       2.129  14.019   6.596  1.00  0.00           O  \nATOM   1574  H1  HOH J 346       1.786  14.388   5.782  1.00  0.00           H  \nATOM   1575  H2  HOH J 346       1.464  13.388   6.871  1.00  0.00           H  \nTER    1576      HOH J 346\nATOM   1577  O   HOH K 347      21.571  18.696   2.596  1.00  0.00           O  \nATOM   1578  H1  HOH K 347      22.494  18.689   2.849  1.00  0.00           H  \nATOM   1579  H2  HOH K 347      21.549  19.196   1.779  1.00  0.00           H  \nTER    1580      HOH K 347\nATOM   1581  O   HOH L 348      21.136   0.058   7.397  1.00  0.00           O  \nATOM   1582  H1  HOH L 348      21.119   0.751   8.058  1.00  0.00           H  \nATOM   1583  H2  HOH L 348      21.552  -0.683   7.837  1.00  0.00           H  \nTER    1584      HOH L 348\nATOM   1585  O   HOH M 349      23.252   4.554  11.260  1.00  0.00           O  \nATOM   1586  H1  HOH M 349      23.427   5.376  10.803  1.00  0.00           H  \nATOM   1587  H2  HOH M 349      23.908   3.946  10.920  1.00  0.00           H  \nTER    1588      HOH M 349\nATOM   1589  O   HOH N 350      25.607  26.174  19.032  1.00  0.00           O  \nATOM   1590  H1  HOH N 350      24.703  26.489  19.017  1.00  0.00           H  \nATOM   1591  H2  HOH N 350      25.818  26.095  19.962  1.00  0.00           H  \nTER    1592      HOH N 350\nATOM   1593  O   HOH O 351      18.155  24.355  15.537  1.00  0.00           O  \nATOM   1594  H1  HOH O 351      18.380  25.283  15.596  1.00  0.00           H  \nATOM   1595  H2  HOH O 351      18.539  24.067  14.709  1.00  0.00           H  \nTER    1596      HOH O 351\nATOM   1597  O   HOH P 352       0.030  12.470  13.383  1.00  0.00           O  \nATOM   1598  H1  HOH P 352       0.167  11.554  13.624  1.00  0.00           H  \nATOM   1599  H2  HOH P 352       0.855  12.903  13.606  1.00  0.00           H  \nTER    1600      HOH P 352\nATOM   1601  O   HOH Q 353      25.083  19.484   7.347  1.00  0.00           O  \nATOM   1602  H1  HOH Q 353      24.426  19.279   8.012  1.00  0.00           H  \nATOM   1603  H2  HOH Q 353      25.855  18.983   7.611  1.00  0.00           H  \nTER    1604      HOH Q 353\nATOM   1605  O   HOH R 354      16.767   9.353   5.445  1.00  0.00           O  \nATOM   1606  H1  HOH R 354      16.294   8.819   4.806  1.00  0.00           H  \nATOM   1607  H2  HOH R 354      17.663   9.016   5.422  1.00  0.00           H  \nTER    1608      HOH R 354\nATOM   1609  O   HOH S 355      17.858  25.216   4.201  1.00  0.00           O  \nATOM   1610  H1  HOH S 355      18.543  24.550   4.264  1.00  0.00           H  \nATOM   1611  H2  HOH S 355      17.050  24.718   4.075  1.00  0.00           H  \nTER    1612      HOH S 355\nATOM   1613  O   HOH T 356       4.850  24.975   5.142  1.00  0.00           O  \nATOM   1614  H1  HOH T 356       4.655  25.746   4.609  1.00  0.00           H  \nATOM   1615  H2  HOH T 356       4.126  24.374   4.969  1.00  0.00           H  \nTER    1616      HOH T 356\nATOM   1617  O   HOH U 357      21.897  24.137   8.599  1.00  0.00           O  \nATOM   1618  H1  HOH U 357      21.854  23.623   7.792  1.00  0.00           H  \nATOM   1619  H2  HOH U 357      21.452  23.596   9.252  1.00  0.00           H  \nTER    1620      HOH U 357\nATOM   1621  O   HOH V 358      24.540  25.213  16.123  1.00  0.00           O  \nATOM   1622  H1  HOH V 358      24.486  25.145  15.170  1.00  0.00           H  \nATOM   1623  H2  HOH V 358      23.712  25.620  16.381  1.00  0.00           H  \nTER    1624      HOH V 358\nATOM   1625  O   HOH W 359       0.098   6.707   6.651  1.00  0.00           O  \nATOM   1626  H1  HOH W 359      -0.534   6.052   6.353  1.00  0.00           H  \nATOM   1627  H2  HOH W 359       0.645   6.879   5.885  1.00  0.00           H  \nTER    1628      HOH W 359\nATOM   1629  O   HOH X 360       5.176   1.883  14.607  1.00  0.00           O  \nATOM   1630  H1  HOH X 360       6.092   1.675  14.423  1.00  0.00           H  \nATOM   1631  H2  HOH X 360       4.813   2.137  13.759  1.00  0.00           H  \nTER    1632      HOH X 360\nATOM   1633  O   HOH Y 361      12.220   4.190  26.004  1.00  0.00           O  \nATOM   1634  H1  HOH Y 361      12.244   4.888  26.658  1.00  0.00           H  \nATOM   1635  H2  HOH Y 361      12.972   4.366  25.438  1.00  0.00           H  \nTER    1636      HOH Y 361\nATOM   1637  O   HOH Z 362      22.814   0.113  19.325  1.00  0.00           O  \nATOM   1638  H1  HOH Z 362      22.701   1.048  19.154  1.00  0.00           H  \nATOM   1639  H2  HOH Z 362      21.923  -0.220  19.434  1.00  0.00           H  \nTER    1640      HOH Z 362\nATOM   1641  O   HOH A 363       7.704   4.247  18.899  1.00  0.00           O  \nATOM   1642  H1  HOH A 363       8.035   4.051  19.775  1.00  0.00           H  \nATOM   1643  H2  HOH A 363       7.078   3.546  18.717  1.00  0.00           H  \nTER    1644      HOH A 363\nATOM   1645  O   HOH B 364      21.777   1.784   9.573  1.00  0.00           O  \nATOM   1646  H1  HOH B 364      21.854   1.618  10.513  1.00  0.00           H  \nATOM   1647  H2  HOH B 364      21.547   2.711   9.511  1.00  0.00           H  \nTER    1648      HOH B 364\nATOM   1649  O   HOH C 365      20.915   5.282  16.032  1.00  0.00           O  \nATOM   1650  H1  HOH C 365      20.324   5.826  16.552  1.00  0.00           H  \nATOM   1651  H2  HOH C 365      20.973   5.729  15.188  1.00  0.00           H  \nTER    1652      HOH C 365\nATOM   1653  O   HOH D 366       3.372  19.191  15.821  1.00  0.00           O  \nATOM   1654  H1  HOH D 366       3.018  19.760  15.137  1.00  0.00           H  \nATOM   1655  H2  HOH D 366       2.864  19.411  16.602  1.00  0.00           H  \nTER    1656      HOH D 366\nATOM   1657  O   HOH E 367      20.895  16.424  19.336  1.00  0.00           O  \nATOM   1658  H1  HOH E 367      20.064  16.456  19.811  1.00  0.00           H  \nATOM   1659  H2  HOH E 367      21.080  15.490  19.240  1.00  0.00           H  \nTER    1660      HOH E 367\nATOM   1661  O   HOH F 368      24.287  13.984  17.879  1.00  0.00           O  \nATOM   1662  H1  HOH F 368      24.929  13.342  18.180  1.00  0.00           H  \nATOM   1663  H2  HOH F 368      24.332  14.690  18.524  1.00  0.00           H  \nTER    1664      HOH F 368\nATOM   1665  O   HOH G 369       1.853   2.920  20.574  1.00  0.00           O  \nATOM   1666  H1  HOH G 369       1.019   2.876  20.108  1.00  0.00           H  \nATOM   1667  H2  HOH G 369       2.466   3.285  19.936  1.00  0.00           H  \nTER    1668      HOH G 369\nATOM   1669  O   HOH H 370      22.007  12.104  10.906  1.00  0.00           O  \nATOM   1670  H1  HOH H 370      21.865  12.938  11.355  1.00  0.00           H  \nATOM   1671  H2  HOH H 370      21.558  12.204  10.067  1.00  0.00           H  \nTER    1672      HOH H 370\nATOM   1673  O   HOH I 371       3.766   7.456   8.259  1.00  0.00           O  \nATOM   1674  H1  HOH I 371       4.133   8.121   8.842  1.00  0.00           H  \nATOM   1675  H2  HOH I 371       3.127   6.991   8.799  1.00  0.00           H  \nTER    1676      HOH I 371\nATOM   1677  O   HOH J 372       1.039   8.324  17.839  1.00  0.00           O  \nATOM   1678  H1  HOH J 372       1.918   8.652  18.029  1.00  0.00           H  \nATOM   1679  H2  HOH J 372       0.505   8.633  18.571  1.00  0.00           H  \nTER    1680      HOH J 372\nATOM   1681  O   HOH K 373       5.529   3.832   2.032  1.00  0.00           O  \nATOM   1682  H1  HOH K 373       5.225   4.298   2.810  1.00  0.00           H  \nATOM   1683  H2  HOH K 373       4.913   4.085   1.344  1.00  0.00           H  \nTER    1684      HOH K 373\nATOM   1685  O   HOH L 374      20.552   2.462   5.821  1.00  0.00           O  \nATOM   1686  H1  HOH L 374      21.140   1.787   6.161  1.00  0.00           H  \nATOM   1687  H2  HOH L 374      19.749   2.361   6.333  1.00  0.00           H  \nTER    1688      HOH L 374\nATOM   1689  O   HOH M 375       5.860   9.452   5.643  1.00  0.00           O  \nATOM   1690  H1  HOH M 375       5.873  10.033   6.403  1.00  0.00           H  \nATOM   1691  H2  HOH M 375       5.865  10.042   4.889  1.00  0.00           H  \nTER    1692      HOH M 375\nATOM   1693  O   HOH N 376      15.361  15.398   0.892  1.00  0.00           O  \nATOM   1694  H1  HOH N 376      14.427  15.372   1.098  1.00  0.00           H  \nATOM   1695  H2  HOH N 376      15.644  14.484   0.945  1.00  0.00           H  \nTER    1696      HOH N 376\nATOM   1697  O   HOH O 377      22.759   6.977   6.493  1.00  0.00           O  \nATOM   1698  H1  HOH O 377      23.316   7.274   7.212  1.00  0.00           H  \nATOM   1699  H2  HOH O 377      22.390   7.782   6.128  1.00  0.00           H  \nTER    1700      HOH O 377\nATOM   1701  O   HOH P 378      23.253  11.464   7.301  1.00  0.00           O  \nATOM   1702  H1  HOH P 378      23.865  11.524   8.035  1.00  0.00           H  \nATOM   1703  H2  HOH P 378      23.772  11.096   6.585  1.00  0.00           H  \nTER    1704      HOH P 378\nATOM   1705  O   HOH Q 379      17.930  25.183  10.238  1.00  0.00           O  \nATOM   1706  H1  HOH Q 379      18.179  25.023   9.328  1.00  0.00           H  \nATOM   1707  H2  HOH Q 379      18.721  25.536  10.645  1.00  0.00           H  \nTER    1708      HOH Q 379\nATOM   1709  O   HOH R 380      23.982   7.634   0.372  1.00  0.00           O  \nATOM   1710  H1  HOH R 380      23.905   7.692  -0.581  1.00  0.00           H  \nATOM   1711  H2  HOH R 380      24.899   7.843   0.551  1.00  0.00           H  \nTER    1712      HOH R 380\nATOM   1713  O   HOH S 381      20.626   5.311   5.990  1.00  0.00           O  \nATOM   1714  H1  HOH S 381      20.880   4.447   5.668  1.00  0.00           H  \nATOM   1715  H2  HOH S 381      21.456   5.761   6.151  1.00  0.00           H  \nTER    1716      HOH S 381\nATOM   1717  O   HOH T 382       2.900  16.867  20.905  1.00  0.00           O  \nATOM   1718  H1  HOH T 382       2.017  17.236  20.910  1.00  0.00           H  \nATOM   1719  H2  HOH T 382       3.458  17.584  20.603  1.00  0.00           H  \nTER    1720      HOH T 382\nATOM   1721  O   HOH U 383      22.036  26.278   4.713  1.00  0.00           O  \nATOM   1722  H1  HOH U 383      21.438  26.224   5.458  1.00  0.00           H  \nATOM   1723  H2  HOH U 383      21.838  25.502   4.189  1.00  0.00           H  \nTER    1724      HOH U 383\nATOM   1725  O   HOH V 384      15.069   3.224   8.724  1.00  0.00           O  \nATOM   1726  H1  HOH V 384      15.197   2.421   8.219  1.00  0.00           H  \nATOM   1727  H2  HOH V 384      14.562   2.949   9.488  1.00  0.00           H  \nTER    1728      HOH V 384\nATOM   1729  O   HOH W 385       0.729   6.604  13.178  1.00  0.00           O  \nATOM   1730  H1  HOH W 385       1.009   7.281  13.794  1.00  0.00           H  \nATOM   1731  H2  HOH W 385       0.510   7.082  12.378  1.00  0.00           H  \nTER    1732      HOH W 385\nATOM   1733  O   HOH X 386       0.644  18.219   8.565  1.00  0.00           O  \nATOM   1734  H1  HOH X 386       1.229  18.391   9.303  1.00  0.00           H  \nATOM   1735  H2  HOH X 386       0.157  17.435   8.821  1.00  0.00           H  \nTER    1736      HOH X 386\nATOM   1737  O   HOH Y 387      10.475  18.357  21.194  1.00  0.00           O  \nATOM   1738  H1  HOH Y 387      10.846  18.146  20.338  1.00  0.00           H  \nATOM   1739  H2  HOH Y 387       9.888  17.626  21.388  1.00  0.00           H  \nTER    1740      HOH Y 387\nATOM   1741  O   HOH Z 388      25.156  14.007  11.182  1.00  0.00           O  \nATOM   1742  H1  HOH Z 388      24.663  14.611  11.736  1.00  0.00           H  \nATOM   1743  H2  HOH Z 388      25.811  13.625  11.766  1.00  0.00           H  \nTER    1744      HOH Z 388\nATOM   1745  O   HOH A 389      23.642   1.595   3.475  1.00  0.00           O  \nATOM   1746  H1  HOH A 389      22.972   1.100   3.948  1.00  0.00           H  \nATOM   1747  H2  HOH A 389      24.070   0.946   2.916  1.00  0.00           H  \nTER    1748      HOH A 389\nATOM   1749  O   HOH B 390      19.534  14.838  16.517  1.00  0.00           O  \nATOM   1750  H1  HOH B 390      20.242  14.229  16.307  1.00  0.00           H  \nATOM   1751  H2  HOH B 390      19.947  15.702  16.498  1.00  0.00           H  \nTER    1752      HOH B 390\nATOM   1753  O   HOH C 391       3.377  14.102  16.124  1.00  0.00           O  \nATOM   1754  H1  HOH C 391       2.832  14.296  16.886  1.00  0.00           H  \nATOM   1755  H2  HOH C 391       3.404  14.924  15.633  1.00  0.00           H  \nTER    1756      HOH C 391\nATOM   1757  O   HOH D 392      24.629   4.809   6.725  1.00  0.00           O  \nATOM   1758  H1  HOH D 392      23.818   5.306   6.616  1.00  0.00           H  \nATOM   1759  H2  HOH D 392      24.360   4.005   7.170  1.00  0.00           H  \nTER    1760      HOH D 392\nATOM   1761  O   HOH E 393      21.689   6.179  13.530  1.00  0.00           O  \nATOM   1762  H1  HOH E 393      21.801   7.016  13.080  1.00  0.00           H  \nATOM   1763  H2  HOH E 393      22.484   5.687  13.324  1.00  0.00           H  \nTER    1764      HOH E 393\nATOM   1765  O   HOH F 394       4.430  11.418   1.527  1.00  0.00           O  \nATOM   1766  H1  HOH F 394       3.653  11.586   2.060  1.00  0.00           H  \nATOM   1767  H2  HOH F 394       5.164  11.519   2.133  1.00  0.00           H  \nTER    1768      HOH F 394\nATOM   1769  O   HOH G 395      25.360  11.644   9.293  1.00  0.00           O  \nATOM   1770  H1  HOH G 395      25.207  12.266  10.005  1.00  0.00           H  \nATOM   1771  H2  HOH G 395      26.106  12.005   8.815  1.00  0.00           H  \nTER    1772      HOH G 395\nATOM   1773  O   HOH H 396      23.981   8.403  24.241  1.00  0.00           O  \nATOM   1774  H1  HOH H 396      23.386   7.769  23.840  1.00  0.00           H  \nATOM   1775  H2  HOH H 396      24.856   8.082  24.024  1.00  0.00           H  \nTER    1776      HOH H 396\nATOM   1777  O   HOH I 397      15.816  18.056   1.846  1.00  0.00           O  \nATOM   1778  H1  HOH I 397      15.475  17.174   1.698  1.00  0.00           H  \nATOM   1779  H2  HOH I 397      16.081  18.359   0.977  1.00  0.00           H  \nTER    1780      HOH I 397\nATOM   1781  O   HOH J 398      21.365  13.687  19.184  1.00  0.00           O  \nATOM   1782  H1  HOH J 398      22.235  13.504  18.831  1.00  0.00           H  \nATOM   1783  H2  HOH J 398      20.802  13.017  18.796  1.00  0.00           H  \nTER    1784      HOH J 398\nATOM   1785  O   HOH K 399      23.499   0.757  14.000  1.00  0.00           O  \nATOM   1786  H1  HOH K 399      24.083   0.043  13.744  1.00  0.00           H  \nATOM   1787  H2  HOH K 399      24.080   1.505  14.136  1.00  0.00           H  \nTER    1788      HOH K 399\nATOM   1789  O   HOH L 400       8.852  17.552   4.542  1.00  0.00           O  \nATOM   1790  H1  HOH L 400       8.498  16.861   5.103  1.00  0.00           H  \nATOM   1791  H2  HOH L 400       8.082  17.951   4.137  1.00  0.00           H  \nTER    1792      HOH L 400\nATOM   1793  O   HOH M 401      25.706  12.987   3.537  1.00  0.00           O  \nATOM   1794  H1  HOH M 401      26.077  13.808   3.861  1.00  0.00           H  \nATOM   1795  H2  HOH M 401      25.327  13.212   2.688  1.00  0.00           H  \nTER    1796      HOH M 401\nATOM   1797  O   HOH N 402      25.355   2.898  13.290  1.00  0.00           O  \nATOM   1798  H1  HOH N 402      26.214   2.594  13.584  1.00  0.00           H  \nATOM   1799  H2  HOH N 402      25.479   3.106  12.364  1.00  0.00           H  \nTER    1800      HOH N 402\nATOM   1801  O   HOH O 403      24.293  10.351  11.669  1.00  0.00           O  \nATOM   1802  H1  HOH O 403      23.434  10.757  11.555  1.00  0.00           H  \nATOM   1803  H2  HOH O 403      24.729  10.470  10.825  1.00  0.00           H  \nTER    1804      HOH O 403\nATOM   1805  O   HOH P 404      23.295   9.458   3.179  1.00  0.00           O  \nATOM   1806  H1  HOH P 404      23.233  10.060   2.438  1.00  0.00           H  \nATOM   1807  H2  HOH P 404      24.136   9.016   3.060  1.00  0.00           H  \nTER    1808      HOH P 404\nATOM   1809  O   HOH Q 405      17.729   1.211   3.263  1.00  0.00           O  \nATOM   1810  H1  HOH Q 405      17.819   0.399   3.762  1.00  0.00           H  \nATOM   1811  H2  HOH Q 405      18.579   1.641   3.347  1.00  0.00           H  \nTER    1812      HOH Q 405\nATOM   1813  O   HOH R 406      19.131   6.404   8.042  1.00  0.00           O  \nATOM   1814  H1  HOH R 406      19.335   7.302   7.781  1.00  0.00           H  \nATOM   1815  H2  HOH R 406      19.594   5.859   7.405  1.00  0.00           H  \nTER    1816      HOH R 406\nATOM   1817  O   HOH S 407      22.574  10.882  25.243  1.00  0.00           O  \nATOM   1818  H1  HOH S 407      22.854  10.213  24.618  1.00  0.00           H  \nATOM   1819  H2  HOH S 407      23.149  10.760  25.999  1.00  0.00           H  \nTER    1820      HOH S 407\nATOM   1821  O   HOH T 408      21.875  17.553  14.318  1.00  0.00           O  \nATOM   1822  H1  HOH T 408      21.402  18.384  14.357  1.00  0.00           H  \nATOM   1823  H2  HOH T 408      21.444  17.001  14.970  1.00  0.00           H  \nTER    1824      HOH T 408\nATOM   1825  O   HOH U 409      17.202  19.263  26.156  1.00  0.00           O  \nATOM   1826  H1  HOH U 409      17.446  18.339  26.198  1.00  0.00           H  \nATOM   1827  H2  HOH U 409      17.799  19.640  25.509  1.00  0.00           H  \nTER    1828      HOH U 409\nATOM   1829  O   HOH V 410      24.965  10.641   5.068  1.00  0.00           O  \nATOM   1830  H1  HOH V 410      25.222  11.318   4.442  1.00  0.00           H  \nATOM   1831  H2  HOH V 410      24.552   9.964   4.533  1.00  0.00           H  \nTER    1832      HOH V 410\nATOM   1833  O   HOH W 411      16.611   6.779   7.022  1.00  0.00           O  \nATOM   1834  H1  HOH W 411      17.029   7.457   6.492  1.00  0.00           H  \nATOM   1835  H2  HOH W 411      17.334   6.227   7.320  1.00  0.00           H  \nTER    1836      HOH W 411\nATOM   1837  O   HOH X 412      17.572   1.411   9.503  1.00  0.00           O  \nATOM   1838  H1  HOH X 412      17.763   0.583   9.943  1.00  0.00           H  \nATOM   1839  H2  HOH X 412      16.737   1.261   9.060  1.00  0.00           H  \nTER    1840      HOH X 412\nATOM   1841  O   HOH Y 413      22.755   6.512   2.477  1.00  0.00           O  \nATOM   1842  H1  HOH Y 413      22.663   7.249   3.081  1.00  0.00           H  \nATOM   1843  H2  HOH Y 413      23.100   6.901   1.674  1.00  0.00           H  \nTER    1844      HOH Y 413\nATOM   1845  O   HOH Z 414       7.430   0.661   5.871  1.00  0.00           O  \nATOM   1846  H1  HOH Z 414       7.382  -0.277   6.060  1.00  0.00           H  \nATOM   1847  H2  HOH Z 414       8.356   0.880   5.978  1.00  0.00           H  \nTER    1848      HOH Z 414\nATOM   1849  O   HOH A 415      25.843   5.313   1.544  1.00  0.00           O  \nATOM   1850  H1  HOH A 415      26.054   5.452   0.621  1.00  0.00           H  \nATOM   1851  H2  HOH A 415      25.441   6.136   1.825  1.00  0.00           H  \nTER    1852      HOH A 415\nATOM   1853  O   HOH B 416      26.082  21.025   2.189  1.00  0.00           O  \nATOM   1854  H1  HOH B 416      26.471  21.186   1.329  1.00  0.00           H  \nATOM   1855  H2  HOH B 416      26.825  20.796   2.749  1.00  0.00           H  \nTER    1856      HOH B 416\nATOM   1857  O   HOH C 417      19.311   3.293  15.655  1.00  0.00           O  \nATOM   1858  H1  HOH C 417      19.466   3.134  14.724  1.00  0.00           H  \nATOM   1859  H2  HOH C 417      19.891   4.022  15.874  1.00  0.00           H  \nTER    1860      HOH C 417\nATOM   1861  O   HOH D 418      20.980  13.067  24.679  1.00  0.00           O  \nATOM   1862  H1  HOH D 418      21.630  12.371  24.779  1.00  0.00           H  \nATOM   1863  H2  HOH D 418      20.832  13.124  23.735  1.00  0.00           H  \nTER    1864      HOH D 418\nATOM   1865  O   HOH E 419      24.149  17.221  25.994  1.00  0.00           O  \nATOM   1866  H1  HOH E 419      24.796  17.582  25.388  1.00  0.00           H  \nATOM   1867  H2  HOH E 419      24.344  17.643  26.831  1.00  0.00           H  \nTER    1868      HOH E 419\nATOM   1869  O   HOH F 420      20.445  12.330   0.686  1.00  0.00           O  \nATOM   1870  H1  HOH F 420      20.567  12.681  -0.196  1.00  0.00           H  \nATOM   1871  H2  HOH F 420      19.518  12.097   0.726  1.00  0.00           H  \nTER    1872      HOH F 420\nATOM   1873  O   HOH G 421       3.108   9.518  21.835  1.00  0.00           O  \nATOM   1874  H1  HOH G 421       3.003  10.449  21.636  1.00  0.00           H  \nATOM   1875  H2  HOH G 421       3.113   9.477  22.791  1.00  0.00           H  \nTER    1876      HOH G 421\nATOM   1877  O   HOH H 422      21.243   4.604  24.428  1.00  0.00           O  \nATOM   1878  H1  HOH H 422      21.060   4.587  25.367  1.00  0.00           H  \nATOM   1879  H2  HOH H 422      20.741   3.871  24.072  1.00  0.00           H  \nTER    1880      HOH H 422\nATOM   1881  O   HOH I 423      26.312   5.288  25.527  1.00  0.00           O  \nATOM   1882  H1  HOH I 423      25.683   4.810  24.988  1.00  0.00           H  \nATOM   1883  H2  HOH I 423      26.516   6.073  25.019  1.00  0.00           H  \nTER    1884      HOH I 423\nATOM   1885  O   HOH J 424      22.247  24.297   0.278  1.00  0.00           O  \nATOM   1886  H1  HOH J 424      21.765  23.763   0.910  1.00  0.00           H  \nATOM   1887  H2  HOH J 424      22.169  23.820  -0.548  1.00  0.00           H  \nTER    1888      HOH J 424\nATOM   1889  O   HOH K 425       2.849  17.704  25.373  1.00  0.00           O  \nATOM   1890  H1  HOH K 425       2.140  17.213  24.958  1.00  0.00           H  \nATOM   1891  H2  HOH K 425       3.650  17.297  25.041  1.00  0.00           H  \nTER    1892      HOH K 425\nATOM   1893  O   HOH L 426      19.579  18.265   4.495  1.00  0.00           O  \nATOM   1894  H1  HOH L 426      19.291  17.557   3.919  1.00  0.00           H  \nATOM   1895  H2  HOH L 426      20.366  18.612   4.074  1.00  0.00           H  \nTER    1896      HOH L 426\nATOM   1897  O   HOH M 427      22.496   6.554  23.139  1.00  0.00           O  \nATOM   1898  H1  HOH M 427      22.281   6.295  22.243  1.00  0.00           H  \nATOM   1899  H2  HOH M 427      22.109   5.870  23.685  1.00  0.00           H  \nTER    1900      HOH M 427\nATOM   1901  O   HOH N 428       1.965   4.695   3.353  1.00  0.00           O  \nATOM   1902  H1  HOH N 428       2.093   4.573   2.412  1.00  0.00           H  \nATOM   1903  H2  HOH N 428       1.191   4.171   3.560  1.00  0.00           H  \nTER    1904      HOH N 428\nATOM   1905  O   HOH O 429      25.270  23.038  19.211  1.00  0.00           O  \nATOM   1906  H1  HOH O 429      24.533  23.361  19.730  1.00  0.00           H  \nATOM   1907  H2  HOH O 429      25.406  22.142  19.519  1.00  0.00           H  \nTER    1908      HOH O 429\nATOM   1909  O   HOH P 430       4.853  20.333  24.247  1.00  0.00           O  \nATOM   1910  H1  HOH P 430       5.124  21.248  24.171  1.00  0.00           H  \nATOM   1911  H2  HOH P 430       5.585  19.902  24.687  1.00  0.00           H  \nTER    1912      HOH P 430\nATOM   1913  O   HOH Q 431      24.512  18.486   1.769  1.00  0.00           O  \nATOM   1914  H1  HOH Q 431      24.678  19.429   1.795  1.00  0.00           H  \nATOM   1915  H2  HOH Q 431      25.168  18.111   2.358  1.00  0.00           H  \nTER    1916      HOH Q 431\nATOM   1917  O   HOH R 432      24.189  15.893  19.703  1.00  0.00           O  \nATOM   1918  H1  HOH R 432      23.794  15.806  20.571  1.00  0.00           H  \nATOM   1919  H2  HOH R 432      23.893  16.749  19.391  1.00  0.00           H  \nTER    1920      HOH R 432\nATOM   1921  O   HOH S 433      17.129   5.129  21.065  1.00  0.00           O  \nATOM   1922  H1  HOH S 433      17.332   4.194  21.040  1.00  0.00           H  \nATOM   1923  H2  HOH S 433      17.794   5.535  20.509  1.00  0.00           H  \nTER    1924      HOH S 433\nATOM   1925  O   HOH T 434      19.689   5.189  19.789  1.00  0.00           O  \nATOM   1926  H1  HOH T 434      19.749   4.369  19.300  1.00  0.00           H  \nATOM   1927  H2  HOH T 434      20.566   5.317  20.153  1.00  0.00           H  \nTER    1928      HOH T 434\nATOM   1929  O   HOH U 435      16.531   8.088  22.631  1.00  0.00           O  \nATOM   1930  H1  HOH U 435      17.157   7.532  23.094  1.00  0.00           H  \nATOM   1931  H2  HOH U 435      15.679   7.844  22.994  1.00  0.00           H  \nTER    1932      HOH U 435\nATOM   1933  O   HOH V 436      19.544  15.093  25.518  1.00  0.00           O  \nATOM   1934  H1  HOH V 436      20.021  15.235  26.336  1.00  0.00           H  \nATOM   1935  H2  HOH V 436      19.940  14.307  25.143  1.00  0.00           H  \nTER    1936      HOH V 436\nATOM   1937  O   HOH W 437       1.371  15.742  24.237  1.00  0.00           O  \nATOM   1938  H1  HOH W 437       1.060  15.551  23.352  1.00  0.00           H  \nATOM   1939  H2  HOH W 437       1.861  14.961  24.493  1.00  0.00           H  \nTER    1940      HOH W 437\nATOM   1941  O   HOH X 438      20.211   8.090  23.117  1.00  0.00           O  \nATOM   1942  H1  HOH X 438      20.972   7.572  23.379  1.00  0.00           H  \nATOM   1943  H2  HOH X 438      19.489   7.461  23.093  1.00  0.00           H  \nTER    1944      HOH X 438\nATOM   1945  O   HOH Y 439      23.564  12.722  13.735  1.00  0.00           O  \nATOM   1946  H1  HOH Y 439      23.876  12.024  13.160  1.00  0.00           H  \nATOM   1947  H2  HOH Y 439      24.358  13.185  14.004  1.00  0.00           H  \nTER    1948      HOH Y 439\nATOM   1949  O   HOH Z 440      22.159   5.836  20.654  1.00  0.00           O  \nATOM   1950  H1  HOH Z 440      22.147   6.757  20.396  1.00  0.00           H  \nATOM   1951  H2  HOH Z 440      22.935   5.476  20.223  1.00  0.00           H  \nTER    1952      HOH Z 440\nATOM   1953  O   HOH A 441      21.076   4.525   9.657  1.00  0.00           O  \nATOM   1954  H1  HOH A 441      21.873   4.643  10.174  1.00  0.00           H  \nATOM   1955  H2  HOH A 441      20.955   5.362   9.208  1.00  0.00           H  \nTER    1956      HOH A 441\nATOM   1957  O   HOH B 442       5.732  11.079   7.719  1.00  0.00           O  \nATOM   1958  H1  HOH B 442       5.275  10.540   8.365  1.00  0.00           H  \nATOM   1959  H2  HOH B 442       6.137  11.777   8.234  1.00  0.00           H  \nTER    1960      HOH B 442\nATOM   1961  O   HOH C 443       4.664   5.971  13.714  1.00  0.00           O  \nATOM   1962  H1  HOH C 443       5.152   5.767  12.916  1.00  0.00           H  \nATOM   1963  H2  HOH C 443       4.479   6.908  13.649  1.00  0.00           H  \nTER    1964      HOH C 443\nATOM   1965  O   HOH D 444       0.361  14.644   0.492  1.00  0.00           O  \nATOM   1966  H1  HOH D 444       0.625  14.104  -0.252  1.00  0.00           H  \nATOM   1967  H2  HOH D 444       1.090  15.251   0.620  1.00  0.00           H  \nTER    1968      HOH D 444\nATOM   1969  O   HOH E 445      25.957   9.862  13.977  1.00  0.00           O  \nATOM   1970  H1  HOH E 445      25.282   9.935  14.652  1.00  0.00           H  \nATOM   1971  H2  HOH E 445      25.476   9.910  13.151  1.00  0.00           H  \nTER    1972      HOH E 445\nATOM   1973  O   HOH F 446      21.903  13.378  15.660  1.00  0.00           O  \nATOM   1974  H1  HOH F 446      22.479  13.312  14.898  1.00  0.00           H  \nATOM   1975  H2  HOH F 446      22.491  13.313  16.412  1.00  0.00           H  \nTER    1976      HOH F 446\nATOM   1977  O   HOH G 447       0.922  16.754  17.752  1.00  0.00           O  \nATOM   1978  H1  HOH G 447       1.433  17.563  17.722  1.00  0.00           H  \nATOM   1979  H2  HOH G 447       0.316  16.826  17.014  1.00  0.00           H  \nTER    1980      HOH G 447\nATOM   1981  O   HOH H 448      22.128   2.889  19.443  1.00  0.00           O  \nATOM   1982  H1  HOH H 448      22.838   3.475  19.181  1.00  0.00           H  \nATOM   1983  H2  HOH H 448      22.193   2.845  20.397  1.00  0.00           H  \nTER    1984      HOH H 448\nATOM   1985  O   HOH I 449       2.653  14.991  18.847  1.00  0.00           O  \nATOM   1986  H1  HOH I 449       2.778  15.402  19.703  1.00  0.00           H  \nATOM   1987  H2  HOH I 449       1.969  15.512  18.428  1.00  0.00           H  \nTER    1988      HOH I 449\nATOM   1989  O   HOH J 450      19.769   9.311  19.359  1.00  0.00           O  \nATOM   1990  H1  HOH J 450      19.945  10.241  19.217  1.00  0.00           H  \nATOM   1991  H2  HOH J 450      18.885   9.287  19.725  1.00  0.00           H  \nTER    1992      HOH J 450\nATOM   1993  O   HOH K 451      17.141   1.545  15.387  1.00  0.00           O  \nATOM   1994  H1  HOH K 451      16.597   1.641  16.169  1.00  0.00           H  \nATOM   1995  H2  HOH K 451      17.871   2.148  15.528  1.00  0.00           H  \nTER    1996      HOH K 451\nATOM   1997  O   HOH L 452       4.329  13.272  25.941  1.00  0.00           O  \nATOM   1998  H1  HOH L 452       3.492  13.333  25.479  1.00  0.00           H  \nATOM   1999  H2  HOH L 452       4.137  12.748  26.718  1.00  0.00           H  \nTER    2000      HOH L 452\nATOM   2001  O   HOH M 453       4.848   3.635  23.661  1.00  0.00           O  \nATOM   2002  H1  HOH M 453       5.745   3.301  23.689  1.00  0.00           H  \nATOM   2003  H2  HOH M 453       4.613   3.769  24.579  1.00  0.00           H  \nTER    2004      HOH M 453\nATOM   2005  O   HOH N 454       0.010  12.612  21.518  1.00  0.00           O  \nATOM   2006  H1  HOH N 454      -0.484  11.803  21.649  1.00  0.00           H  \nATOM   2007  H2  HOH N 454       0.808  12.335  21.067  1.00  0.00           H  \nTER    2008      HOH N 454\nATOM   2009  O   HOH O 455       2.267  11.925  20.214  1.00  0.00           O  \nATOM   2010  H1  HOH O 455       2.591  12.797  19.987  1.00  0.00           H  \nATOM   2011  H2  HOH O 455       2.659  11.346  19.560  1.00  0.00           H  \nTER    2012      HOH O 455\nATOM   2013  O   HOH P 456       3.453   9.071   0.312  1.00  0.00           O  \nATOM   2014  H1  HOH P 456       3.565   9.833   0.880  1.00  0.00           H  \nATOM   2015  H2  HOH P 456       4.325   8.912  -0.051  1.00  0.00           H  \nTER    2016      HOH P 456\nATOM   2017  O   HOH Q 457       2.316   4.313  14.111  1.00  0.00           O  \nATOM   2018  H1  HOH Q 457       3.236   4.567  14.033  1.00  0.00           H  \nATOM   2019  H2  HOH Q 457       1.831   5.126  13.972  1.00  0.00           H  \nTER    2020      HOH Q 457\nATOM   2021  O   HOH R 458      18.670  16.618  21.194  1.00  0.00           O  \nATOM   2022  H1  HOH R 458      19.344  16.656  21.873  1.00  0.00           H  \nATOM   2023  H2  HOH R 458      18.501  17.534  20.973  1.00  0.00           H  \nTER    2024      HOH R 458\nATOM   2025  O   HOH S 459       1.121   3.639  16.505  1.00  0.00           O  \nATOM   2026  H1  HOH S 459       1.422   3.610  15.597  1.00  0.00           H  \nATOM   2027  H2  HOH S 459       0.633   4.460  16.570  1.00  0.00           H  \nTER    2028      HOH S 459\nATOM   2029  O   HOH T 460       4.046   3.355   4.871  1.00  0.00           O  \nATOM   2030  H1  HOH T 460       4.817   3.780   5.246  1.00  0.00           H  \nATOM   2031  H2  HOH T 460       3.541   4.070   4.484  1.00  0.00           H  \nTER    2032      HOH T 460\nATOM   2033  O   HOH U 461      22.457  10.380  21.525  1.00  0.00           O  \nATOM   2034  H1  HOH U 461      22.034  11.219  21.343  1.00  0.00           H  \nATOM   2035  H2  HOH U 461      22.022  10.057  22.314  1.00  0.00           H  \nTER    2036      HOH U 461\nATOM   2037  O   HOH V 462      17.809  23.543   0.293  1.00  0.00           O  \nATOM   2038  H1  HOH V 462      17.910  24.478   0.471  1.00  0.00           H  \nATOM   2039  H2  HOH V 462      18.511  23.339  -0.324  1.00  0.00           H  \nTER    2040      HOH V 462\nATOM   2041  O   HOH W 463      23.697  15.842  12.690  1.00  0.00           O  \nATOM   2042  H1  HOH W 463      23.213  16.592  13.037  1.00  0.00           H  \nATOM   2043  H2  HOH W 463      24.199  15.515  13.436  1.00  0.00           H  \nTER    2044      HOH W 463\nATOM   2045  O   HOH X 464      20.665  14.086   2.658  1.00  0.00           O  \nATOM   2046  H1  HOH X 464      20.604  14.907   2.171  1.00  0.00           H  \nATOM   2047  H2  HOH X 464      20.821  13.420   1.988  1.00  0.00           H  \nTER    2048      HOH X 464\nATOM   2049  O   HOH Y 465      17.763  26.396  18.369  1.00  0.00           O  \nATOM   2050  H1  HOH Y 465      17.095  25.997  17.811  1.00  0.00           H  \nATOM   2051  H2  HOH Y 465      17.444  27.285  18.526  1.00  0.00           H  \nTER    2052      HOH Y 465\nATOM   2053  O   HOH Z 466      19.720  23.955  13.185  1.00  0.00           O  \nATOM   2054  H1  HOH Z 466      19.959  24.653  12.576  1.00  0.00           H  \nATOM   2055  H2  HOH Z 466      20.507  23.413  13.250  1.00  0.00           H  \nTER    2056      HOH Z 466\nATOM   2057  O   HOH A 467      15.618   1.207   5.117  1.00  0.00           O  \nATOM   2058  H1  HOH A 467      16.126   0.734   4.458  1.00  0.00           H  \nATOM   2059  H2  HOH A 467      15.912   2.114   5.041  1.00  0.00           H  \nTER    2060      HOH A 467\nATOM   2061  O   HOH B 468      18.410   2.901   7.479  1.00  0.00           O  \nATOM   2062  H1  HOH B 468      19.028   3.579   7.753  1.00  0.00           H  \nATOM   2063  H2  HOH B 468      18.164   2.459   8.291  1.00  0.00           H  \nTER    2064      HOH B 468\nATOM   2065  O   HOH C 469      20.889  22.577   2.023  1.00  0.00           O  \nATOM   2066  H1  HOH C 469      20.049  22.184   1.786  1.00  0.00           H  \nATOM   2067  H2  HOH C 469      20.745  22.945   2.894  1.00  0.00           H  \nTER    2068      HOH C 469\nATOM   2069  O   HOH D 470      20.115  25.960  19.560  1.00  0.00           O  \nATOM   2070  H1  HOH D 470      20.003  25.036  19.784  1.00  0.00           H  \nATOM   2071  H2  HOH D 470      19.296  26.202  19.126  1.00  0.00           H  \nTER    2072      HOH D 470\nATOM   2073  O   HOH E 471      20.010   2.682   3.296  1.00  0.00           O  \nATOM   2074  H1  HOH E 471      20.309   2.643   4.204  1.00  0.00           H  \nATOM   2075  H2  HOH E 471      20.775   2.978   2.804  1.00  0.00           H  \nTER    2076      HOH E 471\nATOM   2077  O   HOH F 472      21.226   9.692  16.040  1.00  0.00           O  \nATOM   2078  H1  HOH F 472      21.039   9.991  15.151  1.00  0.00           H  \nATOM   2079  H2  HOH F 472      22.094   9.292  15.981  1.00  0.00           H  \nTER    2080      HOH F 472\nATOM   2081  O   HOH G 473       2.341  26.048  12.500  1.00  0.00           O  \nATOM   2082  H1  HOH G 473       1.958  25.243  12.849  1.00  0.00           H  \nATOM   2083  H2  HOH G 473       2.598  25.823  11.606  1.00  0.00           H  \nTER    2084      HOH G 473\nATOM   2085  O   HOH H 474       0.202  17.860  20.457  1.00  0.00           O  \nATOM   2086  H1  HOH H 474      -0.161  17.800  19.573  1.00  0.00           H  \nATOM   2087  H2  HOH H 474       0.155  16.966  20.797  1.00  0.00           H  \nTER    2088      HOH H 474\nATOM   2089  O   HOH I 475      17.562  19.729   5.825  1.00  0.00           O  \nATOM   2090  H1  HOH I 475      16.738  19.391   5.475  1.00  0.00           H  \nATOM   2091  H2  HOH I 475      18.239  19.307   5.295  1.00  0.00           H  \nTER    2092      HOH I 475\nATOM   2093  O   HOH J 476      20.652  23.672   4.524  1.00  0.00           O  \nATOM   2094  H1  HOH J 476      19.771  23.338   4.695  1.00  0.00           H  \nATOM   2095  H2  HOH J 476      21.214  23.190   5.131  1.00  0.00           H  \nTER    2096      HOH J 476\nATOM   2097  O   HOH K 477      21.416  21.630  12.516  1.00  0.00           O  \nATOM   2098  H1  HOH K 477      21.044  21.653  11.634  1.00  0.00           H  \nATOM   2099  H2  HOH K 477      22.268  21.208  12.405  1.00  0.00           H  \nTER    2100      HOH K 477\nATOM   2101  O   HOH L 478      22.300  22.434   6.505  1.00  0.00           O  \nATOM   2102  H1  HOH L 478      22.364  21.515   6.244  1.00  0.00           H  \nATOM   2103  H2  HOH L 478      23.150  22.809   6.274  1.00  0.00           H  \nTER    2104      HOH L 478\nATOM   2105  O   HOH M 479       1.977  24.575  21.733  1.00  0.00           O  \nATOM   2106  H1  HOH M 479       2.302  24.260  20.890  1.00  0.00           H  \nATOM   2107  H2  HOH M 479       2.757  24.893  22.187  1.00  0.00           H  \nTER    2108      HOH M 479\nATOM   2109  O   HOH N 480      25.435   2.938  10.171  1.00  0.00           O  \nATOM   2110  H1  HOH N 480      25.111   2.942   9.270  1.00  0.00           H  \nATOM   2111  H2  HOH N 480      26.209   2.376  10.146  1.00  0.00           H  \nTER    2112      HOH N 480\nATOM   2113  O   HOH O 481      23.656  20.888   3.464  1.00  0.00           O  \nATOM   2114  H1  HOH O 481      23.503  21.768   3.809  1.00  0.00           H  \nATOM   2115  H2  HOH O 481      24.414  20.985   2.888  1.00  0.00           H  \nTER    2116      HOH O 481\nATOM   2117  O   HOH P 482      23.300  15.011   3.938  1.00  0.00           O  \nATOM   2118  H1  HOH P 482      23.703  15.137   3.078  1.00  0.00           H  \nATOM   2119  H2  HOH P 482      22.430  14.660   3.746  1.00  0.00           H  \nTER    2120      HOH P 482\nATOM   2121  O   HOH Q 483      24.200  20.779  23.918  1.00  0.00           O  \nATOM   2122  H1  HOH Q 483      25.084  20.442  23.772  1.00  0.00           H  \nATOM   2123  H2  HOH Q 483      23.640  20.232  23.366  1.00  0.00           H  \nTER    2124      HOH Q 483\nATOM   2125  O   HOH R 484      20.546  17.399   8.603  1.00  0.00           O  \nATOM   2126  H1  HOH R 484      19.601  17.538   8.671  1.00  0.00           H  \nATOM   2127  H2  HOH R 484      20.660  16.458   8.739  1.00  0.00           H  \nTER    2128      HOH R 484\nATOM   2129  O   HOH S 485      20.698  21.898   9.880  1.00  0.00           O  \nATOM   2130  H1  HOH S 485      19.750  21.940  10.007  1.00  0.00           H  \nATOM   2131  H2  HOH S 485      20.844  21.059   9.442  1.00  0.00           H  \nTER    2132      HOH S 485\nATOM   2133  O   HOH T 486      22.167  21.024  19.063  1.00  0.00           O  \nATOM   2134  H1  HOH T 486      22.036  21.579  18.294  1.00  0.00           H  \nATOM   2135  H2  HOH T 486      21.825  21.541  19.792  1.00  0.00           H  \nTER    2136      HOH T 486\nATOM   2137  O   HOH U 487      18.977  21.813   7.471  1.00  0.00           O  \nATOM   2138  H1  HOH U 487      18.273  21.342   7.026  1.00  0.00           H  \nATOM   2139  H2  HOH U 487      19.745  21.250   7.369  1.00  0.00           H  \nTER    2140      HOH U 487\nATOM   2141  O   HOH V 488      23.123  18.004   9.212  1.00  0.00           O  \nATOM   2142  H1  HOH V 488      23.422  17.109   9.375  1.00  0.00           H  \nATOM   2143  H2  HOH V 488      22.216  17.905   8.924  1.00  0.00           H  \nTER    2144      HOH V 488\nATOM   2145  O   HOH W 489      15.675  25.003  16.572  1.00  0.00           O  \nATOM   2146  H1  HOH W 489      16.443  24.624  16.145  1.00  0.00           H  \nATOM   2147  H2  HOH W 489      15.121  25.300  15.850  1.00  0.00           H  \nTER    2148      HOH W 489\nATOM   2149  O   HOH X 490      26.058   1.772   1.781  1.00  0.00           O  \nATOM   2150  H1  HOH X 490      25.555   1.050   1.402  1.00  0.00           H  \nATOM   2151  H2  HOH X 490      26.828   1.353   2.163  1.00  0.00           H  \nTER    2152      HOH X 490\nATOM   2153  O   HOH Y 491      10.087   3.229  14.615  1.00  0.00           O  \nATOM   2154  H1  HOH Y 491       9.435   3.774  15.056  1.00  0.00           H  \nATOM   2155  H2  HOH Y 491      10.395   2.627  15.292  1.00  0.00           H  \nTER    2156      HOH Y 491\nATOM   2157  O   HOH Z 492      26.549  15.303  21.818  1.00  0.00           O  \nATOM   2158  H1  HOH Z 492      26.740  14.373  21.941  1.00  0.00           H  \nATOM   2159  H2  HOH Z 492      25.648  15.322  21.495  1.00  0.00           H  \nTER    2160      HOH Z 492\nATOM   2161  O   HOH A 493       6.973  23.820  17.748  1.00  0.00           O  \nATOM   2162  H1  HOH A 493       6.465  24.571  17.441  1.00  0.00           H  \nATOM   2163  H2  HOH A 493       6.423  23.062  17.548  1.00  0.00           H  \nTER    2164      HOH A 493\nATOM   2165  O   HOH B 494       2.970  21.421  19.486  1.00  0.00           O  \nATOM   2166  H1  HOH B 494       3.139  22.363  19.475  1.00  0.00           H  \nATOM   2167  H2  HOH B 494       3.338  21.121  20.317  1.00  0.00           H  \nTER    2168      HOH B 494\nATOM   2169  O   HOH C 495      25.992  25.194  10.971  1.00  0.00           O  \nATOM   2170  H1  HOH C 495      25.648  25.025  10.094  1.00  0.00           H  \nATOM   2171  H2  HOH C 495      26.927  25.348  10.835  1.00  0.00           H  \nTER    2172      HOH C 495\nATOM   2173  O   HOH D 496      13.951  22.748   2.755  1.00  0.00           O  \nATOM   2174  H1  HOH D 496      14.371  22.966   1.923  1.00  0.00           H  \nATOM   2175  H2  HOH D 496      13.904  21.792   2.757  1.00  0.00           H  \nTER    2176      HOH D 496\nATOM   2177  O   HOH E 497      24.294  26.101   1.211  1.00  0.00           O  \nATOM   2178  H1  HOH E 497      23.674  25.402   1.002  1.00  0.00           H  \nATOM   2179  H2  HOH E 497      24.411  26.573   0.387  1.00  0.00           H  \nTER    2180      HOH E 497\nATOM   2181  O   HOH F 498       1.590   0.509   2.985  1.00  0.00           O  \nATOM   2182  H1  HOH F 498       1.600  -0.402   2.692  1.00  0.00           H  \nATOM   2183  H2  HOH F 498       2.466   0.656   3.341  1.00  0.00           H  \nTER    2184      HOH F 498\nATOM   2185  O   HOH G 499      20.752  19.848   7.778  1.00  0.00           O  \nATOM   2186  H1  HOH G 499      20.673  18.930   8.039  1.00  0.00           H  \nATOM   2187  H2  HOH G 499      21.396  19.842   7.071  1.00  0.00           H  \nTER    2188      HOH G 499\nATOM   2189  O   HOH H 500      20.371  25.645  11.216  1.00  0.00           O  \nATOM   2190  H1  HOH H 500      21.179  25.229  10.915  1.00  0.00           H  \nATOM   2191  H2  HOH H 500      20.660  26.457  11.631  1.00  0.00           H  \nTER    2192      HOH H 500\nATOM   2193  O   HOH I 501      17.091  20.136  10.266  1.00  0.00           O  \nATOM   2194  H1  HOH I 501      16.444  20.764   9.945  1.00  0.00           H  \nATOM   2195  H2  HOH I 501      17.630  20.639  10.877  1.00  0.00           H  \nTER    2196      HOH I 501\nATOM   2197  O   HOH J 502      25.916  19.937  17.732  1.00  0.00           O  \nATOM   2198  H1  HOH J 502      25.174  19.489  17.325  1.00  0.00           H  \nATOM   2199  H2  HOH J 502      25.845  20.843  17.428  1.00  0.00           H  \nTER    2200      HOH J 502\nATOM   2201  O   HOH K 503       0.111   0.925   5.132  1.00  0.00           O  \nATOM   2202  H1  HOH K 503       0.734   0.614   4.475  1.00  0.00           H  \nATOM   2203  H2  HOH K 503       0.642   1.075   5.914  1.00  0.00           H  \nTER    2204      HOH K 503\nATOM   2205  O   HOH L 504      17.298  26.054   0.961  1.00  0.00           O  \nATOM   2206  H1  HOH L 504      17.629  26.526   1.725  1.00  0.00           H  \nATOM   2207  H2  HOH L 504      16.355  26.218   0.967  1.00  0.00           H  \nTER    2208      HOH L 504\nATOM   2209  O   HOH M 505      21.820  20.630   0.104  1.00  0.00           O  \nATOM   2210  H1  HOH M 505      21.978  21.306  -0.555  1.00  0.00           H  \nATOM   2211  H2  HOH M 505      21.619  21.117   0.904  1.00  0.00           H  \nTER    2212      HOH M 505\nATOM   2213  O   HOH N 506      24.088  18.580  15.969  1.00  0.00           O  \nATOM   2214  H1  HOH N 506      23.637  18.552  16.813  1.00  0.00           H  \nATOM   2215  H2  HOH N 506      23.388  18.508  15.320  1.00  0.00           H  \nTER    2216      HOH N 506\nATOM   2217  O   HOH O 507      24.612  24.611   8.564  1.00  0.00           O  \nATOM   2218  H1  HOH O 507      23.774  24.329   8.931  1.00  0.00           H  \nATOM   2219  H2  HOH O 507      24.385  25.323   7.966  1.00  0.00           H  \nTER    2220      HOH O 507\nATOM   2221  O   HOH P 508       0.544  23.529   7.973  1.00  0.00           O  \nATOM   2222  H1  HOH P 508       0.348  22.842   7.337  1.00  0.00           H  \nATOM   2223  H2  HOH P 508      -0.190  24.140   7.900  1.00  0.00           H  \nTER    2224      HOH P 508\nATOM   2225  O   HOH Q 509      23.697  26.652  22.686  1.00  0.00           O  \nATOM   2226  H1  HOH Q 509      24.534  26.554  22.232  1.00  0.00           H  \nATOM   2227  H2  HOH Q 509      23.384  25.756  22.810  1.00  0.00           H  \nTER    2228      HOH Q 509\nATOM   2229  O   HOH R 510      18.422  21.973   4.420  1.00  0.00           O  \nATOM   2230  H1  HOH R 510      18.111  21.209   4.905  1.00  0.00           H  \nATOM   2231  H2  HOH R 510      18.346  21.721   3.500  1.00  0.00           H  \nTER    2232      HOH R 510\nATOM   2233  O   HOH S 511      18.349  21.638  19.021  1.00  0.00           O  \nATOM   2234  H1  HOH S 511      19.042  22.046  19.540  1.00  0.00           H  \nATOM   2235  H2  HOH S 511      17.615  22.251  19.076  1.00  0.00           H  \nTER    2236      HOH S 511\nATOM   2237  O   HOH T 512      22.238  22.633  24.438  1.00  0.00           O  \nATOM   2238  H1  HOH T 512      23.024  22.118  24.259  1.00  0.00           H  \nATOM   2239  H2  HOH T 512      21.938  22.922  23.576  1.00  0.00           H  \nTER    2240      HOH T 512\nATOM   2241  O   HOH U 513      26.139  17.717  24.098  1.00  0.00           O  \nATOM   2242  H1  HOH U 513      26.727  17.041  24.434  1.00  0.00           H  \nATOM   2243  H2  HOH U 513      26.722  18.399  23.766  1.00  0.00           H  \nTER    2244      HOH U 513\nATOM   2245  O   HOH V 514       3.732  25.624  23.508  1.00  0.00           O  \nATOM   2246  H1  HOH V 514       3.311  25.557  24.365  1.00  0.00           H  \nATOM   2247  H2  HOH V 514       3.500  26.498  23.195  1.00  0.00           H  \nTER    2248      HOH V 514\nATOM   2249  O   HOH W 515      19.459  19.983  24.654  1.00  0.00           O  \nATOM   2250  H1  HOH W 515      20.116  19.415  25.058  1.00  0.00           H  \nATOM   2251  H2  HOH W 515      19.591  19.871  23.713  1.00  0.00           H  \nTER    2252      HOH W 515\nATOM   2253  O   HOH X 516      24.173   0.978  25.412  1.00  0.00           O  \nATOM   2254  H1  HOH X 516      23.850   0.537  24.626  1.00  0.00           H  \nATOM   2255  H2  HOH X 516      25.099   0.741  25.456  1.00  0.00           H  \nTER    2256      HOH X 516\nATOM   2257  O   HOH Y 517       4.132   4.025  26.136  1.00  0.00           O  \nATOM   2258  H1  HOH Y 517       4.172   4.934  26.435  1.00  0.00           H  \nATOM   2259  H2  HOH Y 517       3.253   3.732  26.377  1.00  0.00           H  \nTER    2260      HOH Y 517\nATOM   2261  O   HOH Z 518      26.354  21.208  25.678  1.00  0.00           O  \nATOM   2262  H1  HOH Z 518      26.579  21.841  24.996  1.00  0.00           H  \nATOM   2263  H2  HOH Z 518      25.443  20.975  25.497  1.00  0.00           H  \nTER    2264      HOH Z 518\nATOM   2265  O   HOH A 519      19.519  22.659  25.147  1.00  0.00           O  \nATOM   2266  H1  HOH A 519      19.246  21.771  24.918  1.00  0.00           H  \nATOM   2267  H2  HOH A 519      20.473  22.646  25.065  1.00  0.00           H  \nTER    2268      HOH A 519\nATOM   2269  O   HOH B 520      19.421   2.767  18.380  1.00  0.00           O  \nATOM   2270  H1  HOH B 520      19.490   2.547  17.451  1.00  0.00           H  \nATOM   2271  H2  HOH B 520      20.319   2.718  18.707  1.00  0.00           H  \nTER    2272      HOH B 520\nATOM   2273  O   HOH C 521      23.283  24.186  21.034  1.00  0.00           O  \nATOM   2274  H1  HOH C 521      22.463  23.704  20.928  1.00  0.00           H  \nATOM   2275  H2  HOH C 521      23.106  25.047  20.656  1.00  0.00           H  \nTER    2276      HOH C 521\nATOM   2277  O   HOH D 522      22.229   8.308  19.659  1.00  0.00           O  \nATOM   2278  H1  HOH D 522      22.490   9.007  20.258  1.00  0.00           H  \nATOM   2279  H2  HOH D 522      21.300   8.469  19.492  1.00  0.00           H  \nTER    2280      HOH D 522\nATOM   2281  O   HOH E 523       1.651  19.577  26.825  1.00  0.00           O  \nATOM   2282  H1  HOH E 523       1.103  20.163  26.304  1.00  0.00           H  \nATOM   2283  H2  HOH E 523       2.100  19.031  26.180  1.00  0.00           H  \nTER    2284      HOH E 523\nATOM   2285  O   HOH F 524      22.444   2.596  22.239  1.00  0.00           O  \nATOM   2286  H1  HOH F 524      21.546   2.646  22.568  1.00  0.00           H  \nATOM   2287  H2  HOH F 524      22.737   1.716  22.475  1.00  0.00           H  \nTER    2288      HOH F 524\nATOM   2289  O   HOH G 525      22.528  19.657   5.692  1.00  0.00           O  \nATOM   2290  H1  HOH G 525      23.265  19.199   6.097  1.00  0.00           H  \nATOM   2291  H2  HOH G 525      22.699  19.602   4.752  1.00  0.00           H  \nTER    2292      HOH G 525\nATOM   2293  O   HOH H 526      19.344  21.733  16.435  1.00  0.00           O  \nATOM   2294  H1  HOH H 526      19.316  21.595  17.382  1.00  0.00           H  \nATOM   2295  H2  HOH H 526      19.001  22.619  16.312  1.00  0.00           H  \nTER    2296      HOH H 526\nATOM   2297  O   HOH I 527       3.397  20.343  21.997  1.00  0.00           O  \nATOM   2298  H1  HOH I 527       4.003  20.287  22.736  1.00  0.00           H  \nATOM   2299  H2  HOH I 527       2.580  19.967  22.327  1.00  0.00           H  \nTER    2300      HOH I 527\nATOM   2301  O   HOH J 528      21.449   0.307   0.113  1.00  0.00           O  \nATOM   2302  H1  HOH J 528      21.744  -0.575   0.339  1.00  0.00           H  \nATOM   2303  H2  HOH J 528      22.209   0.715  -0.302  1.00  0.00           H  \nTER    2304      HOH J 528\nATOM   2305  O   HOH K 529      26.334   2.426  18.654  1.00  0.00           O  \nATOM   2306  H1  HOH K 529      26.705   2.574  17.784  1.00  0.00           H  \nATOM   2307  H2  HOH K 529      26.325   1.474  18.753  1.00  0.00           H  \nTER    2308      HOH K 529\nATOM   2309  O   HOH L 530      19.483  24.706  23.139  1.00  0.00           O  \nATOM   2310  H1  HOH L 530      19.810  24.301  22.336  1.00  0.00           H  \nATOM   2311  H2  HOH L 530      19.371  23.977  23.748  1.00  0.00           H  \nTER    2312      HOH L 530\nATOM   2313  O   HOH M 531       0.129   8.082   0.398  1.00  0.00           O  \nATOM   2314  H1  HOH M 531       0.128   8.358  -0.519  1.00  0.00           H  \nATOM   2315  H2  HOH M 531       0.881   7.494   0.471  1.00  0.00           H  \nTER    2316      HOH M 531\nATOM   2317  O   HOH N 532       2.736  25.864  26.058  1.00  0.00           O  \nATOM   2318  H1  HOH N 532       3.336  26.567  26.309  1.00  0.00           H  \nATOM   2319  H2  HOH N 532       3.137  25.070  26.410  1.00  0.00           H  \nTER    2320      HOH N 532\nATOM   2321  O   HOH O 533       9.233  25.656  21.048  1.00  0.00           O  \nATOM   2322  H1  HOH O 533      10.081  25.302  20.778  1.00  0.00           H  \nATOM   2323  H2  HOH O 533       9.421  26.558  21.307  1.00  0.00           H  \nTER    2324      HOH O 533\nATOM   2325 Na    NA P   1       1.832   7.611  21.510  1.00  0.00          Na  \nTER    2326       NA P   1\nATOM   2327 Na    NA Q   2      12.501   7.050   9.252  1.00  0.00          Na  \nTER    2328       NA Q   2\nATOM   2329 Na    NA R   3      26.075  24.359  17.592  1.00  0.00          Na  \nTER    2330       NA R   3\nATOM   2331 Na    NA S   4      14.284  17.201  23.597  1.00  0.00          Na  \nTER    2332       NA S   4\nATOM   2333 Na    NA T   5      24.510   3.561   2.672  1.00  0.00          Na  \nTER    2334       NA T   5\nATOM   2335 Cl    CL U   6      20.498  22.888  20.864  1.00  0.00          Cl  \nTER    2336       CL U   6\nATOM   2337 Cl    CL V   7      12.287  15.673   1.012  1.00  0.00          Cl  \nTER    2338       CL V   7\nATOM   2339 Cl    CL W   8       1.998  21.039  13.890  1.00  0.00          Cl  \nTER    2340       CL W   8\nATOM   2341 Cl    CL X   9       0.383   7.892  23.719  1.00  0.00          Cl  \nTER    2342       CL X   9\nATOM   2343 Cl    CL Y  10       4.965   9.625  10.280  1.00  0.00          Cl  \nTER    2344       CL Y  10\nENDMDL\nCONECT    1    2\nCONECT    2    1   55    3\nCONECT    3    2    4    5\nCONECT    4    3   56   97   61\nCONECT    5    3   98   99    6\nCONECT    6    5    7    8\nCONECT    7    6  100   11   63\nCONECT    8    6    9   10\nCONECT    9    8\nCONECT   10    8   11   12\nCONECT   11    7   10  101   66\nCONECT   12   10  102  103   13\nCONECT   13   12   15   14\nCONECT   14   13  104   18   68\nCONECT   15   13   16   17\nCONECT   16   15\nCONECT   17   15   18   19\nCONECT   18   14   17  105   71\nCONECT   19   17  106  107   20\nCONECT   20   19   22   21\nCONECT   21   20  108   25   73\nCONECT   22   20   23   24\nCONECT   23   22\nCONECT   24   22   26   25\nCONECT   25   21   24  109   76\nCONECT   26   24   27  110  111\nCONECT   27   26   29   28\nCONECT   28   27   32  112   78\nCONECT   29   27   30   31\nCONECT   30   29\nCONECT   31   29   33   32\nCONECT   32   28   31  113   81\nCONECT   33   31   34  114  115\nCONECT   34   33   36   35\nCONECT   35   34   39  116   83\nCONECT   36   34   38   37\nCONECT   37   36\nCONECT   38   36   40   39\nCONECT   39   35   38  117   86\nCONECT   40   38   41  118  119\nCONECT   41   40   43   42\nCONECT   42   41   46  120   88\nCONECT   43   41   45   44\nCONECT   44   43\nCONECT   45   43   47   46\nCONECT   46   42   45  121   91\nCONECT   47   45  122  123   48\nCONECT   48   47   50   49\nCONECT   49   48   54  124   93\nCONECT   50   48   51   52\nCONECT   51   50\nCONECT   52   50   53   54\nCONECT   53   52  125  126   55\nCONECT   54   49   52  127   95\nCONECT   55    2   53   56\nCONECT   56    4   55  128   57\nCONECT   57   56   58   59\nCONECT   58   57   95  129  130\nCONECT   59   57   61   60\nCONECT   60   59\nCONECT   61    4   59   62\nCONECT   62   61  131  132   63\nCONECT   63    7   62   64\nCONECT   64   63   65   66\nCONECT   65   64\nCONECT   66   11   64   67\nCONECT   67   66  133  134   68\nCONECT   68   14   67   69\nCONECT   69   68   70   71\nCONECT   70   69\nCONECT   71   18   69   72\nCONECT   72   71   73  135  136\nCONECT   73   21   72   74\nCONECT   74   73   76   75\nCONECT   75   74\nCONECT   76   25   74   77\nCONECT   77   76   78  137  138\nCONECT   78   28   77   79\nCONECT   79   78   81   80\nCONECT   80   79\nCONECT   81   32   79   82\nCONECT   82   81   83  139  140\nCONECT   83   35   82   84\nCONECT   84   83   86   85\nCONECT   85   84\nCONECT   86   39   84   87\nCONECT   87   86   88  141  142\nCONECT   88   42   87   89\nCONECT   89   88   91   90\nCONECT   90   89\nCONECT   91   46   89   92\nCONECT   92   91   93  143  144\nCONECT   93   49   92   94\nCONECT   94   93   95   96\nCONECT   95   54   58   94\nCONECT   96   94\nCONECT   97    4\nCONECT   98    5\nCONECT   99    5\nCONECT  100    7\nCONECT  101   11\nCONECT  102   12\nCONECT  103   12\nCONECT  104   14\nCONECT  105   18\nCONECT  106   19\nCONECT  107   19\nCONECT  108   21\nCONECT  109   25\nCONECT  110   26\nCONECT  111   26\nCONECT  112   28\nCONECT  113   32\nCONECT  114   33\nCONECT  115   33\nCONECT  116   35\nCONECT  117   39\nCONECT  118   40\nCONECT  119   40\nCONECT  120   42\nCONECT  121   46\nCONECT  122   47\nCONECT  123   47\nCONECT  124   49\nCONECT  125   53\nCONECT  126   53\nCONECT  127   54\nCONECT  128   56\nCONECT  129   58\nCONECT  130   58\nCONECT  131   62\nCONECT  132   62\nCONECT  133   67\nCONECT  134   67\nCONECT  135   72\nCONECT  136   72\nCONECT  137   77\nCONECT  138   77\nCONECT  139   82\nCONECT  140   82\nCONECT  141   87\nCONECT  142   87\nCONECT  143   92\nCONECT  144   92\nCONECT  146  154  166\nCONECT  147  148  154  170\nCONECT  148  147  156  171\nCONECT  149  151  155  172\nCONECT  150  152  155  173\nCONECT  151  149  158  174\nCONECT  152  150  158  175\nCONECT  153  154  157  176\nCONECT  154  146  147  153\nCONECT  155  149  150  160\nCONECT  156  148  157  160\nCONECT  157  153  156  159\nCONECT  158  151  152  169\nCONECT  159  157  168  177  178\nCONECT  160  155  156  163  168\nCONECT  161  167  179  180  181\nCONECT  162  167  182  183  184\nCONECT  163  160  164  185  186\nCONECT  164  163  165  187  188\nCONECT  165  164  167  189  190\nCONECT  166  146\nCONECT  167  161  162  165  191\nCONECT  168  159  160\nCONECT  169  158\nCONECT  170  147\nCONECT  171  148\nCONECT  172  149\nCONECT  173  150\nCONECT  174  151\nCONECT  175  152\nCONECT  176  153\nCONECT  177  159\nCONECT  178  159\nCONECT  179  161\nCONECT  180  161\nCONECT  181  161\nCONECT  182  162\nCONECT  183  162\nCONECT  184  162\nCONECT  185  163\nCONECT  186  163\nCONECT  187  164\nCONECT  188  164\nCONECT  189  165\nCONECT  190  165\nCONECT  191  167\nEND\n",
           "type": "blob"
          }
         ],
         "kwargs": {
          "defaultRepresentation": true,
          "ext": "pdb",
          "name": "nglview.adaptor.MDTrajTrajectory"
         },
         "methodName": "loadFile",
         "reconstruc_color_scheme": false,
         "target": "Stage",
         "type": "call_method"
        },
        {
         "args": [
          "line"
         ],
         "component_index": 0,
         "kwargs": {
          "sele": "water"
         },
         "methodName": "addRepresentation",
         "reconstruc_color_scheme": false,
         "target": "compList",
         "type": "call_method"
        }
       ],
       "_ngl_original_stage_parameters": {},
       "_ngl_repr_dict": {},
       "_ngl_serialize": false,
       "_ngl_version": "",
       "_ngl_view_id": [],
       "_player_dict": {},
       "_scene_position": {},
       "_scene_rotation": {},
       "_synced_model_ids": [],
       "_synced_repr_model_ids": [],
       "_view_count": null,
       "_view_height": "",
       "_view_module": "nglview-js-widgets",
       "_view_module_version": "3.0.8",
       "_view_name": "NGLView",
       "_view_width": "",
       "background": "white",
       "frame": 0,
       "gui_style": null,
       "layout": "IPY_MODEL_a2a4744e7e4e4c509045db698efc568c",
       "max_frame": 101,
       "n_components": 0,
       "picked": {},
       "tabbable": null,
       "tooltip": null
      }
     },
     "261f3df80a1a4826b3aad46b43a120a0": {
      "model_module": "@jupyter-widgets/controls",
      "model_module_version": "2.0.0",
      "model_name": "IntSliderModel",
      "state": {
       "_dom_classes": [],
       "_model_module": "@jupyter-widgets/controls",
       "_model_module_version": "2.0.0",
       "_model_name": "IntSliderModel",
       "_view_count": null,
       "_view_module": "@jupyter-widgets/controls",
       "_view_module_version": "2.0.0",
       "_view_name": "IntSliderView",
       "behavior": "drag-tap",
       "continuous_update": true,
       "description": "",
       "description_allow_html": false,
       "disabled": false,
       "layout": "IPY_MODEL_37a4419ba35b4168941e809e13dc43da",
       "max": 101,
       "min": 0,
       "orientation": "horizontal",
       "readout": true,
       "readout_format": "d",
       "step": 1,
       "style": "IPY_MODEL_6d2ac21fd8c5411586d5fc765894a1fa",
       "tabbable": null,
       "tooltip": null,
       "value": 0
      }
     },
     "2741739157064efe9291d9e5d2395975": {
      "model_module": "@jupyter-widgets/controls",
      "model_module_version": "2.0.0",
      "model_name": "LinkModel",
      "state": {
       "_model_module": "@jupyter-widgets/controls",
       "_model_module_version": "2.0.0",
       "_model_name": "LinkModel",
       "_view_count": null,
       "_view_module": "@jupyter-widgets/controls",
       "_view_module_version": "2.0.0",
       "_view_name": null,
       "source": [
        "IPY_MODEL_f911285d4867487ca8ccb033309ae3ac",
        "value"
       ],
       "target": [
        "IPY_MODEL_bba57a31c57c4f8d9f4f708cdb46168a",
        "value"
       ]
      }
     },
     "2e9dbdeb24134981b285771ec0a3b31e": {
      "model_module": "nglview-js-widgets",
      "model_module_version": "3.0.8",
      "model_name": "NGLModel",
      "state": {
       "_camera_orientation": [],
       "_camera_str": "orthographic",
       "_dom_classes": [],
       "_gui_theme": null,
       "_ibtn_fullscreen": "IPY_MODEL_bfd2a61e295f4576bf7b4f9f42b5a713",
       "_igui": null,
       "_iplayer": "IPY_MODEL_aa11569497a7407ea0615e9bb3f6ad51",
       "_model_module": "nglview-js-widgets",
       "_model_module_version": "3.0.8",
       "_model_name": "NGLModel",
       "_ngl_color_dict": {},
       "_ngl_coordinate_resource": {},
       "_ngl_full_stage_parameters": {},
       "_ngl_msg_archive": [
        {
         "args": [
          {
           "binary": false,
           "data": "REMARK   1 CREATED WITH OPENMM 8.0, 2023-09-27\nCRYST1   26.574   26.574   26.574  90.00  90.00  90.00 P 1           1 \nHETATM    1  O1x UNK A   1       7.236  39.911  33.856  1.00  0.00           O  \nHETATM    2  C1x UNK A   1       6.228  39.378  33.420  1.00  0.00           C  \nHETATM    3  N1x UNK A   1       5.262  39.998  32.674  1.00  0.00           N  \nHETATM    4  C2x UNK A   1       4.123  39.142  32.421  1.00  0.00           C  \nHETATM    5  C3x UNK A   1       5.216  41.435  32.541  1.00  0.00           C  \nHETATM    6  N2x UNK A   1       5.274  41.958  31.195  1.00  0.00           N  \nHETATM    7  C4x UNK A   1       4.217  41.856  30.202  1.00  0.00           C  \nHETATM    8  C5x UNK A   1       6.253  42.836  30.812  1.00  0.00           C  \nHETATM    9  O2x UNK A   1       7.238  43.134  31.466  1.00  0.00           O  \nHETATM   10  N3x UNK A   1       5.927  43.350  29.594  1.00  0.00           N  \nHETATM   11  C6x UNK A   1       4.674  42.837  29.090  1.00  0.00           C  \nHETATM   12  C7x UNK A   1       6.618  44.483  29.028  1.00  0.00           C  \nHETATM   13  N4x UNK A   1       7.438  44.166  27.887  1.00  0.00           N  \nHETATM   14  C8x UNK A   1       6.945  44.089  26.533  1.00  0.00           C  \nHETATM   15  C9x UNK A   1       8.803  44.116  27.954  1.00  0.00           C  \nHETATM   16  O3x UNK A   1       9.469  44.261  28.970  1.00  0.00           O  \nHETATM   17  N5x UNK A   1       9.290  44.060  26.682  1.00  0.00           N  \nHETATM   18 C10x UNK A   1       8.239  44.073  25.685  1.00  0.00           C  \nHETATM   19 C11x UNK A   1      10.680  44.319  26.381  1.00  0.00           C  \nHETATM   20  N6x UNK A   1      11.408  43.189  25.863  1.00  0.00           N  \nHETATM   21 C12x UNK A   1      11.384  42.773  24.478  1.00  0.00           C  \nHETATM   22 C13x UNK A   1      12.390  42.563  26.582  1.00  0.00           C  \nHETATM   23  O4x UNK A   1      12.669  42.789  27.751  1.00  0.00           O  \nHETATM   24  N7x UNK A   1      13.080  41.739  25.741  1.00  0.00           N  \nHETATM   25 C14x UNK A   1      12.550  41.758  24.391  1.00  0.00           C  \nHETATM   26 C15x UNK A   1      14.379  41.210  26.090  1.00  0.00           C  \nHETATM   27  N8x UNK A   1      14.458  39.772  26.234  1.00  0.00           N  \nHETATM   28 C16x UNK A   1      14.483  38.831  25.134  1.00  0.00           C  \nHETATM   29 C17x UNK A   1      14.707  39.174  27.439  1.00  0.00           C  \nHETATM   30  O5x UNK A   1      14.789  39.745  28.514  1.00  0.00           O  \nHETATM   31  N9x UNK A   1      14.927  37.839  27.225  1.00  0.00           N  \nHETATM   32 C18x UNK A   1      14.833  37.486  25.823  1.00  0.00           C  \nHETATM   33 C19x UNK A   1      15.586  37.010  28.210  1.00  0.00           C  \nHETATM   34 N10x UNK A   1      14.804  35.896  28.705  1.00  0.00           N  \nHETATM   35 C20x UNK A   1      14.590  34.664  27.967  1.00  0.00           C  \nHETATM   36 C21x UNK A   1      14.450  35.787  30.019  1.00  0.00           C  \nHETATM   37  O6x UNK A   1      14.605  36.644  30.874  1.00  0.00           O  \nHETATM   38 N11x UNK A   1      13.998  34.512  30.239  1.00  0.00           N  \nHETATM   39 C22x UNK A   1      14.004  33.710  29.038  1.00  0.00           C  \nHETATM   40 C23x UNK A   1      13.843  33.965  31.568  1.00  0.00           C  \nHETATM   41 N12x UNK A   1      12.480  33.678  31.958  1.00  0.00           N  \nHETATM   42 C24x UNK A   1      11.754  32.495  31.540  1.00  0.00           C  \nHETATM   43 C25x UNK A   1      11.850  34.350  32.964  1.00  0.00           C  \nHETATM   44  O7x UNK A   1      12.289  35.325  33.551  1.00  0.00           O  \nHETATM   45 N13x UNK A   1      10.703  33.668  33.289  1.00  0.00           N  \nHETATM   46 C26x UNK A   1      10.523  32.482  32.477  1.00  0.00           C  \nHETATM   47 C27x UNK A   1       9.935  33.956  34.476  1.00  0.00           C  \nHETATM   48 N14x UNK A   1       8.633  34.552  34.249  1.00  0.00           N  \nHETATM   49 C28x UNK A   1       7.436  33.812  33.888  1.00  0.00           C  \nHETATM   50 C29x UNK A   1       8.382  35.873  34.478  1.00  0.00           C  \nHETATM   51  O8x UNK A   1       9.208  36.711  34.817  1.00  0.00           O  \nHETATM   52 N15x UNK A   1       7.034  36.092  34.317  1.00  0.00           N  \nHETATM   53 C30x UNK A   1       6.406  37.314  34.769  1.00  0.00           C  \nHETATM   54 C31x UNK A   1       6.313  34.869  34.018  1.00  0.00           C  \nHETATM   55 N16x UNK A   1       5.786  38.117  33.735  1.00  0.00           N  \nHETATM   56 C32x UNK A   1       4.473  37.842  33.191  1.00  0.00           C  \nHETATM   57 N17x UNK A   1       4.433  36.826  32.162  1.00  0.00           N  \nHETATM   58 C33x UNK A   1       4.382  35.409  32.436  1.00  0.00           C  \nHETATM   59 C34x UNK A   1       4.155  37.341  30.927  1.00  0.00           C  \nHETATM   60  O9x UNK A   1       3.906  36.689  29.934  1.00  0.00           O  \nHETATM   61 N18x UNK A   1       3.974  38.693  31.054  1.00  0.00           N  \nHETATM   62 C35x UNK A   1       3.341  39.471  30.011  1.00  0.00           C  \nHETATM   63 N19x UNK A   1       4.111  40.587  29.506  1.00  0.00           N  \nHETATM   64 C36x UNK A   1       4.454  40.691  28.181  1.00  0.00           C  \nHETATM   65 O10x UNK A   1       4.288  39.821  27.335  1.00  0.00           O  \nHETATM   66 N20x UNK A   1       4.788  41.994  27.918  1.00  0.00           N  \nHETATM   67 C37x UNK A   1       4.939  42.499  26.564  1.00  0.00           C  \nHETATM   68 N21x UNK A   1       6.290  42.843  26.175  1.00  0.00           N  \nHETATM   69 C38x UNK A   1       6.984  42.153  25.212  1.00  0.00           C  \nHETATM   70 O11x UNK A   1       6.597  41.142  24.637  1.00  0.00           O  \nHETATM   71 N22x UNK A   1       8.109  42.866  24.899  1.00  0.00           N  \nHETATM   72 C39x UNK A   1       8.936  42.556  23.754  1.00  0.00           C  \nHETATM   73 N23x UNK A   1      10.227  41.993  24.078  1.00  0.00           N  \nHETATM   74 C40x UNK A   1      10.549  40.695  23.790  1.00  0.00           C  \nHETATM   75 O12x UNK A   1       9.782  39.858  23.342  1.00  0.00           O  \nHETATM   76 N24x UNK A   1      11.899  40.538  23.957  1.00  0.00           N  \nHETATM   77 C41x UNK A   1      12.617  39.384  23.466  1.00  0.00           C  \nHETATM   78 N25x UNK A   1      13.208  38.556  24.493  1.00  0.00           N  \nHETATM   79 C42x UNK A   1      12.786  37.268  24.702  1.00  0.00           C  \nHETATM   80 O13x UNK A   1      11.833  36.739  24.154  1.00  0.00           O  \nHETATM   81 N26x UNK A   1      13.723  36.627  25.467  1.00  0.00           N  \nHETATM   82 C43x UNK A   1      13.754  35.187  25.606  1.00  0.00           C  \nHETATM   83 N27x UNK A   1      13.558  34.703  26.951  1.00  0.00           N  \nHETATM   84 C44x UNK A   1      12.454  33.965  27.300  1.00  0.00           C  \nHETATM   85 O14x UNK A   1      11.480  33.766  26.591  1.00  0.00           O  \nHETATM   86 N28x UNK A   1      12.697  33.373  28.505  1.00  0.00           N  \nHETATM   87 C45x UNK A   1      11.897  32.275  29.000  1.00  0.00           C  \nHETATM   88 N29x UNK A   1      11.168  32.552  30.214  1.00  0.00           N  \nHETATM   89 C46x UNK A   1       9.798  32.585  30.253  1.00  0.00           C  \nHETATM   90 O15x UNK A   1       9.053  32.593  29.280  1.00  0.00           O  \nHETATM   91 N30x UNK A   1       9.403  32.523  31.558  1.00  0.00           N  \nHETATM   92 C47x UNK A   1       8.038  32.263  31.944  1.00  0.00           C  \nHETATM   93 N31x UNK A   1       7.347  33.401  32.500  1.00  0.00           N  \nHETATM   94 C48x UNK A   1       6.309  34.007  31.844  1.00  0.00           C  \nHETATM   95 N32x UNK A   1       5.669  34.826  32.719  1.00  0.00           N  \nHETATM   96 O16x UNK A   1       5.965  33.780  30.691  1.00  0.00           O  \nHETATM   97  H1x UNK A   1       3.191  39.577  32.812  1.00  0.00           H  \nHETATM   98  H2x UNK A   1       6.069  41.850  33.098  1.00  0.00           H  \nHETATM   99  H3x UNK A   1       4.277  41.783  32.995  1.00  0.00           H  \nHETATM  100  H4x UNK A   1       3.247  42.174  30.611  1.00  0.00           H  \nHETATM  101  H5x UNK A   1       3.928  43.634  28.952  1.00  0.00           H  \nHETATM  102  H6x UNK A   1       7.263  44.917  29.806  1.00  0.00           H  \nHETATM  103  H7x UNK A   1       5.867  45.225  28.718  1.00  0.00           H  \nHETATM  104  H8x UNK A   1       6.328  44.962  26.272  1.00  0.00           H  \nHETATM  105  H9x UNK A   1       8.290  44.970  25.050  1.00  0.00           H  \nHETATM  106 H10x UNK A   1      11.175  44.649  27.306  1.00  0.00           H  \nHETATM  107 H11x UNK A   1      10.724  45.125  25.634  1.00  0.00           H  \nHETATM  108 H12x UNK A   1      11.561  43.617  23.795  1.00  0.00           H  \nHETATM  109 H13x UNK A   1      13.301  42.100  23.663  1.00  0.00           H  \nHETATM  110 H14x UNK A   1      15.087  41.509  25.303  1.00  0.00           H  \nHETATM  111 H15x UNK A   1      14.681  41.662  27.046  1.00  0.00           H  \nHETATM  112 H16x UNK A   1      15.257  39.090  24.397  1.00  0.00           H  \nHETATM  113 H17x UNK A   1      15.787  37.099  25.437  1.00  0.00           H  \nHETATM  114 H18x UNK A   1      16.503  36.606  27.756  1.00  0.00           H  \nHETATM  115 H19x UNK A   1      15.851  37.646  29.067  1.00  0.00           H  \nHETATM  116 H20x UNK A   1      15.533  34.259  27.573  1.00  0.00           H  \nHETATM  117 H21x UNK A   1      14.641  32.820  29.145  1.00  0.00           H  \nHETATM  118 H22x UNK A   1      14.417  33.028  31.620  1.00  0.00           H  \nHETATM  119 H23x UNK A   1      14.257  34.689  32.285  1.00  0.00           H  \nHETATM  120 H24x UNK A   1      12.350  31.581  31.682  1.00  0.00           H  \nHETATM  121 H25x UNK A   1      10.517  31.567  33.087  1.00  0.00           H  \nHETATM  122 H26x UNK A   1       9.785  33.012  35.020  1.00  0.00           H  \nHETATM  123 H27x UNK A   1      10.521  34.648  35.098  1.00  0.00           H  \nHETATM  124 H28x UNK A   1       7.253  32.973  34.575  1.00  0.00           H  \nHETATM  125 H29x UNK A   1       7.175  37.929  35.260  1.00  0.00           H  \nHETATM  126 H30x UNK A   1       5.630  37.045  35.500  1.00  0.00           H  \nHETATM  127 H31x UNK A   1       5.620  34.595  34.827  1.00  0.00           H  \nHETATM  128 H32x UNK A   1       3.732  37.654  33.982  1.00  0.00           H  \nHETATM  129 H33x UNK A   1       3.729  35.247  33.306  1.00  0.00           H  \nHETATM  130 H34x UNK A   1       3.956  34.901  31.558  1.00  0.00           H  \nHETATM  131 H35x UNK A   1       2.395  39.866  30.411  1.00  0.00           H  \nHETATM  132 H36x UNK A   1       3.130  38.797  29.168  1.00  0.00           H  \nHETATM  133 H37x UNK A   1       4.318  43.402  26.468  1.00  0.00           H  \nHETATM  134 H38x UNK A   1       4.573  41.727  25.871  1.00  0.00           H  \nHETATM  135 H39x UNK A   1       9.099  43.485  23.187  1.00  0.00           H  \nHETATM  136 H40x UNK A   1       8.395  41.833  23.126  1.00  0.00           H  \nHETATM  137 H41x UNK A   1      11.915  38.764  22.889  1.00  0.00           H  \nHETATM  138 H42x UNK A   1      13.423  39.738  22.806  1.00  0.00           H  \nHETATM  139 H43x UNK A   1      12.960  34.765  24.972  1.00  0.00           H  \nHETATM  140 H44x UNK A   1      14.733  34.831  25.254  1.00  0.00           H  \nHETATM  141 H45x UNK A   1      11.171  32.003  28.220  1.00  0.00           H  \nHETATM  142 H46x UNK A   1      12.567  31.423  29.191  1.00  0.00           H  \nHETATM  143 H47x UNK A   1       7.487  31.928  31.053  1.00  0.00           H  \nHETATM  144 H48x UNK A   1       8.040  31.461  32.697  1.00  0.00           H  \nTER     145      UNK A   1\nHETATM  146  C1x UNK B   1       8.748  37.036  25.821  1.00  0.00           C  \nHETATM  147  C2x UNK B   1      10.453  38.242  27.099  1.00  0.00           C  \nHETATM  148  C3x UNK B   1      10.825  39.073  28.158  1.00  0.00           C  \nHETATM  149  C4x UNK B   1      12.172  39.572  31.007  1.00  0.00           C  \nHETATM  150  C5x UNK B   1      10.317  39.605  32.555  1.00  0.00           C  \nHETATM  151  C6x UNK B   1      12.993  39.041  32.001  1.00  0.00           C  \nHETATM  152  C7x UNK B   1      11.138  39.073  33.549  1.00  0.00           C  \nHETATM  153  C8x UNK B   1       8.124  38.354  27.782  1.00  0.00           C  \nHETATM  154  C9x UNK B   1       9.110  37.885  26.912  1.00  0.00           C  \nHETATM  155 C10x UNK B   1      10.834  39.854  31.283  1.00  0.00           C  \nHETATM  156 C11x UNK B   1       9.837  39.528  29.019  1.00  0.00           C  \nHETATM  157 C12x UNK B   1       8.509  39.173  28.829  1.00  0.00           C  \nHETATM  158 C13x UNK B   1      12.476  38.792  33.273  1.00  0.00           C  \nHETATM  159 C14x UNK B   1       7.666  39.810  29.867  1.00  0.00           C  \nHETATM  160 C15x UNK B   1       9.955  40.422  30.219  1.00  0.00           C  \nHETATM  161 C16x UNK B   1      12.627  45.488  29.798  1.00  0.00           C  \nHETATM  162 C17x UNK B   1      13.042  43.484  31.217  1.00  0.00           C  \nHETATM  163 C18x UNK B   1      10.373  41.843  29.862  1.00  0.00           C  \nHETATM  164 C19x UNK B   1      10.255  42.777  31.064  1.00  0.00           C  \nHETATM  165 C20x UNK B   1      10.708  44.184  30.704  1.00  0.00           C  \nHETATM  166  N1x UNK B   1       8.454  36.346  24.935  1.00  0.00           N  \nHETATM  167  N2x UNK B   1      12.110  44.135  30.224  1.00  0.00           N  \nHETATM  168  O1x UNK B   1       8.597  40.461  30.762  1.00  0.00           O  \nHETATM  169  F1x UNK B   1      13.264  38.279  34.227  1.00  0.00           F  \nHETATM  170  H1x UNK B   1      11.221  37.879  26.420  1.00  0.00           H  \nHETATM  171  H2x UNK B   1      11.865  39.350  28.299  1.00  0.00           H  \nHETATM  172  H3x UNK B   1      12.584  39.764  30.019  1.00  0.00           H  \nHETATM  173  H4x UNK B   1       9.276  39.821  32.779  1.00  0.00           H  \nHETATM  174  H5x UNK B   1      14.034  38.821  31.786  1.00  0.00           H  \nHETATM  175  H6x UNK B   1      10.736  38.879  34.539  1.00  0.00           H  \nHETATM  176  H7x UNK B   1       7.079  38.090  27.648  1.00  0.00           H  \nHETATM  177  H8x UNK B   1       7.004  40.570  29.442  1.00  0.00           H  \nHETATM  178  H9x UNK B   1       7.090  39.078  30.440  1.00  0.00           H  \nHETATM  179 H10x UNK B   1      12.613  46.141  30.672  1.00  0.00           H  \nHETATM  180 H11x UNK B   1      13.643  45.354  29.423  1.00  0.00           H  \nHETATM  181 H12x UNK B   1      11.966  45.866  29.015  1.00  0.00           H  \nHETATM  182 H13x UNK B   1      13.039  44.090  32.125  1.00  0.00           H  \nHETATM  183 H14x UNK B   1      12.670  42.478  31.415  1.00  0.00           H  \nHETATM  184 H15x UNK B   1      14.038  43.453  30.769  1.00  0.00           H  \nHETATM  185 H16x UNK B   1      11.406  41.829  29.499  1.00  0.00           H  \nHETATM  186 H17x UNK B   1       9.743  42.204  29.042  1.00  0.00           H  \nHETATM  187 H18x UNK B   1       9.214  42.799  31.412  1.00  0.00           H  \nHETATM  188 H19x UNK B   1      10.862  42.391  31.892  1.00  0.00           H  \nHETATM  189 H20x UNK B   1      10.110  44.614  29.895  1.00  0.00           H  \nHETATM  190 H21x UNK B   1      10.693  44.854  31.570  1.00  0.00           H  \nHETATM  191 H22x UNK B   1      12.134  43.541  29.377  1.00  0.00           H  \nTER     192      UNK B   1\nHETATM  193  O   HOH C   1       0.287  39.174  29.627  1.00  0.00           O  \nHETATM  194  H1  HOH C   1       0.187  39.923  30.214  1.00  0.00           H  \nHETATM  195  H2  HOH C   1       0.832  38.557  30.115  1.00  0.00           H  \nTER     196      HOH C   1\nHETATM  197  O   HOH D   1      15.568  42.503  19.328  1.00  0.00           O  \nHETATM  198  H1  HOH D   1      15.473  41.625  19.698  1.00  0.00           H  \nHETATM  199  H2  HOH D   1      14.803  42.608  18.763  1.00  0.00           H  \nTER     200      HOH D   1\nHETATM  201  O   HOH E   1      17.291  26.648  37.601  1.00  0.00           O  \nHETATM  202  H1  HOH E   1      17.131  25.799  37.189  1.00  0.00           H  \nHETATM  203  H2  HOH E   1      17.801  27.137  36.955  1.00  0.00           H  \nTER     204      HOH E   1\nHETATM  205  O   HOH F   1       2.877  44.209  37.336  1.00  0.00           O  \nHETATM  206  H1  HOH F   1       2.550  44.864  37.954  1.00  0.00           H  \nHETATM  207  H2  HOH F   1       3.819  44.372  37.291  1.00  0.00           H  \nTER     208      HOH F   1\nHETATM  209  O   HOH G   1       2.045  32.468  24.567  1.00  0.00           O  \nHETATM  210  H1  HOH G   1       1.580  31.671  24.314  1.00  0.00           H  \nHETATM  211  H2  HOH G   1       2.069  32.995  23.768  1.00  0.00           H  \nTER     212      HOH G   1\nHETATM  213  O   HOH H   1      -3.198  39.572  24.402  1.00  0.00           O  \nHETATM  214  H1  HOH H   1      -4.021  39.892  24.030  1.00  0.00           H  \nHETATM  215  H2  HOH H   1      -2.925  38.871  23.811  1.00  0.00           H  \nTER     216      HOH H   1\nHETATM  217  O   HOH I   1      15.022  44.112  25.150  1.00  0.00           O  \nHETATM  218  H1  HOH I   1      14.635  43.671  25.907  1.00  0.00           H  \nHETATM  219  H2  HOH I   1      14.315  44.655  24.802  1.00  0.00           H  \nTER     220      HOH I   1\nHETATM  221  O   HOH J   1       7.392  36.847  21.570  1.00  0.00           O  \nHETATM  222  H1  HOH J   1       6.808  37.297  22.180  1.00  0.00           H  \nHETATM  223  H2  HOH J   1       7.845  36.196  22.106  1.00  0.00           H  \nTER     224      HOH J   1\nHETATM  225  O   HOH K   1      13.633  40.726  33.774  1.00  0.00           O  \nHETATM  226  H1  HOH K   1      14.114  40.643  34.598  1.00  0.00           H  \nHETATM  227  H2  HOH K   1      14.298  40.607  33.096  1.00  0.00           H  \nTER     228      HOH K   1\nHETATM  229  O   HOH L   1      18.246  35.003  22.202  1.00  0.00           O  \nHETATM  230  H1  HOH L   1      18.157  35.237  21.278  1.00  0.00           H  \nHETATM  231  H2  HOH L   1      18.905  35.610  22.540  1.00  0.00           H  \nTER     232      HOH L   1\nHETATM  233  O   HOH M   1       1.781  39.185  24.816  1.00  0.00           O  \nHETATM  234  H1  HOH M   1       1.931  39.216  25.761  1.00  0.00           H  \nHETATM  235  H2  HOH M   1       0.920  39.585  24.696  1.00  0.00           H  \nTER     236      HOH M   1\nHETATM  237  O   HOH N   1       9.097  51.051  30.064  1.00  0.00           O  \nHETATM  238  H1  HOH N   1      10.030  50.859  29.975  1.00  0.00           H  \nHETATM  239  H2  HOH N   1       8.690  50.620  29.313  1.00  0.00           H  \nTER     240      HOH N   1\nHETATM  241  O   HOH O   1      14.529  46.858  16.547  1.00  0.00           O  \nHETATM  242  H1  HOH O   1      13.875  47.548  16.433  1.00  0.00           H  \nHETATM  243  H2  HOH O   1      14.445  46.316  15.763  1.00  0.00           H  \nTER     244      HOH O   1\nHETATM  245  O   HOH P   1      14.598  30.356  40.912  1.00  0.00           O  \nHETATM  246  H1  HOH P   1      14.281  30.013  41.747  1.00  0.00           H  \nHETATM  247  H2  HOH P   1      14.538  29.615  40.309  1.00  0.00           H  \nTER     248      HOH P   1\nHETATM  249  O   HOH Q   1      -1.445  46.269  19.712  1.00  0.00           O  \nHETATM  250  H1  HOH Q   1      -0.652  46.805  19.713  1.00  0.00           H  \nHETATM  251  H2  HOH Q   1      -1.161  45.419  20.048  1.00  0.00           H  \nTER     252      HOH Q   1\nHETATM  253  O   HOH R   1       9.696  40.177  16.401  1.00  0.00           O  \nHETATM  254  H1  HOH R   1       9.067  39.476  16.572  1.00  0.00           H  \nHETATM  255  H2  HOH R   1       9.244  40.762  15.793  1.00  0.00           H  \nTER     256      HOH R   1\nHETATM  257  O   HOH S   1      13.099  47.527  29.233  1.00  0.00           O  \nHETATM  258  H1  HOH S   1      13.444  48.403  29.064  1.00  0.00           H  \nHETATM  259  H2  HOH S   1      13.829  46.939  29.039  1.00  0.00           H  \nTER     260      HOH S   1\nHETATM  261  O   HOH T   1       7.926  48.617  24.409  1.00  0.00           O  \nHETATM  262  H1  HOH T   1       7.856  49.381  23.838  1.00  0.00           H  \nHETATM  263  H2  HOH T   1       8.242  47.917  23.837  1.00  0.00           H  \nTER     264      HOH T   1\nHETATM  265  O   HOH U   1      -2.245  33.367  21.004  1.00  0.00           O  \nHETATM  266  H1  HOH U   1      -1.921  32.579  20.569  1.00  0.00           H  \nHETATM  267  H2  HOH U   1      -1.459  33.793  21.347  1.00  0.00           H  \nTER     268      HOH U   1\nHETATM  269  O   HOH V   1       0.544  27.194  32.504  1.00  0.00           O  \nHETATM  270  H1  HOH V   1      -0.387  27.331  32.330  1.00  0.00           H  \nHETATM  271  H2  HOH V   1       0.934  27.070  31.639  1.00  0.00           H  \nTER     272      HOH V   1\nHETATM  273  O   HOH W   1       7.185  27.680  34.012  1.00  0.00           O  \nHETATM  274  H1  HOH W   1       6.923  28.601  34.005  1.00  0.00           H  \nHETATM  275  H2  HOH W   1       7.858  27.627  34.690  1.00  0.00           H  \nTER     276      HOH W   1\nHETATM  277  O   HOH X   1      11.321  26.179  24.738  1.00  0.00           O  \nHETATM  278  H1  HOH X   1      10.931  26.927  24.286  1.00  0.00           H  \nHETATM  279  H2  HOH X   1      11.256  25.459  24.111  1.00  0.00           H  \nTER     280      HOH X   1\nHETATM  281  O   HOH Y   1       4.520  31.883  19.368  1.00  0.00           O  \nHETATM  282  H1  HOH Y   1       5.184  32.405  18.918  1.00  0.00           H  \nHETATM  283  H2  HOH Y   1       4.154  32.476  20.025  1.00  0.00           H  \nTER     284      HOH Y   1\nHETATM  285  O   HOH Z   1      20.551  34.910  33.231  1.00  0.00           O  \nHETATM  286  H1  HOH Z   1      20.887  34.017  33.161  1.00  0.00           H  \nHETATM  287  H2  HOH Z   1      20.457  35.058  34.172  1.00  0.00           H  \nTER     288      HOH Z   1\nHETATM  289  O   HOH A   1       3.960  39.269  22.958  1.00  0.00           O  \nHETATM  290  H1  HOH A   1       3.325  39.008  23.625  1.00  0.00           H  \nHETATM  291  H2  HOH A   1       4.531  38.507  22.859  1.00  0.00           H  \nTER     292      HOH A   1\nHETATM  293  O   HOH B   1       5.252  28.306  28.167  1.00  0.00           O  \nHETATM  294  H1  HOH B   1       5.432  28.762  27.345  1.00  0.00           H  \nHETATM  295  H2  HOH B   1       5.939  28.605  28.764  1.00  0.00           H  \nTER     296      HOH B   1\nHETATM  297  O   HOH C   1      18.621  29.104  18.530  1.00  0.00           O  \nHETATM  298  H1  HOH C   1      17.848  29.074  17.966  1.00  0.00           H  \nHETATM  299  H2  HOH C   1      18.964  29.991  18.419  1.00  0.00           H  \nTER     300      HOH C   1\nHETATM  301  O   HOH D   1      17.395  46.000  30.813  1.00  0.00           O  \nHETATM  302  H1  HOH D   1      17.042  46.537  31.523  1.00  0.00           H  \nHETATM  303  H2  HOH D   1      18.114  46.520  30.453  1.00  0.00           H  \nTER     304      HOH D   1\nHETATM  305  O   HOH E   1       7.358  51.796  17.424  1.00  0.00           O  \nHETATM  306  H1  HOH E   1       7.417  52.746  17.526  1.00  0.00           H  \nHETATM  307  H2  HOH E   1       7.805  51.444  18.193  1.00  0.00           H  \nTER     308      HOH E   1\nHETATM  309  O   HOH F   1       0.853  29.110  28.213  1.00  0.00           O  \nHETATM  310  H1  HOH F   1       0.000  29.449  27.939  1.00  0.00           H  \nHETATM  311  H2  HOH F   1       1.397  29.890  28.320  1.00  0.00           H  \nTER     312      HOH F   1\nHETATM  313  O   HOH G   1      11.737  30.001  39.074  1.00  0.00           O  \nHETATM  314  H1  HOH G   1      12.289  30.642  38.626  1.00  0.00           H  \nHETATM  315  H2  HOH G   1      11.433  29.418  38.379  1.00  0.00           H  \nTER     316      HOH G   1\nHETATM  317  O   HOH H   1       1.083  39.579  21.920  1.00  0.00           O  \nHETATM  318  H1  HOH H   1       1.409  38.780  22.335  1.00  0.00           H  \nHETATM  319  H2  HOH H   1       0.562  40.007  22.599  1.00  0.00           H  \nTER     320      HOH H   1\nHETATM  321  O   HOH I   1       8.108  30.430  34.297  1.00  0.00           O  \nHETATM  322  H1  HOH I   1       8.977  30.816  34.190  1.00  0.00           H  \nHETATM  323  H2  HOH I   1       7.932  30.491  35.236  1.00  0.00           H  \nTER     324      HOH I   1\nHETATM  325  O   HOH J   1      -0.834  49.220  20.859  1.00  0.00           O  \nHETATM  326  H1  HOH J   1      -1.274  48.630  21.471  1.00  0.00           H  \nHETATM  327  H2  HOH J   1      -0.043  48.749  20.597  1.00  0.00           H  \nTER     328      HOH J   1\nHETATM  329  O   HOH K   1       5.557  31.497  29.426  1.00  0.00           O  \nHETATM  330  H1  HOH K   1       4.634  31.320  29.607  1.00  0.00           H  \nHETATM  331  H2  HOH K   1       5.711  31.109  28.565  1.00  0.00           H  \nTER     332      HOH K   1\nHETATM  333  O   HOH L   1       2.625  44.546  30.077  1.00  0.00           O  \nHETATM  334  H1  HOH L   1       1.963  44.455  30.762  1.00  0.00           H  \nHETATM  335  H2  HOH L   1       3.256  45.170  30.435  1.00  0.00           H  \nTER     336      HOH L   1\nHETATM  337  O   HOH M   1       8.893  30.241  28.901  1.00  0.00           O  \nHETATM  338  H1  HOH M   1       9.722  29.775  28.789  1.00  0.00           H  \nHETATM  339  H2  HOH M   1       8.536  29.900  29.722  1.00  0.00           H  \nTER     340      HOH M   1\nHETATM  341  O   HOH N   1       7.444  34.151  25.216  1.00  0.00           O  \nHETATM  342  H1  HOH N   1       7.507  33.442  25.857  1.00  0.00           H  \nHETATM  343  H2  HOH N   1       6.839  34.778  25.610  1.00  0.00           H  \nTER     344      HOH N   1\nHETATM  345  O   HOH O   1      11.856  44.106  20.415  1.00  0.00           O  \nHETATM  346  H1  HOH O   1      12.033  44.102  19.475  1.00  0.00           H  \nHETATM  347  H2  HOH O   1      12.414  43.412  20.767  1.00  0.00           H  \nTER     348      HOH O   1\nHETATM  349  O   HOH P   1       2.173  26.379  20.329  1.00  0.00           O  \nHETATM  350  H1  HOH P   1       3.022  25.970  20.160  1.00  0.00           H  \nHETATM  351  H2  HOH P   1       2.327  27.314  20.197  1.00  0.00           H  \nTER     352      HOH P   1\nHETATM  353  O   HOH Q   1       5.578  34.220  22.430  1.00  0.00           O  \nHETATM  354  H1  HOH Q   1       6.067  33.954  23.209  1.00  0.00           H  \nHETATM  355  H2  HOH Q   1       6.185  34.781  21.947  1.00  0.00           H  \nTER     356      HOH Q   1\nHETATM  357  O   HOH R   1       5.239  35.580  25.845  1.00  0.00           O  \nHETATM  358  H1  HOH R   1       5.475  35.820  26.741  1.00  0.00           H  \nHETATM  359  H2  HOH R   1       4.306  35.369  25.891  1.00  0.00           H  \nTER     360      HOH R   1\nHETATM  361  O   HOH S   1       4.829  48.584  21.593  1.00  0.00           O  \nHETATM  362  H1  HOH S   1       5.330  48.202  22.314  1.00  0.00           H  \nHETATM  363  H2  HOH S   1       5.471  48.709  20.894  1.00  0.00           H  \nTER     364      HOH S   1\nHETATM  365  O   HOH T   1       8.357  28.526  22.515  1.00  0.00           O  \nHETATM  366  H1  HOH T   1       8.749  29.006  23.245  1.00  0.00           H  \nHETATM  367  H2  HOH T   1       8.992  27.839  22.310  1.00  0.00           H  \nTER     368      HOH T   1\nHETATM  369  O   HOH U   1      -1.070  35.820  31.805  1.00  0.00           O  \nHETATM  370  H1  HOH U   1      -1.636  36.292  31.194  1.00  0.00           H  \nHETATM  371  H2  HOH U   1      -1.676  35.367  32.392  1.00  0.00           H  \nTER     372      HOH U   1\nHETATM  373  O   HOH V   1      -0.041  31.428  34.412  1.00  0.00           O  \nHETATM  374  H1  HOH V   1       0.702  30.893  34.134  1.00  0.00           H  \nHETATM  375  H2  HOH V   1      -0.792  31.053  33.951  1.00  0.00           H  \nTER     376      HOH V   1\nHETATM  377  O   HOH W   1       3.431  30.986  26.636  1.00  0.00           O  \nHETATM  378  H1  HOH W   1       2.816  31.564  26.184  1.00  0.00           H  \nHETATM  379  H2  HOH W   1       3.807  30.445  25.942  1.00  0.00           H  \nTER     380      HOH W   1\nHETATM  381  O   HOH X   1       0.656  29.814  24.477  1.00  0.00           O  \nHETATM  382  H1  HOH X   1      -0.015  29.176  24.717  1.00  0.00           H  \nHETATM  383  H2  HOH X   1       0.918  29.566  23.591  1.00  0.00           H  \nTER     384      HOH X   1\nHETATM  385  O   HOH Y   1       8.782  28.241  18.512  1.00  0.00           O  \nHETATM  386  H1  HOH Y   1       8.414  28.611  17.710  1.00  0.00           H  \nHETATM  387  H2  HOH Y   1       9.441  28.878  18.790  1.00  0.00           H  \nTER     388      HOH Y   1\nHETATM  389  O   HOH Z   1      19.845  44.750  41.489  1.00  0.00           O  \nHETATM  390  H1  HOH Z   1      19.111  44.445  42.021  1.00  0.00           H  \nHETATM  391  H2  HOH Z   1      20.241  45.452  42.006  1.00  0.00           H  \nTER     392      HOH Z   1\nHETATM  393  O   HOH A   1       0.162  35.531  35.102  1.00  0.00           O  \nHETATM  394  H1  HOH A   1       0.872  34.988  34.758  1.00  0.00           H  \nHETATM  395  H2  HOH A   1       0.302  36.390  34.703  1.00  0.00           H  \nTER     396      HOH A   1\nHETATM  397  O   HOH B   1       9.771  35.192  19.034  1.00  0.00           O  \nHETATM  398  H1  HOH B   1      10.248  34.445  19.394  1.00  0.00           H  \nHETATM  399  H2  HOH B   1      10.387  35.923  19.097  1.00  0.00           H  \nTER     400      HOH B   1\nHETATM  401  O   HOH C   1       6.847  36.784  16.341  1.00  0.00           O  \nHETATM  402  H1  HOH C   1       7.129  37.464  15.729  1.00  0.00           H  \nHETATM  403  H2  HOH C   1       6.760  37.238  17.180  1.00  0.00           H  \nTER     404      HOH C   1\nHETATM  405  O   HOH D   1      11.805  32.111  24.853  1.00  0.00           O  \nHETATM  406  H1  HOH D   1      11.786  32.111  25.810  1.00  0.00           H  \nHETATM  407  H2  HOH D   1      12.707  32.345  24.632  1.00  0.00           H  \nTER     408      HOH D   1\nHETATM  409  O   HOH E   1      18.325  37.480  24.560  1.00  0.00           O  \nHETATM  410  H1  HOH E   1      18.369  38.431  24.468  1.00  0.00           H  \nHETATM  411  H2  HOH E   1      18.984  37.148  23.950  1.00  0.00           H  \nTER     412      HOH E   1\nHETATM  413  O   HOH F   1      -2.258  27.336  28.245  1.00  0.00           O  \nHETATM  414  H1  HOH F   1      -2.164  26.897  27.400  1.00  0.00           H  \nHETATM  415  H2  HOH F   1      -2.053  28.253  28.064  1.00  0.00           H  \nTER     416      HOH F   1\nHETATM  417  O   HOH G   1       5.964  39.062  36.568  1.00  0.00           O  \nHETATM  418  H1  HOH G   1       6.078  38.112  36.556  1.00  0.00           H  \nHETATM  419  H2  HOH G   1       6.391  39.365  35.766  1.00  0.00           H  \nTER     420      HOH G   1\nHETATM  421  O   HOH H   1       6.309  34.043  18.812  1.00  0.00           O  \nHETATM  422  H1  HOH H   1       6.966  34.104  18.119  1.00  0.00           H  \nHETATM  423  H2  HOH H   1       6.760  34.352  19.598  1.00  0.00           H  \nTER     424      HOH H   1\nHETATM  425  O   HOH I   1       0.873  40.919  38.994  1.00  0.00           O  \nHETATM  426  H1  HOH I   1       0.730  41.399  38.178  1.00  0.00           H  \nHETATM  427  H2  HOH I   1       1.137  41.590  39.623  1.00  0.00           H  \nTER     428      HOH I   1\nHETATM  429  O   HOH J   1      -0.919  41.954  30.229  1.00  0.00           O  \nHETATM  430  H1  HOH J   1      -0.306  42.604  30.571  1.00  0.00           H  \nHETATM  431  H2  HOH J   1      -1.589  41.874  30.908  1.00  0.00           H  \nTER     432      HOH J   1\nHETATM  433  O   HOH K   1       6.139  27.120  25.032  1.00  0.00           O  \nHETATM  434  H1  HOH K   1       7.052  27.283  24.795  1.00  0.00           H  \nHETATM  435  H2  HOH K   1       6.182  26.754  25.915  1.00  0.00           H  \nTER     436      HOH K   1\nHETATM  437  O   HOH L   1       8.682  34.891  22.910  1.00  0.00           O  \nHETATM  438  H1  HOH L   1       9.090  34.455  22.161  1.00  0.00           H  \nHETATM  439  H2  HOH L   1       8.784  34.272  23.633  1.00  0.00           H  \nTER     440      HOH L   1\nHETATM  441  O   HOH M   1      16.848  40.054  26.724  1.00  0.00           O  \nHETATM  442  H1  HOH M   1      16.636  40.471  27.559  1.00  0.00           H  \nHETATM  443  H2  HOH M   1      15.997  39.855  26.333  1.00  0.00           H  \nTER     444      HOH M   1\nHETATM  445  O   HOH N   1       1.232  37.697  34.011  1.00  0.00           O  \nHETATM  446  H1  HOH N   1       1.998  37.215  33.699  1.00  0.00           H  \nHETATM  447  H2  HOH N   1       0.855  38.085  33.221  1.00  0.00           H  \nTER     448      HOH N   1\nHETATM  449  O   HOH O   1       0.636  32.490  36.961  1.00  0.00           O  \nHETATM  450  H1  HOH O   1       0.542  32.216  36.048  1.00  0.00           H  \nHETATM  451  H2  HOH O   1       0.626  33.446  36.927  1.00  0.00           H  \nTER     452      HOH O   1\nHETATM  453  O   HOH P   1      12.965  34.336  37.779  1.00  0.00           O  \nHETATM  454  H1  HOH P   1      12.292  33.762  37.413  1.00  0.00           H  \nHETATM  455  H2  HOH P   1      13.550  33.747  38.255  1.00  0.00           H  \nTER     456      HOH P   1\nHETATM  457  O   HOH Q   1      13.500  26.814  33.238  1.00  0.00           O  \nHETATM  458  H1  HOH Q   1      13.312  27.664  33.636  1.00  0.00           H  \nHETATM  459  H2  HOH Q   1      12.758  26.263  33.486  1.00  0.00           H  \nTER     460      HOH Q   1\nHETATM  461  O   HOH R   1       0.523  50.148  28.999  1.00  0.00           O  \nHETATM  462  H1  HOH R   1       1.348  50.580  28.776  1.00  0.00           H  \nHETATM  463  H2  HOH R   1       0.040  50.799  29.507  1.00  0.00           H  \nTER     464      HOH R   1\nHETATM  465  O   HOH S   1       2.252  40.357  27.309  1.00  0.00           O  \nHETATM  466  H1  HOH S   1       1.633  40.876  26.796  1.00  0.00           H  \nHETATM  467  H2  HOH S   1       2.162  40.691  28.202  1.00  0.00           H  \nTER     468      HOH S   1\nHETATM  469  O   HOH T   1       4.668  29.637  24.478  1.00  0.00           O  \nHETATM  470  H1  HOH T   1       5.029  29.953  23.650  1.00  0.00           H  \nHETATM  471  H2  HOH T   1       5.147  28.827  24.655  1.00  0.00           H  \nTER     472      HOH T   1\nHETATM  473  O   HOH U   1       2.064  51.672  31.650  1.00  0.00           O  \nHETATM  474  H1  HOH U   1       1.143  51.900  31.525  1.00  0.00           H  \nHETATM  475  H2  HOH U   1       2.422  51.626  30.764  1.00  0.00           H  \nTER     476      HOH U   1\nHETATM  477  O   HOH V   1       0.338  33.539  22.424  1.00  0.00           O  \nHETATM  478  H1  HOH V   1      -0.234  33.830  23.134  1.00  0.00           H  \nHETATM  479  H2  HOH V   1       0.489  34.325  21.899  1.00  0.00           H  \nTER     480      HOH V   1\nHETATM  481  O   HOH W   1      17.097  33.621  33.719  1.00  0.00           O  \nHETATM  482  H1  HOH W   1      16.656  33.939  34.507  1.00  0.00           H  \nHETATM  483  H2  HOH W   1      17.462  34.408  33.314  1.00  0.00           H  \nTER     484      HOH W   1\nHETATM  485  O   HOH X   1       3.812  41.088  16.427  1.00  0.00           O  \nHETATM  486  H1  HOH X   1       4.304  40.405  16.882  1.00  0.00           H  \nHETATM  487  H2  HOH X   1       4.316  41.888  16.577  1.00  0.00           H  \nTER     488      HOH X   1\nHETATM  489  O   HOH Y   1       5.938  28.383  21.507  1.00  0.00           O  \nHETATM  490  H1  HOH Y   1       6.787  28.234  21.925  1.00  0.00           H  \nHETATM  491  H2  HOH Y   1       5.966  27.854  20.710  1.00  0.00           H  \nTER     492      HOH Y   1\nHETATM  493  O   HOH Z   1      21.111  36.208  38.300  1.00  0.00           O  \nHETATM  494  H1  HOH Z   1      20.572  35.639  38.849  1.00  0.00           H  \nHETATM  495  H2  HOH Z   1      20.514  36.898  38.009  1.00  0.00           H  \nTER     496      HOH Z   1\nHETATM  497  O   HOH A   1       9.158  31.578  36.771  1.00  0.00           O  \nHETATM  498  H1  HOH A   1       9.433  32.492  36.700  1.00  0.00           H  \nHETATM  499  H2  HOH A   1       9.621  31.248  37.541  1.00  0.00           H  \nTER     500      HOH A   1\nHETATM  501  O   HOH B   1      15.942  42.520  22.659  1.00  0.00           O  \nHETATM  502  H1  HOH B   1      15.792  43.295  22.119  1.00  0.00           H  \nHETATM  503  H2  HOH B   1      15.296  42.588  23.362  1.00  0.00           H  \nTER     504      HOH B   1\nHETATM  505  O   HOH C   1      21.093  40.819  25.453  1.00  0.00           O  \nHETATM  506  H1  HOH C   1      21.482  40.086  25.931  1.00  0.00           H  \nHETATM  507  H2  HOH C   1      21.494  40.780  24.585  1.00  0.00           H  \nTER     508      HOH C   1\nHETATM  509  O   HOH D   1       1.908  37.049  28.152  1.00  0.00           O  \nHETATM  510  H1  HOH D   1       1.676  37.268  29.055  1.00  0.00           H  \nHETATM  511  H2  HOH D   1       2.751  37.479  28.011  1.00  0.00           H  \nTER     512      HOH D   1\nHETATM  513  O   HOH E   1      -1.358  38.932  27.383  1.00  0.00           O  \nHETATM  514  H1  HOH E   1      -0.867  38.817  28.197  1.00  0.00           H  \nHETATM  515  H2  HOH E   1      -1.441  39.881  27.286  1.00  0.00           H  \nTER     516      HOH E   1\nHETATM  517  O   HOH F   1       0.247  36.471  26.057  1.00  0.00           O  \nHETATM  518  H1  HOH F   1      -0.476  37.082  26.194  1.00  0.00           H  \nHETATM  519  H2  HOH F   1       0.853  36.651  26.777  1.00  0.00           H  \nTER     520      HOH F   1\nHETATM  521  O   HOH G   1      -1.364  27.768  25.352  1.00  0.00           O  \nHETATM  522  H1  HOH G   1      -1.913  28.506  25.085  1.00  0.00           H  \nHETATM  523  H2  HOH G   1      -1.952  27.013  25.333  1.00  0.00           H  \nTER     524      HOH G   1\nHETATM  525  O   HOH H   1      -0.814  41.589  27.462  1.00  0.00           O  \nHETATM  526  H1  HOH H   1      -0.859  41.659  28.416  1.00  0.00           H  \nHETATM  527  H2  HOH H   1      -0.725  42.493  27.159  1.00  0.00           H  \nTER     528      HOH H   1\nHETATM  529  O   HOH I   1       5.661  41.430  19.740  1.00  0.00           O  \nHETATM  530  H1  HOH I   1       5.932  41.298  20.649  1.00  0.00           H  \nHETATM  531  H2  HOH I   1       6.072  42.256  19.485  1.00  0.00           H  \nTER     532      HOH I   1\nHETATM  533  O   HOH J   1       4.211  43.783  33.136  1.00  0.00           O  \nHETATM  534  H1  HOH J   1       3.979  43.076  33.738  1.00  0.00           H  \nHETATM  535  H2  HOH J   1       4.408  43.340  32.311  1.00  0.00           H  \nTER     536      HOH J   1\nHETATM  537  O   HOH K   1       4.186  26.550  29.929  1.00  0.00           O  \nHETATM  538  H1  HOH K   1       4.353  27.303  29.362  1.00  0.00           H  \nHETATM  539  H2  HOH K   1       4.751  26.693  30.690  1.00  0.00           H  \nTER     540      HOH K   1\nHETATM  541  O   HOH L   1       8.496  48.938  19.898  1.00  0.00           O  \nHETATM  542  H1  HOH L   1       7.737  48.422  19.627  1.00  0.00           H  \nHETATM  543  H2  HOH L   1       9.241  48.505  19.482  1.00  0.00           H  \nTER     544      HOH L   1\nHETATM  545  O   HOH M   1      -1.711  47.630  33.726  1.00  0.00           O  \nHETATM  546  H1  HOH M   1      -0.992  47.308  33.184  1.00  0.00           H  \nHETATM  547  H2  HOH M   1      -1.527  48.562  33.841  1.00  0.00           H  \nTER     548      HOH M   1\nHETATM  549  O   HOH N   1      15.157  33.846  21.835  1.00  0.00           O  \nHETATM  550  H1  HOH N   1      16.075  33.877  22.106  1.00  0.00           H  \nHETATM  551  H2  HOH N   1      15.011  32.934  21.586  1.00  0.00           H  \nTER     552      HOH N   1\nHETATM  553  O   HOH O   1       1.969  41.577  20.178  1.00  0.00           O  \nHETATM  554  H1  HOH O   1       2.761  41.141  19.864  1.00  0.00           H  \nHETATM  555  H2  HOH O   1       1.784  41.160  21.020  1.00  0.00           H  \nTER     556      HOH O   1\nHETATM  557  O   HOH P   1      11.801  37.150  19.589  1.00  0.00           O  \nHETATM  558  H1  HOH P   1      12.621  36.673  19.712  1.00  0.00           H  \nHETATM  559  H2  HOH P   1      11.630  37.558  20.439  1.00  0.00           H  \nTER     560      HOH P   1\nHETATM  561  O   HOH Q   1       9.787  40.557  27.122  1.00  0.00           O  \nHETATM  562  H1  HOH Q   1       9.002  40.869  27.572  1.00  0.00           H  \nHETATM  563  H2  HOH Q   1       9.667  40.830  26.213  1.00  0.00           H  \nTER     564      HOH Q   1\nHETATM  565  O   HOH R   1       5.268  45.229  37.966  1.00  0.00           O  \nHETATM  566  H1  HOH R   1       6.033  44.895  37.496  1.00  0.00           H  \nHETATM  567  H2  HOH R   1       5.513  46.119  38.221  1.00  0.00           H  \nTER     568      HOH R   1\nHETATM  569  O   HOH S   1       5.054  45.915  17.465  1.00  0.00           O  \nHETATM  570  H1  HOH S   1       4.449  45.277  17.843  1.00  0.00           H  \nHETATM  571  H2  HOH S   1       4.938  46.701  17.999  1.00  0.00           H  \nTER     572      HOH S   1\nHETATM  573  O   HOH T   1       9.610  26.063  20.991  1.00  0.00           O  \nHETATM  574  H1  HOH T   1      10.427  26.042  21.488  1.00  0.00           H  \nHETATM  575  H2  HOH T   1       9.884  26.009  20.075  1.00  0.00           H  \nTER     576      HOH T   1\nHETATM  577  O   HOH U   1       8.027  34.370  16.684  1.00  0.00           O  \nHETATM  578  H1  HOH U   1       7.639  35.201  16.412  1.00  0.00           H  \nHETATM  579  H2  HOH U   1       8.971  34.525  16.658  1.00  0.00           H  \nTER     580      HOH U   1\nHETATM  581  O   HOH V   1      10.221  46.205  35.731  1.00  0.00           O  \nHETATM  582  H1  HOH V   1       9.348  46.019  36.075  1.00  0.00           H  \nHETATM  583  H2  HOH V   1      10.280  45.680  34.932  1.00  0.00           H  \nTER     584      HOH V   1\nHETATM  585  O   HOH W   1      21.942  41.076  31.461  1.00  0.00           O  \nHETATM  586  H1  HOH W   1      22.761  40.951  30.982  1.00  0.00           H  \nHETATM  587  H2  HOH W   1      21.997  40.463  32.194  1.00  0.00           H  \nTER     588      HOH W   1\nHETATM  589  O   HOH X   1      10.898  30.529  22.602  1.00  0.00           O  \nHETATM  590  H1  HOH X   1      11.454  29.753  22.533  1.00  0.00           H  \nHETATM  591  H2  HOH X   1      11.434  31.168  23.072  1.00  0.00           H  \nTER     592      HOH X   1\nHETATM  593  O   HOH Y   1       9.842  37.539  24.177  1.00  0.00           O  \nHETATM  594  H1  HOH Y   1       9.124  37.946  24.663  1.00  0.00           H  \nHETATM  595  H2  HOH Y   1       9.557  36.636  24.040  1.00  0.00           H  \nTER     596      HOH Y   1\nHETATM  597  O   HOH Z   1       0.598  25.469  25.018  1.00  0.00           O  \nHETATM  598  H1  HOH Z   1       1.120  25.828  25.735  1.00  0.00           H  \nHETATM  599  H2  HOH Z   1      -0.126  26.087  24.915  1.00  0.00           H  \nTER     600      HOH Z   1\nHETATM  601  O   HOH A   1      -0.636  40.786  23.861  1.00  0.00           O  \nHETATM  602  H1  HOH A   1      -1.234  40.913  23.125  1.00  0.00           H  \nHETATM  603  H2  HOH A   1      -1.108  40.206  24.457  1.00  0.00           H  \nTER     604      HOH A   1\nHETATM  605  O   HOH B   1       9.658  35.747  31.287  1.00  0.00           O  \nHETATM  606  H1  HOH B   1      10.284  36.461  31.407  1.00  0.00           H  \nHETATM  607  H2  HOH B   1      10.177  35.034  30.912  1.00  0.00           H  \nTER     608      HOH B   1\nHETATM  609  O   HOH C   1       2.517  38.029  36.668  1.00  0.00           O  \nHETATM  610  H1  HOH C   1       1.930  38.135  35.919  1.00  0.00           H  \nHETATM  611  H2  HOH C   1       2.974  38.867  36.735  1.00  0.00           H  \nTER     612      HOH C   1\nHETATM  613  O   HOH D   1      -1.640  27.932  30.886  1.00  0.00           O  \nHETATM  614  H1  HOH D   1      -1.848  27.514  30.050  1.00  0.00           H  \nHETATM  615  H2  HOH D   1      -1.075  28.669  30.651  1.00  0.00           H  \nTER     616      HOH D   1\nHETATM  617  O   HOH E   1      16.520  26.691  30.260  1.00  0.00           O  \nHETATM  618  H1  HOH E   1      17.411  26.564  29.934  1.00  0.00           H  \nHETATM  619  H2  HOH E   1      16.494  27.608  30.535  1.00  0.00           H  \nTER     620      HOH E   1\nHETATM  621  O   HOH F   1       9.119  43.690  20.577  1.00  0.00           O  \nHETATM  622  H1  HOH F   1       8.992  43.977  21.481  1.00  0.00           H  \nHETATM  623  H2  HOH F   1      10.052  43.826  20.411  1.00  0.00           H  \nTER     624      HOH F   1\nHETATM  625  O   HOH G   1       7.374  38.730  25.497  1.00  0.00           O  \nHETATM  626  H1  HOH G   1       7.659  38.685  26.409  1.00  0.00           H  \nHETATM  627  H2  HOH G   1       6.635  39.338  25.506  1.00  0.00           H  \nTER     628      HOH G   1\nHETATM  629  O   HOH H   1       1.455  42.096  17.110  1.00  0.00           O  \nHETATM  630  H1  HOH H   1       2.364  41.900  17.339  1.00  0.00           H  \nHETATM  631  H2  HOH H   1       1.261  41.510  16.379  1.00  0.00           H  \nTER     632      HOH H   1\nHETATM  633  O   HOH I   1       2.127  26.795  26.705  1.00  0.00           O  \nHETATM  634  H1  HOH I   1       2.875  27.390  26.749  1.00  0.00           H  \nHETATM  635  H2  HOH I   1       1.368  27.349  26.889  1.00  0.00           H  \nTER     636      HOH I   1\nHETATM  637  O   HOH J   1      10.007  41.492  35.781  1.00  0.00           O  \nHETATM  638  H1  HOH J   1       9.549  41.105  35.035  1.00  0.00           H  \nHETATM  639  H2  HOH J   1      10.319  42.338  35.457  1.00  0.00           H  \nTER     640      HOH J   1\nHETATM  641  O   HOH K   1      14.130  30.277  16.200  1.00  0.00           O  \nHETATM  642  H1  HOH K   1      13.218  30.545  16.316  1.00  0.00           H  \nHETATM  643  H2  HOH K   1      14.364  29.858  17.029  1.00  0.00           H  \nTER     644      HOH K   1\nHETATM  645  O   HOH L   1       2.248  37.255  18.992  1.00  0.00           O  \nHETATM  646  H1  HOH L   1       1.428  37.748  18.955  1.00  0.00           H  \nHETATM  647  H2  HOH L   1       2.886  37.877  19.341  1.00  0.00           H  \nTER     648      HOH L   1\nHETATM  649  O   HOH M   1      16.951  37.459  33.467  1.00  0.00           O  \nHETATM  650  H1  HOH M   1      17.497  36.746  33.136  1.00  0.00           H  \nHETATM  651  H2  HOH M   1      17.077  38.170  32.838  1.00  0.00           H  \nTER     652      HOH M   1\nHETATM  653  O   HOH N   1       8.046  37.440  19.006  1.00  0.00           O  \nHETATM  654  H1  HOH N   1       7.762  37.462  19.919  1.00  0.00           H  \nHETATM  655  H2  HOH N   1       8.450  36.579  18.900  1.00  0.00           H  \nTER     656      HOH N   1\nHETATM  657  O   HOH O   1       2.548  29.377  22.144  1.00  0.00           O  \nHETATM  658  H1  HOH O   1       2.990  29.660  22.944  1.00  0.00           H  \nHETATM  659  H2  HOH O   1       2.943  29.907  21.451  1.00  0.00           H  \nTER     660      HOH O   1\nHETATM  661  O   HOH P   1      13.988  36.170  40.580  1.00  0.00           O  \nHETATM  662  H1  HOH P   1      13.217  35.707  40.252  1.00  0.00           H  \nHETATM  663  H2  HOH P   1      14.725  35.754  40.134  1.00  0.00           H  \nTER     664      HOH P   1\nHETATM  665  O   HOH Q   1      17.159  42.316  17.352  1.00  0.00           O  \nHETATM  666  H1  HOH Q   1      17.516  43.190  17.193  1.00  0.00           H  \nHETATM  667  H2  HOH Q   1      16.571  42.429  18.098  1.00  0.00           H  \nTER     668      HOH Q   1\nHETATM  669  O   HOH R   1      14.140  35.695  20.206  1.00  0.00           O  \nHETATM  670  H1  HOH R   1      14.730  36.439  20.331  1.00  0.00           H  \nHETATM  671  H2  HOH R   1      14.392  35.072  20.887  1.00  0.00           H  \nTER     672      HOH R   1\nHETATM  673  O   HOH S   1      10.730  36.831  28.371  1.00  0.00           O  \nHETATM  674  H1  HOH S   1      11.479  37.421  28.282  1.00  0.00           H  \nHETATM  675  H2  HOH S   1      11.008  36.024  27.937  1.00  0.00           H  \nTER     676      HOH S   1\nHETATM  677  O   HOH T   1       2.061  44.848  26.363  1.00  0.00           O  \nHETATM  678  H1  HOH T   1       1.398  45.093  27.008  1.00  0.00           H  \nHETATM  679  H2  HOH T   1       1.589  44.312  25.726  1.00  0.00           H  \nTER     680      HOH T   1\nHETATM  681  O   HOH U   1       6.699  30.336  26.951  1.00  0.00           O  \nHETATM  682  H1  HOH U   1       6.613  31.007  26.273  1.00  0.00           H  \nHETATM  683  H2  HOH U   1       7.546  30.514  27.359  1.00  0.00           H  \nTER     684      HOH U   1\nHETATM  685  O   HOH V   1       4.539  48.963  29.052  1.00  0.00           O  \nHETATM  686  H1  HOH V   1       5.330  49.433  28.788  1.00  0.00           H  \nHETATM  687  H2  HOH V   1       3.820  49.497  28.715  1.00  0.00           H  \nTER     688      HOH V   1\nHETATM  689  O   HOH W   1       4.168  39.300  20.153  1.00  0.00           O  \nHETATM  690  H1  HOH W   1       4.850  39.914  19.882  1.00  0.00           H  \nHETATM  691  H2  HOH W   1       4.092  39.427  21.099  1.00  0.00           H  \nTER     692      HOH W   1\nHETATM  693  O   HOH X   1      14.023  31.296  22.186  1.00  0.00           O  \nHETATM  694  H1  HOH X   1      14.940  31.111  21.984  1.00  0.00           H  \nHETATM  695  H2  HOH X   1      13.534  30.906  21.462  1.00  0.00           H  \nTER     696      HOH X   1\nHETATM  697  O   HOH Y   1      20.987  32.929  24.476  1.00  0.00           O  \nHETATM  698  H1  HOH Y   1      21.097  32.230  23.831  1.00  0.00           H  \nHETATM  699  H2  HOH Y   1      21.665  33.567  24.256  1.00  0.00           H  \nTER     700      HOH Y   1\nHETATM  701  O   HOH Z   1       5.816  37.341  23.742  1.00  0.00           O  \nHETATM  702  H1  HOH Z   1       6.570  37.777  24.139  1.00  0.00           H  \nHETATM  703  H2  HOH Z   1       5.444  36.813  24.448  1.00  0.00           H  \nTER     704      HOH Z   1\nHETATM  705  O   HOH A   1      14.007  36.832  36.939  1.00  0.00           O  \nHETATM  706  H1  HOH A   1      13.744  35.996  37.323  1.00  0.00           H  \nHETATM  707  H2  HOH A   1      13.190  37.322  36.846  1.00  0.00           H  \nTER     708      HOH A   1\nHETATM  709  O   HOH B   1      12.573  29.128  34.914  1.00  0.00           O  \nHETATM  710  H1  HOH B   1      13.276  29.778  34.911  1.00  0.00           H  \nHETATM  711  H2  HOH B   1      12.363  29.006  35.840  1.00  0.00           H  \nTER     712      HOH B   1\nHETATM  713  O   HOH C   1       7.811  33.626  39.473  1.00  0.00           O  \nHETATM  714  H1  HOH C   1       8.086  32.993  40.137  1.00  0.00           H  \nHETATM  715  H2  HOH C   1       8.097  34.472  39.817  1.00  0.00           H  \nTER     716      HOH C   1\nHETATM  717  O   HOH D   1       3.990  35.204  17.768  1.00  0.00           O  \nHETATM  718  H1  HOH D   1       4.865  34.894  18.000  1.00  0.00           H  \nHETATM  719  H2  HOH D   1       3.536  35.293  18.606  1.00  0.00           H  \nTER     720      HOH D   1\nHETATM  721  O   HOH E   1       3.633  35.053  42.355  1.00  0.00           O  \nHETATM  722  H1  HOH E   1       3.245  35.650  42.995  1.00  0.00           H  \nHETATM  723  H2  HOH E   1       4.035  35.627  41.704  1.00  0.00           H  \nTER     724      HOH E   1\nHETATM  725  O   HOH F   1       1.558  35.336  37.410  1.00  0.00           O  \nHETATM  726  H1  HOH F   1       0.654  35.583  37.604  1.00  0.00           H  \nHETATM  727  H2  HOH F   1       2.048  36.156  37.465  1.00  0.00           H  \nTER     728      HOH F   1\nHETATM  729  O   HOH G   1      11.865  39.145  37.375  1.00  0.00           O  \nHETATM  730  H1  HOH G   1      11.095  39.711  37.319  1.00  0.00           H  \nHETATM  731  H2  HOH G   1      11.911  38.893  38.297  1.00  0.00           H  \nTER     732      HOH G   1\nHETATM  733  O   HOH H   1       1.542  31.350  20.406  1.00  0.00           O  \nHETATM  734  H1  HOH H   1       2.104  32.092  20.183  1.00  0.00           H  \nHETATM  735  H2  HOH H   1       1.293  31.503  21.318  1.00  0.00           H  \nTER     736      HOH H   1\nHETATM  737  O   HOH I   1      17.666  46.390  37.529  1.00  0.00           O  \nHETATM  738  H1  HOH I   1      17.696  47.344  37.455  1.00  0.00           H  \nHETATM  739  H2  HOH I   1      17.383  46.092  36.665  1.00  0.00           H  \nTER     740      HOH I   1\nHETATM  741  O   HOH J   1      12.365  38.283  40.193  1.00  0.00           O  \nHETATM  742  H1  HOH J   1      13.118  37.880  40.625  1.00  0.00           H  \nHETATM  743  H2  HOH J   1      11.674  37.622  40.249  1.00  0.00           H  \nTER     744      HOH J   1\nHETATM  745  O   HOH K   1      16.474  38.181  37.386  1.00  0.00           O  \nHETATM  746  H1  HOH K   1      15.732  38.206  37.989  1.00  0.00           H  \nHETATM  747  H2  HOH K   1      16.200  38.722  36.645  1.00  0.00           H  \nTER     748      HOH K   1\nHETATM  749  O   HOH L   1      19.753  36.775  19.207  1.00  0.00           O  \nHETATM  750  H1  HOH L   1      18.861  37.121  19.189  1.00  0.00           H  \nHETATM  751  H2  HOH L   1      20.278  37.443  18.766  1.00  0.00           H  \nTER     752      HOH L   1\nHETATM  753  O   HOH M   1       4.046  51.527  39.577  1.00  0.00           O  \nHETATM  754  H1  HOH M   1       4.695  51.729  38.903  1.00  0.00           H  \nHETATM  755  H2  HOH M   1       3.239  51.360  39.090  1.00  0.00           H  \nTER     756      HOH M   1\nHETATM  757  O   HOH N   1      14.583  40.270  36.592  1.00  0.00           O  \nHETATM  758  H1  HOH N   1      15.006  40.691  37.341  1.00  0.00           H  \nHETATM  759  H2  HOH N   1      13.691  40.091  36.890  1.00  0.00           H  \nTER     760      HOH N   1\nHETATM  761  O   HOH O   1      11.142  40.664  39.821  1.00  0.00           O  \nHETATM  762  H1  HOH O   1      11.797  41.218  39.396  1.00  0.00           H  \nHETATM  763  H2  HOH O   1      11.653  39.997  40.279  1.00  0.00           H  \nTER     764      HOH O   1\nHETATM  765  O   HOH P   1      16.293  42.913  33.123  1.00  0.00           O  \nHETATM  766  H1  HOH P   1      17.023  43.516  32.984  1.00  0.00           H  \nHETATM  767  H2  HOH P   1      16.431  42.568  34.005  1.00  0.00           H  \nTER     768      HOH P   1\nHETATM  769  O   HOH Q   1      13.225  29.790  19.560  1.00  0.00           O  \nHETATM  770  H1  HOH Q   1      13.489  28.927  19.879  1.00  0.00           H  \nHETATM  771  H2  HOH Q   1      12.499  29.612  18.961  1.00  0.00           H  \nTER     772      HOH Q   1\nHETATM  773  O   HOH R   1       8.309  38.549  39.347  1.00  0.00           O  \nHETATM  774  H1  HOH R   1       8.962  38.656  38.655  1.00  0.00           H  \nHETATM  775  H2  HOH R   1       7.994  39.436  39.519  1.00  0.00           H  \nTER     776      HOH R   1\nHETATM  777  O   HOH S   1       5.466  30.248  32.545  1.00  0.00           O  \nHETATM  778  H1  HOH S   1       4.644  30.265  32.055  1.00  0.00           H  \nHETATM  779  H2  HOH S   1       5.197  30.209  33.463  1.00  0.00           H  \nTER     780      HOH S   1\nHETATM  781  O   HOH T   1       6.451  35.386  28.464  1.00  0.00           O  \nHETATM  782  H1  HOH T   1       7.007  34.614  28.356  1.00  0.00           H  \nHETATM  783  H2  HOH T   1       6.349  35.477  29.412  1.00  0.00           H  \nTER     784      HOH T   1\nHETATM  785  O   HOH U   1       7.686  36.154  40.499  1.00  0.00           O  \nHETATM  786  H1  HOH U   1       7.941  36.987  40.101  1.00  0.00           H  \nHETATM  787  H2  HOH U   1       6.920  35.874  39.998  1.00  0.00           H  \nTER     788      HOH U   1\nHETATM  789  O   HOH V   1       8.998  31.595  41.722  1.00  0.00           O  \nHETATM  790  H1  HOH V   1       8.388  32.299  41.940  1.00  0.00           H  \nHETATM  791  H2  HOH V   1       8.456  30.931  41.296  1.00  0.00           H  \nTER     792      HOH V   1\nHETATM  793  O   HOH W   1      14.003  31.300  34.218  1.00  0.00           O  \nHETATM  794  H1  HOH W   1      14.906  31.119  33.955  1.00  0.00           H  \nHETATM  795  H2  HOH W   1      13.952  32.255  34.261  1.00  0.00           H  \nTER     796      HOH W   1\nHETATM  797  O   HOH X   1      12.062  44.906  40.732  1.00  0.00           O  \nHETATM  798  H1  HOH X   1      11.754  44.337  41.437  1.00  0.00           H  \nHETATM  799  H2  HOH X   1      13.016  44.889  40.809  1.00  0.00           H  \nTER     800      HOH X   1\nHETATM  801  O   HOH Y   1       8.476  43.337  34.341  1.00  0.00           O  \nHETATM  802  H1  HOH Y   1       7.766  43.286  33.701  1.00  0.00           H  \nHETATM  803  H2  HOH Y   1       9.126  43.909  33.933  1.00  0.00           H  \nTER     804      HOH Y   1\nHETATM  805  O   HOH Z   1      17.743  35.592  29.424  1.00  0.00           O  \nHETATM  806  H1  HOH Z   1      16.968  36.014  29.795  1.00  0.00           H  \nHETATM  807  H2  HOH Z   1      17.866  36.018  28.576  1.00  0.00           H  \nTER     808      HOH Z   1\nHETATM  809  O   HOH A   1      -0.791  38.372  41.475  1.00  0.00           O  \nHETATM  810  H1  HOH A   1      -0.299  38.224  40.668  1.00  0.00           H  \nHETATM  811  H2  HOH A   1      -1.102  37.503  41.730  1.00  0.00           H  \nTER     812      HOH A   1\nHETATM  813  O   HOH B   1       1.840  49.119  15.948  1.00  0.00           O  \nHETATM  814  H1  HOH B   1       2.261  49.368  16.771  1.00  0.00           H  \nHETATM  815  H2  HOH B   1       2.550  48.764  15.414  1.00  0.00           H  \nTER     816      HOH B   1\nHETATM  817  O   HOH C   1      -0.806  43.767  17.299  1.00  0.00           O  \nHETATM  818  H1  HOH C   1      -0.677  44.715  17.328  1.00  0.00           H  \nHETATM  819  H2  HOH C   1       0.039  43.418  17.018  1.00  0.00           H  \nTER     820      HOH C   1\nHETATM  821  O   HOH D   1       1.830  33.674  34.118  1.00  0.00           O  \nHETATM  822  H1  HOH D   1       2.429  33.378  34.804  1.00  0.00           H  \nHETATM  823  H2  HOH D   1       1.355  32.885  33.858  1.00  0.00           H  \nTER     824      HOH D   1\nHETATM  825  O   HOH E   1       2.077  31.763  39.042  1.00  0.00           O  \nHETATM  826  H1  HOH E   1       2.030  30.807  39.027  1.00  0.00           H  \nHETATM  827  H2  HOH E   1       1.424  32.046  38.403  1.00  0.00           H  \nTER     828      HOH E   1\nHETATM  829  O   HOH F   1      -0.279  38.281  19.141  1.00  0.00           O  \nHETATM  830  H1  HOH F   1      -1.112  37.913  19.438  1.00  0.00           H  \nHETATM  831  H2  HOH F   1      -0.372  39.224  19.277  1.00  0.00           H  \nTER     832      HOH F   1\nHETATM  833  O   HOH G   1       8.246  27.787  41.521  1.00  0.00           O  \nHETATM  834  H1  HOH G   1       8.061  27.841  42.458  1.00  0.00           H  \nHETATM  835  H2  HOH G   1       7.841  28.571  41.150  1.00  0.00           H  \nTER     836      HOH G   1\nHETATM  837  O   HOH H   1      16.282  29.336  30.893  1.00  0.00           O  \nHETATM  838  H1  HOH H   1      16.774  30.000  30.410  1.00  0.00           H  \nHETATM  839  H2  HOH H   1      15.430  29.305  30.458  1.00  0.00           H  \nTER     840      HOH H   1\nHETATM  841  O   HOH I   1       5.189  35.599  39.269  1.00  0.00           O  \nHETATM  842  H1  HOH I   1       4.531  36.192  39.632  1.00  0.00           H  \nHETATM  843  H2  HOH I   1       4.703  34.803  39.053  1.00  0.00           H  \nTER     844      HOH I   1\nHETATM  845  O   HOH J   1      -1.198  34.687  28.521  1.00  0.00           O  \nHETATM  846  H1  HOH J   1      -1.709  35.308  29.039  1.00  0.00           H  \nHETATM  847  H2  HOH J   1      -1.850  34.106  28.131  1.00  0.00           H  \nTER     848      HOH J   1\nHETATM  849  O   HOH K   1       6.286  27.262  19.278  1.00  0.00           O  \nHETATM  850  H1  HOH K   1       5.736  27.333  18.497  1.00  0.00           H  \nHETATM  851  H2  HOH K   1       7.140  27.593  19.000  1.00  0.00           H  \nTER     852      HOH K   1\nHETATM  853  O   HOH L   1      11.723  51.049  42.152  1.00  0.00           O  \nHETATM  854  H1  HOH L   1      10.988  50.496  41.888  1.00  0.00           H  \nHETATM  855  H2  HOH L   1      12.256  51.133  41.361  1.00  0.00           H  \nTER     856      HOH L   1\nHETATM  857  O   HOH M   1       3.321  32.639  41.407  1.00  0.00           O  \nHETATM  858  H1  HOH M   1       2.840  32.525  40.588  1.00  0.00           H  \nHETATM  859  H2  HOH M   1       3.440  33.585  41.486  1.00  0.00           H  \nTER     860      HOH M   1\nHETATM  861  O   HOH N   1      10.477  36.319  40.866  1.00  0.00           O  \nHETATM  862  H1  HOH N   1       9.639  36.185  40.424  1.00  0.00           H  \nHETATM  863  H2  HOH N   1      10.776  35.437  41.086  1.00  0.00           H  \nTER     864      HOH N   1\nHETATM  865  O   HOH O   1      20.934  31.569  33.012  1.00  0.00           O  \nHETATM  866  H1  HOH O   1      19.995  31.529  32.830  1.00  0.00           H  \nHETATM  867  H2  HOH O   1      21.348  31.240  32.214  1.00  0.00           H  \nTER     868      HOH O   1\nHETATM  869  O   HOH P   1       1.323  36.968  30.984  1.00  0.00           O  \nHETATM  870  H1  HOH P   1       0.559  36.548  31.378  1.00  0.00           H  \nHETATM  871  H2  HOH P   1       2.073  36.522  31.379  1.00  0.00           H  \nTER     872      HOH P   1\nHETATM  873  O   HOH Q   1      12.471  43.345  34.516  1.00  0.00           O  \nHETATM  874  H1  HOH Q   1      12.636  44.033  33.870  1.00  0.00           H  \nHETATM  875  H2  HOH Q   1      12.833  42.553  34.120  1.00  0.00           H  \nTER     876      HOH Q   1\nHETATM  877  O   HOH R   1       7.589  26.913  38.230  1.00  0.00           O  \nHETATM  878  H1  HOH R   1       7.964  26.794  39.103  1.00  0.00           H  \nHETATM  879  H2  HOH R   1       8.339  27.119  37.672  1.00  0.00           H  \nTER     880      HOH R   1\nHETATM  881  O   HOH S   1       0.540  27.534  38.458  1.00  0.00           O  \nHETATM  882  H1  HOH S   1       1.211  28.086  38.861  1.00  0.00           H  \nHETATM  883  H2  HOH S   1      -0.080  28.153  38.074  1.00  0.00           H  \nTER     884      HOH S   1\nHETATM  885  O   HOH T   1       3.968  42.043  22.930  1.00  0.00           O  \nHETATM  886  H1  HOH T   1       3.781  41.113  23.055  1.00  0.00           H  \nHETATM  887  H2  HOH T   1       3.999  42.404  23.816  1.00  0.00           H  \nTER     888      HOH T   1\nHETATM  889  O   HOH U   1       6.978  30.009  40.572  1.00  0.00           O  \nHETATM  890  H1  HOH U   1       6.079  30.072  40.895  1.00  0.00           H  \nHETATM  891  H2  HOH U   1       6.888  29.963  39.620  1.00  0.00           H  \nTER     892      HOH U   1\nHETATM  893  O   HOH V   1       3.577  33.746  38.405  1.00  0.00           O  \nHETATM  894  H1  HOH V   1       3.170  32.888  38.523  1.00  0.00           H  \nHETATM  895  H2  HOH V   1       3.064  34.162  37.712  1.00  0.00           H  \nTER     896      HOH V   1\nHETATM  897  O   HOH W   1      14.993  29.030  38.216  1.00  0.00           O  \nHETATM  898  H1  HOH W   1      15.025  28.116  38.500  1.00  0.00           H  \nHETATM  899  H2  HOH W   1      15.503  29.047  37.406  1.00  0.00           H  \nTER     900      HOH W   1\nHETATM  901  O   HOH X   1      10.824  27.143  40.194  1.00  0.00           O  \nHETATM  902  H1  HOH X   1      11.465  27.050  40.899  1.00  0.00           H  \nHETATM  903  H2  HOH X   1      10.057  27.529  40.617  1.00  0.00           H  \nTER     904      HOH X   1\nHETATM  905  O   HOH Y   1       4.355  42.652  39.456  1.00  0.00           O  \nHETATM  906  H1  HOH Y   1       5.235  42.567  39.822  1.00  0.00           H  \nHETATM  907  H2  HOH Y   1       4.141  43.580  39.557  1.00  0.00           H  \nTER     908      HOH Y   1\nHETATM  909  O   HOH Z   1       3.377  33.505  21.252  1.00  0.00           O  \nHETATM  910  H1  HOH Z   1       2.808  34.257  21.417  1.00  0.00           H  \nHETATM  911  H2  HOH Z   1       4.135  33.648  21.818  1.00  0.00           H  \nTER     912      HOH Z   1\nHETATM  913  O   HOH A   1      17.231  35.139  17.880  1.00  0.00           O  \nHETATM  914  H1  HOH A   1      17.699  34.516  18.435  1.00  0.00           H  \nHETATM  915  H2  HOH A   1      17.711  35.130  17.051  1.00  0.00           H  \nTER     916      HOH A   1\nHETATM  917  O   HOH B   1       1.061  44.352  22.357  1.00  0.00           O  \nHETATM  918  H1  HOH B   1       1.458  45.197  22.570  1.00  0.00           H  \nHETATM  919  H2  HOH B   1       1.575  44.025  21.619  1.00  0.00           H  \nTER     920      HOH B   1\nHETATM  921  O   HOH C   1       3.075  30.069  31.337  1.00  0.00           O  \nHETATM  922  H1  HOH C   1       2.593  30.621  30.722  1.00  0.00           H  \nHETATM  923  H2  HOH C   1       2.448  29.884  32.036  1.00  0.00           H  \nTER     924      HOH C   1\nHETATM  925  O   HOH D   1      11.417  33.778  41.199  1.00  0.00           O  \nHETATM  926  H1  HOH D   1      10.703  33.145  41.270  1.00  0.00           H  \nHETATM  927  H2  HOH D   1      11.888  33.703  42.029  1.00  0.00           H  \nTER     928      HOH D   1\nHETATM  929  O   HOH E   1      -2.217  35.160  41.072  1.00  0.00           O  \nHETATM  930  H1  HOH E   1      -1.508  35.036  41.703  1.00  0.00           H  \nHETATM  931  H2  HOH E   1      -1.781  35.467  40.278  1.00  0.00           H  \nTER     932      HOH E   1\nHETATM  933  O   HOH F   1      11.609  25.660  29.095  1.00  0.00           O  \nHETATM  934  H1  HOH F   1      12.274  25.010  29.324  1.00  0.00           H  \nHETATM  935  H2  HOH F   1      11.754  26.379  29.709  1.00  0.00           H  \nTER     936      HOH F   1\nHETATM  937  O   HOH G   1      20.193  44.879  37.276  1.00  0.00           O  \nHETATM  938  H1  HOH G   1      20.451  43.995  37.538  1.00  0.00           H  \nHETATM  939  H2  HOH G   1      19.338  45.011  37.687  1.00  0.00           H  \nTER     940      HOH G   1\nHETATM  941  O   HOH H   1       0.734  38.260  39.211  1.00  0.00           O  \nHETATM  942  H1  HOH H   1       0.693  39.206  39.353  1.00  0.00           H  \nHETATM  943  H2  HOH H   1       1.050  38.167  38.312  1.00  0.00           H  \nTER     944      HOH H   1\nHETATM  945  O   HOH I   1      17.708  27.778  40.172  1.00  0.00           O  \nHETATM  946  H1  HOH I   1      17.361  27.615  39.295  1.00  0.00           H  \nHETATM  947  H2  HOH I   1      17.609  26.943  40.629  1.00  0.00           H  \nTER     948      HOH I   1\nHETATM  949  O   HOH J   1      10.799  48.642  26.032  1.00  0.00           O  \nHETATM  950  H1  HOH J   1      10.987  49.107  25.216  1.00  0.00           H  \nHETATM  951  H2  HOH J   1      10.922  47.718  25.815  1.00  0.00           H  \nTER     952      HOH J   1\nHETATM  953  O   HOH K   1      11.482  37.554  32.200  1.00  0.00           O  \nHETATM  954  H1  HOH K   1      11.101  38.312  32.644  1.00  0.00           H  \nHETATM  955  H2  HOH K   1      12.339  37.441  32.611  1.00  0.00           H  \nTER     956      HOH K   1\nHETATM  957  O   HOH L   1      18.459  43.310  39.674  1.00  0.00           O  \nHETATM  958  H1  HOH L   1      18.349  42.525  40.211  1.00  0.00           H  \nHETATM  959  H2  HOH L   1      18.882  43.941  40.255  1.00  0.00           H  \nTER     960      HOH L   1\nHETATM  961  O   HOH M   1       5.882  42.763  16.510  1.00  0.00           O  \nHETATM  962  H1  HOH M   1       6.647  42.388  16.074  1.00  0.00           H  \nHETATM  963  H2  HOH M   1       6.244  43.260  17.244  1.00  0.00           H  \nTER     964      HOH M   1\nHETATM  965  O   HOH N   1       3.377  37.314  40.260  1.00  0.00           O  \nHETATM  966  H1  HOH N   1       2.536  37.635  39.932  1.00  0.00           H  \nHETATM  967  H2  HOH N   1       3.726  38.040  40.776  1.00  0.00           H  \nTER     968      HOH N   1\nHETATM  969  O   HOH O   1      -3.667  34.307  36.237  1.00  0.00           O  \nHETATM  970  H1  HOH O   1      -3.951  33.504  36.673  1.00  0.00           H  \nHETATM  971  H2  HOH O   1      -3.853  35.002  36.868  1.00  0.00           H  \nTER     972      HOH O   1\nHETATM  973  O   HOH P   1      10.553  46.434  16.917  1.00  0.00           O  \nHETATM  974  H1  HOH P   1       9.683  46.719  16.638  1.00  0.00           H  \nHETATM  975  H2  HOH P   1      11.015  46.240  16.102  1.00  0.00           H  \nTER     976      HOH P   1\nHETATM  977  O   HOH Q   1      15.994  41.248  28.953  1.00  0.00           O  \nHETATM  978  H1  HOH Q   1      16.753  41.200  29.534  1.00  0.00           H  \nHETATM  979  H2  HOH Q   1      15.460  40.490  29.192  1.00  0.00           H  \nTER     980      HOH Q   1\nHETATM  981  O   HOH R   1      13.129  42.113  38.496  1.00  0.00           O  \nHETATM  982  H1  HOH R   1      12.973  43.036  38.697  1.00  0.00           H  \nHETATM  983  H2  HOH R   1      14.029  42.087  38.172  1.00  0.00           H  \nTER     984      HOH R   1\nHETATM  985  O   HOH S   1      12.000  28.810  17.359  1.00  0.00           O  \nHETATM  986  H1  HOH S   1      12.559  28.034  17.321  1.00  0.00           H  \nHETATM  987  H2  HOH S   1      11.655  28.901  16.471  1.00  0.00           H  \nTER     988      HOH S   1\nHETATM  989  O   HOH T   1      -2.959  28.917  39.826  1.00  0.00           O  \nHETATM  990  H1  HOH T   1      -3.278  28.040  39.615  1.00  0.00           H  \nHETATM  991  H2  HOH T   1      -2.196  29.038  39.260  1.00  0.00           H  \nTER     992      HOH T   1\nHETATM  993  O   HOH U   1      11.724  29.688  41.981  1.00  0.00           O  \nHETATM  994  H1  HOH U   1      11.029  30.346  41.992  1.00  0.00           H  \nHETATM  995  H2  HOH U   1      11.957  29.600  41.057  1.00  0.00           H  \nTER     996      HOH U   1\nHETATM  997  O   HOH V   1       4.113  32.596  35.602  1.00  0.00           O  \nHETATM  998  H1  HOH V   1       4.090  31.640  35.575  1.00  0.00           H  \nHETATM  999  H2  HOH V   1       4.953  32.805  36.012  1.00  0.00           H  \nTER    1000      HOH V   1\nHETATM 1001  O   HOH W   1      -2.712  31.553  25.507  1.00  0.00           O  \nHETATM 1002  H1  HOH W   1      -3.185  31.820  24.719  1.00  0.00           H  \nHETATM 1003  H2  HOH W   1      -1.913  32.080  25.498  1.00  0.00           H  \nTER    1004      HOH W   1\nHETATM 1005  O   HOH X   1       7.318  48.406  36.649  1.00  0.00           O  \nHETATM 1006  H1  HOH X   1       7.351  47.458  36.772  1.00  0.00           H  \nHETATM 1007  H2  HOH X   1       6.687  48.534  35.940  1.00  0.00           H  \nTER    1008      HOH X   1\nHETATM 1009  O   HOH Y   1       7.253  51.206  23.191  1.00  0.00           O  \nHETATM 1010  H1  HOH Y   1       7.060  51.688  23.994  1.00  0.00           H  \nHETATM 1011  H2  HOH Y   1       6.926  51.769  22.489  1.00  0.00           H  \nTER    1012      HOH Y   1\nHETATM 1013  O   HOH Z   1      -1.159  44.282  26.842  1.00  0.00           O  \nHETATM 1014  H1  HOH Z   1      -0.650  44.829  27.440  1.00  0.00           H  \nHETATM 1015  H2  HOH Z   1      -0.779  44.452  25.980  1.00  0.00           H  \nTER    1016      HOH Z   1\nHETATM 1017  O   HOH A   1      10.133  41.031  21.657  1.00  0.00           O  \nHETATM 1018  H1  HOH A   1      10.284  40.093  21.543  1.00  0.00           H  \nHETATM 1019  H2  HOH A   1       9.549  41.269  20.937  1.00  0.00           H  \nTER    1020      HOH A   1\nHETATM 1021  O   HOH B   1      -1.666  30.176  27.956  1.00  0.00           O  \nHETATM 1022  H1  HOH B   1      -2.142  30.517  27.199  1.00  0.00           H  \nHETATM 1023  H2  HOH B   1      -1.990  30.690  28.695  1.00  0.00           H  \nTER    1024      HOH B   1\nHETATM 1025  O   HOH C   1       7.894  45.887  37.137  1.00  0.00           O  \nHETATM 1026  H1  HOH C   1       7.787  45.014  36.760  1.00  0.00           H  \nHETATM 1027  H2  HOH C   1       8.508  45.762  37.862  1.00  0.00           H  \nTER    1028      HOH C   1\nHETATM 1029  O   HOH D   1      10.026  32.238  18.336  1.00  0.00           O  \nHETATM 1030  H1  HOH D   1       9.234  32.701  18.060  1.00  0.00           H  \nHETATM 1031  H2  HOH D   1       9.717  31.593  18.972  1.00  0.00           H  \nTER    1032      HOH D   1\nHETATM 1033  O   HOH E   1       6.672  45.366  21.976  1.00  0.00           O  \nHETATM 1034  H1  HOH E   1       6.022  45.013  21.369  1.00  0.00           H  \nHETATM 1035  H2  HOH E   1       6.161  45.877  22.604  1.00  0.00           H  \nTER    1036      HOH E   1\nHETATM 1037  O   HOH F   1       9.257  30.625  20.530  1.00  0.00           O  \nHETATM 1038  H1  HOH F   1       9.849  30.616  21.282  1.00  0.00           H  \nHETATM 1039  H2  HOH F   1       8.564  30.007  20.763  1.00  0.00           H  \nTER    1040      HOH F   1\nHETATM 1041  O   HOH G   1      -0.507  50.104  35.234  1.00  0.00           O  \nHETATM 1042  H1  HOH G   1       0.372  49.728  35.189  1.00  0.00           H  \nHETATM 1043  H2  HOH G   1      -0.417  50.972  34.841  1.00  0.00           H  \nTER    1044      HOH G   1\nHETATM 1045  O   HOH H   1      -3.796  46.977  20.565  1.00  0.00           O  \nHETATM 1046  H1  HOH H   1      -2.903  46.654  20.449  1.00  0.00           H  \nHETATM 1047  H2  HOH H   1      -4.344  46.336  20.111  1.00  0.00           H  \nTER    1048      HOH H   1\nHETATM 1049  O   HOH I   1      11.927  51.381  20.612  1.00  0.00           O  \nHETATM 1050  H1  HOH I   1      11.807  50.599  20.072  1.00  0.00           H  \nHETATM 1051  H2  HOH I   1      11.086  51.498  21.055  1.00  0.00           H  \nTER    1052      HOH I   1\nHETATM 1053  O   HOH J   1      13.774  46.971  37.316  1.00  0.00           O  \nHETATM 1054  H1  HOH J   1      13.279  47.698  37.694  1.00  0.00           H  \nHETATM 1055  H2  HOH J   1      13.371  46.187  37.689  1.00  0.00           H  \nTER    1056      HOH J   1\nHETATM 1057  O   HOH K   1       9.009  50.472  37.769  1.00  0.00           O  \nHETATM 1058  H1  HOH K   1       8.654  49.753  37.246  1.00  0.00           H  \nHETATM 1059  H2  HOH K   1       9.493  51.008  37.141  1.00  0.00           H  \nTER    1060      HOH K   1\nHETATM 1061  O   HOH L   1       0.844  47.989  32.451  1.00  0.00           O  \nHETATM 1062  H1  HOH L   1       1.443  48.735  32.482  1.00  0.00           H  \nHETATM 1063  H2  HOH L   1       1.377  47.243  32.727  1.00  0.00           H  \nTER    1064      HOH L   1\nHETATM 1065  O   HOH M   1       1.964  46.896  22.631  1.00  0.00           O  \nHETATM 1066  H1  HOH M   1       2.620  47.279  23.213  1.00  0.00           H  \nHETATM 1067  H2  HOH M   1       1.148  46.934  23.130  1.00  0.00           H  \nTER    1068      HOH M   1\nHETATM 1069  O   HOH N   1      -1.524  44.286  21.390  1.00  0.00           O  \nHETATM 1070  H1  HOH N   1      -2.171  44.125  22.078  1.00  0.00           H  \nHETATM 1071  H2  HOH N   1      -0.679  44.151  21.819  1.00  0.00           H  \nTER    1072      HOH N   1\nHETATM 1073  O   HOH O   1      20.485  50.215  29.972  1.00  0.00           O  \nHETATM 1074  H1  HOH O   1      21.063  49.482  29.764  1.00  0.00           H  \nHETATM 1075  H2  HOH O   1      20.715  50.891  29.334  1.00  0.00           H  \nTER    1076      HOH O   1\nHETATM 1077  O   HOH P   1       2.662  44.403  18.246  1.00  0.00           O  \nHETATM 1078  H1  HOH P   1       2.070  45.018  17.813  1.00  0.00           H  \nHETATM 1079  H2  HOH P   1       2.163  43.588  18.301  1.00  0.00           H  \nTER    1080      HOH P   1\nHETATM 1081  O   HOH Q   1      12.603  44.566  37.109  1.00  0.00           O  \nHETATM 1082  H1  HOH Q   1      12.670  43.855  36.472  1.00  0.00           H  \nHETATM 1083  H2  HOH Q   1      11.860  45.089  36.808  1.00  0.00           H  \nTER    1084      HOH Q   1\nHETATM 1085  O   HOH R   1       3.431  48.588  19.258  1.00  0.00           O  \nHETATM 1086  H1  HOH R   1       3.739  49.351  18.770  1.00  0.00           H  \nHETATM 1087  H2  HOH R   1       3.812  48.691  20.130  1.00  0.00           H  \nTER    1088      HOH R   1\nHETATM 1089  O   HOH S   1       6.542  48.977  32.984  1.00  0.00           O  \nHETATM 1090  H1  HOH S   1       5.794  48.706  33.516  1.00  0.00           H  \nHETATM 1091  H2  HOH S   1       6.680  48.250  32.376  1.00  0.00           H  \nTER    1092      HOH S   1\nHETATM 1093  O   HOH T   1      11.611  50.600  29.880  1.00  0.00           O  \nHETATM 1094  H1  HOH T   1      12.412  50.710  29.368  1.00  0.00           H  \nHETATM 1095  H2  HOH T   1      11.247  49.767  29.580  1.00  0.00           H  \nTER    1096      HOH T   1\nHETATM 1097  O   HOH U   1       5.333  30.937  21.614  1.00  0.00           O  \nHETATM 1098  H1  HOH U   1       5.017  31.170  20.741  1.00  0.00           H  \nHETATM 1099  H2  HOH U   1       5.585  30.017  21.541  1.00  0.00           H  \nTER    1100      HOH U   1\nHETATM 1101  O   HOH V   1       0.439  45.646  28.435  1.00  0.00           O  \nHETATM 1102  H1  HOH V   1       0.010  46.455  28.712  1.00  0.00           H  \nHETATM 1103  H2  HOH V   1       1.200  45.569  29.011  1.00  0.00           H  \nTER    1104      HOH V   1\nHETATM 1105  O   HOH W   1      -0.587  40.983  19.076  1.00  0.00           O  \nHETATM 1106  H1  HOH W   1      -0.198  41.641  18.500  1.00  0.00           H  \nHETATM 1107  H2  HOH W   1      -0.034  40.991  19.857  1.00  0.00           H  \nTER    1108      HOH W   1\nHETATM 1109  O   HOH X   1       0.345  43.280  24.795  1.00  0.00           O  \nHETATM 1110  H1  HOH X   1       0.397  43.661  23.919  1.00  0.00           H  \nHETATM 1111  H2  HOH X   1      -0.242  42.531  24.697  1.00  0.00           H  \nTER    1112      HOH X   1\nHETATM 1113  O   HOH Y   1       2.871  50.366  22.890  1.00  0.00           O  \nHETATM 1114  H1  HOH Y   1       3.480  49.883  22.332  1.00  0.00           H  \nHETATM 1115  H2  HOH Y   1       2.218  50.718  22.285  1.00  0.00           H  \nTER    1116      HOH Y   1\nHETATM 1117  O   HOH Z   1      -3.053  43.277  18.936  1.00  0.00           O  \nHETATM 1118  H1  HOH Z   1      -2.459  43.332  19.685  1.00  0.00           H  \nHETATM 1119  H2  HOH Z   1      -2.528  43.568  18.191  1.00  0.00           H  \nTER    1120      HOH Z   1\nHETATM 1121  O   HOH A   1       3.079  51.555  28.883  1.00  0.00           O  \nHETATM 1122  H1  HOH A   1       2.927  52.491  29.011  1.00  0.00           H  \nHETATM 1123  H2  HOH A   1       4.027  51.453  28.967  1.00  0.00           H  \nTER    1124      HOH A   1\nHETATM 1125  O   HOH B   1       6.135  51.004  27.381  1.00  0.00           O  \nHETATM 1126  H1  HOH B   1       6.227  51.703  28.029  1.00  0.00           H  \nHETATM 1127  H2  HOH B   1       5.697  51.422  26.639  1.00  0.00           H  \nTER    1128      HOH B   1\nHETATM 1129  O   HOH C   1       9.022  27.551  25.474  1.00  0.00           O  \nHETATM 1130  H1  HOH C   1       9.800  27.055  25.730  1.00  0.00           H  \nHETATM 1131  H2  HOH C   1       8.805  28.073  26.246  1.00  0.00           H  \nTER    1132      HOH C   1\nHETATM 1133  O   HOH D   1       7.072  47.771  17.811  1.00  0.00           O  \nHETATM 1134  H1  HOH D   1       7.037  46.887  17.445  1.00  0.00           H  \nHETATM 1135  H2  HOH D   1       6.600  48.312  17.178  1.00  0.00           H  \nTER    1136      HOH D   1\nHETATM 1137  O   HOH E   1      -3.219  40.242  18.299  1.00  0.00           O  \nHETATM 1138  H1  HOH E   1      -3.848  40.953  18.418  1.00  0.00           H  \nHETATM 1139  H2  HOH E   1      -2.368  40.642  18.476  1.00  0.00           H  \nTER    1140      HOH E   1\nHETATM 1141  O   HOH F   1      12.019  49.382  23.805  1.00  0.00           O  \nHETATM 1142  H1  HOH F   1      12.080  49.272  22.856  1.00  0.00           H  \nHETATM 1143  H2  HOH F   1      12.923  49.509  24.091  1.00  0.00           H  \nTER    1144      HOH F   1\nHETATM 1145  O   HOH G   1       0.531  48.061  26.771  1.00  0.00           O  \nHETATM 1146  H1  HOH G   1      -0.008  48.511  27.422  1.00  0.00           H  \nHETATM 1147  H2  HOH G   1       1.222  48.688  26.557  1.00  0.00           H  \nTER    1148      HOH G   1\nHETATM 1149  O   HOH H   1       7.796  48.758  27.091  1.00  0.00           O  \nHETATM 1150  H1  HOH H   1       8.080  48.752  26.177  1.00  0.00           H  \nHETATM 1151  H2  HOH H   1       7.116  49.431  27.127  1.00  0.00           H  \nTER    1152      HOH H   1\nHETATM 1153  O   HOH I   1      16.252  28.531  17.284  1.00  0.00           O  \nHETATM 1154  H1  HOH I   1      16.599  27.847  16.711  1.00  0.00           H  \nHETATM 1155  H2  HOH I   1      15.391  28.207  17.549  1.00  0.00           H  \nTER    1156      HOH I   1\nHETATM 1157  O   HOH J   1      -2.842  25.494  41.603  1.00  0.00           O  \nHETATM 1158  H1  HOH J   1      -2.057  25.565  41.060  1.00  0.00           H  \nHETATM 1159  H2  HOH J   1      -2.592  25.888  42.439  1.00  0.00           H  \nTER    1160      HOH J   1\nHETATM 1161  O   HOH K   1      -3.052  42.186  31.783  1.00  0.00           O  \nHETATM 1162  H1  HOH K   1      -3.656  41.752  32.386  1.00  0.00           H  \nHETATM 1163  H2  HOH K   1      -3.527  42.961  31.484  1.00  0.00           H  \nTER    1164      HOH K   1\nHETATM 1165  O   HOH L   1       2.905  49.677  25.851  1.00  0.00           O  \nHETATM 1166  H1  HOH L   1       3.005  50.585  26.136  1.00  0.00           H  \nHETATM 1167  H2  HOH L   1       3.035  49.707  24.903  1.00  0.00           H  \nTER    1168      HOH L   1\nHETATM 1169  O   HOH M   1       6.599  26.943  31.588  1.00  0.00           O  \nHETATM 1170  H1  HOH M   1       6.765  26.971  32.531  1.00  0.00           H  \nHETATM 1171  H2  HOH M   1       6.874  27.803  31.271  1.00  0.00           H  \nTER    1172      HOH M   1\nHETATM 1173  O   HOH N   1       7.475  44.719  41.206  1.00  0.00           O  \nHETATM 1174  H1  HOH N   1       8.206  44.830  40.598  1.00  0.00           H  \nHETATM 1175  H2  HOH N   1       7.646  45.351  41.904  1.00  0.00           H  \nTER    1176      HOH N   1\nHETATM 1177  O   HOH O   1      -0.503  44.872  34.067  1.00  0.00           O  \nHETATM 1178  H1  HOH O   1      -1.392  45.065  34.366  1.00  0.00           H  \nHETATM 1179  H2  HOH O   1       0.061  45.176  34.777  1.00  0.00           H  \nTER    1180      HOH O   1\nHETATM 1181  O   HOH P   1      -0.728  47.445  24.046  1.00  0.00           O  \nHETATM 1182  H1  HOH P   1      -0.415  48.202  24.542  1.00  0.00           H  \nHETATM 1183  H2  HOH P   1      -1.682  47.522  24.067  1.00  0.00           H  \nTER    1184      HOH P   1\nHETATM 1185  O   HOH Q   1      11.603  48.753  35.875  1.00  0.00           O  \nHETATM 1186  H1  HOH Q   1      12.172  48.611  35.119  1.00  0.00           H  \nHETATM 1187  H2  HOH Q   1      11.167  47.912  36.009  1.00  0.00           H  \nTER    1188      HOH Q   1\nHETATM 1189  O   HOH R   1       3.228  46.949  25.143  1.00  0.00           O  \nHETATM 1190  H1  HOH R   1       3.429  47.711  25.687  1.00  0.00           H  \nHETATM 1191  H2  HOH R   1       2.715  46.376  25.713  1.00  0.00           H  \nTER    1192      HOH R   1\nHETATM 1193  O   HOH S   1       7.436  51.594  32.392  1.00  0.00           O  \nHETATM 1194  H1  HOH S   1       8.060  51.524  31.670  1.00  0.00           H  \nHETATM 1195  H2  HOH S   1       7.436  50.725  32.795  1.00  0.00           H  \nTER    1196      HOH S   1\nHETATM 1197  O   HOH T   1       7.032  43.971  18.630  1.00  0.00           O  \nHETATM 1198  H1  HOH T   1       6.838  44.903  18.735  1.00  0.00           H  \nHETATM 1199  H2  HOH T   1       7.728  43.798  19.265  1.00  0.00           H  \nTER    1200      HOH T   1\nHETATM 1201  O   HOH U   1       9.810  25.942  17.713  1.00  0.00           O  \nHETATM 1202  H1  HOH U   1       9.029  25.719  17.207  1.00  0.00           H  \nHETATM 1203  H2  HOH U   1       9.815  26.899  17.739  1.00  0.00           H  \nTER    1204      HOH U   1\nHETATM 1205  O   HOH V   1      -0.660  26.082  20.440  1.00  0.00           O  \nHETATM 1206  H1  HOH V   1       0.295  26.149  20.434  1.00  0.00           H  \nHETATM 1207  H2  HOH V   1      -0.956  26.907  20.824  1.00  0.00           H  \nTER    1208      HOH V   1\nHETATM 1209  O   HOH W   1       5.587  46.954  23.840  1.00  0.00           O  \nHETATM 1210  H1  HOH W   1       4.983  46.981  24.582  1.00  0.00           H  \nHETATM 1211  H2  HOH W   1       6.377  47.392  24.158  1.00  0.00           H  \nTER    1212      HOH W   1\nHETATM 1213  O   HOH X   1       5.972  41.375  37.660  1.00  0.00           O  \nHETATM 1214  H1  HOH X   1       5.062  41.650  37.768  1.00  0.00           H  \nHETATM 1215  H2  HOH X   1       5.915  40.466  37.366  1.00  0.00           H  \nTER    1216      HOH X   1\nHETATM 1217  O   HOH Y   1       4.160  46.821  30.526  1.00  0.00           O  \nHETATM 1218  H1  HOH Y   1       5.058  46.831  30.857  1.00  0.00           H  \nHETATM 1219  H2  HOH Y   1       4.144  47.501  29.853  1.00  0.00           H  \nTER    1220      HOH Y   1\nHETATM 1221  O   HOH Z   1      21.630  50.670  24.449  1.00  0.00           O  \nHETATM 1222  H1  HOH Z   1      20.743  50.918  24.190  1.00  0.00           H  \nHETATM 1223  H2  HOH Z   1      22.067  50.449  23.626  1.00  0.00           H  \nTER    1224      HOH Z   1\nHETATM 1225  O   HOH A   1      20.642  46.327  34.890  1.00  0.00           O  \nHETATM 1226  H1  HOH A   1      21.486  46.591  34.523  1.00  0.00           H  \nHETATM 1227  H2  HOH A   1      20.868  45.735  35.608  1.00  0.00           H  \nTER    1228      HOH A   1\nHETATM 1229  O   HOH B   1       4.407  45.224  41.129  1.00  0.00           O  \nHETATM 1230  H1  HOH B   1       4.214  44.684  41.896  1.00  0.00           H  \nHETATM 1231  H2  HOH B   1       5.362  45.223  41.069  1.00  0.00           H  \nTER    1232      HOH B   1\nHETATM 1233  O   HOH C   1       9.117  26.804  28.401  1.00  0.00           O  \nHETATM 1234  H1  HOH C   1       9.740  26.104  28.598  1.00  0.00           H  \nHETATM 1235  H2  HOH C   1       8.273  26.463  28.696  1.00  0.00           H  \nTER    1236      HOH C   1\nHETATM 1237  O   HOH D   1      10.134  48.695  28.617  1.00  0.00           O  \nHETATM 1238  H1  HOH D   1       9.227  48.617  28.319  1.00  0.00           H  \nHETATM 1239  H2  HOH D   1      10.641  48.811  27.814  1.00  0.00           H  \nTER    1240      HOH D   1\nHETATM 1241  O   HOH E   1       4.132  48.700  40.466  1.00  0.00           O  \nHETATM 1242  H1  HOH E   1       4.797  48.200  39.993  1.00  0.00           H  \nHETATM 1243  H2  HOH E   1       4.121  49.554  40.032  1.00  0.00           H  \nTER    1244      HOH E   1\nHETATM 1245  O   HOH F   1       3.366  27.684  35.663  1.00  0.00           O  \nHETATM 1246  H1  HOH F   1       3.918  26.918  35.506  1.00  0.00           H  \nHETATM 1247  H2  HOH F   1       2.615  27.343  36.150  1.00  0.00           H  \nTER    1248      HOH F   1\nHETATM 1249  O   HOH G   1      12.832  37.782  17.063  1.00  0.00           O  \nHETATM 1250  H1  HOH G   1      12.310  38.537  16.790  1.00  0.00           H  \nHETATM 1251  H2  HOH G   1      12.398  37.464  17.855  1.00  0.00           H  \nTER    1252      HOH G   1\nHETATM 1253  O   HOH H   1       7.610  41.363  39.810  1.00  0.00           O  \nHETATM 1254  H1  HOH H   1       8.254  41.888  39.334  1.00  0.00           H  \nHETATM 1255  H2  HOH H   1       6.952  41.137  39.153  1.00  0.00           H  \nTER    1256      HOH H   1\nHETATM 1257  O   HOH I   1      15.192  40.197  21.472  1.00  0.00           O  \nHETATM 1258  H1  HOH I   1      15.345  41.040  21.898  1.00  0.00           H  \nHETATM 1259  H2  HOH I   1      14.988  39.599  22.191  1.00  0.00           H  \nTER    1260      HOH I   1\nHETATM 1261  O   HOH J   1      20.829  45.074  28.351  1.00  0.00           O  \nHETATM 1262  H1  HOH J   1      21.071  44.365  28.946  1.00  0.00           H  \nHETATM 1263  H2  HOH J   1      20.357  44.640  27.640  1.00  0.00           H  \nTER    1264      HOH J   1\nHETATM 1265  O   HOH K   1       2.999  46.041  33.756  1.00  0.00           O  \nHETATM 1266  H1  HOH K   1       3.617  45.344  33.537  1.00  0.00           H  \nHETATM 1267  H2  HOH K   1       2.441  45.663  34.436  1.00  0.00           H  \nTER    1268      HOH K   1\nHETATM 1269  O   HOH L   1      21.386  40.365  17.219  1.00  0.00           O  \nHETATM 1270  H1  HOH L   1      21.484  39.585  16.672  1.00  0.00           H  \nHETATM 1271  H2  HOH L   1      20.603  40.800  16.878  1.00  0.00           H  \nTER    1272      HOH L   1\nHETATM 1273  O   HOH M   1       4.524  29.677  17.726  1.00  0.00           O  \nHETATM 1274  H1  HOH M   1       4.615  30.320  18.429  1.00  0.00           H  \nHETATM 1275  H2  HOH M   1       3.703  29.223  17.920  1.00  0.00           H  \nTER    1276      HOH M   1\nHETATM 1277  O   HOH N   1       2.299  49.005  35.966  1.00  0.00           O  \nHETATM 1278  H1  HOH N   1       2.493  48.788  35.054  1.00  0.00           H  \nHETATM 1279  H2  HOH N   1       3.126  49.341  36.314  1.00  0.00           H  \nTER    1280      HOH N   1\nHETATM 1281  O   HOH O   1      -0.480  50.208  24.932  1.00  0.00           O  \nHETATM 1282  H1  HOH O   1      -0.078  51.044  25.167  1.00  0.00           H  \nHETATM 1283  H2  HOH O   1      -1.316  50.448  24.531  1.00  0.00           H  \nTER    1284      HOH O   1\nHETATM 1285  O   HOH P   1      18.532  40.129  24.554  1.00  0.00           O  \nHETATM 1286  H1  HOH P   1      17.906  40.165  25.277  1.00  0.00           H  \nHETATM 1287  H2  HOH P   1      19.304  40.591  24.882  1.00  0.00           H  \nTER    1288      HOH P   1\nHETATM 1289  O   HOH Q   1      -2.322  44.559  29.472  1.00  0.00           O  \nHETATM 1290  H1  HOH Q   1      -3.012  44.944  28.932  1.00  0.00           H  \nHETATM 1291  H2  HOH Q   1      -1.829  44.002  28.869  1.00  0.00           H  \nTER    1292      HOH Q   1\nHETATM 1293  O   HOH R   1       9.446  47.551  31.478  1.00  0.00           O  \nHETATM 1294  H1  HOH R   1       8.494  47.458  31.503  1.00  0.00           H  \nHETATM 1295  H2  HOH R   1       9.686  47.325  30.580  1.00  0.00           H  \nTER    1296      HOH R   1\nHETATM 1297  O   HOH S   1       9.122  46.865  22.230  1.00  0.00           O  \nHETATM 1298  H1  HOH S   1       9.652  47.305  21.565  1.00  0.00           H  \nHETATM 1299  H2  HOH S   1       8.569  46.260  21.735  1.00  0.00           H  \nTER    1300      HOH S   1\nHETATM 1301  O   HOH T   1      -0.393  31.680  17.771  1.00  0.00           O  \nHETATM 1302  H1  HOH T   1       0.169  32.347  17.376  1.00  0.00           H  \nHETATM 1303  H2  HOH T   1       0.142  31.298  18.467  1.00  0.00           H  \nTER    1304      HOH T   1\nHETATM 1305  O   HOH U   1      13.178  49.097  15.965  1.00  0.00           O  \nHETATM 1306  H1  HOH U   1      13.633  49.867  16.306  1.00  0.00           H  \nHETATM 1307  H2  HOH U   1      12.307  49.417  15.729  1.00  0.00           H  \nTER    1308      HOH U   1\nHETATM 1309  O   HOH V   1      -3.697  29.058  21.703  1.00  0.00           O  \nHETATM 1310  H1  HOH V   1      -3.842  28.144  21.461  1.00  0.00           H  \nHETATM 1311  H2  HOH V   1      -3.761  29.066  22.658  1.00  0.00           H  \nTER    1312      HOH V   1\nHETATM 1313  O   HOH W   1      16.070  25.790  42.181  1.00  0.00           O  \nHETATM 1314  H1  HOH W   1      15.473  25.552  42.890  1.00  0.00           H  \nHETATM 1315  H2  HOH W   1      16.462  26.616  42.464  1.00  0.00           H  \nTER    1316      HOH W   1\nHETATM 1317  O   HOH X   1      22.542  48.647  38.013  1.00  0.00           O  \nHETATM 1318  H1  HOH X   1      22.073  49.340  37.549  1.00  0.00           H  \nHETATM 1319  H2  HOH X   1      23.408  48.629  37.606  1.00  0.00           H  \nTER    1320      HOH X   1\nHETATM 1321  O   HOH Y   1       4.862  30.435  42.085  1.00  0.00           O  \nHETATM 1322  H1  HOH Y   1       4.732  30.334  43.028  1.00  0.00           H  \nHETATM 1323  H2  HOH Y   1       4.133  30.986  41.799  1.00  0.00           H  \nTER    1324      HOH Y   1\nHETATM 1325  O   HOH Z   1       8.782  47.548  40.393  1.00  0.00           O  \nHETATM 1326  H1  HOH Z   1       8.879  47.269  41.304  1.00  0.00           H  \nHETATM 1327  H2  HOH Z   1       9.306  46.922  39.893  1.00  0.00           H  \nTER    1328      HOH Z   1\nHETATM 1329  O   HOH A   1       0.914  51.929  17.947  1.00  0.00           O  \nHETATM 1330  H1  HOH A   1       0.997  51.208  18.571  1.00  0.00           H  \nHETATM 1331  H2  HOH A   1       0.094  52.360  18.185  1.00  0.00           H  \nTER    1332      HOH A   1\nHETATM 1333  O   HOH B   1       5.442  51.962  30.569  1.00  0.00           O  \nHETATM 1334  H1  HOH B   1       5.897  51.756  31.385  1.00  0.00           H  \nHETATM 1335  H2  HOH B   1       5.275  52.904  30.618  1.00  0.00           H  \nTER    1336      HOH B   1\nHETATM 1337  O   HOH C   1      12.422  48.948  38.324  1.00  0.00           O  \nHETATM 1338  H1  HOH C   1      12.071  49.052  37.440  1.00  0.00           H  \nHETATM 1339  H2  HOH C   1      11.662  49.055  38.898  1.00  0.00           H  \nTER    1340      HOH C   1\nHETATM 1341  O   HOH D   1       3.161  41.494  36.600  1.00  0.00           O  \nHETATM 1342  H1  HOH D   1       2.587  41.236  37.322  1.00  0.00           H  \nHETATM 1343  H2  HOH D   1       3.160  42.451  36.624  1.00  0.00           H  \nTER    1344      HOH D   1\nHETATM 1345  O   HOH E   1      10.308  49.658  39.950  1.00  0.00           O  \nHETATM 1346  H1  HOH E   1       9.797  48.877  40.160  1.00  0.00           H  \nHETATM 1347  H2  HOH E   1       9.748  50.159  39.357  1.00  0.00           H  \nTER    1348      HOH E   1\nHETATM 1349  O   HOH F   1       9.704  42.496  38.212  1.00  0.00           O  \nHETATM 1350  H1  HOH F   1      10.267  41.886  38.689  1.00  0.00           H  \nHETATM 1351  H2  HOH F   1       9.595  42.097  37.349  1.00  0.00           H  \nTER    1352      HOH F   1\nHETATM 1353  O   HOH G   1       1.684  46.363  16.500  1.00  0.00           O  \nHETATM 1354  H1  HOH G   1       0.779  46.402  16.190  1.00  0.00           H  \nHETATM 1355  H2  HOH G   1       2.035  47.236  16.326  1.00  0.00           H  \nTER    1356      HOH G   1\nHETATM 1357  O   HOH H   1      10.864  51.283  35.509  1.00  0.00           O  \nHETATM 1358  H1  HOH H   1      10.994  51.293  34.560  1.00  0.00           H  \nHETATM 1359  H2  HOH H   1      10.803  50.355  35.733  1.00  0.00           H  \nTER    1360      HOH H   1\nHETATM 1361  O   HOH I   1       4.626  28.053  40.795  1.00  0.00           O  \nHETATM 1362  H1  HOH I   1       4.258  27.311  41.274  1.00  0.00           H  \nHETATM 1363  H2  HOH I   1       4.635  28.768  41.431  1.00  0.00           H  \nTER    1364      HOH I   1\nHETATM 1365  O   HOH J   1      20.687  42.500  38.255  1.00  0.00           O  \nHETATM 1366  H1  HOH J   1      21.287  41.806  38.528  1.00  0.00           H  \nHETATM 1367  H2  HOH J   1      19.859  42.286  38.684  1.00  0.00           H  \nTER    1368      HOH J   1\nHETATM 1369  O   HOH K   1       6.803  46.574  31.614  1.00  0.00           O  \nHETATM 1370  H1  HOH K   1       7.217  45.825  32.042  1.00  0.00           H  \nHETATM 1371  H2  HOH K   1       7.055  46.495  30.694  1.00  0.00           H  \nTER    1372      HOH K   1\nHETATM 1373  O   HOH L   1      13.402  51.339  40.096  1.00  0.00           O  \nHETATM 1374  H1  HOH L   1      14.158  51.256  39.515  1.00  0.00           H  \nHETATM 1375  H2  HOH L   1      12.810  50.639  39.821  1.00  0.00           H  \nTER    1376      HOH L   1\nHETATM 1377  O   HOH M   1      12.549  50.527  32.389  1.00  0.00           O  \nHETATM 1378  H1  HOH M   1      12.147  50.478  31.522  1.00  0.00           H  \nHETATM 1379  H2  HOH M   1      12.860  51.429  32.459  1.00  0.00           H  \nTER    1380      HOH M   1\nHETATM 1381  O   HOH N   1      -3.936  51.191  38.821  1.00  0.00           O  \nHETATM 1382  H1  HOH N   1      -4.049  50.395  39.340  1.00  0.00           H  \nHETATM 1383  H2  HOH N   1      -2.996  51.231  38.644  1.00  0.00           H  \nTER    1384      HOH N   1\nHETATM 1385  O   HOH O   1       4.899  50.785  18.650  1.00  0.00           O  \nHETATM 1386  H1  HOH O   1       5.619  50.855  18.024  1.00  0.00           H  \nHETATM 1387  H2  HOH O   1       4.459  51.634  18.605  1.00  0.00           H  \nTER    1388      HOH O   1\nHETATM 1389  O   HOH P   1       1.652  42.527  41.325  1.00  0.00           O  \nHETATM 1390  H1  HOH P   1       1.543  41.620  41.613  1.00  0.00           H  \nHETATM 1391  H2  HOH P   1       2.510  42.784  41.663  1.00  0.00           H  \nTER    1392      HOH P   1\nHETATM 1393  O   HOH Q   1       6.085  29.053  37.690  1.00  0.00           O  \nHETATM 1394  H1  HOH Q   1       5.281  28.960  38.201  1.00  0.00           H  \nHETATM 1395  H2  HOH Q   1       6.675  28.389  38.046  1.00  0.00           H  \nTER    1396      HOH Q   1\nHETATM 1397  O   HOH R   1       1.035  47.505  20.359  1.00  0.00           O  \nHETATM 1398  H1  HOH R   1       1.650  47.836  19.704  1.00  0.00           H  \nHETATM 1399  H2  HOH R   1       1.554  47.434  21.161  1.00  0.00           H  \nTER    1400      HOH R   1\nHETATM 1401  O   HOH S   1      -2.650  49.367  18.148  1.00  0.00           O  \nHETATM 1402  H1  HOH S   1      -2.130  48.871  17.516  1.00  0.00           H  \nHETATM 1403  H2  HOH S   1      -2.212  49.221  18.986  1.00  0.00           H  \nTER    1404      HOH S   1\nHETATM 1405  O   HOH T   1      -2.558  46.420  38.192  1.00  0.00           O  \nHETATM 1406  H1  HOH T   1      -2.308  45.752  37.554  1.00  0.00           H  \nHETATM 1407  H2  HOH T   1      -1.872  47.084  38.126  1.00  0.00           H  \nTER    1408      HOH T   1\nHETATM 1409  O   HOH U   1       3.579  51.701  35.923  1.00  0.00           O  \nHETATM 1410  H1  HOH U   1       3.591  52.148  35.077  1.00  0.00           H  \nHETATM 1411  H2  HOH U   1       4.408  51.946  36.335  1.00  0.00           H  \nTER    1412      HOH U   1\nHETATM 1413  O   HOH V   1      22.667  48.909  19.756  1.00  0.00           O  \nHETATM 1414  H1  HOH V   1      23.434  48.795  19.195  1.00  0.00           H  \nHETATM 1415  H2  HOH V   1      22.319  49.767  19.515  1.00  0.00           H  \nTER    1416      HOH V   1\nHETATM 1417  O   HOH W   1      12.045  27.603  37.565  1.00  0.00           O  \nHETATM 1418  H1  HOH W   1      11.681  27.455  38.438  1.00  0.00           H  \nHETATM 1419  H2  HOH W   1      12.949  27.295  37.627  1.00  0.00           H  \nTER    1420      HOH W   1\nHETATM 1421  O   HOH X   1       5.061  47.170  35.723  1.00  0.00           O  \nHETATM 1422  H1  HOH X   1       4.397  47.090  35.038  1.00  0.00           H  \nHETATM 1423  H2  HOH X   1       5.152  46.284  36.074  1.00  0.00           H  \nTER    1424      HOH X   1\nHETATM 1425  O   HOH Y   1      15.507  44.898  36.203  1.00  0.00           O  \nHETATM 1426  H1  HOH Y   1      15.195  44.611  35.345  1.00  0.00           H  \nHETATM 1427  H2  HOH Y   1      14.710  45.087  36.698  1.00  0.00           H  \nTER    1428      HOH Y   1\nHETATM 1429  O   HOH Z   1      13.268  41.224  41.773  1.00  0.00           O  \nHETATM 1430  H1  HOH Z   1      13.941  41.904  41.731  1.00  0.00           H  \nHETATM 1431  H2  HOH Z   1      12.460  41.698  41.968  1.00  0.00           H  \nTER    1432      HOH Z   1\nHETATM 1433  O   HOH A   1       9.231  27.053  35.866  1.00  0.00           O  \nHETATM 1434  H1  HOH A   1      10.131  27.103  36.189  1.00  0.00           H  \nHETATM 1435  H2  HOH A   1       9.106  26.130  35.646  1.00  0.00           H  \nTER    1436      HOH A   1\nHETATM 1437  O   HOH B   1       6.302  47.513  39.032  1.00  0.00           O  \nHETATM 1438  H1  HOH B   1       6.462  47.998  38.222  1.00  0.00           H  \nHETATM 1439  H2  HOH B   1       7.162  47.448  39.447  1.00  0.00           H  \nTER    1440      HOH B   1\nHETATM 1441  O   HOH C   1      14.653  33.527  17.473  1.00  0.00           O  \nHETATM 1442  H1  HOH C   1      15.366  33.881  18.004  1.00  0.00           H  \nHETATM 1443  H2  HOH C   1      14.217  34.299  17.111  1.00  0.00           H  \nTER    1444      HOH C   1\nHETATM 1445  O   HOH D   1      11.298  42.760  42.262  1.00  0.00           O  \nHETATM 1446  H1  HOH D   1      11.407  43.191  43.110  1.00  0.00           H  \nHETATM 1447  H2  HOH D   1      10.711  42.026  42.440  1.00  0.00           H  \nTER    1448      HOH D   1\nHETATM 1449  O   HOH E   1       3.445  51.910  42.161  1.00  0.00           O  \nHETATM 1450  H1  HOH E   1       2.520  51.784  41.948  1.00  0.00           H  \nHETATM 1451  H2  HOH E   1       3.886  51.925  41.312  1.00  0.00           H  \nTER    1452      HOH E   1\nHETATM 1453  O   HOH F   1      10.619  46.409  19.644  1.00  0.00           O  \nHETATM 1454  H1  HOH F   1      10.534  46.266  18.701  1.00  0.00           H  \nHETATM 1455  H2  HOH F   1      11.189  45.701  19.943  1.00  0.00           H  \nTER    1456      HOH F   1\nHETATM 1457  O   HOH G   1      21.260  28.512  41.270  1.00  0.00           O  \nHETATM 1458  H1  HOH G   1      20.926  28.193  40.432  1.00  0.00           H  \nHETATM 1459  H2  HOH G   1      21.803  27.796  41.600  1.00  0.00           H  \nTER    1460      HOH G   1\nHETATM 1461  O   HOH H   1       5.252  26.675  17.041  1.00  0.00           O  \nHETATM 1462  H1  HOH H   1       4.568  26.005  17.017  1.00  0.00           H  \nHETATM 1463  H2  HOH H   1       4.839  27.453  16.668  1.00  0.00           H  \nTER    1464      HOH H   1\nHETATM 1465  O   HOH I   1       1.668  25.675  36.763  1.00  0.00           O  \nHETATM 1466  H1  HOH I   1       1.318  26.302  37.396  1.00  0.00           H  \nHETATM 1467  H2  HOH I   1       1.530  24.820  37.172  1.00  0.00           H  \nTER    1468      HOH I   1\nHETATM 1469  O   HOH J   1      10.837  33.295  21.221  1.00  0.00           O  \nHETATM 1470  H1  HOH J   1      11.529  33.174  20.571  1.00  0.00           H  \nHETATM 1471  H2  HOH J   1      10.566  32.406  21.450  1.00  0.00           H  \nTER    1472      HOH J   1\nHETATM 1473  O   HOH K   1       8.409  31.845  23.743  1.00  0.00           O  \nHETATM 1474  H1  HOH K   1       9.230  31.418  23.500  1.00  0.00           H  \nHETATM 1475  H2  HOH K   1       7.743  31.401  23.218  1.00  0.00           H  \nTER    1476      HOH K   1\nHETATM 1477  O   HOH L   1      21.127  40.616  22.281  1.00  0.00           O  \nHETATM 1478  H1  HOH L   1      20.238  40.843  22.007  1.00  0.00           H  \nHETATM 1479  H2  HOH L   1      21.658  41.369  22.023  1.00  0.00           H  \nTER    1480      HOH L   1\nHETATM 1481  O   HOH M   1      19.603  33.599  30.466  1.00  0.00           O  \nHETATM 1482  H1  HOH M   1      19.229  33.967  29.665  1.00  0.00           H  \nHETATM 1483  H2  HOH M   1      19.237  32.716  30.518  1.00  0.00           H  \nTER    1484      HOH M   1\nHETATM 1485  O   HOH N   1      20.008  33.410  26.999  1.00  0.00           O  \nHETATM 1486  H1  HOH N   1      19.431  33.984  26.496  1.00  0.00           H  \nHETATM 1487  H2  HOH N   1      20.669  33.123  26.369  1.00  0.00           H  \nTER    1488      HOH N   1\nHETATM 1489  O   HOH O   1      20.306  26.849  26.808  1.00  0.00           O  \nHETATM 1490  H1  HOH O   1      19.390  26.968  27.058  1.00  0.00           H  \nHETATM 1491  H2  HOH O   1      20.276  26.241  26.070  1.00  0.00           H  \nTER    1492      HOH O   1\nHETATM 1493  O   HOH P   1      -3.773  32.227  33.449  1.00  0.00           O  \nHETATM 1494  H1  HOH P   1      -3.055  32.831  33.638  1.00  0.00           H  \nHETATM 1495  H2  HOH P   1      -4.116  32.520  32.605  1.00  0.00           H  \nTER    1496      HOH P   1\nHETATM 1497  O   HOH Q   1      15.554  37.523  17.574  1.00  0.00           O  \nHETATM 1498  H1  HOH Q   1      14.611  37.618  17.439  1.00  0.00           H  \nHETATM 1499  H2  HOH Q   1      15.727  36.596  17.407  1.00  0.00           H  \nTER    1500      HOH Q   1\nHETATM 1501  O   HOH R   1      14.789  30.389  28.374  1.00  0.00           O  \nHETATM 1502  H1  HOH R   1      15.359  29.982  27.721  1.00  0.00           H  \nHETATM 1503  H2  HOH R   1      15.163  31.260  28.510  1.00  0.00           H  \nTER    1504      HOH R   1\nHETATM 1505  O   HOH S   1      12.036  32.516  16.526  1.00  0.00           O  \nHETATM 1506  H1  HOH S   1      11.369  32.351  17.193  1.00  0.00           H  \nHETATM 1507  H2  HOH S   1      12.623  33.156  16.927  1.00  0.00           H  \nTER    1508      HOH S   1\nHETATM 1509  O   HOH T   1      22.106  30.935  30.634  1.00  0.00           O  \nHETATM 1510  H1  HOH T   1      22.325  31.338  29.794  1.00  0.00           H  \nHETATM 1511  H2  HOH T   1      21.929  30.019  30.422  1.00  0.00           H  \nTER    1512      HOH T   1\nHETATM 1513  O   HOH U   1      21.617  32.469  21.365  1.00  0.00           O  \nHETATM 1514  H1  HOH U   1      21.052  31.706  21.244  1.00  0.00           H  \nHETATM 1515  H2  HOH U   1      21.930  32.678  20.484  1.00  0.00           H  \nTER    1516      HOH U   1\nHETATM 1517  O   HOH V   1      -3.371  48.390  29.124  1.00  0.00           O  \nHETATM 1518  H1  HOH V   1      -3.621  47.482  28.954  1.00  0.00           H  \nHETATM 1519  H2  HOH V   1      -2.474  48.335  29.453  1.00  0.00           H  \nTER    1520      HOH V   1\nHETATM 1521  O   HOH W   1      10.964  36.758  36.361  1.00  0.00           O  \nHETATM 1522  H1  HOH W   1      10.287  37.231  35.877  1.00  0.00           H  \nHETATM 1523  H2  HOH W   1      11.544  37.444  36.694  1.00  0.00           H  \nTER    1524      HOH W   1\nHETATM 1525  O   HOH X   1      14.632  49.303  25.054  1.00  0.00           O  \nHETATM 1526  H1  HOH X   1      15.004  50.115  24.712  1.00  0.00           H  \nHETATM 1527  H2  HOH X   1      15.081  48.610  24.570  1.00  0.00           H  \nTER    1528      HOH X   1\nHETATM 1529  O   HOH Y   1      12.874  32.505  19.752  1.00  0.00           O  \nHETATM 1530  H1  HOH Y   1      13.363  33.014  19.105  1.00  0.00           H  \nHETATM 1531  H2  HOH Y   1      12.951  31.599  19.452  1.00  0.00           H  \nTER    1532      HOH Y   1\nHETATM 1533  O   HOH Z   1       1.782  29.415  33.828  1.00  0.00           O  \nHETATM 1534  H1  HOH Z   1       2.296  28.914  34.460  1.00  0.00           H  \nHETATM 1535  H2  HOH Z   1       1.276  28.755  33.353  1.00  0.00           H  \nTER    1536      HOH Z   1\nHETATM 1537  O   HOH A   1      21.463  31.116  35.605  1.00  0.00           O  \nHETATM 1538  H1  HOH A   1      22.338  30.781  35.409  1.00  0.00           H  \nHETATM 1539  H2  HOH A   1      21.088  31.323  34.749  1.00  0.00           H  \nTER    1540      HOH A   1\nHETATM 1541  O   HOH B   1       6.674  32.634  36.780  1.00  0.00           O  \nHETATM 1542  H1  HOH B   1       7.514  32.292  36.472  1.00  0.00           H  \nHETATM 1543  H2  HOH B   1       6.795  32.754  37.722  1.00  0.00           H  \nTER    1544      HOH B   1\nHETATM 1545  O   HOH C   1       1.597  34.424  29.212  1.00  0.00           O  \nHETATM 1546  H1  HOH C   1       0.711  34.343  29.564  1.00  0.00           H  \nHETATM 1547  H2  HOH C   1       1.573  35.222  28.683  1.00  0.00           H  \nTER    1548      HOH C   1\nHETATM 1549  O   HOH D   1      19.617  42.113  33.786  1.00  0.00           O  \nHETATM 1550  H1  HOH D   1      19.176  42.745  33.218  1.00  0.00           H  \nHETATM 1551  H2  HOH D   1      19.009  41.979  34.513  1.00  0.00           H  \nTER    1552      HOH D   1\nHETATM 1553  O   HOH E   1      -2.591  50.881  26.955  1.00  0.00           O  \nHETATM 1554  H1  HOH E   1      -1.950  50.298  26.548  1.00  0.00           H  \nHETATM 1555  H2  HOH E   1      -3.393  50.361  27.003  1.00  0.00           H  \nTER    1556      HOH E   1\nHETATM 1557  O   HOH F   1      -3.275  28.936  17.972  1.00  0.00           O  \nHETATM 1558  H1  HOH F   1      -2.930  29.441  17.236  1.00  0.00           H  \nHETATM 1559  H2  HOH F   1      -4.214  28.869  17.798  1.00  0.00           H  \nTER    1560      HOH F   1\nHETATM 1561  O   HOH G   1      21.619  48.500  22.213  1.00  0.00           O  \nHETATM 1562  H1  HOH G   1      22.330  48.091  22.707  1.00  0.00           H  \nHETATM 1563  H2  HOH G   1      21.992  48.664  21.347  1.00  0.00           H  \nTER    1564      HOH G   1\nHETATM 1565  O   HOH H   1      15.995  37.661  20.706  1.00  0.00           O  \nHETATM 1566  H1  HOH H   1      16.454  37.821  21.530  1.00  0.00           H  \nHETATM 1567  H2  HOH H   1      15.721  38.529  20.411  1.00  0.00           H  \nTER    1568      HOH H   1\nHETATM 1569  O   HOH I   1      21.727  36.631  31.341  1.00  0.00           O  \nHETATM 1570  H1  HOH I   1      21.285  36.096  32.000  1.00  0.00           H  \nHETATM 1571  H2  HOH I   1      21.025  37.141  30.936  1.00  0.00           H  \nTER    1572      HOH I   1\nHETATM 1573  O   HOH J   1      -2.138  40.062  21.520  1.00  0.00           O  \nHETATM 1574  H1  HOH J   1      -2.760  40.012  20.793  1.00  0.00           H  \nHETATM 1575  H2  HOH J   1      -2.072  39.163  21.841  1.00  0.00           H  \nTER    1576      HOH J   1\nHETATM 1577  O   HOH K   1      17.792  44.986  17.069  1.00  0.00           O  \nHETATM 1578  H1  HOH K   1      18.570  44.582  17.452  1.00  0.00           H  \nHETATM 1579  H2  HOH K   1      17.552  45.678  17.685  1.00  0.00           H  \nTER    1580      HOH K   1\nHETATM 1581  O   HOH L   1      17.433  26.255  24.449  1.00  0.00           O  \nHETATM 1582  H1  HOH L   1      17.566  26.599  25.332  1.00  0.00           H  \nHETATM 1583  H2  HOH L   1      16.758  25.584  24.553  1.00  0.00           H  \nTER    1584      HOH L   1\nHETATM 1585  O   HOH M   1      19.529  30.544  27.681  1.00  0.00           O  \nHETATM 1586  H1  HOH M   1      19.931  31.380  27.443  1.00  0.00           H  \nHETATM 1587  H2  HOH M   1      20.270  29.964  27.859  1.00  0.00           H  \nTER    1588      HOH M   1\nHETATM 1589  O   HOH N   1      21.142  26.528  35.979  1.00  0.00           O  \nHETATM 1590  H1  HOH N   1      20.839  26.896  35.149  1.00  0.00           H  \nHETATM 1591  H2  HOH N   1      20.642  26.997  36.647  1.00  0.00           H  \nTER    1592      HOH N   1\nHETATM 1593  O   HOH O   1      18.698  49.412  32.135  1.00  0.00           O  \nHETATM 1594  H1  HOH O   1      19.486  49.325  32.671  1.00  0.00           H  \nHETATM 1595  H2  HOH O   1      19.025  49.566  31.249  1.00  0.00           H  \nTER    1596      HOH O   1\nHETATM 1597  O   HOH P   1      -3.660  37.332  27.472  1.00  0.00           O  \nHETATM 1598  H1  HOH P   1      -3.393  37.104  28.362  1.00  0.00           H  \nHETATM 1599  H2  HOH P   1      -2.934  37.852  27.129  1.00  0.00           H  \nTER    1600      HOH P   1\nHETATM 1601  O   HOH Q   1      21.903  44.645  24.046  1.00  0.00           O  \nHETATM 1602  H1  HOH Q   1      21.016  44.627  24.405  1.00  0.00           H  \nHETATM 1603  H2  HOH Q   1      22.353  43.923  24.483  1.00  0.00           H  \nTER    1604      HOH Q   1\nHETATM 1605  O   HOH R   1      12.820  35.068  22.966  1.00  0.00           O  \nHETATM 1606  H1  HOH R   1      12.452  34.601  22.215  1.00  0.00           H  \nHETATM 1607  H2  HOH R   1      13.724  34.760  23.021  1.00  0.00           H  \nTER    1608      HOH R   1\nHETATM 1609  O   HOH S   1      14.509  51.246  21.909  1.00  0.00           O  \nHETATM 1610  H1  HOH S   1      15.032  50.499  21.617  1.00  0.00           H  \nHETATM 1611  H2  HOH S   1      13.763  51.265  21.310  1.00  0.00           H  \nTER    1612      HOH S   1\nHETATM 1613  O   HOH T   1       0.959  51.312  21.114  1.00  0.00           O  \nHETATM 1614  H1  HOH T   1       0.519  52.136  21.326  1.00  0.00           H  \nHETATM 1615  H2  HOH T   1       0.246  50.694  20.954  1.00  0.00           H  \nTER    1616      HOH T   1\nHETATM 1617  O   HOH U   1      19.408  48.665  26.358  1.00  0.00           O  \nHETATM 1618  H1  HOH U   1      19.137  49.224  25.629  1.00  0.00           H  \nHETATM 1619  H2  HOH U   1      18.717  48.006  26.423  1.00  0.00           H  \nTER    1620      HOH U   1\nHETATM 1621  O   HOH V   1      21.904  52.013  31.866  1.00  0.00           O  \nHETATM 1622  H1  HOH V   1      21.706  51.118  31.592  1.00  0.00           H  \nHETATM 1623  H2  HOH V   1      21.052  52.392  32.082  1.00  0.00           H  \nTER    1624      HOH V   1\nHETATM 1625  O   HOH W   1      -3.803  31.834  23.155  1.00  0.00           O  \nHETATM 1626  H1  HOH W   1      -4.381  31.393  22.531  1.00  0.00           H  \nHETATM 1627  H2  HOH W   1      -3.125  32.236  22.611  1.00  0.00           H  \nTER    1628      HOH W   1\nHETATM 1629  O   HOH X   1       1.577  27.138  29.967  1.00  0.00           O  \nHETATM 1630  H1  HOH X   1       2.519  27.045  29.820  1.00  0.00           H  \nHETATM 1631  H2  HOH X   1       1.286  27.744  29.286  1.00  0.00           H  \nTER    1632      HOH X   1\nHETATM 1633  O   HOH Y   1       8.207  29.288  16.175  1.00  0.00           O  \nHETATM 1634  H1  HOH Y   1       7.615  30.011  15.968  1.00  0.00           H  \nHETATM 1635  H2  HOH Y   1       8.882  29.329  15.497  1.00  0.00           H  \nTER    1636      HOH Y   1\nHETATM 1637  O   HOH Z   1      20.626  27.586  33.432  1.00  0.00           O  \nHETATM 1638  H1  HOH Z   1      20.864  27.683  32.510  1.00  0.00           H  \nHETATM 1639  H2  HOH Z   1      20.086  26.796  33.459  1.00  0.00           H  \nTER    1640      HOH Z   1\nHETATM 1641  O   HOH A   1       4.716  29.898  35.294  1.00  0.00           O  \nHETATM 1642  H1  HOH A   1       5.323  29.595  35.970  1.00  0.00           H  \nHETATM 1643  H2  HOH A   1       3.981  29.286  35.341  1.00  0.00           H  \nTER    1644      HOH A   1\nHETATM 1645  O   HOH B   1      17.400  27.229  26.916  1.00  0.00           O  \nHETATM 1646  H1  HOH B   1      17.223  27.247  27.856  1.00  0.00           H  \nHETATM 1647  H2  HOH B   1      17.264  28.132  26.629  1.00  0.00           H  \nTER    1648      HOH B   1\nHETATM 1649  O   HOH C   1      18.283  31.723  32.327  1.00  0.00           O  \nHETATM 1650  H1  HOH C   1      17.742  32.317  32.847  1.00  0.00           H  \nHETATM 1651  H2  HOH C   1      17.847  31.683  31.476  1.00  0.00           H  \nTER    1652      HOH C   1\nHETATM 1653  O   HOH D   1       0.351  44.760  31.428  1.00  0.00           O  \nHETATM 1654  H1  HOH D   1      -0.559  44.958  31.207  1.00  0.00           H  \nHETATM 1655  H2  HOH D   1       0.403  44.892  32.374  1.00  0.00           H  \nTER    1656      HOH D   1\nHETATM 1657  O   HOH E   1      17.738  41.587  35.327  1.00  0.00           O  \nHETATM 1658  H1  HOH E   1      17.425  42.054  36.101  1.00  0.00           H  \nHETATM 1659  H2  HOH E   1      18.194  40.821  35.676  1.00  0.00           H  \nTER    1660      HOH E   1\nHETATM 1661  O   HOH F   1      20.755  38.303  33.925  1.00  0.00           O  \nHETATM 1662  H1  HOH F   1      21.497  37.791  33.602  1.00  0.00           H  \nHETATM 1663  H2  HOH F   1      21.155  39.018  34.421  1.00  0.00           H  \nTER    1664      HOH F   1\nHETATM 1665  O   HOH G   1      -1.138  29.589  37.737  1.00  0.00           O  \nHETATM 1666  H1  HOH G   1      -1.528  29.086  37.022  1.00  0.00           H  \nHETATM 1667  H2  HOH G   1      -0.834  30.397  37.322  1.00  0.00           H  \nTER    1668      HOH G   1\nHETATM 1669  O   HOH H   1      18.423  37.861  27.349  1.00  0.00           O  \nHETATM 1670  H1  HOH H   1      17.918  38.653  27.165  1.00  0.00           H  \nHETATM 1671  H2  HOH H   1      18.374  37.352  26.540  1.00  0.00           H  \nTER    1672      HOH H   1\nHETATM 1673  O   HOH I   1      -1.197  34.426  24.500  1.00  0.00           O  \nHETATM 1674  H1  HOH I   1      -0.774  34.628  25.335  1.00  0.00           H  \nHETATM 1675  H2  HOH I   1      -2.063  34.827  24.567  1.00  0.00           H  \nTER    1676      HOH I   1\nHETATM 1677  O   HOH J   1      -1.867  33.751  34.293  1.00  0.00           O  \nHETATM 1678  H1  HOH J   1      -1.016  34.155  34.461  1.00  0.00           H  \nHETATM 1679  H2  HOH J   1      -2.425  34.061  35.006  1.00  0.00           H  \nTER    1680      HOH J   1\nHETATM 1681  O   HOH K   1       2.232  29.004  19.201  1.00  0.00           O  \nHETATM 1682  H1  HOH K   1       1.879  29.868  19.415  1.00  0.00           H  \nHETATM 1683  H2  HOH K   1       1.542  28.585  18.686  1.00  0.00           H  \nTER    1684      HOH K   1\nHETATM 1685  O   HOH L   1      16.329  28.748  23.040  1.00  0.00           O  \nHETATM 1686  H1  HOH L   1      16.955  28.182  23.493  1.00  0.00           H  \nHETATM 1687  H2  HOH L   1      15.595  28.829  23.648  1.00  0.00           H  \nTER    1688      HOH L   1\nHETATM 1689  O   HOH M   1       2.053  35.780  21.230  1.00  0.00           O  \nHETATM 1690  H1  HOH M   1       1.802  36.336  21.968  1.00  0.00           H  \nHETATM 1691  H2  HOH M   1       2.039  36.365  20.473  1.00  0.00           H  \nTER    1692      HOH M   1\nHETATM 1693  O   HOH N   1      12.118  41.444  16.541  1.00  0.00           O  \nHETATM 1694  H1  HOH N   1      11.236  41.106  16.694  1.00  0.00           H  \nHETATM 1695  H2  HOH N   1      12.557  40.752  16.046  1.00  0.00           H  \nTER    1696      HOH N   1\nHETATM 1697  O   HOH O   1      18.331  33.267  24.501  1.00  0.00           O  \nHETATM 1698  H1  HOH O   1      19.245  32.983  24.469  1.00  0.00           H  \nHETATM 1699  H2  HOH O   1      18.294  34.023  23.915  1.00  0.00           H  \nTER    1700      HOH O   1\nHETATM 1701  O   HOH P   1      20.553  36.397  23.104  1.00  0.00           O  \nHETATM 1702  H1  HOH P   1      20.861  36.844  23.892  1.00  0.00           H  \nHETATM 1703  H2  HOH P   1      21.265  36.505  22.473  1.00  0.00           H  \nTER    1704      HOH P   1\nHETATM 1705  O   HOH Q   1      13.346  49.985  27.460  1.00  0.00           O  \nHETATM 1706  H1  HOH Q   1      13.300  49.591  26.589  1.00  0.00           H  \nHETATM 1707  H2  HOH Q   1      14.043  50.638  27.392  1.00  0.00           H  \nTER    1708      HOH Q   1\nHETATM 1709  O   HOH R   1      20.597  33.732  16.032  1.00  0.00           O  \nHETATM 1710  H1  HOH R   1      21.166  34.332  15.550  1.00  0.00           H  \nHETATM 1711  H2  HOH R   1      21.116  33.468  16.792  1.00  0.00           H  \nTER    1712      HOH R   1\nHETATM 1713  O   HOH S   1      16.612  31.224  21.817  1.00  0.00           O  \nHETATM 1714  H1  HOH S   1      16.856  30.438  22.305  1.00  0.00           H  \nHETATM 1715  H2  HOH S   1      17.447  31.599  21.534  1.00  0.00           H  \nTER    1716      HOH S   1\nHETATM 1717  O   HOH T   1       0.265  42.733  36.770  1.00  0.00           O  \nHETATM 1718  H1  HOH T   1      -0.276  43.129  36.087  1.00  0.00           H  \nHETATM 1719  H2  HOH T   1       0.951  43.380  36.938  1.00  0.00           H  \nTER    1720      HOH T   1\nHETATM 1721  O   HOH U   1      19.207  51.198  23.614  1.00  0.00           O  \nHETATM 1722  H1  HOH U   1      18.383  51.614  23.361  1.00  0.00           H  \nHETATM 1723  H2  HOH U   1      19.225  50.379  23.119  1.00  0.00           H  \nTER    1724      HOH U   1\nHETATM 1725  O   HOH V   1      11.237  28.609  27.839  1.00  0.00           O  \nHETATM 1726  H1  HOH V   1      12.097  28.201  27.736  1.00  0.00           H  \nHETATM 1727  H2  HOH V   1      10.743  27.995  28.383  1.00  0.00           H  \nTER    1728      HOH V   1\nHETATM 1729  O   HOH W   1      -2.579  32.310  30.029  1.00  0.00           O  \nHETATM 1730  H1  HOH W   1      -3.467  32.237  30.376  1.00  0.00           H  \nHETATM 1731  H2  HOH W   1      -2.286  33.180  30.299  1.00  0.00           H  \nTER    1732      HOH W   1\nHETATM 1733  O   HOH X   1      -2.630  43.831  24.025  1.00  0.00           O  \nHETATM 1734  H1  HOH X   1      -2.047  43.959  24.774  1.00  0.00           H  \nHETATM 1735  H2  HOH X   1      -3.420  43.441  24.399  1.00  0.00           H  \nTER    1736      HOH X   1\nHETATM 1737  O   HOH Y   1       7.017  43.542  36.430  1.00  0.00           O  \nHETATM 1738  H1  HOH Y   1       7.683  43.376  35.763  1.00  0.00           H  \nHETATM 1739  H2  HOH Y   1       6.859  42.687  36.830  1.00  0.00           H  \nTER    1740      HOH Y   1\nHETATM 1741  O   HOH Z   1      21.495  39.002  27.447  1.00  0.00           O  \nHETATM 1742  H1  HOH Z   1      21.199  39.730  27.993  1.00  0.00           H  \nHETATM 1743  H2  HOH Z   1      22.285  38.682  27.883  1.00  0.00           H  \nTER    1744      HOH Z   1\nHETATM 1745  O   HOH A   1      20.954  27.614  21.765  1.00  0.00           O  \nHETATM 1746  H1  HOH A   1      20.350  26.871  21.778  1.00  0.00           H  \nHETATM 1747  H2  HOH A   1      21.824  27.215  21.770  1.00  0.00           H  \nTER    1748      HOH A   1\nHETATM 1749  O   HOH B   1      15.584  40.667  31.959  1.00  0.00           O  \nHETATM 1750  H1  HOH B   1      16.399  40.172  31.872  1.00  0.00           H  \nHETATM 1751  H2  HOH B   1      15.866  41.553  32.187  1.00  0.00           H  \nTER    1752      HOH B   1\nHETATM 1753  O   HOH C   1       1.335  40.018  32.244  1.00  0.00           O  \nHETATM 1754  H1  HOH C   1       2.007  39.936  32.920  1.00  0.00           H  \nHETATM 1755  H2  HOH C   1       0.586  40.407  32.695  1.00  0.00           H  \nTER    1756      HOH C   1\nHETATM 1757  O   HOH D   1      20.671  29.285  24.203  1.00  0.00           O  \nHETATM 1758  H1  HOH D   1      20.832  28.625  23.529  1.00  0.00           H  \nHETATM 1759  H2  HOH D   1      21.535  29.462  24.577  1.00  0.00           H  \nTER    1760      HOH D   1\nHETATM 1761  O   HOH E   1      17.587  31.458  29.592  1.00  0.00           O  \nHETATM 1762  H1  HOH E   1      16.911  31.953  29.129  1.00  0.00           H  \nHETATM 1763  H2  HOH E   1      18.205  31.199  28.908  1.00  0.00           H  \nTER    1764      HOH E   1\nHETATM 1765  O   HOH F   1       0.572  36.369  16.914  1.00  0.00           O  \nHETATM 1766  H1  HOH F   1      -0.134  36.942  17.213  1.00  0.00           H  \nHETATM 1767  H2  HOH F   1       1.290  36.533  17.526  1.00  0.00           H  \nTER    1768      HOH F   1\nHETATM 1769  O   HOH G   1      21.647  37.463  25.272  1.00  0.00           O  \nHETATM 1770  H1  HOH G   1      21.286  38.011  25.969  1.00  0.00           H  \nHETATM 1771  H2  HOH G   1      22.446  37.093  25.647  1.00  0.00           H  \nTER    1772      HOH G   1\nHETATM 1773  O   HOH H   1      20.305  34.470  40.242  1.00  0.00           O  \nHETATM 1774  H1  HOH H   1      19.629  33.929  39.835  1.00  0.00           H  \nHETATM 1775  H2  HOH H   1      21.087  33.918  40.242  1.00  0.00           H  \nTER    1776      HOH H   1\nHETATM 1777  O   HOH I   1      12.952  43.920  17.547  1.00  0.00           O  \nHETATM 1778  H1  HOH I   1      12.888  43.029  17.203  1.00  0.00           H  \nHETATM 1779  H2  HOH I   1      13.579  44.355  16.970  1.00  0.00           H  \nTER    1780      HOH I   1\nHETATM 1781  O   HOH J   1      19.015  39.071  35.826  1.00  0.00           O  \nHETATM 1782  H1  HOH J   1      19.727  38.770  35.261  1.00  0.00           H  \nHETATM 1783  H2  HOH J   1      18.273  38.512  35.595  1.00  0.00           H  \nTER    1784      HOH J   1\nHETATM 1785  O   HOH K   1      19.425  25.968  30.091  1.00  0.00           O  \nHETATM 1786  H1  HOH K   1      19.870  25.261  29.624  1.00  0.00           H  \nHETATM 1787  H2  HOH K   1      20.115  26.604  30.278  1.00  0.00           H  \nTER    1788      HOH K   1\nHETATM 1789  O   HOH L   1       4.680  44.424  20.560  1.00  0.00           O  \nHETATM 1790  H1  HOH L   1       4.611  43.494  20.776  1.00  0.00           H  \nHETATM 1791  H2  HOH L   1       4.040  44.556  19.861  1.00  0.00           H  \nTER    1792      HOH L   1\nHETATM 1793  O   HOH M   1      -2.919  37.697  19.379  1.00  0.00           O  \nHETATM 1794  H1  HOH M   1      -3.067  38.359  18.704  1.00  0.00           H  \nHETATM 1795  H2  HOH M   1      -3.589  37.033  19.215  1.00  0.00           H  \nTER    1796      HOH M   1\nHETATM 1797  O   HOH N   1      21.427  28.021  31.016  1.00  0.00           O  \nHETATM 1798  H1  HOH N   1      22.326  27.697  31.080  1.00  0.00           H  \nHETATM 1799  H2  HOH N   1      21.279  28.134  30.077  1.00  0.00           H  \nTER    1800      HOH N   1\nHETATM 1801  O   HOH O   1      22.203  35.269  28.287  1.00  0.00           O  \nHETATM 1802  H1  HOH O   1      22.519  34.601  28.896  1.00  0.00           H  \nHETATM 1803  H2  HOH O   1      21.266  35.337  28.471  1.00  0.00           H  \nTER    1804      HOH O   1\nHETATM 1805  O   HOH P   1      19.187  33.933  19.371  1.00  0.00           O  \nHETATM 1806  H1  HOH P   1      19.381  34.869  19.316  1.00  0.00           H  \nHETATM 1807  H2  HOH P   1      19.604  33.649  20.185  1.00  0.00           H  \nTER    1808      HOH P   1\nHETATM 1809  O   HOH Q   1      14.563  27.266  20.373  1.00  0.00           O  \nHETATM 1810  H1  HOH Q   1      14.338  26.531  20.943  1.00  0.00           H  \nHETATM 1811  H2  HOH Q   1      15.519  27.306  20.400  1.00  0.00           H  \nTER    1812      HOH Q   1\nHETATM 1813  O   HOH R   1      16.076  33.866  25.932  1.00  0.00           O  \nHETATM 1814  H1  HOH R   1      16.076  34.750  25.565  1.00  0.00           H  \nHETATM 1815  H2  HOH R   1      16.780  33.414  25.469  1.00  0.00           H  \nTER    1816      HOH R   1\nHETATM 1817  O   HOH S   1      18.858  36.869  42.018  1.00  0.00           O  \nHETATM 1818  H1  HOH S   1      18.930  36.055  41.519  1.00  0.00           H  \nHETATM 1819  H2  HOH S   1      19.750  37.047  42.317  1.00  0.00           H  \nTER    1820      HOH S   1\nHETATM 1821  O   HOH T   1      18.509  43.322  29.594  1.00  0.00           O  \nHETATM 1822  H1  HOH T   1      18.645  44.056  30.192  1.00  0.00           H  \nHETATM 1823  H2  HOH T   1      17.662  43.499  29.184  1.00  0.00           H  \nTER    1824      HOH T   1\nHETATM 1825  O   HOH U   1      14.720  44.425  40.548  1.00  0.00           O  \nHETATM 1826  H1  HOH U   1      14.960  43.799  41.232  1.00  0.00           H  \nHETATM 1827  H2  HOH U   1      15.519  44.927  40.391  1.00  0.00           H  \nTER    1828      HOH U   1\nHETATM 1829  O   HOH V   1      -2.855  37.283  22.332  1.00  0.00           O  \nHETATM 1830  H1  HOH V   1      -3.028  37.068  21.415  1.00  0.00           H  \nHETATM 1831  H2  HOH V   1      -2.996  36.461  22.802  1.00  0.00           H  \nTER    1832      HOH V   1\nHETATM 1833  O   HOH W   1      14.711  31.734  24.812  1.00  0.00           O  \nHETATM 1834  H1  HOH W   1      14.853  31.804  23.868  1.00  0.00           H  \nHETATM 1835  H2  HOH W   1      15.025  32.566  25.165  1.00  0.00           H  \nTER    1836      HOH W   1\nHETATM 1837  O   HOH X   1      13.749  27.616  27.565  1.00  0.00           O  \nHETATM 1838  H1  HOH X   1      13.702  27.424  28.502  1.00  0.00           H  \nHETATM 1839  H2  HOH X   1      13.608  26.771  27.140  1.00  0.00           H  \nTER    1840      HOH X   1\nHETATM 1841  O   HOH Y   1      19.254  31.544  18.152  1.00  0.00           O  \nHETATM 1842  H1  HOH Y   1      19.284  32.462  18.421  1.00  0.00           H  \nHETATM 1843  H2  HOH Y   1      18.743  31.547  17.343  1.00  0.00           H  \nTER    1844      HOH Y   1\nHETATM 1845  O   HOH Z   1       4.089  26.428  22.927  1.00  0.00           O  \nHETATM 1846  H1  HOH Z   1       4.552  26.903  23.617  1.00  0.00           H  \nHETATM 1847  H2  HOH Z   1       3.778  27.111  22.333  1.00  0.00           H  \nTER    1848      HOH Z   1\nHETATM 1849  O   HOH A   1      22.229  31.701  18.739  1.00  0.00           O  \nHETATM 1850  H1  HOH A   1      22.942  31.975  18.162  1.00  0.00           H  \nHETATM 1851  H2  HOH A   1      21.642  31.200  18.173  1.00  0.00           H  \nTER    1852      HOH A   1\nHETATM 1853  O   HOH B   1      21.578  46.314  17.398  1.00  0.00           O  \nHETATM 1854  H1  HOH B   1      21.666  46.499  16.463  1.00  0.00           H  \nHETATM 1855  H2  HOH B   1      22.390  45.864  17.631  1.00  0.00           H  \nTER    1856      HOH B   1\nHETATM 1857  O   HOH C   1      17.108  29.883  33.621  1.00  0.00           O  \nHETATM 1858  H1  HOH C   1      16.748  29.405  32.874  1.00  0.00           H  \nHETATM 1859  H2  HOH C   1      17.690  30.535  33.230  1.00  0.00           H  \nTER    1860      HOH C   1\nHETATM 1861  O   HOH D   1      17.586  38.706  40.120  1.00  0.00           O  \nHETATM 1862  H1  HOH D   1      17.787  37.840  40.476  1.00  0.00           H  \nHETATM 1863  H2  HOH D   1      17.445  38.555  39.186  1.00  0.00           H  \nTER    1864      HOH D   1\nHETATM 1865  O   HOH E   1      20.550  41.950  42.386  1.00  0.00           O  \nHETATM 1866  H1  HOH E   1      20.665  42.836  42.044  1.00  0.00           H  \nHETATM 1867  H2  HOH E   1      20.204  42.077  43.270  1.00  0.00           H  \nTER    1868      HOH E   1\nHETATM 1869  O   HOH F   1      17.930  38.860  18.250  1.00  0.00           O  \nHETATM 1870  H1  HOH F   1      17.940  39.206  17.358  1.00  0.00           H  \nHETATM 1871  H2  HOH F   1      17.122  38.349  18.300  1.00  0.00           H  \nTER    1872      HOH F   1\nHETATM 1873  O   HOH G   1      -0.917  35.755  38.786  1.00  0.00           O  \nHETATM 1874  H1  HOH G   1      -1.508  36.323  38.291  1.00  0.00           H  \nHETATM 1875  H2  HOH G   1      -0.334  36.359  39.246  1.00  0.00           H  \nTER    1876      HOH G   1\nHETATM 1877  O   HOH H   1      17.360  30.499  40.274  1.00  0.00           O  \nHETATM 1878  H1  HOH H   1      16.516  30.763  40.639  1.00  0.00           H  \nHETATM 1879  H2  HOH H   1      17.422  29.563  40.464  1.00  0.00           H  \nTER    1880      HOH H   1\nHETATM 1881  O   HOH I   1      22.710  31.078  41.805  1.00  0.00           O  \nHETATM 1882  H1  HOH I   1      21.987  30.465  41.672  1.00  0.00           H  \nHETATM 1883  H2  HOH I   1      23.489  30.593  41.532  1.00  0.00           H  \nTER    1884      HOH I   1\nHETATM 1885  O   HOH J   1      18.599  49.970  16.685  1.00  0.00           O  \nHETATM 1886  H1  HOH J   1      17.823  49.898  17.241  1.00  0.00           H  \nHETATM 1887  H2  HOH J   1      18.672  49.114  16.263  1.00  0.00           H  \nTER    1888      HOH J   1\nHETATM 1889  O   HOH K   1      -0.599  44.197  40.657  1.00  0.00           O  \nHETATM 1890  H1  HOH K   1      -1.224  43.473  40.681  1.00  0.00           H  \nHETATM 1891  H2  HOH K   1       0.249  43.790  40.834  1.00  0.00           H  \nTER    1892      HOH K   1\nHETATM 1893  O   HOH L   1      15.723  44.758  20.658  1.00  0.00           O  \nHETATM 1894  H1  HOH L   1      15.994  44.000  20.141  1.00  0.00           H  \nHETATM 1895  H2  HOH L   1      15.738  45.488  20.039  1.00  0.00           H  \nTER    1896      HOH L   1\nHETATM 1897  O   HOH M   1      18.353  32.848  39.100  1.00  0.00           O  \nHETATM 1898  H1  HOH M   1      18.799  32.729  38.262  1.00  0.00           H  \nHETATM 1899  H2  HOH M   1      18.151  31.959  39.393  1.00  0.00           H  \nTER    1900      HOH M   1\nHETATM 1901  O   HOH N   1      -2.120  30.247  20.093  1.00  0.00           O  \nHETATM 1902  H1  HOH N   1      -2.441  29.830  19.293  1.00  0.00           H  \nHETATM 1903  H2  HOH N   1      -2.748  29.988  20.767  1.00  0.00           H  \nTER    1904      HOH N   1\nHETATM 1905  O   HOH O   1      20.422  49.042  34.234  1.00  0.00           O  \nHETATM 1906  H1  HOH O   1      20.442  48.256  34.781  1.00  0.00           H  \nHETATM 1907  H2  HOH O   1      21.315  49.123  33.898  1.00  0.00           H  \nTER    1908      HOH O   1\nHETATM 1909  O   HOH P   1       2.328  47.030  41.245  1.00  0.00           O  \nHETATM 1910  H1  HOH P   1       2.789  47.808  40.932  1.00  0.00           H  \nHETATM 1911  H2  HOH P   1       2.967  46.322  41.159  1.00  0.00           H  \nTER    1912      HOH P   1\nHETATM 1913  O   HOH Q   1      20.342  44.008  17.632  1.00  0.00           O  \nHETATM 1914  H1  HOH Q   1      20.700  44.873  17.431  1.00  0.00           H  \nHETATM 1915  H2  HOH Q   1      20.994  43.606  18.207  1.00  0.00           H  \nTER    1916      HOH Q   1\nHETATM 1917  O   HOH R   1      21.411  40.635  35.105  1.00  0.00           O  \nHETATM 1918  H1  HOH R   1      20.847  40.839  35.852  1.00  0.00           H  \nHETATM 1919  H2  HOH R   1      21.194  41.300  34.452  1.00  0.00           H  \nTER    1920      HOH R   1\nHETATM 1921  O   HOH S   1      13.755  31.444  37.731  1.00  0.00           O  \nHETATM 1922  H1  HOH S   1      14.093  30.550  37.781  1.00  0.00           H  \nHETATM 1923  H2  HOH S   1      14.406  31.919  37.214  1.00  0.00           H  \nTER    1924      HOH S   1\nHETATM 1925  O   HOH T   1      16.234  32.101  36.543  1.00  0.00           O  \nHETATM 1926  H1  HOH T   1      16.577  31.239  36.308  1.00  0.00           H  \nHETATM 1927  H2  HOH T   1      17.013  32.636  36.695  1.00  0.00           H  \nTER    1928      HOH T   1\nHETATM 1929  O   HOH U   1      14.046  33.124  39.988  1.00  0.00           O  \nHETATM 1930  H1  HOH U   1      13.924  32.175  39.958  1.00  0.00           H  \nHETATM 1931  H2  HOH U   1      13.182  33.470  40.214  1.00  0.00           H  \nTER    1932      HOH U   1\nHETATM 1933  O   HOH V   1      17.730  41.182  41.286  1.00  0.00           O  \nHETATM 1934  H1  HOH V   1      18.408  41.002  41.937  1.00  0.00           H  \nHETATM 1935  H2  HOH V   1      17.553  40.332  40.882  1.00  0.00           H  \nTER    1936      HOH V   1\nHETATM 1937  O   HOH W   1      -1.580  41.461  40.578  1.00  0.00           O  \nHETATM 1938  H1  HOH W   1      -2.341  40.968  40.273  1.00  0.00           H  \nHETATM 1939  H2  HOH W   1      -0.827  40.951  40.279  1.00  0.00           H  \nTER    1940      HOH W   1\nHETATM 1941  O   HOH X   1      16.169  34.703  39.275  1.00  0.00           O  \nHETATM 1942  H1  HOH X   1      16.967  34.175  39.322  1.00  0.00           H  \nHETATM 1943  H2  HOH X   1      15.470  34.104  39.539  1.00  0.00           H  \nTER    1944      HOH X   1\nHETATM 1945  O   HOH Y   1      19.772  38.220  30.059  1.00  0.00           O  \nHETATM 1946  H1  HOH Y   1      19.473  38.127  29.155  1.00  0.00           H  \nHETATM 1947  H2  HOH Y   1      20.032  39.138  30.133  1.00  0.00           H  \nTER    1948      HOH Y   1\nHETATM 1949  O   HOH Z   1      19.263  32.593  36.598  1.00  0.00           O  \nHETATM 1950  H1  HOH Z   1      19.738  33.289  36.144  1.00  0.00           H  \nHETATM 1951  H2  HOH Z   1      19.749  31.795  36.388  1.00  0.00           H  \nTER    1952      HOH Z   1\nHETATM 1953  O   HOH A   1      17.449  29.712  26.103  1.00  0.00           O  \nHETATM 1954  H1  HOH A   1      18.337  29.930  26.386  1.00  0.00           H  \nHETATM 1955  H2  HOH A   1      17.123  30.516  25.697  1.00  0.00           H  \nTER    1956      HOH A   1\nHETATM 1957  O   HOH B   1       1.444  37.055  23.414  1.00  0.00           O  \nHETATM 1958  H1  HOH B   1       1.011  36.422  23.988  1.00  0.00           H  \nHETATM 1959  H2  HOH B   1       1.741  37.748  24.003  1.00  0.00           H  \nTER    1960      HOH B   1\nHETATM 1961  O   HOH C   1       2.218  31.538  28.856  1.00  0.00           O  \nHETATM 1962  H1  HOH C   1       2.928  31.425  28.224  1.00  0.00           H  \nHETATM 1963  H2  HOH C   1       2.146  32.485  28.970  1.00  0.00           H  \nTER    1964      HOH C   1\nHETATM 1965  O   HOH D   1      22.044  39.718  41.248  1.00  0.00           O  \nHETATM 1966  H1  HOH D   1      22.086  39.096  41.975  1.00  0.00           H  \nHETATM 1967  H2  HOH D   1      21.520  40.444  41.585  1.00  0.00           H  \nTER    1968      HOH D   1\nHETATM 1969  O   HOH E   1      -3.325  35.265  29.764  1.00  0.00           O  \nHETATM 1970  H1  HOH E   1      -4.007  35.280  30.436  1.00  0.00           H  \nHETATM 1971  H2  HOH E   1      -3.609  34.588  29.149  1.00  0.00           H  \nTER    1972      HOH E   1\nHETATM 1973  O   HOH F   1      18.173  39.446  31.984  1.00  0.00           O  \nHETATM 1974  H1  HOH F   1      18.814  38.878  31.556  1.00  0.00           H  \nHETATM 1975  H2  HOH F   1      18.656  39.850  32.705  1.00  0.00           H  \nTER    1976      HOH F   1\nHETATM 1977  O   HOH G   1      -0.697  41.408  33.308  1.00  0.00           O  \nHETATM 1978  H1  HOH G   1      -0.546  42.235  33.765  1.00  0.00           H  \nHETATM 1979  H2  HOH G   1      -1.510  41.547  32.822  1.00  0.00           H  \nTER    1980      HOH G   1\nHETATM 1981  O   HOH H   1      20.280  29.215  36.989  1.00  0.00           O  \nHETATM 1982  H1  HOH H   1      20.754  29.975  36.650  1.00  0.00           H  \nHETATM 1983  H2  HOH H   1      20.708  29.018  37.822  1.00  0.00           H  \nTER    1984      HOH H   1\nHETATM 1985  O   HOH I   1       0.080  39.815  35.962  1.00  0.00           O  \nHETATM 1986  H1  HOH I   1      -0.510  40.545  36.147  1.00  0.00           H  \nHETATM 1987  H2  HOH I   1       0.036  39.706  35.012  1.00  0.00           H  \nTER    1988      HOH I   1\nHETATM 1989  O   HOH J   1      15.519  34.594  35.831  1.00  0.00           O  \nHETATM 1990  H1  HOH J   1      15.136  35.397  36.184  1.00  0.00           H  \nHETATM 1991  H2  HOH J   1      15.278  33.915  36.462  1.00  0.00           H  \nTER    1992      HOH J   1\nHETATM 1993  O   HOH K   1      13.382  27.741  30.129  1.00  0.00           O  \nHETATM 1994  H1  HOH K   1      13.623  27.183  30.869  1.00  0.00           H  \nHETATM 1995  H2  HOH K   1      13.162  28.584  30.526  1.00  0.00           H  \nTER    1996      HOH K   1\nHETATM 1997  O   HOH L   1       1.627  39.816  42.003  1.00  0.00           O  \nHETATM 1998  H1  HOH L   1       1.017  39.181  41.626  1.00  0.00           H  \nHETATM 1999  H2  HOH L   1       2.434  39.321  42.140  1.00  0.00           H  \nTER    2000      HOH L   1\nHETATM 2001  O   HOH M   1       2.342  29.145  39.727  1.00  0.00           O  \nHETATM 2002  H1  HOH M   1       3.198  28.933  40.100  1.00  0.00           H  \nHETATM 2003  H2  HOH M   1       1.793  29.344  40.485  1.00  0.00           H  \nTER    2004      HOH M   1\nHETATM 2005  O   HOH N   1      -3.183  39.623  39.391  1.00  0.00           O  \nHETATM 2006  H1  HOH N   1      -4.122  39.447  39.447  1.00  0.00           H  \nHETATM 2007  H2  HOH N   1      -2.853  38.970  38.774  1.00  0.00           H  \nTER    2008      HOH N   1\nHETATM 2009  O   HOH O   1      -1.780  38.004  37.538  1.00  0.00           O  \nHETATM 2010  H1  HOH O   1      -1.056  38.548  37.229  1.00  0.00           H  \nHETATM 2011  H2  HOH O   1      -2.515  38.238  36.972  1.00  0.00           H  \nTER    2012      HOH O   1\nHETATM 2013  O   HOH P   1       0.805  33.705  16.227  1.00  0.00           O  \nHETATM 2014  H1  HOH P   1       0.716  34.641  16.406  1.00  0.00           H  \nHETATM 2015  H2  HOH P   1       1.746  33.539  16.282  1.00  0.00           H  \nTER    2016      HOH P   1\nHETATM 2017  O   HOH Q   1      -0.255  30.793  30.589  1.00  0.00           O  \nHETATM 2018  H1  HOH Q   1       0.453  31.246  30.130  1.00  0.00           H  \nHETATM 2019  H2  HOH Q   1      -0.987  31.410  30.570  1.00  0.00           H  \nTER    2020      HOH Q   1\nHETATM 2021  O   HOH R   1      15.806  42.562  37.532  1.00  0.00           O  \nHETATM 2022  H1  HOH R   1      16.441  42.757  38.221  1.00  0.00           H  \nHETATM 2023  H2  HOH R   1      15.573  43.417  37.170  1.00  0.00           H  \nTER    2024      HOH R   1\nHETATM 2025  O   HOH S   1      -2.124  30.058  33.228  1.00  0.00           O  \nHETATM 2026  H1  HOH S   1      -2.566  29.612  32.505  1.00  0.00           H  \nHETATM 2027  H2  HOH S   1      -2.753  30.716  33.524  1.00  0.00           H  \nTER    2028      HOH S   1\nHETATM 2029  O   HOH T   1      -0.048  28.638  21.407  1.00  0.00           O  \nHETATM 2030  H1  HOH T   1       0.906  28.715  21.440  1.00  0.00           H  \nHETATM 2031  H2  HOH T   1      -0.331  29.383  20.877  1.00  0.00           H  \nTER    2032      HOH T   1\nHETATM 2033  O   HOH U   1      18.476  35.855  37.630  1.00  0.00           O  \nHETATM 2034  H1  HOH U   1      17.887  36.605  37.540  1.00  0.00           H  \nHETATM 2035  H2  HOH U   1      17.929  35.165  38.007  1.00  0.00           H  \nTER    2036      HOH U   1\nHETATM 2037  O   HOH V   1      14.682  51.200  16.583  1.00  0.00           O  \nHETATM 2038  H1  HOH V   1      14.779  52.102  16.889  1.00  0.00           H  \nHETATM 2039  H2  HOH V   1      15.363  51.099  15.917  1.00  0.00           H  \nTER    2040      HOH V   1\nHETATM 2041  O   HOH W   1      20.486  40.817  29.299  1.00  0.00           O  \nHETATM 2042  H1  HOH W   1      19.904  41.546  29.086  1.00  0.00           H  \nHETATM 2043  H2  HOH W   1      21.048  41.155  29.997  1.00  0.00           H  \nTER    2044      HOH W   1\nHETATM 2045  O   HOH X   1      18.713  41.076  20.154  1.00  0.00           O  \nHETATM 2046  H1  HOH X   1      18.055  41.587  19.682  1.00  0.00           H  \nHETATM 2047  H2  HOH X   1      18.656  40.200  19.773  1.00  0.00           H  \nTER    2048      HOH X   1\nHETATM 2049  O   HOH Y   1      15.720  25.558  33.103  1.00  0.00           O  \nHETATM 2050  H1  HOH Y   1      16.018  25.848  32.241  1.00  0.00           H  \nHETATM 2051  H2  HOH Y   1      14.846  25.936  33.195  1.00  0.00           H  \nTER    2052      HOH Y   1\nHETATM 2053  O   HOH Z   1      15.944  49.497  29.426  1.00  0.00           O  \nHETATM 2054  H1  HOH Z   1      16.444  49.640  28.622  1.00  0.00           H  \nHETATM 2055  H2  HOH Z   1      16.546  49.026  30.002  1.00  0.00           H  \nTER    2056      HOH Z   1\nHETATM 2057  O   HOH A   1      12.403  28.092  22.902  1.00  0.00           O  \nHETATM 2058  H1  HOH A   1      12.664  27.216  22.619  1.00  0.00           H  \nHETATM 2059  H2  HOH A   1      13.223  28.519  23.148  1.00  0.00           H  \nTER    2060      HOH A   1\nHETATM 2061  O   HOH B   1      14.021  29.148  24.689  1.00  0.00           O  \nHETATM 2062  H1  HOH B   1      14.188  30.078  24.845  1.00  0.00           H  \nHETATM 2063  H2  HOH B   1      13.861  28.783  25.559  1.00  0.00           H  \nTER    2064      HOH B   1\nHETATM 2065  O   HOH C   1      16.495  49.607  18.690  1.00  0.00           O  \nHETATM 2066  H1  HOH C   1      15.771  50.096  18.301  1.00  0.00           H  \nHETATM 2067  H2  HOH C   1      16.416  49.769  19.630  1.00  0.00           H  \nTER    2068      HOH C   1\nHETATM 2069  O   HOH D   1      17.865  25.511  35.272  1.00  0.00           O  \nHETATM 2070  H1  HOH D   1      18.477  25.297  34.567  1.00  0.00           H  \nHETATM 2071  H2  HOH D   1      17.122  25.920  34.828  1.00  0.00           H  \nTER    2072      HOH D   1\nHETATM 2073  O   HOH E   1      17.280  27.610  20.605  1.00  0.00           O  \nHETATM 2074  H1  HOH E   1      17.277  28.159  21.390  1.00  0.00           H  \nHETATM 2075  H2  HOH E   1      17.727  28.139  19.944  1.00  0.00           H  \nTER    2076      HOH E   1\nHETATM 2077  O   HOH F   1      18.174  35.639  32.086  1.00  0.00           O  \nHETATM 2078  H1  HOH F   1      18.149  35.818  31.145  1.00  0.00           H  \nHETATM 2079  H2  HOH F   1      19.054  35.294  32.241  1.00  0.00           H  \nTER    2080      HOH F   1\nHETATM 2081  O   HOH G   1      -2.801  51.103  29.837  1.00  0.00           O  \nHETATM 2082  H1  HOH G   1      -3.625  50.739  30.159  1.00  0.00           H  \nHETATM 2083  H2  HOH G   1      -2.603  50.591  29.053  1.00  0.00           H  \nTER    2084      HOH G   1\nHETATM 2085  O   HOH H   1      -2.678  43.960  35.906  1.00  0.00           O  \nHETATM 2086  H1  HOH H   1      -3.563  44.280  35.732  1.00  0.00           H  \nHETATM 2087  H2  HOH H   1      -2.799  43.045  36.161  1.00  0.00           H  \nTER    2088      HOH H   1\nHETATM 2089  O   HOH I   1      13.625  45.114  22.799  1.00  0.00           O  \nHETATM 2090  H1  HOH I   1      12.737  44.769  22.893  1.00  0.00           H  \nHETATM 2091  H2  HOH I   1      13.887  44.863  21.913  1.00  0.00           H  \nTER    2092      HOH I   1\nHETATM 2093  O   HOH J   1      16.098  49.046  21.318  1.00  0.00           O  \nHETATM 2094  H1  HOH J   1      15.625  48.214  21.335  1.00  0.00           H  \nHETATM 2095  H2  HOH J   1      17.012  48.805  21.469  1.00  0.00           H  \nTER    2096      HOH J   1\nHETATM 2097  O   HOH K   1      19.210  47.125  29.357  1.00  0.00           O  \nHETATM 2098  H1  HOH K   1      18.735  47.109  28.526  1.00  0.00           H  \nHETATM 2099  H2  HOH K   1      20.118  46.939  29.118  1.00  0.00           H  \nTER    2100      HOH K   1\nHETATM 2101  O   HOH L   1      18.732  48.682  22.115  1.00  0.00           O  \nHETATM 2102  H1  HOH L   1      18.680  47.898  22.662  1.00  0.00           H  \nHETATM 2103  H2  HOH L   1      19.650  48.729  21.848  1.00  0.00           H  \nTER    2104      HOH L   1\nHETATM 2105  O   HOH M   1      -1.098  48.741  37.570  1.00  0.00           O  \nHETATM 2106  H1  HOH M   1      -0.945  49.110  36.701  1.00  0.00           H  \nHETATM 2107  H2  HOH M   1      -1.287  49.499  38.123  1.00  0.00           H  \nTER    2108      HOH M   1\nHETATM 2109  O   HOH N   1      21.395  28.746  28.276  1.00  0.00           O  \nHETATM 2110  H1  HOH N   1      21.022  28.139  27.637  1.00  0.00           H  \nHETATM 2111  H2  HOH N   1      22.251  28.978  27.916  1.00  0.00           H  \nTER    2112      HOH N   1\nHETATM 2113  O   HOH O   1      20.278  47.325  19.601  1.00  0.00           O  \nHETATM 2114  H1  HOH O   1      20.923  47.948  19.935  1.00  0.00           H  \nHETATM 2115  H2  HOH O   1      20.603  47.084  18.734  1.00  0.00           H  \nTER    2116      HOH O   1\nHETATM 2117  O   HOH P   1      21.489  42.019  19.596  1.00  0.00           O  \nHETATM 2118  H1  HOH P   1      21.596  41.363  18.907  1.00  0.00           H  \nHETATM 2119  H2  HOH P   1      20.655  41.797  20.011  1.00  0.00           H  \nTER    2120      HOH P   1\nHETATM 2121  O   HOH Q   1      21.839  46.389  39.116  1.00  0.00           O  \nHETATM 2122  H1  HOH Q   1      22.104  47.192  38.668  1.00  0.00           H  \nHETATM 2123  H2  HOH Q   1      21.194  45.990  38.533  1.00  0.00           H  \nTER    2124      HOH Q   1\nHETATM 2125  O   HOH R   1      17.663  43.176  24.857  1.00  0.00           O  \nHETATM 2126  H1  HOH R   1      16.853  43.464  25.278  1.00  0.00           H  \nHETATM 2127  H2  HOH R   1      17.373  42.669  24.099  1.00  0.00           H  \nTER    2128      HOH R   1\nHETATM 2129  O   HOH S   1      17.475  46.797  26.773  1.00  0.00           O  \nHETATM 2130  H1  HOH S   1      16.538  46.880  26.950  1.00  0.00           H  \nHETATM 2131  H2  HOH S   1      17.522  46.421  25.894  1.00  0.00           H  \nTER    2132      HOH S   1\nHETATM 2133  O   HOH T   1      18.934  44.811  33.245  1.00  0.00           O  \nHETATM 2134  H1  HOH T   1      18.467  45.562  32.877  1.00  0.00           H  \nHETATM 2135  H2  HOH T   1      19.592  45.198  33.823  1.00  0.00           H  \nTER    2136      HOH T   1\nHETATM 2137  O   HOH U   1      15.879  47.039  23.457  1.00  0.00           O  \nHETATM 2138  H1  HOH U   1      15.284  46.371  23.116  1.00  0.00           H  \nHETATM 2139  H2  HOH U   1      16.677  46.559  23.676  1.00  0.00           H  \nTER    2140      HOH U   1\nHETATM 2141  O   HOH V   1      19.870  43.247  26.379  1.00  0.00           O  \nHETATM 2142  H1  HOH V   1      20.319  42.433  26.152  1.00  0.00           H  \nHETATM 2143  H2  HOH V   1      19.119  43.279  25.786  1.00  0.00           H  \nTER    2144      HOH V   1\nHETATM 2145  O   HOH W   1      13.191  48.209  33.535  1.00  0.00           O  \nHETATM 2146  H1  HOH W   1      13.047  47.514  32.892  1.00  0.00           H  \nHETATM 2147  H2  HOH W   1      12.942  49.013  33.080  1.00  0.00           H  \nTER    2148      HOH W   1\nHETATM 2149  O   HOH X   1      21.682  27.640  18.140  1.00  0.00           O  \nHETATM 2150  H1  HOH X   1      20.863  28.133  18.095  1.00  0.00           H  \nHETATM 2151  H2  HOH X   1      21.445  26.818  18.569  1.00  0.00           H  \nTER    2152      HOH X   1\nHETATM 2153  O   HOH Y   1       7.961  29.680  31.332  1.00  0.00           O  \nHETATM 2154  H1  HOH Y   1       7.224  29.886  31.908  1.00  0.00           H  \nHETATM 2155  H2  HOH Y   1       8.663  30.261  31.624  1.00  0.00           H  \nTER    2156      HOH Y   1\nHETATM 2157  O   HOH Z   1      -2.951  41.392  36.862  1.00  0.00           O  \nHETATM 2158  H1  HOH Z   1      -2.814  41.146  37.777  1.00  0.00           H  \nHETATM 2159  H2  HOH Z   1      -3.791  40.995  36.630  1.00  0.00           H  \nTER    2160      HOH Z   1\nHETATM 2161  O   HOH A   1       3.300  49.129  33.383  1.00  0.00           O  \nHETATM 2162  H1  HOH A   1       3.126  49.941  32.909  1.00  0.00           H  \nHETATM 2163  H2  HOH A   1       3.649  48.533  32.720  1.00  0.00           H  \nTER    2164      HOH A   1\nHETATM 2165  O   HOH B   1       0.979  46.104  36.200  1.00  0.00           O  \nHETATM 2166  H1  HOH B   1       1.065  47.032  36.418  1.00  0.00           H  \nHETATM 2167  H2  HOH B   1       1.053  45.652  37.040  1.00  0.00           H  \nTER    2168      HOH B   1\nHETATM 2169  O   HOH C   1      21.469  51.509  27.639  1.00  0.00           O  \nHETATM 2170  H1  HOH C   1      21.218  51.096  26.813  1.00  0.00           H  \nHETATM 2171  H2  HOH C   1      20.843  52.225  27.749  1.00  0.00           H  \nTER    2172      HOH C   1\nHETATM 2173  O   HOH D   1      11.627  48.961  18.902  1.00  0.00           O  \nHETATM 2174  H1  HOH D   1      12.110  48.779  18.096  1.00  0.00           H  \nHETATM 2175  H2  HOH D   1      11.532  48.106  19.322  1.00  0.00           H  \nTER    2176      HOH D   1\nHETATM 2177  O   HOH E   1      21.333  50.658  17.677  1.00  0.00           O  \nHETATM 2178  H1  HOH E   1      20.422  50.367  17.693  1.00  0.00           H  \nHETATM 2179  H2  HOH E   1      21.554  50.704  16.747  1.00  0.00           H  \nTER    2180      HOH E   1\nHETATM 2181  O   HOH F   1      -3.663  51.371  19.508  1.00  0.00           O  \nHETATM 2182  H1  HOH F   1      -3.231  50.829  18.847  1.00  0.00           H  \nHETATM 2183  H2  HOH F   1      -2.990  51.992  19.786  1.00  0.00           H  \nTER    2184      HOH F   1\nHETATM 2185  O   HOH G   1      18.073  45.764  24.152  1.00  0.00           O  \nHETATM 2186  H1  HOH G   1      17.958  44.820  24.255  1.00  0.00           H  \nHETATM 2187  H2  HOH G   1      18.578  45.858  23.345  1.00  0.00           H  \nTER    2188      HOH G   1\nHETATM 2189  O   HOH H   1      16.987  51.281  27.412  1.00  0.00           O  \nHETATM 2190  H1  HOH H   1      16.770  51.444  26.494  1.00  0.00           H  \nHETATM 2191  H2  HOH H   1      16.962  52.145  27.822  1.00  0.00           H  \nTER    2192      HOH H   1\nHETATM 2193  O   HOH I   1      14.659  46.392  27.206  1.00  0.00           O  \nHETATM 2194  H1  HOH I   1      14.456  45.762  26.515  1.00  0.00           H  \nHETATM 2195  H2  HOH I   1      14.037  47.106  27.071  1.00  0.00           H  \nTER    2196      HOH I   1\nHETATM 2197  O   HOH J   1      22.427  46.075  32.399  1.00  0.00           O  \nHETATM 2198  H1  HOH J   1      22.126  45.235  32.053  1.00  0.00           H  \nHETATM 2199  H2  HOH J   1      23.318  45.903  32.704  1.00  0.00           H  \nTER    2200      HOH J   1\nHETATM 2201  O   HOH K   1      -3.705  25.778  22.010  1.00  0.00           O  \nHETATM 2202  H1  HOH K   1      -3.700  25.706  21.055  1.00  0.00           H  \nHETATM 2203  H2  HOH K   1      -3.160  25.050  22.308  1.00  0.00           H  \nTER    2204      HOH K   1\nHETATM 2205  O   HOH L   1      13.969  26.997  17.881  1.00  0.00           O  \nHETATM 2206  H1  HOH L   1      13.984  26.807  18.819  1.00  0.00           H  \nHETATM 2207  H2  HOH L   1      14.162  26.157  17.463  1.00  0.00           H  \nTER    2208      HOH L   1\nHETATM 2209  O   HOH M   1      17.451  46.940  19.069  1.00  0.00           O  \nHETATM 2210  H1  HOH M   1      18.357  47.101  19.332  1.00  0.00           H  \nHETATM 2211  H2  HOH M   1      17.095  47.810  18.892  1.00  0.00           H  \nTER    2212      HOH M   1\nHETATM 2213  O   HOH N   1      21.000  43.634  31.396  1.00  0.00           O  \nHETATM 2214  H1  HOH N   1      21.284  42.774  31.704  1.00  0.00           H  \nHETATM 2215  H2  HOH N   1      20.429  43.961  32.091  1.00  0.00           H  \nTER    2216      HOH N   1\nHETATM 2217  O   HOH O   1      22.106  48.576  26.040  1.00  0.00           O  \nHETATM 2218  H1  HOH O   1      21.207  48.398  26.315  1.00  0.00           H  \nHETATM 2219  H2  HOH O   1      22.044  49.378  25.521  1.00  0.00           H  \nTER    2220      HOH O   1\nHETATM 2221  O   HOH P   1      -3.283  48.532  24.252  1.00  0.00           O  \nHETATM 2222  H1  HOH P   1      -3.648  48.937  23.466  1.00  0.00           H  \nHETATM 2223  H2  HOH P   1      -3.977  48.610  24.907  1.00  0.00           H  \nTER    2224      HOH P   1\nHETATM 2225  O   HOH Q   1      20.855  51.995  39.855  1.00  0.00           O  \nHETATM 2226  H1  HOH Q   1      21.627  51.907  39.296  1.00  0.00           H  \nHETATM 2227  H2  HOH Q   1      20.187  51.457  39.429  1.00  0.00           H  \nTER    2228      HOH Q   1\nHETATM 2229  O   HOH R   1      13.779  46.244  19.090  1.00  0.00           O  \nHETATM 2230  H1  HOH R   1      13.581  45.393  18.698  1.00  0.00           H  \nHETATM 2231  H2  HOH R   1      13.939  46.820  18.343  1.00  0.00           H  \nTER    2232      HOH R   1\nHETATM 2233  O   HOH S   1      15.350  47.891  35.239  1.00  0.00           O  \nHETATM 2234  H1  HOH S   1      15.042  47.551  36.079  1.00  0.00           H  \nHETATM 2235  H2  HOH S   1      14.562  47.946  34.699  1.00  0.00           H  \nTER    2236      HOH S   1\nHETATM 2237  O   HOH T   1      18.619  48.331  40.253  1.00  0.00           O  \nHETATM 2238  H1  HOH T   1      19.456  48.796  40.273  1.00  0.00           H  \nHETATM 2239  H2  HOH T   1      18.087  48.821  39.626  1.00  0.00           H  \nTER    2240      HOH T   1\nHETATM 2241  O   HOH U   1      22.618  43.742  39.846  1.00  0.00           O  \nHETATM 2242  H1  HOH U   1      22.764  44.573  39.395  1.00  0.00           H  \nHETATM 2243  H2  HOH U   1      21.683  43.568  39.735  1.00  0.00           H  \nTER    2244      HOH U   1\nHETATM 2245  O   HOH V   1      -0.991  51.211  39.015  1.00  0.00           O  \nHETATM 2246  H1  HOH V   1      -0.065  50.996  38.900  1.00  0.00           H  \nHETATM 2247  H2  HOH V   1      -0.986  52.067  39.444  1.00  0.00           H  \nTER    2248      HOH V   1\nHETATM 2249  O   HOH W   1      16.989  45.938  40.412  1.00  0.00           O  \nHETATM 2250  H1  HOH W   1      17.608  46.665  40.477  1.00  0.00           H  \nHETATM 2251  H2  HOH W   1      16.976  45.717  39.480  1.00  0.00           H  \nTER    2252      HOH W   1\nHETATM 2253  O   HOH X   1      22.283  26.176  42.405  1.00  0.00           O  \nHETATM 2254  H1  HOH X   1      22.053  25.587  41.687  1.00  0.00           H  \nHETATM 2255  H2  HOH X   1      23.076  25.796  42.783  1.00  0.00           H  \nTER    2256      HOH X   1\nHETATM 2257  O   HOH Y   1      -0.038  28.139  17.402  1.00  0.00           O  \nHETATM 2258  H1  HOH Y   1      -0.675  28.597  16.853  1.00  0.00           H  \nHETATM 2259  H2  HOH Y   1      -0.565  27.553  17.944  1.00  0.00           H  \nTER    2260      HOH Y   1\nHETATM 2261  O   HOH Z   1      22.624  47.602  41.691  1.00  0.00           O  \nHETATM 2262  H1  HOH Z   1      23.466  47.185  41.874  1.00  0.00           H  \nHETATM 2263  H2  HOH Z   1      22.302  47.157  40.906  1.00  0.00           H  \nTER    2264      HOH Z   1\nHETATM 2265  O   HOH A   1      15.563  48.327  41.104  1.00  0.00           O  \nHETATM 2266  H1  HOH A   1      15.674  47.605  40.485  1.00  0.00           H  \nHETATM 2267  H2  HOH A   1      16.278  48.219  41.730  1.00  0.00           H  \nTER    2268      HOH A   1\nHETATM 2269  O   HOH B   1      16.904  29.401  36.113  1.00  0.00           O  \nHETATM 2270  H1  HOH B   1      17.029  29.451  35.166  1.00  0.00           H  \nHETATM 2271  H2  HOH B   1      17.775  29.552  36.479  1.00  0.00           H  \nTER    2272      HOH B   1\nHETATM 2273  O   HOH C   1      19.786  50.452  37.942  1.00  0.00           O  \nHETATM 2274  H1  HOH C   1      19.018  50.098  37.493  1.00  0.00           H  \nHETATM 2275  H2  HOH C   1      20.316  50.837  37.244  1.00  0.00           H  \nTER    2276      HOH C   1\nHETATM 2277  O   HOH D   1      20.588  34.915  35.982  1.00  0.00           O  \nHETATM 2278  H1  HOH D   1      21.419  35.130  36.406  1.00  0.00           H  \nHETATM 2279  H2  HOH D   1      19.920  35.256  36.577  1.00  0.00           H  \nTER    2280      HOH D   1\nHETATM 2281  O   HOH E   1      -1.130  46.660  16.401  1.00  0.00           O  \nHETATM 2282  H1  HOH E   1      -1.971  47.118  16.410  1.00  0.00           H  \nHETATM 2283  H2  HOH E   1      -0.944  46.520  15.472  1.00  0.00           H  \nTER    2284      HOH E   1\nHETATM 2285  O   HOH F   1      20.124  27.166  39.228  1.00  0.00           O  \nHETATM 2286  H1  HOH F   1      19.250  27.445  39.503  1.00  0.00           H  \nHETATM 2287  H2  HOH F   1      20.167  26.240  39.467  1.00  0.00           H  \nTER    2288      HOH F   1\nHETATM 2289  O   HOH G   1      19.759  45.945  21.969  1.00  0.00           O  \nHETATM 2290  H1  HOH G   1      20.621  45.546  22.088  1.00  0.00           H  \nHETATM 2291  H2  HOH G   1      19.790  46.329  21.093  1.00  0.00           H  \nTER    2292      HOH G   1\nHETATM 2293  O   HOH H   1      17.185  47.455  33.212  1.00  0.00           O  \nHETATM 2294  H1  HOH H   1      16.807  47.560  34.086  1.00  0.00           H  \nHETATM 2295  H2  HOH H   1      17.623  48.288  33.038  1.00  0.00           H  \nTER    2296      HOH H   1\nHETATM 2297  O   HOH I   1       1.205  45.759  39.184  1.00  0.00           O  \nHETATM 2298  H1  HOH I   1       1.599  46.305  39.864  1.00  0.00           H  \nHETATM 2299  H2  HOH I   1       0.399  45.427  39.580  1.00  0.00           H  \nTER    2300      HOH I   1\nHETATM 2301  O   HOH J   1      18.482  26.102  15.886  1.00  0.00           O  \nHETATM 2302  H1  HOH J   1      19.015  25.825  16.631  1.00  0.00           H  \nHETATM 2303  H2  HOH J   1      19.118  26.316  15.203  1.00  0.00           H  \nTER    2304      HOH J   1\nHETATM 2305  O   HOH K   1      -1.770  27.941  35.506  1.00  0.00           O  \nHETATM 2306  H1  HOH K   1      -1.798  28.600  34.812  1.00  0.00           H  \nHETATM 2307  H2  HOH K   1      -2.442  27.305  35.261  1.00  0.00           H  \nTER    2308      HOH K   1\nHETATM 2309  O   HOH L   1      16.552  49.707  39.070  1.00  0.00           O  \nHETATM 2310  H1  HOH L   1      16.249  50.606  39.196  1.00  0.00           H  \nHETATM 2311  H2  HOH L   1      16.005  49.185  39.657  1.00  0.00           H  \nTER    2312      HOH L   1\nHETATM 2313  O   HOH M   1      -2.965  31.716  16.771  1.00  0.00           O  \nHETATM 2314  H1  HOH M   1      -2.636  32.170  15.995  1.00  0.00           H  \nHETATM 2315  H2  HOH M   1      -2.221  31.697  17.372  1.00  0.00           H  \nTER    2316      HOH M   1\nHETATM 2317  O   HOH N   1       0.729  51.361  41.840  1.00  0.00           O  \nHETATM 2318  H1  HOH N   1      -0.206  51.527  41.957  1.00  0.00           H  \nHETATM 2319  H2  HOH N   1       0.867  50.490  42.214  1.00  0.00           H  \nTER    2320      HOH N   1\nHETATM 2321  O   HOH O   1       6.167  51.732  37.835  1.00  0.00           O  \nHETATM 2322  H1  HOH O   1       6.994  51.261  37.940  1.00  0.00           H  \nHETATM 2323  H2  HOH O   1       6.427  52.644  37.699  1.00  0.00           H  \nTER    2324      HOH O   1\nHETATM 2325 Na    NA P   1      -1.185  32.571  39.196  1.00  0.00          Na  \nTER    2326       NA P   1\nHETATM 2327 Na    NA Q   1      10.203  34.801  25.898  1.00  0.00          Na  \nTER    2328       NA Q   1\nHETATM 2329 Na    NA R   1      -3.211  50.584  35.692  1.00  0.00          Na  \nTER    2330       NA R   1\nHETATM 2331 Na    NA S   1       9.649  44.979  39.390  1.00  0.00          Na  \nTER    2332       NA S   1\nHETATM 2333 Na    NA T   1      20.167  30.206  20.937  1.00  0.00          Na  \nTER    2334       NA T   1\nHETATM 2335 Cl    CL U   1      17.419  49.016  36.654  1.00  0.00          Cl  \nTER    2336       CL U   1\nHETATM 2337 Cl    CL V   1       9.200  39.901  19.107  1.00  0.00          Cl  \nTER    2338       CL V   1\nHETATM 2339 Cl    CL W   1      -0.526  47.848  30.040  1.00  0.00          Cl  \nTER    2340       CL W   1\nHETATM 2341 Cl    CL X   1      -3.713  32.673  40.902  1.00  0.00          Cl  \nTER    2342       CL X   1\nHETATM 2343 Cl    CL Y   1       2.598  34.740  25.534  1.00  0.00          Cl  \nTER    2344       CL Y   1\nCONECT    1    2\nCONECT    2    1   55    3\nCONECT    3    2    4    5\nCONECT    4    3   56   97   61\nCONECT    5    3   98   99    6\nCONECT    6    5    7    8\nCONECT    7    6  100   11   63\nCONECT    8    6    9   10\nCONECT    9    8\nCONECT   10    8   11   12\nCONECT   11    7   10  101   66\nCONECT   12   10  102  103   13\nCONECT   13   12   15   14\nCONECT   14   13  104   18   68\nCONECT   15   13   16   17\nCONECT   16   15\nCONECT   17   15   18   19\nCONECT   18   14   17  105   71\nCONECT   19   17  106  107   20\nCONECT   20   19   22   21\nCONECT   21   20  108   25   73\nCONECT   22   20   23   24\nCONECT   23   22\nCONECT   24   22   26   25\nCONECT   25   21   24  109   76\nCONECT   26   24   27  110  111\nCONECT   27   26   29   28\nCONECT   28   27   32  112   78\nCONECT   29   27   30   31\nCONECT   30   29\nCONECT   31   29   33   32\nCONECT   32   28   31  113   81\nCONECT   33   31   34  114  115\nCONECT   34   33   36   35\nCONECT   35   34   39  116   83\nCONECT   36   34   38   37\nCONECT   37   36\nCONECT   38   36   40   39\nCONECT   39   35   38  117   86\nCONECT   40   38   41  118  119\nCONECT   41   40   43   42\nCONECT   42   41   46  120   88\nCONECT   43   41   45   44\nCONECT   44   43\nCONECT   45   43   47   46\nCONECT   46   42   45  121   91\nCONECT   47   45  122  123   48\nCONECT   48   47   50   49\nCONECT   49   48   54  124   93\nCONECT   50   48   51   52\nCONECT   51   50\nCONECT   52   50   53   54\nCONECT   53   52  125  126   55\nCONECT   54   49   52  127   95\nCONECT   55    2   53   56\nCONECT   56    4   55  128   57\nCONECT   57   56   58   59\nCONECT   58   57   95  129  130\nCONECT   59   57   61   60\nCONECT   60   59\nCONECT   61    4   59   62\nCONECT   62   61  131  132   63\nCONECT   63    7   62   64\nCONECT   64   63   65   66\nCONECT   65   64\nCONECT   66   11   64   67\nCONECT   67   66  133  134   68\nCONECT   68   14   67   69\nCONECT   69   68   70   71\nCONECT   70   69\nCONECT   71   18   69   72\nCONECT   72   71   73  135  136\nCONECT   73   21   72   74\nCONECT   74   73   76   75\nCONECT   75   74\nCONECT   76   25   74   77\nCONECT   77   76   78  137  138\nCONECT   78   28   77   79\nCONECT   79   78   81   80\nCONECT   80   79\nCONECT   81   32   79   82\nCONECT   82   81   83  139  140\nCONECT   83   35   82   84\nCONECT   84   83   86   85\nCONECT   85   84\nCONECT   86   39   84   87\nCONECT   87   86   88  141  142\nCONECT   88   42   87   89\nCONECT   89   88   91   90\nCONECT   90   89\nCONECT   91   46   89   92\nCONECT   92   91   93  143  144\nCONECT   93   49   92   94\nCONECT   94   93   95   96\nCONECT   95   54   58   94\nCONECT   96   94\nCONECT   97    4\nCONECT   98    5\nCONECT   99    5\nCONECT  100    7\nCONECT  101   11\nCONECT  102   12\nCONECT  103   12\nCONECT  104   14\nCONECT  105   18\nCONECT  106   19\nCONECT  107   19\nCONECT  108   21\nCONECT  109   25\nCONECT  110   26\nCONECT  111   26\nCONECT  112   28\nCONECT  113   32\nCONECT  114   33\nCONECT  115   33\nCONECT  116   35\nCONECT  117   39\nCONECT  118   40\nCONECT  119   40\nCONECT  120   42\nCONECT  121   46\nCONECT  122   47\nCONECT  123   47\nCONECT  124   49\nCONECT  125   53\nCONECT  126   53\nCONECT  127   54\nCONECT  128   56\nCONECT  129   58\nCONECT  130   58\nCONECT  131   62\nCONECT  132   62\nCONECT  133   67\nCONECT  134   67\nCONECT  135   72\nCONECT  136   72\nCONECT  137   77\nCONECT  138   77\nCONECT  139   82\nCONECT  140   82\nCONECT  141   87\nCONECT  142   87\nCONECT  143   92\nCONECT  144   92\nCONECT  146  154  166\nCONECT  147  148  154  170\nCONECT  148  147  156  171\nCONECT  149  151  155  172\nCONECT  150  152  155  173\nCONECT  151  149  158  174\nCONECT  152  150  158  175\nCONECT  153  154  157  176\nCONECT  154  146  147  153\nCONECT  155  149  150  160\nCONECT  156  148  157  160\nCONECT  157  153  156  159\nCONECT  158  151  152  169\nCONECT  159  157  168  177  178\nCONECT  160  155  156  163  168\nCONECT  161  167  179  180  181\nCONECT  162  167  182  183  184\nCONECT  163  160  164  185  186\nCONECT  164  163  165  187  188\nCONECT  165  164  167  189  190\nCONECT  166  146\nCONECT  167  161  162  165  191\nCONECT  168  159  160\nCONECT  169  158\nCONECT  170  147\nCONECT  171  148\nCONECT  172  149\nCONECT  173  150\nCONECT  174  151\nCONECT  175  152\nCONECT  176  153\nCONECT  177  159\nCONECT  178  159\nCONECT  179  161\nCONECT  180  161\nCONECT  181  161\nCONECT  182  162\nCONECT  183  162\nCONECT  184  162\nCONECT  185  163\nCONECT  186  163\nCONECT  187  164\nCONECT  188  164\nCONECT  189  165\nCONECT  190  165\nCONECT  191  167\nEND\n",
           "type": "blob"
          }
         ],
         "kwargs": {
          "defaultRepresentation": false,
          "ext": "pdb"
         },
         "methodName": "loadFile",
         "reconstruc_color_scheme": false,
         "target": "Stage",
         "type": "call_method"
        },
        {
         "args": [],
         "component_index": 0,
         "kwargs": {},
         "methodName": "removeAllRepresentations",
         "reconstruc_color_scheme": false,
         "target": "compList",
         "type": "call_method"
        },
        {
         "args": [
          "unitcell"
         ],
         "component_index": 0,
         "kwargs": {},
         "methodName": "addRepresentation",
         "reconstruc_color_scheme": false,
         "target": "compList",
         "type": "call_method"
        },
        {
         "args": [
          "line"
         ],
         "component_index": 0,
         "kwargs": {
          "sele": "water"
         },
         "methodName": "addRepresentation",
         "reconstruc_color_scheme": false,
         "target": "compList",
         "type": "call_method"
        },
        {
         "args": [
          "spacefill"
         ],
         "component_index": 0,
         "kwargs": {
          "sele": "ion"
         },
         "methodName": "addRepresentation",
         "reconstruc_color_scheme": false,
         "target": "compList",
         "type": "call_method"
        },
        {
         "args": [
          "cartoon"
         ],
         "component_index": 0,
         "kwargs": {
          "sele": "protein"
         },
         "methodName": "addRepresentation",
         "reconstruc_color_scheme": false,
         "target": "compList",
         "type": "call_method"
        },
        {
         "args": [
          "licorice"
         ],
         "component_index": 0,
         "kwargs": {
          "multipleBond": false,
          "radius": 0.25,
          "sele": "not water and not ion and not protein"
         },
         "methodName": "addRepresentation",
         "reconstruc_color_scheme": false,
         "target": "compList",
         "type": "call_method"
        }
       ],
       "_ngl_original_stage_parameters": {},
       "_ngl_repr_dict": {},
       "_ngl_serialize": false,
       "_ngl_version": "",
       "_ngl_view_id": [],
       "_player_dict": {},
       "_scene_position": {},
       "_scene_rotation": {},
       "_synced_model_ids": [],
       "_synced_repr_model_ids": [],
       "_view_count": null,
       "_view_height": "",
       "_view_module": "nglview-js-widgets",
       "_view_module_version": "3.0.8",
       "_view_name": "NGLView",
       "_view_width": "",
       "background": "white",
       "frame": 0,
       "gui_style": null,
       "layout": "IPY_MODEL_f7e67d3e450644c3adfa39b5875c4a26",
       "max_frame": 0,
       "n_components": 0,
       "picked": {},
       "tabbable": null,
       "tooltip": null
      }
     },
     "317f91a31b7d49589ab0f33a7f7ccfb5": {
      "model_module": "@jupyter-widgets/controls",
      "model_module_version": "2.0.0",
      "model_name": "PlayModel",
      "state": {
       "_dom_classes": [],
       "_model_module": "@jupyter-widgets/controls",
       "_model_module_version": "2.0.0",
       "_model_name": "PlayModel",
       "_view_count": null,
       "_view_module": "@jupyter-widgets/controls",
       "_view_module_version": "2.0.0",
       "_view_name": "PlayView",
       "description": "",
       "description_allow_html": false,
       "disabled": false,
       "interval": 100,
       "layout": "IPY_MODEL_9b05f5f5a05e49deafaf79c3d5914d8a",
       "max": 101,
       "min": 0,
       "playing": false,
       "repeat": false,
       "show_repeat": true,
       "step": 1,
       "style": "IPY_MODEL_960f4c3c5152490bb1485771ae7ffed0",
       "tabbable": null,
       "tooltip": null,
       "value": 0
      }
     },
     "37a4419ba35b4168941e809e13dc43da": {
      "model_module": "@jupyter-widgets/base",
      "model_module_version": "2.0.0",
      "model_name": "LayoutModel",
      "state": {
       "_model_module": "@jupyter-widgets/base",
       "_model_module_version": "2.0.0",
       "_model_name": "LayoutModel",
       "_view_count": null,
       "_view_module": "@jupyter-widgets/base",
       "_view_module_version": "2.0.0",
       "_view_name": "LayoutView",
       "align_content": null,
       "align_items": null,
       "align_self": null,
       "border_bottom": null,
       "border_left": null,
       "border_right": null,
       "border_top": null,
       "bottom": null,
       "display": null,
       "flex": null,
       "flex_flow": null,
       "grid_area": null,
       "grid_auto_columns": null,
       "grid_auto_flow": null,
       "grid_auto_rows": null,
       "grid_column": null,
       "grid_gap": null,
       "grid_row": null,
       "grid_template_areas": null,
       "grid_template_columns": null,
       "grid_template_rows": null,
       "height": null,
       "justify_content": null,
       "justify_items": null,
       "left": null,
       "margin": null,
       "max_height": null,
       "max_width": null,
       "min_height": null,
       "min_width": null,
       "object_fit": null,
       "object_position": null,
       "order": null,
       "overflow": null,
       "padding": null,
       "right": null,
       "top": null,
       "visibility": null,
       "width": null
      }
     },
     "3b7da5237b674b7cbc9ff456f73e5ccd": {
      "model_module": "@jupyter-widgets/base",
      "model_module_version": "2.0.0",
      "model_name": "LayoutModel",
      "state": {
       "_model_module": "@jupyter-widgets/base",
       "_model_module_version": "2.0.0",
       "_model_name": "LayoutModel",
       "_view_count": null,
       "_view_module": "@jupyter-widgets/base",
       "_view_module_version": "2.0.0",
       "_view_name": "LayoutView",
       "align_content": null,
       "align_items": null,
       "align_self": null,
       "border_bottom": null,
       "border_left": null,
       "border_right": null,
       "border_top": null,
       "bottom": null,
       "display": null,
       "flex": null,
       "flex_flow": null,
       "grid_area": null,
       "grid_auto_columns": null,
       "grid_auto_flow": null,
       "grid_auto_rows": null,
       "grid_column": null,
       "grid_gap": null,
       "grid_row": null,
       "grid_template_areas": null,
       "grid_template_columns": null,
       "grid_template_rows": null,
       "height": null,
       "justify_content": null,
       "justify_items": null,
       "left": null,
       "margin": null,
       "max_height": null,
       "max_width": null,
       "min_height": null,
       "min_width": null,
       "object_fit": null,
       "object_position": null,
       "order": null,
       "overflow": null,
       "padding": null,
       "right": null,
       "top": null,
       "visibility": null,
       "width": null
      }
     },
     "3eaf5afce7164bb0b5f9ca2f34f972b2": {
      "model_module": "nglview-js-widgets",
      "model_module_version": "3.0.8",
      "model_name": "ColormakerRegistryModel",
      "state": {
       "_dom_classes": [],
       "_model_module": "nglview-js-widgets",
       "_model_module_version": "3.0.8",
       "_model_name": "ColormakerRegistryModel",
       "_msg_ar": [],
       "_msg_q": [],
       "_ready": false,
       "_view_count": null,
       "_view_module": "nglview-js-widgets",
       "_view_module_version": "3.0.8",
       "_view_name": "ColormakerRegistryView",
       "layout": "IPY_MODEL_d202fc0182d44e339cc051b9a7284932",
       "tabbable": null,
       "tooltip": null
      }
     },
     "416a7ef0f37b4e43b761e49a9a11dc71": {
      "buffers": [
       {
        "data": "",
        "encoding": "base64",
        "path": [
         "value"
        ]
       }
      ],
      "model_module": "@jupyter-widgets/controls",
      "model_module_version": "2.0.0",
      "model_name": "ImageModel",
      "state": {
       "_dom_classes": [],
       "_model_module": "@jupyter-widgets/controls",
       "_model_module_version": "2.0.0",
       "_model_name": "ImageModel",
       "_view_count": null,
       "_view_module": "@jupyter-widgets/controls",
       "_view_module_version": "2.0.0",
       "_view_name": "ImageView",
       "format": "png",
       "height": "",
       "layout": "IPY_MODEL_abb3828053dd4d24bcf12132ac15719d",
       "tabbable": null,
       "tooltip": null,
       "width": "900.0"
      }
     },
     "4258db74419341e795e280df5a62f385": {
      "model_module": "@jupyter-widgets/controls",
      "model_module_version": "2.0.0",
      "model_name": "LinkModel",
      "state": {
       "_model_module": "@jupyter-widgets/controls",
       "_model_module_version": "2.0.0",
       "_model_name": "LinkModel",
       "_view_count": null,
       "_view_module": "@jupyter-widgets/controls",
       "_view_module_version": "2.0.0",
       "_view_name": null,
       "source": [
        "IPY_MODEL_f911285d4867487ca8ccb033309ae3ac",
        "value"
       ],
       "target": [
        "IPY_MODEL_2e9dbdeb24134981b285771ec0a3b31e",
        "frame"
       ]
      }
     },
     "4dce1687dd8542c492f7f02836bbf372": {
      "model_module": "@jupyter-widgets/controls",
      "model_module_version": "2.0.0",
      "model_name": "LinkModel",
      "state": {
       "_model_module": "@jupyter-widgets/controls",
       "_model_module_version": "2.0.0",
       "_model_name": "LinkModel",
       "_view_count": null,
       "_view_module": "@jupyter-widgets/controls",
       "_view_module_version": "2.0.0",
       "_view_name": null,
       "source": [
        "IPY_MODEL_317f91a31b7d49589ab0f33a7f7ccfb5",
        "value"
       ],
       "target": [
        "IPY_MODEL_2552a6f0c64c4057bb1c2b2f83a2f9c7",
        "frame"
       ]
      }
     },
     "55c5c1f9c1654af1af173aaa2eca3238": {
      "model_module": "@jupyter-widgets/controls",
      "model_module_version": "2.0.0",
      "model_name": "LinkModel",
      "state": {
       "_model_module": "@jupyter-widgets/controls",
       "_model_module_version": "2.0.0",
       "_model_name": "LinkModel",
       "_view_count": null,
       "_view_module": "@jupyter-widgets/controls",
       "_view_module_version": "2.0.0",
       "_view_name": null,
       "source": [
        "IPY_MODEL_b635b17ea1c8446ab2beb3a7507b8a6d",
        "max"
       ],
       "target": [
        "IPY_MODEL_8dad4b83a6de4869b7f33e16aa634fdd",
        "max_frame"
       ]
      }
     },
     "58043b30537f41ffa373805f4f962037": {
      "model_module": "@jupyter-widgets/controls",
      "model_module_version": "2.0.0",
      "model_name": "LinkModel",
      "state": {
       "_model_module": "@jupyter-widgets/controls",
       "_model_module_version": "2.0.0",
       "_model_name": "LinkModel",
       "_view_count": null,
       "_view_module": "@jupyter-widgets/controls",
       "_view_module_version": "2.0.0",
       "_view_name": null,
       "source": [
        "IPY_MODEL_63104181bd464c53a386b01fd484f5e1",
        "max"
       ],
       "target": [
        "IPY_MODEL_8dad4b83a6de4869b7f33e16aa634fdd",
        "max_frame"
       ]
      }
     },
     "63104181bd464c53a386b01fd484f5e1": {
      "model_module": "@jupyter-widgets/controls",
      "model_module_version": "2.0.0",
      "model_name": "IntSliderModel",
      "state": {
       "_dom_classes": [],
       "_model_module": "@jupyter-widgets/controls",
       "_model_module_version": "2.0.0",
       "_model_name": "IntSliderModel",
       "_view_count": null,
       "_view_module": "@jupyter-widgets/controls",
       "_view_module_version": "2.0.0",
       "_view_name": "IntSliderView",
       "behavior": "drag-tap",
       "continuous_update": true,
       "description": "",
       "description_allow_html": false,
       "disabled": false,
       "layout": "IPY_MODEL_c498d61ecea7415db2d1fea1bb3d1318",
       "max": 0,
       "min": 0,
       "orientation": "horizontal",
       "readout": true,
       "readout_format": "d",
       "step": 1,
       "style": "IPY_MODEL_b11ee7565088425aa34144caba03a4c5",
       "tabbable": null,
       "tooltip": null,
       "value": 0
      }
     },
     "6408215bbd1245ddbcf2e590ebc40272": {
      "model_module": "@jupyter-widgets/controls",
      "model_module_version": "2.0.0",
      "model_name": "HBoxModel",
      "state": {
       "_dom_classes": [],
       "_model_module": "@jupyter-widgets/controls",
       "_model_module_version": "2.0.0",
       "_model_name": "HBoxModel",
       "_view_count": null,
       "_view_module": "@jupyter-widgets/controls",
       "_view_module_version": "2.0.0",
       "_view_name": "HBoxView",
       "box_style": "",
       "children": [
        "IPY_MODEL_b635b17ea1c8446ab2beb3a7507b8a6d",
        "IPY_MODEL_63104181bd464c53a386b01fd484f5e1"
       ],
       "layout": "IPY_MODEL_a1efe3da14bf4e9781791b1a605d79b9",
       "tabbable": null,
       "tooltip": null
      }
     },
     "68402c7bcd514949a5b45c1d6ff674cb": {
      "model_module": "@jupyter-widgets/controls",
      "model_module_version": "2.0.0",
      "model_name": "ButtonStyleModel",
      "state": {
       "_model_module": "@jupyter-widgets/controls",
       "_model_module_version": "2.0.0",
       "_model_name": "ButtonStyleModel",
       "_view_count": null,
       "_view_module": "@jupyter-widgets/base",
       "_view_module_version": "2.0.0",
       "_view_name": "StyleView",
       "button_color": null,
       "font_family": null,
       "font_size": null,
       "font_style": null,
       "font_variant": null,
       "font_weight": null,
       "text_color": null,
       "text_decoration": null
      }
     },
     "69cc5e151d944509a1a827a783d1a6ff": {
      "model_module": "@jupyter-widgets/controls",
      "model_module_version": "2.0.0",
      "model_name": "SliderStyleModel",
      "state": {
       "_model_module": "@jupyter-widgets/controls",
       "_model_module_version": "2.0.0",
       "_model_name": "SliderStyleModel",
       "_view_count": null,
       "_view_module": "@jupyter-widgets/base",
       "_view_module_version": "2.0.0",
       "_view_name": "StyleView",
       "description_width": "",
       "handle_color": null
      }
     },
     "6d2ac21fd8c5411586d5fc765894a1fa": {
      "model_module": "@jupyter-widgets/controls",
      "model_module_version": "2.0.0",
      "model_name": "SliderStyleModel",
      "state": {
       "_model_module": "@jupyter-widgets/controls",
       "_model_module_version": "2.0.0",
       "_model_name": "SliderStyleModel",
       "_view_count": null,
       "_view_module": "@jupyter-widgets/base",
       "_view_module_version": "2.0.0",
       "_view_name": "StyleView",
       "description_width": "",
       "handle_color": null
      }
     },
     "7085cd02528c4fa0a1a51722e2c51196": {
      "buffers": [
       {
        "data": "",
        "encoding": "base64",
        "path": [
         "value"
        ]
       }
      ],
      "model_module": "@jupyter-widgets/controls",
      "model_module_version": "2.0.0",
      "model_name": "ImageModel",
      "state": {
       "_dom_classes": [],
       "_model_module": "@jupyter-widgets/controls",
       "_model_module_version": "2.0.0",
       "_model_name": "ImageModel",
       "_view_count": null,
       "_view_module": "@jupyter-widgets/controls",
       "_view_module_version": "2.0.0",
       "_view_name": "ImageView",
       "format": "png",
       "height": "",
       "layout": "IPY_MODEL_3b7da5237b674b7cbc9ff456f73e5ccd",
       "tabbable": null,
       "tooltip": null,
       "width": "900.0"
      }
     },
     "853571f8d9e74dffb321651be89f3983": {
      "model_module": "@jupyter-widgets/controls",
      "model_module_version": "2.0.0",
      "model_name": "LinkModel",
      "state": {
       "_model_module": "@jupyter-widgets/controls",
       "_model_module_version": "2.0.0",
       "_model_name": "LinkModel",
       "_view_count": null,
       "_view_module": "@jupyter-widgets/controls",
       "_view_module_version": "2.0.0",
       "_view_name": null,
       "source": [
        "IPY_MODEL_317f91a31b7d49589ab0f33a7f7ccfb5",
        "max"
       ],
       "target": [
        "IPY_MODEL_2552a6f0c64c4057bb1c2b2f83a2f9c7",
        "max_frame"
       ]
      }
     },
     "87d9323b5e4a412da4d4166dac20c185": {
      "model_module": "@jupyter-widgets/controls",
      "model_module_version": "2.0.0",
      "model_name": "LinkModel",
      "state": {
       "_model_module": "@jupyter-widgets/controls",
       "_model_module_version": "2.0.0",
       "_model_name": "LinkModel",
       "_view_count": null,
       "_view_module": "@jupyter-widgets/controls",
       "_view_module_version": "2.0.0",
       "_view_name": null,
       "source": [
        "IPY_MODEL_b635b17ea1c8446ab2beb3a7507b8a6d",
        "value"
       ],
       "target": [
        "IPY_MODEL_8dad4b83a6de4869b7f33e16aa634fdd",
        "frame"
       ]
      }
     },
     "88cccba6149a450d899108be18210796": {
      "model_module": "@jupyter-widgets/base",
      "model_module_version": "2.0.0",
      "model_name": "LayoutModel",
      "state": {
       "_model_module": "@jupyter-widgets/base",
       "_model_module_version": "2.0.0",
       "_model_name": "LayoutModel",
       "_view_count": null,
       "_view_module": "@jupyter-widgets/base",
       "_view_module_version": "2.0.0",
       "_view_name": "LayoutView",
       "align_content": null,
       "align_items": null,
       "align_self": null,
       "border_bottom": null,
       "border_left": null,
       "border_right": null,
       "border_top": null,
       "bottom": null,
       "display": null,
       "flex": null,
       "flex_flow": null,
       "grid_area": null,
       "grid_auto_columns": null,
       "grid_auto_flow": null,
       "grid_auto_rows": null,
       "grid_column": null,
       "grid_gap": null,
       "grid_row": null,
       "grid_template_areas": null,
       "grid_template_columns": null,
       "grid_template_rows": null,
       "height": null,
       "justify_content": null,
       "justify_items": null,
       "left": null,
       "margin": null,
       "max_height": null,
       "max_width": null,
       "min_height": null,
       "min_width": null,
       "object_fit": null,
       "object_position": null,
       "order": null,
       "overflow": null,
       "padding": null,
       "right": null,
       "top": null,
       "visibility": null,
       "width": "34px"
      }
     },
     "8be67a5625f34aaaa48e781a516ea0ca": {
      "model_module": "@jupyter-widgets/base",
      "model_module_version": "2.0.0",
      "model_name": "LayoutModel",
      "state": {
       "_model_module": "@jupyter-widgets/base",
       "_model_module_version": "2.0.0",
       "_model_name": "LayoutModel",
       "_view_count": null,
       "_view_module": "@jupyter-widgets/base",
       "_view_module_version": "2.0.0",
       "_view_name": "LayoutView",
       "align_content": null,
       "align_items": null,
       "align_self": null,
       "border_bottom": null,
       "border_left": null,
       "border_right": null,
       "border_top": null,
       "bottom": null,
       "display": null,
       "flex": null,
       "flex_flow": null,
       "grid_area": null,
       "grid_auto_columns": null,
       "grid_auto_flow": null,
       "grid_auto_rows": null,
       "grid_column": null,
       "grid_gap": null,
       "grid_row": null,
       "grid_template_areas": null,
       "grid_template_columns": null,
       "grid_template_rows": null,
       "height": null,
       "justify_content": null,
       "justify_items": null,
       "left": null,
       "margin": null,
       "max_height": null,
       "max_width": null,
       "min_height": null,
       "min_width": null,
       "object_fit": null,
       "object_position": null,
       "order": null,
       "overflow": null,
       "padding": null,
       "right": null,
       "top": null,
       "visibility": null,
       "width": null
      }
     },
     "8dad4b83a6de4869b7f33e16aa634fdd": {
      "model_module": "nglview-js-widgets",
      "model_module_version": "3.0.8",
      "model_name": "NGLModel",
      "state": {
       "_camera_orientation": [],
       "_camera_str": "orthographic",
       "_dom_classes": [],
       "_gui_theme": null,
       "_ibtn_fullscreen": "IPY_MODEL_fc090989d808464abd68a7d0f053abf0",
       "_igui": null,
       "_iplayer": "IPY_MODEL_6408215bbd1245ddbcf2e590ebc40272",
       "_model_module": "nglview-js-widgets",
       "_model_module_version": "3.0.8",
       "_model_name": "NGLModel",
       "_ngl_color_dict": {},
       "_ngl_coordinate_resource": {},
       "_ngl_full_stage_parameters": {},
       "_ngl_msg_archive": [
        {
         "args": [
          {
           "binary": false,
           "data": "REMARK   1 CREATED WITH OPENMM 8.0, 2023-09-27\nHETATM    1  O1x UNK A   1       7.236  39.911  33.856  1.00  0.00           O  \nHETATM    2  C1x UNK A   1       6.228  39.378  33.420  1.00  0.00           C  \nHETATM    3  N1x UNK A   1       5.262  39.998  32.674  1.00  0.00           N  \nHETATM    4  C2x UNK A   1       4.123  39.142  32.421  1.00  0.00           C  \nHETATM    5  C3x UNK A   1       5.216  41.435  32.541  1.00  0.00           C  \nHETATM    6  N2x UNK A   1       5.274  41.958  31.195  1.00  0.00           N  \nHETATM    7  C4x UNK A   1       4.217  41.856  30.202  1.00  0.00           C  \nHETATM    8  C5x UNK A   1       6.253  42.836  30.812  1.00  0.00           C  \nHETATM    9  O2x UNK A   1       7.238  43.134  31.466  1.00  0.00           O  \nHETATM   10  N3x UNK A   1       5.927  43.350  29.594  1.00  0.00           N  \nHETATM   11  C6x UNK A   1       4.674  42.837  29.090  1.00  0.00           C  \nHETATM   12  C7x UNK A   1       6.618  44.483  29.028  1.00  0.00           C  \nHETATM   13  N4x UNK A   1       7.438  44.166  27.887  1.00  0.00           N  \nHETATM   14  C8x UNK A   1       6.945  44.089  26.533  1.00  0.00           C  \nHETATM   15  C9x UNK A   1       8.803  44.116  27.954  1.00  0.00           C  \nHETATM   16  O3x UNK A   1       9.469  44.261  28.970  1.00  0.00           O  \nHETATM   17  N5x UNK A   1       9.290  44.060  26.682  1.00  0.00           N  \nHETATM   18 C10x UNK A   1       8.239  44.073  25.685  1.00  0.00           C  \nHETATM   19 C11x UNK A   1      10.680  44.319  26.381  1.00  0.00           C  \nHETATM   20  N6x UNK A   1      11.408  43.189  25.863  1.00  0.00           N  \nHETATM   21 C12x UNK A   1      11.384  42.773  24.478  1.00  0.00           C  \nHETATM   22 C13x UNK A   1      12.390  42.563  26.582  1.00  0.00           C  \nHETATM   23  O4x UNK A   1      12.669  42.789  27.751  1.00  0.00           O  \nHETATM   24  N7x UNK A   1      13.080  41.739  25.741  1.00  0.00           N  \nHETATM   25 C14x UNK A   1      12.550  41.758  24.391  1.00  0.00           C  \nHETATM   26 C15x UNK A   1      14.379  41.210  26.090  1.00  0.00           C  \nHETATM   27  N8x UNK A   1      14.458  39.772  26.234  1.00  0.00           N  \nHETATM   28 C16x UNK A   1      14.483  38.831  25.134  1.00  0.00           C  \nHETATM   29 C17x UNK A   1      14.707  39.174  27.439  1.00  0.00           C  \nHETATM   30  O5x UNK A   1      14.789  39.745  28.514  1.00  0.00           O  \nHETATM   31  N9x UNK A   1      14.927  37.839  27.225  1.00  0.00           N  \nHETATM   32 C18x UNK A   1      14.833  37.486  25.823  1.00  0.00           C  \nHETATM   33 C19x UNK A   1      15.586  37.010  28.210  1.00  0.00           C  \nHETATM   34 N10x UNK A   1      14.804  35.896  28.705  1.00  0.00           N  \nHETATM   35 C20x UNK A   1      14.590  34.664  27.967  1.00  0.00           C  \nHETATM   36 C21x UNK A   1      14.450  35.787  30.019  1.00  0.00           C  \nHETATM   37  O6x UNK A   1      14.605  36.644  30.874  1.00  0.00           O  \nHETATM   38 N11x UNK A   1      13.998  34.512  30.239  1.00  0.00           N  \nHETATM   39 C22x UNK A   1      14.004  33.710  29.038  1.00  0.00           C  \nHETATM   40 C23x UNK A   1      13.843  33.965  31.568  1.00  0.00           C  \nHETATM   41 N12x UNK A   1      12.480  33.678  31.958  1.00  0.00           N  \nHETATM   42 C24x UNK A   1      11.754  32.495  31.540  1.00  0.00           C  \nHETATM   43 C25x UNK A   1      11.850  34.350  32.964  1.00  0.00           C  \nHETATM   44  O7x UNK A   1      12.289  35.325  33.551  1.00  0.00           O  \nHETATM   45 N13x UNK A   1      10.703  33.668  33.289  1.00  0.00           N  \nHETATM   46 C26x UNK A   1      10.523  32.482  32.477  1.00  0.00           C  \nHETATM   47 C27x UNK A   1       9.935  33.956  34.476  1.00  0.00           C  \nHETATM   48 N14x UNK A   1       8.633  34.552  34.249  1.00  0.00           N  \nHETATM   49 C28x UNK A   1       7.436  33.812  33.888  1.00  0.00           C  \nHETATM   50 C29x UNK A   1       8.382  35.873  34.478  1.00  0.00           C  \nHETATM   51  O8x UNK A   1       9.208  36.711  34.817  1.00  0.00           O  \nHETATM   52 N15x UNK A   1       7.034  36.092  34.317  1.00  0.00           N  \nHETATM   53 C30x UNK A   1       6.406  37.314  34.769  1.00  0.00           C  \nHETATM   54 C31x UNK A   1       6.313  34.869  34.018  1.00  0.00           C  \nHETATM   55 N16x UNK A   1       5.786  38.117  33.735  1.00  0.00           N  \nHETATM   56 C32x UNK A   1       4.473  37.842  33.191  1.00  0.00           C  \nHETATM   57 N17x UNK A   1       4.433  36.826  32.162  1.00  0.00           N  \nHETATM   58 C33x UNK A   1       4.382  35.409  32.436  1.00  0.00           C  \nHETATM   59 C34x UNK A   1       4.155  37.341  30.927  1.00  0.00           C  \nHETATM   60  O9x UNK A   1       3.906  36.689  29.934  1.00  0.00           O  \nHETATM   61 N18x UNK A   1       3.974  38.693  31.054  1.00  0.00           N  \nHETATM   62 C35x UNK A   1       3.341  39.471  30.011  1.00  0.00           C  \nHETATM   63 N19x UNK A   1       4.111  40.587  29.506  1.00  0.00           N  \nHETATM   64 C36x UNK A   1       4.454  40.691  28.181  1.00  0.00           C  \nHETATM   65 O10x UNK A   1       4.288  39.821  27.335  1.00  0.00           O  \nHETATM   66 N20x UNK A   1       4.788  41.994  27.918  1.00  0.00           N  \nHETATM   67 C37x UNK A   1       4.939  42.499  26.564  1.00  0.00           C  \nHETATM   68 N21x UNK A   1       6.290  42.843  26.175  1.00  0.00           N  \nHETATM   69 C38x UNK A   1       6.984  42.153  25.212  1.00  0.00           C  \nHETATM   70 O11x UNK A   1       6.597  41.142  24.637  1.00  0.00           O  \nHETATM   71 N22x UNK A   1       8.109  42.866  24.899  1.00  0.00           N  \nHETATM   72 C39x UNK A   1       8.936  42.556  23.754  1.00  0.00           C  \nHETATM   73 N23x UNK A   1      10.227  41.993  24.078  1.00  0.00           N  \nHETATM   74 C40x UNK A   1      10.549  40.695  23.790  1.00  0.00           C  \nHETATM   75 O12x UNK A   1       9.782  39.858  23.342  1.00  0.00           O  \nHETATM   76 N24x UNK A   1      11.899  40.538  23.957  1.00  0.00           N  \nHETATM   77 C41x UNK A   1      12.617  39.384  23.466  1.00  0.00           C  \nHETATM   78 N25x UNK A   1      13.208  38.556  24.493  1.00  0.00           N  \nHETATM   79 C42x UNK A   1      12.786  37.268  24.702  1.00  0.00           C  \nHETATM   80 O13x UNK A   1      11.833  36.739  24.154  1.00  0.00           O  \nHETATM   81 N26x UNK A   1      13.723  36.627  25.467  1.00  0.00           N  \nHETATM   82 C43x UNK A   1      13.754  35.187  25.606  1.00  0.00           C  \nHETATM   83 N27x UNK A   1      13.558  34.703  26.951  1.00  0.00           N  \nHETATM   84 C44x UNK A   1      12.454  33.965  27.300  1.00  0.00           C  \nHETATM   85 O14x UNK A   1      11.480  33.766  26.591  1.00  0.00           O  \nHETATM   86 N28x UNK A   1      12.697  33.373  28.505  1.00  0.00           N  \nHETATM   87 C45x UNK A   1      11.897  32.275  29.000  1.00  0.00           C  \nHETATM   88 N29x UNK A   1      11.168  32.552  30.214  1.00  0.00           N  \nHETATM   89 C46x UNK A   1       9.798  32.585  30.253  1.00  0.00           C  \nHETATM   90 O15x UNK A   1       9.053  32.593  29.280  1.00  0.00           O  \nHETATM   91 N30x UNK A   1       9.403  32.523  31.558  1.00  0.00           N  \nHETATM   92 C47x UNK A   1       8.038  32.263  31.944  1.00  0.00           C  \nHETATM   93 N31x UNK A   1       7.347  33.401  32.500  1.00  0.00           N  \nHETATM   94 C48x UNK A   1       6.309  34.007  31.844  1.00  0.00           C  \nHETATM   95 N32x UNK A   1       5.669  34.826  32.719  1.00  0.00           N  \nHETATM   96 O16x UNK A   1       5.965  33.780  30.691  1.00  0.00           O  \nHETATM   97  H1x UNK A   1       3.191  39.577  32.812  1.00  0.00           H  \nHETATM   98  H2x UNK A   1       6.069  41.850  33.098  1.00  0.00           H  \nHETATM   99  H3x UNK A   1       4.277  41.783  32.995  1.00  0.00           H  \nHETATM  100  H4x UNK A   1       3.247  42.174  30.611  1.00  0.00           H  \nHETATM  101  H5x UNK A   1       3.928  43.634  28.952  1.00  0.00           H  \nHETATM  102  H6x UNK A   1       7.263  44.917  29.806  1.00  0.00           H  \nHETATM  103  H7x UNK A   1       5.867  45.225  28.718  1.00  0.00           H  \nHETATM  104  H8x UNK A   1       6.328  44.962  26.272  1.00  0.00           H  \nHETATM  105  H9x UNK A   1       8.290  44.970  25.050  1.00  0.00           H  \nHETATM  106 H10x UNK A   1      11.175  44.649  27.306  1.00  0.00           H  \nHETATM  107 H11x UNK A   1      10.724  45.125  25.634  1.00  0.00           H  \nHETATM  108 H12x UNK A   1      11.561  43.617  23.795  1.00  0.00           H  \nHETATM  109 H13x UNK A   1      13.301  42.100  23.663  1.00  0.00           H  \nHETATM  110 H14x UNK A   1      15.087  41.509  25.303  1.00  0.00           H  \nHETATM  111 H15x UNK A   1      14.681  41.662  27.046  1.00  0.00           H  \nHETATM  112 H16x UNK A   1      15.257  39.090  24.397  1.00  0.00           H  \nHETATM  113 H17x UNK A   1      15.787  37.099  25.437  1.00  0.00           H  \nHETATM  114 H18x UNK A   1      16.503  36.606  27.756  1.00  0.00           H  \nHETATM  115 H19x UNK A   1      15.851  37.646  29.067  1.00  0.00           H  \nHETATM  116 H20x UNK A   1      15.533  34.259  27.573  1.00  0.00           H  \nHETATM  117 H21x UNK A   1      14.641  32.820  29.145  1.00  0.00           H  \nHETATM  118 H22x UNK A   1      14.417  33.028  31.620  1.00  0.00           H  \nHETATM  119 H23x UNK A   1      14.257  34.689  32.285  1.00  0.00           H  \nHETATM  120 H24x UNK A   1      12.350  31.581  31.682  1.00  0.00           H  \nHETATM  121 H25x UNK A   1      10.517  31.567  33.087  1.00  0.00           H  \nHETATM  122 H26x UNK A   1       9.785  33.012  35.020  1.00  0.00           H  \nHETATM  123 H27x UNK A   1      10.521  34.648  35.098  1.00  0.00           H  \nHETATM  124 H28x UNK A   1       7.253  32.973  34.575  1.00  0.00           H  \nHETATM  125 H29x UNK A   1       7.175  37.929  35.260  1.00  0.00           H  \nHETATM  126 H30x UNK A   1       5.630  37.045  35.500  1.00  0.00           H  \nHETATM  127 H31x UNK A   1       5.620  34.595  34.827  1.00  0.00           H  \nHETATM  128 H32x UNK A   1       3.732  37.654  33.982  1.00  0.00           H  \nHETATM  129 H33x UNK A   1       3.729  35.247  33.306  1.00  0.00           H  \nHETATM  130 H34x UNK A   1       3.956  34.901  31.558  1.00  0.00           H  \nHETATM  131 H35x UNK A   1       2.395  39.866  30.411  1.00  0.00           H  \nHETATM  132 H36x UNK A   1       3.130  38.797  29.168  1.00  0.00           H  \nHETATM  133 H37x UNK A   1       4.318  43.402  26.468  1.00  0.00           H  \nHETATM  134 H38x UNK A   1       4.573  41.727  25.871  1.00  0.00           H  \nHETATM  135 H39x UNK A   1       9.099  43.485  23.187  1.00  0.00           H  \nHETATM  136 H40x UNK A   1       8.395  41.833  23.126  1.00  0.00           H  \nHETATM  137 H41x UNK A   1      11.915  38.764  22.889  1.00  0.00           H  \nHETATM  138 H42x UNK A   1      13.423  39.738  22.806  1.00  0.00           H  \nHETATM  139 H43x UNK A   1      12.960  34.765  24.972  1.00  0.00           H  \nHETATM  140 H44x UNK A   1      14.733  34.831  25.254  1.00  0.00           H  \nHETATM  141 H45x UNK A   1      11.171  32.003  28.220  1.00  0.00           H  \nHETATM  142 H46x UNK A   1      12.567  31.423  29.191  1.00  0.00           H  \nHETATM  143 H47x UNK A   1       7.487  31.928  31.053  1.00  0.00           H  \nHETATM  144 H48x UNK A   1       8.040  31.461  32.697  1.00  0.00           H  \nTER     145      UNK A   1\nHETATM  146  C1x UNK B   1       8.748  37.036  25.821  1.00  0.00           C  \nHETATM  147  C2x UNK B   1      10.453  38.242  27.099  1.00  0.00           C  \nHETATM  148  C3x UNK B   1      10.825  39.073  28.158  1.00  0.00           C  \nHETATM  149  C4x UNK B   1      12.172  39.572  31.007  1.00  0.00           C  \nHETATM  150  C5x UNK B   1      10.317  39.605  32.555  1.00  0.00           C  \nHETATM  151  C6x UNK B   1      12.993  39.041  32.001  1.00  0.00           C  \nHETATM  152  C7x UNK B   1      11.138  39.073  33.549  1.00  0.00           C  \nHETATM  153  C8x UNK B   1       8.124  38.354  27.782  1.00  0.00           C  \nHETATM  154  C9x UNK B   1       9.110  37.885  26.912  1.00  0.00           C  \nHETATM  155 C10x UNK B   1      10.834  39.854  31.283  1.00  0.00           C  \nHETATM  156 C11x UNK B   1       9.837  39.528  29.019  1.00  0.00           C  \nHETATM  157 C12x UNK B   1       8.509  39.173  28.829  1.00  0.00           C  \nHETATM  158 C13x UNK B   1      12.476  38.792  33.273  1.00  0.00           C  \nHETATM  159 C14x UNK B   1       7.666  39.810  29.867  1.00  0.00           C  \nHETATM  160 C15x UNK B   1       9.955  40.422  30.219  1.00  0.00           C  \nHETATM  161 C16x UNK B   1      12.627  45.488  29.798  1.00  0.00           C  \nHETATM  162 C17x UNK B   1      13.042  43.484  31.217  1.00  0.00           C  \nHETATM  163 C18x UNK B   1      10.373  41.843  29.862  1.00  0.00           C  \nHETATM  164 C19x UNK B   1      10.255  42.777  31.064  1.00  0.00           C  \nHETATM  165 C20x UNK B   1      10.708  44.184  30.704  1.00  0.00           C  \nHETATM  166  N1x UNK B   1       8.454  36.346  24.935  1.00  0.00           N  \nHETATM  167  N2x UNK B   1      12.110  44.135  30.224  1.00  0.00           N  \nHETATM  168  O1x UNK B   1       8.597  40.461  30.762  1.00  0.00           O  \nHETATM  169  F1x UNK B   1      13.264  38.279  34.227  1.00  0.00           F  \nHETATM  170  H1x UNK B   1      11.221  37.879  26.420  1.00  0.00           H  \nHETATM  171  H2x UNK B   1      11.865  39.350  28.299  1.00  0.00           H  \nHETATM  172  H3x UNK B   1      12.584  39.764  30.019  1.00  0.00           H  \nHETATM  173  H4x UNK B   1       9.276  39.821  32.779  1.00  0.00           H  \nHETATM  174  H5x UNK B   1      14.034  38.821  31.786  1.00  0.00           H  \nHETATM  175  H6x UNK B   1      10.736  38.879  34.539  1.00  0.00           H  \nHETATM  176  H7x UNK B   1       7.079  38.090  27.648  1.00  0.00           H  \nHETATM  177  H8x UNK B   1       7.004  40.570  29.442  1.00  0.00           H  \nHETATM  178  H9x UNK B   1       7.090  39.078  30.440  1.00  0.00           H  \nHETATM  179 H10x UNK B   1      12.613  46.141  30.672  1.00  0.00           H  \nHETATM  180 H11x UNK B   1      13.643  45.354  29.423  1.00  0.00           H  \nHETATM  181 H12x UNK B   1      11.966  45.866  29.015  1.00  0.00           H  \nHETATM  182 H13x UNK B   1      13.039  44.090  32.125  1.00  0.00           H  \nHETATM  183 H14x UNK B   1      12.670  42.478  31.415  1.00  0.00           H  \nHETATM  184 H15x UNK B   1      14.038  43.453  30.769  1.00  0.00           H  \nHETATM  185 H16x UNK B   1      11.406  41.829  29.499  1.00  0.00           H  \nHETATM  186 H17x UNK B   1       9.743  42.204  29.042  1.00  0.00           H  \nHETATM  187 H18x UNK B   1       9.214  42.799  31.412  1.00  0.00           H  \nHETATM  188 H19x UNK B   1      10.862  42.391  31.892  1.00  0.00           H  \nHETATM  189 H20x UNK B   1      10.110  44.614  29.895  1.00  0.00           H  \nHETATM  190 H21x UNK B   1      10.693  44.854  31.570  1.00  0.00           H  \nHETATM  191 H22x UNK B   1      12.134  43.541  29.377  1.00  0.00           H  \nTER     192      UNK B   1\nCONECT    1    2\nCONECT    2   55    1    3\nCONECT    3    2    4    5\nCONECT    4    3   56   97   61\nCONECT    5    3   98   99    6\nCONECT    6    5    7    8\nCONECT    7    6  100   11   63\nCONECT    8    6    9   10\nCONECT    9    8\nCONECT   10    8   11   12\nCONECT   11   10    7  101   66\nCONECT   12   10  102  103   13\nCONECT   13   15   12   14\nCONECT   14   13  104   18   68\nCONECT   15   13   16   17\nCONECT   16   15\nCONECT   17   15   18   19\nCONECT   18   14   17  105   71\nCONECT   19   17  106  107   20\nCONECT   20   19   22   21\nCONECT   21   20  108   25   73\nCONECT   22   20   23   24\nCONECT   23   22\nCONECT   24   26   22   25\nCONECT   25   21   24  109   76\nCONECT   26   24   27  110  111\nCONECT   27   26   29   28\nCONECT   28   32   27  112   78\nCONECT   29   27   30   31\nCONECT   30   29\nCONECT   31   29   33   32\nCONECT   32   28   31  113   81\nCONECT   33   31   34  114  115\nCONECT   34   33   36   35\nCONECT   35   34   39  116   83\nCONECT   36   34   38   37\nCONECT   37   36\nCONECT   38   36   40   39\nCONECT   39   35   38  117   86\nCONECT   40   38   41  118  119\nCONECT   41   40   43   42\nCONECT   42   41   46  120   88\nCONECT   43   41   45   44\nCONECT   44   43\nCONECT   45   43   47   46\nCONECT   46   42   45  121   91\nCONECT   47   45  122  123   48\nCONECT   48   47   50   49\nCONECT   49   54   48  124   93\nCONECT   50   48   51   52\nCONECT   51   50\nCONECT   52   50   53   54\nCONECT   53   52  125  126   55\nCONECT   54   49   52  127   95\nCONECT   55    2   53   56\nCONECT   56    4   55  128   57\nCONECT   57   58   56   59\nCONECT   58   57   95  129  130\nCONECT   59   61   57   60\nCONECT   60   59\nCONECT   61   59    4   62\nCONECT   62   61  131  132   63\nCONECT   63   62    7   64\nCONECT   64   63   65   66\nCONECT   65   64\nCONECT   66   64   11   67\nCONECT   67   66  133  134   68\nCONECT   68   14   67   69\nCONECT   69   68   70   71\nCONECT   70   69\nCONECT   71   69   18   72\nCONECT   72   73   71  135  136\nCONECT   73   72   21   74\nCONECT   74   76   73   75\nCONECT   75   74\nCONECT   76   74   25   77\nCONECT   77   76   78  137  138\nCONECT   78   77   79   28\nCONECT   79   78   81   80\nCONECT   80   79\nCONECT   81   79   82   32\nCONECT   82   81   83  139  140\nCONECT   83   82   84   35\nCONECT   84   83   86   85\nCONECT   85   84\nCONECT   86   84   87   39\nCONECT   87   86   88  141  142\nCONECT   88   87   89   42\nCONECT   89   88   91   90\nCONECT   90   89\nCONECT   91   89   92   46\nCONECT   92   91   93  143  144\nCONECT   93   92   49   94\nCONECT   94   93   95   96\nCONECT   95   58   94   54\nCONECT   96   94\nCONECT   97    4\nCONECT   98    5\nCONECT   99    5\nCONECT  100    7\nCONECT  101   11\nCONECT  102   12\nCONECT  103   12\nCONECT  104   14\nCONECT  105   18\nCONECT  106   19\nCONECT  107   19\nCONECT  108   21\nCONECT  109   25\nCONECT  110   26\nCONECT  111   26\nCONECT  112   28\nCONECT  113   32\nCONECT  114   33\nCONECT  115   33\nCONECT  116   35\nCONECT  117   39\nCONECT  118   40\nCONECT  119   40\nCONECT  120   42\nCONECT  121   46\nCONECT  122   47\nCONECT  123   47\nCONECT  124   49\nCONECT  125   53\nCONECT  126   53\nCONECT  127   54\nCONECT  128   56\nCONECT  129   58\nCONECT  130   58\nCONECT  131   62\nCONECT  132   62\nCONECT  133   67\nCONECT  134   67\nCONECT  135   72\nCONECT  136   72\nCONECT  137   77\nCONECT  138   77\nCONECT  139   82\nCONECT  140   82\nCONECT  141   87\nCONECT  142   87\nCONECT  143   92\nCONECT  144   92\nCONECT  146  154  166\nCONECT  147  148  154  170\nCONECT  148  147  156  171\nCONECT  149  151  155  172\nCONECT  150  152  155  173\nCONECT  151  149  158  174\nCONECT  152  150  158  175\nCONECT  153  154  157  176\nCONECT  154  146  147  153\nCONECT  155  149  150  160\nCONECT  156  148  157  160\nCONECT  157  153  156  159\nCONECT  158  151  152  169\nCONECT  159  157  168  177  178\nCONECT  160  155  156  163  168\nCONECT  161  167  179  180  181\nCONECT  162  167  182  183  184\nCONECT  163  160  164  185  186\nCONECT  164  163  165  187  188\nCONECT  165  164  167  189  190\nCONECT  166  146\nCONECT  167  161  162  165  191\nCONECT  168  159  160\nCONECT  169  158\nCONECT  170  147\nCONECT  171  148\nCONECT  172  149\nCONECT  173  150\nCONECT  174  151\nCONECT  175  152\nCONECT  176  153\nCONECT  177  159\nCONECT  178  159\nCONECT  179  161\nCONECT  180  161\nCONECT  181  161\nCONECT  182  162\nCONECT  183  162\nCONECT  184  162\nCONECT  185  163\nCONECT  186  163\nCONECT  187  164\nCONECT  188  164\nCONECT  189  165\nCONECT  190  165\nCONECT  191  167\nEND\n",
           "type": "blob"
          }
         ],
         "kwargs": {
          "defaultRepresentation": false,
          "ext": "pdb"
         },
         "methodName": "loadFile",
         "reconstruc_color_scheme": false,
         "target": "Stage",
         "type": "call_method"
        },
        {
         "args": [],
         "component_index": 0,
         "kwargs": {},
         "methodName": "removeAllRepresentations",
         "reconstruc_color_scheme": false,
         "target": "compList",
         "type": "call_method"
        },
        {
         "args": [
          "unitcell"
         ],
         "component_index": 0,
         "kwargs": {},
         "methodName": "addRepresentation",
         "reconstruc_color_scheme": false,
         "target": "compList",
         "type": "call_method"
        },
        {
         "args": [
          "line"
         ],
         "component_index": 0,
         "kwargs": {
          "sele": "water"
         },
         "methodName": "addRepresentation",
         "reconstruc_color_scheme": false,
         "target": "compList",
         "type": "call_method"
        },
        {
         "args": [
          "spacefill"
         ],
         "component_index": 0,
         "kwargs": {
          "sele": "ion"
         },
         "methodName": "addRepresentation",
         "reconstruc_color_scheme": false,
         "target": "compList",
         "type": "call_method"
        },
        {
         "args": [
          "cartoon"
         ],
         "component_index": 0,
         "kwargs": {
          "sele": "protein"
         },
         "methodName": "addRepresentation",
         "reconstruc_color_scheme": false,
         "target": "compList",
         "type": "call_method"
        },
        {
         "args": [
          "licorice"
         ],
         "component_index": 0,
         "kwargs": {
          "multipleBond": false,
          "radius": 0.25,
          "sele": "not water and not ion and not protein"
         },
         "methodName": "addRepresentation",
         "reconstruc_color_scheme": false,
         "target": "compList",
         "type": "call_method"
        }
       ],
       "_ngl_original_stage_parameters": {},
       "_ngl_repr_dict": {},
       "_ngl_serialize": false,
       "_ngl_version": "",
       "_ngl_view_id": [],
       "_player_dict": {},
       "_scene_position": {},
       "_scene_rotation": {},
       "_synced_model_ids": [],
       "_synced_repr_model_ids": [],
       "_view_count": null,
       "_view_height": "",
       "_view_module": "nglview-js-widgets",
       "_view_module_version": "3.0.8",
       "_view_name": "NGLView",
       "_view_width": "",
       "background": "white",
       "frame": 0,
       "gui_style": null,
       "layout": "IPY_MODEL_966d5765b97c49e5af112f0337cc2ad6",
       "max_frame": 0,
       "n_components": 0,
       "picked": {},
       "tabbable": null,
       "tooltip": null
      }
     },
     "960f4c3c5152490bb1485771ae7ffed0": {
      "model_module": "@jupyter-widgets/controls",
      "model_module_version": "2.0.0",
      "model_name": "DescriptionStyleModel",
      "state": {
       "_model_module": "@jupyter-widgets/controls",
       "_model_module_version": "2.0.0",
       "_model_name": "DescriptionStyleModel",
       "_view_count": null,
       "_view_module": "@jupyter-widgets/base",
       "_view_module_version": "2.0.0",
       "_view_name": "StyleView",
       "description_width": ""
      }
     },
     "966d5765b97c49e5af112f0337cc2ad6": {
      "model_module": "@jupyter-widgets/base",
      "model_module_version": "2.0.0",
      "model_name": "LayoutModel",
      "state": {
       "_model_module": "@jupyter-widgets/base",
       "_model_module_version": "2.0.0",
       "_model_name": "LayoutModel",
       "_view_count": null,
       "_view_module": "@jupyter-widgets/base",
       "_view_module_version": "2.0.0",
       "_view_name": "LayoutView",
       "align_content": null,
       "align_items": null,
       "align_self": null,
       "border_bottom": null,
       "border_left": null,
       "border_right": null,
       "border_top": null,
       "bottom": null,
       "display": null,
       "flex": null,
       "flex_flow": null,
       "grid_area": null,
       "grid_auto_columns": null,
       "grid_auto_flow": null,
       "grid_auto_rows": null,
       "grid_column": null,
       "grid_gap": null,
       "grid_row": null,
       "grid_template_areas": null,
       "grid_template_columns": null,
       "grid_template_rows": null,
       "height": null,
       "justify_content": null,
       "justify_items": null,
       "left": null,
       "margin": null,
       "max_height": null,
       "max_width": null,
       "min_height": null,
       "min_width": null,
       "object_fit": null,
       "object_position": null,
       "order": null,
       "overflow": null,
       "padding": null,
       "right": null,
       "top": null,
       "visibility": null,
       "width": null
      }
     },
     "9b05f5f5a05e49deafaf79c3d5914d8a": {
      "model_module": "@jupyter-widgets/base",
      "model_module_version": "2.0.0",
      "model_name": "LayoutModel",
      "state": {
       "_model_module": "@jupyter-widgets/base",
       "_model_module_version": "2.0.0",
       "_model_name": "LayoutModel",
       "_view_count": null,
       "_view_module": "@jupyter-widgets/base",
       "_view_module_version": "2.0.0",
       "_view_name": "LayoutView",
       "align_content": null,
       "align_items": null,
       "align_self": null,
       "border_bottom": null,
       "border_left": null,
       "border_right": null,
       "border_top": null,
       "bottom": null,
       "display": null,
       "flex": null,
       "flex_flow": null,
       "grid_area": null,
       "grid_auto_columns": null,
       "grid_auto_flow": null,
       "grid_auto_rows": null,
       "grid_column": null,
       "grid_gap": null,
       "grid_row": null,
       "grid_template_areas": null,
       "grid_template_columns": null,
       "grid_template_rows": null,
       "height": null,
       "justify_content": null,
       "justify_items": null,
       "left": null,
       "margin": null,
       "max_height": null,
       "max_width": null,
       "min_height": null,
       "min_width": null,
       "object_fit": null,
       "object_position": null,
       "order": null,
       "overflow": null,
       "padding": null,
       "right": null,
       "top": null,
       "visibility": null,
       "width": null
      }
     },
     "a1efe3da14bf4e9781791b1a605d79b9": {
      "model_module": "@jupyter-widgets/base",
      "model_module_version": "2.0.0",
      "model_name": "LayoutModel",
      "state": {
       "_model_module": "@jupyter-widgets/base",
       "_model_module_version": "2.0.0",
       "_model_name": "LayoutModel",
       "_view_count": null,
       "_view_module": "@jupyter-widgets/base",
       "_view_module_version": "2.0.0",
       "_view_name": "LayoutView",
       "align_content": null,
       "align_items": null,
       "align_self": null,
       "border_bottom": null,
       "border_left": null,
       "border_right": null,
       "border_top": null,
       "bottom": null,
       "display": null,
       "flex": null,
       "flex_flow": null,
       "grid_area": null,
       "grid_auto_columns": null,
       "grid_auto_flow": null,
       "grid_auto_rows": null,
       "grid_column": null,
       "grid_gap": null,
       "grid_row": null,
       "grid_template_areas": null,
       "grid_template_columns": null,
       "grid_template_rows": null,
       "height": null,
       "justify_content": null,
       "justify_items": null,
       "left": null,
       "margin": null,
       "max_height": null,
       "max_width": null,
       "min_height": null,
       "min_width": null,
       "object_fit": null,
       "object_position": null,
       "order": null,
       "overflow": null,
       "padding": null,
       "right": null,
       "top": null,
       "visibility": null,
       "width": null
      }
     },
     "a2a4744e7e4e4c509045db698efc568c": {
      "model_module": "@jupyter-widgets/base",
      "model_module_version": "2.0.0",
      "model_name": "LayoutModel",
      "state": {
       "_model_module": "@jupyter-widgets/base",
       "_model_module_version": "2.0.0",
       "_model_name": "LayoutModel",
       "_view_count": null,
       "_view_module": "@jupyter-widgets/base",
       "_view_module_version": "2.0.0",
       "_view_name": "LayoutView",
       "align_content": null,
       "align_items": null,
       "align_self": null,
       "border_bottom": null,
       "border_left": null,
       "border_right": null,
       "border_top": null,
       "bottom": null,
       "display": null,
       "flex": null,
       "flex_flow": null,
       "grid_area": null,
       "grid_auto_columns": null,
       "grid_auto_flow": null,
       "grid_auto_rows": null,
       "grid_column": null,
       "grid_gap": null,
       "grid_row": null,
       "grid_template_areas": null,
       "grid_template_columns": null,
       "grid_template_rows": null,
       "height": null,
       "justify_content": null,
       "justify_items": null,
       "left": null,
       "margin": null,
       "max_height": null,
       "max_width": null,
       "min_height": null,
       "min_width": null,
       "object_fit": null,
       "object_position": null,
       "order": null,
       "overflow": null,
       "padding": null,
       "right": null,
       "top": null,
       "visibility": null,
       "width": null
      }
     },
     "a5a775ae0d5a4fdf9b11f086350637ee": {
      "model_module": "@jupyter-widgets/controls",
      "model_module_version": "2.0.0",
      "model_name": "ButtonModel",
      "state": {
       "_dom_classes": [],
       "_model_module": "@jupyter-widgets/controls",
       "_model_module_version": "2.0.0",
       "_model_name": "ButtonModel",
       "_view_count": null,
       "_view_module": "@jupyter-widgets/controls",
       "_view_module_version": "2.0.0",
       "_view_name": "ButtonView",
       "button_style": "",
       "description": "",
       "disabled": false,
       "icon": "compress",
       "layout": "IPY_MODEL_88cccba6149a450d899108be18210796",
       "style": "IPY_MODEL_68402c7bcd514949a5b45c1d6ff674cb",
       "tabbable": null,
       "tooltip": null
      }
     },
     "aa11569497a7407ea0615e9bb3f6ad51": {
      "model_module": "@jupyter-widgets/controls",
      "model_module_version": "2.0.0",
      "model_name": "HBoxModel",
      "state": {
       "_dom_classes": [],
       "_model_module": "@jupyter-widgets/controls",
       "_model_module_version": "2.0.0",
       "_model_name": "HBoxModel",
       "_view_count": null,
       "_view_module": "@jupyter-widgets/controls",
       "_view_module_version": "2.0.0",
       "_view_name": "HBoxView",
       "box_style": "",
       "children": [
        "IPY_MODEL_f911285d4867487ca8ccb033309ae3ac",
        "IPY_MODEL_bba57a31c57c4f8d9f4f708cdb46168a"
       ],
       "layout": "IPY_MODEL_201c7a3fe0aa4bb6a95ee41532911705",
       "tabbable": null,
       "tooltip": null
      }
     },
     "abb3828053dd4d24bcf12132ac15719d": {
      "model_module": "@jupyter-widgets/base",
      "model_module_version": "2.0.0",
      "model_name": "LayoutModel",
      "state": {
       "_model_module": "@jupyter-widgets/base",
       "_model_module_version": "2.0.0",
       "_model_name": "LayoutModel",
       "_view_count": null,
       "_view_module": "@jupyter-widgets/base",
       "_view_module_version": "2.0.0",
       "_view_name": "LayoutView",
       "align_content": null,
       "align_items": null,
       "align_self": null,
       "border_bottom": null,
       "border_left": null,
       "border_right": null,
       "border_top": null,
       "bottom": null,
       "display": null,
       "flex": null,
       "flex_flow": null,
       "grid_area": null,
       "grid_auto_columns": null,
       "grid_auto_flow": null,
       "grid_auto_rows": null,
       "grid_column": null,
       "grid_gap": null,
       "grid_row": null,
       "grid_template_areas": null,
       "grid_template_columns": null,
       "grid_template_rows": null,
       "height": null,
       "justify_content": null,
       "justify_items": null,
       "left": null,
       "margin": null,
       "max_height": null,
       "max_width": null,
       "min_height": null,
       "min_width": null,
       "object_fit": null,
       "object_position": null,
       "order": null,
       "overflow": null,
       "padding": null,
       "right": null,
       "top": null,
       "visibility": null,
       "width": null
      }
     },
     "ad73ddf3ffb542dcb260e6b94fc9a780": {
      "model_module": "@jupyter-widgets/controls",
      "model_module_version": "2.0.0",
      "model_name": "HBoxModel",
      "state": {
       "_dom_classes": [],
       "_model_module": "@jupyter-widgets/controls",
       "_model_module_version": "2.0.0",
       "_model_name": "HBoxModel",
       "_view_count": null,
       "_view_module": "@jupyter-widgets/controls",
       "_view_module_version": "2.0.0",
       "_view_name": "HBoxView",
       "box_style": "",
       "children": [
        "IPY_MODEL_317f91a31b7d49589ab0f33a7f7ccfb5",
        "IPY_MODEL_261f3df80a1a4826b3aad46b43a120a0"
       ],
       "layout": "IPY_MODEL_0d95fa09d1574e8b989601e243b05a1e",
       "tabbable": null,
       "tooltip": null
      }
     },
     "af080864d52c44789da213ce5abe387d": {
      "model_module": "@jupyter-widgets/controls",
      "model_module_version": "2.0.0",
      "model_name": "ButtonStyleModel",
      "state": {
       "_model_module": "@jupyter-widgets/controls",
       "_model_module_version": "2.0.0",
       "_model_name": "ButtonStyleModel",
       "_view_count": null,
       "_view_module": "@jupyter-widgets/base",
       "_view_module_version": "2.0.0",
       "_view_name": "StyleView",
       "button_color": null,
       "font_family": null,
       "font_size": null,
       "font_style": null,
       "font_variant": null,
       "font_weight": null,
       "text_color": null,
       "text_decoration": null
      }
     },
     "b11ee7565088425aa34144caba03a4c5": {
      "model_module": "@jupyter-widgets/controls",
      "model_module_version": "2.0.0",
      "model_name": "SliderStyleModel",
      "state": {
       "_model_module": "@jupyter-widgets/controls",
       "_model_module_version": "2.0.0",
       "_model_name": "SliderStyleModel",
       "_view_count": null,
       "_view_module": "@jupyter-widgets/base",
       "_view_module_version": "2.0.0",
       "_view_name": "StyleView",
       "description_width": "",
       "handle_color": null
      }
     },
     "b537c53e862d4eff874005cc0eff61a5": {
      "model_module": "@jupyter-widgets/base",
      "model_module_version": "2.0.0",
      "model_name": "LayoutModel",
      "state": {
       "_model_module": "@jupyter-widgets/base",
       "_model_module_version": "2.0.0",
       "_model_name": "LayoutModel",
       "_view_count": null,
       "_view_module": "@jupyter-widgets/base",
       "_view_module_version": "2.0.0",
       "_view_name": "LayoutView",
       "align_content": null,
       "align_items": null,
       "align_self": null,
       "border_bottom": null,
       "border_left": null,
       "border_right": null,
       "border_top": null,
       "bottom": null,
       "display": null,
       "flex": null,
       "flex_flow": null,
       "grid_area": null,
       "grid_auto_columns": null,
       "grid_auto_flow": null,
       "grid_auto_rows": null,
       "grid_column": null,
       "grid_gap": null,
       "grid_row": null,
       "grid_template_areas": null,
       "grid_template_columns": null,
       "grid_template_rows": null,
       "height": null,
       "justify_content": null,
       "justify_items": null,
       "left": null,
       "margin": null,
       "max_height": null,
       "max_width": null,
       "min_height": null,
       "min_width": null,
       "object_fit": null,
       "object_position": null,
       "order": null,
       "overflow": null,
       "padding": null,
       "right": null,
       "top": null,
       "visibility": null,
       "width": null
      }
     },
     "b635b17ea1c8446ab2beb3a7507b8a6d": {
      "model_module": "@jupyter-widgets/controls",
      "model_module_version": "2.0.0",
      "model_name": "PlayModel",
      "state": {
       "_dom_classes": [],
       "_model_module": "@jupyter-widgets/controls",
       "_model_module_version": "2.0.0",
       "_model_name": "PlayModel",
       "_view_count": null,
       "_view_module": "@jupyter-widgets/controls",
       "_view_module_version": "2.0.0",
       "_view_name": "PlayView",
       "description": "",
       "description_allow_html": false,
       "disabled": false,
       "interval": 100,
       "layout": "IPY_MODEL_144955e7e2a24430ba24063c8dd034db",
       "max": 0,
       "min": 0,
       "playing": false,
       "repeat": false,
       "show_repeat": true,
       "step": 1,
       "style": "IPY_MODEL_ff40c6c115804b2d9be2abdc410e8710",
       "tabbable": null,
       "tooltip": null,
       "value": 0
      }
     },
     "b9452ea8025e44a992f2872850a18336": {
      "model_module": "@jupyter-widgets/base",
      "model_module_version": "2.0.0",
      "model_name": "LayoutModel",
      "state": {
       "_model_module": "@jupyter-widgets/base",
       "_model_module_version": "2.0.0",
       "_model_name": "LayoutModel",
       "_view_count": null,
       "_view_module": "@jupyter-widgets/base",
       "_view_module_version": "2.0.0",
       "_view_name": "LayoutView",
       "align_content": null,
       "align_items": null,
       "align_self": null,
       "border_bottom": null,
       "border_left": null,
       "border_right": null,
       "border_top": null,
       "bottom": null,
       "display": null,
       "flex": null,
       "flex_flow": null,
       "grid_area": null,
       "grid_auto_columns": null,
       "grid_auto_flow": null,
       "grid_auto_rows": null,
       "grid_column": null,
       "grid_gap": null,
       "grid_row": null,
       "grid_template_areas": null,
       "grid_template_columns": null,
       "grid_template_rows": null,
       "height": null,
       "justify_content": null,
       "justify_items": null,
       "left": null,
       "margin": null,
       "max_height": null,
       "max_width": null,
       "min_height": null,
       "min_width": null,
       "object_fit": null,
       "object_position": null,
       "order": null,
       "overflow": null,
       "padding": null,
       "right": null,
       "top": null,
       "visibility": null,
       "width": null
      }
     },
     "bace1fd666564beab89e9cf324459a4b": {
      "model_module": "@jupyter-widgets/controls",
      "model_module_version": "2.0.0",
      "model_name": "DescriptionStyleModel",
      "state": {
       "_model_module": "@jupyter-widgets/controls",
       "_model_module_version": "2.0.0",
       "_model_name": "DescriptionStyleModel",
       "_view_count": null,
       "_view_module": "@jupyter-widgets/base",
       "_view_module_version": "2.0.0",
       "_view_name": "StyleView",
       "description_width": ""
      }
     },
     "bba57a31c57c4f8d9f4f708cdb46168a": {
      "model_module": "@jupyter-widgets/controls",
      "model_module_version": "2.0.0",
      "model_name": "IntSliderModel",
      "state": {
       "_dom_classes": [],
       "_model_module": "@jupyter-widgets/controls",
       "_model_module_version": "2.0.0",
       "_model_name": "IntSliderModel",
       "_view_count": null,
       "_view_module": "@jupyter-widgets/controls",
       "_view_module_version": "2.0.0",
       "_view_name": "IntSliderView",
       "behavior": "drag-tap",
       "continuous_update": true,
       "description": "",
       "description_allow_html": false,
       "disabled": false,
       "layout": "IPY_MODEL_8be67a5625f34aaaa48e781a516ea0ca",
       "max": 0,
       "min": 0,
       "orientation": "horizontal",
       "readout": true,
       "readout_format": "d",
       "step": 1,
       "style": "IPY_MODEL_69cc5e151d944509a1a827a783d1a6ff",
       "tabbable": null,
       "tooltip": null,
       "value": 0
      }
     },
     "bfd2a61e295f4576bf7b4f9f42b5a713": {
      "model_module": "@jupyter-widgets/controls",
      "model_module_version": "2.0.0",
      "model_name": "ButtonModel",
      "state": {
       "_dom_classes": [],
       "_model_module": "@jupyter-widgets/controls",
       "_model_module_version": "2.0.0",
       "_model_name": "ButtonModel",
       "_view_count": null,
       "_view_module": "@jupyter-widgets/controls",
       "_view_module_version": "2.0.0",
       "_view_name": "ButtonView",
       "button_style": "",
       "description": "",
       "disabled": false,
       "icon": "compress",
       "layout": "IPY_MODEL_f675d7f06cd942959f8f8aa38402ee80",
       "style": "IPY_MODEL_08b4be31bba54b4e8193a3ae6256628d",
       "tabbable": null,
       "tooltip": null
      }
     },
     "c498d61ecea7415db2d1fea1bb3d1318": {
      "model_module": "@jupyter-widgets/base",
      "model_module_version": "2.0.0",
      "model_name": "LayoutModel",
      "state": {
       "_model_module": "@jupyter-widgets/base",
       "_model_module_version": "2.0.0",
       "_model_name": "LayoutModel",
       "_view_count": null,
       "_view_module": "@jupyter-widgets/base",
       "_view_module_version": "2.0.0",
       "_view_name": "LayoutView",
       "align_content": null,
       "align_items": null,
       "align_self": null,
       "border_bottom": null,
       "border_left": null,
       "border_right": null,
       "border_top": null,
       "bottom": null,
       "display": null,
       "flex": null,
       "flex_flow": null,
       "grid_area": null,
       "grid_auto_columns": null,
       "grid_auto_flow": null,
       "grid_auto_rows": null,
       "grid_column": null,
       "grid_gap": null,
       "grid_row": null,
       "grid_template_areas": null,
       "grid_template_columns": null,
       "grid_template_rows": null,
       "height": null,
       "justify_content": null,
       "justify_items": null,
       "left": null,
       "margin": null,
       "max_height": null,
       "max_width": null,
       "min_height": null,
       "min_width": null,
       "object_fit": null,
       "object_position": null,
       "order": null,
       "overflow": null,
       "padding": null,
       "right": null,
       "top": null,
       "visibility": null,
       "width": null
      }
     },
     "c6d7ac0fe2414fb090e6b3c325dd6f72": {
      "model_module": "@jupyter-widgets/controls",
      "model_module_version": "2.0.0",
      "model_name": "LinkModel",
      "state": {
       "_model_module": "@jupyter-widgets/controls",
       "_model_module_version": "2.0.0",
       "_model_name": "LinkModel",
       "_view_count": null,
       "_view_module": "@jupyter-widgets/controls",
       "_view_module_version": "2.0.0",
       "_view_name": null,
       "source": [
        "IPY_MODEL_bba57a31c57c4f8d9f4f708cdb46168a",
        "max"
       ],
       "target": [
        "IPY_MODEL_2e9dbdeb24134981b285771ec0a3b31e",
        "max_frame"
       ]
      }
     },
     "d15dccd56a654ed1a5f850b8ec54c64c": {
      "model_module": "@jupyter-widgets/controls",
      "model_module_version": "2.0.0",
      "model_name": "LinkModel",
      "state": {
       "_model_module": "@jupyter-widgets/controls",
       "_model_module_version": "2.0.0",
       "_model_name": "LinkModel",
       "_view_count": null,
       "_view_module": "@jupyter-widgets/controls",
       "_view_module_version": "2.0.0",
       "_view_name": null,
       "source": [
        "IPY_MODEL_f911285d4867487ca8ccb033309ae3ac",
        "max"
       ],
       "target": [
        "IPY_MODEL_2e9dbdeb24134981b285771ec0a3b31e",
        "max_frame"
       ]
      }
     },
     "d202fc0182d44e339cc051b9a7284932": {
      "model_module": "@jupyter-widgets/base",
      "model_module_version": "2.0.0",
      "model_name": "LayoutModel",
      "state": {
       "_model_module": "@jupyter-widgets/base",
       "_model_module_version": "2.0.0",
       "_model_name": "LayoutModel",
       "_view_count": null,
       "_view_module": "@jupyter-widgets/base",
       "_view_module_version": "2.0.0",
       "_view_name": "LayoutView",
       "align_content": null,
       "align_items": null,
       "align_self": null,
       "border_bottom": null,
       "border_left": null,
       "border_right": null,
       "border_top": null,
       "bottom": null,
       "display": null,
       "flex": null,
       "flex_flow": null,
       "grid_area": null,
       "grid_auto_columns": null,
       "grid_auto_flow": null,
       "grid_auto_rows": null,
       "grid_column": null,
       "grid_gap": null,
       "grid_row": null,
       "grid_template_areas": null,
       "grid_template_columns": null,
       "grid_template_rows": null,
       "height": null,
       "justify_content": null,
       "justify_items": null,
       "left": null,
       "margin": null,
       "max_height": null,
       "max_width": null,
       "min_height": null,
       "min_width": null,
       "object_fit": null,
       "object_position": null,
       "order": null,
       "overflow": null,
       "padding": null,
       "right": null,
       "top": null,
       "visibility": null,
       "width": null
      }
     },
     "d87696407ab14d4b95ca8219a6ec4f93": {
      "buffers": [
       {
        "data": "",
        "encoding": "base64",
        "path": [
         "value"
        ]
       }
      ],
      "model_module": "@jupyter-widgets/controls",
      "model_module_version": "2.0.0",
      "model_name": "ImageModel",
      "state": {
       "_dom_classes": [],
       "_model_module": "@jupyter-widgets/controls",
       "_model_module_version": "2.0.0",
       "_model_name": "ImageModel",
       "_view_count": null,
       "_view_module": "@jupyter-widgets/controls",
       "_view_module_version": "2.0.0",
       "_view_name": "ImageView",
       "format": "png",
       "height": "",
       "layout": "IPY_MODEL_b9452ea8025e44a992f2872850a18336",
       "tabbable": null,
       "tooltip": null,
       "width": "900.0"
      }
     },
     "f3ffa0fabf8c4994a8f3f404c20baa64": {
      "model_module": "@jupyter-widgets/controls",
      "model_module_version": "2.0.0",
      "model_name": "LinkModel",
      "state": {
       "_model_module": "@jupyter-widgets/controls",
       "_model_module_version": "2.0.0",
       "_model_name": "LinkModel",
       "_view_count": null,
       "_view_module": "@jupyter-widgets/controls",
       "_view_module_version": "2.0.0",
       "_view_name": null,
       "source": [
        "IPY_MODEL_317f91a31b7d49589ab0f33a7f7ccfb5",
        "value"
       ],
       "target": [
        "IPY_MODEL_261f3df80a1a4826b3aad46b43a120a0",
        "value"
       ]
      }
     },
     "f675d7f06cd942959f8f8aa38402ee80": {
      "model_module": "@jupyter-widgets/base",
      "model_module_version": "2.0.0",
      "model_name": "LayoutModel",
      "state": {
       "_model_module": "@jupyter-widgets/base",
       "_model_module_version": "2.0.0",
       "_model_name": "LayoutModel",
       "_view_count": null,
       "_view_module": "@jupyter-widgets/base",
       "_view_module_version": "2.0.0",
       "_view_name": "LayoutView",
       "align_content": null,
       "align_items": null,
       "align_self": null,
       "border_bottom": null,
       "border_left": null,
       "border_right": null,
       "border_top": null,
       "bottom": null,
       "display": null,
       "flex": null,
       "flex_flow": null,
       "grid_area": null,
       "grid_auto_columns": null,
       "grid_auto_flow": null,
       "grid_auto_rows": null,
       "grid_column": null,
       "grid_gap": null,
       "grid_row": null,
       "grid_template_areas": null,
       "grid_template_columns": null,
       "grid_template_rows": null,
       "height": null,
       "justify_content": null,
       "justify_items": null,
       "left": null,
       "margin": null,
       "max_height": null,
       "max_width": null,
       "min_height": null,
       "min_width": null,
       "object_fit": null,
       "object_position": null,
       "order": null,
       "overflow": null,
       "padding": null,
       "right": null,
       "top": null,
       "visibility": null,
       "width": "34px"
      }
     },
     "f7e67d3e450644c3adfa39b5875c4a26": {
      "model_module": "@jupyter-widgets/base",
      "model_module_version": "2.0.0",
      "model_name": "LayoutModel",
      "state": {
       "_model_module": "@jupyter-widgets/base",
       "_model_module_version": "2.0.0",
       "_model_name": "LayoutModel",
       "_view_count": null,
       "_view_module": "@jupyter-widgets/base",
       "_view_module_version": "2.0.0",
       "_view_name": "LayoutView",
       "align_content": null,
       "align_items": null,
       "align_self": null,
       "border_bottom": null,
       "border_left": null,
       "border_right": null,
       "border_top": null,
       "bottom": null,
       "display": null,
       "flex": null,
       "flex_flow": null,
       "grid_area": null,
       "grid_auto_columns": null,
       "grid_auto_flow": null,
       "grid_auto_rows": null,
       "grid_column": null,
       "grid_gap": null,
       "grid_row": null,
       "grid_template_areas": null,
       "grid_template_columns": null,
       "grid_template_rows": null,
       "height": null,
       "justify_content": null,
       "justify_items": null,
       "left": null,
       "margin": null,
       "max_height": null,
       "max_width": null,
       "min_height": null,
       "min_width": null,
       "object_fit": null,
       "object_position": null,
       "order": null,
       "overflow": null,
       "padding": null,
       "right": null,
       "top": null,
       "visibility": null,
       "width": null
      }
     },
     "f911285d4867487ca8ccb033309ae3ac": {
      "model_module": "@jupyter-widgets/controls",
      "model_module_version": "2.0.0",
      "model_name": "PlayModel",
      "state": {
       "_dom_classes": [],
       "_model_module": "@jupyter-widgets/controls",
       "_model_module_version": "2.0.0",
       "_model_name": "PlayModel",
       "_view_count": null,
       "_view_module": "@jupyter-widgets/controls",
       "_view_module_version": "2.0.0",
       "_view_name": "PlayView",
       "description": "",
       "description_allow_html": false,
       "disabled": false,
       "interval": 100,
       "layout": "IPY_MODEL_b537c53e862d4eff874005cc0eff61a5",
       "max": 0,
       "min": 0,
       "playing": false,
       "repeat": false,
       "show_repeat": true,
       "step": 1,
       "style": "IPY_MODEL_bace1fd666564beab89e9cf324459a4b",
       "tabbable": null,
       "tooltip": null,
       "value": 0
      }
     },
     "fc090989d808464abd68a7d0f053abf0": {
      "model_module": "@jupyter-widgets/controls",
      "model_module_version": "2.0.0",
      "model_name": "ButtonModel",
      "state": {
       "_dom_classes": [],
       "_model_module": "@jupyter-widgets/controls",
       "_model_module_version": "2.0.0",
       "_model_name": "ButtonModel",
       "_view_count": null,
       "_view_module": "@jupyter-widgets/controls",
       "_view_module_version": "2.0.0",
       "_view_name": "ButtonView",
       "button_style": "",
       "description": "",
       "disabled": false,
       "icon": "compress",
       "layout": "IPY_MODEL_22edaa02b15346018721a3f80e28ec68",
       "style": "IPY_MODEL_af080864d52c44789da213ce5abe387d",
       "tabbable": null,
       "tooltip": null
      }
     },
     "ff40c6c115804b2d9be2abdc410e8710": {
      "model_module": "@jupyter-widgets/controls",
      "model_module_version": "2.0.0",
      "model_name": "DescriptionStyleModel",
      "state": {
       "_model_module": "@jupyter-widgets/controls",
       "_model_module_version": "2.0.0",
       "_model_name": "DescriptionStyleModel",
       "_view_count": null,
       "_view_module": "@jupyter-widgets/base",
       "_view_module_version": "2.0.0",
       "_view_name": "StyleView",
       "description_width": ""
      }
     }
    },
    "version_major": 2,
    "version_minor": 0
   }
  }
 },
 "nbformat": 4,
 "nbformat_minor": 5
}
