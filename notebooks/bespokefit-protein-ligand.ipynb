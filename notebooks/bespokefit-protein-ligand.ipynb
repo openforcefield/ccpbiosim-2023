{
 "cells": [
  {
   "cell_type": "markdown",
   "id": "697228bb-f45e-49d5-91b3-6854f6c33bf7",
   "metadata": {},
   "source": [
    "# Using a BespokeFit-optimized force field"
   ]
  },
  {
   "cell_type": "markdown",
   "id": "ced30c3b-d4d9-4c4c-89ea-9ece818682e6",
   "metadata": {},
   "source": [
    "This is the second notebook in this workshop; start with `bespokefit.ipynb`. Make sure you run this notebook with the `openff-env` environment!"
   ]
  },
  {
   "cell_type": "markdown",
   "id": "9a5a85f5-a45a-4907-a33d-29b3b02e9b86",
   "metadata": {},
   "source": [
    "## Load the protein and ligand"
   ]
  },
  {
   "cell_type": "code",
   "execution_count": null,
   "id": "983ce192-637e-4782-8998-a131299ab3d5",
   "metadata": {},
   "outputs": [],
   "source": [
    "from openff.toolkit import Molecule, Topology\n",
    "\n",
    "protein = Molecule.from_polymer_pdb(\"../pdb/protein.pdb\")\n",
    "ligand = Molecule.from_file(\"../sdf/lig_CAT-13a.sdf\")\n",
    "top = Topology.from_molecules([protein, ligand])\n",
    "\n",
    "top.to_file(\"complex-bespoke.pdb\")"
   ]
  },
  {
   "cell_type": "markdown",
   "id": "28abcc1f-5ef6-4b63-81bd-1176e771f5b2",
   "metadata": {},
   "source": [
    "## Prepare the force field\n",
    "\n",
    "<div class=\"alert alert-block alert-warning\">\n",
    "<b>🚧 This code is not production-ready</b><br />\n",
    "In this notebook, we use the SMIRNOFF port of the Amber ff14SB force field. This is currently the only mainstream protein force field that works with the OpenFF Toolkit, but it's slow and hasn't been rigorously checked against the original force field. The Open Force Field Initiative recommends waiting for OpenFF 3.0.0 \"Rosemary\", which will include protein parameters, before using this in production work.\n",
    "</div>"
   ]
  },
  {
   "cell_type": "code",
   "execution_count": null,
   "id": "443ea5a1-9098-40b2-9b78-8b945b007642",
   "metadata": {},
   "outputs": [],
   "source": [
    "from openff.toolkit import ForceField\n",
    "\n",
    "force_field = ForceField(\n",
    "    \"../offxml/openff-2.0.0_bespoke_cat13a.offxml\",\n",
    "    \"ff14sb_off_impropers_0.0.3.offxml\",\n",
    ")"
   ]
  },
  {
   "cell_type": "markdown",
   "id": "194fdc7a-cb52-400d-afc1-c95282b854d2",
   "metadata": {},
   "source": [
    "## Investigate parameters assigned to the ligand"
   ]
  },
  {
   "cell_type": "code",
   "execution_count": null,
   "id": "b3f162ef-8de5-44db-958e-0cf2b3e34a7e",
   "metadata": {
    "tags": []
   },
   "outputs": [],
   "source": [
    "from pprint import pprint\n",
    "\n",
    "labels = force_field.label_molecules(ligand.to_topology())\n",
    "\n",
    "sage = ForceField(\"openff-2.0.0.offxml\")\n",
    "amber = ForceField(\"ff14sb_off_impropers_0.0.3.offxml\")\n",
    "\n",
    "params = []\n",
    "for indices, parameter in labels[0][\"ProperTorsions\"].items():\n",
    "    if sage[\"ProperTorsions\"].get_parameter({\"smirks\": parameter.smirks}):\n",
    "        source = \"SAGE\"\n",
    "    elif amber[\"ProperTorsions\"].get_parameter({\"smirks\": parameter.smirks}):\n",
    "        source = \"Amber\"\n",
    "    else:\n",
    "        source = \"BespokeFit\"\n",
    "    params.append((source, indices, {**parameter.to_dict()}))\n",
    "pprint(params[:6], indent=2, width=-1)"
   ]
  },
  {
   "cell_type": "markdown",
   "id": "e3ebfbfd-574e-4614-8e6c-80624be4c457",
   "metadata": {},
   "source": [
    "## Box and solvate"
   ]
  },
  {
   "cell_type": "code",
   "execution_count": null,
   "id": "46aa3e58",
   "metadata": {},
   "outputs": [],
   "source": [
    "import openmm\n",
    "import openmm.unit as openmm_unit\n",
    "from pdbfixer import PDBFixer\n",
    "\n",
    "fixer = PDBFixer(\"complex-bespoke.pdb\")\n",
    "fixer.addSolvent(\n",
    "    padding=0.5 * openmm_unit.nanometer, ionicStrength=0.5 * openmm_unit.molar\n",
    ")\n",
    "\n",
    "with open(\"complex-bespoke_solvated.pdb\", \"w\") as f:\n",
    "    openmm.app.PDBFile.writeFile(fixer.topology, fixer.positions, f)\n",
    "\n",
    "# Topology.from_openmm would also work here\n",
    "top = Topology.from_pdb(\"complex-bespoke_solvated.pdb\", unique_molecules=[ligand])"
   ]
  },
  {
   "cell_type": "markdown",
   "id": "ddb95ad1-4d6c-4d79-8fb0-e0bfed656be5",
   "metadata": {},
   "source": [
    "## Prepare OpenMM inputs"
   ]
  },
  {
   "cell_type": "code",
   "execution_count": null,
   "id": "e45cf2c1-9c42-4e31-952b-9f40afda426e",
   "metadata": {},
   "outputs": [],
   "source": [
    "omm_topology = top.to_openmm()\n",
    "omm_system = force_field.create_openmm_system(top)"
   ]
  },
  {
   "cell_type": "markdown",
   "id": "30d738db-d230-4c44-adf1-bc2f59af1df9",
   "metadata": {},
   "source": [
    "## Set up the OpenMM `Simulation`"
   ]
  },
  {
   "cell_type": "code",
   "execution_count": null,
   "id": "ac4856d5-c3e2-4929-b251-ba05e8fba00d",
   "metadata": {},
   "outputs": [],
   "source": [
    "import openmm\n",
    "import openmm.unit as omm_unit\n",
    "\n",
    "# Construct and configure a Langevin integrator at 300 K with an appropriate friction constant and time-step\n",
    "integrator = openmm.LangevinIntegrator(\n",
    "    300 * omm_unit.kelvin,\n",
    "    1 / omm_unit.picosecond,\n",
    "    0.002 * omm_unit.picoseconds,\n",
    ")\n",
    "\n",
    "# Combine the topology, system, integrator and initial positions into a simulation\n",
    "simulation = openmm.app.Simulation(\n",
    "    omm_topology,\n",
    "    omm_system,\n",
    "    integrator,\n",
    ")\n",
    "simulation.context.setPositions(top.get_positions().to_openmm())\n",
    "\n",
    "# Add a reporter to record the structure every 100 steps (0.2 ps)\n",
    "pdb_reporter = openmm.app.PDBReporter(\"trajectory-bespoke.pdb\", 100)\n",
    "simulation.reporters.append(pdb_reporter)"
   ]
  },
  {
   "cell_type": "markdown",
   "id": "79868893-ddd6-4a8d-b252-2e1d1882ac3c",
   "metadata": {},
   "source": [
    "## Energy minimize"
   ]
  },
  {
   "cell_type": "code",
   "execution_count": null,
   "id": "f0efa104-9005-49c2-b4d4-9901bf3897b6",
   "metadata": {},
   "outputs": [],
   "source": [
    "import numpy as np\n",
    "\n",
    "simulation.minimizeEnergy(\n",
    "    tolerance=omm_unit.Quantity(value=50.0, unit=omm_unit.kilojoule_per_mole)\n",
    ")\n",
    "minimized_state = simulation.context.getState(\n",
    "    getPositions=True, getEnergy=True, getForces=True\n",
    ")\n",
    "\n",
    "print(\n",
    "    \"Minimised to\",\n",
    "    minimized_state.getPotentialEnergy(),\n",
    "    \"with maximum force\",\n",
    "    max(\n",
    "        np.sqrt(v.x * v.x + v.y * v.y + v.z * v.z) for v in minimized_state.getForces()\n",
    "    ),\n",
    "    minimized_state.getForces().unit.get_symbol(),\n",
    ")\n",
    "\n",
    "minimized_coords = minimized_state.getPositions()"
   ]
  },
  {
   "cell_type": "markdown",
   "id": "e4bfbd41-61ae-4172-a790-8411b5b7c355",
   "metadata": {},
   "source": [
    "## Simulate"
   ]
  },
  {
   "cell_type": "code",
   "execution_count": null,
   "id": "19b1f64e-3282-41c0-8967-3748598faf53",
   "metadata": {},
   "outputs": [],
   "source": [
    "simulation.context.setVelocitiesToTemperature(simulation.integrator.getTemperature())\n",
    "simulation.runForClockTime(1.0 * omm_unit.minute)\n",
    "print(\n",
    "    f\"Completed simulation time: {simulation.integrator.getStepSize() * simulation.currentStep}\"\n",
    ")"
   ]
  },
  {
   "cell_type": "markdown",
   "id": "8be504b3-5986-4eeb-8666-caee68faf299",
   "metadata": {},
   "source": [
    "## Visualize"
   ]
  },
  {
   "cell_type": "code",
   "execution_count": null,
   "id": "d83e25fd-83f8-4ffd-a971-28660838c2d0",
   "metadata": {},
   "outputs": [],
   "source": [
    "from viz import visualize_protein_ligand"
   ]
  },
  {
   "cell_type": "code",
   "execution_count": null,
   "id": "aded1011-580b-48a2-8f10-11fe0e84e2b7",
   "metadata": {},
   "outputs": [],
   "source": [
    "visualize_protein_ligand(\"trajectory-bespoke.pdb\", top)"
   ]
  }
 ],
 "metadata": {
  "kernelspec": {
   "display_name": "Python 3 (ipykernel)",
   "language": "python",
   "name": "python3"
  },
  "language_info": {
   "codemirror_mode": {
    "name": "ipython",
    "version": 3
   },
   "file_extension": ".py",
   "mimetype": "text/x-python",
   "name": "python",
   "nbconvert_exporter": "python",
   "pygments_lexer": "ipython3",
   "version": "3.11.5"
  }
 },
 "nbformat": 4,
 "nbformat_minor": 5
}
